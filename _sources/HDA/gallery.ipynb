{
 "cells": [
  {
   "cell_type": "markdown",
   "metadata": {
    "nbsphinx": "hidden"
   },
   "source": [
    "This notebook is part of the `nbsphinx` documentation: https://nbsphinx.readthedocs.io/."
   ]
  },
  {
   "cell_type": "markdown",
   "metadata": {},
   "source": [
    "# Gallery With Links (HTML only)\n",
    "\n",
    "Contrary to\n",
    "[nbsphinx-gallery](gallery-with-nested-documents.ipynb),\n",
    "the cell tag/metadata `nbsphinx-link-gallery`\n",
    "creates a gallery from notebooks (and other source) files\n",
    "without including them as sub-sections.\n",
    "Other than that, it works in a similar way,\n",
    "but only the options\n",
    "`\"name\"`,\n",
    "`\"caption\"` and\n",
    "`\"reversed\"` are supported.\n",
    "In LaTeX output, this has no effect.\n",
    "The cell is ignored and nothing is added to the LaTeX document.\n",
    "\n",
    "In reST files\n",
    "(and [raw reST cells](../raw-cells.ipynb#reST)),\n",
    "the\n",
    "[nblinkgallery](../a-normal-rst-file.rst#thumbnail-link-galleries-html-only)\n",
    "directive can be used.\n",
    "\n",
    "The following Markdown cell\n",
    "has the `nbsphinx-link-gallery` tag,\n",
    "which turns the contained links into a gallery\n",
    "and uses the first section title as `caption`:"
   ]
  },
  {
   "cell_type": "markdown",
   "metadata": {
    "tags": [
     "nbsphinx-link-gallery"
    ]
   },
   "source": [
    "## This is a thumbnail gallery with links to existing documents:\n",
    "\n",
    "This paragraph will be ignored.\n",
    "Only links are taken into account.\n",
    "\n",
    "## This section title will be ignored\n",
    "\n",
    "... because only the first title in this cell is used.\n",
    "\n",
    "* [CDS notebook](DEDL-HDA-EO.ECMWF.DAT.REANALYSIS_ERA5_SINGLE_LEVELS.ipynb)"
   ]
  }
 ],
 "metadata": {
  "kernelspec": {
   "display_name": "Python 3 (ipykernel)",
   "language": "python",
   "name": "python3"
  },
  "language_info": {
   "codemirror_mode": {
    "name": "ipython",
    "version": 3
   },
   "file_extension": ".py",
   "mimetype": "text/x-python",
   "name": "python",
   "nbconvert_exporter": "python",
   "pygments_lexer": "ipython3",
   "version": "3.11.1"
  }
 },
 "nbformat": 4,
 "nbformat_minor": 4
}
