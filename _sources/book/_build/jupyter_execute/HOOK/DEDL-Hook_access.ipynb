{
 "cells": [
  {
   "cell_type": "markdown",
   "id": "ba33bad7",
   "metadata": {},
   "source": [
    "# Access to Hook services \n",
    "\n",
    "**Licence**: MIT <br>\n",
    "\n",
    "This Notebook demonstrates:  \n",
    "* Retrieval of a token appropriate for interaction with the OnDemand Processing API (Hook API)\n",
    "* Listing of available Hooks (Processors) using the retrieved token"
   ]
  },
  {
   "cell_type": "code",
   "execution_count": null,
   "id": "2d2a9a05-cc6f-40d6-9fbb-f40cea440d8c",
   "metadata": {
    "collapsed": true,
    "jupyter": {
     "outputs_hidden": true
    },
    "tags": []
   },
   "outputs": [],
   "source": [
    "%pip install pycurl\n",
    "\n",
    "import json\n",
    "from io import BytesIO\n",
    "from urllib.parse import urlencode\n",
    "import getpass\n",
    "import pycurl\n",
    "import requests\n",
    "from getpass import getpass\n",
    "from IPython.display import JSON"
   ]
  },
  {
   "cell_type": "markdown",
   "id": "8859204c",
   "metadata": {},
   "source": [
    "## Autehentication - function"
   ]
  },
  {
   "cell_type": "code",
   "execution_count": 2,
   "id": "af3874f5-af09-4232-920a-cb8c3598a52b",
   "metadata": {
    "collapsed": true,
    "jupyter": {
     "outputs_hidden": true
    },
    "tags": []
   },
   "outputs": [],
   "source": [
    "import requests\n",
    "from lxml import html\n",
    "from urllib.parse import parse_qs, urlparse\n",
    "\n",
    "IAM_URL = \"https://auth.destine.eu/\"\n",
    "CLIENT_ID = \"dedl-hook\"\n",
    "REALM = \"desp\"\n",
    "SERVICE_URL = \"https://odp.data.destination-earth.eu/odata/v1/\"\n",
    "\n",
    "\n",
    "class DESPAuth:\n",
    "    def __init__(self, username, password):\n",
    "        self.username = username\n",
    "        self.password = password\n",
    "\n",
    "    def get_token(self):\n",
    "        with requests.Session() as s:\n",
    "\n",
    "            # Get the auth url\n",
    "            auth_url = (\n",
    "                html.fromstring(\n",
    "                    s.get(\n",
    "                        url=IAM_URL\n",
    "                        + \"/realms/\"\n",
    "                        + REALM\n",
    "                        + \"/protocol/openid-connect/auth\",\n",
    "                        params={\n",
    "                            \"client_id\": CLIENT_ID,\n",
    "                            \"redirect_uri\": SERVICE_URL,\n",
    "                            \"scope\": \"openid\",\n",
    "                            \"response_type\": \"code\",\n",
    "                        },\n",
    "                    ).content.decode()\n",
    "                )\n",
    "                .forms[0]\n",
    "                .action\n",
    "            )\n",
    "\n",
    "            # Login and get auth code\n",
    "            login = s.post(\n",
    "                auth_url,\n",
    "                data={\n",
    "                    \"username\": self.username,\n",
    "                    \"password\": self.password,\n",
    "                },\n",
    "                allow_redirects=False,\n",
    "            )\n",
    "\n",
    "            # We expect a 302, a 200 means we got sent back to the login page and there's probably an error message\n",
    "            if login.status_code == 200:\n",
    "                tree = html.fromstring(login.content)\n",
    "                error_message_element = tree.xpath('//span[@id=\"input-error\"]/text()')\n",
    "                error_message = (\n",
    "                    error_message_element[0].strip()\n",
    "                    if error_message_element\n",
    "                    else \"Error message not found\"\n",
    "                )\n",
    "                raise Exception(error_message)\n",
    "\n",
    "            if login.status_code != 302:\n",
    "                raise Exception(\"Login failed\")\n",
    "\n",
    "            auth_code = parse_qs(urlparse(login.headers[\"Location\"]).query)[\"code\"][0]\n",
    "\n",
    "            # Use the auth code to get the token\n",
    "            response = requests.post(\n",
    "                IAM_URL + \"/realms/\" + REALM + \"/protocol/openid-connect/token\",\n",
    "                data={\n",
    "                    \"client_id\": CLIENT_ID,\n",
    "                    \"redirect_uri\": SERVICE_URL,\n",
    "                    \"code\": auth_code,\n",
    "                    \"grant_type\": \"authorization_code\",\n",
    "                    \"scope\": \"\",\n",
    "                },\n",
    "            )\n",
    "\n",
    "            if response.status_code != 200:\n",
    "                raise Exception(\"Failed to get token\")\n",
    "\n",
    "            token = response.json()[\"access_token\"]\n",
    "\n",
    "            return token\n",
    "\n",
    "\n",
    "class DEDLAuth:\n",
    "    def __init__(self, desp_access_token):\n",
    "        self.desp_access_token = desp_access_token\n",
    "\n",
    "    def get_token(self):\n",
    "        DEDL_TOKEN_URL = \"https://identity.data.destination-earth.eu/auth/realms/dedl/protocol/openid-connect/token\"\n",
    "        DEDL_CLIENT_ID = \"hda-public\"\n",
    "        AUDIENCE = \"hda-public\"\n",
    "\n",
    "        data = {\n",
    "            \"grant_type\": \"urn:ietf:params:oauth:grant-type:token-exchange\",\n",
    "            \"subject_token\": self.desp_access_token,\n",
    "            \"subject_issuer\": \"desp-oidc\",\n",
    "            \"subject_token_type\": \"urn:ietf:params:oauth:token-type:access_token\",\n",
    "            \"client_id\": DEDL_CLIENT_ID,\n",
    "            \"audience\": AUDIENCE,\n",
    "        }\n",
    "\n",
    "        response = requests.post(DEDL_TOKEN_URL, data=data)\n",
    "\n",
    "        print(\"Response code:\", response.status_code)\n",
    "\n",
    "        if response.status_code == 200:\n",
    "            dedl_token = response.json()[\"access_token\"]\n",
    "            return dedl_token\n",
    "        else:\n",
    "            print(response.json())\n",
    "            print(\"Error obtaining DEDL access token\")\n",
    "\n",
    "\n",
    "class AuthHandler:\n",
    "    def __init__(self, username, password):\n",
    "        self.username = username\n",
    "        self.password = password\n",
    "        self.desp_access_token = None\n",
    "        self.dedl_access_token = None\n",
    "\n",
    "    def get_token(self):\n",
    "        # Get DESP auth token\n",
    "        desp_auth = DESPAuth(self.username, self.password)\n",
    "        self.desp_access_token = desp_auth.get_token()\n",
    "\n",
    "        # Get DEDL auth token\n",
    "        dedl_auth = DEDLAuth(self.desp_access_token)\n",
    "        self.dedl_access_token = dedl_auth.get_token()\n",
    "\n",
    "        return self.dedl_access_token"
   ]
  },
  {
   "cell_type": "markdown",
   "id": "42f98fd6",
   "metadata": {},
   "source": [
    "## Authetication"
   ]
  },
  {
   "cell_type": "code",
   "execution_count": null,
   "id": "cd1b426a-92e3-4b97-8c83-839025c1b631",
   "metadata": {
    "collapsed": true,
    "jupyter": {
     "outputs_hidden": true
    },
    "tags": []
   },
   "outputs": [],
   "source": [
    "# Enter DESP credentials.\n",
    "DESP_USERNAME = input(\"Please input your DESP username or email: \")\n",
    "DESP_PASSWORD = getpass(\"Please input your DESP password: \")\n",
    "\n",
    "token = AuthHandler(DESP_USERNAME, DESP_PASSWORD)\n",
    "access_token = token.get_token()\n",
    "\n",
    "# Check the status of the request\n",
    "if access_token is not None:\n",
    "\n",
    "    print(\"DEDL/DESP Access Token Obtained Successfully\")\n",
    "\n",
    "else:\n",
    "\n",
    "    print(\"Failed to Obtain DEDL/DESP Access Token\")"
   ]
  },
  {
   "cell_type": "markdown",
   "id": "7456eaf1",
   "metadata": {},
   "source": [
    "## Get a list of avilable Hooks"
   ]
  },
  {
   "cell_type": "code",
   "execution_count": null,
   "id": "53043742-b576-448b-aeb7-daa10f7caba4",
   "metadata": {
    "collapsed": true,
    "jupyter": {
     "outputs_hidden": true
    }
   },
   "outputs": [],
   "source": [
    "api_headers = {\"Authorization\": \"Bearer \" + access_token}\n",
    "service_root_url = \"https://odp.data.destination-earth.eu/odata/v1/\"\n",
    "result = requests.get(service_root_url + \"Workflows\", headers=api_headers).json()\n",
    "\n",
    "# Assuming 'result' is a JSON array\n",
    "for item in result[\"value\"]:\n",
    "    for key, value in item.items():\n",
    "        print(f\"{key}: {value}\")\n",
    "    print()  # Print an empty line to separate each item"
   ]
  }
 ],
 "metadata": {
  "kernelspec": {
   "display_name": "Python 3 (ipykernel)",
   "language": "python",
   "name": "python3"
  },
  "language_info": {
   "codemirror_mode": {
    "name": "ipython",
    "version": 3
   },
   "file_extension": ".py",
   "mimetype": "text/x-python",
   "name": "python",
   "nbconvert_exporter": "python",
   "pygments_lexer": "ipython3",
   "version": "3.9.13"
  }
 },
 "nbformat": 4,
 "nbformat_minor": 5
}