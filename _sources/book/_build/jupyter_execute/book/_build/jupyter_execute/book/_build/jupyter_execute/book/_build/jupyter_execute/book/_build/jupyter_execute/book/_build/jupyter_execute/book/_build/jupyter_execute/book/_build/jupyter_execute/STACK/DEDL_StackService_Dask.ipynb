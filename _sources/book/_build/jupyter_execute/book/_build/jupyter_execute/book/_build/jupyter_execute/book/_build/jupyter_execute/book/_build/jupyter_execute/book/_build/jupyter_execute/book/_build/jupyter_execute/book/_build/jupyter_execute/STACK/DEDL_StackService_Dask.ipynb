{
 "cells": [
  {
   "cell_type": "markdown",
   "id": "15065fef-8249-48dc-9567-89943cd0c478",
   "metadata": {},
   "source": [
    "<img src=\"https://www-cdn.eumetsat.int/files/styles/16_9_large/s3/2023-06/DestinationEarth-visual_colour-op_0.jpg?h=81e8e86e&itok=f4bdxtFA\" style=\"width: 100%; height: 250px; object-fit: none; object-position: 0 75%;\" />\n",
    "\n",
    "# DestinE Data Lake - Stack Service Dask"
   ]
  },
  {
   "cell_type": "markdown",
   "id": "86cdfa3b-3e26-4bf0-8b02-b2edc4a2d371",
   "metadata": {
    "tags": []
   },
   "source": [
    "## Authentication via OIDC password grant flow\n",
    "The DEDL Stack client library holds the DaskOIDC class as a helper class to authenticate a user against the given identity provider of DestinE Data Lake.\n",
    "The users password is directly handed over to the request object and is not stored.\n",
    "Refreshed token is used to request a new access token in case it is expired.\n",
    "\n",
    "The DaskMultiCluster class provides an abstraction layer to spawn multiple Dask clusters, one per location, within the data lake. Each cluster will be composed of 2 workers per default, with adaptive scaling enabled towards a maximum of 10 workers. In addition, the workers are configured to have 2 cores and 2 GB RAM per default. This can be changed via the [cluster options](https://gateway.dask.org/cluster-options.html) exposed up to the given service quota of the individual user role:\n",
    "- Worker cores:\n",
    "    - min: 1\n",
    "    - max: ..::service-quota::..\n",
    "- Worker memory:\n",
    "    - min: 1 GB\n",
    "    - max: ..::service-quota::.. GB\n",
    "    \n",
    "Dask Worker and Scheduler nodes are based on a custom build [container image](registry.eodc.eu/eodc/clusters/dedl-deployment/dedl-dask) with the aim to match the environment, Jupyter Kernel, of the DEDL JupyterLab instance. Warnings will be displayed if a version missmatch is detected. Feel free to use your custom image to run your workloads by replacing the container image in the cluster options object."
   ]
  },
  {
   "cell_type": "code",
   "execution_count": null,
   "id": "6fed642a",
   "metadata": {},
   "outputs": [],
   "source": [
    "from dedl_stack_client.authn import DaskOIDC\n",
    "from dedl_stack_client.dask import DaskMultiCluster\n",
    "from rich.prompt import Prompt\n",
    "\n",
    "myAuth = DaskOIDC(username=Prompt.ask(prompt=\"Username\"))\n",
    "myDEDLClusters = DaskMultiCluster(auth=myAuth)\n",
    "myDEDLClusters.new_cluster()"
   ]
  },
  {
   "cell_type": "markdown",
   "id": "83fb880b",
   "metadata": {},
   "source": [
    "Print the given client object details per location as well as the link to the Dask dashboard."
   ]
  },
  {
   "cell_type": "code",
   "execution_count": null,
   "id": "b464d949-d54a-49b0-ac78-68724260d975",
   "metadata": {
    "tags": []
   },
   "outputs": [],
   "source": [
    "with myDEDLClusters.as_current(location=\"central\") as myclient:\n",
    "    print(myclient)\n",
    "    print(myclient.dashboard_link)\n",
    "with myDEDLClusters.as_current(location=\"lumi\") as myclient:\n",
    "    print(myclient)\n",
    "    print(myclient.dashboard_link)"
   ]
  },
  {
   "cell_type": "markdown",
   "id": "8cdfd85e-5601-41f9-9ce9-6b6dbf2dc9b7",
   "metadata": {},
   "source": [
    "### Shutdown the all clusters and free up all resources"
   ]
  },
  {
   "cell_type": "code",
   "execution_count": null,
   "id": "308e38b8-2e1c-414c-853a-00465df982ce",
   "metadata": {
    "tags": []
   },
   "outputs": [],
   "source": [
    "myDEDLClusters.shutdown()"
   ]
  }
 ],
 "metadata": {
  "kernelspec": {
   "display_name": "dedl",
   "language": "python",
   "name": "python3"
  },
  "language_info": {
   "codemirror_mode": {
    "name": "ipython",
    "version": 3
   },
   "file_extension": ".py",
   "mimetype": "text/x-python",
   "name": "python",
   "nbconvert_exporter": "python",
   "pygments_lexer": "ipython3",
   "version": "3.11.3"
  }
 },
 "nbformat": 4,
 "nbformat_minor": 5
}