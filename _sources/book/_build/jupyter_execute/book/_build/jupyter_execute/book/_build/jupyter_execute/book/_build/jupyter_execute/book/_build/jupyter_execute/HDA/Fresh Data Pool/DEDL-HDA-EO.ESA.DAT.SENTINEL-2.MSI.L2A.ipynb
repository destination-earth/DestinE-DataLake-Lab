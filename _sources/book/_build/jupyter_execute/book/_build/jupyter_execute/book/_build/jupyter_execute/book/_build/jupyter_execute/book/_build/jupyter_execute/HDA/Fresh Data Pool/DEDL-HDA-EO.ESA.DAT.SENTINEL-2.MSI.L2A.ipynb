{
 "cells": [
  {
   "cell_type": "markdown",
   "metadata": {
    "tags": []
   },
   "source": [
    "![](https://github.com/destination-earth/DestinE-DataLake-Lab/blob/main/img/DestinE-banner.jpg?raw=true)"
   ]
  },
  {
   "cell_type": "markdown",
   "metadata": {},
   "source": [
    "<b>Author:</b> EUMETSAT  \n",
    "<b>Copyright:</b> 2024 EUMETSAT  \n",
    "<b>Licence:</b> MIT   "
   ]
  },
  {
   "cell_type": "markdown",
   "metadata": {},
   "source": [
    "# Example of how to use HDA to find and download data for conducting monitoring of Śniadrwy lake\n",
    "In this notebook, we will present a simple example on how you can access data from DEDL using HDA and what you can do with it. As an example, we will try to download Sentinel-2 images containining data of Śniadrwy lake from first week of July 2023. With usage of HDA and few Python packages, you will be able to obtain rasters with NDWI index."
   ]
  },
  {
   "cell_type": "markdown",
   "metadata": {},
   "source": [
    "# 1. Prerequisites"
   ]
  },
  {
   "cell_type": "markdown",
   "metadata": {},
   "source": [
    "## 1.1 DestinE account\n",
    "\n",
    "Firstly, to work with HDA we will need account on DestinE Core Service Platfrom website. You can register under this url: https://platform.destine.eu/"
   ]
  },
  {
   "cell_type": "markdown",
   "metadata": {},
   "source": [
    "## 1.2 Python's packages"
   ]
  },
  {
   "cell_type": "code",
   "execution_count": null,
   "metadata": {},
   "outputs": [],
   "source": [
    "import requests\n",
    "import zipfile\n",
    "import io\n",
    "import destinelab as deauth\n",
    "from getpass import getpass"
   ]
  },
  {
   "cell_type": "markdown",
   "metadata": {},
   "source": [
    "## 1.3 Prerequiared data\n",
    "Before reuqesting some data from DEDL HDA, let's specify what data we want to obtain. We will define 3 variables:\n",
    "* Start date and end date,\n",
    "* Output directory,\n",
    "* Geometry of interesting us area\n",
    "\n",
    "`Start date and end date` will define our timerange in reuqest. HDA will search only for products that were obtained between those two dates.\n",
    "\n",
    "`Output directory` will define directory for downloaded products.\n",
    "\n",
    "`Geometry` wll define our area of interest. It will be passed as BBOX (Bounding Box), as a list of coordinates - Xmin, Ymin, Xmax, Ymax. All coordinates will be defined in EPSG:4326."
   ]
  },
  {
   "cell_type": "code",
   "execution_count": null,
   "metadata": {},
   "outputs": [],
   "source": [
    "# Timerange of data that we want to recieve\n",
    "start_date = '2023-07-01'\n",
    "end_date = '2023-07-07'\n",
    "# Output directory of our desired data\n",
    "output_dir = 'output/'\n",
    "# Geometry in form of a BBOX\n",
    "bbox = [21.61868,53.66627,21.90926,53.82351]"
   ]
  },
  {
   "cell_type": "markdown",
   "metadata": {},
   "source": [
    "# 2. Work with HDA\n",
    "\n",
    "HDA (Harmonized Data Access) uses STAC protocol, that allows its user access the Earth Observation data, stored in various provides. Thanks to that, HDA serves as an one stream of data, allowing for comfortable work with sattelite imagery."
   ]
  },
  {
   "cell_type": "markdown",
   "metadata": {},
   "source": [
    "# 2.1 API URLs\n",
    "\n",
    "HDA, as all API, is build upon many endpoints. In this notebook we will use only one for collections and searching. Below there are definitions of those endpoints. We will be using the common one site, but you can change it to `central`, `lumi` or `leonardo` if you want."
   ]
  },
  {
   "cell_type": "code",
   "execution_count": 1,
   "metadata": {},
   "outputs": [],
   "source": [
    "COLLECTIONS_URL = 'https://hda.data.destination-earth.eu/stac/collections'\n",
    "SEARCH_URL = 'https://hda.data.destination-earth.eu/stac/search'"
   ]
  },
  {
   "cell_type": "markdown",
   "metadata": {},
   "source": [
    "# 2.2 Listing available collections\n",
    "Firstly lets see to which collections we can get access, while using HDA."
   ]
  },
  {
   "cell_type": "code",
   "execution_count": 9,
   "metadata": {},
   "outputs": [
    {
     "data": {
      "text/plain": [
       "['EO.CLMS.DAT.CORINE',\n",
       " 'EO.CLMS.DAT.GLO.DMP300_V1',\n",
       " 'EO.CLMS.DAT.GLO.FAPAR300_V1',\n",
       " 'EO.CLMS.DAT.GLO.FCOVER300_V1',\n",
       " 'EO.CLMS.DAT.GLO.GDMP300_V1',\n",
       " 'EO.CLMS.DAT.GLO.LAI300_V1',\n",
       " 'EO.CLMS.DAT.GLO.NDVI300_V1',\n",
       " 'EO.CLMS.DAT.GLO.NDVI_1KM_V2',\n",
       " 'EO.CLMS.DAT.SENTINEL-2.HRVPP.VI',\n",
       " 'EO.DEM.DAT.COP-DEM_GLO-30-DGED',\n",
       " 'EO.DEM.DAT.COP-DEM_GLO-30-DTED',\n",
       " 'EO.DEM.DAT.COP-DEM_GLO-90-DGED',\n",
       " 'EO.DEM.DAT.COP-DEM_GLO-90-DTED',\n",
       " 'EO.ECMWF.DAT.CAMS_EUROPE_AIR_QUALITY_FORECASTS',\n",
       " 'EO.ECMWF.DAT.CAMS_EUROPE_AIR_QUALITY_REANALYSES',\n",
       " 'EO.ECMWF.DAT.CAMS_GLOBAL_ATMOSHERIC_COMPO_FORECAST',\n",
       " 'EO.ECMWF.DAT.CAMS_GLOBAL_EMISSION_INVENTORIES',\n",
       " 'EO.ECMWF.DAT.CAMS_GLOBAL_FIRE_EMISSIONS_GFAS',\n",
       " 'EO.ECMWF.DAT.CAMS_GLOBAL_GREENHOUSE_GAS_REANALYSIS',\n",
       " 'EO.ECMWF.DAT.CAMS_GLOBAL_GREENHOUSE_GAS_REANALYSIS_MONTHLY_AV_FIELDS',\n",
       " 'EO.ECMWF.DAT.CAMS_GLOBAL_RADIATIVE_FORCING',\n",
       " 'EO.ECMWF.DAT.CAMS_GLOBAL_RADIATIVE_FORCING_AUX',\n",
       " 'EO.ECMWF.DAT.CAMS_GLOBAL_REANALYSIS_EAC4',\n",
       " 'EO.ECMWF.DAT.CAMS_GLOBAL_REANALYSIS_EAC4_MONTHLY_AV_FIELDS',\n",
       " 'EO.ECMWF.DAT.CAMS_GREENHOUSE_GAS_FLUXES',\n",
       " 'EO.ECMWF.DAT.CAMS_SOLAR_RADIATION_TIMESERIES',\n",
       " 'EO.ECMWF.DAT.CEMS_FIRE_HISTORICAL',\n",
       " 'EO.ECMWF.DAT.CEMS_GLOFAS_FORECAST',\n",
       " 'EO.ECMWF.DAT.CEMS_GLOFAS_HISTORICAL',\n",
       " 'EO.ECMWF.DAT.CEMS_GLOFAS_REFORECAST',\n",
       " 'EO.ECMWF.DAT.CEMS_GLOFAS_SEASONAL',\n",
       " 'EO.ECMWF.DAT.CEMS_GLOFAS_SEASONAL_REFORECAST',\n",
       " 'EO.ECMWF.DAT.CO2_DATA_FROM_SATELLITE_SENSORS_2002_PRESENT',\n",
       " 'EO.ECMWF.DAT.DERIVED_GRIDDED_GLACIER_MASS_CHANGE',\n",
       " 'EO.ECMWF.DAT.DT_CLIMATE_ADAPTATION',\n",
       " 'EO.ECMWF.DAT.DT_EXTREMES',\n",
       " 'EO.ECMWF.DAT.EFAS_FORECAST',\n",
       " 'EO.ECMWF.DAT.EFAS_HISTORICAL',\n",
       " 'EO.ECMWF.DAT.EFAS_REFORECAST',\n",
       " 'EO.ECMWF.DAT.EFAS_SEASONAL',\n",
       " 'EO.ECMWF.DAT.EFAS_SEASONAL_REFORECAST',\n",
       " 'EO.ECMWF.DAT.ERA5_HOURLY_VARIABLES_ON_PRESSURE_LEVELS',\n",
       " 'EO.ECMWF.DAT.ERA5_LAND_HOURLY',\n",
       " 'EO.ECMWF.DAT.ERA5_LAND_MONTHLY',\n",
       " 'EO.ECMWF.DAT.ERA5_MONTHLY_MEANS_VARIABLES_ON_PRESSURE_LEVELS',\n",
       " 'EO.ECMWF.DAT.GLACIERS_DISTRIBUTION_DATA_FROM_RANDOLPH_GLACIER_INVENTORY_2000',\n",
       " 'EO.ECMWF.DAT.METHANE_DATA_SATELLITE_SENSORS_2002_PRESENT',\n",
       " 'EO.ECMWF.DAT.REANALYSIS_ERA5_SINGLE_LEVELS',\n",
       " 'EO.ECMWF.DAT.REANALYSIS_ERA5_SINGLE_LEVELS_MONTHLY_MEANS',\n",
       " 'EO.ECMWF.DAT.REANALYSIS_UERRA_EUROPE_SINGLE_LEVELS',\n",
       " 'EO.ECMWF.DAT.SATELLITE_SEA_ICE_CONCENTRATION',\n",
       " 'EO.ECMWF.DAT.SATELLITE_SEA_ICE_EDGE_TYPE',\n",
       " 'EO.ECMWF.DAT.SATELLITE_SEA_ICE_THICKNESS',\n",
       " 'EO.ECMWF.DAT.SEASONAL_FORECAST_ANOMALIES_ON_PRESSURE_LEVELS_2017_PRESENT',\n",
       " 'EO.ECMWF.DAT.SEASONAL_FORECAST_ANOMALIES_ON_SINGLE_LEVELS_2017_PRESENT',\n",
       " 'EO.ECMWF.DAT.SEASONAL_FORECAST_DAILY_DATA_ON_PRESSURE_LEVELS_2017_PRESENT',\n",
       " 'EO.ECMWF.DAT.SEASONAL_FORECAST_DAILY_DATA_ON_SINGLE_LEVELS_2017_PRESENT',\n",
       " 'EO.ECMWF.DAT.SEASONAL_FORECAST_MONTHLY_STATISTICS_ON_PRESSURE_LEVELS_2017_PRESENT',\n",
       " 'EO.ECMWF.DAT.SEASONAL_FORECAST_MONTHLY_STATISTICS_ON_SINGLE_LEVELS_2017_PRESENT',\n",
       " 'EO.ECMWF.DAT.SEA_LEVEL_DAILY_GRIDDED_DATA_FOR_GLOBAL_OCEAN_1993_PRESENT',\n",
       " 'EO.ECMWF.DAT.SIS_HYDROLOGY_METEOROLOGY_DERIVED_PROJECTIONS',\n",
       " 'EO.ESA.DAT.SENTINEL-1.L1_GRD',\n",
       " 'EO.ESA.DAT.SENTINEL-1.L1_SLC',\n",
       " 'EO.ESA.DAT.SENTINEL-2.MSI.L1C',\n",
       " 'EO.ESA.DAT.SENTINEL-2.MSI.L2A',\n",
       " 'EO.ESA.DAT.SENTINEL-3.OL_2_LFR___',\n",
       " 'EO.ESA.DAT.SENTINEL-3.OL_2_LRR___',\n",
       " 'EO.ESA.DAT.SENTINEL-3.SL_2_LST___',\n",
       " 'EO.ESA.DAT.SENTINEL-3.SR_2_LAN___',\n",
       " 'EO.ESA.DAT.SENTINEL-5P.TROPOMI.L1',\n",
       " 'EO.ESA.DAT.SENTINEL-5P.TROPOMI.L2',\n",
       " 'EO.EUM.CM.METOP.ASCSZFR02',\n",
       " 'EO.EUM.CM.METOP.ASCSZOR02',\n",
       " 'EO.EUM.CM.METOP.ASCSZRR02',\n",
       " 'EO.EUM.DAT.METOP.AMSUL1',\n",
       " 'EO.EUM.DAT.METOP.ASCSZF1B',\n",
       " 'EO.EUM.DAT.METOP.ASCSZO1B',\n",
       " 'EO.EUM.DAT.METOP.ASCSZR1B',\n",
       " 'EO.EUM.DAT.METOP.AVHRRGACR02',\n",
       " 'EO.EUM.DAT.METOP.AVHRRL1',\n",
       " 'EO.EUM.DAT.METOP.GLB-SST-NC',\n",
       " 'EO.EUM.DAT.METOP.GOMEL1',\n",
       " 'EO.EUM.DAT.METOP.GOMEL1R03',\n",
       " 'EO.EUM.DAT.METOP.IASIL1C-ALL',\n",
       " 'EO.EUM.DAT.METOP.IASSND02',\n",
       " 'EO.EUM.DAT.METOP.IASTHR011',\n",
       " 'EO.EUM.DAT.METOP.LSA-002',\n",
       " 'EO.EUM.DAT.METOP.MHSL1',\n",
       " 'EO.EUM.DAT.METOP.OSI-104',\n",
       " 'EO.EUM.DAT.METOP.OSI-150-A',\n",
       " 'EO.EUM.DAT.METOP.OSI-150-B',\n",
       " 'EO.EUM.DAT.METOP.SOMO12',\n",
       " 'EO.EUM.DAT.METOP.SOMO25',\n",
       " 'EO.EUM.DAT.MULT.HIRSL1',\n",
       " 'EO.EUM.DAT.SENTINEL-3.AOD',\n",
       " 'EO.EUM.DAT.SENTINEL-3.FRP',\n",
       " 'EO.EUM.DAT.SENTINEL-3.OL_1_EFR___',\n",
       " 'EO.EUM.DAT.SENTINEL-3.OL_1_ERR___',\n",
       " 'EO.EUM.DAT.SENTINEL-3.OL_2_WFR___',\n",
       " 'EO.EUM.DAT.SENTINEL-3.OL_2_WRR___',\n",
       " 'EO.EUM.DAT.SENTINEL-3.SL_1_RBT___',\n",
       " 'EO.EUM.DAT.SENTINEL-3.SL_2_WST___',\n",
       " 'EO.EUM.DAT.SENTINEL-3.SR_1_SRA_A_',\n",
       " 'EO.EUM.DAT.SENTINEL-3.SR_1_SRA_BS',\n",
       " 'EO.EUM.DAT.SENTINEL-3.SR_1_SRA___',\n",
       " 'EO.EUM.DAT.SENTINEL-3.SR_2_WAT___',\n",
       " 'EO.GSW.DAT.CHANGE',\n",
       " 'EO.GSW.DAT.EXTENT',\n",
       " 'EO.GSW.DAT.OCCURRENCE',\n",
       " 'EO.GSW.DAT.RECURRENCE',\n",
       " 'EO.GSW.DAT.SEASONALITY',\n",
       " 'EO.GSW.DAT.TRANSITIONS',\n",
       " 'EO.MO.DAT.GLOBAL_ANALYSISFORECAST_BGC_001_028',\n",
       " 'EO.MO.DAT.GLOBAL_ANALYSISFORECAST_PHY_001_024',\n",
       " 'EO.MO.DAT.GLOBAL_ANALYSISFORECAST_WAV_001_027',\n",
       " 'EO.MO.DAT.GLOBAL_MULTIYEAR_BGC_001_033',\n",
       " 'EO.MO.DAT.GLOBAL_MULTIYEAR_PHY_ENS_001_031',\n",
       " 'EO.MO.DAT.GLOBAL_MULTIYEAR_WAV_001_032',\n",
       " 'EO.MO.DAT.INSITU_GLO_PHY_TS_OA_MY_013_052',\n",
       " 'EO.MO.DAT.INSITU_GLO_PHY_TS_OA_NRT_013_002',\n",
       " 'EO.MO.DAT.INSITU_GLO_PHY_UV_DISCRETE_NRT_013_048',\n",
       " 'EO.MO.DAT.MULTIOBS_GLO_BGC_NUTRIENTS_CARBON_PROFILES_MYNRT_015_009',\n",
       " 'EO.MO.DAT.MULTIOBS_GLO_BIO_BGC_3D_REP_015_010',\n",
       " 'EO.MO.DAT.MULTIOBS_GLO_BIO_CARBON_SURFACE_REP_015_008',\n",
       " 'EO.MO.DAT.MULTIOBS_GLO_PHY_MYNRT_015_003',\n",
       " 'EO.MO.DAT.MULTIOBS_GLO_PHY_S_SURFACE_MYNRT_015_013',\n",
       " 'EO.MO.DAT.MULTIOBS_GLO_PHY_TSUV_3D_MYNRT_015_012',\n",
       " 'EO.MO.DAT.MULTIOBS_GLO_PHY_W_3D_REP_015_007',\n",
       " 'EO.MO.DAT.OCEANCOLOUR_GLO_BGC_L3_MY_009_103',\n",
       " 'EO.MO.DAT.OCEANCOLOUR_GLO_BGC_L3_MY_009_107',\n",
       " 'EO.MO.DAT.OCEANCOLOUR_GLO_BGC_L3_NRT_009_101',\n",
       " 'EO.MO.DAT.OCEANCOLOUR_GLO_BGC_L4_MY_009_104',\n",
       " 'EO.MO.DAT.OCEANCOLOUR_GLO_BGC_L4_MY_009_108',\n",
       " 'EO.MO.DAT.OCEANCOLOUR_GLO_BGC_L4_NRT_009_102',\n",
       " 'EO.MO.DAT.SEAICE_GLO_SEAICE_L4_NRT_OBSERVATIONS_011_001',\n",
       " 'EO.MO.DAT.SEAICE_GLO_SEAICE_L4_NRT_OBSERVATIONS_011_006',\n",
       " 'EO.MO.DAT.SEAICE_GLO_SEAICE_L4_REP_OBSERVATIONS_011_009',\n",
       " 'EO.MO.DAT.SEALEVEL_GLO_PHY_L4_NRT_008_046',\n",
       " 'EO.MO.DAT.SEALEVEL_GLO_PHY_MDT_008_063',\n",
       " 'EO.MO.DAT.SST_GLO_SST_L3S_NRT_OBSERVATIONS_010_010',\n",
       " 'EO.MO.DAT.SST_GLO_SST_L4_NRT_OBSERVATIONS_010_001',\n",
       " 'EO.MO.DAT.SST_GLO_SST_L4_REP_OBSERVATIONS_010_011',\n",
       " 'EO.MO.DAT.SST_GLO_SST_L4_REP_OBSERVATIONS_010_024',\n",
       " 'EO.MO.DAT.WAVE_GLO_PHY_SWH_L3_NRT_014_001',\n",
       " 'EO.MO.DAT.WAVE_GLO_PHY_SWH_L4_NRT_014_003',\n",
       " 'EO.MO.DAT.WAVE_GLO_WAV_L3_SPC_NRT_OBSERVATIONS_014_002',\n",
       " 'EO.MO.DAT.WIND_GLO_PHY_CLIMATE_L4_MY_012_003',\n",
       " 'EO.MO.DAT.WIND_GLO_PHY_L3_MY_012_005',\n",
       " 'EO.MO.DAT.WIND_GLO_PHY_L3_NRT_012_002',\n",
       " 'EO.MO.DAT.WIND_GLO_PHY_L4_MY_012_006',\n",
       " 'EO.MO.DAT.WIND_GLO_PHY_L4_NRT_012_004',\n",
       " 'EO.NASA.DAT.LANDSAT.C2_L1',\n",
       " 'EO.NASA.DAT.LANDSAT.C2_L2',\n",
       " 'STAT.EUSTAT.DAT.GREENHOUSE_GAS_EMISSION_AGRICULTURE',\n",
       " 'STAT.EUSTAT.DAT.POP_AGE_GROUP_SEX_NUTS3',\n",
       " 'STAT.EUSTAT.DAT.POP_AGE_SEX_NUTS2',\n",
       " 'STAT.EUSTAT.DAT.POP_CHANGE_DEMO_BALANCE_CRUDE_RATES_NUTS3',\n",
       " 'STAT.EUSTAT.DAT.SHARE_ENERGY_FROM_RENEWABLE']"
      ]
     },
     "execution_count": 9,
     "metadata": {},
     "output_type": "execute_result"
    }
   ],
   "source": [
    "def get_stac_collections(api_url):\n",
    "    response = requests.get(api_url)\n",
    "    if response.status_code == 200:\n",
    "        stac_data = response.json()['collections']\n",
    "        collections = [x['id'] for x in stac_data]\n",
    "        return collections\n",
    "    else:\n",
    "        print(f\"Error: {response.status_code} - {response.text}\")\n",
    "        return None\n",
    "    \n",
    "get_stac_collections(COLLECTIONS_URL)"
   ]
  },
  {
   "cell_type": "markdown",
   "metadata": {},
   "source": [
    "As you can see, there are many dataset, that can be access using just one single tool - HDA. In this notebook we will use only Sentinel-2 images, so our collections will be `EO.ESA.DAT.SENTINEL-2.MSI.L1C` and `EO.ESA.DAT.SENTINEL-2.MSI.L2A`."
   ]
  },
  {
   "cell_type": "code",
   "execution_count": null,
   "metadata": {},
   "outputs": [],
   "source": [
    "collections = ['EO.ESA.DAT.SENTINEL-2.MSI.L1C', 'EO.ESA.DAT.SENTINEL-2.MSI.L2A']"
   ]
  },
  {
   "cell_type": "markdown",
   "metadata": {},
   "source": [
    "## 2.3 Authorization\n",
    "\n",
    "As stated before, to use HDA you will need an account on DestinE. Using your credentials, you will be able to generate `access token`, that will be needed in upcoming requests. In listing collections' cell you didn't have to create token, because only more advanced requests (like listing, searching and downloading items) need it."
   ]
  },
  {
   "cell_type": "code",
   "execution_count": null,
   "metadata": {},
   "outputs": [
    {
     "name": "stdout",
     "output_type": "stream",
     "text": [
      "Response code: 200\n",
      "DEDL/DESP Access Token Obtained Successfully\n"
     ]
    }
   ],
   "source": [
    "DESP_USERNAME = input(\"Please input your DESP username or email: \")\n",
    "DESP_PASSWORD = getpass(\"Please input your DESP password: \")\n",
    "\n",
    "auth = deauth.AuthHandler(DESP_USERNAME, DESP_PASSWORD)\n",
    "access_token = auth.get_token()\n",
    "if access_token is not None:\n",
    "    print(\"DEDL/DESP Access Token Obtained Successfully\")\n",
    "else:\n",
    "    print(\"Failed to Obtain DEDL/DESP Access Token\")\n",
    "\n",
    "auth_headers = {\"Authorization\": f\"Bearer {access_token}\"}"
   ]
  },
  {
   "cell_type": "markdown",
   "metadata": {},
   "source": [
    "## 2.4 Find newest product\n",
    "After defining all prerequired data and obtaining access token, we can start searching for interesting us products. To do that, we will firstly create body of a POST request with ours parameters. Then, we will send it to HDA and, if request is successful, we will read from response download link. "
   ]
  },
  {
   "cell_type": "code",
   "execution_count": 12,
   "metadata": {},
   "outputs": [],
   "source": [
    "def search_items(access_token: str, search_url: str, collection: str, \n",
    "                 bbox: list[float | int], start_date: str, end_date: str):\n",
    "    body = {\n",
    "        'datetime': f'{start_date}T00:00:00Z/{end_date}T23:59:59Z',\n",
    "        'collections': [collection],\n",
    "        'bbox': bbox\n",
    "    }\n",
    "    response = requests.post(search_url, json=body, headers={'Authorization': 'Bearer {}'.format(access_token)})\n",
    "    if response.status_code != 200:\n",
    "        print(f'Error in search request: {response.status_code} - {response.text}')\n",
    "        return None\n",
    "    else:\n",
    "        print(\"Request successful! Reading data...\")\n",
    "        products_list = [(feature.get('assets').get('downloadLink').get('href'), feature.get('links')[0].get('title')) for feature in response.json().get('features', [])]\n",
    "        return products_list"
   ]
  },
  {
   "cell_type": "markdown",
   "metadata": {},
   "source": [
    "To obtain products from two levels of Sentinel-2 - L2A and L1C, we will use loop, iterating over every single collection."
   ]
  },
  {
   "cell_type": "code",
   "execution_count": 13,
   "metadata": {},
   "outputs": [
    {
     "name": "stdout",
     "output_type": "stream",
     "text": [
      "Request successful! Reading data...\n",
      "Request successful! Reading data...\n"
     ]
    }
   ],
   "source": [
    "collections_items = []\n",
    "for c in collections:\n",
    "    collections_items.append(search_items(access_token, SEARCH_URL, c, bbox, start_date, end_date))"
   ]
  },
  {
   "cell_type": "markdown",
   "metadata": {},
   "source": [
    "## 2.5 Download founded images\n",
    "After obtaining download links for each of interesting us product, we can finally download it. With single request, we will download compressed product in zip format to provided directory. Function will set filename as product's id. Mind that Sentinel-2 products might be over 1 GB, so it may take a few minutes to download them, based on your internet connection."
   ]
  },
  {
   "cell_type": "code",
   "execution_count": 12,
   "metadata": {},
   "outputs": [],
   "source": [
    "def hda_download(access_token: str, url: str, output: str):\n",
    "    response = requests.get(url,stream=True,headers={'Authorization': 'Bearer {}'.format(access_token), 'Accept-Encoding': None})\n",
    "    if response.status_code == 200:\n",
    "        print('Downloading dataset...')\n",
    "        with zipfile.ZipFile(io.BytesIO(response.content)) as z:\n",
    "            z.extractall(output)\n",
    "        print('The dataset has been downloaded to: {}'.format(output))\n",
    "    else:\n",
    "        print('Request Unsuccessful! Error-Code: {}'.format(response.status_code))"
   ]
  },
  {
   "cell_type": "markdown",
   "metadata": {},
   "source": [
    "From previous section, we obtained 2D list - with one dimension being collection and second being one item (single product). Becouse of that, we will use two loops to iterate over single products. "
   ]
  },
  {
   "cell_type": "code",
   "execution_count": 13,
   "metadata": {},
   "outputs": [
    {
     "name": "stdout",
     "output_type": "stream",
     "text": [
      "Downloading dataset...\n",
      "The dataset has been downloaded to: output/S2B_MSIL1C_20230701T094549_N0509_R079_T34UEE_20230701T104205\n",
      "Downloading dataset...\n",
      "The dataset has been downloaded to: output/S2B_MSIL2A_20230701T094549_N0509_R079_T34UEE_20230701T113400\n"
     ]
    }
   ],
   "source": [
    "for collection in collections_items:\n",
    "    for item in collection:\n",
    "        url = item[0]\n",
    "        product_id = item[1]\n",
    "        download_path = output_dir + product_id\n",
    "        hda_download(access_token, url, download_path)\n",
    "        break"
   ]
  },
  {
   "cell_type": "markdown",
   "metadata": {},
   "source": [
    "# 4. Simple data computing - obtaining NDWI\n",
    "\n",
    "In this chapter we will conduct simple data computing. As stated before, this notebook concentrate on monitoring of Śniadrwy lake, so we will try to calculate NDWI index for each pixel and create raster from it. Using all downloaded items, we will be able to monitor lake status from entire month."
   ]
  },
  {
   "cell_type": "markdown",
   "metadata": {},
   "source": [
    "## 4.1 Libraries\n",
    "\n",
    "In this chapter we will try to compute obtained by us imagery data, with usage of Python and its spatial-oriented packages. "
   ]
  },
  {
   "cell_type": "code",
   "execution_count": 14,
   "metadata": {},
   "outputs": [],
   "source": [
    "import rasterio\n",
    "from osgeo import gdal, gdal_array, osr\n",
    "import numpy as np\n",
    "import os"
   ]
  },
  {
   "cell_type": "markdown",
   "metadata": {},
   "source": [
    "## 4.2 Functions for reading, calculating and saving raster data\n",
    "Here we present you some functions for reading raster data into Numpy matrix, calculating NDWI with NIR and GREEN matrixes and saving result as a new raster. We will conduct such calculation for each downloaded item. In the end, we will obtain NDWI data on Śniadrwy Lake from whole week."
   ]
  },
  {
   "cell_type": "code",
   "execution_count": 37,
   "metadata": {},
   "outputs": [],
   "source": [
    "def getFullPath(dir: str, resolution: int, band: str):\n",
    "    if not os.path.isdir(dir):\n",
    "        raise ValueError(f\"Provided path does not exist: {dir}\")\n",
    "    elif resolution not in [10,20,60]:\n",
    "        raise ValueError(f\"Provided resolution does not exist: R{resolution}m\")\n",
    "    else:\n",
    "        full_path = dir\n",
    "        while True:\n",
    "            content = os.listdir(full_path)\n",
    "            if len(content) == 0:\n",
    "                raise ValueError(f\"Directory empty: {full_path}\")\n",
    "            elif len(content) == 1:\n",
    "                if full_path[-1] != '/':\n",
    "                    full_path = full_path + '/' + content[0]\n",
    "                else:\n",
    "                    full_path = full_path + content[0]\n",
    "            else:\n",
    "                if 'GRANULE' in content:\n",
    "                    full_path = full_path + '/' + 'GRANULE'\n",
    "                    break\n",
    "                else:\n",
    "                    raise ValueError(f\"Unsupported dir architecture: {full_path}\")\n",
    "        full_path = full_path + '/' + os.listdir(full_path)[0]\n",
    "        full_path = full_path + '/' + \"IMG_DATA\"\n",
    "        if len(os.listdir(full_path)) == 3:\n",
    "            full_path = full_path + '/' + f'R{resolution}m'\n",
    "            images = os.listdir(full_path)\n",
    "            for img in images:\n",
    "                if band in img:\n",
    "                    return full_path + '/' + img\n",
    "            raise ValueError(f'No such band {band} in directory: {full_path}')\n",
    "        else:\n",
    "            images = os.listdir(full_path)\n",
    "            for img in images:\n",
    "                if band in img:\n",
    "                    return full_path + '/' + img\n",
    "            raise ValueError(f'No such band {band} in directory: {full_path}')\n",
    "\n",
    "# Get transformation matrix from raster\n",
    "def getTransform(pathToRaster):\n",
    "    dataset = gdal.Open(pathToRaster)\n",
    "    transformation = dataset.GetGeoTransform()\n",
    "    return transformation\n",
    "\n",
    "# Read raster and return pixels' values matrix as int16, new transformation matrix, crs\n",
    "def readRaster(path, resolution, band):\n",
    "    path = getFullPath(path, resolution, band)\n",
    "    trans = getTransform(path) # trzeba zdefiniować który kanał\n",
    "    raster, crs = rasterToMatrix(path)\n",
    "    return raster.astype(np.int16), crs, trans\n",
    "\n",
    "def rasterToMatrix(pathToRaster):\n",
    "    with rasterio.open(pathToRaster) as src:\n",
    "        matrix = src.read(1)\n",
    "    return matrix, src.crs.to_epsg()\n",
    "\n",
    "# Transform numpy's matrix to geotiff; pass new raster's filepath, matrix with pixels' values, gdal file type, transformation matrix, projection, nodata value\n",
    "def npMatrixToGeotiff(filepath, matrix, gdalType, projection, transformMatrix, nodata = None):\n",
    "    driver = gdal.GetDriverByName('Gtiff')\n",
    "    if len(matrix.shape) > 2:\n",
    "        (bandNr, yRes, xRes) = matrix.shape\n",
    "        image = driver.Create(filepath, xRes, yRes, bandNr, gdalType)\n",
    "        for b in range(bandNr):\n",
    "            b = b + 1\n",
    "            band = image.GetRasterBand(b)\n",
    "            if nodata is not None:\n",
    "                band.SetNoDataValue(nodata)\n",
    "            band.WriteArray(matrix[b-1,:,:])\n",
    "            band.FlushCache\n",
    "    else:\n",
    "        bandNr = 1\n",
    "        (yRes, xRes) = matrix.shape\n",
    "        image = driver.Create(filepath, xRes, yRes, bandNr, gdalType)\n",
    "        print(type(image))\n",
    "        band = image.GetRasterBand(bandNr)\n",
    "        if nodata is not None:\n",
    "            band.SetNoDataValue(nodata)\n",
    "        band.WriteArray(matrix)\n",
    "        band.FlushCache\n",
    "    image.SetGeoTransform(transformMatrix)\n",
    "    image.SetProjection(projection)\n",
    "    del driver, image, band"
   ]
  },
  {
   "cell_type": "markdown",
   "metadata": {},
   "source": [
    "## 4.3 Computing\n",
    "\n",
    "With usage of defined functions, we will now generate NWDI rasters. Only data that will be needed in this step is a list with paths to our products (extracted from zip archive). Function `readRaster` will choose specified band from specified path."
   ]
  },
  {
   "cell_type": "code",
   "execution_count": null,
   "metadata": {},
   "outputs": [
    {
     "name": "stderr",
     "output_type": "stream",
     "text": [
      "/tmp/ipykernel_14887/1055239620.py:18: RuntimeWarning: invalid value encountered in divide\n",
      "  ndwi = (green[0]-nir[0]) / (green[0]+nir[0])\n"
     ]
    },
    {
     "name": "stdout",
     "output_type": "stream",
     "text": [
      "<class 'osgeo.gdal.Dataset'>\n"
     ]
    }
   ],
   "source": [
    "# List of products' paths. If your output directory contains more than just downloaded products, please provide them in a list, just like in the commented lines below\n",
    "#dataset = [output_dir+x for x in os.listdir(output_dir)]\n",
    "dataset = [\n",
    "     'output/S2B_MSIL1C_20230701T094549_N0509_R079_T34UEE_20230701T104205'\n",
    " ]\n",
    "# Output directiry for new images\n",
    "compution_output = 'output/ndwi_rasters'\n",
    "\n",
    "# Iterating over single product\n",
    "for item in dataset:\n",
    "    # Reading name from path\n",
    "    name = item.split('/')[-1]\n",
    "    # Reading green band into matrix\n",
    "    green = readRaster(item, 10, 'B03')\n",
    "    # Reading NIR band into matrix\n",
    "    nir = readRaster(item, 10, 'B08')\n",
    "    # Calculating NDWI matrix\n",
    "    ndwi = (green[0]-nir[0]) / (green[0]+nir[0])\n",
    "    # Setting treshhold for water-containing pixels\n",
    "    ndwi[ndwi >= 0] = 1\n",
    "    ndwi[ndwi < 0] = 0\n",
    "    # Creating SpatialReference object and setting it to match original's raster CRS\n",
    "    projection = osr.SpatialReference()\n",
    "    projection.ImportFromEPSG(green[1])\n",
    "    # Creating raster from matrix in GeoTiff format\n",
    "    npMatrixToGeotiff(f'{compution_output}/{name}.tif', ndwi, gdal_array.NumericTypeCodeToGDALTypeCode(np.float32), projection.ExportToWkt(), green[2])"
   ]
  },
  {
   "cell_type": "markdown",
   "metadata": {},
   "source": [
    "After successfuly creating and saving new images, we can now visualize them in Python using raterio package."
   ]
  },
  {
   "cell_type": "code",
   "execution_count": null,
   "metadata": {},
   "outputs": [
    {
     "data": {
      "image/png": "[encoded data removed]",
      "text/plain": [
       "<Figure size 640x480 with 1 Axes>"
      ]
     },
     "metadata": {},
     "output_type": "display_data"
    },
    {
     "data": {
      "text/plain": [
       "<Axes: >"
      ]
     },
     "execution_count": 40,
     "metadata": {},
     "output_type": "execute_result"
    }
   ],
   "source": [
    "img = rasterio.open('output/ndwi_rasters/S2B_MSIL1C_20230701T094549_N0509_R079_T34UEE_20230701T104205.tif')\n",
    "from rasterio.plot import show\n",
    "show(img)"
   ]
  },
  {
   "cell_type": "code",
   "execution_count": null,
   "metadata": {},
   "outputs": [],
   "source": []
  }
 ],
 "metadata": {
  "kernelspec": {
   "display_name": "Python DEDL",
   "language": "python",
   "name": "python_dedl"
  },
  "language_info": {
   "codemirror_mode": {
    "name": "ipython",
    "version": 3
   },
   "file_extension": ".py",
   "mimetype": "text/x-python",
   "name": "python",
   "nbconvert_exporter": "python",
   "pygments_lexer": "ipython3",
   "version": "3.11.4"
  }
 },
 "nbformat": 4,
 "nbformat_minor": 4
}