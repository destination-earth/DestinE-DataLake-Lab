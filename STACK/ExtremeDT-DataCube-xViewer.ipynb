{
 "cells": [
  {
   "cell_type": "markdown",
   "metadata": {},
   "source": [
    "---\n",
    "title: \"Interactive Dashboard for ExtremeDT Weather Forecast Data with xcube\"\n",
    "subtitle: \"This notebook guides users through accessing ExtremeDT weather data cubes, filtering them by region, converting units, and visualizing the results in an interactive dashboard using the xcube viewer.\"\n",
    "author: \"Author: Eumetsat\"\n",
    "tags: [STACK, DataCube, Digital Twin]\n",
    "thumbnail: ../../img/xcube.png\n",
    "license: MIT\n",
    "copyright: \"© 2024 EUMETSAT\"\n",
    "---\n",
    "<div style=\"margin: 6px 0;\">\n",
    "  <a href=\"https://jupyter.central.data.destination-earth.eu/user-redirect/lab/tree/DestinE-DataLake-Lab/STACK/ExtremeDT-DataCube-xViewer.ipynb\" target=\"_blank\" style=\"text-decoration: none;\">\n",
    "    <span class=\"launch\">🚀 Launch in JupyterHub</span>\n",
    "  </a>\n",
    "</div>"
   ]
  },
  {
   "cell_type": "markdown",
   "metadata": {},
   "source": [
    "## Create a dashboard based on Data Cube populated with data obtained from Weather and Geophysical Extremes Digital Twin (DT) - ExtremeDT\n",
    "\n",
    "**DISCLAIMER**  \n",
    "In order to deal with the code provided within this notebook, it is required to run it on user environment (local one or virtual machine).\n",
    "\n",
    "**This notebook covers:**\n",
    "* find available data cubes and their urls\n",
    "* filter data area of interest\n",
    "* create interactive dashboard using xcube - xviewer\n",
    "\n",
    "**Presequites**  \n",
    "* Xcube\n",
    "Install xcube and create a new environment ```mamba create --name xcube --channel conda-forge xcube```  \n",
    "OR  \n",
    "Install xcube in the current environment  ```mamba install --channel conda-forge xcube```\n",
    "* Xarray  \n",
    "pip ``pip install xarray``  \n",
    "OR  \n",
    "conda  ```conda install -c conda-forge xarray dask netCDF4 bottleneck```"
   ]
  },
  {
   "cell_type": "markdown",
   "metadata": {},
   "source": [
    "## Prepre your environment"
   ]
  },
  {
   "cell_type": "code",
   "execution_count": 1,
   "metadata": {},
   "outputs": [],
   "source": [
    "from xcube.webapi.viewer import Viewer\n",
    "import xarray as xr\n",
    "import requests"
   ]
  },
  {
   "cell_type": "markdown",
   "metadata": {},
   "source": [
    "## Connect with Extreme DT data cube\n",
    "**The data cube provides data:**\n",
    "* Four variables\n",
    "    * 2t - Air temperature at 2 meteres above grond [K]\n",
    "    * 2d - Dew point temperature at 2 meteres above grond [K]\n",
    "    * sp - Surface pressure [Pa]\n",
    "* Forecast 2024.04.04-13 + 96 hours for each date\n",
    "* Hourly step\n",
    "* World"
   ]
  },
  {
   "cell_type": "markdown",
   "metadata": {},
   "source": [
    "## Select proper data cube\n",
    "Data cubes on s3 bucket are stored under URL https://s3.central.data.destination-earth.eu/swift/v1/dedl_datacube.  \n",
    "Data cubes are stored in two directories:\n",
    "* ExtremeDT - the newest one\n",
    "* archive - from preicus days\n",
    "     \n",
    "<b>File nameing convention:</b>  \n",
    "dt_extreme_YYYYMMDD.zarr/  \n",
    "YYYYMMDD - is the date when forecast starts (step 0)  \n",
    "\n",
    "<b>Results</b>  \n",
    "After exectution of code below, the list of urls linked to available cubes will be printed."
   ]
  },
  {
   "cell_type": "code",
   "execution_count": 2,
   "metadata": {},
   "outputs": [
    {
     "name": "stdout",
     "output_type": "stream",
     "text": [
      "ExtremeDT/dt_extreme_20240404.zarr/\n",
      "New URL: https://s3.central.data.destination-earth.eu/swift/v1/dedl_datacube/ExtremeDT/dt_extreme_20240404.zarr/\n",
      "ExtremeDT/dt_extreme_20240405.zarr/\n",
      "New URL: https://s3.central.data.destination-earth.eu/swift/v1/dedl_datacube/ExtremeDT/dt_extreme_20240405.zarr/\n",
      "ExtremeDT/dt_extreme_20240406.zarr/\n",
      "New URL: https://s3.central.data.destination-earth.eu/swift/v1/dedl_datacube/ExtremeDT/dt_extreme_20240406.zarr/\n",
      "ExtremeDT/dt_extreme_20240407.zarr/\n",
      "New URL: https://s3.central.data.destination-earth.eu/swift/v1/dedl_datacube/ExtremeDT/dt_extreme_20240407.zarr/\n",
      "ExtremeDT/dt_extreme_20240408.zarr/\n",
      "New URL: https://s3.central.data.destination-earth.eu/swift/v1/dedl_datacube/ExtremeDT/dt_extreme_20240408.zarr/\n",
      "ExtremeDT/dt_extreme_20240410.zarr/\n",
      "New URL: https://s3.central.data.destination-earth.eu/swift/v1/dedl_datacube/ExtremeDT/dt_extreme_20240410.zarr/\n",
      "ExtremeDT/dt_extreme_20240411.zarr/\n",
      "New URL: https://s3.central.data.destination-earth.eu/swift/v1/dedl_datacube/ExtremeDT/dt_extreme_20240411.zarr/\n",
      "ExtremeDT/dt_extreme_20240412.zarr/\n",
      "New URL: https://s3.central.data.destination-earth.eu/swift/v1/dedl_datacube/ExtremeDT/dt_extreme_20240412.zarr/\n",
      "ExtremeDT/dt_extreme_20240413.zarr/\n",
      "New URL: https://s3.central.data.destination-earth.eu/swift/v1/dedl_datacube/ExtremeDT/dt_extreme_20240413.zarr/\n",
      "archive/dt_extreme_20240409.zarr/\n",
      "New URL: https://s3.central.data.destination-earth.eu/swift/v1/dedl_datacube/archive/dt_extreme_20240409.zarr/\n"
     ]
    }
   ],
   "source": [
    "# URL to s3 where  ExtremeDT data cubes are stored\n",
    "datacube_url = 'https://s3.central.data.destination-earth.eu/swift/v1/dedl_datacube'\n",
    "response = requests.get(datacube_url)\n",
    "\n",
    "if response.status_code == 200:\n",
    "    lines = response.text.splitlines()\n",
    "    zarr_items = [line for line in lines if line.endswith('.zarr') or line.endswith('.zarr/')]\n",
    "    if zarr_items:\n",
    "        for item in zarr_items:\n",
    "            print(item)\n",
    "            new_url = f\"{datacube_url}/{item}\"\n",
    "            print(\"New URL:\", new_url)\n",
    "    else:\n",
    "        print(\"No .zarr files or directories found.\")\n",
    "else:\n",
    "    print(\"Failed to fetch contents. Status code:\", response.status_code)"
   ]
  },
  {
   "cell_type": "code",
   "execution_count": 3,
   "metadata": {},
   "outputs": [],
   "source": [
    "url = 'https://s3.waw3-1.cloudferro.com/swift/v1/s5p_l3/ExtremeDT/dt_extreme_20240412.zarr/'"
   ]
  },
  {
   "cell_type": "markdown",
   "metadata": {},
   "source": [
    "### Area of interest\n",
    "Upload data for selected area and verify what variables are provided. In this case uplaod data for Kenya. List of available variables should be returend."
   ]
  },
  {
   "cell_type": "code",
   "execution_count": 22,
   "metadata": {},
   "outputs": [
    {
     "data": {
      "text/plain": [
       "['2d', '2t', 'sp']"
      ]
     },
     "execution_count": 22,
     "metadata": {},
     "output_type": "execute_result"
    }
   ],
   "source": [
    "kenya_bbox = [33.501,   # West\n",
    "              -4.677,   # South\n",
    "              41.899,   # East\n",
    "              5.193]    # North\n",
    "\n",
    "kenya_dt = xr.open_zarr(url).sel(lon=slice(kenya_bbox[0], \n",
    "                                            kenya_bbox[2]), \n",
    "                                lat=slice(kenya_bbox[3], \n",
    "                                            kenya_bbox[1]),\n",
    "                                                         )\n",
    "\n",
    "list(kenya_dt.keys())"
   ]
  },
  {
   "cell_type": "markdown",
   "metadata": {},
   "source": [
    "## Prepare Data for visualization"
   ]
  },
  {
   "cell_type": "markdown",
   "metadata": {},
   "source": [
    "### Convert units"
   ]
  },
  {
   "cell_type": "code",
   "execution_count": 6,
   "metadata": {},
   "outputs": [],
   "source": [
    "kenya_dt['2t'] -= 273.15    # Conversion to Celcius degrees\n",
    "kenya_dt['2d'] -= 273.15    # Conversion to Celcius degrees\n",
    "kenya_dt['sp'] /= 100       # Conversion to hectoPascals"
   ]
  },
  {
   "cell_type": "code",
   "execution_count": 7,
   "metadata": {},
   "outputs": [],
   "source": [
    "kenya_dt['2t'].attrs['units'] = '°C'\n",
    "kenya_dt['2d'].attrs['units'] = '°C'\n",
    "kenya_dt['sp'].attrs['units'] = 'hPa'"
   ]
  },
  {
   "cell_type": "markdown",
   "metadata": {},
   "source": [
    "## Define style of visualization"
   ]
  },
  {
   "cell_type": "markdown",
   "metadata": {},
   "source": [
    "Error message starting with:  \n",
    "***404 GET /viewer/config/config.json (127.0.0.1): xcube viewer has not been been configured\n",
    "404 GET /viewer/config/config.json (127.0.0.1) 2.14ms***  \n",
    "could occur.  \n",
    "It is normal and does not affect on proper functioning of xviewer."
   ]
  },
  {
   "cell_type": "code",
   "execution_count": 15,
   "metadata": {},
   "outputs": [
    {
     "name": "stderr",
     "output_type": "stream",
     "text": [
      "404 GET /viewer/config/config.json (127.0.0.1): xcube viewer has not been been configured\n",
      "404 GET /viewer/config/config.json (127.0.0.1) 2.14ms\n",
      "/home/patryk/miniconda3/envs/xcube_env/lib/python3.12/site-packages/xcube/core/schema.py:464: FutureWarning: The return type of `Dataset.dims` will be changed to return a set of dimension names in future, in order to be more consistent with `DataArray.dims`. To access a mapping from dimension names to lengths, please use `Dataset.sizes`.\n",
      "  dim_name: cube_chunks.get(dim_name, cube.dims[dim_name])\n",
      "/home/patryk/miniconda3/envs/xcube_env/lib/python3.12/site-packages/xcube/core/timecoord.py:248: FutureWarning: 'S' is deprecated and will be removed in a future version, please use 's' instead.\n",
      "  return getattr(timestamp, round_fn)(freq).isoformat() + 'Z'\n",
      "404 GET /favicon.ico (127.0.0.1) 0.52ms\n",
      "404 GET /viewer/config/config.json (127.0.0.1): xcube viewer has not been been configured\n",
      "404 GET /viewer/config/config.json (127.0.0.1) 1.51ms\n",
      "/home/patryk/miniconda3/envs/xcube_env/lib/python3.12/site-packages/xcube/core/timecoord.py:248: FutureWarning: 'S' is deprecated and will be removed in a future version, please use 's' instead.\n",
      "  return getattr(timestamp, round_fn)(freq).isoformat() + 'Z'\n",
      "Uncaught exception GET /tiles/ba3aaa64-1bdf-425d-8458-98b819c0e042/2d/7/64/77?crs=EPSG%3A3857&vmin=0&vmax=20&cbar=coolwarm&time=2024-04-15T23%3A00%3A00Z (127.0.0.1)\n",
      "HTTPServerRequest(protocol='http', host='localhost:8002', method='GET', uri='/tiles/ba3aaa64-1bdf-425d-8458-98b819c0e042/2d/7/64/77?crs=EPSG%3A3857&vmin=0&vmax=20&cbar=coolwarm&time=2024-04-15T23%3A00%3A00Z', version='HTTP/1.1', remote_ip='127.0.0.1')\n",
      "Traceback (most recent call last):\n",
      "  File \"/home/patryk/miniconda3/envs/xcube_env/lib/python3.12/site-packages/tornado/web.py\", line 1790, in _execute\n",
      "    result = await result\n",
      "             ^^^^^^^^^^^^\n",
      "  File \"/home/patryk/miniconda3/envs/xcube_env/lib/python3.12/site-packages/xcube/server/webservers/tornado.py\", line 354, in get\n",
      "    await self._call_method('get', *args, **kwargs)\n",
      "  File \"/home/patryk/miniconda3/envs/xcube_env/lib/python3.12/site-packages/xcube/server/webservers/tornado.py\", line 372, in _call_method\n",
      "    await method(*args, **kwargs)\n",
      "  File \"/home/patryk/miniconda3/envs/xcube_env/lib/python3.12/site-packages/xcube/webapi/tiles/routes.py\", line 139, in get\n",
      "    await super().get(datasetId, varName, z, y, x)\n",
      "  File \"/home/patryk/miniconda3/envs/xcube_env/lib/python3.12/site-packages/xcube/webapi/tiles/routes.py\", line 125, in get\n",
      "    await self.response.finish(tile)\n",
      "tornado.iostream.StreamClosedError: Stream is closed\n",
      "Uncaught exception GET /tiles/ba3aaa64-1bdf-425d-8458-98b819c0e042/2d/7/63/77?crs=EPSG%3A3857&vmin=0&vmax=20&cbar=coolwarm&time=2024-04-15T23%3A00%3A00Z (127.0.0.1)\n",
      "HTTPServerRequest(protocol='http', host='localhost:8002', method='GET', uri='/tiles/ba3aaa64-1bdf-425d-8458-98b819c0e042/2d/7/63/77?crs=EPSG%3A3857&vmin=0&vmax=20&cbar=coolwarm&time=2024-04-15T23%3A00%3A00Z', version='HTTP/1.1', remote_ip='127.0.0.1')\n",
      "Traceback (most recent call last):\n",
      "  File \"/home/patryk/miniconda3/envs/xcube_env/lib/python3.12/site-packages/tornado/web.py\", line 1790, in _execute\n",
      "    result = await result\n",
      "             ^^^^^^^^^^^^\n",
      "  File \"/home/patryk/miniconda3/envs/xcube_env/lib/python3.12/site-packages/xcube/server/webservers/tornado.py\", line 354, in get\n",
      "    await self._call_method('get', *args, **kwargs)\n",
      "  File \"/home/patryk/miniconda3/envs/xcube_env/lib/python3.12/site-packages/xcube/server/webservers/tornado.py\", line 372, in _call_method\n",
      "    await method(*args, **kwargs)\n",
      "  File \"/home/patryk/miniconda3/envs/xcube_env/lib/python3.12/site-packages/xcube/webapi/tiles/routes.py\", line 139, in get\n",
      "    await super().get(datasetId, varName, z, y, x)\n",
      "  File \"/home/patryk/miniconda3/envs/xcube_env/lib/python3.12/site-packages/xcube/webapi/tiles/routes.py\", line 125, in get\n",
      "    await self.response.finish(tile)\n",
      "tornado.iostream.StreamClosedError: Stream is closed\n",
      "Uncaught exception GET /tiles/ba3aaa64-1bdf-425d-8458-98b819c0e042/2d/7/64/76?crs=EPSG%3A3857&vmin=0&vmax=20&cbar=coolwarm&time=2024-04-15T23%3A00%3A00Z (127.0.0.1)\n",
      "HTTPServerRequest(protocol='http', host='localhost:8002', method='GET', uri='/tiles/ba3aaa64-1bdf-425d-8458-98b819c0e042/2d/7/64/76?crs=EPSG%3A3857&vmin=0&vmax=20&cbar=coolwarm&time=2024-04-15T23%3A00%3A00Z', version='HTTP/1.1', remote_ip='127.0.0.1')\n",
      "Traceback (most recent call last):\n",
      "  File \"/home/patryk/miniconda3/envs/xcube_env/lib/python3.12/site-packages/tornado/web.py\", line 1790, in _execute\n",
      "    result = await result\n",
      "             ^^^^^^^^^^^^\n",
      "  File \"/home/patryk/miniconda3/envs/xcube_env/lib/python3.12/site-packages/xcube/server/webservers/tornado.py\", line 354, in get\n",
      "    await self._call_method('get', *args, **kwargs)\n",
      "  File \"/home/patryk/miniconda3/envs/xcube_env/lib/python3.12/site-packages/xcube/server/webservers/tornado.py\", line 372, in _call_method\n",
      "    await method(*args, **kwargs)\n",
      "  File \"/home/patryk/miniconda3/envs/xcube_env/lib/python3.12/site-packages/xcube/webapi/tiles/routes.py\", line 139, in get\n",
      "    await super().get(datasetId, varName, z, y, x)\n",
      "  File \"/home/patryk/miniconda3/envs/xcube_env/lib/python3.12/site-packages/xcube/webapi/tiles/routes.py\", line 125, in get\n",
      "    await self.response.finish(tile)\n",
      "tornado.iostream.StreamClosedError: Stream is closed\n",
      "Uncaught exception GET /tiles/ba3aaa64-1bdf-425d-8458-98b819c0e042/2d/7/63/78?crs=EPSG%3A3857&vmin=0&vmax=20&cbar=coolwarm&time=2024-04-15T23%3A00%3A00Z (127.0.0.1)\n",
      "HTTPServerRequest(protocol='http', host='localhost:8002', method='GET', uri='/tiles/ba3aaa64-1bdf-425d-8458-98b819c0e042/2d/7/63/78?crs=EPSG%3A3857&vmin=0&vmax=20&cbar=coolwarm&time=2024-04-15T23%3A00%3A00Z', version='HTTP/1.1', remote_ip='127.0.0.1')\n",
      "Traceback (most recent call last):\n",
      "  File \"/home/patryk/miniconda3/envs/xcube_env/lib/python3.12/site-packages/tornado/web.py\", line 1790, in _execute\n",
      "    result = await result\n",
      "             ^^^^^^^^^^^^\n",
      "  File \"/home/patryk/miniconda3/envs/xcube_env/lib/python3.12/site-packages/xcube/server/webservers/tornado.py\", line 354, in get\n",
      "    await self._call_method('get', *args, **kwargs)\n",
      "  File \"/home/patryk/miniconda3/envs/xcube_env/lib/python3.12/site-packages/xcube/server/webservers/tornado.py\", line 372, in _call_method\n",
      "    await method(*args, **kwargs)\n",
      "  File \"/home/patryk/miniconda3/envs/xcube_env/lib/python3.12/site-packages/xcube/webapi/tiles/routes.py\", line 139, in get\n",
      "    await super().get(datasetId, varName, z, y, x)\n",
      "  File \"/home/patryk/miniconda3/envs/xcube_env/lib/python3.12/site-packages/xcube/webapi/tiles/routes.py\", line 125, in get\n",
      "    await self.response.finish(tile)\n",
      "tornado.iostream.StreamClosedError: Stream is closed\n",
      "Uncaught exception GET /tiles/ba3aaa64-1bdf-425d-8458-98b819c0e042/2d/7/64/78?crs=EPSG%3A3857&vmin=0&vmax=20&cbar=coolwarm&time=2024-04-15T23%3A00%3A00Z (127.0.0.1)\n",
      "HTTPServerRequest(protocol='http', host='localhost:8002', method='GET', uri='/tiles/ba3aaa64-1bdf-425d-8458-98b819c0e042/2d/7/64/78?crs=EPSG%3A3857&vmin=0&vmax=20&cbar=coolwarm&time=2024-04-15T23%3A00%3A00Z', version='HTTP/1.1', remote_ip='127.0.0.1')\n",
      "Traceback (most recent call last):\n",
      "  File \"/home/patryk/miniconda3/envs/xcube_env/lib/python3.12/site-packages/tornado/web.py\", line 1790, in _execute\n",
      "    result = await result\n",
      "             ^^^^^^^^^^^^\n",
      "  File \"/home/patryk/miniconda3/envs/xcube_env/lib/python3.12/site-packages/xcube/server/webservers/tornado.py\", line 354, in get\n",
      "    await self._call_method('get', *args, **kwargs)\n",
      "  File \"/home/patryk/miniconda3/envs/xcube_env/lib/python3.12/site-packages/xcube/server/webservers/tornado.py\", line 372, in _call_method\n",
      "    await method(*args, **kwargs)\n",
      "  File \"/home/patryk/miniconda3/envs/xcube_env/lib/python3.12/site-packages/xcube/webapi/tiles/routes.py\", line 139, in get\n",
      "    await super().get(datasetId, varName, z, y, x)\n",
      "  File \"/home/patryk/miniconda3/envs/xcube_env/lib/python3.12/site-packages/xcube/webapi/tiles/routes.py\", line 125, in get\n",
      "    await self.response.finish(tile)\n",
      "tornado.iostream.StreamClosedError: Stream is closed\n",
      "Uncaught exception GET /tiles/ba3aaa64-1bdf-425d-8458-98b819c0e042/2d/7/63/76?crs=EPSG%3A3857&vmin=0&vmax=20&cbar=coolwarm&time=2024-04-15T23%3A00%3A00Z (127.0.0.1)\n",
      "HTTPServerRequest(protocol='http', host='localhost:8002', method='GET', uri='/tiles/ba3aaa64-1bdf-425d-8458-98b819c0e042/2d/7/63/76?crs=EPSG%3A3857&vmin=0&vmax=20&cbar=coolwarm&time=2024-04-15T23%3A00%3A00Z', version='HTTP/1.1', remote_ip='127.0.0.1')\n",
      "Traceback (most recent call last):\n",
      "  File \"/home/patryk/miniconda3/envs/xcube_env/lib/python3.12/site-packages/tornado/web.py\", line 1790, in _execute\n",
      "    result = await result\n",
      "             ^^^^^^^^^^^^\n",
      "  File \"/home/patryk/miniconda3/envs/xcube_env/lib/python3.12/site-packages/xcube/server/webservers/tornado.py\", line 354, in get\n",
      "    await self._call_method('get', *args, **kwargs)\n",
      "  File \"/home/patryk/miniconda3/envs/xcube_env/lib/python3.12/site-packages/xcube/server/webservers/tornado.py\", line 372, in _call_method\n",
      "    await method(*args, **kwargs)\n",
      "  File \"/home/patryk/miniconda3/envs/xcube_env/lib/python3.12/site-packages/xcube/webapi/tiles/routes.py\", line 139, in get\n",
      "    await super().get(datasetId, varName, z, y, x)\n",
      "  File \"/home/patryk/miniconda3/envs/xcube_env/lib/python3.12/site-packages/xcube/webapi/tiles/routes.py\", line 125, in get\n",
      "    await self.response.finish(tile)\n",
      "tornado.iostream.StreamClosedError: Stream is closed\n",
      "Uncaught exception GET /tiles/ba3aaa64-1bdf-425d-8458-98b819c0e042/2d/7/65/75?crs=EPSG%3A3857&vmin=0&vmax=20&cbar=coolwarm&time=2024-04-15T23%3A00%3A00Z (127.0.0.1)\n",
      "HTTPServerRequest(protocol='http', host='localhost:8002', method='GET', uri='/tiles/ba3aaa64-1bdf-425d-8458-98b819c0e042/2d/7/65/75?crs=EPSG%3A3857&vmin=0&vmax=20&cbar=coolwarm&time=2024-04-15T23%3A00%3A00Z', version='HTTP/1.1', remote_ip='127.0.0.1')\n",
      "Traceback (most recent call last):\n",
      "  File \"/home/patryk/miniconda3/envs/xcube_env/lib/python3.12/site-packages/tornado/web.py\", line 1790, in _execute\n",
      "    result = await result\n",
      "             ^^^^^^^^^^^^\n",
      "  File \"/home/patryk/miniconda3/envs/xcube_env/lib/python3.12/site-packages/xcube/server/webservers/tornado.py\", line 354, in get\n",
      "    await self._call_method('get', *args, **kwargs)\n",
      "  File \"/home/patryk/miniconda3/envs/xcube_env/lib/python3.12/site-packages/xcube/server/webservers/tornado.py\", line 372, in _call_method\n",
      "    await method(*args, **kwargs)\n",
      "  File \"/home/patryk/miniconda3/envs/xcube_env/lib/python3.12/site-packages/xcube/webapi/tiles/routes.py\", line 139, in get\n",
      "    await super().get(datasetId, varName, z, y, x)\n",
      "  File \"/home/patryk/miniconda3/envs/xcube_env/lib/python3.12/site-packages/xcube/webapi/tiles/routes.py\", line 125, in get\n",
      "    await self.response.finish(tile)\n",
      "tornado.iostream.StreamClosedError: Stream is closed\n",
      "Uncaught exception GET /tiles/ba3aaa64-1bdf-425d-8458-98b819c0e042/2d/7/62/75?crs=EPSG%3A3857&vmin=0&vmax=20&cbar=coolwarm&time=2024-04-15T23%3A00%3A00Z (127.0.0.1)\n",
      "HTTPServerRequest(protocol='http', host='localhost:8002', method='GET', uri='/tiles/ba3aaa64-1bdf-425d-8458-98b819c0e042/2d/7/62/75?crs=EPSG%3A3857&vmin=0&vmax=20&cbar=coolwarm&time=2024-04-15T23%3A00%3A00Z', version='HTTP/1.1', remote_ip='127.0.0.1')\n",
      "Traceback (most recent call last):\n",
      "  File \"/home/patryk/miniconda3/envs/xcube_env/lib/python3.12/site-packages/tornado/web.py\", line 1790, in _execute\n",
      "    result = await result\n",
      "             ^^^^^^^^^^^^\n",
      "  File \"/home/patryk/miniconda3/envs/xcube_env/lib/python3.12/site-packages/xcube/server/webservers/tornado.py\", line 354, in get\n",
      "    await self._call_method('get', *args, **kwargs)\n",
      "  File \"/home/patryk/miniconda3/envs/xcube_env/lib/python3.12/site-packages/xcube/server/webservers/tornado.py\", line 372, in _call_method\n",
      "    await method(*args, **kwargs)\n",
      "  File \"/home/patryk/miniconda3/envs/xcube_env/lib/python3.12/site-packages/xcube/webapi/tiles/routes.py\", line 139, in get\n",
      "    await super().get(datasetId, varName, z, y, x)\n",
      "  File \"/home/patryk/miniconda3/envs/xcube_env/lib/python3.12/site-packages/xcube/webapi/tiles/routes.py\", line 125, in get\n",
      "    await self.response.finish(tile)\n",
      "tornado.iostream.StreamClosedError: Stream is closed\n",
      "Uncaught exception POST /timeseries/ba3aaa64-1bdf-425d-8458-98b819c0e042/2d?aggMethods=mean%2Cstd&startDate=2024-04-12T00%3A00%3A00Z&endDate=2024-04-15T23%3A00%3A00Z (127.0.0.1)\n",
      "HTTPServerRequest(protocol='http', host='localhost:8002', method='POST', uri='/timeseries/ba3aaa64-1bdf-425d-8458-98b819c0e042/2d?aggMethods=mean%2Cstd&startDate=2024-04-12T00%3A00%3A00Z&endDate=2024-04-15T23%3A00%3A00Z', version='HTTP/1.1', remote_ip='127.0.0.1')\n",
      "Traceback (most recent call last):\n",
      "  File \"/home/patryk/miniconda3/envs/xcube_env/lib/python3.12/site-packages/tornado/web.py\", line 1790, in _execute\n",
      "    result = await result\n",
      "             ^^^^^^^^^^^^\n",
      "  File \"/home/patryk/miniconda3/envs/xcube_env/lib/python3.12/site-packages/xcube/server/webservers/tornado.py\", line 357, in post\n",
      "    await self._call_method('post', *args, **kwargs)\n",
      "  File \"/home/patryk/miniconda3/envs/xcube_env/lib/python3.12/site-packages/xcube/server/webservers/tornado.py\", line 372, in _call_method\n",
      "    await method(*args, **kwargs)\n",
      "  File \"/home/patryk/miniconda3/envs/xcube_env/lib/python3.12/site-packages/xcube/webapi/timeseries/routes.py\", line 122, in post\n",
      "    await self.response.finish(dict(result=result))\n",
      "tornado.iostream.StreamClosedError: Stream is closed\n"
     ]
    }
   ],
   "source": [
    "viewer = Viewer(server_config={\n",
    "    \"Styles\": [\n",
    "        {\n",
    "            \"Identifier\": \"dt_legend\",          # Style's name\n",
    "            \"ColorMappings\": {\n",
    "                \"2t\": {                         # Variable's name\n",
    "                    \"ValueRange\": [10, 30],     # Variable's values range\n",
    "                    \"ColorBar\": \"coolwarm\"      # colorbar\n",
    "                },\n",
    "                \"2d\": {                         # Variable's name\n",
    "                    \"ValueRange\": [0, 20],\n",
    "                    \"ColorBar\": \"coolwarm\",\n",
    "                },\n",
    "                'sp': {                         # Variable's name\n",
    "                    \"ValueRange\": [0, 1000],    # Variable's values range\n",
    "                    \"ColorBar\": \"viridis\"       # colorbar\n",
    "                },\n",
    "            }\n",
    "        },\n",
    "    ]\n",
    "})"
   ]
  },
  {
   "cell_type": "markdown",
   "metadata": {},
   "source": [
    "### Add style to the data cube"
   ]
  },
  {
   "cell_type": "code",
   "execution_count": 16,
   "metadata": {},
   "outputs": [
    {
     "data": {
      "text/plain": [
       "'ba3aaa64-1bdf-425d-8458-98b819c0e042'"
      ]
     },
     "execution_count": 16,
     "metadata": {},
     "output_type": "execute_result"
    }
   ],
   "source": [
    "viewer.add_dataset(kenya_dt, \n",
    "                   style=\"dt_legend\")"
   ]
  },
  {
   "cell_type": "markdown",
   "metadata": {},
   "source": [
    "## Run the dashboard"
   ]
  },
  {
   "cell_type": "code",
   "execution_count": 23,
   "metadata": {},
   "outputs": [
    {
     "name": "stdout",
     "output_type": "stream",
     "text": [
      "Server: http://localhost:8002\n",
      "Viewer: http://localhost:8002/viewer/?serverUrl=http://localhost:8002\n"
     ]
    }
   ],
   "source": [
    "viewer.info()       # open dashboard in separate tab in browser\n",
    "#viewer.show()      # open dashboard in current Jupyter Notebook"
   ]
  },
  {
   "cell_type": "code",
   "execution_count": null,
   "metadata": {},
   "outputs": [],
   "source": []
  }
 ],
 "metadata": {
  "kernelspec": {
   "display_name": "xcube_env",
   "language": "python",
   "name": "python3"
  },
  "language_info": {
   "codemirror_mode": {
    "name": "ipython",
    "version": 3
   },
   "file_extension": ".py",
   "mimetype": "text/x-python",
   "name": "python",
   "nbconvert_exporter": "python",
   "pygments_lexer": "ipython3",
   "version": "3.12.2"
  }
 },
 "nbformat": 4,
 "nbformat_minor": 2
}
