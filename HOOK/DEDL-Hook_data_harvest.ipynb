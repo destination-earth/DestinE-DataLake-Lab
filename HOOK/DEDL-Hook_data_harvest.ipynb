{
 "cells": [
  {
   "cell_type": "markdown",
   "metadata": {
    "tags": []
   },
   "source": [
    "![](https://github.com/destination-earth/DestinE-DataLake-Lab/blob/main/img/DestinE-banner.jpg?raw=true)"
   ]
  },
  {
   "cell_type": "markdown",
   "id": "b9ba4828-d4d0-49ea-bcb3-67e3dca72ccc",
   "metadata": {
    "tags": []
   },
   "source": [
    "## Hook - Perform data harvesting"
   ]
  },
  {
   "cell_type": "markdown",
   "id": "28f89850-e502-40dc-9d5a-0665825339be",
   "metadata": {
    "slideshow": {
     "slide_type": "skip"
    },
    "tags": []
   },
   "source": [
    "The first step is to import the dependencies that allow the script to run"
   ]
  },
  {
   "cell_type": "code",
   "execution_count": null,
   "id": "612f5672-a519-4f62-acae-80a5251fd129",
   "metadata": {
    "tags": []
   },
   "outputs": [],
   "source": [
    "import json\n",
    "from io import BytesIO\n",
    "from urllib.parse import urlencode\n",
    "import getpass\n",
    "import pycurl\n",
    "import requests\n",
    "from IPython.display import JSON"
   ]
  },
  {
   "cell_type": "markdown",
   "id": "fc287d14-ee57-4b92-8cac-44e9175d7d2c",
   "metadata": {},
   "source": [
    "The following implement methods retrieve the token required to run the workflow"
   ]
  },
  {
   "cell_type": "code",
   "execution_count": null,
   "id": "13fdb179-5379-477e-881f-5de0c8fa18b4",
   "metadata": {
    "tags": []
   },
   "outputs": [],
   "source": [
    "import requests\n",
    "from lxml import html\n",
    "from urllib.parse import parse_qs, urlparse\n",
    "\n",
    "IAM_URL = \"https://auth.destine.eu/\"\n",
    "CLIENT_ID = \"dedl-hook\"\n",
    "REALM = \"desp\"\n",
    "SERVICE_URL = \"https://odp.data.destination-earth.eu/odata/v1/\"\n",
    "TEST_RUN_ID = \"004\"\n",
    "\n",
    "\n",
    "class DESPAuth:\n",
    "    def __init__(self, username, password):\n",
    "        self.username = username\n",
    "        self.password = password\n",
    "\n",
    "    def get_token(self):\n",
    "        with requests.Session() as s:\n",
    "\n",
    "            # Get the auth url\n",
    "            auth_url = html.fromstring(s.get(url=IAM_URL + \"/realms/\" + REALM + \"/protocol/openid-connect/auth\",\n",
    "                                     params = {\n",
    "                                            \"client_id\": CLIENT_ID,\n",
    "                                            \"redirect_uri\": SERVICE_URL,\n",
    "                                            \"scope\": \"openid\",\n",
    "                                            \"response_type\": \"code\"\n",
    "                                     }\n",
    "                                       ).content.decode()).forms[0].action\n",
    "            \n",
    "            # Login and get auth code\n",
    "            login = s.post(auth_url,\n",
    "                            data = {\n",
    "                                \"username\" : self.username,\n",
    "                                \"password\" : self.password,\n",
    "                            },\n",
    "                            allow_redirects=False\n",
    "            )\n",
    "\n",
    "\n",
    "            # We expect a 302, a 200 means we got sent back to the login page and there's probably an error message\n",
    "            if login.status_code == 200:\n",
    "                tree = html.fromstring(login.content)\n",
    "                error_message_element = tree.xpath('//span[@id=\"input-error\"]/text()')\n",
    "                error_message = error_message_element[0].strip() if error_message_element else 'Error message not found'\n",
    "                raise Exception(error_message)\n",
    "\n",
    "            if login.status_code != 302:\n",
    "                raise Exception(\"Login failed\")\n",
    "            \n",
    "\n",
    "            auth_code = parse_qs(urlparse(login.headers[\"Location\"]).query)['code'][0]\n",
    "\n",
    "            # Use the auth code to get the token\n",
    "            response = requests.post(IAM_URL + \"/realms/\" + REALM + \"/protocol/openid-connect/token\",\n",
    "                    data = {\n",
    "                        \"client_id\" : CLIENT_ID,\n",
    "                        \"redirect_uri\" : SERVICE_URL,\n",
    "                        \"code\" : auth_code,\n",
    "                        \"grant_type\" : \"authorization_code\",\n",
    "                        \"scope\" : \"\"\n",
    "                    }\n",
    "                )\n",
    "            \n",
    "            if response.status_code != 200:\n",
    "                raise Exception(\"Failed to get token\")\n",
    "\n",
    "            token = response.json()['access_token']\n",
    "        \n",
    "\n",
    "            return token\n",
    "\n",
    "class DEDLAuth:\n",
    "    def __init__(self, desp_access_token):\n",
    "        self.desp_access_token = desp_access_token\n",
    "\n",
    "    def get_token(self):\n",
    "        DEDL_TOKEN_URL='https://identity.data.destination-earth.eu/auth/realms/dedl/protocol/openid-connect/token'\n",
    "        DEDL_CLIENT_ID='hda-public'\n",
    "        AUDIENCE='hda-public'\n",
    "        \n",
    "        data = { \n",
    "            \"grant_type\": \"urn:ietf:params:oauth:grant-type:token-exchange\", \n",
    "            \"subject_token\": self.desp_access_token,\n",
    "            \"subject_issuer\": \"desp-oidc\",\n",
    "            \"subject_token_type\": \"urn:ietf:params:oauth:token-type:access_token\",\n",
    "            \"client_id\": DEDL_CLIENT_ID,\n",
    "            \"audience\": AUDIENCE\n",
    "        }\n",
    "\n",
    "        response = requests.post(DEDL_TOKEN_URL, data=data)\n",
    "        \n",
    "        print(\"Response code:\", response.status_code)\n",
    "\n",
    "        if response.status_code == 200: \n",
    "            dedl_token = response.json()[\"access_token\"]\n",
    "            return dedl_token\n",
    "        else: \n",
    "            print(response.json())\n",
    "            print(\"Error obtaining DEDL access token\")\n",
    "            \n",
    "class AuthHandler:\n",
    "    def __init__(self, username, password):\n",
    "        self.username = username\n",
    "        self.password = password\n",
    "        self.desp_access_token = None\n",
    "        self.dedl_access_token = None\n",
    "    \n",
    "    def get_token(self):\n",
    "        # Get DESP auth token\n",
    "        desp_auth = DESPAuth(self.username, self.password)\n",
    "        self.desp_access_token = desp_auth.get_token()\n",
    "        \n",
    "        # Get DEDL auth token\n",
    "        dedl_auth = DEDLAuth(self.desp_access_token)\n",
    "        self.dedl_access_token = dedl_auth.get_token()\n",
    "        \n",
    "        return self.dedl_access_token"
   ]
  },
  {
   "cell_type": "markdown",
   "id": "8762087e-4a9b-4f61-afe2-3d1e6e3490e4",
   "metadata": {},
   "source": [
    "Users must provide their credentials to the DESP platform to retrieve an access token"
   ]
  },
  {
   "cell_type": "code",
   "execution_count": null,
   "id": "b9596950-40e5-476a-aafe-4d681bcef2eb",
   "metadata": {},
   "outputs": [],
   "source": [
    "print('Provide credentials for the DESP')\n",
    "desp_username = input('DESP Username: ')\n",
    "desp_password = getpass.getpass(prompt='DESP Password: ', stream=None) \n",
    "\n",
    "token = AuthHandler(desp_username, desp_password)          \n",
    "access_token = token.get_token()\n",
    "api_headers = {'Authorization': 'Bearer ' + access_token}"
   ]
  },
  {
   "cell_type": "markdown",
   "id": "5ce305d5-96f0-4356-ac58-8c5a10562d48",
   "metadata": {},
   "source": [
    "We can review an accepted parameters for workflows "
   ]
  },
  {
   "cell_type": "code",
   "execution_count": null,
   "id": "6a14c040-f495-4063-8b4f-482061a8557e",
   "metadata": {
    "tags": []
   },
   "outputs": [],
   "source": [
    "workflow_options_url = SERVICE_URL + \"Workflows?$filter=Name+eq+\\'data-harvest\\'&$expand=WorkflowOptions\"\n",
    "result = requests.get(workflow_options_url, headers=api_headers).json()\n",
    "available_workflows = json.dumps(result,indent=2)\n",
    "JSON(result)"
   ]
  },
  {
   "cell_type": "markdown",
   "id": "54396740-d53e-4df1-9523-93fc0560bab1",
   "metadata": {
    "tags": []
   },
   "source": [
    "Prepare Worflow Options for data-harvest workflow"
   ]
  },
  {
   "cell_type": "code",
   "execution_count": null,
   "id": "1e00cebb-159d-4867-a8aa-9fdabb3c6d79",
   "metadata": {},
   "outputs": [],
   "source": [
    "workflow = \"data-harvest\"\n",
    "identifier_list = [\"S2A_MSIL2A_20240501T095031_N0510_R079_T33UXT_20240501T135852.SAFE\"]\n",
    "order_body_custom_bucket = {\n",
    "        \"Name\": \"DEDL - Hook introduction support \" + workflow + \" - \" + TEST_RUN_ID,\n",
    "        \"WorkflowName\": workflow,\n",
    "        \"IdentifierList\": identifier_list,\n",
    "        \"WorkflowOptions\":[\n",
    "            {\"Name\": \"output_storage\", \"Value\": \"TEMPORARY\"},\n",
    "            {\"Name\": \"source_type\", \"Value\": \"DESP\"},\n",
    "            {\"Name\": \"desp_source_collection\", \"Value\": \"EO.ESA.DAT.SENTINEL-2.MSI.L2A\"},\n",
    "            {\"Name\": \"desp_source_username\", \"Value\": desp_username},\n",
    "            {\"Name\": \"desp_source_password\", \"Value\": desp_password},\n",
    "            \n",
    "        ]\n",
    "    }"
   ]
  },
  {
   "cell_type": "markdown",
   "id": "63c18444-19d4-4828-ae00-0fcde3804ea3",
   "metadata": {},
   "source": [
    "Make a request to run the workflow with the parameters just set"
   ]
  },
  {
   "cell_type": "code",
   "execution_count": null,
   "id": "97cd691e-8f0a-49ad-a1d8-cb024d18cfdd",
   "metadata": {
    "tags": []
   },
   "outputs": [],
   "source": [
    "request = requests.post(\n",
    "    SERVICE_URL + \"BatchOrder/OData.CSC.Order\",\n",
    "    json.dumps(order_body_custom_bucket),\n",
    "    headers=api_headers\n",
    ")\n",
    "resp = request.json()\n",
    "print(request.status_code)\n",
    "order_id = resp['value']['Id']\n",
    "JSON(resp, indent=2)"
   ]
  },
  {
   "cell_type": "markdown",
   "id": "82acb800-48b7-44a9-8e09-4fb682d5156c",
   "metadata": {
    "tags": []
   },
   "source": [
    "Review information about the products processed in the order"
   ]
  },
  {
   "cell_type": "code",
   "execution_count": null,
   "id": "7c01f537-086f-4989-9b19-895bf0040d3b",
   "metadata": {},
   "outputs": [],
   "source": [
    "batch_order_items = requests.get(SERVICE_URL + 'BatchOrder(' + str(order_id) + ')/Products', headers=api_headers).json()\n",
    "JSON(batch_order_items, indent=2)"
   ]
  },
  {
   "cell_type": "markdown",
   "id": "6ae32f10-5c80-4e94-a75d-ff2cda9648e6",
   "metadata": {},
   "source": [
    "Review processed product status"
   ]
  },
  {
   "cell_type": "code",
   "execution_count": null,
   "id": "44709232-ab4f-42ec-bba3-f34dc4d3b3e3",
   "metadata": {
    "tags": []
   },
   "outputs": [],
   "source": [
    "batch_order_items['value'][0]['Status']"
   ]
  },
  {
   "cell_type": "markdown",
   "id": "fe526d40-fc83-4793-971f-834b51229fb6",
   "metadata": {},
   "source": [
    "Review processed product DownloadLink"
   ]
  },
  {
   "cell_type": "code",
   "execution_count": null,
   "id": "ac56cab9-e074-469f-8748-76809e5f16c6",
   "metadata": {
    "tags": []
   },
   "outputs": [],
   "source": [
    "batch_order_items['value'][0]['DownloadLink']"
   ]
  }
 ],
 "metadata": {
  "kernelspec": {
   "display_name": "Python 3 (ipykernel)",
   "language": "python",
   "name": "python3"
  },
  "language_info": {
   "codemirror_mode": {
    "name": "ipython",
    "version": 3
   },
   "file_extension": ".py",
   "mimetype": "text/x-python",
   "name": "python",
   "nbconvert_exporter": "python",
   "pygments_lexer": "ipython3",
   "version": "3.10.11"
  }
 },
 "nbformat": 4,
 "nbformat_minor": 5
}
