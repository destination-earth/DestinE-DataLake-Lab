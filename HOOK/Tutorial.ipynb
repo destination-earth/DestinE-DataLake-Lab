{
 "cells": [
  {
   "cell_type": "markdown",
   "metadata": {},
   "source": [
    "---\n",
    "title: \"Hook Tutorial - Data Harvest\"\n",
    "subtitle: \"This notebook demonstrates how to use the Hook service.\"\n",
    "author: \"Author: Eumetsat\"\n",
    "tags: [Hook, Authentication, Workflow, Storage]\n",
    "thumbnail: ../../img/EUMETSAT-icon.png\n",
    "license: MIT\n",
    "copyright: \"© 2024 EUMETSAT\"\n",
    "---\n",
    "<div style=\"margin: 6px 0;\">\n",
    "  <a href=\"https://jupyter.central.data.destination-earth.eu/user-redirect/lab/tree/DestinE-DataLake-Lab/HOOK/Tutorial.ipynb\" target=\"_blank\" style=\"text-decoration: none;\">\n",
    "    <span class=\"launch\">🚀 Launch in JupyterHub</span>\n",
    "  </a>\n",
    "</div>\n"
   ]
  },
  {
   "cell_type": "markdown",
   "metadata": {
    "tags": []
   },
   "source": [
    "The detailed API and definition of each endpoint and parameters is available in the **OnDemand Processing API OData v1**  OpenAPI documentation found at:\n",
    "https://odp.data.destination-earth.eu/odata/docs\n",
    "\n",
    "Further documentation is available at:\n",
    "    https://destine-data-lake-docs.data.destination-earth.eu/en/latest/dedl-big-data-processing-services/Hook-service/Hook-service.html"
   ]
  },
  {
   "cell_type": "markdown",
   "metadata": {},
   "source": [
    "## Install python package requirements and import environment variables "
   ]
  },
  {
   "cell_type": "code",
   "execution_count": null,
   "metadata": {
    "tags": []
   },
   "outputs": [],
   "source": [
    "# Note: The destinelab python package (which helps with authentication) is available already if you are using Python DEDL kernel\n",
    "# Otherwise, the destinelab python package can be installed by uncommenting the following line\n",
    "\n",
    "# For the importing of environment variables using the load_dotenv(...) command \n",
    "%pip install python-dotenv\n",
    "# for example code navigating private S3 compatible storage (PRIVATE bucket storage)\n",
    "%pip install boto3\n"
   ]
  },
  {
   "cell_type": "code",
   "execution_count": null,
   "metadata": {
    "id": "oyJN4WaVsz2S",
    "tags": []
   },
   "outputs": [],
   "source": [
    "import os\n",
    "import json\n",
    "import requests\n",
    "from dotenv import load_dotenv\n",
    "from getpass import getpass\n",
    "import destinelab as destinelab\n",
    "\n",
    "# Load (optional) notebook specific environment variables from .env_tutorial\n",
    "load_dotenv(\"./.env_tutorial\", override=True)"
   ]
  },
  {
   "cell_type": "markdown",
   "metadata": {},
   "source": [
    "## Authentification - Get token"
   ]
  },
  {
   "cell_type": "code",
   "execution_count": null,
   "metadata": {
    "tags": []
   },
   "outputs": [],
   "source": [
    "# By default users should use their DESP credentials to get an Access_token\n",
    "# This token is added as an Authorisation Header when interacting with the Hook Service API\n",
    "\n",
    "# Enter DESP credentials.\n",
    "DESP_USERNAME = input(\"Please input your DESP username or email: \")\n",
    "DESP_PASSWORD = getpass(\"Please input your DESP password: \")\n",
    "token = destinelab.AuthHandler(DESP_USERNAME, DESP_PASSWORD)\n",
    "\n",
    "access_token = token.get_token()\n",
    "\n",
    "# Check the status of the request\n",
    "if access_token is not None:\n",
    "    print(\"DEDL/DESP Access Token Obtained Successfully\")\n",
    "    # Save API headers\n",
    "    api_headers = {\"Authorization\": \"Bearer \" + access_token}\n",
    "else:\n",
    "    print(\"Failed to Obtain DEDL/DESP Access Token\")"
   ]
  },
  {
   "cell_type": "markdown",
   "metadata": {},
   "source": [
    "## Setup static variables"
   ]
  },
  {
   "cell_type": "code",
   "execution_count": 4,
   "metadata": {
    "tags": []
   },
   "outputs": [],
   "source": [
    "# Hook service url (ending with odata/v1/ - e.g. https://odp.data.destination-earth.eu/odata/v1/)\n",
    "hook_service_root_url = \"https://odp.data.destination-earth.eu/odata/v1/\""
   ]
  },
  {
   "cell_type": "markdown",
   "metadata": {
    "id": "OlvgrvV3sz2Y"
   },
   "source": [
    "## List available workflows\n",
    "\n",
    "Next we can check what possible workflows are available to us by using method   \n",
    "```https://odp.data.destination-earth.eu/odata/v1/Workflows```"
   ]
  },
  {
   "cell_type": "code",
   "execution_count": null,
   "metadata": {
    "id": "gSxYUs_0sz2Z",
    "tags": []
   },
   "outputs": [],
   "source": [
    "# Send request and return json object listing all provided workfows, ordered by Id\n",
    "result = requests.get(\n",
    "    f\"{hook_service_root_url}Workflows?$orderby=Id asc\", headers=api_headers   \n",
    ").json()\n",
    "\n",
    "print(\"List of available DEDL provided Hooks\")\n",
    "for i in range(len(result[\"value\"])):\n",
    "    print(\n",
    "        f\"Name:{str(result['value'][i]['Name']).ljust(20, ' ')}DisplayName:{str(result['value'][i]['DisplayName'])}\"\n",
    "    )  # print JSON string"
   ]
  },
  {
   "cell_type": "code",
   "execution_count": null,
   "metadata": {
    "tags": []
   },
   "outputs": [],
   "source": [
    "# Print result JSON object: containing provided workflow list\n",
    "workflow_details = json.dumps(result, indent=4)\n",
    "print(workflow_details)"
   ]
  },
  {
   "cell_type": "markdown",
   "metadata": {
    "tags": []
   },
   "source": [
    "## Select a workflow and see parameters"
   ]
  },
  {
   "cell_type": "markdown",
   "metadata": {
    "id": "jNSqMuRCsz2Z"
   },
   "source": [
    "If we want to see the details of a specific workflow, showing us the parameters that can be set for that workflow, we can add a filter to the query as follows:\n",
    "\n",
    "```https://odp.data.destination-earth.eu/odata/v1/Workflows?$expand=WorkflowOptions&$filter=(Name eq data-harvest)```   \n",
    "\n",
    "**\\\\$expand=WorkflowOptions** shows all parameters accepted by workflow   \n",
    "**\\\\$filter=(Name eq data-harvest)** narrows the result to workflow called \"data-harvest\""
   ]
  },
  {
   "cell_type": "code",
   "execution_count": null,
   "metadata": {
    "id": "UEvKzPclsz2b",
    "tags": []
   },
   "outputs": [],
   "source": [
    "# Select workflow : defaults to data-harvest\n",
    "workflow = os.getenv(\"HOOK_WORKFLOW\", \"data-harvest\")\n",
    "print(f\"workflow: {workflow}\")\n",
    "\n",
    "# Send request\n",
    "result = requests.get(\n",
    "    f\"{hook_service_root_url}Workflows?$expand=WorkflowOptions&$filter=(Name eq '{workflow}')\",\n",
    "    headers=api_headers,\n",
    ").json()\n",
    "workflow_details = json.dumps(result, indent=4)\n",
    "print(workflow_details)  # print formatted workflow_details, a JSON string"
   ]
  },
  {
   "cell_type": "markdown",
   "metadata": {},
   "source": [
    "## Order selected workflow"
   ]
  },
  {
   "cell_type": "markdown",
   "metadata": {},
   "source": [
    "The order selected above will now be configured and executed.\n",
    "\n",
    "e.g. workflow = \"data-harvest\". \n",
    "\n",
    "- Make an order to 'harvest data' using Harmonised Data Access API. \n",
    "- i.e. data from an input source can be transferred to a Private bucket or a Temporary storage bucket."
   ]
  },
  {
   "cell_type": "markdown",
   "metadata": {
    "tags": []
   },
   "source": [
    "### Name your order"
   ]
  },
  {
   "cell_type": "code",
   "execution_count": null,
   "metadata": {
    "tags": []
   },
   "outputs": [],
   "source": [
    "# Here we set the variable order_name, this will allow us to:\n",
    "# Easily identify the running process (e.g. when checking the status)\n",
    "# order_name is added as a suffix to the order 'Name'\n",
    "order_name = os.getenv(\"HOOK_ORDER_NAME\") or input(\"Name your order: \")\n",
    "print(f\"order_name:{order_name}\")"
   ]
  },
  {
   "cell_type": "markdown",
   "metadata": {},
   "source": [
    "### Define output storage"
   ]
  },
  {
   "cell_type": "markdown",
   "metadata": {},
   "source": [
    "In workflow parameters, among others values, storage to retreive the result has to be provided.  \n",
    "**Two possibilites:**\n",
    "1. Use your user storage \n",
    "2. Use a temporary storage "
   ]
  },
  {
   "cell_type": "markdown",
   "metadata": {
    "tags": []
   },
   "source": [
    "#### 1. - Your user storage (provided by DEDL ISLET service)"
   ]
  },
  {
   "cell_type": "markdown",
   "metadata": {},
   "source": [
    "Example using a S3 bucket created with ISLET Storage service  - result will be available in this bucket\n",
    "> *workflow parameter: {\"Name\": \"output_storage\", \"Value\": \"PRIVATE\"}*"
   ]
  },
  {
   "cell_type": "code",
   "execution_count": null,
   "metadata": {
    "tags": []
   },
   "outputs": [],
   "source": [
    "# Output storage - Islet service\n",
    "\n",
    "# Note: If you want the output to go to your own PRIVATE bucket rather than TEMPORARY storage (expires after 2 weeks),\n",
    "#       i) This Configuration will need to be updated with your output_bucket, output_storage_access_key, output_secret_key, output_prefix\n",
    "#       ii) You will need to change the output_storage in the order to PRIVATE and add the necessary source_ parameters (see workflow options and commented example)\n",
    "\n",
    "# URL of the S3 endpoint in the Central Site (or lumi etc.)\n",
    "output_storage_url = \"https://s3.central.data.destination-earth.eu\"\n",
    "# output_storage_url = \"https://s3.lumi.data.destination-earth.eu\"\n",
    "\n",
    "# Name of the object storage bucket where the results will be stored.\n",
    "output_bucket = os.getenv(\"HOOK_OUTPUT_BUCKET\", \"your-bucket-name\")\n",
    "print(f\"output_bucket            : {output_bucket}\")\n",
    "\n",
    "# Islet object storage credentials (openstack ec2 credentials)\n",
    "output_storage_access_key = os.getenv(\"HOOK_OUTPUT_STORAGE_ACCESS_KEY\", \"your-access-key\")\n",
    "output_storage_secret_key = os.getenv(\"HOOK_OUTPUT_STORAGE_SECRET_KEY\", \"your-secret-key\")\n",
    "print(f\"output_storage_access_key: {output_storage_access_key}\")\n",
    "print(f\"output_storage_secret_key: {output_storage_secret_key}\")\n",
    "\n",
    "\n",
    "# This is the name of the folder in your output_bucket where the output of the hook will be stored.\n",
    "# Here we concatenate 'dedl' with the 'workflow' and 'order_name'\n",
    "output_prefix = f\"dedl-{workflow}-{order_name}\"\n",
    "print(f\"output_prefix            : {output_prefix}\")"
   ]
  },
  {
   "cell_type": "markdown",
   "metadata": {},
   "source": [
    "#### 2 - Use temporary storage"
   ]
  },
  {
   "cell_type": "markdown",
   "metadata": {},
   "source": [
    "The result of processing will be stored in shared storage and download link provided in the output product details\n",
    "> *workflow parameter: {\"Name\": \"output_storage\", \"Value\": \"TEMPORARY\"}*"
   ]
  },
  {
   "cell_type": "markdown",
   "metadata": {},
   "source": [
    "### Define parameters and send order"
   ]
  },
  {
   "cell_type": "code",
   "execution_count": null,
   "metadata": {
    "tags": []
   },
   "outputs": [],
   "source": [
    "# URL of the STAC server where your collection/item can be downloaded\n",
    "stac_hda_api_url = \"https://hda.data.destination-earth.eu/stac\"\n",
    "\n",
    "# Note: The data (collection_id and data_id) will have been previously discovered and searched for\n",
    "\n",
    "# Set collection where the item can be found : defaults to example for data-harvest\n",
    "collection_id = os.getenv(\"HOOK_COLLECTION_ID\", \"EO.ESA.DAT.SENTINEL-2.MSI.L1C\")\n",
    "print(f\"STAC collection url: {stac_hda_api_url}/collections/{collection_id}\")\n",
    "\n",
    "# Set the Item to Retrieve : defaults to example for data-harvest. If Multiple Values, provide comma separated list\n",
    "data_id = os.getenv(\"HOOK_DATA_ID\", \"S2A_MSIL1C_20230910T050701_N0509_R019_T47VLH_20230910T074321.SAFE\")\n",
    "print(f\"data_id: {data_id}\")\n",
    "identifier_list = [data_id_element.strip() for data_id_element in data_id.split(',')]\n",
    "\n",
    "# Get boolean value from String, default (False)\n",
    "is_private_storage = os.getenv(\"HOOK_IS_PRIVATE_STORAGE\", \"False\") == \"True\"\n",
    "print(f\"is_private_storage: {is_private_storage}\")\n",
    "\n",
    "# we use source_type to add DESP or EXTERNAL specific configuration\n",
    "source_type = os.getenv(\"HOOK_SOURCE_TYPE\", \"DESP\")\n",
    "print(f\"source_type: {source_type}\")\n",
    "\n",
    "if source_type == \"EXTERNAL\":\n",
    "    EXTERNAL_USERNAME = os.getenv(\"HOOK_EXTERNAL_USERNAME\", \"EXTERNAL_USERNAME\")\n",
    "    EXTERNAL_PASSWORD = os.getenv(\"HOOK_EXTERNAL_PASSWORD\", \"EXTERNAL_PASSWORD\")\n",
    "    EXTERNAL_TOKEN_URL = os.getenv(\"HOOK_EXTERNAL_TOKEN_URL\", \"EXTERNAL_TOKEN_URL\")\n",
    "    EXTERNAL_CLIENT_ID = os.getenv(\"HOOK_EXTERNAL_CLIENT_ID\", \"EXTERNAL_CLIENT_ID\")"
   ]
  },
  {
   "cell_type": "code",
   "execution_count": null,
   "metadata": {
    "tags": []
   },
   "outputs": [],
   "source": [
    "########## BUILD ORDER BODY : CHOOSE PRIVATE or TEMPORARY output_storage ##########\n",
    "\n",
    "# Initialise the order_body\n",
    "order_body_custom_bucket = {\n",
    "    \"Name\": \"Tutorial \" + workflow + \" - \" + order_name,\n",
    "    \"WorkflowName\": workflow,\n",
    "    \"IdentifierList\": identifier_list,\n",
    "    \"WorkflowOptions\": [],\n",
    "}\n",
    "\n",
    "\n",
    "##### Configure PRIVATE OR TEMPORARY STORAGE #####\n",
    "if is_private_storage:\n",
    "\n",
    "    print(\"##### Preparing Order Body for PRIVATE STORAGE #####\")\n",
    "    order_body_custom_bucket[\"WorkflowOptions\"].extend(\n",
    "        [\n",
    "            {\"Name\": \"output_storage\", \"Value\": \"PRIVATE\"},\n",
    "            {\"Name\": \"output_s3_access_key\", \"Value\": output_storage_access_key},\n",
    "            {\"Name\": \"output_s3_secret_key\", \"Value\": output_storage_secret_key},\n",
    "            {\"Name\": \"output_s3_path\", \"Value\": f\"s3://{output_bucket}/{output_prefix}\"},\n",
    "            {\"Name\": \"output_s3_endpoint_url\", \"Value\": output_storage_url}\n",
    "        ]\n",
    "    )\n",
    "\n",
    "else:\n",
    "\n",
    "    print(\"##### Preparing Order Body for TEMPORARY STORAGE #####\")\n",
    "    order_body_custom_bucket[\"WorkflowOptions\"].extend(\n",
    "        [\n",
    "            {\"Name\": \"output_storage\", \"Value\": \"TEMPORARY\"},\n",
    "        ]\n",
    "    )\n",
    "\n",
    "##### Configure SOURCE_TYPE and associated parameters #####\n",
    "if source_type == \"DESP\":\n",
    "\n",
    "    # Using DESP credentials is standard way of executing Hooks.\n",
    "    print(\"##### Preparing Order Body for access to DEDL HDA using DESP Credentials #####\")\n",
    "    order_body_custom_bucket[\"WorkflowOptions\"].extend(\n",
    "        [\n",
    "            {\"Name\": \"source_type\", \"Value\": \"DESP\"},\n",
    "            {\"Name\": \"desp_source_username\", \"Value\": DESP_USERNAME},\n",
    "            {\"Name\": \"desp_source_password\", \"Value\": DESP_PASSWORD},\n",
    "            {\"Name\": \"desp_source_collection\", \"Value\": collection_id}\n",
    "        ]\n",
    "    )\n",
    "\n",
    "elif source_type == \"EXTERNAL\":\n",
    "\n",
    "    # Build your order body : Example using EXTERNAL source type and source_catalogue_api_type STAC.\n",
    "    # This would allow you to access products directly from a configured STAC server\n",
    "    # Here we show an example configuration of a STAC server with OIDC security, that could be adapted to your needs (change urls, etc)\n",
    "    # This is shown for example purposes only. The standard way of configuring is with DESP source_type seen above.\n",
    "    print(\"##### Preparing Order Body for access to EXTERNAL STAC Server using EXTERNAL Credentials #####\")\n",
    "    order_body_custom_bucket[\"WorkflowOptions\"].extend(\n",
    "        [\n",
    "            {\"Name\": \"source_type\", \"Value\": \"EXTERNAL\"},\n",
    "            {\"Name\": \"source_catalogue_api_url\", \"Value\": stac_hda_api_url},\n",
    "            {\"Name\": \"source_catalogue_api_type\", \"Value\": \"STAC\"},\n",
    "            {\"Name\": \"source_token_url\", \"Value\": EXTERNAL_TOKEN_URL},\n",
    "            {\"Name\": \"source_grant_type\", \"Value\": \"PASSWORD\"},\n",
    "            {\"Name\": \"source_auth_header_name\", \"Value\": \"Authorization\"},\n",
    "            {\"Name\": \"source_username\", \"Value\": EXTERNAL_USERNAME},\n",
    "            {\"Name\": \"source_password\", \"Value\": EXTERNAL_PASSWORD},\n",
    "            {\"Name\": \"source_client_id\", \"Value\": EXTERNAL_CLIENT_ID},\n",
    "            {\"Name\": \"source_client_secret\", \"Value\": \"\"},\n",
    "            {\"Name\": \"source_catalogue_collection\", \"Value\": collection_id}\n",
    "        ]\n",
    "    )\n",
    "\n",
    "else:\n",
    "\n",
    "    print(\"source_type not equal to DESP or EXTERNAL\")\n",
    "\n",
    "\n",
    "\n",
    "########## ADDITIONAL OPTIONS ##########\n",
    "\n",
    "additional_options = []\n",
    "\n",
    "# Checks environment variables for the form HOOK_ADDITIONAL1=\"NAME=12345;VALUE=abcdef\"\n",
    "for env_key, env_value in os.environ.items():\n",
    "    if env_key.startswith('HOOK_ADDITIONAL'):\n",
    "        #print(f\"{env_key}: {env_value}\")        \n",
    "        parts = env_value.split(';')\n",
    "        # Extract the name and value\n",
    "        name = parts[0].split('=')[1]\n",
    "        value = parts[1].split('=')[1]\n",
    "        value_type = parts[2].split('=')[1]\n",
    "        additional_options.append({\"Name\": name, \"Value\": value if value_type == 'str' else int(value)})\n",
    "\n",
    "print(f\"addditional_options:{additional_options}\")\n",
    "\n",
    "if additional_options:\n",
    "    print(\"Adding additional_options\")\n",
    "    order_body_custom_bucket[\"WorkflowOptions\"].extend(additional_options)\n",
    "\n",
    "########## BUILD ORDER BODY : END ##########\n",
    "\n",
    "# Uncomment this to see the final order body\n",
    "# print(json.dumps(order_body_custom_bucket, indent=4))\n",
    "\n",
    "\n",
    "# Send order\n",
    "order_request = requests.post(\n",
    "    hook_service_root_url + \"BatchOrder/OData.CSC.Order\",\n",
    "    json.dumps(order_body_custom_bucket),\n",
    "    headers=api_headers,\n",
    ").json()\n",
    "\n",
    "# If code = 201, the order has been successfully sent\n",
    "\n",
    "# Print order_request JSON object: containing order_request details\n",
    "order_reques_details = json.dumps(order_request, indent=4)\n",
    "print(order_reques_details)\n",
    "\n",
    "order_id = order_request['value']['Id']\n",
    "print(f\"order 'Id' from order_request: {order_id}\")\n"
   ]
  },
  {
   "cell_type": "markdown",
   "metadata": {},
   "source": [
    "It is possible to order multiple product using endpoint: \n",
    "```https://odp.data.destination-earth.eu/odata/v1/BatchOrder/OData.CSC.Order```   "
   ]
  },
  {
   "cell_type": "markdown",
   "metadata": {},
   "source": [
    "## Check The status of the order\n",
    "\n",
    "Possible status values\n",
    "- queued (i.e. queued for treatment but not started)\n",
    "- in_progress (i.e. order being treated)\n",
    "- completed (i.e. order is complete and data ready)"
   ]
  },
  {
   "cell_type": "code",
   "execution_count": null,
   "metadata": {
    "tags": []
   },
   "outputs": [],
   "source": [
    "\n",
    "# ProductionOrders endpoint gives status of orders (only with one item attached)\n",
    "# Otherwise use BatchOrder(XXXX)/Products endpoint to get status of individual items associated with order\n",
    "if len(identifier_list) == 1:\n",
    "    order_status_url = f\"{hook_service_root_url}ProductionOrders\"\n",
    "    params = {\"$filter\": f\"id eq {order_id}\"}\n",
    "    order_status_response = requests.get(order_status_url, params=params, headers=api_headers).json()\n",
    "    print(json.dumps(order_status_response, indent=4))\n",
    "\n",
    "# Get Status of all items of an order in this way\n",
    "order_status_response = requests.get(\n",
    "    f\"{hook_service_root_url}BatchOrder({order_id})/Products\",\n",
    "    headers=api_headers,\n",
    ").json()\n",
    "print(json.dumps(order_status_response, indent=4))\n"
   ]
  },
  {
   "cell_type": "markdown",
   "metadata": {
    "tags": []
   },
   "source": [
    "## Access workflow output"
   ]
  },
  {
   "cell_type": "markdown",
   "metadata": {},
   "source": [
    "#### Private storage\n",
    "Let us now check our private storage using this boto3 script.\n",
    "You can also go and check this in the Islet service using the Horizon user interface"
   ]
  },
  {
   "cell_type": "code",
   "execution_count": null,
   "metadata": {
    "tags": []
   },
   "outputs": [],
   "source": [
    "# PRIVATE STORAGE: Prints contents of Private Bucket\n",
    "import boto3\n",
    "\n",
    "if is_private_storage:\n",
    "\n",
    "    s3 = boto3.client(\n",
    "        \"s3\",\n",
    "        aws_access_key_id=output_storage_access_key,\n",
    "        aws_secret_access_key=output_storage_secret_key,\n",
    "        endpoint_url=output_storage_url,\n",
    "    )\n",
    "\n",
    "    paginator = s3.get_paginator(\"list_objects_v2\")\n",
    "    pages = paginator.paginate(Bucket=output_bucket, Prefix=output_prefix + \"/\")\n",
    "\n",
    "    for page in pages:\n",
    "        try:\n",
    "            for obj in page[\"Contents\"]:\n",
    "                print(obj[\"Key\"])\n",
    "        except KeyError:\n",
    "            print(\"No files exist\")\n",
    "            exit(1)"
   ]
  },
  {
   "cell_type": "markdown",
   "metadata": {},
   "source": [
    "### Temporary storage"
   ]
  },
  {
   "cell_type": "code",
   "execution_count": 15,
   "metadata": {
    "tags": []
   },
   "outputs": [],
   "source": [
    "# List order items within a production order\n",
    "# When the output_storage is of type TEMPORARY we can get a DownloadLink from the following code (Can also optionally download items here in code with the flag is_download_products)\n",
    "\n",
    "# If TEMPORARY storage\n",
    "if not is_private_storage:\n",
    "\n",
    "    # Set to True to download products at the same level as the notebook file. File name will be in format \"output-{workflow}-{order_id}-{product_id}.zip\"\n",
    "    is_download_products = False\n",
    "\n",
    "    # Get Status of all items of an order in this way\n",
    "    product_status_response = requests.get(\n",
    "        f\"{hook_service_root_url}BatchOrder({order_id})/Products\",\n",
    "        headers=api_headers,\n",
    "    ).json()\n",
    "    print(json.dumps(product_status_response, indent=4))\n",
    "\n",
    "    if is_download_products:\n",
    "\n",
    "        is_all_products_completed = True\n",
    "        # We only attempt to download products when each of the items is in complete status.\n",
    "        for i in range(len(product_status_response[\"value\"])):\n",
    "\n",
    "            product_id = product_status_response[\"value\"][i][\"Id\"]\n",
    "            product_status = product_status_response[\"value\"][i][\"Status\"]\n",
    "\n",
    "            if product_status != \"completed\":\n",
    "                is_all_products_completed = False\n",
    "\n",
    "        # Can download if all products completed\n",
    "        if is_all_products_completed:\n",
    "\n",
    "            for i in range(len(product_status_response[\"value\"])):\n",
    "\n",
    "                product_id = product_status_response[\"value\"][i][\"Id\"]\n",
    "                product_status = product_status_response[\"value\"][i][\"Status\"]\n",
    "\n",
    "                # Infer the url of the product\n",
    "                url_product = f\"{hook_service_root_url}BatchOrder({order_id})/Product({product_id})/$value\"\n",
    "                print(f\"url_product: {url_product}\")\n",
    "                # Download the product\n",
    "                r = requests.get(\n",
    "                    url_product, headers=api_headers, allow_redirects=True\n",
    "                )\n",
    "                product_file_name = f\"output-{workflow}-{order_id}-{product_id}.zip\"\n",
    "                open(product_file_name, \"wb\").write(r.content)\n",
    "                print(f\"Download Complete: product_file_name: {product_file_name}\")\n",
    "\n",
    "        else:\n",
    "            print(f\"Status for order:{order_id} - At least one of the products does not have the status of 'completed'.\")\n"
   ]
  }
 ],
 "metadata": {
  "colab": {
   "provenance": []
  },
  "kernelspec": {
   "display_name": ".venv",
   "language": "python",
   "name": "python3"
  },
  "language_info": {
   "codemirror_mode": {
    "name": "ipython",
    "version": 3
   },
   "file_extension": ".py",
   "mimetype": "text/x-python",
   "name": "python",
   "nbconvert_exporter": "python",
   "pygments_lexer": "ipython3",
   "version": "3.9.13"
  }
 },
 "nbformat": 4,
 "nbformat_minor": 4
}
