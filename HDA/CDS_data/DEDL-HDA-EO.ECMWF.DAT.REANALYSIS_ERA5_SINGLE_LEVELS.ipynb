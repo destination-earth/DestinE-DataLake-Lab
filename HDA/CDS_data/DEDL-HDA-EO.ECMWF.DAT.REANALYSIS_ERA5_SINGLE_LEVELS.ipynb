{
 "cells": [
  {
   "cell_type": "markdown",
   "metadata": {
    "tags": []
   },
   "source": [
    "![](https://github.com/destination-earth/DestinE-DataLake-Lab/blob/main/img/DestinE-banner.jpg?raw=true)"
   ]
  },
  {
   "cell_type": "markdown",
   "metadata": {},
   "source": [
    "**Copyright:** 2025 EUMETSAT <br>\n",
    "**License:** MIT <br>\n",
    "**Authors:** Micheal Schick (EUMETSAT), Serena Avolio (EUMETSAT/Starion)"
   ]
  },
  {
   "cell_type": "markdown",
   "metadata": {},
   "source": [
    "<div class=\"alert alert-block alert-success\">\n",
    "<h3>Destination Earth - ERA5 hourly data on single levels from 1940 to present - Data Access using DEDL HDA</h3></div>"
   ]
  },
  {
   "cell_type": "markdown",
   "metadata": {
    "tags": []
   },
   "source": [
    "<div class=\"alert alert-block alert-warning\">\n",
    "<b> Prerequisites: </b><ul>\n",
    "   <li>To search and access DEDL data a <a href=\"https://platform.destine.eu/\"> DestinE user account</a> is needed</li></ul>\n",
    "<b> References: </b><ul>\n",
    "    <li><a href=\"https://destine-data-lake-docs.data.destination-earth.eu/en/latest/dedl-discovery-and-data-access/Use-of-Harmonized-Data-Access/Use-of-Harmonized-Data-Access.html\">DestinE Data Lake (DEDL) Harmonized Data Access (HDA) documentation</a> </li>\n",
    "    <li> <a href=\"https://cds.climate.copernicus.eu/datasets/reanalysis-era5-single-levels?tab=overview\">ERA5 data documentation</a></li></ul>\n",
    "<b> Credit: </b><ul>\n",
    "    <li> Earthkit and HDA Polytope used in this context are both packages provided by the European Centre for Medium-Range Weather Forecasts (ECMWF).</li></ul>\n",
    "</div>"
   ]
  },
  {
   "cell_type": "markdown",
   "metadata": {},
   "source": [
    "This notebook demonstrates how to use the HDA (Harmonized Data Access) API to access ERA5 hourly data on single levels, and how to visualize the data using the Earthkit package provided by ECMWF.\n",
    "\n",
    "The method used to access this dataset can be applied to all the datasets hosted by the climate data store provided through HDA. \n",
    "The complete list of the climate data store federated datasets provided by HDA:  https://hda.data.destination-earth.eu/stac/collections?provider=cop_cds.\n",
    "\n",
    "Below the main steps covered by this tutorial.\n",
    "\n",
    "1. [Authenticate](DEDL-HDA-EO.ECMWF.DAT.REANALYSIS_ERA5_SINGLE_LEVELS.ipynb#Authenticate): How to authenticate for searching and access *DEDL* collections. \n",
    "2. [Order data](DEDL-HDA-EO.ECMWF.DAT.REANALYSIS_ERA5_SINGLE_LEVELS.ipynb#Order):  How to order ERA5 hourly data on single levels data through HDA.\n",
    "3. [Download data](DEDL-HDA-EO.ECMWF.DAT.REANALYSIS_ERA5_SINGLE_LEVELS.ipynb#Download): How to download hourly data on single levels data through HDA.\n",
    "4. [Visualize](DEDL-HDA-EO.ECMWF.DAT.REANALYSIS_ERA5_SINGLE_LEVELS.ipynb#EarthKit): How to visualize hourly data on single levels data through Earthkit."
   ]
  },
  {
   "cell_type": "markdown",
   "metadata": {},
   "source": [
    "# Authenticate"
   ]
  },
  {
   "cell_type": "markdown",
   "metadata": {},
   "source": [
    "First we import the required packages"
   ]
  },
  {
   "cell_type": "code",
   "execution_count": 1,
   "metadata": {
    "tags": []
   },
   "outputs": [],
   "source": [
    "import requests\n",
    "import json\n",
    "import os\n",
    "import json\n",
    "from getpass import getpass\n",
    "from IPython.display import JSON\n",
    "import destinelab as deauth\n",
    "from tqdm import tqdm\n",
    "import time\n",
    "from urllib.parse import unquote\n",
    "from time import sleep"
   ]
  },
  {
   "cell_type": "markdown",
   "metadata": {},
   "source": [
    "We get an access token for the API"
   ]
  },
  {
   "cell_type": "code",
   "execution_count": 2,
   "metadata": {
    "tags": []
   },
   "outputs": [
    {
     "name": "stdin",
     "output_type": "stream",
     "text": [
      "Please input your DESP username or email:  eum-dedl-user\n",
      "Please input your DESP password:  ········\n"
     ]
    },
    {
     "name": "stdout",
     "output_type": "stream",
     "text": [
      "Response code: 200\n",
      "DEDL/DESP Access Token Obtained Successfully\n"
     ]
    }
   ],
   "source": [
    "DESP_USERNAME = input(\"Please input your DESP username or email: \")\n",
    "DESP_PASSWORD = getpass(\"Please input your DESP password: \")\n",
    "\n",
    "auth = deauth.AuthHandler(DESP_USERNAME, DESP_PASSWORD)\n",
    "access_token = auth.get_token()\n",
    "if access_token is not None:\n",
    "    print(\"DEDL/DESP Access Token Obtained Successfully\")\n",
    "else:\n",
    "    print(\"Failed to Obtain DEDL/DESP Access Token\")\n",
    "\n",
    "auth_headers = {\"Authorization\": f\"Bearer {access_token}\"}"
   ]
  },
  {
   "cell_type": "markdown",
   "metadata": {},
   "source": [
    "# Order\n"
   ]
  },
  {
   "cell_type": "markdown",
   "metadata": {},
   "source": [
    "Climate data store datasets need to be ordered.\n",
    "Below the steps to order the data of our interest."
   ]
  },
  {
   "cell_type": "markdown",
   "metadata": {},
   "source": [
    "## HDA endpoint\n",
    "HDA API is based on the Spatio Temporal Asset Catalog specification (STAC), it is convenient define a costant with its endpoint."
   ]
  },
  {
   "cell_type": "code",
   "execution_count": 3,
   "metadata": {
    "tags": []
   },
   "outputs": [],
   "source": [
    "HDA_STAC_ENDPOINT=\"https://hda.data.destination-earth.eu/stac/v2\""
   ]
  },
  {
   "cell_type": "markdown",
   "metadata": {},
   "source": [
    "## Collection discovery"
   ]
  },
  {
   "cell_type": "markdown",
   "metadata": {},
   "source": [
    "Each HDA collection has its own ID to be used to query the collection.\n",
    "Let's discover the ID of our collection of interest using the HDA discovery API with some filter, e.g. the federated provider along with the \"ERA5\" text parameter."
   ]
  },
  {
   "cell_type": "code",
   "execution_count": 4,
   "metadata": {
    "tags": []
   },
   "outputs": [
    {
     "data": {
      "application/json": {
       "collections": [
        {
         "assets": {
          "thumbnail": {
           "href": "https://object-store.os-api.cci2.ecmwf.int/cci2-prod-catalogue/resources/reanalysis-era5-pressure-levels/overview_652fd83a7b2ed724ce541e563beff9c4484c3482bc08334a638a4bc47ae4cf0f.png",
           "roles": [
            "thumbnail"
           ],
           "title": "ERA5",
           "type": "image/png"
          }
         },
         "created": "2023-08-11T18:04:28Z",
         "cube:dimensions": {
          "time": {
           "extent": [
            "1940-01-01T00:00:00Z",
            null
           ],
           "step": "T1H",
           "type": "temporal"
          },
          "x": {
           "axis": "x",
           "description": "longitude",
           "extent": [
            -180,
            180
           ],
           "step": 0.25,
           "type": "spatial"
          },
          "y": {
           "axis": "y",
           "description": "latitude",
           "extent": [
            -90,
            90
           ],
           "step": 0.25,
           "type": "spatial"
          },
          "z": {
           "axis": "z",
           "description": "pressure",
           "extent": [
            1,
            1000
           ],
           "type": "spatial",
           "unit": "hPa",
           "values": [
            1,
            2,
            3,
            5,
            7,
            10,
            20,
            30,
            50,
            70,
            100,
            125,
            150,
            175,
            200,
            225,
            250,
            300,
            350,
            400,
            450,
            500,
            550,
            600,
            650,
            700,
            750,
            775,
            800,
            825,
            850,
            875,
            900,
            925,
            950,
            975,
            1000
           ]
          }
         },
         "cube:variables": {
          "divergence": {
           "description": "This parameter is the horizontal divergence of velocity. It is the rate at which air is spreading out horizontally from a point, per square metre. This parameter is positive for air that is spreading out, or diverging, and negative for the opposite, for air that is concentrating, or converging (convergence).",
           "dimensions": [
            "x",
            "y",
            "z",
            "time"
           ],
           "shortNameECMWF": "d",
           "type": "data",
           "units": "s^-1"
          },
          "fraction_of_cloud_cover": {
           "description": "This parameter is the proportion of a grid box covered by cloud (liquid or ice) and varies between zero and one. This parameter is available on multiple levels through the atmosphere.",
           "dimensions": [
            "x",
            "y",
            "z",
            "time"
           ],
           "shortNameECMWF": "cc",
           "type": "data",
           "units": "(0 - 1)"
          },
          "geopotential": {
           "description": "This parameter is the gravitational potential energy of a unit mass, at a particular location, relative to mean sea level. It is also the amount of work that would have to be done, against the force of gravity, to lift a unit mass to that location from mean sea level. The geopotential height can be calculated by dividing the geopotential by the Earth's gravitational acceleration, g (=9.80665 m s-2). The geopotential height plays an important role in synoptic meteorology (analysis of weather patterns). Charts of geopotential height plotted at constant pressure levels (e.g., 300, 500 or 850 hPa) can be used to identify weather systems such as cyclones, anticyclones, troughs and ridges. At the surface of the Earth, this parameter shows the variations in geopotential (height) of the surface, and is often referred to as the orography.",
           "dimensions": [
            "x",
            "y",
            "z",
            "time"
           ],
           "shortNameECMWF": "z",
           "type": "data",
           "units": "m^2 s^-2"
          },
          "ozone_mass_mixing_ratio": {
           "description": "This parameter is the mass of ozone per kilogram of air. In the ECMWF Integrated Forecasting System (IFS), there is a simplified representation of ozone chemistry (including representation of the chemistry which has caused the ozone hole). Ozone is also transported around in the atmosphere through the motion of air. Naturally occurring ozone in the stratosphere helps protect organisms at the surface of the Earth from the harmful effects of ultraviolet (UV) radiation from the Sun. Ozone near the surface, often produced because of pollution, is harmful to organisms. Most of the IFS chemical species are archived as mass mixing ratios [kg kg-1].",
           "dimensions": [
            "x",
            "y",
            "z",
            "time"
           ],
           "shortNameECMWF": "o3",
           "type": "data",
           "units": "kg kg^-1"
          },
          "potential_vorticity": {
           "description": "Potential vorticity is a measure of the capacity for air to rotate in the atmosphere. If we ignore the effects of heating and friction, potential vorticity is conserved following an air parcel. It is used to look for places where large wind storms are likely to originate and develop. Potential vorticity increases strongly above the tropopause and therefore, it can also be used in studies related to the stratosphere and stratosphere-troposphere exchanges. Large wind storms develop when a column of air in the atmosphere starts to rotate. Potential vorticity is calculated from the wind, temperature and pressure across a column of air in the atmosphere.",
           "dimensions": [
            "x",
            "y",
            "z",
            "time"
           ],
           "shortNameECMWF": "pv",
           "type": "data",
           "units": "K m^2 kg^-1 s^-1"
          },
          "relative_humidity": {
           "description": "This parameter is the water vapour pressure as a percentage of the value at which the air becomes saturated (the point at which water vapour begins to condense into liquid water or deposition into ice). For temperatures over 0°C (273.15 K) it is calculated for saturation over water. At temperatures below -23°C it is calculated for saturation over ice. Between -23°C and 0°C this parameter is calculated by interpolating between the ice and water values using a quadratic function.",
           "dimensions": [
            "x",
            "y",
            "z",
            "time"
           ],
           "shortNameECMWF": "r",
           "type": "data",
           "units": "%"
          },
          "specific_cloud_ice_water_content": {
           "description": "This parameter is the mass of cloud ice particles per kilogram of the total mass of moist air. The 'total mass of moist air' is the sum of the dry air, water vapour, cloud liquid, cloud ice, rain and falling snow. This parameter represents the average value for a grid box. Water within clouds can be liquid or ice, or a combination of the two. Note that 'cloud frozen water' is the same as 'cloud ice water'.",
           "dimensions": [
            "x",
            "y",
            "z",
            "time"
           ],
           "shortNameECMWF": "ciwc",
           "type": "data",
           "units": "kg kg^-1"
          },
          "specific_cloud_liquid_water_content": {
           "description": "This parameter is the mass of cloud liquid water droplets per kilogram of the total mass of moist air. The 'total mass of moist air' is the sum of the dry air, water vapour, cloud liquid, cloud ice, rain and falling snow. This parameter represents the average value for a grid box. Water within clouds can be liquid or ice, or a combination of the two.",
           "dimensions": [
            "x",
            "y",
            "z",
            "time"
           ],
           "shortNameECMWF": "clwc",
           "type": "data",
           "units": "kg kg^-1"
          },
          "specific_humidity": {
           "description": "This parameter is the mass of water vapour per kilogram of moist air. The total mass of moist air is the sum of the dry air, water vapour, cloud liquid, cloud ice, rain and falling snow.",
           "dimensions": [
            "x",
            "y",
            "z",
            "time"
           ],
           "shortNameECMWF": "q",
           "type": "data",
           "units": "kg kg^-1"
          },
          "specific_rain_water_content": {
           "description": "The mass of water produced from large-scale clouds that is of raindrop size and so can fall to the surface as precipitation. Large-scale clouds are generated by the cloud scheme in the ECMWF Integrated Forecasting System (IFS). The cloud scheme represents the formation and dissipation of clouds and large-scale precipitation due to changes in atmospheric quantities (such as pressure, temperature and moisture) predicted directly by the IFS at spatial scales of a grid box or larger. The quantity is expressed in kilograms per kilogram of the total mass of moist air. The 'total mass of moist air' is the sum of the dry air, water vapour, cloud liquid, cloud ice, rain and falling snow. This parameter represents the average value for a grid box. Clouds contain a continuum of different sized water droplets and ice particles. The IFS cloud scheme simplifies this to represent a number of discrete cloud droplets/particles including cloud water droplets, raindrops, ice crystals and snow (aggregated ice crystals). The processes of droplet formation, phase transition and aggregation are also highly simplified in the IFS.",
           "dimensions": [
            "x",
            "y",
            "z",
            "time"
           ],
           "shortNameECMWF": "crwc",
           "type": "data",
           "units": "kg kg^-1"
          },
          "specific_snow_water_content": {
           "description": "The mass of snow (aggregated ice crystals) produced from large-scale clouds that can fall to the surface as precipitation. Large-scale clouds are generated by the cloud scheme in the ECMWF Integrated Forecasting System (IFS). The cloud scheme represents the formation and dissipation of clouds and large-scale precipitation due to changes in atmospheric quantities (such as pressure, temperature and moisture) predicted directly by the IFS at spatial scales of a grid box or larger. The mass is expressed in kilograms per kilogram of the total mass of moist air. The 'total mass of moist air' is the sum of the dry air, water vapour, cloud liquid, cloud ice, rain and falling snow. This parameter represents the average value for a grid box. Clouds contain a continuum of different sized water droplets and ice particles. The IFS cloud scheme simplifies this to represent a number of discrete cloud droplets/particles including cloud water droplets, raindrops, ice crystals and snow (aggregated ice crystals). The processes of droplet formation, phase transition and aggregation are also highly simplified in the IFS.",
           "dimensions": [
            "x",
            "y",
            "z",
            "time"
           ],
           "shortNameECMWF": "cswc",
           "type": "data",
           "units": "kg kg^-1"
          },
          "temperature": {
           "description": "This parameter is the temperature in the atmosphere. It has units of kelvin (K). Temperature measured in kelvin can be converted to degrees Celsius (°C) by subtracting 273.15. This parameter is available on multiple levels through the atmosphere.",
           "dimensions": [
            "x",
            "y",
            "z",
            "time"
           ],
           "shortNameECMWF": "t",
           "type": "data",
           "units": "K"
          },
          "u_component_of_wind": {
           "description": "This parameter is the eastward component of the wind. It is the horizontal speed of air moving towards the east. A negative sign indicates air moving towards the west. This parameter can be combined with the V component of wind to give the speed and direction of the horizontal wind.",
           "dimensions": [
            "x",
            "y",
            "z",
            "time"
           ],
           "shortNameECMWF": "u",
           "type": "data",
           "units": "m s^-1"
          },
          "v_component_of_wind": {
           "description": "This parameter is the northward component of the wind. It is the horizontal speed of air moving towards the north. A negative sign indicates air moving towards the south. This parameter can be combined with the U component of wind to give the speed and direction of the horizontal wind.",
           "dimensions": [
            "x",
            "y",
            "z",
            "time"
           ],
           "shortNameECMWF": "v",
           "type": "data",
           "units": "m s^-1"
          },
          "vertical_velocity": {
           "description": "This parameter is the speed of air motion in the upward or downward direction. The ECMWF Integrated Forecasting System (IFS) uses a pressure based vertical co-ordinate system and pressure decreases with height, therefore negative values of vertical velocity indicate upward motion. Vertical velocity can be useful to understand the large-scale dynamics of the atmosphere, including areas of upward motion/ascent (negative values) and downward motion/subsidence (positive values).",
           "dimensions": [
            "x",
            "y",
            "z",
            "time"
           ],
           "shortNameECMWF": "w",
           "type": "data",
           "units": "Pa s^-1"
          },
          "vorticity": {
           "description": "This parameter is a measure of the rotation of air in the horizontal, around a vertical axis, relative to a fixed point on the surface of the Earth. On the scale of weather systems, troughs (weather features that can include rain) are associated with anticlockwise rotation (in the northern hemisphere), and ridges (weather features that bring light or still winds) are associated with clockwise rotation. Adding the effect of rotation of the Earth, the Coriolis parameter, to the relative vorticity produces the absolute vorticity.",
           "dimensions": [
            "x",
            "y",
            "z",
            "time"
           ],
           "shortNameECMWF": "vo",
           "type": "data",
           "units": "s^-1"
          }
         },
         "dedl:short_description": "The ERA5 dataset contains hourly global climate and weather data from 1940 to present, combining model data with worldwide observations through physical laws-based data assimilation, providing various atmospheric, oceanic, and terrestrial variables with associated uncertainties.",
         "description": "ERA5 is the fifth generation ECMWF reanalysis for the global climate and weather for the past 8 decades.\nData is available from 1940 onwards.\nERA5 replaces the ERA-Interim reanalysis. Reanalysis combines model data with observations from across the world into a globally complete and consistent dataset using the laws of physics. This principle, called data assimilation, is based on the method used by numerical weather prediction centres, where every so many hours (12 hours at ECMWF) a previous forecast is combined with newly available observations in an optimal way to produce a new best estimate of the state of the atmosphere, called analysis, from which an updated, improved forecast is issued. Reanalysis works in the same way, but at reduced resolution to allow for the provision of a dataset spanning back several decades. Reanalysis does not have the constraint of issuing timely forecasts, so there is more time to collect observations, and when going further back in time, to allow for the ingestion of improved versions of the original observations, which all benefit the quality of the reanalysis product. ERA5 provides hourly estimates for a large number of atmospheric, ocean-wave and land-surface quantities.\nAn uncertainty estimate is sampled by an underlying 10-member ensemble\nat three-hourly intervals. Ensemble mean and spread have been pre-computed for convenience.\nSuch uncertainty estimates are closely related to the information content of the available observing system which\nhas evolved considerably over time. They also indicate flow-dependent sensitive areas.\nTo facilitate many climate applications, monthly-mean averages have been pre-calculated too,\nthough monthly means are not available for the ensemble mean and spread. ERA5 is updated daily with a latency of about 5 days. In case that serious flaws are detected in this early release (called ERA5T), this data could be different from the final release 2 to 3 months later. In case that this occurs users are notified. The data set presented here is a regridded subset of the full ERA5 data set on native resolution.\nIt is online on spinning disk, which should ensure fast and easy access.\nIt should satisfy the requirements for most common applications. An overview of all ERA5 datasets can be found in this article .\nInformation on access to ERA5 data on native resolution is provided in these guidelines . Data has been regridded to a regular lat-lon grid of 0.25 degrees for the reanalysis and 0.5 degrees for\nthe uncertainty estimate (0.5 and 1 degree respectively for ocean waves).\nThere are four main sub sets: hourly and monthly products, both on pressure levels (upper air fields) and single levels (atmospheric, ocean-wave and land surface quantities). The present entry is \"ERA5 hourly data on pressure levels from 1940 to present\".\n\n## How to acknowledge, cite and refer to ERA5\n\nAll users of data uploaded on the Climate Data Store (CDS) must:\n\nProvide clear and visible attribution to the Copernicus programme by referencing the web catalogue entry\n\nAcknowledge according to the [licence to use Copernicus Products](https://cds.climate.copernicus.eu/api/v2/terms/static/licence-to-use-copernicus-products.pdf).\n\nCite each product used.\n\nPlease refer to [How to acknowledge, cite and reference data published on the Climate Data Store](https://confluence.ecmwf.int/x/srnICw) for complete details.",
         "extent": {
          "spatial": {
           "bbox": [
            [
             -180,
             -90,
             180,
             90
            ]
           ]
          },
          "temporal": {
           "interval": [
            [
             "1940-01-01T00:00:00Z",
             "2023-05-13T00:00:00Z"
            ]
           ]
          }
         },
         "id": "EO.ECMWF.DAT.ERA5_HOURLY_VARIABLES_ON_PRESSURE_LEVELS",
         "item_assets": {
          "divergence": {
           "title": "Divergence",
           "type": "application/grib"
          },
          "fraction_of_cloud_cover": {
           "title": "Fraction of Cloud Cover",
           "type": "application/grib"
          },
          "geopotential": {
           "title": "Geopotential",
           "type": "application/grib"
          },
          "ozone_mass_mixing_ratio": {
           "title": "Ozone Mass Mixing Ratio",
           "type": "application/grib"
          },
          "potential_vorticity": {
           "title": "Potential Vorticity",
           "type": "application/grib"
          },
          "relative_humidity": {
           "title": "Relative humidity",
           "type": "application/grib"
          },
          "specific_cloud_ice_water_content": {
           "title": "Specific Cloud Ice Water Content",
           "type": "application/grib"
          },
          "specific_cloud_liquid_water_content": {
           "title": "Specific Cloud Liquid Water Content",
           "type": "application/grib"
          },
          "specific_humidity": {
           "title": "Specific humidity",
           "type": "application/grib"
          },
          "specific_rain_water_content": {
           "title": "Specific Rain Water Content",
           "type": "application/grib"
          },
          "specific_snow_water_content": {
           "title": "Specific Snow Water Content",
           "type": "application/grib"
          },
          "temperature": {
           "title": "Temperature",
           "type": "application/grib"
          },
          "u_component_of_wind": {
           "title": "U-component of Wind",
           "type": "application/grib"
          },
          "v_component_of_wind": {
           "title": "V-component of Wind",
           "type": "application/grib"
          },
          "vertical_velocity": {
           "title": "Vertical Velocity",
           "type": "application/grib"
          },
          "vorticity": {
           "title": "Vorticity (relative)",
           "type": "application/grib"
          }
         },
         "keywords": [
          "Atmospheric conditions",
          "Past",
          "Atmosphere (upper air)",
          "Copernicus C3S",
          "Global",
          "Atmosphere (surface)",
          "Reanalysis"
         ],
         "license": "proprietary",
         "links": [
          {
           "href": "https://hda.data.destination-earth.eu/stac/v2/collections/EO.ECMWF.DAT.ERA5_HOURLY_VARIABLES_ON_PRESSURE_LEVELS/order",
           "method": "POST",
           "rel": "retrieve",
           "title": "Retrieve",
           "type": "application/geo+json"
          },
          {
           "href": "https://hda.data.destination-earth.eu/stac/v2/collections/EO.ECMWF.DAT.ERA5_HOURLY_VARIABLES_ON_PRESSURE_LEVELS/queryables",
           "rel": "http://www.opengis.net/def/rel/ogc/1.0/queryables",
           "title": "Queryables",
           "type": "application/schema+json"
          },
          {
           "href": "https://hda.data.destination-earth.eu/stac/v2/collections/EO.ECMWF.DAT.ERA5_HOURLY_VARIABLES_ON_PRESSURE_LEVELS/items",
           "rel": "items",
           "title": "Items",
           "type": "application/geo+json"
          },
          {
           "href": "https://hda.data.destination-earth.eu/stac/v2/collections/EO.ECMWF.DAT.ERA5_HOURLY_VARIABLES_ON_PRESSURE_LEVELS",
           "rel": "self",
           "title": "EO.ECMWF.DAT.ERA5_HOURLY_VARIABLES_ON_PRESSURE_LEVELS",
           "type": "application/json"
          },
          {
           "href": "https://object-store.os-api.cci2.ecmwf.int/cci2-prod-catalogue/licences/licence-to-use-copernicus-products/licence-to-use-copernicus-products_b4b9451f54cffa16ecef5c912c9cebd6979925a956e3fa677976e0cf198c2c18.pdf",
           "rel": "license",
           "title": "Licence to Use Copernicus Products",
           "type": "application/pdf"
          },
          {
           "href": "https://confluence.ecmwf.int/display/CKB/ERA5%3A+data+documentation",
           "rel": "describedby",
           "title": "ERA5: data documentation",
           "type": "text/html"
          },
          {
           "href": "https://doi.org/10.24381/cds.bd0915c6",
           "rel": "cite-as",
           "title": "ERA5 hourly data on pressure levels from 1940 to present",
           "type": "text/html"
          },
          {
           "href": "https://doi.org/10.1002/qj.3803",
           "rel": "cite-as",
           "title": "The ERA5 global reanalysis",
           "type": "text/html"
          },
          {
           "href": "https://doi.org/10.1002/qj.4174",
           "rel": "cite-as",
           "title": "The ERA5 global reanalysis: Preliminary extension to 1950",
           "type": "text/html"
          }
         ],
         "providers": [
          {
           "name": "ECMWF",
           "roles": [
            "licensor",
            "producer",
            "processor"
           ],
           "url": "https://www.ecmwf.int/"
          }
         ],
         "published": "2023-08-11T18:04:28Z",
         "sci:citation": "Hersbach, H., Bell, B., Berrisford, P., Biavati, G., Horányi, A., Muñoz Sabater, J., Nicolas, J., Peubey, C., Radu, R., Rozum, I., Schepers, D., Simmons, A., Soci, C., Dee, D., Thépaut, J-N. (2023): ERA5 hourly data on pressure levels from 1940 to present. Copernicus Climate Change Service (C3S) Climate Data Store (CDS), DOI: [10.24381/cds.bd0915c6](https://doi.org/10.24381/cds.bd0915c6) (Accessed on DD-MMM-YYYY)",
         "sci:doi": "10.24381/cds.bd0915c6",
         "sci:publications": [
          {
           "citation": "Hersbach, H., Bell, B., Berrisford, P., Hirahara, S., Horányi, A., Muñoz-Sabater, J., Nicolas, J., Peubey, C., Radu, R., Schepers, D., Simmons, A., Soci, C., Abdalla, S., Abellan, X., Balsamo, G., Bechtold, P., Biavati, G., Bidlot, J., Bonavita, M., De Chiara, G., Dahlgren, P., Dee, D., Diamantakis, M., Dragani, R., Flemming, J., Forbes, R., Fuentes, M., Geer, A., Haimberger, L., Healy, S., Hogan, R. J., Hólm, E., Janisková, M., Keeley, S., Laloyaux, P., Lopez, P., Lupu, C., Radnoti, G., de Rosnay, P., Rozum, I., Vamborg, F., Villaume, S., and Thépaut, J.-N.: The ERA5 Global Reanalysis, Q. J. Roy. Meteorol. Soc., 146, 1999-2049, https://doi.org/10.1002/qj.3803, 2020.",
           "doi": "10.1002/qj.3803"
          },
          {
           "citation": "Bell, B., Hersbach, H., Simmons, A., Berrisford, P., Dahlgren, P., Horányi, A., Muñoz-Sabater, J., Nicolas, J., Radu, R., Schepers, D., Soci, C., Villaume, Sebastien., Bidlot, J.-R., Haimberger, L., Woollen, J., Buontempo, C. and Thépaut, J.-N.: The ERA5 global reanalysis: Preliminary extension to 1950, Q. J. Roy. Meteorol. Soc., 147, 4186-4227, https://doi.org/10.1002/qj.4174, 2021.",
           "doi": "10.1002/qj.4174"
          }
         ],
         "stac_extensions": [
          "https://stac-extensions.github.io/datacube/v2.2.0/schema.json",
          "https://stac-extensions.github.io/scientific/v1.0.0/schema.json",
          "https://stac-extensions.github.io/timestamps/v1.1.0/schema.json"
         ],
         "stac_version": "1.0.0",
         "summaries": {
          "federation:backends": [
           "cop_cds",
           "wekeo_ecmwf"
          ]
         },
         "title": "ERA5 hourly data on pressure levels from 1940 to present",
         "type": "Collection",
         "updated": "2025-07-30T08:14:06Z"
        },
        {
         "assets": {
          "thumbnail": {
           "href": "https://object-store.os-api.cci2.ecmwf.int/cci2-prod-catalogue/resources/reanalysis-era5-land/overview_b1aff34cd85b75516f935463b89486af284bdeb61afeb565d6e5d273bcfb4ac6.png",
           "roles": [
            "thumbnail"
           ],
           "title": "Preview image",
           "type": "image/png"
          }
         },
         "created": "2023-08-11T18:04:28Z",
         "cube:dimensions": {
          "lat": {
           "axis": "y",
           "description": "latitude",
           "extent": [
            -90,
            90
           ],
           "reference_system": "epsg:4326",
           "step": 0.25,
           "type": "spatial"
          },
          "lon": {
           "axis": "x",
           "description": "longitude",
           "extent": [
            -180,
            180
           ],
           "reference_system": "epsg:4326",
           "step": 0.25,
           "type": "spatial"
          },
          "time": {
           "extent": [
            "1950-01-01T00:00:00Z",
            null
           ],
           "step": "P0DT1H0M0S",
           "type": "temporal"
          }
         },
         "cube:variables": {
          "10m_u_component_of_wind": {
           "attrs": {
            "long_name": "10 metre U wind component",
            "product_type": "forecast",
            "shortName": "u10",
            "standard_name": "eastward_wind"
           },
           "description": "Eastward component of the near-surface (usually, 10 meters) wind",
           "dimensions": [
            "lat",
            "lon",
            "time"
           ],
           "type": "data",
           "unit": "m s**-1"
          },
          "10m_v_component_of_wind": {
           "attrs": {
            "long_name": "10 metre V wind component",
            "product_type": "forecast",
            "shortName": "v10",
            "standard_name": "northward_wind"
           },
           "description": "Northward component of the near surface wind",
           "dimensions": [
            "lat",
            "lon",
            "time"
           ],
           "type": "data",
           "unit": "m s**-1"
          },
          "2m_dewpoint_temperature": {
           "attrs": {
            "long_name": "2 metre dewpoint temperature",
            "product_type": "forecast",
            "shortName": "2d",
            "standard_name": "dew_point_temperature"
           },
           "description": "",
           "dimensions": [
            "lat",
            "lon",
            "time"
           ],
           "type": "data",
           "unit": "K"
          },
          "2m_temperature": {
           "attrs": {
            "long_name": "2 metre temperature",
            "product_type": "forecast",
            "shortName": "2t",
            "standard_name": "air_temperature"
           },
           "description": "near-surface (usually, 2 meter) air temperature",
           "dimensions": [
            "lat",
            "lon",
            "time"
           ],
           "type": "data",
           "unit": "K"
          },
          "evaporation_from_bare_soil": {
           "attrs": {
            "long_name": "Evaporation from bare soil",
            "product_type": "forecast",
            "shortName": "evabs",
            "standard_name": "lwe_thickness_of_water_evaporation_amount"
           },
           "description": "'lwe' means liquid water equivalent. 'Amount' means mass per unit area. The construction lwe_thickness_of_X_amount or _content means the vertical extent of a layer of liquid water having the same mass per unit area. 'Water' means water in all phases. Evaporation is the conversion of liquid or solid into vapor. (The conversion of solid alone into vapor is called 'sublimation'.)",
           "dimensions": [
            "lat",
            "lon",
            "time"
           ],
           "type": "data",
           "unit": "m of water equivalent"
          },
          "evaporation_from_open_water_surfaces_excluding_oceans": {
           "attrs": {
            "long_name": "Evaporation from open water surfaces excluding oceans",
            "product_type": "forecast",
            "shortName": "evaow",
            "standard_name": "lwe_thickness_of_water_evaporation_amount"
           },
           "description": "'lwe' means liquid water equivalent. 'Amount' means mass per unit area. The construction lwe_thickness_of_X_amount or _content means the vertical extent of a layer of liquid water having the same mass per unit area. 'Water' means water in all phases. Evaporation is the conversion of liquid or solid into vapor. (The conversion of solid alone into vapor is called 'sublimation'.)",
           "dimensions": [
            "lat",
            "lon",
            "time"
           ],
           "type": "data",
           "unit": "m of water equivalent"
          },
          "evaporation_from_the_top_of_canopy": {
           "attrs": {
            "long_name": "Evaporation from the top of canopy",
            "product_type": "forecast",
            "shortName": "evatc",
            "standard_name": "lwe_thickness_of_water_evaporation_amount"
           },
           "description": "'lwe' means liquid water equivalent. 'Amount' means mass per unit area. The construction lwe_thickness_of_X_amount or _content means the vertical extent of a layer of liquid water having the same mass per unit area. 'Water' means water in all phases. Evaporation is the conversion of liquid or solid into vapor. (The conversion of solid alone into vapor is called 'sublimation'.)",
           "dimensions": [
            "lat",
            "lon",
            "time"
           ],
           "type": "data",
           "unit": "m of water equivalent"
          },
          "evaporation_from_vegetation_transpiration": {
           "attrs": {
            "long_name": "Evaporation from vegetation transpiration",
            "product_type": "forecast",
            "shortName": "evavt",
            "standard_name": "lwe_thickness_of_water_evaporation_amount"
           },
           "description": "'lwe' means liquid water equivalent. 'Amount' means mass per unit area. The construction lwe_thickness_of_X_amount or _content means the vertical extent of a layer of liquid water having the same mass per unit area. 'Water' means water in all phases. Evaporation is the conversion of liquid or solid into vapor. (The conversion of solid alone into vapor is called 'sublimation'.)",
           "dimensions": [
            "lat",
            "lon",
            "time"
           ],
           "type": "data",
           "unit": "m of water equivalent"
          },
          "forecast_albedo": {
           "attrs": {
            "long_name": "Forecast albedo",
            "product_type": "forecast",
            "shortName": "fal",
            "standard_name": "surface_albedo"
           },
           "description": "Albedo of the land and/or ocean surface, averaged over the grid cell.",
           "dimensions": [
            "lat",
            "lon",
            "time"
           ],
           "type": "data",
           "unit": "(0 - 1)"
          },
          "lake_bottom_temperature": {
           "attrs": {
            "long_name": "Lake bottom temperature",
            "product_type": "analysis",
            "shortName": "lblt",
            "standard_name": "temperature"
           },
           "description": "Generic temperature variable.",
           "dimensions": [
            "lat",
            "lon",
            "time"
           ],
           "type": "data",
           "unit": "K"
          },
          "lake_ice_depth": {
           "attrs": {
            "long_name": "Lake ice total depth",
            "product_type": "analysis",
            "shortName": "licd",
            "standard_name": "depth"
           },
           "description": "",
           "dimensions": [
            "lat",
            "lon",
            "time"
           ],
           "type": "data",
           "unit": "m"
          },
          "lake_ice_temperature": {
           "attrs": {
            "long_name": "Lake ice surface temperature",
            "product_type": "analysis",
            "shortName": "lict",
            "standard_name": "lake_ice_temperature"
           },
           "description": "",
           "dimensions": [
            "lat",
            "lon",
            "time"
           ],
           "type": "data",
           "unit": "K"
          },
          "lake_mix_layer_depth": {
           "attrs": {
            "long_name": "Lake mix-layer depth",
            "product_type": "analysis",
            "shortName": "lmld",
            "standard_name": "depth"
           },
           "dimensions": [
            "lat",
            "lon",
            "time"
           ],
           "type": "data",
           "unit": "m"
          },
          "lake_mix_layer_temperature": {
           "attrs": {
            "long_name": "Lake mix-layer temperature",
            "product_type": "analysis",
            "shortName": "lmlt",
            "standard_name": "temperature"
           },
           "description": "Generic temperature variable.",
           "dimensions": [
            "lat",
            "lon",
            "time"
           ],
           "type": "data",
           "unit": "K"
          },
          "lake_shape_factor": {
           "attrs": {
            "long_name": "Lake shape factor",
            "product_type": "analysis",
            "shortName": "lshf",
            "standard_name": "unknown"
           },
           "description": "General index variable for flag/index type data",
           "dimensions": [
            "lat",
            "lon",
            "time"
           ],
           "type": "data",
           "unit": "dimensionless"
          },
          "lake_total_layer_temperature": {
           "attrs": {
            "long_name": "Lake total layer temperature",
            "product_type": "analysis",
            "shortName": "ltlt",
            "standard_name": "temperature"
           },
           "description": "Generic temperature variable.",
           "dimensions": [
            "lat",
            "lon",
            "time"
           ],
           "type": "data",
           "unit": "K"
          },
          "leaf_area_index_high_vegetation": {
           "attrs": {
            "long_name": "Leaf area index, high vegetation",
            "product_type": "forecast",
            "shortName": "lai_hv",
            "standard_name": "leaf_area_index"
           },
           "description": "A ratio obtained by dividing the total upper leaf surface area of vegetation by the (horizontal) surface area of the land on which it grows.",
           "dimensions": [
            "lat",
            "lon",
            "time"
           ],
           "type": "data",
           "unit": "m**2 m**-2"
          },
          "leaf_area_index_low_vegetation": {
           "attrs": {
            "long_name": "Leaf area index, low vegetation",
            "product_type": "forecast",
            "shortName": "lai_lv",
            "standard_name": "leaf_area_index"
           },
           "description": "A ratio obtained by dividing the total upper leaf surface area of vegetation by the (horizontal) surface area of the land on which it grows.",
           "dimensions": [
            "lat",
            "lon",
            "time"
           ],
           "type": "data",
           "unit": "m**2 m**-2"
          },
          "potential_evaporation": {
           "attrs": {
            "long_name": "Potential evaporation",
            "product_type": "forecast",
            "shortName": "pev",
            "standard_name": "lwe_thickness_of_water_potential_evaporation_amount"
           },
           "description": "'lwe' means liquid water equivalent. 'Amount' means mass per unit area. The construction lwe_thickness_of_X_amount or _content means the vertical extent of a layer of liquid water having the same mass per unit area. 'Water' means water in all phases. Potential evaporation is the rate at which evaporation would take place under unaltered ambient conditions (temperature, relative humidity, wind, etc.) if the supply of water were unlimited, as if from an open water surface.",
           "dimensions": [
            "lat",
            "lon",
            "time"
           ],
           "type": "data",
           "unit": "m"
          },
          "runoff": {
           "attrs": {
            "long_name": "Runoff",
            "product_type": "forecast",
            "shortName": "ro",
            "standard_name": "runoff_amount"
           },
           "description": "The total run-off (including drainage through the base of the soil model) per unit area leaving the land portion of the grid cell. 'Amount' means mass per unit area. Runoff is the liquid water which drains from land. If not specified, 'runoff' refers to the sum of surface runoff and subsurface drainage.",
           "dimensions": [
            "lat",
            "lon",
            "time"
           ],
           "type": "data",
           "unit": "m"
          },
          "skin_reservoir_content": {
           "attrs": {
            "long_name": "Skin reservoir content",
            "product_type": "analysis",
            "shortName": "src",
            "standard_name": "unknown"
           },
           "description": "",
           "dimensions": [
            "lat",
            "lon",
            "time"
           ],
           "type": "data",
           "unit": "m of water equivalent"
          },
          "skin_temperature": {
           "attrs": {
            "long_name": "Skin temperature",
            "product_type": "analysis",
            "shortName": "skt",
            "standard_name": "surface_temperature"
           },
           "description": "Temperature of the lower boundary of the atmosphere",
           "dimensions": [
            "lat",
            "lon",
            "time"
           ],
           "type": "data",
           "unit": "K"
          },
          "snow_albedo": {
           "attrs": {
            "long_name": "Snow albedo",
            "product_type": "analysis",
            "shortName": "asn",
            "standard_name": "surface_albedo_assuming_deep_snow"
           },
           "description": "The surface called 'surface' means the lower boundary of the atmosphere. Albedo is the ratio of outgoing to incoming shortwave irradiance, where 'shortwave irradiance' means that both the incoming and outgoing radiation are integrated across the solar spectrum. A phrase assuming_condition indicates that the named quantity is the value which would obtain if all aspects of the system were unaltered except for the assumption of the circumstances specified by the condition.",
           "dimensions": [
            "lat",
            "lon",
            "time"
           ],
           "type": "data",
           "unit": "(0 - 1)"
          },
          "snow_cover": {
           "attrs": {
            "long_name": "Snow cover",
            "product_type": "forecast",
            "shortName": "snowc",
            "standard_name": "surface_snow_area_fraction"
           },
           "description": "Percentage of each grid cell that is occupied by snow that rests on land portion of cell",
           "dimensions": [
            "lat",
            "lon",
            "time"
           ],
           "type": "data",
           "unit": "%"
          },
          "snow_density": {
           "attrs": {
            "long_name": "Snow density",
            "product_type": "analysis",
            "shortName": "rsn",
            "standard_name": "snow_density"
           },
           "description": "Where land over land, this is computed as the mean thickness of snow in the land portion of the grid cell (averaging over the entire land portion, including the snow-free fraction). Reported as 0.0 where the land fraction is 0.",
           "dimensions": [
            "lat",
            "lon",
            "time"
           ],
           "type": "data",
           "unit": "kg m**-3"
          },
          "snow_depth": {
           "attrs": {
            "long_name": "Snow depth",
            "product_type": "forecast",
            "shortName": "sde",
            "standard_name": "surface_snow_thickness"
           },
           "description": "Where land over land, this is computed as the mean thickness of snow in the land portion of the grid cell (averaging over the entire land portion, including the snow-free fraction). Reported as 0.0 where the land fraction is 0.",
           "dimensions": [
            "lat",
            "lon",
            "time"
           ],
           "type": "data",
           "unit": "m"
          },
          "snow_depth_water_equivalent": {
           "attrs": {
            "long_name": "Snow depth",
            "product_type": "analysis",
            "shortName": "sd",
            "standard_name": "lwe_thickness_of_surface_snow_amount"
           },
           "description": "The surface called 'surface' means the lower boundary of the atmosphere. 'lwe' means liquid water equivalent. 'Amount' means mass per unit area. The construction lwe_thickness_of_X_amount or _content means the vertical extent of a layer of liquid water having the same mass per unit area. Surface amount refers to the amount on the ground, excluding that on the plant or vegetation canopy.",
           "dimensions": [
            "lat",
            "lon",
            "time"
           ],
           "type": "data",
           "unit": "m of water equivalent"
          },
          "snowfall": {
           "attrs": {
            "long_name": "Snowfall",
            "product_type": "forecast",
            "shortName": "sf",
            "standard_name": "lwe_thickness_of_snowfall_amount"
           },
           "description": "The construction lwe_thickness_of_X_amount or _content means the vertical extent of a layer of liquid water having the same mass per unit area. The abbreviation 'lwe' means liquid water equivalent.",
           "dimensions": [
            "lat",
            "lon",
            "time"
           ],
           "type": "data",
           "unit": "m of water equivalent"
          },
          "snowmelt": {
           "attrs": {
            "long_name": "Snowmelt",
            "product_type": "forecast",
            "shortName": "smlt",
            "standard_name": ""
           },
           "description": "",
           "dimensions": [
            "lat",
            "lon",
            "time"
           ],
           "type": "data",
           "unit": "m of water equivalent"
          },
          "soil_temperature_level_1": {
           "attrs": {
            "long_name": "Soil temperature level 1",
            "product_type": "analysis",
            "shortName": "stl1",
            "standard_name": "soil_temperature"
           },
           "description": "Top soil layer: 1-7 cm. Soil temperature (ST) before 19930804",
           "dimensions": [
            "lat",
            "lon",
            "time"
           ],
           "type": "data",
           "unit": "K"
          },
          "soil_temperature_level_2": {
           "attrs": {
            "long_name": "Soil temperature level 2",
            "product_type": "analysis",
            "shortName": "stl2",
            "standard_name": "soil_temperature"
           },
           "description": "Soil layer 2: 7-28 cm. Deep soil temperature (DST) before 19930804",
           "dimensions": [
            "lat",
            "lon",
            "time"
           ],
           "type": "data",
           "unit": "K"
          },
          "soil_temperature_level_3": {
           "attrs": {
            "long_name": "Soil temperature level 3",
            "product_type": "analysis",
            "shortName": "stl3",
            "standard_name": "soil_temperature"
           },
           "description": "Soil layer 3: 28-100 cm. Climatological deep soil temperature (CDST) before 19930804",
           "dimensions": [
            "lat",
            "lon",
            "time"
           ],
           "type": "data",
           "unit": "K"
          },
          "soil_temperature_level_4": {
           "attrs": {
            "long_name": "Soil temperature level 4",
            "product_type": "analysis",
            "shortName": "stl4",
            "standard_name": "soil_temperature"
           },
           "description": "Soil layer 4: 100-289 cm.",
           "dimensions": [
            "lat",
            "lon",
            "time"
           ],
           "type": "data",
           "unit": "K"
          },
          "sub_surface_runoff": {
           "attrs": {
            "long_name": "Sub-surface runoff",
            "product_type": "forecast",
            "shortName": "ssro",
            "standard_name": "subsurface_runoff_amount"
           },
           "description": "The subsurface run-off (including drainage through the base of the soil model) per unit area leaving the land portion of the grid cell. 'Amount' means mass per unit area. Runoff is the liquid water which drains from land.",
           "dimensions": [
            "lat",
            "lon",
            "time"
           ],
           "type": "data",
           "unit": "m"
          },
          "surface_latent_heat_flux": {
           "attrs": {
            "long_name": "Surface latent heat flux",
            "product_type": "forecast",
            "shortName": "slhf",
            "standard_name": "integral_wrt_time_of_surface_upward_latent_heat_flux"
           },
           "description": "The surface called 'surface' means the lower boundary of the atmosphere. 'Upward' indicates a vector component which is positive when directed upward (negative downward). The surface latent heat flux is the exchange of heat between the surface and the air on account of evaporation (including sublimation). In accordance with common usage in geophysical disciplines, 'flux' implies per unit area, called 'flux density' in physics. Accumulated means the value represents the sum of the quantity during the accumulation period.",
           "dimensions": [
            "lat",
            "lon",
            "time"
           ],
           "type": "data",
           "unit": "J m**-2"
          },
          "surface_net_solar_radiation": {
           "attrs": {
            "long_name": "Surface net solar radiation",
            "product_type": "forecast",
            "shortName": "ssr",
            "standard_name": "integral_wrt_time_of_surface_net_downward_shortwave_flux"
           },
           "description": "Accumulated net downward shortwave radiation at the surface",
           "dimensions": [
            "lat",
            "lon",
            "time"
           ],
           "type": "data",
           "unit": "J m**-2"
          },
          "surface_net_thermal_radiation": {
           "attrs": {
            "long_name": "Surface net thermal radiation",
            "product_type": "forecast",
            "shortName": "str",
            "standard_name": "integral_wrt_time_of_surface_net_downward_longwave_flux"
           },
           "description": "Accumulated net longwave surface radiation",
           "dimensions": [
            "lat",
            "lon",
            "time"
           ],
           "type": "data",
           "unit": "J m**-2"
          },
          "surface_pressure": {
           "attrs": {
            "long_name": "Surface pressure",
            "product_type": "forecast",
            "shortName": "sp",
            "standard_name": "surface_air_pressure"
           },
           "description": "Surface pressure (not mean sea-level pressure), 2-D field to calculate the 3-D pressure field from hybrid coordinates",
           "dimensions": [
            "lat",
            "lon",
            "time"
           ],
           "type": "data",
           "unit": "Pa"
          },
          "surface_runoff": {
           "attrs": {
            "long_name": "Surface runoff",
            "product_type": "forecast",
            "shortName": "sro",
            "standard_name": "surface_runoff_amount"
           },
           "description": "The surface run-off per unit area leaving the land portion of the grid cell. 'Amount' means mass per unit area. Runoff is the liquid water which drains from land.",
           "dimensions": [
            "lat",
            "lon",
            "time"
           ],
           "type": "data",
           "unit": "m"
          },
          "surface_sensible_heat_flux": {
           "attrs": {
            "long_name": "Surface sensible heat flux",
            "product_type": "forecast",
            "shortName": "sshf",
            "standard_name": "integral_wrt_time_of_surface_upward_sensible_heat_flux"
           },
           "description": "The surface sensible heat flux, also called turbulent heat flux, is the exchange of heat between the surface and the air by motion of air. Accumulated means the value represents the sum of the quantity during the accumulation period.",
           "dimensions": [
            "lat",
            "lon",
            "time"
           ],
           "type": "data",
           "unit": "J m**-2"
          },
          "surface_solar_radiation_downwards": {
           "attrs": {
            "long_name": "Surface solar radiation downwards",
            "product_type": "forecast",
            "shortName": "ssrd",
            "standard_name": "integral_wrt_time_of_surface_downwelling_shortwave_flux_in_air"
           },
           "description": "Surface solar irradiance for UV calculations. Accumulated means the value represents the sum of the quantity during the accumulation period.",
           "dimensions": [
            "lat",
            "lon",
            "time"
           ],
           "type": "data",
           "unit": "J m**-2"
          },
          "surface_thermal_radiation_downwards": {
           "attrs": {
            "long_name": "Surface thermal radiation downwards",
            "product_type": "forecast",
            "shortName": "strd",
            "standard_name": "integral_wrt_time_of_surface_downwelling_longwave_flux_in_air"
           },
           "description": "The surface called 'surface' means the lower boundary of the atmosphere. 'longwave' means longwave radiation. Downwelling radiation is radiation from above. It does not mean 'net downward'. When thought of as being incident on a surface, a radiative flux is sometimes called 'irradiance'. In addition, it is identical with the quantity measured by a cosine-collector light-meter and sometimes called 'vector irradiance'. In accordance with common usage in geophysical disciplines, 'flux' implies per unit area, called 'flux density' in physics. Accumulated means the value represents the sum of the quantity during the accumulation period.",
           "dimensions": [
            "lat",
            "lon",
            "time"
           ],
           "type": "data",
           "unit": "J m**-2"
          },
          "temperature_of_snow_layer": {
           "attrs": {
            "long_name": "Temperature of snow layer",
            "product_type": "analysis",
            "shortName": "tsn",
            "standard_name": "temperature_in_surface_snow"
           },
           "description": "This temperature is averaged over all the snow in the grid cell that rests on land or land ice.  When computing the time-mean here, the time samples, weighted by the mass of snow on the land portion of the grid cell, are accumulated and then divided by the sum of the weights.   Reported as missing in regions free of snow on land.",
           "dimensions": [
            "lat",
            "lon",
            "time"
           ],
           "type": "data",
           "unit": "K"
          },
          "total_evaporation": {
           "attrs": {
            "long_name": "Evaporation",
            "product_type": "forecast",
            "shortName": "e",
            "standard_name": "lwe_thickness_of_water_evaporation_amount"
           },
           "description": "'lwe' means liquid water equivalent. 'Amount' means mass per unit area. The construction lwe_thickness_of_X_amount or _content means the vertical extent of a layer of liquid water having the same mass per unit area. 'Water' means water in all phases. Evaporation is the conversion of liquid or solid into vapor. (The conversion of solid alone into vapor is called 'sublimation'.)",
           "dimensions": [
            "lat",
            "lon",
            "time"
           ],
           "type": "data",
           "unit": "m of water equivalent"
          },
          "total_precipitation": {
           "attrs": {
            "long_name": "Total precipitation",
            "product_type": "forecast",
            "shortName": "tp",
            "standard_name": "lwe_thickness_of_precipitation_amount"
           },
           "description": "The construction lwe_thickness_of_X_amount or _content means the vertical extent of a layer of liquid water having the same mass per unit area. 'Precipitation' in the Earth's atmosphere means precipitation of water in all phases. The abbreviation 'lwe' means liquid water equivalent.",
           "dimensions": [
            "lat",
            "lon",
            "time"
           ],
           "type": "data",
           "unit": "m"
          },
          "volumetric_soil_water_layer_1": {
           "attrs": {
            "long_name": "Volumetric soil water layer 1",
            "product_type": "analysis",
            "shortName": "swvl1",
            "standard_name": "volumetric_soil_water"
           },
           "description": "",
           "dimensions": [
            "lat",
            "lon",
            "time"
           ],
           "type": "data",
           "unit": "m**3 m**-3"
          },
          "volumetric_soil_water_layer_2": {
           "attrs": {
            "long_name": "Volumetric soil water layer 2",
            "product_type": "analysis",
            "shortName": "swvl2",
            "standard_name": "volumetric_soil_water"
           },
           "description": "",
           "dimensions": [
            "lat",
            "lon",
            "time"
           ],
           "type": "data",
           "unit": "m**3 m**-3"
          },
          "volumetric_soil_water_layer_3": {
           "attrs": {
            "long_name": "Volumetric soil water layer 3",
            "product_type": "analysis",
            "shortName": "swvl3",
            "standard_name": "volumetric_soil_water"
           },
           "description": "",
           "dimensions": [
            "lat",
            "lon",
            "time"
           ],
           "type": "data",
           "unit": "m**3 m**-3"
          },
          "volumetric_soil_water_layer_4": {
           "attrs": {
            "long_name": "Volumetric soil water layer 4",
            "product_type": "analysis",
            "shortName": "swvl4",
            "standard_name": "volumetric_soil_water"
           },
           "description": "",
           "dimensions": [
            "lat",
            "lon",
            "time"
           ],
           "type": "data",
           "unit": "m**3 m**-3"
          }
         },
         "dedl:short_description": "The ERA5-Land dataset contains gridded global land surface variables at a 0.1°x0.1° resolution, covering January 1950 to present, updated monthly with a lag of approximately three months, offering insights into various aspects of the Earth system, including meteorology, hydrology, and ecology.",
         "description": "ERA5-Land is a reanalysis dataset providing a consistent view of the evolution of land variables over several decades at an enhanced resolution compared to ERA5. ERA5-Land has been produced by replaying the land component of the ECMWF ERA5 climate reanalysis. Reanalysis combines model data with observations from across the world into a globally complete and consistent dataset using the laws of physics. Reanalysis produces data that goes several decades back in time, providing an accurate description of the climate of the past. ERA5-Land uses as input to control the simulated land fields ERA5 atmospheric variables, such as air temperature and air humidity. This is called the atmospheric forcing. Without the constraint of the atmospheric forcing, the model-based estimates can rapidly deviate from reality. Therefore, while observations are not directly used in the production of ERA5-Land, they have an indirect influence through the atmospheric forcing used to run the simulation. In addition, the input air temperature, air humidity and pressure used to run ERA5-Land are corrected to account for the altitude difference between the grid of the forcing and the higher resolution grid of ERA5-Land. This correction is called 'lapse rate correction'. The ERA5-Land dataset, as any other simulation, provides estimates which have some degree of uncertainty. Numerical models can only provide a more or less accurate representation of the real physical processes governing different components of the Earth System. In general, the uncertainty of model estimates grows as we go back in time, because the number of observations available to create a good quality atmospheric forcing is lower. ERA5-land parameter fields can currently be used in combination with the uncertainty of the equivalent ERA5 fields. The temporal and spatial resolutions of ERA5-Land makes this dataset very useful for all kind of land surface applications such as flood or drought forecasting. The temporal and spatial resolution of this dataset, the period covered in time, as well as the fixed grid used for the data distribution at any period enables decisions makers, businesses and individuals to access and use more accurate information on land states.\n\nMain Variables:[['Name'\t'Full_Name'\t'ShortName'\t'Units'\t'Description'\t'url']\n ['10m u-component of wind'\t'10m U wind over land'\t'~'\t'm.s⁻¹'\n  'Eastward component of the 10m wind. It is the horizontal speed of air moving towards the east, at a height of ten metres above the surface of the Earth, in metres per second. Care should be taken when comparing this variable with observations, because wind observations vary on small space and time scales and are affected by the local terrain, vegetation and buildings that are represented only on average in the ECMWF Integrated Forecasting System. This variable can be combined with the V component of 10m wind to give the speed and direction of the horizontal 10m wind.'\n  'https://codes.ecmwf.int/grib/param-db/?id=174085']\n ['10m v-component of wind'\t'10m V wind over land'\t'~'\t'm.s⁻¹'\n  'Northward component of the 10m wind. It is the horizontal speed of air moving towards the north, at a height of ten metres above the surface of the Earth, in metres per second. Care should be taken when comparing this variable with observations, because wind observations vary on small space and time scales and are affected by the local terrain, vegetation and buildings that are represented only on average in the ECMWF Integrated Forecasting System. This variable can be combined with the U component of 10m wind to give the speed and direction of the horizontal 10m wind.'\n  'https://codes.ecmwf.int/grib/param-db/?id=174086']\n ['2m dewpoint temperature'\t'2m Dew Point Temperature'\t'td_2m'\t'K'\n  \"Temperature to which the air, at 2 metres above the surface of the Earth, would have to be cooled for saturation to occur.It is a measure of the humidity of the air. Combined with temperature and pressure, it can be used to calculate the relative humidity. 2m dew point temperature is calculated by interpolating between the lowest model level and the Earth's surface, taking account of the atmospheric conditions. Temperature measured in kelvin can be converted to degrees Celsius (°C) by subtracting 273.15.\"\n  'https://codes.ecmwf.int/grib/param-db/?id=500017']\n ['2m temperature'\t'2m Temperature'\t't_2m'\t'K'\n  \"Temperature of air at 2m above the surface of land, sea or in-land waters. 2m temperature is calculated by interpolating between the lowest model level and the Earth's surface, taking account of the atmospheric conditions. Temperature measured in kelvin can be converted to degrees Celsius (°C) by subtracting 273.15.\"\n  'https://codes.ecmwf.int/grib/param-db/?id=500011']\n ['Evaporation from bare soil'\t'Evaporation from bare soil'\t'evabs'\n  'm of water equivalent'\n  'The amount of evaporation from bare soil at the top of the land surface. This variable is accumulated from the beginning of the forecast time to the end of the forecast step.'\n  'https://codes.ecmwf.int/grib/param-db/?id=228101']\n ['Evaporation from open water surfaces excluding oceans'\n  'Evaporation from open water surfaces excluding oceans'\t'evaow'\n  'm of water equivalent'\n  'Amount of evaporation from surface water storage like lakes and inundated areas but excluding oceans. This variable is accumulated from the beginning of the forecast time to the end of the forecast step.'\n  'https://codes.ecmwf.int/grib/param-db/?id=228102']\n ['Evaporation from the top of canopy'\n  'Evaporation from the top of canopy'\t'evatc'\t'm of water equivalent'\n  'The amount of evaporation from the canopy interception reservoir at the top of the canopy. This variable is accumulated from the beginning of the forecast time to the end of the forecast step.'\n  'https://codes.ecmwf.int/grib/param-db/?id=228100']\n ['Evaporation from vegetation transpiration'\n  'Evaporation from vegetation transpiration'\t'evavt'\n  'm of water equivalent'\n  'Amount of evaporation from vegetation transpiration. This has the same meaning as root extraction i.e. the amount of water extracted from the different soil layers. This variable is accumulated from the beginning of the forecast time to the end of the forecast step.'\n  'https://codes.ecmwf.int/grib/param-db/?id=228103']\n ['Forecast albedo'\t'Forecast albedo'\t'fal'\t'(0 - 1)'\n  \"Is a measure of the reflectivity of the Earth's surface. It is the fraction of solar (shortwave) radiation reflected by Earth's surface, across the solar spectrum, for both direct and diffuse radiation. Values are between 0 and 1. Typically, snow and ice have high reflectivity with albedo values of 0.8 and above, land has intermediate values between about 0.1 and 0.4 and the ocean has low values of 0.1 or less. Radiation from the Sun (solar, or shortwave, radiation) is partly reflected back to space by clouds and particles in the atmosphere (aerosols) and some of it is absorbed. The rest is incident on the Earth's surface, where some of it is reflected. The portion that is reflected by the Earth's surface depends on the albedo. In the ECMWF Integrated Forecasting System (IFS), a climatological background albedo (observed values averaged over a period of several years) is used, modified by the model over water, ice and snow. Albedo is often shown as a percentage (%).\"\n  'https://codes.ecmwf.int/grib/param-db/?id=243']\n ['Lake bottom temperature'\t'Lake bottom temperature'\t'lblt'\t'K'\n  'Temperature of water at the bottom of inland water bodies (lakes, reservoirs, rivers) and coastal waters. ECMWF implemented a lake model in May 2015 to represent the water temperature and lake ice of all the world’s major inland water bodies in the Integrated Forecasting System. The model keeps lake depth and surface area (or fractional cover) constant in time.'\n  'https://codes.ecmwf.int/grib/param-db/?id=228010']\n ['Lake ice depth'\t'Lake ice total depth'\t'licd'\t'm'\n  'The thickness of ice on inland water bodies (lakes, reservoirs and rivers) and coastal waters. The ECMWF Integrated Forecasting System (IFS) represents the formation and melting of ice on inland water bodies (lakes, reservoirs and rivers) and coastal water. A single ice layer is represented. This parameter is the thickness of that ice layer.'\n  'https://codes.ecmwf.int/grib/param-db/?id=228014']\n ['Lake ice temperature'\t'Lake ice surface temperature'\t'lict'\t'K'\n  'The temperature of the uppermost surface of ice on inland water bodies (lakes, reservoirs, rivers) and coastal waters. The ECMWF Integrated Forecasting System represents the formation and melting of ice on lakes. A single ice layer is represented. The temperature measured in kelvin can be converted to degrees Celsius (°C) by subtracting 273.15.'\n  'https://codes.ecmwf.int/grib/param-db/?id=228013']\n ['Lake mix-layer depth'\tnan\tnan\tnan\n  'The thickness of the upper most layer of an inland water body (lake, reservoirs, and rivers) or coastal waters that is well mixed and has a near constant temperature with depth (uniform distribution of temperature). The ECMWF Integrated Forecasting System represents inland water bodies with two layers in the vertical, the mixed layer above and the thermocline below. Thermoclines upper boundary is located at the mixed layer bottom, and the lower boundary at the lake bottom. Mixing within the mixed layer can occur when the density of the surface (and near-surface) water is greater than that of the water below. Mixing can also occur through the action of wind on the surface of the lake.'\n  nan]\n ['Lake mix-layer temperature'\tnan\tnan\tnan\n  'The temperature of the upper most layer of inland water bodies (lakes, reservoirs and rivers) or coastal waters) that is well mixed. The ECMWF Integrated Forecasting System represents inland water bodies with two layers in the vertical, the mixed layer above and the thermocline below. Thermoclines upper boundary is located at the mixed layer bottom, and the lower boundary at the lake bottom. Mixing within the mixed layer can occur when the density of the surface (and near-surface) water is greater than that of the water below. Mixing can also occur through the action of wind on the surface of the lake. Temperature measured in kelvin can be converted to degrees Celsius (°C) by subtracting 273.15.'\n  nan]\n ['Lake shape factor'\t'Lake shape factor'\t'lshf'\t'dimensionless'\n  'This parameter describes the way that temperature changes with depth in the thermocline layer of inland water bodies (lakes, reservoirs and rivers) and coastal waters. It is used to calculate the lake bottom temperature and other lake-related parameters. The ECMWF Integrated Forecasting System represents inland and coastal water bodies with two layers in the vertical, the mixed layer above and the thermocline below where temperature changes with depth.'\n  'https://codes.ecmwf.int/grib/param-db/?id=228012']\n ['Lake total layer temperature'\t'Lake total layer temperature'\t'ltlt'\n  'K'\n  'The mean temperature of total water column in inland water bodies (lakes, reservoirs and rivers) and coastal waters. The ECMWF Integrated Forecasting System represents inland water bodies with two layers in the vertical, the mixed layer above and the thermocline below where temperature changes with depth. This parameter is the mean over the two layers. Temperature measured in kelvin can be converted to degrees Celsius (°C) by subtracting 273.15.'\n  'https://codes.ecmwf.int/grib/param-db/?id=228011']\n ['Leaf area index, high vegetation'\t'Leaf area index high vegetation'\n  'lai_hv'\t'm².m⁻²'\n  'One-half of the total green leaf area per unit horizontal ground surface area for high vegetation type.'\n  'https://codes.ecmwf.int/grib/param-db/?id=67']\n ['Leaf area index, low vegetation'\t'Leaf area index low vegetation'\n  'lai_lv'\t'm².m⁻²'\n  'One-half of the total green leaf area per unit horizontal ground surface area for low vegetation type.'\n  'https://codes.ecmwf.int/grib/param-db/?id=66']\n ['Potential evaporation'\t'Potential evaporation'\t'pev'\t'm'\n  'Potential evaporation (pev) in the current ECMWF model is computed, by making a second call to the surface energy balance routine with the vegetation variables set to \"crops/mixed farming\" and assuming no stress from soil moisture. In other words, evaporation is computed for agricultural land as if it is well watered and assuming that the atmosphere is not affected by this artificial surface condition. The latter may not always be realistic. Although pev is meant to provide an estimate of irrigation requirements, the method can give unrealistic results in arid conditions due to too strong evaporation forced by dry air. Note that in ERA5-Land pev is computed as an open water evaporation (Pan evaporation) and assuming that the atmosphere is not affected by this artificial surface condition. The latter is different  from the way pev is computed in ERA5. This variable is accumulated from the beginning of the forecast time to the end of the forecast step.'\n  'https://codes.ecmwf.int/grib/param-db/?id=228251']\n ['Runoff'\t'Runoff'\t'ro'\t'm'\n  \"Some water from rainfall, melting snow, or deep in the soil, stays stored in the soil. Otherwise, the water drains away, either over the surface (surface runoff), or under the ground (sub-surface runoff) and the sum of these two is simply called 'runoff'. This variable is the total amount of water accumulated from the beginning of the forecast time to the end of the forecast step. The units of runoff are depth in metres. This is the depth the water would have if it were spread evenly over the grid box. Care should be taken when comparing model variables with observations, because observations are often local to a particular point rather than averaged over a grid square area.  Observations are also often taken in different units, such as mm/day, rather than the accumulated metres produced here. Runoff is a measure of the availability of water in the soil, and can, for example, be used as an indicator of drought or flood. More information about how runoff is calculated is given in the IFS Physical Processes documentation.\"\n  'https://codes.ecmwf.int/grib/param-db/?id=205']\n ['Skin reservoir content'\t'Skin reservoir content'\t'src'\n  'm of water equivalent'\n  \"Amount of water in the vegetation canopy and/or in a thin layer on the soil. It represents the amount of rain intercepted by foliage, and water from dew. The maximum amount of 'skin reservoir content' a grid box can hold depends on the type of vegetation, and may be zero.  Water leaves the 'skin reservoir' by evaporation.\"\n  'https://codes.ecmwf.int/grib/param-db/?id=198']\n ['Skin temperature'\t'Skin temperature'\t'skt'\t'K'\n  'Temperature of the surface of the Earth. The skin temperature is the theoretical temperature that is required to satisfy the surface energy balance. It represents the temperature of the uppermost surface layer, which has no heat capacity and so can respond instantaneously to changes in surface fluxes. Skin temperature is calculated differently over land and sea. Temperature measured in kelvin can be converted to degrees Celsius (°C) by subtracting 273.15.'\n  'https://codes.ecmwf.int/grib/param-db/?id=235']\n ['Snow albedo'\t'Snow albedo'\t'asn'\t'(0 - 1)'\n  'It is defined as the fraction of solar (shortwave) radiation reflected by the snow, across the solar spectrum, for both direct and diffuse radiation. It is a measure of the reflectivity of the snow covered grid cells. Values vary between 0 and 1. Typically, snow and ice have high reflectivity with albedo values of 0.8 and above.'\n  'https://codes.ecmwf.int/grib/param-db/?id=32']\n ['Snow cover'\t'Snow cover'\t'snowc'\t'%'\n  'It represents the fraction (0-1) of the cell / grid-box occupied by snow (similar to the cloud cover fields of ERA5).'\n  'https://codes.ecmwf.int/grib/param-db/?id=260038']\n ['Snow density'\t'Snow density'\t'rsn'\t'kg.m⁻³'\n  'Mass of snow per cubic metre in the snow layer. The ECMWF Integrated Forecast System (IFS) model represents snow as a single additional layer over the uppermost soil level. The snow may cover all or part of the grid box.'\n  'https://codes.ecmwf.int/grib/param-db/?id=33']\n ['Snow depth'\t'Snow depth'\t'sd'\t'm of water equivalent'\n  'Instantaneous grib-box average of the snow thickness on the ground (excluding snow on canopy).'\n  'https://codes.ecmwf.int/grib/param-db/?id=141']\n ['Snow depth water equivalent'\t'Snow depth water equivalent'\t'sd'\n  'kg.m⁻²'\n  'Depth of snow from the snow-covered area of a grid box. Its units are metres of water equivalent, so it is the depth the water would have if the snow melted and was spread evenly over the whole grid box. The ECMWF Integrated Forecast System represents snow as a single additional layer over the uppermost soil level. The snow may cover all or part of the grid box.'\n  'https://codes.ecmwf.int/grib/param-db/?id=228141']\n ['Snow evaporation'\t'Snow evaporation'\t'es'\t'm of water equivalent'\n  'Evaporation from snow averaged over the grid box (to find flux over snow, divide by snow fraction). This variable is accumulated from the beginning of the forecast time to the end of the forecast step.'\n  'https://codes.ecmwf.int/grib/param-db/?id=44']\n ['Snowfall'\t'Snowfall'\t'sf'\t'm of water equivalent'\n  \"Accumulated total snow that has fallen to the Earth's surface. It consists of snow due to the large-scale atmospheric flow (horizontal scales greater than around a few hundred metres) and convection where smaller scale areas (around 5km to a few hundred kilometres) of warm air rise. If snow has melted during the period over which this variable was accumulated, then it will be higher than the snow depth. This variable is the total amount of water accumulated from the beginning of the forecast time to the end of the forecast step. The units given measure the depth the water would have if the snow melted and was spread evenly over the grid box. Care should be taken when comparing model variables with observations, because observations are often local to a particular point in space and time, rather than representing averages over a model grid box and model time step.\"\n  'https://codes.ecmwf.int/grib/param-db/?id=144']\n ['Snowmelt'\t'Snowmelt'\t'smlt'\t'm of water equivalent'\n  'Melting of snow averaged over the grid box (to find melt over snow, divide by snow fraction). This variable is accumulated from the beginning of the forecast time to the end of the forecast step.'\n  'https://codes.ecmwf.int/grib/param-db/?id=45']\n ['Soil temperature level 1'\t'Soil temperature level 1'\t'stl1'\t'K'\n  'Temperature of the soil in layer 1 (0 - 7 cm) of the ECMWF Integrated Forecasting System. The surface is at 0 cm. Soil temperature is set at the middle of each layer, and heat transfer is calculated at the interfaces between them. It is assumed that there is no heat transfer out of the bottom of the lowest layer. Temperature measured in kelvin can be converted to degrees Celsius (°C) by subtracting 273.15.'\n  'https://codes.ecmwf.int/grib/param-db/?id=139']\n ['Soil temperature level 2'\t'Soil temperature level 2'\t'stl2'\t'K'\n  'Temperature of the soil in layer 2 (7 -28cm) of the ECMWF Integrated Forecasting System.'\n  'https://codes.ecmwf.int/grib/param-db/?id=170']\n ['Soil temperature level 3'\t'Soil temperature level 3'\t'stl3'\t'K'\n  'Temperature of the soil in layer 3 (28-100cm) of the ECMWF Integrated Forecasting System.'\n  'https://codes.ecmwf.int/grib/param-db/?id=183']\n ['Soil temperature level 4'\t'Soil temperature level 4'\t'stl4'\t'K'\n  'Temperature of the soil in layer 4 (100-289 cm) of the ECMWF Integrated Forecasting System.'\n  'https://codes.ecmwf.int/grib/param-db/?id=236']\n ['Sub-surface runoff'\tnan\tnan\tnan\n  \"Some water from rainfall, melting snow, or deep in the soil, stays stored in the soil. Otherwise, the water drains away, either over the surface (surface runoff), or under the ground (sub-surface runoff) and the sum of these two is simply called 'runoff'. This variable is accumulated from the beginning of the forecast time to the end of the forecast step. The units of runoff are depth in metres. This is the depth the water would have if it were spread evenly over the grid box. Care should be taken when comparing model variables with observations, because observations are often local to a particular point rather than averaged over a grid square area.  Observations are also often taken in different units, such as mm/day, rather than the accumulated metres produced here. Runoff is a measure of the availability of water in the soil, and can, for example, be used as an indicator of drought or flood. More information about how runoff is calculated is given in the IFS Physical Processes documentation.\"\n  nan]\n ['Surface latent heat flux'\t'Surface latent heat flux'\t'slhf'\t'J.m⁻²'\n  'Exchange of latent heat with the surface through turbulent diffusion. This variables is accumulated from the beginning of the forecast time to the end of the forecast step. By model convention, downward fluxes are positive.'\n  'https://codes.ecmwf.int/grib/param-db/?id=147']\n ['Surface net solar radiation'\t'Surface net solar radiation'\t'ssr'\n  'J.m⁻²'\n  \"Amount of solar radiation (also known as shortwave radiation) reaching the surface of the Earth (both direct and diffuse) minus the amount reflected by the Earth's surface (which is governed by the albedo).Radiation from the Sun (solar, or shortwave, radiation) is partly reflected back to space by clouds and particles in the atmosphere (aerosols) and some of it is absorbed. The rest is incident on the Earth's surface, where some of it is reflected. The difference between downward and reflected solar radiation is the surface net solar radiation. This variable is accumulated from the beginning of the forecast time to the end of the forecast step. The units are joules per square metre (J m -2). To convert to watts per square metre (W m -2), the accumulated values should be divided by the accumulation period expressed in seconds. The ECMWF convention for vertical fluxes is positive downwards.\"\n  'https://codes.ecmwf.int/grib/param-db/?id=180176']\n ['Surface net thermal radiation'\n  'Surface net long-wave (thermal) radiation'\t'str'\t'J.m⁻²'\n  'Net thermal radiation at the surface. Accumulated field from the beginning of the forecast time to the end of the forecast step. By model convention downward fluxes are positive.'\n  'https://codes.ecmwf.int/grib/param-db/?id=177']\n ['Surface net thermal radiation'\t'Surface net thermal radiation'\t'str'\n  'J.m⁻²'\n  'Net thermal radiation at the surface. Accumulated field from the beginning of the forecast time to the end of the forecast step. By model convention downward fluxes are positive.'\n  'https://codes.ecmwf.int/grib/param-db/?id=180177']\n ['Surface pressure'\t'Surface pressure'\t'sp'\t'Pa'\n  \"Pressure (force per unit area) of the atmosphere on the surface of land, sea and in-land water. It is a measure of the weight of all the air in a column vertically above the area of the Earth's surface represented at a fixed point. Surface pressure is often used in combination with temperature to calculate air density. The strong variation of pressure with altitude makes it difficult to see the low and high pressure systems over mountainous areas, so mean sea level pressure, rather than surface pressure, is normally used for this purpose. The units of this variable are Pascals (Pa). Surface pressure is often measured in hPa and sometimes is presented in the old units of millibars, mb (1 hPa = 1 mb = 100 Pa).\"\n  'https://codes.ecmwf.int/grib/param-db/?id=134']\n ['Surface runoff'\t'Surface runoff'\t'sro'\t'm'\n  \"Some water from rainfall, melting snow, or deep in the soil, stays stored in the soil. Otherwise, the water drains away, either over the surface (surface runoff), or under the ground (sub-surface runoff) and the sum of these two is simply called 'runoff'. This variable is the total amount of water accumulated from the beginning of the forecast time to the end of the forecast step. The units of runoff are depth in metres. This is the depth the water would have if it were spread evenly over the grid box. Care should be taken when comparing model variables with observations, because observations are often local to a particular point rather than averaged over a grid square area. Observations are also often taken in different units, such as mm/day, rather than the accumulated metres produced here. Runoff is a measure of the availability of water in the soil, and can, for example, be used as an indicator of drought or flood. More information about how runoff is calculated is given in the IFS Physical Processes documentation.\"\n  'https://codes.ecmwf.int/grib/param-db/?id=8']\n ['Surface sensible heat flux'\t'Surface sensible heat flux'\t'sshf'\n  'J.m⁻²'\n  \"Transfer of heat between the Earth's surface and the atmosphere through the effects of turbulent air motion (but excluding any heat transfer resulting from condensation or evaporation). The magnitude of the sensible heat flux is governed by the difference in temperature between the surface and the overlying atmosphere, wind speed and the surface roughness. For example, cold air overlying a warm surface would produce a sensible heat flux from the land (or ocean) into the atmosphere. This is a single level variable and it is accumulated from the beginning of the forecast time to the end of the forecast step. The units are joules per square metre (J m -2). To convert to watts per square metre (W m -2), the accumulated values should be divided by the accumulation period expressed in seconds. The ECMWF convention for vertical fluxes is positive downwards.\"\n  'https://codes.ecmwf.int/grib/param-db/?id=146']\n ['Surface solar radiation downwards'\n  'Surface short-wave (solar) radiation downwards'\t'ssrd'\t'J.m⁻²'\n  \"Amount of solar radiation (also known as shortwave radiation) reaching the surface of the Earth. This variable comprises both direct and diffuse solar radiation. Radiation from the Sun (solar, or shortwave, radiation) is partly reflected back to space by clouds and particles in the atmosphere (aerosols) and some of it is absorbed.  The rest is incident on the Earth's surface (represented by this variable). To a reasonably good approximation, this variable is the model equivalent of what would be measured by a pyranometer (an instrument used for measuring solar radiation) at the surface. However, care should be taken when comparing model variables with observations, because observations are often local to a particular point in space and time, rather than representing averages over a  model grid box and model time step. This variable is accumulated from the beginning of the forecast time to the end of the forecast step. The units are joules per square metre (J m -2). To convert to watts per square metre (W m -2), the accumulated values should be divided by the accumulation period expressed in seconds. The ECMWF convention for vertical fluxes is positive downwards.\"\n  'https://codes.ecmwf.int/grib/param-db/?id=169']\n ['Surface thermal radiation downwards'\tnan\tnan\tnan\n  \"Amount of thermal (also known as longwave or terrestrial) radiation emitted by the atmosphere and clouds that reaches the Earth's surface. The surface of the Earth emits thermal radiation, some of which is absorbed by the atmosphere and clouds. The atmosphere and clouds likewise emit thermal radiation in all directions, some of which reaches the surface (represented by this variable). This variable is accumulated from the beginning of the forecast time to the end of the forecast step. The units are joules per square metre (J m -2). To convert to watts per square metre (W m -2), the accumulated values should be divided by the accumulation period expressed in seconds. The ECMWF convention for vertical fluxes is positive downwards.\"\n  nan]\n ['Temperature of snow layer'\t'Temperature of snow layer'\t'tsn'\t'K'\n  'This variable gives the temperature of the snow layer from the ground to the snow-air interface. The ECMWF Integrated Forecast System (IFS) model represents snow as a single additional layer over the uppermost soil level. The snow may cover all or part of the  grid box. Temperature measured in kelvin can be converted to degrees Celsius (°C) by subtracting 273.15.'\n  'https://codes.ecmwf.int/grib/param-db/?id=238']\n ['Total evaporation'\t'Evaporation'\t'e'\t'm of water equivalent'\n  \"Accumulated amount of water that has evaporated from the Earth's surface, including a simplified representation of transpiration (from vegetation), into vapour in the air above. This variable is accumulated from the beginning of the forecast to the end of the forecast step. The ECMWF Integrated Forecasting System convention is that downward fluxes are positive. Therefore, negative values indicate evaporation and positive values indicate condensation.\"\n  'https://codes.ecmwf.int/grib/param-db/?id=182']\n ['Total precipitation'\t'Total precipitation'\t'tp'\t'm'\n  \"Accumulated liquid and frozen water, including rain and snow, that falls to the Earth's surface. It is the sum of large-scale precipitation (that precipitation which is generated by large-scale weather patterns, such as troughs and cold fronts) and convective precipitation (generated by convection which occurs when air at lower levels in the atmosphere is warmer and less dense than the air above, so it rises). Precipitation variables do not include fog, dew or the precipitation that evaporates in the atmosphere before it lands at the surface of the Earth. This variable is accumulated from the beginning of the forecast time to the end of the forecast step. The units of precipitation are depth in metres. It is the depth the water would have if it were spread evenly over the grid box. Care should be taken when comparing model variables with observations, because observations are often local to a particular point in space and time, rather than representing averages over a model grid box and  model time step.\"\n  'https://codes.ecmwf.int/grib/param-db/?id=228']\n ['Volumetric soil water layer 1'\t'Volumetric soil water layer 1'\t'swvl1'\n  'm³.m⁻³'\n  'Volume of water in soil layer 1 (0 - 7 cm) of the ECMWF Integrated Forecasting System. The surface is at 0 cm. The volumetric soil water is associated with the soil texture (or classification), soil depth, and the underlying groundwater level.'\n  'https://codes.ecmwf.int/grib/param-db/?id=39']\n ['Volumetric soil water layer 2'\t'Volumetric soil water layer 2'\t'swvl2'\n  'm³.m⁻³'\n  'Volume of water in soil layer 2 (7 -28 cm) of the ECMWF Integrated Forecasting System.'\n  'https://codes.ecmwf.int/grib/param-db/?id=40']\n ['Volumetric soil water layer 3'\t'Volumetric soil water layer 3'\t'swvl3'\n  'm³.m⁻³'\n  'Volume of water in soil layer 3 (28-100 cm) of the ECMWF Integrated Forecasting System.'\n  'https://codes.ecmwf.int/grib/param-db/?id=41']\n ['Volumetric soil water layer 4'\t'Volumetric soil water layer 4'\t'swvl4'\n  'm³.m⁻³'\n  'Volume of water in soil layer 4 (100-289 cm) of the ECMWF Integrated Forecasting System.'\n  'https://codes.ecmwf.int/grib/param-db/?id=42']]\n\nData type: Gridded\nProjection: Regular latitude-longitude grid\nHorizontal coverage: Global\nHorizontal resolution: 0.1° x 0.1°; Native resolution is 9 km.\nVertical coverage: From 2 m above the surface level, to a soil depth of 289 cm.\nVertical resolution: 4 levels of the ECMWF surface model: Layer 1: 0 -7cm, Layer 2: 7 -28cm, Layer 3: 28-100cm, Layer 4: 100-289cm\nSome parameters are defined at 2 m over the surface.\nJanuary 1950 to present\nTemporal resolution: Hourly\nFile format: GRIB\nUpdate frequency: Monthly with a delay of about three months relatively to actual date.",
         "extent": {
          "spatial": {
           "bbox": [
            [
             -180,
             -90,
             180,
             90
            ]
           ]
          },
          "temporal": {
           "interval": [
            [
             "1950-01-02T00:00:00Z",
             null
            ]
           ]
          }
         },
         "id": "EO.ECMWF.DAT.ERA5_LAND_HOURLY",
         "item_assets": {
          "10m_u_component_of_wind": {
           "roles": [
            "data"
           ],
           "title": "10 metre U wind component",
           "type": "application/grib"
          },
          "10m_v_component_of_wind": {
           "roles": [
            "data"
           ],
           "title": "10 metre V wind component",
           "type": "application/grib"
          },
          "2m_dewpoint_temperature": {
           "roles": [
            "data"
           ],
           "title": "2 metre dewpoint temperature",
           "type": "application/grib"
          },
          "2m_temperature": {
           "roles": [
            "data"
           ],
           "title": "2 metre temperature",
           "type": "application/grib"
          },
          "evaporation_from_bare_soil": {
           "roles": [
            "data"
           ],
           "title": "Evaporation from bare soil",
           "type": "application/grib"
          },
          "evaporation_from_open_water_surfaces_excluding_oceans": {
           "roles": [
            "data"
           ],
           "title": "Evaporation from open water surfaces excluding oceans",
           "type": "application/grib"
          },
          "evaporation_from_the_top_of_canopy": {
           "roles": [
            "data"
           ],
           "title": "Evaporation from the top of canopy",
           "type": "application/grib"
          },
          "evaporation_from_vegetation_transpiration": {
           "roles": [
            "data"
           ],
           "title": "Evaporation from vegetation transpiration",
           "type": "application/grib"
          },
          "forecast_albedo": {
           "roles": [
            "data"
           ],
           "title": "Forecast albedo",
           "type": "application/grib"
          },
          "lake_bottom_temperature": {
           "roles": [
            "data"
           ],
           "title": "Lake bottom temperature",
           "type": "application/grib"
          },
          "lake_ice_depth": {
           "roles": [
            "data"
           ],
           "title": "Lake ice depth",
           "type": "application/grib"
          },
          "lake_ice_temperature": {
           "roles": [
            "data"
           ],
           "title": "Lake ice temperature",
           "type": "application/grib"
          },
          "lake_mix_layer_depth": {
           "roles": [
            "data"
           ],
           "title": "Lake mix-layer depth",
           "type": "application/grib"
          },
          "lake_mix_layer_temperature": {
           "roles": [
            "data"
           ],
           "title": "Lake mix-layer temperature",
           "type": "application/grib"
          },
          "lake_shape_factor": {
           "roles": [
            "data"
           ],
           "title": "Lake shape factor",
           "type": "application/grib"
          },
          "lake_total_layer_temperature": {
           "roles": [
            "data"
           ],
           "title": "Lake total layer temperature",
           "type": "application/grib"
          },
          "leaf_area_index_high_vegetation": {
           "roles": [
            "data"
           ],
           "title": "Leaf area index, high vegetation",
           "type": "application/grib"
          },
          "leaf_area_index_low_vegetation": {
           "roles": [
            "data"
           ],
           "title": "Leaf area index, low vegetation",
           "type": "application/grib"
          },
          "potential_evaporation": {
           "roles": [
            "data"
           ],
           "title": "Potential evaporation",
           "type": "application/grib"
          },
          "runoff": {
           "roles": [
            "data"
           ],
           "title": "Runoff",
           "type": "application/grib"
          },
          "skin_reservoir_content": {
           "roles": [
            "data"
           ],
           "title": "Skin reservoir content",
           "type": "application/grib"
          },
          "skin_temperature": {
           "roles": [
            "data"
           ],
           "title": "skin_temperature",
           "type": "application/grib"
          },
          "snow_albedo": {
           "roles": [
            "data"
           ],
           "title": "Snow albedo",
           "type": "application/grib"
          },
          "snow_cover": {
           "roles": [
            "data"
           ],
           "title": "Snow cover",
           "type": "application/grib"
          },
          "snow_density": {
           "roles": [
            "data"
           ],
           "title": "Snow density",
           "type": "application/grib"
          },
          "snow_depth": {
           "roles": [
            "data"
           ],
           "title": "Snow depth",
           "type": "application/grib"
          },
          "snow_depth_water_equivalent": {
           "roles": [
            "data"
           ],
           "title": "Snow depth water equivalent",
           "type": "application/grib"
          },
          "snowfall": {
           "roles": [
            "data"
           ],
           "title": "Snowfall",
           "type": "application/grib"
          },
          "snowmelt": {
           "roles": [
            "data"
           ],
           "title": "Snowmelt",
           "type": "application/grib"
          },
          "soil_temperature_level_1": {
           "roles": [
            "data"
           ],
           "title": "Soil temperature level 1",
           "type": "application/grib"
          },
          "soil_temperature_level_2": {
           "roles": [
            "data"
           ],
           "title": "Soil temperature level 2",
           "type": "application/grib"
          },
          "soil_temperature_level_3": {
           "roles": [
            "data"
           ],
           "title": "Soil temperature level 3",
           "type": "application/grib"
          },
          "soil_temperature_level_4": {
           "roles": [
            "data"
           ],
           "title": "Soil temperature level 4",
           "type": "application/grib"
          },
          "sub_surface_runoff": {
           "roles": [
            "data"
           ],
           "title": "Sub-surface runoff",
           "type": "application/grib"
          },
          "surface_latent_heat_flux": {
           "roles": [
            "data"
           ],
           "title": "Surface latent heat flux",
           "type": "application/grib"
          },
          "surface_net_solar_radiation": {
           "roles": [
            "data"
           ],
           "title": "Surface net solar radiation",
           "type": "application/grib"
          },
          "surface_net_thermal_radiation": {
           "roles": [
            "data"
           ],
           "title": "Surface net thermal radiation",
           "type": "application/grib"
          },
          "surface_pressure": {
           "roles": [
            "data"
           ],
           "title": "Surface pressure",
           "type": "application/grib"
          },
          "surface_runoff": {
           "roles": [
            "data"
           ],
           "title": "Surface runoff",
           "type": "application/grib"
          },
          "surface_sensible_heat_flux": {
           "roles": [
            "data"
           ],
           "title": "Surface sensible heat flux",
           "type": "application/grib"
          },
          "surface_solar_radiation_downwards": {
           "roles": [
            "data"
           ],
           "title": "Surface solar radiation downwards",
           "type": "application/grib"
          },
          "surface_thermal_radiation_downwards": {
           "roles": [
            "data"
           ],
           "title": "Surface thermal radiation downwards",
           "type": "application/grib"
          },
          "temperature_of_snow_layer": {
           "roles": [
            "data"
           ],
           "title": "Temperature of snow layer",
           "type": "application/grib"
          },
          "total_evaporation": {
           "roles": [
            "data"
           ],
           "title": "Total Evaporation",
           "type": "application/grib"
          },
          "total_precipitation": {
           "roles": [
            "data"
           ],
           "title": "Total precipitation",
           "type": "application/grib"
          },
          "volumetric_soil_water_layer_1": {
           "roles": [
            "data"
           ],
           "title": "Volumetric soil water layer 1",
           "type": "application/grib"
          },
          "volumetric_soil_water_layer_2": {
           "roles": [
            "data"
           ],
           "title": "Volumetric soil water layer 2",
           "type": "application/grib"
          },
          "volumetric_soil_water_layer_3": {
           "roles": [
            "data"
           ],
           "title": "Volumetric soil water layer 3",
           "type": "application/grib"
          },
          "volumetric_soil_water_layer_4": {
           "roles": [
            "data"
           ],
           "title": "Volumetric soil water layer 4",
           "type": "application/grib"
          }
         },
         "keywords": [
          "Past",
          "Copernicus C3S",
          "Land (physics)",
          "Global",
          "land conditions",
          "Reanalysis",
          "Land (biosphere)",
          "Land (hydrology)"
         ],
         "license": "proprietary",
         "links": [
          {
           "href": "https://hda.data.destination-earth.eu/stac/v2/collections/EO.ECMWF.DAT.ERA5_LAND_HOURLY/order",
           "method": "POST",
           "rel": "retrieve",
           "title": "Retrieve",
           "type": "application/geo+json"
          },
          {
           "href": "https://hda.data.destination-earth.eu/stac/v2/collections/EO.ECMWF.DAT.ERA5_LAND_HOURLY/queryables",
           "rel": "http://www.opengis.net/def/rel/ogc/1.0/queryables",
           "title": "Queryables",
           "type": "application/schema+json"
          },
          {
           "href": "https://hda.data.destination-earth.eu/stac/v2/collections/EO.ECMWF.DAT.ERA5_LAND_HOURLY/items",
           "rel": "items",
           "title": "Items",
           "type": "application/geo+json"
          },
          {
           "href": "https://hda.data.destination-earth.eu/stac/v2/collections/EO.ECMWF.DAT.ERA5_LAND_HOURLY",
           "rel": "self",
           "title": "EO.ECMWF.DAT.ERA5_LAND_HOURLY",
           "type": "application/json"
          },
          {
           "href": "https://object-store.os-api.cci2.ecmwf.int/cci2-prod-catalogue/licences/licence-to-use-copernicus-products/licence-to-use-copernicus-products_b4b9451f54cffa16ecef5c912c9cebd6979925a956e3fa677976e0cf198c2c18.pdf",
           "rel": "license",
           "title": "Licence to Use Copernicus Products",
           "type": "application/pdf"
          },
          {
           "href": "https://doi.org/10.24381/cds.e2161bac",
           "rel": "cite-as",
           "title": "ERA5-Land hourly data from 1950 to present",
           "type": "text/html"
          },
          {
           "href": "https://confluence.ecmwf.int/display/CKB/ERA5-Land%3A+data+documentation",
           "rel": "describedby",
           "title": "ERA5-Land: data documentation",
           "type": "text/html"
          },
          {
           "href": "https://doi.org/10.5194/essd-13-4349-2021",
           "rel": "cite-as",
           "title": "ERA5-Land: a state-of-the-art global reanalysis dataset for land applications",
           "type": "text/html"
          }
         ],
         "providers": [
          {
           "name": "ECMWF",
           "roles": [
            "licensor",
            "producer",
            "processor"
           ],
           "url": "https://www.ecmwf.int"
          }
         ],
         "published": "2023-08-11T18:04:28Z",
         "sci:citation": "Muñoz Sabater, J. (2019): ERA5-Land hourly data from 1950 to present. Copernicus Climate Change Service (C3S) Climate Data Store (CDS). DOI: [10.24381/cds.e2161bac](https://doi.org/10.24381/cds.e2161bac) (Accessed on DD-MMM-YYYY)",
         "sci:doi": "10.24381/cds.e2161bac",
         "sci:publications": [
          {
           "citation": "J. Muñoz-Sabater, Dutra, E., Agustí-Panareda, A., Albergel, C., Arduini, G., Balsamo, G., Boussetta, S., Choulga, M., Harrigan, S., Hersbach, H., Martens, B., Miralles, D. G., Piles, M., Rodríguez-Fernández, N. J., Zsoter, E., Buontempo, C., and Thépaut, J.-N.: ERA5-Land: A state-of-the-art global reanalysis dataset for land applications, Earth Syst. Sci. Data,13, 4349–4383, 2021. https://doi.org/10.5194/essd-13-4349-2021.",
           "doi": "10.5194/essd-13-4349-2021"
          }
         ],
         "stac_extensions": [
          "https://stac-extensions.github.io/datacube/v2.1.0/schema.json",
          "https://stac-extensions.github.io/item-assets/v1.0.0/schema.json",
          "https://stac-extensions.github.io/scientific/v1.0.0/schema.json",
          "https://stac-extensions.github.io/timestamps/v1.1.0/schema.json"
         ],
         "stac_version": "1.0.0",
         "summaries": {
          "federation:backends": [
           "cop_cds",
           "wekeo_ecmwf"
          ]
         },
         "title": "ERA5-Land hourly data from 1950 to present",
         "type": "Collection",
         "updated": "2025-07-30T08:14:06Z"
        },
        {
         "assets": {
          "thumbnail": {
           "href": "https://object-store.os-api.cci2.ecmwf.int/cci2-prod-catalogue/resources/reanalysis-era5-land-monthly-means/overview_b50879b09a1fdb1f128c7784f2ce62378d4c68e156ca0c4ebdc0fe4f26375cf0.png",
           "roles": [
            "thumbnail"
           ],
           "title": "overview",
           "type": "image/png"
          }
         },
         "created": "2023-08-28T15:11:18Z",
         "dedl:short_description": "This dataset consists of ERA5-Land's monthly averaged data from 1950 to present, offering a high-resolution, decade-spanning view of global land variables through combining modelled and observed data according to physical laws.",
         "description": "ERA5-Land is a reanalysis dataset providing a consistent view of the evolution of land variables over several decades at an enhanced resolution compared to ERA5. ERA5-Land has been produced by replaying the land component of the ECMWF ERA5 climate reanalysis. Reanalysis combines model data with observations from across the world into a globally complete and consistent dataset using the laws of physics. Reanalysis produces data that goes several decades back in time, providing an accurate description of the climate of the past.\n\nERA5-Land provides a consistent view of the water and energy cycles at surface level during several decades. It contains a detailed record from 1950 onwards, with a temporal resolution of 1 hour. The native spatial resolution of the ERA5-Land reanalysis dataset is 9km on a reduced Gaussian grid (TCo1279). The data in the CDS has been regridded to a regular lat-lon grid of 0.1x0.1 degrees.\n\nThe data presented here is a post-processed subset of the full ERA5-Land dataset. Monthly-mean averages have been pre-calculated to facilitate many applications requiring easy and fast access to the data, when sub-monthly fields are not required.\n\nHourly fields can be found in the dataset \"ERA5-Land hourly data from 1950 to present\"",
         "extent": {
          "spatial": {
           "bbox": [
            [
             -180,
             -90,
             180,
             90
            ]
           ]
          },
          "temporal": {
           "interval": [
            [
             "1950-01-01T00:00:00Z",
             null
            ]
           ]
          }
         },
         "id": "EO.ECMWF.DAT.ERA5_LAND_MONTHLY",
         "keywords": [
          "Past",
          "Copernicus C3S",
          "Land (physics)",
          "Land conditions",
          "Global",
          "Reanalysis",
          "Land (biosphere)",
          "Land (hydrology)"
         ],
         "license": "proprietary",
         "links": [
          {
           "href": "https://hda.data.destination-earth.eu/stac/v2/collections/EO.ECMWF.DAT.ERA5_LAND_MONTHLY/order",
           "method": "POST",
           "rel": "retrieve",
           "title": "Retrieve",
           "type": "application/geo+json"
          },
          {
           "href": "https://hda.data.destination-earth.eu/stac/v2/collections/EO.ECMWF.DAT.ERA5_LAND_MONTHLY/queryables",
           "rel": "http://www.opengis.net/def/rel/ogc/1.0/queryables",
           "title": "Queryables",
           "type": "application/schema+json"
          },
          {
           "href": "https://hda.data.destination-earth.eu/stac/v2/collections/EO.ECMWF.DAT.ERA5_LAND_MONTHLY/items",
           "rel": "items",
           "title": "Items",
           "type": "application/geo+json"
          },
          {
           "href": "https://hda.data.destination-earth.eu/stac/v2/collections/EO.ECMWF.DAT.ERA5_LAND_MONTHLY",
           "rel": "self",
           "title": "EO.ECMWF.DAT.ERA5_LAND_MONTHLY",
           "type": "application/json"
          },
          {
           "href": "https://object-store.os-api.cci2.ecmwf.int/cci2-prod-catalogue/licences/licence-to-use-copernicus-products/licence-to-use-copernicus-products_b4b9451f54cffa16ecef5c912c9cebd6979925a956e3fa677976e0cf198c2c18.pdf",
           "rel": "license",
           "title": "Licence to Use Copernicus Products",
           "type": "application/pdf"
          },
          {
           "href": "https://doi.org/10.24381/cds.68d2bb30",
           "rel": "cite-as",
           "title": "ERA5-Land monthly averaged data from 1950 to present",
           "type": "text/html"
          },
          {
           "href": "https://doi.org/10.5194/essd-13-4349-2021",
           "rel": "cite-as",
           "title": "ERA5-Land: a state-of-the-art global reanalysis dataset for land applications",
           "type": "text/html"
          }
         ],
         "providers": [
          {
           "name": "ECMWF",
           "roles": [
            "licensor",
            "producer",
            "processor"
           ],
           "url": "https://www.ecmwf.int/"
          }
         ],
         "published": "2023-08-28T15:11:18Z",
         "sci:citation": "Muñoz Sabater, J. (2019): ERA5-Land monthly averaged data from 1950 to present. Copernicus Climate Change Service (C3S) Climate Data Store (CDS). DOI: 10.24381/cds.68d2bb30 (Accessed on DD-MMM-YYYY)",
         "sci:doi": "10.24381/cds.68d2bb30",
         "sci:publications": [
          {
           "citation": "J. Muñoz-Sabater, Dutra, E., Agustí-Panareda, A., Albergel, C., Arduini, G., Balsamo, G., Boussetta, S., Choulga, M., Harrigan, S., Hersbach, H., Martens, B., Miralles, D. G., Piles, M., Rodríguez-Fernández, N. J., Zsoter, E., Buontempo, C., and Thépaut, J.-N.: ERA5-Land: A state-of-the-art global reanalysis dataset for land applications, Earth Syst. Sci. Data,13, 4349–4383, 2021. https://doi.org/10.5194/essd-13-4349-2021.",
           "doi": "10.5194/essd-13-4349-2021"
          }
         ],
         "stac_extensions": [
          "https://stac-extensions.github.io/scientific/v1.0.0/schema.json",
          "https://stac-extensions.github.io/timestamps/v1.1.0/schema.json"
         ],
         "stac_version": "1.0.0",
         "summaries": {
          "federation:backends": [
           "cop_cds",
           "wekeo_ecmwf"
          ]
         },
         "title": "ERA5-Land monthly averaged data from 1950 to present",
         "type": "Collection",
         "updated": "2025-07-30T08:14:06Z"
        },
        {
         "assets": {
          "thumbnail": {
           "href": "https://object-store.os-api.cci2.ecmwf.int/cci2-prod-catalogue/resources/reanalysis-era5-pressure-levels-monthly-means/overview_f71dc114a2f6dd433f4ddecbf6b358a107864c4844c826c2da37c7044986e7fe.png",
           "roles": [
            "thumbnail"
           ],
           "title": "overview",
           "type": "image/png"
          }
         },
         "created": "2023-08-28T15:11:18Z",
         "dedl:short_description": "This dataset contains ERA5's fifth-generation ECMWF reanalysis data on various parameters such as pressure levels, temperature, wind speed, etc., covering the period from 1940 to present, provided at multiple resolutions including 0.25-degree latitude-longitude grids.",
         "description": "ERA5 is the fifth generation ECMWF reanalysis for the global climate and weather for the past 8 decades. Data is available from 1940 onwards. ERA5 replaces the ERA-Interim reanalysis.\n\nReanalysis combines model data with observations from across the world into a globally complete and consistent dataset using the laws of physics. This principle, called data assimilation, is based on the method used by numerical weather prediction centres, where every so many hours (12 hours at ECMWF) a previous forecast is combined with newly available observations in an optimal way to produce a new best estimate of the state of the atmosphere, called analysis, from which an updated, improved forecast is issued. Reanalysis works in the same way, but at reduced resolution to allow for the provision of a dataset spanning back several decades. Reanalysis does not have the constraint of issuing timely forecasts, so there is more time to collect observations, and when going further back in time, to allow for the ingestion of improved versions of the original observations, which all benefit the quality of the reanalysis product.\n\nERA5 provides hourly estimates for a large number of atmospheric, ocean-wave and land-surface quantities. An uncertainty estimate is sampled by an underlying 10-member ensemble at three-hourly intervals. Ensemble mean and spread have been pre-computed for convenience. Such uncertainty estimates are closely related to the information content of the available observing system which has evolved considerably over time. They also indicate flow-dependent sensitive areas. To facilitate many climate applications, monthly-mean averages have been pre-calculated too, though monthly means are not available for the ensemble mean and spread.\n\nERA5 is updated daily with a latency of about 5 days (monthly means are available around the 6th of each month). In case that serious flaws are detected in this early release (called ERA5T), this data could be different from the final release 2 to 3 months later. So far this has only been the case for the month September 2021, while it will also be the case for October, November and December 2021. For months prior to September 2021 the final release has always been equal to ERA5T, and the goal is to align the two again after December 2021.\n\nERA5 is updated daily with a latency of about 5 days (monthly means are available around the 6th of each month). In case that serious flaws are detected in this early release (called ERA5T), this data could be different from the final release 2 to 3 months later. In case that this occurs users are notified.\n\nThe data set presented here is a regridded subset of the full ERA5 data set on native resolution. It is online on spinning disk, which should ensure fast and easy access. It should satisfy the requirements for most common applications.\n\nData has been regridded to a regular lat-lon grid of 0.25 degrees for the reanalysis and 0.5 degrees for the uncertainty estimate (0.5 and 1 degree respectively for ocean waves). There are four main sub sets: hourly and monthly products, both on pressure levels (upper air fields) and single levels (atmospheric, ocean-wave and land surface quantities).",
         "extent": {
          "spatial": {
           "bbox": [
            [
             -180,
             -90,
             180,
             90
            ]
           ]
          },
          "temporal": {
           "interval": [
            [
             "1940-01-01T00:00:00Z",
             null
            ]
           ]
          }
         },
         "id": "EO.ECMWF.DAT.ERA5_MONTHLY_MEANS_VARIABLES_ON_PRESSURE_LEVELS",
         "keywords": [
          "Atmospheric conditions",
          "Past",
          "Atmosphere (upper air)",
          "Copernicus C3S",
          "Global",
          "Atmosphere (surface)",
          "Reanalysis"
         ],
         "license": "proprietary",
         "links": [
          {
           "href": "https://hda.data.destination-earth.eu/stac/v2/collections/EO.ECMWF.DAT.ERA5_MONTHLY_MEANS_VARIABLES_ON_PRESSURE_LEVELS/order",
           "method": "POST",
           "rel": "retrieve",
           "title": "Retrieve",
           "type": "application/geo+json"
          },
          {
           "href": "https://hda.data.destination-earth.eu/stac/v2/collections/EO.ECMWF.DAT.ERA5_MONTHLY_MEANS_VARIABLES_ON_PRESSURE_LEVELS/queryables",
           "rel": "http://www.opengis.net/def/rel/ogc/1.0/queryables",
           "title": "Queryables",
           "type": "application/schema+json"
          },
          {
           "href": "https://hda.data.destination-earth.eu/stac/v2/collections/EO.ECMWF.DAT.ERA5_MONTHLY_MEANS_VARIABLES_ON_PRESSURE_LEVELS/items",
           "rel": "items",
           "title": "Items",
           "type": "application/geo+json"
          },
          {
           "href": "https://hda.data.destination-earth.eu/stac/v2/collections/EO.ECMWF.DAT.ERA5_MONTHLY_MEANS_VARIABLES_ON_PRESSURE_LEVELS",
           "rel": "self",
           "title": "EO.ECMWF.DAT.ERA5_MONTHLY_MEANS_VARIABLES_ON_PRESSURE_LEVELS",
           "type": "application/json"
          },
          {
           "href": "https://object-store.os-api.cci2.ecmwf.int/cci2-prod-catalogue/licences/licence-to-use-copernicus-products/licence-to-use-copernicus-products_b4b9451f54cffa16ecef5c912c9cebd6979925a956e3fa677976e0cf198c2c18.pdf",
           "rel": "license",
           "title": "Licence to Use Copernicus Products",
           "type": "application/pdf"
          },
          {
           "href": "https://doi.org/10.24381/cds.6860a573",
           "rel": "cite-as",
           "title": "ERA5 monthly averaged data on pressure levels from 1940 to present",
           "type": "text/html"
          },
          {
           "href": "https://doi.org/10.1002/qj.3803",
           "rel": "cite-as",
           "title": "The ERA5 global reanalysis",
           "type": "text/html"
          },
          {
           "href": "https://doi.org/10.1002/qj.4174",
           "rel": "cite-as",
           "title": "The ERA5 global reanalysis: Preliminary extension to 1950",
           "type": "text/html"
          }
         ],
         "providers": [
          {
           "name": "ECMWF",
           "roles": [
            "licensor",
            "producer",
            "processor"
           ],
           "url": "https://www.ecmwf.int/"
          }
         ],
         "published": "2023-08-28T15:11:18Z",
         "sci:citation": "Hersbach, H., Bell, B., Berrisford, P., Biavati, G., Horányi, A., Muñoz Sabater, J., Nicolas, J., Peubey, C., Radu, R., Rozum, I., Schepers, D., Simmons, A., Soci, C., Dee, D., Thépaut, J-N. (2023): ERA5 monthly averaged data on pressure levels from 1940 to present. Copernicus Climate Change Service (C3S) Climate Data Store (CDS), DOI: 10.24381/cds.6860a573 (Accessed on DD-MMM-YYYY)",
         "sci:doi": "10.24381/cds.6860a573",
         "sci:publications": [
          {
           "citation": "Hersbach, H., Bell, B., Berrisford, P., Hirahara, S., Horányi, A., Muñoz-Sabater, J., Nicolas, J., Peubey, C., Radu, R., Schepers, D., Simmons, A., Soci, C., Abdalla, S., Abellan, X., Balsamo, G., Bechtold, P., Biavati, G., Bidlot, J., Bonavita, M., De Chiara, G., Dahlgren, P., Dee, D., Diamantakis, M., Dragani, R., Flemming, J., Forbes, R., Fuentes, M., Geer, A., Haimberger, L., Healy, S., Hogan, R. J., Hólm, E., Janisková, M., Keeley, S., Laloyaux, P., Lopez, P., Lupu, C., Radnoti, G., de Rosnay, P., Rozum, I., Vamborg, F., Villaume, S., and Thépaut, J.-N.: The ERA5 Global Reanalysis, Q. J. Roy. Meteorol. Soc., 146, 1999-2049, https://doi.org/10.1002/qj.3803, 2020.",
           "doi": "10.1002/qj.3803"
          },
          {
           "citation": "Bell, B., Hersbach, H., Simmons, A., Berrisford, P., Dahlgren, P., Horányi, A., Muñoz-Sabater, J., Nicolas, J., Radu, R., Schepers, D., Soci, C., Villaume, Sebastien., Bidlot, J.-R., Haimberger, L., Woollen, J., Buontempo, C. and Thépaut, J.-N.: The ERA5 global reanalysis: Preliminary extension to 1950, Q. J. Roy. Meteorol. Soc., 147, 4186-4227, https://doi.org/10.1002/qj.4174, 2021.",
           "doi": "10.1002/qj.4174"
          }
         ],
         "stac_extensions": [
          "https://stac-extensions.github.io/scientific/v1.0.0/schema.json",
          "https://stac-extensions.github.io/timestamps/v1.1.0/schema.json"
         ],
         "stac_version": "1.0.0",
         "summaries": {
          "federation:backends": [
           "cop_cds",
           "wekeo_ecmwf"
          ]
         },
         "title": "ERA5 monthly averaged data on pressure levels from 1940 to present",
         "type": "Collection",
         "updated": "2025-07-30T08:14:06Z"
        },
        {
         "assets": {
          "thumbnail": {
           "href": "https://object-store.os-api.cci2.ecmwf.int/cci2-prod-catalogue/resources/reanalysis-era5-single-levels/overview_c37c9fd3b18a36a2c656bb4541d37c3bb8a08d2d9ef6708227b87cb47e90a873.png",
           "roles": [
            "thumbnail"
           ],
           "title": "overview",
           "type": "image/png"
          }
         },
         "created": "2023-08-28T15:11:18Z",
         "dedl:short_description": "This dataset contains hourly ERA5 reanalysed data from 1940-present on various spatial resolutions, combining model outputs with historical observations through data assimilation methods, providing multiple variables including uncertainties and monthly-means.",
         "description": "ERA5 is the fifth generation ECMWF reanalysis for the global climate and weather for the past 8 decades. Data is available from 1940 onwards. ERA5 replaces the ERA-Interim reanalysis.\n\nReanalysis combines model data with observations from across the world into a globally complete and consistent dataset using the laws of physics. This principle, called data assimilation, is based on the method used by numerical weather prediction centres, where every so many hours (12 hours at ECMWF) a previous forecast is combined with newly available observations in an optimal way to produce a new best estimate of the state of the atmosphere, called analysis, from which an updated, improved forecast is issued. Reanalysis works in the same way, but at reduced resolution to allow for the provision of a dataset spanning back several decades. Reanalysis does not have the constraint of issuing timely forecasts, so there is more time to collect observations, and when going further back in time, to allow for the ingestion of improved versions of the original observations, which all benefit the quality of the reanalysis product.\n\nERA5 provides hourly estimates for a large number of atmospheric, ocean-wave and land-surface quantities. An uncertainty estimate is sampled by an underlying 10-member ensemble at three-hourly intervals. Ensemble mean and spread have been pre-computed for convenience. Such uncertainty estimates are closely related to the information content of the available observing system which has evolved considerably over time. They also indicate flow-dependent sensitive areas. To facilitate many climate applications, monthly-mean averages have been pre-calculated too, though monthly means are not available for the ensemble mean and spread.\n\nERA5 is updated daily with a latency of about 5 days. In case that serious flaws are detected in this early release (called ERA5T), this data could be different from the final release 2 to 3 months later. In case that this occurs users are notified.\n\nThe data set presented here is a regridded subset of the full ERA5 data set on native resolution. It is online on spinning disk, which should ensure fast and easy access. It should satisfy the requirements for most common applications.\n\nData has been regridded to a regular lat-lon grid of 0.25 degrees for the reanalysis and 0.5 degrees for the uncertainty estimate (0.5 and 1 degree respectively for ocean waves). There are four main sub sets: hourly and monthly products, both on pressure levels (upper air fields) and single levels (atmospheric, ocean-wave and land surface quantities).",
         "extent": {
          "spatial": {
           "bbox": [
            [
             -180,
             -90,
             180,
             90
            ]
           ]
          },
          "temporal": {
           "interval": [
            [
             "1940-01-01T00:00:00Z",
             null
            ]
           ]
          }
         },
         "id": "EO.ECMWF.DAT.REANALYSIS_ERA5_SINGLE_LEVELS",
         "keywords": [
          "Atmospheric conditions",
          "Past",
          "Atmosphere (upper air)",
          "Copernicus C3S",
          "Global",
          "Atmosphere (surface)",
          "Reanalysis"
         ],
         "license": "proprietary",
         "links": [
          {
           "href": "https://hda.data.destination-earth.eu/stac/v2/collections/EO.ECMWF.DAT.REANALYSIS_ERA5_SINGLE_LEVELS/order",
           "method": "POST",
           "rel": "retrieve",
           "title": "Retrieve",
           "type": "application/geo+json"
          },
          {
           "href": "https://hda.data.destination-earth.eu/stac/v2/collections/EO.ECMWF.DAT.REANALYSIS_ERA5_SINGLE_LEVELS/queryables",
           "rel": "http://www.opengis.net/def/rel/ogc/1.0/queryables",
           "title": "Queryables",
           "type": "application/schema+json"
          },
          {
           "href": "https://hda.data.destination-earth.eu/stac/v2/collections/EO.ECMWF.DAT.REANALYSIS_ERA5_SINGLE_LEVELS/items",
           "rel": "items",
           "title": "Items",
           "type": "application/geo+json"
          },
          {
           "href": "https://hda.data.destination-earth.eu/stac/v2/collections/EO.ECMWF.DAT.REANALYSIS_ERA5_SINGLE_LEVELS",
           "rel": "self",
           "title": "EO.ECMWF.DAT.REANALYSIS_ERA5_SINGLE_LEVELS",
           "type": "application/json"
          },
          {
           "href": "https://object-store.os-api.cci2.ecmwf.int/cci2-prod-catalogue/licences/licence-to-use-copernicus-products/licence-to-use-copernicus-products_b4b9451f54cffa16ecef5c912c9cebd6979925a956e3fa677976e0cf198c2c18.pdf",
           "rel": "license",
           "title": "Licence to Use Copernicus Products",
           "type": "application/pdf"
          },
          {
           "href": "https://doi.org/10.24381/cds.adbb2d47",
           "rel": "cite-as",
           "title": "ERA5 hourly data on single levels from 1940 to present",
           "type": "text/html"
          },
          {
           "href": "https://doi.org/10.1002/qj.3803",
           "rel": "cite-as",
           "title": "The ERA5 global reanalysis",
           "type": "text/html"
          },
          {
           "href": "https://doi.org/10.1002/qj.4174",
           "rel": "cite-as",
           "title": "The ERA5 global reanalysis: Preliminary extension to 1950",
           "type": "text/html"
          }
         ],
         "providers": [
          {
           "name": "ECMWF",
           "roles": [
            "licensor",
            "producer",
            "processor"
           ],
           "url": "https://www.ecmwf.int/"
          }
         ],
         "published": "2023-08-28T15:11:18Z",
         "sci:citation": "Hersbach, H., Bell, B., Berrisford, P., Biavati, G., Horányi, A., Muñoz Sabater, J., Nicolas, J., Peubey, C., Radu, R., Rozum, I., Schepers, D., Simmons, A., Soci, C., Dee, D., Thépaut, J-N. (2023): ERA5 hourly data on single levels from 1940 to present. Copernicus Climate Change Service (C3S) Climate Data Store (CDS), DOI: 10.24381/cds.adbb2d47 (Accessed on DD-MMM-YYYY)",
         "sci:doi": "10.24381/cds.adbb2d47",
         "sci:publications": [
          {
           "citation": "Hersbach, H., Bell, B., Berrisford, P., Hirahara, S., Horányi, A., Muñoz-Sabater, J., Nicolas, J., Peubey, C., Radu, R., Schepers, D., Simmons, A., Soci, C., Abdalla, S., Abellan, X., Balsamo, G., Bechtold, P., Biavati, G., Bidlot, J., Bonavita, M., De Chiara, G., Dahlgren, P., Dee, D., Diamantakis, M., Dragani, R., Flemming, J., Forbes, R., Fuentes, M., Geer, A., Haimberger, L., Healy, S., Hogan, R. J., Hólm, E., Janisková, M., Keeley, S., Laloyaux, P., Lopez, P., Lupu, C., Radnoti, G., de Rosnay, P., Rozum, I., Vamborg, F., Villaume, S., and Thépaut, J.-N.: The ERA5 Global Reanalysis, Q. J. Roy. Meteorol. Soc., 146, 1999-2049, https://doi.org/10.1002/qj.3803, 2020.",
           "doi": "10.1002/qj.3803"
          },
          {
           "citation": "Bell, B., Hersbach, H., Simmons, A., Berrisford, P., Dahlgren, P., Horányi, A., Muñoz-Sabater, J., Nicolas, J., Radu, R., Schepers, D., Soci, C., Villaume, Sebastien., Bidlot, J.-R., Haimberger, L., Woollen, J., Buontempo, C. and Thépaut, J.-N.: The ERA5 global reanalysis: Preliminary extension to 1950, Q. J. Roy. Meteorol. Soc., 147, 4186-4227, https://doi.org/10.1002/qj.4174, 2021.",
           "doi": "10.1002/qj.4174"
          }
         ],
         "stac_extensions": [
          "https://stac-extensions.github.io/scientific/v1.0.0/schema.json",
          "https://stac-extensions.github.io/timestamps/v1.1.0/schema.json"
         ],
         "stac_version": "1.0.0",
         "summaries": {
          "federation:backends": [
           "cop_cds",
           "wekeo_ecmwf"
          ]
         },
         "title": "ERA5 hourly data on single levels from 1940 to present",
         "type": "Collection",
         "updated": "2025-07-30T08:14:06Z"
        },
        {
         "assets": {
          "thumbnail": {
           "href": "https://object-store.os-api.cci2.ecmwf.int/cci2-prod-catalogue/resources/reanalysis-era5-single-levels-monthly-means/overview_0f8d6ac4a7d46c1b234a9e26d17f21bbad9f173c2a1ca4b645df6c4048fc35f2.png",
           "roles": [
            "thumbnail"
           ],
           "title": "overview",
           "type": "image/png"
          }
         },
         "created": "2023-08-28T15:11:18Z",
         "dedl:short_description": "This dataset contains ERA5's fifth-generation ECMWF reanalysis data from 1940-present, combining modelled and observed data through physical laws, providing various atmospheric, oceanic, and terrestrial variables with associated uncertainties on a regularly gridded scale.",
         "description": "ERA5 is the fifth generation ECMWF reanalysis for the global climate and weather for the past 8 decades. Data is available from 1940 onwards. ERA5 replaces the ERA-Interim reanalysis.\n\nReanalysis combines model data with observations from across the world into a globally complete and consistent dataset using the laws of physics. This principle, called data assimilation, is based on the method used by numerical weather prediction centres, where every so many hours (12 hours at ECMWF) a previous forecast is combined with newly available observations in an optimal way to produce a new best estimate of the state of the atmosphere, called analysis, from which an updated, improved forecast is issued. Reanalysis works in the same way, but at reduced resolution to allow for the provision of a dataset spanning back several decades. Reanalysis does not have the constraint of issuing timely forecasts, so there is more time to collect observations, and when going further back in time, to allow for the ingestion of improved versions of the original observations, which all benefit the quality of the reanalysis product.\n\nERA5 provides hourly estimates for a large number of atmospheric, ocean-wave and land-surface quantities. An uncertainty estimate is sampled by an underlying 10-member ensemble at three-hourly intervals. Ensemble mean and spread have been pre-computed for convenience. Such uncertainty estimates are closely related to the information content of the available observing system which has evolved considerably over time. They also indicate flow-dependent sensitive areas. To facilitate many climate applications, monthly-mean averages have been pre-calculated too, though monthly means are not available for the ensemble mean and spread.\n\nERA5 is updated daily with a latency of about 5 days (monthly means are available around the 6th of each month). In case that serious flaws are detected in this early release (called ERA5T), this data could be different from the final release 2 to 3 months later. In case that this occurs users are notified.\n\nThe data set presented here is a regridded subset of the full ERA5 data set on native resolution. It is online on spinning disk, which should ensure fast and easy access. It should satisfy the requirements for most common applications.\n\nData has been regridded to a regular lat-lon grid of 0.25 degrees for the reanalysis and 0.5 degrees for the uncertainty estimate (0.5 and 1 degree respectively for ocean waves). There are four main sub sets: hourly and monthly products, both on pressure levels (upper air fields) and single levels (atmospheric, ocean-wave and land surface quantities).",
         "extent": {
          "spatial": {
           "bbox": [
            [
             -180,
             -89,
             180,
             89
            ]
           ]
          },
          "temporal": {
           "interval": [
            [
             "1940-01-01T00:00:00Z",
             null
            ]
           ]
          }
         },
         "id": "EO.ECMWF.DAT.REANALYSIS_ERA5_SINGLE_LEVELS_MONTHLY_MEANS",
         "keywords": [
          "Atmospheric conditions",
          "Past",
          "Atmosphere (upper air)",
          "Copernicus C3S",
          "Global",
          "Atmosphere (surface)",
          "Reanalysis"
         ],
         "license": "proprietary",
         "links": [
          {
           "href": "https://hda.data.destination-earth.eu/stac/v2/collections/EO.ECMWF.DAT.REANALYSIS_ERA5_SINGLE_LEVELS_MONTHLY_MEANS/order",
           "method": "POST",
           "rel": "retrieve",
           "title": "Retrieve",
           "type": "application/geo+json"
          },
          {
           "href": "https://hda.data.destination-earth.eu/stac/v2/collections/EO.ECMWF.DAT.REANALYSIS_ERA5_SINGLE_LEVELS_MONTHLY_MEANS/queryables",
           "rel": "http://www.opengis.net/def/rel/ogc/1.0/queryables",
           "title": "Queryables",
           "type": "application/schema+json"
          },
          {
           "href": "https://hda.data.destination-earth.eu/stac/v2/collections/EO.ECMWF.DAT.REANALYSIS_ERA5_SINGLE_LEVELS_MONTHLY_MEANS/items",
           "rel": "items",
           "title": "Items",
           "type": "application/geo+json"
          },
          {
           "href": "https://hda.data.destination-earth.eu/stac/v2/collections/EO.ECMWF.DAT.REANALYSIS_ERA5_SINGLE_LEVELS_MONTHLY_MEANS",
           "rel": "self",
           "title": "EO.ECMWF.DAT.REANALYSIS_ERA5_SINGLE_LEVELS_MONTHLY_MEANS",
           "type": "application/json"
          },
          {
           "href": "https://object-store.os-api.cci2.ecmwf.int/cci2-prod-catalogue/licences/licence-to-use-copernicus-products/licence-to-use-copernicus-products_b4b9451f54cffa16ecef5c912c9cebd6979925a956e3fa677976e0cf198c2c18.pdf",
           "rel": "license",
           "title": "Licence to Use Copernicus Products",
           "type": "application/pdf"
          },
          {
           "href": "https://doi.org/10.24381/cds.f17050d7",
           "rel": "cite-as",
           "title": "ERA5 monthly averaged data on single levels from 1940 to present",
           "type": "text/html"
          },
          {
           "href": "https://doi.org/10.1002/qj.3803",
           "rel": "cite-as",
           "title": "The ERA5 global reanalysis",
           "type": "text/html"
          },
          {
           "href": "https://doi.org/10.1002/qj.4174",
           "rel": "cite-as",
           "title": "The ERA5 global reanalysis: Preliminary extension to 1950",
           "type": "text/html"
          }
         ],
         "providers": [
          {
           "name": "ECMWF",
           "roles": [
            "licensor",
            "producer",
            "processor"
           ],
           "url": "https://www.ecmwf.int/"
          }
         ],
         "published": "2023-08-28T15:11:18Z",
         "sci:citation": "Hersbach, H., Bell, B., Berrisford, P., Biavati, G., Horányi, A., Muñoz Sabater, J., Nicolas, J., Peubey, C., Radu, R., Rozum, I., Schepers, D., Simmons, A., Soci, C., Dee, D., Thépaut, J-N. (2023): ERA5 monthly averaged data on single levels from 1940 to present. Copernicus Climate Change Service (C3S) Climate Data Store (CDS), DOI: 10.24381/cds.f17050d7 (Accessed on DD-MMM-YYYY)",
         "sci:doi": "10.24381/cds.f17050d7",
         "sci:publications": [
          {
           "citation": "Hersbach, H., Bell, B., Berrisford, P., Hirahara, S., Horányi, A., Muñoz-Sabater, J., Nicolas, J., Peubey, C., Radu, R., Schepers, D., Simmons, A., Soci, C., Abdalla, S., Abellan, X., Balsamo, G., Bechtold, P., Biavati, G., Bidlot, J., Bonavita, M., De Chiara, G., Dahlgren, P., Dee, D., Diamantakis, M., Dragani, R., Flemming, J., Forbes, R., Fuentes, M., Geer, A., Haimberger, L., Healy, S., Hogan, R. J., Hólm, E., Janisková, M., Keeley, S., Laloyaux, P., Lopez, P., Lupu, C., Radnoti, G., de Rosnay, P., Rozum, I., Vamborg, F., Villaume, S., and Thépaut, J.-N.: The ERA5 Global Reanalysis, Q. J. Roy. Meteorol. Soc., 146, 1999-2049, https://doi.org/10.1002/qj.3803, 2020.",
           "doi": "10.1002/qj.3803"
          },
          {
           "citation": "Bell, B., Hersbach, H., Simmons, A., Berrisford, P., Dahlgren, P., Horányi, A., Muñoz-Sabater, J., Nicolas, J., Radu, R., Schepers, D., Soci, C., Villaume, Sebastien., Bidlot, J.-R., Haimberger, L., Woollen, J., Buontempo, C. and Thépaut, J.-N.: The ERA5 global reanalysis: Preliminary extension to 1950, Q. J. Roy. Meteorol. Soc., 147, 4186-4227, https://doi.org/10.1002/qj.4174, 2021.",
           "doi": "10.1002/qj.4174"
          }
         ],
         "stac_extensions": [
          "https://stac-extensions.github.io/scientific/v1.0.0/schema.json",
          "https://stac-extensions.github.io/timestamps/v1.1.0/schema.json"
         ],
         "stac_version": "1.0.0",
         "summaries": {
          "federation:backends": [
           "cop_cds",
           "wekeo_ecmwf"
          ]
         },
         "title": "ERA5 monthly averaged data on single levels from 1940 to present",
         "type": "Collection",
         "updated": "2025-07-30T08:14:06Z"
        }
       ],
       "links": [
        {
         "href": "https://hda.data.destination-earth.eu/stac/v2/collections",
         "rel": "self",
         "title": "Collections",
         "type": "application/json"
        },
        {
         "href": "https://hda.data.destination-earth.eu/stac/v2/",
         "rel": "root",
         "title": "DEDL HDA STAC API",
         "type": "application/json"
        }
       ]
      },
      "text/plain": [
       "<IPython.core.display.JSON object>"
      ]
     },
     "execution_count": 4,
     "metadata": {
      "application/json": {
       "expanded": false,
       "root": "root"
      }
     },
     "output_type": "execute_result"
    }
   ],
   "source": [
    "response = requests.get(f\"{HDA_STAC_ENDPOINT}/collections\",params = {\"query\": '{\"federation:backends\": {\"eq\": \"cop_cds\"}}',\"q\": \"ERA5\"})\n",
    "JSON(response.json()) "
   ]
  },
  {
   "cell_type": "markdown",
   "metadata": {},
   "source": [
    "The collection \"ERA5 hourly data on single levels from 1940 to present\" has the **id \"EO.ECMWF.DAT.REANALYSIS_ERA5_SINGLE_LEVELS\"** in HDA.\n",
    "We will use this ID for all the following operations."
   ]
  },
  {
   "cell_type": "code",
   "execution_count": 5,
   "metadata": {
    "tags": []
   },
   "outputs": [],
   "source": [
    "COLLECTION_ID = \"EO.ECMWF.DAT.REANALYSIS_ERA5_SINGLE_LEVELS\""
   ]
  },
  {
   "cell_type": "markdown",
   "metadata": {},
   "source": [
    "## Filtering\n",
    "\n",
    "The \"ERA5 hourly data on single levels from 1940 to present\" dataset, as well as the others datasets provided by the CDS (Climate Data Store),\n",
    "can be subset requesting only the data of interest.\n",
    "\n",
    "The set of parameters to subset the data are available through the HDA queryables endpoint. For this specific collection: [Filter Options](https://hda.data.destination-earth.eu/stac/collections/EO.ECMWF.DAT.REANALYSIS_ERA5_SINGLE_LEVELS/queryables)\n",
    "To understand how the HDA queryables API works you can also have a look at the [queryables notebook](https://github.com/destination-earth/DestinE-DataLake-Lab/blob/main/HDA/REST/HDA-REST-Queryables.ipynb)\n",
    "\n",
    "Using the information provided by the queryables endpoint, we can download the data we are interested in. In this example we will download the 2m temperature and sea surface temperature data for the hottest day in 2024, July 22nd. "
   ]
  },
  {
   "cell_type": "markdown",
   "metadata": {},
   "source": [
    "Search into asynchronous datasets, as the CDS datasets are, always return a single item:"
   ]
  },
  {
   "cell_type": "code",
   "execution_count": 6,
   "metadata": {
    "tags": []
   },
   "outputs": [
    {
     "data": {
      "application/json": {
       "assets": {},
       "bbox": [
        -180,
        -90,
        180,
        90
       ],
       "collection": "EO.ECMWF.DAT.REANALYSIS_ERA5_SINGLE_LEVELS",
       "geometry": {
        "coordinates": [
         [
          [
           180,
           -90
          ],
          [
           180,
           90
          ],
          [
           -180,
           90
          ],
          [
           -180,
           -90
          ],
          [
           180,
           -90
          ]
         ]
        ],
        "type": "Polygon"
       },
       "id": "ERA5_SL_ORDERABLE_c98c2519a657f0ee50dc308b0476059d524ab282",
       "links": [
        {
         "body": {
          "data_format": "grib",
          "day": "22",
          "download_format": "zip",
          "month": "7",
          "product_type": "reanalysis",
          "time": "12:00",
          "variable": [
           "2m_temperature",
           "sea_surface_temperature"
          ],
          "year": "2024"
         },
         "href": "https://hda.data.destination-earth.eu/stac/v2/collections/EO.ECMWF.DAT.REANALYSIS_ERA5_SINGLE_LEVELS/order",
         "method": "POST",
         "rel": "retrieve",
         "title": "Retrieve",
         "type": "application/geo+json"
        },
        {
         "href": "https://hda.data.destination-earth.eu/stac/v2/collections/EO.ECMWF.DAT.REANALYSIS_ERA5_SINGLE_LEVELS",
         "rel": "collection",
         "title": "EO.ECMWF.DAT.REANALYSIS_ERA5_SINGLE_LEVELS",
         "type": "application/json"
        },
        {
         "href": "https://hda.data.destination-earth.eu/stac/v2/collections/EO.ECMWF.DAT.REANALYSIS_ERA5_SINGLE_LEVELS/items/ERA5_SL_ORDERABLE_c98c2519a657f0ee50dc308b0476059d524ab282",
         "rel": "self",
         "title": "Original item link",
         "type": "application/geo+json"
        }
       ],
       "properties": {
        "alias": "EO.ECMWF.DAT.REANALYSIS_ERA5_SINGLE_LEVELS",
        "collection": "ERA5_SL",
        "datetime": "2024-07-22T12:00:00.000000Z",
        "ecmwf:data_format": "grib",
        "ecmwf:dataset": "reanalysis-era5-single-levels",
        "ecmwf:day": "22",
        "ecmwf:download_format": "zip",
        "ecmwf:month": "7",
        "ecmwf:product_type": "reanalysis",
        "ecmwf:time": "12:00",
        "ecmwf:variable": [
         "2m_temperature",
         "sea_surface_temperature"
        ],
        "ecmwf:year": "2024",
        "end_datetime": "2024-07-22T12:00:00.000000Z",
        "federation:backends": [
         "cop_cds"
        ],
        "license": "proprietary",
        "order:status": "orderable",
        "scope": {
         "discover": null,
         "download": "hda-public-data-access",
         "search": "hda-public-data-access"
        },
        "stacCollection": "/eodag/collections/EO.ECMWF.DAT.REANALYSIS_ERA5_SINGLE_LEVELS.json",
        "start_datetime": "2024-07-22T12:00:00.000000Z",
        "storage:tier": "offline",
        "title": "ERA5_SL_ORDERABLE_c98c2519a657f0ee50dc308b0476059d524ab282"
       },
       "stac_extensions": [
        "https://stac-extensions.github.io/storage/v1.0.0/schema.json",
        "https://stac-extensions.github.io/order/v1.1.0/schema.json"
       ],
       "stac_version": "1.0.0",
       "type": "Feature"
      },
      "text/plain": [
       "<IPython.core.display.JSON object>"
      ]
     },
     "execution_count": 6,
     "metadata": {
      "application/json": {
       "expanded": false,
       "root": "root"
      }
     },
     "output_type": "execute_result"
    }
   ],
   "source": [
    "filters = {\n",
    "    key: {\"eq\": value}\n",
    "    for key, value in {\n",
    "        \"ecmwf:data_format\": \"grib\",\n",
    "        \"ecmwf:variable\": [\"2m_temperature\",\"sea_surface_temperature\"],\n",
    "        \"ecmwf:time\": \"12:00\",\n",
    "        \"ecmwf:day\": \"22\",\n",
    "        \"ecmwf:month\": \"7\",\n",
    "        \"ecmwf:year\": \"2024\"\n",
    "    }.items()\n",
    "}\n",
    "\n",
    "\n",
    "response = requests.post(f\"{HDA_STAC_ENDPOINT}/search\", headers=auth_headers, json={\n",
    " \"collections\": [\"EO.ECMWF.DAT.REANALYSIS_ERA5_SINGLE_LEVELS\"],\n",
    "    \"query\": filters\n",
    "})\n",
    "\n",
    "if(response.status_code!= 200):\n",
    "    (print(response.text))\n",
    "response.raise_for_status()\n",
    "\n",
    "product = response.json()[\"features\"][0]\n",
    "JSON(product)"
   ]
  },
  {
   "cell_type": "markdown",
   "metadata": {},
   "source": [
    "The single item returned (above) contains:\n",
    "- The product id: \"ERA5_SL_ORDERABLE_...\", that is a placeholder, its name contains the term \"ORDERABLE\".\n",
    "- The storage:tier that indicates that the product is \"offline\"\n",
    "- The order:status that indicates that the product is \"orderable\"\n",
    "- Request params used for the order extracted from the search result:\n",
    "\n",
    "    - ecmwf:variables: \"2m_temperature\", \"sea_surface_temperature\"\n",
    "    - ecmwf:day:\"22\"\n",
    "    - ecmwf:dataset:\"reanalysis-era5-single-levels\"\n",
    "    - ecmwf:month:\"7\"\n",
    "    - ecmwf:data_format:\"grib\"\n",
    "    - ecmwf:time:\"12:00\"\n",
    "    - ecmwf:year:\"2024\"\n",
    "    - ecmwf:product_type:\"reanalysis\"\n"
   ]
  },
  {
   "cell_type": "markdown",
   "metadata": {
    "tags": []
   },
   "source": [
    "## Order data\n",
    "We have now all the information to order the data.\n",
    "\n",
    "From the search results we know that the product is orderable and offline, we then need to order the product we searched for."
   ]
  },
  {
   "cell_type": "code",
   "execution_count": 8,
   "metadata": {
    "tags": []
   },
   "outputs": [
    {
     "name": "stdout",
     "output_type": "stream",
     "text": [
      "Product ordered: 56226997-81de-46e3-987e-16d2b6bd9fdc\n",
      "Provider: cop_cds\n",
      "Storage tier: offline (product must have storage tier \"online\" to be downloadable)\n",
      "Order status: shipping\n"
     ]
    }
   ],
   "source": [
    "response = requests.post(f\"{HDA_STAC_ENDPOINT}/collections/{COLLECTION_ID}/order\", json={\n",
    "        \"ecmwf:data_format\": \"grib\",\n",
    "        \"ecmwf:variable\": [\"2m_temperature\",\"sea_surface_temperature\"],\n",
    "        \"ecmwf:time\": \"12:00\",\n",
    "        \"ecmwf:day\": \"22\",\n",
    "        \"ecmwf:month\": \"7\",\n",
    "        \"ecmwf:year\": \"2024\"\n",
    "    }, headers=auth_headers)\n",
    "\n",
    "if response.status_code != 200:\n",
    "    print(response.content)\n",
    "response.raise_for_status()\n",
    "\n",
    "ordered_item = response.json()\n",
    "\n",
    "product_id = ordered_item[\"id\"]\n",
    "storage_tier = ordered_item[\"properties\"].get(\"storage:tier\", \"online\")\n",
    "order_status = ordered_item[\"properties\"].get(\"order:status\", \"unknown\")\n",
    "federation_backend = ordered_item[\"properties\"].get(\"federation:backends\", [None])[0]\n",
    "\n",
    "print(f\"Product ordered: {product_id}\")\n",
    "print(f\"Provider: {federation_backend}\")\n",
    "print(f\"Storage tier: {storage_tier} (product must have storage tier \\\"online\\\" to be downloadable)\")\n",
    "print(f\"Order status: {order_status}\")"
   ]
  },
  {
   "cell_type": "markdown",
   "metadata": {},
   "source": [
    "### Poll the API until product is ready"
   ]
  },
  {
   "cell_type": "markdown",
   "metadata": {
    "tags": []
   },
   "source": [
    "We request the product itself to get an update of its status."
   ]
  },
  {
   "cell_type": "code",
   "execution_count": 11,
   "metadata": {
    "tags": []
   },
   "outputs": [
    {
     "name": "stdout",
     "output_type": "stream",
     "text": [
      "Polling 1/300\n",
      "Product is ready to be downloaded.\n",
      "Asset URL: https://hda-download.central.data.destination-earth.eu/data/cop_cds/EO.ECMWF.DAT.REANALYSIS_ERA5_SINGLE_LEVELS/56226997-81de-46e3-987e-16d2b6bd9fdc/downloadLink\n"
     ]
    }
   ],
   "source": [
    "#timeout and step for polling (sec)\n",
    "TIMEOUT = 300\n",
    "STEP = 1\n",
    "ONLINE_STATUS = \"online\"\n",
    "\n",
    "self_url = f\"{HDA_STAC_ENDPOINT}/collections/{COLLECTION_ID}/items/{product_id}\"\n",
    "item = {}\n",
    "\n",
    "for i in range(0, TIMEOUT, STEP):\n",
    "    print(f\"Polling {i + 1}/{TIMEOUT // STEP}\")\n",
    "\n",
    "    response = requests.get(self_url, headers=auth_headers)\n",
    "    response.raise_for_status()\n",
    "    item = response.json()\n",
    "\n",
    "    storage_tier = item[\"properties\"].get(\"storage:tier\", ONLINE_STATUS)\n",
    "\n",
    "    if storage_tier == ONLINE_STATUS:\n",
    "        download_url = item[\"assets\"][\"downloadLink\"][\"href\"]\n",
    "        print(\"Product is ready to be downloaded.\")\n",
    "        print(f\"Asset URL: {download_url}\")\n",
    "        break\n",
    "\n",
    "    sleep(STEP)\n",
    "else:\n",
    "    order_status = item[\"properties\"].get(\"order:status\", \"unknown\")\n",
    "    print(f\"We could not download the product after {TIMEOUT // STEP} tries. Current order status is {order_status}\")\n",
    "    \n"
   ]
  },
  {
   "cell_type": "markdown",
   "metadata": {},
   "source": [
    "# Download"
   ]
  },
  {
   "cell_type": "code",
   "execution_count": 13,
   "metadata": {
    "tags": []
   },
   "outputs": [
    {
     "name": "stdout",
     "output_type": "stream",
     "text": [
      "downloading 33234ee8bd470d40bf20fa952f2e428f.zip\n"
     ]
    },
    {
     "name": "stderr",
     "output_type": "stream",
     "text": [
      "2.77MB [00:00, 4.43MB/s]\n"
     ]
    }
   ],
   "source": [
    "response = requests.get(download_url, stream=True, headers=auth_headers)\n",
    "response.raise_for_status()\n",
    "\n",
    "content_disposition = response.headers.get('Content-Disposition')\n",
    "total_size = int(response.headers.get(\"content-length\", 0))\n",
    "if content_disposition:\n",
    "    filename = content_disposition.split('filename=')[1].strip('\"')\n",
    "    filename = unquote(filename)\n",
    "else:\n",
    "    filename = os.path.basename(url)\n",
    "\n",
    "# Open a local file in binary write mode and write the content\n",
    "print(f\"downloading {filename}\")\n",
    "\n",
    "with tqdm(total=total_size, unit=\"B\", unit_scale=True) as progress_bar:\n",
    "    with open(filename, 'wb') as f:\n",
    "        for data in response.iter_content(1024):\n",
    "            progress_bar.update(len(data))\n",
    "            f.write(data)"
   ]
  },
  {
   "cell_type": "markdown",
   "metadata": {},
   "source": [
    "# EarthKit\n",
    "\n",
    "Lets plot the result file with [EarthKit](https://earthkit.readthedocs.io/en/latest/index.html)"
   ]
  },
  {
   "cell_type": "code",
   "execution_count": 14,
   "metadata": {
    "tags": []
   },
   "outputs": [
    {
     "data": {
      "application/vnd.jupyter.widget-view+json": {
       "model_id": "bc7326e05f44403bbc295839ac045e91",
       "version_major": 2,
       "version_minor": 0
      },
      "text/plain": [
       "  0%|          | 0/1 [00:00<?, ?it/s]"
      ]
     },
     "metadata": {},
     "output_type": "display_data"
    },
    {
     "data": {
      "text/plain": [
       "<earthkit.plots.components.figures.Figure at 0x7f6b9bdaa610>"
      ]
     },
     "execution_count": 14,
     "metadata": {},
     "output_type": "execute_result"
    },
    {
     "data": {
      "image/png": "[encoded data removed]",
      "text/plain": [
       "<Figure size 800x700 with 4 Axes>"
      ]
     },
     "metadata": {},
     "output_type": "display_data"
    }
   ],
   "source": [
    "import earthkit.data\n",
    "import earthkit.plots\n",
    "import earthkit.regrid\n",
    "\n",
    "data = earthkit.data.from_source(\"file\", filename)\n",
    "earthkit.plots.quickplot(data)"
   ]
  }
 ],
 "metadata": {
  "kernelspec": {
   "display_name": "Python DEDL",
   "language": "python",
   "name": "python_dedl"
  },
  "language_info": {
   "codemirror_mode": {
    "name": "ipython",
    "version": 3
   },
   "file_extension": ".py",
   "mimetype": "text/x-python",
   "name": "python",
   "nbconvert_exporter": "python",
   "pygments_lexer": "ipython3",
   "version": "3.11.4"
  },
  "toc-showtags": false
 },
 "nbformat": 4,
 "nbformat_minor": 4
}
