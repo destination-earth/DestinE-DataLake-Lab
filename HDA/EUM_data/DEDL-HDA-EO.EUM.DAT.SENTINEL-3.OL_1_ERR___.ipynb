{
 "cells": [
  {
   "cell_type": "markdown",
   "id": "10726360-3b8c-463b-856e-4a8460092c16",
   "metadata": {
    "tags": []
   },
   "source": [
    "![](https://github.com/destination-earth/DestinE-DataLake-Lab/blob/main/img/DestinE-banner.jpg?raw=true)"
   ]
  },
  {
   "cell_type": "markdown",
   "id": "a5844719-f14f-44e9-a9a5-ca7049e05561",
   "metadata": {},
   "source": [
    "**Author**: EUMETSAT <br>\n",
    "**Copyright**: 2024 EUMETSAT <br>\n",
    "**Licence**: MIT <br>\n",
    "\n",
    "# Destination Earth - OLCI Level 1B Reduced Resolution - Sentinel-3 - Data Access using DEDL HDA\n",
    "\n",
    "[Documentation DestinE Data Lake HDA](https://destine-data-lake-docs.data.destination-earth.eu/en/latest/dedl-discovery-and-data-access/dedl-discovery-and-data-access.html)\n",
    "\n",
    "[OLCI Level 1B Reduced Resolution - Sentinel-3](https://navigator.eumetsat.int/product/EO:EUM:DAT:SENTINEL-3:OL_1_ERR___NRT)"
   ]
  },
  {
   "cell_type": "markdown",
   "id": "456f6a95-65fd-459e-bcd4-dbd78b43fda4",
   "metadata": {},
   "source": [
    "<div class=\"alert alert-block alert-success\">\n",
    "<h3>How to access and visualize OLCI Level 1B Reduced Resolution - Sentinel-3 </h3>\n",
    "This notebook demonstrates how to search and access Sentinel-3 data using HDA and how to read and visualize it using satpy\n",
    "</div>"
   ]
  },
  {
   "cell_type": "markdown",
   "id": "edea2a21-33d9-475a-a685-aefb0eefd78d",
   "metadata": {},
   "source": [
    "Throughout this notebook, you will learn:\n",
    "\n",
    "1. [Authenticate](#Authenticate): How to authenticate for searching and access *DEDL* collections. \n",
    "2. [Search OLCI data](#Search):  How to search *DEDL* data using datetime and bbox filters.\n",
    "3. [Download OLCI data](#Download): How to download *DEDL* data through HDA.\n",
    "4. [Read and visualize OLCI data](#Satpy): How to load process and visualize OlCI data using Satpy.\n"
   ]
  },
  {
   "cell_type": "markdown",
   "id": "32b5b22a-eb59-463d-9a85-f6ecde46e748",
   "metadata": {},
   "source": [
    "<div class=\"alert alert-block alert-warning\">\n",
    "<b> Prerequisites: </b>\n",
    "<li> For filtering data inside collections : <a href=\"https://platform.destine.eu/\"> DestinE user account</a> </li>\n",
    "</div>"
   ]
  },
  {
   "cell_type": "markdown",
   "id": "fd7ec70f-1291-426e-b071-0bcd6e775d81",
   "metadata": {
    "tags": []
   },
   "source": [
    "## Authenticate\n",
    "\n",
    "We start off by importing the relevant modules for DestnE authentication, HTTP requests, json handling. \n",
    "Then we authenticate in DestinE."
   ]
  },
  {
   "cell_type": "code",
   "execution_count": 4,
   "id": "bd98743f-d681-48db-88e9-73fe3527965c",
   "metadata": {
    "tags": []
   },
   "outputs": [],
   "source": [
    "import destinelab as deauth"
   ]
  },
  {
   "cell_type": "code",
   "execution_count": 5,
   "id": "9d3461e4-fe60-4181-8335-bc2f5899df9a",
   "metadata": {
    "tags": []
   },
   "outputs": [],
   "source": [
    "import requests\n",
    "import json\n",
    "import os\n",
    "from getpass import getpass"
   ]
  },
  {
   "cell_type": "code",
   "execution_count": 6,
   "id": "b4faa6b4-2a1f-4daa-bb45-4e26bebe1e88",
   "metadata": {
    "tags": []
   },
   "outputs": [
    {
     "name": "stdin",
     "output_type": "stream",
     "text": [
      "Please input your DESP username or email:  eum-dedl-user\n",
      "Please input your DESP password:  ········\n"
     ]
    },
    {
     "name": "stdout",
     "output_type": "stream",
     "text": [
      "Response code: 200\n",
      "DEDL/DESP Access Token Obtained Successfully\n"
     ]
    }
   ],
   "source": [
    "DESP_USERNAME = input(\"Please input your DESP username or email: \")\n",
    "DESP_PASSWORD = getpass(\"Please input your DESP password: \")\n",
    "\n",
    "auth = deauth.AuthHandler(DESP_USERNAME, DESP_PASSWORD)\n",
    "access_token = auth.get_token()\n",
    "if access_token is not None:\n",
    "    print(\"DEDL/DESP Access Token Obtained Successfully\")\n",
    "else:\n",
    "    print(\"Failed to Obtain DEDL/DESP Access Token\")\n",
    "\n",
    "auth_headers = {\"Authorization\": f\"Bearer {access_token}\"}"
   ]
  },
  {
   "cell_type": "markdown",
   "id": "6598deb9-7371-4ab6-adda-ab3b1d114a72",
   "metadata": {},
   "source": [
    "## Search"
   ]
  },
  {
   "cell_type": "markdown",
   "id": "db751cdf-d5ae-41a6-a8c5-05898dbdda90",
   "metadata": {},
   "source": [
    "Once authenticated, we search a product matching our filters.\n",
    "\n",
    "For this example, we search data for the [OLCI Level 1B Reduced Resolution - Sentinel-3](https://hda.data.destination-earth.eu/ui/dataset/EO.EUM.DAT.SENTINEL-3.OL_1_ERR___) dataset. \n",
    "\n",
    "The corresponding collection ID in HDA for this dataset is: EO.EUM.DAT.SENTINEL-3.OL_1_ERR___."
   ]
  },
  {
   "cell_type": "code",
   "execution_count": 7,
   "id": "ad834b6a-96a8-475a-8415-36c018b8fc06",
   "metadata": {
    "tags": []
   },
   "outputs": [],
   "source": [
    "response = requests.post(\"https://hda.data.destination-earth.eu/stac/search\", headers=auth_headers, json={\n",
    "    \"collections\": [\"EO.EUM.DAT.SENTINEL-3.OL_1_ERR___\"],\n",
    "    \"datetime\": \"2024-06-25T00:00:00Z/2024-06-30T00:00:00Z\",\n",
    "    \"bbox\":  [10,53,30,66]\n",
    "})\n",
    "if(response.status_code!= 200):\n",
    "    (print(response.text))\n",
    "response.raise_for_status()"
   ]
  },
  {
   "cell_type": "markdown",
   "id": "877a5667-7497-469b-ab0f-c6041cf084e3",
   "metadata": {},
   "source": [
    "We can have a look at the metadata of the first products returned by the search."
   ]
  },
  {
   "cell_type": "code",
   "execution_count": 8,
   "id": "cc7e1280-fa15-4f66-8a57-7016cf829261",
   "metadata": {
    "tags": []
   },
   "outputs": [
    {
     "data": {
      "application/json": {
       "assets": {
        "Oa01_radiance.nc": {
         "alternate": {
          "origin": {
           "href": "s3://eodata/Sentinel-3/OLCI/OL_1_ERR___/2024/06/25/S3B_OL_1_ERR____20240625T083313_20240625T091737_20240625T110705_2664_094_278______PS2_O_NR_004.SEN3/Oa01_radiance.nc",
           "title": "Origin asset link",
           "type": "application/x-netcdf"
          }
         },
         "href": "https://hda.data.destination-earth.eu/stac/collections/EO.EUM.DAT.SENTINEL-3.OL_1_ERR___/items/S3B_OL_1_ERR____20240625T083313_20240625T091737_20240625T110705_2664_094_278______PS2_O_NR_004/download/Oa01_radiance.nc?provider=dedl",
         "roles": [
          "data"
         ],
         "title": "Oa01_radiance.nc",
         "type": "application/x-netcdf"
        },
        "Oa01_radiance_unc.nc": {
         "alternate": {
          "origin": {
           "href": "s3://eodata/Sentinel-3/OLCI/OL_1_ERR___/2024/06/25/S3B_OL_1_ERR____20240625T083313_20240625T091737_20240625T110705_2664_094_278______PS2_O_NR_004.SEN3/Oa01_radiance_unc.nc",
           "title": "Origin asset link",
           "type": "application/x-netcdf"
          }
         },
         "href": "https://hda.data.destination-earth.eu/stac/collections/EO.EUM.DAT.SENTINEL-3.OL_1_ERR___/items/S3B_OL_1_ERR____20240625T083313_20240625T091737_20240625T110705_2664_094_278______PS2_O_NR_004/download/Oa01_radiance_unc.nc?provider=dedl",
         "roles": [
          "data"
         ],
         "title": "Oa01_radiance_unc.nc",
         "type": "application/x-netcdf"
        },
        "Oa02_radiance.nc": {
         "alternate": {
          "origin": {
           "href": "s3://eodata/Sentinel-3/OLCI/OL_1_ERR___/2024/06/25/S3B_OL_1_ERR____20240625T083313_20240625T091737_20240625T110705_2664_094_278______PS2_O_NR_004.SEN3/Oa02_radiance.nc",
           "title": "Origin asset link",
           "type": "application/x-netcdf"
          }
         },
         "href": "https://hda.data.destination-earth.eu/stac/collections/EO.EUM.DAT.SENTINEL-3.OL_1_ERR___/items/S3B_OL_1_ERR____20240625T083313_20240625T091737_20240625T110705_2664_094_278______PS2_O_NR_004/download/Oa02_radiance.nc?provider=dedl",
         "roles": [
          "data"
         ],
         "title": "Oa02_radiance.nc",
         "type": "application/x-netcdf"
        },
        "Oa02_radiance_unc.nc": {
         "alternate": {
          "origin": {
           "href": "s3://eodata/Sentinel-3/OLCI/OL_1_ERR___/2024/06/25/S3B_OL_1_ERR____20240625T083313_20240625T091737_20240625T110705_2664_094_278______PS2_O_NR_004.SEN3/Oa02_radiance_unc.nc",
           "title": "Origin asset link",
           "type": "application/x-netcdf"
          }
         },
         "href": "https://hda.data.destination-earth.eu/stac/collections/EO.EUM.DAT.SENTINEL-3.OL_1_ERR___/items/S3B_OL_1_ERR____20240625T083313_20240625T091737_20240625T110705_2664_094_278______PS2_O_NR_004/download/Oa02_radiance_unc.nc?provider=dedl",
         "roles": [
          "data"
         ],
         "title": "Oa02_radiance_unc.nc",
         "type": "application/x-netcdf"
        },
        "Oa03_radiance.nc": {
         "alternate": {
          "origin": {
           "href": "s3://eodata/Sentinel-3/OLCI/OL_1_ERR___/2024/06/25/S3B_OL_1_ERR____20240625T083313_20240625T091737_20240625T110705_2664_094_278______PS2_O_NR_004.SEN3/Oa03_radiance.nc",
           "title": "Origin asset link",
           "type": "application/x-netcdf"
          }
         },
         "href": "https://hda.data.destination-earth.eu/stac/collections/EO.EUM.DAT.SENTINEL-3.OL_1_ERR___/items/S3B_OL_1_ERR____20240625T083313_20240625T091737_20240625T110705_2664_094_278______PS2_O_NR_004/download/Oa03_radiance.nc?provider=dedl",
         "roles": [
          "data"
         ],
         "title": "Oa03_radiance.nc",
         "type": "application/x-netcdf"
        },
        "Oa03_radiance_unc.nc": {
         "alternate": {
          "origin": {
           "href": "s3://eodata/Sentinel-3/OLCI/OL_1_ERR___/2024/06/25/S3B_OL_1_ERR____20240625T083313_20240625T091737_20240625T110705_2664_094_278______PS2_O_NR_004.SEN3/Oa03_radiance_unc.nc",
           "title": "Origin asset link",
           "type": "application/x-netcdf"
          }
         },
         "href": "https://hda.data.destination-earth.eu/stac/collections/EO.EUM.DAT.SENTINEL-3.OL_1_ERR___/items/S3B_OL_1_ERR____20240625T083313_20240625T091737_20240625T110705_2664_094_278______PS2_O_NR_004/download/Oa03_radiance_unc.nc?provider=dedl",
         "roles": [
          "data"
         ],
         "title": "Oa03_radiance_unc.nc",
         "type": "application/x-netcdf"
        },
        "Oa04_radiance.nc": {
         "alternate": {
          "origin": {
           "href": "s3://eodata/Sentinel-3/OLCI/OL_1_ERR___/2024/06/25/S3B_OL_1_ERR____20240625T083313_20240625T091737_20240625T110705_2664_094_278______PS2_O_NR_004.SEN3/Oa04_radiance.nc",
           "title": "Origin asset link",
           "type": "application/x-netcdf"
          }
         },
         "href": "https://hda.data.destination-earth.eu/stac/collections/EO.EUM.DAT.SENTINEL-3.OL_1_ERR___/items/S3B_OL_1_ERR____20240625T083313_20240625T091737_20240625T110705_2664_094_278______PS2_O_NR_004/download/Oa04_radiance.nc?provider=dedl",
         "roles": [
          "data"
         ],
         "title": "Oa04_radiance.nc",
         "type": "application/x-netcdf"
        },
        "Oa04_radiance_unc.nc": {
         "alternate": {
          "origin": {
           "href": "s3://eodata/Sentinel-3/OLCI/OL_1_ERR___/2024/06/25/S3B_OL_1_ERR____20240625T083313_20240625T091737_20240625T110705_2664_094_278______PS2_O_NR_004.SEN3/Oa04_radiance_unc.nc",
           "title": "Origin asset link",
           "type": "application/x-netcdf"
          }
         },
         "href": "https://hda.data.destination-earth.eu/stac/collections/EO.EUM.DAT.SENTINEL-3.OL_1_ERR___/items/S3B_OL_1_ERR____20240625T083313_20240625T091737_20240625T110705_2664_094_278______PS2_O_NR_004/download/Oa04_radiance_unc.nc?provider=dedl",
         "roles": [
          "data"
         ],
         "title": "Oa04_radiance_unc.nc",
         "type": "application/x-netcdf"
        },
        "Oa05_radiance.nc": {
         "alternate": {
          "origin": {
           "href": "s3://eodata/Sentinel-3/OLCI/OL_1_ERR___/2024/06/25/S3B_OL_1_ERR____20240625T083313_20240625T091737_20240625T110705_2664_094_278______PS2_O_NR_004.SEN3/Oa05_radiance.nc",
           "title": "Origin asset link",
           "type": "application/x-netcdf"
          }
         },
         "href": "https://hda.data.destination-earth.eu/stac/collections/EO.EUM.DAT.SENTINEL-3.OL_1_ERR___/items/S3B_OL_1_ERR____20240625T083313_20240625T091737_20240625T110705_2664_094_278______PS2_O_NR_004/download/Oa05_radiance.nc?provider=dedl",
         "roles": [
          "data"
         ],
         "title": "Oa05_radiance.nc",
         "type": "application/x-netcdf"
        },
        "Oa05_radiance_unc.nc": {
         "alternate": {
          "origin": {
           "href": "s3://eodata/Sentinel-3/OLCI/OL_1_ERR___/2024/06/25/S3B_OL_1_ERR____20240625T083313_20240625T091737_20240625T110705_2664_094_278______PS2_O_NR_004.SEN3/Oa05_radiance_unc.nc",
           "title": "Origin asset link",
           "type": "application/x-netcdf"
          }
         },
         "href": "https://hda.data.destination-earth.eu/stac/collections/EO.EUM.DAT.SENTINEL-3.OL_1_ERR___/items/S3B_OL_1_ERR____20240625T083313_20240625T091737_20240625T110705_2664_094_278______PS2_O_NR_004/download/Oa05_radiance_unc.nc?provider=dedl",
         "roles": [
          "data"
         ],
         "title": "Oa05_radiance_unc.nc",
         "type": "application/x-netcdf"
        },
        "Oa06_radiance.nc": {
         "alternate": {
          "origin": {
           "href": "s3://eodata/Sentinel-3/OLCI/OL_1_ERR___/2024/06/25/S3B_OL_1_ERR____20240625T083313_20240625T091737_20240625T110705_2664_094_278______PS2_O_NR_004.SEN3/Oa06_radiance.nc",
           "title": "Origin asset link",
           "type": "application/x-netcdf"
          }
         },
         "href": "https://hda.data.destination-earth.eu/stac/collections/EO.EUM.DAT.SENTINEL-3.OL_1_ERR___/items/S3B_OL_1_ERR____20240625T083313_20240625T091737_20240625T110705_2664_094_278______PS2_O_NR_004/download/Oa06_radiance.nc?provider=dedl",
         "roles": [
          "data"
         ],
         "title": "Oa06_radiance.nc",
         "type": "application/x-netcdf"
        },
        "Oa06_radiance_unc.nc": {
         "alternate": {
          "origin": {
           "href": "s3://eodata/Sentinel-3/OLCI/OL_1_ERR___/2024/06/25/S3B_OL_1_ERR____20240625T083313_20240625T091737_20240625T110705_2664_094_278______PS2_O_NR_004.SEN3/Oa06_radiance_unc.nc",
           "title": "Origin asset link",
           "type": "application/x-netcdf"
          }
         },
         "href": "https://hda.data.destination-earth.eu/stac/collections/EO.EUM.DAT.SENTINEL-3.OL_1_ERR___/items/S3B_OL_1_ERR____20240625T083313_20240625T091737_20240625T110705_2664_094_278______PS2_O_NR_004/download/Oa06_radiance_unc.nc?provider=dedl",
         "roles": [
          "data"
         ],
         "title": "Oa06_radiance_unc.nc",
         "type": "application/x-netcdf"
        },
        "Oa07_radiance.nc": {
         "alternate": {
          "origin": {
           "href": "s3://eodata/Sentinel-3/OLCI/OL_1_ERR___/2024/06/25/S3B_OL_1_ERR____20240625T083313_20240625T091737_20240625T110705_2664_094_278______PS2_O_NR_004.SEN3/Oa07_radiance.nc",
           "title": "Origin asset link",
           "type": "application/x-netcdf"
          }
         },
         "href": "https://hda.data.destination-earth.eu/stac/collections/EO.EUM.DAT.SENTINEL-3.OL_1_ERR___/items/S3B_OL_1_ERR____20240625T083313_20240625T091737_20240625T110705_2664_094_278______PS2_O_NR_004/download/Oa07_radiance.nc?provider=dedl",
         "roles": [
          "data"
         ],
         "title": "Oa07_radiance.nc",
         "type": "application/x-netcdf"
        },
        "Oa07_radiance_unc.nc": {
         "alternate": {
          "origin": {
           "href": "s3://eodata/Sentinel-3/OLCI/OL_1_ERR___/2024/06/25/S3B_OL_1_ERR____20240625T083313_20240625T091737_20240625T110705_2664_094_278______PS2_O_NR_004.SEN3/Oa07_radiance_unc.nc",
           "title": "Origin asset link",
           "type": "application/x-netcdf"
          }
         },
         "href": "https://hda.data.destination-earth.eu/stac/collections/EO.EUM.DAT.SENTINEL-3.OL_1_ERR___/items/S3B_OL_1_ERR____20240625T083313_20240625T091737_20240625T110705_2664_094_278______PS2_O_NR_004/download/Oa07_radiance_unc.nc?provider=dedl",
         "roles": [
          "data"
         ],
         "title": "Oa07_radiance_unc.nc",
         "type": "application/x-netcdf"
        },
        "Oa08_radiance.nc": {
         "alternate": {
          "origin": {
           "href": "s3://eodata/Sentinel-3/OLCI/OL_1_ERR___/2024/06/25/S3B_OL_1_ERR____20240625T083313_20240625T091737_20240625T110705_2664_094_278______PS2_O_NR_004.SEN3/Oa08_radiance.nc",
           "title": "Origin asset link",
           "type": "application/x-netcdf"
          }
         },
         "href": "https://hda.data.destination-earth.eu/stac/collections/EO.EUM.DAT.SENTINEL-3.OL_1_ERR___/items/S3B_OL_1_ERR____20240625T083313_20240625T091737_20240625T110705_2664_094_278______PS2_O_NR_004/download/Oa08_radiance.nc?provider=dedl",
         "roles": [
          "data"
         ],
         "title": "Oa08_radiance.nc",
         "type": "application/x-netcdf"
        },
        "Oa08_radiance_unc.nc": {
         "alternate": {
          "origin": {
           "href": "s3://eodata/Sentinel-3/OLCI/OL_1_ERR___/2024/06/25/S3B_OL_1_ERR____20240625T083313_20240625T091737_20240625T110705_2664_094_278______PS2_O_NR_004.SEN3/Oa08_radiance_unc.nc",
           "title": "Origin asset link",
           "type": "application/x-netcdf"
          }
         },
         "href": "https://hda.data.destination-earth.eu/stac/collections/EO.EUM.DAT.SENTINEL-3.OL_1_ERR___/items/S3B_OL_1_ERR____20240625T083313_20240625T091737_20240625T110705_2664_094_278______PS2_O_NR_004/download/Oa08_radiance_unc.nc?provider=dedl",
         "roles": [
          "data"
         ],
         "title": "Oa08_radiance_unc.nc",
         "type": "application/x-netcdf"
        },
        "Oa09_radiance.nc": {
         "alternate": {
          "origin": {
           "href": "s3://eodata/Sentinel-3/OLCI/OL_1_ERR___/2024/06/25/S3B_OL_1_ERR____20240625T083313_20240625T091737_20240625T110705_2664_094_278______PS2_O_NR_004.SEN3/Oa09_radiance.nc",
           "title": "Origin asset link",
           "type": "application/x-netcdf"
          }
         },
         "href": "https://hda.data.destination-earth.eu/stac/collections/EO.EUM.DAT.SENTINEL-3.OL_1_ERR___/items/S3B_OL_1_ERR____20240625T083313_20240625T091737_20240625T110705_2664_094_278______PS2_O_NR_004/download/Oa09_radiance.nc?provider=dedl",
         "roles": [
          "data"
         ],
         "title": "Oa09_radiance.nc",
         "type": "application/x-netcdf"
        },
        "Oa09_radiance_unc.nc": {
         "alternate": {
          "origin": {
           "href": "s3://eodata/Sentinel-3/OLCI/OL_1_ERR___/2024/06/25/S3B_OL_1_ERR____20240625T083313_20240625T091737_20240625T110705_2664_094_278______PS2_O_NR_004.SEN3/Oa09_radiance_unc.nc",
           "title": "Origin asset link",
           "type": "application/x-netcdf"
          }
         },
         "href": "https://hda.data.destination-earth.eu/stac/collections/EO.EUM.DAT.SENTINEL-3.OL_1_ERR___/items/S3B_OL_1_ERR____20240625T083313_20240625T091737_20240625T110705_2664_094_278______PS2_O_NR_004/download/Oa09_radiance_unc.nc?provider=dedl",
         "roles": [
          "data"
         ],
         "title": "Oa09_radiance_unc.nc",
         "type": "application/x-netcdf"
        },
        "Oa10_radiance.nc": {
         "alternate": {
          "origin": {
           "href": "s3://eodata/Sentinel-3/OLCI/OL_1_ERR___/2024/06/25/S3B_OL_1_ERR____20240625T083313_20240625T091737_20240625T110705_2664_094_278______PS2_O_NR_004.SEN3/Oa10_radiance.nc",
           "title": "Origin asset link",
           "type": "application/x-netcdf"
          }
         },
         "href": "https://hda.data.destination-earth.eu/stac/collections/EO.EUM.DAT.SENTINEL-3.OL_1_ERR___/items/S3B_OL_1_ERR____20240625T083313_20240625T091737_20240625T110705_2664_094_278______PS2_O_NR_004/download/Oa10_radiance.nc?provider=dedl",
         "roles": [
          "data"
         ],
         "title": "Oa10_radiance.nc",
         "type": "application/x-netcdf"
        },
        "Oa10_radiance_unc.nc": {
         "alternate": {
          "origin": {
           "href": "s3://eodata/Sentinel-3/OLCI/OL_1_ERR___/2024/06/25/S3B_OL_1_ERR____20240625T083313_20240625T091737_20240625T110705_2664_094_278______PS2_O_NR_004.SEN3/Oa10_radiance_unc.nc",
           "title": "Origin asset link",
           "type": "application/x-netcdf"
          }
         },
         "href": "https://hda.data.destination-earth.eu/stac/collections/EO.EUM.DAT.SENTINEL-3.OL_1_ERR___/items/S3B_OL_1_ERR____20240625T083313_20240625T091737_20240625T110705_2664_094_278______PS2_O_NR_004/download/Oa10_radiance_unc.nc?provider=dedl",
         "roles": [
          "data"
         ],
         "title": "Oa10_radiance_unc.nc",
         "type": "application/x-netcdf"
        },
        "Oa11_radiance.nc": {
         "alternate": {
          "origin": {
           "href": "s3://eodata/Sentinel-3/OLCI/OL_1_ERR___/2024/06/25/S3B_OL_1_ERR____20240625T083313_20240625T091737_20240625T110705_2664_094_278______PS2_O_NR_004.SEN3/Oa11_radiance.nc",
           "title": "Origin asset link",
           "type": "application/x-netcdf"
          }
         },
         "href": "https://hda.data.destination-earth.eu/stac/collections/EO.EUM.DAT.SENTINEL-3.OL_1_ERR___/items/S3B_OL_1_ERR____20240625T083313_20240625T091737_20240625T110705_2664_094_278______PS2_O_NR_004/download/Oa11_radiance.nc?provider=dedl",
         "roles": [
          "data"
         ],
         "title": "Oa11_radiance.nc",
         "type": "application/x-netcdf"
        },
        "Oa11_radiance_unc.nc": {
         "alternate": {
          "origin": {
           "href": "s3://eodata/Sentinel-3/OLCI/OL_1_ERR___/2024/06/25/S3B_OL_1_ERR____20240625T083313_20240625T091737_20240625T110705_2664_094_278______PS2_O_NR_004.SEN3/Oa11_radiance_unc.nc",
           "title": "Origin asset link",
           "type": "application/x-netcdf"
          }
         },
         "href": "https://hda.data.destination-earth.eu/stac/collections/EO.EUM.DAT.SENTINEL-3.OL_1_ERR___/items/S3B_OL_1_ERR____20240625T083313_20240625T091737_20240625T110705_2664_094_278______PS2_O_NR_004/download/Oa11_radiance_unc.nc?provider=dedl",
         "roles": [
          "data"
         ],
         "title": "Oa11_radiance_unc.nc",
         "type": "application/x-netcdf"
        },
        "Oa12_radiance.nc": {
         "alternate": {
          "origin": {
           "href": "s3://eodata/Sentinel-3/OLCI/OL_1_ERR___/2024/06/25/S3B_OL_1_ERR____20240625T083313_20240625T091737_20240625T110705_2664_094_278______PS2_O_NR_004.SEN3/Oa12_radiance.nc",
           "title": "Origin asset link",
           "type": "application/x-netcdf"
          }
         },
         "href": "https://hda.data.destination-earth.eu/stac/collections/EO.EUM.DAT.SENTINEL-3.OL_1_ERR___/items/S3B_OL_1_ERR____20240625T083313_20240625T091737_20240625T110705_2664_094_278______PS2_O_NR_004/download/Oa12_radiance.nc?provider=dedl",
         "roles": [
          "data"
         ],
         "title": "Oa12_radiance.nc",
         "type": "application/x-netcdf"
        },
        "Oa12_radiance_unc.nc": {
         "alternate": {
          "origin": {
           "href": "s3://eodata/Sentinel-3/OLCI/OL_1_ERR___/2024/06/25/S3B_OL_1_ERR____20240625T083313_20240625T091737_20240625T110705_2664_094_278______PS2_O_NR_004.SEN3/Oa12_radiance_unc.nc",
           "title": "Origin asset link",
           "type": "application/x-netcdf"
          }
         },
         "href": "https://hda.data.destination-earth.eu/stac/collections/EO.EUM.DAT.SENTINEL-3.OL_1_ERR___/items/S3B_OL_1_ERR____20240625T083313_20240625T091737_20240625T110705_2664_094_278______PS2_O_NR_004/download/Oa12_radiance_unc.nc?provider=dedl",
         "roles": [
          "data"
         ],
         "title": "Oa12_radiance_unc.nc",
         "type": "application/x-netcdf"
        },
        "Oa13_radiance.nc": {
         "alternate": {
          "origin": {
           "href": "s3://eodata/Sentinel-3/OLCI/OL_1_ERR___/2024/06/25/S3B_OL_1_ERR____20240625T083313_20240625T091737_20240625T110705_2664_094_278______PS2_O_NR_004.SEN3/Oa13_radiance.nc",
           "title": "Origin asset link",
           "type": "application/x-netcdf"
          }
         },
         "href": "https://hda.data.destination-earth.eu/stac/collections/EO.EUM.DAT.SENTINEL-3.OL_1_ERR___/items/S3B_OL_1_ERR____20240625T083313_20240625T091737_20240625T110705_2664_094_278______PS2_O_NR_004/download/Oa13_radiance.nc?provider=dedl",
         "roles": [
          "data"
         ],
         "title": "Oa13_radiance.nc",
         "type": "application/x-netcdf"
        },
        "Oa13_radiance_unc.nc": {
         "alternate": {
          "origin": {
           "href": "s3://eodata/Sentinel-3/OLCI/OL_1_ERR___/2024/06/25/S3B_OL_1_ERR____20240625T083313_20240625T091737_20240625T110705_2664_094_278______PS2_O_NR_004.SEN3/Oa13_radiance_unc.nc",
           "title": "Origin asset link",
           "type": "application/x-netcdf"
          }
         },
         "href": "https://hda.data.destination-earth.eu/stac/collections/EO.EUM.DAT.SENTINEL-3.OL_1_ERR___/items/S3B_OL_1_ERR____20240625T083313_20240625T091737_20240625T110705_2664_094_278______PS2_O_NR_004/download/Oa13_radiance_unc.nc?provider=dedl",
         "roles": [
          "data"
         ],
         "title": "Oa13_radiance_unc.nc",
         "type": "application/x-netcdf"
        },
        "Oa14_radiance.nc": {
         "alternate": {
          "origin": {
           "href": "s3://eodata/Sentinel-3/OLCI/OL_1_ERR___/2024/06/25/S3B_OL_1_ERR____20240625T083313_20240625T091737_20240625T110705_2664_094_278______PS2_O_NR_004.SEN3/Oa14_radiance.nc",
           "title": "Origin asset link",
           "type": "application/x-netcdf"
          }
         },
         "href": "https://hda.data.destination-earth.eu/stac/collections/EO.EUM.DAT.SENTINEL-3.OL_1_ERR___/items/S3B_OL_1_ERR____20240625T083313_20240625T091737_20240625T110705_2664_094_278______PS2_O_NR_004/download/Oa14_radiance.nc?provider=dedl",
         "roles": [
          "data"
         ],
         "title": "Oa14_radiance.nc",
         "type": "application/x-netcdf"
        },
        "Oa14_radiance_unc.nc": {
         "alternate": {
          "origin": {
           "href": "s3://eodata/Sentinel-3/OLCI/OL_1_ERR___/2024/06/25/S3B_OL_1_ERR____20240625T083313_20240625T091737_20240625T110705_2664_094_278______PS2_O_NR_004.SEN3/Oa14_radiance_unc.nc",
           "title": "Origin asset link",
           "type": "application/x-netcdf"
          }
         },
         "href": "https://hda.data.destination-earth.eu/stac/collections/EO.EUM.DAT.SENTINEL-3.OL_1_ERR___/items/S3B_OL_1_ERR____20240625T083313_20240625T091737_20240625T110705_2664_094_278______PS2_O_NR_004/download/Oa14_radiance_unc.nc?provider=dedl",
         "roles": [
          "data"
         ],
         "title": "Oa14_radiance_unc.nc",
         "type": "application/x-netcdf"
        },
        "Oa15_radiance.nc": {
         "alternate": {
          "origin": {
           "href": "s3://eodata/Sentinel-3/OLCI/OL_1_ERR___/2024/06/25/S3B_OL_1_ERR____20240625T083313_20240625T091737_20240625T110705_2664_094_278______PS2_O_NR_004.SEN3/Oa15_radiance.nc",
           "title": "Origin asset link",
           "type": "application/x-netcdf"
          }
         },
         "href": "https://hda.data.destination-earth.eu/stac/collections/EO.EUM.DAT.SENTINEL-3.OL_1_ERR___/items/S3B_OL_1_ERR____20240625T083313_20240625T091737_20240625T110705_2664_094_278______PS2_O_NR_004/download/Oa15_radiance.nc?provider=dedl",
         "roles": [
          "data"
         ],
         "title": "Oa15_radiance.nc",
         "type": "application/x-netcdf"
        },
        "Oa15_radiance_unc.nc": {
         "alternate": {
          "origin": {
           "href": "s3://eodata/Sentinel-3/OLCI/OL_1_ERR___/2024/06/25/S3B_OL_1_ERR____20240625T083313_20240625T091737_20240625T110705_2664_094_278______PS2_O_NR_004.SEN3/Oa15_radiance_unc.nc",
           "title": "Origin asset link",
           "type": "application/x-netcdf"
          }
         },
         "href": "https://hda.data.destination-earth.eu/stac/collections/EO.EUM.DAT.SENTINEL-3.OL_1_ERR___/items/S3B_OL_1_ERR____20240625T083313_20240625T091737_20240625T110705_2664_094_278______PS2_O_NR_004/download/Oa15_radiance_unc.nc?provider=dedl",
         "roles": [
          "data"
         ],
         "title": "Oa15_radiance_unc.nc",
         "type": "application/x-netcdf"
        },
        "Oa16_radiance.nc": {
         "alternate": {
          "origin": {
           "href": "s3://eodata/Sentinel-3/OLCI/OL_1_ERR___/2024/06/25/S3B_OL_1_ERR____20240625T083313_20240625T091737_20240625T110705_2664_094_278______PS2_O_NR_004.SEN3/Oa16_radiance.nc",
           "title": "Origin asset link",
           "type": "application/x-netcdf"
          }
         },
         "href": "https://hda.data.destination-earth.eu/stac/collections/EO.EUM.DAT.SENTINEL-3.OL_1_ERR___/items/S3B_OL_1_ERR____20240625T083313_20240625T091737_20240625T110705_2664_094_278______PS2_O_NR_004/download/Oa16_radiance.nc?provider=dedl",
         "roles": [
          "data"
         ],
         "title": "Oa16_radiance.nc",
         "type": "application/x-netcdf"
        },
        "Oa16_radiance_unc.nc": {
         "alternate": {
          "origin": {
           "href": "s3://eodata/Sentinel-3/OLCI/OL_1_ERR___/2024/06/25/S3B_OL_1_ERR____20240625T083313_20240625T091737_20240625T110705_2664_094_278______PS2_O_NR_004.SEN3/Oa16_radiance_unc.nc",
           "title": "Origin asset link",
           "type": "application/x-netcdf"
          }
         },
         "href": "https://hda.data.destination-earth.eu/stac/collections/EO.EUM.DAT.SENTINEL-3.OL_1_ERR___/items/S3B_OL_1_ERR____20240625T083313_20240625T091737_20240625T110705_2664_094_278______PS2_O_NR_004/download/Oa16_radiance_unc.nc?provider=dedl",
         "roles": [
          "data"
         ],
         "title": "Oa16_radiance_unc.nc",
         "type": "application/x-netcdf"
        },
        "Oa17_radiance.nc": {
         "alternate": {
          "origin": {
           "href": "s3://eodata/Sentinel-3/OLCI/OL_1_ERR___/2024/06/25/S3B_OL_1_ERR____20240625T083313_20240625T091737_20240625T110705_2664_094_278______PS2_O_NR_004.SEN3/Oa17_radiance.nc",
           "title": "Origin asset link",
           "type": "application/x-netcdf"
          }
         },
         "href": "https://hda.data.destination-earth.eu/stac/collections/EO.EUM.DAT.SENTINEL-3.OL_1_ERR___/items/S3B_OL_1_ERR____20240625T083313_20240625T091737_20240625T110705_2664_094_278______PS2_O_NR_004/download/Oa17_radiance.nc?provider=dedl",
         "roles": [
          "data"
         ],
         "title": "Oa17_radiance.nc",
         "type": "application/x-netcdf"
        },
        "Oa17_radiance_unc.nc": {
         "alternate": {
          "origin": {
           "href": "s3://eodata/Sentinel-3/OLCI/OL_1_ERR___/2024/06/25/S3B_OL_1_ERR____20240625T083313_20240625T091737_20240625T110705_2664_094_278______PS2_O_NR_004.SEN3/Oa17_radiance_unc.nc",
           "title": "Origin asset link",
           "type": "application/x-netcdf"
          }
         },
         "href": "https://hda.data.destination-earth.eu/stac/collections/EO.EUM.DAT.SENTINEL-3.OL_1_ERR___/items/S3B_OL_1_ERR____20240625T083313_20240625T091737_20240625T110705_2664_094_278______PS2_O_NR_004/download/Oa17_radiance_unc.nc?provider=dedl",
         "roles": [
          "data"
         ],
         "title": "Oa17_radiance_unc.nc",
         "type": "application/x-netcdf"
        },
        "Oa18_radiance.nc": {
         "alternate": {
          "origin": {
           "href": "s3://eodata/Sentinel-3/OLCI/OL_1_ERR___/2024/06/25/S3B_OL_1_ERR____20240625T083313_20240625T091737_20240625T110705_2664_094_278______PS2_O_NR_004.SEN3/Oa18_radiance.nc",
           "title": "Origin asset link",
           "type": "application/x-netcdf"
          }
         },
         "href": "https://hda.data.destination-earth.eu/stac/collections/EO.EUM.DAT.SENTINEL-3.OL_1_ERR___/items/S3B_OL_1_ERR____20240625T083313_20240625T091737_20240625T110705_2664_094_278______PS2_O_NR_004/download/Oa18_radiance.nc?provider=dedl",
         "roles": [
          "data"
         ],
         "title": "Oa18_radiance.nc",
         "type": "application/x-netcdf"
        },
        "Oa18_radiance_unc.nc": {
         "alternate": {
          "origin": {
           "href": "s3://eodata/Sentinel-3/OLCI/OL_1_ERR___/2024/06/25/S3B_OL_1_ERR____20240625T083313_20240625T091737_20240625T110705_2664_094_278______PS2_O_NR_004.SEN3/Oa18_radiance_unc.nc",
           "title": "Origin asset link",
           "type": "application/x-netcdf"
          }
         },
         "href": "https://hda.data.destination-earth.eu/stac/collections/EO.EUM.DAT.SENTINEL-3.OL_1_ERR___/items/S3B_OL_1_ERR____20240625T083313_20240625T091737_20240625T110705_2664_094_278______PS2_O_NR_004/download/Oa18_radiance_unc.nc?provider=dedl",
         "roles": [
          "data"
         ],
         "title": "Oa18_radiance_unc.nc",
         "type": "application/x-netcdf"
        },
        "Oa19_radiance.nc": {
         "alternate": {
          "origin": {
           "href": "s3://eodata/Sentinel-3/OLCI/OL_1_ERR___/2024/06/25/S3B_OL_1_ERR____20240625T083313_20240625T091737_20240625T110705_2664_094_278______PS2_O_NR_004.SEN3/Oa19_radiance.nc",
           "title": "Origin asset link",
           "type": "application/x-netcdf"
          }
         },
         "href": "https://hda.data.destination-earth.eu/stac/collections/EO.EUM.DAT.SENTINEL-3.OL_1_ERR___/items/S3B_OL_1_ERR____20240625T083313_20240625T091737_20240625T110705_2664_094_278______PS2_O_NR_004/download/Oa19_radiance.nc?provider=dedl",
         "roles": [
          "data"
         ],
         "title": "Oa19_radiance.nc",
         "type": "application/x-netcdf"
        },
        "Oa19_radiance_unc.nc": {
         "alternate": {
          "origin": {
           "href": "s3://eodata/Sentinel-3/OLCI/OL_1_ERR___/2024/06/25/S3B_OL_1_ERR____20240625T083313_20240625T091737_20240625T110705_2664_094_278______PS2_O_NR_004.SEN3/Oa19_radiance_unc.nc",
           "title": "Origin asset link",
           "type": "application/x-netcdf"
          }
         },
         "href": "https://hda.data.destination-earth.eu/stac/collections/EO.EUM.DAT.SENTINEL-3.OL_1_ERR___/items/S3B_OL_1_ERR____20240625T083313_20240625T091737_20240625T110705_2664_094_278______PS2_O_NR_004/download/Oa19_radiance_unc.nc?provider=dedl",
         "roles": [
          "data"
         ],
         "title": "Oa19_radiance_unc.nc",
         "type": "application/x-netcdf"
        },
        "Oa20_radiance.nc": {
         "alternate": {
          "origin": {
           "href": "s3://eodata/Sentinel-3/OLCI/OL_1_ERR___/2024/06/25/S3B_OL_1_ERR____20240625T083313_20240625T091737_20240625T110705_2664_094_278______PS2_O_NR_004.SEN3/Oa20_radiance.nc",
           "title": "Origin asset link",
           "type": "application/x-netcdf"
          }
         },
         "href": "https://hda.data.destination-earth.eu/stac/collections/EO.EUM.DAT.SENTINEL-3.OL_1_ERR___/items/S3B_OL_1_ERR____20240625T083313_20240625T091737_20240625T110705_2664_094_278______PS2_O_NR_004/download/Oa20_radiance.nc?provider=dedl",
         "roles": [
          "data"
         ],
         "title": "Oa20_radiance.nc",
         "type": "application/x-netcdf"
        },
        "Oa20_radiance_unc.nc": {
         "alternate": {
          "origin": {
           "href": "s3://eodata/Sentinel-3/OLCI/OL_1_ERR___/2024/06/25/S3B_OL_1_ERR____20240625T083313_20240625T091737_20240625T110705_2664_094_278______PS2_O_NR_004.SEN3/Oa20_radiance_unc.nc",
           "title": "Origin asset link",
           "type": "application/x-netcdf"
          }
         },
         "href": "https://hda.data.destination-earth.eu/stac/collections/EO.EUM.DAT.SENTINEL-3.OL_1_ERR___/items/S3B_OL_1_ERR____20240625T083313_20240625T091737_20240625T110705_2664_094_278______PS2_O_NR_004/download/Oa20_radiance_unc.nc?provider=dedl",
         "roles": [
          "data"
         ],
         "title": "Oa20_radiance_unc.nc",
         "type": "application/x-netcdf"
        },
        "Oa21_radiance.nc": {
         "alternate": {
          "origin": {
           "href": "s3://eodata/Sentinel-3/OLCI/OL_1_ERR___/2024/06/25/S3B_OL_1_ERR____20240625T083313_20240625T091737_20240625T110705_2664_094_278______PS2_O_NR_004.SEN3/Oa21_radiance.nc",
           "title": "Origin asset link",
           "type": "application/x-netcdf"
          }
         },
         "href": "https://hda.data.destination-earth.eu/stac/collections/EO.EUM.DAT.SENTINEL-3.OL_1_ERR___/items/S3B_OL_1_ERR____20240625T083313_20240625T091737_20240625T110705_2664_094_278______PS2_O_NR_004/download/Oa21_radiance.nc?provider=dedl",
         "roles": [
          "data"
         ],
         "title": "Oa21_radiance.nc",
         "type": "application/x-netcdf"
        },
        "Oa21_radiance_unc.nc": {
         "alternate": {
          "origin": {
           "href": "s3://eodata/Sentinel-3/OLCI/OL_1_ERR___/2024/06/25/S3B_OL_1_ERR____20240625T083313_20240625T091737_20240625T110705_2664_094_278______PS2_O_NR_004.SEN3/Oa21_radiance_unc.nc",
           "title": "Origin asset link",
           "type": "application/x-netcdf"
          }
         },
         "href": "https://hda.data.destination-earth.eu/stac/collections/EO.EUM.DAT.SENTINEL-3.OL_1_ERR___/items/S3B_OL_1_ERR____20240625T083313_20240625T091737_20240625T110705_2664_094_278______PS2_O_NR_004/download/Oa21_radiance_unc.nc?provider=dedl",
         "roles": [
          "data"
         ],
         "title": "Oa21_radiance_unc.nc",
         "type": "application/x-netcdf"
        },
        "downloadLink": {
         "alternate": {
          "origin": {
           "href": "https://zipper.creodias.eu/odata/v1/Products(5ecb7bdb-fc87-49a8-a326-08033f4b7044)/$value",
           "title": "Origin asset link"
          }
         },
         "href": "https://hda.data.destination-earth.eu/stac/collections/EO.EUM.DAT.SENTINEL-3.OL_1_ERR___/items/S3B_OL_1_ERR____20240625T083313_20240625T091737_20240625T110705_2664_094_278______PS2_O_NR_004/download?provider=dedl",
         "storage:tier": "ONLINE",
         "title": "Download link",
         "type": "application/zip"
        },
        "geo_coordinates.nc": {
         "alternate": {
          "origin": {
           "href": "s3://eodata/Sentinel-3/OLCI/OL_1_ERR___/2024/06/25/S3B_OL_1_ERR____20240625T083313_20240625T091737_20240625T110705_2664_094_278______PS2_O_NR_004.SEN3/geo_coordinates.nc",
           "title": "Origin asset link",
           "type": "application/x-netcdf"
          }
         },
         "href": "https://hda.data.destination-earth.eu/stac/collections/EO.EUM.DAT.SENTINEL-3.OL_1_ERR___/items/S3B_OL_1_ERR____20240625T083313_20240625T091737_20240625T110705_2664_094_278______PS2_O_NR_004/download/geo_coordinates.nc?provider=dedl",
         "roles": [
          "data"
         ],
         "title": "geo_coordinates.nc",
         "type": "application/x-netcdf"
        },
        "instrument_data.nc": {
         "alternate": {
          "origin": {
           "href": "s3://eodata/Sentinel-3/OLCI/OL_1_ERR___/2024/06/25/S3B_OL_1_ERR____20240625T083313_20240625T091737_20240625T110705_2664_094_278______PS2_O_NR_004.SEN3/instrument_data.nc",
           "title": "Origin asset link",
           "type": "application/x-netcdf"
          }
         },
         "href": "https://hda.data.destination-earth.eu/stac/collections/EO.EUM.DAT.SENTINEL-3.OL_1_ERR___/items/S3B_OL_1_ERR____20240625T083313_20240625T091737_20240625T110705_2664_094_278______PS2_O_NR_004/download/instrument_data.nc?provider=dedl",
         "roles": [
          "data"
         ],
         "title": "instrument_data.nc",
         "type": "application/x-netcdf"
        },
        "qualityFlags.nc": {
         "alternate": {
          "origin": {
           "href": "s3://eodata/Sentinel-3/OLCI/OL_1_ERR___/2024/06/25/S3B_OL_1_ERR____20240625T083313_20240625T091737_20240625T110705_2664_094_278______PS2_O_NR_004.SEN3/qualityFlags.nc",
           "title": "Origin asset link",
           "type": "application/x-netcdf"
          }
         },
         "href": "https://hda.data.destination-earth.eu/stac/collections/EO.EUM.DAT.SENTINEL-3.OL_1_ERR___/items/S3B_OL_1_ERR____20240625T083313_20240625T091737_20240625T110705_2664_094_278______PS2_O_NR_004/download/qualityFlags.nc?provider=dedl",
         "roles": [
          "data"
         ],
         "title": "qualityFlags.nc",
         "type": "application/x-netcdf"
        },
        "quicklook.jpg": {
         "alternate": {
          "origin": {
           "href": "s3://eodata/Sentinel-3/OLCI/OL_1_ERR___/2024/06/25/S3B_OL_1_ERR____20240625T083313_20240625T091737_20240625T110705_2664_094_278______PS2_O_NR_004.SEN3/quicklook.jpg",
           "title": "Origin asset link",
           "type": "image/jpeg"
          }
         },
         "href": "https://hda.data.destination-earth.eu/stac/collections/EO.EUM.DAT.SENTINEL-3.OL_1_ERR___/items/S3B_OL_1_ERR____20240625T083313_20240625T091737_20240625T110705_2664_094_278______PS2_O_NR_004/download/quicklook.jpg?provider=dedl",
         "roles": [
          "metadata"
         ],
         "title": "quicklook.jpg",
         "type": "image/jpeg"
        },
        "thumbnail": {
         "href": "https://datahub.creodias.eu/odata/v1/Assets(3360d32c-afb0-4af3-bde4-408be68ccd4e)/$value",
         "role": "thumbnail",
         "title": "Thumbnail"
        },
        "tie_geo_coordinates.nc": {
         "alternate": {
          "origin": {
           "href": "s3://eodata/Sentinel-3/OLCI/OL_1_ERR___/2024/06/25/S3B_OL_1_ERR____20240625T083313_20240625T091737_20240625T110705_2664_094_278______PS2_O_NR_004.SEN3/tie_geo_coordinates.nc",
           "title": "Origin asset link",
           "type": "application/x-netcdf"
          }
         },
         "href": "https://hda.data.destination-earth.eu/stac/collections/EO.EUM.DAT.SENTINEL-3.OL_1_ERR___/items/S3B_OL_1_ERR____20240625T083313_20240625T091737_20240625T110705_2664_094_278______PS2_O_NR_004/download/tie_geo_coordinates.nc?provider=dedl",
         "roles": [
          "data"
         ],
         "title": "tie_geo_coordinates.nc",
         "type": "application/x-netcdf"
        },
        "tie_geometries.nc": {
         "alternate": {
          "origin": {
           "href": "s3://eodata/Sentinel-3/OLCI/OL_1_ERR___/2024/06/25/S3B_OL_1_ERR____20240625T083313_20240625T091737_20240625T110705_2664_094_278______PS2_O_NR_004.SEN3/tie_geometries.nc",
           "title": "Origin asset link",
           "type": "application/x-netcdf"
          }
         },
         "href": "https://hda.data.destination-earth.eu/stac/collections/EO.EUM.DAT.SENTINEL-3.OL_1_ERR___/items/S3B_OL_1_ERR____20240625T083313_20240625T091737_20240625T110705_2664_094_278______PS2_O_NR_004/download/tie_geometries.nc?provider=dedl",
         "roles": [
          "data"
         ],
         "title": "tie_geometries.nc",
         "type": "application/x-netcdf"
        },
        "tie_meteo.nc": {
         "alternate": {
          "origin": {
           "href": "s3://eodata/Sentinel-3/OLCI/OL_1_ERR___/2024/06/25/S3B_OL_1_ERR____20240625T083313_20240625T091737_20240625T110705_2664_094_278______PS2_O_NR_004.SEN3/tie_meteo.nc",
           "title": "Origin asset link",
           "type": "application/x-netcdf"
          }
         },
         "href": "https://hda.data.destination-earth.eu/stac/collections/EO.EUM.DAT.SENTINEL-3.OL_1_ERR___/items/S3B_OL_1_ERR____20240625T083313_20240625T091737_20240625T110705_2664_094_278______PS2_O_NR_004/download/tie_meteo.nc?provider=dedl",
         "roles": [
          "data"
         ],
         "title": "tie_meteo.nc",
         "type": "application/x-netcdf"
        },
        "time_coordinates.nc": {
         "alternate": {
          "origin": {
           "href": "s3://eodata/Sentinel-3/OLCI/OL_1_ERR___/2024/06/25/S3B_OL_1_ERR____20240625T083313_20240625T091737_20240625T110705_2664_094_278______PS2_O_NR_004.SEN3/time_coordinates.nc",
           "title": "Origin asset link",
           "type": "application/x-netcdf"
          }
         },
         "href": "https://hda.data.destination-earth.eu/stac/collections/EO.EUM.DAT.SENTINEL-3.OL_1_ERR___/items/S3B_OL_1_ERR____20240625T083313_20240625T091737_20240625T110705_2664_094_278______PS2_O_NR_004/download/time_coordinates.nc?provider=dedl",
         "roles": [
          "data"
         ],
         "title": "time_coordinates.nc",
         "type": "application/x-netcdf"
        },
        "xfdumanifest.xml": {
         "alternate": {
          "origin": {
           "href": "s3://eodata/Sentinel-3/OLCI/OL_1_ERR___/2024/06/25/S3B_OL_1_ERR____20240625T083313_20240625T091737_20240625T110705_2664_094_278______PS2_O_NR_004.SEN3/xfdumanifest.xml",
           "title": "Origin asset link",
           "type": "text/xml"
          }
         },
         "href": "https://hda.data.destination-earth.eu/stac/collections/EO.EUM.DAT.SENTINEL-3.OL_1_ERR___/items/S3B_OL_1_ERR____20240625T083313_20240625T091737_20240625T110705_2664_094_278______PS2_O_NR_004/download/xfdumanifest.xml?provider=dedl",
         "roles": [
          "metadata"
         ],
         "title": "xfdumanifest.xml",
         "type": "text/xml"
        }
       },
       "bbox": [
        -180,
        -48.9708,
        180,
        90
       ],
       "collection": "EO.EUM.DAT.SENTINEL-3.OL_1_ERR___",
       "geometry": {
        "coordinates": [
         [
          [
           5.47872,
           -48.9708
          ],
          [
           5.76914,
           -48.0795
          ],
          [
           6.33387,
           -46.2852
          ],
          [
           6.87526,
           -44.4889
          ],
          [
           7.3965,
           -42.6904
          ],
          [
           7.89938,
           -40.8905
          ],
          [
           8.38666,
           -39.0888
          ],
          [
           8.86043,
           -37.286
          ],
          [
           9.32116,
           -35.4811
          ],
          [
           9.77154,
           -33.6748
          ],
          [
           10.2125,
           -31.8676
          ],
          [
           10.6448,
           -30.0592
          ],
          [
           11.07,
           -28.2494
          ],
          [
           11.4887,
           -26.4386
          ],
          [
           11.902,
           -24.627
          ],
          [
           12.3105,
           -22.8142
          ],
          [
           12.7147,
           -21
          ],
          [
           13.1164,
           -19.1862
          ],
          [
           13.5152,
           -17.3712
          ],
          [
           13.9115,
           -15.5552
          ],
          [
           14.3068,
           -13.7389
          ],
          [
           14.7011,
           -11.922
          ],
          [
           15.0952,
           -10.1047
          ],
          [
           15.4891,
           -8.28715
          ],
          [
           15.8841,
           -6.4692
          ],
          [
           16.2802,
           -4.65113
          ],
          [
           16.6781,
           -2.83304
          ],
          [
           17.0783,
           -1.0148
          ],
          [
           17.4812,
           0.803356
          ],
          [
           17.8875,
           2.62127
          ],
          [
           18.2978,
           4.43894
          ],
          [
           18.7126,
           6.25606
          ],
          [
           19.1325,
           8.07308
          ],
          [
           19.5584,
           9.88949
          ],
          [
           19.9902,
           11.7048
          ],
          [
           20.4297,
           13.5197
          ],
          [
           20.877,
           15.3336
          ],
          [
           21.3331,
           17.1465
          ],
          [
           21.7989,
           18.9581
          ],
          [
           22.2753,
           20.7685
          ],
          [
           22.7634,
           22.5775
          ],
          [
           23.2645,
           24.3848
          ],
          [
           23.7798,
           26.1904
          ],
          [
           24.3105,
           27.994
          ],
          [
           24.8585,
           29.7956
          ],
          [
           25.4254,
           31.5946
          ],
          [
           26.0126,
           33.3917
          ],
          [
           26.6233,
           35.1855
          ],
          [
           27.2598,
           36.9757
          ],
          [
           27.9238,
           38.7634
          ],
          [
           28.6195,
           40.547
          ],
          [
           29.35,
           42.3264
          ],
          [
           30.1197,
           44.1014
          ],
          [
           30.9332,
           45.8712
          ],
          [
           31.7957,
           47.6353
          ],
          [
           32.714,
           49.3932
          ],
          [
           33.6953,
           51.1438
          ],
          [
           34.7482,
           52.8864
          ],
          [
           35.8834,
           54.6197
          ],
          [
           37.1126,
           56.3423
          ],
          [
           38.451,
           58.0528
          ],
          [
           39.9159,
           59.749
          ],
          [
           41.5287,
           61.4287
          ],
          [
           43.3154,
           63.0885
          ],
          [
           45.307,
           64.7249
          ],
          [
           47.5431,
           66.3332
          ],
          [
           50.0709,
           67.9072
          ],
          [
           52.949,
           69.4385
          ],
          [
           56.2489,
           70.9187
          ],
          [
           60.0553,
           72.3334
          ],
          [
           64.4681,
           73.666
          ],
          [
           69.5952,
           74.8954
          ],
          [
           75.5429,
           75.994
          ],
          [
           82.3871,
           76.9288
          ],
          [
           90.1335,
           77.663
          ],
          [
           98.6711,
           78.1599
          ],
          [
           107.73,
           78.3871
          ],
          [
           116.916,
           78.3298
          ],
          [
           125.81,
           77.993
          ],
          [
           134.056,
           77.398
          ],
          [
           141.45,
           76.5796
          ],
          [
           147.932,
           75.5753
          ],
          [
           153.542,
           74.4211
          ],
          [
           158.373,
           73.1479
          ],
          [
           162.532,
           71.7803
          ],
          [
           166.126,
           70.338
          ],
          [
           169.249,
           68.8363
          ],
          [
           171.98,
           67.2867
          ],
          [
           173.359,
           67.6119
          ],
          [
           174.771,
           67.9242
          ],
          [
           176.223,
           68.2243
          ],
          [
           177.71,
           68.5109
          ],
          [
           179.234,
           68.7839
          ],
          [
           180,
           68.911028
          ],
          [
           180,
           90
          ],
          [
           0,
           90
          ],
          [
           -180,
           90
          ],
          [
           -180,
           68.911028
          ],
          [
           -179.203,
           69.0433
          ],
          [
           -177.604,
           69.288
          ],
          [
           -175.969,
           69.5177
          ],
          [
           -174.3,
           69.7316
          ],
          [
           -172.599,
           69.9294
          ],
          [
           -170.866,
           70.1107
          ],
          [
           -169.105,
           70.2748
          ],
          [
           -167.316,
           70.4215
          ],
          [
           -165.503,
           70.5503
          ],
          [
           -163.669,
           70.6608
          ],
          [
           -161.816,
           70.7527
          ],
          [
           -159.947,
           70.8258
          ],
          [
           -158.067,
           70.8798
          ],
          [
           -156.178,
           70.9155
          ],
          [
           -156.397,
           72.7007
          ],
          [
           -156.603,
           74.4855
          ],
          [
           -156.793,
           76.2699
          ],
          [
           -156.959,
           78.0537
          ],
          [
           -157.09,
           79.8374
          ],
          [
           -157.164,
           81.6207
          ],
          [
           -157.133,
           83.4035
          ],
          [
           -156.886,
           85.1858
          ],
          [
           -156.035,
           86.9674
          ],
          [
           -152.03,
           88.7451
          ],
          [
           0,
           89.422536
          ],
          [
           3.8743,
           89.4398
          ],
          [
           16.2191,
           87.6752
          ],
          [
           17.6748,
           85.8933
          ],
          [
           18.0825,
           84.1113
          ],
          [
           18.177,
           82.3289
          ],
          [
           18.1369,
           80.5457
          ],
          [
           18.0257,
           78.7622
          ],
          [
           17.8706,
           76.9785
          ],
          [
           17.6894,
           75.1943
          ],
          [
           17.4897,
           73.4094
          ],
          [
           17.2749,
           71.6246
          ],
          [
           17.0509,
           69.8389
          ],
          [
           16.819,
           68.0528
          ],
          [
           16.5806,
           66.2663
          ],
          [
           16.3365,
           64.4791
          ],
          [
           16.0879,
           62.6911
          ],
          [
           15.8354,
           60.9028
          ],
          [
           15.5792,
           59.1137
          ],
          [
           15.3199,
           57.324
          ],
          [
           15.0572,
           55.5335
          ],
          [
           14.7918,
           53.7423
          ],
          [
           14.5233,
           51.9505
          ],
          [
           14.2521,
           50.1578
          ],
          [
           13.9783,
           48.3645
          ],
          [
           13.7015,
           46.5704
          ],
          [
           13.422,
           44.7755
          ],
          [
           13.1397,
           42.9801
          ],
          [
           12.8545,
           41.1838
          ],
          [
           12.5667,
           39.3863
          ],
          [
           12.275,
           37.5897
          ],
          [
           11.9807,
           35.7917
          ],
          [
           11.6835,
           33.9917
          ],
          [
           11.3825,
           32.1925
          ],
          [
           11.078,
           30.3926
          ],
          [
           10.77,
           28.592
          ],
          [
           10.4579,
           26.7909
          ],
          [
           10.1419,
           24.9896
          ],
          [
           9.82189,
           23.1877
          ],
          [
           9.49729,
           21.3855
          ],
          [
           9.16811,
           19.5832
          ],
          [
           8.83411,
           17.7806
          ],
          [
           8.49498,
           15.9779
          ],
          [
           8.15035,
           14.1752
          ],
          [
           7.80047,
           12.3727
          ],
          [
           7.44412,
           10.5702
          ],
          [
           7.08164,
           8.76778
          ],
          [
           6.71253,
           6.96602
          ],
          [
           6.33629,
           5.16459
          ],
          [
           5.95264,
           3.36355
          ],
          [
           5.56103,
           1.56315
          ],
          [
           5.16103,
           -0.236255
          ],
          [
           4.75209,
           -2.03472
          ],
          [
           4.33365,
           -3.83234
          ],
          [
           3.90503,
           -5.62863
          ],
          [
           3.46593,
           -7.42372
          ],
          [
           3.01504,
           -9.2173
          ],
          [
           2.55202,
           -11.0092
          ],
          [
           2.07585,
           -12.7992
          ],
          [
           1.58584,
           -14.5876
          ],
          [
           1.08051,
           -16.3732
          ],
          [
           0.558995,
           -18.1553
          ],
          [
           0.020445,
           -19.9372
          ],
          [
           0,
           -20.002399
          ],
          [
           -0.537032,
           -21.715
          ],
          [
           -1.1147,
           -23.4892
          ],
          [
           -1.71408,
           -25.2602
          ],
          [
           -2.33722,
           -27.0275
          ],
          [
           -2.98573,
           -28.7904
          ],
          [
           -3.66237,
           -30.5487
          ],
          [
           -4.36923,
           -32.3023
          ],
          [
           -5.1086,
           -34.0503
          ],
          [
           -5.88492,
           -35.7921
          ],
          [
           -6.70041,
           -37.5274
          ],
          [
           -7.55918,
           -39.2554
          ],
          [
           -8.46628,
           -40.9755
          ],
          [
           -9.42592,
           -42.6866
          ],
          [
           -10.4441,
           -44.3878
          ],
          [
           -10.9741,
           -45.2298
          ],
          [
           -10.1676,
           -45.4827
          ],
          [
           -9.35511,
           -45.7306
          ],
          [
           -8.5354,
           -45.9727
          ],
          [
           -7.70862,
           -46.2088
          ],
          [
           -6.87477,
           -46.4388
          ],
          [
           -6.03398,
           -46.6627
          ],
          [
           -5.18629,
           -46.8803
          ],
          [
           -4.33184,
           -47.0916
          ],
          [
           -3.4707,
           -47.2965
          ],
          [
           -2.603,
           -47.4949
          ],
          [
           -1.72883,
           -47.6866
          ],
          [
           -0.848334,
           -47.8715
          ],
          [
           0,
           -48.041997
          ],
          [
           0.038325,
           -48.0497
          ],
          [
           0.93101,
           -48.2209
          ],
          [
           1.82955,
           -48.3852
          ],
          [
           2.73378,
           -48.5423
          ],
          [
           3.6435,
           -48.6923
          ],
          [
           4.5585,
           -48.8351
          ],
          [
           5.47872,
           -48.9708
          ]
         ]
        ],
        "type": "Polygon"
       },
       "id": "S3B_OL_1_ERR____20240625T083313_20240625T091737_20240625T110705_2664_094_278______PS2_O_NR_004",
       "links": [
        {
         "href": "https://hda.data.destination-earth.eu/stac/collections/EO.EUM.DAT.SENTINEL-3.OL_1_ERR___/items/S3B_OL_1_ERR____20240625T083313_20240625T091737_20240625T110705_2664_094_278______PS2_O_NR_004",
         "rel": "self",
         "title": "S3B_OL_1_ERR____20240625T083313_20240625T091737_20240625T110705_2664_094_278______PS2_O_NR_004"
        },
        {
         "href": "https://hda.data.destination-earth.eu/stac/",
         "rel": "root"
        },
        {
         "href": "https://hda.data.destination-earth.eu/stac/collections/EO.EUM.DAT.SENTINEL-3.OL_1_ERR___",
         "rel": "parent",
         "title": "EO.EUM.DAT.SENTINEL-3.OL_1_ERR___"
        },
        {
         "href": "https://hda.data.destination-earth.eu/stac/collections/EO.EUM.DAT.SENTINEL-3.OL_1_ERR___",
         "rel": "collection",
         "title": "EO.EUM.DAT.SENTINEL-3.OL_1_ERR___"
        }
       ],
       "properties": {
        "constellation": "SENTINEL-3",
        "datetime": "2024-06-25T08:33:12.876948Z",
        "dedl:alias": "EO.EUM.DAT.SENTINEL-3.OL_1_ERR___",
        "dedl:baselineCollection": "004",
        "dedl:beginningDateTime": "2024-06-25T08:33:12.876948Z",
        "dedl:brightCover": 50,
        "dedl:coastalCover": 1,
        "dedl:cycleNumber": 94,
        "dedl:endingDateTime": "2024-06-25T09:17:37.280046Z",
        "dedl:freshInlandWaterCover": 1,
        "dedl:processorVersion": 3.5,
        "dedl:productIdentifier": "/eodata/Sentinel-3/OLCI/OL_1_ERR___/2024/06/25/S3B_OL_1_ERR____20240625T083313_20240625T091737_20240625T110705_2664_094_278______PS2_O_NR_004.SEN3",
        "dedl:salineWaterCover": 59,
        "dedl:scope": {
         "discover": null,
         "download": "hda-public-data-access",
         "search": "hda-public-data-access"
        },
        "dedl:tidalRegionCover": 0,
        "dedl:timeliness": "NR",
        "dedl:uid": "5ecb7bdb-fc87-49a8-a326-08033f4b7044",
        "description": "OLCI (Ocean and Land Colour Instrument) Reduced resolution: 1200m at nadir. All Sentinel-3 NRT products are available at pick-up point in less than 3h. Level 1 products are calibrated Top Of Atmosphere radiance values at OLCI 21 spectral bands. Radiances are computed from the instrument digital counts by applying geo-referencing, radiometric processing (non-linearity correction, smear correction, dark offset correction, absolute gain calibration adjusted for gain evolution with time), and stray-light correction for straylight effects in OLCI camera's spectrometer and ground imager. Additionally, spatial resampling of OLCI pixels to the 'ideal' instrument grid, initial pixel classification, and annotation at tie points with auxiliary meteorological data and acquisition geometry are provided. The radiance products are accompanied by error estimate products, however the error values are currently not available.\n\n- All Sentinel-3 NRT products are available at pick-up point in less than 3h\n- All Sentinel-3 Non Time Critical (NTC) products are available at pick-up point in less than 30 days\nSentinel-3 is part of a series of Sentinel satellites, under the umbrella of the EU Copernicus programme.",
        "end_datetime": "2024-06-25T09:17:37.280046Z",
        "instruments": [
         "OLCI"
        ],
        "license": "proprietary",
        "order:status": "succeeded",
        "platform": "B",
        "processing:level": 1,
        "providers": [
         {
          "description": "DestineE Data Lake Fresh Data Pool",
          "name": "dedl",
          "priority": 1,
          "roles": [
           "host"
          ],
          "url": "https://creodias.eu/"
         }
        ],
        "published": "2024-06-25T11:15:16.993208Z",
        "sar:instrument_mode": "Earth Observation",
        "sar:product_type": "OL_1_ERR___",
        "sat:absolute_orbit": 32120,
        "sat:orbit_state": "ASCENDING",
        "sat:relative_orbit": 278,
        "start_datetime": "2024-06-25T08:33:12.876948Z",
        "updated": "2024-11-09T22:50:04.780694Z"
       },
       "stac_extensions": [
        "https://stac-extensions.github.io/timestamps/v1.0.0/schema.json",
        "https://stac-extensions.github.io/processing/v1.0.0/schema.json",
        "https://stac-extensions.github.io/sat/v1.0.0/schema.json",
        "https://stac-extensions.github.io/sar/v1.0.0/schema.json",
        "https://stac-extensions.github.io/order/v1.1.0/schema.json"
       ],
       "stac_version": "1.0.0",
       "type": "Feature"
      },
      "text/plain": [
       "<IPython.core.display.JSON object>"
      ]
     },
     "execution_count": 8,
     "metadata": {
      "application/json": {
       "expanded": false,
       "root": "root"
      }
     },
     "output_type": "execute_result"
    }
   ],
   "source": [
    "from IPython.display import JSON\n",
    "\n",
    "product = response.json()[\"features\"][0]\n",
    "JSON(product)"
   ]
  },
  {
   "cell_type": "markdown",
   "id": "565f3862-7ba2-4971-bf66-e6171fcf4d30",
   "metadata": {},
   "source": [
    "## Download\n",
    "\n",
    "The product metadata contains the link to download it. We can use that link to download the selected product.\n",
    "In this case we download the first product returned by our search."
   ]
  },
  {
   "cell_type": "code",
   "execution_count": 9,
   "id": "fc08ec47-d53e-43b2-adb5-cf65387a9319",
   "metadata": {
    "tags": []
   },
   "outputs": [
    {
     "name": "stdout",
     "output_type": "stream",
     "text": [
      "https://hda.data.destination-earth.eu/stac/collections/EO.EUM.DAT.SENTINEL-3.OL_1_ERR___/items/S3B_OL_1_ERR____20240625T083313_20240625T091737_20240625T110705_2664_094_278______PS2_O_NR_004/download?provider=dedl\n",
      "S3B_OL_1_ERR____20240625T083313_20240625T091737_20240625T110705_2664_094_278______PS2_O_NR_004\n",
      "downloading S3B_OL_1_ERR____20240625T083313_20240625T091737_20240625T110705_2664_094_278______PS2_O_NR_004\n"
     ]
    },
    {
     "name": "stderr",
     "output_type": "stream",
     "text": [
      "925MB [00:01, 588MB/s] \n"
     ]
    }
   ],
   "source": [
    "from tqdm import tqdm\n",
    "import time\n",
    "\n",
    "assets = [\"downloadLink\"]\n",
    "\n",
    "for asset in assets:\n",
    "    download_url = product[\"assets\"][asset][\"href\"]\n",
    "    print(download_url)\n",
    "    filename = product[\"id\"]\n",
    "    print(filename)\n",
    "    response = requests.get(download_url, headers=auth_headers)\n",
    "    total_size = int(response.headers.get(\"content-length\", 0))\n",
    "\n",
    "    print(f\"downloading {filename}\")\n",
    "\n",
    "    with tqdm(total=total_size, unit=\"B\", unit_scale=True) as progress_bar:\n",
    "        with open(filename, 'wb') as f:\n",
    "            for data in response.iter_content(1024):\n",
    "                progress_bar.update(len(data))\n",
    "                f.write(data)"
   ]
  },
  {
   "cell_type": "markdown",
   "id": "6e69f6f0-6e8d-4e33-b7ff-f5dcbc7daf62",
   "metadata": {},
   "source": [
    "### Unfold the product "
   ]
  },
  {
   "cell_type": "code",
   "execution_count": 10,
   "id": "f692512b-32da-444b-bbeb-6b7e629d261f",
   "metadata": {
    "tags": []
   },
   "outputs": [],
   "source": [
    "del response\n",
    "import os\n",
    "import zipfile\n",
    "\n",
    "zf=zipfile.ZipFile(filename)\n",
    "with zipfile.ZipFile(filename, 'r') as zip_ref:\n",
    "    zip_ref.extractall('.')"
   ]
  },
  {
   "cell_type": "markdown",
   "id": "c1de518e-4ddf-4915-8c55-19cec2eb0bd8",
   "metadata": {},
   "source": [
    "## Read and visualize OLCI data using Satpy\n"
   ]
  },
  {
   "cell_type": "markdown",
   "id": "569c327f-287d-4224-b579-8521c712315a",
   "metadata": {},
   "source": [
    "The Python package satpy supports reading and loading data from many input files. \n",
    "\n",
    "Below the installation and import of useful modules and packages."
   ]
  },
  {
   "cell_type": "code",
   "execution_count": 11,
   "id": "ad054d40-935f-4a17-8c97-69b58fb188a8",
   "metadata": {
    "tags": []
   },
   "outputs": [
    {
     "name": "stdout",
     "output_type": "stream",
     "text": [
      "Note: you may need to restart the kernel to use updated packages.\n"
     ]
    }
   ],
   "source": [
    "pip install --quiet satpy pyspectral"
   ]
  },
  {
   "cell_type": "code",
   "execution_count": 12,
   "id": "82429495-0228-4f4a-bf37-fbc3f61f0773",
   "metadata": {
    "tags": []
   },
   "outputs": [],
   "source": [
    "from datetime import datetime\n",
    "from satpy import find_files_and_readers\n",
    "from satpy.scene import Scene\n",
    "from satpy.composites import GenericCompositor\n",
    "from satpy.writers import to_image\n",
    "from satpy.resample import get_area_def\n",
    "from satpy import available_readers\n",
    "\n",
    "import pyresample\n",
    "import pyspectral\n",
    "\n",
    "import warnings\n",
    "warnings.filterwarnings(\"ignore\")\n",
    "warnings.simplefilter(action = \"ignore\", category = RuntimeWarning)"
   ]
  },
  {
   "cell_type": "markdown",
   "id": "69ff71ed-d8ed-4a2b-ace7-3e14a63f1070",
   "metadata": {},
   "source": [
    "### Read data\n",
    "\n",
    "We can read the downloaded data using the \"olci_l1b\" satpy reader"
   ]
  },
  {
   "cell_type": "code",
   "execution_count": 13,
   "id": "4916695e-e04f-4ce3-8c14-7cfc62645d77",
   "metadata": {
    "tags": []
   },
   "outputs": [
    {
     "data": {
      "text/plain": [
       "['Oa01',\n",
       " 'Oa02',\n",
       " 'Oa03',\n",
       " 'Oa04',\n",
       " 'Oa05',\n",
       " 'Oa06',\n",
       " 'Oa07',\n",
       " 'Oa08',\n",
       " 'Oa09',\n",
       " 'Oa10',\n",
       " 'Oa11',\n",
       " 'Oa12',\n",
       " 'Oa13',\n",
       " 'Oa14',\n",
       " 'Oa15',\n",
       " 'Oa16',\n",
       " 'Oa17',\n",
       " 'Oa18',\n",
       " 'Oa19',\n",
       " 'Oa20',\n",
       " 'Oa21',\n",
       " 'altitude',\n",
       " 'humidity',\n",
       " 'latitude',\n",
       " 'longitude',\n",
       " 'mask',\n",
       " 'quality_flags',\n",
       " 'satellite_azimuth_angle',\n",
       " 'satellite_zenith_angle',\n",
       " 'sea_level_pressure',\n",
       " 'solar_azimuth_angle',\n",
       " 'solar_zenith_angle',\n",
       " 'total_columnar_water_vapour',\n",
       " 'total_ozone']"
      ]
     },
     "execution_count": 13,
     "metadata": {},
     "output_type": "execute_result"
    }
   ],
   "source": [
    "\n",
    "\n",
    "files = find_files_and_readers(sensor=\"olci\",\n",
    "                               start_time=datetime(2024, 6, 25, 0, 0),\n",
    "                               end_time=datetime(2024, 6, 30, 0, 0),\n",
    "                               base_dir=\".\",\n",
    "                               reader=\"olci_l1b\")\n",
    "\n",
    "scn = Scene(filenames=files)\n",
    "# print available datasets\n",
    "scn.available_dataset_names()"
   ]
  },
  {
   "cell_type": "markdown",
   "id": "a860b9a4-049a-41ab-ba7d-5395c6530134",
   "metadata": {},
   "source": [
    "We can print the available datasets for the loaded scene."
   ]
  },
  {
   "cell_type": "markdown",
   "id": "f60fb64c-41b9-48c8-9424-3b71592d981c",
   "metadata": {},
   "source": [
    "With the function load(), you can specify an individual band by name. If you then select the loaded band, you see the xarray.DataArray band object"
   ]
  },
  {
   "cell_type": "code",
   "execution_count": 14,
   "id": "7aa4b1b1-5f80-4373-b241-6f54534ab226",
   "metadata": {
    "tags": []
   },
   "outputs": [
    {
     "data": {
      "text/html": [
       "<div><svg style=\"position: absolute; width: 0; height: 0; overflow: hidden\">\n",
       "<defs>\n",
       "<symbol id=\"icon-database\" viewBox=\"0 0 32 32\">\n",
       "<path d=\"M16 0c-8.837 0-16 2.239-16 5v4c0 2.761 7.163 5 16 5s16-2.239 16-5v-4c0-2.761-7.163-5-16-5z\"></path>\n",
       "<path d=\"M16 17c-8.837 0-16-2.239-16-5v6c0 2.761 7.163 5 16 5s16-2.239 16-5v-6c0 2.761-7.163 5-16 5z\"></path>\n",
       "<path d=\"M16 26c-8.837 0-16-2.239-16-5v6c0 2.761 7.163 5 16 5s16-2.239 16-5v-6c0 2.761-7.163 5-16 5z\"></path>\n",
       "</symbol>\n",
       "<symbol id=\"icon-file-text2\" viewBox=\"0 0 32 32\">\n",
       "<path d=\"M28.681 7.159c-0.694-0.947-1.662-2.053-2.724-3.116s-2.169-2.030-3.116-2.724c-1.612-1.182-2.393-1.319-2.841-1.319h-15.5c-1.378 0-2.5 1.121-2.5 2.5v27c0 1.378 1.122 2.5 2.5 2.5h23c1.378 0 2.5-1.122 2.5-2.5v-19.5c0-0.448-0.137-1.23-1.319-2.841zM24.543 5.457c0.959 0.959 1.712 1.825 2.268 2.543h-4.811v-4.811c0.718 0.556 1.584 1.309 2.543 2.268zM28 29.5c0 0.271-0.229 0.5-0.5 0.5h-23c-0.271 0-0.5-0.229-0.5-0.5v-27c0-0.271 0.229-0.5 0.5-0.5 0 0 15.499-0 15.5 0v7c0 0.552 0.448 1 1 1h7v19.5z\"></path>\n",
       "<path d=\"M23 26h-14c-0.552 0-1-0.448-1-1s0.448-1 1-1h14c0.552 0 1 0.448 1 1s-0.448 1-1 1z\"></path>\n",
       "<path d=\"M23 22h-14c-0.552 0-1-0.448-1-1s0.448-1 1-1h14c0.552 0 1 0.448 1 1s-0.448 1-1 1z\"></path>\n",
       "<path d=\"M23 18h-14c-0.552 0-1-0.448-1-1s0.448-1 1-1h14c0.552 0 1 0.448 1 1s-0.448 1-1 1z\"></path>\n",
       "</symbol>\n",
       "</defs>\n",
       "</svg>\n",
       "<style>/* CSS stylesheet for displaying xarray objects in jupyterlab.\n",
       " *\n",
       " */\n",
       "\n",
       ":root {\n",
       "  --xr-font-color0: var(--jp-content-font-color0, rgba(0, 0, 0, 1));\n",
       "  --xr-font-color2: var(--jp-content-font-color2, rgba(0, 0, 0, 0.54));\n",
       "  --xr-font-color3: var(--jp-content-font-color3, rgba(0, 0, 0, 0.38));\n",
       "  --xr-border-color: var(--jp-border-color2, #e0e0e0);\n",
       "  --xr-disabled-color: var(--jp-layout-color3, #bdbdbd);\n",
       "  --xr-background-color: var(--jp-layout-color0, white);\n",
       "  --xr-background-color-row-even: var(--jp-layout-color1, white);\n",
       "  --xr-background-color-row-odd: var(--jp-layout-color2, #eeeeee);\n",
       "}\n",
       "\n",
       "html[theme=dark],\n",
       "body[data-theme=dark],\n",
       "body.vscode-dark {\n",
       "  --xr-font-color0: rgba(255, 255, 255, 1);\n",
       "  --xr-font-color2: rgba(255, 255, 255, 0.54);\n",
       "  --xr-font-color3: rgba(255, 255, 255, 0.38);\n",
       "  --xr-border-color: #1F1F1F;\n",
       "  --xr-disabled-color: #515151;\n",
       "  --xr-background-color: #111111;\n",
       "  --xr-background-color-row-even: #111111;\n",
       "  --xr-background-color-row-odd: #313131;\n",
       "}\n",
       "\n",
       ".xr-wrap {\n",
       "  display: block !important;\n",
       "  min-width: 300px;\n",
       "  max-width: 700px;\n",
       "}\n",
       "\n",
       ".xr-text-repr-fallback {\n",
       "  /* fallback to plain text repr when CSS is not injected (untrusted notebook) */\n",
       "  display: none;\n",
       "}\n",
       "\n",
       ".xr-header {\n",
       "  padding-top: 6px;\n",
       "  padding-bottom: 6px;\n",
       "  margin-bottom: 4px;\n",
       "  border-bottom: solid 1px var(--xr-border-color);\n",
       "}\n",
       "\n",
       ".xr-header > div,\n",
       ".xr-header > ul {\n",
       "  display: inline;\n",
       "  margin-top: 0;\n",
       "  margin-bottom: 0;\n",
       "}\n",
       "\n",
       ".xr-obj-type,\n",
       ".xr-array-name {\n",
       "  margin-left: 2px;\n",
       "  margin-right: 10px;\n",
       "}\n",
       "\n",
       ".xr-obj-type {\n",
       "  color: var(--xr-font-color2);\n",
       "}\n",
       "\n",
       ".xr-sections {\n",
       "  padding-left: 0 !important;\n",
       "  display: grid;\n",
       "  grid-template-columns: 150px auto auto 1fr 20px 20px;\n",
       "}\n",
       "\n",
       ".xr-section-item {\n",
       "  display: contents;\n",
       "}\n",
       "\n",
       ".xr-section-item input {\n",
       "  display: none;\n",
       "}\n",
       "\n",
       ".xr-section-item input + label {\n",
       "  color: var(--xr-disabled-color);\n",
       "}\n",
       "\n",
       ".xr-section-item input:enabled + label {\n",
       "  cursor: pointer;\n",
       "  color: var(--xr-font-color2);\n",
       "}\n",
       "\n",
       ".xr-section-item input:enabled + label:hover {\n",
       "  color: var(--xr-font-color0);\n",
       "}\n",
       "\n",
       ".xr-section-summary {\n",
       "  grid-column: 1;\n",
       "  color: var(--xr-font-color2);\n",
       "  font-weight: 500;\n",
       "}\n",
       "\n",
       ".xr-section-summary > span {\n",
       "  display: inline-block;\n",
       "  padding-left: 0.5em;\n",
       "}\n",
       "\n",
       ".xr-section-summary-in:disabled + label {\n",
       "  color: var(--xr-font-color2);\n",
       "}\n",
       "\n",
       ".xr-section-summary-in + label:before {\n",
       "  display: inline-block;\n",
       "  content: '►';\n",
       "  font-size: 11px;\n",
       "  width: 15px;\n",
       "  text-align: center;\n",
       "}\n",
       "\n",
       ".xr-section-summary-in:disabled + label:before {\n",
       "  color: var(--xr-disabled-color);\n",
       "}\n",
       "\n",
       ".xr-section-summary-in:checked + label:before {\n",
       "  content: '▼';\n",
       "}\n",
       "\n",
       ".xr-section-summary-in:checked + label > span {\n",
       "  display: none;\n",
       "}\n",
       "\n",
       ".xr-section-summary,\n",
       ".xr-section-inline-details {\n",
       "  padding-top: 4px;\n",
       "  padding-bottom: 4px;\n",
       "}\n",
       "\n",
       ".xr-section-inline-details {\n",
       "  grid-column: 2 / -1;\n",
       "}\n",
       "\n",
       ".xr-section-details {\n",
       "  display: none;\n",
       "  grid-column: 1 / -1;\n",
       "  margin-bottom: 5px;\n",
       "}\n",
       "\n",
       ".xr-section-summary-in:checked ~ .xr-section-details {\n",
       "  display: contents;\n",
       "}\n",
       "\n",
       ".xr-array-wrap {\n",
       "  grid-column: 1 / -1;\n",
       "  display: grid;\n",
       "  grid-template-columns: 20px auto;\n",
       "}\n",
       "\n",
       ".xr-array-wrap > label {\n",
       "  grid-column: 1;\n",
       "  vertical-align: top;\n",
       "}\n",
       "\n",
       ".xr-preview {\n",
       "  color: var(--xr-font-color3);\n",
       "}\n",
       "\n",
       ".xr-array-preview,\n",
       ".xr-array-data {\n",
       "  padding: 0 5px !important;\n",
       "  grid-column: 2;\n",
       "}\n",
       "\n",
       ".xr-array-data,\n",
       ".xr-array-in:checked ~ .xr-array-preview {\n",
       "  display: none;\n",
       "}\n",
       "\n",
       ".xr-array-in:checked ~ .xr-array-data,\n",
       ".xr-array-preview {\n",
       "  display: inline-block;\n",
       "}\n",
       "\n",
       ".xr-dim-list {\n",
       "  display: inline-block !important;\n",
       "  list-style: none;\n",
       "  padding: 0 !important;\n",
       "  margin: 0;\n",
       "}\n",
       "\n",
       ".xr-dim-list li {\n",
       "  display: inline-block;\n",
       "  padding: 0;\n",
       "  margin: 0;\n",
       "}\n",
       "\n",
       ".xr-dim-list:before {\n",
       "  content: '(';\n",
       "}\n",
       "\n",
       ".xr-dim-list:after {\n",
       "  content: ')';\n",
       "}\n",
       "\n",
       ".xr-dim-list li:not(:last-child):after {\n",
       "  content: ',';\n",
       "  padding-right: 5px;\n",
       "}\n",
       "\n",
       ".xr-has-index {\n",
       "  font-weight: bold;\n",
       "}\n",
       "\n",
       ".xr-var-list,\n",
       ".xr-var-item {\n",
       "  display: contents;\n",
       "}\n",
       "\n",
       ".xr-var-item > div,\n",
       ".xr-var-item label,\n",
       ".xr-var-item > .xr-var-name span {\n",
       "  background-color: var(--xr-background-color-row-even);\n",
       "  margin-bottom: 0;\n",
       "}\n",
       "\n",
       ".xr-var-item > .xr-var-name:hover span {\n",
       "  padding-right: 5px;\n",
       "}\n",
       "\n",
       ".xr-var-list > li:nth-child(odd) > div,\n",
       ".xr-var-list > li:nth-child(odd) > label,\n",
       ".xr-var-list > li:nth-child(odd) > .xr-var-name span {\n",
       "  background-color: var(--xr-background-color-row-odd);\n",
       "}\n",
       "\n",
       ".xr-var-name {\n",
       "  grid-column: 1;\n",
       "}\n",
       "\n",
       ".xr-var-dims {\n",
       "  grid-column: 2;\n",
       "}\n",
       "\n",
       ".xr-var-dtype {\n",
       "  grid-column: 3;\n",
       "  text-align: right;\n",
       "  color: var(--xr-font-color2);\n",
       "}\n",
       "\n",
       ".xr-var-preview {\n",
       "  grid-column: 4;\n",
       "}\n",
       "\n",
       ".xr-index-preview {\n",
       "  grid-column: 2 / 5;\n",
       "  color: var(--xr-font-color2);\n",
       "}\n",
       "\n",
       ".xr-var-name,\n",
       ".xr-var-dims,\n",
       ".xr-var-dtype,\n",
       ".xr-preview,\n",
       ".xr-attrs dt {\n",
       "  white-space: nowrap;\n",
       "  overflow: hidden;\n",
       "  text-overflow: ellipsis;\n",
       "  padding-right: 10px;\n",
       "}\n",
       "\n",
       ".xr-var-name:hover,\n",
       ".xr-var-dims:hover,\n",
       ".xr-var-dtype:hover,\n",
       ".xr-attrs dt:hover {\n",
       "  overflow: visible;\n",
       "  width: auto;\n",
       "  z-index: 1;\n",
       "}\n",
       "\n",
       ".xr-var-attrs,\n",
       ".xr-var-data,\n",
       ".xr-index-data {\n",
       "  display: none;\n",
       "  background-color: var(--xr-background-color) !important;\n",
       "  padding-bottom: 5px !important;\n",
       "}\n",
       "\n",
       ".xr-var-attrs-in:checked ~ .xr-var-attrs,\n",
       ".xr-var-data-in:checked ~ .xr-var-data,\n",
       ".xr-index-data-in:checked ~ .xr-index-data {\n",
       "  display: block;\n",
       "}\n",
       "\n",
       ".xr-var-data > table {\n",
       "  float: right;\n",
       "}\n",
       "\n",
       ".xr-var-name span,\n",
       ".xr-var-data,\n",
       ".xr-index-name div,\n",
       ".xr-index-data,\n",
       ".xr-attrs {\n",
       "  padding-left: 25px !important;\n",
       "}\n",
       "\n",
       ".xr-attrs,\n",
       ".xr-var-attrs,\n",
       ".xr-var-data,\n",
       ".xr-index-data {\n",
       "  grid-column: 1 / -1;\n",
       "}\n",
       "\n",
       "dl.xr-attrs {\n",
       "  padding: 0;\n",
       "  margin: 0;\n",
       "  display: grid;\n",
       "  grid-template-columns: 125px auto;\n",
       "}\n",
       "\n",
       ".xr-attrs dt,\n",
       ".xr-attrs dd {\n",
       "  padding: 0;\n",
       "  margin: 0;\n",
       "  float: left;\n",
       "  padding-right: 10px;\n",
       "  width: auto;\n",
       "}\n",
       "\n",
       ".xr-attrs dt {\n",
       "  font-weight: normal;\n",
       "  grid-column: 1;\n",
       "}\n",
       "\n",
       ".xr-attrs dt:hover span {\n",
       "  display: inline-block;\n",
       "  background: var(--xr-background-color);\n",
       "  padding-right: 10px;\n",
       "}\n",
       "\n",
       ".xr-attrs dd {\n",
       "  grid-column: 2;\n",
       "  white-space: pre-wrap;\n",
       "  word-break: break-all;\n",
       "}\n",
       "\n",
       ".xr-icon-database,\n",
       ".xr-icon-file-text2,\n",
       ".xr-no-icon {\n",
       "  display: inline-block;\n",
       "  vertical-align: middle;\n",
       "  width: 1em;\n",
       "  height: 1.5em !important;\n",
       "  stroke-width: 0;\n",
       "  stroke: currentColor;\n",
       "  fill: currentColor;\n",
       "}\n",
       "</style><pre class='xr-text-repr-fallback'>&lt;xarray.DataArray &#x27;array-85855ab6062d8c1037a4b549271045c6&#x27; (y: 15138, x: 1217)&gt;\n",
       "dask.array&lt;array, shape=(15138, 1217), dtype=float32, chunksize=(4096, 1217), chunktype=numpy.ndarray&gt;\n",
       "Coordinates:\n",
       "    crs      object +proj=longlat +ellps=WGS84 +type=crs\n",
       "Dimensions without coordinates: y, x\n",
       "Attributes: (12/17)\n",
       "    coordinates:          latitude longitude\n",
       "    long_name:            Relative humidity at 850 hPa\n",
       "    standard_name:        relative_humidity\n",
       "    units:                %\n",
       "    valid_max:            100.0\n",
       "    valid_min:            0.0\n",
       "    ...                   ...\n",
       "    start_time:           2024-06-25 08:33:13\n",
       "    end_time:             2024-06-25 09:17:37\n",
       "    reader:               olci_l1b\n",
       "    area:                 Shape: (15138, 1217)\\nLons: &lt;xarray.DataArray &#x27;long...\n",
       "    _satpy_id:            DataID(name=&#x27;humidity&#x27;, resolution=300, modifiers=())\n",
       "    ancillary_variables:  []</pre><div class='xr-wrap' style='display:none'><div class='xr-header'><div class='xr-obj-type'>xarray.DataArray</div><div class='xr-array-name'>'array-85855ab6062d8c1037a4b549271045c6'</div><ul class='xr-dim-list'><li><span>y</span>: 15138</li><li><span>x</span>: 1217</li></ul></div><ul class='xr-sections'><li class='xr-section-item'><div class='xr-array-wrap'><input id='section-3578c6f0-96b8-4639-a32c-bb5d825d7c72' class='xr-array-in' type='checkbox' checked><label for='section-3578c6f0-96b8-4639-a32c-bb5d825d7c72' title='Show/hide data repr'><svg class='icon xr-icon-database'><use xlink:href='#icon-database'></use></svg></label><div class='xr-array-preview xr-preview'><span>dask.array&lt;chunksize=(4096, 1217), meta=np.ndarray&gt;</span></div><div class='xr-array-data'><table>\n",
       "    <tr>\n",
       "        <td>\n",
       "            <table style=\"border-collapse: collapse;\">\n",
       "                <thead>\n",
       "                    <tr>\n",
       "                        <td> </td>\n",
       "                        <th> Array </th>\n",
       "                        <th> Chunk </th>\n",
       "                    </tr>\n",
       "                </thead>\n",
       "                <tbody>\n",
       "                    \n",
       "                    <tr>\n",
       "                        <th> Bytes </th>\n",
       "                        <td> 70.28 MiB </td>\n",
       "                        <td> 19.02 MiB </td>\n",
       "                    </tr>\n",
       "                    \n",
       "                    <tr>\n",
       "                        <th> Shape </th>\n",
       "                        <td> (15138, 1217) </td>\n",
       "                        <td> (4096, 1217) </td>\n",
       "                    </tr>\n",
       "                    <tr>\n",
       "                        <th> Dask graph </th>\n",
       "                        <td colspan=\"2\"> 4 chunks in 1 graph layer </td>\n",
       "                    </tr>\n",
       "                    <tr>\n",
       "                        <th> Data type </th>\n",
       "                        <td colspan=\"2\"> float32 numpy.ndarray </td>\n",
       "                    </tr>\n",
       "                </tbody>\n",
       "            </table>\n",
       "        </td>\n",
       "        <td>\n",
       "        <svg width=\"87\" height=\"170\" style=\"stroke:rgb(0,0,0);stroke-width:1\" >\n",
       "\n",
       "  <!-- Horizontal lines -->\n",
       "  <line x1=\"0\" y1=\"0\" x2=\"37\" y2=\"0\" style=\"stroke-width:2\" />\n",
       "  <line x1=\"0\" y1=\"32\" x2=\"37\" y2=\"32\" />\n",
       "  <line x1=\"0\" y1=\"64\" x2=\"37\" y2=\"64\" />\n",
       "  <line x1=\"0\" y1=\"97\" x2=\"37\" y2=\"97\" />\n",
       "  <line x1=\"0\" y1=\"120\" x2=\"37\" y2=\"120\" style=\"stroke-width:2\" />\n",
       "\n",
       "  <!-- Vertical lines -->\n",
       "  <line x1=\"0\" y1=\"0\" x2=\"0\" y2=\"120\" style=\"stroke-width:2\" />\n",
       "  <line x1=\"37\" y1=\"0\" x2=\"37\" y2=\"120\" style=\"stroke-width:2\" />\n",
       "\n",
       "  <!-- Colored Rectangle -->\n",
       "  <polygon points=\"0.0,0.0 37.355175172681655,0.0 37.355175172681655,120.0 0.0,120.0\" style=\"fill:#ECB172A0;stroke-width:0\"/>\n",
       "\n",
       "  <!-- Text -->\n",
       "  <text x=\"18.677588\" y=\"140.000000\" font-size=\"1.0rem\" font-weight=\"100\" text-anchor=\"middle\" >1217</text>\n",
       "  <text x=\"57.355175\" y=\"60.000000\" font-size=\"1.0rem\" font-weight=\"100\" text-anchor=\"middle\" transform=\"rotate(-90,57.355175,60.000000)\">15138</text>\n",
       "</svg>\n",
       "        </td>\n",
       "    </tr>\n",
       "</table></div></div></li><li class='xr-section-item'><input id='section-2803b0ef-b582-4f44-8c67-a0e3b350e5db' class='xr-section-summary-in' type='checkbox'  checked><label for='section-2803b0ef-b582-4f44-8c67-a0e3b350e5db' class='xr-section-summary' >Coordinates: <span>(1)</span></label><div class='xr-section-inline-details'></div><div class='xr-section-details'><ul class='xr-var-list'><li class='xr-var-item'><div class='xr-var-name'><span>crs</span></div><div class='xr-var-dims'>()</div><div class='xr-var-dtype'>object</div><div class='xr-var-preview xr-preview'>+proj=longlat +ellps=WGS84 +type...</div><input id='attrs-d1e4f835-8a19-44b5-867d-3321a2def412' class='xr-var-attrs-in' type='checkbox' disabled><label for='attrs-d1e4f835-8a19-44b5-867d-3321a2def412' title='Show/Hide attributes'><svg class='icon xr-icon-file-text2'><use xlink:href='#icon-file-text2'></use></svg></label><input id='data-ed89151b-80d8-40d0-8858-fa133926a785' class='xr-var-data-in' type='checkbox'><label for='data-ed89151b-80d8-40d0-8858-fa133926a785' title='Show/Hide data repr'><svg class='icon xr-icon-database'><use xlink:href='#icon-database'></use></svg></label><div class='xr-var-attrs'><dl class='xr-attrs'></dl></div><div class='xr-var-data'><pre>array(&lt;Geographic 2D CRS: +proj=longlat +ellps=WGS84 +type=crs&gt;\n",
       "Name: unknown\n",
       "Axis Info [ellipsoidal]:\n",
       "- lon[east]: Longitude (degree)\n",
       "- lat[north]: Latitude (degree)\n",
       "Area of Use:\n",
       "- undefined\n",
       "Datum: Unknown based on WGS 84 ellipsoid\n",
       "- Ellipsoid: WGS 84\n",
       "- Prime Meridian: Greenwich\n",
       ", dtype=object)</pre></div></li></ul></div></li><li class='xr-section-item'><input id='section-e3236f3d-c6ae-4b49-8e38-cfe38f5af5b5' class='xr-section-summary-in' type='checkbox' disabled ><label for='section-e3236f3d-c6ae-4b49-8e38-cfe38f5af5b5' class='xr-section-summary'  title='Expand/collapse section'>Indexes: <span>(0)</span></label><div class='xr-section-inline-details'></div><div class='xr-section-details'><ul class='xr-var-list'></ul></div></li><li class='xr-section-item'><input id='section-9663ec4e-0757-4cfc-b0d7-955edc02cb02' class='xr-section-summary-in' type='checkbox'  ><label for='section-9663ec4e-0757-4cfc-b0d7-955edc02cb02' class='xr-section-summary' >Attributes: <span>(17)</span></label><div class='xr-section-inline-details'></div><div class='xr-section-details'><dl class='xr-attrs'><dt><span>coordinates :</span></dt><dd>latitude longitude</dd><dt><span>long_name :</span></dt><dd>Relative humidity at 850 hPa</dd><dt><span>standard_name :</span></dt><dd>relative_humidity</dd><dt><span>units :</span></dt><dd>%</dd><dt><span>valid_max :</span></dt><dd>100.0</dd><dt><span>valid_min :</span></dt><dd>0.0</dd><dt><span>platform_name :</span></dt><dd>Sentinel-3B</dd><dt><span>sensor :</span></dt><dd>olci</dd><dt><span>name :</span></dt><dd>humidity</dd><dt><span>resolution :</span></dt><dd>300</dd><dt><span>modifiers :</span></dt><dd>()</dd><dt><span>start_time :</span></dt><dd>2024-06-25 08:33:13</dd><dt><span>end_time :</span></dt><dd>2024-06-25 09:17:37</dd><dt><span>reader :</span></dt><dd>olci_l1b</dd><dt><span>area :</span></dt><dd>Shape: (15138, 1217)\n",
       "Lons: &lt;xarray.DataArray &#x27;longitude&#x27; (y: 15138, x: 1217)&gt;\n",
       "dask.array&lt;open_dataset-longitude, shape=(15138, 1217), dtype=float64, chunksize=(4096, 1217), chunktype=numpy.ndarray&gt;\n",
       "Dimensions without coordinates: y, x\n",
       "Attributes: (12/13)\n",
       "    long_name:            DEM corrected longitude\n",
       "    standard_name:        longitude\n",
       "    units:                degrees_east\n",
       "    valid_max:            180000000\n",
       "    valid_min:            -180000000\n",
       "    start_time:           2024-06-25 08:33:13\n",
       "    ...                   ...\n",
       "    reader:               olci_l1b\n",
       "    name:                 longitude\n",
       "    resolution:           300\n",
       "    modifiers:            ()\n",
       "    _satpy_id:            DataID(name=&#x27;longitude&#x27;, resolution=300, modifiers=())\n",
       "    ancillary_variables:  []\n",
       "Lats: &lt;xarray.DataArray &#x27;latitude&#x27; (y: 15138, x: 1217)&gt;\n",
       "dask.array&lt;open_dataset-latitude, shape=(15138, 1217), dtype=float64, chunksize=(4096, 1217), chunktype=numpy.ndarray&gt;\n",
       "Dimensions without coordinates: y, x\n",
       "Attributes: (12/13)\n",
       "    long_name:            DEM corrected latitude\n",
       "    standard_name:        latitude\n",
       "    units:                degrees_north\n",
       "    valid_max:            90000000\n",
       "    valid_min:            -90000000\n",
       "    start_time:           2024-06-25 08:33:13\n",
       "    ...                   ...\n",
       "    reader:               olci_l1b\n",
       "    name:                 latitude\n",
       "    resolution:           300\n",
       "    modifiers:            ()\n",
       "    _satpy_id:            DataID(name=&#x27;latitude&#x27;, resolution=300, modifiers=())\n",
       "    ancillary_variables:  []</dd><dt><span>_satpy_id :</span></dt><dd>DataID(name=&#x27;humidity&#x27;, resolution=300, modifiers=())</dd><dt><span>ancillary_variables :</span></dt><dd>[]</dd></dl></div></li></ul></div></div>"
      ],
      "text/plain": [
       "<xarray.DataArray 'array-85855ab6062d8c1037a4b549271045c6' (y: 15138, x: 1217)>\n",
       "dask.array<array, shape=(15138, 1217), dtype=float32, chunksize=(4096, 1217), chunktype=numpy.ndarray>\n",
       "Coordinates:\n",
       "    crs      object +proj=longlat +ellps=WGS84 +type=crs\n",
       "Dimensions without coordinates: y, x\n",
       "Attributes: (12/17)\n",
       "    coordinates:          latitude longitude\n",
       "    long_name:            Relative humidity at 850 hPa\n",
       "    standard_name:        relative_humidity\n",
       "    units:                %\n",
       "    valid_max:            100.0\n",
       "    valid_min:            0.0\n",
       "    ...                   ...\n",
       "    start_time:           2024-06-25 08:33:13\n",
       "    end_time:             2024-06-25 09:17:37\n",
       "    reader:               olci_l1b\n",
       "    area:                 Shape: (15138, 1217)\\nLons: <xarray.DataArray 'long...\n",
       "    _satpy_id:            DataID(name='humidity', resolution=300, modifiers=())\n",
       "    ancillary_variables:  []"
      ]
     },
     "execution_count": 14,
     "metadata": {},
     "output_type": "execute_result"
    }
   ],
   "source": [
    "# load bands \n",
    "scn.load(['humidity','total_ozone'])\n",
    "scn['humidity']"
   ]
  },
  {
   "cell_type": "markdown",
   "id": "019089cd-16b6-4054-bbde-d48e1b2c42e6",
   "metadata": {},
   "source": [
    "### Visualize data\n",
    "\n",
    "We can visualize the available datasets on a map."
   ]
  },
  {
   "cell_type": "code",
   "execution_count": 15,
   "id": "2e7ff0c4-c40c-41b9-b834-538cc5589d4d",
   "metadata": {
    "tags": []
   },
   "outputs": [],
   "source": [
    "import matplotlib.pyplot as plt\n",
    "from pyresample.kd_tree import resample_nearest\n",
    "from pyresample.geometry import AreaDefinition\n"
   ]
  },
  {
   "cell_type": "code",
   "execution_count": 16,
   "id": "77982723-0fdc-4338-b689-c95562dcff13",
   "metadata": {
    "tags": []
   },
   "outputs": [
    {
     "data": {
      "image/png": "[encoded data removed]",
      "text/plain": [
       "<Figure size 1500x1500 with 2 Axes>"
      ]
     },
     "metadata": {},
     "output_type": "display_data"
    }
   ],
   "source": [
    "#area definition\n",
    "area_id = 'worldeqc30km'\n",
    "description = 'World in 3km, platecarree'\n",
    "proj_id = 'eqc'\n",
    "projection = {'proj': 'eqc', 'ellps': 'WGS84'}\n",
    "width = 820\n",
    "height = 410\n",
    "area_extent = (-20037508.3428, -10018754.1714, 20037508.3428, 10018754.1714)\n",
    "area_def = AreaDefinition(area_id, description, proj_id, projection,\n",
    "                          width, height, area_extent)\n",
    "\n",
    "#scene \n",
    "lons, lats = scn[\"total_ozone\"].area.get_lonlats()\n",
    "swath_def = pyresample.geometry.SwathDefinition(lons, lats)\n",
    "total_ozone = scn[\"total_ozone\"].data.compute()\n",
    "result = resample_nearest(swath_def, total_ozone, area_def, radius_of_influence=20000, fill_value=None)\n",
    "\n",
    "#cartopy\n",
    "plt.rcParams['figure.figsize'] = [15, 15]\n",
    "crs = area_def.to_cartopy_crs()\n",
    "fig, ax = plt.subplots(subplot_kw=dict(projection=crs))\n",
    "coastlines = ax.coastlines()  \n",
    "ax.set_global()\n",
    "\n",
    "#plot\n",
    "img = plt.imshow(result, transform=crs, extent=crs.bounds, origin='upper')\n",
    "# Calculate (height_of_image / width_of_image)\n",
    "im_ratio = result.shape[0]/result.shape[1]\n",
    " \n",
    "# Plot vertical colorbar\n",
    "plt.colorbar(fraction=0.047*im_ratio)\n",
    "plt.show()"
   ]
  }
 ],
 "metadata": {
  "kernelspec": {
   "display_name": "Python DEDL",
   "language": "python",
   "name": "python_dedl"
  },
  "language_info": {
   "codemirror_mode": {
    "name": "ipython",
    "version": 3
   },
   "file_extension": ".py",
   "mimetype": "text/x-python",
   "name": "python",
   "nbconvert_exporter": "python",
   "pygments_lexer": "ipython3",
   "version": "3.11.4"
  }
 },
 "nbformat": 4,
 "nbformat_minor": 5
}
