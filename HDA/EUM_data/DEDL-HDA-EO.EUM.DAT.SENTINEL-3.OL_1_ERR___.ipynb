{
 "cells": [
  {
   "cell_type": "markdown",
   "id": "10726360-3b8c-463b-856e-4a8460092c16",
   "metadata": {
    "tags": []
   },
   "source": [
    "![](https://github.com/destination-earth/DestinE-DataLake-Lab/blob/main/img/DestinE-banner.jpg?raw=true)"
   ]
  },
  {
   "cell_type": "markdown",
   "id": "40cd641a-f73f-4c05-9580-258f65f1213d",
   "metadata": {},
   "source": [
    "**Copyright:** 2025 EUMETSAT <br>\n",
    "**License:** MIT <br>\n",
    "**Authors:** Serena Avolio (EUMETSAT/Starion)"
   ]
  },
  {
   "cell_type": "markdown",
   "id": "771a962d-620b-4eee-bed1-3770e0cb3f1b",
   "metadata": {},
   "source": [
    "<div class=\"alert alert-block alert-success\">\n",
    "<h3>Destination Earth - OLCI Level 1B Reduced Resolution - Sentinel-3 - Data Access using DEDL HDA</h3></div>"
   ]
  },
  {
   "cell_type": "markdown",
   "id": "9c2a179e-ea85-42f0-907e-b09ddf04ffcc",
   "metadata": {
    "tags": []
   },
   "source": [
    "<div class=\"alert alert-block alert-warning\">\n",
    "<b> Prerequisites: </b>\n",
    "   <li>To search and access DEDL data a <a href=\"https://platform.destine.eu/\"> DestinE user account</a> is needed</li>\n",
    "<b> References: </b>\n",
    "    <li><a href=\"https://destine-data-lake-docs.data.destination-earth.eu/en/latest/dedl-discovery-and-data-access/Use-of-Harmonized-Data-Access/Use-of-Harmonized-Data-Access.html\">DestinE Data Lake (DEDL) Harmonized Data Access (HDA) documentation</a> </li>\n",
    "    <li> <a href=\"https://navigator.eumetsat.int/product/EO:EUM:DAT:SENTINEL-3:OL_1_ERR___NRT\">OLCI Level 1B Reduced Resolution - Sentinel-3</a></li>\n",
    "<b> Credit: </b><br>\n",
    "    This notebook uses <a href=\"https://github.com/pytroll/satpy\">Satpy</a> <br>\n",
    "    © 2014–2025 <a href=\"https://pytroll.github.io/\">PyTroll community</a> <br>  \n",
    "    Licensed under <a href=\"https://www.gnu.org/licenses/gpl-3.0.en.html\">PyGNU GPL v3</a>\n",
    "</div>"
   ]
  },
  {
   "cell_type": "markdown",
   "id": "edea2a21-33d9-475a-a685-aefb0eefd78d",
   "metadata": {},
   "source": [
    "This notebook demonstrates how to search and access Sentinel-3 data using HDA and how to read and visualize it using satpy\n",
    "\n",
    "Throughout this notebook, you will learn:\n",
    "\n",
    "1. [Authenticate](DEDL-HDA-EO.EUM.DAT.SENTINEL-3.OL_1_ERR___.ipynb#Authenticate): How to authenticate for searching and access *DEDL* collections. \n",
    "2. [Search OLCI data](DEDL-HDA-EO.EUM.DAT.SENTINEL-3.OL_1_ERR___.ipynb#Search):  How to search *DEDL* data using datetime and bbox filters.\n",
    "3. [Download OLCI data](DEDL-HDA-EO.EUM.DAT.SENTINEL-3.OL_1_ERR___.ipynb#Download): How to download *DEDL* data through HDA.\n",
    "4. [Read and visualize OLCI data](DEDL-HDA-EO.EUM.DAT.SENTINEL-3.OL_1_ERR___.ipynb#Satpy): How to load process and visualize OlCI data using Satpy.\n"
   ]
  },
  {
   "cell_type": "markdown",
   "id": "fd7ec70f-1291-426e-b071-0bcd6e775d81",
   "metadata": {
    "tags": []
   },
   "source": [
    "# Authenticate\n",
    "\n",
    "We start off by importing the relevant modules for DestnE authentication, HTTP requests, json handling. \n",
    "Then we authenticate in DestinE."
   ]
  },
  {
   "cell_type": "code",
   "execution_count": 5,
   "id": "bd98743f-d681-48db-88e9-73fe3527965c",
   "metadata": {
    "tags": []
   },
   "outputs": [],
   "source": [
    "import destinelab as deauth"
   ]
  },
  {
   "cell_type": "code",
   "execution_count": 6,
   "id": "9d3461e4-fe60-4181-8335-bc2f5899df9a",
   "metadata": {
    "tags": []
   },
   "outputs": [],
   "source": [
    "import requests\n",
    "import json\n",
    "import os\n",
    "from getpass import getpass"
   ]
  },
  {
   "cell_type": "code",
   "execution_count": 7,
   "id": "b4faa6b4-2a1f-4daa-bb45-4e26bebe1e88",
   "metadata": {
    "tags": []
   },
   "outputs": [
    {
     "name": "stdin",
     "output_type": "stream",
     "text": [
      "Please input your DESP username or email:  eum-dedl-user\n",
      "Please input your DESP password:  ········\n"
     ]
    },
    {
     "name": "stdout",
     "output_type": "stream",
     "text": [
      "Response code: 200\n",
      "DEDL/DESP Access Token Obtained Successfully\n"
     ]
    }
   ],
   "source": [
    "DESP_USERNAME = input(\"Please input your DESP username or email: \")\n",
    "DESP_PASSWORD = getpass(\"Please input your DESP password: \")\n",
    "\n",
    "auth = deauth.AuthHandler(DESP_USERNAME, DESP_PASSWORD)\n",
    "access_token = auth.get_token()\n",
    "if access_token is not None:\n",
    "    print(\"DEDL/DESP Access Token Obtained Successfully\")\n",
    "else:\n",
    "    print(\"Failed to Obtain DEDL/DESP Access Token\")\n",
    "\n",
    "auth_headers = {\"Authorization\": f\"Bearer {access_token}\"}"
   ]
  },
  {
   "cell_type": "markdown",
   "id": "6598deb9-7371-4ab6-adda-ab3b1d114a72",
   "metadata": {},
   "source": [
    "# Search"
   ]
  },
  {
   "cell_type": "markdown",
   "id": "db751cdf-d5ae-41a6-a8c5-05898dbdda90",
   "metadata": {},
   "source": [
    "Once authenticated, we search a product matching our filters.\n",
    "\n",
    "For this example, we search data for the [OLCI Level 1B Reduced Resolution - Sentinel-3](https://hda.data.destination-earth.eu/ui/dataset/EO.EUM.DAT.SENTINEL-3.OL_1_ERR___) dataset. \n",
    "\n",
    "The corresponding collection ID in HDA for this dataset is: EO.EUM.DAT.SENTINEL-3.OL_1_ERR___."
   ]
  },
  {
   "cell_type": "markdown",
   "id": "842d142b-4743-43fd-8fba-ba289f32a7b6",
   "metadata": {
    "tags": []
   },
   "source": [
    "## HDA endpoint\n",
    "HDA API is based on the Spatio Temporal Asset Catalog specification (STAC), it is convenient define a costant with its endpoint."
   ]
  },
  {
   "cell_type": "code",
   "execution_count": 9,
   "id": "99f76e41-a225-41d0-a647-404072251599",
   "metadata": {
    "tags": []
   },
   "outputs": [],
   "source": [
    "HDA_STAC_ENDPOINT=\"https://hda.data.destination-earth.eu/stac/v2\""
   ]
  },
  {
   "cell_type": "code",
   "execution_count": 10,
   "id": "47a4256d-4c37-46a0-bffe-1cf2400396fa",
   "metadata": {
    "tags": []
   },
   "outputs": [],
   "source": [
    "COLLECTION_ID = \"EO.EUM.DAT.SENTINEL-3.OL_1_ERR___\""
   ]
  },
  {
   "cell_type": "code",
   "execution_count": 11,
   "id": "ad834b6a-96a8-475a-8415-36c018b8fc06",
   "metadata": {
    "tags": []
   },
   "outputs": [],
   "source": [
    "response = requests.post(HDA_STAC_ENDPOINT+\"/search\", headers=auth_headers, json={\n",
    "    \"collections\": [COLLECTION_ID],\n",
    "    \"datetime\": \"2024-06-25T00:00:00Z/2024-06-30T00:00:00Z\",\n",
    "    \"bbox\":  [10,53,30,66]\n",
    "})\n",
    "if(response.status_code!= 200):\n",
    "    (print(response.text))\n",
    "response.raise_for_status()"
   ]
  },
  {
   "cell_type": "markdown",
   "id": "877a5667-7497-469b-ab0f-c6041cf084e3",
   "metadata": {},
   "source": [
    "We can have a look at the metadata of the first products returned by the search."
   ]
  },
  {
   "cell_type": "code",
   "execution_count": 12,
   "id": "cc7e1280-fa15-4f66-8a57-7016cf829261",
   "metadata": {
    "tags": []
   },
   "outputs": [
    {
     "data": {
      "application/json": {
       "assets": {
        "Oa01_radiance.nc": {
         "alternate": {
          "origin": {
           "href": "s3://eodata/Sentinel-3/OLCI/OL_1_ERR___/2024/06/25/S3B_OL_1_ERR____20240625T083313_20240625T091737_20240921T223114_2664_094_278______MAR_R_NT_004.SEN3/Oa01_radiance.nc",
           "roles": [
            "data"
           ],
           "title": "Oa01_radiance.nc",
           "type": "application/x-netcdf"
          }
         },
         "href": "https://hda-download.lumi.data.destination-earth.eu/data/external_fdp/EO.EUM.DAT.SENTINEL-3.OL_1_ERR___/S3B_OL_1_ERR____20240625T083313_20240625T091737_20240921T223114_2664_094_278______MAR_R_NT_004/Oa01_radiance.nc",
         "roles": [
          "data"
         ],
         "title": "Oa01_radiance.nc",
         "type": "application/x-netcdf"
        },
        "Oa01_radiance_unc.nc": {
         "alternate": {
          "origin": {
           "href": "s3://eodata/Sentinel-3/OLCI/OL_1_ERR___/2024/06/25/S3B_OL_1_ERR____20240625T083313_20240625T091737_20240921T223114_2664_094_278______MAR_R_NT_004.SEN3/Oa01_radiance_unc.nc",
           "roles": [
            "data"
           ],
           "title": "Oa01_radiance_unc.nc",
           "type": "application/x-netcdf"
          }
         },
         "href": "https://hda-download.lumi.data.destination-earth.eu/data/external_fdp/EO.EUM.DAT.SENTINEL-3.OL_1_ERR___/S3B_OL_1_ERR____20240625T083313_20240625T091737_20240921T223114_2664_094_278______MAR_R_NT_004/Oa01_radiance_unc.nc",
         "roles": [
          "data"
         ],
         "title": "Oa01_radiance_unc.nc",
         "type": "application/x-netcdf"
        },
        "Oa02_radiance.nc": {
         "alternate": {
          "origin": {
           "href": "s3://eodata/Sentinel-3/OLCI/OL_1_ERR___/2024/06/25/S3B_OL_1_ERR____20240625T083313_20240625T091737_20240921T223114_2664_094_278______MAR_R_NT_004.SEN3/Oa02_radiance.nc",
           "roles": [
            "data"
           ],
           "title": "Oa02_radiance.nc",
           "type": "application/x-netcdf"
          }
         },
         "href": "https://hda-download.lumi.data.destination-earth.eu/data/external_fdp/EO.EUM.DAT.SENTINEL-3.OL_1_ERR___/S3B_OL_1_ERR____20240625T083313_20240625T091737_20240921T223114_2664_094_278______MAR_R_NT_004/Oa02_radiance.nc",
         "roles": [
          "data"
         ],
         "title": "Oa02_radiance.nc",
         "type": "application/x-netcdf"
        },
        "Oa02_radiance_unc.nc": {
         "alternate": {
          "origin": {
           "href": "s3://eodata/Sentinel-3/OLCI/OL_1_ERR___/2024/06/25/S3B_OL_1_ERR____20240625T083313_20240625T091737_20240921T223114_2664_094_278______MAR_R_NT_004.SEN3/Oa02_radiance_unc.nc",
           "roles": [
            "data"
           ],
           "title": "Oa02_radiance_unc.nc",
           "type": "application/x-netcdf"
          }
         },
         "href": "https://hda-download.lumi.data.destination-earth.eu/data/external_fdp/EO.EUM.DAT.SENTINEL-3.OL_1_ERR___/S3B_OL_1_ERR____20240625T083313_20240625T091737_20240921T223114_2664_094_278______MAR_R_NT_004/Oa02_radiance_unc.nc",
         "roles": [
          "data"
         ],
         "title": "Oa02_radiance_unc.nc",
         "type": "application/x-netcdf"
        },
        "Oa03_radiance.nc": {
         "alternate": {
          "origin": {
           "href": "s3://eodata/Sentinel-3/OLCI/OL_1_ERR___/2024/06/25/S3B_OL_1_ERR____20240625T083313_20240625T091737_20240921T223114_2664_094_278______MAR_R_NT_004.SEN3/Oa03_radiance.nc",
           "roles": [
            "data"
           ],
           "title": "Oa03_radiance.nc",
           "type": "application/x-netcdf"
          }
         },
         "href": "https://hda-download.lumi.data.destination-earth.eu/data/external_fdp/EO.EUM.DAT.SENTINEL-3.OL_1_ERR___/S3B_OL_1_ERR____20240625T083313_20240625T091737_20240921T223114_2664_094_278______MAR_R_NT_004/Oa03_radiance.nc",
         "roles": [
          "data"
         ],
         "title": "Oa03_radiance.nc",
         "type": "application/x-netcdf"
        },
        "Oa03_radiance_unc.nc": {
         "alternate": {
          "origin": {
           "href": "s3://eodata/Sentinel-3/OLCI/OL_1_ERR___/2024/06/25/S3B_OL_1_ERR____20240625T083313_20240625T091737_20240921T223114_2664_094_278______MAR_R_NT_004.SEN3/Oa03_radiance_unc.nc",
           "roles": [
            "data"
           ],
           "title": "Oa03_radiance_unc.nc",
           "type": "application/x-netcdf"
          }
         },
         "href": "https://hda-download.lumi.data.destination-earth.eu/data/external_fdp/EO.EUM.DAT.SENTINEL-3.OL_1_ERR___/S3B_OL_1_ERR____20240625T083313_20240625T091737_20240921T223114_2664_094_278______MAR_R_NT_004/Oa03_radiance_unc.nc",
         "roles": [
          "data"
         ],
         "title": "Oa03_radiance_unc.nc",
         "type": "application/x-netcdf"
        },
        "Oa04_radiance.nc": {
         "alternate": {
          "origin": {
           "href": "s3://eodata/Sentinel-3/OLCI/OL_1_ERR___/2024/06/25/S3B_OL_1_ERR____20240625T083313_20240625T091737_20240921T223114_2664_094_278______MAR_R_NT_004.SEN3/Oa04_radiance.nc",
           "roles": [
            "data"
           ],
           "title": "Oa04_radiance.nc",
           "type": "application/x-netcdf"
          }
         },
         "href": "https://hda-download.lumi.data.destination-earth.eu/data/external_fdp/EO.EUM.DAT.SENTINEL-3.OL_1_ERR___/S3B_OL_1_ERR____20240625T083313_20240625T091737_20240921T223114_2664_094_278______MAR_R_NT_004/Oa04_radiance.nc",
         "roles": [
          "data"
         ],
         "title": "Oa04_radiance.nc",
         "type": "application/x-netcdf"
        },
        "Oa04_radiance_unc.nc": {
         "alternate": {
          "origin": {
           "href": "s3://eodata/Sentinel-3/OLCI/OL_1_ERR___/2024/06/25/S3B_OL_1_ERR____20240625T083313_20240625T091737_20240921T223114_2664_094_278______MAR_R_NT_004.SEN3/Oa04_radiance_unc.nc",
           "roles": [
            "data"
           ],
           "title": "Oa04_radiance_unc.nc",
           "type": "application/x-netcdf"
          }
         },
         "href": "https://hda-download.lumi.data.destination-earth.eu/data/external_fdp/EO.EUM.DAT.SENTINEL-3.OL_1_ERR___/S3B_OL_1_ERR____20240625T083313_20240625T091737_20240921T223114_2664_094_278______MAR_R_NT_004/Oa04_radiance_unc.nc",
         "roles": [
          "data"
         ],
         "title": "Oa04_radiance_unc.nc",
         "type": "application/x-netcdf"
        },
        "Oa05_radiance.nc": {
         "alternate": {
          "origin": {
           "href": "s3://eodata/Sentinel-3/OLCI/OL_1_ERR___/2024/06/25/S3B_OL_1_ERR____20240625T083313_20240625T091737_20240921T223114_2664_094_278______MAR_R_NT_004.SEN3/Oa05_radiance.nc",
           "roles": [
            "data"
           ],
           "title": "Oa05_radiance.nc",
           "type": "application/x-netcdf"
          }
         },
         "href": "https://hda-download.lumi.data.destination-earth.eu/data/external_fdp/EO.EUM.DAT.SENTINEL-3.OL_1_ERR___/S3B_OL_1_ERR____20240625T083313_20240625T091737_20240921T223114_2664_094_278______MAR_R_NT_004/Oa05_radiance.nc",
         "roles": [
          "data"
         ],
         "title": "Oa05_radiance.nc",
         "type": "application/x-netcdf"
        },
        "Oa05_radiance_unc.nc": {
         "alternate": {
          "origin": {
           "href": "s3://eodata/Sentinel-3/OLCI/OL_1_ERR___/2024/06/25/S3B_OL_1_ERR____20240625T083313_20240625T091737_20240921T223114_2664_094_278______MAR_R_NT_004.SEN3/Oa05_radiance_unc.nc",
           "roles": [
            "data"
           ],
           "title": "Oa05_radiance_unc.nc",
           "type": "application/x-netcdf"
          }
         },
         "href": "https://hda-download.lumi.data.destination-earth.eu/data/external_fdp/EO.EUM.DAT.SENTINEL-3.OL_1_ERR___/S3B_OL_1_ERR____20240625T083313_20240625T091737_20240921T223114_2664_094_278______MAR_R_NT_004/Oa05_radiance_unc.nc",
         "roles": [
          "data"
         ],
         "title": "Oa05_radiance_unc.nc",
         "type": "application/x-netcdf"
        },
        "Oa06_radiance.nc": {
         "alternate": {
          "origin": {
           "href": "s3://eodata/Sentinel-3/OLCI/OL_1_ERR___/2024/06/25/S3B_OL_1_ERR____20240625T083313_20240625T091737_20240921T223114_2664_094_278______MAR_R_NT_004.SEN3/Oa06_radiance.nc",
           "roles": [
            "data"
           ],
           "title": "Oa06_radiance.nc",
           "type": "application/x-netcdf"
          }
         },
         "href": "https://hda-download.lumi.data.destination-earth.eu/data/external_fdp/EO.EUM.DAT.SENTINEL-3.OL_1_ERR___/S3B_OL_1_ERR____20240625T083313_20240625T091737_20240921T223114_2664_094_278______MAR_R_NT_004/Oa06_radiance.nc",
         "roles": [
          "data"
         ],
         "title": "Oa06_radiance.nc",
         "type": "application/x-netcdf"
        },
        "Oa06_radiance_unc.nc": {
         "alternate": {
          "origin": {
           "href": "s3://eodata/Sentinel-3/OLCI/OL_1_ERR___/2024/06/25/S3B_OL_1_ERR____20240625T083313_20240625T091737_20240921T223114_2664_094_278______MAR_R_NT_004.SEN3/Oa06_radiance_unc.nc",
           "roles": [
            "data"
           ],
           "title": "Oa06_radiance_unc.nc",
           "type": "application/x-netcdf"
          }
         },
         "href": "https://hda-download.lumi.data.destination-earth.eu/data/external_fdp/EO.EUM.DAT.SENTINEL-3.OL_1_ERR___/S3B_OL_1_ERR____20240625T083313_20240625T091737_20240921T223114_2664_094_278______MAR_R_NT_004/Oa06_radiance_unc.nc",
         "roles": [
          "data"
         ],
         "title": "Oa06_radiance_unc.nc",
         "type": "application/x-netcdf"
        },
        "Oa07_radiance.nc": {
         "alternate": {
          "origin": {
           "href": "s3://eodata/Sentinel-3/OLCI/OL_1_ERR___/2024/06/25/S3B_OL_1_ERR____20240625T083313_20240625T091737_20240921T223114_2664_094_278______MAR_R_NT_004.SEN3/Oa07_radiance.nc",
           "roles": [
            "data"
           ],
           "title": "Oa07_radiance.nc",
           "type": "application/x-netcdf"
          }
         },
         "href": "https://hda-download.lumi.data.destination-earth.eu/data/external_fdp/EO.EUM.DAT.SENTINEL-3.OL_1_ERR___/S3B_OL_1_ERR____20240625T083313_20240625T091737_20240921T223114_2664_094_278______MAR_R_NT_004/Oa07_radiance.nc",
         "roles": [
          "data"
         ],
         "title": "Oa07_radiance.nc",
         "type": "application/x-netcdf"
        },
        "Oa07_radiance_unc.nc": {
         "alternate": {
          "origin": {
           "href": "s3://eodata/Sentinel-3/OLCI/OL_1_ERR___/2024/06/25/S3B_OL_1_ERR____20240625T083313_20240625T091737_20240921T223114_2664_094_278______MAR_R_NT_004.SEN3/Oa07_radiance_unc.nc",
           "roles": [
            "data"
           ],
           "title": "Oa07_radiance_unc.nc",
           "type": "application/x-netcdf"
          }
         },
         "href": "https://hda-download.lumi.data.destination-earth.eu/data/external_fdp/EO.EUM.DAT.SENTINEL-3.OL_1_ERR___/S3B_OL_1_ERR____20240625T083313_20240625T091737_20240921T223114_2664_094_278______MAR_R_NT_004/Oa07_radiance_unc.nc",
         "roles": [
          "data"
         ],
         "title": "Oa07_radiance_unc.nc",
         "type": "application/x-netcdf"
        },
        "Oa08_radiance.nc": {
         "alternate": {
          "origin": {
           "href": "s3://eodata/Sentinel-3/OLCI/OL_1_ERR___/2024/06/25/S3B_OL_1_ERR____20240625T083313_20240625T091737_20240921T223114_2664_094_278______MAR_R_NT_004.SEN3/Oa08_radiance.nc",
           "roles": [
            "data"
           ],
           "title": "Oa08_radiance.nc",
           "type": "application/x-netcdf"
          }
         },
         "href": "https://hda-download.lumi.data.destination-earth.eu/data/external_fdp/EO.EUM.DAT.SENTINEL-3.OL_1_ERR___/S3B_OL_1_ERR____20240625T083313_20240625T091737_20240921T223114_2664_094_278______MAR_R_NT_004/Oa08_radiance.nc",
         "roles": [
          "data"
         ],
         "title": "Oa08_radiance.nc",
         "type": "application/x-netcdf"
        },
        "Oa08_radiance_unc.nc": {
         "alternate": {
          "origin": {
           "href": "s3://eodata/Sentinel-3/OLCI/OL_1_ERR___/2024/06/25/S3B_OL_1_ERR____20240625T083313_20240625T091737_20240921T223114_2664_094_278______MAR_R_NT_004.SEN3/Oa08_radiance_unc.nc",
           "roles": [
            "data"
           ],
           "title": "Oa08_radiance_unc.nc",
           "type": "application/x-netcdf"
          }
         },
         "href": "https://hda-download.lumi.data.destination-earth.eu/data/external_fdp/EO.EUM.DAT.SENTINEL-3.OL_1_ERR___/S3B_OL_1_ERR____20240625T083313_20240625T091737_20240921T223114_2664_094_278______MAR_R_NT_004/Oa08_radiance_unc.nc",
         "roles": [
          "data"
         ],
         "title": "Oa08_radiance_unc.nc",
         "type": "application/x-netcdf"
        },
        "Oa09_radiance.nc": {
         "alternate": {
          "origin": {
           "href": "s3://eodata/Sentinel-3/OLCI/OL_1_ERR___/2024/06/25/S3B_OL_1_ERR____20240625T083313_20240625T091737_20240921T223114_2664_094_278______MAR_R_NT_004.SEN3/Oa09_radiance.nc",
           "roles": [
            "data"
           ],
           "title": "Oa09_radiance.nc",
           "type": "application/x-netcdf"
          }
         },
         "href": "https://hda-download.lumi.data.destination-earth.eu/data/external_fdp/EO.EUM.DAT.SENTINEL-3.OL_1_ERR___/S3B_OL_1_ERR____20240625T083313_20240625T091737_20240921T223114_2664_094_278______MAR_R_NT_004/Oa09_radiance.nc",
         "roles": [
          "data"
         ],
         "title": "Oa09_radiance.nc",
         "type": "application/x-netcdf"
        },
        "Oa09_radiance_unc.nc": {
         "alternate": {
          "origin": {
           "href": "s3://eodata/Sentinel-3/OLCI/OL_1_ERR___/2024/06/25/S3B_OL_1_ERR____20240625T083313_20240625T091737_20240921T223114_2664_094_278______MAR_R_NT_004.SEN3/Oa09_radiance_unc.nc",
           "roles": [
            "data"
           ],
           "title": "Oa09_radiance_unc.nc",
           "type": "application/x-netcdf"
          }
         },
         "href": "https://hda-download.lumi.data.destination-earth.eu/data/external_fdp/EO.EUM.DAT.SENTINEL-3.OL_1_ERR___/S3B_OL_1_ERR____20240625T083313_20240625T091737_20240921T223114_2664_094_278______MAR_R_NT_004/Oa09_radiance_unc.nc",
         "roles": [
          "data"
         ],
         "title": "Oa09_radiance_unc.nc",
         "type": "application/x-netcdf"
        },
        "Oa10_radiance.nc": {
         "alternate": {
          "origin": {
           "href": "s3://eodata/Sentinel-3/OLCI/OL_1_ERR___/2024/06/25/S3B_OL_1_ERR____20240625T083313_20240625T091737_20240921T223114_2664_094_278______MAR_R_NT_004.SEN3/Oa10_radiance.nc",
           "roles": [
            "data"
           ],
           "title": "Oa10_radiance.nc",
           "type": "application/x-netcdf"
          }
         },
         "href": "https://hda-download.lumi.data.destination-earth.eu/data/external_fdp/EO.EUM.DAT.SENTINEL-3.OL_1_ERR___/S3B_OL_1_ERR____20240625T083313_20240625T091737_20240921T223114_2664_094_278______MAR_R_NT_004/Oa10_radiance.nc",
         "roles": [
          "data"
         ],
         "title": "Oa10_radiance.nc",
         "type": "application/x-netcdf"
        },
        "Oa10_radiance_unc.nc": {
         "alternate": {
          "origin": {
           "href": "s3://eodata/Sentinel-3/OLCI/OL_1_ERR___/2024/06/25/S3B_OL_1_ERR____20240625T083313_20240625T091737_20240921T223114_2664_094_278______MAR_R_NT_004.SEN3/Oa10_radiance_unc.nc",
           "roles": [
            "data"
           ],
           "title": "Oa10_radiance_unc.nc",
           "type": "application/x-netcdf"
          }
         },
         "href": "https://hda-download.lumi.data.destination-earth.eu/data/external_fdp/EO.EUM.DAT.SENTINEL-3.OL_1_ERR___/S3B_OL_1_ERR____20240625T083313_20240625T091737_20240921T223114_2664_094_278______MAR_R_NT_004/Oa10_radiance_unc.nc",
         "roles": [
          "data"
         ],
         "title": "Oa10_radiance_unc.nc",
         "type": "application/x-netcdf"
        },
        "Oa11_radiance.nc": {
         "alternate": {
          "origin": {
           "href": "s3://eodata/Sentinel-3/OLCI/OL_1_ERR___/2024/06/25/S3B_OL_1_ERR____20240625T083313_20240625T091737_20240921T223114_2664_094_278______MAR_R_NT_004.SEN3/Oa11_radiance.nc",
           "roles": [
            "data"
           ],
           "title": "Oa11_radiance.nc",
           "type": "application/x-netcdf"
          }
         },
         "href": "https://hda-download.lumi.data.destination-earth.eu/data/external_fdp/EO.EUM.DAT.SENTINEL-3.OL_1_ERR___/S3B_OL_1_ERR____20240625T083313_20240625T091737_20240921T223114_2664_094_278______MAR_R_NT_004/Oa11_radiance.nc",
         "roles": [
          "data"
         ],
         "title": "Oa11_radiance.nc",
         "type": "application/x-netcdf"
        },
        "Oa11_radiance_unc.nc": {
         "alternate": {
          "origin": {
           "href": "s3://eodata/Sentinel-3/OLCI/OL_1_ERR___/2024/06/25/S3B_OL_1_ERR____20240625T083313_20240625T091737_20240921T223114_2664_094_278______MAR_R_NT_004.SEN3/Oa11_radiance_unc.nc",
           "roles": [
            "data"
           ],
           "title": "Oa11_radiance_unc.nc",
           "type": "application/x-netcdf"
          }
         },
         "href": "https://hda-download.lumi.data.destination-earth.eu/data/external_fdp/EO.EUM.DAT.SENTINEL-3.OL_1_ERR___/S3B_OL_1_ERR____20240625T083313_20240625T091737_20240921T223114_2664_094_278______MAR_R_NT_004/Oa11_radiance_unc.nc",
         "roles": [
          "data"
         ],
         "title": "Oa11_radiance_unc.nc",
         "type": "application/x-netcdf"
        },
        "Oa12_radiance.nc": {
         "alternate": {
          "origin": {
           "href": "s3://eodata/Sentinel-3/OLCI/OL_1_ERR___/2024/06/25/S3B_OL_1_ERR____20240625T083313_20240625T091737_20240921T223114_2664_094_278______MAR_R_NT_004.SEN3/Oa12_radiance.nc",
           "roles": [
            "data"
           ],
           "title": "Oa12_radiance.nc",
           "type": "application/x-netcdf"
          }
         },
         "href": "https://hda-download.lumi.data.destination-earth.eu/data/external_fdp/EO.EUM.DAT.SENTINEL-3.OL_1_ERR___/S3B_OL_1_ERR____20240625T083313_20240625T091737_20240921T223114_2664_094_278______MAR_R_NT_004/Oa12_radiance.nc",
         "roles": [
          "data"
         ],
         "title": "Oa12_radiance.nc",
         "type": "application/x-netcdf"
        },
        "Oa12_radiance_unc.nc": {
         "alternate": {
          "origin": {
           "href": "s3://eodata/Sentinel-3/OLCI/OL_1_ERR___/2024/06/25/S3B_OL_1_ERR____20240625T083313_20240625T091737_20240921T223114_2664_094_278______MAR_R_NT_004.SEN3/Oa12_radiance_unc.nc",
           "roles": [
            "data"
           ],
           "title": "Oa12_radiance_unc.nc",
           "type": "application/x-netcdf"
          }
         },
         "href": "https://hda-download.lumi.data.destination-earth.eu/data/external_fdp/EO.EUM.DAT.SENTINEL-3.OL_1_ERR___/S3B_OL_1_ERR____20240625T083313_20240625T091737_20240921T223114_2664_094_278______MAR_R_NT_004/Oa12_radiance_unc.nc",
         "roles": [
          "data"
         ],
         "title": "Oa12_radiance_unc.nc",
         "type": "application/x-netcdf"
        },
        "Oa13_radiance.nc": {
         "alternate": {
          "origin": {
           "href": "s3://eodata/Sentinel-3/OLCI/OL_1_ERR___/2024/06/25/S3B_OL_1_ERR____20240625T083313_20240625T091737_20240921T223114_2664_094_278______MAR_R_NT_004.SEN3/Oa13_radiance.nc",
           "roles": [
            "data"
           ],
           "title": "Oa13_radiance.nc",
           "type": "application/x-netcdf"
          }
         },
         "href": "https://hda-download.lumi.data.destination-earth.eu/data/external_fdp/EO.EUM.DAT.SENTINEL-3.OL_1_ERR___/S3B_OL_1_ERR____20240625T083313_20240625T091737_20240921T223114_2664_094_278______MAR_R_NT_004/Oa13_radiance.nc",
         "roles": [
          "data"
         ],
         "title": "Oa13_radiance.nc",
         "type": "application/x-netcdf"
        },
        "Oa13_radiance_unc.nc": {
         "alternate": {
          "origin": {
           "href": "s3://eodata/Sentinel-3/OLCI/OL_1_ERR___/2024/06/25/S3B_OL_1_ERR____20240625T083313_20240625T091737_20240921T223114_2664_094_278______MAR_R_NT_004.SEN3/Oa13_radiance_unc.nc",
           "roles": [
            "data"
           ],
           "title": "Oa13_radiance_unc.nc",
           "type": "application/x-netcdf"
          }
         },
         "href": "https://hda-download.lumi.data.destination-earth.eu/data/external_fdp/EO.EUM.DAT.SENTINEL-3.OL_1_ERR___/S3B_OL_1_ERR____20240625T083313_20240625T091737_20240921T223114_2664_094_278______MAR_R_NT_004/Oa13_radiance_unc.nc",
         "roles": [
          "data"
         ],
         "title": "Oa13_radiance_unc.nc",
         "type": "application/x-netcdf"
        },
        "Oa14_radiance.nc": {
         "alternate": {
          "origin": {
           "href": "s3://eodata/Sentinel-3/OLCI/OL_1_ERR___/2024/06/25/S3B_OL_1_ERR____20240625T083313_20240625T091737_20240921T223114_2664_094_278______MAR_R_NT_004.SEN3/Oa14_radiance.nc",
           "roles": [
            "data"
           ],
           "title": "Oa14_radiance.nc",
           "type": "application/x-netcdf"
          }
         },
         "href": "https://hda-download.lumi.data.destination-earth.eu/data/external_fdp/EO.EUM.DAT.SENTINEL-3.OL_1_ERR___/S3B_OL_1_ERR____20240625T083313_20240625T091737_20240921T223114_2664_094_278______MAR_R_NT_004/Oa14_radiance.nc",
         "roles": [
          "data"
         ],
         "title": "Oa14_radiance.nc",
         "type": "application/x-netcdf"
        },
        "Oa14_radiance_unc.nc": {
         "alternate": {
          "origin": {
           "href": "s3://eodata/Sentinel-3/OLCI/OL_1_ERR___/2024/06/25/S3B_OL_1_ERR____20240625T083313_20240625T091737_20240921T223114_2664_094_278______MAR_R_NT_004.SEN3/Oa14_radiance_unc.nc",
           "roles": [
            "data"
           ],
           "title": "Oa14_radiance_unc.nc",
           "type": "application/x-netcdf"
          }
         },
         "href": "https://hda-download.lumi.data.destination-earth.eu/data/external_fdp/EO.EUM.DAT.SENTINEL-3.OL_1_ERR___/S3B_OL_1_ERR____20240625T083313_20240625T091737_20240921T223114_2664_094_278______MAR_R_NT_004/Oa14_radiance_unc.nc",
         "roles": [
          "data"
         ],
         "title": "Oa14_radiance_unc.nc",
         "type": "application/x-netcdf"
        },
        "Oa15_radiance.nc": {
         "alternate": {
          "origin": {
           "href": "s3://eodata/Sentinel-3/OLCI/OL_1_ERR___/2024/06/25/S3B_OL_1_ERR____20240625T083313_20240625T091737_20240921T223114_2664_094_278______MAR_R_NT_004.SEN3/Oa15_radiance.nc",
           "roles": [
            "data"
           ],
           "title": "Oa15_radiance.nc",
           "type": "application/x-netcdf"
          }
         },
         "href": "https://hda-download.lumi.data.destination-earth.eu/data/external_fdp/EO.EUM.DAT.SENTINEL-3.OL_1_ERR___/S3B_OL_1_ERR____20240625T083313_20240625T091737_20240921T223114_2664_094_278______MAR_R_NT_004/Oa15_radiance.nc",
         "roles": [
          "data"
         ],
         "title": "Oa15_radiance.nc",
         "type": "application/x-netcdf"
        },
        "Oa15_radiance_unc.nc": {
         "alternate": {
          "origin": {
           "href": "s3://eodata/Sentinel-3/OLCI/OL_1_ERR___/2024/06/25/S3B_OL_1_ERR____20240625T083313_20240625T091737_20240921T223114_2664_094_278______MAR_R_NT_004.SEN3/Oa15_radiance_unc.nc",
           "roles": [
            "data"
           ],
           "title": "Oa15_radiance_unc.nc",
           "type": "application/x-netcdf"
          }
         },
         "href": "https://hda-download.lumi.data.destination-earth.eu/data/external_fdp/EO.EUM.DAT.SENTINEL-3.OL_1_ERR___/S3B_OL_1_ERR____20240625T083313_20240625T091737_20240921T223114_2664_094_278______MAR_R_NT_004/Oa15_radiance_unc.nc",
         "roles": [
          "data"
         ],
         "title": "Oa15_radiance_unc.nc",
         "type": "application/x-netcdf"
        },
        "Oa16_radiance.nc": {
         "alternate": {
          "origin": {
           "href": "s3://eodata/Sentinel-3/OLCI/OL_1_ERR___/2024/06/25/S3B_OL_1_ERR____20240625T083313_20240625T091737_20240921T223114_2664_094_278______MAR_R_NT_004.SEN3/Oa16_radiance.nc",
           "roles": [
            "data"
           ],
           "title": "Oa16_radiance.nc",
           "type": "application/x-netcdf"
          }
         },
         "href": "https://hda-download.lumi.data.destination-earth.eu/data/external_fdp/EO.EUM.DAT.SENTINEL-3.OL_1_ERR___/S3B_OL_1_ERR____20240625T083313_20240625T091737_20240921T223114_2664_094_278______MAR_R_NT_004/Oa16_radiance.nc",
         "roles": [
          "data"
         ],
         "title": "Oa16_radiance.nc",
         "type": "application/x-netcdf"
        },
        "Oa16_radiance_unc.nc": {
         "alternate": {
          "origin": {
           "href": "s3://eodata/Sentinel-3/OLCI/OL_1_ERR___/2024/06/25/S3B_OL_1_ERR____20240625T083313_20240625T091737_20240921T223114_2664_094_278______MAR_R_NT_004.SEN3/Oa16_radiance_unc.nc",
           "roles": [
            "data"
           ],
           "title": "Oa16_radiance_unc.nc",
           "type": "application/x-netcdf"
          }
         },
         "href": "https://hda-download.lumi.data.destination-earth.eu/data/external_fdp/EO.EUM.DAT.SENTINEL-3.OL_1_ERR___/S3B_OL_1_ERR____20240625T083313_20240625T091737_20240921T223114_2664_094_278______MAR_R_NT_004/Oa16_radiance_unc.nc",
         "roles": [
          "data"
         ],
         "title": "Oa16_radiance_unc.nc",
         "type": "application/x-netcdf"
        },
        "Oa17_radiance.nc": {
         "alternate": {
          "origin": {
           "href": "s3://eodata/Sentinel-3/OLCI/OL_1_ERR___/2024/06/25/S3B_OL_1_ERR____20240625T083313_20240625T091737_20240921T223114_2664_094_278______MAR_R_NT_004.SEN3/Oa17_radiance.nc",
           "roles": [
            "data"
           ],
           "title": "Oa17_radiance.nc",
           "type": "application/x-netcdf"
          }
         },
         "href": "https://hda-download.lumi.data.destination-earth.eu/data/external_fdp/EO.EUM.DAT.SENTINEL-3.OL_1_ERR___/S3B_OL_1_ERR____20240625T083313_20240625T091737_20240921T223114_2664_094_278______MAR_R_NT_004/Oa17_radiance.nc",
         "roles": [
          "data"
         ],
         "title": "Oa17_radiance.nc",
         "type": "application/x-netcdf"
        },
        "Oa17_radiance_unc.nc": {
         "alternate": {
          "origin": {
           "href": "s3://eodata/Sentinel-3/OLCI/OL_1_ERR___/2024/06/25/S3B_OL_1_ERR____20240625T083313_20240625T091737_20240921T223114_2664_094_278______MAR_R_NT_004.SEN3/Oa17_radiance_unc.nc",
           "roles": [
            "data"
           ],
           "title": "Oa17_radiance_unc.nc",
           "type": "application/x-netcdf"
          }
         },
         "href": "https://hda-download.lumi.data.destination-earth.eu/data/external_fdp/EO.EUM.DAT.SENTINEL-3.OL_1_ERR___/S3B_OL_1_ERR____20240625T083313_20240625T091737_20240921T223114_2664_094_278______MAR_R_NT_004/Oa17_radiance_unc.nc",
         "roles": [
          "data"
         ],
         "title": "Oa17_radiance_unc.nc",
         "type": "application/x-netcdf"
        },
        "Oa18_radiance.nc": {
         "alternate": {
          "origin": {
           "href": "s3://eodata/Sentinel-3/OLCI/OL_1_ERR___/2024/06/25/S3B_OL_1_ERR____20240625T083313_20240625T091737_20240921T223114_2664_094_278______MAR_R_NT_004.SEN3/Oa18_radiance.nc",
           "roles": [
            "data"
           ],
           "title": "Oa18_radiance.nc",
           "type": "application/x-netcdf"
          }
         },
         "href": "https://hda-download.lumi.data.destination-earth.eu/data/external_fdp/EO.EUM.DAT.SENTINEL-3.OL_1_ERR___/S3B_OL_1_ERR____20240625T083313_20240625T091737_20240921T223114_2664_094_278______MAR_R_NT_004/Oa18_radiance.nc",
         "roles": [
          "data"
         ],
         "title": "Oa18_radiance.nc",
         "type": "application/x-netcdf"
        },
        "Oa18_radiance_unc.nc": {
         "alternate": {
          "origin": {
           "href": "s3://eodata/Sentinel-3/OLCI/OL_1_ERR___/2024/06/25/S3B_OL_1_ERR____20240625T083313_20240625T091737_20240921T223114_2664_094_278______MAR_R_NT_004.SEN3/Oa18_radiance_unc.nc",
           "roles": [
            "data"
           ],
           "title": "Oa18_radiance_unc.nc",
           "type": "application/x-netcdf"
          }
         },
         "href": "https://hda-download.lumi.data.destination-earth.eu/data/external_fdp/EO.EUM.DAT.SENTINEL-3.OL_1_ERR___/S3B_OL_1_ERR____20240625T083313_20240625T091737_20240921T223114_2664_094_278______MAR_R_NT_004/Oa18_radiance_unc.nc",
         "roles": [
          "data"
         ],
         "title": "Oa18_radiance_unc.nc",
         "type": "application/x-netcdf"
        },
        "Oa19_radiance.nc": {
         "alternate": {
          "origin": {
           "href": "s3://eodata/Sentinel-3/OLCI/OL_1_ERR___/2024/06/25/S3B_OL_1_ERR____20240625T083313_20240625T091737_20240921T223114_2664_094_278______MAR_R_NT_004.SEN3/Oa19_radiance.nc",
           "roles": [
            "data"
           ],
           "title": "Oa19_radiance.nc",
           "type": "application/x-netcdf"
          }
         },
         "href": "https://hda-download.lumi.data.destination-earth.eu/data/external_fdp/EO.EUM.DAT.SENTINEL-3.OL_1_ERR___/S3B_OL_1_ERR____20240625T083313_20240625T091737_20240921T223114_2664_094_278______MAR_R_NT_004/Oa19_radiance.nc",
         "roles": [
          "data"
         ],
         "title": "Oa19_radiance.nc",
         "type": "application/x-netcdf"
        },
        "Oa19_radiance_unc.nc": {
         "alternate": {
          "origin": {
           "href": "s3://eodata/Sentinel-3/OLCI/OL_1_ERR___/2024/06/25/S3B_OL_1_ERR____20240625T083313_20240625T091737_20240921T223114_2664_094_278______MAR_R_NT_004.SEN3/Oa19_radiance_unc.nc",
           "roles": [
            "data"
           ],
           "title": "Oa19_radiance_unc.nc",
           "type": "application/x-netcdf"
          }
         },
         "href": "https://hda-download.lumi.data.destination-earth.eu/data/external_fdp/EO.EUM.DAT.SENTINEL-3.OL_1_ERR___/S3B_OL_1_ERR____20240625T083313_20240625T091737_20240921T223114_2664_094_278______MAR_R_NT_004/Oa19_radiance_unc.nc",
         "roles": [
          "data"
         ],
         "title": "Oa19_radiance_unc.nc",
         "type": "application/x-netcdf"
        },
        "Oa20_radiance.nc": {
         "alternate": {
          "origin": {
           "href": "s3://eodata/Sentinel-3/OLCI/OL_1_ERR___/2024/06/25/S3B_OL_1_ERR____20240625T083313_20240625T091737_20240921T223114_2664_094_278______MAR_R_NT_004.SEN3/Oa20_radiance.nc",
           "roles": [
            "data"
           ],
           "title": "Oa20_radiance.nc",
           "type": "application/x-netcdf"
          }
         },
         "href": "https://hda-download.lumi.data.destination-earth.eu/data/external_fdp/EO.EUM.DAT.SENTINEL-3.OL_1_ERR___/S3B_OL_1_ERR____20240625T083313_20240625T091737_20240921T223114_2664_094_278______MAR_R_NT_004/Oa20_radiance.nc",
         "roles": [
          "data"
         ],
         "title": "Oa20_radiance.nc",
         "type": "application/x-netcdf"
        },
        "Oa20_radiance_unc.nc": {
         "alternate": {
          "origin": {
           "href": "s3://eodata/Sentinel-3/OLCI/OL_1_ERR___/2024/06/25/S3B_OL_1_ERR____20240625T083313_20240625T091737_20240921T223114_2664_094_278______MAR_R_NT_004.SEN3/Oa20_radiance_unc.nc",
           "roles": [
            "data"
           ],
           "title": "Oa20_radiance_unc.nc",
           "type": "application/x-netcdf"
          }
         },
         "href": "https://hda-download.lumi.data.destination-earth.eu/data/external_fdp/EO.EUM.DAT.SENTINEL-3.OL_1_ERR___/S3B_OL_1_ERR____20240625T083313_20240625T091737_20240921T223114_2664_094_278______MAR_R_NT_004/Oa20_radiance_unc.nc",
         "roles": [
          "data"
         ],
         "title": "Oa20_radiance_unc.nc",
         "type": "application/x-netcdf"
        },
        "Oa21_radiance.nc": {
         "alternate": {
          "origin": {
           "href": "s3://eodata/Sentinel-3/OLCI/OL_1_ERR___/2024/06/25/S3B_OL_1_ERR____20240625T083313_20240625T091737_20240921T223114_2664_094_278______MAR_R_NT_004.SEN3/Oa21_radiance.nc",
           "roles": [
            "data"
           ],
           "title": "Oa21_radiance.nc",
           "type": "application/x-netcdf"
          }
         },
         "href": "https://hda-download.lumi.data.destination-earth.eu/data/external_fdp/EO.EUM.DAT.SENTINEL-3.OL_1_ERR___/S3B_OL_1_ERR____20240625T083313_20240625T091737_20240921T223114_2664_094_278______MAR_R_NT_004/Oa21_radiance.nc",
         "roles": [
          "data"
         ],
         "title": "Oa21_radiance.nc",
         "type": "application/x-netcdf"
        },
        "Oa21_radiance_unc.nc": {
         "alternate": {
          "origin": {
           "href": "s3://eodata/Sentinel-3/OLCI/OL_1_ERR___/2024/06/25/S3B_OL_1_ERR____20240625T083313_20240625T091737_20240921T223114_2664_094_278______MAR_R_NT_004.SEN3/Oa21_radiance_unc.nc",
           "roles": [
            "data"
           ],
           "title": "Oa21_radiance_unc.nc",
           "type": "application/x-netcdf"
          }
         },
         "href": "https://hda-download.lumi.data.destination-earth.eu/data/external_fdp/EO.EUM.DAT.SENTINEL-3.OL_1_ERR___/S3B_OL_1_ERR____20240625T083313_20240625T091737_20240921T223114_2664_094_278______MAR_R_NT_004/Oa21_radiance_unc.nc",
         "roles": [
          "data"
         ],
         "title": "Oa21_radiance_unc.nc",
         "type": "application/x-netcdf"
        },
        "downloadLink": {
         "alternate": {
          "origin": {
           "href": "s3://eodata/Sentinel-3/OLCI/OL_1_ERR___/2024/06/25/S3B_OL_1_ERR____20240625T083313_20240625T091737_20240921T223114_2664_094_278______MAR_R_NT_004.SEN3",
           "title": "Origin asset link",
           "type": "application/zip"
          }
         },
         "href": "https://hda-download.lumi.data.destination-earth.eu/data/external_fdp/EO.EUM.DAT.SENTINEL-3.OL_1_ERR___/S3B_OL_1_ERR____20240625T083313_20240625T091737_20240921T223114_2664_094_278______MAR_R_NT_004/downloadLink",
         "title": "Download link",
         "type": "application/zip"
        },
        "geo_coordinates.nc": {
         "alternate": {
          "origin": {
           "href": "s3://eodata/Sentinel-3/OLCI/OL_1_ERR___/2024/06/25/S3B_OL_1_ERR____20240625T083313_20240625T091737_20240921T223114_2664_094_278______MAR_R_NT_004.SEN3/geo_coordinates.nc",
           "roles": [
            "data"
           ],
           "title": "geo_coordinates.nc",
           "type": "application/x-netcdf"
          }
         },
         "href": "https://hda-download.lumi.data.destination-earth.eu/data/external_fdp/EO.EUM.DAT.SENTINEL-3.OL_1_ERR___/S3B_OL_1_ERR____20240625T083313_20240625T091737_20240921T223114_2664_094_278______MAR_R_NT_004/geo_coordinates.nc",
         "roles": [
          "data"
         ],
         "title": "geo_coordinates.nc",
         "type": "application/x-netcdf"
        },
        "instrument_data.nc": {
         "alternate": {
          "origin": {
           "href": "s3://eodata/Sentinel-3/OLCI/OL_1_ERR___/2024/06/25/S3B_OL_1_ERR____20240625T083313_20240625T091737_20240921T223114_2664_094_278______MAR_R_NT_004.SEN3/instrument_data.nc",
           "roles": [
            "data"
           ],
           "title": "instrument_data.nc",
           "type": "application/x-netcdf"
          }
         },
         "href": "https://hda-download.lumi.data.destination-earth.eu/data/external_fdp/EO.EUM.DAT.SENTINEL-3.OL_1_ERR___/S3B_OL_1_ERR____20240625T083313_20240625T091737_20240921T223114_2664_094_278______MAR_R_NT_004/instrument_data.nc",
         "roles": [
          "data"
         ],
         "title": "instrument_data.nc",
         "type": "application/x-netcdf"
        },
        "qualityFlags.nc": {
         "alternate": {
          "origin": {
           "href": "s3://eodata/Sentinel-3/OLCI/OL_1_ERR___/2024/06/25/S3B_OL_1_ERR____20240625T083313_20240625T091737_20240921T223114_2664_094_278______MAR_R_NT_004.SEN3/qualityFlags.nc",
           "roles": [
            "data"
           ],
           "title": "qualityFlags.nc",
           "type": "application/x-netcdf"
          }
         },
         "href": "https://hda-download.lumi.data.destination-earth.eu/data/external_fdp/EO.EUM.DAT.SENTINEL-3.OL_1_ERR___/S3B_OL_1_ERR____20240625T083313_20240625T091737_20240921T223114_2664_094_278______MAR_R_NT_004/qualityFlags.nc",
         "roles": [
          "data"
         ],
         "title": "qualityFlags.nc",
         "type": "application/x-netcdf"
        },
        "quicklook.jpg": {
         "alternate": {
          "origin": {
           "href": "s3://eodata/Sentinel-3/OLCI/OL_1_ERR___/2024/06/25/S3B_OL_1_ERR____20240625T083313_20240625T091737_20240921T223114_2664_094_278______MAR_R_NT_004.SEN3/quicklook.jpg",
           "roles": [
            "overview"
           ],
           "title": "quicklook.jpg",
           "type": "image/jpeg"
          }
         },
         "href": "https://hda-download.lumi.data.destination-earth.eu/data/external_fdp/EO.EUM.DAT.SENTINEL-3.OL_1_ERR___/S3B_OL_1_ERR____20240625T083313_20240625T091737_20240921T223114_2664_094_278______MAR_R_NT_004/quicklook.jpg",
         "roles": [
          "overview"
         ],
         "title": "quicklook.jpg",
         "type": "image/jpeg"
        },
        "tie_geo_coordinates.nc": {
         "alternate": {
          "origin": {
           "href": "s3://eodata/Sentinel-3/OLCI/OL_1_ERR___/2024/06/25/S3B_OL_1_ERR____20240625T083313_20240625T091737_20240921T223114_2664_094_278______MAR_R_NT_004.SEN3/tie_geo_coordinates.nc",
           "roles": [
            "data"
           ],
           "title": "tie_geo_coordinates.nc",
           "type": "application/x-netcdf"
          }
         },
         "href": "https://hda-download.lumi.data.destination-earth.eu/data/external_fdp/EO.EUM.DAT.SENTINEL-3.OL_1_ERR___/S3B_OL_1_ERR____20240625T083313_20240625T091737_20240921T223114_2664_094_278______MAR_R_NT_004/tie_geo_coordinates.nc",
         "roles": [
          "data"
         ],
         "title": "tie_geo_coordinates.nc",
         "type": "application/x-netcdf"
        },
        "tie_geometries.nc": {
         "alternate": {
          "origin": {
           "href": "s3://eodata/Sentinel-3/OLCI/OL_1_ERR___/2024/06/25/S3B_OL_1_ERR____20240625T083313_20240625T091737_20240921T223114_2664_094_278______MAR_R_NT_004.SEN3/tie_geometries.nc",
           "roles": [
            "data"
           ],
           "title": "tie_geometries.nc",
           "type": "application/x-netcdf"
          }
         },
         "href": "https://hda-download.lumi.data.destination-earth.eu/data/external_fdp/EO.EUM.DAT.SENTINEL-3.OL_1_ERR___/S3B_OL_1_ERR____20240625T083313_20240625T091737_20240921T223114_2664_094_278______MAR_R_NT_004/tie_geometries.nc",
         "roles": [
          "data"
         ],
         "title": "tie_geometries.nc",
         "type": "application/x-netcdf"
        },
        "tie_meteo.nc": {
         "alternate": {
          "origin": {
           "href": "s3://eodata/Sentinel-3/OLCI/OL_1_ERR___/2024/06/25/S3B_OL_1_ERR____20240625T083313_20240625T091737_20240921T223114_2664_094_278______MAR_R_NT_004.SEN3/tie_meteo.nc",
           "roles": [
            "data"
           ],
           "title": "tie_meteo.nc",
           "type": "application/x-netcdf"
          }
         },
         "href": "https://hda-download.lumi.data.destination-earth.eu/data/external_fdp/EO.EUM.DAT.SENTINEL-3.OL_1_ERR___/S3B_OL_1_ERR____20240625T083313_20240625T091737_20240921T223114_2664_094_278______MAR_R_NT_004/tie_meteo.nc",
         "roles": [
          "data"
         ],
         "title": "tie_meteo.nc",
         "type": "application/x-netcdf"
        },
        "time_coordinates.nc": {
         "alternate": {
          "origin": {
           "href": "s3://eodata/Sentinel-3/OLCI/OL_1_ERR___/2024/06/25/S3B_OL_1_ERR____20240625T083313_20240625T091737_20240921T223114_2664_094_278______MAR_R_NT_004.SEN3/time_coordinates.nc",
           "roles": [
            "data"
           ],
           "title": "time_coordinates.nc",
           "type": "application/x-netcdf"
          }
         },
         "href": "https://hda-download.lumi.data.destination-earth.eu/data/external_fdp/EO.EUM.DAT.SENTINEL-3.OL_1_ERR___/S3B_OL_1_ERR____20240625T083313_20240625T091737_20240921T223114_2664_094_278______MAR_R_NT_004/time_coordinates.nc",
         "roles": [
          "data"
         ],
         "title": "time_coordinates.nc",
         "type": "application/x-netcdf"
        },
        "xfdumanifest.xml": {
         "alternate": {
          "origin": {
           "href": "s3://eodata/Sentinel-3/OLCI/OL_1_ERR___/2024/06/25/S3B_OL_1_ERR____20240625T083313_20240625T091737_20240921T223114_2664_094_278______MAR_R_NT_004.SEN3/xfdumanifest.xml",
           "roles": [
            "metadata"
           ],
           "title": "xfdumanifest.xml",
           "type": "application/xml"
          }
         },
         "href": "https://hda-download.lumi.data.destination-earth.eu/data/external_fdp/EO.EUM.DAT.SENTINEL-3.OL_1_ERR___/S3B_OL_1_ERR____20240625T083313_20240625T091737_20240921T223114_2664_094_278______MAR_R_NT_004/xfdumanifest.xml",
         "roles": [
          "metadata"
         ],
         "title": "xfdumanifest.xml",
         "type": "application/xml"
        }
       },
       "bbox": [
        -180,
        -48.9606,
        180,
        90
       ],
       "collection": "EO.EUM.DAT.SENTINEL-3.OL_1_ERR___",
       "geometry": {
        "coordinates": [
         [
          [
           -10.9679,
           -45.2201
          ],
          [
           -10.1616,
           -45.473
          ],
          [
           -9.34914,
           -45.7209
          ],
          [
           -8.52956,
           -45.9629
          ],
          [
           -7.70289,
           -46.1989
          ],
          [
           -6.86917,
           -46.429
          ],
          [
           -6.02851,
           -46.6528
          ],
          [
           -5.18096,
           -46.8704
          ],
          [
           -4.32664,
           -47.0816
          ],
          [
           -3.46565,
           -47.2865
          ],
          [
           -2.5981,
           -47.4848
          ],
          [
           -1.72408,
           -47.6765
          ],
          [
           -0.843744,
           -47.8614
          ],
          [
           0.042754,
           -48.0395
          ],
          [
           0.935273,
           -48.2107
          ],
          [
           1.83364,
           -48.375
          ],
          [
           2.7377,
           -48.5321
          ],
          [
           3.64723,
           -48.6821
          ],
          [
           4.56206,
           -48.8249
          ],
          [
           5.4821,
           -48.9606
          ],
          [
           6.0498,
           -47.1979
          ],
          [
           6.59961,
           -45.413
          ],
          [
           7.12775,
           -43.6258
          ],
          [
           7.63727,
           -41.8369
          ],
          [
           8.12938,
           -40.0465
          ],
          [
           8.60758,
           -38.2545
          ],
          [
           9.07259,
           -36.4612
          ],
          [
           9.52565,
           -34.6657
          ],
          [
           9.96919,
           -32.8695
          ],
          [
           10.4037,
           -31.0721
          ],
          [
           10.8303,
           -29.2734
          ],
          [
           11.2502,
           -27.4734
          ],
          [
           11.6641,
           -25.6726
          ],
          [
           12.073,
           -23.871
          ],
          [
           12.4773,
           -22.0679
          ],
          [
           12.8779,
           -20.264
          ],
          [
           13.2763,
           -18.4605
          ],
          [
           13.6716,
           -16.6551
          ],
          [
           14.0652,
           -14.8495
          ],
          [
           14.4578,
           -13.0434
          ],
          [
           14.8497,
           -11.2367
          ],
          [
           15.2415,
           -9.42958
          ],
          [
           15.6334,
           -7.6224
          ],
          [
           16.0265,
           -5.81469
          ],
          [
           16.421,
           -4.00702
          ],
          [
           16.8172,
           -2.19927
          ],
          [
           17.2161,
           -0.391423
          ],
          [
           17.6178,
           1.41627
          ],
          [
           18.023,
           3.22375
          ],
          [
           18.4324,
           5.03084
          ],
          [
           18.8464,
           6.83752
          ],
          [
           19.2657,
           8.64405
          ],
          [
           19.691,
           10.4497
          ],
          [
           20.1225,
           12.2545
          ],
          [
           20.5618,
           14.0588
          ],
          [
           21.009,
           15.862
          ],
          [
           21.4651,
           17.6642
          ],
          [
           21.9311,
           19.4651
          ],
          [
           22.408,
           21.2648
          ],
          [
           22.8966,
           23.063
          ],
          [
           23.3985,
           24.8596
          ],
          [
           23.9147,
           26.6543
          ],
          [
           24.4465,
           28.4472
          ],
          [
           24.9959,
           30.2378
          ],
          [
           25.5644,
           32.026
          ],
          [
           26.1534,
           33.8123
          ],
          [
           26.7666,
           35.5948
          ],
          [
           27.4052,
           37.3744
          ],
          [
           28.0721,
           39.151
          ],
          [
           28.7709,
           40.9235
          ],
          [
           29.505,
           42.692
          ],
          [
           30.2787,
           44.4558
          ],
          [
           31.0967,
           46.2144
          ],
          [
           31.9643,
           47.9673
          ],
          [
           32.8885,
           49.7139
          ],
          [
           33.8763,
           51.4531
          ],
          [
           34.9367,
           53.1842
          ],
          [
           36.0803,
           54.9059
          ],
          [
           37.319,
           56.6168
          ],
          [
           38.6683,
           58.3155
          ],
          [
           40.1456,
           59.9997
          ],
          [
           41.7726,
           61.6671
          ],
          [
           43.5756,
           63.3144
          ],
          [
           45.586,
           64.938
          ],
          [
           47.8437,
           66.5332
          ],
          [
           50.3966,
           68.0934
          ],
          [
           53.3034,
           69.6105
          ],
          [
           56.6359,
           71.0758
          ],
          [
           60.4794,
           72.4746
          ],
          [
           64.933,
           73.7903
          ],
          [
           70.1035,
           75.0017
          ],
          [
           76.0938,
           76.0811
          ],
          [
           82.9742,
           76.9955
          ],
          [
           90.7428,
           77.7085
          ],
          [
           99.2797,
           78.1844
          ],
          [
           108.308,
           78.3919
          ],
          [
           117.436,
           78.318
          ],
          [
           126.253,
           77.9684
          ],
          [
           134.414,
           77.3651
          ],
          [
           141.727,
           76.5428
          ],
          [
           148.139,
           75.538
          ],
          [
           153.691,
           74.3863
          ],
          [
           158.475,
           73.1176
          ],
          [
           162.598,
           71.7562
          ],
          [
           166.164,
           70.3212
          ],
          [
           169.265,
           68.8275
          ],
          [
           171.98,
           67.2867
          ],
          [
           173.359,
           67.6119
          ],
          [
           174.771,
           67.9242
          ],
          [
           176.223,
           68.2243
          ],
          [
           177.71,
           68.5109
          ],
          [
           179.234,
           68.7839
          ],
          [
           180,
           68.91102757517595
          ],
          [
           180,
           90
          ],
          [
           0,
           90
          ],
          [
           -180,
           90
          ],
          [
           -180,
           68.91102757517595
          ],
          [
           -179.203,
           69.0433
          ],
          [
           -177.604,
           69.288
          ],
          [
           -175.969,
           69.5177
          ],
          [
           -174.301,
           69.7317
          ],
          [
           -172.599,
           69.9294
          ],
          [
           -170.866,
           70.1107
          ],
          [
           -169.105,
           70.2748
          ],
          [
           -167.316,
           70.4215
          ],
          [
           -165.503,
           70.5503
          ],
          [
           -163.669,
           70.6608
          ],
          [
           -161.816,
           70.7527
          ],
          [
           -159.947,
           70.8258
          ],
          [
           -158.067,
           70.8799
          ],
          [
           -156.178,
           70.9155
          ],
          [
           -156.395,
           72.6905
          ],
          [
           -156.601,
           74.4651
          ],
          [
           -156.79,
           76.2394
          ],
          [
           -156.956,
           78.013
          ],
          [
           -157.087,
           79.7865
          ],
          [
           -157.163,
           81.5596
          ],
          [
           -157.137,
           83.3322
          ],
          [
           -156.906,
           85.1044
          ],
          [
           -156.109,
           86.8758
          ],
          [
           -152.56,
           88.6439
          ],
          [
           -0.127934,
           89.546
          ],
          [
           16.0175,
           87.7972
          ],
          [
           17.62,
           86.0257
          ],
          [
           18.0653,
           84.2539
          ],
          [
           18.1754,
           82.4817
          ],
          [
           18.1441,
           80.7088
          ],
          [
           18.0388,
           78.9354
          ],
          [
           17.8881,
           77.1619
          ],
          [
           17.7099,
           75.388
          ],
          [
           17.5135,
           73.6134
          ],
          [
           17.3012,
           71.8388
          ],
          [
           17.0795,
           70.0634
          ],
          [
           16.8498,
           68.2876
          ],
          [
           16.6136,
           66.5114
          ],
          [
           16.3716,
           64.7345
          ],
          [
           16.1251,
           62.9568
          ],
          [
           15.8746,
           61.1787
          ],
          [
           15.6204,
           59.4
          ],
          [
           15.3631,
           57.6206
          ],
          [
           15.1025,
           55.8405
          ],
          [
           14.839,
           54.0596
          ],
          [
           14.5727,
           52.2782
          ],
          [
           14.3034,
           50.4959
          ],
          [
           14.0318,
           48.713
          ],
          [
           13.7571,
           46.9293
          ],
          [
           13.4797,
           45.1448
          ],
          [
           13.1997,
           43.3597
          ],
          [
           12.9167,
           41.5739
          ],
          [
           12.6311,
           39.787
          ],
          [
           12.3421,
           38.0001
          ],
          [
           12.0498,
           36.2133
          ],
          [
           11.7552,
           34.4236
          ],
          [
           11.4567,
           32.6346
          ],
          [
           11.1548,
           30.8452
          ],
          [
           10.8496,
           29.0551
          ],
          [
           10.5403,
           27.2643
          ],
          [
           10.2271,
           25.4734
          ],
          [
           9.91009,
           23.682
          ],
          [
           9.58859,
           21.8901
          ],
          [
           9.26262,
           20.0982
          ],
          [
           8.93197,
           18.3059
          ],
          [
           8.59631,
           16.5136
          ],
          [
           8.25526,
           14.7212
          ],
          [
           7.90909,
           12.9289
          ],
          [
           7.55677,
           11.1367
          ],
          [
           7.19833,
           9.34451
          ],
          [
           6.83352,
           7.55282
          ],
          [
           6.46176,
           5.76162
          ],
          [
           6.08288,
           3.97069
          ],
          [
           5.69622,
           2.18033
          ],
          [
           5.30141,
           0.390889
          ],
          [
           4.89805,
           -1.39768
          ],
          [
           4.48543,
           -3.18533
          ],
          [
           4.06294,
           -4.9719
          ],
          [
           3.63038,
           -6.75712
          ],
          [
           3.18644,
           -8.54106
          ],
          [
           2.73083,
           -10.3233
          ],
          [
           2.26246,
           -12.1039
          ],
          [
           1.78076,
           -13.8825
          ],
          [
           1.28456,
           -15.6596
          ],
          [
           0.772553,
           -17.4322
          ],
          [
           0.244228,
           -19.2044
          ],
          [
           -0.302112,
           -20.974
          ],
          [
           -0.867871,
           -22.7394
          ],
          [
           -1.45441,
           -24.5016
          ],
          [
           -2.06359,
           -26.2605
          ],
          [
           -2.69708,
           -28.0153
          ],
          [
           -3.35718,
           -29.7656
          ],
          [
           -4.04631,
           -31.5113
          ],
          [
           -4.7662,
           -33.2521
          ],
          [
           -5.52088,
           -34.9866
          ],
          [
           -6.3133,
           -36.7152
          ],
          [
           -7.14604,
           -38.4368
          ],
          [
           -8.02467,
           -40.1509
          ],
          [
           -8.95285,
           -41.8568
          ],
          [
           -9.93603,
           -43.5531
          ],
          [
           -10.9679,
           -45.2201
          ]
         ]
        ],
        "type": "Polygon"
       },
       "id": "S3B_OL_1_ERR____20240625T083313_20240625T091737_20240921T223114_2664_094_278______MAR_R_NT_004",
       "links": [
        {
         "href": "https://hda.data.destination-earth.eu/stac/v2/collections/EO.EUM.DAT.SENTINEL-3.OL_1_ERR___",
         "rel": "collection",
         "title": "EO.EUM.DAT.SENTINEL-3.OL_1_ERR___",
         "type": "application/json"
        },
        {
         "href": "https://hda.data.destination-earth.eu/stac/v2/collections/EO.EUM.DAT.SENTINEL-3.OL_1_ERR___/items/S3B_OL_1_ERR____20240625T083313_20240625T091737_20240921T223114_2664_094_278______MAR_R_NT_004",
         "rel": "self",
         "title": "Original item link",
         "type": "application/geo+json"
        }
       ],
       "properties": {
        "abstract": "OLCI (Ocean and Land Colour Instrument) Reduced resolution: 1200m at nadir. All Sentinel-3 NRT products are available at pick-up point in less than 3h. Level 1 products are calibrated Top Of Atmosphere radiance values at OLCI 21 spectral bands. Radiances are computed from the instrument digital counts by applying geo-referencing, radiometric processing (non-linearity correction, smear correction, dark offset correction, absolute gain calibration adjusted for gain evolution with time), and stray-light correction for straylight effects in OLCI camera's spectrometer and ground imager. Additionally, spatial resampling of OLCI pixels to the 'ideal' instrument grid, initial pixel classification, and annotation at tie points with auxiliary meteorological data and acquisition geometry are provided. The radiance products are accompanied by error estimate products, however the error values are currently not available.\n\n- All Sentinel-3 NRT products are available at pick-up point in less than 3h\n- All Sentinel-3 Non Time Critical (NTC) products are available at pick-up point in less than 30 days\nSentinel-3 is part of a series of Sentinel satellites, under the umbrella of the EU Copernicus programme.",
        "alias": "EO.EUM.DAT.SENTINEL-3.OL_1_ERR___",
        "baselineCollection": "004",
        "beginningDateTime": "2024-06-25T08:33:12.876948Z",
        "brightCover": 50,
        "coastalCover": 1,
        "collection": "OL_1_ERR___",
        "constellation": "SENTINEL-3",
        "cycleNumber": 94,
        "datetime": "2024-06-25T08:33:12.876948Z",
        "end_datetime": "2024-06-25T09:17:37.104039Z",
        "endingDateTime": "2024-06-25T09:17:37.104039Z",
        "federation:backends": [
         "external_fdp"
        ],
        "freshInlandWaterCover": 1,
        "instruments": [
         "OLCI"
        ],
        "license": "proprietary",
        "order:status": "succeeded",
        "platform": "B",
        "processing:level": "L1",
        "processorVersion": 3.51,
        "product:timeliness": "NT",
        "published": "2025-05-26T15:03:26.406842Z",
        "quicklook": "https://datahub.creodias.eu/odata/v1/Assets(172e3614-114c-423c-86fa-eb58464bb737)/$value",
        "salineWaterCover": 59,
        "sar:instrument_mode": "Earth Observation",
        "sat:absolute_orbit": 32120,
        "sat:orbit_state": "ASCENDING",
        "sat:relative_orbit": 278,
        "scope": {
         "discover": null,
         "download": "hda-public-data-access",
         "search": "hda-public-data-access"
        },
        "stacCollection": "/eodag/collections/EO.EUM.DAT.SENTINEL-3.OL_1_ERR___.json",
        "start_datetime": "2024-06-25T08:33:12.876948Z",
        "storage:tier": "online",
        "thumbnail": "https://datahub.creodias.eu/odata/v1/Assets(172e3614-114c-423c-86fa-eb58464bb737)/$value",
        "tidalRegionCover": 0,
        "title": "S3B_OL_1_ERR____20240625T083313_20240625T091737_20240921T223114_2664_094_278______MAR_R_NT_004.SEN3",
        "uid": "52215c59-03d4-3c4b-b224-cae1258044c0",
        "updated": "2025-05-26T17:04:45.080584Z"
       },
       "stac_extensions": [
        "https://stac-extensions.github.io/order/v1.1.0/schema.json",
        "https://stac-extensions.github.io/product/v0.1.0/schema.json",
        "https://stac-extensions.github.io/processing/v1.0.0/schema.json",
        "https://stac-extensions.github.io/sar/v1.0.0/schema.json",
        "https://stac-extensions.github.io/storage/v1.0.0/schema.json",
        "https://stac-extensions.github.io/sat/v1.0.0/schema.json"
       ],
       "stac_version": "1.0.0",
       "type": "Feature"
      },
      "text/plain": [
       "<IPython.core.display.JSON object>"
      ]
     },
     "execution_count": 12,
     "metadata": {
      "application/json": {
       "expanded": false,
       "root": "root"
      }
     },
     "output_type": "execute_result"
    }
   ],
   "source": [
    "from IPython.display import JSON\n",
    "\n",
    "product = response.json()[\"features\"][0]\n",
    "JSON(product)"
   ]
  },
  {
   "cell_type": "markdown",
   "id": "565f3862-7ba2-4971-bf66-e6171fcf4d30",
   "metadata": {},
   "source": [
    "## Download\n",
    "\n",
    "The product metadata contains the link to download it. We can use that link to download the selected product.\n",
    "In this case we download the first product returned by our search."
   ]
  },
  {
   "cell_type": "code",
   "execution_count": 13,
   "id": "fc08ec47-d53e-43b2-adb5-cf65387a9319",
   "metadata": {
    "tags": []
   },
   "outputs": [
    {
     "name": "stdout",
     "output_type": "stream",
     "text": [
      "https://hda-download.lumi.data.destination-earth.eu/data/external_fdp/EO.EUM.DAT.SENTINEL-3.OL_1_ERR___/S3B_OL_1_ERR____20240625T083313_20240625T091737_20240921T223114_2664_094_278______MAR_R_NT_004/downloadLink\n",
      "S3B_OL_1_ERR____20240625T083313_20240625T091737_20240921T223114_2664_094_278______MAR_R_NT_004\n",
      "downloading S3B_OL_1_ERR____20240625T083313_20240625T091737_20240921T223114_2664_094_278______MAR_R_NT_004\n"
     ]
    },
    {
     "name": "stderr",
     "output_type": "stream",
     "text": [
      "924MB [00:02, 454MB/s] \n"
     ]
    }
   ],
   "source": [
    "from tqdm import tqdm\n",
    "import time\n",
    "\n",
    "assets = [\"downloadLink\"]\n",
    "\n",
    "for asset in assets:\n",
    "    download_url = product[\"assets\"][asset][\"href\"]\n",
    "    print(download_url)\n",
    "    filename = product[\"id\"]\n",
    "    print(filename)\n",
    "    response = requests.get(download_url, headers=auth_headers)\n",
    "    total_size = int(response.headers.get(\"content-length\", 0))\n",
    "\n",
    "    print(f\"downloading {filename}\")\n",
    "\n",
    "    with tqdm(total=total_size, unit=\"B\", unit_scale=True) as progress_bar:\n",
    "        with open(filename, 'wb') as f:\n",
    "            for data in response.iter_content(1024):\n",
    "                progress_bar.update(len(data))\n",
    "                f.write(data)"
   ]
  },
  {
   "cell_type": "markdown",
   "id": "6e69f6f0-6e8d-4e33-b7ff-f5dcbc7daf62",
   "metadata": {},
   "source": [
    "### Unfold the product "
   ]
  },
  {
   "cell_type": "code",
   "execution_count": 14,
   "id": "f692512b-32da-444b-bbeb-6b7e629d261f",
   "metadata": {
    "tags": []
   },
   "outputs": [],
   "source": [
    "del response\n",
    "import os\n",
    "import zipfile\n",
    "\n",
    "zf=zipfile.ZipFile(filename)\n",
    "with zipfile.ZipFile(filename, 'r') as zip_ref:\n",
    "    zip_ref.extractall('.')"
   ]
  },
  {
   "cell_type": "markdown",
   "id": "c1de518e-4ddf-4915-8c55-19cec2eb0bd8",
   "metadata": {},
   "source": [
    "# Satpy\n"
   ]
  },
  {
   "cell_type": "markdown",
   "id": "569c327f-287d-4224-b579-8521c712315a",
   "metadata": {},
   "source": [
    "The Python package satpy supports reading and loading data from many input files. \n",
    "\n",
    "Below the installation and import of useful modules and packages."
   ]
  },
  {
   "cell_type": "code",
   "execution_count": 15,
   "id": "ad054d40-935f-4a17-8c97-69b58fb188a8",
   "metadata": {
    "tags": []
   },
   "outputs": [
    {
     "name": "stdout",
     "output_type": "stream",
     "text": [
      "Note: you may need to restart the kernel to use updated packages.\n"
     ]
    }
   ],
   "source": [
    "pip install --quiet satpy pyspectral"
   ]
  },
  {
   "cell_type": "code",
   "execution_count": 16,
   "id": "82429495-0228-4f4a-bf37-fbc3f61f0773",
   "metadata": {
    "tags": []
   },
   "outputs": [],
   "source": [
    "from datetime import datetime\n",
    "from satpy import find_files_and_readers\n",
    "from satpy.scene import Scene\n",
    "from satpy.composites import GenericCompositor\n",
    "from satpy.writers import to_image\n",
    "from satpy.resample import get_area_def\n",
    "from satpy import available_readers\n",
    "\n",
    "import pyresample\n",
    "import pyspectral\n",
    "\n",
    "import warnings\n",
    "warnings.filterwarnings(\"ignore\")\n",
    "warnings.simplefilter(action = \"ignore\", category = RuntimeWarning)"
   ]
  },
  {
   "cell_type": "markdown",
   "id": "69ff71ed-d8ed-4a2b-ace7-3e14a63f1070",
   "metadata": {},
   "source": [
    "### Read data\n",
    "\n",
    "We can read the downloaded data using the \"olci_l1b\" satpy reader"
   ]
  },
  {
   "cell_type": "code",
   "execution_count": 17,
   "id": "4916695e-e04f-4ce3-8c14-7cfc62645d77",
   "metadata": {
    "tags": []
   },
   "outputs": [
    {
     "data": {
      "text/plain": [
       "['Oa01',\n",
       " 'Oa02',\n",
       " 'Oa03',\n",
       " 'Oa04',\n",
       " 'Oa05',\n",
       " 'Oa06',\n",
       " 'Oa07',\n",
       " 'Oa08',\n",
       " 'Oa09',\n",
       " 'Oa10',\n",
       " 'Oa11',\n",
       " 'Oa12',\n",
       " 'Oa13',\n",
       " 'Oa14',\n",
       " 'Oa15',\n",
       " 'Oa16',\n",
       " 'Oa17',\n",
       " 'Oa18',\n",
       " 'Oa19',\n",
       " 'Oa20',\n",
       " 'Oa21',\n",
       " 'altitude',\n",
       " 'humidity',\n",
       " 'latitude',\n",
       " 'longitude',\n",
       " 'mask',\n",
       " 'quality_flags',\n",
       " 'satellite_azimuth_angle',\n",
       " 'satellite_zenith_angle',\n",
       " 'sea_level_pressure',\n",
       " 'solar_azimuth_angle',\n",
       " 'solar_zenith_angle',\n",
       " 'total_columnar_water_vapour',\n",
       " 'total_ozone']"
      ]
     },
     "execution_count": 17,
     "metadata": {},
     "output_type": "execute_result"
    }
   ],
   "source": [
    "\n",
    "\n",
    "files = find_files_and_readers(sensor=\"olci\",\n",
    "                               start_time=datetime(2024, 6, 25, 0, 0),\n",
    "                               end_time=datetime(2024, 6, 30, 0, 0),\n",
    "                               base_dir=\".\",\n",
    "                               reader=\"olci_l1b\")\n",
    "\n",
    "scn = Scene(filenames=files)\n",
    "# print available datasets\n",
    "scn.available_dataset_names()"
   ]
  },
  {
   "cell_type": "markdown",
   "id": "a860b9a4-049a-41ab-ba7d-5395c6530134",
   "metadata": {},
   "source": [
    "We can print the available datasets for the loaded scene."
   ]
  },
  {
   "cell_type": "markdown",
   "id": "f60fb64c-41b9-48c8-9424-3b71592d981c",
   "metadata": {},
   "source": [
    "With the function load(), you can specify an individual band by name. If you then select the loaded band, you see the xarray.DataArray band object"
   ]
  },
  {
   "cell_type": "code",
   "execution_count": 18,
   "id": "7aa4b1b1-5f80-4373-b241-6f54534ab226",
   "metadata": {
    "tags": []
   },
   "outputs": [
    {
     "data": {
      "text/html": [
       "<div><svg style=\"position: absolute; width: 0; height: 0; overflow: hidden\">\n",
       "<defs>\n",
       "<symbol id=\"icon-database\" viewBox=\"0 0 32 32\">\n",
       "<path d=\"M16 0c-8.837 0-16 2.239-16 5v4c0 2.761 7.163 5 16 5s16-2.239 16-5v-4c0-2.761-7.163-5-16-5z\"></path>\n",
       "<path d=\"M16 17c-8.837 0-16-2.239-16-5v6c0 2.761 7.163 5 16 5s16-2.239 16-5v-6c0 2.761-7.163 5-16 5z\"></path>\n",
       "<path d=\"M16 26c-8.837 0-16-2.239-16-5v6c0 2.761 7.163 5 16 5s16-2.239 16-5v-6c0 2.761-7.163 5-16 5z\"></path>\n",
       "</symbol>\n",
       "<symbol id=\"icon-file-text2\" viewBox=\"0 0 32 32\">\n",
       "<path d=\"M28.681 7.159c-0.694-0.947-1.662-2.053-2.724-3.116s-2.169-2.030-3.116-2.724c-1.612-1.182-2.393-1.319-2.841-1.319h-15.5c-1.378 0-2.5 1.121-2.5 2.5v27c0 1.378 1.122 2.5 2.5 2.5h23c1.378 0 2.5-1.122 2.5-2.5v-19.5c0-0.448-0.137-1.23-1.319-2.841zM24.543 5.457c0.959 0.959 1.712 1.825 2.268 2.543h-4.811v-4.811c0.718 0.556 1.584 1.309 2.543 2.268zM28 29.5c0 0.271-0.229 0.5-0.5 0.5h-23c-0.271 0-0.5-0.229-0.5-0.5v-27c0-0.271 0.229-0.5 0.5-0.5 0 0 15.499-0 15.5 0v7c0 0.552 0.448 1 1 1h7v19.5z\"></path>\n",
       "<path d=\"M23 26h-14c-0.552 0-1-0.448-1-1s0.448-1 1-1h14c0.552 0 1 0.448 1 1s-0.448 1-1 1z\"></path>\n",
       "<path d=\"M23 22h-14c-0.552 0-1-0.448-1-1s0.448-1 1-1h14c0.552 0 1 0.448 1 1s-0.448 1-1 1z\"></path>\n",
       "<path d=\"M23 18h-14c-0.552 0-1-0.448-1-1s0.448-1 1-1h14c0.552 0 1 0.448 1 1s-0.448 1-1 1z\"></path>\n",
       "</symbol>\n",
       "</defs>\n",
       "</svg>\n",
       "<style>/* CSS stylesheet for displaying xarray objects in jupyterlab.\n",
       " *\n",
       " */\n",
       "\n",
       ":root {\n",
       "  --xr-font-color0: var(--jp-content-font-color0, rgba(0, 0, 0, 1));\n",
       "  --xr-font-color2: var(--jp-content-font-color2, rgba(0, 0, 0, 0.54));\n",
       "  --xr-font-color3: var(--jp-content-font-color3, rgba(0, 0, 0, 0.38));\n",
       "  --xr-border-color: var(--jp-border-color2, #e0e0e0);\n",
       "  --xr-disabled-color: var(--jp-layout-color3, #bdbdbd);\n",
       "  --xr-background-color: var(--jp-layout-color0, white);\n",
       "  --xr-background-color-row-even: var(--jp-layout-color1, white);\n",
       "  --xr-background-color-row-odd: var(--jp-layout-color2, #eeeeee);\n",
       "}\n",
       "\n",
       "html[theme=\"dark\"],\n",
       "html[data-theme=\"dark\"],\n",
       "body[data-theme=\"dark\"],\n",
       "body.vscode-dark {\n",
       "  --xr-font-color0: rgba(255, 255, 255, 1);\n",
       "  --xr-font-color2: rgba(255, 255, 255, 0.54);\n",
       "  --xr-font-color3: rgba(255, 255, 255, 0.38);\n",
       "  --xr-border-color: #1f1f1f;\n",
       "  --xr-disabled-color: #515151;\n",
       "  --xr-background-color: #111111;\n",
       "  --xr-background-color-row-even: #111111;\n",
       "  --xr-background-color-row-odd: #313131;\n",
       "}\n",
       "\n",
       ".xr-wrap {\n",
       "  display: block !important;\n",
       "  min-width: 300px;\n",
       "  max-width: 700px;\n",
       "}\n",
       "\n",
       ".xr-text-repr-fallback {\n",
       "  /* fallback to plain text repr when CSS is not injected (untrusted notebook) */\n",
       "  display: none;\n",
       "}\n",
       "\n",
       ".xr-header {\n",
       "  padding-top: 6px;\n",
       "  padding-bottom: 6px;\n",
       "  margin-bottom: 4px;\n",
       "  border-bottom: solid 1px var(--xr-border-color);\n",
       "}\n",
       "\n",
       ".xr-header > div,\n",
       ".xr-header > ul {\n",
       "  display: inline;\n",
       "  margin-top: 0;\n",
       "  margin-bottom: 0;\n",
       "}\n",
       "\n",
       ".xr-obj-type,\n",
       ".xr-array-name {\n",
       "  margin-left: 2px;\n",
       "  margin-right: 10px;\n",
       "}\n",
       "\n",
       ".xr-obj-type {\n",
       "  color: var(--xr-font-color2);\n",
       "}\n",
       "\n",
       ".xr-sections {\n",
       "  padding-left: 0 !important;\n",
       "  display: grid;\n",
       "  grid-template-columns: 150px auto auto 1fr 0 20px 0 20px;\n",
       "}\n",
       "\n",
       ".xr-section-item {\n",
       "  display: contents;\n",
       "}\n",
       "\n",
       ".xr-section-item input {\n",
       "  display: inline-block;\n",
       "  opacity: 0;\n",
       "  height: 0;\n",
       "}\n",
       "\n",
       ".xr-section-item input + label {\n",
       "  color: var(--xr-disabled-color);\n",
       "}\n",
       "\n",
       ".xr-section-item input:enabled + label {\n",
       "  cursor: pointer;\n",
       "  color: var(--xr-font-color2);\n",
       "}\n",
       "\n",
       ".xr-section-item input:focus + label {\n",
       "  border: 2px solid var(--xr-font-color0);\n",
       "}\n",
       "\n",
       ".xr-section-item input:enabled + label:hover {\n",
       "  color: var(--xr-font-color0);\n",
       "}\n",
       "\n",
       ".xr-section-summary {\n",
       "  grid-column: 1;\n",
       "  color: var(--xr-font-color2);\n",
       "  font-weight: 500;\n",
       "}\n",
       "\n",
       ".xr-section-summary > span {\n",
       "  display: inline-block;\n",
       "  padding-left: 0.5em;\n",
       "}\n",
       "\n",
       ".xr-section-summary-in:disabled + label {\n",
       "  color: var(--xr-font-color2);\n",
       "}\n",
       "\n",
       ".xr-section-summary-in + label:before {\n",
       "  display: inline-block;\n",
       "  content: \"►\";\n",
       "  font-size: 11px;\n",
       "  width: 15px;\n",
       "  text-align: center;\n",
       "}\n",
       "\n",
       ".xr-section-summary-in:disabled + label:before {\n",
       "  color: var(--xr-disabled-color);\n",
       "}\n",
       "\n",
       ".xr-section-summary-in:checked + label:before {\n",
       "  content: \"▼\";\n",
       "}\n",
       "\n",
       ".xr-section-summary-in:checked + label > span {\n",
       "  display: none;\n",
       "}\n",
       "\n",
       ".xr-section-summary,\n",
       ".xr-section-inline-details {\n",
       "  padding-top: 4px;\n",
       "  padding-bottom: 4px;\n",
       "}\n",
       "\n",
       ".xr-section-inline-details {\n",
       "  grid-column: 2 / -1;\n",
       "}\n",
       "\n",
       ".xr-section-details {\n",
       "  display: none;\n",
       "  grid-column: 1 / -1;\n",
       "  margin-bottom: 5px;\n",
       "}\n",
       "\n",
       ".xr-section-summary-in:checked ~ .xr-section-details {\n",
       "  display: contents;\n",
       "}\n",
       "\n",
       ".xr-array-wrap {\n",
       "  grid-column: 1 / -1;\n",
       "  display: grid;\n",
       "  grid-template-columns: 20px auto;\n",
       "}\n",
       "\n",
       ".xr-array-wrap > label {\n",
       "  grid-column: 1;\n",
       "  vertical-align: top;\n",
       "}\n",
       "\n",
       ".xr-preview {\n",
       "  color: var(--xr-font-color3);\n",
       "}\n",
       "\n",
       ".xr-array-preview,\n",
       ".xr-array-data {\n",
       "  padding: 0 5px !important;\n",
       "  grid-column: 2;\n",
       "}\n",
       "\n",
       ".xr-array-data,\n",
       ".xr-array-in:checked ~ .xr-array-preview {\n",
       "  display: none;\n",
       "}\n",
       "\n",
       ".xr-array-in:checked ~ .xr-array-data,\n",
       ".xr-array-preview {\n",
       "  display: inline-block;\n",
       "}\n",
       "\n",
       ".xr-dim-list {\n",
       "  display: inline-block !important;\n",
       "  list-style: none;\n",
       "  padding: 0 !important;\n",
       "  margin: 0;\n",
       "}\n",
       "\n",
       ".xr-dim-list li {\n",
       "  display: inline-block;\n",
       "  padding: 0;\n",
       "  margin: 0;\n",
       "}\n",
       "\n",
       ".xr-dim-list:before {\n",
       "  content: \"(\";\n",
       "}\n",
       "\n",
       ".xr-dim-list:after {\n",
       "  content: \")\";\n",
       "}\n",
       "\n",
       ".xr-dim-list li:not(:last-child):after {\n",
       "  content: \",\";\n",
       "  padding-right: 5px;\n",
       "}\n",
       "\n",
       ".xr-has-index {\n",
       "  font-weight: bold;\n",
       "}\n",
       "\n",
       ".xr-var-list,\n",
       ".xr-var-item {\n",
       "  display: contents;\n",
       "}\n",
       "\n",
       ".xr-var-item > div,\n",
       ".xr-var-item label,\n",
       ".xr-var-item > .xr-var-name span {\n",
       "  background-color: var(--xr-background-color-row-even);\n",
       "  margin-bottom: 0;\n",
       "}\n",
       "\n",
       ".xr-var-item > .xr-var-name:hover span {\n",
       "  padding-right: 5px;\n",
       "}\n",
       "\n",
       ".xr-var-list > li:nth-child(odd) > div,\n",
       ".xr-var-list > li:nth-child(odd) > label,\n",
       ".xr-var-list > li:nth-child(odd) > .xr-var-name span {\n",
       "  background-color: var(--xr-background-color-row-odd);\n",
       "}\n",
       "\n",
       ".xr-var-name {\n",
       "  grid-column: 1;\n",
       "}\n",
       "\n",
       ".xr-var-dims {\n",
       "  grid-column: 2;\n",
       "}\n",
       "\n",
       ".xr-var-dtype {\n",
       "  grid-column: 3;\n",
       "  text-align: right;\n",
       "  color: var(--xr-font-color2);\n",
       "}\n",
       "\n",
       ".xr-var-preview {\n",
       "  grid-column: 4;\n",
       "}\n",
       "\n",
       ".xr-index-preview {\n",
       "  grid-column: 2 / 5;\n",
       "  color: var(--xr-font-color2);\n",
       "}\n",
       "\n",
       ".xr-var-name,\n",
       ".xr-var-dims,\n",
       ".xr-var-dtype,\n",
       ".xr-preview,\n",
       ".xr-attrs dt {\n",
       "  white-space: nowrap;\n",
       "  overflow: hidden;\n",
       "  text-overflow: ellipsis;\n",
       "  padding-right: 10px;\n",
       "}\n",
       "\n",
       ".xr-var-name:hover,\n",
       ".xr-var-dims:hover,\n",
       ".xr-var-dtype:hover,\n",
       ".xr-attrs dt:hover {\n",
       "  overflow: visible;\n",
       "  width: auto;\n",
       "  z-index: 1;\n",
       "}\n",
       "\n",
       ".xr-var-attrs,\n",
       ".xr-var-data,\n",
       ".xr-index-data {\n",
       "  display: none;\n",
       "  background-color: var(--xr-background-color) !important;\n",
       "  padding-bottom: 5px !important;\n",
       "}\n",
       "\n",
       ".xr-var-attrs-in:checked ~ .xr-var-attrs,\n",
       ".xr-var-data-in:checked ~ .xr-var-data,\n",
       ".xr-index-data-in:checked ~ .xr-index-data {\n",
       "  display: block;\n",
       "}\n",
       "\n",
       ".xr-var-data > table {\n",
       "  float: right;\n",
       "}\n",
       "\n",
       ".xr-var-name span,\n",
       ".xr-var-data,\n",
       ".xr-index-name div,\n",
       ".xr-index-data,\n",
       ".xr-attrs {\n",
       "  padding-left: 25px !important;\n",
       "}\n",
       "\n",
       ".xr-attrs,\n",
       ".xr-var-attrs,\n",
       ".xr-var-data,\n",
       ".xr-index-data {\n",
       "  grid-column: 1 / -1;\n",
       "}\n",
       "\n",
       "dl.xr-attrs {\n",
       "  padding: 0;\n",
       "  margin: 0;\n",
       "  display: grid;\n",
       "  grid-template-columns: 125px auto;\n",
       "}\n",
       "\n",
       ".xr-attrs dt,\n",
       ".xr-attrs dd {\n",
       "  padding: 0;\n",
       "  margin: 0;\n",
       "  float: left;\n",
       "  padding-right: 10px;\n",
       "  width: auto;\n",
       "}\n",
       "\n",
       ".xr-attrs dt {\n",
       "  font-weight: normal;\n",
       "  grid-column: 1;\n",
       "}\n",
       "\n",
       ".xr-attrs dt:hover span {\n",
       "  display: inline-block;\n",
       "  background: var(--xr-background-color);\n",
       "  padding-right: 10px;\n",
       "}\n",
       "\n",
       ".xr-attrs dd {\n",
       "  grid-column: 2;\n",
       "  white-space: pre-wrap;\n",
       "  word-break: break-all;\n",
       "}\n",
       "\n",
       ".xr-icon-database,\n",
       ".xr-icon-file-text2,\n",
       ".xr-no-icon {\n",
       "  display: inline-block;\n",
       "  vertical-align: middle;\n",
       "  width: 1em;\n",
       "  height: 1.5em !important;\n",
       "  stroke-width: 0;\n",
       "  stroke: currentColor;\n",
       "  fill: currentColor;\n",
       "}\n",
       "</style><pre class='xr-text-repr-fallback'>&lt;xarray.DataArray &#x27;array-2b90672e852113e4850781a40e69cf44&#x27; (y: 15137, x: 1217)&gt; Size: 74MB\n",
       "dask.array&lt;array, shape=(15137, 1217), dtype=float32, chunksize=(4096, 1217), chunktype=numpy.ndarray&gt;\n",
       "Coordinates:\n",
       "    crs      object 8B +proj=longlat +ellps=WGS84 +type=crs\n",
       "Dimensions without coordinates: y, x\n",
       "Attributes: (12/16)\n",
       "    long_name:            Relative humidity at 950 hPa\n",
       "    standard_name:        relative_humidity\n",
       "    units:                %\n",
       "    valid_max:            100.0\n",
       "    valid_min:            0.0\n",
       "    platform_name:        Sentinel-3B\n",
       "    ...                   ...\n",
       "    start_time:           2024-06-25 08:33:13\n",
       "    end_time:             2024-06-25 09:17:37\n",
       "    reader:               olci_l1b\n",
       "    area:                 Shape: (15137, 1217)\\nLons: &lt;xarray.DataArray &#x27;long...\n",
       "    _satpy_id:            DataID(name=&#x27;humidity&#x27;, resolution=300, modifiers=())\n",
       "    ancillary_variables:  []</pre><div class='xr-wrap' style='display:none'><div class='xr-header'><div class='xr-obj-type'>xarray.DataArray</div><div class='xr-array-name'>'array-2b90672e852113e4850781a40e69cf44'</div><ul class='xr-dim-list'><li><span>y</span>: 15137</li><li><span>x</span>: 1217</li></ul></div><ul class='xr-sections'><li class='xr-section-item'><div class='xr-array-wrap'><input id='section-93143d78-be64-4079-8f95-14a72f25908e' class='xr-array-in' type='checkbox' checked><label for='section-93143d78-be64-4079-8f95-14a72f25908e' title='Show/hide data repr'><svg class='icon xr-icon-database'><use xlink:href='#icon-database'></use></svg></label><div class='xr-array-preview xr-preview'><span>dask.array&lt;chunksize=(4096, 1217), meta=np.ndarray&gt;</span></div><div class='xr-array-data'><table>\n",
       "    <tr>\n",
       "        <td>\n",
       "            <table style=\"border-collapse: collapse;\">\n",
       "                <thead>\n",
       "                    <tr>\n",
       "                        <td> </td>\n",
       "                        <th> Array </th>\n",
       "                        <th> Chunk </th>\n",
       "                    </tr>\n",
       "                </thead>\n",
       "                <tbody>\n",
       "                    \n",
       "                    <tr>\n",
       "                        <th> Bytes </th>\n",
       "                        <td> 70.27 MiB </td>\n",
       "                        <td> 19.02 MiB </td>\n",
       "                    </tr>\n",
       "                    \n",
       "                    <tr>\n",
       "                        <th> Shape </th>\n",
       "                        <td> (15137, 1217) </td>\n",
       "                        <td> (4096, 1217) </td>\n",
       "                    </tr>\n",
       "                    <tr>\n",
       "                        <th> Dask graph </th>\n",
       "                        <td colspan=\"2\"> 4 chunks in 1 graph layer </td>\n",
       "                    </tr>\n",
       "                    <tr>\n",
       "                        <th> Data type </th>\n",
       "                        <td colspan=\"2\"> float32 numpy.ndarray </td>\n",
       "                    </tr>\n",
       "                </tbody>\n",
       "            </table>\n",
       "        </td>\n",
       "        <td>\n",
       "        <svg width=\"87\" height=\"170\" style=\"stroke:rgb(0,0,0);stroke-width:1\" >\n",
       "\n",
       "  <!-- Horizontal lines -->\n",
       "  <line x1=\"0\" y1=\"0\" x2=\"37\" y2=\"0\" style=\"stroke-width:2\" />\n",
       "  <line x1=\"0\" y1=\"32\" x2=\"37\" y2=\"32\" />\n",
       "  <line x1=\"0\" y1=\"64\" x2=\"37\" y2=\"64\" />\n",
       "  <line x1=\"0\" y1=\"97\" x2=\"37\" y2=\"97\" />\n",
       "  <line x1=\"0\" y1=\"120\" x2=\"37\" y2=\"120\" style=\"stroke-width:2\" />\n",
       "\n",
       "  <!-- Vertical lines -->\n",
       "  <line x1=\"0\" y1=\"0\" x2=\"0\" y2=\"120\" style=\"stroke-width:2\" />\n",
       "  <line x1=\"37\" y1=\"0\" x2=\"37\" y2=\"120\" style=\"stroke-width:2\" />\n",
       "\n",
       "  <!-- Colored Rectangle -->\n",
       "  <polygon points=\"0.0,0.0 37.35555986282369,0.0 37.35555986282369,120.0 0.0,120.0\" style=\"fill:#ECB172A0;stroke-width:0\"/>\n",
       "\n",
       "  <!-- Text -->\n",
       "  <text x=\"18.677780\" y=\"140.000000\" font-size=\"1.0rem\" font-weight=\"100\" text-anchor=\"middle\" >1217</text>\n",
       "  <text x=\"57.355560\" y=\"60.000000\" font-size=\"1.0rem\" font-weight=\"100\" text-anchor=\"middle\" transform=\"rotate(-90,57.355560,60.000000)\">15137</text>\n",
       "</svg>\n",
       "        </td>\n",
       "    </tr>\n",
       "</table></div></div></li><li class='xr-section-item'><input id='section-58b71d4e-c81d-4bf2-b3ee-455a50d51095' class='xr-section-summary-in' type='checkbox'  checked><label for='section-58b71d4e-c81d-4bf2-b3ee-455a50d51095' class='xr-section-summary' >Coordinates: <span>(1)</span></label><div class='xr-section-inline-details'></div><div class='xr-section-details'><ul class='xr-var-list'><li class='xr-var-item'><div class='xr-var-name'><span>crs</span></div><div class='xr-var-dims'>()</div><div class='xr-var-dtype'>object</div><div class='xr-var-preview xr-preview'>+proj=longlat +ellps=WGS84 +type...</div><input id='attrs-37b2ab58-03ed-4c88-aa83-9514f7ea20ba' class='xr-var-attrs-in' type='checkbox' disabled><label for='attrs-37b2ab58-03ed-4c88-aa83-9514f7ea20ba' title='Show/Hide attributes'><svg class='icon xr-icon-file-text2'><use xlink:href='#icon-file-text2'></use></svg></label><input id='data-c3832667-bf2b-45ad-860d-188a7b478b61' class='xr-var-data-in' type='checkbox'><label for='data-c3832667-bf2b-45ad-860d-188a7b478b61' title='Show/Hide data repr'><svg class='icon xr-icon-database'><use xlink:href='#icon-database'></use></svg></label><div class='xr-var-attrs'><dl class='xr-attrs'></dl></div><div class='xr-var-data'><pre>array(&lt;Geographic 2D CRS: +proj=longlat +ellps=WGS84 +type=crs&gt;\n",
       "Name: unknown\n",
       "Axis Info [ellipsoidal]:\n",
       "- lon[east]: Longitude (degree)\n",
       "- lat[north]: Latitude (degree)\n",
       "Area of Use:\n",
       "- undefined\n",
       "Datum: Unknown based on WGS 84 ellipsoid\n",
       "- Ellipsoid: WGS 84\n",
       "- Prime Meridian: Greenwich\n",
       ", dtype=object)</pre></div></li></ul></div></li><li class='xr-section-item'><input id='section-352f075f-7eae-4711-9e75-1adf18c3862b' class='xr-section-summary-in' type='checkbox' disabled ><label for='section-352f075f-7eae-4711-9e75-1adf18c3862b' class='xr-section-summary'  title='Expand/collapse section'>Indexes: <span>(0)</span></label><div class='xr-section-inline-details'></div><div class='xr-section-details'><ul class='xr-var-list'></ul></div></li><li class='xr-section-item'><input id='section-314fd489-38c4-4ef0-bbcf-c8156292f0a7' class='xr-section-summary-in' type='checkbox'  ><label for='section-314fd489-38c4-4ef0-bbcf-c8156292f0a7' class='xr-section-summary' >Attributes: <span>(16)</span></label><div class='xr-section-inline-details'></div><div class='xr-section-details'><dl class='xr-attrs'><dt><span>long_name :</span></dt><dd>Relative humidity at 950 hPa</dd><dt><span>standard_name :</span></dt><dd>relative_humidity</dd><dt><span>units :</span></dt><dd>%</dd><dt><span>valid_max :</span></dt><dd>100.0</dd><dt><span>valid_min :</span></dt><dd>0.0</dd><dt><span>platform_name :</span></dt><dd>Sentinel-3B</dd><dt><span>sensor :</span></dt><dd>olci</dd><dt><span>name :</span></dt><dd>humidity</dd><dt><span>resolution :</span></dt><dd>300</dd><dt><span>modifiers :</span></dt><dd>()</dd><dt><span>start_time :</span></dt><dd>2024-06-25 08:33:13</dd><dt><span>end_time :</span></dt><dd>2024-06-25 09:17:37</dd><dt><span>reader :</span></dt><dd>olci_l1b</dd><dt><span>area :</span></dt><dd>Shape: (15137, 1217)\n",
       "Lons: &lt;xarray.DataArray &#x27;longitude&#x27; (y: 15137, x: 1217)&gt; Size: 147MB\n",
       "dask.array&lt;open_dataset-longitude, shape=(15137, 1217), dtype=float64, chunksize=(4096, 1217), chunktype=numpy.ndarray&gt;\n",
       "Dimensions without coordinates: y, x\n",
       "Attributes: (12/13)\n",
       "    long_name:            DEM corrected longitude\n",
       "    standard_name:        longitude\n",
       "    units:                degrees_east\n",
       "    valid_max:            180000000\n",
       "    valid_min:            -180000000\n",
       "    start_time:           2024-06-25 08:33:13\n",
       "    ...                   ...\n",
       "    reader:               olci_l1b\n",
       "    name:                 longitude\n",
       "    resolution:           300\n",
       "    modifiers:            ()\n",
       "    _satpy_id:            DataID(name=&#x27;longitude&#x27;, resolution=300, modifiers=())\n",
       "    ancillary_variables:  []\n",
       "Lats: &lt;xarray.DataArray &#x27;latitude&#x27; (y: 15137, x: 1217)&gt; Size: 147MB\n",
       "dask.array&lt;open_dataset-latitude, shape=(15137, 1217), dtype=float64, chunksize=(4096, 1217), chunktype=numpy.ndarray&gt;\n",
       "Dimensions without coordinates: y, x\n",
       "Attributes: (12/13)\n",
       "    long_name:            DEM corrected latitude\n",
       "    standard_name:        latitude\n",
       "    units:                degrees_north\n",
       "    valid_max:            90000000\n",
       "    valid_min:            -90000000\n",
       "    start_time:           2024-06-25 08:33:13\n",
       "    ...                   ...\n",
       "    reader:               olci_l1b\n",
       "    name:                 latitude\n",
       "    resolution:           300\n",
       "    modifiers:            ()\n",
       "    _satpy_id:            DataID(name=&#x27;latitude&#x27;, resolution=300, modifiers=())\n",
       "    ancillary_variables:  []</dd><dt><span>_satpy_id :</span></dt><dd>DataID(name=&#x27;humidity&#x27;, resolution=300, modifiers=())</dd><dt><span>ancillary_variables :</span></dt><dd>[]</dd></dl></div></li></ul></div></div>"
      ],
      "text/plain": [
       "<xarray.DataArray 'array-2b90672e852113e4850781a40e69cf44' (y: 15137, x: 1217)> Size: 74MB\n",
       "dask.array<array, shape=(15137, 1217), dtype=float32, chunksize=(4096, 1217), chunktype=numpy.ndarray>\n",
       "Coordinates:\n",
       "    crs      object 8B +proj=longlat +ellps=WGS84 +type=crs\n",
       "Dimensions without coordinates: y, x\n",
       "Attributes: (12/16)\n",
       "    long_name:            Relative humidity at 950 hPa\n",
       "    standard_name:        relative_humidity\n",
       "    units:                %\n",
       "    valid_max:            100.0\n",
       "    valid_min:            0.0\n",
       "    platform_name:        Sentinel-3B\n",
       "    ...                   ...\n",
       "    start_time:           2024-06-25 08:33:13\n",
       "    end_time:             2024-06-25 09:17:37\n",
       "    reader:               olci_l1b\n",
       "    area:                 Shape: (15137, 1217)\\nLons: <xarray.DataArray 'long...\n",
       "    _satpy_id:            DataID(name='humidity', resolution=300, modifiers=())\n",
       "    ancillary_variables:  []"
      ]
     },
     "execution_count": 18,
     "metadata": {},
     "output_type": "execute_result"
    }
   ],
   "source": [
    "# load bands \n",
    "scn.load(['humidity','total_ozone'])\n",
    "scn['humidity']"
   ]
  },
  {
   "cell_type": "markdown",
   "id": "019089cd-16b6-4054-bbde-d48e1b2c42e6",
   "metadata": {},
   "source": [
    "### Visualize data\n",
    "\n",
    "We can visualize the available datasets on a map."
   ]
  },
  {
   "cell_type": "code",
   "execution_count": 19,
   "id": "2e7ff0c4-c40c-41b9-b834-538cc5589d4d",
   "metadata": {
    "tags": []
   },
   "outputs": [],
   "source": [
    "import matplotlib.pyplot as plt\n",
    "from pyresample.kd_tree import resample_nearest\n",
    "from pyresample.geometry import AreaDefinition\n"
   ]
  },
  {
   "cell_type": "code",
   "execution_count": 20,
   "id": "77982723-0fdc-4338-b689-c95562dcff13",
   "metadata": {
    "tags": []
   },
   "outputs": [
    {
     "data": {
      "image/png": "[encoded data removed]",
      "text/plain": [
       "<Figure size 1500x1500 with 2 Axes>"
      ]
     },
     "metadata": {},
     "output_type": "display_data"
    }
   ],
   "source": [
    "#area definition\n",
    "area_id = 'worldeqc30km'\n",
    "description = 'World in 3km, platecarree'\n",
    "proj_id = 'eqc'\n",
    "projection = {'proj': 'eqc', 'ellps': 'WGS84'}\n",
    "width = 820\n",
    "height = 410\n",
    "area_extent = (-20037508.3428, -10018754.1714, 20037508.3428, 10018754.1714)\n",
    "area_def = AreaDefinition(area_id, description, proj_id, projection,\n",
    "                          width, height, area_extent)\n",
    "\n",
    "#scene \n",
    "lons, lats = scn[\"total_ozone\"].area.get_lonlats()\n",
    "swath_def = pyresample.geometry.SwathDefinition(lons, lats)\n",
    "total_ozone = scn[\"total_ozone\"].data.compute()\n",
    "result = resample_nearest(swath_def, total_ozone, area_def, radius_of_influence=20000, fill_value=None)\n",
    "\n",
    "#cartopy\n",
    "plt.rcParams['figure.figsize'] = [15, 15]\n",
    "crs = area_def.to_cartopy_crs()\n",
    "fig, ax = plt.subplots(subplot_kw=dict(projection=crs))\n",
    "coastlines = ax.coastlines()  \n",
    "ax.set_global()\n",
    "\n",
    "#plot\n",
    "img = plt.imshow(result, transform=crs, extent=crs.bounds, origin='upper')\n",
    "# Calculate (height_of_image / width_of_image)\n",
    "im_ratio = result.shape[0]/result.shape[1]\n",
    " \n",
    "# Plot vertical colorbar\n",
    "plt.colorbar(fraction=0.047*im_ratio)\n",
    "plt.show()"
   ]
  }
 ],
 "metadata": {
  "kernelspec": {
   "display_name": "Python DEDL",
   "language": "python",
   "name": "python_dedl"
  },
  "language_info": {
   "codemirror_mode": {
    "name": "ipython",
    "version": 3
   },
   "file_extension": ".py",
   "mimetype": "text/x-python",
   "name": "python",
   "nbconvert_exporter": "python",
   "pygments_lexer": "ipython3",
   "version": "3.11.4"
  }
 },
 "nbformat": 4,
 "nbformat_minor": 5
}
