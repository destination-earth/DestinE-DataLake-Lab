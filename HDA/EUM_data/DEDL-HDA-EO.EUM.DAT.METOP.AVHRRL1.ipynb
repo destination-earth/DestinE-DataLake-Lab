{
 "cells": [
  {
   "cell_type": "markdown",
   "id": "8c5b411e-2569-407f-824d-75fa1eff153d",
   "metadata": {},
   "source": [
    "![](https://github.com/destination-earth/DestinE-DataLake-Lab/blob/main/img/DestinE-banner.jpg?raw=true)"
   ]
  },
  {
   "cell_type": "markdown",
   "id": "411bcbb9-189f-43e1-bd14-899affce1928",
   "metadata": {},
   "source": [
    "**Copyright:** 2025 EUMETSAT <br>\n",
    "**License:** MIT <br>\n",
    "**Authors:** Serena Avolio (EUMETSAT/Starion)"
   ]
  },
  {
   "cell_type": "markdown",
   "id": "915f8695-29f1-44b4-bf74-b3ff6642b363",
   "metadata": {},
   "source": [
    "<div class=\"alert alert-block alert-success\">\n",
    "<h3>Destination Earth - AVHRR Level 1B Metop Global - Data Access using DEDL HDA</h3></div>"
   ]
  },
  {
   "cell_type": "markdown",
   "id": "5f353a8c-842e-4964-958e-2e111413304d",
   "metadata": {
    "tags": []
   },
   "source": [
    "<div class=\"alert alert-block alert-warning\">\n",
    "<b> Prerequisites: </b>\n",
    "   <li>To search and access DEDL data a <a href=\"https://platform.destine.eu/\"> DestinE user account</a> is needed</li>\n",
    "<b> References: </b>\n",
    "    <li><a href=\"https://destine-data-lake-docs.data.destination-earth.eu/en/latest/dedl-discovery-and-data-access/Use-of-Harmonized-Data-Access/Use-of-Harmonized-Data-Access.html\">DestinE Data Lake (DEDL) Harmonized Data Access (HDA) documentation</a> </li>\n",
    "    <li> <a href=\"https://navigator.eumetsat.int/product/EO:EUM:DAT:METOP:AVHRRL1\">AVHRR Level 1B - Metop - Global</a></li>\n",
    "<b> Credit: </b><br>\n",
    "    This notebook uses <a href=\"https://github.com/pytroll/satpy\">Satpy</a> <br>\n",
    "    © 2014–2025 <a href=\"https://pytroll.github.io/\">PyTroll community</a> <br>  \n",
    "    Licensed under <a href=\"https://www.gnu.org/licenses/gpl-3.0.en.html\">PyGNU GPL v3</a>\n",
    "</div>"
   ]
  },
  {
   "cell_type": "markdown",
   "id": "0a0e734a-ae08-420f-92eb-aa1924839fb2",
   "metadata": {},
   "source": [
    "This notebook demonstrates how to search and access Metop data using HDA and how to read, process and visualize it using satpy\n",
    "\n",
    "The Advanced Very High Resolution Radiometer (AVHRR) operates at 5 different channels simultaneously in the visible and infrared bands. Channel 3 switches between 3a and 3b for daytime and nighttime. As a high-resolution imager (about 1.1 km near nadir) its main purpose is to provide cloud and surface information such as cloud coverage, cloud top temperature, surface temperature over land and sea, and vegetation or snow/ice. \n",
    "\n",
    "Throughout this notebook, you will learn:\n",
    "\n",
    "1. [Authenticate](DEDL-HDA-EO.EUM.DAT.METOP.AVHRRL1.ipynb#Authenticate): How to authenticate for searching and access *DEDL* collections. \n",
    "2. [Search](DEDL-HDA-EO.EUM.DAT.METOP.AVHRRL1.ipynb#Search):  How to search *DEDL* data using datetime and bbox filters.\n",
    "3. [Download](DEDL-HDA-EO.EUM.DAT.METOP.AVHRRL1.ipynb#Download): How to download *DEDL* data through HDA.\n",
    "4. [Read and visualize Metop AVHRR data](DEDL-HDA-EO.EUM.DAT.METOP.AVHRRL1.ipynb#Satpy): How to load process and visualize Metop AVHRR data using Satpy.\n"
   ]
  },
  {
   "cell_type": "markdown",
   "id": "46a14601-9871-4ca6-9a23-b39426dd22a4",
   "metadata": {},
   "source": [
    "# Authenticate"
   ]
  },
  {
   "cell_type": "code",
   "execution_count": 1,
   "id": "b65e90eb-6a5c-4cfc-b5e6-02e4c558fe93",
   "metadata": {
    "tags": []
   },
   "outputs": [],
   "source": [
    "import destinelab as deauth"
   ]
  },
  {
   "cell_type": "code",
   "execution_count": 2,
   "id": "63236453-f236-44a8-b3e1-763a4b91dc7f",
   "metadata": {
    "tags": []
   },
   "outputs": [],
   "source": [
    "import requests\n",
    "import json\n",
    "import os\n",
    "from getpass import getpass"
   ]
  },
  {
   "cell_type": "code",
   "execution_count": 3,
   "id": "cf52ee08-4f04-481f-9f5c-632b744d8f68",
   "metadata": {
    "tags": []
   },
   "outputs": [
    {
     "name": "stdin",
     "output_type": "stream",
     "text": [
      "Please input your DESP username or email:  eum-dedl-user\n",
      "Please input your DESP password:  ········\n"
     ]
    },
    {
     "name": "stdout",
     "output_type": "stream",
     "text": [
      "Response code: 200\n",
      "DEDL/DESP Access Token Obtained Successfully\n"
     ]
    }
   ],
   "source": [
    "DESP_USERNAME = input(\"Please input your DESP username or email: \")\n",
    "DESP_PASSWORD = getpass(\"Please input your DESP password: \")\n",
    "\n",
    "auth = deauth.AuthHandler(DESP_USERNAME, DESP_PASSWORD)\n",
    "access_token = auth.get_token()\n",
    "if access_token is not None:\n",
    "    print(\"DEDL/DESP Access Token Obtained Successfully\")\n",
    "else:\n",
    "    print(\"Failed to Obtain DEDL/DESP Access Token\")\n",
    "\n",
    "auth_headers = {\"Authorization\": f\"Bearer {access_token}\"}"
   ]
  },
  {
   "cell_type": "markdown",
   "id": "c1e16791-1a82-436d-b42f-860563594f4e",
   "metadata": {
    "tags": []
   },
   "source": [
    "#  Search"
   ]
  },
  {
   "cell_type": "markdown",
   "id": "bc0ed5bc-fd67-4c19-bf36-4a3c4c33a053",
   "metadata": {
    "tags": []
   },
   "source": [
    "## HDA endpoint\n",
    "HDA API is based on the Spatio Temporal Asset Catalog specification (STAC), it is convenient define a costant with its endpoint."
   ]
  },
  {
   "cell_type": "code",
   "execution_count": 4,
   "id": "f7d583d0-d981-41d5-a87f-3163d56476d3",
   "metadata": {
    "tags": []
   },
   "outputs": [],
   "source": [
    "HDA_STAC_ENDPOINT=\"https://hda.data.destination-earth.eu/stac/v2\""
   ]
  },
  {
   "cell_type": "code",
   "execution_count": 5,
   "id": "c6f196a8-f11f-4e77-933f-a7a7dcfc333d",
   "metadata": {
    "tags": []
   },
   "outputs": [],
   "source": [
    "COLLECTION_ID = \"EO.EUM.DAT.METOP.AVHRRL1\""
   ]
  },
  {
   "cell_type": "code",
   "execution_count": 12,
   "id": "88f3d1c0-5b3c-4312-a3f5-5d663f5a33be",
   "metadata": {
    "tags": []
   },
   "outputs": [],
   "source": [
    "search_response = requests.post(HDA_STAC_ENDPOINT+\"/search\", headers=auth_headers, json={\n",
    "        \"BBox\":  [-5 ,31,20,51],\n",
    "    \"collections\": [COLLECTION_ID],\n",
    "    \"datetime\": \"2024-07-04T11:00:00Z/2024-07-04T13:00:00Z\"\n",
    "})\n"
   ]
  },
  {
   "cell_type": "markdown",
   "id": "ed6862d9-8ff7-403e-8ced-e9a11c9a57af",
   "metadata": {},
   "source": [
    "The first item in the search results"
   ]
  },
  {
   "cell_type": "code",
   "execution_count": 13,
   "id": "e09b4c84-b38b-4ed6-a35b-f5c425ba4427",
   "metadata": {
    "tags": []
   },
   "outputs": [
    {
     "data": {
      "application/json": {
       "assets": {
        "EOPMetadata.xml": {
         "alternate": {
          "origin": {
           "href": "https://api.eumetsat.int/data/download/1.0.0/collections/EO%3AEUM%3ADAT%3AMETOP%3AAVHRRL1/products/AVHR_xxx_1B_M03_20240704095203Z_20240704113103Z_N_O_20240704112753Z/entry?name=EOPMetadata.xml",
           "mediaType": "application/xml",
           "roles": [
            "metadata"
           ],
           "title": "EOPMetadata.xml",
           "type": "Link"
          }
         },
         "href": "https://hda-download.central.data.destination-earth.eu/data/eumetsat/EO.EUM.DAT.METOP.AVHRRL1/AVHR_xxx_1B_M03_20240704095203Z_20240704113103Z_N_O_20240704112753Z/EOPMetadata.xml",
         "mediaType": "application/xml",
         "roles": [
          "metadata"
         ],
         "title": "EOPMetadata.xml",
         "type": "Link"
        },
        "downloadLink": {
         "alternate": {
          "origin": {
           "href": "https://api.eumetsat.int/data/download/1.0.0/collections/EO%3AEUM%3ADAT%3AMETOP%3AAVHRRL1/products/AVHR_xxx_1B_M03_20240704095203Z_20240704113103Z_N_O_20240704112753Z",
           "title": "Origin asset link",
           "type": "application/zip"
          }
         },
         "href": "https://hda-download.central.data.destination-earth.eu/data/eumetsat/EO.EUM.DAT.METOP.AVHRRL1/AVHR_xxx_1B_M03_20240704095203Z_20240704113103Z_N_O_20240704112753Z/downloadLink",
         "title": "Download link",
         "type": "application/zip"
        },
        "manifest.xml": {
         "alternate": {
          "origin": {
           "href": "https://api.eumetsat.int/data/download/1.0.0/collections/EO%3AEUM%3ADAT%3AMETOP%3AAVHRRL1/products/AVHR_xxx_1B_M03_20240704095203Z_20240704113103Z_N_O_20240704112753Z/entry?name=manifest.xml",
           "mediaType": "application/xml",
           "roles": [
            "metadata"
           ],
           "title": "manifest.xml",
           "type": "Link"
          }
         },
         "href": "https://hda-download.central.data.destination-earth.eu/data/eumetsat/EO.EUM.DAT.METOP.AVHRRL1/AVHR_xxx_1B_M03_20240704095203Z_20240704113103Z_N_O_20240704112753Z/manifest.xml",
         "mediaType": "application/xml",
         "roles": [
          "metadata"
         ],
         "title": "manifest.xml",
         "type": "Link"
        },
        "nat": {
         "alternate": {
          "origin": {
           "href": "https://api.eumetsat.int/data/download/1.0.0/collections/EO%3AEUM%3ADAT%3AMETOP%3AAVHRRL1/products/AVHR_xxx_1B_M03_20240704095203Z_20240704113103Z_N_O_20240704112753Z/entry?name=AVHR_xxx_1B_M03_20240704095203Z_20240704113103Z_N_O_20240704112753Z.nat",
           "mediaType": "application/octet-stream",
           "roles": [
            "auxiliary"
           ],
           "title": "AVHR_xxx_1B_M03_20240704095203Z_20240704113103Z_N_O_20240704112753Z.nat",
           "type": "Link"
          }
         },
         "href": "https://hda-download.central.data.destination-earth.eu/data/eumetsat/EO.EUM.DAT.METOP.AVHRRL1/AVHR_xxx_1B_M03_20240704095203Z_20240704113103Z_N_O_20240704112753Z/nat",
         "mediaType": "application/octet-stream",
         "roles": [
          "auxiliary"
         ],
         "title": "AVHR_xxx_1B_M03_20240704095203Z_20240704113103Z_N_O_20240704112753Z.nat",
         "type": "Link"
        }
       },
       "bbox": [
        -180,
        -90,
        180,
        90
       ],
       "collection": "EO.EUM.DAT.METOP.AVHRRL1",
       "geometry": {
        "coordinates": [
         [
          [
           -15.716,
           55.114
          ],
          [
           -15.667,
           53.295
          ],
          [
           -15.654,
           51.473
          ],
          [
           -15.673,
           49.65
          ],
          [
           -15.72,
           47.826
          ],
          [
           -15.793,
           45.998
          ],
          [
           -15.888,
           44.169
          ],
          [
           -16.004,
           42.34
          ],
          [
           -16.138,
           40.509
          ],
          [
           -16.291,
           38.675
          ],
          [
           -16.459,
           36.842
          ],
          [
           -16.643,
           35.008
          ],
          [
           -16.842,
           33.171
          ],
          [
           -17.054,
           31.333
          ],
          [
           -17.279,
           29.496
          ],
          [
           -17.516,
           27.658
          ],
          [
           -17.766,
           25.818
          ],
          [
           -18.028,
           23.978
          ],
          [
           -18.302,
           22.138
          ],
          [
           -18.587,
           20.298
          ],
          [
           -18.884,
           18.456
          ],
          [
           -19.193,
           16.616
          ],
          [
           -19.512,
           14.776
          ],
          [
           -19.844,
           12.935
          ],
          [
           -20.187,
           11.094
          ],
          [
           -20.543,
           9.255
          ],
          [
           -20.91,
           7.417
          ],
          [
           -21.29,
           5.579
          ],
          [
           -21.683,
           3.741
          ],
          [
           -22.09,
           1.906
          ],
          [
           -22.51,
           0.072
          ],
          [
           -22.945,
           -1.761
          ],
          [
           -23.395,
           -3.592
          ],
          [
           -23.861,
           -5.421
          ],
          [
           -24.343,
           -7.247
          ],
          [
           -24.842,
           -9.072
          ],
          [
           -25.36,
           -10.893
          ],
          [
           -25.897,
           -12.71
          ],
          [
           -26.455,
           -14.524
          ],
          [
           -27.035,
           -16.336
          ],
          [
           -27.637,
           -18.142
          ],
          [
           -28.264,
           -19.943
          ],
          [
           -28.918,
           -21.741
          ],
          [
           -29.601,
           -23.533
          ],
          [
           -30.313,
           -25.318
          ],
          [
           -31.058,
           -27.096
          ],
          [
           -31.839,
           -28.869
          ],
          [
           -32.658,
           -30.634
          ],
          [
           -33.518,
           -32.389
          ],
          [
           -34.423,
           -34.135
          ],
          [
           -35.377,
           -35.872
          ],
          [
           -36.384,
           -37.597
          ],
          [
           -37.449,
           -39.309
          ],
          [
           -38.578,
           -41.008
          ],
          [
           -39.776,
           -42.692
          ],
          [
           -41.051,
           -44.359
          ],
          [
           -42.41,
           -46.007
          ],
          [
           -43.862,
           -47.634
          ],
          [
           -45.416,
           -49.239
          ],
          [
           -47.084,
           -50.816
          ],
          [
           -48.876,
           -52.364
          ],
          [
           -50.807,
           -53.88
          ],
          [
           -52.891,
           -55.358
          ],
          [
           -55.142,
           -56.793
          ],
          [
           -57.579,
           -58.18
          ],
          [
           -60.219,
           -59.513
          ],
          [
           -63.079,
           -60.784
          ],
          [
           -66.177,
           -61.984
          ],
          [
           -69.527,
           -63.104
          ],
          [
           -73.143,
           -64.135
          ],
          [
           -77.029,
           -65.064
          ],
          [
           -81.185,
           -65.88
          ],
          [
           -85.598,
           -66.572
          ],
          [
           -90.243,
           -67.128
          ],
          [
           -95.08,
           -67.537
          ],
          [
           -100.058,
           -67.793
          ],
          [
           -105.113,
           -67.89
          ],
          [
           -110.174,
           -67.824
          ],
          [
           -115.172,
           -67.599
          ],
          [
           -120.041,
           -67.219
          ],
          [
           -124.727,
           -66.69
          ],
          [
           -129.187,
           -66.024
          ],
          [
           -133.395,
           -65.231
          ],
          [
           -137.335,
           -64.322
          ],
          [
           -141.002,
           -63.311
          ],
          [
           -144.404,
           -62.206
          ],
          [
           -147.55,
           -61.02
          ],
          [
           -150.455,
           -59.762
          ],
          [
           -153.136,
           -58.441
          ],
          [
           -155.611,
           -57.063
          ],
          [
           -157.898,
           -55.636
          ],
          [
           -160.012,
           -54.166
          ],
          [
           -161.972,
           -52.657
          ],
          [
           -163.79,
           -51.114
          ],
          [
           -165.482,
           -49.54
          ],
          [
           -167.057,
           -47.941
          ],
          [
           -168.528,
           -46.317
          ],
          [
           -169.905,
           -44.672
          ],
          [
           -171.195,
           -43.008
          ],
          [
           -172.408,
           -41.327
          ],
          [
           -173.55,
           -39.63
          ],
          [
           -174.627,
           -37.918
          ],
          [
           -175.645,
           -36.195
          ],
          [
           -176.608,
           -34.46
          ],
          [
           -177.523,
           -32.714
          ],
          [
           -178.392,
           -30.958
          ],
          [
           -179.218,
           -29.195
          ],
          [
           -180,
           -27.4377245
          ],
          [
           -180,
           -90
          ],
          [
           180,
           -90
          ],
          [
           180,
           -27.4377245
          ],
          [
           179.994,
           -27.424
          ],
          [
           179.242,
           -25.644
          ],
          [
           178.523,
           -23.858
          ],
          [
           177.835,
           -22.067
          ],
          [
           177.176,
           -20.27
          ],
          [
           176.544,
           -18.467
          ],
          [
           175.936,
           -16.66
          ],
          [
           175.353,
           -14.85
          ],
          [
           174.791,
           -13.034
          ],
          [
           174.249,
           -11.214
          ],
          [
           173.728,
           -9.393
          ],
          [
           173.225,
           -7.569
          ],
          [
           172.74,
           -5.741
          ],
          [
           172.271,
           -3.91
          ],
          [
           171.818,
           -2.079
          ],
          [
           171.38,
           -0.245
          ],
          [
           170.957,
           1.591
          ],
          [
           170.548,
           3.428
          ],
          [
           170.152,
           5.266
          ],
          [
           169.77,
           7.105
          ],
          [
           169.4,
           8.946
          ],
          [
           169.042,
           10.787
          ],
          [
           168.696,
           12.628
          ],
          [
           168.363,
           14.47
          ],
          [
           168.041,
           16.314
          ],
          [
           167.73,
           18.155
          ],
          [
           167.431,
           19.997
          ],
          [
           167.144,
           21.84
          ],
          [
           166.868,
           23.683
          ],
          [
           166.604,
           25.523
          ],
          [
           166.352,
           27.364
          ],
          [
           166.112,
           29.205
          ],
          [
           165.885,
           31.045
          ],
          [
           165.67,
           32.883
          ],
          [
           165.47,
           34.721
          ],
          [
           165.284,
           36.558
          ],
          [
           165.112,
           38.394
          ],
          [
           164.957,
           40.228
          ],
          [
           164.82,
           42.061
          ],
          [
           164.701,
           43.893
          ],
          [
           164.602,
           45.723
          ],
          [
           164.526,
           47.551
          ],
          [
           164.475,
           49.378
          ],
          [
           164.452,
           51.204
          ],
          [
           164.459,
           53.026
          ],
          [
           164.503,
           54.846
          ],
          [
           164.587,
           56.665
          ],
          [
           164.718,
           58.48
          ],
          [
           164.904,
           60.293
          ],
          [
           165.156,
           62.102
          ],
          [
           165.486,
           63.908
          ],
          [
           165.91,
           65.709
          ],
          [
           166.452,
           67.504
          ],
          [
           167.139,
           69.294
          ],
          [
           168.013,
           71.075
          ],
          [
           169.129,
           72.846
          ],
          [
           170.569,
           74.604
          ],
          [
           172.453,
           76.344
          ],
          [
           174.967,
           78.058
          ],
          [
           178.407,
           79.734
          ],
          [
           180,
           80.3325229
          ],
          [
           180,
           90
          ],
          [
           -180,
           90
          ],
          [
           -180,
           80.3325229
          ],
          [
           -176.732,
           81.348
          ],
          [
           -169.602,
           82.862
          ],
          [
           -158.8,
           84.194
          ],
          [
           -142.494,
           85.193
          ],
          [
           -120.517,
           85.624
          ],
          [
           -97.87,
           85.327
          ],
          [
           -80.374,
           84.417
          ],
          [
           -68.662,
           83.133
          ],
          [
           -60.963,
           81.647
          ],
          [
           -55.75,
           80.048
          ],
          [
           -52.085,
           78.382
          ],
          [
           -49.422,
           76.675
          ],
          [
           -47.435,
           74.94
          ],
          [
           -45.921,
           73.186
          ],
          [
           -44.75,
           71.417
          ],
          [
           -43.835,
           69.638
          ],
          [
           -43.115,
           67.851
          ],
          [
           -42.549,
           66.057
          ],
          [
           -42.103,
           64.257
          ],
          [
           -40.366,
           64.319
          ],
          [
           -38.814,
           64.357
          ],
          [
           -37.412,
           64.377
          ],
          [
           -36.136,
           64.384
          ],
          [
           -34.966,
           64.38
          ],
          [
           -33.886,
           64.368
          ],
          [
           -32.884,
           64.35
          ],
          [
           -31.951,
           64.327
          ],
          [
           -31.077,
           64.3
          ],
          [
           -30.257,
           64.27
          ],
          [
           -29.484,
           64.237
          ],
          [
           -28.753,
           64.202
          ],
          [
           -28.06,
           64.166
          ],
          [
           -27.402,
           64.128
          ],
          [
           -26.774,
           64.089
          ],
          [
           -26.175,
           64.049
          ],
          [
           -25.602,
           64.009
          ],
          [
           -25.052,
           63.968
          ],
          [
           -24.524,
           63.926
          ],
          [
           -24.016,
           63.885
          ],
          [
           -23.526,
           63.842
          ],
          [
           -23.052,
           63.8
          ],
          [
           -22.595,
           63.757
          ],
          [
           -22.152,
           63.714
          ],
          [
           -21.722,
           63.671
          ],
          [
           -21.304,
           63.628
          ],
          [
           -20.898,
           63.585
          ],
          [
           -20.503,
           63.542
          ],
          [
           -20.117,
           63.498
          ],
          [
           -19.741,
           63.455
          ],
          [
           -19.373,
           63.411
          ],
          [
           -19.013,
           63.367
          ],
          [
           -18.661,
           63.324
          ],
          [
           -18.316,
           63.28
          ],
          [
           -17.977,
           63.236
          ],
          [
           -17.643,
           63.191
          ],
          [
           -17.316,
           63.147
          ],
          [
           -16.993,
           63.102
          ],
          [
           -16.676,
           63.058
          ],
          [
           -16.362,
           63.013
          ],
          [
           -16.053,
           62.967
          ],
          [
           -15.748,
           62.922
          ],
          [
           -15.445,
           62.876
          ],
          [
           -15.146,
           62.83
          ],
          [
           -14.85,
           62.784
          ],
          [
           -14.556,
           62.737
          ],
          [
           -14.265,
           62.69
          ],
          [
           -13.975,
           62.642
          ],
          [
           -13.687,
           62.594
          ],
          [
           -13.401,
           62.545
          ],
          [
           -13.116,
           62.496
          ],
          [
           -12.831,
           62.446
          ],
          [
           -12.548,
           62.396
          ],
          [
           -12.265,
           62.345
          ],
          [
           -11.982,
           62.293
          ],
          [
           -11.7,
           62.241
          ],
          [
           -11.417,
           62.188
          ],
          [
           -11.134,
           62.134
          ],
          [
           -10.85,
           62.079
          ],
          [
           -10.566,
           62.023
          ],
          [
           -10.28,
           61.966
          ],
          [
           -9.993,
           61.908
          ],
          [
           -9.704,
           61.848
          ],
          [
           -9.413,
           61.788
          ],
          [
           -9.12,
           61.726
          ],
          [
           -8.825,
           61.663
          ],
          [
           -8.527,
           61.598
          ],
          [
           -8.226,
           61.532
          ],
          [
           -7.922,
           61.464
          ],
          [
           -7.614,
           61.395
          ],
          [
           -7.302,
           61.323
          ],
          [
           -6.986,
           61.249
          ],
          [
           -6.665,
           61.173
          ],
          [
           -6.339,
           61.095
          ],
          [
           -6.007,
           61.014
          ],
          [
           -5.67,
           60.93
          ],
          [
           -5.326,
           60.844
          ],
          [
           -4.975,
           60.754
          ],
          [
           -4.616,
           60.661
          ],
          [
           -4.249,
           60.564
          ],
          [
           -3.874,
           60.464
          ],
          [
           -3.489,
           60.359
          ],
          [
           -3.094,
           60.249
          ],
          [
           -2.687,
           60.134
          ],
          [
           -2.269,
           60.014
          ],
          [
           -1.837,
           59.887
          ],
          [
           -1.391,
           59.754
          ],
          [
           -0.93,
           59.613
          ],
          [
           -0.452,
           59.465
          ],
          [
           0.045,
           59.307
          ],
          [
           0.562,
           59.139
          ],
          [
           1.102,
           58.96
          ],
          [
           1.666,
           58.768
          ],
          [
           2.258,
           58.562
          ],
          [
           2.881,
           58.339
          ],
          [
           3.538,
           58.098
          ],
          [
           4.235,
           57.835
          ],
          [
           4.976,
           57.546
          ],
          [
           5.769,
           57.228
          ],
          [
           6.621,
           56.873
          ],
          [
           7.545,
           56.474
          ],
          [
           8.555,
           56.021
          ],
          [
           10.833,
           57.476
          ],
          [
           13.307,
           58.883
          ],
          [
           15.996,
           60.235
          ],
          [
           18.918,
           61.524
          ],
          [
           22.093,
           62.74
          ],
          [
           25.541,
           63.875
          ],
          [
           29.273,
           64.916
          ],
          [
           33.297,
           65.851
          ],
          [
           37.612,
           66.669
          ],
          [
           42.204,
           67.356
          ],
          [
           47.042,
           67.9
          ],
          [
           52.081,
           68.29
          ],
          [
           57.261,
           68.518
          ],
          [
           62.509,
           68.579
          ],
          [
           67.746,
           68.471
          ],
          [
           72.894,
           68.197
          ],
          [
           77.883,
           67.763
          ],
          [
           82.656,
           67.178
          ],
          [
           87.173,
           66.454
          ],
          [
           91.409,
           65.601
          ],
          [
           95.351,
           64.635
          ],
          [
           99.003,
           63.567
          ],
          [
           102.374,
           62.408
          ],
          [
           105.478,
           61.17
          ],
          [
           108.333,
           59.863
          ],
          [
           110.959,
           58.494
          ],
          [
           113.378,
           57.072
          ],
          [
           115.606,
           55.603
          ],
          [
           117.662,
           54.094
          ],
          [
           119.564,
           52.548
          ],
          [
           121.327,
           50.97
          ],
          [
           122.964,
           49.364
          ],
          [
           124.487,
           47.733
          ],
          [
           125.909,
           46.08
          ],
          [
           127.238,
           44.406
          ],
          [
           128.483,
           42.716
          ],
          [
           129.652,
           41.01
          ],
          [
           130.753,
           39.289
          ],
          [
           131.791,
           37.555
          ],
          [
           132.771,
           35.811
          ],
          [
           133.699,
           34.055
          ],
          [
           134.58,
           32.289
          ],
          [
           135.416,
           30.516
          ],
          [
           136.212,
           28.735
          ],
          [
           136.971,
           26.947
          ],
          [
           137.695,
           25.151
          ],
          [
           138.387,
           23.35
          ],
          [
           139.049,
           21.545
          ],
          [
           139.684,
           19.734
          ],
          [
           140.293,
           17.917
          ],
          [
           140.877,
           16.099
          ],
          [
           141.439,
           14.277
          ],
          [
           141.98,
           12.45
          ],
          [
           142.501,
           10.62
          ],
          [
           143.002,
           8.79
          ],
          [
           143.487,
           6.956
          ],
          [
           143.954,
           5.12
          ],
          [
           144.405,
           3.282
          ],
          [
           144.84,
           1.444
          ],
          [
           145.261,
           -0.397
          ],
          [
           145.668,
           -2.239
          ],
          [
           146.061,
           -4.081
          ],
          [
           146.441,
           -5.924
          ],
          [
           146.809,
           -7.767
          ],
          [
           147.164,
           -9.613
          ],
          [
           147.507,
           -11.456
          ],
          [
           147.838,
           -13.299
          ],
          [
           148.158,
           -15.144
          ],
          [
           148.466,
           -16.989
          ],
          [
           148.762,
           -18.831
          ],
          [
           149.048,
           -20.673
          ],
          [
           149.322,
           -22.516
          ],
          [
           149.584,
           -24.358
          ],
          [
           149.835,
           -26.197
          ],
          [
           150.073,
           -28.037
          ],
          [
           150.3,
           -29.876
          ],
          [
           150.514,
           -31.712
          ],
          [
           150.715,
           -33.548
          ],
          [
           150.902,
           -35.382
          ],
          [
           151.074,
           -37.216
          ],
          [
           151.231,
           -39.046
          ],
          [
           151.372,
           -40.876
          ],
          [
           151.494,
           -42.704
          ],
          [
           151.598,
           -44.53
          ],
          [
           151.681,
           -46.354
          ],
          [
           151.74,
           -48.176
          ],
          [
           151.774,
           -49.996
          ],
          [
           151.778,
           -51.814
          ],
          [
           151.751,
           -53.628
          ],
          [
           151.686,
           -55.441
          ],
          [
           151.579,
           -57.251
          ],
          [
           151.422,
           -59.058
          ],
          [
           151.208,
           -60.861
          ],
          [
           150.925,
           -62.661
          ],
          [
           150.558,
           -64.457
          ],
          [
           150.092,
           -66.247
          ],
          [
           149.501,
           -68.032
          ],
          [
           148.754,
           -69.81
          ],
          [
           147.806,
           -71.579
          ],
          [
           146.598,
           -73.337
          ],
          [
           145.038,
           -75.08
          ],
          [
           142.993,
           -76.803
          ],
          [
           140.255,
           -78.498
          ],
          [
           136.492,
           -80.148
          ],
          [
           131.142,
           -81.73
          ],
          [
           123.256,
           -83.195
          ],
          [
           111.319,
           -84.45
          ],
          [
           93.663,
           -85.324
          ],
          [
           71.175,
           -85.584
          ],
          [
           49.642,
           -85.13
          ],
          [
           33.696,
           -84.127
          ],
          [
           23.083,
           -82.799
          ],
          [
           16.039,
           -81.295
          ],
          [
           11.212,
           -79.691
          ],
          [
           7.78,
           -78.026
          ],
          [
           5.264,
           -76.323
          ],
          [
           3.373,
           -74.594
          ],
          [
           1.923,
           -72.847
          ],
          [
           0.795,
           -71.086
          ],
          [
           -0.091,
           -69.314
          ],
          [
           -0.79,
           -67.536
          ],
          [
           -1.343,
           -65.75
          ],
          [
           -1.78,
           -63.958
          ],
          [
           -2.121,
           -62.162
          ],
          [
           -2.384,
           -60.363
          ],
          [
           -2.582,
           -58.559
          ],
          [
           -2.724,
           -56.752
          ],
          [
           -2.818,
           -54.943
          ],
          [
           -2.872,
           -53.131
          ],
          [
           -2.891,
           -51.316
          ],
          [
           -2.878,
           -49.499
          ],
          [
           -2.837,
           -47.68
          ],
          [
           -2.771,
           -45.859
          ],
          [
           -2.682,
           -44.035
          ],
          [
           -2.573,
           -42.21
          ],
          [
           -2.446,
           -40.384
          ],
          [
           -2.301,
           -38.555
          ],
          [
           -2.14,
           -36.724
          ],
          [
           -1.963,
           -34.893
          ],
          [
           -1.773,
           -33.06
          ],
          [
           -1.569,
           -31.225
          ],
          [
           -1.351,
           -29.389
          ],
          [
           -1.122,
           -27.552
          ],
          [
           -0.88,
           -25.715
          ],
          [
           -0.627,
           -23.875
          ],
          [
           -0.361,
           -22.035
          ],
          [
           -0.085,
           -20.195
          ],
          [
           0.203,
           -18.354
          ],
          [
           0.503,
           -16.511
          ],
          [
           0.814,
           -14.669
          ],
          [
           1.136,
           -12.827
          ],
          [
           1.47,
           -10.985
          ],
          [
           1.816,
           -9.141
          ],
          [
           2.174,
           -7.299
          ],
          [
           2.544,
           -5.459
          ],
          [
           2.927,
           -3.616
          ],
          [
           3.323,
           -1.775
          ],
          [
           3.733,
           0.064
          ],
          [
           4.157,
           1.902
          ],
          [
           4.597,
           3.74
          ],
          [
           5.051,
           5.576
          ],
          [
           5.522,
           7.409
          ],
          [
           6.01,
           9.241
          ],
          [
           6.516,
           11.071
          ],
          [
           7.042,
           12.898
          ],
          [
           7.587,
           14.721
          ],
          [
           8.154,
           16.542
          ],
          [
           8.744,
           18.359
          ],
          [
           9.359,
           20.172
          ],
          [
           9.999,
           21.979
          ],
          [
           10.668,
           23.784
          ],
          [
           11.367,
           25.582
          ],
          [
           12.099,
           27.374
          ],
          [
           12.865,
           29.159
          ],
          [
           13.67,
           30.939
          ],
          [
           14.516,
           32.709
          ],
          [
           15.407,
           34.471
          ],
          [
           16.347,
           36.223
          ],
          [
           17.34,
           37.965
          ],
          [
           18.392,
           39.695
          ],
          [
           19.507,
           41.411
          ],
          [
           20.693,
           43.113
          ],
          [
           21.957,
           44.799
          ],
          [
           23.306,
           46.467
          ],
          [
           24.749,
           48.114
          ],
          [
           23.82,
           48.482
          ],
          [
           22.978,
           48.805
          ],
          [
           22.206,
           49.092
          ],
          [
           21.494,
           49.35
          ],
          [
           20.832,
           49.583
          ],
          [
           20.214,
           49.795
          ],
          [
           19.634,
           49.989
          ],
          [
           19.088,
           50.168
          ],
          [
           18.571,
           50.334
          ],
          [
           18.081,
           50.489
          ],
          [
           17.614,
           50.632
          ],
          [
           17.168,
           50.767
          ],
          [
           16.742,
           50.894
          ],
          [
           16.333,
           51.013
          ],
          [
           15.94,
           51.126
          ],
          [
           15.562,
           51.233
          ],
          [
           15.196,
           51.334
          ],
          [
           14.843,
           51.431
          ],
          [
           14.501,
           51.523
          ],
          [
           14.17,
           51.611
          ],
          [
           13.848,
           51.696
          ],
          [
           13.535,
           51.776
          ],
          [
           13.23,
           51.854
          ],
          [
           12.932,
           51.929
          ],
          [
           12.642,
           52.001
          ],
          [
           12.357,
           52.07
          ],
          [
           12.079,
           52.138
          ],
          [
           11.807,
           52.203
          ],
          [
           11.539,
           52.266
          ],
          [
           11.276,
           52.327
          ],
          [
           11.018,
           52.386
          ],
          [
           10.764,
           52.444
          ],
          [
           10.513,
           52.5
          ],
          [
           10.266,
           52.555
          ],
          [
           10.022,
           52.608
          ],
          [
           9.781,
           52.661
          ],
          [
           9.542,
           52.712
          ],
          [
           9.306,
           52.761
          ],
          [
           9.072,
           52.81
          ],
          [
           8.84,
           52.858
          ],
          [
           8.609,
           52.905
          ],
          [
           8.38,
           52.952
          ],
          [
           8.152,
           52.997
          ],
          [
           7.926,
           53.042
          ],
          [
           7.7,
           53.086
          ],
          [
           7.475,
           53.129
          ],
          [
           7.25,
           53.172
          ],
          [
           7.026,
           53.214
          ],
          [
           6.801,
           53.255
          ],
          [
           6.577,
           53.296
          ],
          [
           6.353,
           53.337
          ],
          [
           6.127,
           53.377
          ],
          [
           5.902,
           53.417
          ],
          [
           5.675,
           53.457
          ],
          [
           5.447,
           53.496
          ],
          [
           5.219,
           53.535
          ],
          [
           4.988,
           53.574
          ],
          [
           4.756,
           53.612
          ],
          [
           4.522,
           53.65
          ],
          [
           4.286,
           53.688
          ],
          [
           4.048,
           53.726
          ],
          [
           3.807,
           53.764
          ],
          [
           3.564,
           53.801
          ],
          [
           3.317,
           53.839
          ],
          [
           3.067,
           53.876
          ],
          [
           2.813,
           53.913
          ],
          [
           2.555,
           53.951
          ],
          [
           2.293,
           53.988
          ],
          [
           2.027,
           54.025
          ],
          [
           1.755,
           54.062
          ],
          [
           1.478,
           54.1
          ],
          [
           1.195,
           54.137
          ],
          [
           0.906,
           54.175
          ],
          [
           0.611,
           54.212
          ],
          [
           0.308,
           54.25
          ],
          [
           -0.003,
           54.288
          ],
          [
           -0.322,
           54.325
          ],
          [
           -0.65,
           54.363
          ],
          [
           -0.988,
           54.401
          ],
          [
           -1.336,
           54.44
          ],
          [
           -1.696,
           54.478
          ],
          [
           -2.069,
           54.516
          ],
          [
           -2.454,
           54.555
          ],
          [
           -2.855,
           54.594
          ],
          [
           -3.271,
           54.632
          ],
          [
           -3.705,
           54.671
          ],
          [
           -4.157,
           54.71
          ],
          [
           -4.631,
           54.748
          ],
          [
           -5.128,
           54.787
          ],
          [
           -5.65,
           54.825
          ],
          [
           -6.2,
           54.863
          ],
          [
           -6.782,
           54.9
          ],
          [
           -7.399,
           54.936
          ],
          [
           -8.056,
           54.971
          ],
          [
           -8.758,
           55.004
          ],
          [
           -9.511,
           55.035
          ],
          [
           -10.323,
           55.064
          ],
          [
           -11.204,
           55.088
          ],
          [
           -12.165,
           55.108
          ],
          [
           -13.223,
           55.121
          ],
          [
           -14.397,
           55.124
          ],
          [
           -15.716,
           55.114
          ]
         ]
        ],
        "type": "Polygon"
       },
       "id": "AVHR_xxx_1B_M03_20240704095203Z_20240704113103Z_N_O_20240704112753Z",
       "links": [
        {
         "href": "https://hda.data.destination-earth.eu/stac/v2/collections/EO.EUM.DAT.METOP.AVHRRL1",
         "rel": "collection",
         "title": "EO.EUM.DAT.METOP.AVHRRL1",
         "type": "application/json"
        },
        {
         "href": "https://hda.data.destination-earth.eu/stac/v2/collections/EO.EUM.DAT.METOP.AVHRRL1/items/AVHR_xxx_1B_M03_20240704095203Z_20240704113103Z_N_O_20240704112753Z",
         "rel": "self",
         "title": "Original item link",
         "type": "application/geo+json"
        }
       ],
       "properties": {
        "abstract": "The Advanced Very High Resolution Radiometer (AVHRR) operates at 5 different channels simultaneously in the visible and infrared bands, with wavelengths specified in the instrument channels description. Channel 3 switches between 3a and 3b for daytime and nighttime. As a high-resolution imager (about 1.1 km near nadir) its main purpose is to provide cloud and surface information such as cloud coverage, cloud top temperature, surface temperature over land and sea, and vegetation or snow/ice. In addition, AVHRR products serve as input for the level 2 processing of IASI and ATOVS.",
        "alias": "EO.EUM.DAT.METOP.AVHRRL1",
        "collection": "AVHxxx1B",
        "constellation": "Metop-C",
        "datetime": "2024-07-04T09:52:03.000000Z",
        "end_datetime": "2024-07-04T11:31:03.000000Z",
        "federation:backends": [
         "eumetsat"
        ],
        "instruments": [
         "AVHRR"
        ],
        "license": "proprietary",
        "links": {
         "alternates": [
          {
           "href": "https://api.eumetsat.int/data/download/1.0.0/collections/EO%3AEUM%3ADAT%3AMETOP%3AAVHRRL1/products/AVHR_xxx_1B_M03_20240704095203Z_20240704113103Z_N_O_20240704112753Z/metadata",
           "mediaType": "application/xml",
           "title": "Metadata",
           "type": "Link"
          },
          {
           "href": "https://api.eumetsat.int/data/download/1.0.0/collections/EO%3AEUM%3ADAT%3AMETOP%3AAVHRRL1/products/AVHR_xxx_1B_M03_20240704095203Z_20240704113103Z_N_O_20240704112753Z/metadata?format=json",
           "mediaType": "application/json",
           "title": "Metadata in JSON format",
           "type": "Link"
          }
         ],
         "data": [
          {
           "href": "https://api.eumetsat.int/data/download/1.0.0/collections/EO%3AEUM%3ADAT%3AMETOP%3AAVHRRL1/products/AVHR_xxx_1B_M03_20240704095203Z_20240704113103Z_N_O_20240704112753Z",
           "mediaType": "application/zip",
           "title": "Product download",
           "type": "Link"
          }
         ],
         "sip-entries": [
          {
           "href": "https://api.eumetsat.int/data/download/1.0.0/collections/EO%3AEUM%3ADAT%3AMETOP%3AAVHRRL1/products/AVHR_xxx_1B_M03_20240704095203Z_20240704113103Z_N_O_20240704112753Z/entry?name=EOPMetadata.xml",
           "mediaType": "application/xml",
           "title": "EOPMetadata.xml",
           "type": "Link"
          },
          {
           "href": "https://api.eumetsat.int/data/download/1.0.0/collections/EO%3AEUM%3ADAT%3AMETOP%3AAVHRRL1/products/AVHR_xxx_1B_M03_20240704095203Z_20240704113103Z_N_O_20240704112753Z/entry?name=AVHR_xxx_1B_M03_20240704095203Z_20240704113103Z_N_O_20240704112753Z.nat",
           "mediaType": "application/octet-stream",
           "title": "AVHR_xxx_1B_M03_20240704095203Z_20240704113103Z_N_O_20240704112753Z.nat",
           "type": "Link"
          },
          {
           "href": "https://api.eumetsat.int/data/download/1.0.0/collections/EO%3AEUM%3ADAT%3AMETOP%3AAVHRRL1/products/AVHR_xxx_1B_M03_20240704095203Z_20240704113103Z_N_O_20240704112753Z/entry?name=manifest.xml",
           "mediaType": "application/xml",
           "title": "manifest.xml",
           "type": "Link"
          }
         ],
         "type": "Links"
        },
        "order:status": "succeeded",
        "parentIdentifier": "EO:EUM:DAT:METOP:AVHRRL1",
        "platform": "METOP-A,METOP-B,METOP-C",
        "sat:absolute_orbit": 29357,
        "scope": {
         "discover": null,
         "download": "hda-public-data-access",
         "search": "hda-public-data-access"
        },
        "size": 399451,
        "stacCollection": "/eodag/collections/EO.EUM.DAT.METOP.AVHRRL1.json",
        "start_datetime": "2024-07-04T09:52:03.000000Z",
        "storage:tier": "online",
        "title": "AVHR_xxx_1B_M03_20240704095203Z_20240704113103Z_N_O_20240704112753Z",
        "uid": "AVHR_xxx_1B_M03_20240704095203Z_20240704113103Z_N_O_20240704112753Z",
        "updated": "2024-07-04T13:11:23.978000Z"
       },
       "stac_extensions": [
        "https://stac-extensions.github.io/sat/v1.0.0/schema.json",
        "https://stac-extensions.github.io/product/v0.1.0/schema.json",
        "https://stac-extensions.github.io/storage/v1.0.0/schema.json",
        "https://stac-extensions.github.io/order/v1.1.0/schema.json"
       ],
       "stac_version": "1.0.0",
       "type": "Feature"
      },
      "text/plain": [
       "<IPython.core.display.JSON object>"
      ]
     },
     "execution_count": 13,
     "metadata": {
      "application/json": {
       "expanded": false,
       "root": "root"
      }
     },
     "output_type": "execute_result"
    }
   ],
   "source": [
    "from IPython.display import JSON\n",
    "\n",
    "JSON(search_response.json()[\"features\"][0])"
   ]
  },
  {
   "cell_type": "markdown",
   "id": "36c653fb-7131-489c-bd17-acd6e4935261",
   "metadata": {},
   "source": [
    "# Download\n",
    "We can download now the returned data."
   ]
  },
  {
   "cell_type": "code",
   "execution_count": 14,
   "id": "8e931f0f-6ce2-4d51-8f69-479768c42bc3",
   "metadata": {
    "tags": []
   },
   "outputs": [
    {
     "name": "stdout",
     "output_type": "stream",
     "text": [
      "https://hda-download.central.data.destination-earth.eu/data/eumetsat/EO.EUM.DAT.METOP.AVHRRL1/AVHR_xxx_1B_M03_20240704095203Z_20240704113103Z_N_O_20240704112753Z/downloadLink\n",
      "downloading downloadLink\n"
     ]
    },
    {
     "name": "stderr",
     "output_type": "stream",
     "text": [
      "409MB [00:01, 308MB/s] \n"
     ]
    }
   ],
   "source": [
    "from tqdm import tqdm\n",
    "import time\n",
    "import zipfile\n",
    "\n",
    "#number of products to download:\n",
    "nptd=1\n",
    "\n",
    "# Define a list of assets to download\n",
    "for i in range(0,nptd,1):\n",
    "    product=search_response.json()[\"features\"][i]\n",
    "    download_url = product[\"assets\"][\"downloadLink\"][\"href\"]\n",
    "    print(download_url)\n",
    "    filename = \"downloadLink\"\n",
    "    response = requests.get(download_url, headers=auth_headers)\n",
    "    total_size = int(response.headers.get(\"content-length\", 0))\n",
    "\n",
    "    print(f\"downloading {filename}\")\n",
    "\n",
    "    with tqdm(total=total_size, unit=\"B\", unit_scale=True) as progress_bar:\n",
    "        with open(filename, 'wb') as f:\n",
    "            for data in response.iter_content(1024):\n",
    "                progress_bar.update(len(data))\n",
    "                f.write(data)\n",
    "        \n",
    "    zf=zipfile.ZipFile(filename)\n",
    "    with zipfile.ZipFile(filename, 'r') as zip_ref:\n",
    "        zip_ref.extractall('.')"
   ]
  },
  {
   "cell_type": "code",
   "execution_count": 15,
   "id": "3a32ff2b-265d-41cf-b8bb-4b4be4c55226",
   "metadata": {
    "tags": []
   },
   "outputs": [],
   "source": [
    "del response"
   ]
  },
  {
   "cell_type": "markdown",
   "id": "4e80f9c6-d11c-4230-bb9c-91336097c5e4",
   "metadata": {},
   "source": [
    "# Satpy"
   ]
  },
  {
   "cell_type": "markdown",
   "id": "9bff4779-c2c9-4f10-b01e-510bda62e1ad",
   "metadata": {},
   "source": [
    "The Python package satpy supports reading and loading data from many input files. \n",
    "For Metop data in the native format, we can use the satpy reader 'avhrr_l1b_eps'."
   ]
  },
  {
   "cell_type": "code",
   "execution_count": 16,
   "id": "036cc07e-b531-4a0f-ac69-048867c0baba",
   "metadata": {
    "tags": []
   },
   "outputs": [
    {
     "name": "stdout",
     "output_type": "stream",
     "text": [
      "Note: you may need to restart the kernel to use updated packages.\n"
     ]
    }
   ],
   "source": [
    "pip install --quiet satpy pyspectral"
   ]
  },
  {
   "cell_type": "code",
   "execution_count": 17,
   "id": "d0e53472-46c1-450c-91a2-101f922a7597",
   "metadata": {
    "tags": []
   },
   "outputs": [],
   "source": [
    "import os\n",
    "from glob import glob\n",
    "\n",
    "import xarray as xr\n",
    "import numpy as np\n",
    "\n",
    "import matplotlib.pyplot as plt\n",
    "import matplotlib.colors\n",
    "from matplotlib.axes import Axes\n",
    "\n",
    "import satpy\n",
    "from satpy.scene import Scene\n",
    "from satpy.composites import GenericCompositor\n",
    "from satpy.writers import to_image\n",
    "from satpy.resample import get_area_def\n",
    "from satpy import available_readers\n",
    "from satpy import MultiScene\n",
    "\n",
    "import pyresample\n",
    "import pyspectral\n",
    "\n",
    "import warnings\n",
    "warnings.filterwarnings('ignore')\n",
    "warnings.simplefilter(action = \"ignore\", category = RuntimeWarning)\n",
    "\n",
    "satpy_installation_path=satpy.__path__\n",
    "delimiter = \"\" \n",
    "satpy_installation_path = delimiter.join(satpy_installation_path)"
   ]
  },
  {
   "cell_type": "markdown",
   "id": "50786972-13a7-4f0c-bafa-5728a7aa3c38",
   "metadata": {},
   "source": [
    "### Read and load data"
   ]
  },
  {
   "cell_type": "markdown",
   "id": "6d1f2c77-4470-457a-bbc4-c5b9a3c98de2",
   "metadata": {},
   "source": [
    "#### Single scene\n",
    "We can use the Scene constructor from the satpy library, a Scene object represents a single geographic region of data.\n",
    "Once loaded we can list all the available bands (spectral channel) for that scene."
   ]
  },
  {
   "cell_type": "code",
   "execution_count": 18,
   "id": "751e43aa-e187-4b15-a9a8-69962f43be20",
   "metadata": {
    "tags": []
   },
   "outputs": [],
   "source": [
    "filenames = glob('./AVHR_xxx_1B_M0*.nat')\n",
    "#len(filenames)"
   ]
  },
  {
   "cell_type": "code",
   "execution_count": 19,
   "id": "2209f00a-aee5-48e4-ba24-925901d7bc50",
   "metadata": {
    "tags": []
   },
   "outputs": [
    {
     "data": {
      "text/plain": [
       "['1',\n",
       " '2',\n",
       " '3a',\n",
       " '3b',\n",
       " '4',\n",
       " '5',\n",
       " 'cloud_flags',\n",
       " 'latitude',\n",
       " 'longitude',\n",
       " 'satellite_azimuth_angle',\n",
       " 'satellite_zenith_angle',\n",
       " 'solar_azimuth_angle',\n",
       " 'solar_zenith_angle']"
      ]
     },
     "execution_count": 19,
     "metadata": {},
     "output_type": "execute_result"
    }
   ],
   "source": [
    "# read the last file in filenames\n",
    "scn = Scene(reader='avhrr_l1b_eps', filenames=[filenames[-1]])\n",
    "# print available datasets\n",
    "scn.available_dataset_names()"
   ]
  },
  {
   "cell_type": "markdown",
   "id": "242feab9-5078-41f0-95bd-0f490cbb5dae",
   "metadata": {},
   "source": [
    "We can then load the first and the second spectral channels and have a look to some info"
   ]
  },
  {
   "cell_type": "code",
   "execution_count": 20,
   "id": "e97a8f45-0331-4e87-afee-a99e872a6687",
   "metadata": {
    "tags": []
   },
   "outputs": [
    {
     "data": {
      "text/html": [
       "<div><svg style=\"position: absolute; width: 0; height: 0; overflow: hidden\">\n",
       "<defs>\n",
       "<symbol id=\"icon-database\" viewBox=\"0 0 32 32\">\n",
       "<path d=\"M16 0c-8.837 0-16 2.239-16 5v4c0 2.761 7.163 5 16 5s16-2.239 16-5v-4c0-2.761-7.163-5-16-5z\"></path>\n",
       "<path d=\"M16 17c-8.837 0-16-2.239-16-5v6c0 2.761 7.163 5 16 5s16-2.239 16-5v-6c0 2.761-7.163 5-16 5z\"></path>\n",
       "<path d=\"M16 26c-8.837 0-16-2.239-16-5v6c0 2.761 7.163 5 16 5s16-2.239 16-5v-6c0 2.761-7.163 5-16 5z\"></path>\n",
       "</symbol>\n",
       "<symbol id=\"icon-file-text2\" viewBox=\"0 0 32 32\">\n",
       "<path d=\"M28.681 7.159c-0.694-0.947-1.662-2.053-2.724-3.116s-2.169-2.030-3.116-2.724c-1.612-1.182-2.393-1.319-2.841-1.319h-15.5c-1.378 0-2.5 1.121-2.5 2.5v27c0 1.378 1.122 2.5 2.5 2.5h23c1.378 0 2.5-1.122 2.5-2.5v-19.5c0-0.448-0.137-1.23-1.319-2.841zM24.543 5.457c0.959 0.959 1.712 1.825 2.268 2.543h-4.811v-4.811c0.718 0.556 1.584 1.309 2.543 2.268zM28 29.5c0 0.271-0.229 0.5-0.5 0.5h-23c-0.271 0-0.5-0.229-0.5-0.5v-27c0-0.271 0.229-0.5 0.5-0.5 0 0 15.499-0 15.5 0v7c0 0.552 0.448 1 1 1h7v19.5z\"></path>\n",
       "<path d=\"M23 26h-14c-0.552 0-1-0.448-1-1s0.448-1 1-1h14c0.552 0 1 0.448 1 1s-0.448 1-1 1z\"></path>\n",
       "<path d=\"M23 22h-14c-0.552 0-1-0.448-1-1s0.448-1 1-1h14c0.552 0 1 0.448 1 1s-0.448 1-1 1z\"></path>\n",
       "<path d=\"M23 18h-14c-0.552 0-1-0.448-1-1s0.448-1 1-1h14c0.552 0 1 0.448 1 1s-0.448 1-1 1z\"></path>\n",
       "</symbol>\n",
       "</defs>\n",
       "</svg>\n",
       "<style>/* CSS stylesheet for displaying xarray objects in jupyterlab.\n",
       " *\n",
       " */\n",
       "\n",
       ":root {\n",
       "  --xr-font-color0: var(--jp-content-font-color0, rgba(0, 0, 0, 1));\n",
       "  --xr-font-color2: var(--jp-content-font-color2, rgba(0, 0, 0, 0.54));\n",
       "  --xr-font-color3: var(--jp-content-font-color3, rgba(0, 0, 0, 0.38));\n",
       "  --xr-border-color: var(--jp-border-color2, #e0e0e0);\n",
       "  --xr-disabled-color: var(--jp-layout-color3, #bdbdbd);\n",
       "  --xr-background-color: var(--jp-layout-color0, white);\n",
       "  --xr-background-color-row-even: var(--jp-layout-color1, white);\n",
       "  --xr-background-color-row-odd: var(--jp-layout-color2, #eeeeee);\n",
       "}\n",
       "\n",
       "html[theme=\"dark\"],\n",
       "html[data-theme=\"dark\"],\n",
       "body[data-theme=\"dark\"],\n",
       "body.vscode-dark {\n",
       "  --xr-font-color0: rgba(255, 255, 255, 1);\n",
       "  --xr-font-color2: rgba(255, 255, 255, 0.54);\n",
       "  --xr-font-color3: rgba(255, 255, 255, 0.38);\n",
       "  --xr-border-color: #1f1f1f;\n",
       "  --xr-disabled-color: #515151;\n",
       "  --xr-background-color: #111111;\n",
       "  --xr-background-color-row-even: #111111;\n",
       "  --xr-background-color-row-odd: #313131;\n",
       "}\n",
       "\n",
       ".xr-wrap {\n",
       "  display: block !important;\n",
       "  min-width: 300px;\n",
       "  max-width: 700px;\n",
       "}\n",
       "\n",
       ".xr-text-repr-fallback {\n",
       "  /* fallback to plain text repr when CSS is not injected (untrusted notebook) */\n",
       "  display: none;\n",
       "}\n",
       "\n",
       ".xr-header {\n",
       "  padding-top: 6px;\n",
       "  padding-bottom: 6px;\n",
       "  margin-bottom: 4px;\n",
       "  border-bottom: solid 1px var(--xr-border-color);\n",
       "}\n",
       "\n",
       ".xr-header > div,\n",
       ".xr-header > ul {\n",
       "  display: inline;\n",
       "  margin-top: 0;\n",
       "  margin-bottom: 0;\n",
       "}\n",
       "\n",
       ".xr-obj-type,\n",
       ".xr-array-name {\n",
       "  margin-left: 2px;\n",
       "  margin-right: 10px;\n",
       "}\n",
       "\n",
       ".xr-obj-type {\n",
       "  color: var(--xr-font-color2);\n",
       "}\n",
       "\n",
       ".xr-sections {\n",
       "  padding-left: 0 !important;\n",
       "  display: grid;\n",
       "  grid-template-columns: 150px auto auto 1fr 0 20px 0 20px;\n",
       "}\n",
       "\n",
       ".xr-section-item {\n",
       "  display: contents;\n",
       "}\n",
       "\n",
       ".xr-section-item input {\n",
       "  display: inline-block;\n",
       "  opacity: 0;\n",
       "  height: 0;\n",
       "}\n",
       "\n",
       ".xr-section-item input + label {\n",
       "  color: var(--xr-disabled-color);\n",
       "}\n",
       "\n",
       ".xr-section-item input:enabled + label {\n",
       "  cursor: pointer;\n",
       "  color: var(--xr-font-color2);\n",
       "}\n",
       "\n",
       ".xr-section-item input:focus + label {\n",
       "  border: 2px solid var(--xr-font-color0);\n",
       "}\n",
       "\n",
       ".xr-section-item input:enabled + label:hover {\n",
       "  color: var(--xr-font-color0);\n",
       "}\n",
       "\n",
       ".xr-section-summary {\n",
       "  grid-column: 1;\n",
       "  color: var(--xr-font-color2);\n",
       "  font-weight: 500;\n",
       "}\n",
       "\n",
       ".xr-section-summary > span {\n",
       "  display: inline-block;\n",
       "  padding-left: 0.5em;\n",
       "}\n",
       "\n",
       ".xr-section-summary-in:disabled + label {\n",
       "  color: var(--xr-font-color2);\n",
       "}\n",
       "\n",
       ".xr-section-summary-in + label:before {\n",
       "  display: inline-block;\n",
       "  content: \"►\";\n",
       "  font-size: 11px;\n",
       "  width: 15px;\n",
       "  text-align: center;\n",
       "}\n",
       "\n",
       ".xr-section-summary-in:disabled + label:before {\n",
       "  color: var(--xr-disabled-color);\n",
       "}\n",
       "\n",
       ".xr-section-summary-in:checked + label:before {\n",
       "  content: \"▼\";\n",
       "}\n",
       "\n",
       ".xr-section-summary-in:checked + label > span {\n",
       "  display: none;\n",
       "}\n",
       "\n",
       ".xr-section-summary,\n",
       ".xr-section-inline-details {\n",
       "  padding-top: 4px;\n",
       "  padding-bottom: 4px;\n",
       "}\n",
       "\n",
       ".xr-section-inline-details {\n",
       "  grid-column: 2 / -1;\n",
       "}\n",
       "\n",
       ".xr-section-details {\n",
       "  display: none;\n",
       "  grid-column: 1 / -1;\n",
       "  margin-bottom: 5px;\n",
       "}\n",
       "\n",
       ".xr-section-summary-in:checked ~ .xr-section-details {\n",
       "  display: contents;\n",
       "}\n",
       "\n",
       ".xr-array-wrap {\n",
       "  grid-column: 1 / -1;\n",
       "  display: grid;\n",
       "  grid-template-columns: 20px auto;\n",
       "}\n",
       "\n",
       ".xr-array-wrap > label {\n",
       "  grid-column: 1;\n",
       "  vertical-align: top;\n",
       "}\n",
       "\n",
       ".xr-preview {\n",
       "  color: var(--xr-font-color3);\n",
       "}\n",
       "\n",
       ".xr-array-preview,\n",
       ".xr-array-data {\n",
       "  padding: 0 5px !important;\n",
       "  grid-column: 2;\n",
       "}\n",
       "\n",
       ".xr-array-data,\n",
       ".xr-array-in:checked ~ .xr-array-preview {\n",
       "  display: none;\n",
       "}\n",
       "\n",
       ".xr-array-in:checked ~ .xr-array-data,\n",
       ".xr-array-preview {\n",
       "  display: inline-block;\n",
       "}\n",
       "\n",
       ".xr-dim-list {\n",
       "  display: inline-block !important;\n",
       "  list-style: none;\n",
       "  padding: 0 !important;\n",
       "  margin: 0;\n",
       "}\n",
       "\n",
       ".xr-dim-list li {\n",
       "  display: inline-block;\n",
       "  padding: 0;\n",
       "  margin: 0;\n",
       "}\n",
       "\n",
       ".xr-dim-list:before {\n",
       "  content: \"(\";\n",
       "}\n",
       "\n",
       ".xr-dim-list:after {\n",
       "  content: \")\";\n",
       "}\n",
       "\n",
       ".xr-dim-list li:not(:last-child):after {\n",
       "  content: \",\";\n",
       "  padding-right: 5px;\n",
       "}\n",
       "\n",
       ".xr-has-index {\n",
       "  font-weight: bold;\n",
       "}\n",
       "\n",
       ".xr-var-list,\n",
       ".xr-var-item {\n",
       "  display: contents;\n",
       "}\n",
       "\n",
       ".xr-var-item > div,\n",
       ".xr-var-item label,\n",
       ".xr-var-item > .xr-var-name span {\n",
       "  background-color: var(--xr-background-color-row-even);\n",
       "  margin-bottom: 0;\n",
       "}\n",
       "\n",
       ".xr-var-item > .xr-var-name:hover span {\n",
       "  padding-right: 5px;\n",
       "}\n",
       "\n",
       ".xr-var-list > li:nth-child(odd) > div,\n",
       ".xr-var-list > li:nth-child(odd) > label,\n",
       ".xr-var-list > li:nth-child(odd) > .xr-var-name span {\n",
       "  background-color: var(--xr-background-color-row-odd);\n",
       "}\n",
       "\n",
       ".xr-var-name {\n",
       "  grid-column: 1;\n",
       "}\n",
       "\n",
       ".xr-var-dims {\n",
       "  grid-column: 2;\n",
       "}\n",
       "\n",
       ".xr-var-dtype {\n",
       "  grid-column: 3;\n",
       "  text-align: right;\n",
       "  color: var(--xr-font-color2);\n",
       "}\n",
       "\n",
       ".xr-var-preview {\n",
       "  grid-column: 4;\n",
       "}\n",
       "\n",
       ".xr-index-preview {\n",
       "  grid-column: 2 / 5;\n",
       "  color: var(--xr-font-color2);\n",
       "}\n",
       "\n",
       ".xr-var-name,\n",
       ".xr-var-dims,\n",
       ".xr-var-dtype,\n",
       ".xr-preview,\n",
       ".xr-attrs dt {\n",
       "  white-space: nowrap;\n",
       "  overflow: hidden;\n",
       "  text-overflow: ellipsis;\n",
       "  padding-right: 10px;\n",
       "}\n",
       "\n",
       ".xr-var-name:hover,\n",
       ".xr-var-dims:hover,\n",
       ".xr-var-dtype:hover,\n",
       ".xr-attrs dt:hover {\n",
       "  overflow: visible;\n",
       "  width: auto;\n",
       "  z-index: 1;\n",
       "}\n",
       "\n",
       ".xr-var-attrs,\n",
       ".xr-var-data,\n",
       ".xr-index-data {\n",
       "  display: none;\n",
       "  background-color: var(--xr-background-color) !important;\n",
       "  padding-bottom: 5px !important;\n",
       "}\n",
       "\n",
       ".xr-var-attrs-in:checked ~ .xr-var-attrs,\n",
       ".xr-var-data-in:checked ~ .xr-var-data,\n",
       ".xr-index-data-in:checked ~ .xr-index-data {\n",
       "  display: block;\n",
       "}\n",
       "\n",
       ".xr-var-data > table {\n",
       "  float: right;\n",
       "}\n",
       "\n",
       ".xr-var-name span,\n",
       ".xr-var-data,\n",
       ".xr-index-name div,\n",
       ".xr-index-data,\n",
       ".xr-attrs {\n",
       "  padding-left: 25px !important;\n",
       "}\n",
       "\n",
       ".xr-attrs,\n",
       ".xr-var-attrs,\n",
       ".xr-var-data,\n",
       ".xr-index-data {\n",
       "  grid-column: 1 / -1;\n",
       "}\n",
       "\n",
       "dl.xr-attrs {\n",
       "  padding: 0;\n",
       "  margin: 0;\n",
       "  display: grid;\n",
       "  grid-template-columns: 125px auto;\n",
       "}\n",
       "\n",
       ".xr-attrs dt,\n",
       ".xr-attrs dd {\n",
       "  padding: 0;\n",
       "  margin: 0;\n",
       "  float: left;\n",
       "  padding-right: 10px;\n",
       "  width: auto;\n",
       "}\n",
       "\n",
       ".xr-attrs dt {\n",
       "  font-weight: normal;\n",
       "  grid-column: 1;\n",
       "}\n",
       "\n",
       ".xr-attrs dt:hover span {\n",
       "  display: inline-block;\n",
       "  background: var(--xr-background-color);\n",
       "  padding-right: 10px;\n",
       "}\n",
       "\n",
       ".xr-attrs dd {\n",
       "  grid-column: 2;\n",
       "  white-space: pre-wrap;\n",
       "  word-break: break-all;\n",
       "}\n",
       "\n",
       ".xr-icon-database,\n",
       ".xr-icon-file-text2,\n",
       ".xr-no-icon {\n",
       "  display: inline-block;\n",
       "  vertical-align: middle;\n",
       "  width: 1em;\n",
       "  height: 1.5em !important;\n",
       "  stroke-width: 0;\n",
       "  stroke: currentColor;\n",
       "  fill: currentColor;\n",
       "}\n",
       "</style><pre class='xr-text-repr-fallback'>&lt;xarray.DataArray &#x27;truediv-2ede9baa58e1243870e3b013aacd3761&#x27; (y: 35640, x: 2048)&gt; Size: 584MB\n",
       "dask.array&lt;truediv, shape=(35640, 2048), dtype=float64, chunksize=(8192, 2048), chunktype=numpy.ndarray&gt;\n",
       "Coordinates:\n",
       "    crs      object 8B +proj=longlat +ellps=WGS84 +type=crs\n",
       "Dimensions without coordinates: y, x\n",
       "Attributes: (12/17)\n",
       "    platform_name:        Metop-C\n",
       "    sensor:               avhrr-3\n",
       "    units:                %\n",
       "    name:                 1\n",
       "    wavelength:           0.63 µm (0.58-0.68 µm)\n",
       "    resolution:           1050\n",
       "    ...                   ...\n",
       "    start_time:           2024-07-04 09:52:03\n",
       "    end_time:             2024-07-04 11:31:03\n",
       "    reader:               avhrr_l1b_eps\n",
       "    area:                 Shape: (35640, 2048)\\nLons: &lt;xarray.DataArray &#x27;from...\n",
       "    _satpy_id:            DataID(name=&#x27;1&#x27;, wavelength=WavelengthRange(min=0.5...\n",
       "    ancillary_variables:  []</pre><div class='xr-wrap' style='display:none'><div class='xr-header'><div class='xr-obj-type'>xarray.DataArray</div><div class='xr-array-name'>'truediv-2ede9baa58e1243870e3b013aacd3761'</div><ul class='xr-dim-list'><li><span>y</span>: 35640</li><li><span>x</span>: 2048</li></ul></div><ul class='xr-sections'><li class='xr-section-item'><div class='xr-array-wrap'><input id='section-cab5aed2-540c-4b07-add8-6642d3c11c6d' class='xr-array-in' type='checkbox' checked><label for='section-cab5aed2-540c-4b07-add8-6642d3c11c6d' title='Show/hide data repr'><svg class='icon xr-icon-database'><use xlink:href='#icon-database'></use></svg></label><div class='xr-array-preview xr-preview'><span>dask.array&lt;chunksize=(8192, 2048), meta=np.ndarray&gt;</span></div><div class='xr-array-data'><table>\n",
       "    <tr>\n",
       "        <td>\n",
       "            <table style=\"border-collapse: collapse;\">\n",
       "                <thead>\n",
       "                    <tr>\n",
       "                        <td> </td>\n",
       "                        <th> Array </th>\n",
       "                        <th> Chunk </th>\n",
       "                    </tr>\n",
       "                </thead>\n",
       "                <tbody>\n",
       "                    \n",
       "                    <tr>\n",
       "                        <th> Bytes </th>\n",
       "                        <td> 556.88 MiB </td>\n",
       "                        <td> 128.00 MiB </td>\n",
       "                    </tr>\n",
       "                    \n",
       "                    <tr>\n",
       "                        <th> Shape </th>\n",
       "                        <td> (35640, 2048) </td>\n",
       "                        <td> (8192, 2048) </td>\n",
       "                    </tr>\n",
       "                    <tr>\n",
       "                        <th> Dask graph </th>\n",
       "                        <td colspan=\"2\"> 5 chunks in 10 graph layers </td>\n",
       "                    </tr>\n",
       "                    <tr>\n",
       "                        <th> Data type </th>\n",
       "                        <td colspan=\"2\"> float64 numpy.ndarray </td>\n",
       "                    </tr>\n",
       "                </tbody>\n",
       "            </table>\n",
       "        </td>\n",
       "        <td>\n",
       "        <svg width=\"85\" height=\"170\" style=\"stroke:rgb(0,0,0);stroke-width:1\" >\n",
       "\n",
       "  <!-- Horizontal lines -->\n",
       "  <line x1=\"0\" y1=\"0\" x2=\"35\" y2=\"0\" style=\"stroke-width:2\" />\n",
       "  <line x1=\"0\" y1=\"27\" x2=\"35\" y2=\"27\" />\n",
       "  <line x1=\"0\" y1=\"55\" x2=\"35\" y2=\"55\" />\n",
       "  <line x1=\"0\" y1=\"82\" x2=\"35\" y2=\"82\" />\n",
       "  <line x1=\"0\" y1=\"110\" x2=\"35\" y2=\"110\" />\n",
       "  <line x1=\"0\" y1=\"120\" x2=\"35\" y2=\"120\" style=\"stroke-width:2\" />\n",
       "\n",
       "  <!-- Vertical lines -->\n",
       "  <line x1=\"0\" y1=\"0\" x2=\"0\" y2=\"120\" style=\"stroke-width:2\" />\n",
       "  <line x1=\"35\" y1=\"0\" x2=\"35\" y2=\"120\" style=\"stroke-width:2\" />\n",
       "\n",
       "  <!-- Colored Rectangle -->\n",
       "  <polygon points=\"0.0,0.0 35.350397145487605,0.0 35.350397145487605,120.0 0.0,120.0\" style=\"fill:#ECB172A0;stroke-width:0\"/>\n",
       "\n",
       "  <!-- Text -->\n",
       "  <text x=\"17.675199\" y=\"140.000000\" font-size=\"1.0rem\" font-weight=\"100\" text-anchor=\"middle\" >2048</text>\n",
       "  <text x=\"55.350397\" y=\"60.000000\" font-size=\"1.0rem\" font-weight=\"100\" text-anchor=\"middle\" transform=\"rotate(-90,55.350397,60.000000)\">35640</text>\n",
       "</svg>\n",
       "        </td>\n",
       "    </tr>\n",
       "</table></div></div></li><li class='xr-section-item'><input id='section-6a244609-9854-48e8-bbd7-9a04c366bcf3' class='xr-section-summary-in' type='checkbox'  checked><label for='section-6a244609-9854-48e8-bbd7-9a04c366bcf3' class='xr-section-summary' >Coordinates: <span>(1)</span></label><div class='xr-section-inline-details'></div><div class='xr-section-details'><ul class='xr-var-list'><li class='xr-var-item'><div class='xr-var-name'><span>crs</span></div><div class='xr-var-dims'>()</div><div class='xr-var-dtype'>object</div><div class='xr-var-preview xr-preview'>+proj=longlat +ellps=WGS84 +type...</div><input id='attrs-1962093f-c438-4975-a8ec-9f57cdf3c649' class='xr-var-attrs-in' type='checkbox' disabled><label for='attrs-1962093f-c438-4975-a8ec-9f57cdf3c649' title='Show/Hide attributes'><svg class='icon xr-icon-file-text2'><use xlink:href='#icon-file-text2'></use></svg></label><input id='data-aec5f823-315c-46b4-be4c-97195e3b19a6' class='xr-var-data-in' type='checkbox'><label for='data-aec5f823-315c-46b4-be4c-97195e3b19a6' title='Show/Hide data repr'><svg class='icon xr-icon-database'><use xlink:href='#icon-database'></use></svg></label><div class='xr-var-attrs'><dl class='xr-attrs'></dl></div><div class='xr-var-data'><pre>array(&lt;Geographic 2D CRS: +proj=longlat +ellps=WGS84 +type=crs&gt;\n",
       "Name: unknown\n",
       "Axis Info [ellipsoidal]:\n",
       "- lon[east]: Longitude (degree)\n",
       "- lat[north]: Latitude (degree)\n",
       "Area of Use:\n",
       "- undefined\n",
       "Datum: Unknown based on WGS 84 ellipsoid\n",
       "- Ellipsoid: WGS 84\n",
       "- Prime Meridian: Greenwich\n",
       ", dtype=object)</pre></div></li></ul></div></li><li class='xr-section-item'><input id='section-dda2580a-fc4a-4a48-be22-3ec72ffeef3f' class='xr-section-summary-in' type='checkbox' disabled ><label for='section-dda2580a-fc4a-4a48-be22-3ec72ffeef3f' class='xr-section-summary'  title='Expand/collapse section'>Indexes: <span>(0)</span></label><div class='xr-section-inline-details'></div><div class='xr-section-details'><ul class='xr-var-list'></ul></div></li><li class='xr-section-item'><input id='section-53d6a4d3-171c-42d4-9c7c-d90699620eeb' class='xr-section-summary-in' type='checkbox'  ><label for='section-53d6a4d3-171c-42d4-9c7c-d90699620eeb' class='xr-section-summary' >Attributes: <span>(17)</span></label><div class='xr-section-inline-details'></div><div class='xr-section-details'><dl class='xr-attrs'><dt><span>platform_name :</span></dt><dd>Metop-C</dd><dt><span>sensor :</span></dt><dd>avhrr-3</dd><dt><span>units :</span></dt><dd>%</dd><dt><span>name :</span></dt><dd>1</dd><dt><span>wavelength :</span></dt><dd>0.63 µm (0.58-0.68 µm)</dd><dt><span>resolution :</span></dt><dd>1050</dd><dt><span>calibration :</span></dt><dd>reflectance</dd><dt><span>coordinates :</span></dt><dd>(&#x27;longitude&#x27;, &#x27;latitude&#x27;)</dd><dt><span>file_type :</span></dt><dd>avhrr_eps</dd><dt><span>standard_name :</span></dt><dd>toa_bidirectional_reflectance</dd><dt><span>modifiers :</span></dt><dd>()</dd><dt><span>start_time :</span></dt><dd>2024-07-04 09:52:03</dd><dt><span>end_time :</span></dt><dd>2024-07-04 11:31:03</dd><dt><span>reader :</span></dt><dd>avhrr_l1b_eps</dd><dt><span>area :</span></dt><dd>Shape: (35640, 2048)\n",
       "Lons: &lt;xarray.DataArray &#x27;from-value-406d302126e035987eb2d5a477669792&#x27; (y: 35640,\n",
       "                                                                 x: 2048)&gt; Size: 584MB\n",
       "dask.array&lt;from-value, shape=(35640, 2048), dtype=float64, chunksize=(35640, 2048), chunktype=numpy.ndarray&gt;\n",
       "Dimensions without coordinates: y, x\n",
       "Attributes: (12/14)\n",
       "    platform_name:        Metop-C\n",
       "    sensor:               avhrr-3\n",
       "    name:                 longitude\n",
       "    resolution:           1050\n",
       "    file_type:            avhrr_eps\n",
       "    standard_name:        longitude\n",
       "    ...                   ...\n",
       "    start_time:           2024-07-04 09:52:03\n",
       "    end_time:             2024-07-04 11:31:03\n",
       "    reader:               avhrr_l1b_eps\n",
       "    _satpy_id:            DataID(name=&#x27;longitude&#x27;, resolution=1050, modifiers...\n",
       "    long_name:            longitude\n",
       "    ancillary_variables:  []\n",
       "Lats: &lt;xarray.DataArray &#x27;from-value-1cfd3506e46c2f93b176b02fcf4c1a0d&#x27; (y: 35640,\n",
       "                                                                 x: 2048)&gt; Size: 584MB\n",
       "dask.array&lt;from-value, shape=(35640, 2048), dtype=float64, chunksize=(35640, 2048), chunktype=numpy.ndarray&gt;\n",
       "Dimensions without coordinates: y, x\n",
       "Attributes: (12/14)\n",
       "    platform_name:        Metop-C\n",
       "    sensor:               avhrr-3\n",
       "    name:                 latitude\n",
       "    resolution:           1050\n",
       "    file_type:            avhrr_eps\n",
       "    standard_name:        latitude\n",
       "    ...                   ...\n",
       "    start_time:           2024-07-04 09:52:03\n",
       "    end_time:             2024-07-04 11:31:03\n",
       "    reader:               avhrr_l1b_eps\n",
       "    _satpy_id:            DataID(name=&#x27;latitude&#x27;, resolution=1050, modifiers=())\n",
       "    long_name:            latitude\n",
       "    ancillary_variables:  []</dd><dt><span>_satpy_id :</span></dt><dd>DataID(name=&#x27;1&#x27;, wavelength=WavelengthRange(min=0.58, central=0.63, max=0.68, unit=&#x27;µm&#x27;), resolution=1050, calibration=&lt;1&gt;, modifiers=())</dd><dt><span>ancillary_variables :</span></dt><dd>[]</dd></dl></div></li></ul></div></div>"
      ],
      "text/plain": [
       "<xarray.DataArray 'truediv-2ede9baa58e1243870e3b013aacd3761' (y: 35640, x: 2048)> Size: 584MB\n",
       "dask.array<truediv, shape=(35640, 2048), dtype=float64, chunksize=(8192, 2048), chunktype=numpy.ndarray>\n",
       "Coordinates:\n",
       "    crs      object 8B +proj=longlat +ellps=WGS84 +type=crs\n",
       "Dimensions without coordinates: y, x\n",
       "Attributes: (12/17)\n",
       "    platform_name:        Metop-C\n",
       "    sensor:               avhrr-3\n",
       "    units:                %\n",
       "    name:                 1\n",
       "    wavelength:           0.63 µm (0.58-0.68 µm)\n",
       "    resolution:           1050\n",
       "    ...                   ...\n",
       "    start_time:           2024-07-04 09:52:03\n",
       "    end_time:             2024-07-04 11:31:03\n",
       "    reader:               avhrr_l1b_eps\n",
       "    area:                 Shape: (35640, 2048)\\nLons: <xarray.DataArray 'from...\n",
       "    _satpy_id:            DataID(name='1', wavelength=WavelengthRange(min=0.5...\n",
       "    ancillary_variables:  []"
      ]
     },
     "execution_count": 20,
     "metadata": {},
     "output_type": "execute_result"
    }
   ],
   "source": [
    "# load  \n",
    "scn.load(['1','2'])\n",
    "scn['1']"
   ]
  },
  {
   "cell_type": "code",
   "execution_count": 21,
   "id": "b9e2c6db-00dd-483b-b501-e60bea7572ac",
   "metadata": {
    "tags": []
   },
   "outputs": [
    {
     "data": {
      "text/plain": [
       "WavelengthRange(min=0.58, central=0.63, max=0.68, unit='µm')"
      ]
     },
     "execution_count": 21,
     "metadata": {},
     "output_type": "execute_result"
    }
   ],
   "source": [
    "scn['1'].attrs['wavelength']"
   ]
  },
  {
   "cell_type": "markdown",
   "id": "927e4688-dfa5-4881-bd8f-727758dbd1ea",
   "metadata": {},
   "source": [
    "#### Do some calculation\n",
    "\n",
    "Calculations based on loaded datasets/channels can easily be assigned to a new dataset.\n",
    "\n",
    "We resample the scene in a smaller area over the Spain and use the 2 loaded datasets to calculate a new dataset."
   ]
  },
  {
   "cell_type": "code",
   "execution_count": 22,
   "id": "254e61f7-e000-4baf-9cc0-194dcf1d328d",
   "metadata": {
    "tags": []
   },
   "outputs": [],
   "source": [
    "newscn = scn.resample('spain')"
   ]
  },
  {
   "cell_type": "code",
   "execution_count": 23,
   "id": "a006649f-5605-4968-a6cc-55a5ac0e093e",
   "metadata": {
    "tags": []
   },
   "outputs": [],
   "source": [
    "newscn[\"ndvi\"] = (newscn['2'] - newscn['1']) / (newscn['2'] + newscn['1'])\n",
    "#scn.show(\"ndvi\")"
   ]
  },
  {
   "cell_type": "markdown",
   "id": "95ac22d3-53f4-4e5c-b061-0045a928ee47",
   "metadata": {},
   "source": [
    "### Visualize datasets\n"
   ]
  },
  {
   "cell_type": "code",
   "execution_count": 24,
   "id": "4bcc0ab9-d289-429e-9247-9e6f6ac55c0f",
   "metadata": {
    "tags": []
   },
   "outputs": [],
   "source": [
    "import matplotlib.pyplot as plt\n",
    "from pyresample.kd_tree import resample_nearest\n",
    "from pyresample.geometry import AreaDefinition\n",
    "from pyresample import load_area\n"
   ]
  },
  {
   "cell_type": "code",
   "execution_count": 25,
   "id": "8a5d3df2-207e-4abc-ae7a-a73debda3ada",
   "metadata": {
    "tags": []
   },
   "outputs": [],
   "source": [
    "\n",
    "area_def = load_area(satpy_installation_path+'/etc/areas.yaml', 'spain') \n",
    "#scene \n",
    "lons, lats = newscn[\"1\"].area.get_lonlats()\n",
    "swath_def = pyresample.geometry.SwathDefinition(lons, lats)"
   ]
  },
  {
   "cell_type": "code",
   "execution_count": 26,
   "id": "d62a47ff-3528-4ffe-bcd6-955daef4237d",
   "metadata": {
    "tags": []
   },
   "outputs": [
    {
     "data": {
      "image/png": "[encoded data removed]",
      "text/plain": [
       "<Figure size 640x480 with 2 Axes>"
      ]
     },
     "metadata": {},
     "output_type": "display_data"
    }
   ],
   "source": [
    "ndvidata = newscn[\"ndvi\"].chunk({'y': 512, 'x': 512})\n",
    "ndvi=ndvidata.data.compute()\n",
    "#ndvi = newscn[\"ndvi\"].data.compute()\n",
    "\n",
    "result = resample_nearest(swath_def, ndvi, area_def, radius_of_influence=20000, fill_value=None)\n",
    "\n",
    "#cartopy\n",
    "crs = area_def.to_cartopy_crs()\n",
    "fig, ax = plt.subplots(subplot_kw=dict(projection=crs))\n",
    "coastlines = ax.coastlines()  \n",
    "ax.set_global()\n",
    "\n",
    "#plot\n",
    "img = plt.imshow(result, transform=crs, extent=crs.bounds, origin='upper')\n",
    "cbar = plt.colorbar()"
   ]
  },
  {
   "cell_type": "code",
   "execution_count": null,
   "id": "7b7485ac-985b-4f21-9459-9fbee8d05de6",
   "metadata": {},
   "outputs": [],
   "source": []
  }
 ],
 "metadata": {
  "kernelspec": {
   "display_name": "Python DEDL",
   "language": "python",
   "name": "python_dedl"
  },
  "language_info": {
   "codemirror_mode": {
    "name": "ipython",
    "version": 3
   },
   "file_extension": ".py",
   "mimetype": "text/x-python",
   "name": "python",
   "nbconvert_exporter": "python",
   "pygments_lexer": "ipython3",
   "version": "3.11.4"
  }
 },
 "nbformat": 4,
 "nbformat_minor": 5
}
