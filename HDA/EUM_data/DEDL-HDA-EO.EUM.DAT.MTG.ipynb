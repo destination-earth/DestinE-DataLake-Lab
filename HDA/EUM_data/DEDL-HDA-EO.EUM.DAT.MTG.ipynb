{
 "cells": [
  {
   "cell_type": "markdown",
   "id": "8c5b411e-2569-407f-824d-75fa1eff153d",
   "metadata": {},
   "source": [
    "![](https://github.com/destination-earth/DestinE-DataLake-Lab/blob/main/img/DestinE-banner.jpg?raw=true)"
   ]
  },
  {
   "cell_type": "markdown",
   "id": "c6bc3a82-a166-4ce9-97c1-75c781240cfd",
   "metadata": {},
   "source": [
    "**Copyright:** 2025 EUMETSAT <br>\n",
    "**License:** MIT <br>\n",
    "**Authors:** Serena Avolio (EUMETSAT/Starion)"
   ]
  },
  {
   "cell_type": "markdown",
   "id": "46a14601-9871-4ca6-9a23-b39426dd22a4",
   "metadata": {},
   "source": [
    "# Authenticate"
   ]
  },
  {
   "cell_type": "code",
   "execution_count": null,
   "id": "b65e90eb-6a5c-4cfc-b5e6-02e4c558fe93",
   "metadata": {
    "tags": []
   },
   "outputs": [],
   "source": [
    "import destinelab as deauth"
   ]
  },
  {
   "cell_type": "code",
   "execution_count": null,
   "id": "63236453-f236-44a8-b3e1-763a4b91dc7f",
   "metadata": {
    "tags": []
   },
   "outputs": [],
   "source": [
    "import requests\n",
    "import json\n",
    "import os\n",
    "import zipfile\n",
    "import datetime\n",
    "import shutil\n",
    "from getpass import getpass"
   ]
  },
  {
   "cell_type": "code",
   "execution_count": null,
   "id": "cf52ee08-4f04-481f-9f5c-632b744d8f68",
   "metadata": {
    "tags": []
   },
   "outputs": [],
   "source": [
    "DESP_USERNAME = input(\"Please input your DESP username or email: \")\n",
    "DESP_PASSWORD = getpass(\"Please input your DESP password: \")\n",
    "\n",
    "auth = deauth.AuthHandler(DESP_USERNAME, DESP_PASSWORD)\n",
    "access_token = auth.get_token()\n",
    "if access_token is not None:\n",
    "    print(\"DEDL/DESP Access Token Obtained Successfully\")\n",
    "else:\n",
    "    print(\"Failed to Obtain DEDL/DESP Access Token\")\n",
    "\n",
    "auth_headers = {\"Authorization\": f\"Bearer {access_token}\"}"
   ]
  },
  {
   "cell_type": "markdown",
   "id": "c1e16791-1a82-436d-b42f-860563594f4e",
   "metadata": {
    "tags": []
   },
   "source": [
    "#  Search"
   ]
  },
  {
   "cell_type": "markdown",
   "id": "d9cdb272-0f4b-4e85-8b82-367944c308b7",
   "metadata": {
    "tags": []
   },
   "source": [
    "## HDA endpoint\n",
    "HDA API is based on the Spatio Temporal Asset Catalog specification (STAC), it is convenient define a costant with its endpoint."
   ]
  },
  {
   "cell_type": "code",
   "execution_count": null,
   "id": "4e4b4048-cfc3-48af-b98a-523086f6ee67",
   "metadata": {
    "tags": []
   },
   "outputs": [],
   "source": [
    "HDA_STAC_ENDPOINT=\"https://hda.data.destination-earth.eu/stac/v2\""
   ]
  },
  {
   "cell_type": "code",
   "execution_count": null,
   "id": "867400c8-30bb-4cab-9408-e86f177f6ec7",
   "metadata": {
    "tags": []
   },
   "outputs": [],
   "source": [
    "COLLECTION_ID = \"EO.EUM.DAT.MTG.FCI-CLM\"\n",
    "COLLECTION_ID = \"EO.EUM.DAT.MTG.FCI-HRFI\""
   ]
  },
  {
   "cell_type": "code",
   "execution_count": null,
   "id": "88f3d1c0-5b3c-4312-a3f5-5d663f5a33be",
   "metadata": {
    "tags": []
   },
   "outputs": [],
   "source": [
    "response = requests.post(HDA_STAC_ENDPOINT+\"/search\", headers=auth_headers, json={\n",
    "    \"collections\": [COLLECTION_ID],\n",
    "    \"datetime\": \"2025-08-06T08:00:00Z/2025-08-07T00:00:00Z\"\n",
    "})\n"
   ]
  },
  {
   "cell_type": "code",
   "execution_count": null,
   "id": "e09b4c84-b38b-4ed6-a35b-f5c425ba4427",
   "metadata": {
    "tags": []
   },
   "outputs": [],
   "source": [
    "from IPython.display import JSON\n",
    "\n",
    "product = response.json()[\"features\"][0]\n",
    "JSON(product)"
   ]
  },
  {
   "cell_type": "markdown",
   "id": "36c653fb-7131-489c-bd17-acd6e4935261",
   "metadata": {},
   "source": [
    "# Download"
   ]
  },
  {
   "cell_type": "code",
   "execution_count": null,
   "id": "8e931f0f-6ce2-4d51-8f69-479768c42bc3",
   "metadata": {
    "tags": []
   },
   "outputs": [],
   "source": [
    "from tqdm import tqdm\n",
    "import time\n",
    "\n",
    "# Define a list of assets to download\n",
    "#assets = [\"Oa08_radiance.nc\", \"Oa06_radiance.nc\", \"Oa02_radiance.nc\"]\n",
    "assets = [\"downloadLink\"]\n",
    "\n",
    "for asset in assets:\n",
    "    download_url = product[\"assets\"][asset][\"href\"]\n",
    "    print(download_url)\n",
    "    filename = asset\n",
    "    print(filename)\n",
    "    response = requests.get(download_url, headers=auth_headers)\n",
    "    total_size = int(response.headers.get(\"content-length\", 0))\n",
    "\n",
    "    print(f\"downloading {filename}\")\n",
    "\n",
    "    with tqdm(total=total_size, unit=\"B\", unit_scale=True) as progress_bar:\n",
    "        with open(filename, 'wb') as f:\n",
    "            for data in response.iter_content(1024):\n",
    "                progress_bar.update(len(data))\n",
    "                f.write(data)"
   ]
  },
  {
   "cell_type": "code",
   "execution_count": null,
   "id": "4d773a26-eedd-4a9c-8ba3-9c406f5358e0",
   "metadata": {
    "tags": []
   },
   "outputs": [],
   "source": [
    "zf=zipfile.ZipFile(filename)\n",
    "with zipfile.ZipFile(filename, 'r') as zip_ref:\n",
    "    zip_ref.extractall('.')"
   ]
  },
  {
   "cell_type": "markdown",
   "id": "4e80f9c6-d11c-4230-bb9c-91336097c5e4",
   "metadata": {
    "tags": []
   },
   "source": [
    "# Satpy"
   ]
  },
  {
   "cell_type": "markdown",
   "id": "9bff4779-c2c9-4f10-b01e-510bda62e1ad",
   "metadata": {
    "tags": []
   },
   "source": [
    "The Python package satpy supports reading and loading data from many input files. \n",
    "For MSG data and the Native format, we can use the satpy reader 'seviri_l1b_native."
   ]
  },
  {
   "cell_type": "code",
   "execution_count": null,
   "id": "036cc07e-b531-4a0f-ac69-048867c0baba",
   "metadata": {
    "tags": []
   },
   "outputs": [],
   "source": [
    "pip install --quiet satpy"
   ]
  },
  {
   "cell_type": "markdown",
   "id": "b40bfac1-a149-4011-b10b-25e61baff1c4",
   "metadata": {},
   "source": [
    "Import required libraries"
   ]
  },
  {
   "cell_type": "code",
   "execution_count": null,
   "id": "d0e53472-46c1-450c-91a2-101f922a7597",
   "metadata": {
    "tags": []
   },
   "outputs": [],
   "source": [
    "from satpy.scene import Scene\n",
    "from satpy.composites import GenericCompositor\n",
    "from satpy.writers import to_image\n",
    "from satpy.resample import get_area_def\n",
    "from satpy import available_readers\n",
    "\n",
    "import warnings\n",
    "warnings.filterwarnings('ignore')\n",
    "warnings.simplefilter(action = \"ignore\", category = RuntimeWarning)"
   ]
  },
  {
   "cell_type": "code",
   "execution_count": null,
   "id": "693b7334-c0fe-4c51-8bad-850a5aecbeb6",
   "metadata": {
    "tags": []
   },
   "outputs": [],
   "source": [
    "#file='W_XX-EUMETSAT-Darmstadt,IMG+SAT,MTI1+FCI-2-CLM--FD------NC4E_C_EUMT_20250806080609_L2PF_OPE_20250806075000_20250806080000_N__C_0048_0000.nc'"
   ]
  },
  {
   "cell_type": "markdown",
   "id": "c92b0a66-2e4c-4f13-bfab-b00ecb87affe",
   "metadata": {},
   "source": [
    "### Read and load data"
   ]
  },
  {
   "cell_type": "markdown",
   "id": "f30e083e-c87f-4735-b9fc-57f8790c2278",
   "metadata": {},
   "source": [
    "We use the Scene constructor from the satpy library, a Scene object represents a single geographic region of data.\n",
    "Once loaded we can list all the available bands (spectral channel) for that scene."
   ]
  },
  {
   "cell_type": "code",
   "execution_count": null,
   "id": "a189c123-587a-4650-9108-5c5875ebac23",
   "metadata": {
    "tags": []
   },
   "outputs": [],
   "source": [
    "# define path to FCI test data folder\n",
    "path_to_data = './'\n",
    "from satpy import find_files_and_readers"
   ]
  },
  {
   "cell_type": "code",
   "execution_count": null,
   "id": "e1e7e980-fd2b-4782-92b9-3b049e92724c",
   "metadata": {
    "tags": []
   },
   "outputs": [],
   "source": [
    "files = find_files_and_readers(base_dir=path_to_data, reader='fci_l1c_nc')"
   ]
  },
  {
   "cell_type": "code",
   "execution_count": null,
   "id": "a1b6271d-d585-4a0e-ba63-94bde751fd48",
   "metadata": {
    "tags": []
   },
   "outputs": [],
   "source": [
    "scn = Scene(filenames=files)"
   ]
  },
  {
   "cell_type": "code",
   "execution_count": null,
   "id": "0ed326d5-886f-4fc9-a837-33e09767d351",
   "metadata": {
    "tags": []
   },
   "outputs": [],
   "source": [
    "scn.available_dataset_names()"
   ]
  },
  {
   "cell_type": "code",
   "execution_count": null,
   "id": "cf588085-b53f-4d21-9fa1-c6cc95225152",
   "metadata": {
    "tags": []
   },
   "outputs": [],
   "source": [
    "scn.available_composite_names()"
   ]
  },
  {
   "cell_type": "code",
   "execution_count": null,
   "id": "d1bdf7b4-c1f3-4d36-bc96-8af11db3bbf4",
   "metadata": {
    "tags": []
   },
   "outputs": [],
   "source": [
    "scn.load(['night_ir105','vis_06'], upper_right_corner='NE')"
   ]
  },
  {
   "cell_type": "code",
   "execution_count": null,
   "id": "0d489072-3f9c-497d-ba8e-0d99013dbcd3",
   "metadata": {
    "tags": []
   },
   "outputs": [],
   "source": [
    "vis_06_values = scn['vis_06'].values"
   ]
  },
  {
   "cell_type": "code",
   "execution_count": null,
   "id": "e24e661b-2fdc-4d79-95ef-6645f1bb7550",
   "metadata": {
    "tags": []
   },
   "outputs": [],
   "source": [
    "scn_resampled = scn.resample(\"eurol\", resampler='nearest', radius_of_influence=5000)"
   ]
  },
  {
   "cell_type": "code",
   "execution_count": null,
   "id": "8842e080-5160-48a0-b5e9-1aace336da3b",
   "metadata": {
    "tags": []
   },
   "outputs": [],
   "source": [
    "scn_resampled.show('night_ir105')"
   ]
  }
 ],
 "metadata": {
  "kernelspec": {
   "display_name": "Python DEDL",
   "language": "python",
   "name": "python_dedl"
  },
  "language_info": {
   "codemirror_mode": {
    "name": "ipython",
    "version": 3
   },
   "file_extension": ".py",
   "mimetype": "text/x-python",
   "name": "python",
   "nbconvert_exporter": "python",
   "pygments_lexer": "ipython3",
   "version": "3.11.4"
  }
 },
 "nbformat": 4,
 "nbformat_minor": 5
}
