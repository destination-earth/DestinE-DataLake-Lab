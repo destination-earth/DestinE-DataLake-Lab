{
 "cells": [
  {
   "cell_type": "markdown",
   "id": "0dfdb4d4-4b1e-4789-931e-0529963dc1bd",
   "metadata": {},
   "source": [
    "# Will it rain in Rome over the next 3 weekends?"
   ]
  },
  {
   "cell_type": "markdown",
   "id": "be83f323-2bcf-454d-9a24-5f3993378b1e",
   "metadata": {},
   "source": [
    "This notebook demonstrates how to use **Destination Earth Climate Digital Twin (DT) data** \n",
    "to answer a simple but practical question:  \n",
    "\n",
    "> *Will it rain in Rome over the next 3 weekends?*\n",
    "\n",
    "We’ll:\n",
    "1. Select a dataset with precipitation forecasts.  \n",
    "2. Extract values for Rome’s location.  \n",
    "3. Aggregate rainfall totals over each weekend.  \n",
    "4. Report a simple \"Rain\" or \"No Rain\" answer."
   ]
  },
  {
   "cell_type": "code",
   "execution_count": 1,
   "id": "9e906df8-fef3-48fa-8d01-4e85398dc99d",
   "metadata": {
    "tags": []
   },
   "outputs": [
    {
     "name": "stdout",
     "output_type": "stream",
     "text": [
      "Requirement already satisfied: pygrib in /opt/conda/envs/python_dedl/lib/python3.11/site-packages (2.1.6)\n",
      "Requirement already satisfied: packaging in /opt/conda/envs/python_dedl/lib/python3.11/site-packages (from pygrib) (25.0)\n",
      "Requirement already satisfied: pyproj in /opt/conda/envs/python_dedl/lib/python3.11/site-packages (from pygrib) (3.7.1)\n",
      "Requirement already satisfied: numpy in /opt/conda/envs/python_dedl/lib/python3.11/site-packages (from pygrib) (1.26.4)\n",
      "Requirement already satisfied: certifi in /opt/conda/envs/python_dedl/lib/python3.11/site-packages (from pyproj->pygrib) (2025.1.31)\n",
      "Note: you may need to restart the kernel to use updated packages.\n"
     ]
    }
   ],
   "source": [
    "pip install pygrib"
   ]
  },
  {
   "cell_type": "markdown",
   "id": "09d6cd00-e482-4bfe-bc9d-4e060273ebe7",
   "metadata": {},
   "source": [
    "## setup"
   ]
  },
  {
   "cell_type": "code",
   "execution_count": 2,
   "id": "ee1aa3af-778d-4124-bffa-a2ac36b6ca15",
   "metadata": {
    "tags": []
   },
   "outputs": [],
   "source": [
    "import destinelab as deauth\n",
    "import json\n",
    "import datetime\n",
    "import importlib\n",
    "import importlib.metadata as metadata\n",
    "\n",
    "import requests\n",
    "from requests.adapters import HTTPAdapter\n",
    "import os\n",
    "from getpass import getpass\n",
    "from tqdm import tqdm\n",
    "import time\n",
    "from urllib.parse import unquote\n",
    "from time import sleep\n",
    "from IPython.display import JSON\n",
    "\n",
    "import sys\n",
    "import subprocess\n",
    "from packaging import version\n",
    "\n",
    "from IPython.display import display, HTML\n",
    "import healpy as hp"
   ]
  },
  {
   "cell_type": "code",
   "execution_count": 3,
   "id": "b134b27a-258b-45ac-93c2-c741a21996b7",
   "metadata": {
    "tags": []
   },
   "outputs": [],
   "source": [
    "\n",
    "from datetime import datetime, timedelta\n",
    "import pandas as pd\n",
    "import geopandas\n",
    "import xarray as xr\n",
    "import pygrib\n",
    "\n",
    "import matplotlib.pyplot as plt\n",
    "import dask"
   ]
  },
  {
   "cell_type": "code",
   "execution_count": 4,
   "id": "8a76b71b-ba10-4cb1-8a14-d45d2a5bd67a",
   "metadata": {
    "tags": []
   },
   "outputs": [],
   "source": [
    "\n",
    "\n",
    "#convert grib to csv and clip to bounding\n",
    "def filter_grib_to_xr(input_grib_file, lat_min, lat_max, lon_min, lon_max):\n",
    "    dataset = xr.open_dataset(input_grib_file, engine='cfgrib')\n",
    "\n",
    "    filtered_dataset = dataset.where(\n",
    "        (dataset.latitude >= lat_min) &\n",
    "        (dataset.latitude <= lat_max) &\n",
    "        (dataset.longitude >= lon_min) &\n",
    "        (dataset.longitude <= lon_max),\n",
    "        drop=True\n",
    "    )\n",
    "\n",
    "    return filtered_dataset \n"
   ]
  },
  {
   "cell_type": "markdown",
   "id": "1069cb5a-2c5b-4c4f-b9da-4324e656dd3e",
   "metadata": {},
   "source": [
    "## Download"
   ]
  },
  {
   "cell_type": "markdown",
   "id": "350d6458-5e2d-4166-872e-c0ea6df91bc3",
   "metadata": {},
   "source": [
    "### Authentication"
   ]
  },
  {
   "cell_type": "code",
   "execution_count": 5,
   "id": "55371bf9-6215-4d62-8dde-3342824f1d08",
   "metadata": {
    "tags": []
   },
   "outputs": [
    {
     "name": "stdin",
     "output_type": "stream",
     "text": [
      "Please input your DESP username:  serena.avolio\n",
      "Please input your DESP password:  ········\n"
     ]
    },
    {
     "name": "stdout",
     "output_type": "stream",
     "text": [
      "Response code: 200\n",
      "DEDL/DESP Access Token Obtained Successfully\n"
     ]
    }
   ],
   "source": [
    "DESP_USERNAME = input(\"Please input your DESP username: \")\n",
    "DESP_PASSWORD = getpass(\"Please input your DESP password: \")\n",
    "\n",
    "auth = deauth.AuthHandler(DESP_USERNAME, DESP_PASSWORD)\n",
    "access_token = auth.get_token()\n",
    "if access_token is not None:\n",
    "    print(\"DEDL/DESP Access Token Obtained Successfully\")\n",
    "else:\n",
    "    print(\"Failed to Obtain DEDL/DESP Access Token\")\n",
    "\n",
    "auth_headers = {\"Authorization\": f\"Bearer {access_token}\"}"
   ]
  },
  {
   "cell_type": "markdown",
   "id": "7c64f967-54a3-4dae-80cc-bed63917ab98",
   "metadata": {},
   "source": [
    "### check DT access"
   ]
  },
  {
   "cell_type": "code",
   "execution_count": 6,
   "id": "e3d36ab1-8aa2-46af-862a-244ae9779245",
   "metadata": {
    "tags": []
   },
   "outputs": [
    {
     "name": "stdout",
     "output_type": "stream",
     "text": [
      "DT Output access allowed\n"
     ]
    }
   ],
   "source": [
    "installed_version = importlib.metadata.version(\"destinelab\")\n",
    "version_number = installed_version.split('.')[1]\n",
    "if((int(version_number) >= 8 and float(installed_version) < 1) or float(installed_version) >= 1):\n",
    "    auth.is_DTaccess_allowed(access_token)"
   ]
  },
  {
   "cell_type": "markdown",
   "id": "5bdc3733-3e4d-4f00-87d5-eda97f12fa8d",
   "metadata": {},
   "source": [
    "### Order"
   ]
  },
  {
   "cell_type": "code",
   "execution_count": 7,
   "id": "002ca1e4-b7e3-4e6c-bb1e-a59eb4edcf7f",
   "metadata": {
    "tags": []
   },
   "outputs": [],
   "source": [
    "HDA_STAC_ENDPOINT=\"https://hda.data.destination-earth.eu/stac/v2\"\n",
    "COLLECTION_ID=\"EO.ECMWF.DAT.DT_CLIMATE_ADAPTATION\""
   ]
  },
  {
   "cell_type": "code",
   "execution_count": 8,
   "id": "75a9ffb3-de91-43e9-9e10-ed8b8eec48a8",
   "metadata": {
    "tags": []
   },
   "outputs": [],
   "source": [
    "ecmwf_properties={\n",
    "'ecmwf:resolution': 'high',\n",
    " 'ecmwf:model': 'IFS-NEMO',\n",
    " 'ecmwf:type': 'fc',\n",
    " 'ecmwf:dataset': 'climate-dt',\n",
    " 'ecmwf:param': '228',\n",
    " 'ecmwf:levtype': 'sfc',\n",
    " 'ecmwf:expver': '0001',\n",
    " 'ecmwf:date': '20250924/to/20251015',\n",
    " 'ecmwf:realization': '1',\n",
    " 'ecmwf:activity': 'ScenarioMIP',\n",
    " 'ecmwf:class': 'd1',\n",
    " 'ecmwf:stream': 'clte',\n",
    " 'ecmwf:time': '0000',\n",
    " 'ecmwf:experiment': 'SSP3-7.0',\n",
    " 'ecmwf:generation': '1'}\n"
   ]
  },
  {
   "cell_type": "code",
   "execution_count": 9,
   "id": "ebe18076-44d6-4bfa-a23c-ac25e23f2b43",
   "metadata": {
    "tags": []
   },
   "outputs": [
    {
     "name": "stdout",
     "output_type": "stream",
     "text": [
      "Product ordered: 29a5c7d8-7f72-4eea-8133-50701fc8b6e6\n",
      "Provider: dedt_lumi\n",
      "Storage tier: offline (product must have storage tier \"online\" to be downloadable)\n",
      "Order status: shipping\n"
     ]
    }
   ],
   "source": [
    "response = requests.post(f\"{HDA_STAC_ENDPOINT}/collections/{COLLECTION_ID}/order\", json=ecmwf_properties, headers=auth_headers)\n",
    "\n",
    "if response.status_code != 200:\n",
    "    print(response.content)\n",
    "response.raise_for_status()\n",
    "\n",
    "ordered_item = response.json()\n",
    "\n",
    "product_id = ordered_item[\"id\"]\n",
    "storage_tier = ordered_item[\"properties\"].get(\"storage:tier\", \"online\")\n",
    "order_status = ordered_item[\"properties\"].get(\"order:status\", \"unknown\")\n",
    "federation_backend = ordered_item[\"properties\"].get(\"federation:backends\", [None])[0]\n",
    "\n",
    "print(f\"Product ordered: {product_id}\")\n",
    "print(f\"Provider: {federation_backend}\")\n",
    "print(f\"Storage tier: {storage_tier} (product must have storage tier \\\"online\\\" to be downloadable)\")\n",
    "print(f\"Order status: {order_status}\")    "
   ]
  },
  {
   "cell_type": "code",
   "execution_count": 10,
   "id": "5e564f8a-3633-4a2b-bf3a-a66363bfb00c",
   "metadata": {
    "tags": []
   },
   "outputs": [
    {
     "name": "stdout",
     "output_type": "stream",
     "text": [
      "Polling 1/300\n",
      "Polling 2/300\n",
      "Polling 3/300\n",
      "Product is ready to be downloaded.\n",
      "Asset URL: https://hda-download.lumi.data.destination-earth.eu/data/dedt_lumi/EO.ECMWF.DAT.DT_CLIMATE_ADAPTATION/29a5c7d8-7f72-4eea-8133-50701fc8b6e6/downloadLink\n"
     ]
    }
   ],
   "source": [
    "#timeout and step for polling (sec)\n",
    "TIMEOUT = 300\n",
    "STEP = 1\n",
    "ONLINE_STATUS = \"online\"\n",
    "\n",
    "self_url = f\"{HDA_STAC_ENDPOINT}/collections/{COLLECTION_ID}/items/{product_id}\"\n",
    "item = {}\n",
    "\n",
    "for i in range(0, TIMEOUT, STEP):\n",
    "    print(f\"Polling {i + 1}/{TIMEOUT // STEP}\")\n",
    "\n",
    "    response = requests.get(self_url, headers=auth_headers)\n",
    "    if response.status_code != 200:\n",
    "        print(response.content)\n",
    "    response.raise_for_status()\n",
    "    item = response.json()\n",
    "\n",
    "    storage_tier = item[\"properties\"].get(\"storage:tier\", ONLINE_STATUS)\n",
    "\n",
    "    if storage_tier == ONLINE_STATUS:\n",
    "        download_url = item[\"assets\"][\"downloadLink\"][\"href\"]\n",
    "        print(\"Product is ready to be downloaded.\")\n",
    "        print(f\"Asset URL: {download_url}\")\n",
    "        break\n",
    "\n",
    "    sleep(STEP)\n",
    "else:\n",
    "    order_status = item[\"properties\"].get(\"order:status\", \"unknown\")\n",
    "    print(f\"We could not download the product after {TIMEOUT // STEP} tries. Current order status is {order_status}\")"
   ]
  },
  {
   "cell_type": "code",
   "execution_count": 11,
   "id": "5617304e-83b1-4822-ae95-8f77f87f0400",
   "metadata": {
    "tags": []
   },
   "outputs": [
    {
     "name": "stdout",
     "output_type": "stream",
     "text": [
      "downloading 29a5c7d8-7f72-4eea-8133-50701fc8b6e6.grib\n"
     ]
    },
    {
     "name": "stderr",
     "output_type": "stream",
     "text": [
      "291MB [00:08, 34.3MB/s] \n"
     ]
    }
   ],
   "source": [
    "response = requests.get(download_url, stream=True, headers=auth_headers)\n",
    "response.raise_for_status()\n",
    "\n",
    "content_disposition = response.headers.get('Content-Disposition')\n",
    "total_size = int(response.headers.get(\"content-length\", 0))\n",
    "if content_disposition:\n",
    "    filename = content_disposition.split('filename=')[1].strip('\"')\n",
    "    filename = unquote(filename)\n",
    "else:\n",
    "    filename = os.path.basename(self_url)\n",
    "\n",
    "# Open a local file in binary write mode and write the content\n",
    "print(f\"downloading {filename}\")\n",
    "\n",
    "with tqdm(total=total_size, unit=\"B\", unit_scale=True) as progress_bar:\n",
    "    with open(filename, 'wb') as f:\n",
    "        for data in response.iter_content(1024):\n",
    "            progress_bar.update(len(data))\n",
    "            f.write(data)"
   ]
  },
  {
   "cell_type": "code",
   "execution_count": 12,
   "id": "b0daa15d-afad-48f6-8360-0a779758284e",
   "metadata": {
    "tags": []
   },
   "outputs": [],
   "source": [
    "download_path =  filename"
   ]
  },
  {
   "cell_type": "code",
   "execution_count": 13,
   "id": "1ca70860-7210-45c5-853f-8380f360c6fd",
   "metadata": {
    "tags": []
   },
   "outputs": [],
   "source": [
    "rome_lon= 12.5\n",
    "rome_lat= 41.9"
   ]
  },
  {
   "cell_type": "code",
   "execution_count": 14,
   "id": "0a7501a2-58ab-4e59-8531-f18f8406efe7",
   "metadata": {
    "tags": []
   },
   "outputs": [
    {
     "name": "stderr",
     "output_type": "stream",
     "text": [
      "/opt/conda/envs/python_dedl/lib/python3.11/site-packages/cfgrib/xarray_plugin.py:131: FutureWarning: In a future version, xarray will not decode the variable 'step' into a timedelta64 dtype based on the presence of a timedelta-like 'units' attribute by default. Instead it will rely on the presence of a timedelta64 'dtype' attribute, which is now xarray's default way of encoding timedelta64 values.\n",
      "To continue decoding into a timedelta64 dtype, either set `decode_timedelta=True` when opening this dataset, or add the attribute `dtype='timedelta64[ns]'` to this variable on disk.\n",
      "To opt-in to future behavior, set `decode_timedelta=False`.\n",
      "  vars, attrs, coord_names = xr.conventions.decode_cf_variables(\n"
     ]
    },
    {
     "data": {
      "text/html": [
       "<div><svg style=\"position: absolute; width: 0; height: 0; overflow: hidden\">\n",
       "<defs>\n",
       "<symbol id=\"icon-database\" viewBox=\"0 0 32 32\">\n",
       "<path d=\"M16 0c-8.837 0-16 2.239-16 5v4c0 2.761 7.163 5 16 5s16-2.239 16-5v-4c0-2.761-7.163-5-16-5z\"></path>\n",
       "<path d=\"M16 17c-8.837 0-16-2.239-16-5v6c0 2.761 7.163 5 16 5s16-2.239 16-5v-6c0 2.761-7.163 5-16 5z\"></path>\n",
       "<path d=\"M16 26c-8.837 0-16-2.239-16-5v6c0 2.761 7.163 5 16 5s16-2.239 16-5v-6c0 2.761-7.163 5-16 5z\"></path>\n",
       "</symbol>\n",
       "<symbol id=\"icon-file-text2\" viewBox=\"0 0 32 32\">\n",
       "<path d=\"M28.681 7.159c-0.694-0.947-1.662-2.053-2.724-3.116s-2.169-2.030-3.116-2.724c-1.612-1.182-2.393-1.319-2.841-1.319h-15.5c-1.378 0-2.5 1.121-2.5 2.5v27c0 1.378 1.122 2.5 2.5 2.5h23c1.378 0 2.5-1.122 2.5-2.5v-19.5c0-0.448-0.137-1.23-1.319-2.841zM24.543 5.457c0.959 0.959 1.712 1.825 2.268 2.543h-4.811v-4.811c0.718 0.556 1.584 1.309 2.543 2.268zM28 29.5c0 0.271-0.229 0.5-0.5 0.5h-23c-0.271 0-0.5-0.229-0.5-0.5v-27c0-0.271 0.229-0.5 0.5-0.5 0 0 15.499-0 15.5 0v7c0 0.552 0.448 1 1 1h7v19.5z\"></path>\n",
       "<path d=\"M23 26h-14c-0.552 0-1-0.448-1-1s0.448-1 1-1h14c0.552 0 1 0.448 1 1s-0.448 1-1 1z\"></path>\n",
       "<path d=\"M23 22h-14c-0.552 0-1-0.448-1-1s0.448-1 1-1h14c0.552 0 1 0.448 1 1s-0.448 1-1 1z\"></path>\n",
       "<path d=\"M23 18h-14c-0.552 0-1-0.448-1-1s0.448-1 1-1h14c0.552 0 1 0.448 1 1s-0.448 1-1 1z\"></path>\n",
       "</symbol>\n",
       "</defs>\n",
       "</svg>\n",
       "<style>/* CSS stylesheet for displaying xarray objects in jupyterlab.\n",
       " *\n",
       " */\n",
       "\n",
       ":root {\n",
       "  --xr-font-color0: var(\n",
       "    --jp-content-font-color0,\n",
       "    var(--pst-color-text-base rgba(0, 0, 0, 1))\n",
       "  );\n",
       "  --xr-font-color2: var(\n",
       "    --jp-content-font-color2,\n",
       "    var(--pst-color-text-base, rgba(0, 0, 0, 0.54))\n",
       "  );\n",
       "  --xr-font-color3: var(\n",
       "    --jp-content-font-color3,\n",
       "    var(--pst-color-text-base, rgba(0, 0, 0, 0.38))\n",
       "  );\n",
       "  --xr-border-color: var(\n",
       "    --jp-border-color2,\n",
       "    hsl(from var(--pst-color-on-background, white) h s calc(l - 10))\n",
       "  );\n",
       "  --xr-disabled-color: var(\n",
       "    --jp-layout-color3,\n",
       "    hsl(from var(--pst-color-on-background, white) h s calc(l - 40))\n",
       "  );\n",
       "  --xr-background-color: var(\n",
       "    --jp-layout-color0,\n",
       "    var(--pst-color-on-background, white)\n",
       "  );\n",
       "  --xr-background-color-row-even: var(\n",
       "    --jp-layout-color1,\n",
       "    hsl(from var(--pst-color-on-background, white) h s calc(l - 5))\n",
       "  );\n",
       "  --xr-background-color-row-odd: var(\n",
       "    --jp-layout-color2,\n",
       "    hsl(from var(--pst-color-on-background, white) h s calc(l - 15))\n",
       "  );\n",
       "}\n",
       "\n",
       "html[theme=\"dark\"],\n",
       "html[data-theme=\"dark\"],\n",
       "body[data-theme=\"dark\"],\n",
       "body.vscode-dark {\n",
       "  --xr-font-color0: var(\n",
       "    --jp-content-font-color0,\n",
       "    var(--pst-color-text-base, rgba(255, 255, 255, 1))\n",
       "  );\n",
       "  --xr-font-color2: var(\n",
       "    --jp-content-font-color2,\n",
       "    var(--pst-color-text-base, rgba(255, 255, 255, 0.54))\n",
       "  );\n",
       "  --xr-font-color3: var(\n",
       "    --jp-content-font-color3,\n",
       "    var(--pst-color-text-base, rgba(255, 255, 255, 0.38))\n",
       "  );\n",
       "  --xr-border-color: var(\n",
       "    --jp-border-color2,\n",
       "    hsl(from var(--pst-color-on-background, #111111) h s calc(l + 10))\n",
       "  );\n",
       "  --xr-disabled-color: var(\n",
       "    --jp-layout-color3,\n",
       "    hsl(from var(--pst-color-on-background, #111111) h s calc(l + 40))\n",
       "  );\n",
       "  --xr-background-color: var(\n",
       "    --jp-layout-color0,\n",
       "    var(--pst-color-on-background, #111111)\n",
       "  );\n",
       "  --xr-background-color-row-even: var(\n",
       "    --jp-layout-color1,\n",
       "    hsl(from var(--pst-color-on-background, #111111) h s calc(l + 5))\n",
       "  );\n",
       "  --xr-background-color-row-odd: var(\n",
       "    --jp-layout-color2,\n",
       "    hsl(from var(--pst-color-on-background, #111111) h s calc(l + 15))\n",
       "  );\n",
       "}\n",
       "\n",
       ".xr-wrap {\n",
       "  display: block !important;\n",
       "  min-width: 300px;\n",
       "  max-width: 700px;\n",
       "}\n",
       "\n",
       ".xr-text-repr-fallback {\n",
       "  /* fallback to plain text repr when CSS is not injected (untrusted notebook) */\n",
       "  display: none;\n",
       "}\n",
       "\n",
       ".xr-header {\n",
       "  padding-top: 6px;\n",
       "  padding-bottom: 6px;\n",
       "  margin-bottom: 4px;\n",
       "  border-bottom: solid 1px var(--xr-border-color);\n",
       "}\n",
       "\n",
       ".xr-header > div,\n",
       ".xr-header > ul {\n",
       "  display: inline;\n",
       "  margin-top: 0;\n",
       "  margin-bottom: 0;\n",
       "}\n",
       "\n",
       ".xr-obj-type,\n",
       ".xr-array-name {\n",
       "  margin-left: 2px;\n",
       "  margin-right: 10px;\n",
       "}\n",
       "\n",
       ".xr-obj-type {\n",
       "  color: var(--xr-font-color2);\n",
       "}\n",
       "\n",
       ".xr-sections {\n",
       "  padding-left: 0 !important;\n",
       "  display: grid;\n",
       "  grid-template-columns: 150px auto auto 1fr 0 20px 0 20px;\n",
       "}\n",
       "\n",
       ".xr-section-item {\n",
       "  display: contents;\n",
       "}\n",
       "\n",
       ".xr-section-item input {\n",
       "  display: inline-block;\n",
       "  opacity: 0;\n",
       "  height: 0;\n",
       "}\n",
       "\n",
       ".xr-section-item input + label {\n",
       "  color: var(--xr-disabled-color);\n",
       "  border: 2px solid transparent !important;\n",
       "}\n",
       "\n",
       ".xr-section-item input:enabled + label {\n",
       "  cursor: pointer;\n",
       "  color: var(--xr-font-color2);\n",
       "}\n",
       "\n",
       ".xr-section-item input:focus + label {\n",
       "  border: 2px solid var(--xr-font-color0) !important;\n",
       "}\n",
       "\n",
       ".xr-section-item input:enabled + label:hover {\n",
       "  color: var(--xr-font-color0);\n",
       "}\n",
       "\n",
       ".xr-section-summary {\n",
       "  grid-column: 1;\n",
       "  color: var(--xr-font-color2);\n",
       "  font-weight: 500;\n",
       "}\n",
       "\n",
       ".xr-section-summary > span {\n",
       "  display: inline-block;\n",
       "  padding-left: 0.5em;\n",
       "}\n",
       "\n",
       ".xr-section-summary-in:disabled + label {\n",
       "  color: var(--xr-font-color2);\n",
       "}\n",
       "\n",
       ".xr-section-summary-in + label:before {\n",
       "  display: inline-block;\n",
       "  content: \"►\";\n",
       "  font-size: 11px;\n",
       "  width: 15px;\n",
       "  text-align: center;\n",
       "}\n",
       "\n",
       ".xr-section-summary-in:disabled + label:before {\n",
       "  color: var(--xr-disabled-color);\n",
       "}\n",
       "\n",
       ".xr-section-summary-in:checked + label:before {\n",
       "  content: \"▼\";\n",
       "}\n",
       "\n",
       ".xr-section-summary-in:checked + label > span {\n",
       "  display: none;\n",
       "}\n",
       "\n",
       ".xr-section-summary,\n",
       ".xr-section-inline-details {\n",
       "  padding-top: 4px;\n",
       "  padding-bottom: 4px;\n",
       "}\n",
       "\n",
       ".xr-section-inline-details {\n",
       "  grid-column: 2 / -1;\n",
       "}\n",
       "\n",
       ".xr-section-details {\n",
       "  display: none;\n",
       "  grid-column: 1 / -1;\n",
       "  margin-bottom: 5px;\n",
       "}\n",
       "\n",
       ".xr-section-summary-in:checked ~ .xr-section-details {\n",
       "  display: contents;\n",
       "}\n",
       "\n",
       ".xr-array-wrap {\n",
       "  grid-column: 1 / -1;\n",
       "  display: grid;\n",
       "  grid-template-columns: 20px auto;\n",
       "}\n",
       "\n",
       ".xr-array-wrap > label {\n",
       "  grid-column: 1;\n",
       "  vertical-align: top;\n",
       "}\n",
       "\n",
       ".xr-preview {\n",
       "  color: var(--xr-font-color3);\n",
       "}\n",
       "\n",
       ".xr-array-preview,\n",
       ".xr-array-data {\n",
       "  padding: 0 5px !important;\n",
       "  grid-column: 2;\n",
       "}\n",
       "\n",
       ".xr-array-data,\n",
       ".xr-array-in:checked ~ .xr-array-preview {\n",
       "  display: none;\n",
       "}\n",
       "\n",
       ".xr-array-in:checked ~ .xr-array-data,\n",
       ".xr-array-preview {\n",
       "  display: inline-block;\n",
       "}\n",
       "\n",
       ".xr-dim-list {\n",
       "  display: inline-block !important;\n",
       "  list-style: none;\n",
       "  padding: 0 !important;\n",
       "  margin: 0;\n",
       "}\n",
       "\n",
       ".xr-dim-list li {\n",
       "  display: inline-block;\n",
       "  padding: 0;\n",
       "  margin: 0;\n",
       "}\n",
       "\n",
       ".xr-dim-list:before {\n",
       "  content: \"(\";\n",
       "}\n",
       "\n",
       ".xr-dim-list:after {\n",
       "  content: \")\";\n",
       "}\n",
       "\n",
       ".xr-dim-list li:not(:last-child):after {\n",
       "  content: \",\";\n",
       "  padding-right: 5px;\n",
       "}\n",
       "\n",
       ".xr-has-index {\n",
       "  font-weight: bold;\n",
       "}\n",
       "\n",
       ".xr-var-list,\n",
       ".xr-var-item {\n",
       "  display: contents;\n",
       "}\n",
       "\n",
       ".xr-var-item > div,\n",
       ".xr-var-item label,\n",
       ".xr-var-item > .xr-var-name span {\n",
       "  background-color: var(--xr-background-color-row-even);\n",
       "  border-color: var(--xr-background-color-row-odd);\n",
       "  margin-bottom: 0;\n",
       "  padding-top: 2px;\n",
       "}\n",
       "\n",
       ".xr-var-item > .xr-var-name:hover span {\n",
       "  padding-right: 5px;\n",
       "}\n",
       "\n",
       ".xr-var-list > li:nth-child(odd) > div,\n",
       ".xr-var-list > li:nth-child(odd) > label,\n",
       ".xr-var-list > li:nth-child(odd) > .xr-var-name span {\n",
       "  background-color: var(--xr-background-color-row-odd);\n",
       "  border-color: var(--xr-background-color-row-even);\n",
       "}\n",
       "\n",
       ".xr-var-name {\n",
       "  grid-column: 1;\n",
       "}\n",
       "\n",
       ".xr-var-dims {\n",
       "  grid-column: 2;\n",
       "}\n",
       "\n",
       ".xr-var-dtype {\n",
       "  grid-column: 3;\n",
       "  text-align: right;\n",
       "  color: var(--xr-font-color2);\n",
       "}\n",
       "\n",
       ".xr-var-preview {\n",
       "  grid-column: 4;\n",
       "}\n",
       "\n",
       ".xr-index-preview {\n",
       "  grid-column: 2 / 5;\n",
       "  color: var(--xr-font-color2);\n",
       "}\n",
       "\n",
       ".xr-var-name,\n",
       ".xr-var-dims,\n",
       ".xr-var-dtype,\n",
       ".xr-preview,\n",
       ".xr-attrs dt {\n",
       "  white-space: nowrap;\n",
       "  overflow: hidden;\n",
       "  text-overflow: ellipsis;\n",
       "  padding-right: 10px;\n",
       "}\n",
       "\n",
       ".xr-var-name:hover,\n",
       ".xr-var-dims:hover,\n",
       ".xr-var-dtype:hover,\n",
       ".xr-attrs dt:hover {\n",
       "  overflow: visible;\n",
       "  width: auto;\n",
       "  z-index: 1;\n",
       "}\n",
       "\n",
       ".xr-var-attrs,\n",
       ".xr-var-data,\n",
       ".xr-index-data {\n",
       "  display: none;\n",
       "  border-top: 2px dotted var(--xr-background-color);\n",
       "  padding-bottom: 20px !important;\n",
       "  padding-top: 10px !important;\n",
       "}\n",
       "\n",
       ".xr-var-attrs-in + label,\n",
       ".xr-var-data-in + label,\n",
       ".xr-index-data-in + label {\n",
       "  padding: 0 1px;\n",
       "}\n",
       "\n",
       ".xr-var-attrs-in:checked ~ .xr-var-attrs,\n",
       ".xr-var-data-in:checked ~ .xr-var-data,\n",
       ".xr-index-data-in:checked ~ .xr-index-data {\n",
       "  display: block;\n",
       "}\n",
       "\n",
       ".xr-var-data > table {\n",
       "  float: right;\n",
       "}\n",
       "\n",
       ".xr-var-data > pre,\n",
       ".xr-index-data > pre,\n",
       ".xr-var-data > table > tbody > tr {\n",
       "  background-color: transparent !important;\n",
       "}\n",
       "\n",
       ".xr-var-name span,\n",
       ".xr-var-data,\n",
       ".xr-index-name div,\n",
       ".xr-index-data,\n",
       ".xr-attrs {\n",
       "  padding-left: 25px !important;\n",
       "}\n",
       "\n",
       ".xr-attrs,\n",
       ".xr-var-attrs,\n",
       ".xr-var-data,\n",
       ".xr-index-data {\n",
       "  grid-column: 1 / -1;\n",
       "}\n",
       "\n",
       "dl.xr-attrs {\n",
       "  padding: 0;\n",
       "  margin: 0;\n",
       "  display: grid;\n",
       "  grid-template-columns: 125px auto;\n",
       "}\n",
       "\n",
       ".xr-attrs dt,\n",
       ".xr-attrs dd {\n",
       "  padding: 0;\n",
       "  margin: 0;\n",
       "  float: left;\n",
       "  padding-right: 10px;\n",
       "  width: auto;\n",
       "}\n",
       "\n",
       ".xr-attrs dt {\n",
       "  font-weight: normal;\n",
       "  grid-column: 1;\n",
       "}\n",
       "\n",
       ".xr-attrs dt:hover span {\n",
       "  display: inline-block;\n",
       "  background: var(--xr-background-color);\n",
       "  padding-right: 10px;\n",
       "}\n",
       "\n",
       ".xr-attrs dd {\n",
       "  grid-column: 2;\n",
       "  white-space: pre-wrap;\n",
       "  word-break: break-all;\n",
       "}\n",
       "\n",
       ".xr-icon-database,\n",
       ".xr-icon-file-text2,\n",
       ".xr-no-icon {\n",
       "  display: inline-block;\n",
       "  vertical-align: middle;\n",
       "  width: 1em;\n",
       "  height: 1.5em !important;\n",
       "  stroke-width: 0;\n",
       "  stroke: currentColor;\n",
       "  fill: currentColor;\n",
       "}\n",
       "\n",
       ".xr-var-attrs-in:checked + label > .xr-icon-file-text2,\n",
       ".xr-var-data-in:checked + label > .xr-icon-database,\n",
       ".xr-index-data-in:checked + label > .xr-icon-database {\n",
       "  color: var(--xr-font-color0);\n",
       "  filter: drop-shadow(1px 1px 5px var(--xr-font-color2));\n",
       "  stroke-width: 0.8px;\n",
       "}\n",
       "</style><pre class='xr-text-repr-fallback'>&lt;xarray.Dataset&gt; Size: 680B\n",
       "Dimensions:     (time: 22, values: 3)\n",
       "Coordinates:\n",
       "  * time        (time) datetime64[ns] 176B 2025-09-24 2025-09-25 ... 2025-10-15\n",
       "    step        timedelta64[ns] 8B 01:00:00\n",
       "    surface     float64 8B 0.0\n",
       "    latitude    (values) float64 24B 41.86 41.91 41.91\n",
       "    longitude   (values) float64 24B 12.54 12.46 12.55\n",
       "    valid_time  (time) datetime64[ns] 176B ...\n",
       "Dimensions without coordinates: values\n",
       "Data variables:\n",
       "    tp          (time, values) float32 264B 0.0 0.0 0.0 ... 0.0 0.0 0.0\n",
       "Attributes:\n",
       "    GRIB_edition:            2\n",
       "    GRIB_centre:             ecmf\n",
       "    GRIB_centreDescription:  European Centre for Medium-Range Weather Forecasts\n",
       "    GRIB_subCentre:          1003\n",
       "    Conventions:             CF-1.7\n",
       "    institution:             European Centre for Medium-Range Weather Forecasts\n",
       "    history:                 2025-09-24T08:51 GRIB to CDM+CF via cfgrib-0.9.1...</pre><div class='xr-wrap' style='display:none'><div class='xr-header'><div class='xr-obj-type'>xarray.Dataset</div></div><ul class='xr-sections'><li class='xr-section-item'><input id='section-e4a35877-87a1-4a8f-91cb-860f0c6754af' class='xr-section-summary-in' type='checkbox' disabled ><label for='section-e4a35877-87a1-4a8f-91cb-860f0c6754af' class='xr-section-summary'  title='Expand/collapse section'>Dimensions:</label><div class='xr-section-inline-details'><ul class='xr-dim-list'><li><span class='xr-has-index'>time</span>: 22</li><li><span>values</span>: 3</li></ul></div><div class='xr-section-details'></div></li><li class='xr-section-item'><input id='section-b16abc42-8a0f-4ea4-9b10-77bba28b6dfe' class='xr-section-summary-in' type='checkbox'  checked><label for='section-b16abc42-8a0f-4ea4-9b10-77bba28b6dfe' class='xr-section-summary' >Coordinates: <span>(6)</span></label><div class='xr-section-inline-details'></div><div class='xr-section-details'><ul class='xr-var-list'><li class='xr-var-item'><div class='xr-var-name'><span class='xr-has-index'>time</span></div><div class='xr-var-dims'>(time)</div><div class='xr-var-dtype'>datetime64[ns]</div><div class='xr-var-preview xr-preview'>2025-09-24 ... 2025-10-15</div><input id='attrs-80487325-25db-4661-9aab-ed40259d9aca' class='xr-var-attrs-in' type='checkbox' ><label for='attrs-80487325-25db-4661-9aab-ed40259d9aca' title='Show/Hide attributes'><svg class='icon xr-icon-file-text2'><use xlink:href='#icon-file-text2'></use></svg></label><input id='data-f9a9809d-f729-4300-9c02-5626732e558a' class='xr-var-data-in' type='checkbox'><label for='data-f9a9809d-f729-4300-9c02-5626732e558a' title='Show/Hide data repr'><svg class='icon xr-icon-database'><use xlink:href='#icon-database'></use></svg></label><div class='xr-var-attrs'><dl class='xr-attrs'><dt><span>long_name :</span></dt><dd>initial time of forecast</dd><dt><span>standard_name :</span></dt><dd>forecast_reference_time</dd></dl></div><div class='xr-var-data'><pre>array([&#x27;2025-09-24T00:00:00.000000000&#x27;, &#x27;2025-09-25T00:00:00.000000000&#x27;,\n",
       "       &#x27;2025-09-26T00:00:00.000000000&#x27;, &#x27;2025-09-27T00:00:00.000000000&#x27;,\n",
       "       &#x27;2025-09-28T00:00:00.000000000&#x27;, &#x27;2025-09-29T00:00:00.000000000&#x27;,\n",
       "       &#x27;2025-09-30T00:00:00.000000000&#x27;, &#x27;2025-10-01T00:00:00.000000000&#x27;,\n",
       "       &#x27;2025-10-02T00:00:00.000000000&#x27;, &#x27;2025-10-03T00:00:00.000000000&#x27;,\n",
       "       &#x27;2025-10-04T00:00:00.000000000&#x27;, &#x27;2025-10-05T00:00:00.000000000&#x27;,\n",
       "       &#x27;2025-10-06T00:00:00.000000000&#x27;, &#x27;2025-10-07T00:00:00.000000000&#x27;,\n",
       "       &#x27;2025-10-08T00:00:00.000000000&#x27;, &#x27;2025-10-09T00:00:00.000000000&#x27;,\n",
       "       &#x27;2025-10-10T00:00:00.000000000&#x27;, &#x27;2025-10-11T00:00:00.000000000&#x27;,\n",
       "       &#x27;2025-10-12T00:00:00.000000000&#x27;, &#x27;2025-10-13T00:00:00.000000000&#x27;,\n",
       "       &#x27;2025-10-14T00:00:00.000000000&#x27;, &#x27;2025-10-15T00:00:00.000000000&#x27;],\n",
       "      dtype=&#x27;datetime64[ns]&#x27;)</pre></div></li><li class='xr-var-item'><div class='xr-var-name'><span>step</span></div><div class='xr-var-dims'>()</div><div class='xr-var-dtype'>timedelta64[ns]</div><div class='xr-var-preview xr-preview'>01:00:00</div><input id='attrs-4f27b593-1dab-4bd4-a946-f2c5125dfef1' class='xr-var-attrs-in' type='checkbox' ><label for='attrs-4f27b593-1dab-4bd4-a946-f2c5125dfef1' title='Show/Hide attributes'><svg class='icon xr-icon-file-text2'><use xlink:href='#icon-file-text2'></use></svg></label><input id='data-04e2fd72-d5e3-45d6-8c5d-50f6d3c85529' class='xr-var-data-in' type='checkbox'><label for='data-04e2fd72-d5e3-45d6-8c5d-50f6d3c85529' title='Show/Hide data repr'><svg class='icon xr-icon-database'><use xlink:href='#icon-database'></use></svg></label><div class='xr-var-attrs'><dl class='xr-attrs'><dt><span>long_name :</span></dt><dd>time since forecast_reference_time</dd><dt><span>standard_name :</span></dt><dd>forecast_period</dd></dl></div><div class='xr-var-data'><pre>array(3600000000000, dtype=&#x27;timedelta64[ns]&#x27;)</pre></div></li><li class='xr-var-item'><div class='xr-var-name'><span>surface</span></div><div class='xr-var-dims'>()</div><div class='xr-var-dtype'>float64</div><div class='xr-var-preview xr-preview'>0.0</div><input id='attrs-0c2a7f1b-832e-4075-86a2-5b4155dc1f69' class='xr-var-attrs-in' type='checkbox' ><label for='attrs-0c2a7f1b-832e-4075-86a2-5b4155dc1f69' title='Show/Hide attributes'><svg class='icon xr-icon-file-text2'><use xlink:href='#icon-file-text2'></use></svg></label><input id='data-00386609-efbb-4a5f-8afe-6f1186355d4b' class='xr-var-data-in' type='checkbox'><label for='data-00386609-efbb-4a5f-8afe-6f1186355d4b' title='Show/Hide data repr'><svg class='icon xr-icon-database'><use xlink:href='#icon-database'></use></svg></label><div class='xr-var-attrs'><dl class='xr-attrs'><dt><span>long_name :</span></dt><dd>original GRIB coordinate for key: level(surface)</dd><dt><span>units :</span></dt><dd>1</dd></dl></div><div class='xr-var-data'><pre>array(0.)</pre></div></li><li class='xr-var-item'><div class='xr-var-name'><span>latitude</span></div><div class='xr-var-dims'>(values)</div><div class='xr-var-dtype'>float64</div><div class='xr-var-preview xr-preview'>41.86 41.91 41.91</div><input id='attrs-ad0013f0-7094-42ef-941d-63b0b7e8f181' class='xr-var-attrs-in' type='checkbox' ><label for='attrs-ad0013f0-7094-42ef-941d-63b0b7e8f181' title='Show/Hide attributes'><svg class='icon xr-icon-file-text2'><use xlink:href='#icon-file-text2'></use></svg></label><input id='data-1e8e6d73-3815-4ae4-9828-12dd172a54fa' class='xr-var-data-in' type='checkbox'><label for='data-1e8e6d73-3815-4ae4-9828-12dd172a54fa' title='Show/Hide data repr'><svg class='icon xr-icon-database'><use xlink:href='#icon-database'></use></svg></label><div class='xr-var-attrs'><dl class='xr-attrs'><dt><span>units :</span></dt><dd>degrees_north</dd><dt><span>standard_name :</span></dt><dd>latitude</dd><dt><span>long_name :</span></dt><dd>latitude</dd></dl></div><div class='xr-var-data'><pre>array([41.86035581, 41.91038697, 41.91038697])</pre></div></li><li class='xr-var-item'><div class='xr-var-name'><span>longitude</span></div><div class='xr-var-dims'>(values)</div><div class='xr-var-dtype'>float64</div><div class='xr-var-preview xr-preview'>12.54 12.46 12.55</div><input id='attrs-4435f1c2-39e0-471a-bd2f-eff8c5b74e03' class='xr-var-attrs-in' type='checkbox' ><label for='attrs-4435f1c2-39e0-471a-bd2f-eff8c5b74e03' title='Show/Hide attributes'><svg class='icon xr-icon-file-text2'><use xlink:href='#icon-file-text2'></use></svg></label><input id='data-5c7b7735-df7d-46f2-83d9-ed12b032081b' class='xr-var-data-in' type='checkbox'><label for='data-5c7b7735-df7d-46f2-83d9-ed12b032081b' title='Show/Hide data repr'><svg class='icon xr-icon-database'><use xlink:href='#icon-database'></use></svg></label><div class='xr-var-attrs'><dl class='xr-attrs'><dt><span>units :</span></dt><dd>degrees_east</dd><dt><span>standard_name :</span></dt><dd>longitude</dd><dt><span>long_name :</span></dt><dd>longitude</dd></dl></div><div class='xr-var-data'><pre>array([12.53665689, 12.46086106, 12.54892368])</pre></div></li><li class='xr-var-item'><div class='xr-var-name'><span>valid_time</span></div><div class='xr-var-dims'>(time)</div><div class='xr-var-dtype'>datetime64[ns]</div><div class='xr-var-preview xr-preview'>...</div><input id='attrs-c2d71fec-ac51-47c5-bb43-e2653f794878' class='xr-var-attrs-in' type='checkbox' ><label for='attrs-c2d71fec-ac51-47c5-bb43-e2653f794878' title='Show/Hide attributes'><svg class='icon xr-icon-file-text2'><use xlink:href='#icon-file-text2'></use></svg></label><input id='data-6ca67c6a-f57a-4465-949a-d1cd44f27343' class='xr-var-data-in' type='checkbox'><label for='data-6ca67c6a-f57a-4465-949a-d1cd44f27343' title='Show/Hide data repr'><svg class='icon xr-icon-database'><use xlink:href='#icon-database'></use></svg></label><div class='xr-var-attrs'><dl class='xr-attrs'><dt><span>standard_name :</span></dt><dd>time</dd><dt><span>long_name :</span></dt><dd>time</dd></dl></div><div class='xr-var-data'><pre>[22 values with dtype=datetime64[ns]]</pre></div></li></ul></div></li><li class='xr-section-item'><input id='section-f8b60ae8-a01b-47ab-ab87-822f7ceac3a4' class='xr-section-summary-in' type='checkbox'  checked><label for='section-f8b60ae8-a01b-47ab-ab87-822f7ceac3a4' class='xr-section-summary' >Data variables: <span>(1)</span></label><div class='xr-section-inline-details'></div><div class='xr-section-details'><ul class='xr-var-list'><li class='xr-var-item'><div class='xr-var-name'><span>tp</span></div><div class='xr-var-dims'>(time, values)</div><div class='xr-var-dtype'>float32</div><div class='xr-var-preview xr-preview'>0.0 0.0 0.0 ... 0.0 0.0 0.0</div><input id='attrs-7aab7df0-2e9b-4432-880a-b4ca66785da0' class='xr-var-attrs-in' type='checkbox' ><label for='attrs-7aab7df0-2e9b-4432-880a-b4ca66785da0' title='Show/Hide attributes'><svg class='icon xr-icon-file-text2'><use xlink:href='#icon-file-text2'></use></svg></label><input id='data-5a2146d5-cf55-4ae1-945f-1de68fef6d2c' class='xr-var-data-in' type='checkbox'><label for='data-5a2146d5-cf55-4ae1-945f-1de68fef6d2c' title='Show/Hide data repr'><svg class='icon xr-icon-database'><use xlink:href='#icon-database'></use></svg></label><div class='xr-var-attrs'><dl class='xr-attrs'><dt><span>GRIB_paramId :</span></dt><dd>228</dd><dt><span>GRIB_dataType :</span></dt><dd>fc</dd><dt><span>GRIB_numberOfPoints :</span></dt><dd>12582912</dd><dt><span>GRIB_typeOfLevel :</span></dt><dd>surface</dd><dt><span>GRIB_stepUnits :</span></dt><dd>1</dd><dt><span>GRIB_stepType :</span></dt><dd>accum</dd><dt><span>GRIB_gridType :</span></dt><dd>healpix</dd><dt><span>GRIB_uvRelativeToGrid :</span></dt><dd>0</dd><dt><span>GRIB_NV :</span></dt><dd>0</dd><dt><span>GRIB_cfName :</span></dt><dd>unknown</dd><dt><span>GRIB_cfVarName :</span></dt><dd>tp</dd><dt><span>GRIB_gridDefinitionDescription :</span></dt><dd>150</dd><dt><span>GRIB_missingValue :</span></dt><dd>3.4028234663852886e+38</dd><dt><span>GRIB_name :</span></dt><dd>Total precipitation</dd><dt><span>GRIB_shortName :</span></dt><dd>tp</dd><dt><span>GRIB_units :</span></dt><dd>m</dd><dt><span>long_name :</span></dt><dd>Total precipitation</dd><dt><span>units :</span></dt><dd>m</dd><dt><span>standard_name :</span></dt><dd>unknown</dd></dl></div><div class='xr-var-data'><pre>array([[0.0000000e+00, 0.0000000e+00, 0.0000000e+00],\n",
       "       [2.0638108e-05, 3.8638711e-05, 0.0000000e+00],\n",
       "       [2.6911497e-03, 2.7763247e-03, 2.5536418e-03],\n",
       "       [3.5762787e-06, 5.5789948e-05, 0.0000000e+00],\n",
       "       [0.0000000e+00, 0.0000000e+00, 0.0000000e+00],\n",
       "       [0.0000000e+00, 0.0000000e+00, 0.0000000e+00],\n",
       "       [0.0000000e+00, 0.0000000e+00, 0.0000000e+00],\n",
       "       [0.0000000e+00, 0.0000000e+00, 0.0000000e+00],\n",
       "       [0.0000000e+00, 0.0000000e+00, 0.0000000e+00],\n",
       "       [0.0000000e+00, 0.0000000e+00, 0.0000000e+00],\n",
       "       [0.0000000e+00, 0.0000000e+00, 0.0000000e+00],\n",
       "       [0.0000000e+00, 0.0000000e+00, 0.0000000e+00],\n",
       "       [0.0000000e+00, 0.0000000e+00, 0.0000000e+00],\n",
       "       [0.0000000e+00, 0.0000000e+00, 0.0000000e+00],\n",
       "       [0.0000000e+00, 0.0000000e+00, 0.0000000e+00],\n",
       "       [2.4478137e-04, 2.6543438e-04, 2.6068091e-04],\n",
       "       [0.0000000e+00, 0.0000000e+00, 0.0000000e+00],\n",
       "       [0.0000000e+00, 0.0000000e+00, 0.0000000e+00],\n",
       "       [0.0000000e+00, 0.0000000e+00, 0.0000000e+00],\n",
       "       [0.0000000e+00, 0.0000000e+00, 0.0000000e+00],\n",
       "       [0.0000000e+00, 0.0000000e+00, 0.0000000e+00],\n",
       "       [0.0000000e+00, 0.0000000e+00, 0.0000000e+00]], dtype=float32)</pre></div></li></ul></div></li><li class='xr-section-item'><input id='section-2ef93bae-2fd2-4c0c-a4ad-b9458436be0e' class='xr-section-summary-in' type='checkbox'  ><label for='section-2ef93bae-2fd2-4c0c-a4ad-b9458436be0e' class='xr-section-summary' >Indexes: <span>(1)</span></label><div class='xr-section-inline-details'></div><div class='xr-section-details'><ul class='xr-var-list'><li class='xr-var-item'><div class='xr-index-name'><div>time</div></div><div class='xr-index-preview'>PandasIndex</div><input type='checkbox' disabled/><label></label><input id='index-ac8180fd-8455-4716-ae4a-a1e8ba8c59e2' class='xr-index-data-in' type='checkbox'/><label for='index-ac8180fd-8455-4716-ae4a-a1e8ba8c59e2' title='Show/Hide index repr'><svg class='icon xr-icon-database'><use xlink:href='#icon-database'></use></svg></label><div class='xr-index-data'><pre>PandasIndex(DatetimeIndex([&#x27;2025-09-24&#x27;, &#x27;2025-09-25&#x27;, &#x27;2025-09-26&#x27;, &#x27;2025-09-27&#x27;,\n",
       "               &#x27;2025-09-28&#x27;, &#x27;2025-09-29&#x27;, &#x27;2025-09-30&#x27;, &#x27;2025-10-01&#x27;,\n",
       "               &#x27;2025-10-02&#x27;, &#x27;2025-10-03&#x27;, &#x27;2025-10-04&#x27;, &#x27;2025-10-05&#x27;,\n",
       "               &#x27;2025-10-06&#x27;, &#x27;2025-10-07&#x27;, &#x27;2025-10-08&#x27;, &#x27;2025-10-09&#x27;,\n",
       "               &#x27;2025-10-10&#x27;, &#x27;2025-10-11&#x27;, &#x27;2025-10-12&#x27;, &#x27;2025-10-13&#x27;,\n",
       "               &#x27;2025-10-14&#x27;, &#x27;2025-10-15&#x27;],\n",
       "              dtype=&#x27;datetime64[ns]&#x27;, name=&#x27;time&#x27;, freq=None))</pre></div></li></ul></div></li><li class='xr-section-item'><input id='section-df9fd97b-8025-4d64-afbf-800821a9feb6' class='xr-section-summary-in' type='checkbox'  checked><label for='section-df9fd97b-8025-4d64-afbf-800821a9feb6' class='xr-section-summary' >Attributes: <span>(7)</span></label><div class='xr-section-inline-details'></div><div class='xr-section-details'><dl class='xr-attrs'><dt><span>GRIB_edition :</span></dt><dd>2</dd><dt><span>GRIB_centre :</span></dt><dd>ecmf</dd><dt><span>GRIB_centreDescription :</span></dt><dd>European Centre for Medium-Range Weather Forecasts</dd><dt><span>GRIB_subCentre :</span></dt><dd>1003</dd><dt><span>Conventions :</span></dt><dd>CF-1.7</dd><dt><span>institution :</span></dt><dd>European Centre for Medium-Range Weather Forecasts</dd><dt><span>history :</span></dt><dd>2025-09-24T08:51 GRIB to CDM+CF via cfgrib-0.9.15.0/ecCodes-2.35.0 with {&quot;source&quot;: &quot;29a5c7d8-7f72-4eea-8133-50701fc8b6e6.grib&quot;, &quot;filter_by_keys&quot;: {}, &quot;encode_cf&quot;: [&quot;parameter&quot;, &quot;time&quot;, &quot;geography&quot;, &quot;vertical&quot;]}</dd></dl></div></li></ul></div></div>"
      ],
      "text/plain": [
       "<xarray.Dataset> Size: 680B\n",
       "Dimensions:     (time: 22, values: 3)\n",
       "Coordinates:\n",
       "  * time        (time) datetime64[ns] 176B 2025-09-24 2025-09-25 ... 2025-10-15\n",
       "    step        timedelta64[ns] 8B 01:00:00\n",
       "    surface     float64 8B 0.0\n",
       "    latitude    (values) float64 24B 41.86 41.91 41.91\n",
       "    longitude   (values) float64 24B 12.54 12.46 12.55\n",
       "    valid_time  (time) datetime64[ns] 176B ...\n",
       "Dimensions without coordinates: values\n",
       "Data variables:\n",
       "    tp          (time, values) float32 264B 0.0 0.0 0.0 ... 0.0 0.0 0.0\n",
       "Attributes:\n",
       "    GRIB_edition:            2\n",
       "    GRIB_centre:             ecmf\n",
       "    GRIB_centreDescription:  European Centre for Medium-Range Weather Forecasts\n",
       "    GRIB_subCentre:          1003\n",
       "    Conventions:             CF-1.7\n",
       "    institution:             European Centre for Medium-Range Weather Forecasts\n",
       "    history:                 2025-09-24T08:51 GRIB to CDM+CF via cfgrib-0.9.1..."
      ]
     },
     "execution_count": 14,
     "metadata": {},
     "output_type": "execute_result"
    }
   ],
   "source": [
    "rome_ds= filter_grib_to_xr(filename , rome_lat-0.05, rome_lat+0.05, rome_lon-0.05, rome_lon+0.05)\n",
    "rome_ds"
   ]
  },
  {
   "cell_type": "code",
   "execution_count": 16,
   "id": "fc37e894-4977-42f7-a534-e9e41978a6a5",
   "metadata": {
    "tags": []
   },
   "outputs": [
    {
     "data": {
      "text/plain": [
       "DatetimeIndex(['2025-09-27', '2025-10-04', '2025-10-11'], dtype='datetime64[ns]', freq='7D')"
      ]
     },
     "execution_count": 16,
     "metadata": {},
     "output_type": "execute_result"
    }
   ],
   "source": [
    "weekends = pd.date_range(\"2025-09-27\", periods=3, freq=\"7D\")\n",
    "\n",
    "weekends"
   ]
  },
  {
   "cell_type": "code",
   "execution_count": 17,
   "id": "0fffa987-fd3d-4cfd-91e1-29b994e877c5",
   "metadata": {
    "tags": []
   },
   "outputs": [
    {
     "data": {
      "text/plain": [
       "{'2025-09-27': '☀️ No Rain',\n",
       " '2025-10-04': '☀️ No Rain',\n",
       " '2025-10-11': '☀️ No Rain'}"
      ]
     },
     "metadata": {},
     "output_type": "display_data"
    }
   ],
   "source": [
    "results = {}\n",
    "\n",
    "for start in weekends:\n",
    "    # Weekend = Sat (start) + Sun (start+1)\n",
    "    end = start + pd.Timedelta(days=1)\n",
    "    \n",
    "    weekend_data = rome_ds.sel(time=slice(start, end))\n",
    "    total_precip = weekend_data['tp'].sum().item()  # assuming variable is called 'precip'\n",
    "    \n",
    "    results[str(start.date())] = \"🌧️ Rain\" if total_precip > 1.0 else \"☀️ No Rain\"\n",
    "\n",
    "display(results)"
   ]
  },
  {
   "cell_type": "code",
   "execution_count": 19,
   "id": "bc16b6a0-b858-4181-9c48-dc6124382876",
   "metadata": {
    "tags": []
   },
   "outputs": [
    {
     "data": {
      "image/png": "[encoded data removed]",
      "text/plain": [
       "<Figure size 1000x400 with 1 Axes>"
      ]
     },
     "metadata": {},
     "output_type": "display_data"
    }
   ],
   "source": [
    "import matplotlib.pyplot as plt\n",
    "\n",
    "# Extract precipitation time series for Rome\n",
    "rome_precip = rome_ds['tp'].to_pandas()\n",
    "\n",
    "# Plot only the period covering the 3 weekends\n",
    "plot_start = weekends[0]\n",
    "plot_end = weekends[-1] + pd.Timedelta(days=1)\n",
    "rome_precip = rome_precip.loc[plot_start:plot_end]\n",
    "\n",
    "# Plot\n",
    "fig, ax = plt.subplots(figsize=(10, 4))\n",
    "rome_precip.plot(ax=ax, lw=2, color=\"blue\")\n",
    "\n",
    "# Highlight weekends\n",
    "for start in weekends:\n",
    "    end = start + pd.Timedelta(days=1)\n",
    "    ax.axvspan(start, end, color=\"lightgray\", alpha=0.3, label=\"Weekend\" if start == weekends[0] else \"\")\n",
    "\n",
    "ax.set_title(\"Precipitation Forecast for Rome (Next 3 Weekends)\")\n",
    "ax.set_ylabel(\"Precipitation (mm)\")\n",
    "ax.set_xlabel(\"Date\")\n",
    "ax.legend()\n",
    "plt.show()"
   ]
  }
 ],
 "metadata": {
  "kernelspec": {
   "display_name": "Python DEDL",
   "language": "python",
   "name": "python_dedl"
  },
  "language_info": {
   "codemirror_mode": {
    "name": "ipython",
    "version": 3
   },
   "file_extension": ".py",
   "mimetype": "text/x-python",
   "name": "python",
   "nbconvert_exporter": "python",
   "pygments_lexer": "ipython3",
   "version": "3.11.4"
  }
 },
 "nbformat": 4,
 "nbformat_minor": 5
}
