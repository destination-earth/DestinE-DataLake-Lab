{
 "cells": [
  {
   "cell_type": "markdown",
   "id": "dc0d11e2-cec8-4cfb-9a1a-5068224a3b9f",
   "metadata": {
    "tags": []
   },
   "source": [
    "![](https://github.com/destination-earth/DestinE-DataLake-Lab/blob/main/img/DestinE-banner.jpg?raw=true)"
   ]
  },
  {
   "cell_type": "markdown",
   "id": "785c751f-6442-4fce-b303-94234334d9c2",
   "metadata": {},
   "source": [
    "<H1>Aviso notification for DT data availability</H1>"
   ]
  },
  {
   "cell_type": "markdown",
   "id": "ebe69f2f-1c0c-4415-b235-bb1ae9e08bf2",
   "metadata": {},
   "source": [
    "**Author**: EUMETSAT <br>\n",
    "**Copyright**: 2024 EUMETSAT <br>\n",
    "**Licence**: MIT <br>\n",
    "\n",
    "**Credit**: The pyaviso package is provided by the European Centre for Medium-Range Weather Forecasts (**ECMWF**)."
   ]
  },
  {
   "cell_type": "markdown",
   "id": "a374c665-cd70-4a3f-a43b-93e83aa1c98f",
   "metadata": {},
   "source": [
    "This notebook shows how to check the data availablility for the Weather-Induced Extremes Digital Twin (Extremes DT) using the ECMWF Aviso package."
   ]
  },
  {
   "cell_type": "markdown",
   "id": "223fc1c5-18af-4ba2-b01e-d73196a0b4ad",
   "metadata": {},
   "source": [
    "<H2>Install the pyaviso package</H2>"
   ]
  },
  {
   "cell_type": "code",
   "execution_count": 1,
   "id": "f6edf6d9-6415-4726-b985-60993acb303c",
   "metadata": {
    "tags": []
   },
   "outputs": [],
   "source": [
    "!pip  install  pyaviso --quiet"
   ]
  },
  {
   "cell_type": "markdown",
   "id": "305e9ec7-c7f6-4e3e-b7c4-e1f2bd434615",
   "metadata": {},
   "source": [
    "<H2>Import pyaviso</H2>\n",
    "Import pyaviso and other useful libraries. Defining constants and functions."
   ]
  },
  {
   "cell_type": "code",
   "execution_count": 2,
   "id": "c1676c6b-1399-4035-a044-906cd61a2419",
   "metadata": {
    "tags": []
   },
   "outputs": [],
   "source": [
    "from datetime import datetime\n",
    "from pprint import pprint as pp\n",
    "\n",
    "from pyaviso import NotificationManager, user_config"
   ]
  },
  {
   "cell_type": "code",
   "execution_count": 3,
   "id": "d35fdc9a-e5f1-42e0-89ea-9e0639718bd4",
   "metadata": {
    "tags": []
   },
   "outputs": [],
   "source": [
    "LISTENER_EVENT = \"data\"  # Event for the listener, options are mars and dissemination\n",
    "TRIGGER_TYPE = \"function\"  # Type of trigger for the listener"
   ]
  },
  {
   "cell_type": "markdown",
   "id": "fa04f156-f2fd-499c-bf5b-6471e4e70bb4",
   "metadata": {},
   "source": [
    "<H2>Defining the data to be notified</H2>\n",
    "The following request describes the data whose availability we want to be notified"
   ]
  },
  {
   "cell_type": "code",
   "execution_count": 4,
   "id": "2cb2349b-d7c9-42ec-80c2-4ae142d7d968",
   "metadata": {
    "tags": []
   },
   "outputs": [],
   "source": [
    "REQUEST = {\n",
    "    \"class\": \"d1\",\n",
    "#    \"dataset\": \"extremes-dt\",\n",
    "    \"expver\": \"0001\",\n",
    "    \"stream\": \"wave\",\n",
    "    \"type\": \"fc\",\n",
    "    \"time\": \"00\",\n",
    "    \"step\": \"0\",\n",
    "    \"levtype\": \"sfc\",\n",
    "#    \"levelist\": \"\",\n",
    "#    \"param\": \"168\"   \n",
    "}  # Request configuration for the listener\n"
   ]
  },
  {
   "cell_type": "markdown",
   "id": "bdb4ee57-2e38-4058-932c-6b3e80070296",
   "metadata": {},
   "source": [
    "<H2>Aviso configuration</H2>"
   ]
  },
  {
   "cell_type": "code",
   "execution_count": 5,
   "id": "af42f840-45c8-404c-a7c2-aa639dc26f70",
   "metadata": {
    "tags": []
   },
   "outputs": [],
   "source": [
    "CONFIG = {\n",
    "    \"notification_engine\": {\n",
    "        \"host\": \"aviso.lumi.apps.dte.destination-earth.eu\",\n",
    "        \"port\": 443,\n",
    "        \"https\": True,\n",
    "    },\n",
    "    \"configuration_engine\": {\n",
    "        \"host\": \"aviso.lumi.apps.dte.destination-earth.eu\",\n",
    "        \"port\": 443,\n",
    "        \"https\": True,\n",
    "    },\n",
    "    \"schema_parser\": \"generic\",\n",
    "    \"remote_schema\": True,\n",
    "    \"auth_type\": \"none\",\n",
    "    \"quiet\" : True\n",
    "}  # manually defined configuration\n"
   ]
  },
  {
   "cell_type": "markdown",
   "id": "c2f9313d-757c-4b99-bcff-83e41fd488d0",
   "metadata": {},
   "source": [
    "<H2>Searching for old notifications</H2>\n",
    "Ssearching for old notifications where available. \n",
    "This way users can explicitly replay past notifications and executes triggers. "
   ]
  },
  {
   "cell_type": "code",
   "execution_count": 6,
   "id": "0c184b98-6288-4051-99b0-cae2d0e713aa",
   "metadata": {
    "tags": []
   },
   "outputs": [],
   "source": [
    "import sys\n",
    "START_DATE = datetime(2020, 12, 12)  # Start date for the notification listener"
   ]
  },
  {
   "cell_type": "code",
   "execution_count": 7,
   "id": "2289b6cd-8721-48e6-a888-c4339e69a0cc",
   "metadata": {
    "tags": []
   },
   "outputs": [],
   "source": [
    "def triggered_function(notification):\n",
    "    \"\"\"\n",
    "    Function for the listener to trigger.\n",
    "    \"\"\"\n",
    "    \n",
    "    #pp(notification)\n",
    "    # Access the date field\n",
    "    date_str = notification['request']['date']    \n",
    "\n",
    "    # Convert the date string to a datetime object\n",
    "    date_obj = datetime.strptime(date_str, '%Y%m%d')\n",
    "    formatted_date = date_obj.strftime('%Y-%m-%d')\n",
    "    pp(\"ExtremeDT data available=>\" + formatted_date)\n",
    "    \n",
    "    "
   ]
  },
  {
   "cell_type": "code",
   "execution_count": 8,
   "id": "5aa1bb20-d33f-4540-a847-ebfd7a108b7d",
   "metadata": {
    "tags": []
   },
   "outputs": [],
   "source": [
    "def create_hist_listener():\n",
    "    \"\"\"\n",
    "    Creates and returns a listener configuration.\n",
    "    \"\"\"\n",
    "\n",
    "    trigger = {\n",
    "        \"type\": TRIGGER_TYPE,\n",
    "        \"function\": triggered_function,\n",
    "    }  # Define the trigger for the listener\n",
    "    \n",
    "    # Return the complete listener configuration\n",
    "    return {\"event\": LISTENER_EVENT, \"request\": REQUEST, \"triggers\": [trigger]}\n"
   ]
  },
  {
   "cell_type": "code",
   "execution_count": null,
   "id": "70e8a597-d5ce-461a-af71-e94eb54e4a67",
   "metadata": {
    "tags": []
   },
   "outputs": [
    {
     "name": "stdout",
     "output_type": "stream",
     "text": [
      "loaded config:\n",
      "{'auth_type': 'none',\n",
      " 'configuration_engine': {'host': 'aviso.lumi.apps.dte.destination-earth.eu',\n",
      "                          'https': True,\n",
      "                          'port': 443},\n",
      " 'notification_engine': {'host': 'aviso.lumi.apps.dte.destination-earth.eu',\n",
      "                         'https': True,\n",
      "                         'port': 443},\n",
      " 'quiet': True,\n",
      " 'remote_schema': True,\n",
      " 'schema_parser': 'generic'}\n",
      "'ExtremeDT data available=>2025-03-18'\n",
      "'ExtremeDT data available=>2025-03-17'\n",
      "'ExtremeDT data available=>2025-03-16'\n",
      "'ExtremeDT data available=>2025-03-15'\n",
      "'ExtremeDT data available=>2025-03-14'\n",
      "'ExtremeDT data available=>2025-03-13'\n",
      "'ExtremeDT data available=>2025-03-12'\n",
      "'ExtremeDT data available=>2025-03-11'\n",
      "'ExtremeDT data available=>2025-03-10'\n",
      "'ExtremeDT data available=>2025-03-09'\n",
      "'ExtremeDT data available=>2025-03-08'\n",
      "'ExtremeDT data available=>2025-03-07'\n",
      "'ExtremeDT data available=>2025-03-06'\n",
      "'ExtremeDT data available=>2025-03-05'\n",
      "'ExtremeDT data available=>2025-03-04'\n",
      "'ExtremeDT data available=>2025-03-03'\n",
      "'ExtremeDT data available=>2025-03-02'\n",
      "'ExtremeDT data available=>2025-03-01'\n",
      "'ExtremeDT data available=>2025-02-28'\n",
      "'ExtremeDT data available=>2025-02-27'\n",
      "'ExtremeDT data available=>2025-02-26'\n",
      "'ExtremeDT data available=>2025-02-25'\n",
      "'ExtremeDT data available=>2025-02-24'\n",
      "'ExtremeDT data available=>2025-02-23'\n",
      "'ExtremeDT data available=>2025-02-22'\n",
      "'ExtremeDT data available=>2025-02-21'\n",
      "'ExtremeDT data available=>2025-02-20'\n"
     ]
    }
   ],
   "source": [
    "try:\n",
    "    listener = create_hist_listener()  # Create listener configuration\n",
    "    listeners_config = {\"listeners\": [listener]}  # Define listeners configuration\n",
    "    config = user_config.UserConfig(**CONFIG)\n",
    "    print(\"loaded config:\")\n",
    "    pp(CONFIG)\n",
    "    nmh = NotificationManager()  # Initialize the NotificationManager\n",
    "\n",
    "    nmh.listen(\n",
    "        listeners=listeners_config, from_date=START_DATE, config=config\n",
    "    )  # Start listening\n",
    "except Exception as e:\n",
    "    print(f\"Failed to initialize the Notification Manager: {e}\")"
   ]
  },
  {
   "cell_type": "code",
   "execution_count": null,
   "id": "63f42638-a687-4117-9728-575ba638579b",
   "metadata": {},
   "outputs": [],
   "source": []
  }
 ],
 "metadata": {
  "kernelspec": {
   "display_name": "Python 3 (ipykernel)",
   "language": "python",
   "name": "python3"
  },
  "language_info": {
   "codemirror_mode": {
    "name": "ipython",
    "version": 3
   },
   "file_extension": ".py",
   "mimetype": "text/x-python",
   "name": "python",
   "nbconvert_exporter": "python",
   "pygments_lexer": "ipython3",
   "version": "3.10.11"
  }
 },
 "nbformat": 4,
 "nbformat_minor": 5
}
