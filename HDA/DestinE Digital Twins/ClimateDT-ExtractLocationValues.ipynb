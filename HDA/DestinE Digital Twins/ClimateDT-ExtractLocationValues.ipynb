{
 "cells": [
  {
   "cell_type": "markdown",
   "id": "0dfdb4d4-4b1e-4789-931e-0529963dc1bd",
   "metadata": {},
   "source": [
    "# Is it going to rain in the next 3 weekends?"
   ]
  },
  {
   "cell_type": "markdown",
   "id": "be83f323-2bcf-454d-9a24-5f3993378b1e",
   "metadata": {},
   "source": [
    "This notebook provides a hands-on introduction to working with data from the **Destination Earth Climate Digital Twin (DT).**\n",
    "The goal is to give you a quick taste of how to access, explore, and handle DT data. It’s not meant to be a scientific study, but rather an accessible walkthrough that highlights some of the possibilities the data offers.\n",
    "\n",
    "\n",
    "> \"A simple question with local impact: will it rain here soon?\"\n",
    "\n",
    "In this exercise we will:\n",
    "\n",
    "1. Select the right variable/scenario from the Climate DT in order to have precipitation forecasts. \n",
    "2. Order the Climate DT data\n",
    "3. Extract values for your place location.  \n",
    "4. Aggregate rainfall totals over each weekend and report the answer in text and in a plot"
   ]
  },
  {
   "cell_type": "markdown",
   "id": "c326535f-2413-498f-a84a-469acaf2a692",
   "metadata": {},
   "source": [
    "## Setup\n",
    "Let's import useful packages"
   ]
  },
  {
   "cell_type": "code",
   "execution_count": 1,
   "id": "ee1aa3af-778d-4124-bffa-a2ac36b6ca15",
   "metadata": {
    "tags": []
   },
   "outputs": [],
   "source": [
    "import destinelab as deauth\n",
    "import json\n",
    "import importlib\n",
    "import importlib.metadata as metadata\n",
    "import requests\n",
    "from requests.adapters import HTTPAdapter\n",
    "import os\n",
    "from getpass import getpass\n",
    "from tqdm import tqdm\n",
    "import time\n",
    "from urllib.parse import unquote\n",
    "from time import sleep\n",
    "from IPython.display import JSON\n",
    "import sys\n",
    "from packaging import version\n",
    "from IPython.display import display, HTML\n",
    "from datetime import datetime, timedelta\n",
    "import pandas as pd\n",
    "import xarray as xr\n",
    "import matplotlib.pyplot as plt"
   ]
  },
  {
   "cell_type": "markdown",
   "id": "1069cb5a-2c5b-4c4f-b9da-4324e656dd3e",
   "metadata": {},
   "source": [
    "## 1 - Select the right variable/scenario from the Climate DT in order to have precipitation forecasts.\n",
    "\n",
    "Use the [Simulation Selection](ClimateDT-ParameterPlotter.ipynb#Scenario-Simulation-Selection) to select the desired scenario simulation for Climate DT data and [Parameter Selection](ClimateDT-ParameterPlotter.ipynb#Parameter-Selection) to select the total precipitation  variable for the selected scenario.\n",
    "We then need to select our time range of interest starting from the next Friday.\n",
    "\n",
    "The selection will give you the json payload to place the order via HDA.\n"
   ]
  },
  {
   "cell_type": "code",
   "execution_count": 2,
   "id": "fb718d0e-503d-42f4-9ba3-7c68be9d2aac",
   "metadata": {
    "tags": []
   },
   "outputs": [],
   "source": [
    "order_body={\n",
    "'ecmwf:resolution': 'high',\n",
    " 'ecmwf:model': 'IFS-NEMO',\n",
    " 'ecmwf:type': 'fc',\n",
    " 'ecmwf:dataset': 'climate-dt',\n",
    " 'ecmwf:param': '228',\n",
    " 'ecmwf:levtype': 'sfc',\n",
    " 'ecmwf:expver': '0001',\n",
    " 'ecmwf:date': '20251002/to/20251020',\n",
    " 'ecmwf:realization': '1',\n",
    " 'ecmwf:activity': 'ScenarioMIP',\n",
    " 'ecmwf:class': 'd1',\n",
    " 'ecmwf:stream': 'clte',\n",
    " 'ecmwf:time': '2300',\n",
    " 'ecmwf:experiment': 'SSP3-7.0',\n",
    " 'ecmwf:generation': '1'}\n",
    "\n"
   ]
  },
  {
   "cell_type": "markdown",
   "id": "350d6458-5e2d-4166-872e-c0ea6df91bc3",
   "metadata": {},
   "source": [
    "To place the order we need to authenticate using our DESP account"
   ]
  },
  {
   "cell_type": "code",
   "execution_count": 4,
   "id": "55371bf9-6215-4d62-8dde-3342824f1d08",
   "metadata": {
    "tags": []
   },
   "outputs": [
    {
     "name": "stdin",
     "output_type": "stream",
     "text": [
      "Please input your DESP username:  eum-dedl-user\n",
      "Please input your DESP password:  ········\n"
     ]
    },
    {
     "name": "stdout",
     "output_type": "stream",
     "text": [
      "Response code: 200\n",
      "DEDL/DESP Access Token Obtained Successfully\n"
     ]
    }
   ],
   "source": [
    "DESP_USERNAME = input(\"Please input your DESP username: \")\n",
    "DESP_PASSWORD = getpass(\"Please input your DESP password: \")\n",
    "\n",
    "auth = deauth.AuthHandler(DESP_USERNAME, DESP_PASSWORD)\n",
    "access_token = auth.get_token()\n",
    "if access_token is not None:\n",
    "    print(\"DEDL/DESP Access Token Obtained Successfully\")\n",
    "else:\n",
    "    print(\"Failed to Obtain DEDL/DESP Access Token\")\n",
    "\n",
    "auth_headers = {\"Authorization\": f\"Bearer {access_token}\"}"
   ]
  },
  {
   "cell_type": "markdown",
   "id": "7c64f967-54a3-4dae-80cc-bed63917ab98",
   "metadata": {},
   "source": [
    "Check if we can access DT"
   ]
  },
  {
   "cell_type": "code",
   "execution_count": 5,
   "id": "e3d36ab1-8aa2-46af-862a-244ae9779245",
   "metadata": {
    "tags": []
   },
   "outputs": [
    {
     "name": "stdout",
     "output_type": "stream",
     "text": [
      "DT Output access allowed\n"
     ]
    }
   ],
   "source": [
    "installed_version = importlib.metadata.version(\"destinelab\")\n",
    "version_number = installed_version.split('.')[1]\n",
    "\n",
    "cond1 = int(version_number) >= 8 \n",
    "cond2 = float(installed_version) < 1\n",
    "cond3 = float(installed_version) >= 1\n",
    "\n",
    "if (cond1 and cond2) or cond3:\n",
    "    auth.is_DTaccess_allowed(access_token)"
   ]
  },
  {
   "cell_type": "markdown",
   "id": "5bdc3733-3e4d-4f00-87d5-eda97f12fa8d",
   "metadata": {},
   "source": [
    "## 2 - Order the Climate DT data"
   ]
  },
  {
   "cell_type": "code",
   "execution_count": 6,
   "id": "002ca1e4-b7e3-4e6c-bb1e-a59eb4edcf7f",
   "metadata": {
    "tags": []
   },
   "outputs": [],
   "source": [
    "HDA_STAC_ENDPOINT=\"https://hda.data.destination-earth.eu/stac/v2\"\n",
    "COLLECTION_ID=\"EO.ECMWF.DAT.DT_CLIMATE_ADAPTATION\""
   ]
  },
  {
   "cell_type": "code",
   "execution_count": 7,
   "id": "ebe18076-44d6-4bfa-a23c-ac25e23f2b43",
   "metadata": {
    "tags": []
   },
   "outputs": [
    {
     "name": "stdout",
     "output_type": "stream",
     "text": [
      "Product ordered: 4aaac2fd-8036-497e-8ba2-dbabf48cedd4\n",
      "Provider: dedt_lumi\n",
      "Storage tier: offline (product must have storage tier \"online\" to be downloadable)\n",
      "Order status: shipping\n"
     ]
    }
   ],
   "source": [
    "response = requests.post(f\"{HDA_STAC_ENDPOINT}/collections/{COLLECTION_ID}/order\", json=order_body, headers=auth_headers)\n",
    "\n",
    "if response.status_code != 200:\n",
    "    print(response.content)\n",
    "response.raise_for_status()\n",
    "\n",
    "ordered_item = response.json()\n",
    "\n",
    "product_id = ordered_item[\"id\"]\n",
    "storage_tier = ordered_item[\"properties\"].get(\"storage:tier\", \"online\")\n",
    "order_status = ordered_item[\"properties\"].get(\"order:status\", \"unknown\")\n",
    "federation_backend = ordered_item[\"properties\"].get(\"federation:backends\", [None])[0]\n",
    "\n",
    "print(f\"Product ordered: {product_id}\")\n",
    "print(f\"Provider: {federation_backend}\")\n",
    "print(f\"Storage tier: {storage_tier} (product must have storage tier \\\"online\\\" to be downloadable)\")\n",
    "print(f\"Order status: {order_status}\")    "
   ]
  },
  {
   "cell_type": "code",
   "execution_count": 8,
   "id": "5e564f8a-3633-4a2b-bf3a-a66363bfb00c",
   "metadata": {
    "tags": []
   },
   "outputs": [
    {
     "name": "stdout",
     "output_type": "stream",
     "text": [
      "Polling 1/300\n",
      "Polling 2/300\n",
      "Polling 3/300\n",
      "Polling 4/300\n",
      "Polling 5/300\n",
      "Product is ready to be downloaded.\n",
      "Asset URL: https://hda-download.lumi.data.destination-earth.eu/data/dedt_lumi/EO.ECMWF.DAT.DT_CLIMATE_ADAPTATION/4aaac2fd-8036-497e-8ba2-dbabf48cedd4/downloadLink\n"
     ]
    }
   ],
   "source": [
    "#timeout and step for polling (sec)\n",
    "TIMEOUT = 300\n",
    "STEP = 1\n",
    "ONLINE_STATUS = \"online\"\n",
    "\n",
    "self_url = f\"{HDA_STAC_ENDPOINT}/collections/{COLLECTION_ID}/items/{product_id}\"\n",
    "item = {}\n",
    "\n",
    "for i in range(0, TIMEOUT, STEP):\n",
    "    print(f\"Polling {i + 1}/{TIMEOUT // STEP}\")\n",
    "\n",
    "    response = requests.get(self_url, headers=auth_headers)\n",
    "    if response.status_code != 200:\n",
    "        print(response.content)\n",
    "    response.raise_for_status()\n",
    "    item = response.json()\n",
    "\n",
    "    storage_tier = item[\"properties\"].get(\"storage:tier\", ONLINE_STATUS)\n",
    "\n",
    "    if storage_tier == ONLINE_STATUS:\n",
    "        download_url = item[\"assets\"][\"downloadLink\"][\"href\"]\n",
    "        print(\"Product is ready to be downloaded.\")\n",
    "        print(f\"Asset URL: {download_url}\")\n",
    "        break\n",
    "\n",
    "    start = time.perf_counter()\n",
    "    while time.perf_counter() - start < 1:\n",
    "        pass  # do nothing for ~1 second\n",
    "else:\n",
    "    order_status = item[\"properties\"].get(\"order:status\", \"unknown\")\n",
    "    print(f\"We could not download the product after {TIMEOUT // STEP} tries. Current order status is {order_status}\")"
   ]
  },
  {
   "cell_type": "code",
   "execution_count": 9,
   "id": "5617304e-83b1-4822-ae95-8f77f87f0400",
   "metadata": {
    "tags": []
   },
   "outputs": [
    {
     "name": "stdout",
     "output_type": "stream",
     "text": [
      "downloading 4aaac2fd-8036-497e-8ba2-dbabf48cedd4.grib\n"
     ]
    },
    {
     "name": "stderr",
     "output_type": "stream",
     "text": [
      "253MB [00:06, 36.5MB/s] \n"
     ]
    }
   ],
   "source": [
    "response = requests.get(download_url, stream=True, headers=auth_headers)\n",
    "response.raise_for_status()\n",
    "\n",
    "content_disposition = response.headers.get('Content-Disposition')\n",
    "total_size = int(response.headers.get(\"content-length\", 0))\n",
    "if content_disposition:\n",
    "    filename = content_disposition.split('filename=')[1].strip('\"')\n",
    "    filename = unquote(filename)\n",
    "else:\n",
    "    filename = os.path.basename(self_url)\n",
    "\n",
    "# Open a local file in binary write mode and write the content\n",
    "print(f\"downloading {filename}\")\n",
    "\n",
    "with tqdm(total=total_size, unit=\"B\", unit_scale=True) as progress_bar:\n",
    "    with open(filename, 'wb') as f:\n",
    "        for data in response.iter_content(1024):\n",
    "            progress_bar.update(len(data))\n",
    "            f.write(data)"
   ]
  },
  {
   "cell_type": "markdown",
   "id": "b3bfedd7-51c0-46ac-abc6-2f14698b8aa3",
   "metadata": {},
   "source": [
    "### 3 - Extract values for your place location"
   ]
  },
  {
   "cell_type": "code",
   "execution_count": 10,
   "id": "1ca70860-7210-45c5-853f-8380f360c6fd",
   "metadata": {
    "tags": []
   },
   "outputs": [],
   "source": [
    "#Riga\n",
    "your_place_lon= 24.11\n",
    "your_place_lat= 56.95"
   ]
  },
  {
   "cell_type": "code",
   "execution_count": 11,
   "id": "40cab0a7-9ece-4831-9607-2ab4045e5d04",
   "metadata": {},
   "outputs": [],
   "source": [
    "#London\n",
    "your_place_lon= -0.128\n",
    "your_place_lat= 51.508"
   ]
  },
  {
   "cell_type": "code",
   "execution_count": null,
   "id": "c1c207e6-12bc-4689-9395-cffe5bececd9",
   "metadata": {},
   "outputs": [],
   "source": [
    "#Darmstad\n",
    "your_place_lon= 8.65\n",
    "your_place_lat=49.88"
   ]
  },
  {
   "cell_type": "code",
   "execution_count": null,
   "id": "b16ebcce-6b8a-4640-93ea-15e5610df5df",
   "metadata": {},
   "outputs": [],
   "source": [
    "#Milan\n",
    "your_place_lon= 9.25\n",
    "your_place_lat=45.46"
   ]
  },
  {
   "cell_type": "code",
   "execution_count": 11,
   "id": "3f176b21-7921-40a3-bca1-c98d2307c9bb",
   "metadata": {},
   "outputs": [
    {
     "data": {
      "text/html": [
       "<div>\n",
       "<style scoped>\n",
       "    .dataframe tbody tr th:only-of-type {\n",
       "        vertical-align: middle;\n",
       "    }\n",
       "\n",
       "    .dataframe tbody tr th {\n",
       "        vertical-align: top;\n",
       "    }\n",
       "\n",
       "    .dataframe thead th {\n",
       "        text-align: right;\n",
       "    }\n",
       "</style>\n",
       "<table border=\"1\" class=\"dataframe\">\n",
       "  <thead>\n",
       "    <tr style=\"text-align: right;\">\n",
       "      <th></th>\n",
       "      <th>centre</th>\n",
       "      <th>shortName</th>\n",
       "      <th>typeOfLevel</th>\n",
       "      <th>level</th>\n",
       "      <th>dataDate</th>\n",
       "      <th>dataTime</th>\n",
       "      <th>stepRange</th>\n",
       "      <th>dataType</th>\n",
       "      <th>number</th>\n",
       "      <th>gridType</th>\n",
       "    </tr>\n",
       "  </thead>\n",
       "  <tbody>\n",
       "    <tr>\n",
       "      <th>0</th>\n",
       "      <td>ecmf</td>\n",
       "      <td>tp</td>\n",
       "      <td>surface</td>\n",
       "      <td>0</td>\n",
       "      <td>20251002</td>\n",
       "      <td>2300</td>\n",
       "      <td>0-1</td>\n",
       "      <td>fc</td>\n",
       "      <td>None</td>\n",
       "      <td>healpix</td>\n",
       "    </tr>\n",
       "    <tr>\n",
       "      <th>1</th>\n",
       "      <td>ecmf</td>\n",
       "      <td>tp</td>\n",
       "      <td>surface</td>\n",
       "      <td>0</td>\n",
       "      <td>20251003</td>\n",
       "      <td>2300</td>\n",
       "      <td>0-1</td>\n",
       "      <td>fc</td>\n",
       "      <td>None</td>\n",
       "      <td>healpix</td>\n",
       "    </tr>\n",
       "    <tr>\n",
       "      <th>2</th>\n",
       "      <td>ecmf</td>\n",
       "      <td>tp</td>\n",
       "      <td>surface</td>\n",
       "      <td>0</td>\n",
       "      <td>20251004</td>\n",
       "      <td>2300</td>\n",
       "      <td>0-1</td>\n",
       "      <td>fc</td>\n",
       "      <td>None</td>\n",
       "      <td>healpix</td>\n",
       "    </tr>\n",
       "    <tr>\n",
       "      <th>3</th>\n",
       "      <td>ecmf</td>\n",
       "      <td>tp</td>\n",
       "      <td>surface</td>\n",
       "      <td>0</td>\n",
       "      <td>20251005</td>\n",
       "      <td>2300</td>\n",
       "      <td>0-1</td>\n",
       "      <td>fc</td>\n",
       "      <td>None</td>\n",
       "      <td>healpix</td>\n",
       "    </tr>\n",
       "    <tr>\n",
       "      <th>4</th>\n",
       "      <td>ecmf</td>\n",
       "      <td>tp</td>\n",
       "      <td>surface</td>\n",
       "      <td>0</td>\n",
       "      <td>20251006</td>\n",
       "      <td>2300</td>\n",
       "      <td>0-1</td>\n",
       "      <td>fc</td>\n",
       "      <td>None</td>\n",
       "      <td>healpix</td>\n",
       "    </tr>\n",
       "    <tr>\n",
       "      <th>5</th>\n",
       "      <td>ecmf</td>\n",
       "      <td>tp</td>\n",
       "      <td>surface</td>\n",
       "      <td>0</td>\n",
       "      <td>20251007</td>\n",
       "      <td>2300</td>\n",
       "      <td>0-1</td>\n",
       "      <td>fc</td>\n",
       "      <td>None</td>\n",
       "      <td>healpix</td>\n",
       "    </tr>\n",
       "    <tr>\n",
       "      <th>6</th>\n",
       "      <td>ecmf</td>\n",
       "      <td>tp</td>\n",
       "      <td>surface</td>\n",
       "      <td>0</td>\n",
       "      <td>20251008</td>\n",
       "      <td>2300</td>\n",
       "      <td>0-1</td>\n",
       "      <td>fc</td>\n",
       "      <td>None</td>\n",
       "      <td>healpix</td>\n",
       "    </tr>\n",
       "    <tr>\n",
       "      <th>7</th>\n",
       "      <td>ecmf</td>\n",
       "      <td>tp</td>\n",
       "      <td>surface</td>\n",
       "      <td>0</td>\n",
       "      <td>20251009</td>\n",
       "      <td>2300</td>\n",
       "      <td>0-1</td>\n",
       "      <td>fc</td>\n",
       "      <td>None</td>\n",
       "      <td>healpix</td>\n",
       "    </tr>\n",
       "    <tr>\n",
       "      <th>8</th>\n",
       "      <td>ecmf</td>\n",
       "      <td>tp</td>\n",
       "      <td>surface</td>\n",
       "      <td>0</td>\n",
       "      <td>20251010</td>\n",
       "      <td>2300</td>\n",
       "      <td>0-1</td>\n",
       "      <td>fc</td>\n",
       "      <td>None</td>\n",
       "      <td>healpix</td>\n",
       "    </tr>\n",
       "    <tr>\n",
       "      <th>9</th>\n",
       "      <td>ecmf</td>\n",
       "      <td>tp</td>\n",
       "      <td>surface</td>\n",
       "      <td>0</td>\n",
       "      <td>20251011</td>\n",
       "      <td>2300</td>\n",
       "      <td>0-1</td>\n",
       "      <td>fc</td>\n",
       "      <td>None</td>\n",
       "      <td>healpix</td>\n",
       "    </tr>\n",
       "    <tr>\n",
       "      <th>10</th>\n",
       "      <td>ecmf</td>\n",
       "      <td>tp</td>\n",
       "      <td>surface</td>\n",
       "      <td>0</td>\n",
       "      <td>20251012</td>\n",
       "      <td>2300</td>\n",
       "      <td>0-1</td>\n",
       "      <td>fc</td>\n",
       "      <td>None</td>\n",
       "      <td>healpix</td>\n",
       "    </tr>\n",
       "    <tr>\n",
       "      <th>11</th>\n",
       "      <td>ecmf</td>\n",
       "      <td>tp</td>\n",
       "      <td>surface</td>\n",
       "      <td>0</td>\n",
       "      <td>20251013</td>\n",
       "      <td>2300</td>\n",
       "      <td>0-1</td>\n",
       "      <td>fc</td>\n",
       "      <td>None</td>\n",
       "      <td>healpix</td>\n",
       "    </tr>\n",
       "    <tr>\n",
       "      <th>12</th>\n",
       "      <td>ecmf</td>\n",
       "      <td>tp</td>\n",
       "      <td>surface</td>\n",
       "      <td>0</td>\n",
       "      <td>20251014</td>\n",
       "      <td>2300</td>\n",
       "      <td>0-1</td>\n",
       "      <td>fc</td>\n",
       "      <td>None</td>\n",
       "      <td>healpix</td>\n",
       "    </tr>\n",
       "    <tr>\n",
       "      <th>13</th>\n",
       "      <td>ecmf</td>\n",
       "      <td>tp</td>\n",
       "      <td>surface</td>\n",
       "      <td>0</td>\n",
       "      <td>20251015</td>\n",
       "      <td>2300</td>\n",
       "      <td>0-1</td>\n",
       "      <td>fc</td>\n",
       "      <td>None</td>\n",
       "      <td>healpix</td>\n",
       "    </tr>\n",
       "    <tr>\n",
       "      <th>14</th>\n",
       "      <td>ecmf</td>\n",
       "      <td>tp</td>\n",
       "      <td>surface</td>\n",
       "      <td>0</td>\n",
       "      <td>20251016</td>\n",
       "      <td>2300</td>\n",
       "      <td>0-1</td>\n",
       "      <td>fc</td>\n",
       "      <td>None</td>\n",
       "      <td>healpix</td>\n",
       "    </tr>\n",
       "    <tr>\n",
       "      <th>15</th>\n",
       "      <td>ecmf</td>\n",
       "      <td>tp</td>\n",
       "      <td>surface</td>\n",
       "      <td>0</td>\n",
       "      <td>20251017</td>\n",
       "      <td>2300</td>\n",
       "      <td>0-1</td>\n",
       "      <td>fc</td>\n",
       "      <td>None</td>\n",
       "      <td>healpix</td>\n",
       "    </tr>\n",
       "    <tr>\n",
       "      <th>16</th>\n",
       "      <td>ecmf</td>\n",
       "      <td>tp</td>\n",
       "      <td>surface</td>\n",
       "      <td>0</td>\n",
       "      <td>20251018</td>\n",
       "      <td>2300</td>\n",
       "      <td>0-1</td>\n",
       "      <td>fc</td>\n",
       "      <td>None</td>\n",
       "      <td>healpix</td>\n",
       "    </tr>\n",
       "    <tr>\n",
       "      <th>17</th>\n",
       "      <td>ecmf</td>\n",
       "      <td>tp</td>\n",
       "      <td>surface</td>\n",
       "      <td>0</td>\n",
       "      <td>20251019</td>\n",
       "      <td>2300</td>\n",
       "      <td>0-1</td>\n",
       "      <td>fc</td>\n",
       "      <td>None</td>\n",
       "      <td>healpix</td>\n",
       "    </tr>\n",
       "    <tr>\n",
       "      <th>18</th>\n",
       "      <td>ecmf</td>\n",
       "      <td>tp</td>\n",
       "      <td>surface</td>\n",
       "      <td>0</td>\n",
       "      <td>20251020</td>\n",
       "      <td>2300</td>\n",
       "      <td>0-1</td>\n",
       "      <td>fc</td>\n",
       "      <td>None</td>\n",
       "      <td>healpix</td>\n",
       "    </tr>\n",
       "  </tbody>\n",
       "</table>\n",
       "</div>"
      ],
      "text/plain": [
       "   centre shortName typeOfLevel  level  dataDate  dataTime stepRange dataType  \\\n",
       "0    ecmf        tp     surface      0  20251002      2300       0-1       fc   \n",
       "1    ecmf        tp     surface      0  20251003      2300       0-1       fc   \n",
       "2    ecmf        tp     surface      0  20251004      2300       0-1       fc   \n",
       "3    ecmf        tp     surface      0  20251005      2300       0-1       fc   \n",
       "4    ecmf        tp     surface      0  20251006      2300       0-1       fc   \n",
       "5    ecmf        tp     surface      0  20251007      2300       0-1       fc   \n",
       "6    ecmf        tp     surface      0  20251008      2300       0-1       fc   \n",
       "7    ecmf        tp     surface      0  20251009      2300       0-1       fc   \n",
       "8    ecmf        tp     surface      0  20251010      2300       0-1       fc   \n",
       "9    ecmf        tp     surface      0  20251011      2300       0-1       fc   \n",
       "10   ecmf        tp     surface      0  20251012      2300       0-1       fc   \n",
       "11   ecmf        tp     surface      0  20251013      2300       0-1       fc   \n",
       "12   ecmf        tp     surface      0  20251014      2300       0-1       fc   \n",
       "13   ecmf        tp     surface      0  20251015      2300       0-1       fc   \n",
       "14   ecmf        tp     surface      0  20251016      2300       0-1       fc   \n",
       "15   ecmf        tp     surface      0  20251017      2300       0-1       fc   \n",
       "16   ecmf        tp     surface      0  20251018      2300       0-1       fc   \n",
       "17   ecmf        tp     surface      0  20251019      2300       0-1       fc   \n",
       "18   ecmf        tp     surface      0  20251020      2300       0-1       fc   \n",
       "\n",
       "   number gridType  \n",
       "0    None  healpix  \n",
       "1    None  healpix  \n",
       "2    None  healpix  \n",
       "3    None  healpix  \n",
       "4    None  healpix  \n",
       "5    None  healpix  \n",
       "6    None  healpix  \n",
       "7    None  healpix  \n",
       "8    None  healpix  \n",
       "9    None  healpix  \n",
       "10   None  healpix  \n",
       "11   None  healpix  \n",
       "12   None  healpix  \n",
       "13   None  healpix  \n",
       "14   None  healpix  \n",
       "15   None  healpix  \n",
       "16   None  healpix  \n",
       "17   None  healpix  \n",
       "18   None  healpix  "
      ]
     },
     "execution_count": 11,
     "metadata": {},
     "output_type": "execute_result"
    }
   ],
   "source": [
    "from earthkit.data import from_source\n",
    "import earthkit.data as ekd\n",
    "from earthkit.geo import  nearest_point_kdtree\n",
    "\n",
    "ds = from_source(\"file\",filename)\n",
    "ds.ls()"
   ]
  },
  {
   "cell_type": "code",
   "execution_count": 12,
   "id": "9293c201-e196-4e3c-bffd-1dd708a57459",
   "metadata": {},
   "outputs": [
    {
     "data": {
      "text/plain": [
       "(array([750865]), array([3445.65461327]))"
      ]
     },
     "execution_count": 12,
     "metadata": {},
     "output_type": "execute_result"
    }
   ],
   "source": [
    "import earthkit.data as ekd\n",
    "from earthkit.geo import nearest_point_haversine\n",
    "\n",
    "latlon = ds.to_latlon()\n",
    "lat = latlon[\"lat\"]\n",
    "lon = latlon[\"lon\"]\n",
    "\n",
    "p_ref = (your_place_lat, your_place_lon)\n",
    "idx, dist = nearest_point_haversine(p_ref, (lat, lon))\n",
    "idx, dist"
   ]
  },
  {
   "cell_type": "code",
   "execution_count": 13,
   "id": "b6c19640-ca93-4b2f-b0df-466d166922eb",
   "metadata": {},
   "outputs": [],
   "source": [
    "ds_xr=ds.to_xarray()\n",
    "subset = ds_xr.isel(values=idx)"
   ]
  },
  {
   "cell_type": "code",
   "execution_count": null,
   "id": "cf4d2c1d-0aa2-41b2-85dd-1b3b86bb59f6",
   "metadata": {},
   "outputs": [],
   "source": [
    "subset"
   ]
  },
  {
   "cell_type": "code",
   "execution_count": 14,
   "id": "47693713-3c2e-4b91-a470-35fc5318f122",
   "metadata": {},
   "outputs": [
    {
     "data": {
      "text/plain": [
       "DatetimeIndex(['2025-10-02', '2025-10-09', '2025-10-16'], dtype='datetime64[ns]', freq='7D')"
      ]
     },
     "execution_count": 14,
     "metadata": {},
     "output_type": "execute_result"
    }
   ],
   "source": [
    "weekends = pd.date_range(\"2025-10-02\", periods=3, freq=\"7D\")\n",
    "\n",
    "weekends"
   ]
  },
  {
   "cell_type": "code",
   "execution_count": 15,
   "id": "0fffa987-fd3d-4cfd-91e1-29b994e877c5",
   "metadata": {
    "tags": []
   },
   "outputs": [
    {
     "data": {
      "text/plain": [
       "{'2025-10-02': 'No Rain', '2025-10-09': 'No Rain', '2025-10-16': 'No Rain'}"
      ]
     },
     "metadata": {},
     "output_type": "display_data"
    }
   ],
   "source": [
    "results = {}\n",
    "\n",
    "for start in weekends:\n",
    "    # Weekend = Sat (start) + Sun (start+1)\n",
    "    end = start + pd.Timedelta(days=1)\n",
    "    \n",
    "    weekend_data = subset.sel(forecast_reference_time=slice(start, end))\n",
    "    total_precip = weekend_data['tp'].sum().item()\n",
    "    \n",
    "    results[str(start.date())] = \"Rain\" if total_precip > 0.001 else \"No Rain\"\n",
    "\n",
    "display(results)"
   ]
  },
  {
   "cell_type": "code",
   "execution_count": 16,
   "id": "bc16b6a0-b858-4181-9c48-dc6124382876",
   "metadata": {
    "tags": []
   },
   "outputs": [
    {
     "data": {
      "image/png": "[encoded data removed]",
      "text/plain": [
       "<Figure size 1000x400 with 1 Axes>"
      ]
     },
     "metadata": {},
     "output_type": "display_data"
    }
   ],
   "source": [
    "import matplotlib.pyplot as plt\n",
    "\n",
    "# Extract precipitation time series for your_place\n",
    "tp = subset.tp.astype(\"float32\") * 1000\n",
    "your_place_precip = tp.to_pandas()\n",
    "\n",
    "# Plot only the period covering the 3 weekends\n",
    "plot_start = weekends[0]\n",
    "plot_end = weekends[-1] + pd.Timedelta(days=1)\n",
    "your_place_precip = your_place_precip.loc[plot_start:plot_end]\n",
    "\n",
    "# Plot\n",
    "fig, ax = plt.subplots(figsize=(10, 4))\n",
    "your_place_precip.plot(ax=ax, lw=2, color=\"blue\",marker=\"o\", label=\"tot\")\n",
    "\n",
    "# Highlight weekends\n",
    "for start in weekends:\n",
    "    end = start + pd.Timedelta(days=1)\n",
    "    ax.axvspan(start, end, color=\"lightgray\", alpha=0.3, label=\"Weekend\" if start == weekends[0] else \"\")\n",
    "\n",
    "ax.set_title(\"Precipitation Forecast for your_place (Next 3 Weekends)\")\n",
    "ax.set_ylabel(\"Precipitation (mm)\")\n",
    "ax.set_xlabel(\"Date\")\n",
    "ax.legend()\n",
    "plt.show()"
   ]
  },
  {
   "cell_type": "code",
   "execution_count": null,
   "id": "caef0806-754b-498f-b15e-ea8c9910f7eb",
   "metadata": {},
   "outputs": [],
   "source": [
    "'''\n",
    "#Climate data are GRIB data defined on a HEALPix nested grid.\n",
    "#We can interpolate it in a regular latitude-longitude grid\n",
    "\n",
    "from earthkit.regrid import interpolate\n",
    "from earthkit.data import from_source\n",
    "\n",
    "ds = from_source(\"file\",filename)\n",
    "\n",
    "# the target grid is a global 0.1x0.1 degree regular latitude-longitude grid\n",
    "out_grid = {\"grid\": [5,5]}\n",
    "\n",
    "# perform interpolation for each field and add results to a new fieldlist stored in memory\n",
    "r = interpolate(ds, out_grid=out_grid, method=\"linear\")\n",
    "\n",
    "d=r.to_xarray()\n",
    "'''"
   ]
  },
  {
   "cell_type": "code",
   "execution_count": null,
   "id": "b38cc457-f22a-480e-b9df-f31084252d6c",
   "metadata": {},
   "outputs": [],
   "source": []
  }
 ],
 "metadata": {
  "kernelspec": {
   "display_name": "Python DEDL",
   "language": "python",
   "name": "python_dedl"
  },
  "language_info": {
   "codemirror_mode": {
    "name": "ipython",
    "version": 3
   },
   "file_extension": ".py",
   "mimetype": "text/x-python",
   "name": "python",
   "nbconvert_exporter": "python",
   "pygments_lexer": "ipython3",
   "version": "3.11.4"
  }
 },
 "nbformat": 4,
 "nbformat_minor": 5
}
