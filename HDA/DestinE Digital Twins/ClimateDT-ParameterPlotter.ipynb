{
 "cells": [
  {
   "cell_type": "markdown",
   "id": "2cf69729-a25d-4b3e-883c-6565036e8f22",
   "metadata": {
    "tags": []
   },
   "source": [
    "![](https://github.com/destination-earth/DestinE-DataLake-Lab/blob/main/img/DestinE-banner.jpg?raw=true)"
   ]
  },
  {
   "cell_type": "markdown",
   "id": "12da9d8d-97b2-4a48-a3b5-439aa4478dbe",
   "metadata": {},
   "source": [
    "**Copyright:** 2025 EUMETSAT <br>\n",
    "**License:** MIT <br>\n",
    "**Authors:** Micheal Schick (EUMETSAT), Serena Avolio (EUMETSAT/Starion)"
   ]
  },
  {
   "cell_type": "markdown",
   "id": "8c78a5d4-9a76-4339-92f3-cdd276b31a2c",
   "metadata": {},
   "source": [
    "<div class=\"alert alert-block alert-success\">\n",
    "<h3>Destination Earth - HDA Climate DT Parameter Plotter Tutorial</h3></div>"
   ]
  },
  {
   "cell_type": "markdown",
   "id": "71703080-c050-4951-9816-2fb948664b7e",
   "metadata": {},
   "source": [
    "<div class=\"alert alert-block alert-warning\">\n",
    "<b> Prerequisites: </b>\n",
    "   <li>To search and access DEDL data a <a href=\"https://platform.destine.eu/\"> DestinE user account</a> is needed</li>\n",
    "   <li>To search and access DT data an <a href=\"https://platform.destine.eu/support-pages/access-policy/\"> upgraded access</a> is needed.</li>\n",
    "<b> References: </b>\n",
    "    <li><a href=\"https://destine-data-lake-docs.data.destination-earth.eu/en/latest/dedl-discovery-and-data-access/Use-of-Harmonized-Data-Access/Use-of-Harmonized-Data-Access.html\">DestinE Data Lake (DEDL) Harmonized Data Access (HDA) documentation</a> </li>\n",
    "    <li> <a href=\"https://destine.ecmwf.int/climate-change-adaptation-digital-twin-climate-dt/\">Climate Change Adaptation DT (Climate DT)</a></li>\n",
    "    <li> <a href=\"https://confluence.ecmwf.int/display/DDCZ/Climate+DT+Phase+1+data+catalogue\">Climate DT data catalogue</a></li>\n",
    "<b> Credit: </b>\n",
    "    <li> Earthkit and HDA Polytope used in this context are both packages provided by the European Centre for Medium-Range Weather Forecasts (ECMWF).</li>\n",
    "</div>"
   ]
  },
  {
   "cell_type": "markdown",
   "id": "f8de5a32-1a99-4f7c-8bb0-c77511556a6e",
   "metadata": {
    "tags": []
   },
   "source": [
    "This notebook demonstrates how to access DT data for different types of simulations via **HDA (Harmonized Data Access)** API.\n",
    "\n",
    "A correct combination of parameters is necessary to access DT data for different types of simulations.\n",
    "The aim of this notebook is to help you create the correct request to access the desired Climate DT data, through HDA, and visualize it.\n",
    "\n",
    "\n",
    "Below the main steps covered by this tutorial.\n",
    "\n",
    "1. [Setup](ClimateDT-ParameterPlotter.ipynb#Setup): Import the required libraries and define some function. \n",
    "2. [Simulation Selection](ClimateDT-ParameterPlotter.ipynb#Scenario-Simulation-Selection):  Print and select the desired scenario simulation for accessing Climate DT data.  \n",
    "3. [Parameter Selection](ClimateDT-ParameterPlotter.ipynb#Parameter-Selection): How to select the desired Climate DT variable among the ones available through the selected scenario.\n",
    "4. [Levels Selection](ClimateDT-ParameterPlotter.ipynb#Levels-Selection): How to Handle different Levels to be selected (if any).\n",
    "5. [Order and Download](ClimateDT-ParameterPlotter.ipynb#Order-and-Download): How to order and download Climate DT data.\n",
    "6. [Plot](ClimateDT-ParameterPlotter.ipynb#EarthKit): How to visualize hourly data on single levels data through Earthkit."
   ]
  },
  {
   "cell_type": "markdown",
   "id": "d1a15411-c356-4e7c-b92a-df49792d313e",
   "metadata": {},
   "source": [
    "# Setup"
   ]
  },
  {
   "cell_type": "markdown",
   "id": "fb365085-875e-4f6b-8c6d-d7a72cd7c48b",
   "metadata": {
    "tags": []
   },
   "source": [
    "Import the Climate DT parameters & scenarios dictionary and all the required packages."
   ]
  },
  {
   "cell_type": "code",
   "execution_count": 1,
   "id": "faa93369-fb02-417b-bd5c-d535863b770d",
   "metadata": {
    "tags": []
   },
   "outputs": [],
   "source": [
    "import destinelab as deauth\n",
    "from destinelab import climate_dt_dictionary\n",
    "import ipywidgets as widgets\n",
    "import json\n",
    "import datetime\n",
    "import importlib\n",
    "import importlib.metadata as metadata\n",
    "\n",
    "import requests\n",
    "from requests.adapters import HTTPAdapter\n",
    "from urllib3.util.retry import Retry\n",
    "import os\n",
    "from getpass import getpass\n",
    "from tqdm import tqdm\n",
    "import time\n",
    "from urllib.parse import unquote\n",
    "from time import sleep\n",
    "from IPython.display import JSON\n",
    "\n",
    "import sys\n",
    "import subprocess\n",
    "from packaging import version\n",
    "\n",
    "from IPython.display import display, HTML"
   ]
  },
  {
   "cell_type": "markdown",
   "id": "090eba0d-8808-4585-bda8-9f264ba9f283",
   "metadata": {
    "tags": []
   },
   "source": [
    "Define some useful funtions."
   ]
  },
  {
   "cell_type": "code",
   "execution_count": 2,
   "id": "52dfecdb-3ed9-42d7-9692-635c44654aaa",
   "metadata": {
    "tags": []
   },
   "outputs": [],
   "source": [
    "#parameters\n",
    "\n",
    "def filter_entries(search_string):\n",
    "    return [(name, index) for i, (name, index) in enumerate(model_filtered_options)\n",
    "            if search_string.lower() in name.lower()]\n",
    "\n",
    "\n",
    "def on_search_change(change):\n",
    "    search_string = change.new\n",
    "    if search_string:\n",
    "        filtered_options = filter_entries(search_string)\n",
    "        entry_dropdown.options = filtered_options\n",
    "    else:\n",
    "        entry_dropdown.options =model_filtered_options\n",
    "        \n",
    "def get_selected_entry():\n",
    "    return entry_dropdown.value\n",
    "\n",
    "def get_selected_hours():\n",
    "    selected_hour = hour_dropdown.value\n",
    "    return selected_hour\n",
    "\n",
    "#simulations-scenarios\n",
    "################################\n",
    "\n",
    "# Function to generate hourly slots\n",
    "def generate_hourly_slots():\n",
    "    hours = []\n",
    "    for hour in range(0, 24):\n",
    "        for minute in range(0, 60, 60):  # Step by 60 minutes (1 hour)\n",
    "            hours.append(datetime.time(hour, minute))\n",
    "    return hours\n",
    "\n",
    "def on_scenario_change(change):\n",
    "    selected_scenario_index, selected_resolution = change.new\n",
    "    selected_sc_entry = scenario_simulation_table[selected_scenario_index]\n",
    "    output.clear_output()\n",
    "    with output:\n",
    "        if(selected_sc_entry['site']==\"MARENOSTRUM\"):\n",
    "            styled_message = widgets.HTML(\n",
    "                    value=\"<div style='color: red; font-weight: bold;'>The scenarios in Marenostrum are not available via HDA. Please select a scenario in LUMI</div>\"\n",
    "                )\n",
    "            display(styled_message)\n",
    "    date_from = datetime.datetime.strptime(selected_sc_entry['dateFrom'], '%m/%d/%Y').date()\n",
    "    start_date_picker.max = None\n",
    "    start_date_picker.min = date_from\n",
    "    start_date_picker.max = datetime.datetime.strptime(selected_sc_entry['dateTo'], '%m/%d/%Y').date()\n",
    "    start_date_picker.value = date_from\n",
    "    \n",
    "def get_selected_values():\n",
    "    selected_scenario_index, selected_resolution = scenario_dropdown.value\n",
    "    selected_scenario = scenario_simulation_table[selected_scenario_index]\n",
    "    selected_start_date = start_date_picker.value\n",
    "    selected_end_date = \"\" # end_date_picker.value\n",
    "    selected_hour = \"00:00:00\"\n",
    "        \n",
    "    return selected_scenario_index, selected_scenario, selected_resolution, selected_start_date, selected_end_date, selected_hour\n",
    "\n",
    "# kevels\n",
    "\n",
    "# Define a global variable\n",
    "global global_widget\n",
    "global_widget = None\n",
    "\n",
    "# Create a function to generate the widget based on the selection mode\n",
    "def generate_widget(selection_mode):\n",
    "    global global_widget\n",
    "    if selection_mode == 'Single':\n",
    "        global_widget = widgets.Dropdown(options=levelist, description='Select level:')\n",
    "        return global_widget\n",
    "    elif selection_mode == 'Multiple':\n",
    "        global_widget = widgets.SelectMultiple(options=levelist, description='Select levels:')\n",
    "        return global_widget\n",
    "    \n",
    "    \n",
    "# Function to display the widget based on the selection mode\n",
    "def display_widget(selection_mode):\n",
    "    output.clear_output()\n",
    "    with output:\n",
    "        display(generate_widget(selection_mode))\n",
    "\n",
    "# Define a function to handle the change in selection mode\n",
    "def on_dropdown_change(change):\n",
    "    display_widget(change.new)\n",
    "    \n",
    "# Function to convert tuple or single integer to string separated by \"/\"\n",
    "def convert_to_string(input):\n",
    "    if isinstance(input, tuple):\n",
    "        return '/'.join(map(str, input))\n",
    "    elif isinstance(input, int):\n",
    "        return str(input)\n",
    "    else:\n",
    "        return None  # Handle other types if needed\n",
    "\n",
    "    \n",
    "def ensure_package(package: str, min_version: str = None):\n",
    "    \"\"\"\n",
    "    Ensure that a given package is installed and optionally meets a minimum version.\n",
    "    \n",
    "    Args:\n",
    "        package (str): The name of the package to check/install.\n",
    "        min_version (str, optional): Minimum version required. If None, just ensures package is installed.\n",
    "    \"\"\"\n",
    "    try:\n",
    "        # Get current version\n",
    "        current_version = metadata.version(package)\n",
    "        print(f\"Current {package} version: {current_version}\")\n",
    "        \n",
    "        # Compare versions if needed\n",
    "        if min_version and version.parse(current_version) < version.parse(min_version):\n",
    "            print(f\"Upgrading {package} to >= {min_version} ...\")\n",
    "            subprocess.check_call([sys.executable, \"-m\", \"pip\", \"install\", \"--user\", f\"{package}>={min_version}\"])\n",
    "            print(f\"{package} updated successfully\")\n",
    "            return importlib.reload(importlib.import_module(package))\n",
    "        else:\n",
    "            print(f\"{package} is OK\")\n",
    "            return importlib.import_module(package)\n",
    "    \n",
    "    except metadata.PackageNotFoundError:\n",
    "        print(f\"{package} not installed. Installing...\")\n",
    "        install_target = f\"{package}>={min_version}\" if min_version else package\n",
    "        subprocess.check_call([sys.executable, \"-m\", \"pip\", \"install\", install_target])\n",
    "        print(f\"{package} installed successfully\")\n",
    "        return importlib.import_module(package)\n",
    "    "
   ]
  },
  {
   "cell_type": "markdown",
   "id": "b095bc5c-6263-4a8c-9622-4258875b7250",
   "metadata": {},
   "source": [
    "# Scenario Simulation Selection\n",
    "Let's select now the Scenario from which we want to obtain the Climate Parameter.\n",
    "\n",
    "We need to ensure to have the right version of the climate DT dictionary."
   ]
  },
  {
   "cell_type": "code",
   "execution_count": 3,
   "id": "310ad01a-e5f4-48ca-85b3-ba3bc7ba08b8",
   "metadata": {
    "tags": []
   },
   "outputs": [
    {
     "name": "stdout",
     "output_type": "stream",
     "text": [
      "Current destinelab version: 1.13\n",
      "destinelab is OK\n"
     ]
    }
   ],
   "source": [
    "pd = ensure_package(\"destinelab\", \"1.13\")"
   ]
  },
  {
   "cell_type": "markdown",
   "id": "546291d6-f445-4951-a57a-75b485b0db6b",
   "metadata": {},
   "source": [
    "Below the available **Climate DT simulations**."
   ]
  },
  {
   "cell_type": "code",
   "execution_count": 4,
   "id": "fcb07f19-eda7-4449-a91d-ae3d494702ac",
   "metadata": {
    "tags": []
   },
   "outputs": [
    {
     "data": {
      "text/html": [
       "<table border=\"1\" class=\"dataframe\">\n",
       "  <thead>\n",
       "    <tr style=\"text-align: right;\">\n",
       "      <th>type</th>\n",
       "      <th>activity</th>\n",
       "      <th>model</th>\n",
       "      <th>resolution</th>\n",
       "      <th>dateFrom</th>\n",
       "      <th>dateTo</th>\n",
       "      <th>experiment</th>\n",
       "      <th>site</th>\n",
       "      <th>class</th>\n",
       "    </tr>\n",
       "  </thead>\n",
       "  <tbody>\n",
       "    <tr>\n",
       "      <td><b>Future projection</b></td>\n",
       "      <td>ScenarioMIP</td>\n",
       "      <td>IFS-NEMO</td>\n",
       "      <td>high, standard</td>\n",
       "      <td><b>01/01/2020</b></td>\n",
       "      <td><b>12/30/2039</b></td>\n",
       "      <td>ssp3-7.0</td>\n",
       "      <td><b>LUMI</b></td>\n",
       "      <td>d1</td>\n",
       "    </tr>\n",
       "    <tr>\n",
       "      <td><b>Future projection</b></td>\n",
       "      <td>ScenarioMIP</td>\n",
       "      <td>ICON</td>\n",
       "      <td>high</td>\n",
       "      <td><b>01/01/2020</b></td>\n",
       "      <td><b>09/30/2033</b></td>\n",
       "      <td>ssp3-7.0</td>\n",
       "      <td><b>LUMI</b></td>\n",
       "      <td>d1</td>\n",
       "    </tr>\n",
       "    <tr>\n",
       "      <td><b>Historical simulation</b></td>\n",
       "      <td>CMIP6</td>\n",
       "      <td>IFS-NEMO</td>\n",
       "      <td>high, standard</td>\n",
       "      <td><b>01/01/1990</b></td>\n",
       "      <td><b>12/31/1996</b></td>\n",
       "      <td>hist</td>\n",
       "      <td><b>LUMI</b></td>\n",
       "      <td>d1</td>\n",
       "    </tr>\n",
       "    <tr>\n",
       "      <td><b>Historical simulation</b></td>\n",
       "      <td>CMIP6</td>\n",
       "      <td>ICON</td>\n",
       "      <td>high</td>\n",
       "      <td><b>01/03/1991</b></td>\n",
       "      <td><b>10/30/2005</b></td>\n",
       "      <td>hist</td>\n",
       "      <td><b>LUMI</b></td>\n",
       "      <td>d1</td>\n",
       "    </tr>\n",
       "    <tr>\n",
       "      <td><b>Storyline simulation present climate</b></td>\n",
       "      <td>story-nudging</td>\n",
       "      <td>IFS-FESOM</td>\n",
       "      <td>high, standard</td>\n",
       "      <td><b>01/01/2017</b></td>\n",
       "      <td><b>12/31/2023</b></td>\n",
       "      <td>hist</td>\n",
       "      <td><b>LUMI</b></td>\n",
       "      <td>d1</td>\n",
       "    </tr>\n",
       "    <tr>\n",
       "      <td><b>Storyline simulation past climate</b></td>\n",
       "      <td>story-nudging</td>\n",
       "      <td>IFS-FESOM</td>\n",
       "      <td>high, standard</td>\n",
       "      <td><b>01/01/2017</b></td>\n",
       "      <td><b>12/31/2023</b></td>\n",
       "      <td>cont</td>\n",
       "      <td><b>LUMI</b></td>\n",
       "      <td>d1</td>\n",
       "    </tr>\n",
       "    <tr>\n",
       "      <td><b>Storyline simulation future climate</b></td>\n",
       "      <td>story-nudging</td>\n",
       "      <td>IFS-FESOM</td>\n",
       "      <td>high, standard</td>\n",
       "      <td><b>01/01/2017</b></td>\n",
       "      <td><b>12/31/2023</b></td>\n",
       "      <td>Tplus2.0K</td>\n",
       "      <td><b>LUMI</b></td>\n",
       "      <td>d1</td>\n",
       "    </tr>\n",
       "    <tr>\n",
       "      <td><b>Control</b></td>\n",
       "      <td>HighResMIP</td>\n",
       "      <td>IFS-FESOM</td>\n",
       "      <td>standard</td>\n",
       "      <td><b>01/01/1990</b></td>\n",
       "      <td><b>12/31/2004</b></td>\n",
       "      <td>cont</td>\n",
       "      <td><b>MARENOSTRUM</b></td>\n",
       "      <td>d1</td>\n",
       "    </tr>\n",
       "    <tr>\n",
       "      <td><b>Future projection</b></td>\n",
       "      <td>ScenarioMIP</td>\n",
       "      <td>IFS-FESOM</td>\n",
       "      <td>high, standard</td>\n",
       "      <td><b>01/01/2020</b></td>\n",
       "      <td><b>12/31/2039</b></td>\n",
       "      <td>ssp3-7.0</td>\n",
       "      <td><b>MARENOSTRUM</b></td>\n",
       "      <td>d1</td>\n",
       "    </tr>\n",
       "    <tr>\n",
       "      <td><b>Historical simulation (NextGEMS)</b></td>\n",
       "      <td>CMIP6</td>\n",
       "      <td>IFS-FESOM</td>\n",
       "      <td>high, standard</td>\n",
       "      <td><b>01/01/1990</b></td>\n",
       "      <td><b>12/31/2019</b></td>\n",
       "      <td>hist</td>\n",
       "      <td><b>LUMI</b></td>\n",
       "      <td>ng</td>\n",
       "    </tr>\n",
       "    <tr>\n",
       "      <td><b>Future projection (NextGEMS)</b></td>\n",
       "      <td>ScenarioMIP</td>\n",
       "      <td>IFS-FESOM</td>\n",
       "      <td>standard</td>\n",
       "      <td><b>01/20/2020</b></td>\n",
       "      <td><b>12/31/2049</b></td>\n",
       "      <td>ssp3-7.0</td>\n",
       "      <td><b>LUMI</b></td>\n",
       "      <td>d1</td>\n",
       "    </tr>\n",
       "    <tr>\n",
       "      <td><b>Control</b></td>\n",
       "      <td>HighResMIP</td>\n",
       "      <td>IFS-NEMO</td>\n",
       "      <td>high, standard</td>\n",
       "      <td><b>01/01/1990</b></td>\n",
       "      <td><b>04/30/2020</b></td>\n",
       "      <td>cont</td>\n",
       "      <td><b>LUMI</b></td>\n",
       "      <td>d1</td>\n",
       "    </tr>\n",
       "  </tbody>\n",
       "</table>"
      ],
      "text/plain": [
       "<IPython.core.display.HTML object>"
      ]
     },
     "metadata": {},
     "output_type": "display_data"
    }
   ],
   "source": [
    "\n",
    "#scenario dictionary in a rich table with title per scenario.\n",
    "\n",
    "scenario_simulation_table=climate_dt_dictionary.climateDT_scenario\n",
    "\n",
    "for simulation in scenario_simulation_table:\n",
    "    if simulation[\"activity\"]==\"ScenarioMIP\" and  simulation.get(\"realization\")==None:\n",
    "        simulation[\"type\"] = \"Future projection\"\n",
    "        if simulation[\"model\"] == \"IFS-FESOM\":\n",
    "            simulation[\"site\"] = \"MARENOSTRUM\"\n",
    "        else:\n",
    "            simulation[\"site\"] = \"LUMI\" \n",
    "    elif simulation[\"activity\"]==\"ScenarioMIP\" and  simulation.get(\"realization\")==\"2\":\n",
    "        simulation[\"type\"] = \"Future projection (NextGEMS)\"\n",
    "        simulation[\"site\"] = \"LUMI\"\n",
    "        simulation[\"dateFrom\"] = \"01/20/2020\"\n",
    "    \n",
    "    if simulation[\"activity\"]==\"CMIP6\" and  simulation.get(\"class\")==\"d1\":\n",
    "        simulation[\"type\"] = \"Historical simulation\"\n",
    "        simulation[\"site\"] = \"LUMI\"\n",
    "    elif simulation[\"activity\"]==\"CMIP6\" and  simulation.get(\"class\")==\"ng\":\n",
    "        simulation[\"type\"] = \"Historical simulation (NextGEMS)\"\n",
    "        simulation[\"site\"] = \"LUMI\"\n",
    "    \n",
    "    if simulation[\"activity\"]==\"story-nudging\" and  simulation.get(\"experiment\")==\"hist\":\n",
    "        simulation[\"type\"] = \"Storyline simulation present climate\"\n",
    "        simulation[\"site\"] = \"LUMI\"\n",
    "    elif simulation[\"activity\"]==\"story-nudging\" and  simulation.get(\"experiment\")==\"cont\":\n",
    "        simulation[\"type\"] = \"Storyline simulation past climate\"\n",
    "        simulation[\"site\"] = \"LUMI\"\n",
    "    elif simulation[\"activity\"]==\"story-nudging\" and  simulation.get(\"experiment\")==\"Tplus2.0K\":\n",
    "        simulation[\"type\"] = \"Storyline simulation future climate\"\n",
    "        simulation[\"site\"] = \"LUMI\"\n",
    "    if simulation[\"activity\"].lower()==\"highresmip\" and  simulation.get(\"experiment\")==\"cont\" and  simulation[\"model\"]==\"IFS-FESOM\":\n",
    "        simulation[\"type\"] = \"Control\"\n",
    "        simulation[\"site\"] = \"MARENOSTRUM\"\n",
    "        simulation[\"activity\"] = \"HighResMIP\"\n",
    "        \n",
    "        \n",
    "new_cont_sc = {\"experiment\": \"cont\", \"activity\": \"HighResMIP\", \"model\": \"IFS-NEMO\"}\n",
    "\n",
    "if any(all(d.get(k) == v for k, v in new_cont_sc.items())\n",
    "       for d in scenario_simulation_table):\n",
    "    print(\"All control scenarios exist\")                \n",
    "else:\n",
    "    scenario_simulation_table.append({\n",
    "    \"type\": \"Control\",\n",
    "    \"activity\": \"HighResMIP\",\n",
    "    \"site\": \"LUMI\",\n",
    "    \"experiment\": \"cont\",\n",
    "    \"model\": \"IFS-NEMO\",\n",
    "    \"class\": \"d1\",\n",
    "    \"resolution\":  [\"high\",\"standard\"],\n",
    "    \"dateFrom\": \"01/01/1990\",\n",
    "    \"dateTo\": \"04/30/2020\"\n",
    "    } )      \n",
    "        \n",
    "import pandas as pd\n",
    "# Convert list of dicts to DataFrame\n",
    "df = pd.DataFrame(scenario_simulation_table)\n",
    "\n",
    "# Convert resolution list into a comma-separated string for display\n",
    "df['resolution'] = df['resolution'].apply(lambda x: \", \".join(x))\n",
    "\n",
    "# Reorder columns\n",
    "column_order = [\"type\", \"activity\", \"model\", \"resolution\", \"dateFrom\", \"dateTo\",\"experiment\" , \"site\", \"class\"]\n",
    "df = df[column_order]\n",
    "\n",
    "# Bold specific fields \n",
    "df['type'] = df['type'].apply(lambda x: f\"<b>{x}</b>\")\n",
    "df['site'] = df['site'].apply(lambda x: f\"<b>{x}</b>\")\n",
    "df['dateFrom'] = df['dateFrom'].apply(lambda x: f\"<b>{x}</b>\")\n",
    "df['dateTo'] = df['dateTo'].apply(lambda x: f\"<b>{x}</b>\")\n",
    "\n",
    "# Display as HTML without index\n",
    "display(HTML(df.to_html(escape=False, index=False)))"
   ]
  },
  {
   "cell_type": "markdown",
   "id": "66d0eaaf-45d0-4f83-a9d6-af0e27f6421a",
   "metadata": {
    "tags": []
   },
   "source": [
    "<div class=\"alert alert-block alert-danger\">\n",
    "<b> Note:</b>\n",
    "    \n",
    "Please note that the two scenarios in Marenostrum site are still not available through HDA.\n",
    "</div>"
   ]
  },
  {
   "cell_type": "code",
   "execution_count": 5,
   "id": "36af73cf-9a92-45e7-87b0-1942210ac01d",
   "metadata": {
    "tags": []
   },
   "outputs": [
    {
     "data": {
      "application/vnd.jupyter.widget-view+json": {
       "model_id": "fdbbe03bce4e4c70b580e9029bcd68af",
       "version_major": 2,
       "version_minor": 0
      },
      "text/plain": [
       "Dropdown(description='Scenario:', layout=Layout(width='500px'), options=(('Future projection - IFS-NEMO - high…"
      ]
     },
     "metadata": {},
     "output_type": "display_data"
    },
    {
     "data": {
      "application/vnd.jupyter.widget-view+json": {
       "model_id": "5fadcf8bcadf484abf12220deb7332d2",
       "version_major": 2,
       "version_minor": 0
      },
      "text/plain": [
       "DatePicker(value=datetime.date(2020, 1, 1), description='Start Date:', layout=Layout(width='500px'), max=datet…"
      ]
     },
     "metadata": {},
     "output_type": "display_data"
    },
    {
     "data": {
      "application/vnd.jupyter.widget-view+json": {
       "model_id": "5dc4b850bab34abcba3888bf8578a28f",
       "version_major": 2,
       "version_minor": 0
      },
      "text/plain": [
       "Output()"
      ]
     },
     "metadata": {},
     "output_type": "display_data"
    }
   ],
   "source": [
    "# Create dropdown to select scenario\n",
    "scenario_dropdown = widgets.Dropdown(\n",
    "    options=[(f\"{entry['type']} - {entry['model']} - {resolution}\", (i, resolution)) \n",
    "             for i, entry in enumerate(scenario_simulation_table) for resolution in entry['resolution']],\n",
    "    description='Scenario:', layout=widgets.Layout(width='500px')\n",
    ")\n",
    "\n",
    "# Create date picker widgets\n",
    "start_date_picker = widgets.DatePicker(description='Start Date:', disabled=False, layout=widgets.Layout(width='500px'))\n",
    "\n",
    "output = widgets.Output()\n",
    "\n",
    "\n",
    "# handle dropdown event\n",
    "scenario_dropdown.observe(on_scenario_change, names='value')\n",
    "\n",
    "# Set initial values directly\n",
    "selected_sc_entry = scenario_simulation_table[0]\n",
    "\n",
    "# Convert dateFrom string to date object\n",
    "date_from = datetime.datetime.strptime(selected_sc_entry['dateFrom'], '%m/%d/%Y').date()\n",
    "\n",
    "# Set initial values directly\n",
    "start_date_picker.min = date_from\n",
    "start_date_picker.max = datetime.datetime.strptime(selected_sc_entry['dateTo'], '%m/%d/%Y').date()\n",
    "start_date_picker.value = date_from\n",
    "\n",
    "display(scenario_dropdown, start_date_picker, output)"
   ]
  },
  {
   "cell_type": "code",
   "execution_count": 6,
   "id": "4dc668c6-79a1-4903-817c-59a099558837",
   "metadata": {
    "tags": []
   },
   "outputs": [],
   "source": [
    "selected_scenario_index, selected_scenario, selected_resolution, selected_start_date, selected_end_date, selected_hour = get_selected_values()"
   ]
  },
  {
   "cell_type": "markdown",
   "id": "429d07d8-95d4-4a52-bb1b-9542b5d1e397",
   "metadata": {},
   "source": [
    "# Parameter Selection"
   ]
  },
  {
   "cell_type": "markdown",
   "id": "a7b833c4-76b6-432f-8e8e-823ad776f3e1",
   "metadata": {},
   "source": [
    "Climate DT variable selection (we limit the plotting to one variable).\n",
    "The variable selection is conditioned by the chosen simulation scenario.\n",
    "\n"
   ]
  },
  {
   "cell_type": "code",
   "execution_count": 7,
   "id": "e9a994bf-299f-4000-aae8-039f27fedd1f",
   "metadata": {
    "tags": []
   },
   "outputs": [
    {
     "data": {
      "application/vnd.jupyter.widget-view+json": {
       "model_id": "64ee750ecde640c59518a8613370149a",
       "version_major": 2,
       "version_minor": 0
      },
      "text/plain": [
       "Label(value='Start writing the name of the parameter of interest in the search box and/or open the dropdown me…"
      ]
     },
     "metadata": {},
     "output_type": "display_data"
    },
    {
     "data": {
      "application/vnd.jupyter.widget-view+json": {
       "model_id": "09bf0f92562843df8c99f3211bafd449",
       "version_major": 2,
       "version_minor": 0
      },
      "text/plain": [
       "Text(value='', description='Search:', placeholder='Search by parameter name')"
      ]
     },
     "metadata": {},
     "output_type": "display_data"
    },
    {
     "data": {
      "application/vnd.jupyter.widget-view+json": {
       "model_id": "da9d78b22daf4418a666284e369fe58a",
       "version_major": 2,
       "version_minor": 0
      },
      "text/plain": [
       "Dropdown(description='Select Entry:', options=(('Total column cloud liquid water', 0), ('Total column cloud ic…"
      ]
     },
     "metadata": {},
     "output_type": "display_data"
    }
   ],
   "source": [
    "text=widgets.Label(value='Start writing the name of the parameter of interest in the search box and/or open the dropdown menu below')\n",
    "\n",
    "# Create search box\n",
    "search_box = widgets.Text(placeholder='Search by parameter name', description='Search:', disabled=False)\n",
    "\n",
    "#clean the parameters to fix some errors in the current dictionary definition\n",
    "cleaned_climate_dt_dictionary=[\n",
    "    d for d in climate_dt_dictionary.climateDT_params\n",
    "    if not (d.get(\"param\") == \"130\" and d.get(\"levtype\") == \"sfc\") \n",
    "    and not ((d.get(\"param\") == \"129\" or d.get(\"param\") == \"172\") and d.get(\"levtype\") == \"sfc\" and (\"NextGEMS\" in selected_scenario['type'])) \n",
    "]\n",
    "\n",
    "model_filtered_options = [\n",
    "    (entry['paramName'], i)\n",
    "    for i, entry in enumerate(cleaned_climate_dt_dictionary)\n",
    "    if (selected_scenario['model'] in (entry['isFESOM'] ,entry['isIcon'],entry['isNemo']))\n",
    "]\n",
    "\n",
    "\n",
    "# Create dropdown to select entry\n",
    "entry_dropdown = widgets.Dropdown(\n",
    "    options=model_filtered_options,\n",
    "    description='Select Entry:'\n",
    ")\n",
    "\n",
    "# handle search box event\n",
    "search_box.observe(on_search_change, names='value')\n",
    "\n",
    "# Display widgets\n",
    "display(text,search_box, entry_dropdown)\n"
   ]
  },
  {
   "cell_type": "markdown",
   "id": "d6806236-7089-47e3-b7dd-1f28f84a2c77",
   "metadata": {},
   "source": [
    "Let's see the  details of the selected parameter (Polytope convention).\n",
    "It is possible to check the its characteristics, time resolution, levels... "
   ]
  },
  {
   "cell_type": "code",
   "execution_count": 8,
   "id": "f9f7b08a-f607-4f05-b417-66eb880c03a8",
   "metadata": {
    "tags": []
   },
   "outputs": [
    {
     "name": "stdout",
     "output_type": "stream",
     "text": [
      "{\n",
      "    \"param\": \"167\",\n",
      "    \"paramName\": \"2 metre temperature\",\n",
      "    \"shortName\": \"2t\",\n",
      "    \"unit\": \"K\",\n",
      "    \"encoding\": \"instantaneous\",\n",
      "    \"isNemo\": \"IFS-NEMO\",\n",
      "    \"isIcon\": \"ICON\",\n",
      "    \"isFESOM\": \"IFS-FESOM\",\n",
      "    \"stream\": \"clte\",\n",
      "    \"type\": \"fc\",\n",
      "    \"time\": \"Hourly\",\n",
      "    \"levtype\": \"sfc\",\n",
      "    \"levelist\": \"\"\n",
      "}\n"
     ]
    }
   ],
   "source": [
    "selected_index = get_selected_entry()\n",
    "selected_entry = cleaned_climate_dt_dictionary[selected_index]\n",
    "print(json.dumps(selected_entry,indent=4))"
   ]
  },
  {
   "cell_type": "code",
   "execution_count": 9,
   "id": "07e568d3-99d2-49ab-a3d5-b03c1ea84e02",
   "metadata": {},
   "outputs": [
    {
     "data": {
      "application/vnd.jupyter.widget-view+json": {
       "model_id": "8c2e324de1504dd18105bfaf7966e554",
       "version_major": 2,
       "version_minor": 0
      },
      "text/plain": [
       "Dropdown(description='Select Hour:', options=(('00:00:00', datetime.time(0, 0)), ('01:00:00', datetime.time(1,…"
      ]
     },
     "metadata": {},
     "output_type": "display_data"
    }
   ],
   "source": [
    "# Create dropdown to select hour\n",
    "hourly_slots = generate_hourly_slots()\n",
    "hour_dropdown = widgets.Dropdown(options=[(str(slot), slot) for slot in hourly_slots], description='Select Hour:', disabled=False)\n",
    "\n",
    "\n",
    "# Display widgets\n",
    "if selected_entry[\"time\"] == \"Hourly\":\n",
    "    display( hour_dropdown)"
   ]
  },
  {
   "cell_type": "markdown",
   "id": "e84d6643-cba1-42c4-b265-1ec183963021",
   "metadata": {},
   "source": [
    "# Levels Selection\n",
    "Handle different Levels to be selected (if any)"
   ]
  },
  {
   "cell_type": "code",
   "execution_count": 10,
   "id": "28a41104-e18e-4edd-b810-31698861bdad",
   "metadata": {
    "tags": []
   },
   "outputs": [],
   "source": [
    "if selected_entry[\"levelist\"] != \"\":\n",
    "    # Convert levelist string to list of integers\n",
    "    levelist = list(map(int, selected_entry[\"levelist\"].split('/')))\n",
    "    if(selected_scenario['model']=='IFS-NEMO'):\n",
    "        levelist = levelist + [73,74,75]\n",
    "\n",
    "    # Create a dropdown widget to choose selection mode\n",
    "    selection_mode_dropdown = widgets.Dropdown(options=['Single', 'Multiple'], description='Selection Mode:')\n",
    "\n",
    "    # Create an output widget to display the selected option(s)\n",
    "    output = widgets.Output()\n",
    "\n",
    "    # Register the function to handle dropdown changes\n",
    "    selection_mode_dropdown.observe(on_dropdown_change, names='value')\n",
    "\n",
    "    # Display the widgets\n",
    "    display(selection_mode_dropdown, output)\n",
    "\n",
    "    # Display the initial widget based on default selection mode\n",
    "    display_widget('Single')"
   ]
  },
  {
   "cell_type": "markdown",
   "id": "5fdd6c40-7f1b-4b8b-9187-22e64190c6fe",
   "metadata": {},
   "source": [
    "# Order and Download"
   ]
  },
  {
   "cell_type": "markdown",
   "id": "c466e080-bef6-4f15-acf5-62dcddcc5ffa",
   "metadata": {
    "tags": []
   },
   "source": [
    "## Obtain Authentication Token\n",
    "\n",
    "To perform our request we need to be authenticated. \n",
    "Below to request of an authentication token."
   ]
  },
  {
   "cell_type": "code",
   "execution_count": 11,
   "id": "4246480e-9ae6-44f9-a459-aa88a0a923ee",
   "metadata": {
    "tags": []
   },
   "outputs": [
    {
     "name": "stdin",
     "output_type": "stream",
     "text": [
      "Please input your DESP username:  serena.avolio\n",
      "Please input your DESP password:  ········\n"
     ]
    },
    {
     "name": "stdout",
     "output_type": "stream",
     "text": [
      "Response code: 200\n",
      "DEDL/DESP Access Token Obtained Successfully\n"
     ]
    }
   ],
   "source": [
    "DESP_USERNAME = input(\"Please input your DESP username: \")\n",
    "DESP_PASSWORD = getpass(\"Please input your DESP password: \")\n",
    "\n",
    "auth = deauth.AuthHandler(DESP_USERNAME, DESP_PASSWORD)\n",
    "access_token = auth.get_token()\n",
    "if access_token is not None:\n",
    "    print(\"DEDL/DESP Access Token Obtained Successfully\")\n",
    "else:\n",
    "    print(\"Failed to Obtain DEDL/DESP Access Token\")\n",
    "\n",
    "auth_headers = {\"Authorization\": f\"Bearer {access_token}\"}"
   ]
  },
  {
   "cell_type": "markdown",
   "id": "bbda9c1c-7490-4fc6-b8c0-8ae44b84eb3d",
   "metadata": {
    "tags": []
   },
   "source": [
    "### Check if DT access is granted\n",
    "\n",
    "If DT access is not granted, you will not be able to execute the rest of the notebook."
   ]
  },
  {
   "cell_type": "code",
   "execution_count": 12,
   "id": "933b1b31-4a55-4c84-ac2c-9ac6e4966992",
   "metadata": {
    "tags": []
   },
   "outputs": [
    {
     "name": "stdout",
     "output_type": "stream",
     "text": [
      "DT Output access allowed\n"
     ]
    }
   ],
   "source": [
    "installed_version = importlib.metadata.version(\"destinelab\")\n",
    "version_number = installed_version.split('.')[1]\n",
    "if((int(version_number) >= 8 and float(installed_version) < 1) or float(installed_version) >= 1):\n",
    "    auth.is_DTaccess_allowed(access_token)"
   ]
  },
  {
   "cell_type": "markdown",
   "id": "fea6e95b-c7e3-4f9d-ae3f-516aa2c2530c",
   "metadata": {},
   "source": [
    "## HDA Endpoint\n",
    "HDA API is based on the Spatio Temporal Asset Catalog specification (STAC), it is convenient define a costant with its endpoint.\n",
    "And another one with the ID of the Cliamte DT collection."
   ]
  },
  {
   "cell_type": "code",
   "execution_count": 13,
   "id": "762bdb39-a253-4cfb-9aeb-13d75f22e71d",
   "metadata": {
    "tags": []
   },
   "outputs": [],
   "source": [
    "HDA_STAC_ENDPOINT=\"https://hda.data.destination-earth.eu/stac/v2\"\n",
    "COLLECTION_ID=\"EO.ECMWF.DAT.DT_CLIMATE_ADAPTATION\""
   ]
  },
  {
   "cell_type": "markdown",
   "id": "4686c297-5190-42bf-8a8a-5ed0958da6de",
   "metadata": {},
   "source": [
    "## Convert selected parameters, simulation and levels into HDA request\n",
    "Convert levels (if any)"
   ]
  },
  {
   "cell_type": "code",
   "execution_count": 14,
   "id": "9d3906c9-4f01-4329-ad0d-99a1e86ebc7e",
   "metadata": {
    "tags": []
   },
   "outputs": [],
   "source": [
    "levlInput = \"\"\n",
    "if global_widget != None:\n",
    "    # Test cases\n",
    "    levlInput = convert_to_string(global_widget.value)"
   ]
  },
  {
   "cell_type": "markdown",
   "id": "987b3835-ad79-40fc-b514-785d303aed04",
   "metadata": {},
   "source": [
    "Convert the chosen parameters into an HDA request for Climate DT data and print the created filters."
   ]
  },
  {
   "cell_type": "code",
   "execution_count": 15,
   "id": "664a9c30-1e69-4e67-b606-81abf38966a4",
   "metadata": {
    "tags": []
   },
   "outputs": [
    {
     "name": "stdout",
     "output_type": "stream",
     "text": [
      "Polytope API format for the selected values. The json below can be copied and used with the polytope API\n",
      "\n",
      "{\n",
      "    \"class\": \"d1\",\n",
      "    \"dataset\": \"climate-dt\",\n",
      "    \"activity\": \"ScenarioMIP\",\n",
      "    \"experiment\": \"SSP3-7.0\",\n",
      "    \"model\": \"IFS-NEMO\",\n",
      "    \"generation\": \"1\",\n",
      "    \"resolution\": \"high\",\n",
      "    \"expver\": \"0001\",\n",
      "    \"stream\": \"clte\",\n",
      "    \"time\": \"0000\",\n",
      "    \"type\": \"fc\",\n",
      "    \"levtype\": \"sfc\",\n",
      "    \"param\": \"167\",\n",
      "    \"realization\": \"1\",\n",
      "    \"date\": \"20290606/to/20290606\"\n",
      "}\n"
     ]
    }
   ],
   "source": [
    "hourchoice4 = '{shour}00'.format(shour = str(get_selected_hours()).split(\":\")[0])\n",
    "\n",
    "filter_params = {\n",
    "  \"ecmwf:class\" : get_selected_values()[1] .get(\"class\",\"d1\"),\n",
    "  \"ecmwf:dataset\": \"climate-dt\",   # fixed climate-dt access\n",
    "  \"ecmwf:activity\" : get_selected_values()[1][\"activity\"],\n",
    "  \"ecmwf:experiment\" : get_selected_values()[1][\"experiment\"].upper(),\n",
    "  \"ecmwf:model\": get_selected_values()[1][\"model\"],\n",
    "  \"ecmwf:generation\": \"1\",         # fixed Specifies the generation of the dataset, which can be incremented as required (latest is 1)\n",
    "  \"ecmwf:resolution\": get_selected_values()[2],      # standard/ high \n",
    "  \"ecmwf:expver\": \"0001\",          # fixed experiment version \n",
    "  \"ecmwf:stream\": selected_entry[\"stream\"],\n",
    "  \"ecmwf:time\": hourchoice4,            # choose the hourly slot(s)\n",
    "  \"ecmwf:type\": \"fc\",              # fixed forecasted fields\n",
    "  \"ecmwf:levtype\": selected_entry[\"levtype\"],  \n",
    "  \"ecmwf:levelist\": str(levlInput),  \n",
    "  \"ecmwf:param\": str(selected_entry[\"param\"]),\n",
    "  \"ecmwf:realization\":get_selected_values()[1] .get(\"realization\", \"1\")\n",
    "}\n",
    "\n",
    "# Print the result in JSON format\n",
    "datechoice = \"{fname}T{shour}Z\".format(fname = get_selected_values()[3], shour = get_selected_hours() )\n",
    "\n",
    "# Check if levelist is empty and remove it\n",
    "if filter_params.get(\"ecmwf:levelist\") == \"\":\n",
    "    del filter_params[\"ecmwf:levelist\"]\n",
    "\n",
    "if selected_entry[\"time\"] == \"Daily\":\n",
    "    del filter_params[\"ecmwf:time\"]\n",
    "\n",
    "hdaFilters = {\n",
    "    key: {\"eq\": value}\n",
    "    for key, value in filter_params.items()\n",
    "}\n",
    "\n",
    "\n",
    "print(\"Polytope API format for the selected values. The json below can be copied and used with the polytope API\\n\")\n",
    "polytope_payload = {key.replace(\"ecmwf:\", \"\"): value for key, value in filter_params.items()}\n",
    "#add date\n",
    "date4poly =get_selected_values()[3].strftime(\"%Y%m%d\")\n",
    "polytope_payload[\"date\"]=date4poly+\"/to/\"+date4poly\n",
    "print(json.dumps(polytope_payload, indent=4))"
   ]
  },
  {
   "cell_type": "markdown",
   "id": "1d06326a-2f88-4d14-b4c8-0d740094e93f",
   "metadata": {
    "tags": []
   },
   "source": [
    "### Filtering\n",
    "\n",
    "Search into asynchronous datasets, as the DTs are, always return a single item:"
   ]
  },
  {
   "cell_type": "code",
   "execution_count": 16,
   "id": "aadb37a8-c76b-4c6a-9d0e-1f7b3004ade1",
   "metadata": {
    "tags": []
   },
   "outputs": [
    {
     "data": {
      "application/json": {
       "assets": {},
       "bbox": [
        -180,
        -90,
        180,
        90
       ],
       "collection": "EO.ECMWF.DAT.DT_CLIMATE_ADAPTATION",
       "geometry": {
        "coordinates": [
         [
          [
           180,
           -90
          ],
          [
           180,
           90
          ],
          [
           -180,
           90
          ],
          [
           -180,
           -90
          ],
          [
           180,
           -90
          ]
         ]
        ],
        "type": "Polygon"
       },
       "id": "DT_CLIMATE_ADAPTATION_ORDERABLE_d65cfefd68171e25a4ea9c2ce715b7b5351e8dfe",
       "links": [
        {
         "body": {
          "activity": "ScenarioMIP",
          "class": "d1",
          "dataset": "climate-dt",
          "date": "20290606/to/20290606",
          "experiment": "SSP3-7.0",
          "expver": "0001",
          "generation": "1",
          "levtype": "sfc",
          "model": "IFS-NEMO",
          "param": "167",
          "realization": "1",
          "resolution": "high",
          "stream": "clte",
          "time": "0000",
          "type": "fc"
         },
         "href": "https://hda.data.destination-earth.eu/stac/v2/collections/EO.ECMWF.DAT.DT_CLIMATE_ADAPTATION/order",
         "method": "POST",
         "rel": "retrieve",
         "title": "Retrieve",
         "type": "application/geo+json"
        },
        {
         "href": "https://hda.data.destination-earth.eu/stac/v2/collections/EO.ECMWF.DAT.DT_CLIMATE_ADAPTATION",
         "rel": "collection",
         "title": "EO.ECMWF.DAT.DT_CLIMATE_ADAPTATION",
         "type": "application/json"
        },
        {
         "href": "https://hda.data.destination-earth.eu/stac/v2/collections/EO.ECMWF.DAT.DT_CLIMATE_ADAPTATION/items/DT_CLIMATE_ADAPTATION_ORDERABLE_d65cfefd68171e25a4ea9c2ce715b7b5351e8dfe",
         "rel": "self",
         "title": "Original item link",
         "type": "application/geo+json"
        }
       ],
       "properties": {
        "alias": "EO.ECMWF.DAT.DT_CLIMATE_ADAPTATION",
        "collection": "climate-dt",
        "datetime": "2029-06-06T00:00:00.000000Z",
        "ecmwf:activity": "ScenarioMIP",
        "ecmwf:class": "d1",
        "ecmwf:dataset": "climate-dt",
        "ecmwf:date": "20290606/to/20290606",
        "ecmwf:experiment": "SSP3-7.0",
        "ecmwf:expver": "0001",
        "ecmwf:generation": "1",
        "ecmwf:levtype": "sfc",
        "ecmwf:model": "IFS-NEMO",
        "ecmwf:param": "167",
        "ecmwf:realization": "1",
        "ecmwf:resolution": "high",
        "ecmwf:stream": "clte",
        "ecmwf:time": "0000",
        "ecmwf:type": "fc",
        "end_datetime": "2029-06-06T00:00:00.000000Z",
        "federation:backends": [
         "dedt_lumi"
        ],
        "license": "CC-BY-4.0",
        "order:status": "orderable",
        "scope": {
         "discover": null,
         "download": "DPAD_Direct_Access",
         "search": "DPAD_Direct_Access"
        },
        "stacCollection": "/eodag/collections/EO.ECMWF.DAT.DT_CLIMATE_ADAPTATION.json",
        "start_datetime": "2029-06-06T00:00:00.000000Z",
        "storage:tier": "offline",
        "title": "DT_CLIMATE_ADAPTATION_ORDERABLE_d65cfefd68171e25a4ea9c2ce715b7b5351e8dfe"
       },
       "stac_extensions": [
        "https://stac-extensions.github.io/order/v1.1.0/schema.json",
        "https://stac-extensions.github.io/storage/v1.0.0/schema.json"
       ],
       "stac_version": "1.0.0",
       "type": "Feature"
      },
      "text/plain": [
       "<IPython.core.display.JSON object>"
      ]
     },
     "execution_count": 16,
     "metadata": {
      "application/json": {
       "expanded": false,
       "root": "root"
      }
     },
     "output_type": "execute_result"
    }
   ],
   "source": [
    "#Sometimes requests to polytope get timeouts, it is then convenient define a retry strategy\n",
    "retry_strategy = Retry(\n",
    "    total=5,  # Total number of retries\n",
    "    status_forcelist=[500, 502, 503, 504],  # List of 5xx status codes to retry on\n",
    "    allowed_methods=[\"GET\",'POST'],  # Methods to retry\n",
    "    backoff_factor=1  # Wait time between retries (exponential backoff)\n",
    ")\n",
    "\n",
    "# Create an adapter with the retry strategy\n",
    "adapter = HTTPAdapter(max_retries=retry_strategy)\n",
    "\n",
    "# Create a session and mount the adapter\n",
    "session = requests.Session()\n",
    "session.mount(\"https://\", adapter)\n",
    "\n",
    "response = session.post(HDA_STAC_ENDPOINT+\"/search\", headers=auth_headers, json={\n",
    " \"collections\": [\"EO.ECMWF.DAT.DT_CLIMATE_ADAPTATION\"],\n",
    "    \"datetime\": datechoice,\n",
    "    \"query\": hdaFilters\n",
    "})\n",
    "\n",
    "if(response.status_code!= 200):\n",
    "    (print(response.text))\n",
    "response.raise_for_status()\n",
    "\n",
    "product = response.json()[\"features\"][0]\n",
    "JSON(product)"
   ]
  },
  {
   "cell_type": "markdown",
   "id": "12a56a20-2b73-47f1-aad8-31f328bc1b41",
   "metadata": {},
   "source": [
    "The single item returned (above) contains:\n",
    "- The product id: \"DT_CLIMATE_ADAPTATION_ORDERABLE_...\", that is a placeholder, its name contains the term \"ORDERABLE\".\n",
    "- The storage:tier that indicates that the product is \"offline\"\n",
    "- The order:status that indicates that the product is \"orderable\"\n",
    "- Request params used for the order extracted from the search result"
   ]
  },
  {
   "cell_type": "code",
   "execution_count": 17,
   "id": "be157cc6-0f05-4be3-b0b1-49766f833393",
   "metadata": {
    "tags": []
   },
   "outputs": [],
   "source": [
    "ecmwf_properties = {\n",
    "    key: value for key, value in product.get('properties', {}).items()\n",
    "    if key.startswith('ecmwf:')\n",
    "}"
   ]
  },
  {
   "cell_type": "markdown",
   "id": "55dfe7e6-f7e5-484d-bb5f-c125de4b4eb2",
   "metadata": {},
   "source": [
    "## Order data\n",
    "\n",
    "We have now all the information to order the data.\n",
    "\n",
    "From the search results we know that the product is orderable and offline, we then need to order the product we searched for."
   ]
  },
  {
   "cell_type": "code",
   "execution_count": 18,
   "id": "7b1eaf23-d178-470e-b4f2-3288580d23fd",
   "metadata": {
    "tags": []
   },
   "outputs": [
    {
     "name": "stdout",
     "output_type": "stream",
     "text": [
      "Product ordered: da397399-f4d1-4992-9aa8-60aab1dc8f23\n",
      "Provider: dedt_lumi\n",
      "Storage tier: offline (product must have storage tier \"online\" to be downloadable)\n",
      "Order status: shipping\n"
     ]
    }
   ],
   "source": [
    "response = requests.post(f\"{HDA_STAC_ENDPOINT}/collections/{COLLECTION_ID}/order\", json=ecmwf_properties, headers=auth_headers)\n",
    "\n",
    "if response.status_code != 200:\n",
    "    print(response.content)\n",
    "response.raise_for_status()\n",
    "\n",
    "ordered_item = response.json()\n",
    "\n",
    "product_id = ordered_item[\"id\"]\n",
    "storage_tier = ordered_item[\"properties\"].get(\"storage:tier\", \"online\")\n",
    "order_status = ordered_item[\"properties\"].get(\"order:status\", \"unknown\")\n",
    "federation_backend = ordered_item[\"properties\"].get(\"federation:backends\", [None])[0]\n",
    "\n",
    "print(f\"Product ordered: {product_id}\")\n",
    "print(f\"Provider: {federation_backend}\")\n",
    "print(f\"Storage tier: {storage_tier} (product must have storage tier \\\"online\\\" to be downloadable)\")\n",
    "print(f\"Order status: {order_status}\")    "
   ]
  },
  {
   "cell_type": "markdown",
   "id": "e7ddbd33-a66e-4b3e-8897-78721aa10c34",
   "metadata": {},
   "source": [
    "### Poll the API until product is ready"
   ]
  },
  {
   "cell_type": "markdown",
   "id": "08f74392-39c4-43ae-8f5f-eefdd3e42174",
   "metadata": {
    "tags": []
   },
   "source": [
    "We request the product itself to get an update of its status."
   ]
  },
  {
   "cell_type": "code",
   "execution_count": 19,
   "id": "725d247b-784e-4da8-9304-f694c8769da4",
   "metadata": {
    "tags": []
   },
   "outputs": [
    {
     "name": "stdout",
     "output_type": "stream",
     "text": [
      "Polling 1/300\n",
      "Polling 2/300\n",
      "Product is ready to be downloaded.\n",
      "Asset URL: https://hda-download.lumi.data.destination-earth.eu/data/dedt_lumi/EO.ECMWF.DAT.DT_CLIMATE_ADAPTATION/da397399-f4d1-4992-9aa8-60aab1dc8f23/downloadLink\n"
     ]
    }
   ],
   "source": [
    "#timeout and step for polling (sec)\n",
    "TIMEOUT = 300\n",
    "STEP = 1\n",
    "ONLINE_STATUS = \"online\"\n",
    "\n",
    "self_url = f\"{HDA_STAC_ENDPOINT}/collections/{COLLECTION_ID}/items/{product_id}\"\n",
    "item = {}\n",
    "\n",
    "for i in range(0, TIMEOUT, STEP):\n",
    "    print(f\"Polling {i + 1}/{TIMEOUT // STEP}\")\n",
    "\n",
    "    response = requests.get(self_url, headers=auth_headers)\n",
    "    if response.status_code != 200:\n",
    "        print(response.content)\n",
    "    response.raise_for_status()\n",
    "    item = response.json()\n",
    "\n",
    "    storage_tier = item[\"properties\"].get(\"storage:tier\", ONLINE_STATUS)\n",
    "\n",
    "    if storage_tier == ONLINE_STATUS:\n",
    "        download_url = item[\"assets\"][\"downloadLink\"][\"href\"]\n",
    "        print(\"Product is ready to be downloaded.\")\n",
    "        print(f\"Asset URL: {download_url}\")\n",
    "        break\n",
    "\n",
    "    sleep(STEP)\n",
    "else:\n",
    "    order_status = item[\"properties\"].get(\"order:status\", \"unknown\")\n",
    "    print(f\"We could not download the product after {TIMEOUT // STEP} tries. Current order status is {order_status}\")\n",
    "    \n"
   ]
  },
  {
   "cell_type": "markdown",
   "id": "1e23323c-6415-4e6e-ab39-773538711ff8",
   "metadata": {},
   "source": [
    "# Download"
   ]
  },
  {
   "cell_type": "code",
   "execution_count": 20,
   "id": "0da25e18-479c-41df-80c0-b5c4a05ee4bd",
   "metadata": {
    "tags": []
   },
   "outputs": [
    {
     "name": "stdout",
     "output_type": "stream",
     "text": [
      "downloading da397399-f4d1-4992-9aa8-60aab1dc8f23.grib\n"
     ]
    },
    {
     "name": "stderr",
     "output_type": "stream",
     "text": [
      "26.2MB [00:03, 7.52MB/s]\n"
     ]
    }
   ],
   "source": [
    "response = requests.get(download_url, stream=True, headers=auth_headers)\n",
    "response.raise_for_status()\n",
    "\n",
    "content_disposition = response.headers.get('Content-Disposition')\n",
    "total_size = int(response.headers.get(\"content-length\", 0))\n",
    "if content_disposition:\n",
    "    filename = content_disposition.split('filename=')[1].strip('\"')\n",
    "    filename = unquote(filename)\n",
    "else:\n",
    "    filename = os.path.basename(url)\n",
    "\n",
    "# Open a local file in binary write mode and write the content\n",
    "print(f\"downloading {filename}\")\n",
    "\n",
    "with tqdm(total=total_size, unit=\"B\", unit_scale=True) as progress_bar:\n",
    "    with open(filename, 'wb') as f:\n",
    "        for data in response.iter_content(1024):\n",
    "            progress_bar.update(len(data))\n",
    "            f.write(data)"
   ]
  },
  {
   "cell_type": "markdown",
   "id": "9bf04ee0-d431-4766-9f11-26b234eba719",
   "metadata": {},
   "source": [
    "## EarthKit\n",
    "\n",
    "Lets plot the result file with [EarthKit](https://earthkit.readthedocs.io/en/latest/index.html) selecting only the Europe area in the plot."
   ]
  },
  {
   "cell_type": "code",
   "execution_count": 22,
   "id": "b5f15df7-c4e0-4813-86f7-9513651227b4",
   "metadata": {
    "tags": []
   },
   "outputs": [
    {
     "name": "stderr",
     "output_type": "stream",
     "text": [
      "ECCODES WARNING :  Key gridSpec is not yet implemented. Work in progress...\n"
     ]
    },
    {
     "data": {
      "text/plain": [
       "<earthkit.plots.components.figures.Figure at 0x76432a52f550>"
      ]
     },
     "execution_count": 22,
     "metadata": {},
     "output_type": "execute_result"
    },
    {
     "data": {
      "image/png": "[encoded data removed]",
      "text/plain": [
       "<Figure size 800x700 with 2 Axes>"
      ]
     },
     "metadata": {},
     "output_type": "display_data"
    }
   ],
   "source": [
    "import earthkit.data\n",
    "import earthkit.plots\n",
    "import earthkit.regrid\n",
    "\n",
    "data = earthkit.data.from_source(\"file\", filename)\n",
    "earthkit.plots.quickplot(data,domain=\"Europe\")"
   ]
  },
  {
   "cell_type": "code",
   "execution_count": null,
   "id": "f4f443a0-c6cb-47f2-b946-a43c64a61bd2",
   "metadata": {},
   "outputs": [],
   "source": []
  }
 ],
 "metadata": {
  "kernelspec": {
   "display_name": "Python 3 (ipykernel)",
   "language": "python",
   "name": "python3"
  },
  "language_info": {
   "codemirror_mode": {
    "name": "ipython",
    "version": 3
   },
   "file_extension": ".py",
   "mimetype": "text/x-python",
   "name": "python",
   "nbconvert_exporter": "python",
   "pygments_lexer": "ipython3",
   "version": "3.11.9"
  }
 },
 "nbformat": 4,
 "nbformat_minor": 5
}
