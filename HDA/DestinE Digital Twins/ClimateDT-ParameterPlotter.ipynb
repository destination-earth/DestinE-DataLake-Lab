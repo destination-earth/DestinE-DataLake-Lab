{
 "cells": [
  {
   "cell_type": "markdown",
   "id": "2cf69729-a25d-4b3e-883c-6565036e8f22",
   "metadata": {
    "tags": []
   },
   "source": [
    "![](https://github.com/destination-earth/DestinE-DataLake-Lab/blob/main/img/DestinE-banner.jpg?raw=true)"
   ]
  },
  {
   "cell_type": "markdown",
   "id": "12da9d8d-97b2-4a48-a3b5-439aa4478dbe",
   "metadata": {},
   "source": [
    "**Copyright:** 2025 EUMETSAT <br>\n",
    "**License:** MIT <br>\n",
    "**Authors:** Micheal Schick (EUMETSAT), Serena Avolio (EUMETSAT/Starion)"
   ]
  },
  {
   "cell_type": "markdown",
   "id": "8c78a5d4-9a76-4339-92f3-cdd276b31a2c",
   "metadata": {},
   "source": [
    "<div class=\"alert alert-block alert-success\">\n",
    "<h3>Destination Earth - HDA Climate DT Parameter Plotter Tutorial</h3></div>"
   ]
  },
  {
   "cell_type": "markdown",
   "id": "71703080-c050-4951-9816-2fb948664b7e",
   "metadata": {},
   "source": [
    "<div class=\"alert alert-block alert-warning\">\n",
    "<b> Prerequisites: </b>\n",
    "   <li>To search and access DEDL data a <a href=\"https://platform.destine.eu/\"> DestinE user account</a> is needed</li>\n",
    "   <li>To search and access DT data an <a href=\"https://platform.destine.eu/support-pages/access-policy/\"> upgraded access</a> is needed.</li>\n",
    "<b> References: </b>\n",
    "    <li><a href=\"https://destine-data-lake-docs.data.destination-earth.eu/en/latest/dedl-discovery-and-data-access/Use-of-Harmonized-Data-Access/Use-of-Harmonized-Data-Access.html\">DestinE Data Lake (DEDL) Harmonized Data Access (HDA) documentation</a> </li>\n",
    "    <li> <a href=\"https://destine.ecmwf.int/climate-change-adaptation-digital-twin-climate-dt/\">Climate Change Adaptation DT (Climate DT)</a></li>\n",
    "    <li> <a href=\"https://confluence.ecmwf.int/display/DDCZ/Climate+DT+Phase+1+data+catalogue\">Climate DT data catalogue</a></li>\n",
    "<b> Credit: </b>\n",
    "    <li> Earthkit and HDA Polytope used in this context are both packages provided by the European Centre for Medium-Range Weather Forecasts (ECMWF).</li>\n",
    "</div>"
   ]
  },
  {
   "cell_type": "markdown",
   "id": "f8de5a32-1a99-4f7c-8bb0-c77511556a6e",
   "metadata": {
    "tags": []
   },
   "source": [
    "This notebook demonstrates how to use the **HDA (Harmonized Data Access)** API to query and access Climate DT data.\n",
    "\n",
    "A correct combination of parameters is necessary to access DT data for different types of simulations.\n",
    "The aim of this notebook is to help you create the correct request to access the desired Climate DT data, through HDA, and visualize it.\n",
    "\n",
    "Below the main steps covered by this tutorial.\n",
    "\n",
    "1. [Setup](ClimateDT-ParameterPlotter.ipynb#Setup): Import the required libraries and define some function. \n",
    "2. [Parameter Selection](ClimateDT-ParameterPlotter.ipynb#Parameter-Selection): How to select the desired Climate DT variable and check its characteristics. \n",
    "3. [Simulation Selection](ClimateDT-ParameterPlotter.ipynb#Scenario-Simulation-Selection):  How to select the desired Climate DT variable. \n",
    "4. [Levels Selection](ClimateDT-ParameterPlotter.ipynb#Levels-Selection): How to Handle different Levels to be selected (if any).\n",
    "5. [Order and Download](ClimateDT-ParameterPlotter.ipynb#Order-and-Download): How to visualize hourly data on single levels data through Earthkit.\n",
    "6. [Plot](ClimateDT-ParameterPlotter.ipynb#EarthKit): How to visualize hourly data on single levels data through Earthkit."
   ]
  },
  {
   "cell_type": "markdown",
   "id": "18e83f89-78a5-47f1-a480-8104e17d4c29",
   "metadata": {
    "tags": []
   },
   "source": [
    "\n",
    "[Documentation DestinE DataLake HDA](https://destine-data-lake-docs.data.destination-earth.eu/en/latest/dedl-discovery-and-data-access/Introduction-to-Discovery-and-Data-Access-services/Introduction-to-Discovery-and-Data-Access-services.html#hda-harmonised-data-access)\n",
    "\n",
    "[Documentation Digital Twin - Parameter Usage](https://confluence.ecmwf.int/display/DDCZ/DestinE+Parameter+Portfolios)\n",
    "\n",
    "\n",
    "\n"
   ]
  },
  {
   "cell_type": "markdown",
   "id": "d1a15411-c356-4e7c-b92a-df49792d313e",
   "metadata": {},
   "source": [
    "# Setup"
   ]
  },
  {
   "cell_type": "markdown",
   "id": "fb365085-875e-4f6b-8c6d-d7a72cd7c48b",
   "metadata": {},
   "source": [
    "Import the Climate DT parameters & scenarios dictionary"
   ]
  },
  {
   "cell_type": "code",
   "execution_count": 64,
   "id": "faa93369-fb02-417b-bd5c-d535863b770d",
   "metadata": {
    "tags": []
   },
   "outputs": [],
   "source": [
    "import destinelab as deauth\n",
    "from destinelab import climate_dt_dictionary\n",
    "import ipywidgets as widgets\n",
    "import json\n",
    "import datetime\n",
    "import importlib.metadata\n",
    "\n",
    "import requests\n",
    "from requests.adapters import HTTPAdapter\n",
    "from urllib3.util.retry import Retry\n",
    "import os\n",
    "from getpass import getpass\n",
    "from tqdm import tqdm\n",
    "import time\n",
    "from urllib.parse import unquote\n",
    "from time import sleep"
   ]
  },
  {
   "cell_type": "markdown",
   "id": "090eba0d-8808-4585-bda8-9f264ba9f283",
   "metadata": {},
   "source": [
    "Define some useful funtions to simplify the parameters selection."
   ]
  },
  {
   "cell_type": "code",
   "execution_count": 49,
   "id": "52dfecdb-3ed9-42d7-9692-635c44654aaa",
   "metadata": {
    "tags": []
   },
   "outputs": [],
   "source": [
    "#parameters\n",
    "\n",
    "def filter_entries(search_string):\n",
    "    return [(entry['paramName'], i) for i, entry in enumerate(climate_dt_dictionary.climateDT_params) if search_string.lower() in entry['paramName'].lower()]\n",
    "\n",
    "def on_search_change(change):\n",
    "    search_string = change.new\n",
    "    if search_string:\n",
    "        filtered_options = filter_entries(search_string)\n",
    "        entry_dropdown.options = filtered_options\n",
    "    else:\n",
    "        entry_dropdown.options = [(entry['paramName'], i) for i, entry in enumerate(climate_dt_dictionary.climateDT_params)]\n",
    "        \n",
    "def get_selected_entry():\n",
    "    return entry_dropdown.value\n",
    "\n",
    "#simulations\n",
    "\n",
    "# Function to generate hourly slots\n",
    "def generate_hourly_slots():\n",
    "    hours = []\n",
    "    for hour in range(0, 24):\n",
    "        for minute in range(0, 60, 60):  # Step by 60 minutes (1 hour)\n",
    "            hours.append(datetime.time(hour, minute))\n",
    "    return hours\n",
    "\n",
    "def on_scenario_change(change):\n",
    "    selected_scenario_index, selected_resolution = change.new\n",
    "    selected_sc_entry = climate_dt_dictionary.climateDT_scenario[selected_scenario_index]\n",
    "    date_from = datetime.datetime.strptime(selected_sc_entry['dateFrom'], '%m/%d/%Y').date()\n",
    "    start_date_picker.max = None\n",
    "    start_date_picker.min = date_from\n",
    "    start_date_picker.max = datetime.datetime.strptime(selected_sc_entry['dateTo'], '%m/%d/%Y').date()\n",
    "    start_date_picker.value = date_from\n",
    "    \n",
    "def get_selected_values():\n",
    "    selected_scenario_index, selected_resolution = scenario_dropdown.value\n",
    "    selected_scenario = climate_dt_dictionary.climateDT_scenario[selected_scenario_index]\n",
    "    selected_start_date = start_date_picker.value\n",
    "    selected_end_date = \"\" # end_date_picker.value\n",
    "    selected_hour = \"00:00:00\"\n",
    "    if selected_entry[\"time\"] == \"Hourly\":\n",
    "        selected_hour = hour_dropdown.value\n",
    "        \n",
    "    return selected_scenario_index, selected_scenario, selected_resolution, selected_start_date, selected_end_date, selected_hour\n",
    "\n",
    "# kevels\n",
    "\n",
    "# Define a global variable\n",
    "global global_widget\n",
    "global_widget = None\n",
    "\n",
    "# Create a function to generate the widget based on the selection mode\n",
    "def generate_widget(selection_mode):\n",
    "    global global_widget\n",
    "    if selection_mode == 'Single':\n",
    "        global_widget = widgets.Dropdown(options=levelist, description='Select level:')\n",
    "        return global_widget\n",
    "    elif selection_mode == 'Multiple':\n",
    "        global_widget = widgets.SelectMultiple(options=levelist, description='Select levels:')\n",
    "        return global_widget\n",
    "    \n",
    "    \n",
    "# Function to display the widget based on the selection mode\n",
    "def display_widget(selection_mode):\n",
    "    output.clear_output()\n",
    "    with output:\n",
    "        display(generate_widget(selection_mode))\n",
    "\n",
    "# Define a function to handle the change in selection mode\n",
    "def on_dropdown_change(change):\n",
    "    display_widget(change.new)\n",
    "    \n",
    "# Function to convert tuple or single integer to string separated by \"/\"\n",
    "def convert_to_string(input):\n",
    "    if isinstance(input, tuple):\n",
    "        return '/'.join(map(str, input))\n",
    "    elif isinstance(input, int):\n",
    "        return str(input)\n",
    "    else:\n",
    "        return None  # Handle other types if needed\n"
   ]
  },
  {
   "cell_type": "markdown",
   "id": "429d07d8-95d4-4a52-bb1b-9542b5d1e397",
   "metadata": {},
   "source": [
    "# Parameter Selection"
   ]
  },
  {
   "cell_type": "markdown",
   "id": "a7b833c4-76b6-432f-8e8e-823ad776f3e1",
   "metadata": {},
   "source": [
    "Climate DT variable selection (we limit the plotting to one variable)\n",
    "\n"
   ]
  },
  {
   "cell_type": "code",
   "execution_count": 50,
   "id": "e9a994bf-299f-4000-aae8-039f27fedd1f",
   "metadata": {
    "tags": []
   },
   "outputs": [
    {
     "data": {
      "application/vnd.jupyter.widget-view+json": {
       "model_id": "9aaa8b02d0a54e27a4de428523eb777d",
       "version_major": 2,
       "version_minor": 0
      },
      "text/plain": [
       "Label(value='Start writing the name of the parameter of interest in the search box and/or open the dropdown me…"
      ]
     },
     "metadata": {},
     "output_type": "display_data"
    },
    {
     "data": {
      "application/vnd.jupyter.widget-view+json": {
       "model_id": "28ae7033c2a04f09974bbb6804b2a4ba",
       "version_major": 2,
       "version_minor": 0
      },
      "text/plain": [
       "Text(value='', description='Search:', placeholder='Search by parameter name')"
      ]
     },
     "metadata": {},
     "output_type": "display_data"
    },
    {
     "data": {
      "application/vnd.jupyter.widget-view+json": {
       "model_id": "2c53dbe4ead841a893771dff993eb514",
       "version_major": 2,
       "version_minor": 0
      },
      "text/plain": [
       "Dropdown(description='Select Entry:', options=(('Total column cloud liquid water', 0), ('Total column cloud ic…"
      ]
     },
     "metadata": {},
     "output_type": "display_data"
    }
   ],
   "source": [
    "text=widgets.Label(value='Start writing the name of the parameter of interest in the search box and/or open the dropdown menu below')\n",
    "\n",
    "# Create search box\n",
    "search_box = widgets.Text(placeholder='Search by parameter name', description='Search:', disabled=False)\n",
    "\n",
    "# Create dropdown to select entry\n",
    "entry_dropdown = widgets.Dropdown(\n",
    "    options=[(entry['paramName'], i) for i, entry in enumerate(climate_dt_dictionary.climateDT_params)],\n",
    "    description='Select Entry:'\n",
    ")\n",
    "\n",
    "# handle search box event\n",
    "search_box.observe(on_search_change, names='value')\n",
    "\n",
    "# Display widgets\n",
    "display(text,search_box, entry_dropdown)\n"
   ]
  },
  {
   "cell_type": "markdown",
   "id": "d6806236-7089-47e3-b7dd-1f28f84a2c77",
   "metadata": {},
   "source": [
    "Let's see the  details of the selected parameter (Polytope convention).\n",
    "\n",
    "From the details it is possible to see the parameter characteristic as the time resolution and the models with which the parameter can be obtained. "
   ]
  },
  {
   "cell_type": "code",
   "execution_count": 51,
   "id": "f9f7b08a-f607-4f05-b417-66eb880c03a8",
   "metadata": {
    "tags": []
   },
   "outputs": [
    {
     "name": "stdout",
     "output_type": "stream",
     "text": [
      "{\n",
      "    \"param\": \"130\",\n",
      "    \"paramName\": \"Temperature\",\n",
      "    \"shortName\": \"t\",\n",
      "    \"unit\": \"K\",\n",
      "    \"encoding\": \"instantaneous\",\n",
      "    \"isNemo\": \"IFS-NEMO\",\n",
      "    \"isIcon\": \"ICON\",\n",
      "    \"isFESOM\": \"IFS-FESOM\",\n",
      "    \"stream\": \"clte\",\n",
      "    \"type\": \"fc\",\n",
      "    \"time\": \"Hourly\",\n",
      "    \"levtype\": \"pl\",\n",
      "    \"levelist\": \"1000/925/850/700/600/500/400/300/250/200/150/100/70/50/30/20/10/5/1\"\n",
      "}\n"
     ]
    }
   ],
   "source": [
    "selected_index = get_selected_entry()\n",
    "selected_entry = climate_dt_dictionary.climateDT_params[selected_index]\n",
    "print(json.dumps(selected_entry,indent=4))"
   ]
  },
  {
   "cell_type": "markdown",
   "id": "579a7776-3f82-44d9-8cda-acadfdaeb753",
   "metadata": {},
   "source": [
    "# Scenario Simulation Selection\n",
    "Let's select now the Scenario from which we want to obtain the Climate Parameter"
   ]
  },
  {
   "cell_type": "code",
   "execution_count": 52,
   "id": "36af73cf-9a92-45e7-87b0-1942210ac01d",
   "metadata": {
    "tags": []
   },
   "outputs": [
    {
     "data": {
      "application/vnd.jupyter.widget-view+json": {
       "model_id": "4707120a81e04288af37b287f64372b6",
       "version_major": 2,
       "version_minor": 0
      },
      "text/plain": [
       "Dropdown(description='Scenario:', options=(('ssp3-7.0 - IFS-NEMO - high', (0, 'high')), ('ssp3-7.0 - IFS-NEMO …"
      ]
     },
     "metadata": {},
     "output_type": "display_data"
    },
    {
     "data": {
      "application/vnd.jupyter.widget-view+json": {
       "model_id": "c6e978d9d87a4cda9934d025280f7db9",
       "version_major": 2,
       "version_minor": 0
      },
      "text/plain": [
       "DatePicker(value=datetime.date(2020, 1, 1), description='Start Date:', max=datetime.date(2039, 12, 30), min=da…"
      ]
     },
     "metadata": {},
     "output_type": "display_data"
    },
    {
     "data": {
      "application/vnd.jupyter.widget-view+json": {
       "model_id": "86ef9a1dfaaf4fc8a544ac8e765a608c",
       "version_major": 2,
       "version_minor": 0
      },
      "text/plain": [
       "Dropdown(description='Select Hour:', options=(('00:00:00', datetime.time(0, 0)), ('01:00:00', datetime.time(1,…"
      ]
     },
     "metadata": {},
     "output_type": "display_data"
    }
   ],
   "source": [
    "# Create dropdown to select scenario\n",
    "scenario_dropdown = widgets.Dropdown(\n",
    "    options=[(f\"{entry['experiment']} - {entry['model']} - {resolution}\", (i, resolution)) for i, entry in enumerate(climate_dt_dictionary.climateDT_scenario) for resolution in entry['resolution']],\n",
    "    description='Scenario:'\n",
    ")\n",
    "\n",
    "# Create dropdown to select hour\n",
    "hourly_slots = generate_hourly_slots()\n",
    "hour_dropdown = widgets.Dropdown(options=[(str(slot), slot) for slot in hourly_slots], description='Select Hour:', disabled=False)\n",
    "\n",
    "# Create date picker widgets\n",
    "start_date_picker = widgets.DatePicker(description='Start Date:', disabled=False)\n",
    "\n",
    "# handle dropdown event\n",
    "scenario_dropdown.observe(on_scenario_change, names='value')\n",
    "\n",
    "# Set initial values directly\n",
    "selected_sc_entry = climate_dt_dictionary.climateDT_scenario[0]\n",
    "\n",
    "# Convert dateFrom string to date object\n",
    "date_from = datetime.datetime.strptime(selected_sc_entry['dateFrom'], '%m/%d/%Y').date()\n",
    "\n",
    "# Set initial values directly\n",
    "start_date_picker.min = date_from\n",
    "start_date_picker.max = datetime.datetime.strptime(selected_sc_entry['dateTo'], '%m/%d/%Y').date()\n",
    "start_date_picker.value = date_from\n",
    "\n",
    "# Display widgets\n",
    "if selected_entry[\"time\"] == \"Hourly\":\n",
    "    display(scenario_dropdown, start_date_picker, hour_dropdown)\n",
    "else:\n",
    "    display(scenario_dropdown, start_date_picker)\n"
   ]
  },
  {
   "cell_type": "code",
   "execution_count": 53,
   "id": "4dc668c6-79a1-4903-817c-59a099558837",
   "metadata": {
    "tags": []
   },
   "outputs": [],
   "source": [
    "selected_scenario_index, selected_scenario, selected_resolution, selected_start_date, selected_end_date, selected_hour = get_selected_values()"
   ]
  },
  {
   "cell_type": "markdown",
   "id": "e84d6643-cba1-42c4-b265-1ec183963021",
   "metadata": {},
   "source": [
    "# Levels Selection\n",
    "Handle different Levels to be selected (if any)"
   ]
  },
  {
   "cell_type": "code",
   "execution_count": 54,
   "id": "28a41104-e18e-4edd-b810-31698861bdad",
   "metadata": {
    "tags": []
   },
   "outputs": [
    {
     "data": {
      "application/vnd.jupyter.widget-view+json": {
       "model_id": "76952eb9a13b4897845825cd1cabccf4",
       "version_major": 2,
       "version_minor": 0
      },
      "text/plain": [
       "Dropdown(description='Selection Mode:', options=('Single', 'Multiple'), value='Single')"
      ]
     },
     "metadata": {},
     "output_type": "display_data"
    },
    {
     "data": {
      "application/vnd.jupyter.widget-view+json": {
       "model_id": "5e57e59cb2ee48fd9b8aad3230ff512f",
       "version_major": 2,
       "version_minor": 0
      },
      "text/plain": [
       "Output()"
      ]
     },
     "metadata": {},
     "output_type": "display_data"
    }
   ],
   "source": [
    "if selected_entry[\"levelist\"] != \"\":\n",
    "    # Convert levelist string to list of integers\n",
    "    levelist = list(map(int, selected_entry[\"levelist\"].split('/')))\n",
    "    if(selected_scenario['model']=='IFS-NEMO'):\n",
    "        levelist = levelist + [73,74,75]\n",
    "\n",
    "    # Create a dropdown widget to choose selection mode\n",
    "    selection_mode_dropdown = widgets.Dropdown(options=['Single', 'Multiple'], description='Selection Mode:')\n",
    "\n",
    "    # Create an output widget to display the selected option(s)\n",
    "    output = widgets.Output()\n",
    "\n",
    "    # Register the function to handle dropdown changes\n",
    "    selection_mode_dropdown.observe(on_dropdown_change, names='value')\n",
    "\n",
    "    # Display the widgets\n",
    "    display(selection_mode_dropdown, output)\n",
    "\n",
    "    # Display the initial widget based on default selection mode\n",
    "    display_widget('Single')"
   ]
  },
  {
   "cell_type": "markdown",
   "id": "5fdd6c40-7f1b-4b8b-9187-22e64190c6fe",
   "metadata": {},
   "source": [
    "# Order and Download"
   ]
  },
  {
   "cell_type": "markdown",
   "id": "c466e080-bef6-4f15-acf5-62dcddcc5ffa",
   "metadata": {},
   "source": [
    "## Obtain Authentication Token\n",
    "\n",
    "To perform our request we need to be authenticated. \n",
    "Below to request of an authentication token."
   ]
  },
  {
   "cell_type": "code",
   "execution_count": 55,
   "id": "4246480e-9ae6-44f9-a459-aa88a0a923ee",
   "metadata": {
    "tags": []
   },
   "outputs": [
    {
     "name": "stdin",
     "output_type": "stream",
     "text": [
      "Please input your DESP username:  eum-dedl-user\n",
      "Please input your DESP password:  ········\n"
     ]
    },
    {
     "name": "stdout",
     "output_type": "stream",
     "text": [
      "Response code: 200\n",
      "DEDL/DESP Access Token Obtained Successfully\n"
     ]
    }
   ],
   "source": [
    "DESP_USERNAME = input(\"Please input your DESP username: \")\n",
    "DESP_PASSWORD = getpass(\"Please input your DESP password: \")\n",
    "\n",
    "auth = deauth.AuthHandler(DESP_USERNAME, DESP_PASSWORD)\n",
    "access_token = auth.get_token()\n",
    "if access_token is not None:\n",
    "    print(\"DEDL/DESP Access Token Obtained Successfully\")\n",
    "else:\n",
    "    print(\"Failed to Obtain DEDL/DESP Access Token\")\n",
    "\n",
    "auth_headers = {\"Authorization\": f\"Bearer {access_token}\"}"
   ]
  },
  {
   "cell_type": "markdown",
   "id": "bbda9c1c-7490-4fc6-b8c0-8ae44b84eb3d",
   "metadata": {},
   "source": [
    "### Check if DT access is granted\n",
    "\n",
    "If DT access is not granted, you will not be able to execute the rest of the notebook."
   ]
  },
  {
   "cell_type": "code",
   "execution_count": 56,
   "id": "933b1b31-4a55-4c84-ac2c-9ac6e4966992",
   "metadata": {
    "tags": []
   },
   "outputs": [
    {
     "name": "stdout",
     "output_type": "stream",
     "text": [
      "DT Output access allowed\n"
     ]
    }
   ],
   "source": [
    "import importlib\n",
    "installed_version = importlib.metadata.version(\"destinelab\")\n",
    "version_number = installed_version.split('.')[1]\n",
    "if((int(version_number) >= 8 and float(installed_version) < 1) or float(installed_version) >= 1):\n",
    "    auth.is_DTaccess_allowed(access_token)"
   ]
  },
  {
   "cell_type": "markdown",
   "id": "fea6e95b-c7e3-4f9d-ae3f-516aa2c2530c",
   "metadata": {},
   "source": [
    "## HDA Endpoint\n",
    "HDA API is based on the Spatio Temporal Asset Catalog specification (STAC), it is convenient define a costant with its endpoint.\n",
    "And another one with the ID of the Cliamte DT collection."
   ]
  },
  {
   "cell_type": "code",
   "execution_count": 57,
   "id": "762bdb39-a253-4cfb-9aeb-13d75f22e71d",
   "metadata": {
    "tags": []
   },
   "outputs": [],
   "source": [
    "HDA_STAC_ENDPOINT=\"https://hda.data.destination-earth.eu/stac/v2\"\n",
    "COLLECTION_ID=\"EO.ECMWF.DAT.DT_CLIMATE_ADAPTATION\""
   ]
  },
  {
   "cell_type": "markdown",
   "id": "4686c297-5190-42bf-8a8a-5ed0958da6de",
   "metadata": {},
   "source": [
    "## Convert selected parameters, simulation and levels into HDA request\n",
    "Convert levels (if any)"
   ]
  },
  {
   "cell_type": "code",
   "execution_count": 58,
   "id": "9d3906c9-4f01-4329-ad0d-99a1e86ebc7e",
   "metadata": {
    "tags": []
   },
   "outputs": [],
   "source": [
    "levlInput = \"\"\n",
    "if global_widget != None:\n",
    "    # Test cases\n",
    "    levlInput = convert_to_string(global_widget.value)"
   ]
  },
  {
   "cell_type": "markdown",
   "id": "987b3835-ad79-40fc-b514-785d303aed04",
   "metadata": {},
   "source": [
    "Convert the chosen parameters into an HDA request for Climate DT data and print the created filters."
   ]
  },
  {
   "cell_type": "code",
   "execution_count": 60,
   "id": "664a9c30-1e69-4e67-b606-81abf38966a4",
   "metadata": {
    "tags": []
   },
   "outputs": [
    {
     "name": "stdout",
     "output_type": "stream",
     "text": [
      "datechoice =  2024-10-14T21:00:00Z\n",
      "{\n",
      "    \"ecmwf:class\": {\n",
      "        \"eq\": \"d1\"\n",
      "    },\n",
      "    \"ecmwf:dataset\": {\n",
      "        \"eq\": \"climate-dt\"\n",
      "    },\n",
      "    \"ecmwf:activity\": {\n",
      "        \"eq\": \"ScenarioMIP\"\n",
      "    },\n",
      "    \"ecmwf:experiment\": {\n",
      "        \"eq\": \"SSP3-7.0\"\n",
      "    },\n",
      "    \"ecmwf:model\": {\n",
      "        \"eq\": \"ICON\"\n",
      "    },\n",
      "    \"ecmwf:generation\": {\n",
      "        \"eq\": \"1\"\n",
      "    },\n",
      "    \"ecmwf:realization\": {\n",
      "        \"eq\": null\n",
      "    },\n",
      "    \"ecmwf:resolution\": {\n",
      "        \"eq\": \"high\"\n",
      "    },\n",
      "    \"ecmwf:expver\": {\n",
      "        \"eq\": \"0001\"\n",
      "    },\n",
      "    \"ecmwf:stream\": {\n",
      "        \"eq\": \"clte\"\n",
      "    },\n",
      "    \"ecmwf:time\": {\n",
      "        \"eq\": \"2100\"\n",
      "    },\n",
      "    \"ecmwf:type\": {\n",
      "        \"eq\": \"fc\"\n",
      "    },\n",
      "    \"ecmwf:levtype\": {\n",
      "        \"eq\": \"pl\"\n",
      "    },\n",
      "    \"ecmwf:levelist\": {\n",
      "        \"eq\": \"1000/925\"\n",
      "    },\n",
      "    \"ecmwf:param\": {\n",
      "        \"eq\": \"130\"\n",
      "    }\n",
      "}\n"
     ]
    }
   ],
   "source": [
    "hourchoice4 = '{shour}00'.format(shour = str(get_selected_values()[5]).split(\":\")[0])\n",
    "\n",
    "filter_params = {\n",
    "  \"ecmwf:class\" : get_selected_values()[1] .get(\"class\",\"d1\"),\n",
    "  \"ecmwf:dataset\": \"climate-dt\",   # fixed climate-dt access\n",
    "  \"ecmwf:activity\" : get_selected_values()[1][\"activity\"],\n",
    "  \"ecmwf:experiment\" : get_selected_values()[1][\"experiment\"].upper(),\n",
    "  \"ecmwf:model\": get_selected_values()[1][\"model\"],\n",
    "  \"ecmwf:generation\": \"1\",         # fixed Specifies the generation of the dataset, which can be incremented as required (latest is 1)\n",
    "  \"ecmwf:realization\": \"1\",        # fixed Specifies the climate realization. Default 1. Based on perturbations of initial conditions\n",
    "  \"ecmwf:resolution\": get_selected_values()[2],      # standard/ high \n",
    "  \"ecmwf:expver\": \"0001\",          # fixed experiment version \n",
    "  \"ecmwf:stream\": selected_entry[\"stream\"],\n",
    "  \"ecmwf:time\": hourchoice4,            # choose the hourly slot(s)\n",
    "  \"ecmwf:type\": \"fc\",              # fixed forecasted fields\n",
    "  \"ecmwf:levtype\": selected_entry[\"levtype\"],  \n",
    "  \"ecmwf:levelist\": str(levlInput),  \n",
    "  \"ecmwf:param\": str(selected_entry[\"param\"]),\n",
    "  \"ecmwf:realization\":get_selected_values()[1] .get(\"realization\", [None]) [0]\n",
    "}\n",
    "\n",
    "# Print the result in JSON format\n",
    "datechoice = \"{fname}T{shour}Z\".format(fname = get_selected_values()[3], shour = get_selected_values()[5] )\n",
    "print(\"datechoice = \", datechoice)\n",
    "\n",
    "# Check if levelist is empty and remove it\n",
    "if filter_params.get(\"ecmwf:levelist\") == \"\":\n",
    "    del filter_params[\"ecmwf:levelist\"]\n",
    "\n",
    "if selected_entry[\"time\"] == \"Daily\":\n",
    "    del filter_params[\"ecmwf:time\"]\n",
    "\n",
    "hdaFilters = {\n",
    "    key: {\"eq\": value}\n",
    "    for key, value in filter_params.items()\n",
    "}\n",
    "\n",
    "print(json.dumps(hdaFilters, indent=4))"
   ]
  },
  {
   "cell_type": "markdown",
   "id": "1d06326a-2f88-4d14-b4c8-0d740094e93f",
   "metadata": {
    "tags": []
   },
   "source": [
    "### Filtering\n",
    "\n",
    "Search into asynchronous datasets, as the DTs are, always return a single item:"
   ]
  },
  {
   "cell_type": "code",
   "execution_count": 61,
   "id": "aadb37a8-c76b-4c6a-9d0e-1f7b3004ade1",
   "metadata": {
    "tags": []
   },
   "outputs": [
    {
     "data": {
      "application/json": {
       "assets": {},
       "bbox": [
        -180,
        -90,
        180,
        90
       ],
       "collection": "EO.ECMWF.DAT.DT_CLIMATE_ADAPTATION",
       "geometry": {
        "coordinates": [
         [
          [
           180,
           -90
          ],
          [
           180,
           90
          ],
          [
           -180,
           90
          ],
          [
           -180,
           -90
          ],
          [
           180,
           -90
          ]
         ]
        ],
        "type": "Polygon"
       },
       "id": "DT_CLIMATE_ADAPTATION_ORDERABLE_282eadae031648ff14aa6f58f18c1f015dd2e436",
       "links": [
        {
         "body": {
          "activity": "ScenarioMIP",
          "class": "d1",
          "dataset": "climate-dt",
          "date": "20241014/to/20241014",
          "experiment": "SSP3-7.0",
          "expver": "0001",
          "generation": "1",
          "levelist": "1000/925",
          "levtype": "pl",
          "model": "ICON",
          "param": "130",
          "realization": 1,
          "resolution": "high",
          "stream": "clte",
          "time": "2100",
          "type": "fc"
         },
         "href": "https://hda.data.destination-earth.eu/stac/v2/collections/EO.ECMWF.DAT.DT_CLIMATE_ADAPTATION/order",
         "method": "POST",
         "rel": "retrieve",
         "title": "Retrieve",
         "type": "application/geo+json"
        },
        {
         "href": "https://hda.data.destination-earth.eu/stac/v2/collections/EO.ECMWF.DAT.DT_CLIMATE_ADAPTATION",
         "rel": "collection",
         "title": "EO.ECMWF.DAT.DT_CLIMATE_ADAPTATION",
         "type": "application/json"
        },
        {
         "href": "https://hda.data.destination-earth.eu/stac/v2/collections/EO.ECMWF.DAT.DT_CLIMATE_ADAPTATION/items/DT_CLIMATE_ADAPTATION_ORDERABLE_282eadae031648ff14aa6f58f18c1f015dd2e436",
         "rel": "self",
         "title": "Original item link",
         "type": "application/geo+json"
        }
       ],
       "properties": {
        "alias": "EO.ECMWF.DAT.DT_CLIMATE_ADAPTATION",
        "collection": "climate-dt",
        "datetime": "2024-10-14T21:00:00.000000Z",
        "ecmwf:activity": "ScenarioMIP",
        "ecmwf:class": "d1",
        "ecmwf:dataset": "climate-dt",
        "ecmwf:date": "20241014/to/20241014",
        "ecmwf:experiment": "SSP3-7.0",
        "ecmwf:expver": "0001",
        "ecmwf:generation": "1",
        "ecmwf:levelist": "1000/925",
        "ecmwf:levtype": "pl",
        "ecmwf:model": "ICON",
        "ecmwf:param": "130",
        "ecmwf:realization": 1,
        "ecmwf:resolution": "high",
        "ecmwf:stream": "clte",
        "ecmwf:time": "2100",
        "ecmwf:type": "fc",
        "end_datetime": "2024-10-14T21:00:00.000000Z",
        "federation:backends": [
         "dedt_lumi"
        ],
        "license": "CC-BY-4.0",
        "order:status": "orderable",
        "scope": {
         "discover": null,
         "download": "DPAD_Direct_Access",
         "search": "DPAD_Direct_Access"
        },
        "stacCollection": "/eodag/collections/EO.ECMWF.DAT.DT_CLIMATE_ADAPTATION.json",
        "start_datetime": "2024-10-14T21:00:00.000000Z",
        "storage:tier": "offline",
        "title": "DT_CLIMATE_ADAPTATION_ORDERABLE_282eadae031648ff14aa6f58f18c1f015dd2e436"
       },
       "stac_extensions": [
        "https://stac-extensions.github.io/order/v1.1.0/schema.json",
        "https://stac-extensions.github.io/storage/v1.0.0/schema.json"
       ],
       "stac_version": "1.0.0",
       "type": "Feature"
      },
      "text/plain": [
       "<IPython.core.display.JSON object>"
      ]
     },
     "execution_count": 61,
     "metadata": {
      "application/json": {
       "expanded": false,
       "root": "root"
      }
     },
     "output_type": "execute_result"
    }
   ],
   "source": [
    "#Sometimes requests to polytope get timeouts, it is then convenient define a retry strategy\n",
    "retry_strategy = Retry(\n",
    "    total=5,  # Total number of retries\n",
    "    status_forcelist=[500, 502, 503, 504],  # List of 5xx status codes to retry on\n",
    "    allowed_methods=[\"GET\",'POST'],  # Methods to retry\n",
    "    backoff_factor=1  # Wait time between retries (exponential backoff)\n",
    ")\n",
    "\n",
    "# Create an adapter with the retry strategy\n",
    "adapter = HTTPAdapter(max_retries=retry_strategy)\n",
    "\n",
    "# Create a session and mount the adapter\n",
    "session = requests.Session()\n",
    "session.mount(\"https://\", adapter)\n",
    "\n",
    "response = session.post(HDA_STAC_ENDPOINT+\"/search\", headers=auth_headers, json={\n",
    " \"collections\": [\"EO.ECMWF.DAT.DT_CLIMATE_ADAPTATION\"],\n",
    "    \"datetime\": datechoice,\n",
    "    \"query\": hdaFilters\n",
    "})\n",
    "\n",
    "if(response.status_code!= 200):\n",
    "    (print(response.text))\n",
    "response.raise_for_status()\n",
    "\n",
    "product = response.json()[\"features\"][0]\n",
    "JSON(product)"
   ]
  },
  {
   "cell_type": "markdown",
   "id": "12a56a20-2b73-47f1-aad8-31f328bc1b41",
   "metadata": {},
   "source": [
    "The single item returned (above) contains:\n",
    "- The product id: \"DT_CLIMATE_ADAPTATION_ORDERABLE_...\", that is a placeholder, its name contains the term \"ORDERABLE\".\n",
    "- The storage:tier that indicates that the product is \"offline\"\n",
    "- The order:status that indicates that the product is \"orderable\"\n",
    "- Request params used for the order extracted from the search result"
   ]
  },
  {
   "cell_type": "markdown",
   "id": "55dfe7e6-f7e5-484d-bb5f-c125de4b4eb2",
   "metadata": {},
   "source": [
    "## Order data\n",
    "\n",
    "We have now all the information to order the data.\n",
    "\n",
    "From the search results we know that the product is orderable and offline, we then need to order the product we searched for."
   ]
  },
  {
   "cell_type": "code",
   "execution_count": 69,
   "id": "7b1eaf23-d178-470e-b4f2-3288580d23fd",
   "metadata": {
    "tags": []
   },
   "outputs": [
    {
     "name": "stdout",
     "output_type": "stream",
     "text": [
      "Product ordered: 1b1d07da-7507-4387-b0e8-7fb8ba7e1ff2\n",
      "Provider: dedt_lumi\n",
      "Storage tier: offline (product must have storage tier \"online\" to be downloadable)\n",
      "Order status: shipping\n"
     ]
    }
   ],
   "source": [
    "response = requests.post(f\"{HDA_STAC_ENDPOINT}/collections/{COLLECTION_ID}/order\", json={\n",
    "    \"ecmwf:class\": \"d1\",\n",
    "    \"ecmwf:dataset\": \"climate-dt\",\n",
    "    \"ecmwf:activity\": \"ScenarioMIP\",\n",
    "    \"ecmwf:experiment\": \"SSP3-7.0\",\n",
    "    \"ecmwf:model\": \"ICON\",\n",
    "    \"ecmwf:generation\": \"1\",\n",
    "    \"ecmwf:resolution\": \"high\",\n",
    "    \"ecmwf:expver\": \"0001\",\n",
    "    \"ecmwf:stream\": \"clte\",\n",
    "    \"ecmwf:time\": \"2100\",\n",
    "    \"ecmwf:type\": \"fc\",\n",
    "    \"ecmwf:levtype\": \"pl\",\n",
    "    \"ecmwf:levelist\": \"1000/925\",\n",
    "    \"ecmwf:param\": \"130\"\n",
    "}, headers=auth_headers)\n",
    "\n",
    "if response.status_code != 200:\n",
    "    print(response.content)\n",
    "response.raise_for_status()\n",
    "\n",
    "ordered_item = response.json()\n",
    "\n",
    "product_id = ordered_item[\"id\"]\n",
    "storage_tier = ordered_item[\"properties\"].get(\"storage:tier\", \"online\")\n",
    "order_status = ordered_item[\"properties\"].get(\"order:status\", \"unknown\")\n",
    "federation_backend = ordered_item[\"properties\"].get(\"federation:backends\", [None])[0]\n",
    "\n",
    "print(f\"Product ordered: {product_id}\")\n",
    "print(f\"Provider: {federation_backend}\")\n",
    "print(f\"Storage tier: {storage_tier} (product must have storage tier \\\"online\\\" to be downloadable)\")\n",
    "print(f\"Order status: {order_status}\")    "
   ]
  },
  {
   "cell_type": "markdown",
   "id": "e7ddbd33-a66e-4b3e-8897-78721aa10c34",
   "metadata": {},
   "source": [
    "### Poll the API until product is ready"
   ]
  },
  {
   "cell_type": "markdown",
   "id": "08f74392-39c4-43ae-8f5f-eefdd3e42174",
   "metadata": {
    "tags": []
   },
   "source": [
    "We request the product itself to get an update of its status."
   ]
  },
  {
   "cell_type": "code",
   "execution_count": 70,
   "id": "ea770b69-85df-4fe7-a93c-c19819cc98b9",
   "metadata": {
    "tags": []
   },
   "outputs": [
    {
     "name": "stdout",
     "output_type": "stream",
     "text": [
      "{\n",
      "    \"ecmwf:class\": \"d1\",\n",
      "    \"ecmwf:dataset\": \"climate-dt\",\n",
      "    \"ecmwf:activity\": \"ScenarioMIP\",\n",
      "    \"ecmwf:experiment\": \"SSP3-7.0\",\n",
      "    \"ecmwf:model\": \"ICON\",\n",
      "    \"ecmwf:generation\": \"1\",\n",
      "    \"ecmwf:realization\": null,\n",
      "    \"ecmwf:resolution\": \"high\",\n",
      "    \"ecmwf:expver\": \"0001\",\n",
      "    \"ecmwf:stream\": \"clte\",\n",
      "    \"ecmwf:time\": \"2100\",\n",
      "    \"ecmwf:type\": \"fc\",\n",
      "    \"ecmwf:levtype\": \"pl\",\n",
      "    \"ecmwf:levelist\": \"1000/925\",\n",
      "    \"ecmwf:param\": \"130\"\n",
      "}\n"
     ]
    }
   ],
   "source": [
    "print(json.dumps(filter_params, indent=4))"
   ]
  },
  {
   "cell_type": "code",
   "execution_count": 71,
   "id": "725d247b-784e-4da8-9304-f694c8769da4",
   "metadata": {
    "tags": []
   },
   "outputs": [
    {
     "name": "stdout",
     "output_type": "stream",
     "text": [
      "Polling 1/300\n"
     ]
    },
    {
     "ename": "HTTPError",
     "evalue": "400 Client Error: Bad Request for url: https://hda.data.destination-earth.eu/stac/v2/collections/EO.ECMWF.DAT.DT_CLIMATE_ADAPTATION/items/1b1d07da-7507-4387-b0e8-7fb8ba7e1ff2",
     "output_type": "error",
     "traceback": [
      "\u001b[31m---------------------------------------------------------------------------\u001b[39m",
      "\u001b[31mHTTPError\u001b[39m                                 Traceback (most recent call last)",
      "\u001b[36mCell\u001b[39m\u001b[36m \u001b[39m\u001b[32mIn[71]\u001b[39m\u001b[32m, line 13\u001b[39m\n\u001b[32m     10\u001b[39m \u001b[38;5;28mprint\u001b[39m(\u001b[33mf\u001b[39m\u001b[33m\"\u001b[39m\u001b[33mPolling \u001b[39m\u001b[38;5;132;01m{\u001b[39;00mi\u001b[38;5;250m \u001b[39m+\u001b[38;5;250m \u001b[39m\u001b[32m1\u001b[39m\u001b[38;5;132;01m}\u001b[39;00m\u001b[33m/\u001b[39m\u001b[38;5;132;01m{\u001b[39;00mTIMEOUT\u001b[38;5;250m \u001b[39m//\u001b[38;5;250m \u001b[39mSTEP\u001b[38;5;132;01m}\u001b[39;00m\u001b[33m\"\u001b[39m)\n\u001b[32m     12\u001b[39m response = requests.get(self_url, headers=auth_headers)\n\u001b[32m---> \u001b[39m\u001b[32m13\u001b[39m \u001b[43mresponse\u001b[49m\u001b[43m.\u001b[49m\u001b[43mraise_for_status\u001b[49m\u001b[43m(\u001b[49m\u001b[43m)\u001b[49m\n\u001b[32m     14\u001b[39m item = response.json()\n\u001b[32m     16\u001b[39m storage_tier = item[\u001b[33m\"\u001b[39m\u001b[33mproperties\u001b[39m\u001b[33m\"\u001b[39m].get(\u001b[33m\"\u001b[39m\u001b[33mstorage:tier\u001b[39m\u001b[33m\"\u001b[39m, ONLINE_STATUS)\n",
      "\u001b[36mFile \u001b[39m\u001b[32m/opt/conda/envs/python_dedl/lib/python3.11/site-packages/requests/models.py:1024\u001b[39m, in \u001b[36mResponse.raise_for_status\u001b[39m\u001b[34m(self)\u001b[39m\n\u001b[32m   1019\u001b[39m     http_error_msg = (\n\u001b[32m   1020\u001b[39m         \u001b[33mf\u001b[39m\u001b[33m\"\u001b[39m\u001b[38;5;132;01m{\u001b[39;00m\u001b[38;5;28mself\u001b[39m.status_code\u001b[38;5;132;01m}\u001b[39;00m\u001b[33m Server Error: \u001b[39m\u001b[38;5;132;01m{\u001b[39;00mreason\u001b[38;5;132;01m}\u001b[39;00m\u001b[33m for url: \u001b[39m\u001b[38;5;132;01m{\u001b[39;00m\u001b[38;5;28mself\u001b[39m.url\u001b[38;5;132;01m}\u001b[39;00m\u001b[33m\"\u001b[39m\n\u001b[32m   1021\u001b[39m     )\n\u001b[32m   1023\u001b[39m \u001b[38;5;28;01mif\u001b[39;00m http_error_msg:\n\u001b[32m-> \u001b[39m\u001b[32m1024\u001b[39m     \u001b[38;5;28;01mraise\u001b[39;00m HTTPError(http_error_msg, response=\u001b[38;5;28mself\u001b[39m)\n",
      "\u001b[31mHTTPError\u001b[39m: 400 Client Error: Bad Request for url: https://hda.data.destination-earth.eu/stac/v2/collections/EO.ECMWF.DAT.DT_CLIMATE_ADAPTATION/items/1b1d07da-7507-4387-b0e8-7fb8ba7e1ff2"
     ]
    }
   ],
   "source": [
    "#timeout and step for polling (sec)\n",
    "TIMEOUT = 300\n",
    "STEP = 1\n",
    "ONLINE_STATUS = \"online\"\n",
    "\n",
    "self_url = f\"{HDA_STAC_ENDPOINT}/collections/{COLLECTION_ID}/items/{product_id}\"\n",
    "item = {}\n",
    "\n",
    "for i in range(0, TIMEOUT, STEP):\n",
    "    print(f\"Polling {i + 1}/{TIMEOUT // STEP}\")\n",
    "\n",
    "    response = requests.get(self_url, headers=auth_headers)\n",
    "    response.raise_for_status()\n",
    "    item = response.json()\n",
    "\n",
    "    storage_tier = item[\"properties\"].get(\"storage:tier\", ONLINE_STATUS)\n",
    "\n",
    "    if storage_tier == ONLINE_STATUS:\n",
    "        download_url = item[\"assets\"][\"downloadLink\"][\"href\"]\n",
    "        print(\"Product is ready to be downloaded.\")\n",
    "        print(f\"Asset URL: {download_url}\")\n",
    "        break\n",
    "\n",
    "    sleep(STEP)\n",
    "else:\n",
    "    order_status = item[\"properties\"].get(\"order:status\", \"unknown\")\n",
    "    print(f\"We could not download the product after {TIMEOUT // STEP} tries. Current order status is {order_status}\")\n",
    "    \n"
   ]
  },
  {
   "cell_type": "markdown",
   "id": "1e23323c-6415-4e6e-ab39-773538711ff8",
   "metadata": {},
   "source": [
    "# Download"
   ]
  },
  {
   "cell_type": "code",
   "execution_count": 9,
   "id": "0da25e18-479c-41df-80c0-b5c4a05ee4bd",
   "metadata": {
    "tags": []
   },
   "outputs": [
    {
     "name": "stdout",
     "output_type": "stream",
     "text": [
      "downloading d9791da8fc13a160b1c03afbe62c42d.zip\n"
     ]
    },
    {
     "name": "stderr",
     "output_type": "stream",
     "text": [
      "2.77MB [00:00, 9.12MB/s]\n"
     ]
    }
   ],
   "source": [
    "response = requests.get(download_url, stream=True, headers=auth_headers)\n",
    "response.raise_for_status()\n",
    "\n",
    "content_disposition = response.headers.get('Content-Disposition')\n",
    "total_size = int(response.headers.get(\"content-length\", 0))\n",
    "if content_disposition:\n",
    "    filename = content_disposition.split('filename=')[1].strip('\"')\n",
    "    filename = unquote(filename)\n",
    "else:\n",
    "    filename = os.path.basename(url)\n",
    "\n",
    "# Open a local file in binary write mode and write the content\n",
    "print(f\"downloading {filename}\")\n",
    "\n",
    "with tqdm(total=total_size, unit=\"B\", unit_scale=True) as progress_bar:\n",
    "    with open(filename, 'wb') as f:\n",
    "        for data in response.iter_content(1024):\n",
    "            progress_bar.update(len(data))\n",
    "            f.write(data)"
   ]
  },
  {
   "cell_type": "markdown",
   "id": "4f9008a4-60c9-44ce-a90d-b0fe36ffa53c",
   "metadata": {},
   "source": [
    "## Wait until data is there\n",
    "\n",
    "This data is not available at the moment. And we can see that our request is in `queued`status.  \n",
    "We will now poll the API until the data is ready and then download it.\n",
    "\n",
    "**Please note that the basic HDA quota allows a maximum of 4 requests per second. The following code limits polling to this quota.**"
   ]
  },
  {
   "cell_type": "code",
   "execution_count": 32,
   "id": "39e9660d-b71e-440d-a5ff-b7a8a702d0eb",
   "metadata": {
    "tags": []
   },
   "outputs": [
    {
     "name": "stdout",
     "output_type": "stream",
     "text": [
      "Note: you may need to restart the kernel to use updated packages.\n"
     ]
    }
   ],
   "source": [
    "pip install --user ratelimit --quiet"
   ]
  },
  {
   "cell_type": "code",
   "execution_count": 33,
   "id": "15f16ec8-afac-4d84-b782-5d4d869577aa",
   "metadata": {
    "tags": []
   },
   "outputs": [
    {
     "name": "stdout",
     "output_type": "stream",
     "text": [
      "order status: queued\n",
      "order status: queued\n",
      "order status: queued\n",
      "order status: queued\n",
      "order status: queued\n",
      "order status: queued\n",
      "order status: queued\n",
      "order status: queued\n",
      "order status: queued\n",
      "order status: queued\n",
      "order status: queued\n",
      "order status: queued\n",
      "order status: queued\n",
      "order status: queued\n",
      "order status: queued\n",
      "order status: queued\n",
      "order status: queued\n",
      "order status: queued\n",
      "order status: queued\n",
      "order status: queued\n",
      "order status: queued\n",
      "order status: queued\n",
      "order status: queued\n",
      "order status: queued\n",
      "order status: queued\n",
      "order status: queued\n",
      "order status: queued\n",
      "order status: queued\n",
      "order status: queued\n",
      "order status: queued\n",
      "order status: queued\n",
      "order status: queued\n",
      "order status: queued\n",
      "order status: queued\n",
      "order status: queued\n",
      "order status: queued\n",
      "order status: queued\n",
      "order status: queued\n",
      "order status: queued\n",
      "order status: queued\n",
      "order status: queued\n",
      "order status: queued\n",
      "order status: queued\n",
      "order status: processing\n",
      "order status: processing\n",
      "order status: processing\n",
      "order status: processing\n",
      "order status: processing\n",
      "order status: processing\n",
      "downloading 20f3160f-6f09-48e9-b5ca-674a40788632.grib\n"
     ]
    },
    {
     "name": "stderr",
     "output_type": "stream",
     "text": [
      "100%|██████████| 54.4M/54.4M [00:01<00:00, 41.9MB/s]\n"
     ]
    }
   ],
   "source": [
    "from tqdm import tqdm\n",
    "import time\n",
    "import re\n",
    "from ratelimit import limits, sleep_and_retry\n",
    "\n",
    "# Set limit: max 4 calls per 1 seconds\n",
    "CALLS = 4\n",
    "PERIOD = 1  # seconds\n",
    "\n",
    "@sleep_and_retry\n",
    "@limits(calls=CALLS, period=PERIOD)\n",
    "def call_api(url,auth_headers):\n",
    "    response = requests.get(url, headers=auth_headers, stream=True)\n",
    "    return response\n",
    "\n",
    "# we poll as long as the data is not ready\n",
    "if direct_download_url=='':\n",
    "    while url := response.headers.get(\"Location\"):\n",
    "        print(f\"order status: {response.json()['status']}\")\n",
    "        response = call_api(url,auth_headers)\n",
    "\n",
    "if (response.status_code not in (HTTP_SUCCESS_CODE,HTTP_ACCEPTED_CODE)):\n",
    "     (print(response.text))\n",
    "\n",
    "# Check if Content-Disposition header is present\n",
    "if \"Content-Disposition\" not in response.headers:\n",
    "    print(response)\n",
    "    print(response.text)\n",
    "    raise Exception(\"Headers: \\n\"+str(response.headers)+\"\\nContent-Disposition header not found in response. Must be something wrong.\")\n",
    "        \n",
    "filename = re.findall('filename=\\\"?(.+)\\\"?', response.headers[\"Content-Disposition\"])[0]\n",
    "total_size = int(response.headers.get(\"content-length\", 0))\n",
    "\n",
    "print(f\"downloading {filename}\")\n",
    "\n",
    "with tqdm(total=total_size, unit=\"B\", unit_scale=True) as progress_bar:\n",
    "    with open(filename, 'wb') as f:\n",
    "        for data in response.iter_content(1024):\n",
    "            progress_bar.update(len(data))\n",
    "            f.write(data)"
   ]
  },
  {
   "cell_type": "markdown",
   "id": "9bf04ee0-d431-4766-9f11-26b234eba719",
   "metadata": {},
   "source": [
    "## EarthKit\n",
    "\n",
    "Lets plot the result file\n",
    "[EarthKit Documentation] https://earthkit-data.readthedocs.io/en/latest/index.html\n",
    "\n",
    "This section requires that you have `ecCodes >= 2.35` installed on your system.  \n",
    "You can follow the installation procedure at https://confluence.ecmwf.int/display/ECC/ecCodes+installation"
   ]
  },
  {
   "cell_type": "code",
   "execution_count": 34,
   "id": "b5f15df7-c4e0-4813-86f7-9513651227b4",
   "metadata": {
    "tags": []
   },
   "outputs": [],
   "source": [
    "import earthkit.data\n",
    "import earthkit.maps\n",
    "import earthkit.regrid"
   ]
  },
  {
   "cell_type": "code",
   "execution_count": 35,
   "id": "928427ad-2302-4e8f-84fe-ecc3f53e43dc",
   "metadata": {
    "tags": []
   },
   "outputs": [
    {
     "data": {
      "image/png": "[encoded data removed]",
      "text/plain": [
       "<Figure size 900x750 with 8 Axes>"
      ]
     },
     "metadata": {},
     "output_type": "display_data"
    }
   ],
   "source": [
    "data = earthkit.data.from_source(\"file\", filename)\n",
    "data.ls\n",
    "earthkit.maps.quickplot(data)\n",
    "\n",
    "import warnings\n",
    "warnings.filterwarnings(\"ignore\")\n",
    "warnings.simplefilter(action = \"ignore\", category = RuntimeWarning)"
   ]
  }
 ],
 "metadata": {
  "kernelspec": {
   "display_name": "Python DEDL",
   "language": "python",
   "name": "python_dedl"
  },
  "language_info": {
   "codemirror_mode": {
    "name": "ipython",
    "version": 3
   },
   "file_extension": ".py",
   "mimetype": "text/x-python",
   "name": "python",
   "nbconvert_exporter": "python",
   "pygments_lexer": "ipython3",
   "version": "3.11.4"
  }
 },
 "nbformat": 4,
 "nbformat_minor": 5
}
