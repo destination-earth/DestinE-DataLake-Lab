{
 "cells": [
  {
   "cell_type": "markdown",
   "id": "e68609d4-e962-464b-9a76-ec67b9ba4d30",
   "metadata": {
    "tags": []
   },
   "source": [
    "![](https://github.com/destination-earth/DestinE-DataLake-Lab/blob/main/img/DestinE-banner.jpg?raw=true)"
   ]
  },
  {
   "cell_type": "markdown",
   "id": "d9414cca-4bcd-4d27-b294-aba7bf0c3d22",
   "metadata": {},
   "source": [
    "# HDA PySTAC-Client Introduction\n",
    "This notebook shows the basic use of DestinE Data Lake Harmonised Data Access using pystac-client.\n",
    "It will include iterating through Collections and Items, and perform simple spatio-temporal searches."
   ]
  },
  {
   "cell_type": "markdown",
   "id": "1c701299-5178-4f6d-8c75-5fed6e8a532f",
   "metadata": {},
   "source": [
    "<br>Author: EUMETSAT</br>"
   ]
  },
  {
   "cell_type": "markdown",
   "id": "e91d99ba-e96e-4a61-9ea9-ddd49fa31e7f",
   "metadata": {},
   "source": [
    "## Obtain DEDL Access Token to use the HDA service"
   ]
  },
  {
   "cell_type": "code",
   "execution_count": 11,
   "id": "48031917-bd06-4d68-ac1c-bd544e28c8fb",
   "metadata": {
    "tags": []
   },
   "outputs": [],
   "source": [
    "import requests\n",
    "import json\n",
    "import os\n",
    "from getpass import getpass\n",
    "import dedl_authentication as deauth"
   ]
  },
  {
   "cell_type": "code",
   "execution_count": 12,
   "id": "c9d11089-010e-439b-abe7-24e5d7ea7269",
   "metadata": {
    "tags": []
   },
   "outputs": [
    {
     "name": "stdin",
     "output_type": "stream",
     "text": [
      "Please input your DESP username:  eum-dedl-user\n",
      "Please input your DESP password:  ········\n"
     ]
    },
    {
     "name": "stdout",
     "output_type": "stream",
     "text": [
      "Response code: 200\n"
     ]
    }
   ],
   "source": [
    "DESP_USERNAME = input(\"Please input your DESP username: \")\n",
    "DESP_PASSWORD = getpass(\"Please input your DESP password: \")\n",
    "\n",
    "auth = deauth.AuthHandler(DESP_USERNAME, DESP_PASSWORD)\n",
    "access_token = auth.get_token()\n",
    "\n",
    "auth_headers = {\"Authorization\": f\"Bearer {access_token}\"}"
   ]
  },
  {
   "cell_type": "markdown",
   "id": "f22cf492-f106-4eef-b982-1ed8ecdfcc1f",
   "metadata": {},
   "source": [
    "## Set username and password as environment variables to be used for DEDL data access"
   ]
  },
  {
   "cell_type": "code",
   "execution_count": 13,
   "id": "bef618c5-03b6-462e-a02c-8b3307b154d2",
   "metadata": {
    "tags": []
   },
   "outputs": [],
   "source": [
    "import os\n",
    "\n",
    "os.environ[\"EODAG__DEDL__AUTH__CREDENTIALS__USERNAME\"] = DESP_USERNAME\n",
    "os.environ[\"EODAG__DEDL__AUTH__CREDENTIALS__PASSWORD\"] = DESP_PASSWORD"
   ]
  },
  {
   "cell_type": "markdown",
   "id": "ff381f40-4d6a-42a1-8f0e-952dd9f6266f",
   "metadata": {},
   "source": [
    "# Create pystac client object for HDA STAC API\n",
    "We first connect to an API by retrieving the root catalog, or landing page, of the API with the Client.open function."
   ]
  },
  {
   "cell_type": "code",
   "execution_count": null,
   "id": "e5320a85-1d0d-4aad-bb7f-097e4953d746",
   "metadata": {
    "tags": []
   },
   "outputs": [],
   "source": [
    "from pystac_client import Client\n",
    "\n",
    "HDA_API_URL = \"https://hda.data.destination-earth.eu/stac\"\n",
    "cat = Client.open(HDA_API_URL, headers=auth_headers)"
   ]
  },
  {
   "cell_type": "markdown",
   "id": "c86b871f-3d6f-44ef-a130-389a756855c7",
   "metadata": {},
   "source": [
    "## Query all available collections\n",
    "As with a static catalog the get_collections function will iterate through the Collections in the Catalog. \n",
    "Notice that because this is an API it can get all the Collections through a single call, rather than having to fetch each one individually."
   ]
  },
  {
   "cell_type": "code",
   "execution_count": 9,
   "id": "d91ad8e0-70ac-43f8-b846-755973ffd224",
   "metadata": {
    "tags": []
   },
   "outputs": [
    {
     "data": {
      "text/html": [
       "<pre style=\"white-space:pre;overflow-x:auto;line-height:normal;font-family:Menlo,'DejaVu Sans Mono',consolas,'Courier New',monospace\"><span style=\"font-style: italic\">                                                  HDA collections                                                  </span>\n",
       "┏━━━━━━━━━━━━━━━━━━━━━━━━━━━━━━━━━━━━━━━━━┳━━━━━━━━━━━━━━━━━━━━━━━━━━━━━━━━━━━━━━━━━━━━━━━━━━━━━━━━━━━━━━━━━━━━━━━┓\n",
       "┃<span style=\"font-weight: bold\">                                      ID </span>┃<span style=\"font-weight: bold\"> Title                                                                 </span>┃\n",
       "┡━━━━━━━━━━━━━━━━━━━━━━━━━━━━━━━━━━━━━━━━━╇━━━━━━━━━━━━━━━━━━━━━━━━━━━━━━━━━━━━━━━━━━━━━━━━━━━━━━━━━━━━━━━━━━━━━━━┩\n",
       "│<span style=\"color: #008080; text-decoration-color: #008080\">               EO.EUM.DAT.SENTINEL-3.AOD </span>│<span style=\"color: #d787ff; text-decoration-color: #d787ff\"> SLSTR Level 2 Aerosol Optical Depth - Sentinel-3                      </span>│\n",
       "│<span style=\"color: #008080; text-decoration-color: #008080\"> EO.ECMWF.DAT.CEMS_GLOFAS_SEASONAL_REFO… </span>│<span style=\"color: #d787ff; text-decoration-color: #d787ff\"> Seasonal reforecasts of river discharge and related data from the Gl… </span>│\n",
       "│<span style=\"color: #008080; text-decoration-color: #008080\"> EO.ECMWF.DAT.CAMS_GLOBAL_ATMOSHERIC_CO… </span>│<span style=\"color: #d787ff; text-decoration-color: #d787ff\"> CAMS global atmospheric composition forecasts                         </span>│\n",
       "│<span style=\"color: #008080; text-decoration-color: #008080\">       EO.ECMWF.DAT.CEMS_GLOFAS_SEASONAL </span>│<span style=\"color: #d787ff; text-decoration-color: #d787ff\"> Seasonal forecasts of river discharge and related data by the Global… </span>│\n",
       "│<span style=\"color: #008080; text-decoration-color: #008080\">       EO.ESA.DAT.SENTINEL-5P.TROPOMI.L1 </span>│<span style=\"color: #d787ff; text-decoration-color: #d787ff\"> SENTINEL-5P TROPOMI Level 1B                                          </span>│\n",
       "│<span style=\"color: #008080; text-decoration-color: #008080\"> EO.ECMWF.DAT.REANALYSIS_ERA5_SINGLE_LE… </span>│<span style=\"color: #d787ff; text-decoration-color: #d787ff\"> ERA5 hourly data on single levels from 1940 to present                </span>│\n",
       "│<span style=\"color: #008080; text-decoration-color: #008080\">       EO.ECMWF.DAT.CEMS_FIRE_HISTORICAL </span>│<span style=\"color: #d787ff; text-decoration-color: #d787ff\"> Fire danger indices historical data from the Copernicus Emergency Ma… </span>│\n",
       "│<span style=\"color: #008080; text-decoration-color: #008080\"> STAT.EUSTAT.DAT.POP_CHANGE_DEMO_BALANC… </span>│<span style=\"color: #d787ff; text-decoration-color: #d787ff\"> Eurostat - Population change - Demographic balance and crude rates a… </span>│\n",
       "│<span style=\"color: #008080; text-decoration-color: #008080\"> EO.ECMWF.DAT.SEA_LEVEL_DAILY_GRIDDED_D… </span>│<span style=\"color: #d787ff; text-decoration-color: #d787ff\"> Sea level gridded data from satellite observations for the global oc… </span>│\n",
       "│<span style=\"color: #008080; text-decoration-color: #008080\"> EO.ECMWF.DAT.SEASONAL_FORECAST_ANOMALI… </span>│<span style=\"color: #d787ff; text-decoration-color: #d787ff\"> Seasonal forecast anomalies on single levels                          </span>│\n",
       "│<span style=\"color: #008080; text-decoration-color: #008080\"> STAT.EUSTAT.DAT.SHARE_ENERGY_FROM_RENE… </span>│<span style=\"color: #d787ff; text-decoration-color: #d787ff\"> Eurostat - Share of energy from renewable sources                     </span>│\n",
       "│<span style=\"color: #008080; text-decoration-color: #008080\">       EO.EUM.DAT.SENTINEL-3.SR_1_SRA_A_ </span>│<span style=\"color: #d787ff; text-decoration-color: #d787ff\"> SRAL Level 1B - Sentinel-3                                            </span>│\n",
       "│<span style=\"color: #008080; text-decoration-color: #008080\">       STAT.EUSTAT.DAT.POP_AGE_SEX_NUTS2 </span>│<span style=\"color: #d787ff; text-decoration-color: #d787ff\"> Population on 1 January by age, sex and NUTS 2 region                 </span>│\n",
       "│<span style=\"color: #008080; text-decoration-color: #008080\">       EO.ESA.DAT.SENTINEL-3.OL_2_LRR___ </span>│<span style=\"color: #d787ff; text-decoration-color: #d787ff\"> OLCI Land Colour Reduced Resolution - Sentinel-3                      </span>│\n",
       "│<span style=\"color: #008080; text-decoration-color: #008080\"> EO.ECMWF.DAT.SEASONAL_FORECAST_MONTHLY… </span>│<span style=\"color: #d787ff; text-decoration-color: #d787ff\"> Seasonal forecast monthly statistics on single levels                 </span>│\n",
       "│<span style=\"color: #008080; text-decoration-color: #008080\"> EO.ECMWF.DAT.CAMS_GLOBAL_REANALYSIS_EA… </span>│<span style=\"color: #d787ff; text-decoration-color: #d787ff\"> CAMS global reanalysis (EAC4)                                         </span>│\n",
       "│<span style=\"color: #008080; text-decoration-color: #008080\"> EO.ECMWF.DAT.ERA5_MONTHLY_MEANS_VARIAB… </span>│<span style=\"color: #d787ff; text-decoration-color: #d787ff\"> ERA5 monthly averaged data on pressure levels from 1940 to present    </span>│\n",
       "│<span style=\"color: #008080; text-decoration-color: #008080\">     EO.ECMWF.DAT.CEMS_GLOFAS_REFORECAST </span>│<span style=\"color: #d787ff; text-decoration-color: #d787ff\"> Reforecasts of river discharge and related data by the Global Flood … </span>│\n",
       "│<span style=\"color: #008080; text-decoration-color: #008080\"> EO.ECMWF.DAT.GLACIERS_DISTRIBUTION_DAT… </span>│<span style=\"color: #d787ff; text-decoration-color: #d787ff\"> Glaciers distribution data from the Randolph Glacier Inventory for y… </span>│\n",
       "│<span style=\"color: #008080; text-decoration-color: #008080\"> EO.ECMWF.DAT.CO2_DATA_FROM_SATELLITE_S… </span>│<span style=\"color: #d787ff; text-decoration-color: #d787ff\"> Carbon dioxide data from 2002 to present derived from satellite obse… </span>│\n",
       "│<span style=\"color: #008080; text-decoration-color: #008080\">       EO.ESA.DAT.SENTINEL-3.OL_2_LFR___ </span>│<span style=\"color: #d787ff; text-decoration-color: #d787ff\"> OLCI Land Colour Full Resolution - Sentinel-3                         </span>│\n",
       "│<span style=\"color: #008080; text-decoration-color: #008080\"> STAT.EUSTAT.DAT.POP_AGE_GROUP_SEX_NUTS3 </span>│<span style=\"color: #d787ff; text-decoration-color: #d787ff\"> Population on 1 January by age, sex and NUTS 3 region                 </span>│\n",
       "│<span style=\"color: #008080; text-decoration-color: #008080\">           EO.ESA.DAT.SENTINEL-2.MSI.L2A </span>│<span style=\"color: #d787ff; text-decoration-color: #d787ff\"> Sentinel 2 MSI Level 2-A                                              </span>│\n",
       "│<span style=\"color: #008080; text-decoration-color: #008080\">              EO.ECMWF.DAT.EFAS_SEASONAL </span>│<span style=\"color: #d787ff; text-decoration-color: #d787ff\"> Seasonal forecasts of river discharge and related data by the Europe… </span>│\n",
       "│<span style=\"color: #008080; text-decoration-color: #008080\"> EO.ECMWF.DAT.SIS_HYDROLOGY_METEOROLOGY… </span>│<span style=\"color: #d787ff; text-decoration-color: #d787ff\"> Temperature and precipitation climate impact indicators from 1970 to… </span>│\n",
       "│<span style=\"color: #008080; text-decoration-color: #008080\">       EO.EUM.DAT.SENTINEL-3.OL_1_ERR___ </span>│<span style=\"color: #d787ff; text-decoration-color: #d787ff\"> OLCI Level 1B Reduced Resolution - Sentinel-3                         </span>│\n",
       "│<span style=\"color: #008080; text-decoration-color: #008080\"> EO.ECMWF.DAT.SEA_LEVEL_DAILY_GRIDDED_D… </span>│<span style=\"color: #d787ff; text-decoration-color: #d787ff\"> Sea level daily gridded data from satellite observations for the Bla… </span>│\n",
       "│<span style=\"color: #008080; text-decoration-color: #008080\">   EO.ECMWF.DAT.EFAS_SEASONAL_REFORECAST </span>│<span style=\"color: #d787ff; text-decoration-color: #d787ff\"> Seasonal reforecasts of river discharge and related data by the Euro… </span>│\n",
       "│<span style=\"color: #008080; text-decoration-color: #008080\">           EO.ESA.DAT.SENTINEL-2.MSI.L1C </span>│<span style=\"color: #d787ff; text-decoration-color: #d787ff\"> Sentinel 2 MSI Level 1C                                               </span>│\n",
       "│<span style=\"color: #008080; text-decoration-color: #008080\">       EO.EUM.DAT.SENTINEL-3.SL_2_WST___ </span>│<span style=\"color: #d787ff; text-decoration-color: #d787ff\"> SLSTR Level 2 Sea Surface Temperature (SST) - Sentinel-3              </span>│\n",
       "│<span style=\"color: #008080; text-decoration-color: #008080\"> EO.ECMWF.DAT.CAMS_GREENHOUSE_GAS_FLUXES </span>│<span style=\"color: #d787ff; text-decoration-color: #d787ff\"> CAMS global inversion-optimised greenhouse gas fluxes and concentrat… </span>│\n",
       "│<span style=\"color: #008080; text-decoration-color: #008080\">            EO.ECMWF.DAT.EFAS_HISTORICAL </span>│<span style=\"color: #d787ff; text-decoration-color: #d787ff\"> River discharge and related historical data from the European Flood … </span>│\n",
       "│<span style=\"color: #008080; text-decoration-color: #008080\">            EO.ESA.DAT.SENTINEL-1.L1_SLC </span>│<span style=\"color: #d787ff; text-decoration-color: #d787ff\"> SENTINEL-1 Level 1 Single Look Complex (SLC) - EODC store             </span>│\n",
       "│<span style=\"color: #008080; text-decoration-color: #008080\">       EO.EUM.DAT.SENTINEL-3.SL_1_RBT___ </span>│<span style=\"color: #d787ff; text-decoration-color: #d787ff\"> SLSTR Level 1B Radiances and Brightness Temperatures - Sentinel-3     </span>│\n",
       "│<span style=\"color: #008080; text-decoration-color: #008080\"> EO.ECMWF.DAT.CAMS_GLOBAL_REANALYSIS_EA… </span>│<span style=\"color: #d787ff; text-decoration-color: #d787ff\"> CAMS global reanalysis (EAC4) monthly averaged fields                 </span>│\n",
       "│<span style=\"color: #008080; text-decoration-color: #008080\">          EO.DEM.DAT.COP-DEM_GLO-90-DTED </span>│<span style=\"color: #d787ff; text-decoration-color: #d787ff\"> COPERNICUS Digital Elevation Model (DEM) 90 meters DTED               </span>│\n",
       "│<span style=\"color: #008080; text-decoration-color: #008080\"> EO.ECMWF.DAT.CAMS_SOLAR_RADIATION_TIME… </span>│<span style=\"color: #d787ff; text-decoration-color: #d787ff\"> CAMS solar radiation time-series                                      </span>│\n",
       "│<span style=\"color: #008080; text-decoration-color: #008080\">               EO.EUM.DAT.SENTINEL-3.FRP </span>│<span style=\"color: #d787ff; text-decoration-color: #d787ff\"> SLSTR Level 2 Fire Radiative Power - Sentinel 3                       </span>│\n",
       "│<span style=\"color: #008080; text-decoration-color: #008080\"> EO.ECMWF.DAT.REANALYSIS_UERRA_EUROPE_S… </span>│<span style=\"color: #d787ff; text-decoration-color: #d787ff\"> UERRA regional reanalysis for Europe on single levels from 1961 to 2… </span>│\n",
       "│<span style=\"color: #008080; text-decoration-color: #008080\">            EO.ECMWF.DAT.EFAS_REFORECAST </span>│<span style=\"color: #d787ff; text-decoration-color: #d787ff\"> Reforecasts of river discharge and related data by the European Floo… </span>│\n",
       "│<span style=\"color: #008080; text-decoration-color: #008080\"> EO.ECMWF.DAT.REANALYSIS_ERA5_SINGLE_LE… </span>│<span style=\"color: #d787ff; text-decoration-color: #d787ff\"> ERA5 monthly averaged data on single levels from 1940 to present      </span>│\n",
       "│<span style=\"color: #008080; text-decoration-color: #008080\"> EO.ECMWF.DAT.CAMS_GLOBAL_GREENHOUSE_GA… </span>│<span style=\"color: #d787ff; text-decoration-color: #d787ff\"> CAMS global greenhouse gas reanalysis (EGG4) monthly averaged fields  </span>│\n",
       "│<span style=\"color: #008080; text-decoration-color: #008080\"> EO.ECMWF.DAT.SEASONAL_FORECAST_ANOMALI… </span>│<span style=\"color: #d787ff; text-decoration-color: #d787ff\"> Seasonal forecast anomalies on pressure levels                        </span>│\n",
       "│<span style=\"color: #008080; text-decoration-color: #008080\"> EO.ECMWF.DAT.SEASONAL_FORECAST_DAILY_D… </span>│<span style=\"color: #d787ff; text-decoration-color: #d787ff\"> Seasonal forecast subdaily data on pressure levels                    </span>│\n",
       "│<span style=\"color: #008080; text-decoration-color: #008080\">       EO.EUM.DAT.SENTINEL-3.SR_2_WAT___ </span>│<span style=\"color: #d787ff; text-decoration-color: #d787ff\"> SRAL Level 2 Altimetry Global - Sentinel-3                            </span>│\n",
       "│<span style=\"color: #008080; text-decoration-color: #008080\"> EO.ECMWF.DAT.CAMS_GLOBAL_GREENHOUSE_GA… </span>│<span style=\"color: #d787ff; text-decoration-color: #d787ff\"> CAMS global greenhouse gas reanalysis (EGG4)                          </span>│\n",
       "│<span style=\"color: #008080; text-decoration-color: #008080\"> EO.ECMWF.DAT.METHANE_DATA_SATELLITE_SE… </span>│<span style=\"color: #d787ff; text-decoration-color: #d787ff\"> Methane data from 2002 to present derived from satellite observations </span>│\n",
       "│<span style=\"color: #008080; text-decoration-color: #008080\">       EO.EUM.DAT.SENTINEL-3.OL_2_WRR___ </span>│<span style=\"color: #d787ff; text-decoration-color: #d787ff\"> OLCI Level 2 Ocean Colour Reduced Resolution - Sentinel-3             </span>│\n",
       "│<span style=\"color: #008080; text-decoration-color: #008080\">       EO.ECMWF.DAT.CEMS_GLOFAS_FORECAST </span>│<span style=\"color: #d787ff; text-decoration-color: #d787ff\"> River discharge and related forecasted data by the European Flood Aw… </span>│\n",
       "│<span style=\"color: #008080; text-decoration-color: #008080\"> EO.ECMWF.DAT.CAMS_GLOBAL_RADIATIVE_FOR… </span>│<span style=\"color: #d787ff; text-decoration-color: #d787ff\"> CAMS global radiative forcings                                        </span>│\n",
       "│<span style=\"color: #008080; text-decoration-color: #008080\"> EO.ECMWF.DAT.GLACIERS_ELEVATION_AND_MA… </span>│<span style=\"color: #d787ff; text-decoration-color: #d787ff\"> Glaciers elevation and mass change data from 1850 to present from th… </span>│\n",
       "│<span style=\"color: #008080; text-decoration-color: #008080\"> EO.ECMWF.DAT.SEA_LEVEL_DAILY_GRIDDED_D… </span>│<span style=\"color: #d787ff; text-decoration-color: #d787ff\"> Sea level daily gridded data from satellite observations for the Med… </span>│\n",
       "│<span style=\"color: #008080; text-decoration-color: #008080\"> EO.ECMWF.DAT.CAMS_EUROPE_AIR_QUALITY_F… </span>│<span style=\"color: #d787ff; text-decoration-color: #d787ff\"> CAMS European air quality forecasts                                   </span>│\n",
       "│<span style=\"color: #008080; text-decoration-color: #008080\">          EO.ECMWF.DAT.ERA5_LAND_MONTHLY </span>│<span style=\"color: #d787ff; text-decoration-color: #d787ff\"> ERA5-Land monthly averaged data from 1950 to present                  </span>│\n",
       "│<span style=\"color: #008080; text-decoration-color: #008080\">             EO.CLMS.DAT.GLO.FAPAR300_V1 </span>│<span style=\"color: #d787ff; text-decoration-color: #d787ff\"> Fraction of Absorbed Photosynthetically Active Radiation 2014-presen… </span>│\n",
       "│<span style=\"color: #008080; text-decoration-color: #008080\">       EO.EUM.DAT.SENTINEL-3.SR_1_SRA___ </span>│<span style=\"color: #d787ff; text-decoration-color: #d787ff\"> SRAL Level 1B - Sentinel-3                                            </span>│\n",
       "│<span style=\"color: #008080; text-decoration-color: #008080\">          EO.DEM.DAT.COP-DEM_GLO-30-DGED </span>│<span style=\"color: #d787ff; text-decoration-color: #d787ff\"> COPERNICUS Digital Elevation Model (DEM) 30 meters DGED               </span>│\n",
       "│<span style=\"color: #008080; text-decoration-color: #008080\"> EO.ECMWF.DAT.CAMS_GLOBAL_EMISSION_INVE… </span>│<span style=\"color: #d787ff; text-decoration-color: #d787ff\"> CAMS global emission inventories                                      </span>│\n",
       "│<span style=\"color: #008080; text-decoration-color: #008080\">       EO.EUM.DAT.SENTINEL-3.OL_2_WFR___ </span>│<span style=\"color: #d787ff; text-decoration-color: #d787ff\"> OLCI Level 2 Ocean Colour Full Resolution - Sentinel-3                </span>│\n",
       "│<span style=\"color: #008080; text-decoration-color: #008080\"> EO.ECMWF.DAT.SEASONAL_FORECAST_MONTHLY… </span>│<span style=\"color: #d787ff; text-decoration-color: #d787ff\"> Seasonal forecast monthly statistics on pressure levels               </span>│\n",
       "│<span style=\"color: #008080; text-decoration-color: #008080\">               EO.CLMS.DAT.GLO.LAI300_V1 </span>│<span style=\"color: #d787ff; text-decoration-color: #d787ff\"> Leaf Area Index 2014-present (raster 300 m), global, 10-daily – vers… </span>│\n",
       "│<span style=\"color: #008080; text-decoration-color: #008080\">       EO.EUM.DAT.SENTINEL-3.SR_1_SRA_BS </span>│<span style=\"color: #d787ff; text-decoration-color: #d787ff\"> SRAL Level 1B stack echoes - Sentinel-3                               </span>│\n",
       "│<span style=\"color: #008080; text-decoration-color: #008080\">              EO.CLMS.DAT.GLO.NDVI300_V1 </span>│<span style=\"color: #d787ff; text-decoration-color: #d787ff\"> Normalised Difference Vegetation Index 2014-2020 (raster 300 m), glo… </span>│\n",
       "│<span style=\"color: #008080; text-decoration-color: #008080\"> EO.ECMWF.DAT.SEASONAL_FORECAST_DAILY_D… </span>│<span style=\"color: #d787ff; text-decoration-color: #d787ff\"> Seasonal forecast daily and subdaily data on single levels            </span>│\n",
       "│<span style=\"color: #008080; text-decoration-color: #008080\">         EO.CLMS.DAT.SENTINEL-2.HRVPP.VI </span>│<span style=\"color: #d787ff; text-decoration-color: #d787ff\"> Vegetation Indices, daily, UTM projection                             </span>│\n",
       "│<span style=\"color: #008080; text-decoration-color: #008080\">          EO.DEM.DAT.COP-DEM_GLO-90-DGED </span>│<span style=\"color: #d787ff; text-decoration-color: #d787ff\"> COPERNICUS Digital Elevation Model (DEM) 90 meters DGED               </span>│\n",
       "│<span style=\"color: #008080; text-decoration-color: #008080\">     EO.ECMWF.DAT.CEMS_GLOFAS_HISTORICAL </span>│<span style=\"color: #d787ff; text-decoration-color: #d787ff\"> River discharge and related historical data from the Global Flood Aw… </span>│\n",
       "│<span style=\"color: #008080; text-decoration-color: #008080\">       EO.ESA.DAT.SENTINEL-5P.TROPOMI.L2 </span>│<span style=\"color: #d787ff; text-decoration-color: #d787ff\"> SENTINEL-5P TROPOMI Level 2                                           </span>│\n",
       "│<span style=\"color: #008080; text-decoration-color: #008080\">                EO.ECMWF.DAT.DT_EXTREMES </span>│<span style=\"color: #d787ff; text-decoration-color: #d787ff\"> Destination Earth - Weather-Induced Extremes Digital Twin             </span>│\n",
       "│<span style=\"color: #008080; text-decoration-color: #008080\">              EO.CLMS.DAT.GLO.GDMP300_V1 </span>│<span style=\"color: #d787ff; text-decoration-color: #d787ff\"> Gross Dry Matter Productivity 2014-present (raster 300 m), global, 1… </span>│\n",
       "│<span style=\"color: #008080; text-decoration-color: #008080\"> EO.ECMWF.DAT.CAMS_GLOBAL_RADIATIVE_FOR… </span>│<span style=\"color: #d787ff; text-decoration-color: #d787ff\"> CAMS global radiative forcing - auxilliary variables                  </span>│\n",
       "│<span style=\"color: #008080; text-decoration-color: #008080\">             EO.CLMS.DAT.GLO.NDVI_1KM_V2 </span>│<span style=\"color: #d787ff; text-decoration-color: #d787ff\"> Normalised Difference Vegetation Index 1998-2020 (raster 1 km), glob… </span>│\n",
       "│<span style=\"color: #008080; text-decoration-color: #008080\">           EO.ECMWF.DAT.ERA5_LAND_HOURLY </span>│<span style=\"color: #d787ff; text-decoration-color: #d787ff\"> ERA5-Land hourly data from 1950 to present                            </span>│\n",
       "│<span style=\"color: #008080; text-decoration-color: #008080\"> STAT.EUSTAT.DAT.GREENHOUSE_GAS_EMISSIO… </span>│<span style=\"color: #d787ff; text-decoration-color: #d787ff\"> Eurostat - Greenhouse gas emissions from agriculture                  </span>│\n",
       "│<span style=\"color: #008080; text-decoration-color: #008080\">               EO.CLMS.DAT.GLO.DMP300_V1 </span>│<span style=\"color: #d787ff; text-decoration-color: #d787ff\"> Dry Matter Productivity 2014-present (raster 300 m), global, 10-dail… </span>│\n",
       "│<span style=\"color: #008080; text-decoration-color: #008080\">            EO.ESA.DAT.SENTINEL-1.L1_GRD </span>│<span style=\"color: #d787ff; text-decoration-color: #d787ff\"> SENTINEL-1 Level 1 Ground Range Detected (GRD)                        </span>│\n",
       "│<span style=\"color: #008080; text-decoration-color: #008080\">       EO.EUM.DAT.SENTINEL-3.OL_1_EFR___ </span>│<span style=\"color: #d787ff; text-decoration-color: #d787ff\"> OLCI Level 1B Full Resolution - Sentinel-3                            </span>│\n",
       "│<span style=\"color: #008080; text-decoration-color: #008080\">              EO.ECMWF.DAT.EFAS_FORECAST </span>│<span style=\"color: #d787ff; text-decoration-color: #d787ff\"> River discharge and related forecasted data by the European Flood Aw… </span>│\n",
       "│<span style=\"color: #008080; text-decoration-color: #008080\">                      EO.CLMS.DAT.CORINE </span>│<span style=\"color: #d787ff; text-decoration-color: #d787ff\"> CORINE Land Cover                                                     </span>│\n",
       "│<span style=\"color: #008080; text-decoration-color: #008080\"> EO.ECMWF.DAT.CAMS_EUROPE_AIR_QUALITY_R… </span>│<span style=\"color: #d787ff; text-decoration-color: #d787ff\"> CAMS European air quality reanalyses                                  </span>│\n",
       "│<span style=\"color: #008080; text-decoration-color: #008080\">      EO.ECMWF.DAT.DT_CLIMATE_ADAPTATION </span>│<span style=\"color: #d787ff; text-decoration-color: #d787ff\"> Destination Earth - Climate Change Adaptation Digital Twin            </span>│\n",
       "│<span style=\"color: #008080; text-decoration-color: #008080\">          EO.DEM.DAT.COP-DEM_GLO-30-DTED </span>│<span style=\"color: #d787ff; text-decoration-color: #d787ff\"> COPERNICUS Digital Elevation Model (DEM) 30 meters DTED               </span>│\n",
       "│<span style=\"color: #008080; text-decoration-color: #008080\"> EO.ECMWF.DAT.ERA5_HOURLY_VARIABLES_ON_… </span>│<span style=\"color: #d787ff; text-decoration-color: #d787ff\"> ERA5 hourly data on pressure levels from 1940 to present              </span>│\n",
       "│<span style=\"color: #008080; text-decoration-color: #008080\">            EO.CLMS.DAT.GLO.FCOVER300_V1 </span>│<span style=\"color: #d787ff; text-decoration-color: #d787ff\"> Fraction of Green Vegetation Cover 2014-present (raster 300 m), glob… </span>│\n",
       "│<span style=\"color: #008080; text-decoration-color: #008080\">       EO.ESA.DAT.SENTINEL-3.SR_2_LAN___ </span>│<span style=\"color: #d787ff; text-decoration-color: #d787ff\"> Level 2 Land - SRAL/MWR - Sentinel-3                                  </span>│\n",
       "└─────────────────────────────────────────┴───────────────────────────────────────────────────────────────────────┘\n",
       "</pre>\n"
      ],
      "text/plain": [
       "\u001b[3m                                                  HDA collections                                                  \u001b[0m\n",
       "┏━━━━━━━━━━━━━━━━━━━━━━━━━━━━━━━━━━━━━━━━━┳━━━━━━━━━━━━━━━━━━━━━━━━━━━━━━━━━━━━━━━━━━━━━━━━━━━━━━━━━━━━━━━━━━━━━━━┓\n",
       "┃\u001b[1m \u001b[0m\u001b[1m                                     ID\u001b[0m\u001b[1m \u001b[0m┃\u001b[1m \u001b[0m\u001b[1mTitle                                                                \u001b[0m\u001b[1m \u001b[0m┃\n",
       "┡━━━━━━━━━━━━━━━━━━━━━━━━━━━━━━━━━━━━━━━━━╇━━━━━━━━━━━━━━━━━━━━━━━━━━━━━━━━━━━━━━━━━━━━━━━━━━━━━━━━━━━━━━━━━━━━━━━┩\n",
       "│\u001b[36m \u001b[0m\u001b[36m              EO.EUM.DAT.SENTINEL-3.AOD\u001b[0m\u001b[36m \u001b[0m│\u001b[38;5;177m \u001b[0m\u001b[38;5;177mSLSTR Level 2 Aerosol Optical Depth - Sentinel-3                     \u001b[0m\u001b[38;5;177m \u001b[0m│\n",
       "│\u001b[36m \u001b[0m\u001b[36mEO.ECMWF.DAT.CEMS_GLOFAS_SEASONAL_REFO…\u001b[0m\u001b[36m \u001b[0m│\u001b[38;5;177m \u001b[0m\u001b[38;5;177mSeasonal reforecasts of river discharge and related data from the Gl…\u001b[0m\u001b[38;5;177m \u001b[0m│\n",
       "│\u001b[36m \u001b[0m\u001b[36mEO.ECMWF.DAT.CAMS_GLOBAL_ATMOSHERIC_CO…\u001b[0m\u001b[36m \u001b[0m│\u001b[38;5;177m \u001b[0m\u001b[38;5;177mCAMS global atmospheric composition forecasts                        \u001b[0m\u001b[38;5;177m \u001b[0m│\n",
       "│\u001b[36m \u001b[0m\u001b[36m      EO.ECMWF.DAT.CEMS_GLOFAS_SEASONAL\u001b[0m\u001b[36m \u001b[0m│\u001b[38;5;177m \u001b[0m\u001b[38;5;177mSeasonal forecasts of river discharge and related data by the Global…\u001b[0m\u001b[38;5;177m \u001b[0m│\n",
       "│\u001b[36m \u001b[0m\u001b[36m      EO.ESA.DAT.SENTINEL-5P.TROPOMI.L1\u001b[0m\u001b[36m \u001b[0m│\u001b[38;5;177m \u001b[0m\u001b[38;5;177mSENTINEL-5P TROPOMI Level 1B                                         \u001b[0m\u001b[38;5;177m \u001b[0m│\n",
       "│\u001b[36m \u001b[0m\u001b[36mEO.ECMWF.DAT.REANALYSIS_ERA5_SINGLE_LE…\u001b[0m\u001b[36m \u001b[0m│\u001b[38;5;177m \u001b[0m\u001b[38;5;177mERA5 hourly data on single levels from 1940 to present               \u001b[0m\u001b[38;5;177m \u001b[0m│\n",
       "│\u001b[36m \u001b[0m\u001b[36m      EO.ECMWF.DAT.CEMS_FIRE_HISTORICAL\u001b[0m\u001b[36m \u001b[0m│\u001b[38;5;177m \u001b[0m\u001b[38;5;177mFire danger indices historical data from the Copernicus Emergency Ma…\u001b[0m\u001b[38;5;177m \u001b[0m│\n",
       "│\u001b[36m \u001b[0m\u001b[36mSTAT.EUSTAT.DAT.POP_CHANGE_DEMO_BALANC…\u001b[0m\u001b[36m \u001b[0m│\u001b[38;5;177m \u001b[0m\u001b[38;5;177mEurostat - Population change - Demographic balance and crude rates a…\u001b[0m\u001b[38;5;177m \u001b[0m│\n",
       "│\u001b[36m \u001b[0m\u001b[36mEO.ECMWF.DAT.SEA_LEVEL_DAILY_GRIDDED_D…\u001b[0m\u001b[36m \u001b[0m│\u001b[38;5;177m \u001b[0m\u001b[38;5;177mSea level gridded data from satellite observations for the global oc…\u001b[0m\u001b[38;5;177m \u001b[0m│\n",
       "│\u001b[36m \u001b[0m\u001b[36mEO.ECMWF.DAT.SEASONAL_FORECAST_ANOMALI…\u001b[0m\u001b[36m \u001b[0m│\u001b[38;5;177m \u001b[0m\u001b[38;5;177mSeasonal forecast anomalies on single levels                         \u001b[0m\u001b[38;5;177m \u001b[0m│\n",
       "│\u001b[36m \u001b[0m\u001b[36mSTAT.EUSTAT.DAT.SHARE_ENERGY_FROM_RENE…\u001b[0m\u001b[36m \u001b[0m│\u001b[38;5;177m \u001b[0m\u001b[38;5;177mEurostat - Share of energy from renewable sources                    \u001b[0m\u001b[38;5;177m \u001b[0m│\n",
       "│\u001b[36m \u001b[0m\u001b[36m      EO.EUM.DAT.SENTINEL-3.SR_1_SRA_A_\u001b[0m\u001b[36m \u001b[0m│\u001b[38;5;177m \u001b[0m\u001b[38;5;177mSRAL Level 1B - Sentinel-3                                           \u001b[0m\u001b[38;5;177m \u001b[0m│\n",
       "│\u001b[36m \u001b[0m\u001b[36m      STAT.EUSTAT.DAT.POP_AGE_SEX_NUTS2\u001b[0m\u001b[36m \u001b[0m│\u001b[38;5;177m \u001b[0m\u001b[38;5;177mPopulation on 1 January by age, sex and NUTS 2 region                \u001b[0m\u001b[38;5;177m \u001b[0m│\n",
       "│\u001b[36m \u001b[0m\u001b[36m      EO.ESA.DAT.SENTINEL-3.OL_2_LRR___\u001b[0m\u001b[36m \u001b[0m│\u001b[38;5;177m \u001b[0m\u001b[38;5;177mOLCI Land Colour Reduced Resolution - Sentinel-3                     \u001b[0m\u001b[38;5;177m \u001b[0m│\n",
       "│\u001b[36m \u001b[0m\u001b[36mEO.ECMWF.DAT.SEASONAL_FORECAST_MONTHLY…\u001b[0m\u001b[36m \u001b[0m│\u001b[38;5;177m \u001b[0m\u001b[38;5;177mSeasonal forecast monthly statistics on single levels                \u001b[0m\u001b[38;5;177m \u001b[0m│\n",
       "│\u001b[36m \u001b[0m\u001b[36mEO.ECMWF.DAT.CAMS_GLOBAL_REANALYSIS_EA…\u001b[0m\u001b[36m \u001b[0m│\u001b[38;5;177m \u001b[0m\u001b[38;5;177mCAMS global reanalysis (EAC4)                                        \u001b[0m\u001b[38;5;177m \u001b[0m│\n",
       "│\u001b[36m \u001b[0m\u001b[36mEO.ECMWF.DAT.ERA5_MONTHLY_MEANS_VARIAB…\u001b[0m\u001b[36m \u001b[0m│\u001b[38;5;177m \u001b[0m\u001b[38;5;177mERA5 monthly averaged data on pressure levels from 1940 to present   \u001b[0m\u001b[38;5;177m \u001b[0m│\n",
       "│\u001b[36m \u001b[0m\u001b[36m    EO.ECMWF.DAT.CEMS_GLOFAS_REFORECAST\u001b[0m\u001b[36m \u001b[0m│\u001b[38;5;177m \u001b[0m\u001b[38;5;177mReforecasts of river discharge and related data by the Global Flood …\u001b[0m\u001b[38;5;177m \u001b[0m│\n",
       "│\u001b[36m \u001b[0m\u001b[36mEO.ECMWF.DAT.GLACIERS_DISTRIBUTION_DAT…\u001b[0m\u001b[36m \u001b[0m│\u001b[38;5;177m \u001b[0m\u001b[38;5;177mGlaciers distribution data from the Randolph Glacier Inventory for y…\u001b[0m\u001b[38;5;177m \u001b[0m│\n",
       "│\u001b[36m \u001b[0m\u001b[36mEO.ECMWF.DAT.CO2_DATA_FROM_SATELLITE_S…\u001b[0m\u001b[36m \u001b[0m│\u001b[38;5;177m \u001b[0m\u001b[38;5;177mCarbon dioxide data from 2002 to present derived from satellite obse…\u001b[0m\u001b[38;5;177m \u001b[0m│\n",
       "│\u001b[36m \u001b[0m\u001b[36m      EO.ESA.DAT.SENTINEL-3.OL_2_LFR___\u001b[0m\u001b[36m \u001b[0m│\u001b[38;5;177m \u001b[0m\u001b[38;5;177mOLCI Land Colour Full Resolution - Sentinel-3                        \u001b[0m\u001b[38;5;177m \u001b[0m│\n",
       "│\u001b[36m \u001b[0m\u001b[36mSTAT.EUSTAT.DAT.POP_AGE_GROUP_SEX_NUTS3\u001b[0m\u001b[36m \u001b[0m│\u001b[38;5;177m \u001b[0m\u001b[38;5;177mPopulation on 1 January by age, sex and NUTS 3 region                \u001b[0m\u001b[38;5;177m \u001b[0m│\n",
       "│\u001b[36m \u001b[0m\u001b[36m          EO.ESA.DAT.SENTINEL-2.MSI.L2A\u001b[0m\u001b[36m \u001b[0m│\u001b[38;5;177m \u001b[0m\u001b[38;5;177mSentinel 2 MSI Level 2-A                                             \u001b[0m\u001b[38;5;177m \u001b[0m│\n",
       "│\u001b[36m \u001b[0m\u001b[36m             EO.ECMWF.DAT.EFAS_SEASONAL\u001b[0m\u001b[36m \u001b[0m│\u001b[38;5;177m \u001b[0m\u001b[38;5;177mSeasonal forecasts of river discharge and related data by the Europe…\u001b[0m\u001b[38;5;177m \u001b[0m│\n",
       "│\u001b[36m \u001b[0m\u001b[36mEO.ECMWF.DAT.SIS_HYDROLOGY_METEOROLOGY…\u001b[0m\u001b[36m \u001b[0m│\u001b[38;5;177m \u001b[0m\u001b[38;5;177mTemperature and precipitation climate impact indicators from 1970 to…\u001b[0m\u001b[38;5;177m \u001b[0m│\n",
       "│\u001b[36m \u001b[0m\u001b[36m      EO.EUM.DAT.SENTINEL-3.OL_1_ERR___\u001b[0m\u001b[36m \u001b[0m│\u001b[38;5;177m \u001b[0m\u001b[38;5;177mOLCI Level 1B Reduced Resolution - Sentinel-3                        \u001b[0m\u001b[38;5;177m \u001b[0m│\n",
       "│\u001b[36m \u001b[0m\u001b[36mEO.ECMWF.DAT.SEA_LEVEL_DAILY_GRIDDED_D…\u001b[0m\u001b[36m \u001b[0m│\u001b[38;5;177m \u001b[0m\u001b[38;5;177mSea level daily gridded data from satellite observations for the Bla…\u001b[0m\u001b[38;5;177m \u001b[0m│\n",
       "│\u001b[36m \u001b[0m\u001b[36m  EO.ECMWF.DAT.EFAS_SEASONAL_REFORECAST\u001b[0m\u001b[36m \u001b[0m│\u001b[38;5;177m \u001b[0m\u001b[38;5;177mSeasonal reforecasts of river discharge and related data by the Euro…\u001b[0m\u001b[38;5;177m \u001b[0m│\n",
       "│\u001b[36m \u001b[0m\u001b[36m          EO.ESA.DAT.SENTINEL-2.MSI.L1C\u001b[0m\u001b[36m \u001b[0m│\u001b[38;5;177m \u001b[0m\u001b[38;5;177mSentinel 2 MSI Level 1C                                              \u001b[0m\u001b[38;5;177m \u001b[0m│\n",
       "│\u001b[36m \u001b[0m\u001b[36m      EO.EUM.DAT.SENTINEL-3.SL_2_WST___\u001b[0m\u001b[36m \u001b[0m│\u001b[38;5;177m \u001b[0m\u001b[38;5;177mSLSTR Level 2 Sea Surface Temperature (SST) - Sentinel-3             \u001b[0m\u001b[38;5;177m \u001b[0m│\n",
       "│\u001b[36m \u001b[0m\u001b[36mEO.ECMWF.DAT.CAMS_GREENHOUSE_GAS_FLUXES\u001b[0m\u001b[36m \u001b[0m│\u001b[38;5;177m \u001b[0m\u001b[38;5;177mCAMS global inversion-optimised greenhouse gas fluxes and concentrat…\u001b[0m\u001b[38;5;177m \u001b[0m│\n",
       "│\u001b[36m \u001b[0m\u001b[36m           EO.ECMWF.DAT.EFAS_HISTORICAL\u001b[0m\u001b[36m \u001b[0m│\u001b[38;5;177m \u001b[0m\u001b[38;5;177mRiver discharge and related historical data from the European Flood …\u001b[0m\u001b[38;5;177m \u001b[0m│\n",
       "│\u001b[36m \u001b[0m\u001b[36m           EO.ESA.DAT.SENTINEL-1.L1_SLC\u001b[0m\u001b[36m \u001b[0m│\u001b[38;5;177m \u001b[0m\u001b[38;5;177mSENTINEL-1 Level 1 Single Look Complex (SLC) - EODC store            \u001b[0m\u001b[38;5;177m \u001b[0m│\n",
       "│\u001b[36m \u001b[0m\u001b[36m      EO.EUM.DAT.SENTINEL-3.SL_1_RBT___\u001b[0m\u001b[36m \u001b[0m│\u001b[38;5;177m \u001b[0m\u001b[38;5;177mSLSTR Level 1B Radiances and Brightness Temperatures - Sentinel-3    \u001b[0m\u001b[38;5;177m \u001b[0m│\n",
       "│\u001b[36m \u001b[0m\u001b[36mEO.ECMWF.DAT.CAMS_GLOBAL_REANALYSIS_EA…\u001b[0m\u001b[36m \u001b[0m│\u001b[38;5;177m \u001b[0m\u001b[38;5;177mCAMS global reanalysis (EAC4) monthly averaged fields                \u001b[0m\u001b[38;5;177m \u001b[0m│\n",
       "│\u001b[36m \u001b[0m\u001b[36m         EO.DEM.DAT.COP-DEM_GLO-90-DTED\u001b[0m\u001b[36m \u001b[0m│\u001b[38;5;177m \u001b[0m\u001b[38;5;177mCOPERNICUS Digital Elevation Model (DEM) 90 meters DTED              \u001b[0m\u001b[38;5;177m \u001b[0m│\n",
       "│\u001b[36m \u001b[0m\u001b[36mEO.ECMWF.DAT.CAMS_SOLAR_RADIATION_TIME…\u001b[0m\u001b[36m \u001b[0m│\u001b[38;5;177m \u001b[0m\u001b[38;5;177mCAMS solar radiation time-series                                     \u001b[0m\u001b[38;5;177m \u001b[0m│\n",
       "│\u001b[36m \u001b[0m\u001b[36m              EO.EUM.DAT.SENTINEL-3.FRP\u001b[0m\u001b[36m \u001b[0m│\u001b[38;5;177m \u001b[0m\u001b[38;5;177mSLSTR Level 2 Fire Radiative Power - Sentinel 3                      \u001b[0m\u001b[38;5;177m \u001b[0m│\n",
       "│\u001b[36m \u001b[0m\u001b[36mEO.ECMWF.DAT.REANALYSIS_UERRA_EUROPE_S…\u001b[0m\u001b[36m \u001b[0m│\u001b[38;5;177m \u001b[0m\u001b[38;5;177mUERRA regional reanalysis for Europe on single levels from 1961 to 2…\u001b[0m\u001b[38;5;177m \u001b[0m│\n",
       "│\u001b[36m \u001b[0m\u001b[36m           EO.ECMWF.DAT.EFAS_REFORECAST\u001b[0m\u001b[36m \u001b[0m│\u001b[38;5;177m \u001b[0m\u001b[38;5;177mReforecasts of river discharge and related data by the European Floo…\u001b[0m\u001b[38;5;177m \u001b[0m│\n",
       "│\u001b[36m \u001b[0m\u001b[36mEO.ECMWF.DAT.REANALYSIS_ERA5_SINGLE_LE…\u001b[0m\u001b[36m \u001b[0m│\u001b[38;5;177m \u001b[0m\u001b[38;5;177mERA5 monthly averaged data on single levels from 1940 to present     \u001b[0m\u001b[38;5;177m \u001b[0m│\n",
       "│\u001b[36m \u001b[0m\u001b[36mEO.ECMWF.DAT.CAMS_GLOBAL_GREENHOUSE_GA…\u001b[0m\u001b[36m \u001b[0m│\u001b[38;5;177m \u001b[0m\u001b[38;5;177mCAMS global greenhouse gas reanalysis (EGG4) monthly averaged fields \u001b[0m\u001b[38;5;177m \u001b[0m│\n",
       "│\u001b[36m \u001b[0m\u001b[36mEO.ECMWF.DAT.SEASONAL_FORECAST_ANOMALI…\u001b[0m\u001b[36m \u001b[0m│\u001b[38;5;177m \u001b[0m\u001b[38;5;177mSeasonal forecast anomalies on pressure levels                       \u001b[0m\u001b[38;5;177m \u001b[0m│\n",
       "│\u001b[36m \u001b[0m\u001b[36mEO.ECMWF.DAT.SEASONAL_FORECAST_DAILY_D…\u001b[0m\u001b[36m \u001b[0m│\u001b[38;5;177m \u001b[0m\u001b[38;5;177mSeasonal forecast subdaily data on pressure levels                   \u001b[0m\u001b[38;5;177m \u001b[0m│\n",
       "│\u001b[36m \u001b[0m\u001b[36m      EO.EUM.DAT.SENTINEL-3.SR_2_WAT___\u001b[0m\u001b[36m \u001b[0m│\u001b[38;5;177m \u001b[0m\u001b[38;5;177mSRAL Level 2 Altimetry Global - Sentinel-3                           \u001b[0m\u001b[38;5;177m \u001b[0m│\n",
       "│\u001b[36m \u001b[0m\u001b[36mEO.ECMWF.DAT.CAMS_GLOBAL_GREENHOUSE_GA…\u001b[0m\u001b[36m \u001b[0m│\u001b[38;5;177m \u001b[0m\u001b[38;5;177mCAMS global greenhouse gas reanalysis (EGG4)                         \u001b[0m\u001b[38;5;177m \u001b[0m│\n",
       "│\u001b[36m \u001b[0m\u001b[36mEO.ECMWF.DAT.METHANE_DATA_SATELLITE_SE…\u001b[0m\u001b[36m \u001b[0m│\u001b[38;5;177m \u001b[0m\u001b[38;5;177mMethane data from 2002 to present derived from satellite observations\u001b[0m\u001b[38;5;177m \u001b[0m│\n",
       "│\u001b[36m \u001b[0m\u001b[36m      EO.EUM.DAT.SENTINEL-3.OL_2_WRR___\u001b[0m\u001b[36m \u001b[0m│\u001b[38;5;177m \u001b[0m\u001b[38;5;177mOLCI Level 2 Ocean Colour Reduced Resolution - Sentinel-3            \u001b[0m\u001b[38;5;177m \u001b[0m│\n",
       "│\u001b[36m \u001b[0m\u001b[36m      EO.ECMWF.DAT.CEMS_GLOFAS_FORECAST\u001b[0m\u001b[36m \u001b[0m│\u001b[38;5;177m \u001b[0m\u001b[38;5;177mRiver discharge and related forecasted data by the European Flood Aw…\u001b[0m\u001b[38;5;177m \u001b[0m│\n",
       "│\u001b[36m \u001b[0m\u001b[36mEO.ECMWF.DAT.CAMS_GLOBAL_RADIATIVE_FOR…\u001b[0m\u001b[36m \u001b[0m│\u001b[38;5;177m \u001b[0m\u001b[38;5;177mCAMS global radiative forcings                                       \u001b[0m\u001b[38;5;177m \u001b[0m│\n",
       "│\u001b[36m \u001b[0m\u001b[36mEO.ECMWF.DAT.GLACIERS_ELEVATION_AND_MA…\u001b[0m\u001b[36m \u001b[0m│\u001b[38;5;177m \u001b[0m\u001b[38;5;177mGlaciers elevation and mass change data from 1850 to present from th…\u001b[0m\u001b[38;5;177m \u001b[0m│\n",
       "│\u001b[36m \u001b[0m\u001b[36mEO.ECMWF.DAT.SEA_LEVEL_DAILY_GRIDDED_D…\u001b[0m\u001b[36m \u001b[0m│\u001b[38;5;177m \u001b[0m\u001b[38;5;177mSea level daily gridded data from satellite observations for the Med…\u001b[0m\u001b[38;5;177m \u001b[0m│\n",
       "│\u001b[36m \u001b[0m\u001b[36mEO.ECMWF.DAT.CAMS_EUROPE_AIR_QUALITY_F…\u001b[0m\u001b[36m \u001b[0m│\u001b[38;5;177m \u001b[0m\u001b[38;5;177mCAMS European air quality forecasts                                  \u001b[0m\u001b[38;5;177m \u001b[0m│\n",
       "│\u001b[36m \u001b[0m\u001b[36m         EO.ECMWF.DAT.ERA5_LAND_MONTHLY\u001b[0m\u001b[36m \u001b[0m│\u001b[38;5;177m \u001b[0m\u001b[38;5;177mERA5-Land monthly averaged data from 1950 to present                 \u001b[0m\u001b[38;5;177m \u001b[0m│\n",
       "│\u001b[36m \u001b[0m\u001b[36m            EO.CLMS.DAT.GLO.FAPAR300_V1\u001b[0m\u001b[36m \u001b[0m│\u001b[38;5;177m \u001b[0m\u001b[38;5;177mFraction of Absorbed Photosynthetically Active Radiation 2014-presen…\u001b[0m\u001b[38;5;177m \u001b[0m│\n",
       "│\u001b[36m \u001b[0m\u001b[36m      EO.EUM.DAT.SENTINEL-3.SR_1_SRA___\u001b[0m\u001b[36m \u001b[0m│\u001b[38;5;177m \u001b[0m\u001b[38;5;177mSRAL Level 1B - Sentinel-3                                           \u001b[0m\u001b[38;5;177m \u001b[0m│\n",
       "│\u001b[36m \u001b[0m\u001b[36m         EO.DEM.DAT.COP-DEM_GLO-30-DGED\u001b[0m\u001b[36m \u001b[0m│\u001b[38;5;177m \u001b[0m\u001b[38;5;177mCOPERNICUS Digital Elevation Model (DEM) 30 meters DGED              \u001b[0m\u001b[38;5;177m \u001b[0m│\n",
       "│\u001b[36m \u001b[0m\u001b[36mEO.ECMWF.DAT.CAMS_GLOBAL_EMISSION_INVE…\u001b[0m\u001b[36m \u001b[0m│\u001b[38;5;177m \u001b[0m\u001b[38;5;177mCAMS global emission inventories                                     \u001b[0m\u001b[38;5;177m \u001b[0m│\n",
       "│\u001b[36m \u001b[0m\u001b[36m      EO.EUM.DAT.SENTINEL-3.OL_2_WFR___\u001b[0m\u001b[36m \u001b[0m│\u001b[38;5;177m \u001b[0m\u001b[38;5;177mOLCI Level 2 Ocean Colour Full Resolution - Sentinel-3               \u001b[0m\u001b[38;5;177m \u001b[0m│\n",
       "│\u001b[36m \u001b[0m\u001b[36mEO.ECMWF.DAT.SEASONAL_FORECAST_MONTHLY…\u001b[0m\u001b[36m \u001b[0m│\u001b[38;5;177m \u001b[0m\u001b[38;5;177mSeasonal forecast monthly statistics on pressure levels              \u001b[0m\u001b[38;5;177m \u001b[0m│\n",
       "│\u001b[36m \u001b[0m\u001b[36m              EO.CLMS.DAT.GLO.LAI300_V1\u001b[0m\u001b[36m \u001b[0m│\u001b[38;5;177m \u001b[0m\u001b[38;5;177mLeaf Area Index 2014-present (raster 300 m), global, 10-daily – vers…\u001b[0m\u001b[38;5;177m \u001b[0m│\n",
       "│\u001b[36m \u001b[0m\u001b[36m      EO.EUM.DAT.SENTINEL-3.SR_1_SRA_BS\u001b[0m\u001b[36m \u001b[0m│\u001b[38;5;177m \u001b[0m\u001b[38;5;177mSRAL Level 1B stack echoes - Sentinel-3                              \u001b[0m\u001b[38;5;177m \u001b[0m│\n",
       "│\u001b[36m \u001b[0m\u001b[36m             EO.CLMS.DAT.GLO.NDVI300_V1\u001b[0m\u001b[36m \u001b[0m│\u001b[38;5;177m \u001b[0m\u001b[38;5;177mNormalised Difference Vegetation Index 2014-2020 (raster 300 m), glo…\u001b[0m\u001b[38;5;177m \u001b[0m│\n",
       "│\u001b[36m \u001b[0m\u001b[36mEO.ECMWF.DAT.SEASONAL_FORECAST_DAILY_D…\u001b[0m\u001b[36m \u001b[0m│\u001b[38;5;177m \u001b[0m\u001b[38;5;177mSeasonal forecast daily and subdaily data on single levels           \u001b[0m\u001b[38;5;177m \u001b[0m│\n",
       "│\u001b[36m \u001b[0m\u001b[36m        EO.CLMS.DAT.SENTINEL-2.HRVPP.VI\u001b[0m\u001b[36m \u001b[0m│\u001b[38;5;177m \u001b[0m\u001b[38;5;177mVegetation Indices, daily, UTM projection                            \u001b[0m\u001b[38;5;177m \u001b[0m│\n",
       "│\u001b[36m \u001b[0m\u001b[36m         EO.DEM.DAT.COP-DEM_GLO-90-DGED\u001b[0m\u001b[36m \u001b[0m│\u001b[38;5;177m \u001b[0m\u001b[38;5;177mCOPERNICUS Digital Elevation Model (DEM) 90 meters DGED              \u001b[0m\u001b[38;5;177m \u001b[0m│\n",
       "│\u001b[36m \u001b[0m\u001b[36m    EO.ECMWF.DAT.CEMS_GLOFAS_HISTORICAL\u001b[0m\u001b[36m \u001b[0m│\u001b[38;5;177m \u001b[0m\u001b[38;5;177mRiver discharge and related historical data from the Global Flood Aw…\u001b[0m\u001b[38;5;177m \u001b[0m│\n",
       "│\u001b[36m \u001b[0m\u001b[36m      EO.ESA.DAT.SENTINEL-5P.TROPOMI.L2\u001b[0m\u001b[36m \u001b[0m│\u001b[38;5;177m \u001b[0m\u001b[38;5;177mSENTINEL-5P TROPOMI Level 2                                          \u001b[0m\u001b[38;5;177m \u001b[0m│\n",
       "│\u001b[36m \u001b[0m\u001b[36m               EO.ECMWF.DAT.DT_EXTREMES\u001b[0m\u001b[36m \u001b[0m│\u001b[38;5;177m \u001b[0m\u001b[38;5;177mDestination Earth - Weather-Induced Extremes Digital Twin            \u001b[0m\u001b[38;5;177m \u001b[0m│\n",
       "│\u001b[36m \u001b[0m\u001b[36m             EO.CLMS.DAT.GLO.GDMP300_V1\u001b[0m\u001b[36m \u001b[0m│\u001b[38;5;177m \u001b[0m\u001b[38;5;177mGross Dry Matter Productivity 2014-present (raster 300 m), global, 1…\u001b[0m\u001b[38;5;177m \u001b[0m│\n",
       "│\u001b[36m \u001b[0m\u001b[36mEO.ECMWF.DAT.CAMS_GLOBAL_RADIATIVE_FOR…\u001b[0m\u001b[36m \u001b[0m│\u001b[38;5;177m \u001b[0m\u001b[38;5;177mCAMS global radiative forcing - auxilliary variables                 \u001b[0m\u001b[38;5;177m \u001b[0m│\n",
       "│\u001b[36m \u001b[0m\u001b[36m            EO.CLMS.DAT.GLO.NDVI_1KM_V2\u001b[0m\u001b[36m \u001b[0m│\u001b[38;5;177m \u001b[0m\u001b[38;5;177mNormalised Difference Vegetation Index 1998-2020 (raster 1 km), glob…\u001b[0m\u001b[38;5;177m \u001b[0m│\n",
       "│\u001b[36m \u001b[0m\u001b[36m          EO.ECMWF.DAT.ERA5_LAND_HOURLY\u001b[0m\u001b[36m \u001b[0m│\u001b[38;5;177m \u001b[0m\u001b[38;5;177mERA5-Land hourly data from 1950 to present                           \u001b[0m\u001b[38;5;177m \u001b[0m│\n",
       "│\u001b[36m \u001b[0m\u001b[36mSTAT.EUSTAT.DAT.GREENHOUSE_GAS_EMISSIO…\u001b[0m\u001b[36m \u001b[0m│\u001b[38;5;177m \u001b[0m\u001b[38;5;177mEurostat - Greenhouse gas emissions from agriculture                 \u001b[0m\u001b[38;5;177m \u001b[0m│\n",
       "│\u001b[36m \u001b[0m\u001b[36m              EO.CLMS.DAT.GLO.DMP300_V1\u001b[0m\u001b[36m \u001b[0m│\u001b[38;5;177m \u001b[0m\u001b[38;5;177mDry Matter Productivity 2014-present (raster 300 m), global, 10-dail…\u001b[0m\u001b[38;5;177m \u001b[0m│\n",
       "│\u001b[36m \u001b[0m\u001b[36m           EO.ESA.DAT.SENTINEL-1.L1_GRD\u001b[0m\u001b[36m \u001b[0m│\u001b[38;5;177m \u001b[0m\u001b[38;5;177mSENTINEL-1 Level 1 Ground Range Detected (GRD)                       \u001b[0m\u001b[38;5;177m \u001b[0m│\n",
       "│\u001b[36m \u001b[0m\u001b[36m      EO.EUM.DAT.SENTINEL-3.OL_1_EFR___\u001b[0m\u001b[36m \u001b[0m│\u001b[38;5;177m \u001b[0m\u001b[38;5;177mOLCI Level 1B Full Resolution - Sentinel-3                           \u001b[0m\u001b[38;5;177m \u001b[0m│\n",
       "│\u001b[36m \u001b[0m\u001b[36m             EO.ECMWF.DAT.EFAS_FORECAST\u001b[0m\u001b[36m \u001b[0m│\u001b[38;5;177m \u001b[0m\u001b[38;5;177mRiver discharge and related forecasted data by the European Flood Aw…\u001b[0m\u001b[38;5;177m \u001b[0m│\n",
       "│\u001b[36m \u001b[0m\u001b[36m                     EO.CLMS.DAT.CORINE\u001b[0m\u001b[36m \u001b[0m│\u001b[38;5;177m \u001b[0m\u001b[38;5;177mCORINE Land Cover                                                    \u001b[0m\u001b[38;5;177m \u001b[0m│\n",
       "│\u001b[36m \u001b[0m\u001b[36mEO.ECMWF.DAT.CAMS_EUROPE_AIR_QUALITY_R…\u001b[0m\u001b[36m \u001b[0m│\u001b[38;5;177m \u001b[0m\u001b[38;5;177mCAMS European air quality reanalyses                                 \u001b[0m\u001b[38;5;177m \u001b[0m│\n",
       "│\u001b[36m \u001b[0m\u001b[36m     EO.ECMWF.DAT.DT_CLIMATE_ADAPTATION\u001b[0m\u001b[36m \u001b[0m│\u001b[38;5;177m \u001b[0m\u001b[38;5;177mDestination Earth - Climate Change Adaptation Digital Twin           \u001b[0m\u001b[38;5;177m \u001b[0m│\n",
       "│\u001b[36m \u001b[0m\u001b[36m         EO.DEM.DAT.COP-DEM_GLO-30-DTED\u001b[0m\u001b[36m \u001b[0m│\u001b[38;5;177m \u001b[0m\u001b[38;5;177mCOPERNICUS Digital Elevation Model (DEM) 30 meters DTED              \u001b[0m\u001b[38;5;177m \u001b[0m│\n",
       "│\u001b[36m \u001b[0m\u001b[36mEO.ECMWF.DAT.ERA5_HOURLY_VARIABLES_ON_…\u001b[0m\u001b[36m \u001b[0m│\u001b[38;5;177m \u001b[0m\u001b[38;5;177mERA5 hourly data on pressure levels from 1940 to present             \u001b[0m\u001b[38;5;177m \u001b[0m│\n",
       "│\u001b[36m \u001b[0m\u001b[36m           EO.CLMS.DAT.GLO.FCOVER300_V1\u001b[0m\u001b[36m \u001b[0m│\u001b[38;5;177m \u001b[0m\u001b[38;5;177mFraction of Green Vegetation Cover 2014-present (raster 300 m), glob…\u001b[0m\u001b[38;5;177m \u001b[0m│\n",
       "│\u001b[36m \u001b[0m\u001b[36m      EO.ESA.DAT.SENTINEL-3.SR_2_LAN___\u001b[0m\u001b[36m \u001b[0m│\u001b[38;5;177m \u001b[0m\u001b[38;5;177mLevel 2 Land - SRAL/MWR - Sentinel-3                                 \u001b[0m\u001b[38;5;177m \u001b[0m│\n",
       "└─────────────────────────────────────────┴───────────────────────────────────────────────────────────────────────┘\n"
      ]
     },
     "metadata": {},
     "output_type": "display_data"
    }
   ],
   "source": [
    "from rich.console import Console\n",
    "import rich.table\n",
    "\n",
    "console = Console()\n",
    "\n",
    "hda_collections = cat.get_collections()\n",
    "\n",
    "table = rich.table.Table(title=\"HDA collections\", expand=True)\n",
    "table.add_column(\"ID\", style=\"cyan\", justify=\"right\",no_wrap=True)\n",
    "table.add_column(\"Title\", style=\"violet\", no_wrap=True)\n",
    "for collection in hda_collections:\n",
    "    table.add_row(collection.id, collection.title)\n",
    "console.print(table)"
   ]
  },
  {
   "cell_type": "markdown",
   "id": "19bf89a4-d6f2-4146-9316-a7355bc7a2e8",
   "metadata": {},
   "source": [
    "## Obtain provider information for each individual collection"
   ]
  },
  {
   "cell_type": "code",
   "execution_count": null,
   "id": "3f7ba61a-929a-422c-8552-80a56dfdc78c",
   "metadata": {
    "tags": []
   },
   "outputs": [],
   "source": [
    "table = rich.table.Table(title=\"HDA collections | Providers\", expand=True)\n",
    "table.add_column(\"Title\", style=\"cyan\", justify=\"right\", no_wrap=True)\n",
    "table.add_column(\"Provider\", style=\"violet\", no_wrap=True)\n",
    "\n",
    "hda_collections = cat.get_collections()\n",
    "\n",
    "for collection in hda_collections:\n",
    "    collection_details = cat.get_collection(collection.id)\n",
    "    provider = ','.join(str(x.name) for x in collection_details.providers)\n",
    "    table.add_row(collection_details.title, provider)\n",
    "console.print(table)"
   ]
  },
  {
   "cell_type": "markdown",
   "id": "6752ffb9-e2d6-4b40-a915-aac4332c35f6",
   "metadata": {},
   "source": [
    "## Inspect Items of a Collection\n",
    "The main functions for getting items return iterators, where pystac-client will handle retrieval of additional pages when needed. Note that one request is made for the first ten items, then a second request for the next ten."
   ]
  },
  {
   "cell_type": "code",
   "execution_count": 9,
   "id": "d0e5ac2c-0b2f-413f-8796-5e188a682910",
   "metadata": {
    "tags": []
   },
   "outputs": [
    {
     "data": {
      "text/html": [
       "<pre style=\"white-space:pre;overflow-x:auto;line-height:normal;font-family:Menlo,'DejaVu Sans Mono',consolas,'Courier New',monospace\">For collection EO.ESA.DAT.SENTINEL-<span style=\"color: #008080; text-decoration-color: #008080; font-weight: bold\">1.</span>L1_GRD we found <span style=\"color: #008080; text-decoration-color: #008080; font-weight: bold\">4</span> items\n",
       "</pre>\n"
      ],
      "text/plain": [
       "For collection EO.ESA.DAT.SENTINEL-\u001b[1;36m1.\u001b[0mL1_GRD we found \u001b[1;36m4\u001b[0m items\n"
      ]
     },
     "metadata": {},
     "output_type": "display_data"
    }
   ],
   "source": [
    "coll_name = 'EO.ESA.DAT.SENTINEL-1.L1_GRD'\n",
    "search = cat.search(\n",
    "    max_items=10,\n",
    "    collections=[coll_name],\n",
    "    bbox=[-72.5,40.5,-72,41],\n",
    "    datetime=\"2023-09-09T00:00:00Z/2023-09-20T23:59:59Z\"\n",
    ")\n",
    "\n",
    "coll_items = search.item_collection()\n",
    "console.print(f\"For collection {coll_name} we found {len(coll_items)} items\")"
   ]
  },
  {
   "cell_type": "code",
   "execution_count": 10,
   "id": "78886d42-883e-42f6-b00c-a5762d9cd93d",
   "metadata": {
    "tags": []
   },
   "outputs": [
    {
     "data": {
      "text/html": [
       "<div>\n",
       "<style scoped>\n",
       "    .dataframe tbody tr th:only-of-type {\n",
       "        vertical-align: middle;\n",
       "    }\n",
       "\n",
       "    .dataframe tbody tr th {\n",
       "        vertical-align: top;\n",
       "    }\n",
       "\n",
       "    .dataframe thead th {\n",
       "        text-align: right;\n",
       "    }\n",
       "</style>\n",
       "<table border=\"1\" class=\"dataframe\">\n",
       "  <thead>\n",
       "    <tr style=\"text-align: right;\">\n",
       "      <th></th>\n",
       "      <th>geometry</th>\n",
       "      <th>providers</th>\n",
       "      <th>datetime</th>\n",
       "      <th>start_datetime</th>\n",
       "      <th>end_datetime</th>\n",
       "      <th>updated</th>\n",
       "      <th>description</th>\n",
       "      <th>license</th>\n",
       "      <th>constellation</th>\n",
       "      <th>platform</th>\n",
       "      <th>...</th>\n",
       "      <th>processing:level</th>\n",
       "      <th>sat:orbit_state</th>\n",
       "      <th>sat:relative_orbit</th>\n",
       "      <th>sat:absolute_orbit</th>\n",
       "      <th>sar:product_type</th>\n",
       "      <th>sar:instrument_mode</th>\n",
       "      <th>oseo:sensorType</th>\n",
       "      <th>oseo:accessConstraint</th>\n",
       "      <th>oseo:swathIdentifier</th>\n",
       "      <th>oseo:polarizationMode</th>\n",
       "    </tr>\n",
       "  </thead>\n",
       "  <tbody>\n",
       "    <tr>\n",
       "      <th>0</th>\n",
       "      <td>POLYGON ((-72.73724 38.96255, -69.78494 39.365...</td>\n",
       "      <td>[{'name': 'dedl', 'description': 'DEDL Fresh D...</td>\n",
       "      <td>2023-09-09T22:43:00.443000Z</td>\n",
       "      <td>2023-09-09T22:43:00.443Z</td>\n",
       "      <td>2023-09-09T22:43:25.442Z</td>\n",
       "      <td>2023-09-10T03:08:53.952Z</td>\n",
       "      <td>The Sentinel-1 mission is the European Radar O...</td>\n",
       "      <td>proprietary</td>\n",
       "      <td>SENTINEL-1</td>\n",
       "      <td>S1A</td>\n",
       "      <td>...</td>\n",
       "      <td>LEVEL1</td>\n",
       "      <td>ASCENDING</td>\n",
       "      <td>135</td>\n",
       "      <td>50257</td>\n",
       "      <td>IW_GRDH_1S</td>\n",
       "      <td>IW</td>\n",
       "      <td>RADAR</td>\n",
       "      <td>{'licenseId': 'unlicensed', 'hasToBeSigned': '...</td>\n",
       "      <td>IW</td>\n",
       "      <td>VV&amp;VH</td>\n",
       "    </tr>\n",
       "    <tr>\n",
       "      <th>1</th>\n",
       "      <td>POLYGON ((-73.11689 40.46453, -70.09798 40.866...</td>\n",
       "      <td>[{'name': 'dedl', 'description': 'DEDL Fresh D...</td>\n",
       "      <td>2023-09-09T22:43:25.443000Z</td>\n",
       "      <td>2023-09-09T22:43:25.443Z</td>\n",
       "      <td>2023-09-09T22:43:50.442Z</td>\n",
       "      <td>2023-09-10T02:57:33.550Z</td>\n",
       "      <td>The Sentinel-1 mission is the European Radar O...</td>\n",
       "      <td>proprietary</td>\n",
       "      <td>SENTINEL-1</td>\n",
       "      <td>S1A</td>\n",
       "      <td>...</td>\n",
       "      <td>LEVEL1</td>\n",
       "      <td>ASCENDING</td>\n",
       "      <td>135</td>\n",
       "      <td>50257</td>\n",
       "      <td>IW_GRDH_1S</td>\n",
       "      <td>IW</td>\n",
       "      <td>RADAR</td>\n",
       "      <td>{'licenseId': 'unlicensed', 'hasToBeSigned': '...</td>\n",
       "      <td>IW</td>\n",
       "      <td>VV&amp;VH</td>\n",
       "    </tr>\n",
       "    <tr>\n",
       "      <th>2</th>\n",
       "      <td>POLYGON ((-74.73586 38.73753, -71.84171 39.134...</td>\n",
       "      <td>[{'name': 'dedl', 'description': 'DEDL Fresh D...</td>\n",
       "      <td>2023-09-14T22:51:10.454000Z</td>\n",
       "      <td>2023-09-14T22:51:10.454Z</td>\n",
       "      <td>2023-09-14T22:51:35.452Z</td>\n",
       "      <td>2023-09-15T01:30:12.125Z</td>\n",
       "      <td>The Sentinel-1 mission is the European Radar O...</td>\n",
       "      <td>proprietary</td>\n",
       "      <td>SENTINEL-1</td>\n",
       "      <td>S1A</td>\n",
       "      <td>...</td>\n",
       "      <td>LEVEL1</td>\n",
       "      <td>ASCENDING</td>\n",
       "      <td>33</td>\n",
       "      <td>50330</td>\n",
       "      <td>IW_GRDH_1S</td>\n",
       "      <td>IW</td>\n",
       "      <td>RADAR</td>\n",
       "      <td>{'licenseId': 'unlicensed', 'hasToBeSigned': '...</td>\n",
       "      <td>IW</td>\n",
       "      <td>VV&amp;VH</td>\n",
       "    </tr>\n",
       "    <tr>\n",
       "      <th>3</th>\n",
       "      <td>POLYGON ((-75.11328 40.23970, -72.15421 40.635...</td>\n",
       "      <td>[{'name': 'dedl', 'description': 'DEDL Fresh D...</td>\n",
       "      <td>2023-09-14T22:51:35.454000Z</td>\n",
       "      <td>2023-09-14T22:51:35.454Z</td>\n",
       "      <td>2023-09-14T22:52:00.453Z</td>\n",
       "      <td>2023-09-15T01:28:26.349Z</td>\n",
       "      <td>The Sentinel-1 mission is the European Radar O...</td>\n",
       "      <td>proprietary</td>\n",
       "      <td>SENTINEL-1</td>\n",
       "      <td>S1A</td>\n",
       "      <td>...</td>\n",
       "      <td>LEVEL1</td>\n",
       "      <td>ASCENDING</td>\n",
       "      <td>33</td>\n",
       "      <td>50330</td>\n",
       "      <td>IW_GRDH_1S</td>\n",
       "      <td>IW</td>\n",
       "      <td>RADAR</td>\n",
       "      <td>{'licenseId': 'unlicensed', 'hasToBeSigned': '...</td>\n",
       "      <td>IW</td>\n",
       "      <td>VV&amp;VH</td>\n",
       "    </tr>\n",
       "  </tbody>\n",
       "</table>\n",
       "<p>4 rows × 24 columns</p>\n",
       "</div>"
      ],
      "text/plain": [
       "                                            geometry  \\\n",
       "0  POLYGON ((-72.73724 38.96255, -69.78494 39.365...   \n",
       "1  POLYGON ((-73.11689 40.46453, -70.09798 40.866...   \n",
       "2  POLYGON ((-74.73586 38.73753, -71.84171 39.134...   \n",
       "3  POLYGON ((-75.11328 40.23970, -72.15421 40.635...   \n",
       "\n",
       "                                           providers  \\\n",
       "0  [{'name': 'dedl', 'description': 'DEDL Fresh D...   \n",
       "1  [{'name': 'dedl', 'description': 'DEDL Fresh D...   \n",
       "2  [{'name': 'dedl', 'description': 'DEDL Fresh D...   \n",
       "3  [{'name': 'dedl', 'description': 'DEDL Fresh D...   \n",
       "\n",
       "                      datetime            start_datetime  \\\n",
       "0  2023-09-09T22:43:00.443000Z  2023-09-09T22:43:00.443Z   \n",
       "1  2023-09-09T22:43:25.443000Z  2023-09-09T22:43:25.443Z   \n",
       "2  2023-09-14T22:51:10.454000Z  2023-09-14T22:51:10.454Z   \n",
       "3  2023-09-14T22:51:35.454000Z  2023-09-14T22:51:35.454Z   \n",
       "\n",
       "               end_datetime                   updated  \\\n",
       "0  2023-09-09T22:43:25.442Z  2023-09-10T03:08:53.952Z   \n",
       "1  2023-09-09T22:43:50.442Z  2023-09-10T02:57:33.550Z   \n",
       "2  2023-09-14T22:51:35.452Z  2023-09-15T01:30:12.125Z   \n",
       "3  2023-09-14T22:52:00.453Z  2023-09-15T01:28:26.349Z   \n",
       "\n",
       "                                         description      license  \\\n",
       "0  The Sentinel-1 mission is the European Radar O...  proprietary   \n",
       "1  The Sentinel-1 mission is the European Radar O...  proprietary   \n",
       "2  The Sentinel-1 mission is the European Radar O...  proprietary   \n",
       "3  The Sentinel-1 mission is the European Radar O...  proprietary   \n",
       "\n",
       "  constellation platform  ... processing:level  sat:orbit_state  \\\n",
       "0    SENTINEL-1      S1A  ...           LEVEL1        ASCENDING   \n",
       "1    SENTINEL-1      S1A  ...           LEVEL1        ASCENDING   \n",
       "2    SENTINEL-1      S1A  ...           LEVEL1        ASCENDING   \n",
       "3    SENTINEL-1      S1A  ...           LEVEL1        ASCENDING   \n",
       "\n",
       "  sat:relative_orbit  sat:absolute_orbit sar:product_type sar:instrument_mode  \\\n",
       "0                135               50257       IW_GRDH_1S                  IW   \n",
       "1                135               50257       IW_GRDH_1S                  IW   \n",
       "2                 33               50330       IW_GRDH_1S                  IW   \n",
       "3                 33               50330       IW_GRDH_1S                  IW   \n",
       "\n",
       "   oseo:sensorType                              oseo:accessConstraint  \\\n",
       "0            RADAR  {'licenseId': 'unlicensed', 'hasToBeSigned': '...   \n",
       "1            RADAR  {'licenseId': 'unlicensed', 'hasToBeSigned': '...   \n",
       "2            RADAR  {'licenseId': 'unlicensed', 'hasToBeSigned': '...   \n",
       "3            RADAR  {'licenseId': 'unlicensed', 'hasToBeSigned': '...   \n",
       "\n",
       "  oseo:swathIdentifier oseo:polarizationMode  \n",
       "0                   IW                 VV&VH  \n",
       "1                   IW                 VV&VH  \n",
       "2                   IW                 VV&VH  \n",
       "3                   IW                 VV&VH  \n",
       "\n",
       "[4 rows x 24 columns]"
      ]
     },
     "execution_count": 10,
     "metadata": {},
     "output_type": "execute_result"
    }
   ],
   "source": [
    "import geopandas\n",
    "\n",
    "df = geopandas.GeoDataFrame.from_features(coll_items.to_dict(), crs=\"epsg:4326\")\n",
    "df.head()\n",
    "\n"
   ]
  },
  {
   "cell_type": "markdown",
   "id": "ac905542-ea9b-4d11-af35-d4f1f5a48f37",
   "metadata": {},
   "source": [
    "## Inspect STAC assets of an item"
   ]
  },
  {
   "cell_type": "code",
   "execution_count": 11,
   "id": "e5f9056d-5aad-474f-ab3b-0fba1d9e2484",
   "metadata": {
    "tags": []
   },
   "outputs": [
    {
     "data": {
      "text/html": [
       "<pre style=\"white-space:pre;overflow-x:auto;line-height:normal;font-family:Menlo,'DejaVu Sans Mono',consolas,'Courier New',monospace\"><span style=\"font-style: italic\">                                                Assets in STAC Item                                                </span>\n",
       "┏━━━━━━━━━━━━━━━━━━━━━━━━━━━━━━━━━━━━━━━━━━━━━━━━━━━━━━━━━━━━━━━━━━━━━━━━━━━━━━━━━━━━━━━━━━━━━━━━━━━━━┳━━━━━━━━━━━┓\n",
       "┃<span style=\"font-weight: bold\"> Asset Key                                                                                           </span>┃<span style=\"font-weight: bold\"> Descript… </span>┃\n",
       "┡━━━━━━━━━━━━━━━━━━━━━━━━━━━━━━━━━━━━━━━━━━━━━━━━━━━━━━━━━━━━━━━━━━━━━━━━━━━━━━━━━━━━━━━━━━━━━━━━━━━━━╇━━━━━━━━━━━┩\n",
       "│<span style=\"color: #008080; text-decoration-color: #008080\"> downloadLink                                                                                        </span>│ Download  │\n",
       "│<span style=\"color: #008080; text-decoration-color: #008080\">                                                                                                     </span>│ link      │\n",
       "│<span style=\"color: #008080; text-decoration-color: #008080\"> S1A_IW_GRDH_1SDV_20230914T225135_20230914T225200_050330_060F40_9F54.SAFE-report-20230915T011838.pdf </span>│ S1A_IW_G… │\n",
       "│<span style=\"color: #008080; text-decoration-color: #008080\"> calibration-s1a-iw-grd-vh-20230914t225135-20230914t225200-050330-060f40-002.xml                     </span>│ calibrat… │\n",
       "│<span style=\"color: #008080; text-decoration-color: #008080\"> calibration-s1a-iw-grd-vv-20230914t225135-20230914t225200-050330-060f40-001.xml                     </span>│ calibrat… │\n",
       "│<span style=\"color: #008080; text-decoration-color: #008080\"> noise-s1a-iw-grd-vh-20230914t225135-20230914t225200-050330-060f40-002.xml                           </span>│ noise-s1… │\n",
       "│<span style=\"color: #008080; text-decoration-color: #008080\"> noise-s1a-iw-grd-vv-20230914t225135-20230914t225200-050330-060f40-001.xml                           </span>│ noise-s1… │\n",
       "│<span style=\"color: #008080; text-decoration-color: #008080\"> rfi-s1a-iw-grd-vh-20230914t225135-20230914t225200-050330-060f40-002.xml                             </span>│ rfi-s1a-… │\n",
       "│<span style=\"color: #008080; text-decoration-color: #008080\"> rfi-s1a-iw-grd-vv-20230914t225135-20230914t225200-050330-060f40-001.xml                             </span>│ rfi-s1a-… │\n",
       "│<span style=\"color: #008080; text-decoration-color: #008080\"> s1a-iw-grd-vh-20230914t225135-20230914t225200-050330-060f40-002.xml                                 </span>│ s1a-iw-g… │\n",
       "│<span style=\"color: #008080; text-decoration-color: #008080\"> s1a-iw-grd-vv-20230914t225135-20230914t225200-050330-060f40-001.xml                                 </span>│ s1a-iw-g… │\n",
       "│<span style=\"color: #008080; text-decoration-color: #008080\"> manifest.safe                                                                                       </span>│ manifest… │\n",
       "│<span style=\"color: #008080; text-decoration-color: #008080\"> s1a-iw-grd-vh-20230914t225135-20230914t225200-050330-060f40-002.tiff                                </span>│ s1a-iw-g… │\n",
       "│<span style=\"color: #008080; text-decoration-color: #008080\"> s1a-iw-grd-vv-20230914t225135-20230914t225200-050330-060f40-001.tiff                                </span>│ s1a-iw-g… │\n",
       "│<span style=\"color: #008080; text-decoration-color: #008080\"> logo.png                                                                                            </span>│ logo.png  │\n",
       "│<span style=\"color: #008080; text-decoration-color: #008080\"> map-overlay.kml                                                                                     </span>│ map-over… │\n",
       "│<span style=\"color: #008080; text-decoration-color: #008080\"> product-preview.html                                                                                </span>│ product-… │\n",
       "│<span style=\"color: #008080; text-decoration-color: #008080\"> quick-look.png                                                                                      </span>│ quick-lo… │\n",
       "│<span style=\"color: #008080; text-decoration-color: #008080\"> thumbnail.png                                                                                       </span>│ thumbnai… │\n",
       "│<span style=\"color: #008080; text-decoration-color: #008080\"> s1-level-1-calibration.xsd                                                                          </span>│ s1-level… │\n",
       "│<span style=\"color: #008080; text-decoration-color: #008080\"> s1-level-1-measurement.xsd                                                                          </span>│ s1-level… │\n",
       "│<span style=\"color: #008080; text-decoration-color: #008080\"> s1-level-1-noise.xsd                                                                                </span>│ s1-level… │\n",
       "│<span style=\"color: #008080; text-decoration-color: #008080\"> s1-level-1-product.xsd                                                                              </span>│ s1-level… │\n",
       "│<span style=\"color: #008080; text-decoration-color: #008080\"> s1-level-1-quicklook.xsd                                                                            </span>│ s1-level… │\n",
       "│<span style=\"color: #008080; text-decoration-color: #008080\"> s1-level-1-rfi.xsd                                                                                  </span>│ s1-level… │\n",
       "│<span style=\"color: #008080; text-decoration-color: #008080\"> s1-map-overlay.xsd                                                                                  </span>│ s1-map-o… │\n",
       "│<span style=\"color: #008080; text-decoration-color: #008080\"> s1-object-types.xsd                                                                                 </span>│ s1-objec… │\n",
       "│<span style=\"color: #008080; text-decoration-color: #008080\"> s1-product-preview.xsd                                                                              </span>│ s1-produ… │\n",
       "│<span style=\"color: #008080; text-decoration-color: #008080\"> thumbnail                                                                                           </span>│ Thumbnail │\n",
       "└─────────────────────────────────────────────────────────────────────────────────────────────────────┴───────────┘\n",
       "</pre>\n"
      ],
      "text/plain": [
       "\u001b[3m                                                Assets in STAC Item                                                \u001b[0m\n",
       "┏━━━━━━━━━━━━━━━━━━━━━━━━━━━━━━━━━━━━━━━━━━━━━━━━━━━━━━━━━━━━━━━━━━━━━━━━━━━━━━━━━━━━━━━━━━━━━━━━━━━━━┳━━━━━━━━━━━┓\n",
       "┃\u001b[1m \u001b[0m\u001b[1mAsset Key                                                                                          \u001b[0m\u001b[1m \u001b[0m┃\u001b[1m \u001b[0m\u001b[1mDescript…\u001b[0m\u001b[1m \u001b[0m┃\n",
       "┡━━━━━━━━━━━━━━━━━━━━━━━━━━━━━━━━━━━━━━━━━━━━━━━━━━━━━━━━━━━━━━━━━━━━━━━━━━━━━━━━━━━━━━━━━━━━━━━━━━━━━╇━━━━━━━━━━━┩\n",
       "│\u001b[36m \u001b[0m\u001b[36mdownloadLink                                                                                       \u001b[0m\u001b[36m \u001b[0m│ Download  │\n",
       "│\u001b[36m                                                                                                     \u001b[0m│ link      │\n",
       "│\u001b[36m \u001b[0m\u001b[36mS1A_IW_GRDH_1SDV_20230914T225135_20230914T225200_050330_060F40_9F54.SAFE-report-20230915T011838.pdf\u001b[0m\u001b[36m \u001b[0m│ S1A_IW_G… │\n",
       "│\u001b[36m \u001b[0m\u001b[36mcalibration-s1a-iw-grd-vh-20230914t225135-20230914t225200-050330-060f40-002.xml                    \u001b[0m\u001b[36m \u001b[0m│ calibrat… │\n",
       "│\u001b[36m \u001b[0m\u001b[36mcalibration-s1a-iw-grd-vv-20230914t225135-20230914t225200-050330-060f40-001.xml                    \u001b[0m\u001b[36m \u001b[0m│ calibrat… │\n",
       "│\u001b[36m \u001b[0m\u001b[36mnoise-s1a-iw-grd-vh-20230914t225135-20230914t225200-050330-060f40-002.xml                          \u001b[0m\u001b[36m \u001b[0m│ noise-s1… │\n",
       "│\u001b[36m \u001b[0m\u001b[36mnoise-s1a-iw-grd-vv-20230914t225135-20230914t225200-050330-060f40-001.xml                          \u001b[0m\u001b[36m \u001b[0m│ noise-s1… │\n",
       "│\u001b[36m \u001b[0m\u001b[36mrfi-s1a-iw-grd-vh-20230914t225135-20230914t225200-050330-060f40-002.xml                            \u001b[0m\u001b[36m \u001b[0m│ rfi-s1a-… │\n",
       "│\u001b[36m \u001b[0m\u001b[36mrfi-s1a-iw-grd-vv-20230914t225135-20230914t225200-050330-060f40-001.xml                            \u001b[0m\u001b[36m \u001b[0m│ rfi-s1a-… │\n",
       "│\u001b[36m \u001b[0m\u001b[36ms1a-iw-grd-vh-20230914t225135-20230914t225200-050330-060f40-002.xml                                \u001b[0m\u001b[36m \u001b[0m│ s1a-iw-g… │\n",
       "│\u001b[36m \u001b[0m\u001b[36ms1a-iw-grd-vv-20230914t225135-20230914t225200-050330-060f40-001.xml                                \u001b[0m\u001b[36m \u001b[0m│ s1a-iw-g… │\n",
       "│\u001b[36m \u001b[0m\u001b[36mmanifest.safe                                                                                      \u001b[0m\u001b[36m \u001b[0m│ manifest… │\n",
       "│\u001b[36m \u001b[0m\u001b[36ms1a-iw-grd-vh-20230914t225135-20230914t225200-050330-060f40-002.tiff                               \u001b[0m\u001b[36m \u001b[0m│ s1a-iw-g… │\n",
       "│\u001b[36m \u001b[0m\u001b[36ms1a-iw-grd-vv-20230914t225135-20230914t225200-050330-060f40-001.tiff                               \u001b[0m\u001b[36m \u001b[0m│ s1a-iw-g… │\n",
       "│\u001b[36m \u001b[0m\u001b[36mlogo.png                                                                                           \u001b[0m\u001b[36m \u001b[0m│ logo.png  │\n",
       "│\u001b[36m \u001b[0m\u001b[36mmap-overlay.kml                                                                                    \u001b[0m\u001b[36m \u001b[0m│ map-over… │\n",
       "│\u001b[36m \u001b[0m\u001b[36mproduct-preview.html                                                                               \u001b[0m\u001b[36m \u001b[0m│ product-… │\n",
       "│\u001b[36m \u001b[0m\u001b[36mquick-look.png                                                                                     \u001b[0m\u001b[36m \u001b[0m│ quick-lo… │\n",
       "│\u001b[36m \u001b[0m\u001b[36mthumbnail.png                                                                                      \u001b[0m\u001b[36m \u001b[0m│ thumbnai… │\n",
       "│\u001b[36m \u001b[0m\u001b[36ms1-level-1-calibration.xsd                                                                         \u001b[0m\u001b[36m \u001b[0m│ s1-level… │\n",
       "│\u001b[36m \u001b[0m\u001b[36ms1-level-1-measurement.xsd                                                                         \u001b[0m\u001b[36m \u001b[0m│ s1-level… │\n",
       "│\u001b[36m \u001b[0m\u001b[36ms1-level-1-noise.xsd                                                                               \u001b[0m\u001b[36m \u001b[0m│ s1-level… │\n",
       "│\u001b[36m \u001b[0m\u001b[36ms1-level-1-product.xsd                                                                             \u001b[0m\u001b[36m \u001b[0m│ s1-level… │\n",
       "│\u001b[36m \u001b[0m\u001b[36ms1-level-1-quicklook.xsd                                                                           \u001b[0m\u001b[36m \u001b[0m│ s1-level… │\n",
       "│\u001b[36m \u001b[0m\u001b[36ms1-level-1-rfi.xsd                                                                                 \u001b[0m\u001b[36m \u001b[0m│ s1-level… │\n",
       "│\u001b[36m \u001b[0m\u001b[36ms1-map-overlay.xsd                                                                                 \u001b[0m\u001b[36m \u001b[0m│ s1-map-o… │\n",
       "│\u001b[36m \u001b[0m\u001b[36ms1-object-types.xsd                                                                                \u001b[0m\u001b[36m \u001b[0m│ s1-objec… │\n",
       "│\u001b[36m \u001b[0m\u001b[36ms1-product-preview.xsd                                                                             \u001b[0m\u001b[36m \u001b[0m│ s1-produ… │\n",
       "│\u001b[36m \u001b[0m\u001b[36mthumbnail                                                                                          \u001b[0m\u001b[36m \u001b[0m│ Thumbnail │\n",
       "└─────────────────────────────────────────────────────────────────────────────────────────────────────┴───────────┘\n"
      ]
     },
     "metadata": {},
     "output_type": "display_data"
    }
   ],
   "source": [
    "import rich.table\n",
    "\n",
    "selected_item = coll_items[3]\n",
    "\n",
    "table = rich.table.Table(title=\"Assets in STAC Item\")\n",
    "table.add_column(\"Asset Key\", style=\"cyan\", no_wrap=True)\n",
    "table.add_column(\"Description\")\n",
    "for asset_key, asset in selected_item.assets.items():\n",
    "    table.add_row(asset_key, asset.title)\n",
    "\n",
    "console.print(table)"
   ]
  },
  {
   "cell_type": "code",
   "execution_count": 12,
   "id": "85792346-fed7-4147-9a9c-c68ae5936f48",
   "metadata": {
    "tags": []
   },
   "outputs": [
    {
     "data": {
      "text/html": [
       "<img src=\"https://datahub.creodias.eu/get-object?path=/Sentinel-1/SAR/IW_GRDH_1S/2023/09/14/S1A_IW_GRDH_1SDV_20230914T225135_20230914T225200_050330_060F40_9F54.SAFE/preview/thumbnail.png\" width=\"500\"/>"
      ],
      "text/plain": [
       "<IPython.core.display.Image object>"
      ]
     },
     "execution_count": 12,
     "metadata": {},
     "output_type": "execute_result"
    }
   ],
   "source": [
    "from IPython.display import Image\n",
    "\n",
    "Image(url=selected_item.assets[\"thumbnail\"].href, width=500)"
   ]
  },
  {
   "cell_type": "code",
   "execution_count": 13,
   "id": "5638bbd0-ba90-43d3-a7b5-57510803cf3d",
   "metadata": {
    "tags": []
   },
   "outputs": [
    {
     "data": {
      "text/html": [
       "<pre style=\"white-space:pre;overflow-x:auto;line-height:normal;font-family:Menlo,'DejaVu Sans Mono',consolas,'Courier New',monospace\">Download link of asset is \n",
       "<span style=\"color: #0000ff; text-decoration-color: #0000ff; text-decoration: underline\">https://hda.data.destination-earth.eu/stac/collections/EO.ESA.DAT.SENTINEL-1.L1_GRD/items/S1A_IW_GRDH_1SDV_20230914</span>\n",
       "<span style=\"color: #0000ff; text-decoration-color: #0000ff; text-decoration: underline\">T225135_20230914T225200_050330_060F40_9F54/download</span>\n",
       "</pre>\n"
      ],
      "text/plain": [
       "Download link of asset is \n",
       "\u001b[4;94mhttps://hda.data.destination-earth.eu/stac/collections/EO.ESA.DAT.SENTINEL-1.L1_GRD/items/S1A_IW_GRDH_1SDV_20230914\u001b[0m\n",
       "\u001b[4;94mT225135_20230914T225200_050330_060F40_9F54/download\u001b[0m\n"
      ]
     },
     "metadata": {},
     "output_type": "display_data"
    }
   ],
   "source": [
    "down_uri = selected_item.assets[\"downloadLink\"].href\n",
    "console.print(f\"Download link of asset is {down_uri}\")"
   ]
  },
  {
   "cell_type": "markdown",
   "id": "8c6b2721-0ad1-46eb-a68f-fc542e4145eb",
   "metadata": {},
   "source": [
    "### Download asset to JupyterLab"
   ]
  },
  {
   "cell_type": "code",
   "execution_count": 14,
   "id": "3055bb40-d41b-4369-ba01-8e06f698406d",
   "metadata": {
    "tags": []
   },
   "outputs": [
    {
     "data": {
      "text/plain": [
       "'S1A_IW_GRDH_1SDV_20230914T225135_20230914T225200_050330_060F40_9F54'"
      ]
     },
     "execution_count": 14,
     "metadata": {},
     "output_type": "execute_result"
    }
   ],
   "source": [
    "selected_item.id"
   ]
  },
  {
   "cell_type": "code",
   "execution_count": 15,
   "id": "dc2031b9-7288-4326-bb12-0509f05f92b4",
   "metadata": {
    "tags": []
   },
   "outputs": [
    {
     "data": {
      "text/html": [
       "\n",
       "\n",
       "<style>\n",
       ".pystac-summary {\n",
       "    cursor: pointer;\n",
       "    display:list-item;\n",
       "}\n",
       ".pystac-key {\n",
       "    color: rgb(0, 128, 0);\n",
       "    font-weight: 700;\n",
       "}\n",
       ".pystac-key-value {\n",
       "    display: inline-block;\n",
       "    margin: 0px 0.5em 0px 0px;\n",
       "}\n",
       "</style>\n",
       "<div class=\"jp-RenderedJSON jp-mod-trusted jp-OutputArea-output\">\n",
       "    <div class=\"container\" style=\"line-height: normal;\">\n",
       "        <ul style=\"padding: 0px; margin: 0px; list-style: none; display: block;\">\n",
       "            \n",
       "                \n",
       "                    \n",
       "        <li style=\"overflow-wrap: break-word; padding-left: 2.125em; text-indent: -0.5em;\">\n",
       "            <span class=\"pystac-key pystac-key-value\">href</span>\n",
       "            <span style=\"color: rgb(186, 33, 33);\">\"https://hda.data.destination-earth.eu/stac/collections/EO.ESA.DAT.SENTINEL-1.L1_GRD/items/S1A_IW_GRDH_1SDV_20230914T225135_20230914T225200_050330_060F40_9F54/download\"</span>\n",
       "        </li>\n",
       "    \n",
       "                \n",
       "            \n",
       "                \n",
       "                    \n",
       "        <li style=\"overflow-wrap: break-word; padding-left: 2.125em; text-indent: -0.5em;\">\n",
       "            <span class=\"pystac-key pystac-key-value\">type</span>\n",
       "            <span style=\"color: rgb(186, 33, 33);\">\"application/zip\"</span>\n",
       "        </li>\n",
       "    \n",
       "                \n",
       "            \n",
       "                \n",
       "                    \n",
       "        <li style=\"overflow-wrap: break-word; padding-left: 2.125em; text-indent: -0.5em;\">\n",
       "            <span class=\"pystac-key pystac-key-value\">title</span>\n",
       "            <span style=\"color: rgb(186, 33, 33);\">\"Download link\"</span>\n",
       "        </li>\n",
       "    \n",
       "                \n",
       "            \n",
       "        </ul>\n",
       "    </div>\n",
       "</div>"
      ],
      "text/plain": [
       "<Asset href=https://hda.data.destination-earth.eu/stac/collections/EO.ESA.DAT.SENTINEL-1.L1_GRD/items/S1A_IW_GRDH_1SDV_20230914T225135_20230914T225200_050330_060F40_9F54/download>"
      ]
     },
     "execution_count": 15,
     "metadata": {},
     "output_type": "execute_result"
    }
   ],
   "source": [
    "selected_item.assets[\"downloadLink\"]"
   ]
  },
  {
   "cell_type": "code",
   "execution_count": null,
   "id": "27b91eaa-475d-4214-bd1d-598e31cfc2ab",
   "metadata": {
    "tags": []
   },
   "outputs": [],
   "source": [
    "# Make http request for remote file data\n",
    "data = requests.get(selected_item.assets[\"downloadLink\"].href,\n",
    "                   headers=auth_headers)\n",
    "mtype = selected_item.assets[\"downloadLink\"].media_type.split(\"/\")[1]\n",
    "# Save file data to local copy\n",
    "with open(f\"{selected_item.id}.{mtype}\", 'wb')as file:\n",
    "    file.write(data.content)"
   ]
  },
  {
   "cell_type": "code",
   "execution_count": null,
   "id": "ae6a3637-5679-43a2-8486-bcb94a70c98b",
   "metadata": {},
   "outputs": [],
   "source": []
  }
 ],
 "metadata": {
  "kernelspec": {
   "display_name": "Python 3 (ipykernel)",
   "language": "python",
   "name": "python3"
  },
  "language_info": {
   "codemirror_mode": {
    "name": "ipython",
    "version": 3
   },
   "file_extension": ".py",
   "mimetype": "text/x-python",
   "name": "python",
   "nbconvert_exporter": "python",
   "pygments_lexer": "ipython3",
   "version": "3.11.4"
  }
 },
 "nbformat": 4,
 "nbformat_minor": 5
}
