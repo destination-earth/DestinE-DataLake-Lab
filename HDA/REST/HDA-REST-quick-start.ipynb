{
 "cells": [
  {
   "cell_type": "markdown",
   "id": "d52c1e69-af38-41ac-ae9f-0ed1cf1dccfa",
   "metadata": {
    "tags": []
   },
   "source": [
    "![](https://github.com/destination-earth/DestinE-DataLake-Lab/blob/main/img/DestinE-banner.jpg?raw=true)"
   ]
  },
  {
   "cell_type": "markdown",
   "id": "4b66f898-d0a3-436c-9bd0-4215d3b3bd37",
   "metadata": {},
   "source": [
    "\n",
    "\n",
    "# DEDL - HDA Tutorial - quick start"
   ]
  },
  {
   "cell_type": "markdown",
   "id": "5c91ac8f-ce83-4434-bc3c-81dec0349c41",
   "metadata": {},
   "source": [
    "**Author**: EUMETSAT <br>\n",
    "**Copyright**: 2024 EUMETSAT <br>\n",
    "**Licence**: MIT <br>"
   ]
  },
  {
   "cell_type": "markdown",
   "id": "1ea7645a-8308-4dbf-a8b7-0be00ace1e28",
   "metadata": {},
   "source": [
    "<div class=\"alert alert-block alert-success\">\n",
    "<h3>First steps using Harmonised Data access API</h3>\n",
    "<li> Discover Data of DestinE Data Portfolio </li>\n",
    "<li> Access Data of DestinE Data Portfolio </li>\n",
    "</div>"
   ]
  },
  {
   "cell_type": "markdown",
   "id": "5fb479bc-1cd9-41c5-863c-c1c44f0c80a3",
   "metadata": {},
   "source": [
    "This notebook demonstrates how to use the HDA (Harmonized Data Access) API by sending a few HTTP requests to the API, using Python code."
   ]
  },
  {
   "cell_type": "markdown",
   "id": "34c07187-aabf-430a-8fbc-b434a2bfd34f",
   "metadata": {},
   "source": [
    "Throughout this quickstart notebook, you will learn:\n",
    "\n",
    "1. [Discover](#Discover): How to discover *DEDL* collections and services through HDA.\n",
    "2. [Authenticate](#Authenticate): How to authenticate fro searching and access *DEDL* collections. \n",
    "3. [Search data](#Search):  How to search *DEDL* data through HDA.\n",
    "4. [Download data](#Download): How to download *DEDL* data through HDA.\n",
    "\n",
    "The detailed API and definition of each endpoint and parameters is available in the HDA Swagger UI at:\n",
    "\n",
    "https://hda.data.destination-earth.eu/docs/"
   ]
  },
  {
   "cell_type": "markdown",
   "id": "82529b78-4e09-401f-9018-d23b5e5fc619",
   "metadata": {},
   "source": [
    "<div class=\"alert alert-block alert-warning\">\n",
    "<b> Prerequisites: </b>\n",
    "<li> For Data discovery: none </li>\n",
    "<li> For Data access : <a href=\"https://platform.destine.eu/\"> DestinE user account</a> </li>\n",
    "</div>"
   ]
  },
  {
   "cell_type": "markdown",
   "id": "4bf52238-934b-4e73-a2ae-df73ce749852",
   "metadata": {},
   "source": [
    "## Discover"
   ]
  },
  {
   "cell_type": "markdown",
   "id": "08f75c5f-2831-483c-8708-2b9465b4575d",
   "metadata": {},
   "source": [
    "### Import the relevant modules"
   ]
  },
  {
   "cell_type": "code",
   "execution_count": 2,
   "id": "7df969e5-638f-4642-a5d4-a0f21f1e5bde",
   "metadata": {
    "tags": []
   },
   "outputs": [],
   "source": [
    "import requests\n",
    "import json\n",
    "from getpass import getpass\n",
    "from tqdm import tqdm\n",
    "import time\n",
    "import re\n",
    "\n",
    "import destinelab as deauth\n",
    "\n",
    "from IPython.display import JSON"
   ]
  },
  {
   "cell_type": "markdown",
   "id": "10447de7-0b08-442a-81c5-e67974a0bbe9",
   "metadata": {},
   "source": [
    "### Define some constants for the API URL"
   ]
  },
  {
   "cell_type": "code",
   "execution_count": 3,
   "id": "ea55a16c-5907-44be-962f-49a551d54400",
   "metadata": {},
   "outputs": [],
   "source": [
    "# Define the collection to be used\n",
    "COLLECTION_ID = \"EO.EUM.DAT.SENTINEL-3.OL_2_WRR___\"\n",
    "\n",
    "# Core API\n",
    "HDA_API_URL = \"https://hda.data.destination-earth.eu\"\n",
    "\n",
    "# STAC API\n",
    "## Core\n",
    "STAC_API_URL = f\"{HDA_API_URL}/stac\"\n",
    "\n",
    "## Collections\n",
    "COLLECTIONS_URL = f\"{STAC_API_URL}/collections\"\n",
    "COLLECTION_BY_ID_URL = f\"{COLLECTIONS_URL}/{COLLECTION_ID}\"\n",
    "\n",
    "## Items\n",
    "COLLECTION_ITEMS_URL = f\"{COLLECTIONS_URL}/{COLLECTION_ID}/items\"\n",
    "\n",
    "## Item Search\n",
    "SEARCH_URL = f\"{STAC_API_URL}/search\"\n",
    "\n",
    "## HTTP Success\n",
    "HTTP_SUCCESS_CODE = 200"
   ]
  },
  {
   "cell_type": "markdown",
   "id": "6c4a3e9e-fae6-48b5-96e9-593830bf250d",
   "metadata": {},
   "source": [
    "### Discover data\n",
    "\n",
    "Below an example for discovering collections concerning Chlorophyll-a Concentration and algal pigment."
   ]
  },
  {
   "cell_type": "code",
   "execution_count": 4,
   "id": "c453b5d9-e60d-4634-afa5-d675dd5f4c36",
   "metadata": {},
   "outputs": [
    {
     "data": {
      "application/json": {
       "collections": [
        {
         "assets": {
          "thumbnail": {
           "href": "https://object-store.os-api.cci2.ecmwf.int/cci2-prod-catalogue/resources/cams-solar-radiation-timeseries/overview_51b05dc9c04479bfe717483ad887ef69461fc77410257222a19775cf68790cce.png",
           "roles": [
            "thumbnail"
           ],
           "title": "overview",
           "type": "image/png"
          }
         },
         "dedl:short_description": "The CAMS solar radiation services provide historical values (2004 to present) of global (GHI), direct (BHI) and diffuse (DHI) solar irradiation, as well as direct normal irradiation (BNI).",
         "description": "The CAMS solar radiation services provide historical values (2004 to present) of global (GHI), direct (BHI) and diffuse (DHI) solar irradiation, as well as direct normal irradiation (BNI). The aim is to fulfil the needs of European and national policy development and the requirements of both commercial and public downstream services, e.g. for planning, monitoring, efficiency improvements and the integration of solar energy systems into energy supply grids.\nFor clear-sky conditions, an irradiation time series is provided for any location in the world using information on aerosol, ozone and water vapour from the CAMS global forecasting system. Other properties, such as ground albedo and ground elevation, are also taken into account. Similar time series are available for cloudy (or \"all sky\") conditions but, since the high-resolution cloud information is directly inferred from satellite observations, these are currently only available inside the field-of-view of the Meteosat Second Generation (MSG) satellite, which is roughly Europe, Africa, the Atlantic Ocean and the Middle East.\nData is offered in both ASCII and netCDF format. Additionally, an ASCII \"expert mode\" format can be selected which contains in addition to the irradiation, all the input data used in their calculation (aerosol optical properties, water vapour concentration, etc). This additional information is only meaningful in the time frame at which the calculation is performed and so is only available at 1-minute time steps in universal time (UT).",
         "extent": {
          "spatial": {
           "bbox": [
            [
             -180,
             -90,
             180,
             90
            ]
           ]
          },
          "temporal": {
           "interval": [
            [
             "2004-02-01T00:00:00Z",
             null
            ]
           ]
          }
         },
         "id": "EO.ECMWF.DAT.CAMS_SOLAR_RADIATION_TIMESERIES",
         "keywords": [
          "Satellite image area",
          "Atmospheric conditions",
          "Analysis",
          "Solar radiation",
          "Past",
          "Global",
          "Radiation",
          "airPollution"
         ],
         "license": "proprietary",
         "links": [
          {
           "href": "https://ads.atmosphere.copernicus.eu/api/v2/terms/static/licence-to-use-copernicus-products.pdf",
           "rel": "license",
           "title": "Licence to Use Copernicus Products"
          },
          {
           "href": "https://ads.atmosphere.copernicus.eu/cdsapp#!/dataset/cams-solar-radiation-timeseries?tab=overview",
           "rel": "cite-as",
           "title": "CAMS solar radiation time-series"
          },
          {
           "href": "https://confluence.ecmwf.int/x/jOLjDw",
           "rel": "describedby",
           "title": "CAMS solar radiation time-series: data documentation"
          },
          {
           "href": "https://atmosphere.copernicus.eu/supplementary-services#fa6856b7-a306-4cc4-9137-f3e0cb703093",
           "rel": "describedby",
           "title": "Evaluation and quality assurance (EQA) reports"
          },
          {
           "href": "https://doi.org/10.1127/metz/2022/1132",
           "rel": "cite-as",
           "title": "Surface solar irradiation retrieval from MSG/SEVIRI based on APOLLO Next Generation and HELIOSAT‑4 methods"
          },
          {
           "href": "https://doi.org/10.1127/metz/2016/0781",
           "rel": "cite-as",
           "title": "Fast radiative transfer parameterisation for assessing the surface solar irradiance: The Heliosat‑4 method"
          },
          {
           "href": "https://hda.data.destination-earth.eu/stac/collections/EO.ECMWF.DAT.CAMS_SOLAR_RADIATION_TIMESERIES",
           "rel": "self",
           "title": "EO.ECMWF.DAT.CAMS_SOLAR_RADIATION_TIMESERIES"
          },
          {
           "href": "https://hda.data.destination-earth.eu/stac/",
           "rel": "root"
          },
          {
           "href": "https://hda.data.destination-earth.eu/stac/collections/EO.ECMWF.DAT.CAMS_SOLAR_RADIATION_TIMESERIES/items",
           "rel": "items",
           "title": "items"
          }
         ],
         "providers": [
          {
           "name": "European Centre for Medium-Range Weather Forecasts (ECMWF)",
           "roles": [
            "licensor",
            "producer",
            "processor"
           ],
           "url": "https://www.ecmwf.int/"
          },
          {
           "name": "copernicus_atmosphere_data_store",
           "roles": [
            "host"
           ],
           "url": "https://ads.atmosphere.copernicus.eu/"
          },
          {
           "name": "wekeo",
           "roles": [
            "host"
           ],
           "url": "https://www.wekeo.eu/"
          }
         ],
         "stac_extensions": [
          "https://stac-extensions.github.io/scientific/v1.0.0/schema.json"
         ],
         "stac_version": "1.0.0",
         "title": "CAMS solar radiation time-series",
         "type": "Collection"
        },
        {
         "assets": {
          "thumbnail": {
           "href": "https://object-store.os-api.cci2.ecmwf.int/cci2-prod-catalogue/resources/satellite-carbon-dioxide/overview_c7da6512e3b4771cca9e37bd5c22213bc650818c85cbe05e034672d32c07aa6b.png",
           "roles": [
            "thumbnail"
           ],
           "title": "overview",
           "type": "image/png"
          }
         },
         "dedl:short_description": "This dataset provides observations of atmospheric carbon dioxide (CO2) amounts obtained from observations collected by several current and historical satellite instruments.",
         "description": "This dataset provides observations of atmospheric carbon dioxide (CO2)\namounts obtained from observations collected by several current and historical \nsatellite instruments. Carbon dioxide is a naturally occurring Greenhouse Gas (GHG), but one whose abundance has been increased substantially above its pre-industrial value of some 280 ppm by human activities, primarily because of emissions from combustion of fossil fuels, deforestation and other land-use change. The annual cycle (especially in the northern hemisphere) is primarily due to seasonal uptake and release of atmospheric CO2 by terrestrial vegetation.\nAtmospheric carbon dioxide abundance is indirectly observed by various satellite instruments. These instruments measure spectrally resolved near-infrared and/or infrared radiation reflected or emitted by the Earth and its atmosphere. In the measured signal, molecular absorption signatures from carbon dioxide and other constituent gasses can be identified. It is through analysis of those absorption lines in these radiance observations that the averaged carbon dioxide abundance in the sampled atmospheric column can be determined.\nThe software used to analyse the absorption lines and determine the carbon dioxide concentration in the sampled atmospheric column is referred to as the retrieval algorithm. For this dataset, carbon dioxide abundances have been determined by applying several algorithms to different satellite \ninstruments. Typically, different algorithms have different strengths and weaknesses and therefore, which product to use for a given application typically depends on the application.\nThe data set consists of 2 types of products: (i) column-averaged mixing ratios of CO2, denoted XCO2 and (ii) mid-tropospheric CO2 columns.  The XCO2 products have been retrieved from SCIAMACHY/ENVISAT, TANSO-FTS/GOSAT and OCO-2. The mid-tropospheric CO2 product has been retrieved from the IASI instruments on-board the Metop satellite series and from AIRS. \nThe XCO2 products are available as Level 2 (L2) products (satellite orbit tracks) and as Level 3 (L3) product (gridded). The L2 products are available as individual sensor products (SCIAMACHY: BESD and WFMD algorithms; GOSAT: OCFP and SRFP algorithms) and as a multi-sensor merged product (EMMA algorithm). The L3 XCO2 product is provided in OBS4MIPS format. \nThe IASI and AIRS products are available as L2 products generated with the NLIS algorithm.\nThis data set is updated on a yearly basis, with each update cycle adding (if required) a new data version for the entire period, up to one year behind real time.\nThis dataset is produced on behalf of C3S with the exception of the SCIAMACHY and AIRS L2 products that were generated in the framework of the GHG-CCI project of the European Space Agency (ESA) Climate Change Initiative (CCI).\n\nVariables in the dataset/application are:\nColumn-average dry-air mole fraction of atmospheric carbon dioxide (XCO2), Mid-tropospheric columns of atmospheric carbon dioxide (CO2)",
         "extent": {
          "spatial": {
           "bbox": [
            [
             -180,
             -90,
             180,
             90
            ]
           ]
          },
          "temporal": {
           "interval": [
            [
             "2002-10-01T00:00:00Z",
             "2022-12-31T00:00:00Z"
            ]
           ]
          }
         },
         "id": "EO.ECMWF.DAT.CO2_DATA_FROM_SATELLITE_SENSORS_2002_PRESENT",
         "keywords": [
          "Atmospheric conditions",
          "Atmosphere (composition)",
          "Past",
          "Global",
          "Satellite observations"
         ],
         "license": "proprietary",
         "links": [
          {
           "href": "https://cds.climate.copernicus.eu/api/v2/terms/static/licence-to-use-copernicus-products.pdf",
           "rel": "license",
           "title": "Licence to Use Copernicus Products"
          },
          {
           "href": "https://hda.data.destination-earth.eu/stac/collections/EO.ECMWF.DAT.CO2_DATA_FROM_SATELLITE_SENSORS_2002_PRESENT",
           "rel": "self",
           "title": "EO.ECMWF.DAT.CO2_DATA_FROM_SATELLITE_SENSORS_2002_PRESENT"
          },
          {
           "href": "https://hda.data.destination-earth.eu/stac/",
           "rel": "root"
          },
          {
           "href": "https://hda.data.destination-earth.eu/stac/collections/EO.ECMWF.DAT.CO2_DATA_FROM_SATELLITE_SENSORS_2002_PRESENT/items",
           "rel": "items",
           "title": "items"
          }
         ],
         "providers": [
          {
           "name": "European Centre for Medium-Range Weather Forecasts (ECMWF)",
           "roles": [
            "licensor",
            "producer",
            "processor"
           ],
           "url": "https://www.ecmwf.int/"
          },
          {
           "name": "copernicus_climate_data_store",
           "roles": [
            "host"
           ],
           "url": "https://cds-beta.climate.copernicus.eu"
          },
          {
           "name": "wekeo",
           "roles": [
            "host"
           ],
           "url": "https://www.wekeo.eu/"
          }
         ],
         "stac_version": "1.0.0",
         "title": "Carbon dioxide data from 2002 to present derived from satellite observations",
         "type": "Collection"
        },
        {
         "assets": {
          "thumbnail": {
           "href": "https://object-store.os-api.cci2.ecmwf.int/cci2-prod-catalogue/resources/satellite-methane/overview_a8d840c9ea39792c2691b0414da4eb40f8bf9241aa4abf76da96f316fca7c729.png",
           "roles": [
            "thumbnail"
           ],
           "title": "overview",
           "type": "image/png"
          }
         },
         "dedl:short_description": "This dataset provides observations of atmospheric methane (CH4) amounts obtained from observations collected by several current and historical satellite instruments.",
         "description": "This dataset provides observations of atmospheric methane (CH4)\namounts obtained from observations collected by several current and historical \nsatellite instruments.  Methane is a naturally occurring Greenhouse Gas (GHG), but one whose abundance has been increased substantially above its pre-industrial value of some 720 ppb by human activities, primarily because of agricultural emissions (e.g., rice production, ruminants) and fossil fuel production and use. A clear annual cycle is largely due to seasonal wetland emissions.\nAtmospheric methane abundance is indirectly observed by various satellite instruments. These instruments measure spectrally resolved near-infrared and infrared radiation reflected or emitted by the Earth and its atmosphere. In the measured signal, molecular absorption signatures from methane and constituent gasses can be identified. It is through analysis of those absorption lines in these radiance observations that the averaged methane abundance in the sampled atmospheric column can be determined.\nThe software used to analyse the absorption lines and determine the methane concentration in the sampled atmospheric column is referred to as the retrieval algorithm. For this dataset, methane abundances have been determined by applying several algorithms to different satellite instruments.\nThe data set consists of 2 types of products: (i) column-averaged mixing ratios of CH4, denoted XCH4 and (ii) mid-tropospheric CH4 columns. \nThe XCH4 products have been retrieved from SCIAMACHY/ENVISAT and TANSO-FTS/GOSAT. The mid-tropospheric CH4 product has been retrieved from the IASI instruments onboard the Metop satellite series. The XCH4 products are available as Level 2 (L2) products (satellite orbit tracks) and as Level 3 (L3) product (gridded). The L2 products are available as individual sensor products (SCIAMACHY: WFMD and IMAP algorithms; GOSAT: OCFP, OCPR, SRFP and SRPR algorithms) and as a multi-sensor merged product (EMMA algorithm). The L3 XCH4 product is provided in OBS4MIPS format. The IASI products are available as L2 products generated with the NLIS algorithm.\nThis data set is updated on a yearly basis, with each update cycle adding (if required) a new data version for the entire period, up to one year behind real time.\nThis dataset is produced on behalf of C3S with the exception of the SCIAMACHY L2 products that were generated in the framework of the GHG-CCI project of the European Space Agency (ESA) Climate Change Initiative (CCI).\n\nVariables in the dataset/application are:\nColumn-average dry-air mole fraction of atmospheric methane (XCH4), Mid-tropospheric columns of atmospheric methane (CH4)",
         "extent": {
          "spatial": {
           "bbox": [
            [
             -180,
             -90,
             180,
             90
            ]
           ]
          },
          "temporal": {
           "interval": [
            [
             "2002-10-01T00:00:00Z",
             "2018-12-31T00:00:00Z"
            ]
           ]
          }
         },
         "id": "EO.ECMWF.DAT.METHANE_DATA_SATELLITE_SENSORS_2002_PRESENT",
         "keywords": [
          "Atmospheric conditions",
          "Atmosphere (composition)",
          "Past",
          "Global",
          "Satellite observations"
         ],
         "license": "proprietary",
         "links": [
          {
           "href": "https://cds.climate.copernicus.eu/api/v2/terms/static/licence-to-use-copernicus-products.pdf",
           "rel": "license",
           "title": "Licence to Use Copernicus Products"
          },
          {
           "href": "https://hda.data.destination-earth.eu/stac/collections/EO.ECMWF.DAT.METHANE_DATA_SATELLITE_SENSORS_2002_PRESENT",
           "rel": "self",
           "title": "EO.ECMWF.DAT.METHANE_DATA_SATELLITE_SENSORS_2002_PRESENT"
          },
          {
           "href": "https://hda.data.destination-earth.eu/stac/",
           "rel": "root"
          },
          {
           "href": "https://hda.data.destination-earth.eu/stac/collections/EO.ECMWF.DAT.METHANE_DATA_SATELLITE_SENSORS_2002_PRESENT/items",
           "rel": "items",
           "title": "items"
          }
         ],
         "providers": [
          {
           "name": "European Centre for Medium-Range Weather Forecasts (ECMWF)",
           "roles": [
            "licensor",
            "producer",
            "processor"
           ],
           "url": "https://www.ecmwf.int/"
          },
          {
           "name": "copernicus_climate_data_store",
           "roles": [
            "host"
           ],
           "url": "https://cds-beta.climate.copernicus.eu"
          },
          {
           "name": "wekeo",
           "roles": [
            "host"
           ],
           "url": "https://www.wekeo.eu/"
          }
         ],
         "stac_version": "1.0.0",
         "title": "Methane data from 2002 to present derived from satellite observations",
         "type": "Collection"
        },
        {
         "assets": {
          "thumbnail": {
           "href": "https://object-store.os-api.cci2.ecmwf.int/cci2-prod-catalogue/resources/satellite-sea-ice-concentration/overview_28363b274694d1b6a0a126e7b99f596bb43edf03eeca84729d42b30be06ab6f5.png",
           "roles": [
            "thumbnail"
           ],
           "title": "overview",
           "type": "image/png"
          }
         },
         "description": "This dataset provides daily gridded data of sea ice concentration for both hemispheres derived from satellite passive microwave brightness temperatures. Sea ice is an important component of our climate system and a sensitive indicator of climate change. Its presence or its retreat has a strong impact on air-sea interactions, the Earth’s energy budget as well as marine ecosystems. It is listed as an Essential Climate Variable by the Global Climate Observing System. Sea ice concentration is defined as the fraction of the ocean surface in a pixel or grid cell that is covered with sea ice. It is one of the parameters commonly used to characterise the sea-ice cover. Other sea ice parameters include sea ice thickness, sea ice edge, and sea ice type, also available in the Climate Data Store.",
         "extent": {
          "spatial": {
           "bbox": [
            [
             -180,
             -90,
             180,
             90
            ]
           ]
          },
          "temporal": {
           "interval": [
            [
             "2002-06-01T00:00:00Z",
             "2020-12-31T00:00:00Z"
            ]
           ]
          }
         },
         "id": "EO.ECMWF.DAT.SATELLITE_SEA_ICE_CONCENTRATION",
         "keywords": [
          "Sea ice"
         ],
         "license": "proprietary",
         "links": [
          {
           "href": "https://ads.atmosphere.copernicus.eu/api/v2/terms/static/licence-to-use-copernicus-products.pdf",
           "rel": "license",
           "title": "Licence to Use Copernicus Products"
          },
          {
           "href": "https://cds.climate.copernicus.eu/api/v2/terms/static/eumetsat-osi-saf-sic.pdf",
           "rel": "license",
           "title": "EUMETSAT OSI SAF sea ice concentration licence"
          },
          {
           "href": "https://cds.climate.copernicus.eu/api/v2/terms/static/ESA-CCI-sea-ice-concentration.pdf",
           "rel": "license",
           "title": "ESA-CCI sea ice concentration product licence"
          },
          {
           "href": "https://confluence.ecmwf.int/x/jDffFw",
           "rel": "describedby",
           "title": "Sea Ice Concentration v3 OSI SAF: Product User's Manual (PUM)",
           "type": "application/pdf"
          },
          {
           "href": "https://doi.org/10.24381/cds.3cd8b812",
           "rel": "cite-as",
           "title": "Sea ice concentration daily gridded data from 1978 to present derived from satellite observations"
          },
          {
           "href": "https://hda.data.destination-earth.eu/stac/collections/EO.ECMWF.DAT.SATELLITE_SEA_ICE_CONCENTRATION",
           "rel": "self",
           "title": "EO.ECMWF.DAT.SATELLITE_SEA_ICE_CONCENTRATION"
          },
          {
           "href": "https://hda.data.destination-earth.eu/stac/",
           "rel": "root"
          },
          {
           "href": "https://hda.data.destination-earth.eu/stac/collections/EO.ECMWF.DAT.SATELLITE_SEA_ICE_CONCENTRATION/items",
           "rel": "items",
           "title": "items"
          }
         ],
         "providers": [
          {
           "name": "European Centre for Medium-Range Weather Forecasts (ECMWF)",
           "roles": [
            "licensor",
            "producer",
            "processor"
           ],
           "url": "https://www.ecmwf.int/"
          },
          {
           "name": "copernicus_climate_data_store",
           "roles": [
            "host"
           ],
           "url": "https://cds-beta.climate.copernicus.eu"
          },
          {
           "name": "wekeo",
           "roles": [
            "host"
           ],
           "url": "https://www.wekeo.eu/"
          }
         ],
         "stac_version": "1.0.0",
         "title": "Sea ice concentration",
         "type": "Collection"
        },
        {
         "assets": {
          "thumbnail": {
           "href": "https://object-store.os-api.cci2.ecmwf.int/cci2-prod-catalogue/resources/satellite-sea-ice-edge-type/overview_4934af8d6960da3f56fb7e5cdf3c13dd5cc58cc70c6563e948778ad286a2bc89.png",
           "roles": [
            "thumbnail"
           ],
           "title": "overview",
           "type": "image/png"
          }
         },
         "description": "This dataset provides daily gridded data of sea ice edge and sea ice type derived from brightness temperatures measured by satellite passive microwave radiometers. Sea ice is an important component of our climate system and a sensitive indicator of climate change. Its presence or its retreat has a strong impact on air-sea interactions, the Earth’s energy budget as well as marine ecosystems. It is recognized by the Global Climate Observing System as an Essential Climate Variable. Sea ice edge and type are some of the parameters used to characterise sea ice. Other parameters include sea ice concentration and sea ice thickness, also available in the Climate Data Store.",
         "extent": {
          "spatial": {
           "bbox": [
            [
             -180,
             -90,
             180,
             90
            ]
           ]
          },
          "temporal": {
           "interval": [
            [
             "1978-10-25T00:00:00Z",
             null
            ]
           ]
          }
         },
         "id": "EO.ECMWF.DAT.SATELLITE_SEA_ICE_EDGE_TYPE",
         "keywords": [
          "Sea ice"
         ],
         "license": "proprietary",
         "links": [
          {
           "href": "https://ads.atmosphere.copernicus.eu/api/v2/terms/static/licence-to-use-copernicus-products.pdf",
           "rel": "license",
           "title": "Licence to Use Copernicus Products"
          },
          {
           "href": "https://doi.org/10.24381/cds.29c46d83",
           "rel": "cite-as",
           "title": "Sea ice edge and type daily gridded data from 1978 to present derived from satellite observations"
          },
          {
           "href": "https://hda.data.destination-earth.eu/stac/collections/EO.ECMWF.DAT.SATELLITE_SEA_ICE_EDGE_TYPE",
           "rel": "self",
           "title": "EO.ECMWF.DAT.SATELLITE_SEA_ICE_EDGE_TYPE"
          },
          {
           "href": "https://hda.data.destination-earth.eu/stac/",
           "rel": "root"
          },
          {
           "href": "https://hda.data.destination-earth.eu/stac/collections/EO.ECMWF.DAT.SATELLITE_SEA_ICE_EDGE_TYPE/items",
           "rel": "items",
           "title": "items"
          }
         ],
         "providers": [
          {
           "name": "European Centre for Medium-Range Weather Forecasts (ECMWF)",
           "roles": [
            "licensor",
            "producer",
            "processor"
           ],
           "url": "https://www.ecmwf.int/"
          },
          {
           "name": "copernicus_climate_data_store",
           "roles": [
            "host"
           ],
           "url": "https://cds-beta.climate.copernicus.eu"
          },
          {
           "name": "wekeo",
           "roles": [
            "host"
           ],
           "url": "https://www.wekeo.eu/"
          }
         ],
         "stac_extensions": [
          "https://stac-extensions.github.io/scientific/v1.0.0/schema.json"
         ],
         "stac_version": "1.0.0",
         "title": "Sea ice edge and type",
         "type": "Collection"
        },
        {
         "assets": {
          "thumbnail": {
           "href": "https://object-store.os-api.cci2.ecmwf.int/cci2-prod-catalogue/resources/satellite-sea-ice-thickness/overview_e65139269cab3aa583cfaa665c47fbef633ab8fbff34e26b2a07df1144af3e50.png",
           "roles": [
            "thumbnail"
           ],
           "title": "overview",
           "type": "image/png"
          }
         },
         "description": "This dataset provides monthly gridded data of sea ice thickness for the Arctic region based on satellite radar altimetry observations. Sea ice is an important component of our climate system and a sensitive indicator of climate change. Its presence or its retreat has a strong impact on air-sea interactions, the Earth’s energy budget as well as marine ecosystems. It is recognized by the Global Climate Observing System as an Essential Climate Variable. Sea ice thickness is one of the parameters commonly used to characterise sea ice, alongside sea ice concentration, sea ice edge, and sea ice type, also available in the Climate Data Store.",
         "extent": {
          "spatial": {
           "bbox": [
            [
             -180,
             -90,
             180,
             90
            ]
           ]
          },
          "temporal": {
           "interval": [
            [
             "2002-10-01T00:00:00Z",
             null
            ]
           ]
          }
         },
         "id": "EO.ECMWF.DAT.SATELLITE_SEA_ICE_THICKNESS",
         "keywords": [
          "Sea ice"
         ],
         "license": "proprietary",
         "links": [
          {
           "href": "https://ads.atmosphere.copernicus.eu/api/v2/terms/static/licence-to-use-copernicus-products.pdf",
           "rel": "license",
           "title": "Licence to Use Copernicus Products"
          },
          {
           "href": "https://doi.org/10.24381/cds.6679a99a",
           "rel": "cite-as",
           "title": "Sea ice thickness monthly gridded data for the Arctic from 2002 to present derived from satellite observations"
          },
          {
           "href": "https://hda.data.destination-earth.eu/stac/collections/EO.ECMWF.DAT.SATELLITE_SEA_ICE_THICKNESS",
           "rel": "self",
           "title": "EO.ECMWF.DAT.SATELLITE_SEA_ICE_THICKNESS"
          },
          {
           "href": "https://hda.data.destination-earth.eu/stac/",
           "rel": "root"
          },
          {
           "href": "https://hda.data.destination-earth.eu/stac/collections/EO.ECMWF.DAT.SATELLITE_SEA_ICE_THICKNESS/items",
           "rel": "items",
           "title": "items"
          }
         ],
         "providers": [
          {
           "name": "European Centre for Medium-Range Weather Forecasts (ECMWF)",
           "roles": [
            "licensor",
            "producer",
            "processor"
           ],
           "url": "https://www.ecmwf.int/"
          },
          {
           "name": "copernicus_climate_data_store",
           "roles": [
            "host"
           ],
           "url": "https://cds-beta.climate.copernicus.eu"
          },
          {
           "name": "wekeo",
           "roles": [
            "host"
           ],
           "url": "https://www.wekeo.eu/"
          }
         ],
         "stac_version": "1.0.0",
         "title": "Sea ice thickness",
         "type": "Collection"
        },
        {
         "assets": {
          "thumbnail": {
           "href": "https://sentinels.copernicus.eu/documents/247904/3681412/Sentinel-2-Level-1C-Level-2A-TOA-full.png",
           "roles": [
            "thumbnail"
           ],
           "title": "TOA Level-1C image data (left) and associated Level-2A surface reflectance image data (right) generated using Sen2Cor processor",
           "type": "image/png"
          }
         },
         "description": "The Sentinel-2 mission is a land monitoring constellation of two satellites that provide high resolution optical imagery and provide continuity for the current SPOT and Landsat missions. The mission provides a global coverage of the Earth's land surface every 10 days with one satellite and 5 days with 2 satellites, making the data of great use in on-going studies. The satellites are equipped with the state-of-the-art MSI (Multispectral Imager) instrument, that offers high-resolution optical imagery. Products are a compilation of elementary granules of fixed size, within a single orbit. A granule is the minimum indivisible partition of a product (containing all possible spectral bands).\nFor Level-1C and Level-2A, the granules, also called tiles, are 100x100km2 ortho-images in UTM/WGS84 projection. The UTM (Universal Transverse Mercator) system divides the Earth's surface into 60 zones. Each UTM zone has a vertical width of 6° of longitude and horizontal width of 8° of latitude. (see Figure 1). Tiles are approximately 600 MB in size. Tiles can be fully or partially covered by image data. Partially covered tiles correspond to those at the edge of the swath. Level-2A: Surface reflectances in cartographic geometry. This product is considered as the mission Analysis Ready Data (ARD), the product that can be used directly in downstream applications without the need for further processing. The Level-2A product contains: Bottom-Of-Atmosphere (BOA) reflectance orthoimage, Aerosol Optical Thickness (AOT) map, Water Vapour (WV) map, Scene Classification map and Quality Indicators data.",
         "extent": {
          "spatial": {
           "bbox": [
            [
             -180,
             -90,
             180,
             90
            ]
           ]
          },
          "temporal": {
           "interval": [
            [
             "2015-06-23T00:00:00Z",
             null
            ]
           ]
          }
         },
         "id": "EO.ESA.DAT.SENTINEL-2.MSI.L2A",
         "item_assets": {
          "thumbnail": {
           "description": "An averaged, decimated preview image in PNG format. Single polarisation products are represented with a grey scale image. Dual polarisation products are represented by a single composite colour image in RGB with the red channel (R) representing the  co-polarisation VV or HH), the green channel (G) represents the cross-polarisation (VH or HV) and the blue channel (B) represents the ratio of the cross an co-polarisations.",
           "roles": [
            "thumbnail"
           ],
           "title": "Preview Image",
           "type": "image/png"
          }
         },
         "keywords": [
          "land",
          "land cover",
          "Crop monitoring",
          "leaf area index",
          "chlorophyll",
          "Coastal zone monitoring",
          "Inland water monitoring",
          "Glacier monitoring",
          "ice extent mapping",
          "snow cover monitoring",
          "Flood mapping",
          "lava flow mapping",
          "Burned area monitoring",
          "Level 2 Data",
          "ESA",
          "Copernicus",
          "Sentinel",
          "MSI"
         ],
         "license": "proprietary",
         "links": [
          {
           "href": "https://sentinel.esa.int/documents/247904/690755/Sentinel_Data_Legal_Notice",
           "rel": "license",
           "title": "Copernicus Sentinel data terms"
          },
          {
           "href": "https://hda.data.destination-earth.eu/stac/collections/EO.ESA.DAT.SENTINEL-2.MSI.L2A",
           "rel": "self",
           "title": "EO.ESA.DAT.SENTINEL-2.MSI.L2A"
          },
          {
           "href": "https://hda.data.destination-earth.eu/stac/",
           "rel": "root"
          },
          {
           "href": "https://hda.data.destination-earth.eu/stac/collections/EO.ESA.DAT.SENTINEL-2.MSI.L2A/items",
           "rel": "items",
           "title": "items"
          }
         ],
         "providers": [
          {
           "name": "ESA",
           "roles": [
            "producer",
            "processor",
            "licensor"
           ],
           "url": "https://earth.esa.int"
          },
          {
           "name": "dedl",
           "roles": [
            "host"
           ],
           "url": "https://creodias.eu/"
          },
          {
           "name": "creodias",
           "roles": [
            "host"
           ],
           "url": "https://creodias.eu/"
          },
          {
           "name": "wekeo",
           "roles": [
            "host"
           ],
           "url": "https://www.wekeo.eu/"
          }
         ],
         "stac_extensions": [
          "https://stac-extensions.github.io/eo/v1.1.0/schema.json",
          "https://stac-extensions.github.io/processing/v1.2.0/schema.json",
          "https://stac-extensions.github.io/sar/v1.0.0/schema.json",
          "https://stac-extensions.github.io/sat/v1.0.0/schema.json",
          "https://stac-extensions.github.io/item-assets/v1.0.0/schema.json"
         ],
         "stac_version": "1.0.0",
         "summaries": {
          "constellation": [
           "Sentinel-2"
          ],
          "eo:bands": [
           {
            "center_wavelength": "442.7 (S2B:442.2)",
            "common_name": "coastal",
            "description": "Coastal aerosol",
            "name": "B01"
           },
           {
            "center_wavelength": "492.4 (S2B:492.1)",
            "common_name": "blue",
            "description": "visible blue",
            "name": "B02"
           },
           {
            "center_wavelength": "559.8 (S2B:559.0)",
            "common_name": "green",
            "description": "visible green",
            "name": "B03"
           },
           {
            "center_wavelength": 664.6,
            "common_name": "red",
            "description": "visible red",
            "name": "B04"
           },
           {
            "center_wavelength": "704.1 (S2B:703.8)",
            "common_name": "rededge",
            "description": "Vegetation red edge",
            "name": "B05"
           },
           {
            "center_wavelength": "740.5 (S2B:739.1)",
            "common_name": "rededge",
            "description": "Vegetation red edge",
            "name": "B06"
           },
           {
            "center_wavelength": "782.8 (S2B:779.7)",
            "common_name": "rededge",
            "description": "Vegetation red edge",
            "name": "B07"
           },
           {
            "center_wavelength": "832.8 (S2B:832.9)",
            "common_name": "nir",
            "description": "near infrared",
            "name": "B08"
           },
           {
            "center_wavelength": "864.7 (S2B:864.0)",
            "common_name": "nir08",
            "description": "narrow nir infrared",
            "name": "B8A"
           },
           {
            "center_wavelength": "945.1 (S2B:943.2)",
            "description": "water vapour",
            "name": "B09"
           },
           {
            "center_wavelength": "1373.5 (S2B:1376.9)",
            "common_name": "cirrus",
            "description": "short-wave infrared cirrus",
            "name": "B10"
           },
           {
            "center_wavelength": "1613.7 (S2B:1610.4)",
            "common_name": "swir16",
            "description": "short-wave infrared",
            "name": "B11"
           },
           {
            "center_wavelength": "2202.4 (S2B: 2185.7)",
            "common_name": "swir22",
            "description": "short-wave infrared",
            "name": "B12"
           }
          ],
          "instruments": [
           "msi"
          ],
          "intruments": [
           "msi"
          ],
          "platform": [
           "Sentinel-2A,Sentinel-2B"
          ],
          "processing:level": [
           [
            "L2B"
           ]
          ],
          "s1:product_timeliness": [
           "NRT-8h",
           "Off-line"
          ]
         },
         "title": "Sentinel 2 MSI Level 2-A",
         "type": "Collection"
        },
        {
         "assets": {
          "thumbnail": {
           "href": "https://wekeo2-prod-data-access-config.s3.waw3-2.cloudferro.com/previews/EO_ESA_DAT_SENTINEL-3_OL_2_LFR___.jpg",
           "roles": [
            "thumbnail"
           ],
           "title": "Sentinel-3A OLCI land",
           "type": "image/jpeg"
          }
         },
         "dedl:short_description": "OLCI (Ocean and Land Colour Instrument) Ocean Colour Geophysical Products. OLCI Land Level 2 product contains land and atmospheric geophysical products at full and reduced resolutions.",
         "description": "OLCI (Ocean and Land Colour Instrument) Ocean Colour Geophysical Products. OLCI Land Level 2 product contains land and atmospheric geophysical products at full and reduced resolutions. Each Land product provides as measurement data files: a) surface product as Global Vegetation Index (OGVI) and Terrestrial Chlorophyll Index (OTCI) b)atmosphere by-products as Integrated Water Vapour (IWV) column (this product also contains information for water pixels and is identical to that included in OL_2_WRR and OL_2_WFR) c) error estimates for all products.. All Sentinel-3 Short Time Critical (STC) products are available at pick-up point in less than 48 hours. All Sentinel-3 NRT products are available at pick-up point in less than 3h.  All Sentinel-3 Non Time Critical (NTC) products are available at pick-up point in less than 30 days. Sentinel-3 is part of a series of Sentinel satellites, under the umbrella of the EU Copernicus programme.",
         "extent": {
          "spatial": {
           "bbox": [
            [
             -180,
             -90,
             180,
             90
            ]
           ]
          },
          "temporal": {
           "interval": [
            [
             "2017-07-05T00:00:00Z",
             null
            ]
           ]
          }
         },
         "id": "EO.ESA.DAT.SENTINEL-3.OL_2_LFR___",
         "item_assets": {
          "thumbnail": {
           "description": "An averaged, decimated preview image in PNG format. Single polarisation products are represented with a grey scale image. Dual polarisation products are represented by a single composite colour image in RGB with the red channel (R) representing the  co-polarisation VV or HH), the green channel (G) represents the cross-polarisation (VH or HV) and the blue channel (B) represents the ratio of the cross an co-polarisations.",
           "roles": [
            "thumbnail"
           ],
           "title": "Preview Image",
           "type": "image/png"
          }
         },
         "keywords": [
          "Level 2 Data",
          "Land",
          "Land Colour"
         ],
         "license": "proprietary",
         "links": [
          {
           "href": "https://sentinel.esa.int/documents/247904/690755/Sentinel_Data_Legal_Notice",
           "rel": "license",
           "title": "Copernicus Sentinel data terms"
          },
          {
           "href": "https://hda.data.destination-earth.eu/stac/collections/EO.ESA.DAT.SENTINEL-3.OL_2_LFR___",
           "rel": "self",
           "title": "EO.ESA.DAT.SENTINEL-3.OL_2_LFR___"
          },
          {
           "href": "https://hda.data.destination-earth.eu/stac/",
           "rel": "root"
          },
          {
           "href": "https://hda.data.destination-earth.eu/stac/collections/EO.ESA.DAT.SENTINEL-3.OL_2_LFR___/items",
           "rel": "items",
           "title": "items"
          }
         ],
         "providers": [
          {
           "name": "ESA",
           "roles": [
            "producer",
            "processor",
            "licensor"
           ],
           "url": "https://earth.esa.int"
          },
          {
           "name": "dedl",
           "roles": [
            "host"
           ],
           "url": "https://creodias.eu/"
          },
          {
           "name": "creodias",
           "roles": [
            "host"
           ],
           "url": "https://creodias.eu/"
          },
          {
           "name": "wekeo",
           "roles": [
            "host"
           ],
           "url": "https://www.wekeo.eu/"
          }
         ],
         "stac_extensions": [
          "https://stac-extensions.github.io/eo/v1.1.0/schema.json",
          "https://stac-extensions.github.io/processing/v1.2.0/schema.json",
          "https://stac-extensions.github.io/item-assets/v1.0.0/schema.json"
         ],
         "stac_version": "1.0.0",
         "summaries": {
          "constellation": [
           "Sentinel-3"
          ],
          "eo:bands": [
           {
            "Centre Wavelength": "413 nm",
            "description": "Yellow Substance and Detrital Pigments",
            "name": "O1"
           },
           {
            "Centre Wavelength": "443 nm",
            "description": "Chl Absorption Max. /Vegetation",
            "name": "O2"
           },
           {
            "Centre Wavelength": "490 nm",
            "description": "Chl, Other Pigments",
            "name": "O3"
           },
           {
            "Centre Wavelength": "510 nm",
            "description": "Chl, Sediment, Turbidity, Red tide",
            "name": "O4"
           },
           {
            "Centre Wavelength": "560 nm",
            "description": "Chlorophyll Reference",
            "name": "O5"
           },
           {
            "Centre Wavelength": "620 nm",
            "description": "Sediment Loading",
            "name": "O6"
           },
           {
            "Centre Wavelength": "665 nm",
            "description": "Chl, Sediment, Yellow Substance / Vegetation",
            "name": "O7"
           },
           {
            "Centre Wavelength": "681 nm",
            "description": "Chl Fluorescence Peak, Red Edge",
            "name": "O8"
           },
           {
            "Centre Wavelength": "709 nm",
            "description": "Chl Fluorescence Baseline",
            "name": "O9"
           },
           {
            "Centre Wavelength": "754 nm",
            "description": "O2 Absorption /Cloud/ Ocean Colour",
            "name": "O10"
           },
           {
            "Centre Wavelength": "761 nm",
            "description": "O2 Absorption Band/Aerosol Corr.",
            "name": "O11"
           },
           {
            "Centre Wavelength": "779 nm",
            "description": "Atmos. / Aerosol Corr.",
            "name": "O12"
           },
           {
            "Centre Wavelength": "865 nm",
            "description": "Aerosols, Clouds, Pixel Co-registration",
            "name": "O13"
           },
           {
            "Centre Wavelength": "885 nm",
            "description": "Water Vap. Absorption Ref.",
            "name": "O14"
           },
           {
            "Centre Wavelength": "900 nm",
            "description": "Water Vap. Absorption / Vegetation",
            "name": "O15"
           },
           {
            "Centre Wavelength": "1020 nm",
            "description": "Atmos. / Aerosol Corr.",
            "name": "O16"
           }
          ],
          "instruments": [
           "OLCI (Ocean and Land Colour Instrument)"
          ],
          "intruments": [
           "OLCI (Ocean and Land Colour Instrument)"
          ],
          "platform": [
           "SENTINEL-3A,SENTINEL-3B"
          ],
          "processing:level": [
           [
            "L1B"
           ]
          ],
          "s1:product_timeliness": [
           "NRT-3h",
           "STC-48h",
           "NTC-1m"
          ]
         },
         "title": "OLCI Land Colour Full Resolution - Sentinel-3",
         "type": "Collection"
        },
        {
         "assets": {
          "thumbnail": {
           "href": "https://wekeo2-prod-data-access-config.s3.waw3-2.cloudferro.com/previews/EO_ESA_DAT_SENTINEL-3_OL_2_LRR___.jpg",
           "roles": [
            "thumbnail"
           ],
           "title": "Sentinel-3A OLCI land",
           "type": "image/jpeg"
          }
         },
         "description": "OLCI (Ocean and Land Colour Instrument) Ocean Colour Geophysical Products. Reduced Resolution: 1200m at nadir. OLCI Land Level 2 product contains land and atmospheric geophysical products at full and reduced resolutions. Each Land product provides as measurement data files: a) surface product as Global Vegetation Index (OGVI) and Terrestrial Chlorophyll Index (OTCI) b)atmosphere by-products as Integrated Water Vapour (IWV) column (this product also contains information for water pixels and is identical to that included in OL_2_WRR and OL_2_WFR) c) error estimates for all products.. All Sentinel-3 Short Time Critical (STC) products are available at pick-up point in less than 48 hours. All Sentinel-3 NRT products are available at pick-up point in less than 3h.  All Sentinel-3 Non Time Critical (NTC) products are available at pick-up point in less than 30 days. Sentinel-3 is part of a series of Sentinel satellites, under the umbrella of the EU Copernicus programme.",
         "extent": {
          "spatial": {
           "bbox": [
            [
             -180,
             -90,
             180,
             90
            ]
           ]
          },
          "temporal": {
           "interval": [
            [
             "2017-07-05T00:00:00Z",
             null
            ]
           ]
          }
         },
         "id": "EO.ESA.DAT.SENTINEL-3.OL_2_LRR___",
         "item_assets": {
          "thumbnail": {
           "description": "An averaged, decimated preview image in PNG format. Single polarisation products are represented with a grey scale image. Dual polarisation products are represented by a single composite colour image in RGB with the red channel (R) representing the  co-polarisation VV or HH), the green channel (G) represents the cross-polarisation (VH or HV) and the blue channel (B) represents the ratio of the cross an co-polarisations.",
           "roles": [
            "thumbnail"
           ],
           "title": "Preview Image",
           "type": "image/png"
          }
         },
         "keywords": [
          "Level 2 Data",
          "Land",
          "Land Colour"
         ],
         "license": "proprietary",
         "links": [
          {
           "href": "https://sentinel.esa.int/documents/247904/690755/Sentinel_Data_Legal_Notice",
           "rel": "license",
           "title": "Copernicus Sentinel data terms"
          },
          {
           "href": "https://hda.data.destination-earth.eu/stac/collections/EO.ESA.DAT.SENTINEL-3.OL_2_LRR___",
           "rel": "self",
           "title": "EO.ESA.DAT.SENTINEL-3.OL_2_LRR___"
          },
          {
           "href": "https://hda.data.destination-earth.eu/stac/",
           "rel": "root"
          },
          {
           "href": "https://hda.data.destination-earth.eu/stac/collections/EO.ESA.DAT.SENTINEL-3.OL_2_LRR___/items",
           "rel": "items",
           "title": "items"
          }
         ],
         "providers": [
          {
           "name": "ESA",
           "roles": [
            "producer",
            "processor",
            "licensor"
           ],
           "url": "https://earth.esa.int"
          },
          {
           "name": "dedl",
           "roles": [
            "host"
           ],
           "url": "https://creodias.eu/"
          },
          {
           "name": "creodias",
           "roles": [
            "host"
           ],
           "url": "https://creodias.eu/"
          },
          {
           "name": "wekeo",
           "roles": [
            "host"
           ],
           "url": "https://www.wekeo.eu/"
          }
         ],
         "stac_extensions": [
          "https://stac-extensions.github.io/eo/v1.1.0/schema.json",
          "https://stac-extensions.github.io/processing/v1.2.0/schema.json",
          "https://stac-extensions.github.io/item-assets/v1.0.0/schema.json"
         ],
         "stac_version": "1.0.0",
         "summaries": {
          "constellation": [
           "Sentinel-3"
          ],
          "eo:bands": [
           {
            "Centre Wavelength": "413 nm",
            "description": "Yellow Substance and Detrital Pigments",
            "name": "O1"
           },
           {
            "Centre Wavelength": "443 nm",
            "description": "Chl Absorption Max. /Vegetation",
            "name": "O2"
           },
           {
            "Centre Wavelength": "490 nm",
            "description": "Chl, Other Pigments",
            "name": "O3"
           },
           {
            "Centre Wavelength": "510 nm",
            "description": "Chl, Sediment, Turbidity, Red tide",
            "name": "O4"
           },
           {
            "Centre Wavelength": "560 nm",
            "description": "Chlorophyll Reference",
            "name": "O5"
           },
           {
            "Centre Wavelength": "620 nm",
            "description": "Sediment Loading",
            "name": "O6"
           },
           {
            "Centre Wavelength": "665 nm",
            "description": "Chl, Sediment, Yellow Substance / Vegetation",
            "name": "O7"
           },
           {
            "Centre Wavelength": "681 nm",
            "description": "Chl Fluorescence Peak, Red Edge",
            "name": "O8"
           },
           {
            "Centre Wavelength": "709 nm",
            "description": "Chl Fluorescence Baseline",
            "name": "O9"
           },
           {
            "Centre Wavelength": "754 nm",
            "description": "O2 Absorption /Cloud/ Ocean Colour",
            "name": "O10"
           },
           {
            "Centre Wavelength": "761 nm",
            "description": "O2 Absorption Band/Aerosol Corr.",
            "name": "O11"
           },
           {
            "Centre Wavelength": "779 nm",
            "description": "Atmos. / Aerosol Corr.",
            "name": "O12"
           },
           {
            "Centre Wavelength": "865 nm",
            "description": "Aerosols, Clouds, Pixel Co-registration",
            "name": "O13"
           },
           {
            "Centre Wavelength": "885 nm",
            "description": "Water Vap. Absorption Ref.",
            "name": "O14"
           },
           {
            "Centre Wavelength": "900 nm",
            "description": "Water Vap. Absorption / Vegetation",
            "name": "O15"
           },
           {
            "Centre Wavelength": "1020 nm",
            "description": "Atmos. / Aerosol Corr.",
            "name": "O16"
           }
          ],
          "instruments": [
           "OLCI (Ocean and Land Colour Instrument)"
          ],
          "intruments": [
           "OLCI (Ocean and Land Colour Instrument)"
          ],
          "platform": [
           "SENTINEL-3A,SENTINEL-3B"
          ],
          "processing:level": [
           [
            "L1B"
           ]
          ],
          "s1:product_timeliness": [
           "NRT-3h",
           "STC-48h",
           "NTC-1m"
          ]
         },
         "title": "OLCI Land Colour Reduced Resolution - Sentinel-3",
         "type": "Collection"
        },
        {
         "assets": {
          "thumbnail": {
           "href": "https://navigator.eumetsat.int/preview/chl_OC4ME_20June2017.png",
           "roles": [
            "thumbnail"
           ],
           "title": "Sentinel-3A OLCI algal pigment concentration",
           "type": "image/png"
          }
         },
         "dedl:short_description": "OLCI (Ocean and Land Colour Instrument) Ocean Colour Geophysical Products. Full Resolution: 300m at nadir.",
         "description": "OLCI (Ocean and Land Colour Instrument) Ocean Colour Geophysical Products. Full Resolution: 300m at nadir. All Sentinel-3 NRT products are available at pick-up point in less than 3h. Level 2 marine products include the following: * water-leaving reflectances in 16 bands, Oa**_reflectance (Baseline Atmospheric Correction (BAC) algorithm, bands: 400, 412, 442, 490, 510, 560, 620, 665, 674, 681, 709, 754, 779, 865, 885, 1024 nanometer (nm)); *algal pigment concentration in clear waters, chl_oc4me (BAC and maximum band ratio algorithm, log10 scaled); *algal pigment concentration in turbid waters, chl_nn (neural net algorithm, log10 scaled); *total suspended matter concentration, tsm_nn (neural net algorithm, log10 scaled); *diffuse attenuation coefficient Kd of downward irradiance at 490 nm, trsp (BAC and M07 algorithm, log10 scaled); *absorption coefficient at 443 nm of coloured detrital and dissolved organic matter, iop_nn (neural net algorithm, log10 scaled); *instantaneous photosynthetically active radiation, PAR (BAC and clear-sky ocean algorithm); *aerosol optical thickness T865 and aerosol Angstrom exponent A865, w_aer (BAC algorithm, A for bands 779 and 865 nm) *integrated water vapour column, iwv (1D-Var algorithm). The geophysical products are accompanied by error estimate products. Pixel classification, quality and science flags, as well as meteorological, geometry and geolocation data at tie points are provided.\n\n- All Sentinel-3 NRT products are available at pick-up point in less than 3h\n- All Sentinel-3 Non Time Critical (NTC) products are available at pick-up point in less than 30 days\nSentinel-3 is part of a series of Sentinel satellites, under the umbrella of the EU Copernicus programme.",
         "extent": {
          "spatial": {
           "bbox": [
            [
             -180,
             -90,
             180,
             90
            ]
           ]
          },
          "temporal": {
           "interval": [
            [
             "2017-07-05T00:00:00Z",
             null
            ]
           ]
          }
         },
         "id": "EO.EUM.DAT.SENTINEL-3.OL_2_WFR___",
         "item_assets": {
          "thumbnail": {
           "description": "An averaged, decimated preview image in PNG format. Single polarisation products are represented with a grey scale image. Dual polarisation products are represented by a single composite colour image in RGB with the red channel (R) representing the  co-polarisation VV or HH), the green channel (G) represents the cross-polarisation (VH or HV) and the blue channel (B) represents the ratio of the cross an co-polarisations.",
           "roles": [
            "thumbnail"
           ],
           "title": "Preview Image",
           "type": "image/png"
          }
         },
         "keywords": [
          "Level 2 Data",
          "Ocean",
          "Ocean Colour",
          "Water Quality",
          "Chlorophyll-a Concentration"
         ],
         "license": "proprietary",
         "links": [
          {
           "href": "https://www.eumetsat.int/data-policy/eumetsat-data-policy.pdf",
           "rel": "license",
           "title": "EUMETSAT Data Policy"
          },
          {
           "href": "https://hda.data.destination-earth.eu/stac/collections/EO.EUM.DAT.SENTINEL-3.OL_2_WFR___",
           "rel": "self",
           "title": "EO.EUM.DAT.SENTINEL-3.OL_2_WFR___"
          },
          {
           "href": "https://hda.data.destination-earth.eu/stac/",
           "rel": "root"
          },
          {
           "href": "https://hda.data.destination-earth.eu/stac/collections/EO.EUM.DAT.SENTINEL-3.OL_2_WFR___/items",
           "rel": "items",
           "title": "items"
          }
         ],
         "providers": [
          {
           "name": "eumetsat",
           "roles": [
            "producer",
            "processor",
            "licensor"
           ],
           "url": "https://www.eumetsat.int/"
          },
          {
           "name": "dedl",
           "roles": [
            "host"
           ],
           "url": "https://creodias.eu/"
          },
          {
           "name": "creodias",
           "roles": [
            "host"
           ],
           "url": "https://creodias.eu/"
          },
          {
           "name": "eumetsat",
           "roles": [
            "host"
           ],
           "url": "https://data.eumetsat.int"
          },
          {
           "name": "wekeo",
           "roles": [
            "host"
           ],
           "url": "https://www.wekeo.eu/"
          }
         ],
         "stac_extensions": [
          "https://stac-extensions.github.io/eo/v1.1.0/schema.json",
          "https://stac-extensions.github.io/processing/v1.2.0/schema.json",
          "https://stac-extensions.github.io/item-assets/v1.0.0/schema.json"
         ],
         "stac_version": "1.0.0",
         "summaries": {
          "constellation": [
           "Sentinel-3"
          ],
          "eo:bands": [
           {
            "Centre Wavelength": "413 nm",
            "description": "Yellow Substance and Detrital Pigments",
            "name": "O1"
           },
           {
            "Centre Wavelength": "443 nm",
            "description": "Chl Absorption Max. /Vegetation",
            "name": "O2"
           },
           {
            "Centre Wavelength": "490 nm",
            "description": "Chl, Other Pigments",
            "name": "O3"
           },
           {
            "Centre Wavelength": "510 nm",
            "description": "Chl, Sediment, Turbidity, Red tide",
            "name": "O4"
           },
           {
            "Centre Wavelength": "560 nm",
            "description": "Chlorophyll Reference",
            "name": "O5"
           },
           {
            "Centre Wavelength": "620 nm",
            "description": "Sediment Loading",
            "name": "O6"
           },
           {
            "Centre Wavelength": "665 nm",
            "description": "Chl, Sediment, Yellow Substance / Vegetation",
            "name": "O7"
           },
           {
            "Centre Wavelength": "681 nm",
            "description": "Chl Fluorescence Peak, Red Edge",
            "name": "O8"
           },
           {
            "Centre Wavelength": "709 nm",
            "description": "Chl Fluorescence Baseline",
            "name": "O9"
           },
           {
            "Centre Wavelength": "754 nm",
            "description": "O2 Absorption /Cloud/ Ocean Colour",
            "name": "O10"
           },
           {
            "Centre Wavelength": "761 nm",
            "description": "O2 Absorption Band/Aerosol Corr.",
            "name": "O11"
           },
           {
            "Centre Wavelength": "779 nm",
            "description": "Atmos. / Aerosol Corr.",
            "name": "O12"
           },
           {
            "Centre Wavelength": "865 nm",
            "description": "Aerosols, Clouds, Pixel Co-registration",
            "name": "O13"
           },
           {
            "Centre Wavelength": "885 nm",
            "description": "Water Vap. Absorption Ref.",
            "name": "O14"
           },
           {
            "Centre Wavelength": "900 nm",
            "description": "Water Vap. Absorption / Vegetation",
            "name": "O15"
           },
           {
            "Centre Wavelength": "1020 nm",
            "description": "Atmos. / Aerosol Corr.",
            "name": "O16"
           }
          ],
          "instruments": [
           "OLCI (Ocean and Land Colour Instrument)"
          ],
          "intruments": [
           "OLCI (Ocean and Land Colour Instrument)"
          ],
          "platform": [
           "SENTINEL-3A,SENTINEL-3B"
          ],
          "processing:level": [
           [
            "L1B"
           ]
          ],
          "s1:product_timeliness": [
           "NRT-3h",
           "STC-48h",
           "NTC-1m"
          ]
         },
         "title": "OLCI Level 2 Ocean Colour Full Resolution - Sentinel-3",
         "type": "Collection"
        },
        {
         "assets": {
          "thumbnail": {
           "href": "https://navigator.eumetsat.int/preview/chl_OC4ME_20June2017.png",
           "roles": [
            "thumbnail"
           ],
           "title": "Sentinel-3A OLCI algal pigment concentration",
           "type": "image/png"
          }
         },
         "dedl:short_description": "OLCI (Ocean and Land Colour Instrument) Ocean Colour Geophysical Products. Reduced Resolution: 1200m at nadir.",
         "description": "OLCI (Ocean and Land Colour Instrument) Ocean Colour Geophysical Products. Reduced Resolution: 1200m at nadir. Level 2 marine products include the following: * water-leaving reflectances in 16 bands, Oa**_reflectance (Baseline Atmospheric Correction (BAC) algorithm, bands: 400, 412, 442, 490, 510, 560, 620, 665, 674, 681, 709, 754, 779, 865, 885, 1024 nanometer (nm)); *algal pigment concentration in clear waters, chl_oc4me (BAC and maximum band ratio algorithm, log10 scaled); *algal pigment concentration in turbid waters, chl_nn (neural net algorithm, log10 scaled); *total suspended matter concentration, tsm_nn (neural net algorithm, log10 scaled); *diffuse attenuation coefficient Kd of downward irradiance at 490 nm, trsp (BAC and M07 algorithm, log10 scaled); *absorption coefficient at 443 nm of coloured detrital and dissolved organic matter, iop_nn (neural net algorithm, log10 scaled); *instantaneous photosynthetically active radiation, PAR (BAC and clear-sky ocean algorithm); *aerosol optical thickness T865 and aerosol Angstrom exponent A865, w_aer (BAC algorithm, A for bands 779 and 865 nm) *integrated water vapour column, iwv (1D-Var algorithm). The geophysical products are accompanied by error estimate products. Pixel classification, quality and science flags, as well as meteorological, geometry and geolocation data at tie points are provided. \n\n- All Sentinel-3 NRT products are available at pick-up point in less than 3h\n- All Sentinel-3 Non Time Critical (NTC) products are available at pick-up point in less than 30 days.\nSentinel-3 is part of a series of Sentinel satellites, under the umbrella of the EU Copernicus programme.",
         "extent": {
          "spatial": {
           "bbox": [
            [
             -180,
             -90,
             180,
             90
            ]
           ]
          },
          "temporal": {
           "interval": [
            [
             "2017-07-05T00:00:00Z",
             null
            ]
           ]
          }
         },
         "id": "EO.EUM.DAT.SENTINEL-3.OL_2_WRR___",
         "item_assets": {
          "thumbnail": {
           "description": "An averaged, decimated preview image in PNG format. Single polarisation products are represented with a grey scale image. Dual polarisation products are represented by a single composite colour image in RGB with the red channel (R) representing the  co-polarisation VV or HH), the green channel (G) represents the cross-polarisation (VH or HV) and the blue channel (B) represents the ratio of the cross an co-polarisations.",
           "roles": [
            "thumbnail"
           ],
           "title": "Preview Image",
           "type": "image/png"
          }
         },
         "keywords": [
          "Level 2 Data",
          "Ocean",
          "Ocean Colour",
          "Water Quality",
          "Chlorophyll-a Concentration"
         ],
         "license": "proprietary",
         "links": [
          {
           "href": "https://www.eumetsat.int/data-policy/eumetsat-data-policy.pdf",
           "rel": "license",
           "title": "EUMETSAT Data Policy"
          },
          {
           "href": "https://hda.data.destination-earth.eu/stac/collections/EO.EUM.DAT.SENTINEL-3.OL_2_WRR___",
           "rel": "self",
           "title": "EO.EUM.DAT.SENTINEL-3.OL_2_WRR___"
          },
          {
           "href": "https://hda.data.destination-earth.eu/stac/",
           "rel": "root"
          },
          {
           "href": "https://hda.data.destination-earth.eu/stac/collections/EO.EUM.DAT.SENTINEL-3.OL_2_WRR___/items",
           "rel": "items",
           "title": "items"
          }
         ],
         "providers": [
          {
           "name": "eumetsat",
           "roles": [
            "producer",
            "processor",
            "licensor"
           ],
           "url": "https://www.eumetsat.int/"
          },
          {
           "name": "dedl",
           "roles": [
            "host"
           ],
           "url": "https://creodias.eu/"
          },
          {
           "name": "creodias",
           "roles": [
            "host"
           ],
           "url": "https://creodias.eu/"
          },
          {
           "name": "eumetsat",
           "roles": [
            "host"
           ],
           "url": "https://data.eumetsat.int"
          },
          {
           "name": "wekeo",
           "roles": [
            "host"
           ],
           "url": "https://www.wekeo.eu/"
          }
         ],
         "stac_extensions": [
          "https://stac-extensions.github.io/eo/v1.1.0/schema.json",
          "https://stac-extensions.github.io/processing/v1.2.0/schema.json",
          "https://stac-extensions.github.io/item-assets/v1.0.0/schema.json"
         ],
         "stac_version": "1.0.0",
         "summaries": {
          "constellation": [
           "Sentinel-3"
          ],
          "eo:bands": [
           {
            "Centre Wavelength": "413 nm",
            "description": "Yellow Substance and Detrital Pigments",
            "name": "O1"
           },
           {
            "Centre Wavelength": "443 nm",
            "description": "Chl Absorption Max. /Vegetation",
            "name": "O2"
           },
           {
            "Centre Wavelength": "490 nm",
            "description": "Chl, Other Pigments",
            "name": "O3"
           },
           {
            "Centre Wavelength": "510 nm",
            "description": "Chl, Sediment, Turbidity, Red tide",
            "name": "O4"
           },
           {
            "Centre Wavelength": "560 nm",
            "description": "Chlorophyll Reference",
            "name": "O5"
           },
           {
            "Centre Wavelength": "620 nm",
            "description": "Sediment Loading",
            "name": "O6"
           },
           {
            "Centre Wavelength": "665 nm",
            "description": "Chl, Sediment, Yellow Substance / Vegetation",
            "name": "O7"
           },
           {
            "Centre Wavelength": "681 nm",
            "description": "Chl Fluorescence Peak, Red Edge",
            "name": "O8"
           },
           {
            "Centre Wavelength": "709 nm",
            "description": "Chl Fluorescence Baseline",
            "name": "O9"
           },
           {
            "Centre Wavelength": "754 nm",
            "description": "O2 Absorption /Cloud/ Ocean Colour",
            "name": "O10"
           },
           {
            "Centre Wavelength": "761 nm",
            "description": "O2 Absorption Band/Aerosol Corr.",
            "name": "O11"
           },
           {
            "Centre Wavelength": "779 nm",
            "description": "Atmos. / Aerosol Corr.",
            "name": "O12"
           },
           {
            "Centre Wavelength": "865 nm",
            "description": "Aerosols, Clouds, Pixel Co-registration",
            "name": "O13"
           },
           {
            "Centre Wavelength": "885 nm",
            "description": "Water Vap. Absorption Ref.",
            "name": "O14"
           },
           {
            "Centre Wavelength": "900 nm",
            "description": "Water Vap. Absorption / Vegetation",
            "name": "O15"
           },
           {
            "Centre Wavelength": "1020 nm",
            "description": "Atmos. / Aerosol Corr.",
            "name": "O16"
           }
          ],
          "instruments": [
           "OLCI (Ocean and Land Colour Instrument)"
          ],
          "intruments": [
           "OLCI (Ocean and Land Colour Instrument)"
          ],
          "platform": [
           "SENTINEL-3A,SENTINEL-3B"
          ],
          "processing:level": [
           [
            "L1B"
           ]
          ],
          "s1:product_timeliness": [
           "NRT-3h",
           "STC-48h",
           "NTC-1m"
          ]
         },
         "title": "OLCI Level 2 Ocean Colour Reduced Resolution - Sentinel-3",
         "type": "Collection"
        },
        {
         "assets": {
          "thumbnail": {
           "href": "https://mdl-metadata.s3.waw3-1.cloudferro.com/metadata/thumbnails/GLOBAL_ANALYSISFORECAST_BGC_001_028.jpg",
           "roles": [
            "thumbnail"
           ],
           "title": "Global Ocean Biogeochemistry Analysis and Forecast thumbnail",
           "type": "image/jpeg"
          }
         },
         "description": "The Operational Mercator Ocean biogeochemical global ocean analysis and forecast system  at 1/4 degree is providing 10 days of 3D global ocean forecasts updated weekly. The time series is aggregated in time, in order to reach a two full year’s time series sliding window. This product includes daily and monthly mean files of biogeochemical parameters (chlorophyll, nitrate, phosphate, silicate, dissolved oxygen, dissolved iron, primary production, phytoplankton, PH, and surface partial pressure of carbon dioxyde) over the global ocean. The global ocean output files are displayed with a 1/4 degree horizontal resolution with regular longitude/latitude equirectangular projection. 50 vertical levels are ranging from 0 to 5700 meters.\n\n* NEMO version (v3.6_STABLE)\n* Forcings: GLOBAL_ANALYSIS_FORECAST_PHYS_001_024 at daily frequency.                                                                           \n* Outputs mean fields are interpolated on a standard regular grid in NetCDF format.\n* Initial conditions: World Ocean Atlas 2013 for nitrate, phosphate, silicate and dissolved oxygen, GLODAPv2 for DIC and Alkalinity, and climatological model outputs for Iron and DOC \n* Quality/Accuracy/Calibration information: See the related [QuID](http://catalogue.marine.copernicus.eu/documents/QUID/CMEMS-GLO-QUID-001-028.pdf) \n\n**DOI (product):**   \nhttps://doi.org/10.48670/moi-00015",
         "extent": {
          "spatial": {
           "bbox": [
            [
             -180,
             -80,
             179.75,
             90
            ]
           ]
          },
          "temporal": {
           "interval": [
            [
             "2021-10-01T00:00:00Z",
             "2024-06-14T00:00:00Z"
            ]
           ]
          }
         },
         "id": "EO.MO.DAT.GLOBAL_ANALYSISFORECAST_BGC_001_028",
         "keywords": [
          "mole-concentration-of-dissolved-iron-in-sea-water",
          "model-level-number-at-sea-floor",
          "near-real-time",
          "mole-concentration-of-dissolved-molecular-oxygen-in-sea-water",
          "mole-concentration-of-dissolved-inorganic-carbon-in-sea-water",
          "mole-concentration-of-phytoplankton-expressed-as-carbon-in-sea-water",
          "weather-climate-and-seasonal-forecasting",
          "marine-resources",
          "mole-concentration-of-phosphate-in-sea-water",
          "surface-partial-pressure-of-carbon-dioxide-in-sea-water",
          "forecast",
          "oceanographic-geographical-features",
          "numerical-model",
          "coastal-marine-environment",
          "satellite-chlorophyll",
          "sea-water-ph-reported-on-total-scale",
          "cell-thickness",
          "sea-floor-depth-below-geoid",
          "mole-concentration-of-silicate-in-sea-water",
          "level-4",
          "global-ocean",
          "net-primary-production-of-biomass-expressed-as-carbon-per-unit-volume-in-sea-water",
          "marine-safety",
          "sea-water-alkalinity-expressed-as-mole-equivalent",
          "volume-attenuation-coefficient-of-downwelling-radiative-flux-in-sea-water",
          "mass-concentration-of-chlorophyll-a-in-sea-water",
          "mole-concentration-of-nitrate-in-sea-water"
         ],
         "license": "proprietary",
         "links": [
          {
           "href": "https://marine.copernicus.eu/user-corner/service-commitments-and-licence",
           "rel": "license",
           "title": "Copernicus Marine Service Commitments and Licence",
           "type": "text/html"
          },
          {
           "href": "https://doi.org/10.48670/moi-00015",
           "rel": "cite-as",
           "title": "10.48670/moi-00015",
           "type": "text/html"
          },
          {
           "href": "https://data.marine.copernicus.eu/product/GLOBAL_ANALYSISFORECAST_BGC_001_028",
           "rel": "alternative",
           "title": "Product page",
           "type": "text/html"
          },
          {
           "href": "https://catalogue.marine.copernicus.eu/documents/QUID/CMEMS-GLO-QUID-001-028.pdf",
           "rel": "describedby",
           "title": "Quality Information Document",
           "type": "application/pdf"
          },
          {
           "href": "https://catalogue.marine.copernicus.eu/documents/PUM/CMEMS-GLO-PUM-001-028.pdf",
           "rel": "describedby",
           "title": "Product User Manual",
           "type": "application/pdf"
          },
          {
           "href": "https://catalogue.marine.copernicus.eu/documents/SQO/CMEMS-GLO-SQO-001-028.pdf",
           "rel": "describedby",
           "title": "Synthesis Quality Overview",
           "type": "application/pdf"
          },
          {
           "href": "https://hda.data.destination-earth.eu/stac/collections/EO.MO.DAT.GLOBAL_ANALYSISFORECAST_BGC_001_028",
           "rel": "self",
           "title": "EO.MO.DAT.GLOBAL_ANALYSISFORECAST_BGC_001_028"
          },
          {
           "href": "https://hda.data.destination-earth.eu/stac/",
           "rel": "root"
          },
          {
           "href": "https://hda.data.destination-earth.eu/stac/collections/EO.MO.DAT.GLOBAL_ANALYSISFORECAST_BGC_001_028/items",
           "rel": "items",
           "title": "items"
          }
         ],
         "providers": [
          {
           "name": "Mercator Océan International",
           "roles": [
            "producer"
           ]
          },
          {
           "name": "Copernicus Marine Service",
           "roles": [
            "processor"
           ],
           "url": "https://marine.copernicus.eu"
          },
          {
           "name": "cop_marine",
           "roles": [
            "host"
           ],
           "url": "https://marine.copernicus.eu/"
          }
         ],
         "stac_extensions": [
          "https://stac-extensions.github.io/scientific/v1.0.0/schema.json"
         ],
         "stac_version": "1.0.0",
         "title": "Global Ocean Biogeochemistry Analysis and Forecast",
         "type": "Collection"
        },
        {
         "assets": {
          "thumbnail": {
           "href": "https://mdl-metadata.s3.waw3-1.cloudferro.com/metadata/thumbnails/GLOBAL_MULTIYEAR_BGC_001_033.jpg",
           "roles": [
            "thumbnail"
           ],
           "title": "Global ocean low and mid trophic levels biomass content hindcast thumbnail",
           "type": "image/jpeg"
          }
         },
         "description": "The Low and Mid-Trophic Levels (LMTL) reanalysis for global ocean is produced at [CLS](https://www.cls.fr) on behalf of Global Ocean Marine Forecasting Center. It provides 2D fields of biomass content of zooplankton and six functional groups of micronekton. It uses the LMTL component of SEAPODYM dynamical population model (http://www.seapodym.eu). No data assimilation has been done. This product also contains forcing data: net primary production, euphotic depth, depth of each pelagic layers zooplankton and micronekton inhabit, average temperature and currents over pelagic layers.\n\n**Forcings sources:**\n* Ocean currents and temperature (CMEMS multiyear product)\n* Net Primary Production computed from chlorophyll a, Sea Surface Temperature and Photosynthetically Active Radiation observations (chlorophyll from CMEMS multiyear product, SST from NOAA NCEI AVHRR-only Reynolds, PAR from INTERIM) and relaxed by model outputs at high latitudes (CMEMS biogeochemistry multiyear product)\n\n**Vertical coverage:**\n* Epipelagic layer \n* Upper mesopelagic layer\n* Lower mesopelagic layer (max. 1000m)\n\n**DOI (product):**   \nhttps://doi.org/10.48670/moi-00020\n\n**References:**\n\n* Lehodey P., Murtugudde R., Senina I. (2010). Bridging the gap from ocean models to population dynamics of large marine predators: a model of mid-trophic functional groups. Progress in Oceanography, 84, p. 69-84.\n* Lehodey, P., Conchon, A., Senina, I., Domokos, R., Calmettes, B., Jouanno, J., Hernandez, O., Kloser, R. (2015) Optimization of a micronekton model with acoustic data. ICES Journal of Marine Science, 72(5), p. 1399-1412.\n* Conchon A. (2016). Modélisation du zooplancton et du micronecton marins. Thèse de Doctorat, Université de La Rochelle, 136 p.\n",
         "extent": {
          "spatial": {
           "bbox": [
            [
             -180,
             -80,
             179.9166717529297,
             89.91666412353516
            ]
           ]
          },
          "temporal": {
           "interval": [
            [
             "1998-01-01T00:00:00Z",
             "2022-12-31T00:00:00Z"
            ]
           ]
          }
         },
         "id": "EO.MO.DAT.GLOBAL_MULTIYEAR_BGC_001_033",
         "keywords": [
          "sea-water-potential-temperature-vertical-mean-over-pelagic-layer",
          "mass-content-of-migrant-upper-mesopelagic-micronekton-expressed-as-wet-weight-in-sea-water",
          "eastward-sea-water-velocity-vertical-mean-over-pelagic-layer",
          "mass-content-of-epipelagic-micronekton-expressed-as-wet-weight-in-sea-water",
          "marine-resources",
          "weather-climate-and-seasonal-forecasting",
          "mass-content-of-migrant-lower-mesopelagic-micronekton-expressed-as-wet-weight-in-sea-water",
          "euphotic-zone-depth",
          "northward-sea-water-velocity-vertical-mean-over-pelagic-layer",
          "oceanographic-geographical-features",
          "numerical-model",
          "coastal-marine-environment",
          "mass-content-of-highly-migrant-lower-mesopelagic-micronekton-expressed-as-wet-weight-in-sea-water",
          "mass-content-of-lower-mesopelagic-micronekton-expressed-as-wet-weight-in-sea-water",
          "mass-content-of-upper-mesopelagic-micronekton-expressed-as-wet-weight-in-sea-water",
          "level-4",
          "global-ocean",
          "marine-safety",
          "mass-content-of-zooplankton-expressed-as-carbon-in-sea-water",
          "sea-water-pelagic-layer-bottom-depth",
          "invariant",
          "net-primary-productivity-of-biomass-expressed-as-carbon-in-sea-water",
          "multi-year"
         ],
         "license": "proprietary",
         "links": [
          {
           "href": "https://marine.copernicus.eu/user-corner/service-commitments-and-licence",
           "rel": "license",
           "title": "Copernicus Marine Service Commitments and Licence",
           "type": "text/html"
          },
          {
           "href": "https://doi.org/10.48670/moi-00020",
           "rel": "cite-as",
           "title": "10.48670/moi-00020",
           "type": "text/html"
          },
          {
           "href": "https://data.marine.copernicus.eu/product/GLOBAL_MULTIYEAR_BGC_001_033",
           "rel": "alternative",
           "title": "Product page",
           "type": "text/html"
          },
          {
           "href": "https://catalogue.marine.copernicus.eu/documents/QUID/CMEMS-GLO-QUID-001-033.pdf",
           "rel": "describedby",
           "title": "Quality Information Document",
           "type": "application/pdf"
          },
          {
           "href": "https://catalogue.marine.copernicus.eu/documents/PUM/CMEMS-GLO-PUM-001-033.pdf",
           "rel": "describedby",
           "title": "Product User Manual",
           "type": "application/pdf"
          },
          {
           "href": "https://catalogue.marine.copernicus.eu/documents/SQO/CMEMS-GLO-SQO-001-033.pdf",
           "rel": "describedby",
           "title": "Synthesis Quality Overview",
           "type": "application/pdf"
          },
          {
           "href": "https://hda.data.destination-earth.eu/stac/collections/EO.MO.DAT.GLOBAL_MULTIYEAR_BGC_001_033",
           "rel": "self",
           "title": "EO.MO.DAT.GLOBAL_MULTIYEAR_BGC_001_033"
          },
          {
           "href": "https://hda.data.destination-earth.eu/stac/",
           "rel": "root"
          },
          {
           "href": "https://hda.data.destination-earth.eu/stac/collections/EO.MO.DAT.GLOBAL_MULTIYEAR_BGC_001_033/items",
           "rel": "items",
           "title": "items"
          }
         ],
         "providers": [
          {
           "name": "Mercator Océan International",
           "roles": [
            "producer"
           ]
          },
          {
           "name": "Copernicus Marine Service",
           "roles": [
            "processor"
           ],
           "url": "https://marine.copernicus.eu"
          },
          {
           "name": "cop_marine",
           "roles": [
            "host"
           ],
           "url": "https://marine.copernicus.eu/"
          }
         ],
         "stac_extensions": [
          "https://stac-extensions.github.io/scientific/v1.0.0/schema.json"
         ],
         "stac_version": "1.0.0",
         "title": "Global ocean low and mid trophic levels biomass content hindcast",
         "type": "Collection"
        },
        {
         "assets": {
          "thumbnail": {
           "href": "https://mdl-metadata.s3.waw3-1.cloudferro.com/metadata/thumbnails/MULTIOBS_GLO_BGC_NUTRIENTS_CARBON_PROFILES_MYNRT_015_009.jpg",
           "roles": [
            "thumbnail"
           ],
           "title": "Nutrient and carbon profiles vertical distribution thumbnail",
           "type": "image/jpeg"
          }
         },
         "description": "This product consists of vertical profiles of the concentration of nutrients (nitrates, phosphates, and silicates) and carbonate system variables (total alkalinity, dissolved inorganic carbon, pH, and partial pressure of carbon dioxide), computed for each Argo float equipped with an oxygen sensor.\nThe method called CANYON (Carbonate system and Nutrients concentration from hYdrological properties and Oxygen using a Neural-network) is based on a neural network trained using high-quality nutrient data collected over the last 30 years (GLODAPv2 database, https://www.glodap.info/). The method is applied to each Argo float equipped with an oxygen sensor using as input the properties measured by the float (pressure, temperature, salinity, oxygen), and its date and position.\n\n**Product Citation:** Please refer to our Technical FAQ for citing products: http://marine.copernicus.eu/faq/cite-cmems-products-cmems-credit/?idpage=169.\n\n**DOI (product):**\nhttps://doi.org/10.48670/moi-00048\n\n**References:**\n\n* Sauzede R., H. C. Bittig, H. Claustre, O. Pasqueron de Fommervault, J.-P. Gattuso, L. Legendre and K. S. Johnson, 2017: Estimates of Water-Column Nutrient Concentrations and Carbonate System Parameters in the Global Ocean: A novel Approach Based on Neural Networks. Front. Mar. Sci. 4:128. doi: 10.3389/fmars.2017.00128.\n* Bittig H. C., T. Steinhoff, H. Claustre, B. Fiedler, N. L. Williams, R. Sauzède, A. Körtzinger and J.-P. Gattuso,2018: An Alternative to Static Climatologies: Robust Estimation of Open Ocean CO2 Variables and Nutrient Concentrations From T, S, and O2 Data Using Bayesian Neural Networks. Front. Mar. Sci. 5:328. doi: 10.3389/fmars.2018.00328.\n",
         "extent": {
          "spatial": {
           "bbox": [
            [
             -180,
             -90,
             180,
             90
            ]
           ]
          },
          "temporal": {
           "interval": [
            [
             "2002-09-01T00:00:00.000000Z",
             "2022-08-31T00:00:00.000000Z"
            ]
           ]
          }
         },
         "id": "EO.MO.DAT.MULTIOBS_GLO_BGC_NUTRIENTS_CARBON_PROFILES_MYNRT_015_009",
         "keywords": [
          "level-3",
          "marine-resources",
          "weather-climate-and-seasonal-forecasting",
          "sea-water-temperature",
          "in-situ-observation",
          "none",
          "sea-water-pressure",
          "oceanographic-geographical-features",
          "coastal-marine-environment",
          "moles-of-nitrate-per-unit-mass-in-sea-water",
          "sea-water-ph-reported-on-total-scale",
          "moles-of-silicate-per-unit-mass-in-sea-water",
          "global-ocean",
          "moles-of-oxygen-per-unit-mass-in-sea-water",
          "sea-water-salinity",
          "marine-safety",
          "moles-of-phosphate-per-unit-mass-in-sea-water",
          "multi-year"
         ],
         "license": "proprietary",
         "links": [
          {
           "href": "https://marine.copernicus.eu/user-corner/service-commitments-and-licence",
           "rel": "license",
           "title": "Copernicus Marine Service Commitments and Licence",
           "type": "text/html"
          },
          {
           "href": "https://doi.org/10.48670/moi-00048",
           "rel": "cite-as",
           "title": "10.48670/moi-00048",
           "type": "text/html"
          },
          {
           "href": "https://data.marine.copernicus.eu/product/MULTIOBS_GLO_BGC_NUTRIENTS_CARBON_PROFILES_MYNRT_015_009",
           "rel": "alternative",
           "title": "Product page",
           "type": "text/html"
          },
          {
           "href": "https://catalogue.marine.copernicus.eu/documents/PUM/CMEMS-MOB-PUM-015-009.pdf",
           "rel": "describedby",
           "title": "Product User Manual",
           "type": "application/pdf"
          },
          {
           "href": "https://catalogue.marine.copernicus.eu/documents/QUID/CMEMS-MOB-QUID-015-009.pdf",
           "rel": "describedby",
           "title": "Quality Information Document",
           "type": "application/pdf"
          },
          {
           "href": "https://catalogue.marine.copernicus.eu/documents/SQO/CMEMS-MOB-SQO-015-009.pdf",
           "rel": "describedby",
           "title": "Synthesis Quality Overview",
           "type": "application/pdf"
          },
          {
           "href": "https://hda.data.destination-earth.eu/stac/collections/EO.MO.DAT.MULTIOBS_GLO_BGC_NUTRIENTS_CARBON_PROFILES_MYNRT_015_009",
           "rel": "self",
           "title": "EO.MO.DAT.MULTIOBS_GLO_BGC_NUTRIENTS_CARBON_PROFILES_MYNRT_015_009"
          },
          {
           "href": "https://hda.data.destination-earth.eu/stac/",
           "rel": "root"
          },
          {
           "href": "https://hda.data.destination-earth.eu/stac/collections/EO.MO.DAT.MULTIOBS_GLO_BGC_NUTRIENTS_CARBON_PROFILES_MYNRT_015_009/items",
           "rel": "items",
           "title": "items"
          }
         ],
         "providers": [
          {
           "name": "LOV (France)",
           "roles": [
            "producer"
           ]
          },
          {
           "name": "Copernicus Marine Service",
           "roles": [
            "processor"
           ],
           "url": "https://marine.copernicus.eu"
          },
          {
           "name": "cop_marine",
           "roles": [
            "host"
           ],
           "url": "https://marine.copernicus.eu/"
          }
         ],
         "stac_extensions": [
          "https://stac-extensions.github.io/scientific/v1.0.0/schema.json"
         ],
         "stac_version": "1.0.0",
         "title": "Nutrient and carbon profiles vertical distribution",
         "type": "Collection"
        },
        {
         "assets": {
          "thumbnail": {
           "href": "https://mdl-metadata.s3.waw3-1.cloudferro.com/metadata/thumbnails/MULTIOBS_GLO_BIO_BGC_3D_REP_015_010.jpg",
           "roles": [
            "thumbnail"
           ],
           "title": "Global Ocean 3D Chlorophyll-a concentration, Particulate Backscattering coefficient and Particulate Organic Carbon thumbnail",
           "type": "image/jpeg"
          }
         },
         "description": "This product consists of 3D fields of Particulate Organic Carbon (POC), Particulate Backscattering coefficient (bbp) and Chlorophyll-a concentration (Chla) at depth. The reprocessed product is provided at 0.25°x0.25° horizontal resolution, over 36 levels from the surface to 1000 m depth. \nA neural network method estimates both the vertical distribution of Chla concentration and of particulate backscattering coefficient (bbp), a bio-optical proxy for POC, from merged surface ocean color satellite measurements with hydrological properties and additional relevant drivers. \n\n**DOI (product):**\nhttps://doi.org/10.48670/moi-00046\n\n**Product Citation:** \nPlease refer to our Technical FAQ for citing products: http://marine.copernicus.eu/faq/cite-cmems-products-cmems-credit/?idpage=169.\n\n**References:**\n\n* Sauzede R., H. Claustre, J. Uitz, C. Jamet, G. Dall’Olmo, F. D’Ortenzio, B. Gentili, A. Poteau, and C. Schmechtig, 2016: A neural network-based method for merging ocean color and Argo data to extend surface bio-optical properties to depth: Retrieval of the particulate backscattering coefficient, J. Geophys. Res. Oceans, 121, doi:10.1002/2015JC011408.\n",
         "extent": {
          "spatial": {
           "bbox": [
            [
             -179.875,
             -82.125,
             179.875,
             89.875
            ]
           ]
          },
          "temporal": {
           "interval": [
            [
             "1998-01-07T00:00:00Z",
             "2021-12-29T00:00:00Z"
            ]
           ]
          }
         },
         "id": "EO.MO.DAT.MULTIOBS_GLO_BIO_BGC_3D_REP_015_010",
         "keywords": [
          "volume-backwards-scattering-coefficient-of-radiative-flux-in-sea-water-due-to-particles",
          "level-4",
          "oceanographic-geographical-features",
          "global-ocean",
          "marine-resources",
          "in-situ-observation",
          "coastal-marine-environment",
          "marine-safety",
          "none",
          "mass-concentration-of-particulate-organic-matter-expressed-as-carbon-in-sea-water",
          "satellite-observation",
          "multi-year",
          "mass-concentration-of-chlorophyll-a-in-sea-water",
          "weather-climate-and-seasonal-forecasting"
         ],
         "license": "proprietary",
         "links": [
          {
           "href": "https://marine.copernicus.eu/user-corner/service-commitments-and-licence",
           "rel": "license",
           "title": "Copernicus Marine Service Commitments and Licence",
           "type": "text/html"
          },
          {
           "href": "https://doi.org/10.48670/moi-00046",
           "rel": "cite-as",
           "title": "10.48670/moi-00046",
           "type": "text/html"
          },
          {
           "href": "https://data.marine.copernicus.eu/product/MULTIOBS_GLO_BIO_BGC_3D_REP_015_010",
           "rel": "alternative",
           "title": "Product page",
           "type": "text/html"
          },
          {
           "href": "https://catalogue.marine.copernicus.eu/documents/PUM/CMEMS-MOB-PUM-015-010.pdf",
           "rel": "describedby",
           "title": "Product User Manual",
           "type": "application/pdf"
          },
          {
           "href": "https://catalogue.marine.copernicus.eu/documents/QUID/CMEMS-MOB-QUID-015-010.pdf",
           "rel": "describedby",
           "title": "Quality Information Document",
           "type": "application/pdf"
          },
          {
           "href": "https://catalogue.marine.copernicus.eu/documents/SQO/CMEMS-MOB-SQO-015-010.pdf",
           "rel": "describedby",
           "title": "Synthesis Quality Overview",
           "type": "application/pdf"
          },
          {
           "href": "https://hda.data.destination-earth.eu/stac/collections/EO.MO.DAT.MULTIOBS_GLO_BIO_BGC_3D_REP_015_010",
           "rel": "self",
           "title": "EO.MO.DAT.MULTIOBS_GLO_BIO_BGC_3D_REP_015_010"
          },
          {
           "href": "https://hda.data.destination-earth.eu/stac/",
           "rel": "root"
          },
          {
           "href": "https://hda.data.destination-earth.eu/stac/collections/EO.MO.DAT.MULTIOBS_GLO_BIO_BGC_3D_REP_015_010/items",
           "rel": "items",
           "title": "items"
          }
         ],
         "providers": [
          {
           "name": "LOV (France)",
           "roles": [
            "producer"
           ]
          },
          {
           "name": "Copernicus Marine Service",
           "roles": [
            "processor"
           ],
           "url": "https://marine.copernicus.eu"
          },
          {
           "name": "cop_marine",
           "roles": [
            "host"
           ],
           "url": "https://marine.copernicus.eu/"
          }
         ],
         "stac_extensions": [
          "https://stac-extensions.github.io/scientific/v1.0.0/schema.json"
         ],
         "stac_version": "1.0.0",
         "title": "Global Ocean 3D Chlorophyll-a concentration, Particulate Backscattering coefficient and Particulate Organic Carbon",
         "type": "Collection"
        },
        {
         "assets": {
          "thumbnail": {
           "href": "https://mdl-metadata.s3.waw3-1.cloudferro.com/metadata/thumbnails/MULTIOBS_GLO_BIO_CARBON_SURFACE_REP_015_008.jpg",
           "roles": [
            "thumbnail"
           ],
           "title": "Global Ocean Surface Carbon thumbnail",
           "type": "image/jpeg"
          }
         },
         "description": "This product corresponds to a REP L4 time series of monthly global reconstructed surface ocean pCO2, air-sea fluxes of CO2, pH, total alkalinity, dissolved inorganic carbon, saturation state with respect to calcite and aragonite, and associated uncertainties on a 0.25° x 0.25° regular grid. The product is obtained from an ensemble-based forward feed neural network approach mapping situ data for surface ocean fugacity (SOCAT data base, Bakker et al.  2016, https://www.socat.info/) and sea surface salinity, temperature, sea surface height, chlorophyll a, mixed layer depth and atmospheric CO2 mole fraction. Sea-air flux fields are computed from the air-sea gradient of pCO2 and the dependence on wind speed of Wanninkhof (2014). Surface ocean pH on total scale, dissolved inorganic carbon, and saturation states are then computed from surface ocean pCO2 and reconstructed surface ocean alkalinity using the CO2sys speciation software.\n\n**Product Citation**: Please refer to our Technical FAQ for citing products: http://marine.copernicus.eu/faq/cite-cmems-products-cmems-credit/?idpage=169.\n\n**DOI (product):**\nhttps://doi.org/10.48670/moi-00047\n\n**References:**\n\n* Chau, T. T. T., Gehlen, M., and Chevallier, F.: A seamless ensemble-based reconstruction of surface ocean pCO2 and air–sea CO2 fluxes over the global coastal and open oceans, Biogeosciences, 19, 1087–1109, https://doi.org/10.5194/bg-19-1087-2022, 2022.\n",
         "extent": {
          "spatial": {
           "bbox": [
            [
             -179.875,
             -88.125,
             179.875,
             89.875
            ]
           ]
          },
          "temporal": {
           "interval": [
            [
             "1985-01-01T00:00:00Z",
             "2022-12-01T00:00:00Z"
            ]
           ]
          }
         },
         "id": "EO.MO.DAT.MULTIOBS_GLO_BIO_CARBON_SURFACE_REP_015_008",
         "keywords": [
          "level-4",
          "oceanographic-geographical-features",
          "global-ocean",
          "marine-resources",
          "in-situ-observation",
          "marine-safety",
          "coastal-marine-environment",
          "surface-partial-pressure-of-carbon-dioxide-in-sea-water",
          "surface-downward-mass-flux-of-carbon-dioxide-expressed-as-carbon",
          "sea-water-ph-reported-on-total-scale",
          "none",
          "multi-year",
          "weather-climate-and-seasonal-forecasting"
         ],
         "license": "proprietary",
         "links": [
          {
           "href": "https://marine.copernicus.eu/user-corner/service-commitments-and-licence",
           "rel": "license",
           "title": "Copernicus Marine Service Commitments and Licence",
           "type": "text/html"
          },
          {
           "href": "https://doi.org/10.48670/moi-00047",
           "rel": "cite-as",
           "title": "10.48670/moi-00047",
           "type": "text/html"
          },
          {
           "href": "https://data.marine.copernicus.eu/product/MULTIOBS_GLO_BIO_CARBON_SURFACE_REP_015_008",
           "rel": "alternative",
           "title": "Product page",
           "type": "text/html"
          },
          {
           "href": "https://catalogue.marine.copernicus.eu/documents/PUM/CMEMS-MOB-PUM-015-008.pdf",
           "rel": "describedby",
           "title": "Product User Manual",
           "type": "application/pdf"
          },
          {
           "href": "https://catalogue.marine.copernicus.eu/documents/QUID/CMEMS-MOB-QUID-015-008.pdf",
           "rel": "describedby",
           "title": "Quality Information Document",
           "type": "application/pdf"
          },
          {
           "href": "https://catalogue.marine.copernicus.eu/documents/SQO/CMEMS-MOB-SQO-015-008.pdf",
           "rel": "describedby",
           "title": "Synthesis Quality Overview",
           "type": "application/pdf"
          },
          {
           "href": "https://hda.data.destination-earth.eu/stac/collections/EO.MO.DAT.MULTIOBS_GLO_BIO_CARBON_SURFACE_REP_015_008",
           "rel": "self",
           "title": "EO.MO.DAT.MULTIOBS_GLO_BIO_CARBON_SURFACE_REP_015_008"
          },
          {
           "href": "https://hda.data.destination-earth.eu/stac/",
           "rel": "root"
          },
          {
           "href": "https://hda.data.destination-earth.eu/stac/collections/EO.MO.DAT.MULTIOBS_GLO_BIO_CARBON_SURFACE_REP_015_008/items",
           "rel": "items",
           "title": "items"
          }
         ],
         "providers": [
          {
           "name": "LSCE (France)",
           "roles": [
            "producer"
           ]
          },
          {
           "name": "Copernicus Marine Service",
           "roles": [
            "processor"
           ],
           "url": "https://marine.copernicus.eu"
          },
          {
           "name": "cop_marine",
           "roles": [
            "host"
           ],
           "url": "https://marine.copernicus.eu/"
          }
         ],
         "stac_extensions": [
          "https://stac-extensions.github.io/scientific/v1.0.0/schema.json"
         ],
         "stac_version": "1.0.0",
         "title": "Global Ocean Surface Carbon",
         "type": "Collection"
        },
        {
         "assets": {
          "thumbnail": {
           "href": "https://mdl-metadata.s3.waw3-1.cloudferro.com/metadata/thumbnails/OCEANCOLOUR_GLO_BGC_L3_MY_009_103.jpg",
           "roles": [
            "thumbnail"
           ],
           "title": "Global Ocean Colour (Copernicus-GlobColour), Bio-Geo-Chemical, L3 (daily) from Satellite Observations (1997-ongoing) thumbnail",
           "type": "image/jpeg"
          }
         },
         "description": "For the **Global** Ocean **Satellite Observations**, ACRI-ST company (Sophia Antipolis, France) is providing **Bio-Geo-Chemical (BGC)** products based on the **Copernicus-GlobColour** processor.\n* Upstreams: SeaWiFS, MODIS, MERIS, VIIRS-SNPP & JPSS1, OLCI-S3A & S3B for the **\"multi\"** products, and S3A & S3B only for the **\"olci\"** products.\n* Variables: Chlorophyll-a (**CHL**), Phytoplankton Functional types and sizes (**PFT**), Suspended Matter (**SPM**), Secchi Transparency Depth (**ZSD**), Diffuse Attenuation (**KD490**), Particulate Backscattering (**BBP**), Absorption Coef. (**CDM**) and  Reflectance (**RRS**).\n\n* Temporal resolutions: **daily**.\n* Spatial resolutions: **4 km** and a finer resolution based on olci **300 meters** inputs.\n* Recent products are organized in datasets called Near Real Time (**NRT**) and long time-series (from 1997) in datasets called Multi-Years (**MY**).\n\nTo find the **Copernicus-GlobColour** products in the catalogue, use the search keyword **\"GlobColour\"**.\n\n**DOI (product):**   \nhttps://doi.org/10.48670/moi-00280",
         "extent": {
          "spatial": {
           "bbox": [
            [
             -179.99722290039062,
             -89.99722290039062,
             179.9972381591797,
             89.99722290039062
            ]
           ]
          },
          "temporal": {
           "interval": [
            [
             "1997-09-04T00:00:00Z",
             "2024-06-03T00:00:00Z"
            ]
           ]
          }
         },
         "id": "EO.MO.DAT.OCEANCOLOUR_GLO_BGC_L3_MY_009_103",
         "keywords": [
          "secchi-depth-of-sea-water",
          "mass-concentration-of-picophytoplankton-expressed-as-chlorophyll-in-sea-water",
          "surface-ratio-of-upwelling-radiance-emerging-from-sea-water-to-downwelling-radiative-flux-in-air",
          "level-3",
          "mass-concentration-of-prokaryotes-expressed-as-chlorophyll-in-sea-water",
          "marine-resources",
          "weather-climate-and-seasonal-forecasting",
          "volume-backwards-scattering-coefficient-of-radiative-flux-in-sea-water-due-to-particles",
          "mass-concentration-of-greenalgae-and-prochlorophytes-expressed-as-chlorophyll-in-sea-water",
          "mass-concentration-of-chlorophyll-a-in-sea-water",
          "mass-concentration-of-haptophytes-expressed-as-chlorophyll-in-sea-water",
          "mass-concentration-of-dinophytes-expressed-as-chlorophyll-in-sea-water",
          "oceanographic-geographical-features",
          "coastal-marine-environment",
          "mass-concentration-of-diatoms-expressed-as-chlorophyll-in-sea-water",
          "satellite-observation",
          "mass-concentration-of-prochlorococcus-expressed-as-chlorophyll-in-sea-water",
          "global-ocean",
          "volume-absorption-coefficient-of-radiative-flux-in-sea-water-due-to-dissolved-organic-matter-and-non-algal-particles",
          "mass-concentration-of-nanophytoplankton-expressed-as-chlorophyll-in-sea-water",
          "marine-safety",
          "mass-concentration-of-microphytoplankton-expressed-as-chlorophyll-in-sea-water",
          "mass-concentration-of-suspended-particulate-matter-in-sea-water",
          "volume-attenuation-coefficient-of-downwelling-radiative-flux-in-sea-water",
          "multi-year"
         ],
         "license": "proprietary",
         "links": [
          {
           "href": "https://marine.copernicus.eu/user-corner/service-commitments-and-licence",
           "rel": "license",
           "title": "Copernicus Marine Service Commitments and Licence",
           "type": "text/html"
          },
          {
           "href": "https://doi.org/10.48670/moi-00280",
           "rel": "cite-as",
           "title": "10.48670/moi-00280",
           "type": "text/html"
          },
          {
           "href": "https://data.marine.copernicus.eu/product/OCEANCOLOUR_GLO_BGC_L3_MY_009_103",
           "rel": "alternative",
           "title": "Product page",
           "type": "text/html"
          },
          {
           "href": "https://catalogue.marine.copernicus.eu/documents/PUM/CMEMS-OC-PUM.pdf",
           "rel": "describedby",
           "title": "Product User Manual",
           "type": "application/pdf"
          },
          {
           "href": "https://catalogue.marine.copernicus.eu/documents/QUID/CMEMS-OC-QUID-009-101to104-111-113-116-118.pdf",
           "rel": "describedby",
           "title": "Quality Information Document",
           "type": "application/pdf"
          },
          {
           "href": "https://catalogue.marine.copernicus.eu/documents/SQO/CMEMS-OC-SQO-009-101to104-111-113-116-118.pdf",
           "rel": "describedby",
           "title": "Synthesis Quality Overview",
           "type": "application/pdf"
          },
          {
           "href": "https://hda.data.destination-earth.eu/stac/collections/EO.MO.DAT.OCEANCOLOUR_GLO_BGC_L3_MY_009_103",
           "rel": "self",
           "title": "EO.MO.DAT.OCEANCOLOUR_GLO_BGC_L3_MY_009_103"
          },
          {
           "href": "https://hda.data.destination-earth.eu/stac/",
           "rel": "root"
          },
          {
           "href": "https://hda.data.destination-earth.eu/stac/collections/EO.MO.DAT.OCEANCOLOUR_GLO_BGC_L3_MY_009_103/items",
           "rel": "items",
           "title": "items"
          }
         ],
         "providers": [
          {
           "name": "ACRI (France)",
           "roles": [
            "producer"
           ]
          },
          {
           "name": "Copernicus Marine Service",
           "roles": [
            "processor"
           ],
           "url": "https://marine.copernicus.eu"
          },
          {
           "name": "cop_marine",
           "roles": [
            "host"
           ],
           "url": "https://marine.copernicus.eu/"
          }
         ],
         "stac_extensions": [
          "https://stac-extensions.github.io/scientific/v1.0.0/schema.json"
         ],
         "stac_version": "1.0.0",
         "title": "Global Ocean Colour (Copernicus-GlobColour), Bio-Geo-Chemical, L3 (daily) from Satellite Observations (1997-ongoing)",
         "type": "Collection"
        },
        {
         "assets": {
          "thumbnail": {
           "href": "https://mdl-metadata.s3.waw3-1.cloudferro.com/metadata/thumbnails/OCEANCOLOUR_GLO_BGC_L3_MY_009_107.jpg",
           "roles": [
            "thumbnail"
           ],
           "title": "Global Ocean Colour Plankton and Reflectances MY L3 daily observations thumbnail",
           "type": "image/jpeg"
          }
         },
         "description": "For the **Global** Ocean **Satellite Observations**, Brockmann Consult (BC) is providing **Bio-Geo_Chemical (BGC)** products based on the ESA-CCI inputs.\n* Upstreams: SeaWiFS, MODIS, MERIS, VIIRS-SNPP, OLCI-S3A & OLCI-S3B for the **\"\"multi\"\"** products.\n* Variables: Chlorophyll-a (**CHL**), Phytoplankton Functional types and sizes (**PFT**) and  Reflectance (**RRS**).\n\n* Temporal resolutions: **daily**, **monthly**.\n* Spatial resolutions: **4 km** (multi).\n* Recent products are organized in datasets called Near Real Time (**NRT**) and long time-series (from 1997) in datasets called Multi-Years (**MY**).\n\nTo find these products in the catalogue, use the search keyword **\"\"ESA-CCI\"\"**.\n\n**DOI (product):**   \nhttps://doi.org/10.48670/moi-00282",
         "extent": {
          "spatial": {
           "bbox": [
            [
             -179.97916666666666,
             -89.97916666666666,
             179.97916666666663,
             89.97916666666667
            ]
           ]
          },
          "temporal": {
           "interval": [
            [
             "1997-09-04T00:00:00Z",
             "2024-04-30T00:00:00Z"
            ]
           ]
          }
         },
         "id": "EO.MO.DAT.OCEANCOLOUR_GLO_BGC_L3_MY_009_107",
         "keywords": [
          "mass-concentration-of-picophytoplankton-expressed-as-chlorophyll-in-sea-water",
          "oceanographic-geographical-features",
          "mass-concentration-of-nanophytoplankton-expressed-as-chlorophyll-in-sea-water",
          "marine-resources",
          "global-ocean",
          "marine-safety",
          "coastal-marine-environment",
          "surface-ratio-of-upwelling-radiance-emerging-from-sea-water-to-downwelling-radiative-flux-in-air",
          "level-3",
          "mass-concentration-of-microphytoplankton-expressed-as-chlorophyll-in-sea-water",
          "satellite-observation",
          "multi-year",
          "mass-concentration-of-chlorophyll-a-in-sea-water",
          "weather-climate-and-seasonal-forecasting"
         ],
         "license": "proprietary",
         "links": [
          {
           "href": "https://marine.copernicus.eu/user-corner/service-commitments-and-licence",
           "rel": "license",
           "title": "Copernicus Marine Service Commitments and Licence",
           "type": "text/html"
          },
          {
           "href": "https://doi.org/10.48670/moi-00282",
           "rel": "cite-as",
           "title": "10.48670/moi-00282",
           "type": "text/html"
          },
          {
           "href": "https://data.marine.copernicus.eu/product/OCEANCOLOUR_GLO_BGC_L3_MY_009_107",
           "rel": "alternative",
           "title": "Product page",
           "type": "text/html"
          },
          {
           "href": "https://catalogue.marine.copernicus.eu/documents/PUM/CMEMS-OC-PUM.pdf",
           "rel": "describedby",
           "title": "Product User Manual",
           "type": "application/pdf"
          },
          {
           "href": "https://catalogue.marine.copernicus.eu/documents/QUID/CMEMS-OC-QUID-009-107to108.pdf",
           "rel": "describedby",
           "title": "Quality Information Document",
           "type": "application/pdf"
          },
          {
           "href": "https://catalogue.marine.copernicus.eu/documents/SQO/CMEMS-OC-SQO-009-107to108.pdf",
           "rel": "describedby",
           "title": "Synthesis Quality Overview",
           "type": "application/pdf"
          },
          {
           "href": "https://hda.data.destination-earth.eu/stac/collections/EO.MO.DAT.OCEANCOLOUR_GLO_BGC_L3_MY_009_107",
           "rel": "self",
           "title": "EO.MO.DAT.OCEANCOLOUR_GLO_BGC_L3_MY_009_107"
          },
          {
           "href": "https://hda.data.destination-earth.eu/stac/",
           "rel": "root"
          },
          {
           "href": "https://hda.data.destination-earth.eu/stac/collections/EO.MO.DAT.OCEANCOLOUR_GLO_BGC_L3_MY_009_107/items",
           "rel": "items",
           "title": "items"
          }
         ],
         "providers": [
          {
           "name": "BC (Germany)",
           "roles": [
            "producer"
           ]
          },
          {
           "name": "Copernicus Marine Service",
           "roles": [
            "processor"
           ],
           "url": "https://marine.copernicus.eu"
          },
          {
           "name": "cop_marine",
           "roles": [
            "host"
           ],
           "url": "https://marine.copernicus.eu/"
          }
         ],
         "stac_extensions": [
          "https://stac-extensions.github.io/scientific/v1.0.0/schema.json"
         ],
         "stac_version": "1.0.0",
         "title": "Global Ocean Colour Plankton and Reflectances MY L3 daily observations",
         "type": "Collection"
        },
        {
         "assets": {
          "thumbnail": {
           "href": "https://mdl-metadata.s3.waw3-1.cloudferro.com/metadata/thumbnails/OCEANCOLOUR_GLO_BGC_L3_NRT_009_101.jpg",
           "roles": [
            "thumbnail"
           ],
           "title": "Global Ocean Colour (Copernicus-GlobColour), Bio-Geo-Chemical, L3 (daily) from Satellite Observations (Near Real Time) thumbnail",
           "type": "image/jpeg"
          }
         },
         "description": "For the **Global** Ocean **Satellite Observations**, ACRI-ST company (Sophia Antipolis, France) is providing **Bio-Geo-Chemical (BGC)** products based on the **Copernicus-GlobColour** processor.\n* Upstreams: SeaWiFS, MODIS, MERIS, VIIRS-SNPP & JPSS1, OLCI-S3A & S3B for the **\"multi\"** products, and S3A & S3B only for the **\"olci\"** products.\n* Variables: Chlorophyll-a (**CHL**), Phytoplankton Functional types and sizes (**PFT**), Suspended Matter (**SPM**), Secchi Transparency Depth (**ZSD**), Diffuse Attenuation (**KD490**), Particulate Backscattering (**BBP**), Absorption Coef. (**CDM**) and  Reflectance (**RRS**).\n\n* Temporal resolutions: **daily**\n* Spatial resolutions: **4 km** and a finer resolution based on olci **300 meters** inputs.\n* Recent products are organized in datasets called Near Real Time (**NRT**) and long time-series (from 1997) in datasets called Multi-Years (**MY**).\n\nTo find the **Copernicus-GlobColour** products in the catalogue, use the search keyword **\"GlobColour\"**.\n\n**DOI (product):**   \nhttps://doi.org/10.48670/moi-00278",
         "extent": {
          "spatial": {
           "bbox": [
            [
             -179.99722290039062,
             -89.99722290039062,
             179.9972381591797,
             89.99722290039062
            ]
           ]
          },
          "temporal": {
           "interval": [
            [
             "2023-04-25T00:00:00Z",
             "2024-06-10T00:00:00Z"
            ]
           ]
          }
         },
         "id": "EO.MO.DAT.OCEANCOLOUR_GLO_BGC_L3_NRT_009_101",
         "keywords": [
          "secchi-depth-of-sea-water",
          "mass-concentration-of-picophytoplankton-expressed-as-chlorophyll-in-sea-water",
          "surface-ratio-of-upwelling-radiance-emerging-from-sea-water-to-downwelling-radiative-flux-in-air",
          "level-3",
          "near-real-time",
          "mass-concentration-of-prokaryotes-expressed-as-chlorophyll-in-sea-water",
          "marine-resources",
          "weather-climate-and-seasonal-forecasting",
          "volume-backwards-scattering-coefficient-of-radiative-flux-in-sea-water-due-to-particles",
          "mass-concentration-of-greenalgae-and-prochlorophytes-expressed-as-chlorophyll-in-sea-water",
          "mass-concentration-of-haptophytes-expressed-as-chlorophyll-in-sea-water",
          "mass-concentration-of-dinophytes-expressed-as-chlorophyll-in-sea-water",
          "oceanographic-geographical-features",
          "coastal-marine-environment",
          "mass-concentration-of-diatoms-expressed-as-chlorophyll-in-sea-water",
          "satellite-observation",
          "mass-concentration-of-prochlorococcus-expressed-as-chlorophyll-in-sea-water",
          "global-ocean",
          "volume-absorption-coefficient-of-radiative-flux-in-sea-water-due-to-dissolved-organic-matter-and-non-algal-particles",
          "mass-concentration-of-nanophytoplankton-expressed-as-chlorophyll-in-sea-water",
          "marine-safety",
          "mass-concentration-of-microphytoplankton-expressed-as-chlorophyll-in-sea-water",
          "mass-concentration-of-suspended-particulate-matter-in-sea-water",
          "volume-attenuation-coefficient-of-downwelling-radiative-flux-in-sea-water",
          "mass-concentration-of-chlorophyll-a-in-sea-water"
         ],
         "license": "proprietary",
         "links": [
          {
           "href": "https://marine.copernicus.eu/user-corner/service-commitments-and-licence",
           "rel": "license",
           "title": "Copernicus Marine Service Commitments and Licence",
           "type": "text/html"
          },
          {
           "href": "https://doi.org/10.48670/moi-00278",
           "rel": "cite-as",
           "title": "10.48670/moi-00278",
           "type": "text/html"
          },
          {
           "href": "https://data.marine.copernicus.eu/product/OCEANCOLOUR_GLO_BGC_L3_NRT_009_101",
           "rel": "alternative",
           "title": "Product page",
           "type": "text/html"
          },
          {
           "href": "https://catalogue.marine.copernicus.eu/documents/PUM/CMEMS-OC-PUM.pdf",
           "rel": "describedby",
           "title": "Product User Manual",
           "type": "application/pdf"
          },
          {
           "href": "https://catalogue.marine.copernicus.eu/documents/QUID/CMEMS-OC-QUID-009-101to104-111-113-116-118.pdf",
           "rel": "describedby",
           "title": "Quality Information Document",
           "type": "application/pdf"
          },
          {
           "href": "https://catalogue.marine.copernicus.eu/documents/SQO/CMEMS-OC-SQO-009-101to104-111-113-116-118.pdf",
           "rel": "describedby",
           "title": "Synthesis Quality Overview",
           "type": "application/pdf"
          },
          {
           "href": "https://hda.data.destination-earth.eu/stac/collections/EO.MO.DAT.OCEANCOLOUR_GLO_BGC_L3_NRT_009_101",
           "rel": "self",
           "title": "EO.MO.DAT.OCEANCOLOUR_GLO_BGC_L3_NRT_009_101"
          },
          {
           "href": "https://hda.data.destination-earth.eu/stac/",
           "rel": "root"
          },
          {
           "href": "https://hda.data.destination-earth.eu/stac/collections/EO.MO.DAT.OCEANCOLOUR_GLO_BGC_L3_NRT_009_101/items",
           "rel": "items",
           "title": "items"
          }
         ],
         "providers": [
          {
           "name": "ACRI (France)",
           "roles": [
            "producer"
           ]
          },
          {
           "name": "Copernicus Marine Service",
           "roles": [
            "processor"
           ],
           "url": "https://marine.copernicus.eu"
          },
          {
           "name": "cop_marine",
           "roles": [
            "host"
           ],
           "url": "https://marine.copernicus.eu/"
          }
         ],
         "stac_extensions": [
          "https://stac-extensions.github.io/scientific/v1.0.0/schema.json"
         ],
         "stac_version": "1.0.0",
         "title": "Global Ocean Colour (Copernicus-GlobColour), Bio-Geo-Chemical, L3 (daily) from Satellite Observations (Near Real Time)",
         "type": "Collection"
        },
        {
         "assets": {
          "thumbnail": {
           "href": "https://mdl-metadata.s3.waw3-1.cloudferro.com/metadata/thumbnails/OCEANCOLOUR_GLO_BGC_L4_MY_009_104.jpg",
           "roles": [
            "thumbnail"
           ],
           "title": "Global Ocean Colour (Copernicus-GlobColour), Bio-Geo-Chemical, L4 (monthly and interpolated) from Satellite Observations (1997-ongoing) thumbnail",
           "type": "image/jpeg"
          }
         },
         "description": "For the **Global** Ocean **Satellite Observations**, ACRI-ST company (Sophia Antipolis, France) is providing **Bio-Geo-Chemical (BGC)** products based on the **Copernicus-GlobColour** processor.\n* Upstreams: SeaWiFS, MODIS, MERIS, VIIRS-SNPP & JPSS1, OLCI-S3A & S3B for the **\"\"multi\"\"** products, and S3A & S3B only for the **\"\"olci\"\"** products.\n* Variables: Chlorophyll-a (**CHL**), Phytoplankton Functional types and sizes (**PFT**), Primary Production (**PP**), Suspended Matter (**SPM**), Secchi Transparency Depth (**ZSD**), Diffuse Attenuation (**KD490**), Particulate Backscattering (**BBP**), Absorption Coef. (**CDM**) and  Reflectance (**RRS**).\n\n* Temporal resolutions: **monthly** plus, for some variables, **daily gap-free** based on a space-time interpolation to provide a \"\"cloud free\"\" product.\n* Spatial resolutions: **4 km** and a finer resolution based on olci **300 meters** inputs.\n* Recent products are organized in datasets called Near Real Time (**NRT**) and long time-series (from 1997) in datasets called Multi-Years (**MY**).\n\nTo find the **Copernicus-GlobColour** products in the catalogue, use the search keyword **\"\"GlobColour\"\"**.\"\n\n**DOI (product):**   \nhttps://doi.org/10.48670/moi-00281",
         "extent": {
          "spatial": {
           "bbox": [
            [
             -179.99722290039062,
             -89.99722290039062,
             179.9972381591797,
             89.99722290039062
            ]
           ]
          },
          "temporal": {
           "interval": [
            [
             "1997-09-01T00:00:00Z",
             "2024-06-03T00:00:00Z"
            ]
           ]
          }
         },
         "id": "EO.MO.DAT.OCEANCOLOUR_GLO_BGC_L4_MY_009_104",
         "keywords": [
          "secchi-depth-of-sea-water",
          "mass-concentration-of-picophytoplankton-expressed-as-chlorophyll-in-sea-water",
          "surface-ratio-of-upwelling-radiance-emerging-from-sea-water-to-downwelling-radiative-flux-in-air",
          "mass-concentration-of-prokaryotes-expressed-as-chlorophyll-in-sea-water",
          "marine-resources",
          "weather-climate-and-seasonal-forecasting",
          "volume-backwards-scattering-coefficient-of-radiative-flux-in-sea-water-due-to-particles",
          "mass-concentration-of-greenalgae-and-prochlorophytes-expressed-as-chlorophyll-in-sea-water",
          "mass-concentration-of-chlorophyll-a-in-sea-water",
          "mass-concentration-of-haptophytes-expressed-as-chlorophyll-in-sea-water",
          "mass-concentration-of-dinophytes-expressed-as-chlorophyll-in-sea-water",
          "oceanographic-geographical-features",
          "coastal-marine-environment",
          "mass-concentration-of-diatoms-expressed-as-chlorophyll-in-sea-water",
          "satellite-observation",
          "mass-concentration-of-prochlorococcus-expressed-as-chlorophyll-in-sea-water",
          "level-4",
          "global-ocean",
          "volume-absorption-coefficient-of-radiative-flux-in-sea-water-due-to-dissolved-organic-matter-and-non-algal-particles",
          "mass-concentration-of-nanophytoplankton-expressed-as-chlorophyll-in-sea-water",
          "marine-safety",
          "mass-concentration-of-microphytoplankton-expressed-as-chlorophyll-in-sea-water",
          "mass-concentration-of-suspended-particulate-matter-in-sea-water",
          "volume-attenuation-coefficient-of-downwelling-radiative-flux-in-sea-water",
          "multi-year"
         ],
         "license": "proprietary",
         "links": [
          {
           "href": "https://marine.copernicus.eu/user-corner/service-commitments-and-licence",
           "rel": "license",
           "title": "Copernicus Marine Service Commitments and Licence",
           "type": "text/html"
          },
          {
           "href": "https://doi.org/10.48670/moi-00281",
           "rel": "cite-as",
           "title": "10.48670/moi-00281",
           "type": "text/html"
          },
          {
           "href": "https://data.marine.copernicus.eu/product/OCEANCOLOUR_GLO_BGC_L4_MY_009_104",
           "rel": "alternative",
           "title": "Product page",
           "type": "text/html"
          },
          {
           "href": "https://catalogue.marine.copernicus.eu/documents/PUM/CMEMS-OC-PUM.pdf",
           "rel": "describedby",
           "title": "Product User Manual",
           "type": "application/pdf"
          },
          {
           "href": "https://catalogue.marine.copernicus.eu/documents/QUID/CMEMS-OC-QUID-009-101to104-111-113-116-118.pdf",
           "rel": "describedby",
           "title": "Quality Information Document",
           "type": "application/pdf"
          },
          {
           "href": "https://catalogue.marine.copernicus.eu/documents/SQO/CMEMS-OC-SQO-009-101to104-111-113-116-118.pdf",
           "rel": "describedby",
           "title": "Synthesis Quality Overview",
           "type": "application/pdf"
          },
          {
           "href": "https://hda.data.destination-earth.eu/stac/collections/EO.MO.DAT.OCEANCOLOUR_GLO_BGC_L4_MY_009_104",
           "rel": "self",
           "title": "EO.MO.DAT.OCEANCOLOUR_GLO_BGC_L4_MY_009_104"
          },
          {
           "href": "https://hda.data.destination-earth.eu/stac/",
           "rel": "root"
          },
          {
           "href": "https://hda.data.destination-earth.eu/stac/collections/EO.MO.DAT.OCEANCOLOUR_GLO_BGC_L4_MY_009_104/items",
           "rel": "items",
           "title": "items"
          }
         ],
         "providers": [
          {
           "name": "ACRI (France)",
           "roles": [
            "producer"
           ]
          },
          {
           "name": "Copernicus Marine Service",
           "roles": [
            "processor"
           ],
           "url": "https://marine.copernicus.eu"
          },
          {
           "name": "cop_marine",
           "roles": [
            "host"
           ],
           "url": "https://marine.copernicus.eu/"
          }
         ],
         "stac_extensions": [
          "https://stac-extensions.github.io/scientific/v1.0.0/schema.json"
         ],
         "stac_version": "1.0.0",
         "title": "Global Ocean Colour (Copernicus-GlobColour), Bio-Geo-Chemical, L4 (monthly and interpolated) from Satellite Observations (1997-ongoing)",
         "type": "Collection"
        },
        {
         "assets": {
          "thumbnail": {
           "href": "https://mdl-metadata.s3.waw3-1.cloudferro.com/metadata/thumbnails/OCEANCOLOUR_GLO_BGC_L4_MY_009_108.jpg",
           "roles": [
            "thumbnail"
           ],
           "title": "Global Ocean Colour Plankton MY L4 monthly observations thumbnail",
           "type": "image/jpeg"
          }
         },
         "description": "For the **Global** Ocean **Satellite Observations**, Brockmann Consult (BC) is providing **Bio-Geo_Chemical (BGC)** products based on the ESA-CCI inputs.\n* Upstreams: SeaWiFS, MODIS, MERIS, VIIRS-SNPP,  OLCI-S3A & OLCI-S3B for the **\"\"multi\"\"** products.\n* Variables: Chlorophyll-a (**CHL**).\n\n* Temporal resolutions: **monthly**.\n* Spatial resolutions: **4 km** (multi).\n* Recent products are organized in datasets called Near Real Time (**NRT**) and long time-series (from 1997) in datasets called Multi-Years (**MY**).\n\nTo find these products in the catalogue, use the search keyword **\"\"ESA-CCI\"\"**.\n\n**DOI (product):**   \nhttps://doi.org/10.48670/moi-00283",
         "extent": {
          "spatial": {
           "bbox": [
            [
             -179.9791717529297,
             -89.97916412353516,
             179.9791717529297,
             89.97916412353516
            ]
           ]
          },
          "temporal": {
           "interval": [
            [
             "1997-09-01T00:00:00Z",
             "2024-04-01T00:00:00Z"
            ]
           ]
          }
         },
         "id": "EO.MO.DAT.OCEANCOLOUR_GLO_BGC_L4_MY_009_108",
         "keywords": [
          "level-4",
          "oceanographic-geographical-features",
          "global-ocean",
          "marine-resources",
          "marine-safety",
          "coastal-marine-environment",
          "satellite-observation",
          "mass-concentration-of-chlorophyll-a-in-sea-water",
          "multi-year",
          "weather-climate-and-seasonal-forecasting"
         ],
         "license": "proprietary",
         "links": [
          {
           "href": "https://marine.copernicus.eu/user-corner/service-commitments-and-licence",
           "rel": "license",
           "title": "Copernicus Marine Service Commitments and Licence",
           "type": "text/html"
          },
          {
           "href": "https://doi.org/10.48670/moi-00283",
           "rel": "cite-as",
           "title": "10.48670/moi-00283",
           "type": "text/html"
          },
          {
           "href": "https://data.marine.copernicus.eu/product/OCEANCOLOUR_GLO_BGC_L4_MY_009_108",
           "rel": "alternative",
           "title": "Product page",
           "type": "text/html"
          },
          {
           "href": "https://catalogue.marine.copernicus.eu/documents/PUM/CMEMS-OC-PUM.pdf",
           "rel": "describedby",
           "title": "Product User Manual",
           "type": "application/pdf"
          },
          {
           "href": "https://catalogue.marine.copernicus.eu/documents/QUID/CMEMS-OC-QUID-009-107to108.pdf",
           "rel": "describedby",
           "title": "Quality Information Document",
           "type": "application/pdf"
          },
          {
           "href": "https://catalogue.marine.copernicus.eu/documents/SQO/CMEMS-OC-SQO-009-107to108.pdf",
           "rel": "describedby",
           "title": "Synthesis Quality Overview",
           "type": "application/pdf"
          },
          {
           "href": "https://hda.data.destination-earth.eu/stac/collections/EO.MO.DAT.OCEANCOLOUR_GLO_BGC_L4_MY_009_108",
           "rel": "self",
           "title": "EO.MO.DAT.OCEANCOLOUR_GLO_BGC_L4_MY_009_108"
          },
          {
           "href": "https://hda.data.destination-earth.eu/stac/",
           "rel": "root"
          },
          {
           "href": "https://hda.data.destination-earth.eu/stac/collections/EO.MO.DAT.OCEANCOLOUR_GLO_BGC_L4_MY_009_108/items",
           "rel": "items",
           "title": "items"
          }
         ],
         "providers": [
          {
           "name": "BC (Germany)",
           "roles": [
            "producer"
           ]
          },
          {
           "name": "Copernicus Marine Service",
           "roles": [
            "processor"
           ],
           "url": "https://marine.copernicus.eu"
          },
          {
           "name": "cop_marine",
           "roles": [
            "host"
           ],
           "url": "https://marine.copernicus.eu/"
          }
         ],
         "stac_extensions": [
          "https://stac-extensions.github.io/scientific/v1.0.0/schema.json"
         ],
         "stac_version": "1.0.0",
         "title": "Global Ocean Colour Plankton MY L4 monthly observations",
         "type": "Collection"
        },
        {
         "assets": {
          "thumbnail": {
           "href": "https://mdl-metadata.s3.waw3-1.cloudferro.com/metadata/thumbnails/OCEANCOLOUR_GLO_BGC_L4_NRT_009_102.jpg",
           "roles": [
            "thumbnail"
           ],
           "title": "Global Ocean Colour (Copernicus-GlobColour), Bio-Geo-Chemical, L4 (monthly and interpolated) from Satellite Observations (Near Real Time) thumbnail",
           "type": "image/jpeg"
          }
         },
         "description": "For the **Global** Ocean **Satellite Observations**, ACRI-ST company (Sophia Antipolis, France) is providing **Bio-Geo-Chemical (BGC)** products based on the **Copernicus-GlobColour** processor.\n* Upstreams: SeaWiFS, MODIS, MERIS, VIIRS-SNPP & JPSS1, OLCI-S3A & S3B for the **\"multi\"** products, and S3A & S3B only for the **\"olci\"** products.\n* Variables: Chlorophyll-a (**CHL**), Phytoplankton Functional types and sizes (**PFT**), Primary Production (**PP**), Suspended Matter (**SPM**), Secchi Transparency Depth (**ZSD**), Diffuse Attenuation (**KD490**), Particulate Backscattering (**BBP**), Absorption Coef. (**CDM**) and  Reflectance (**RRS**).\n\n* Temporal resolutions: **monthly** plus, for some variables, **daily gap-free** based on a space-time interpolation to provide a \"cloud free\" product.\n* Spatial resolutions: **4 km** and a finer resolution based on olci **300 meters** inputs.\n* Recent products are organized in datasets called Near Real Time (**NRT**) and long time-series (from 1997) in datasets called Multi-Years (**MY**).\n\nTo find the **Copernicus-GlobColour** products in the catalogue, use the search keyword **\"GlobColour\"**.\n\n**DOI (product):**   \nhttps://doi.org/10.48670/moi-00279",
         "extent": {
          "spatial": {
           "bbox": [
            [
             -179.99722290039062,
             -89.99722290039062,
             179.9972381591797,
             89.99722290039062
            ]
           ]
          },
          "temporal": {
           "interval": [
            [
             "2023-04-01T00:00:00Z",
             "2024-06-09T00:00:00Z"
            ]
           ]
          }
         },
         "id": "EO.MO.DAT.OCEANCOLOUR_GLO_BGC_L4_NRT_009_102",
         "keywords": [
          "mass-concentration-of-picophytoplankton-expressed-as-chlorophyll-in-sea-water",
          "secchi-depth-of-sea-water",
          "surface-ratio-of-upwelling-radiance-emerging-from-sea-water-to-downwelling-radiative-flux-in-air",
          "near-real-time",
          "mass-concentration-of-prokaryotes-expressed-as-chlorophyll-in-sea-water",
          "marine-resources",
          "weather-climate-and-seasonal-forecasting",
          "volume-backwards-scattering-coefficient-of-radiative-flux-in-sea-water-due-to-particles",
          "primary-production-of-biomass-expressed-as-carbon",
          "mass-concentration-of-greenalgae-and-prochlorophytes-expressed-as-chlorophyll-in-sea-water",
          "zsd",
          "mass-concentration-of-haptophytes-expressed-as-chlorophyll-in-sea-water",
          "mass-concentration-of-dinophytes-expressed-as-chlorophyll-in-sea-water",
          "oceanographic-geographical-features",
          "coastal-marine-environment",
          "mass-concentration-of-diatoms-expressed-as-chlorophyll-in-sea-water",
          "satellite-observation",
          "kd490",
          "mass-concentration-of-prochlorococcus-expressed-as-chlorophyll-in-sea-water",
          "level-4",
          "global-ocean",
          "volume-absorption-coefficient-of-radiative-flux-in-sea-water-due-to-dissolved-organic-matter-and-non-algal-particles",
          "mass-concentration-of-nanophytoplankton-expressed-as-chlorophyll-in-sea-water",
          "marine-safety",
          "mass-concentration-of-microphytoplankton-expressed-as-chlorophyll-in-sea-water",
          "mass-concentration-of-suspended-particulate-matter-in-sea-water",
          "volume-attenuation-coefficient-of-downwelling-radiative-flux-in-sea-water",
          "mass-concentration-of-chlorophyll-a-in-sea-water"
         ],
         "license": "proprietary",
         "links": [
          {
           "href": "https://marine.copernicus.eu/user-corner/service-commitments-and-licence",
           "rel": "license",
           "title": "Copernicus Marine Service Commitments and Licence",
           "type": "text/html"
          },
          {
           "href": "https://doi.org/10.48670/moi-00279",
           "rel": "cite-as",
           "title": "10.48670/moi-00279",
           "type": "text/html"
          },
          {
           "href": "https://data.marine.copernicus.eu/product/OCEANCOLOUR_GLO_BGC_L4_NRT_009_102",
           "rel": "alternative",
           "title": "Product page",
           "type": "text/html"
          },
          {
           "href": "https://catalogue.marine.copernicus.eu/documents/PUM/CMEMS-OC-PUM.pdf",
           "rel": "describedby",
           "title": "Product User Manual",
           "type": "application/pdf"
          },
          {
           "href": "https://catalogue.marine.copernicus.eu/documents/QUID/CMEMS-OC-QUID-009-101to104-111-113-116-118.pdf",
           "rel": "describedby",
           "title": "Quality Information Document",
           "type": "application/pdf"
          },
          {
           "href": "https://catalogue.marine.copernicus.eu/documents/SQO/CMEMS-OC-SQO-009-101to104-111-113-116-118.pdf",
           "rel": "describedby",
           "title": "Synthesis Quality Overview",
           "type": "application/pdf"
          },
          {
           "href": "https://hda.data.destination-earth.eu/stac/collections/EO.MO.DAT.OCEANCOLOUR_GLO_BGC_L4_NRT_009_102",
           "rel": "self",
           "title": "EO.MO.DAT.OCEANCOLOUR_GLO_BGC_L4_NRT_009_102"
          },
          {
           "href": "https://hda.data.destination-earth.eu/stac/",
           "rel": "root"
          },
          {
           "href": "https://hda.data.destination-earth.eu/stac/collections/EO.MO.DAT.OCEANCOLOUR_GLO_BGC_L4_NRT_009_102/items",
           "rel": "items",
           "title": "items"
          }
         ],
         "providers": [
          {
           "name": "ACRI (France)",
           "roles": [
            "producer"
           ]
          },
          {
           "name": "Copernicus Marine Service",
           "roles": [
            "processor"
           ],
           "url": "https://marine.copernicus.eu"
          },
          {
           "name": "cop_marine",
           "roles": [
            "host"
           ],
           "url": "https://marine.copernicus.eu/"
          }
         ],
         "stac_extensions": [
          "https://stac-extensions.github.io/scientific/v1.0.0/schema.json"
         ],
         "stac_version": "1.0.0",
         "title": "Global Ocean Colour (Copernicus-GlobColour), Bio-Geo-Chemical, L4 (monthly and interpolated) from Satellite Observations (Near Real Time)",
         "type": "Collection"
        },
        {
         "assets": {
          "thumbnail": {
           "href": "https://mdl-metadata.s3.waw3-1.cloudferro.com/metadata/thumbnails/SEAICE_GLO_SEAICE_L4_NRT_OBSERVATIONS_011_001.jpg",
           "roles": [
            "thumbnail"
           ],
           "title": "Global Ocean - Arctic and Antarctic - Sea Ice Concentration, Edge, Type and Drift (OSI-SAF) thumbnail",
           "type": "image/jpeg"
          }
         },
         "description": "For the Global - Arctic and Antarctic - Ocean. The OSI SAF delivers three global sea ice products in operational mode: sea ice concentration, sea ice edge, sea ice type (OSI-401 OSI-402 and OSI-403). These products are delivered daily at 10km resolution in a polar stereographic projection covering the Northern Hemisphere and the Southern Hemisphere. It is the Sea Ice operational nominal product for the Global Ocean. In addition, a sea ice drift product is delivered at 60km resolution in a polar stereographic projection covering the Northern and Southern Hemispheres. The sea ice motion vectors have a time-span of 2 days.\n\n**DOI (product):**   \nhttps://doi.org/10.48670/moi-00134",
         "extent": {
          "spatial": {
           "bbox": [
            [
             -180,
             -90,
             180,
             90
            ]
           ]
          },
          "temporal": {
           "interval": [
            [
             "2019-05-04T00:00:00.000000Z",
             null
            ]
           ]
          }
         },
         "id": "EO.MO.DAT.SEAICE_GLO_SEAICE_L4_NRT_OBSERVATIONS_011_001",
         "keywords": [
          "sea-ice-x-displacement",
          "level-4",
          "oceanographic-geographical-features",
          "global-ocean",
          "sea-ice-y-displacement",
          "coastal-marine-environment",
          "target-application#seaiceforecastingapplication",
          "marine-safety",
          "sea-ice-area-fraction",
          "near-real-time",
          "satellite-observation",
          "sea-ice-classification",
          "marine-resources",
          "weather-climate-and-seasonal-forecasting"
         ],
         "license": "proprietary",
         "links": [
          {
           "href": "https://marine.copernicus.eu/user-corner/service-commitments-and-licence",
           "rel": "license",
           "title": "Copernicus Marine Service Commitments and Licence",
           "type": "text/html"
          },
          {
           "href": "https://doi.org/10.48670/moi-00134",
           "rel": "cite-as",
           "title": "10.48670/moi-00134",
           "type": "text/html"
          },
          {
           "href": "https://data.marine.copernicus.eu/product/SEAICE_GLO_SEAICE_L4_NRT_OBSERVATIONS_011_001",
           "rel": "alternative",
           "title": "Product page",
           "type": "text/html"
          },
          {
           "href": "https://catalogue.marine.copernicus.eu/documents/PUM/CMEMS-SI-PUM-011-001.pdf",
           "rel": "describedby",
           "title": "Product User Manual",
           "type": "application/pdf"
          },
          {
           "href": "https://catalogue.marine.copernicus.eu/documents/QUID/CMEMS-SEAICE-QUID-011-001-009.pdf",
           "rel": "describedby",
           "title": "Quality Information Document",
           "type": "application/pdf"
          },
          {
           "href": "https://catalogue.marine.copernicus.eu/documents/SQO/CMEMS-SEAICE-SQO-011-001-009.pdf",
           "rel": "describedby",
           "title": "Synthesis Quality Overview",
           "type": "application/pdf"
          },
          {
           "href": "https://hda.data.destination-earth.eu/stac/collections/EO.MO.DAT.SEAICE_GLO_SEAICE_L4_NRT_OBSERVATIONS_011_001",
           "rel": "self",
           "title": "EO.MO.DAT.SEAICE_GLO_SEAICE_L4_NRT_OBSERVATIONS_011_001"
          },
          {
           "href": "https://hda.data.destination-earth.eu/stac/",
           "rel": "root"
          },
          {
           "href": "https://hda.data.destination-earth.eu/stac/collections/EO.MO.DAT.SEAICE_GLO_SEAICE_L4_NRT_OBSERVATIONS_011_001/items",
           "rel": "items",
           "title": "items"
          }
         ],
         "providers": [
          {
           "name": "MET Norway",
           "roles": [
            "producer"
           ]
          },
          {
           "name": "Copernicus Marine Service",
           "roles": [
            "processor"
           ],
           "url": "https://marine.copernicus.eu"
          },
          {
           "name": "cop_marine",
           "roles": [
            "host"
           ],
           "url": "https://marine.copernicus.eu/"
          }
         ],
         "stac_extensions": [
          "https://stac-extensions.github.io/scientific/v1.0.0/schema.json"
         ],
         "stac_version": "1.0.0",
         "title": "Global Ocean - Arctic and Antarctic - Sea Ice Concentration, Edge, Type and Drift (OSI-SAF)",
         "type": "Collection"
        },
        {
         "assets": {
          "thumbnail": {
           "href": "https://mdl-metadata.s3.waw3-1.cloudferro.com/metadata/thumbnails/SEAICE_GLO_SEAICE_L4_REP_OBSERVATIONS_011_009.jpg",
           "roles": [
            "thumbnail"
           ],
           "title": "Global Ocean Sea Ice Concentration Time Series REPROCESSED (OSI-SAF) thumbnail",
           "type": "image/jpeg"
          }
         },
         "description": "The CDR and ICDR sea ice concentration dataset of the EUMETSAT OSI SAF (OSI-450-a and OSI-430-a), covering the period from October 1978 to present, with 16 days delay. It used passive microwave data from SMMR, SSM/I and SSMIS. Sea ice concentration is computed from atmospherically corrected PMW brightness temperatures, using a combination of state-of-the-art algorithms and dynamic tie points. It includes error bars for each grid cell (uncertainties). This version 3.0 of the CDR (OSI-450-a, 1978-2020) and ICDR (OSI-430-a, 2021-present with 16 days latency) was released in November 2022\n\n**DOI (product):**   \nhttps://doi.org/10.48670/moi-00136\n\n**References:**\n\n* [http://osisaf.met.no/docs/osisaf_cdop2_ss2_pum_sea-ice-conc-reproc_v2p2.pdf]\n",
         "extent": {
          "spatial": {
           "bbox": [
            [
             -180,
             -90,
             179.70000000001363,
             90
            ]
           ]
          },
          "temporal": {
           "interval": [
            [
             "1978-10-25T00:00:00Z",
             "2024-05-27T00:00:00Z"
            ]
           ]
          }
         },
         "id": "EO.MO.DAT.SEAICE_GLO_SEAICE_L4_REP_OBSERVATIONS_011_009",
         "keywords": [
          "level-4",
          "oceanographic-geographical-features",
          "marine-resources",
          "arctic-ocean",
          "target-application#seaiceclimate",
          "antarctic-ocean",
          "marine-safety",
          "coastal-marine-environment",
          "sea-ice-area-fraction",
          "satellite-observation",
          "multi-year",
          "weather-climate-and-seasonal-forecasting"
         ],
         "license": "proprietary",
         "links": [
          {
           "href": "https://marine.copernicus.eu/user-corner/service-commitments-and-licence",
           "rel": "license",
           "title": "Copernicus Marine Service Commitments and Licence",
           "type": "text/html"
          },
          {
           "href": "https://doi.org/10.48670/moi-00136",
           "rel": "cite-as",
           "title": "10.48670/moi-00136",
           "type": "text/html"
          },
          {
           "href": "https://data.marine.copernicus.eu/product/SEAICE_GLO_SEAICE_L4_REP_OBSERVATIONS_011_009",
           "rel": "alternative",
           "title": "Product page",
           "type": "text/html"
          },
          {
           "href": "https://catalogue.marine.copernicus.eu/documents/PUM/CMEMS-SI-PUM-011-009.pdf",
           "rel": "describedby",
           "title": "Product User Manual",
           "type": "application/pdf"
          },
          {
           "href": "https://catalogue.marine.copernicus.eu/documents/SQO/CMEMS-SEAICE-SQO-011-001-009.pdf",
           "rel": "describedby",
           "title": "Synthesis Quality Overview",
           "type": "application/pdf"
          },
          {
           "href": "https://catalogue.marine.copernicus.eu/documents/QUID/CMEMS-SEAICE-QUID-011-001-009.pdf",
           "rel": "describedby",
           "title": "Quality Information Document",
           "type": "application/pdf"
          },
          {
           "href": "https://hda.data.destination-earth.eu/stac/collections/EO.MO.DAT.SEAICE_GLO_SEAICE_L4_REP_OBSERVATIONS_011_009",
           "rel": "self",
           "title": "EO.MO.DAT.SEAICE_GLO_SEAICE_L4_REP_OBSERVATIONS_011_009"
          },
          {
           "href": "https://hda.data.destination-earth.eu/stac/",
           "rel": "root"
          },
          {
           "href": "https://hda.data.destination-earth.eu/stac/collections/EO.MO.DAT.SEAICE_GLO_SEAICE_L4_REP_OBSERVATIONS_011_009/items",
           "rel": "items",
           "title": "items"
          }
         ],
         "providers": [
          {
           "name": "MET Norway",
           "roles": [
            "producer"
           ]
          },
          {
           "name": "Copernicus Marine Service",
           "roles": [
            "processor"
           ],
           "url": "https://marine.copernicus.eu"
          },
          {
           "name": "cop_marine",
           "roles": [
            "host"
           ],
           "url": "https://marine.copernicus.eu/"
          }
         ],
         "stac_extensions": [
          "https://stac-extensions.github.io/scientific/v1.0.0/schema.json"
         ],
         "stac_version": "1.0.0",
         "title": "Global Ocean Sea Ice Concentration Time Series REPROCESSED (OSI-SAF)",
         "type": "Collection"
        },
        {
         "assets": {
          "thumbnail": {
           "href": "https://mdl-metadata.s3.waw3-1.cloudferro.com/metadata/thumbnails/SST_GLO_SST_L4_NRT_OBSERVATIONS_010_001.jpg",
           "roles": [
            "thumbnail"
           ],
           "title": "Global Ocean OSTIA Sea Surface Temperature and Sea Ice Analysis thumbnail",
           "type": "image/jpeg"
          }
         },
         "description": "For the Global Ocean- the OSTIA global foundation Sea Surface Temperature product provides daily gap-free maps of: Foundation Sea Surface Temperature at 0.05° x 0.05° horizontal grid resolution, using in-situ and satellite data from both infrared and microwave radiometers. \n\nThe Operational Sea Surface Temperature and Ice Analysis (OSTIA) system is run by the UK's Met Office and delivered by IFREMER PU. OSTIA uses satellite data provided by the GHRSST project together with in-situ observations to determine the sea surface temperature.\nA high resolution (1/20° - approx. 6 km) daily analysis of sea surface temperature (SST) is produced for the global ocean and some lakes.\n\n**DOI (product):**   \nhttps://doi.org/10.48670/moi-00165\n\n**References:**\n\n* Good, S.; Fiedler, E.; Mao, C.; Martin, M.J.; Maycock, A.; Reid, R.; Roberts-Jones, J.; Searle, T.; Waters, J.; While, J.; Worsfold, M. The Current Configuration of the OSTIA System for Operational Production of Foundation Sea Surface Temperature and Ice Concentration Analyses. Remote Sens. 2020, 12, 720. doi: 10.3390/rs12040720\n* Donlon, C.J., Martin, M., Stark, J., Roberts-Jones, J., Fiedler, E., and Wimmer, W., 2012, The Operational Sea Surface Temperature and Sea Ice Analysis (OSTIA) system. Remote Sensing of the Environment. doi: 10.1016/j.rse.2010.10.017 2011.\n* John D. Stark, Craig J. Donlon, Matthew J. Martin and Michael E. McCulloch, 2007, OSTIA : An operational, high resolution, real time, global sea surface temperature analysis system., Oceans 07 IEEE Aberdeen, conference proceedings. Marine challenges: coastline to deep sea. Aberdeen, Scotland.IEEE.\n",
         "extent": {
          "spatial": {
           "bbox": [
            [
             -179.97500610351562,
             -89.9749984741211,
             179.97500610351562,
             89.9749984741211
            ]
           ]
          },
          "temporal": {
           "interval": [
            [
             "2007-01-01T00:00:00Z",
             "2024-06-11T00:00:00Z"
            ]
           ]
          }
         },
         "id": "EO.MO.DAT.SST_GLO_SST_L4_NRT_OBSERVATIONS_010_001",
         "keywords": [
          "level-4",
          "oceanographic-geographical-features",
          "global-ocean",
          "marine-safety",
          "coastal-marine-environment",
          "target-application#seaiceforecastingapplication",
          "sea-surface-temperature",
          "sea-ice-area-fraction",
          "near-real-time",
          "satellite-observation",
          "marine-resources",
          "weather-climate-and-seasonal-forecasting"
         ],
         "license": "proprietary",
         "links": [
          {
           "href": "https://marine.copernicus.eu/user-corner/service-commitments-and-licence",
           "rel": "license",
           "title": "Copernicus Marine Service Commitments and Licence",
           "type": "text/html"
          },
          {
           "href": "https://doi.org/10.48670/moi-00165",
           "rel": "cite-as",
           "title": "10.48670/moi-00165",
           "type": "text/html"
          },
          {
           "href": "https://data.marine.copernicus.eu/product/SST_GLO_SST_L4_NRT_OBSERVATIONS_010_001",
           "rel": "alternative",
           "title": "Product page",
           "type": "text/html"
          },
          {
           "href": "https://catalogue.marine.copernicus.eu/documents/PUM/CMEMS-SST-PUM-010-001.pdf",
           "rel": "describedby",
           "title": "Product User Manual",
           "type": "application/pdf"
          },
          {
           "href": "https://catalogue.marine.copernicus.eu/documents/QUID/CMEMS-SST-QUID-010-001.pdf",
           "rel": "describedby",
           "title": "Quality Information Document",
           "type": "application/pdf"
          },
          {
           "href": "https://catalogue.marine.copernicus.eu/documents/SQO/CMEMS-SST-SQO-010-001.pdf",
           "rel": "describedby",
           "title": "Synthesis Quality Overview",
           "type": "application/pdf"
          },
          {
           "href": "https://hda.data.destination-earth.eu/stac/collections/EO.MO.DAT.SST_GLO_SST_L4_NRT_OBSERVATIONS_010_001",
           "rel": "self",
           "title": "EO.MO.DAT.SST_GLO_SST_L4_NRT_OBSERVATIONS_010_001"
          },
          {
           "href": "https://hda.data.destination-earth.eu/stac/",
           "rel": "root"
          },
          {
           "href": "https://hda.data.destination-earth.eu/stac/collections/EO.MO.DAT.SST_GLO_SST_L4_NRT_OBSERVATIONS_010_001/items",
           "rel": "items",
           "title": "items"
          }
         ],
         "providers": [
          {
           "name": "Met Office (UK)",
           "roles": [
            "producer"
           ]
          },
          {
           "name": "Copernicus Marine Service",
           "roles": [
            "processor"
           ],
           "url": "https://marine.copernicus.eu"
          },
          {
           "name": "cop_marine",
           "roles": [
            "host"
           ],
           "url": "https://marine.copernicus.eu/"
          }
         ],
         "stac_extensions": [
          "https://stac-extensions.github.io/scientific/v1.0.0/schema.json"
         ],
         "stac_version": "1.0.0",
         "title": "Global Ocean OSTIA Sea Surface Temperature and Sea Ice Analysis",
         "type": "Collection"
        },
        {
         "assets": {
          "thumbnail": {
           "href": "https://mdl-metadata.s3.waw3-1.cloudferro.com/metadata/thumbnails/SST_GLO_SST_L4_REP_OBSERVATIONS_010_011.jpg",
           "roles": [
            "thumbnail"
           ],
           "title": "Global Ocean OSTIA Sea Surface Temperature and Sea Ice Reprocessed thumbnail",
           "type": "image/jpeg"
          }
         },
         "description": "The OSTIA (Good et al., 2020) global sea surface temperature reprocessed product provides daily gap-free maps of foundation sea surface temperature and ice concentration (referred to as an L4 product) at 0.05deg.x 0.05deg. horizontal grid resolution, using in-situ and satellite data. This product provides the foundation Sea Surface Temperature, which is the temperature free of diurnal variability.\n\n**DOI (product):**   \nhttps://doi.org/10.48670/moi-00168\n\n**References:**\n\n* Good, S.; Fiedler, E.; Mao, C.; Martin, M.J.; Maycock, A.; Reid, R.; Roberts-Jones, J.; Searle, T.; Waters, J.; While, J.; Worsfold, M. The Current Configuration of the OSTIA System for Operational Production of Foundation Sea Surface Temperature and Ice Concentration Analyses. Remote Sens. 2020, 12, 720, doi:10.3390/rs12040720\n",
         "extent": {
          "spatial": {
           "bbox": [
            [
             -179.97500610351562,
             -89.9749984741211,
             179.97500610351562,
             89.9749984741211
            ]
           ]
          },
          "temporal": {
           "interval": [
            [
             "1981-10-01T00:00:00Z",
             "2022-05-31T00:00:00Z"
            ]
           ]
          }
         },
         "id": "EO.MO.DAT.SST_GLO_SST_L4_REP_OBSERVATIONS_010_011",
         "keywords": [
          "level-4",
          "oceanographic-geographical-features",
          "global-ocean",
          "marine-resources",
          "target-application#seaiceclimate",
          "marine-safety",
          "coastal-marine-environment",
          "sea-surface-temperature",
          "sea-ice-area-fraction",
          "satellite-observation",
          "multi-year",
          "weather-climate-and-seasonal-forecasting"
         ],
         "license": "proprietary",
         "links": [
          {
           "href": "https://marine.copernicus.eu/user-corner/service-commitments-and-licence",
           "rel": "license",
           "title": "Copernicus Marine Service Commitments and Licence",
           "type": "text/html"
          },
          {
           "href": "https://doi.org/10.48670/moi-00168",
           "rel": "cite-as",
           "title": "10.48670/moi-00168",
           "type": "text/html"
          },
          {
           "href": "https://data.marine.copernicus.eu/product/SST_GLO_SST_L4_REP_OBSERVATIONS_010_011",
           "rel": "alternative",
           "title": "Product page",
           "type": "text/html"
          },
          {
           "href": "https://catalogue.marine.copernicus.eu/documents/PUM/CMEMS-SST-PUM-010-011.pdf",
           "rel": "describedby",
           "title": "Product User Manual",
           "type": "application/pdf"
          },
          {
           "href": "https://catalogue.marine.copernicus.eu/documents/QUID/CMEMS-SST-QUID-010-011.pdf",
           "rel": "describedby",
           "title": "Quality Information Document",
           "type": "application/pdf"
          },
          {
           "href": "https://catalogue.marine.copernicus.eu/documents/SQO/CMEMS-SST-SQO-010-011.pdf",
           "rel": "describedby",
           "title": "Synthesis Quality Overview",
           "type": "application/pdf"
          },
          {
           "href": "https://hda.data.destination-earth.eu/stac/collections/EO.MO.DAT.SST_GLO_SST_L4_REP_OBSERVATIONS_010_011",
           "rel": "self",
           "title": "EO.MO.DAT.SST_GLO_SST_L4_REP_OBSERVATIONS_010_011"
          },
          {
           "href": "https://hda.data.destination-earth.eu/stac/",
           "rel": "root"
          },
          {
           "href": "https://hda.data.destination-earth.eu/stac/collections/EO.MO.DAT.SST_GLO_SST_L4_REP_OBSERVATIONS_010_011/items",
           "rel": "items",
           "title": "items"
          }
         ],
         "providers": [
          {
           "name": "Met Office (UK)",
           "roles": [
            "producer"
           ]
          },
          {
           "name": "Copernicus Marine Service",
           "roles": [
            "processor"
           ],
           "url": "https://marine.copernicus.eu"
          },
          {
           "name": "cop_marine",
           "roles": [
            "host"
           ],
           "url": "https://marine.copernicus.eu/"
          }
         ],
         "stac_extensions": [
          "https://stac-extensions.github.io/scientific/v1.0.0/schema.json"
         ],
         "stac_version": "1.0.0",
         "title": "Global Ocean OSTIA Sea Surface Temperature and Sea Ice Reprocessed",
         "type": "Collection"
        },
        {
         "assets": {
          "thumbnail": {
           "href": "https://mdl-metadata.s3.waw3-1.cloudferro.com/metadata/thumbnails/SST_GLO_SST_L4_REP_OBSERVATIONS_010_024.jpg",
           "roles": [
            "thumbnail"
           ],
           "title": "ESA SST CCI and C3S reprocessed sea surface temperature analyses thumbnail",
           "type": "image/jpeg"
          }
         },
         "description": "The ESA SST CCI and C3S global Sea Surface Temperature Reprocessed product provides gap-free maps of daily average SST at 20 cm depth at 0.05deg. x 0.05deg. horizontal grid resolution, using satellite data from the (A)ATSRs, SLSTR and the AVHRR series of sensors (Merchant et al., 2019). The ESA SST CCI and C3S level 4 analyses were produced by running the Operational Sea Surface Temperature and Sea Ice Analysis (OSTIA) system (Good et al., 2020) to provide a high resolution (1/20deg. - approx. 5km grid resolution) daily analysis of the daily average sea surface temperature (SST) at 20 cm depth for the global ocean. Only (A)ATSR, SLSTR and AVHRR satellite data processed by the ESA SST CCI and C3S projects were used, giving a stable product. It also uses reprocessed sea-ice concentration data from the EUMETSAT OSI-SAF (OSI-450 and OSI-430; Lavergne et al., 2019).\n\n**DOI (product):**   \nhttps://doi.org/10.48670/moi-00169\n\n**References:**\n\n* Good, S., Fiedler, E., Mao, C., Martin, M.J., Maycock, A., Reid, R., Roberts-Jones, J., Searle, T., Waters, J., While, J., Worsfold, M. The Current Configuration of the OSTIA System for Operational Production of Foundation Sea Surface Temperature and Ice Concentration Analyses. Remote Sens. 2020, 12, 720, doi:10.3390/rs12040720.\n* Lavergne, T., Sørensen, A. M., Kern, S., Tonboe, R., Notz, D., Aaboe, S., Bell, L., Dybkjær, G., Eastwood, S., Gabarro, C., Heygster, G., Killie, M. A., Brandt Kreiner, M., Lavelle, J., Saldo, R., Sandven, S., and Pedersen, L. T.: Version 2 of the EUMETSAT OSI SAF and ESA CCI sea-ice concentration climate data records, The Cryosphere, 13, 49-78, doi:10.5194/tc-13-49-2019, 2019.\n* Merchant, C.J., Embury, O., Bulgin, C.E. et al. Satellite-based time-series of sea-surface temperature since 1981 for climate applications. Sci Data 6, 223 (2019) doi:10.1038/s41597-019-0236-x.\n",
         "extent": {
          "spatial": {
           "bbox": [
            [
             -179.97500610351562,
             -89.9749984741211,
             179.97500610351562,
             89.9749984741211
            ]
           ]
          },
          "temporal": {
           "interval": [
            [
             "1981-09-01T00:00:00Z",
             "2022-10-31T00:00:00Z"
            ]
           ]
          }
         },
         "id": "EO.MO.DAT.SST_GLO_SST_L4_REP_OBSERVATIONS_010_024",
         "keywords": [
          "level-4",
          "oceanographic-geographical-features",
          "global-ocean",
          "marine-resources",
          "target-application#seaiceclimate",
          "sea-water-temperature",
          "marine-safety",
          "coastal-marine-environment",
          "sea-ice-area-fraction",
          "satellite-observation",
          "multi-year",
          "weather-climate-and-seasonal-forecasting"
         ],
         "license": "proprietary",
         "links": [
          {
           "href": "https://marine.copernicus.eu/user-corner/service-commitments-and-licence",
           "rel": "license",
           "title": "Copernicus Marine Service Commitments and Licence",
           "type": "text/html"
          },
          {
           "href": "https://doi.org/10.48670/moi-00169",
           "rel": "cite-as",
           "title": "10.48670/moi-00169",
           "type": "text/html"
          },
          {
           "href": "https://data.marine.copernicus.eu/product/SST_GLO_SST_L4_REP_OBSERVATIONS_010_024",
           "rel": "alternative",
           "title": "Product page",
           "type": "text/html"
          },
          {
           "href": "https://catalogue.marine.copernicus.eu/documents/PUM/CMEMS-SST-PUM-010-024.pdf",
           "rel": "describedby",
           "title": "Product User Manual",
           "type": "application/pdf"
          },
          {
           "href": "https://catalogue.marine.copernicus.eu/documents/QUID/CMEMS-SST-QUID-010-024.pdf",
           "rel": "describedby",
           "title": "Quality Information Document",
           "type": "application/pdf"
          },
          {
           "href": "https://catalogue.marine.copernicus.eu/documents/SQO/CMEMS-SST-SQO-010-024.pdf",
           "rel": "describedby",
           "title": "Synthesis Quality Overview",
           "type": "application/pdf"
          },
          {
           "href": "https://hda.data.destination-earth.eu/stac/collections/EO.MO.DAT.SST_GLO_SST_L4_REP_OBSERVATIONS_010_024",
           "rel": "self",
           "title": "EO.MO.DAT.SST_GLO_SST_L4_REP_OBSERVATIONS_010_024"
          },
          {
           "href": "https://hda.data.destination-earth.eu/stac/",
           "rel": "root"
          },
          {
           "href": "https://hda.data.destination-earth.eu/stac/collections/EO.MO.DAT.SST_GLO_SST_L4_REP_OBSERVATIONS_010_024/items",
           "rel": "items",
           "title": "items"
          }
         ],
         "providers": [
          {
           "name": "Met Office (UK)",
           "roles": [
            "producer"
           ]
          },
          {
           "name": "Copernicus Marine Service",
           "roles": [
            "processor"
           ],
           "url": "https://marine.copernicus.eu"
          },
          {
           "name": "cop_marine",
           "roles": [
            "host"
           ],
           "url": "https://marine.copernicus.eu/"
          }
         ],
         "stac_extensions": [
          "https://stac-extensions.github.io/scientific/v1.0.0/schema.json"
         ],
         "stac_version": "1.0.0",
         "title": "ESA SST CCI and C3S reprocessed sea surface temperature analyses",
         "type": "Collection"
        }
       ],
       "links": [
        {
         "href": "https://hda.data.destination-earth.eu/stac/",
         "rel": "root",
         "type": "application/json"
        },
        {
         "href": "https://hda.data.destination-earth.eu/stac/",
         "rel": "parent",
         "type": "application/json"
        },
        {
         "href": "https://hda.data.destination-earth.eu/stac/collections",
         "rel": "self",
         "type": "application/json"
        }
       ]
      },
      "text/plain": [
       "<IPython.core.display.JSON object>"
      ]
     },
     "execution_count": 4,
     "metadata": {
      "application/json": {
       "expanded": false,
       "root": "root"
      }
     },
     "output_type": "execute_result"
    }
   ],
   "source": [
    "response = requests.get(COLLECTIONS_URL,params = {\"q\": \"Chlorophyll-a Concentration,algal pigment\"})\n",
    "\n",
    "JSON(response.json(), expanded=False)"
   ]
  },
  {
   "cell_type": "markdown",
   "id": "6b8d17b9-9519-4302-ae00-bd270b3c7673",
   "metadata": {},
   "source": [
    "## Authenticate"
   ]
  },
  {
   "cell_type": "code",
   "execution_count": 5,
   "id": "a4a975d7-8668-48ee-bde3-339c8b864af6",
   "metadata": {
    "tags": []
   },
   "outputs": [
    {
     "name": "stdin",
     "output_type": "stream",
     "text": [
      "Please input your DESP username or email:  eum-dedl-user\n",
      "Please input your DESP password:  ········\n"
     ]
    },
    {
     "name": "stdout",
     "output_type": "stream",
     "text": [
      "Response code: 200\n",
      "DEDL/DESP Access Token Obtained Successfully\n"
     ]
    }
   ],
   "source": [
    "DESP_USERNAME = input(\"Please input your DESP username or email: \")\n",
    "DESP_PASSWORD = getpass(\"Please input your DESP password: \")\n",
    "\n",
    "auth = deauth.AuthHandler(DESP_USERNAME, DESP_PASSWORD)\n",
    "access_token = auth.get_token()\n",
    "if access_token is not None:\n",
    "    print(\"DEDL/DESP Access Token Obtained Successfully\")\n",
    "else:\n",
    "    print(\"Failed to Obtain DEDL/DESP Access Token\")\n",
    "\n",
    "auth_headers = {\"Authorization\": f\"Bearer {access_token}\"}"
   ]
  },
  {
   "cell_type": "markdown",
   "id": "16c39a67-7ffa-49a4-999c-22895e59099b",
   "metadata": {
    "tags": []
   },
   "source": [
    "## Search"
   ]
  },
  {
   "cell_type": "markdown",
   "id": "4749024c-5156-40b1-ba16-dd24aa71ffed",
   "metadata": {},
   "source": [
    "Once selected a collection it is possible to search for items that match the specified input filters and order the results.\n",
    "\n",
    "The collection used for this tutorial is [OLCI Level 2 Ocean Colour Reduced Resolution - Sentinel-3](https://hda.data.destination-earth.eu/ui/dataset/EO.EUM.DAT.SENTINEL-3.OL_2_WRR___)\n"
   ]
  },
  {
   "cell_type": "code",
   "execution_count": 6,
   "id": "3c582fc0-654c-46f6-8bbe-92d65946889b",
   "metadata": {
    "tags": []
   },
   "outputs": [
    {
     "data": {
      "application/json": {
       "features": [
        {
         "assets": {
          "EOPMetadata.xml": {
           "alternate": {
            "origin": {
             "href": "s3://eodata/Sentinel-3/OLCI/OL_2_WRR___/2024/09/09/S3A_OL_2_WRR____20240909T130929_20240909T135342_20240910T163350_2653_116_352______MAR_O_NT_003.SEN3/EOPMetadata.xml",
             "title": "Origin asset link",
             "type": "text/xml"
            }
           },
           "href": "https://hda.data.destination-earth.eu/stac/collections/EO.EUM.DAT.SENTINEL-3.OL_2_WRR___/items/S3A_OL_2_WRR____20240909T130929_20240909T135342_20240910T163350_2653_116_352______MAR_O_NT_003/download/EOPMetadata.xml?provider=dedl",
           "roles": [
            "metadata"
           ],
           "title": "EOPMetadata.xml",
           "type": "text/xml"
          },
          "Oa01_reflectance.nc": {
           "alternate": {
            "origin": {
             "href": "s3://eodata/Sentinel-3/OLCI/OL_2_WRR___/2024/09/09/S3A_OL_2_WRR____20240909T130929_20240909T135342_20240910T163350_2653_116_352______MAR_O_NT_003.SEN3/Oa01_reflectance.nc",
             "title": "Origin asset link",
             "type": "application/x-netcdf"
            }
           },
           "href": "https://hda.data.destination-earth.eu/stac/collections/EO.EUM.DAT.SENTINEL-3.OL_2_WRR___/items/S3A_OL_2_WRR____20240909T130929_20240909T135342_20240910T163350_2653_116_352______MAR_O_NT_003/download/Oa01_reflectance.nc?provider=dedl",
           "roles": [
            "data"
           ],
           "title": "Oa01_reflectance.nc",
           "type": "application/x-netcdf"
          },
          "Oa02_reflectance.nc": {
           "alternate": {
            "origin": {
             "href": "s3://eodata/Sentinel-3/OLCI/OL_2_WRR___/2024/09/09/S3A_OL_2_WRR____20240909T130929_20240909T135342_20240910T163350_2653_116_352______MAR_O_NT_003.SEN3/Oa02_reflectance.nc",
             "title": "Origin asset link",
             "type": "application/x-netcdf"
            }
           },
           "href": "https://hda.data.destination-earth.eu/stac/collections/EO.EUM.DAT.SENTINEL-3.OL_2_WRR___/items/S3A_OL_2_WRR____20240909T130929_20240909T135342_20240910T163350_2653_116_352______MAR_O_NT_003/download/Oa02_reflectance.nc?provider=dedl",
           "roles": [
            "data"
           ],
           "title": "Oa02_reflectance.nc",
           "type": "application/x-netcdf"
          },
          "Oa03_reflectance.nc": {
           "alternate": {
            "origin": {
             "href": "s3://eodata/Sentinel-3/OLCI/OL_2_WRR___/2024/09/09/S3A_OL_2_WRR____20240909T130929_20240909T135342_20240910T163350_2653_116_352______MAR_O_NT_003.SEN3/Oa03_reflectance.nc",
             "title": "Origin asset link",
             "type": "application/x-netcdf"
            }
           },
           "href": "https://hda.data.destination-earth.eu/stac/collections/EO.EUM.DAT.SENTINEL-3.OL_2_WRR___/items/S3A_OL_2_WRR____20240909T130929_20240909T135342_20240910T163350_2653_116_352______MAR_O_NT_003/download/Oa03_reflectance.nc?provider=dedl",
           "roles": [
            "data"
           ],
           "title": "Oa03_reflectance.nc",
           "type": "application/x-netcdf"
          },
          "Oa04_reflectance.nc": {
           "alternate": {
            "origin": {
             "href": "s3://eodata/Sentinel-3/OLCI/OL_2_WRR___/2024/09/09/S3A_OL_2_WRR____20240909T130929_20240909T135342_20240910T163350_2653_116_352______MAR_O_NT_003.SEN3/Oa04_reflectance.nc",
             "title": "Origin asset link",
             "type": "application/x-netcdf"
            }
           },
           "href": "https://hda.data.destination-earth.eu/stac/collections/EO.EUM.DAT.SENTINEL-3.OL_2_WRR___/items/S3A_OL_2_WRR____20240909T130929_20240909T135342_20240910T163350_2653_116_352______MAR_O_NT_003/download/Oa04_reflectance.nc?provider=dedl",
           "roles": [
            "data"
           ],
           "title": "Oa04_reflectance.nc",
           "type": "application/x-netcdf"
          },
          "Oa05_reflectance.nc": {
           "alternate": {
            "origin": {
             "href": "s3://eodata/Sentinel-3/OLCI/OL_2_WRR___/2024/09/09/S3A_OL_2_WRR____20240909T130929_20240909T135342_20240910T163350_2653_116_352______MAR_O_NT_003.SEN3/Oa05_reflectance.nc",
             "title": "Origin asset link",
             "type": "application/x-netcdf"
            }
           },
           "href": "https://hda.data.destination-earth.eu/stac/collections/EO.EUM.DAT.SENTINEL-3.OL_2_WRR___/items/S3A_OL_2_WRR____20240909T130929_20240909T135342_20240910T163350_2653_116_352______MAR_O_NT_003/download/Oa05_reflectance.nc?provider=dedl",
           "roles": [
            "data"
           ],
           "title": "Oa05_reflectance.nc",
           "type": "application/x-netcdf"
          },
          "Oa06_reflectance.nc": {
           "alternate": {
            "origin": {
             "href": "s3://eodata/Sentinel-3/OLCI/OL_2_WRR___/2024/09/09/S3A_OL_2_WRR____20240909T130929_20240909T135342_20240910T163350_2653_116_352______MAR_O_NT_003.SEN3/Oa06_reflectance.nc",
             "title": "Origin asset link",
             "type": "application/x-netcdf"
            }
           },
           "href": "https://hda.data.destination-earth.eu/stac/collections/EO.EUM.DAT.SENTINEL-3.OL_2_WRR___/items/S3A_OL_2_WRR____20240909T130929_20240909T135342_20240910T163350_2653_116_352______MAR_O_NT_003/download/Oa06_reflectance.nc?provider=dedl",
           "roles": [
            "data"
           ],
           "title": "Oa06_reflectance.nc",
           "type": "application/x-netcdf"
          },
          "Oa07_reflectance.nc": {
           "alternate": {
            "origin": {
             "href": "s3://eodata/Sentinel-3/OLCI/OL_2_WRR___/2024/09/09/S3A_OL_2_WRR____20240909T130929_20240909T135342_20240910T163350_2653_116_352______MAR_O_NT_003.SEN3/Oa07_reflectance.nc",
             "title": "Origin asset link",
             "type": "application/x-netcdf"
            }
           },
           "href": "https://hda.data.destination-earth.eu/stac/collections/EO.EUM.DAT.SENTINEL-3.OL_2_WRR___/items/S3A_OL_2_WRR____20240909T130929_20240909T135342_20240910T163350_2653_116_352______MAR_O_NT_003/download/Oa07_reflectance.nc?provider=dedl",
           "roles": [
            "data"
           ],
           "title": "Oa07_reflectance.nc",
           "type": "application/x-netcdf"
          },
          "Oa08_reflectance.nc": {
           "alternate": {
            "origin": {
             "href": "s3://eodata/Sentinel-3/OLCI/OL_2_WRR___/2024/09/09/S3A_OL_2_WRR____20240909T130929_20240909T135342_20240910T163350_2653_116_352______MAR_O_NT_003.SEN3/Oa08_reflectance.nc",
             "title": "Origin asset link",
             "type": "application/x-netcdf"
            }
           },
           "href": "https://hda.data.destination-earth.eu/stac/collections/EO.EUM.DAT.SENTINEL-3.OL_2_WRR___/items/S3A_OL_2_WRR____20240909T130929_20240909T135342_20240910T163350_2653_116_352______MAR_O_NT_003/download/Oa08_reflectance.nc?provider=dedl",
           "roles": [
            "data"
           ],
           "title": "Oa08_reflectance.nc",
           "type": "application/x-netcdf"
          },
          "Oa09_reflectance.nc": {
           "alternate": {
            "origin": {
             "href": "s3://eodata/Sentinel-3/OLCI/OL_2_WRR___/2024/09/09/S3A_OL_2_WRR____20240909T130929_20240909T135342_20240910T163350_2653_116_352______MAR_O_NT_003.SEN3/Oa09_reflectance.nc",
             "title": "Origin asset link",
             "type": "application/x-netcdf"
            }
           },
           "href": "https://hda.data.destination-earth.eu/stac/collections/EO.EUM.DAT.SENTINEL-3.OL_2_WRR___/items/S3A_OL_2_WRR____20240909T130929_20240909T135342_20240910T163350_2653_116_352______MAR_O_NT_003/download/Oa09_reflectance.nc?provider=dedl",
           "roles": [
            "data"
           ],
           "title": "Oa09_reflectance.nc",
           "type": "application/x-netcdf"
          },
          "Oa10_reflectance.nc": {
           "alternate": {
            "origin": {
             "href": "s3://eodata/Sentinel-3/OLCI/OL_2_WRR___/2024/09/09/S3A_OL_2_WRR____20240909T130929_20240909T135342_20240910T163350_2653_116_352______MAR_O_NT_003.SEN3/Oa10_reflectance.nc",
             "title": "Origin asset link",
             "type": "application/x-netcdf"
            }
           },
           "href": "https://hda.data.destination-earth.eu/stac/collections/EO.EUM.DAT.SENTINEL-3.OL_2_WRR___/items/S3A_OL_2_WRR____20240909T130929_20240909T135342_20240910T163350_2653_116_352______MAR_O_NT_003/download/Oa10_reflectance.nc?provider=dedl",
           "roles": [
            "data"
           ],
           "title": "Oa10_reflectance.nc",
           "type": "application/x-netcdf"
          },
          "Oa11_reflectance.nc": {
           "alternate": {
            "origin": {
             "href": "s3://eodata/Sentinel-3/OLCI/OL_2_WRR___/2024/09/09/S3A_OL_2_WRR____20240909T130929_20240909T135342_20240910T163350_2653_116_352______MAR_O_NT_003.SEN3/Oa11_reflectance.nc",
             "title": "Origin asset link",
             "type": "application/x-netcdf"
            }
           },
           "href": "https://hda.data.destination-earth.eu/stac/collections/EO.EUM.DAT.SENTINEL-3.OL_2_WRR___/items/S3A_OL_2_WRR____20240909T130929_20240909T135342_20240910T163350_2653_116_352______MAR_O_NT_003/download/Oa11_reflectance.nc?provider=dedl",
           "roles": [
            "data"
           ],
           "title": "Oa11_reflectance.nc",
           "type": "application/x-netcdf"
          },
          "Oa12_reflectance.nc": {
           "alternate": {
            "origin": {
             "href": "s3://eodata/Sentinel-3/OLCI/OL_2_WRR___/2024/09/09/S3A_OL_2_WRR____20240909T130929_20240909T135342_20240910T163350_2653_116_352______MAR_O_NT_003.SEN3/Oa12_reflectance.nc",
             "title": "Origin asset link",
             "type": "application/x-netcdf"
            }
           },
           "href": "https://hda.data.destination-earth.eu/stac/collections/EO.EUM.DAT.SENTINEL-3.OL_2_WRR___/items/S3A_OL_2_WRR____20240909T130929_20240909T135342_20240910T163350_2653_116_352______MAR_O_NT_003/download/Oa12_reflectance.nc?provider=dedl",
           "roles": [
            "data"
           ],
           "title": "Oa12_reflectance.nc",
           "type": "application/x-netcdf"
          },
          "Oa16_reflectance.nc": {
           "alternate": {
            "origin": {
             "href": "s3://eodata/Sentinel-3/OLCI/OL_2_WRR___/2024/09/09/S3A_OL_2_WRR____20240909T130929_20240909T135342_20240910T163350_2653_116_352______MAR_O_NT_003.SEN3/Oa16_reflectance.nc",
             "title": "Origin asset link",
             "type": "application/x-netcdf"
            }
           },
           "href": "https://hda.data.destination-earth.eu/stac/collections/EO.EUM.DAT.SENTINEL-3.OL_2_WRR___/items/S3A_OL_2_WRR____20240909T130929_20240909T135342_20240910T163350_2653_116_352______MAR_O_NT_003/download/Oa16_reflectance.nc?provider=dedl",
           "roles": [
            "data"
           ],
           "title": "Oa16_reflectance.nc",
           "type": "application/x-netcdf"
          },
          "Oa17_reflectance.nc": {
           "alternate": {
            "origin": {
             "href": "s3://eodata/Sentinel-3/OLCI/OL_2_WRR___/2024/09/09/S3A_OL_2_WRR____20240909T130929_20240909T135342_20240910T163350_2653_116_352______MAR_O_NT_003.SEN3/Oa17_reflectance.nc",
             "title": "Origin asset link",
             "type": "application/x-netcdf"
            }
           },
           "href": "https://hda.data.destination-earth.eu/stac/collections/EO.EUM.DAT.SENTINEL-3.OL_2_WRR___/items/S3A_OL_2_WRR____20240909T130929_20240909T135342_20240910T163350_2653_116_352______MAR_O_NT_003/download/Oa17_reflectance.nc?provider=dedl",
           "roles": [
            "data"
           ],
           "title": "Oa17_reflectance.nc",
           "type": "application/x-netcdf"
          },
          "Oa18_reflectance.nc": {
           "alternate": {
            "origin": {
             "href": "s3://eodata/Sentinel-3/OLCI/OL_2_WRR___/2024/09/09/S3A_OL_2_WRR____20240909T130929_20240909T135342_20240910T163350_2653_116_352______MAR_O_NT_003.SEN3/Oa18_reflectance.nc",
             "title": "Origin asset link",
             "type": "application/x-netcdf"
            }
           },
           "href": "https://hda.data.destination-earth.eu/stac/collections/EO.EUM.DAT.SENTINEL-3.OL_2_WRR___/items/S3A_OL_2_WRR____20240909T130929_20240909T135342_20240910T163350_2653_116_352______MAR_O_NT_003/download/Oa18_reflectance.nc?provider=dedl",
           "roles": [
            "data"
           ],
           "title": "Oa18_reflectance.nc",
           "type": "application/x-netcdf"
          },
          "Oa21_reflectance.nc": {
           "alternate": {
            "origin": {
             "href": "s3://eodata/Sentinel-3/OLCI/OL_2_WRR___/2024/09/09/S3A_OL_2_WRR____20240909T130929_20240909T135342_20240910T163350_2653_116_352______MAR_O_NT_003.SEN3/Oa21_reflectance.nc",
             "title": "Origin asset link",
             "type": "application/x-netcdf"
            }
           },
           "href": "https://hda.data.destination-earth.eu/stac/collections/EO.EUM.DAT.SENTINEL-3.OL_2_WRR___/items/S3A_OL_2_WRR____20240909T130929_20240909T135342_20240910T163350_2653_116_352______MAR_O_NT_003/download/Oa21_reflectance.nc?provider=dedl",
           "roles": [
            "data"
           ],
           "title": "Oa21_reflectance.nc",
           "type": "application/x-netcdf"
          },
          "browse.jpg": {
           "alternate": {
            "origin": {
             "href": "s3://eodata/Sentinel-3/OLCI/OL_2_WRR___/2024/09/09/S3A_OL_2_WRR____20240909T130929_20240909T135342_20240910T163350_2653_116_352______MAR_O_NT_003.SEN3/browse.jpg",
             "title": "Origin asset link",
             "type": "image/jpeg"
            }
           },
           "href": "https://hda.data.destination-earth.eu/stac/collections/EO.EUM.DAT.SENTINEL-3.OL_2_WRR___/items/S3A_OL_2_WRR____20240909T130929_20240909T135342_20240910T163350_2653_116_352______MAR_O_NT_003/download/browse.jpg?provider=dedl",
           "roles": [
            "metadata"
           ],
           "title": "browse.jpg",
           "type": "image/jpeg"
          },
          "chl_nn.nc": {
           "alternate": {
            "origin": {
             "href": "s3://eodata/Sentinel-3/OLCI/OL_2_WRR___/2024/09/09/S3A_OL_2_WRR____20240909T130929_20240909T135342_20240910T163350_2653_116_352______MAR_O_NT_003.SEN3/chl_nn.nc",
             "title": "Origin asset link",
             "type": "application/x-netcdf"
            }
           },
           "href": "https://hda.data.destination-earth.eu/stac/collections/EO.EUM.DAT.SENTINEL-3.OL_2_WRR___/items/S3A_OL_2_WRR____20240909T130929_20240909T135342_20240910T163350_2653_116_352______MAR_O_NT_003/download/chl_nn.nc?provider=dedl",
           "roles": [
            "data"
           ],
           "title": "chl_nn.nc",
           "type": "application/x-netcdf"
          },
          "chl_oc4me.nc": {
           "alternate": {
            "origin": {
             "href": "s3://eodata/Sentinel-3/OLCI/OL_2_WRR___/2024/09/09/S3A_OL_2_WRR____20240909T130929_20240909T135342_20240910T163350_2653_116_352______MAR_O_NT_003.SEN3/chl_oc4me.nc",
             "title": "Origin asset link",
             "type": "application/x-netcdf"
            }
           },
           "href": "https://hda.data.destination-earth.eu/stac/collections/EO.EUM.DAT.SENTINEL-3.OL_2_WRR___/items/S3A_OL_2_WRR____20240909T130929_20240909T135342_20240910T163350_2653_116_352______MAR_O_NT_003/download/chl_oc4me.nc?provider=dedl",
           "roles": [
            "data"
           ],
           "title": "chl_oc4me.nc",
           "type": "application/x-netcdf"
          },
          "downloadLink": {
           "alternate": {
            "origin": {
             "href": "https://zipper.creodias.eu/odata/v1/Products(5ccdfd51-2555-42fb-a706-b1352ddbb226)/$value",
             "title": "Origin asset link"
            }
           },
           "href": "https://hda.data.destination-earth.eu/stac/collections/EO.EUM.DAT.SENTINEL-3.OL_2_WRR___/items/S3A_OL_2_WRR____20240909T130929_20240909T135342_20240910T163350_2653_116_352______MAR_O_NT_003/download?provider=dedl",
           "storage:tier": "ONLINE",
           "title": "Download link",
           "type": "application/zip"
          },
          "geo_coordinates.nc": {
           "alternate": {
            "origin": {
             "href": "s3://eodata/Sentinel-3/OLCI/OL_2_WRR___/2024/09/09/S3A_OL_2_WRR____20240909T130929_20240909T135342_20240910T163350_2653_116_352______MAR_O_NT_003.SEN3/geo_coordinates.nc",
             "title": "Origin asset link",
             "type": "application/x-netcdf"
            }
           },
           "href": "https://hda.data.destination-earth.eu/stac/collections/EO.EUM.DAT.SENTINEL-3.OL_2_WRR___/items/S3A_OL_2_WRR____20240909T130929_20240909T135342_20240910T163350_2653_116_352______MAR_O_NT_003/download/geo_coordinates.nc?provider=dedl",
           "roles": [
            "data"
           ],
           "title": "geo_coordinates.nc",
           "type": "application/x-netcdf"
          },
          "instrument_data.nc": {
           "alternate": {
            "origin": {
             "href": "s3://eodata/Sentinel-3/OLCI/OL_2_WRR___/2024/09/09/S3A_OL_2_WRR____20240909T130929_20240909T135342_20240910T163350_2653_116_352______MAR_O_NT_003.SEN3/instrument_data.nc",
             "title": "Origin asset link",
             "type": "application/x-netcdf"
            }
           },
           "href": "https://hda.data.destination-earth.eu/stac/collections/EO.EUM.DAT.SENTINEL-3.OL_2_WRR___/items/S3A_OL_2_WRR____20240909T130929_20240909T135342_20240910T163350_2653_116_352______MAR_O_NT_003/download/instrument_data.nc?provider=dedl",
           "roles": [
            "data"
           ],
           "title": "instrument_data.nc",
           "type": "application/x-netcdf"
          },
          "iop_lsd.nc": {
           "alternate": {
            "origin": {
             "href": "s3://eodata/Sentinel-3/OLCI/OL_2_WRR___/2024/09/09/S3A_OL_2_WRR____20240909T130929_20240909T135342_20240910T163350_2653_116_352______MAR_O_NT_003.SEN3/iop_lsd.nc",
             "title": "Origin asset link",
             "type": "application/x-netcdf"
            }
           },
           "href": "https://hda.data.destination-earth.eu/stac/collections/EO.EUM.DAT.SENTINEL-3.OL_2_WRR___/items/S3A_OL_2_WRR____20240909T130929_20240909T135342_20240910T163350_2653_116_352______MAR_O_NT_003/download/iop_lsd.nc?provider=dedl",
           "roles": [
            "data"
           ],
           "title": "iop_lsd.nc",
           "type": "application/x-netcdf"
          },
          "iop_nn.nc": {
           "alternate": {
            "origin": {
             "href": "s3://eodata/Sentinel-3/OLCI/OL_2_WRR___/2024/09/09/S3A_OL_2_WRR____20240909T130929_20240909T135342_20240910T163350_2653_116_352______MAR_O_NT_003.SEN3/iop_nn.nc",
             "title": "Origin asset link",
             "type": "application/x-netcdf"
            }
           },
           "href": "https://hda.data.destination-earth.eu/stac/collections/EO.EUM.DAT.SENTINEL-3.OL_2_WRR___/items/S3A_OL_2_WRR____20240909T130929_20240909T135342_20240910T163350_2653_116_352______MAR_O_NT_003/download/iop_nn.nc?provider=dedl",
           "roles": [
            "data"
           ],
           "title": "iop_nn.nc",
           "type": "application/x-netcdf"
          },
          "iwv.nc": {
           "alternate": {
            "origin": {
             "href": "s3://eodata/Sentinel-3/OLCI/OL_2_WRR___/2024/09/09/S3A_OL_2_WRR____20240909T130929_20240909T135342_20240910T163350_2653_116_352______MAR_O_NT_003.SEN3/iwv.nc",
             "title": "Origin asset link",
             "type": "application/x-netcdf"
            }
           },
           "href": "https://hda.data.destination-earth.eu/stac/collections/EO.EUM.DAT.SENTINEL-3.OL_2_WRR___/items/S3A_OL_2_WRR____20240909T130929_20240909T135342_20240910T163350_2653_116_352______MAR_O_NT_003/download/iwv.nc?provider=dedl",
           "roles": [
            "data"
           ],
           "title": "iwv.nc",
           "type": "application/x-netcdf"
          },
          "manifest.xml": {
           "alternate": {
            "origin": {
             "href": "s3://eodata/Sentinel-3/OLCI/OL_2_WRR___/2024/09/09/S3A_OL_2_WRR____20240909T130929_20240909T135342_20240910T163350_2653_116_352______MAR_O_NT_003.SEN3/manifest.xml",
             "title": "Origin asset link",
             "type": "text/xml"
            }
           },
           "href": "https://hda.data.destination-earth.eu/stac/collections/EO.EUM.DAT.SENTINEL-3.OL_2_WRR___/items/S3A_OL_2_WRR____20240909T130929_20240909T135342_20240910T163350_2653_116_352______MAR_O_NT_003/download/manifest.xml?provider=dedl",
           "roles": [
            "metadata"
           ],
           "title": "manifest.xml",
           "type": "text/xml"
          },
          "par.nc": {
           "alternate": {
            "origin": {
             "href": "s3://eodata/Sentinel-3/OLCI/OL_2_WRR___/2024/09/09/S3A_OL_2_WRR____20240909T130929_20240909T135342_20240910T163350_2653_116_352______MAR_O_NT_003.SEN3/par.nc",
             "title": "Origin asset link",
             "type": "application/x-netcdf"
            }
           },
           "href": "https://hda.data.destination-earth.eu/stac/collections/EO.EUM.DAT.SENTINEL-3.OL_2_WRR___/items/S3A_OL_2_WRR____20240909T130929_20240909T135342_20240910T163350_2653_116_352______MAR_O_NT_003/download/par.nc?provider=dedl",
           "roles": [
            "data"
           ],
           "title": "par.nc",
           "type": "application/x-netcdf"
          },
          "tie_geo_coordinates.nc": {
           "alternate": {
            "origin": {
             "href": "s3://eodata/Sentinel-3/OLCI/OL_2_WRR___/2024/09/09/S3A_OL_2_WRR____20240909T130929_20240909T135342_20240910T163350_2653_116_352______MAR_O_NT_003.SEN3/tie_geo_coordinates.nc",
             "title": "Origin asset link",
             "type": "application/x-netcdf"
            }
           },
           "href": "https://hda.data.destination-earth.eu/stac/collections/EO.EUM.DAT.SENTINEL-3.OL_2_WRR___/items/S3A_OL_2_WRR____20240909T130929_20240909T135342_20240910T163350_2653_116_352______MAR_O_NT_003/download/tie_geo_coordinates.nc?provider=dedl",
           "roles": [
            "data"
           ],
           "title": "tie_geo_coordinates.nc",
           "type": "application/x-netcdf"
          },
          "tie_geometries.nc": {
           "alternate": {
            "origin": {
             "href": "s3://eodata/Sentinel-3/OLCI/OL_2_WRR___/2024/09/09/S3A_OL_2_WRR____20240909T130929_20240909T135342_20240910T163350_2653_116_352______MAR_O_NT_003.SEN3/tie_geometries.nc",
             "title": "Origin asset link",
             "type": "application/x-netcdf"
            }
           },
           "href": "https://hda.data.destination-earth.eu/stac/collections/EO.EUM.DAT.SENTINEL-3.OL_2_WRR___/items/S3A_OL_2_WRR____20240909T130929_20240909T135342_20240910T163350_2653_116_352______MAR_O_NT_003/download/tie_geometries.nc?provider=dedl",
           "roles": [
            "data"
           ],
           "title": "tie_geometries.nc",
           "type": "application/x-netcdf"
          },
          "tie_meteo.nc": {
           "alternate": {
            "origin": {
             "href": "s3://eodata/Sentinel-3/OLCI/OL_2_WRR___/2024/09/09/S3A_OL_2_WRR____20240909T130929_20240909T135342_20240910T163350_2653_116_352______MAR_O_NT_003.SEN3/tie_meteo.nc",
             "title": "Origin asset link",
             "type": "application/x-netcdf"
            }
           },
           "href": "https://hda.data.destination-earth.eu/stac/collections/EO.EUM.DAT.SENTINEL-3.OL_2_WRR___/items/S3A_OL_2_WRR____20240909T130929_20240909T135342_20240910T163350_2653_116_352______MAR_O_NT_003/download/tie_meteo.nc?provider=dedl",
           "roles": [
            "data"
           ],
           "title": "tie_meteo.nc",
           "type": "application/x-netcdf"
          },
          "time_coordinates.nc": {
           "alternate": {
            "origin": {
             "href": "s3://eodata/Sentinel-3/OLCI/OL_2_WRR___/2024/09/09/S3A_OL_2_WRR____20240909T130929_20240909T135342_20240910T163350_2653_116_352______MAR_O_NT_003.SEN3/time_coordinates.nc",
             "title": "Origin asset link",
             "type": "application/x-netcdf"
            }
           },
           "href": "https://hda.data.destination-earth.eu/stac/collections/EO.EUM.DAT.SENTINEL-3.OL_2_WRR___/items/S3A_OL_2_WRR____20240909T130929_20240909T135342_20240910T163350_2653_116_352______MAR_O_NT_003/download/time_coordinates.nc?provider=dedl",
           "roles": [
            "data"
           ],
           "title": "time_coordinates.nc",
           "type": "application/x-netcdf"
          },
          "trsp.nc": {
           "alternate": {
            "origin": {
             "href": "s3://eodata/Sentinel-3/OLCI/OL_2_WRR___/2024/09/09/S3A_OL_2_WRR____20240909T130929_20240909T135342_20240910T163350_2653_116_352______MAR_O_NT_003.SEN3/trsp.nc",
             "title": "Origin asset link",
             "type": "application/x-netcdf"
            }
           },
           "href": "https://hda.data.destination-earth.eu/stac/collections/EO.EUM.DAT.SENTINEL-3.OL_2_WRR___/items/S3A_OL_2_WRR____20240909T130929_20240909T135342_20240910T163350_2653_116_352______MAR_O_NT_003/download/trsp.nc?provider=dedl",
           "roles": [
            "data"
           ],
           "title": "trsp.nc",
           "type": "application/x-netcdf"
          },
          "tsm_nn.nc": {
           "alternate": {
            "origin": {
             "href": "s3://eodata/Sentinel-3/OLCI/OL_2_WRR___/2024/09/09/S3A_OL_2_WRR____20240909T130929_20240909T135342_20240910T163350_2653_116_352______MAR_O_NT_003.SEN3/tsm_nn.nc",
             "title": "Origin asset link",
             "type": "application/x-netcdf"
            }
           },
           "href": "https://hda.data.destination-earth.eu/stac/collections/EO.EUM.DAT.SENTINEL-3.OL_2_WRR___/items/S3A_OL_2_WRR____20240909T130929_20240909T135342_20240910T163350_2653_116_352______MAR_O_NT_003/download/tsm_nn.nc?provider=dedl",
           "roles": [
            "data"
           ],
           "title": "tsm_nn.nc",
           "type": "application/x-netcdf"
          },
          "w_aer.nc": {
           "alternate": {
            "origin": {
             "href": "s3://eodata/Sentinel-3/OLCI/OL_2_WRR___/2024/09/09/S3A_OL_2_WRR____20240909T130929_20240909T135342_20240910T163350_2653_116_352______MAR_O_NT_003.SEN3/w_aer.nc",
             "title": "Origin asset link",
             "type": "application/x-netcdf"
            }
           },
           "href": "https://hda.data.destination-earth.eu/stac/collections/EO.EUM.DAT.SENTINEL-3.OL_2_WRR___/items/S3A_OL_2_WRR____20240909T130929_20240909T135342_20240910T163350_2653_116_352______MAR_O_NT_003/download/w_aer.nc?provider=dedl",
           "roles": [
            "data"
           ],
           "title": "w_aer.nc",
           "type": "application/x-netcdf"
          },
          "wqsf.nc": {
           "alternate": {
            "origin": {
             "href": "s3://eodata/Sentinel-3/OLCI/OL_2_WRR___/2024/09/09/S3A_OL_2_WRR____20240909T130929_20240909T135342_20240910T163350_2653_116_352______MAR_O_NT_003.SEN3/wqsf.nc",
             "title": "Origin asset link",
             "type": "application/x-netcdf"
            }
           },
           "href": "https://hda.data.destination-earth.eu/stac/collections/EO.EUM.DAT.SENTINEL-3.OL_2_WRR___/items/S3A_OL_2_WRR____20240909T130929_20240909T135342_20240910T163350_2653_116_352______MAR_O_NT_003/download/wqsf.nc?provider=dedl",
           "roles": [
            "data"
           ],
           "title": "wqsf.nc",
           "type": "application/x-netcdf"
          },
          "xfdumanifest.xml": {
           "alternate": {
            "origin": {
             "href": "s3://eodata/Sentinel-3/OLCI/OL_2_WRR___/2024/09/09/S3A_OL_2_WRR____20240909T130929_20240909T135342_20240910T163350_2653_116_352______MAR_O_NT_003.SEN3/xfdumanifest.xml",
             "title": "Origin asset link",
             "type": "text/xml"
            }
           },
           "href": "https://hda.data.destination-earth.eu/stac/collections/EO.EUM.DAT.SENTINEL-3.OL_2_WRR___/items/S3A_OL_2_WRR____20240909T130929_20240909T135342_20240910T163350_2653_116_352______MAR_O_NT_003/download/xfdumanifest.xml?provider=dedl",
           "roles": [
            "metadata"
           ],
           "title": "xfdumanifest.xml",
           "type": "text/xml"
          }
         },
         "bbox": [
          -96.4906,
          -67.9523,
          39.4062,
          89.3402
         ],
         "collection": "EO.EUM.DAT.SENTINEL-3.OL_2_WRR___",
         "geometry": {
          "coordinates": [
           [
            [
             -96.4906,
             -62.2429
            ],
            [
             -95.4519,
             -62.6338
            ],
            [
             -94.3859,
             -63.0171
            ],
            [
             -93.2919,
             -63.3922
            ],
            [
             -92.1693,
             -63.7587
            ],
            [
             -91.0176,
             -64.1161
            ],
            [
             -89.8363,
             -64.4642
            ],
            [
             -88.625,
             -64.8026
            ],
            [
             -87.3835,
             -65.1308
            ],
            [
             -86.1115,
             -65.4485
            ],
            [
             -84.8087,
             -65.7551
            ],
            [
             -83.4753,
             -66.0504
            ],
            [
             -82.1112,
             -66.334
            ],
            [
             -80.7167,
             -66.6053
            ],
            [
             -79.2921,
             -66.8639
            ],
            [
             -77.8379,
             -67.1094
            ],
            [
             -76.3547,
             -67.3414
            ],
            [
             -74.8434,
             -67.5595
            ],
            [
             -73.305,
             -67.7632
            ],
            [
             -71.7405,
             -67.9523
            ],
            [
             -70.8749,
             -66.8448
            ],
            [
             -69.6459,
             -65.1018
            ],
            [
             -68.5454,
             -63.3512
            ],
            [
             -67.5498,
             -61.5955
            ],
            [
             -66.642,
             -59.8347
            ],
            [
             -65.8066,
             -58.0695
            ],
            [
             -65.0323,
             -56.3005
            ],
            [
             -64.3102,
             -54.528
            ],
            [
             -63.6323,
             -52.7528
            ],
            [
             -62.9926,
             -50.9748
            ],
            [
             -62.3861,
             -49.1942
            ],
            [
             -61.8082,
             -47.4115
            ],
            [
             -61.2553,
             -45.6266
            ],
            [
             -60.7245,
             -43.8399
            ],
            [
             -60.2128,
             -42.0513
            ],
            [
             -59.7181,
             -40.2613
            ],
            [
             -59.2383,
             -38.4693
            ],
            [
             -58.772,
             -36.6756
            ],
            [
             -58.3169,
             -34.881
            ],
            [
             -57.8723,
             -33.0851
            ],
            [
             -57.4362,
             -31.2883
            ],
            [
             -57.0089,
             -29.4891
            ],
            [
             -56.5884,
             -27.6891
            ],
            [
             -56.1734,
             -25.8887
            ],
            [
             -55.7639,
             -24.087
            ],
            [
             -55.3585,
             -22.2851
            ],
            [
             -54.957,
             -20.4816
            ],
            [
             -54.5593,
             -18.6763
            ],
            [
             -54.1632,
             -16.8719
            ],
            [
             -53.7691,
             -15.0667
            ],
            [
             -53.3764,
             -13.2605
            ],
            [
             -52.9844,
             -11.454
            ],
            [
             -52.5924,
             -9.64747
            ],
            [
             -52.2006,
             -7.83947
            ],
            [
             -51.8074,
             -6.03224
            ],
            [
             -51.4132,
             -4.22433
            ],
            [
             -51.017,
             -2.41683
            ],
            [
             -50.6181,
             -0.609761
            ],
            [
             -50.2168,
             1.1983
            ],
            [
             -49.8121,
             3.0062
            ],
            [
             -49.4029,
             4.81267
            ],
            [
             -48.9894,
             6.61967
            ],
            [
             -48.5708,
             8.42631
            ],
            [
             -48.1462,
             10.232
            ],
            [
             -47.715,
             12.0363
            ],
            [
             -47.2764,
             13.8401
            ],
            [
             -46.8308,
             15.6448
            ],
            [
             -46.3752,
             17.4463
            ],
            [
             -45.9105,
             19.2474
            ],
            [
             -45.4347,
             21.0469
            ],
            [
             -44.9473,
             22.8451
            ],
            [
             -44.4472,
             24.6424
            ],
            [
             -43.9327,
             26.4374
            ],
            [
             -43.4024,
             28.2295
            ],
            [
             -42.8552,
             30.0209
            ],
            [
             -42.2888,
             31.8087
            ],
            [
             -41.7021,
             33.5955
            ],
            [
             -41.0922,
             35.3789
            ],
            [
             -40.4566,
             37.1585
            ],
            [
             -39.7928,
             38.9351
            ],
            [
             -39.0981,
             40.7084
            ],
            [
             -38.3682,
             42.4769
            ],
            [
             -37.5991,
             44.2407
            ],
            [
             -36.7867,
             46.0004
            ],
            [
             -35.9255,
             47.7546
            ],
            [
             -35.0079,
             49.5011
            ],
            [
             -34.0278,
             51.2409
            ],
            [
             -32.9766,
             52.9732
            ],
            [
             -31.8436,
             54.6961
            ],
            [
             -30.6165,
             56.4082
            ],
            [
             -29.2813,
             58.108
            ],
            [
             -27.8201,
             59.7939
            ],
            [
             -26.2124,
             61.4635
            ],
            [
             -24.432,
             63.1133
            ],
            [
             -22.4479,
             64.7397
            ],
            [
             -20.2223,
             66.3382
            ],
            [
             -17.7078,
             67.903
            ],
            [
             -14.8471,
             69.4261
            ],
            [
             -11.5706,
             70.8977
            ],
            [
             -7.79419,
             72.3048
            ],
            [
             -3.42057,
             73.6317
            ],
            [
             1.65691,
             74.8564
            ],
            [
             7.54153,
             75.9535
            ],
            [
             14.3099,
             76.8898
            ],
            [
             21.9714,
             77.6286
            ],
            [
             30.422,
             78.1347
            ],
            [
             39.4062,
             78.3764
            ],
            [
             39.226,
             78.9946
            ],
            [
             39.0245,
             79.6125
            ],
            [
             38.7979,
             80.2302
            ],
            [
             38.5411,
             80.8478
            ],
            [
             38.2475,
             81.4651
            ],
            [
             37.9084,
             82.0821
            ],
            [
             37.5127,
             82.6988
            ],
            [
             37.0444,
             83.3151
            ],
            [
             36.4817,
             83.9308
            ],
            [
             35.7919,
             84.5458
            ],
            [
             34.9282,
             85.1598
            ],
            [
             33.8148,
             85.7724
            ],
            [
             32.324,
             86.3828
            ],
            [
             30.2325,
             86.9898
            ],
            [
             27.0927,
             87.5908
            ],
            [
             21.8972,
             88.1799
            ],
            [
             11.9294,
             88.74
            ],
            [
             -11.4875,
             89.2074
            ],
            [
             -60.9121,
             89.3402
            ],
            [
             -51.295,
             87.581
            ],
            [
             -50.0091,
             85.8103
            ],
            [
             -49.6505,
             84.0383
            ],
            [
             -49.5724,
             82.2657
            ],
            [
             -49.6208,
             80.4929
            ],
            [
             -49.7398,
             78.7197
            ],
            [
             -49.897,
             76.9459
            ],
            [
             -50.0811,
             75.1721
            ],
            [
             -50.2824,
             73.3979
            ],
            [
             -50.4967,
             71.623
            ],
            [
             -50.7207,
             69.8476
            ],
            [
             -50.9528,
             68.0719
            ],
            [
             -51.1912,
             66.2955
            ],
            [
             -51.4346,
             64.5186
            ],
            [
             -51.682,
             62.741
            ],
            [
             -51.9338,
             60.9629
            ],
            [
             -52.1889,
             59.1843
            ],
            [
             -52.4476,
             57.4048
            ],
            [
             -52.7088,
             55.6247
            ],
            [
             -52.9728,
             53.8437
            ],
            [
             -53.2401,
             52.0623
            ],
            [
             -53.5108,
             50.2802
            ],
            [
             -53.7826,
             48.4969
            ],
            [
             -54.0574,
             46.7133
            ],
            [
             -54.3358,
             44.9291
            ],
            [
             -54.6166,
             43.1439
            ],
            [
             -54.8998,
             41.358
            ],
            [
             -55.1865,
             39.5715
            ],
            [
             -55.4762,
             37.7844
            ],
            [
             -55.7685,
             35.9965
            ],
            [
             -56.0637,
             34.2077
            ],
            [
             -56.363,
             32.4189
            ],
            [
             -56.6653,
             30.629
            ],
            [
             -56.9717,
             28.8393
            ],
            [
             -57.2814,
             27.0486
            ],
            [
             -57.5948,
             25.2573
            ],
            [
             -57.9127,
             23.466
            ],
            [
             -58.2351,
             21.6744
            ],
            [
             -58.5616,
             19.8824
            ],
            [
             -58.8935,
             18.0905
            ],
            [
             -59.229,
             16.2974
            ],
            [
             -59.571,
             14.5056
            ],
            [
             -59.9186,
             12.7135
            ],
            [
             -60.2716,
             10.9213
            ],
            [
             -60.6307,
             9.12924
            ],
            [
             -60.9964,
             7.33743
            ],
            [
             -61.3695,
             5.5466
            ],
            [
             -61.7491,
             3.75564
            ],
            [
             -62.1366,
             1.96533
            ],
            [
             -62.5329,
             0.176412
            ],
            [
             -62.9376,
             -1.61216
            ],
            [
             -63.3513,
             -3.39969
            ],
            [
             -63.7751,
             -5.18579
            ],
            [
             -64.2089,
             -6.97123
            ],
            [
             -64.6544,
             -8.75473
            ],
            [
             -65.1117,
             -10.5367
            ],
            [
             -65.5816,
             -12.3171
            ],
            [
             -66.0653,
             -14.0952
            ],
            [
             -66.5638,
             -15.8712
            ],
            [
             -67.0769,
             -17.6455
            ],
            [
             -67.6075,
             -19.4166
            ],
            [
             -68.1567,
             -21.1847
            ],
            [
             -68.725,
             -22.9502
            ],
            [
             -69.3145,
             -24.7118
            ],
            [
             -69.9263,
             -26.4702
            ],
            [
             -70.5626,
             -28.2247
            ],
            [
             -71.2266,
             -29.9742
            ],
            [
             -71.9193,
             -31.7193
            ],
            [
             -72.6439,
             -33.4589
            ],
            [
             -73.4026,
             -35.1931
            ],
            [
             -74.1996,
             -36.9208
            ],
            [
             -75.0382,
             -38.6413
            ],
            [
             -75.9226,
             -40.3545
            ],
            [
             -76.8572,
             -42.0591
            ],
            [
             -77.8476,
             -43.7543
            ],
            [
             -78.8997,
             -45.4391
            ],
            [
             -80.0202,
             -47.1124
            ],
            [
             -81.2171,
             -48.7726
            ],
            [
             -82.4992,
             -50.4182
            ],
            [
             -83.8766,
             -52.0477
            ],
            [
             -85.3611,
             -53.6582
            ],
            [
             -86.9661,
             -55.2478
            ],
            [
             -88.7065,
             -56.8132
            ],
            [
             -90.6011,
             -58.3512
            ],
            [
             -92.6689,
             -59.8577
            ],
            [
             -94.9322,
             -61.3273
            ],
            [
             -96.4906,
             -62.2429
            ]
           ]
          ],
          "type": "Polygon"
         },
         "id": "S3A_OL_2_WRR____20240909T130929_20240909T135342_20240910T163350_2653_116_352______MAR_O_NT_003",
         "links": [
          {
           "href": "https://hda.data.destination-earth.eu/stac/collections/EO.EUM.DAT.SENTINEL-3.OL_2_WRR___/items/S3A_OL_2_WRR____20240909T130929_20240909T135342_20240910T163350_2653_116_352______MAR_O_NT_003",
           "rel": "self",
           "title": "S3A_OL_2_WRR____20240909T130929_20240909T135342_20240910T163350_2653_116_352______MAR_O_NT_003"
          },
          {
           "href": "https://hda.data.destination-earth.eu/stac/",
           "rel": "root"
          },
          {
           "href": "https://hda.data.destination-earth.eu/stac/collections/EO.EUM.DAT.SENTINEL-3.OL_2_WRR___",
           "rel": "parent",
           "title": "EO.EUM.DAT.SENTINEL-3.OL_2_WRR___"
          },
          {
           "href": "https://hda.data.destination-earth.eu/stac/collections/EO.EUM.DAT.SENTINEL-3.OL_2_WRR___",
           "rel": "collection",
           "title": "EO.EUM.DAT.SENTINEL-3.OL_2_WRR___"
          }
         ],
         "properties": {
          "constellation": "SENTINEL-3",
          "datetime": "2024-09-09T13:09:28.869824Z",
          "dedl:alias": "EO.EUM.DAT.SENTINEL-3.OL_2_WRR___",
          "dedl:baselineCollection": "003",
          "dedl:beginningDateTime": "2024-09-09T13:09:28.869824Z",
          "dedl:endingDateTime": "2024-09-09T13:53:42.320608Z",
          "dedl:productIdentifier": "/eodata/Sentinel-3/OLCI/OL_2_WRR___/2024/09/09/S3A_OL_2_WRR____20240909T130929_20240909T135342_20240910T163350_2653_116_352______MAR_O_NT_003.SEN3",
          "dedl:scope": {
           "discover": null,
           "download": "hda-public-data-access",
           "search": "hda-public-data-access"
          },
          "dedl:timeliness": "NT",
          "dedl:uid": "5ccdfd51-2555-42fb-a706-b1352ddbb226",
          "description": "OLCI (Ocean and Land Colour Instrument) Ocean Colour Geophysical Products. Reduced Resolution: 1200m at nadir. Level 2 marine products include the following: * water-leaving reflectances in 16 bands, Oa**_reflectance (Baseline Atmospheric Correction (BAC) algorithm, bands: 400, 412, 442, 490, 510, 560, 620, 665, 674, 681, 709, 754, 779, 865, 885, 1024 nanometer (nm)); *algal pigment concentration in clear waters, chl_oc4me (BAC and maximum band ratio algorithm, log10 scaled); *algal pigment concentration in turbid waters, chl_nn (neural net algorithm, log10 scaled); *total suspended matter concentration, tsm_nn (neural net algorithm, log10 scaled); *diffuse attenuation coefficient Kd of downward irradiance at 490 nm, trsp (BAC and M07 algorithm, log10 scaled); *absorption coefficient at 443 nm of coloured detrital and dissolved organic matter, iop_nn (neural net algorithm, log10 scaled); *instantaneous photosynthetically active radiation, PAR (BAC and clear-sky ocean algorithm); *aerosol optical thickness T865 and aerosol Angstrom exponent A865, w_aer (BAC algorithm, A for bands 779 and 865 nm) *integrated water vapour column, iwv (1D-Var algorithm). The geophysical products are accompanied by error estimate products. Pixel classification, quality and science flags, as well as meteorological, geometry and geolocation data at tie points are provided. \n\n- All Sentinel-3 NRT products are available at pick-up point in less than 3h\n- All Sentinel-3 Non Time Critical (NTC) products are available at pick-up point in less than 30 days.\nSentinel-3 is part of a series of Sentinel satellites, under the umbrella of the EU Copernicus programme.",
          "end_datetime": "2024-09-09T13:53:42.320608Z",
          "instruments": [
           "OLCI"
          ],
          "license": "proprietary",
          "order:status": "succeeded",
          "platform": "SENTINEL-3A,SENTINEL-3B",
          "processing:level": 2,
          "providers": [
           {
            "description": "DestineE Data Lake Fresh Data Pool",
            "name": "dedl",
            "priority": 1,
            "roles": [
             "host"
            ],
            "url": "https://creodias.eu/"
           }
          ],
          "published": "2024-09-10T17:01:50.078702Z",
          "sar:instrument_mode": "Earth Observation",
          "sar:product_type": "OL_2_WRR___",
          "sat:absolute_orbit": 44600,
          "sat:orbit_state": "DESCENDING",
          "sat:relative_orbit": 352,
          "start_datetime": "2024-09-09T13:09:28.869824Z",
          "updated": "2024-09-10T17:01:56.595545Z"
         },
         "stac_extensions": [
          "https://stac-extensions.github.io/timestamps/v1.0.0/schema.json",
          "https://stac-extensions.github.io/processing/v1.0.0/schema.json",
          "https://stac-extensions.github.io/sat/v1.0.0/schema.json",
          "https://stac-extensions.github.io/sar/v1.0.0/schema.json",
          "https://stac-extensions.github.io/order/v1.1.0/schema.json"
         ],
         "stac_version": "1.0.0",
         "type": "Feature"
        },
        {
         "assets": {
          "EOPMetadata.xml": {
           "alternate": {
            "origin": {
             "href": "s3://eodata/Sentinel-3/OLCI/OL_2_WRR___/2024/09/09/S3A_OL_2_WRR____20240909T130929_20240909T135342_20240909T152351_2653_116_352______MAR_O_NR_003.SEN3/EOPMetadata.xml",
             "title": "Origin asset link",
             "type": "text/xml"
            }
           },
           "href": "https://hda.data.destination-earth.eu/stac/collections/EO.EUM.DAT.SENTINEL-3.OL_2_WRR___/items/S3A_OL_2_WRR____20240909T130929_20240909T135342_20240909T152351_2653_116_352______MAR_O_NR_003/download/EOPMetadata.xml?provider=dedl",
           "roles": [
            "metadata"
           ],
           "title": "EOPMetadata.xml",
           "type": "text/xml"
          },
          "Oa01_reflectance.nc": {
           "alternate": {
            "origin": {
             "href": "s3://eodata/Sentinel-3/OLCI/OL_2_WRR___/2024/09/09/S3A_OL_2_WRR____20240909T130929_20240909T135342_20240909T152351_2653_116_352______MAR_O_NR_003.SEN3/Oa01_reflectance.nc",
             "title": "Origin asset link",
             "type": "application/x-netcdf"
            }
           },
           "href": "https://hda.data.destination-earth.eu/stac/collections/EO.EUM.DAT.SENTINEL-3.OL_2_WRR___/items/S3A_OL_2_WRR____20240909T130929_20240909T135342_20240909T152351_2653_116_352______MAR_O_NR_003/download/Oa01_reflectance.nc?provider=dedl",
           "roles": [
            "data"
           ],
           "title": "Oa01_reflectance.nc",
           "type": "application/x-netcdf"
          },
          "Oa02_reflectance.nc": {
           "alternate": {
            "origin": {
             "href": "s3://eodata/Sentinel-3/OLCI/OL_2_WRR___/2024/09/09/S3A_OL_2_WRR____20240909T130929_20240909T135342_20240909T152351_2653_116_352______MAR_O_NR_003.SEN3/Oa02_reflectance.nc",
             "title": "Origin asset link",
             "type": "application/x-netcdf"
            }
           },
           "href": "https://hda.data.destination-earth.eu/stac/collections/EO.EUM.DAT.SENTINEL-3.OL_2_WRR___/items/S3A_OL_2_WRR____20240909T130929_20240909T135342_20240909T152351_2653_116_352______MAR_O_NR_003/download/Oa02_reflectance.nc?provider=dedl",
           "roles": [
            "data"
           ],
           "title": "Oa02_reflectance.nc",
           "type": "application/x-netcdf"
          },
          "Oa03_reflectance.nc": {
           "alternate": {
            "origin": {
             "href": "s3://eodata/Sentinel-3/OLCI/OL_2_WRR___/2024/09/09/S3A_OL_2_WRR____20240909T130929_20240909T135342_20240909T152351_2653_116_352______MAR_O_NR_003.SEN3/Oa03_reflectance.nc",
             "title": "Origin asset link",
             "type": "application/x-netcdf"
            }
           },
           "href": "https://hda.data.destination-earth.eu/stac/collections/EO.EUM.DAT.SENTINEL-3.OL_2_WRR___/items/S3A_OL_2_WRR____20240909T130929_20240909T135342_20240909T152351_2653_116_352______MAR_O_NR_003/download/Oa03_reflectance.nc?provider=dedl",
           "roles": [
            "data"
           ],
           "title": "Oa03_reflectance.nc",
           "type": "application/x-netcdf"
          },
          "Oa04_reflectance.nc": {
           "alternate": {
            "origin": {
             "href": "s3://eodata/Sentinel-3/OLCI/OL_2_WRR___/2024/09/09/S3A_OL_2_WRR____20240909T130929_20240909T135342_20240909T152351_2653_116_352______MAR_O_NR_003.SEN3/Oa04_reflectance.nc",
             "title": "Origin asset link",
             "type": "application/x-netcdf"
            }
           },
           "href": "https://hda.data.destination-earth.eu/stac/collections/EO.EUM.DAT.SENTINEL-3.OL_2_WRR___/items/S3A_OL_2_WRR____20240909T130929_20240909T135342_20240909T152351_2653_116_352______MAR_O_NR_003/download/Oa04_reflectance.nc?provider=dedl",
           "roles": [
            "data"
           ],
           "title": "Oa04_reflectance.nc",
           "type": "application/x-netcdf"
          },
          "Oa05_reflectance.nc": {
           "alternate": {
            "origin": {
             "href": "s3://eodata/Sentinel-3/OLCI/OL_2_WRR___/2024/09/09/S3A_OL_2_WRR____20240909T130929_20240909T135342_20240909T152351_2653_116_352______MAR_O_NR_003.SEN3/Oa05_reflectance.nc",
             "title": "Origin asset link",
             "type": "application/x-netcdf"
            }
           },
           "href": "https://hda.data.destination-earth.eu/stac/collections/EO.EUM.DAT.SENTINEL-3.OL_2_WRR___/items/S3A_OL_2_WRR____20240909T130929_20240909T135342_20240909T152351_2653_116_352______MAR_O_NR_003/download/Oa05_reflectance.nc?provider=dedl",
           "roles": [
            "data"
           ],
           "title": "Oa05_reflectance.nc",
           "type": "application/x-netcdf"
          },
          "Oa06_reflectance.nc": {
           "alternate": {
            "origin": {
             "href": "s3://eodata/Sentinel-3/OLCI/OL_2_WRR___/2024/09/09/S3A_OL_2_WRR____20240909T130929_20240909T135342_20240909T152351_2653_116_352______MAR_O_NR_003.SEN3/Oa06_reflectance.nc",
             "title": "Origin asset link",
             "type": "application/x-netcdf"
            }
           },
           "href": "https://hda.data.destination-earth.eu/stac/collections/EO.EUM.DAT.SENTINEL-3.OL_2_WRR___/items/S3A_OL_2_WRR____20240909T130929_20240909T135342_20240909T152351_2653_116_352______MAR_O_NR_003/download/Oa06_reflectance.nc?provider=dedl",
           "roles": [
            "data"
           ],
           "title": "Oa06_reflectance.nc",
           "type": "application/x-netcdf"
          },
          "Oa07_reflectance.nc": {
           "alternate": {
            "origin": {
             "href": "s3://eodata/Sentinel-3/OLCI/OL_2_WRR___/2024/09/09/S3A_OL_2_WRR____20240909T130929_20240909T135342_20240909T152351_2653_116_352______MAR_O_NR_003.SEN3/Oa07_reflectance.nc",
             "title": "Origin asset link",
             "type": "application/x-netcdf"
            }
           },
           "href": "https://hda.data.destination-earth.eu/stac/collections/EO.EUM.DAT.SENTINEL-3.OL_2_WRR___/items/S3A_OL_2_WRR____20240909T130929_20240909T135342_20240909T152351_2653_116_352______MAR_O_NR_003/download/Oa07_reflectance.nc?provider=dedl",
           "roles": [
            "data"
           ],
           "title": "Oa07_reflectance.nc",
           "type": "application/x-netcdf"
          },
          "Oa08_reflectance.nc": {
           "alternate": {
            "origin": {
             "href": "s3://eodata/Sentinel-3/OLCI/OL_2_WRR___/2024/09/09/S3A_OL_2_WRR____20240909T130929_20240909T135342_20240909T152351_2653_116_352______MAR_O_NR_003.SEN3/Oa08_reflectance.nc",
             "title": "Origin asset link",
             "type": "application/x-netcdf"
            }
           },
           "href": "https://hda.data.destination-earth.eu/stac/collections/EO.EUM.DAT.SENTINEL-3.OL_2_WRR___/items/S3A_OL_2_WRR____20240909T130929_20240909T135342_20240909T152351_2653_116_352______MAR_O_NR_003/download/Oa08_reflectance.nc?provider=dedl",
           "roles": [
            "data"
           ],
           "title": "Oa08_reflectance.nc",
           "type": "application/x-netcdf"
          },
          "Oa09_reflectance.nc": {
           "alternate": {
            "origin": {
             "href": "s3://eodata/Sentinel-3/OLCI/OL_2_WRR___/2024/09/09/S3A_OL_2_WRR____20240909T130929_20240909T135342_20240909T152351_2653_116_352______MAR_O_NR_003.SEN3/Oa09_reflectance.nc",
             "title": "Origin asset link",
             "type": "application/x-netcdf"
            }
           },
           "href": "https://hda.data.destination-earth.eu/stac/collections/EO.EUM.DAT.SENTINEL-3.OL_2_WRR___/items/S3A_OL_2_WRR____20240909T130929_20240909T135342_20240909T152351_2653_116_352______MAR_O_NR_003/download/Oa09_reflectance.nc?provider=dedl",
           "roles": [
            "data"
           ],
           "title": "Oa09_reflectance.nc",
           "type": "application/x-netcdf"
          },
          "Oa10_reflectance.nc": {
           "alternate": {
            "origin": {
             "href": "s3://eodata/Sentinel-3/OLCI/OL_2_WRR___/2024/09/09/S3A_OL_2_WRR____20240909T130929_20240909T135342_20240909T152351_2653_116_352______MAR_O_NR_003.SEN3/Oa10_reflectance.nc",
             "title": "Origin asset link",
             "type": "application/x-netcdf"
            }
           },
           "href": "https://hda.data.destination-earth.eu/stac/collections/EO.EUM.DAT.SENTINEL-3.OL_2_WRR___/items/S3A_OL_2_WRR____20240909T130929_20240909T135342_20240909T152351_2653_116_352______MAR_O_NR_003/download/Oa10_reflectance.nc?provider=dedl",
           "roles": [
            "data"
           ],
           "title": "Oa10_reflectance.nc",
           "type": "application/x-netcdf"
          },
          "Oa11_reflectance.nc": {
           "alternate": {
            "origin": {
             "href": "s3://eodata/Sentinel-3/OLCI/OL_2_WRR___/2024/09/09/S3A_OL_2_WRR____20240909T130929_20240909T135342_20240909T152351_2653_116_352______MAR_O_NR_003.SEN3/Oa11_reflectance.nc",
             "title": "Origin asset link",
             "type": "application/x-netcdf"
            }
           },
           "href": "https://hda.data.destination-earth.eu/stac/collections/EO.EUM.DAT.SENTINEL-3.OL_2_WRR___/items/S3A_OL_2_WRR____20240909T130929_20240909T135342_20240909T152351_2653_116_352______MAR_O_NR_003/download/Oa11_reflectance.nc?provider=dedl",
           "roles": [
            "data"
           ],
           "title": "Oa11_reflectance.nc",
           "type": "application/x-netcdf"
          },
          "Oa12_reflectance.nc": {
           "alternate": {
            "origin": {
             "href": "s3://eodata/Sentinel-3/OLCI/OL_2_WRR___/2024/09/09/S3A_OL_2_WRR____20240909T130929_20240909T135342_20240909T152351_2653_116_352______MAR_O_NR_003.SEN3/Oa12_reflectance.nc",
             "title": "Origin asset link",
             "type": "application/x-netcdf"
            }
           },
           "href": "https://hda.data.destination-earth.eu/stac/collections/EO.EUM.DAT.SENTINEL-3.OL_2_WRR___/items/S3A_OL_2_WRR____20240909T130929_20240909T135342_20240909T152351_2653_116_352______MAR_O_NR_003/download/Oa12_reflectance.nc?provider=dedl",
           "roles": [
            "data"
           ],
           "title": "Oa12_reflectance.nc",
           "type": "application/x-netcdf"
          },
          "Oa16_reflectance.nc": {
           "alternate": {
            "origin": {
             "href": "s3://eodata/Sentinel-3/OLCI/OL_2_WRR___/2024/09/09/S3A_OL_2_WRR____20240909T130929_20240909T135342_20240909T152351_2653_116_352______MAR_O_NR_003.SEN3/Oa16_reflectance.nc",
             "title": "Origin asset link",
             "type": "application/x-netcdf"
            }
           },
           "href": "https://hda.data.destination-earth.eu/stac/collections/EO.EUM.DAT.SENTINEL-3.OL_2_WRR___/items/S3A_OL_2_WRR____20240909T130929_20240909T135342_20240909T152351_2653_116_352______MAR_O_NR_003/download/Oa16_reflectance.nc?provider=dedl",
           "roles": [
            "data"
           ],
           "title": "Oa16_reflectance.nc",
           "type": "application/x-netcdf"
          },
          "Oa17_reflectance.nc": {
           "alternate": {
            "origin": {
             "href": "s3://eodata/Sentinel-3/OLCI/OL_2_WRR___/2024/09/09/S3A_OL_2_WRR____20240909T130929_20240909T135342_20240909T152351_2653_116_352______MAR_O_NR_003.SEN3/Oa17_reflectance.nc",
             "title": "Origin asset link",
             "type": "application/x-netcdf"
            }
           },
           "href": "https://hda.data.destination-earth.eu/stac/collections/EO.EUM.DAT.SENTINEL-3.OL_2_WRR___/items/S3A_OL_2_WRR____20240909T130929_20240909T135342_20240909T152351_2653_116_352______MAR_O_NR_003/download/Oa17_reflectance.nc?provider=dedl",
           "roles": [
            "data"
           ],
           "title": "Oa17_reflectance.nc",
           "type": "application/x-netcdf"
          },
          "Oa18_reflectance.nc": {
           "alternate": {
            "origin": {
             "href": "s3://eodata/Sentinel-3/OLCI/OL_2_WRR___/2024/09/09/S3A_OL_2_WRR____20240909T130929_20240909T135342_20240909T152351_2653_116_352______MAR_O_NR_003.SEN3/Oa18_reflectance.nc",
             "title": "Origin asset link",
             "type": "application/x-netcdf"
            }
           },
           "href": "https://hda.data.destination-earth.eu/stac/collections/EO.EUM.DAT.SENTINEL-3.OL_2_WRR___/items/S3A_OL_2_WRR____20240909T130929_20240909T135342_20240909T152351_2653_116_352______MAR_O_NR_003/download/Oa18_reflectance.nc?provider=dedl",
           "roles": [
            "data"
           ],
           "title": "Oa18_reflectance.nc",
           "type": "application/x-netcdf"
          },
          "Oa21_reflectance.nc": {
           "alternate": {
            "origin": {
             "href": "s3://eodata/Sentinel-3/OLCI/OL_2_WRR___/2024/09/09/S3A_OL_2_WRR____20240909T130929_20240909T135342_20240909T152351_2653_116_352______MAR_O_NR_003.SEN3/Oa21_reflectance.nc",
             "title": "Origin asset link",
             "type": "application/x-netcdf"
            }
           },
           "href": "https://hda.data.destination-earth.eu/stac/collections/EO.EUM.DAT.SENTINEL-3.OL_2_WRR___/items/S3A_OL_2_WRR____20240909T130929_20240909T135342_20240909T152351_2653_116_352______MAR_O_NR_003/download/Oa21_reflectance.nc?provider=dedl",
           "roles": [
            "data"
           ],
           "title": "Oa21_reflectance.nc",
           "type": "application/x-netcdf"
          },
          "browse.jpg": {
           "alternate": {
            "origin": {
             "href": "s3://eodata/Sentinel-3/OLCI/OL_2_WRR___/2024/09/09/S3A_OL_2_WRR____20240909T130929_20240909T135342_20240909T152351_2653_116_352______MAR_O_NR_003.SEN3/browse.jpg",
             "title": "Origin asset link",
             "type": "image/jpeg"
            }
           },
           "href": "https://hda.data.destination-earth.eu/stac/collections/EO.EUM.DAT.SENTINEL-3.OL_2_WRR___/items/S3A_OL_2_WRR____20240909T130929_20240909T135342_20240909T152351_2653_116_352______MAR_O_NR_003/download/browse.jpg?provider=dedl",
           "roles": [
            "metadata"
           ],
           "title": "browse.jpg",
           "type": "image/jpeg"
          },
          "chl_nn.nc": {
           "alternate": {
            "origin": {
             "href": "s3://eodata/Sentinel-3/OLCI/OL_2_WRR___/2024/09/09/S3A_OL_2_WRR____20240909T130929_20240909T135342_20240909T152351_2653_116_352______MAR_O_NR_003.SEN3/chl_nn.nc",
             "title": "Origin asset link",
             "type": "application/x-netcdf"
            }
           },
           "href": "https://hda.data.destination-earth.eu/stac/collections/EO.EUM.DAT.SENTINEL-3.OL_2_WRR___/items/S3A_OL_2_WRR____20240909T130929_20240909T135342_20240909T152351_2653_116_352______MAR_O_NR_003/download/chl_nn.nc?provider=dedl",
           "roles": [
            "data"
           ],
           "title": "chl_nn.nc",
           "type": "application/x-netcdf"
          },
          "chl_oc4me.nc": {
           "alternate": {
            "origin": {
             "href": "s3://eodata/Sentinel-3/OLCI/OL_2_WRR___/2024/09/09/S3A_OL_2_WRR____20240909T130929_20240909T135342_20240909T152351_2653_116_352______MAR_O_NR_003.SEN3/chl_oc4me.nc",
             "title": "Origin asset link",
             "type": "application/x-netcdf"
            }
           },
           "href": "https://hda.data.destination-earth.eu/stac/collections/EO.EUM.DAT.SENTINEL-3.OL_2_WRR___/items/S3A_OL_2_WRR____20240909T130929_20240909T135342_20240909T152351_2653_116_352______MAR_O_NR_003/download/chl_oc4me.nc?provider=dedl",
           "roles": [
            "data"
           ],
           "title": "chl_oc4me.nc",
           "type": "application/x-netcdf"
          },
          "downloadLink": {
           "alternate": {
            "origin": {
             "href": "https://zipper.creodias.eu/odata/v1/Products(a742d13a-1cf0-4e17-933e-3bc653233047)/$value",
             "title": "Origin asset link"
            }
           },
           "href": "https://hda.data.destination-earth.eu/stac/collections/EO.EUM.DAT.SENTINEL-3.OL_2_WRR___/items/S3A_OL_2_WRR____20240909T130929_20240909T135342_20240909T152351_2653_116_352______MAR_O_NR_003/download?provider=dedl",
           "storage:tier": "ONLINE",
           "title": "Download link",
           "type": "application/zip"
          },
          "geo_coordinates.nc": {
           "alternate": {
            "origin": {
             "href": "s3://eodata/Sentinel-3/OLCI/OL_2_WRR___/2024/09/09/S3A_OL_2_WRR____20240909T130929_20240909T135342_20240909T152351_2653_116_352______MAR_O_NR_003.SEN3/geo_coordinates.nc",
             "title": "Origin asset link",
             "type": "application/x-netcdf"
            }
           },
           "href": "https://hda.data.destination-earth.eu/stac/collections/EO.EUM.DAT.SENTINEL-3.OL_2_WRR___/items/S3A_OL_2_WRR____20240909T130929_20240909T135342_20240909T152351_2653_116_352______MAR_O_NR_003/download/geo_coordinates.nc?provider=dedl",
           "roles": [
            "data"
           ],
           "title": "geo_coordinates.nc",
           "type": "application/x-netcdf"
          },
          "instrument_data.nc": {
           "alternate": {
            "origin": {
             "href": "s3://eodata/Sentinel-3/OLCI/OL_2_WRR___/2024/09/09/S3A_OL_2_WRR____20240909T130929_20240909T135342_20240909T152351_2653_116_352______MAR_O_NR_003.SEN3/instrument_data.nc",
             "title": "Origin asset link",
             "type": "application/x-netcdf"
            }
           },
           "href": "https://hda.data.destination-earth.eu/stac/collections/EO.EUM.DAT.SENTINEL-3.OL_2_WRR___/items/S3A_OL_2_WRR____20240909T130929_20240909T135342_20240909T152351_2653_116_352______MAR_O_NR_003/download/instrument_data.nc?provider=dedl",
           "roles": [
            "data"
           ],
           "title": "instrument_data.nc",
           "type": "application/x-netcdf"
          },
          "iop_lsd.nc": {
           "alternate": {
            "origin": {
             "href": "s3://eodata/Sentinel-3/OLCI/OL_2_WRR___/2024/09/09/S3A_OL_2_WRR____20240909T130929_20240909T135342_20240909T152351_2653_116_352______MAR_O_NR_003.SEN3/iop_lsd.nc",
             "title": "Origin asset link",
             "type": "application/x-netcdf"
            }
           },
           "href": "https://hda.data.destination-earth.eu/stac/collections/EO.EUM.DAT.SENTINEL-3.OL_2_WRR___/items/S3A_OL_2_WRR____20240909T130929_20240909T135342_20240909T152351_2653_116_352______MAR_O_NR_003/download/iop_lsd.nc?provider=dedl",
           "roles": [
            "data"
           ],
           "title": "iop_lsd.nc",
           "type": "application/x-netcdf"
          },
          "iop_nn.nc": {
           "alternate": {
            "origin": {
             "href": "s3://eodata/Sentinel-3/OLCI/OL_2_WRR___/2024/09/09/S3A_OL_2_WRR____20240909T130929_20240909T135342_20240909T152351_2653_116_352______MAR_O_NR_003.SEN3/iop_nn.nc",
             "title": "Origin asset link",
             "type": "application/x-netcdf"
            }
           },
           "href": "https://hda.data.destination-earth.eu/stac/collections/EO.EUM.DAT.SENTINEL-3.OL_2_WRR___/items/S3A_OL_2_WRR____20240909T130929_20240909T135342_20240909T152351_2653_116_352______MAR_O_NR_003/download/iop_nn.nc?provider=dedl",
           "roles": [
            "data"
           ],
           "title": "iop_nn.nc",
           "type": "application/x-netcdf"
          },
          "iwv.nc": {
           "alternate": {
            "origin": {
             "href": "s3://eodata/Sentinel-3/OLCI/OL_2_WRR___/2024/09/09/S3A_OL_2_WRR____20240909T130929_20240909T135342_20240909T152351_2653_116_352______MAR_O_NR_003.SEN3/iwv.nc",
             "title": "Origin asset link",
             "type": "application/x-netcdf"
            }
           },
           "href": "https://hda.data.destination-earth.eu/stac/collections/EO.EUM.DAT.SENTINEL-3.OL_2_WRR___/items/S3A_OL_2_WRR____20240909T130929_20240909T135342_20240909T152351_2653_116_352______MAR_O_NR_003/download/iwv.nc?provider=dedl",
           "roles": [
            "data"
           ],
           "title": "iwv.nc",
           "type": "application/x-netcdf"
          },
          "manifest.xml": {
           "alternate": {
            "origin": {
             "href": "s3://eodata/Sentinel-3/OLCI/OL_2_WRR___/2024/09/09/S3A_OL_2_WRR____20240909T130929_20240909T135342_20240909T152351_2653_116_352______MAR_O_NR_003.SEN3/manifest.xml",
             "title": "Origin asset link",
             "type": "text/xml"
            }
           },
           "href": "https://hda.data.destination-earth.eu/stac/collections/EO.EUM.DAT.SENTINEL-3.OL_2_WRR___/items/S3A_OL_2_WRR____20240909T130929_20240909T135342_20240909T152351_2653_116_352______MAR_O_NR_003/download/manifest.xml?provider=dedl",
           "roles": [
            "metadata"
           ],
           "title": "manifest.xml",
           "type": "text/xml"
          },
          "par.nc": {
           "alternate": {
            "origin": {
             "href": "s3://eodata/Sentinel-3/OLCI/OL_2_WRR___/2024/09/09/S3A_OL_2_WRR____20240909T130929_20240909T135342_20240909T152351_2653_116_352______MAR_O_NR_003.SEN3/par.nc",
             "title": "Origin asset link",
             "type": "application/x-netcdf"
            }
           },
           "href": "https://hda.data.destination-earth.eu/stac/collections/EO.EUM.DAT.SENTINEL-3.OL_2_WRR___/items/S3A_OL_2_WRR____20240909T130929_20240909T135342_20240909T152351_2653_116_352______MAR_O_NR_003/download/par.nc?provider=dedl",
           "roles": [
            "data"
           ],
           "title": "par.nc",
           "type": "application/x-netcdf"
          },
          "tie_geo_coordinates.nc": {
           "alternate": {
            "origin": {
             "href": "s3://eodata/Sentinel-3/OLCI/OL_2_WRR___/2024/09/09/S3A_OL_2_WRR____20240909T130929_20240909T135342_20240909T152351_2653_116_352______MAR_O_NR_003.SEN3/tie_geo_coordinates.nc",
             "title": "Origin asset link",
             "type": "application/x-netcdf"
            }
           },
           "href": "https://hda.data.destination-earth.eu/stac/collections/EO.EUM.DAT.SENTINEL-3.OL_2_WRR___/items/S3A_OL_2_WRR____20240909T130929_20240909T135342_20240909T152351_2653_116_352______MAR_O_NR_003/download/tie_geo_coordinates.nc?provider=dedl",
           "roles": [
            "data"
           ],
           "title": "tie_geo_coordinates.nc",
           "type": "application/x-netcdf"
          },
          "tie_geometries.nc": {
           "alternate": {
            "origin": {
             "href": "s3://eodata/Sentinel-3/OLCI/OL_2_WRR___/2024/09/09/S3A_OL_2_WRR____20240909T130929_20240909T135342_20240909T152351_2653_116_352______MAR_O_NR_003.SEN3/tie_geometries.nc",
             "title": "Origin asset link",
             "type": "application/x-netcdf"
            }
           },
           "href": "https://hda.data.destination-earth.eu/stac/collections/EO.EUM.DAT.SENTINEL-3.OL_2_WRR___/items/S3A_OL_2_WRR____20240909T130929_20240909T135342_20240909T152351_2653_116_352______MAR_O_NR_003/download/tie_geometries.nc?provider=dedl",
           "roles": [
            "data"
           ],
           "title": "tie_geometries.nc",
           "type": "application/x-netcdf"
          },
          "tie_meteo.nc": {
           "alternate": {
            "origin": {
             "href": "s3://eodata/Sentinel-3/OLCI/OL_2_WRR___/2024/09/09/S3A_OL_2_WRR____20240909T130929_20240909T135342_20240909T152351_2653_116_352______MAR_O_NR_003.SEN3/tie_meteo.nc",
             "title": "Origin asset link",
             "type": "application/x-netcdf"
            }
           },
           "href": "https://hda.data.destination-earth.eu/stac/collections/EO.EUM.DAT.SENTINEL-3.OL_2_WRR___/items/S3A_OL_2_WRR____20240909T130929_20240909T135342_20240909T152351_2653_116_352______MAR_O_NR_003/download/tie_meteo.nc?provider=dedl",
           "roles": [
            "data"
           ],
           "title": "tie_meteo.nc",
           "type": "application/x-netcdf"
          },
          "time_coordinates.nc": {
           "alternate": {
            "origin": {
             "href": "s3://eodata/Sentinel-3/OLCI/OL_2_WRR___/2024/09/09/S3A_OL_2_WRR____20240909T130929_20240909T135342_20240909T152351_2653_116_352______MAR_O_NR_003.SEN3/time_coordinates.nc",
             "title": "Origin asset link",
             "type": "application/x-netcdf"
            }
           },
           "href": "https://hda.data.destination-earth.eu/stac/collections/EO.EUM.DAT.SENTINEL-3.OL_2_WRR___/items/S3A_OL_2_WRR____20240909T130929_20240909T135342_20240909T152351_2653_116_352______MAR_O_NR_003/download/time_coordinates.nc?provider=dedl",
           "roles": [
            "data"
           ],
           "title": "time_coordinates.nc",
           "type": "application/x-netcdf"
          },
          "trsp.nc": {
           "alternate": {
            "origin": {
             "href": "s3://eodata/Sentinel-3/OLCI/OL_2_WRR___/2024/09/09/S3A_OL_2_WRR____20240909T130929_20240909T135342_20240909T152351_2653_116_352______MAR_O_NR_003.SEN3/trsp.nc",
             "title": "Origin asset link",
             "type": "application/x-netcdf"
            }
           },
           "href": "https://hda.data.destination-earth.eu/stac/collections/EO.EUM.DAT.SENTINEL-3.OL_2_WRR___/items/S3A_OL_2_WRR____20240909T130929_20240909T135342_20240909T152351_2653_116_352______MAR_O_NR_003/download/trsp.nc?provider=dedl",
           "roles": [
            "data"
           ],
           "title": "trsp.nc",
           "type": "application/x-netcdf"
          },
          "tsm_nn.nc": {
           "alternate": {
            "origin": {
             "href": "s3://eodata/Sentinel-3/OLCI/OL_2_WRR___/2024/09/09/S3A_OL_2_WRR____20240909T130929_20240909T135342_20240909T152351_2653_116_352______MAR_O_NR_003.SEN3/tsm_nn.nc",
             "title": "Origin asset link",
             "type": "application/x-netcdf"
            }
           },
           "href": "https://hda.data.destination-earth.eu/stac/collections/EO.EUM.DAT.SENTINEL-3.OL_2_WRR___/items/S3A_OL_2_WRR____20240909T130929_20240909T135342_20240909T152351_2653_116_352______MAR_O_NR_003/download/tsm_nn.nc?provider=dedl",
           "roles": [
            "data"
           ],
           "title": "tsm_nn.nc",
           "type": "application/x-netcdf"
          },
          "w_aer.nc": {
           "alternate": {
            "origin": {
             "href": "s3://eodata/Sentinel-3/OLCI/OL_2_WRR___/2024/09/09/S3A_OL_2_WRR____20240909T130929_20240909T135342_20240909T152351_2653_116_352______MAR_O_NR_003.SEN3/w_aer.nc",
             "title": "Origin asset link",
             "type": "application/x-netcdf"
            }
           },
           "href": "https://hda.data.destination-earth.eu/stac/collections/EO.EUM.DAT.SENTINEL-3.OL_2_WRR___/items/S3A_OL_2_WRR____20240909T130929_20240909T135342_20240909T152351_2653_116_352______MAR_O_NR_003/download/w_aer.nc?provider=dedl",
           "roles": [
            "data"
           ],
           "title": "w_aer.nc",
           "type": "application/x-netcdf"
          },
          "wqsf.nc": {
           "alternate": {
            "origin": {
             "href": "s3://eodata/Sentinel-3/OLCI/OL_2_WRR___/2024/09/09/S3A_OL_2_WRR____20240909T130929_20240909T135342_20240909T152351_2653_116_352______MAR_O_NR_003.SEN3/wqsf.nc",
             "title": "Origin asset link",
             "type": "application/x-netcdf"
            }
           },
           "href": "https://hda.data.destination-earth.eu/stac/collections/EO.EUM.DAT.SENTINEL-3.OL_2_WRR___/items/S3A_OL_2_WRR____20240909T130929_20240909T135342_20240909T152351_2653_116_352______MAR_O_NR_003/download/wqsf.nc?provider=dedl",
           "roles": [
            "data"
           ],
           "title": "wqsf.nc",
           "type": "application/x-netcdf"
          },
          "xfdumanifest.xml": {
           "alternate": {
            "origin": {
             "href": "s3://eodata/Sentinel-3/OLCI/OL_2_WRR___/2024/09/09/S3A_OL_2_WRR____20240909T130929_20240909T135342_20240909T152351_2653_116_352______MAR_O_NR_003.SEN3/xfdumanifest.xml",
             "title": "Origin asset link",
             "type": "text/xml"
            }
           },
           "href": "https://hda.data.destination-earth.eu/stac/collections/EO.EUM.DAT.SENTINEL-3.OL_2_WRR___/items/S3A_OL_2_WRR____20240909T130929_20240909T135342_20240909T152351_2653_116_352______MAR_O_NR_003/download/xfdumanifest.xml?provider=dedl",
           "roles": [
            "metadata"
           ],
           "title": "xfdumanifest.xml",
           "type": "text/xml"
          }
         },
         "bbox": [
          -96.4906,
          -67.9523,
          39.4587,
          89.3501
         ],
         "collection": "EO.EUM.DAT.SENTINEL-3.OL_2_WRR___",
         "geometry": {
          "coordinates": [
           [
            [
             -96.4906,
             -62.2429
            ],
            [
             -95.4519,
             -62.6338
            ],
            [
             -94.3859,
             -63.0171
            ],
            [
             -93.2919,
             -63.3922
            ],
            [
             -92.1693,
             -63.7587
            ],
            [
             -91.0176,
             -64.1161
            ],
            [
             -89.8363,
             -64.4642
            ],
            [
             -88.625,
             -64.8026
            ],
            [
             -87.3835,
             -65.1308
            ],
            [
             -86.1115,
             -65.4485
            ],
            [
             -84.8087,
             -65.7551
            ],
            [
             -83.4753,
             -66.0504
            ],
            [
             -82.1112,
             -66.334
            ],
            [
             -80.7167,
             -66.6053
            ],
            [
             -79.2921,
             -66.8639
            ],
            [
             -77.8379,
             -67.1094
            ],
            [
             -76.3547,
             -67.3414
            ],
            [
             -74.8434,
             -67.5595
            ],
            [
             -73.305,
             -67.7632
            ],
            [
             -71.7405,
             -67.9523
            ],
            [
             -70.8674,
             -66.8348
            ],
            [
             -69.6392,
             -65.0917
            ],
            [
             -68.5393,
             -63.3412
            ],
            [
             -67.5443,
             -61.5854
            ],
            [
             -66.6371,
             -59.8246
            ],
            [
             -65.802,
             -58.0594
            ],
            [
             -65.028,
             -56.2903
            ],
            [
             -64.3062,
             -54.5178
            ],
            [
             -63.6286,
             -52.7426
            ],
            [
             -62.9891,
             -50.9645
            ],
            [
             -62.3827,
             -49.1839
            ],
            [
             -61.805,
             -47.4012
            ],
            [
             -61.2522,
             -45.6164
            ],
            [
             -60.7215,
             -43.8296
            ],
            [
             -60.2099,
             -42.041
            ],
            [
             -59.7153,
             -40.251
            ],
            [
             -59.2355,
             -38.459
            ],
            [
             -58.7694,
             -36.6652
            ],
            [
             -58.3143,
             -34.8707
            ],
            [
             -57.8697,
             -33.0747
            ],
            [
             -57.4337,
             -31.2779
            ],
            [
             -57.0064,
             -29.4788
            ],
            [
             -56.586,
             -27.6787
            ],
            [
             -56.171,
             -25.8783
            ],
            [
             -55.7615,
             -24.0766
            ],
            [
             -55.3561,
             -22.2748
            ],
            [
             -54.9548,
             -20.4712
            ],
            [
             -54.5571,
             -18.666
            ],
            [
             -54.161,
             -16.8616
            ],
            [
             -53.7668,
             -15.0563
            ],
            [
             -53.3741,
             -13.2501
            ],
            [
             -52.9821,
             -11.4437
            ],
            [
             -52.5901,
             -9.63708
            ],
            [
             -52.1983,
             -7.82908
            ],
            [
             -51.8052,
             -6.02185
            ],
            [
             -51.4109,
             -4.21395
            ],
            [
             -51.0147,
             -2.40644
            ],
            [
             -50.6158,
             -0.599372
            ],
            [
             -50.2144,
             1.20869
            ],
            [
             -49.8098,
             3.01658
            ],
            [
             -49.4005,
             4.82306
            ],
            [
             -48.987,
             6.63005
            ],
            [
             -48.5684,
             8.43669
            ],
            [
             -48.1438,
             10.2424
            ],
            [
             -47.7125,
             12.0467
            ],
            [
             -47.2739,
             13.8505
            ],
            [
             -46.8282,
             15.6552
            ],
            [
             -46.3725,
             17.4567
            ],
            [
             -45.9078,
             19.2577
            ],
            [
             -45.4319,
             21.0572
            ],
            [
             -44.9444,
             22.8554
            ],
            [
             -44.4442,
             24.6527
            ],
            [
             -43.9297,
             26.4477
            ],
            [
             -43.3993,
             28.2398
            ],
            [
             -42.852,
             30.0312
            ],
            [
             -42.2855,
             31.819
            ],
            [
             -41.6987,
             33.6058
            ],
            [
             -41.0887,
             35.3891
            ],
            [
             -40.4529,
             37.1687
            ],
            [
             -39.7889,
             38.9453
            ],
            [
             -39.094,
             40.7185
            ],
            [
             -38.3639,
             42.487
            ],
            [
             -37.5946,
             44.2509
            ],
            [
             -36.7819,
             46.0105
            ],
            [
             -35.9204,
             47.7647
            ],
            [
             -35.0025,
             49.5111
            ],
            [
             -34.022,
             51.2509
            ],
            [
             -32.9703,
             52.9831
            ],
            [
             -31.8368,
             54.7059
            ],
            [
             -30.6091,
             56.418
            ],
            [
             -29.2733,
             58.1178
            ],
            [
             -27.8113,
             59.8035
            ],
            [
             -26.2027,
             61.4731
            ],
            [
             -24.4212,
             63.1227
            ],
            [
             -22.4359,
             64.749
            ],
            [
             -20.2087,
             66.3473
            ],
            [
             -17.6924,
             67.9119
            ],
            [
             -14.8295,
             69.4348
            ],
            [
             -11.5504,
             70.9059
            ],
            [
             -7.77086,
             72.3127
            ],
            [
             -3.3935,
             73.6391
            ],
            [
             1.68833,
             74.8631
            ],
            [
             7.57786,
             75.9594
            ],
            [
             14.3514,
             76.8947
            ],
            [
             22.0178,
             77.6322
            ],
            [
             30.4725,
             78.1368
            ],
            [
             39.4587,
             78.377
            ],
            [
             39.2813,
             78.9952
            ],
            [
             39.0831,
             79.6131
            ],
            [
             38.86,
             80.2309
            ],
            [
             38.6072,
             80.8485
            ],
            [
             38.3182,
             81.4659
            ],
            [
             37.9845,
             82.083
            ],
            [
             37.5949,
             82.6997
            ],
            [
             37.134,
             83.3161
            ],
            [
             36.58,
             83.9319
            ],
            [
             35.9009,
             84.547
            ],
            [
             35.0505,
             85.1612
            ],
            [
             33.9541,
             85.774
            ],
            [
             32.4857,
             86.3846
            ],
            [
             30.4249,
             86.992
            ],
            [
             27.3293,
             87.5936
            ],
            [
             22.2006,
             88.1835
            ],
            [
             12.3322,
             88.7452
            ],
            [
             -11.049,
             89.2156
            ],
            [
             -61.1207,
             89.3501
            ],
            [
             -51.3091,
             87.5911
            ],
            [
             -50.0127,
             85.8205
            ],
            [
             -49.6515,
             84.0485
            ],
            [
             -49.5724,
             82.2759
            ],
            [
             -49.6203,
             80.5031
            ],
            [
             -49.739,
             78.7299
            ],
            [
             -49.8961,
             76.9561
            ],
            [
             -50.08,
             75.1823
            ],
            [
             -50.2812,
             73.4081
            ],
            [
             -50.4954,
             71.6332
            ],
            [
             -50.7194,
             69.8578
            ],
            [
             -50.9514,
             68.0821
            ],
            [
             -51.1898,
             66.3057
            ],
            [
             -51.4332,
             64.5288
            ],
            [
             -51.6806,
             62.7512
            ],
            [
             -51.9324,
             60.9731
            ],
            [
             -52.1875,
             59.1945
            ],
            [
             -52.4461,
             57.4151
            ],
            [
             -52.7073,
             55.6349
            ],
            [
             -52.9713,
             53.854
            ],
            [
             -53.2386,
             52.0726
            ],
            [
             -53.5093,
             50.2905
            ],
            [
             -53.781,
             48.5072
            ],
            [
             -54.0558,
             46.7235
            ],
            [
             -54.3342,
             44.9393
            ],
            [
             -54.615,
             43.1541
            ],
            [
             -54.8982,
             41.3682
            ],
            [
             -55.1848,
             39.5818
            ],
            [
             -55.4745,
             37.7947
            ],
            [
             -55.7668,
             36.0067
            ],
            [
             -56.062,
             34.2179
            ],
            [
             -56.3613,
             32.4292
            ],
            [
             -56.6635,
             30.6393
            ],
            [
             -56.9699,
             28.8496
            ],
            [
             -57.2797,
             27.0589
            ],
            [
             -57.593,
             25.2676
            ],
            [
             -57.9109,
             23.4763
            ],
            [
             -58.2332,
             21.6847
            ],
            [
             -58.5597,
             19.8927
            ],
            [
             -58.8916,
             18.1008
            ],
            [
             -59.2271,
             16.3077
            ],
            [
             -59.569,
             14.5159
            ],
            [
             -59.9165,
             12.7238
            ],
            [
             -60.2696,
             10.9316
            ],
            [
             -60.6286,
             9.13955
            ],
            [
             -60.9943,
             7.34772
            ],
            [
             -61.3673,
             5.55689
            ],
            [
             -61.7469,
             3.76593
            ],
            [
             -62.1344,
             1.97562
            ],
            [
             -62.5306,
             0.186692
            ],
            [
             -62.9352,
             -1.60188
            ],
            [
             -63.3489,
             -3.38942
            ],
            [
             -63.7727,
             -5.17553
            ],
            [
             -64.2064,
             -6.96097
            ],
            [
             -64.6519,
             -8.74448
            ],
            [
             -65.109,
             -10.5265
            ],
            [
             -65.5788,
             -12.3069
            ],
            [
             -66.0624,
             -14.085
            ],
            [
             -66.5608,
             -15.861
            ],
            [
             -67.0739,
             -17.6353
            ],
            [
             -67.6044,
             -19.4064
            ],
            [
             -68.1535,
             -21.1746
            ],
            [
             -68.7216,
             -22.94
            ],
            [
             -69.311,
             -24.7017
            ],
            [
             -69.9227,
             -26.4602
            ],
            [
             -70.5589,
             -28.2146
            ],
            [
             -71.2227,
             -29.9642
            ],
            [
             -71.9153,
             -31.7093
            ],
            [
             -72.6397,
             -33.449
            ],
            [
             -73.3981,
             -35.1832
            ],
            [
             -74.1949,
             -36.9109
            ],
            [
             -75.0332,
             -38.6314
            ],
            [
             -75.9173,
             -40.3446
            ],
            [
             -76.8517,
             -42.0494
            ],
            [
             -77.8417,
             -43.7446
            ],
            [
             -78.8934,
             -45.4295
            ],
            [
             -80.0135,
             -47.1028
            ],
            [
             -81.21,
             -48.7631
            ],
            [
             -82.4916,
             -50.4088
            ],
            [
             -83.8684,
             -52.0383
            ],
            [
             -85.3522,
             -53.649
            ],
            [
             -86.9565,
             -55.2387
            ],
            [
             -88.6961,
             -56.8043
            ],
            [
             -90.5897,
             -58.3424
            ],
            [
             -92.6564,
             -59.8492
            ],
            [
             -94.9186,
             -61.319
            ],
            [
             -96.4906,
             -62.2429
            ]
           ]
          ],
          "type": "Polygon"
         },
         "id": "S3A_OL_2_WRR____20240909T130929_20240909T135342_20240909T152351_2653_116_352______MAR_O_NR_003",
         "links": [
          {
           "href": "https://hda.data.destination-earth.eu/stac/collections/EO.EUM.DAT.SENTINEL-3.OL_2_WRR___/items/S3A_OL_2_WRR____20240909T130929_20240909T135342_20240909T152351_2653_116_352______MAR_O_NR_003",
           "rel": "self",
           "title": "S3A_OL_2_WRR____20240909T130929_20240909T135342_20240909T152351_2653_116_352______MAR_O_NR_003"
          },
          {
           "href": "https://hda.data.destination-earth.eu/stac/",
           "rel": "root"
          },
          {
           "href": "https://hda.data.destination-earth.eu/stac/collections/EO.EUM.DAT.SENTINEL-3.OL_2_WRR___",
           "rel": "parent",
           "title": "EO.EUM.DAT.SENTINEL-3.OL_2_WRR___"
          },
          {
           "href": "https://hda.data.destination-earth.eu/stac/collections/EO.EUM.DAT.SENTINEL-3.OL_2_WRR___",
           "rel": "collection",
           "title": "EO.EUM.DAT.SENTINEL-3.OL_2_WRR___"
          }
         ],
         "properties": {
          "constellation": "SENTINEL-3",
          "datetime": "2024-09-09T13:09:28.848433Z",
          "dedl:alias": "EO.EUM.DAT.SENTINEL-3.OL_2_WRR___",
          "dedl:baselineCollection": "003",
          "dedl:beginningDateTime": "2024-09-09T13:09:28.848433Z",
          "dedl:endingDateTime": "2024-09-09T13:53:42.320608Z",
          "dedl:productIdentifier": "/eodata/Sentinel-3/OLCI/OL_2_WRR___/2024/09/09/S3A_OL_2_WRR____20240909T130929_20240909T135342_20240909T152351_2653_116_352______MAR_O_NR_003.SEN3",
          "dedl:scope": {
           "discover": null,
           "download": "hda-public-data-access",
           "search": "hda-public-data-access"
          },
          "dedl:timeliness": "NR",
          "dedl:uid": "a742d13a-1cf0-4e17-933e-3bc653233047",
          "description": "OLCI (Ocean and Land Colour Instrument) Ocean Colour Geophysical Products. Reduced Resolution: 1200m at nadir. Level 2 marine products include the following: * water-leaving reflectances in 16 bands, Oa**_reflectance (Baseline Atmospheric Correction (BAC) algorithm, bands: 400, 412, 442, 490, 510, 560, 620, 665, 674, 681, 709, 754, 779, 865, 885, 1024 nanometer (nm)); *algal pigment concentration in clear waters, chl_oc4me (BAC and maximum band ratio algorithm, log10 scaled); *algal pigment concentration in turbid waters, chl_nn (neural net algorithm, log10 scaled); *total suspended matter concentration, tsm_nn (neural net algorithm, log10 scaled); *diffuse attenuation coefficient Kd of downward irradiance at 490 nm, trsp (BAC and M07 algorithm, log10 scaled); *absorption coefficient at 443 nm of coloured detrital and dissolved organic matter, iop_nn (neural net algorithm, log10 scaled); *instantaneous photosynthetically active radiation, PAR (BAC and clear-sky ocean algorithm); *aerosol optical thickness T865 and aerosol Angstrom exponent A865, w_aer (BAC algorithm, A for bands 779 and 865 nm) *integrated water vapour column, iwv (1D-Var algorithm). The geophysical products are accompanied by error estimate products. Pixel classification, quality and science flags, as well as meteorological, geometry and geolocation data at tie points are provided. \n\n- All Sentinel-3 NRT products are available at pick-up point in less than 3h\n- All Sentinel-3 Non Time Critical (NTC) products are available at pick-up point in less than 30 days.\nSentinel-3 is part of a series of Sentinel satellites, under the umbrella of the EU Copernicus programme.",
          "end_datetime": "2024-09-09T13:53:42.320608Z",
          "instruments": [
           "OLCI"
          ],
          "license": "proprietary",
          "order:status": "succeeded",
          "platform": "SENTINEL-3A,SENTINEL-3B",
          "processing:level": 2,
          "providers": [
           {
            "description": "DestineE Data Lake Fresh Data Pool",
            "name": "dedl",
            "priority": 1,
            "roles": [
             "host"
            ],
            "url": "https://creodias.eu/"
           }
          ],
          "published": "2024-09-09T16:05:49.029369Z",
          "sar:instrument_mode": "Earth Observation",
          "sar:product_type": "OL_2_WRR___",
          "sat:absolute_orbit": 44600,
          "sat:orbit_state": "DESCENDING",
          "sat:relative_orbit": 352,
          "start_datetime": "2024-09-09T13:09:28.848433Z",
          "updated": "2024-09-09T16:05:57.984388Z"
         },
         "stac_extensions": [
          "https://stac-extensions.github.io/timestamps/v1.0.0/schema.json",
          "https://stac-extensions.github.io/processing/v1.0.0/schema.json",
          "https://stac-extensions.github.io/sat/v1.0.0/schema.json",
          "https://stac-extensions.github.io/sar/v1.0.0/schema.json",
          "https://stac-extensions.github.io/order/v1.1.0/schema.json"
         ],
         "stac_version": "1.0.0",
         "type": "Feature"
        },
        {
         "assets": {
          "EOPMetadata.xml": {
           "alternate": {
            "origin": {
             "href": "s3://eodata/Sentinel-3/OLCI/OL_2_WRR___/2024/09/09/S3B_OL_2_WRR____20240909T123048_20240909T131501_20240910T163344_2653_097_209______MAR_O_NT_003.SEN3/EOPMetadata.xml",
             "title": "Origin asset link",
             "type": "text/xml"
            }
           },
           "href": "https://hda.data.destination-earth.eu/stac/collections/EO.EUM.DAT.SENTINEL-3.OL_2_WRR___/items/S3B_OL_2_WRR____20240909T123048_20240909T131501_20240910T163344_2653_097_209______MAR_O_NT_003/download/EOPMetadata.xml?provider=dedl",
           "roles": [
            "metadata"
           ],
           "title": "EOPMetadata.xml",
           "type": "text/xml"
          },
          "Oa01_reflectance.nc": {
           "alternate": {
            "origin": {
             "href": "s3://eodata/Sentinel-3/OLCI/OL_2_WRR___/2024/09/09/S3B_OL_2_WRR____20240909T123048_20240909T131501_20240910T163344_2653_097_209______MAR_O_NT_003.SEN3/Oa01_reflectance.nc",
             "title": "Origin asset link",
             "type": "application/x-netcdf"
            }
           },
           "href": "https://hda.data.destination-earth.eu/stac/collections/EO.EUM.DAT.SENTINEL-3.OL_2_WRR___/items/S3B_OL_2_WRR____20240909T123048_20240909T131501_20240910T163344_2653_097_209______MAR_O_NT_003/download/Oa01_reflectance.nc?provider=dedl",
           "roles": [
            "data"
           ],
           "title": "Oa01_reflectance.nc",
           "type": "application/x-netcdf"
          },
          "Oa02_reflectance.nc": {
           "alternate": {
            "origin": {
             "href": "s3://eodata/Sentinel-3/OLCI/OL_2_WRR___/2024/09/09/S3B_OL_2_WRR____20240909T123048_20240909T131501_20240910T163344_2653_097_209______MAR_O_NT_003.SEN3/Oa02_reflectance.nc",
             "title": "Origin asset link",
             "type": "application/x-netcdf"
            }
           },
           "href": "https://hda.data.destination-earth.eu/stac/collections/EO.EUM.DAT.SENTINEL-3.OL_2_WRR___/items/S3B_OL_2_WRR____20240909T123048_20240909T131501_20240910T163344_2653_097_209______MAR_O_NT_003/download/Oa02_reflectance.nc?provider=dedl",
           "roles": [
            "data"
           ],
           "title": "Oa02_reflectance.nc",
           "type": "application/x-netcdf"
          },
          "Oa03_reflectance.nc": {
           "alternate": {
            "origin": {
             "href": "s3://eodata/Sentinel-3/OLCI/OL_2_WRR___/2024/09/09/S3B_OL_2_WRR____20240909T123048_20240909T131501_20240910T163344_2653_097_209______MAR_O_NT_003.SEN3/Oa03_reflectance.nc",
             "title": "Origin asset link",
             "type": "application/x-netcdf"
            }
           },
           "href": "https://hda.data.destination-earth.eu/stac/collections/EO.EUM.DAT.SENTINEL-3.OL_2_WRR___/items/S3B_OL_2_WRR____20240909T123048_20240909T131501_20240910T163344_2653_097_209______MAR_O_NT_003/download/Oa03_reflectance.nc?provider=dedl",
           "roles": [
            "data"
           ],
           "title": "Oa03_reflectance.nc",
           "type": "application/x-netcdf"
          },
          "Oa04_reflectance.nc": {
           "alternate": {
            "origin": {
             "href": "s3://eodata/Sentinel-3/OLCI/OL_2_WRR___/2024/09/09/S3B_OL_2_WRR____20240909T123048_20240909T131501_20240910T163344_2653_097_209______MAR_O_NT_003.SEN3/Oa04_reflectance.nc",
             "title": "Origin asset link",
             "type": "application/x-netcdf"
            }
           },
           "href": "https://hda.data.destination-earth.eu/stac/collections/EO.EUM.DAT.SENTINEL-3.OL_2_WRR___/items/S3B_OL_2_WRR____20240909T123048_20240909T131501_20240910T163344_2653_097_209______MAR_O_NT_003/download/Oa04_reflectance.nc?provider=dedl",
           "roles": [
            "data"
           ],
           "title": "Oa04_reflectance.nc",
           "type": "application/x-netcdf"
          },
          "Oa05_reflectance.nc": {
           "alternate": {
            "origin": {
             "href": "s3://eodata/Sentinel-3/OLCI/OL_2_WRR___/2024/09/09/S3B_OL_2_WRR____20240909T123048_20240909T131501_20240910T163344_2653_097_209______MAR_O_NT_003.SEN3/Oa05_reflectance.nc",
             "title": "Origin asset link",
             "type": "application/x-netcdf"
            }
           },
           "href": "https://hda.data.destination-earth.eu/stac/collections/EO.EUM.DAT.SENTINEL-3.OL_2_WRR___/items/S3B_OL_2_WRR____20240909T123048_20240909T131501_20240910T163344_2653_097_209______MAR_O_NT_003/download/Oa05_reflectance.nc?provider=dedl",
           "roles": [
            "data"
           ],
           "title": "Oa05_reflectance.nc",
           "type": "application/x-netcdf"
          },
          "Oa06_reflectance.nc": {
           "alternate": {
            "origin": {
             "href": "s3://eodata/Sentinel-3/OLCI/OL_2_WRR___/2024/09/09/S3B_OL_2_WRR____20240909T123048_20240909T131501_20240910T163344_2653_097_209______MAR_O_NT_003.SEN3/Oa06_reflectance.nc",
             "title": "Origin asset link",
             "type": "application/x-netcdf"
            }
           },
           "href": "https://hda.data.destination-earth.eu/stac/collections/EO.EUM.DAT.SENTINEL-3.OL_2_WRR___/items/S3B_OL_2_WRR____20240909T123048_20240909T131501_20240910T163344_2653_097_209______MAR_O_NT_003/download/Oa06_reflectance.nc?provider=dedl",
           "roles": [
            "data"
           ],
           "title": "Oa06_reflectance.nc",
           "type": "application/x-netcdf"
          },
          "Oa07_reflectance.nc": {
           "alternate": {
            "origin": {
             "href": "s3://eodata/Sentinel-3/OLCI/OL_2_WRR___/2024/09/09/S3B_OL_2_WRR____20240909T123048_20240909T131501_20240910T163344_2653_097_209______MAR_O_NT_003.SEN3/Oa07_reflectance.nc",
             "title": "Origin asset link",
             "type": "application/x-netcdf"
            }
           },
           "href": "https://hda.data.destination-earth.eu/stac/collections/EO.EUM.DAT.SENTINEL-3.OL_2_WRR___/items/S3B_OL_2_WRR____20240909T123048_20240909T131501_20240910T163344_2653_097_209______MAR_O_NT_003/download/Oa07_reflectance.nc?provider=dedl",
           "roles": [
            "data"
           ],
           "title": "Oa07_reflectance.nc",
           "type": "application/x-netcdf"
          },
          "Oa08_reflectance.nc": {
           "alternate": {
            "origin": {
             "href": "s3://eodata/Sentinel-3/OLCI/OL_2_WRR___/2024/09/09/S3B_OL_2_WRR____20240909T123048_20240909T131501_20240910T163344_2653_097_209______MAR_O_NT_003.SEN3/Oa08_reflectance.nc",
             "title": "Origin asset link",
             "type": "application/x-netcdf"
            }
           },
           "href": "https://hda.data.destination-earth.eu/stac/collections/EO.EUM.DAT.SENTINEL-3.OL_2_WRR___/items/S3B_OL_2_WRR____20240909T123048_20240909T131501_20240910T163344_2653_097_209______MAR_O_NT_003/download/Oa08_reflectance.nc?provider=dedl",
           "roles": [
            "data"
           ],
           "title": "Oa08_reflectance.nc",
           "type": "application/x-netcdf"
          },
          "Oa09_reflectance.nc": {
           "alternate": {
            "origin": {
             "href": "s3://eodata/Sentinel-3/OLCI/OL_2_WRR___/2024/09/09/S3B_OL_2_WRR____20240909T123048_20240909T131501_20240910T163344_2653_097_209______MAR_O_NT_003.SEN3/Oa09_reflectance.nc",
             "title": "Origin asset link",
             "type": "application/x-netcdf"
            }
           },
           "href": "https://hda.data.destination-earth.eu/stac/collections/EO.EUM.DAT.SENTINEL-3.OL_2_WRR___/items/S3B_OL_2_WRR____20240909T123048_20240909T131501_20240910T163344_2653_097_209______MAR_O_NT_003/download/Oa09_reflectance.nc?provider=dedl",
           "roles": [
            "data"
           ],
           "title": "Oa09_reflectance.nc",
           "type": "application/x-netcdf"
          },
          "Oa10_reflectance.nc": {
           "alternate": {
            "origin": {
             "href": "s3://eodata/Sentinel-3/OLCI/OL_2_WRR___/2024/09/09/S3B_OL_2_WRR____20240909T123048_20240909T131501_20240910T163344_2653_097_209______MAR_O_NT_003.SEN3/Oa10_reflectance.nc",
             "title": "Origin asset link",
             "type": "application/x-netcdf"
            }
           },
           "href": "https://hda.data.destination-earth.eu/stac/collections/EO.EUM.DAT.SENTINEL-3.OL_2_WRR___/items/S3B_OL_2_WRR____20240909T123048_20240909T131501_20240910T163344_2653_097_209______MAR_O_NT_003/download/Oa10_reflectance.nc?provider=dedl",
           "roles": [
            "data"
           ],
           "title": "Oa10_reflectance.nc",
           "type": "application/x-netcdf"
          },
          "Oa11_reflectance.nc": {
           "alternate": {
            "origin": {
             "href": "s3://eodata/Sentinel-3/OLCI/OL_2_WRR___/2024/09/09/S3B_OL_2_WRR____20240909T123048_20240909T131501_20240910T163344_2653_097_209______MAR_O_NT_003.SEN3/Oa11_reflectance.nc",
             "title": "Origin asset link",
             "type": "application/x-netcdf"
            }
           },
           "href": "https://hda.data.destination-earth.eu/stac/collections/EO.EUM.DAT.SENTINEL-3.OL_2_WRR___/items/S3B_OL_2_WRR____20240909T123048_20240909T131501_20240910T163344_2653_097_209______MAR_O_NT_003/download/Oa11_reflectance.nc?provider=dedl",
           "roles": [
            "data"
           ],
           "title": "Oa11_reflectance.nc",
           "type": "application/x-netcdf"
          },
          "Oa12_reflectance.nc": {
           "alternate": {
            "origin": {
             "href": "s3://eodata/Sentinel-3/OLCI/OL_2_WRR___/2024/09/09/S3B_OL_2_WRR____20240909T123048_20240909T131501_20240910T163344_2653_097_209______MAR_O_NT_003.SEN3/Oa12_reflectance.nc",
             "title": "Origin asset link",
             "type": "application/x-netcdf"
            }
           },
           "href": "https://hda.data.destination-earth.eu/stac/collections/EO.EUM.DAT.SENTINEL-3.OL_2_WRR___/items/S3B_OL_2_WRR____20240909T123048_20240909T131501_20240910T163344_2653_097_209______MAR_O_NT_003/download/Oa12_reflectance.nc?provider=dedl",
           "roles": [
            "data"
           ],
           "title": "Oa12_reflectance.nc",
           "type": "application/x-netcdf"
          },
          "Oa16_reflectance.nc": {
           "alternate": {
            "origin": {
             "href": "s3://eodata/Sentinel-3/OLCI/OL_2_WRR___/2024/09/09/S3B_OL_2_WRR____20240909T123048_20240909T131501_20240910T163344_2653_097_209______MAR_O_NT_003.SEN3/Oa16_reflectance.nc",
             "title": "Origin asset link",
             "type": "application/x-netcdf"
            }
           },
           "href": "https://hda.data.destination-earth.eu/stac/collections/EO.EUM.DAT.SENTINEL-3.OL_2_WRR___/items/S3B_OL_2_WRR____20240909T123048_20240909T131501_20240910T163344_2653_097_209______MAR_O_NT_003/download/Oa16_reflectance.nc?provider=dedl",
           "roles": [
            "data"
           ],
           "title": "Oa16_reflectance.nc",
           "type": "application/x-netcdf"
          },
          "Oa17_reflectance.nc": {
           "alternate": {
            "origin": {
             "href": "s3://eodata/Sentinel-3/OLCI/OL_2_WRR___/2024/09/09/S3B_OL_2_WRR____20240909T123048_20240909T131501_20240910T163344_2653_097_209______MAR_O_NT_003.SEN3/Oa17_reflectance.nc",
             "title": "Origin asset link",
             "type": "application/x-netcdf"
            }
           },
           "href": "https://hda.data.destination-earth.eu/stac/collections/EO.EUM.DAT.SENTINEL-3.OL_2_WRR___/items/S3B_OL_2_WRR____20240909T123048_20240909T131501_20240910T163344_2653_097_209______MAR_O_NT_003/download/Oa17_reflectance.nc?provider=dedl",
           "roles": [
            "data"
           ],
           "title": "Oa17_reflectance.nc",
           "type": "application/x-netcdf"
          },
          "Oa18_reflectance.nc": {
           "alternate": {
            "origin": {
             "href": "s3://eodata/Sentinel-3/OLCI/OL_2_WRR___/2024/09/09/S3B_OL_2_WRR____20240909T123048_20240909T131501_20240910T163344_2653_097_209______MAR_O_NT_003.SEN3/Oa18_reflectance.nc",
             "title": "Origin asset link",
             "type": "application/x-netcdf"
            }
           },
           "href": "https://hda.data.destination-earth.eu/stac/collections/EO.EUM.DAT.SENTINEL-3.OL_2_WRR___/items/S3B_OL_2_WRR____20240909T123048_20240909T131501_20240910T163344_2653_097_209______MAR_O_NT_003/download/Oa18_reflectance.nc?provider=dedl",
           "roles": [
            "data"
           ],
           "title": "Oa18_reflectance.nc",
           "type": "application/x-netcdf"
          },
          "Oa21_reflectance.nc": {
           "alternate": {
            "origin": {
             "href": "s3://eodata/Sentinel-3/OLCI/OL_2_WRR___/2024/09/09/S3B_OL_2_WRR____20240909T123048_20240909T131501_20240910T163344_2653_097_209______MAR_O_NT_003.SEN3/Oa21_reflectance.nc",
             "title": "Origin asset link",
             "type": "application/x-netcdf"
            }
           },
           "href": "https://hda.data.destination-earth.eu/stac/collections/EO.EUM.DAT.SENTINEL-3.OL_2_WRR___/items/S3B_OL_2_WRR____20240909T123048_20240909T131501_20240910T163344_2653_097_209______MAR_O_NT_003/download/Oa21_reflectance.nc?provider=dedl",
           "roles": [
            "data"
           ],
           "title": "Oa21_reflectance.nc",
           "type": "application/x-netcdf"
          },
          "browse.jpg": {
           "alternate": {
            "origin": {
             "href": "s3://eodata/Sentinel-3/OLCI/OL_2_WRR___/2024/09/09/S3B_OL_2_WRR____20240909T123048_20240909T131501_20240910T163344_2653_097_209______MAR_O_NT_003.SEN3/browse.jpg",
             "title": "Origin asset link",
             "type": "image/jpeg"
            }
           },
           "href": "https://hda.data.destination-earth.eu/stac/collections/EO.EUM.DAT.SENTINEL-3.OL_2_WRR___/items/S3B_OL_2_WRR____20240909T123048_20240909T131501_20240910T163344_2653_097_209______MAR_O_NT_003/download/browse.jpg?provider=dedl",
           "roles": [
            "metadata"
           ],
           "title": "browse.jpg",
           "type": "image/jpeg"
          },
          "chl_nn.nc": {
           "alternate": {
            "origin": {
             "href": "s3://eodata/Sentinel-3/OLCI/OL_2_WRR___/2024/09/09/S3B_OL_2_WRR____20240909T123048_20240909T131501_20240910T163344_2653_097_209______MAR_O_NT_003.SEN3/chl_nn.nc",
             "title": "Origin asset link",
             "type": "application/x-netcdf"
            }
           },
           "href": "https://hda.data.destination-earth.eu/stac/collections/EO.EUM.DAT.SENTINEL-3.OL_2_WRR___/items/S3B_OL_2_WRR____20240909T123048_20240909T131501_20240910T163344_2653_097_209______MAR_O_NT_003/download/chl_nn.nc?provider=dedl",
           "roles": [
            "data"
           ],
           "title": "chl_nn.nc",
           "type": "application/x-netcdf"
          },
          "chl_oc4me.nc": {
           "alternate": {
            "origin": {
             "href": "s3://eodata/Sentinel-3/OLCI/OL_2_WRR___/2024/09/09/S3B_OL_2_WRR____20240909T123048_20240909T131501_20240910T163344_2653_097_209______MAR_O_NT_003.SEN3/chl_oc4me.nc",
             "title": "Origin asset link",
             "type": "application/x-netcdf"
            }
           },
           "href": "https://hda.data.destination-earth.eu/stac/collections/EO.EUM.DAT.SENTINEL-3.OL_2_WRR___/items/S3B_OL_2_WRR____20240909T123048_20240909T131501_20240910T163344_2653_097_209______MAR_O_NT_003/download/chl_oc4me.nc?provider=dedl",
           "roles": [
            "data"
           ],
           "title": "chl_oc4me.nc",
           "type": "application/x-netcdf"
          },
          "downloadLink": {
           "alternate": {
            "origin": {
             "href": "https://zipper.creodias.eu/odata/v1/Products(081fc906-2b7f-4d08-b3fc-fbe3a0b04e67)/$value",
             "title": "Origin asset link"
            }
           },
           "href": "https://hda.data.destination-earth.eu/stac/collections/EO.EUM.DAT.SENTINEL-3.OL_2_WRR___/items/S3B_OL_2_WRR____20240909T123048_20240909T131501_20240910T163344_2653_097_209______MAR_O_NT_003/download?provider=dedl",
           "storage:tier": "ONLINE",
           "title": "Download link",
           "type": "application/zip"
          },
          "geo_coordinates.nc": {
           "alternate": {
            "origin": {
             "href": "s3://eodata/Sentinel-3/OLCI/OL_2_WRR___/2024/09/09/S3B_OL_2_WRR____20240909T123048_20240909T131501_20240910T163344_2653_097_209______MAR_O_NT_003.SEN3/geo_coordinates.nc",
             "title": "Origin asset link",
             "type": "application/x-netcdf"
            }
           },
           "href": "https://hda.data.destination-earth.eu/stac/collections/EO.EUM.DAT.SENTINEL-3.OL_2_WRR___/items/S3B_OL_2_WRR____20240909T123048_20240909T131501_20240910T163344_2653_097_209______MAR_O_NT_003/download/geo_coordinates.nc?provider=dedl",
           "roles": [
            "data"
           ],
           "title": "geo_coordinates.nc",
           "type": "application/x-netcdf"
          },
          "instrument_data.nc": {
           "alternate": {
            "origin": {
             "href": "s3://eodata/Sentinel-3/OLCI/OL_2_WRR___/2024/09/09/S3B_OL_2_WRR____20240909T123048_20240909T131501_20240910T163344_2653_097_209______MAR_O_NT_003.SEN3/instrument_data.nc",
             "title": "Origin asset link",
             "type": "application/x-netcdf"
            }
           },
           "href": "https://hda.data.destination-earth.eu/stac/collections/EO.EUM.DAT.SENTINEL-3.OL_2_WRR___/items/S3B_OL_2_WRR____20240909T123048_20240909T131501_20240910T163344_2653_097_209______MAR_O_NT_003/download/instrument_data.nc?provider=dedl",
           "roles": [
            "data"
           ],
           "title": "instrument_data.nc",
           "type": "application/x-netcdf"
          },
          "iop_lsd.nc": {
           "alternate": {
            "origin": {
             "href": "s3://eodata/Sentinel-3/OLCI/OL_2_WRR___/2024/09/09/S3B_OL_2_WRR____20240909T123048_20240909T131501_20240910T163344_2653_097_209______MAR_O_NT_003.SEN3/iop_lsd.nc",
             "title": "Origin asset link",
             "type": "application/x-netcdf"
            }
           },
           "href": "https://hda.data.destination-earth.eu/stac/collections/EO.EUM.DAT.SENTINEL-3.OL_2_WRR___/items/S3B_OL_2_WRR____20240909T123048_20240909T131501_20240910T163344_2653_097_209______MAR_O_NT_003/download/iop_lsd.nc?provider=dedl",
           "roles": [
            "data"
           ],
           "title": "iop_lsd.nc",
           "type": "application/x-netcdf"
          },
          "iop_nn.nc": {
           "alternate": {
            "origin": {
             "href": "s3://eodata/Sentinel-3/OLCI/OL_2_WRR___/2024/09/09/S3B_OL_2_WRR____20240909T123048_20240909T131501_20240910T163344_2653_097_209______MAR_O_NT_003.SEN3/iop_nn.nc",
             "title": "Origin asset link",
             "type": "application/x-netcdf"
            }
           },
           "href": "https://hda.data.destination-earth.eu/stac/collections/EO.EUM.DAT.SENTINEL-3.OL_2_WRR___/items/S3B_OL_2_WRR____20240909T123048_20240909T131501_20240910T163344_2653_097_209______MAR_O_NT_003/download/iop_nn.nc?provider=dedl",
           "roles": [
            "data"
           ],
           "title": "iop_nn.nc",
           "type": "application/x-netcdf"
          },
          "iwv.nc": {
           "alternate": {
            "origin": {
             "href": "s3://eodata/Sentinel-3/OLCI/OL_2_WRR___/2024/09/09/S3B_OL_2_WRR____20240909T123048_20240909T131501_20240910T163344_2653_097_209______MAR_O_NT_003.SEN3/iwv.nc",
             "title": "Origin asset link",
             "type": "application/x-netcdf"
            }
           },
           "href": "https://hda.data.destination-earth.eu/stac/collections/EO.EUM.DAT.SENTINEL-3.OL_2_WRR___/items/S3B_OL_2_WRR____20240909T123048_20240909T131501_20240910T163344_2653_097_209______MAR_O_NT_003/download/iwv.nc?provider=dedl",
           "roles": [
            "data"
           ],
           "title": "iwv.nc",
           "type": "application/x-netcdf"
          },
          "manifest.xml": {
           "alternate": {
            "origin": {
             "href": "s3://eodata/Sentinel-3/OLCI/OL_2_WRR___/2024/09/09/S3B_OL_2_WRR____20240909T123048_20240909T131501_20240910T163344_2653_097_209______MAR_O_NT_003.SEN3/manifest.xml",
             "title": "Origin asset link",
             "type": "text/xml"
            }
           },
           "href": "https://hda.data.destination-earth.eu/stac/collections/EO.EUM.DAT.SENTINEL-3.OL_2_WRR___/items/S3B_OL_2_WRR____20240909T123048_20240909T131501_20240910T163344_2653_097_209______MAR_O_NT_003/download/manifest.xml?provider=dedl",
           "roles": [
            "metadata"
           ],
           "title": "manifest.xml",
           "type": "text/xml"
          },
          "par.nc": {
           "alternate": {
            "origin": {
             "href": "s3://eodata/Sentinel-3/OLCI/OL_2_WRR___/2024/09/09/S3B_OL_2_WRR____20240909T123048_20240909T131501_20240910T163344_2653_097_209______MAR_O_NT_003.SEN3/par.nc",
             "title": "Origin asset link",
             "type": "application/x-netcdf"
            }
           },
           "href": "https://hda.data.destination-earth.eu/stac/collections/EO.EUM.DAT.SENTINEL-3.OL_2_WRR___/items/S3B_OL_2_WRR____20240909T123048_20240909T131501_20240910T163344_2653_097_209______MAR_O_NT_003/download/par.nc?provider=dedl",
           "roles": [
            "data"
           ],
           "title": "par.nc",
           "type": "application/x-netcdf"
          },
          "tie_geo_coordinates.nc": {
           "alternate": {
            "origin": {
             "href": "s3://eodata/Sentinel-3/OLCI/OL_2_WRR___/2024/09/09/S3B_OL_2_WRR____20240909T123048_20240909T131501_20240910T163344_2653_097_209______MAR_O_NT_003.SEN3/tie_geo_coordinates.nc",
             "title": "Origin asset link",
             "type": "application/x-netcdf"
            }
           },
           "href": "https://hda.data.destination-earth.eu/stac/collections/EO.EUM.DAT.SENTINEL-3.OL_2_WRR___/items/S3B_OL_2_WRR____20240909T123048_20240909T131501_20240910T163344_2653_097_209______MAR_O_NT_003/download/tie_geo_coordinates.nc?provider=dedl",
           "roles": [
            "data"
           ],
           "title": "tie_geo_coordinates.nc",
           "type": "application/x-netcdf"
          },
          "tie_geometries.nc": {
           "alternate": {
            "origin": {
             "href": "s3://eodata/Sentinel-3/OLCI/OL_2_WRR___/2024/09/09/S3B_OL_2_WRR____20240909T123048_20240909T131501_20240910T163344_2653_097_209______MAR_O_NT_003.SEN3/tie_geometries.nc",
             "title": "Origin asset link",
             "type": "application/x-netcdf"
            }
           },
           "href": "https://hda.data.destination-earth.eu/stac/collections/EO.EUM.DAT.SENTINEL-3.OL_2_WRR___/items/S3B_OL_2_WRR____20240909T123048_20240909T131501_20240910T163344_2653_097_209______MAR_O_NT_003/download/tie_geometries.nc?provider=dedl",
           "roles": [
            "data"
           ],
           "title": "tie_geometries.nc",
           "type": "application/x-netcdf"
          },
          "tie_meteo.nc": {
           "alternate": {
            "origin": {
             "href": "s3://eodata/Sentinel-3/OLCI/OL_2_WRR___/2024/09/09/S3B_OL_2_WRR____20240909T123048_20240909T131501_20240910T163344_2653_097_209______MAR_O_NT_003.SEN3/tie_meteo.nc",
             "title": "Origin asset link",
             "type": "application/x-netcdf"
            }
           },
           "href": "https://hda.data.destination-earth.eu/stac/collections/EO.EUM.DAT.SENTINEL-3.OL_2_WRR___/items/S3B_OL_2_WRR____20240909T123048_20240909T131501_20240910T163344_2653_097_209______MAR_O_NT_003/download/tie_meteo.nc?provider=dedl",
           "roles": [
            "data"
           ],
           "title": "tie_meteo.nc",
           "type": "application/x-netcdf"
          },
          "time_coordinates.nc": {
           "alternate": {
            "origin": {
             "href": "s3://eodata/Sentinel-3/OLCI/OL_2_WRR___/2024/09/09/S3B_OL_2_WRR____20240909T123048_20240909T131501_20240910T163344_2653_097_209______MAR_O_NT_003.SEN3/time_coordinates.nc",
             "title": "Origin asset link",
             "type": "application/x-netcdf"
            }
           },
           "href": "https://hda.data.destination-earth.eu/stac/collections/EO.EUM.DAT.SENTINEL-3.OL_2_WRR___/items/S3B_OL_2_WRR____20240909T123048_20240909T131501_20240910T163344_2653_097_209______MAR_O_NT_003/download/time_coordinates.nc?provider=dedl",
           "roles": [
            "data"
           ],
           "title": "time_coordinates.nc",
           "type": "application/x-netcdf"
          },
          "trsp.nc": {
           "alternate": {
            "origin": {
             "href": "s3://eodata/Sentinel-3/OLCI/OL_2_WRR___/2024/09/09/S3B_OL_2_WRR____20240909T123048_20240909T131501_20240910T163344_2653_097_209______MAR_O_NT_003.SEN3/trsp.nc",
             "title": "Origin asset link",
             "type": "application/x-netcdf"
            }
           },
           "href": "https://hda.data.destination-earth.eu/stac/collections/EO.EUM.DAT.SENTINEL-3.OL_2_WRR___/items/S3B_OL_2_WRR____20240909T123048_20240909T131501_20240910T163344_2653_097_209______MAR_O_NT_003/download/trsp.nc?provider=dedl",
           "roles": [
            "data"
           ],
           "title": "trsp.nc",
           "type": "application/x-netcdf"
          },
          "tsm_nn.nc": {
           "alternate": {
            "origin": {
             "href": "s3://eodata/Sentinel-3/OLCI/OL_2_WRR___/2024/09/09/S3B_OL_2_WRR____20240909T123048_20240909T131501_20240910T163344_2653_097_209______MAR_O_NT_003.SEN3/tsm_nn.nc",
             "title": "Origin asset link",
             "type": "application/x-netcdf"
            }
           },
           "href": "https://hda.data.destination-earth.eu/stac/collections/EO.EUM.DAT.SENTINEL-3.OL_2_WRR___/items/S3B_OL_2_WRR____20240909T123048_20240909T131501_20240910T163344_2653_097_209______MAR_O_NT_003/download/tsm_nn.nc?provider=dedl",
           "roles": [
            "data"
           ],
           "title": "tsm_nn.nc",
           "type": "application/x-netcdf"
          },
          "w_aer.nc": {
           "alternate": {
            "origin": {
             "href": "s3://eodata/Sentinel-3/OLCI/OL_2_WRR___/2024/09/09/S3B_OL_2_WRR____20240909T123048_20240909T131501_20240910T163344_2653_097_209______MAR_O_NT_003.SEN3/w_aer.nc",
             "title": "Origin asset link",
             "type": "application/x-netcdf"
            }
           },
           "href": "https://hda.data.destination-earth.eu/stac/collections/EO.EUM.DAT.SENTINEL-3.OL_2_WRR___/items/S3B_OL_2_WRR____20240909T123048_20240909T131501_20240910T163344_2653_097_209______MAR_O_NT_003/download/w_aer.nc?provider=dedl",
           "roles": [
            "data"
           ],
           "title": "w_aer.nc",
           "type": "application/x-netcdf"
          },
          "wqsf.nc": {
           "alternate": {
            "origin": {
             "href": "s3://eodata/Sentinel-3/OLCI/OL_2_WRR___/2024/09/09/S3B_OL_2_WRR____20240909T123048_20240909T131501_20240910T163344_2653_097_209______MAR_O_NT_003.SEN3/wqsf.nc",
             "title": "Origin asset link",
             "type": "application/x-netcdf"
            }
           },
           "href": "https://hda.data.destination-earth.eu/stac/collections/EO.EUM.DAT.SENTINEL-3.OL_2_WRR___/items/S3B_OL_2_WRR____20240909T123048_20240909T131501_20240910T163344_2653_097_209______MAR_O_NT_003/download/wqsf.nc?provider=dedl",
           "roles": [
            "data"
           ],
           "title": "wqsf.nc",
           "type": "application/x-netcdf"
          },
          "xfdumanifest.xml": {
           "alternate": {
            "origin": {
             "href": "s3://eodata/Sentinel-3/OLCI/OL_2_WRR___/2024/09/09/S3B_OL_2_WRR____20240909T123048_20240909T131501_20240910T163344_2653_097_209______MAR_O_NT_003.SEN3/xfdumanifest.xml",
             "title": "Origin asset link",
             "type": "text/xml"
            }
           },
           "href": "https://hda.data.destination-earth.eu/stac/collections/EO.EUM.DAT.SENTINEL-3.OL_2_WRR___/items/S3B_OL_2_WRR____20240909T123048_20240909T131501_20240910T163344_2653_097_209______MAR_O_NT_003/download/xfdumanifest.xml?provider=dedl",
           "roles": [
            "metadata"
           ],
           "title": "xfdumanifest.xml",
           "type": "text/xml"
          }
         },
         "bbox": [
          -86.6889,
          -67.9717,
          49.0867,
          89.3137
         ],
         "collection": "EO.EUM.DAT.SENTINEL-3.OL_2_WRR___",
         "geometry": {
          "coordinates": [
           [
            [
             -86.6889,
             -62.2636
            ],
            [
             -85.6485,
             -62.654
            ],
            [
             -84.582,
             -63.0375
            ],
            [
             -83.4874,
             -63.4126
            ],
            [
             -82.3641,
             -63.7791
            ],
            [
             -81.2116,
             -64.1366
            ],
            [
             -80.0295,
             -64.4848
            ],
            [
             -78.8173,
             -64.8231
            ],
            [
             -77.5748,
             -65.1513
            ],
            [
             -76.3018,
             -65.469
            ],
            [
             -74.9981,
             -65.7757
            ],
            [
             -73.6635,
             -66.071
            ],
            [
             -72.2983,
             -66.3544
            ],
            [
             -70.9025,
             -66.6256
            ],
            [
             -69.4766,
             -66.8841
            ],
            [
             -68.0221,
             -67.1293
            ],
            [
             -66.5377,
             -67.3611
            ],
            [
             -65.0238,
             -67.5792
            ],
            [
             -63.4839,
             -67.7827
            ],
            [
             -61.918,
             -67.9717
            ],
            [
             -61.0528,
             -66.8643
            ],
            [
             -59.8235,
             -65.1212
            ],
            [
             -58.7234,
             -63.3711
            ],
            [
             -57.7288,
             -61.6151
            ],
            [
             -56.8214,
             -59.8542
            ],
            [
             -55.9865,
             -58.0889
            ],
            [
             -55.2129,
             -56.3199
            ],
            [
             -54.4911,
             -54.5475
            ],
            [
             -53.8139,
             -52.7722
            ],
            [
             -53.1748,
             -50.9943
            ],
            [
             -52.5687,
             -49.2138
            ],
            [
             -51.9912,
             -47.431
            ],
            [
             -51.439,
             -45.6464
            ],
            [
             -50.9084,
             -43.8596
            ],
            [
             -50.3972,
             -42.0711
            ],
            [
             -49.903,
             -40.281
            ],
            [
             -49.4237,
             -38.4892
            ],
            [
             -48.9576,
             -36.6959
            ],
            [
             -48.5031,
             -34.9013
            ],
            [
             -48.0588,
             -33.1053
            ],
            [
             -47.6235,
             -31.3079
            ],
            [
             -47.1962,
             -29.5095
            ],
            [
             -46.7758,
             -27.71
            ],
            [
             -46.3614,
             -25.9094
            ],
            [
             -45.9523,
             -24.1078
            ],
            [
             -45.5474,
             -22.3054
            ],
            [
             -45.1465,
             -20.5022
            ],
            [
             -44.749,
             -18.6975
            ],
            [
             -44.353,
             -16.8932
            ],
            [
             -43.9593,
             -15.0881
            ],
            [
             -43.5671,
             -13.2818
            ],
            [
             -43.1754,
             -11.4755
            ],
            [
             -42.7839,
             -9.66861
            ],
            [
             -42.3922,
             -7.86145
            ],
            [
             -41.9996,
             -6.0541
            ],
            [
             -41.6057,
             -4.24662
            ],
            [
             -41.2097,
             -2.43886
            ],
            [
             -40.8115,
             -0.631267
            ],
            [
             -40.4106,
             1.17616
            ],
            [
             -40.006,
             2.98358
            ],
            [
             -39.5975,
             4.79059
            ],
            [
             -39.1843,
             6.59731
            ],
            [
             -38.7661,
             8.40343
            ],
            [
             -38.3419,
             10.2091
            ],
            [
             -37.9113,
             12.014
            ],
            [
             -37.4734,
             13.818
            ],
            [
             -37.0276,
             15.6214
            ],
            [
             -36.573,
             17.4237
            ],
            [
             -36.1085,
             19.2241
            ],
            [
             -35.6334,
             21.024
            ],
            [
             -35.1468,
             22.8226
            ],
            [
             -34.647,
             24.619
            ],
            [
             -34.1329,
             26.414
            ],
            [
             -33.6036,
             28.207
            ],
            [
             -33.0572,
             29.9978
            ],
            [
             -32.4914,
             31.786
            ],
            [
             -31.9056,
             33.5725
            ],
            [
             -31.2964,
             35.356
            ],
            [
             -30.6614,
             37.1352
            ],
            [
             -29.9991,
             38.9123
            ],
            [
             -29.305,
             40.6854
            ],
            [
             -28.5761,
             42.4543
            ],
            [
             -27.8086,
             44.2187
            ],
            [
             -26.9972,
             45.9781
            ],
            [
             -26.137,
             47.7317
            ],
            [
             -25.2215,
             49.4792
            ],
            [
             -24.2432,
             51.2193
            ],
            [
             -23.1935,
             52.9517
            ],
            [
             -22.0623,
             54.6748
            ],
            [
             -20.8381,
             56.3871
            ],
            [
             -19.5051,
             58.0876
            ],
            [
             -18.0469,
             59.774
            ],
            [
             -16.4422,
             61.4438
            ],
            [
             -14.6657,
             63.0942
            ],
            [
             -12.6861,
             64.7214
            ],
            [
             -10.4654,
             66.3207
            ],
            [
             -7.95621,
             67.8863
            ],
            [
             -5.10228,
             69.4104
            ],
            [
             -1.83271,
             70.8833
            ],
            [
             1.93518,
             72.2923
            ],
            [
             6.29766,
             73.621
            ],
            [
             11.366,
             74.8481
            ],
            [
             17.2408,
             75.9475
            ],
            [
             23.999,
             76.887
            ],
            [
             31.6538,
             77.6301
            ],
            [
             40.0994,
             78.1396
            ],
            [
             49.0867,
             78.3855
            ],
            [
             48.8993,
             79.0035
            ],
            [
             48.6897,
             79.6213
            ],
            [
             48.4537,
             80.2394
            ],
            [
             48.1867,
             80.8564
            ],
            [
             47.8812,
             81.4736
            ],
            [
             47.5284,
             82.0904
            ],
            [
             47.1165,
             82.707
            ],
            [
             46.6289,
             83.323
            ],
            [
             46.043,
             83.9385
            ],
            [
             45.326,
             84.5532
            ],
            [
             44.427,
             85.1668
            ],
            [
             43.2679,
             85.7789
            ],
            [
             41.7155,
             86.3886
            ],
            [
             39.538,
             86.9947
            ],
            [
             36.2698,
             87.5942
            ],
            [
             30.8677,
             88.1808
            ],
            [
             20.546,
             88.7363
            ],
            [
             -3.29106,
             89.1936
            ],
            [
             -51.4742,
             89.3137
            ],
            [
             -41.6951,
             87.5549
            ],
            [
             -40.3366,
             85.7848
            ],
            [
             -39.9348,
             84.013
            ],
            [
             -39.8364,
             82.2407
            ],
            [
             -39.8741,
             80.4674
            ],
            [
             -39.9842,
             78.6935
            ],
            [
             -40.133,
             76.9205
            ],
            [
             -40.311,
             75.1468
            ],
            [
             -40.5086,
             73.3721
            ],
            [
             -40.7194,
             71.5973
            ],
            [
             -40.9412,
             69.8218
            ],
            [
             -41.1706,
             68.046
            ],
            [
             -41.4066,
             66.2697
            ],
            [
             -41.648,
             64.4928
            ],
            [
             -41.8942,
             62.7153
            ],
            [
             -42.1445,
             60.9371
            ],
            [
             -42.3985,
             59.1583
            ],
            [
             -42.6554,
             57.3789
            ],
            [
             -42.916,
             55.5988
            ],
            [
             -43.1793,
             53.818
            ],
            [
             -43.4457,
             52.0365
            ],
            [
             -43.7147,
             50.2542
            ],
            [
             -43.9864,
             48.4713
            ],
            [
             -44.2611,
             46.6875
            ],
            [
             -44.5382,
             44.9032
            ],
            [
             -44.8184,
             43.1182
            ],
            [
             -45.1016,
             41.3322
            ],
            [
             -45.387,
             39.545
            ],
            [
             -45.6765,
             37.7595
            ],
            [
             -45.9684,
             35.9714
            ],
            [
             -46.2632,
             34.1819
            ],
            [
             -46.5622,
             32.3934
            ],
            [
             -46.864,
             30.604
            ],
            [
             -47.1695,
             28.8139
            ],
            [
             -47.4791,
             27.0232
            ],
            [
             -47.7926,
             25.2325
            ],
            [
             -48.1098,
             23.4409
            ],
            [
             -48.4316,
             21.6492
            ],
            [
             -48.7582,
             19.8576
            ],
            [
             -49.0892,
             18.0654
            ],
            [
             -49.4253,
             16.2733
            ],
            [
             -49.7667,
             14.4811
            ],
            [
             -50.1136,
             12.6889
            ],
            [
             -50.4665,
             10.8967
            ],
            [
             -50.8254,
             9.10508
            ],
            [
             -51.191,
             7.31339
            ],
            [
             -51.5634,
             5.52225
            ],
            [
             -51.9432,
             3.73165
            ],
            [
             -52.3305,
             1.9417
            ],
            [
             -52.7261,
             0.152499
            ],
            [
             -53.1307,
             -1.63588
            ],
            [
             -53.5442,
             -3.42321
            ],
            [
             -53.9676,
             -5.20942
            ],
            [
             -54.4016,
             -6.99439
            ],
            [
             -54.8468,
             -8.77801
            ],
            [
             -55.3037,
             -10.5598
            ],
            [
             -55.7734,
             -12.3405
            ],
            [
             -56.2568,
             -14.1184
            ],
            [
             -56.755,
             -15.8932
            ],
            [
             -57.2684,
             -17.6681
            ],
            [
             -57.7989,
             -19.4394
            ],
            [
             -58.3475,
             -21.2073
            ],
            [
             -58.9156,
             -22.9725
            ],
            [
             -59.5048,
             -24.7344
            ],
            [
             -60.1167,
             -26.4925
            ],
            [
             -60.7533,
             -28.2465
            ],
            [
             -61.4168,
             -29.9964
            ],
            [
             -62.1094,
             -31.7413
            ],
            [
             -62.8337,
             -33.4809
            ],
            [
             -63.5926,
             -35.2149
            ],
            [
             -64.3894,
             -36.9425
            ],
            [
             -65.228,
             -38.6631
            ],
            [
             -66.1122,
             -40.3761
            ],
            [
             -67.047,
             -42.0807
            ],
            [
             -68.0374,
             -43.7758
            ],
            [
             -69.0896,
             -45.4605
            ],
            [
             -70.2104,
             -47.1338
            ],
            [
             -71.4075,
             -48.794
            ],
            [
             -72.6897,
             -50.4395
            ],
            [
             -74.0676,
             -52.0688
            ],
            [
             -75.5527,
             -53.6795
            ],
            [
             -77.1583,
             -55.269
            ],
            [
             -78.8997,
             -56.8344
            ],
            [
             -80.7949,
             -58.3724
            ],
            [
             -82.8637,
             -59.8785
            ],
            [
             -85.1294,
             -61.348
            ],
            [
             -86.6889,
             -62.2636
            ]
           ]
          ],
          "type": "Polygon"
         },
         "id": "S3B_OL_2_WRR____20240909T123048_20240909T131501_20240910T163344_2653_097_209______MAR_O_NT_003",
         "links": [
          {
           "href": "https://hda.data.destination-earth.eu/stac/collections/EO.EUM.DAT.SENTINEL-3.OL_2_WRR___/items/S3B_OL_2_WRR____20240909T123048_20240909T131501_20240910T163344_2653_097_209______MAR_O_NT_003",
           "rel": "self",
           "title": "S3B_OL_2_WRR____20240909T123048_20240909T131501_20240910T163344_2653_097_209______MAR_O_NT_003"
          },
          {
           "href": "https://hda.data.destination-earth.eu/stac/",
           "rel": "root"
          },
          {
           "href": "https://hda.data.destination-earth.eu/stac/collections/EO.EUM.DAT.SENTINEL-3.OL_2_WRR___",
           "rel": "parent",
           "title": "EO.EUM.DAT.SENTINEL-3.OL_2_WRR___"
          },
          {
           "href": "https://hda.data.destination-earth.eu/stac/collections/EO.EUM.DAT.SENTINEL-3.OL_2_WRR___",
           "rel": "collection",
           "title": "EO.EUM.DAT.SENTINEL-3.OL_2_WRR___"
          }
         ],
         "properties": {
          "constellation": "SENTINEL-3",
          "datetime": "2024-09-09T12:30:47.811437Z",
          "dedl:alias": "EO.EUM.DAT.SENTINEL-3.OL_2_WRR___",
          "dedl:baselineCollection": "003",
          "dedl:beginningDateTime": "2024-09-09T12:30:47.811437Z",
          "dedl:endingDateTime": "2024-09-09T13:15:01.302037Z",
          "dedl:productIdentifier": "/eodata/Sentinel-3/OLCI/OL_2_WRR___/2024/09/09/S3B_OL_2_WRR____20240909T123048_20240909T131501_20240910T163344_2653_097_209______MAR_O_NT_003.SEN3",
          "dedl:scope": {
           "discover": null,
           "download": "hda-public-data-access",
           "search": "hda-public-data-access"
          },
          "dedl:timeliness": "NT",
          "dedl:uid": "081fc906-2b7f-4d08-b3fc-fbe3a0b04e67",
          "description": "OLCI (Ocean and Land Colour Instrument) Ocean Colour Geophysical Products. Reduced Resolution: 1200m at nadir. Level 2 marine products include the following: * water-leaving reflectances in 16 bands, Oa**_reflectance (Baseline Atmospheric Correction (BAC) algorithm, bands: 400, 412, 442, 490, 510, 560, 620, 665, 674, 681, 709, 754, 779, 865, 885, 1024 nanometer (nm)); *algal pigment concentration in clear waters, chl_oc4me (BAC and maximum band ratio algorithm, log10 scaled); *algal pigment concentration in turbid waters, chl_nn (neural net algorithm, log10 scaled); *total suspended matter concentration, tsm_nn (neural net algorithm, log10 scaled); *diffuse attenuation coefficient Kd of downward irradiance at 490 nm, trsp (BAC and M07 algorithm, log10 scaled); *absorption coefficient at 443 nm of coloured detrital and dissolved organic matter, iop_nn (neural net algorithm, log10 scaled); *instantaneous photosynthetically active radiation, PAR (BAC and clear-sky ocean algorithm); *aerosol optical thickness T865 and aerosol Angstrom exponent A865, w_aer (BAC algorithm, A for bands 779 and 865 nm) *integrated water vapour column, iwv (1D-Var algorithm). The geophysical products are accompanied by error estimate products. Pixel classification, quality and science flags, as well as meteorological, geometry and geolocation data at tie points are provided. \n\n- All Sentinel-3 NRT products are available at pick-up point in less than 3h\n- All Sentinel-3 Non Time Critical (NTC) products are available at pick-up point in less than 30 days.\nSentinel-3 is part of a series of Sentinel satellites, under the umbrella of the EU Copernicus programme.",
          "end_datetime": "2024-09-09T13:15:01.302037Z",
          "instruments": [
           "OLCI"
          ],
          "license": "proprietary",
          "order:status": "succeeded",
          "platform": "SENTINEL-3A,SENTINEL-3B",
          "processing:level": 2,
          "providers": [
           {
            "description": "DestineE Data Lake Fresh Data Pool",
            "name": "dedl",
            "priority": 1,
            "roles": [
             "host"
            ],
            "url": "https://creodias.eu/"
           }
          ],
          "published": "2024-09-10T16:57:39.972608Z",
          "sar:instrument_mode": "Earth Observation",
          "sar:product_type": "OL_2_WRR___",
          "sat:absolute_orbit": 33206,
          "sat:orbit_state": "DESCENDING",
          "sat:relative_orbit": 209,
          "start_datetime": "2024-09-09T12:30:47.811437Z",
          "updated": "2024-09-10T16:57:46.284793Z"
         },
         "stac_extensions": [
          "https://stac-extensions.github.io/timestamps/v1.0.0/schema.json",
          "https://stac-extensions.github.io/processing/v1.0.0/schema.json",
          "https://stac-extensions.github.io/sat/v1.0.0/schema.json",
          "https://stac-extensions.github.io/sar/v1.0.0/schema.json",
          "https://stac-extensions.github.io/order/v1.1.0/schema.json"
         ],
         "stac_version": "1.0.0",
         "type": "Feature"
        }
       ],
       "links": [
        {
         "href": "https://hda.data.destination-earth.eu/stac/collections/EO.EUM.DAT.SENTINEL-3.OL_2_WRR___/items",
         "rel": "self",
         "title": "items"
        },
        {
         "href": "https://hda.data.destination-earth.eu/stac/",
         "rel": "root"
        },
        {
         "href": "https://hda.data.destination-earth.eu/stac/collections/EO.EUM.DAT.SENTINEL-3.OL_2_WRR___",
         "rel": "parent",
         "title": "EO.EUM.DAT.SENTINEL-3.OL_2_WRR___"
        },
        {
         "body": {
          "bbox": [
           -11,
           35,
           50,
           72
          ],
          "collections": [
           "EO.EUM.DAT.SENTINEL-3.OL_2_WRR___"
          ],
          "datetime": "2024-09-08T00:00:00Z/2024-09-09T23:59:59Z",
          "limit": 3,
          "page": 2,
          "sortby": [
           {
            "direction": "desc",
            "field": "datetime"
           }
          ]
         },
         "href": "https://hda.data.destination-earth.eu/stac/search",
         "method": "POST",
         "rel": "next",
         "title": "Next page",
         "type": "application/geo+json"
        }
       ],
       "numberMatched": 36,
       "numberReturned": 3,
       "stac_extensions": [],
       "stac_version": "1.0.0",
       "timeStamp": "2024-12-09T11:48:05.884226Z",
       "type": "FeatureCollection"
      },
      "text/plain": [
       "<IPython.core.display.JSON object>"
      ]
     },
     "execution_count": 6,
     "metadata": {
      "application/json": {
       "expanded": false,
       "root": "root"
      }
     },
     "output_type": "execute_result"
    }
   ],
   "source": [
    "BODY = {\n",
    "    \"collections\": [\n",
    "        COLLECTION_ID,\n",
    "    ],\n",
    "    \"datetime\" : \"2024-09-08T00:00:00Z/2024-09-09T23:59:59Z\",\n",
    "    \"bbox\": [-11,35,\n",
    "              50,72 ],\n",
    "    \"sortby\": [{\"field\": \"datetime\",\"direction\": \"desc\"}\n",
    "              ],\n",
    "    \"limit\": 3,\n",
    "}\n",
    "\n",
    "r=requests.post(SEARCH_URL, json=BODY, headers=auth_headers)\n",
    "if(r.status_code!= 200):\n",
    "    (print(r.text))\n",
    "r.raise_for_status()\n",
    "JSON(r.json(), expanded=False)   "
   ]
  },
  {
   "cell_type": "markdown",
   "id": "efbcb5f2-0d93-4ad8-a1d0-b0e5467b24b6",
   "metadata": {
    "tags": []
   },
   "source": [
    "## Download\n",
    "\n",
    "Once obtained the search results we can download the returned data."
   ]
  },
  {
   "cell_type": "code",
   "execution_count": 7,
   "id": "684c8321-b39f-4431-8980-b7711fe51bc1",
   "metadata": {},
   "outputs": [
    {
     "name": "stdout",
     "output_type": "stream",
     "text": [
      "Downloading ...\n",
      "The dataset has been downloaded to: S3A_OL_2_WRR____20240909T130929_20240909T135342_20240910T163350_2653_116_352______MAR_O_NT_003.zip\n"
     ]
    }
   ],
   "source": [
    "#select the first item in the result to download\n",
    "product = r.json()[\"features\"][0]\n",
    "\n",
    "# DownloadLink is an asset representing the whole product\n",
    "download_url = product[\"assets\"][\"downloadLink\"][\"href\"]\n",
    "ITEM_ID = product[\"id\"]\n",
    "\n",
    "response = requests.get(download_url,stream=True,headers=auth_headers)\n",
    "\n",
    "# If the request was successful, download the file\n",
    "if (response.status_code == HTTP_SUCCESS_CODE):\n",
    "        print(\"Downloading ...\")\n",
    "        filename = ITEM_ID + \".zip\"\n",
    "        with open(filename, 'wb') as f:\n",
    "            for chunk in r.iter_content(chunk_size=1024): \n",
    "                if chunk:\n",
    "                    f.write(chunk)\n",
    "                    f.flush()\n",
    "        print(\"The dataset has been downloaded to: {}\".format(filename))\n",
    "else: print(\"Request Unsuccessful! Error-Code: {}\".format(response.status_code))"
   ]
  }
 ],
 "metadata": {
  "kernelspec": {
   "display_name": "Python DEDL",
   "language": "python",
   "name": "python_dedl"
  },
  "language_info": {
   "codemirror_mode": {
    "name": "ipython",
    "version": 3
   },
   "file_extension": ".py",
   "mimetype": "text/x-python",
   "name": "python",
   "nbconvert_exporter": "python",
   "pygments_lexer": "ipython3",
   "version": "3.11.4"
  }
 },
 "nbformat": 4,
 "nbformat_minor": 5
}
