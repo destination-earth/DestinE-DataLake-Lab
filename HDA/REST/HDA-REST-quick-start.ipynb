{
 "cells": [
  {
   "cell_type": "markdown",
   "id": "d52c1e69-af38-41ac-ae9f-0ed1cf1dccfa",
   "metadata": {
    "tags": []
   },
   "source": [
    "![](https://github.com/destination-earth/DestinE-DataLake-Lab/blob/main/img/DestinE-banner.jpg?raw=true)"
   ]
  },
  {
   "cell_type": "markdown",
   "id": "4d4bdfd1-779c-46e0-a733-15c90c6c7f91",
   "metadata": {},
   "source": [
    "**Copyright:** 2025 EUMETSAT <br>\n",
    "**License:** MIT <br>\n",
    "**Authors:** Serena Avolio (EUMETSAT/Starion)"
   ]
  },
  {
   "cell_type": "markdown",
   "id": "b2c1fe39-1a7e-4cf4-afd6-07c371f837d8",
   "metadata": {},
   "source": [
    "<div class=\"alert alert-block alert-success\">\n",
    "<h3>Destination Earth - HDA Tutorial - quick start</h3></div>"
   ]
  },
  {
   "cell_type": "markdown",
   "id": "ee8f48b2-cfb8-4694-9df2-a71b639bb486",
   "metadata": {
    "tags": []
   },
   "source": [
    "<div class=\"alert alert-block alert-warning\">\n",
    "<b> Prerequisites: </b>\n",
    "   <li>To search and access DEDL data a <a href=\"https://platform.destine.eu/\"> DestinE user account</a> is needed</li>\n",
    "<b> References: </b>\n",
    "    <li><a href=\"https://destine-data-lake-docs.data.destination-earth.eu/en/latest/dedl-discovery-and-data-access/Use-of-Harmonized-Data-Access/Use-of-Harmonized-Data-Access.html\">DestinE Data Lake (DEDL) Harmonized Data Access (HDA) documentation</a> </li>\n",
    "</div>"
   ]
  },
  {
   "cell_type": "markdown",
   "id": "8ced5d97-6c6b-4d8f-aff6-88c9d9e4b5bc",
   "metadata": {},
   "source": [
    "This notebook demonstrates how to use the HDA (Harmonized Data Access) API by sending a few HTTP requests to the API, using Python code.\n",
    "The tutorial shows the first steps in using Harmonised Data to discover and access the data offered by the DestinE Data Portfolio \n",
    "\n",
    "hroughout this quickstart notebook, you will learn:\n",
    "\n",
    "1. [Discover](HDA-REST-quick-start.ipynb#Discover): How to discover *DEDL* collections and services through HDA.\n",
    "2. [Authenticate](HDA-REST-quick-start.ipynb#Authenticate): How to authenticate for searching and access *DEDL* collections. \n",
    "3. [Search data](HDA-REST-quick-start.ipynb#Search):  How to search *DEDL* data through HDA.\n",
    "4. [Download data](HDA-REST-quick-start.ipynb#Download): How to download *DEDL* data through HDA.\n",
    "\n",
    "The detailed API and definition of each endpoint and parameters is available in the HDA Swagger UI at:\n",
    "https://hda.data.destination-earth.eu/docs/"
   ]
  },
  {
   "cell_type": "markdown",
   "id": "4bf52238-934b-4e73-a2ae-df73ce749852",
   "metadata": {},
   "source": [
    "# Discover"
   ]
  },
  {
   "cell_type": "markdown",
   "id": "08f75c5f-2831-483c-8708-2b9465b4575d",
   "metadata": {},
   "source": [
    "## Import the relevant modules"
   ]
  },
  {
   "cell_type": "code",
   "execution_count": 3,
   "id": "7df969e5-638f-4642-a5d4-a0f21f1e5bde",
   "metadata": {
    "tags": []
   },
   "outputs": [],
   "source": [
    "import requests\n",
    "import json\n",
    "from getpass import getpass\n",
    "from tqdm import tqdm\n",
    "import time\n",
    "import re\n",
    "\n",
    "import destinelab as deauth\n",
    "\n",
    "from IPython.display import JSON"
   ]
  },
  {
   "cell_type": "markdown",
   "id": "10447de7-0b08-442a-81c5-e67974a0bbe9",
   "metadata": {},
   "source": [
    "## Define some constants for the API URL"
   ]
  },
  {
   "cell_type": "code",
   "execution_count": 4,
   "id": "ea55a16c-5907-44be-962f-49a551d54400",
   "metadata": {
    "tags": []
   },
   "outputs": [],
   "source": [
    "# Define the collection to be used\n",
    "COLLECTION_ID = \"EO.EUM.DAT.SENTINEL-3.OL_2_WRR___\"\n",
    "\n",
    "# Core API\n",
    "HDA_API_URL = \"https://hda.data.destination-earth.eu\"\n",
    "\n",
    "# STAC API\n",
    "## Core\n",
    "STAC_API_URL = f\"{HDA_API_URL}/stac/v2\"\n",
    "\n",
    "## Collections\n",
    "COLLECTIONS_URL = f\"{STAC_API_URL}/collections\"\n",
    "COLLECTION_BY_ID_URL = f\"{COLLECTIONS_URL}/{COLLECTION_ID}\"\n",
    "\n",
    "## Items\n",
    "COLLECTION_ITEMS_URL = f\"{COLLECTIONS_URL}/{COLLECTION_ID}/items\"\n",
    "\n",
    "## Item Search\n",
    "SEARCH_URL = f\"{STAC_API_URL}/search\"\n",
    "\n",
    "## HTTP Success\n",
    "HTTP_SUCCESS_CODE = 200"
   ]
  },
  {
   "cell_type": "markdown",
   "id": "6c4a3e9e-fae6-48b5-96e9-593830bf250d",
   "metadata": {},
   "source": [
    "## Discover data\n",
    "\n",
    "Below an example for discovering collections concerning Chlorophyll-a Concentration and algal pigment."
   ]
  },
  {
   "cell_type": "code",
   "execution_count": 5,
   "id": "c453b5d9-e60d-4634-afa5-d675dd5f4c36",
   "metadata": {
    "tags": []
   },
   "outputs": [
    {
     "data": {
      "application/json": {
       "collections": [
        {
         "assets": {
          "thumbnail": {
           "href": "https://object-store.os-api.cci2.ecmwf.int/cci2-prod-catalogue/resources/cams-solar-radiation-timeseries/overview_51b05dc9c04479bfe717483ad887ef69461fc77410257222a19775cf68790cce.png",
           "roles": [
            "thumbnail"
           ],
           "title": "overview",
           "type": "image/png"
          }
         },
         "created": "2023-12-12T15:24:18Z",
         "dedl:short_description": "The CAMS solar radiation services provide historical values (2004 to present) of global (GHI), direct (BHI) and diffuse (DHI) solar irradiation, as well as direct normal irradiation (BNI).",
         "description": "The CAMS solar radiation services provide historical values (2004 to present) of global (GHI), direct (BHI) and diffuse (DHI) solar irradiation, as well as direct normal irradiation (BNI). The aim is to fulfil the needs of European and national policy development and the requirements of both commercial and public downstream services, e.g. for planning, monitoring, efficiency improvements and the integration of solar energy systems into energy supply grids.\nFor clear-sky conditions, an irradiation time series is provided for any location in the world using information on aerosol, ozone and water vapour from the CAMS global forecasting system. Other properties, such as ground albedo and ground elevation, are also taken into account. Similar time series are available for cloudy (or \"all sky\") conditions but, since the high-resolution cloud information is directly inferred from satellite observations, these are currently only available inside the field-of-view of the Meteosat Second Generation (MSG) satellite, which is roughly Europe, Africa, the Atlantic Ocean and the Middle East.\nData is offered in both ASCII and netCDF format. Additionally, an ASCII \"expert mode\" format can be selected which contains in addition to the irradiation, all the input data used in their calculation (aerosol optical properties, water vapour concentration, etc). This additional information is only meaningful in the time frame at which the calculation is performed and so is only available at 1-minute time steps in universal time (UT).",
         "extent": {
          "spatial": {
           "bbox": [
            [
             -180,
             -90,
             180,
             90
            ]
           ]
          },
          "temporal": {
           "interval": [
            [
             "2004-02-01T00:00:00Z",
             null
            ]
           ]
          }
         },
         "id": "EO.ECMWF.DAT.CAMS_SOLAR_RADIATION_TIMESERIES",
         "keywords": [
          "airPollution",
          "Radiation",
          "Satellite image area",
          "Global",
          "Past",
          "Analysis",
          "Solar radiation",
          "Atmospheric conditions"
         ],
         "license": "proprietary",
         "links": [
          {
           "href": "https://hda.data.destination-earth.eu/stac/v2/collections/EO.ECMWF.DAT.CAMS_SOLAR_RADIATION_TIMESERIES/order",
           "method": "POST",
           "rel": "retrieve",
           "title": "Retrieve",
           "type": "application/geo+json"
          },
          {
           "href": "https://hda.data.destination-earth.eu/stac/v2/collections/EO.ECMWF.DAT.CAMS_SOLAR_RADIATION_TIMESERIES/queryables",
           "rel": "http://www.opengis.net/def/rel/ogc/1.0/queryables",
           "title": "Queryables",
           "type": "application/schema+json"
          },
          {
           "href": "https://hda.data.destination-earth.eu/stac/v2/collections/EO.ECMWF.DAT.CAMS_SOLAR_RADIATION_TIMESERIES/items",
           "rel": "items",
           "title": "Items",
           "type": "application/geo+json"
          },
          {
           "href": "https://hda.data.destination-earth.eu/stac/v2/collections/EO.ECMWF.DAT.CAMS_SOLAR_RADIATION_TIMESERIES",
           "rel": "self",
           "title": "EO.ECMWF.DAT.CAMS_SOLAR_RADIATION_TIMESERIES",
           "type": "application/json"
          },
          {
           "href": "https://object-store.os-api.cci2.ecmwf.int/cci2-prod-catalogue/licences/licence-to-use-copernicus-products/licence-to-use-copernicus-products_b4b9451f54cffa16ecef5c912c9cebd6979925a956e3fa677976e0cf198c2c18.pdf",
           "rel": "license",
           "title": "Licence to Use Copernicus Products",
           "type": "application/pdf"
          },
          {
           "href": "https://ads.atmosphere.copernicus.eu/cdsapp#!/dataset/cams-solar-radiation-timeseries?tab=overview",
           "rel": "cite-as",
           "title": "CAMS solar radiation time-series",
           "type": "text/html"
          },
          {
           "href": "https://confluence.ecmwf.int/x/jOLjDw",
           "rel": "describedby",
           "title": "CAMS solar radiation time-series: data documentation",
           "type": "text/html"
          },
          {
           "href": "https://atmosphere.copernicus.eu/supplementary-services#fa6856b7-a306-4cc4-9137-f3e0cb703093",
           "rel": "describedby",
           "title": "Evaluation and quality assurance (EQA) reports",
           "type": "text/html"
          },
          {
           "href": "https://doi.org/10.1127/metz/2022/1132",
           "rel": "cite-as",
           "title": "Surface solar irradiation retrieval from MSG/SEVIRI based on APOLLO Next Generation and HELIOSAT‑4 methods",
           "type": "text/html"
          },
          {
           "href": "https://doi.org/10.1127/metz/2016/0781",
           "rel": "cite-as",
           "title": "Fast radiative transfer parameterisation for assessing the surface solar irradiance: The Heliosat‑4 method",
           "type": "text/html"
          }
         ],
         "providers": [
          {
           "name": "ECMWF",
           "roles": [
            "licensor",
            "producer",
            "processor"
           ],
           "url": "https://www.ecmwf.int/"
          }
         ],
         "published": "2023-12-12T15:24:18Z",
         "sci:citation": "CAMS solar radiation time-series. Copernicus Atmosphere Monitoring Service (CAMS) Atmosphere Data Store (ADS). (Accessed on DD-MMM-YYY), https://ads.atmosphere.copernicus.eu/cdsapp#!/dataset/cams-solar-radiation-timeseries?tab=overview",
         "sci:publications": [
          {
           "citation": "Schroedter-Homscheidt, M., Azam, F., Betcke, J., Hanrieder, N., Lefèvre, M., Saboret, L., Saint-Drenan, Y.-M.: Surface solar irradiation retrieval from MSG/SEVIRI based on APOLLO Next Generation and HELIOSAT-4 methods, Contrib. Atm. Sci./Meteorol. Z.,2022, doi:10.1127/metz/2022/1132.",
           "doi": "10.1127/metz/2022/1132"
          },
          {
           "citation": "Qu, Z., Oumbe, A., Blanc, P., Espinar, B., Gesell, G., Gschwind, B., Klüser, L., Lefèvre, M., Saboret, L., Schroedter-Homscheidt, M., and Wald L.: Fast radiative transfer parameterisation for assessing the surface solar irradiance: The Heliosat-4 method, Meteorol. Z., 26, 33-57, doi: 10.1127/metz/2016/0781,2017. Available for download at https://www.schweizerbart.de/papers/metz/detail/26/87036/Fast_radiative_transfer_parameterisation_for_asses?af=crossref.",
           "doi": "10.1127/metz/2016/0781"
          }
         ],
         "stac_extensions": [
          "https://stac-extensions.github.io/scientific/v1.0.0/schema.json",
          "https://stac-extensions.github.io/timestamps/v1.1.0/schema.json"
         ],
         "stac_version": "1.0.0",
         "summaries": {
          "federation:backends": [
           "cop_ads",
           "wekeo_ecmwf"
          ]
         },
         "title": "CAMS solar radiation time-series",
         "type": "Collection",
         "updated": "2025-06-12T09:22:22Z"
        },
        {
         "assets": {
          "thumbnail": {
           "href": "https://object-store.os-api.cci2.ecmwf.int/cci2-prod-catalogue/resources/satellite-carbon-dioxide/overview_c7da6512e3b4771cca9e37bd5c22213bc650818c85cbe05e034672d32c07aa6b.png",
           "roles": [
            "thumbnail"
           ],
           "title": "overview",
           "type": "image/png"
          }
         },
         "created": "2023-08-28T15:11:18Z",
         "dedl:short_description": "This dataset provides observations of atmospheric carbon dioxide (CO2) amounts obtained from observations collected by several current and historical satellite instruments.",
         "description": "This dataset provides observations of atmospheric carbon dioxide (CO2)\namounts obtained from observations collected by several current and historical \nsatellite instruments. Carbon dioxide is a naturally occurring Greenhouse Gas (GHG), but one whose abundance has been increased substantially above its pre-industrial value of some 280 ppm by human activities, primarily because of emissions from combustion of fossil fuels, deforestation and other land-use change. The annual cycle (especially in the northern hemisphere) is primarily due to seasonal uptake and release of atmospheric CO2 by terrestrial vegetation.\nAtmospheric carbon dioxide abundance is indirectly observed by various satellite instruments. These instruments measure spectrally resolved near-infrared and/or infrared radiation reflected or emitted by the Earth and its atmosphere. In the measured signal, molecular absorption signatures from carbon dioxide and other constituent gasses can be identified. It is through analysis of those absorption lines in these radiance observations that the averaged carbon dioxide abundance in the sampled atmospheric column can be determined.\nThe software used to analyse the absorption lines and determine the carbon dioxide concentration in the sampled atmospheric column is referred to as the retrieval algorithm. For this dataset, carbon dioxide abundances have been determined by applying several algorithms to different satellite \ninstruments. Typically, different algorithms have different strengths and weaknesses and therefore, which product to use for a given application typically depends on the application.\nThe data set consists of 2 types of products: (i) column-averaged mixing ratios of CO2, denoted XCO2 and (ii) mid-tropospheric CO2 columns.  The XCO2 products have been retrieved from SCIAMACHY/ENVISAT, TANSO-FTS/GOSAT and OCO-2. The mid-tropospheric CO2 product has been retrieved from the IASI instruments on-board the Metop satellite series and from AIRS. \nThe XCO2 products are available as Level 2 (L2) products (satellite orbit tracks) and as Level 3 (L3) product (gridded). The L2 products are available as individual sensor products (SCIAMACHY: BESD and WFMD algorithms; GOSAT: OCFP and SRFP algorithms) and as a multi-sensor merged product (EMMA algorithm). The L3 XCO2 product is provided in OBS4MIPS format. \nThe IASI and AIRS products are available as L2 products generated with the NLIS algorithm.\nThis data set is updated on a yearly basis, with each update cycle adding (if required) a new data version for the entire period, up to one year behind real time.\nThis dataset is produced on behalf of C3S with the exception of the SCIAMACHY and AIRS L2 products that were generated in the framework of the GHG-CCI project of the European Space Agency (ESA) Climate Change Initiative (CCI).\n\nVariables in the dataset/application are:\nColumn-average dry-air mole fraction of atmospheric carbon dioxide (XCO2), Mid-tropospheric columns of atmospheric carbon dioxide (CO2)",
         "extent": {
          "spatial": {
           "bbox": [
            [
             -180,
             -90,
             180,
             90
            ]
           ]
          },
          "temporal": {
           "interval": [
            [
             "2002-10-01T00:00:00Z",
             "2022-12-31T00:00:00Z"
            ]
           ]
          }
         },
         "id": "EO.ECMWF.DAT.CO2_DATA_FROM_SATELLITE_SENSORS_2002_PRESENT",
         "keywords": [
          "Atmosphere (composition)",
          "Satellite observations",
          "Global",
          "Past",
          "Atmospheric conditions"
         ],
         "license": "proprietary",
         "links": [
          {
           "href": "https://hda.data.destination-earth.eu/stac/v2/collections/EO.ECMWF.DAT.CO2_DATA_FROM_SATELLITE_SENSORS_2002_PRESENT/order",
           "method": "POST",
           "rel": "retrieve",
           "title": "Retrieve",
           "type": "application/geo+json"
          },
          {
           "href": "https://hda.data.destination-earth.eu/stac/v2/collections/EO.ECMWF.DAT.CO2_DATA_FROM_SATELLITE_SENSORS_2002_PRESENT/queryables",
           "rel": "http://www.opengis.net/def/rel/ogc/1.0/queryables",
           "title": "Queryables",
           "type": "application/schema+json"
          },
          {
           "href": "https://hda.data.destination-earth.eu/stac/v2/collections/EO.ECMWF.DAT.CO2_DATA_FROM_SATELLITE_SENSORS_2002_PRESENT/items",
           "rel": "items",
           "title": "Items",
           "type": "application/geo+json"
          },
          {
           "href": "https://hda.data.destination-earth.eu/stac/v2/collections/EO.ECMWF.DAT.CO2_DATA_FROM_SATELLITE_SENSORS_2002_PRESENT",
           "rel": "self",
           "title": "EO.ECMWF.DAT.CO2_DATA_FROM_SATELLITE_SENSORS_2002_PRESENT",
           "type": "application/json"
          },
          {
           "href": "https://object-store.os-api.cci2.ecmwf.int/cci2-prod-catalogue/licences/ghg-cci/ghg-cci_0911d58e24365e15589377902e562c6e9231290f75b14ddc3c7cb5fd09a265af.pdf",
           "rel": "license",
           "title": "GHG-CCI Licence",
           "type": "application/pdf"
          },
          {
           "href": "https://doi.org/10.24381/cds.f74805c8",
           "rel": "cite-as",
           "title": "Carbon dioxide data from 2002 to present derived from satellite observations",
           "type": "text/html"
          }
         ],
         "providers": [
          {
           "name": "ECMWF",
           "roles": [
            "licensor",
            "producer",
            "processor"
           ],
           "url": "https://www.ecmwf.int/"
          }
         ],
         "published": "2023-08-28T15:11:18Z",
         "sci:citation": "Copernicus Climate Change Service, Climate Data Store, (2018): \"Carbon dioxide data from 2002 to present derived from satellite observations\". Copernicus Climate Change Service (C3S) Climate Data Store (CDS). DOI: 10.24381/cds.f74805c8 (Accessed on DD-MMM-YYYY)",
         "sci:doi": "10.24381/cds.f74805c8",
         "stac_extensions": [
          "https://stac-extensions.github.io/scientific/v1.0.0/schema.json",
          "https://stac-extensions.github.io/timestamps/v1.1.0/schema.json"
         ],
         "stac_version": "1.0.0",
         "summaries": {
          "federation:backends": [
           "cop_cds",
           "wekeo_ecmwf"
          ]
         },
         "title": "Carbon dioxide data from 2002 to present derived from satellite observations",
         "type": "Collection",
         "updated": "2025-06-12T09:22:22Z"
        },
        {
         "assets": {
          "thumbnail": {
           "href": "https://object-store.os-api.cci2.ecmwf.int/cci2-prod-catalogue/resources/satellite-methane/overview_a8d840c9ea39792c2691b0414da4eb40f8bf9241aa4abf76da96f316fca7c729.png",
           "roles": [
            "thumbnail"
           ],
           "title": "overview",
           "type": "image/png"
          }
         },
         "created": "2023-08-28T15:11:18Z",
         "dedl:short_description": "This dataset provides observations of atmospheric methane (CH4) amounts obtained from observations collected by several current and historical satellite instruments.",
         "description": "This dataset provides observations of atmospheric methane (CH4)\namounts obtained from observations collected by several current and historical \nsatellite instruments.  Methane is a naturally occurring Greenhouse Gas (GHG), but one whose abundance has been increased substantially above its pre-industrial value of some 720 ppb by human activities, primarily because of agricultural emissions (e.g., rice production, ruminants) and fossil fuel production and use. A clear annual cycle is largely due to seasonal wetland emissions.\nAtmospheric methane abundance is indirectly observed by various satellite instruments. These instruments measure spectrally resolved near-infrared and infrared radiation reflected or emitted by the Earth and its atmosphere. In the measured signal, molecular absorption signatures from methane and constituent gasses can be identified. It is through analysis of those absorption lines in these radiance observations that the averaged methane abundance in the sampled atmospheric column can be determined.\nThe software used to analyse the absorption lines and determine the methane concentration in the sampled atmospheric column is referred to as the retrieval algorithm. For this dataset, methane abundances have been determined by applying several algorithms to different satellite instruments.\nThe data set consists of 2 types of products: (i) column-averaged mixing ratios of CH4, denoted XCH4 and (ii) mid-tropospheric CH4 columns. \nThe XCH4 products have been retrieved from SCIAMACHY/ENVISAT and TANSO-FTS/GOSAT. The mid-tropospheric CH4 product has been retrieved from the IASI instruments onboard the Metop satellite series. The XCH4 products are available as Level 2 (L2) products (satellite orbit tracks) and as Level 3 (L3) product (gridded). The L2 products are available as individual sensor products (SCIAMACHY: WFMD and IMAP algorithms; GOSAT: OCFP, OCPR, SRFP and SRPR algorithms) and as a multi-sensor merged product (EMMA algorithm). The L3 XCH4 product is provided in OBS4MIPS format. The IASI products are available as L2 products generated with the NLIS algorithm.\nThis data set is updated on a yearly basis, with each update cycle adding (if required) a new data version for the entire period, up to one year behind real time.\nThis dataset is produced on behalf of C3S with the exception of the SCIAMACHY L2 products that were generated in the framework of the GHG-CCI project of the European Space Agency (ESA) Climate Change Initiative (CCI).\n\nVariables in the dataset/application are:\nColumn-average dry-air mole fraction of atmospheric methane (XCH4), Mid-tropospheric columns of atmospheric methane (CH4)",
         "extent": {
          "spatial": {
           "bbox": [
            [
             -180,
             -90,
             180,
             90
            ]
           ]
          },
          "temporal": {
           "interval": [
            [
             "2002-10-01T00:00:00Z",
             "2018-12-31T00:00:00Z"
            ]
           ]
          }
         },
         "id": "EO.ECMWF.DAT.METHANE_DATA_SATELLITE_SENSORS_2002_PRESENT",
         "keywords": [
          "Atmosphere (composition)",
          "Satellite observations",
          "Global",
          "Past",
          "Atmospheric conditions"
         ],
         "license": "proprietary",
         "links": [
          {
           "href": "https://hda.data.destination-earth.eu/stac/v2/collections/EO.ECMWF.DAT.METHANE_DATA_SATELLITE_SENSORS_2002_PRESENT/order",
           "method": "POST",
           "rel": "retrieve",
           "title": "Retrieve",
           "type": "application/geo+json"
          },
          {
           "href": "https://hda.data.destination-earth.eu/stac/v2/collections/EO.ECMWF.DAT.METHANE_DATA_SATELLITE_SENSORS_2002_PRESENT/queryables",
           "rel": "http://www.opengis.net/def/rel/ogc/1.0/queryables",
           "title": "Queryables",
           "type": "application/schema+json"
          },
          {
           "href": "https://hda.data.destination-earth.eu/stac/v2/collections/EO.ECMWF.DAT.METHANE_DATA_SATELLITE_SENSORS_2002_PRESENT/items",
           "rel": "items",
           "title": "Items",
           "type": "application/geo+json"
          },
          {
           "href": "https://hda.data.destination-earth.eu/stac/v2/collections/EO.ECMWF.DAT.METHANE_DATA_SATELLITE_SENSORS_2002_PRESENT",
           "rel": "self",
           "title": "EO.ECMWF.DAT.METHANE_DATA_SATELLITE_SENSORS_2002_PRESENT",
           "type": "application/json"
          },
          {
           "href": "https://object-store.os-api.cci2.ecmwf.int/cci2-prod-catalogue/licences/ghg-cci/ghg-cci_0911d58e24365e15589377902e562c6e9231290f75b14ddc3c7cb5fd09a265af.pdf",
           "rel": "license",
           "title": "GHG-CCI Licence",
           "type": "application/pdf"
          },
          {
           "href": "https://doi.org/10.24381/cds.b25419f8",
           "rel": "cite-as",
           "title": "Methane data from 2002 to present derived from satellite observations",
           "type": "text/html"
          }
         ],
         "providers": [
          {
           "name": "ECMWF",
           "roles": [
            "licensor",
            "producer",
            "processor"
           ],
           "url": "https://www.ecmwf.int/"
          }
         ],
         "published": "2023-08-28T15:11:18Z",
         "sci:citation": "Copernicus Climate Change Service, Climate Data Store, (2018): Methane data from 2002 to present derived from satellite observations. Copernicus Climate Change Service (C3S) Climate Data Store (CDS). DOI: 10.24381/cds.b25419f8 (Accessed on DD-MMM-YYYY)",
         "sci:doi": "10.24381/cds.b25419f8",
         "stac_extensions": [
          "https://stac-extensions.github.io/scientific/v1.0.0/schema.json",
          "https://stac-extensions.github.io/timestamps/v1.1.0/schema.json"
         ],
         "stac_version": "1.0.0",
         "summaries": {
          "federation:backends": [
           "cop_cds",
           "wekeo_ecmwf"
          ]
         },
         "title": "Methane data from 2002 to present derived from satellite observations",
         "type": "Collection",
         "updated": "2025-06-12T09:22:22Z"
        },
        {
         "assets": {
          "thumbnail": {
           "href": "https://object-store.os-api.cci2.ecmwf.int/cci2-prod-catalogue/resources/satellite-sea-ice-concentration/overview_28363b274694d1b6a0a126e7b99f596bb43edf03eeca84729d42b30be06ab6f5.png",
           "roles": [
            "thumbnail"
           ],
           "title": "overview",
           "type": "image/png"
          }
         },
         "created": "2024-05-30T07:56:04Z",
         "description": "This dataset provides daily gridded data of sea ice concentration for both hemispheres derived from satellite passive microwave brightness temperatures. Sea ice is an important component of our climate system and a sensitive indicator of climate change. Its presence or its retreat has a strong impact on air-sea interactions, the Earth’s energy budget as well as marine ecosystems. It is listed as an Essential Climate Variable by the Global Climate Observing System. Sea ice concentration is defined as the fraction of the ocean surface in a pixel or grid cell that is covered with sea ice. It is one of the parameters commonly used to characterise the sea-ice cover. Other sea ice parameters include sea ice thickness, sea ice edge, and sea ice type, also available in the Climate Data Store.",
         "extent": {
          "spatial": {
           "bbox": [
            [
             -180,
             -90,
             180,
             90
            ]
           ]
          },
          "temporal": {
           "interval": [
            [
             "2002-06-01T00:00:00Z",
             "2020-12-31T00:00:00Z"
            ]
           ]
          }
         },
         "id": "EO.ECMWF.DAT.SATELLITE_SEA_ICE_CONCENTRATION",
         "keywords": [
          "Sea ice"
         ],
         "license": "proprietary",
         "links": [
          {
           "href": "https://hda.data.destination-earth.eu/stac/v2/collections/EO.ECMWF.DAT.SATELLITE_SEA_ICE_CONCENTRATION/order",
           "method": "POST",
           "rel": "retrieve",
           "title": "Retrieve",
           "type": "application/geo+json"
          },
          {
           "href": "https://hda.data.destination-earth.eu/stac/v2/collections/EO.ECMWF.DAT.SATELLITE_SEA_ICE_CONCENTRATION/queryables",
           "rel": "http://www.opengis.net/def/rel/ogc/1.0/queryables",
           "title": "Queryables",
           "type": "application/schema+json"
          },
          {
           "href": "https://hda.data.destination-earth.eu/stac/v2/collections/EO.ECMWF.DAT.SATELLITE_SEA_ICE_CONCENTRATION/items",
           "rel": "items",
           "title": "Items",
           "type": "application/geo+json"
          },
          {
           "href": "https://hda.data.destination-earth.eu/stac/v2/collections/EO.ECMWF.DAT.SATELLITE_SEA_ICE_CONCENTRATION",
           "rel": "self",
           "title": "EO.ECMWF.DAT.SATELLITE_SEA_ICE_CONCENTRATION",
           "type": "application/json"
          },
          {
           "href": "https://object-store.os-api.cci2.ecmwf.int/cci2-prod-catalogue/licences/licence-to-use-copernicus-products/licence-to-use-copernicus-products_b4b9451f54cffa16ecef5c912c9cebd6979925a956e3fa677976e0cf198c2c18.pdf",
           "rel": "license",
           "title": "Licence to Use Copernicus Products",
           "type": "application/pdf"
          },
          {
           "href": "https://object-store.os-api.cci2.ecmwf.int/cci2-prod-catalogue/licences/eumetsat-osi-saf-sic/eumetsat-osi-saf-sic_a42ac878deec1c647030bed88b93a1e0cc7091168f47192ea38fa603233fa364.pdf",
           "rel": "license",
           "title": "EUMETSAT OSI SAF sea ice concentration licence",
           "type": "application/pdf"
          },
          {
           "href": "https://object-store.os-api.cci2.ecmwf.int/cci2-prod-catalogue/licences/ESA-CCI-sea-ice-concentration/ESA-CCI-sea-ice-concentration_8af13faa41f373e5ac56ec224eb0b2102a961cd68adedfdccd5c76e05e553c70.pdf",
           "rel": "license",
           "title": "ESA-CCI sea ice concentration product licence",
           "type": "application/pdf"
          },
          {
           "href": "https://confluence.ecmwf.int/x/jDffFw",
           "rel": "describedby",
           "title": "Sea Ice Concentration v3 OSI SAF: Product User's Manual (PUM)",
           "type": "application/pdf"
          },
          {
           "href": "https://doi.org/10.24381/cds.3cd8b812",
           "rel": "cite-as",
           "title": "Sea ice concentration daily gridded data from 1978 to present derived from satellite observations",
           "type": "text/html"
          },
          {
           "href": "https://doi.org/10.5285/f17f146a31b14dfd960cde0874236ee5",
           "rel": "cite-as",
           "title": "ESA Sea Ice Climate Change Initiative (Sea_Ice_cci): Sea Ice Concentration Climate Data Record from the AMSR-E and AMSR-2 instruments at 25km grid spacing, version 2.1",
           "type": "text/html"
          },
          {
           "href": "https://doi.org/10.15770/EUM_SAF_OSI_0013",
           "rel": "cite-as",
           "title": "EUMETSAT Ocean and Sea Ice Satellite Application Facility, Global sea ice concentration climate data record 1978-2020 (v3.0, 2022), OSI-450-a",
           "type": "text/html"
          },
          {
           "href": "https://doi.org/10.15770/EUM_SAF_OSI_2014",
           "rel": "cite-as",
           "title": "EUMETSAT Ocean and Sea Ice Satellite Application Facility, Global sea ice concentration interim climate data record 2021-onwards (v3.0, 2022), OSI-430-a",
           "type": "text/html"
          },
          {
           "href": "https://doi.org/10.15770/EUM_SAF_OSI_2015",
           "rel": "cite-as",
           "title": "EUMETSAT Ocean and Sea Ice Satellite Application Facility, Global sea ice concentration climate data record (AMSR) 2002-2020 (v3.0, 2022), OSI-458",
           "type": "text/html"
          }
         ],
         "providers": [
          {
           "name": "ECMWF",
           "roles": [
            "licensor",
            "producer",
            "processor"
           ],
           "url": "https://www.ecmwf.int/"
          }
         ],
         "published": "2024-05-30T07:56:04Z",
         "sci:citation": "Copernicus Climate Change Service (C3S) (2020): Sea ice concentration daily gridded data from 1978 to present derived from satellite observations. Copernicus Climate Change Service (C3S) Climate Data Store (CDS). DOI: 10.24381/cds.3cd8b812 (Accessed on DD-MMM-YYYY)",
         "sci:doi": "10.24381/cds.3cd8b812",
         "sci:publications": [
          {
           "citation": "Toudal Pedersen, L.; Dybkjær, G.; Eastwood, S.; Heygster, G.; Ivanova, N.; Kern, S.; Lavergne, T.; Saldo, R.; Sandven, S.; Sørensen, A.; Tonboe, R. (2017): ESA Sea Ice Climate Change Initiative (SeaIcecci): Sea Ice Concentration Climate Data Record from the AMSR-E and AMSR-2 instruments at 25km grid spacing, version 2.1. Centre for Environmental Data Analysis, 05 October 2017. doi:10.5285/f17f146a31b14dfd960cde0874236ee5. http://dx.doi.org/10.5285/f17f146a31b14dfd960cde0874236ee5",
           "doi": "10.5285/f17f146a31b14dfd960cde0874236ee5"
          },
          {
           "citation": "EUMETSAT Ocean and Sea Ice Satellite Application Facility, Global sea ice concentration climate data record 1978-2020 (v3.0, 2022), OSI-450-a, doi: 10.15770/EUM_SAF_OSI_0013, data (for [extracted period], [extracted domain],) extracted on [download date] from the Copernicus Climate Change Service Climate Data Store, https://cds.climate.copernicus.eu/datasets/satellite-sea-ice-concentration",
           "doi": "10.15770/EUM_SAF_OSI_0013"
          },
          {
           "citation": "EUMETSAT Ocean and Sea Ice Satellite Application Facility, Global sea ice concentration interim climate data record 2021-onwards (v3.0, 2022), OSI-430-a, doi: 10.15770/EUM_SAF_OSI_2014, data (for [extracted period], [extracted domain],) extracted on [download date] from the Copernicus Climate Change Service Climate Data Store, https://cds.climate.copernicus.eu/datasets/satellite-sea-ice-concentration",
           "doi": "10.15770/EUM_SAF_OSI_2014"
          },
          {
           "citation": "EUMETSAT Ocean and Sea Ice Satellite Application Facility, Global sea ice concentration climate data record (AMSR) 2002-2020 (v3.0, 2022), OSI-458, doi: 10.15770/EUM_SAF_OSI_0015, data (for [extracted period], [extracted domain],) extracted on [download date] from the Copernicus Climate Change Service Climate Data Store, https://cds.climate.copernicus.eu/cdsapp#!/dataset/satellite-sea-ice-concentration",
           "doi": "10.15770/EUM_SAF_OSI_0015"
          }
         ],
         "stac_extensions": [
          "https://stac-extensions.github.io/scientific/v1.0.0/schema.json",
          "https://stac-extensions.github.io/timestamps/v1.1.0/schema.json"
         ],
         "stac_version": "1.0.0",
         "summaries": {
          "federation:backends": [
           "cop_cds",
           "wekeo_ecmwf"
          ]
         },
         "title": "Sea ice concentration",
         "type": "Collection",
         "updated": "2025-06-12T09:22:22Z"
        },
        {
         "assets": {
          "thumbnail": {
           "href": "https://object-store.os-api.cci2.ecmwf.int/cci2-prod-catalogue/resources/satellite-sea-ice-edge-type/overview_4934af8d6960da3f56fb7e5cdf3c13dd5cc58cc70c6563e948778ad286a2bc89.png",
           "roles": [
            "thumbnail"
           ],
           "title": "overview",
           "type": "image/png"
          }
         },
         "created": "2024-05-30T07:56:04Z",
         "description": "This dataset provides daily gridded data of sea ice edge and sea ice type derived from brightness temperatures measured by satellite passive microwave radiometers. Sea ice is an important component of our climate system and a sensitive indicator of climate change. Its presence or its retreat has a strong impact on air-sea interactions, the Earth’s energy budget as well as marine ecosystems. It is recognized by the Global Climate Observing System as an Essential Climate Variable. Sea ice edge and type are some of the parameters used to characterise sea ice. Other parameters include sea ice concentration and sea ice thickness, also available in the Climate Data Store.",
         "extent": {
          "spatial": {
           "bbox": [
            [
             -180,
             -90,
             180,
             90
            ]
           ]
          },
          "temporal": {
           "interval": [
            [
             "1978-10-25T00:00:00Z",
             null
            ]
           ]
          }
         },
         "id": "EO.ECMWF.DAT.SATELLITE_SEA_ICE_EDGE_TYPE",
         "keywords": [
          "Sea ice"
         ],
         "license": "proprietary",
         "links": [
          {
           "href": "https://hda.data.destination-earth.eu/stac/v2/collections/EO.ECMWF.DAT.SATELLITE_SEA_ICE_EDGE_TYPE/order",
           "method": "POST",
           "rel": "retrieve",
           "title": "Retrieve",
           "type": "application/geo+json"
          },
          {
           "href": "https://hda.data.destination-earth.eu/stac/v2/collections/EO.ECMWF.DAT.SATELLITE_SEA_ICE_EDGE_TYPE/queryables",
           "rel": "http://www.opengis.net/def/rel/ogc/1.0/queryables",
           "title": "Queryables",
           "type": "application/schema+json"
          },
          {
           "href": "https://hda.data.destination-earth.eu/stac/v2/collections/EO.ECMWF.DAT.SATELLITE_SEA_ICE_EDGE_TYPE/items",
           "rel": "items",
           "title": "Items",
           "type": "application/geo+json"
          },
          {
           "href": "https://hda.data.destination-earth.eu/stac/v2/collections/EO.ECMWF.DAT.SATELLITE_SEA_ICE_EDGE_TYPE",
           "rel": "self",
           "title": "EO.ECMWF.DAT.SATELLITE_SEA_ICE_EDGE_TYPE",
           "type": "application/json"
          },
          {
           "href": "https://object-store.os-api.cci2.ecmwf.int/cci2-prod-catalogue/licences/licence-to-use-copernicus-products/licence-to-use-copernicus-products_b4b9451f54cffa16ecef5c912c9cebd6979925a956e3fa677976e0cf198c2c18.pdf",
           "rel": "license",
           "title": "Licence to Use Copernicus Products",
           "type": "application/pdf"
          },
          {
           "href": "https://doi.org/10.24381/cds.29c46d83",
           "rel": "cite-as",
           "title": "Sea ice edge and type daily gridded data from 1978 to present derived from satellite observations",
           "type": "text/html"
          }
         ],
         "providers": [
          {
           "name": "ECMWF",
           "roles": [
            "licensor",
            "producer",
            "processor"
           ],
           "url": "https://www.ecmwf.int/"
          }
         ],
         "published": "2024-05-30T07:56:04Z",
         "sci:citation": "## For sea-ice type v3.0:\nAaboe, S., Down, E.J., Sørensen, A., Lavergne, T., Eastwood, S. (2023): Sea-ice type climate data record 1978-present, v3.0. Copernicus Climate Change Service (C3S) Climate Data Store (CDS). DOI: 10.24381/cds.29c46d83 (Accessed on DD-MMM-YYYY).\n##For sea-ice edge v3.0:\nAaboe, S., Down, E.J., Sørensen, A., Lavergne, T., Eastwood, S. (2023): Sea-ice edge climate data record 1978-present, v3.0. Copernicus Climate Change Service (C3S) Climate Data Store (CDS). DOI: 10.24381/cds.29c46d83 (Accessed on DD-MMM-YYYY).\n##For sea-ice type v2.0:\nAaboe, S., Down, E.J., Sørensen, A., Lavergne, T., Eastwood, S. (2021): Sea-ice type climate data record Oct1978-Aug2023, v2.0. Copernicus Climate Change Service (C3S) Climate Data Store (CDS). DOI: 10.24381/cds.29c46d83 (Accessed on DD-MMM-YYYY).\n##For sea-ice edge v2.0:Aaboe, S., Down, E.J., Sørensen, A., Lavergne, T., Eastwood, S. (2021): Sea-ice edge climate data record Oct1978-Aug2023, v2.0. Copernicus Climate Change Service (C3S) Climate Data Store (CDS). DOI: 10.24381/cds.29c46d83 (Accessed on DD-MMM-YYYY).\n##For sea-ice type v1.0:\nAaboe, S., Down, E.J., Sørensen, A., Lavergne, T., Eastwood, S. (2018): Sea-ice type climate data record Jan1979-Sep2021, v1.0. Copernicus Climate Change Service (C3S) Climate Data Store (CDS). DOI: 10.24381/cds.29c46d83 (Accessed on DD-MMM-YYYY).\n##For sea-ice edge v1.0:\nAaboe, S., Down, E.J., Sørensen, A., Lavergne, T., Eastwood, S. (2018): Sea-ice edge climate data record Jan1979-Sep2021, v1.0. Copernicus Climate Change Service (C3S) Climate Data Store (CDS). DOI: 10.24381/cds.29c46d83 (Accessed on DD-MMM-YYYY).",
         "sci:doi": "10.24381/cds.29c46d83",
         "stac_extensions": [
          "https://stac-extensions.github.io/scientific/v1.0.0/schema.json",
          "https://stac-extensions.github.io/timestamps/v1.1.0/schema.json"
         ],
         "stac_version": "1.0.0",
         "summaries": {
          "federation:backends": [
           "cop_cds",
           "wekeo_ecmwf"
          ]
         },
         "title": "Sea ice edge and type",
         "type": "Collection",
         "updated": "2025-06-12T09:22:22Z"
        },
        {
         "assets": {
          "thumbnail": {
           "href": "https://object-store.os-api.cci2.ecmwf.int/cci2-prod-catalogue/resources/satellite-sea-ice-thickness/overview_e65139269cab3aa583cfaa665c47fbef633ab8fbff34e26b2a07df1144af3e50.png",
           "roles": [
            "thumbnail"
           ],
           "title": "overview",
           "type": "image/png"
          }
         },
         "created": "2024-05-30T07:56:04Z",
         "description": "This dataset provides monthly gridded data of sea ice thickness for the Arctic region based on satellite radar altimetry observations. Sea ice is an important component of our climate system and a sensitive indicator of climate change. Its presence or its retreat has a strong impact on air-sea interactions, the Earth’s energy budget as well as marine ecosystems. It is recognized by the Global Climate Observing System as an Essential Climate Variable. Sea ice thickness is one of the parameters commonly used to characterise sea ice, alongside sea ice concentration, sea ice edge, and sea ice type, also available in the Climate Data Store.",
         "extent": {
          "spatial": {
           "bbox": [
            [
             -180,
             -90,
             180,
             90
            ]
           ]
          },
          "temporal": {
           "interval": [
            [
             "2002-10-01T00:00:00Z",
             null
            ]
           ]
          }
         },
         "id": "EO.ECMWF.DAT.SATELLITE_SEA_ICE_THICKNESS",
         "keywords": [
          "Sea ice"
         ],
         "license": "proprietary",
         "links": [
          {
           "href": "https://hda.data.destination-earth.eu/stac/v2/collections/EO.ECMWF.DAT.SATELLITE_SEA_ICE_THICKNESS/order",
           "method": "POST",
           "rel": "retrieve",
           "title": "Retrieve",
           "type": "application/geo+json"
          },
          {
           "href": "https://hda.data.destination-earth.eu/stac/v2/collections/EO.ECMWF.DAT.SATELLITE_SEA_ICE_THICKNESS/queryables",
           "rel": "http://www.opengis.net/def/rel/ogc/1.0/queryables",
           "title": "Queryables",
           "type": "application/schema+json"
          },
          {
           "href": "https://hda.data.destination-earth.eu/stac/v2/collections/EO.ECMWF.DAT.SATELLITE_SEA_ICE_THICKNESS/items",
           "rel": "items",
           "title": "Items",
           "type": "application/geo+json"
          },
          {
           "href": "https://hda.data.destination-earth.eu/stac/v2/collections/EO.ECMWF.DAT.SATELLITE_SEA_ICE_THICKNESS",
           "rel": "self",
           "title": "EO.ECMWF.DAT.SATELLITE_SEA_ICE_THICKNESS",
           "type": "application/json"
          },
          {
           "href": "https://object-store.os-api.cci2.ecmwf.int/cci2-prod-catalogue/licences/licence-to-use-copernicus-products/licence-to-use-copernicus-products_b4b9451f54cffa16ecef5c912c9cebd6979925a956e3fa677976e0cf198c2c18.pdf",
           "rel": "license",
           "title": "Licence to Use Copernicus Products",
           "type": "application/pdf"
          },
          {
           "href": "https://doi.org/10.24381/cds.6679a99a",
           "rel": "cite-as",
           "title": "Sea ice thickness monthly gridded data for the Arctic from 2002 to present derived from satellite observations",
           "type": "text/html"
          }
         ],
         "providers": [
          {
           "name": "ECMWF",
           "roles": [
            "licensor",
            "producer",
            "processor"
           ],
           "url": "https://www.ecmwf.int/"
          }
         ],
         "published": "2024-05-30T07:56:04Z",
         "sci:citation": "Copernicus Climate Change Service, Climate Data Store, (2020): Sea ice thickness monthly gridded data for the Arctic from 2002 to present derived from satellite observations. Copernicus Climate Change Service (C3S) Climate Data Store (CDS). DOI: 10.24381/cds.6679a99a (Accessed on DD-MMM-YYYY)",
         "sci:doi": "10.24381/cds.6679a99a",
         "stac_extensions": [
          "https://stac-extensions.github.io/scientific/v1.0.0/schema.json",
          "https://stac-extensions.github.io/timestamps/v1.1.0/schema.json"
         ],
         "stac_version": "1.0.0",
         "summaries": {
          "federation:backends": [
           "cop_cds",
           "wekeo_ecmwf"
          ]
         },
         "title": "Sea ice thickness",
         "type": "Collection",
         "updated": "2025-06-12T09:22:22Z"
        },
        {
         "assets": {
          "thumbnail": {
           "href": "https://sentinels.copernicus.eu/documents/247904/3681412/Sentinel-2-Level-1C-Level-2A-TOA-full.png",
           "roles": [
            "thumbnail"
           ],
           "title": "TOA Level-1C image data (left) and associated Level-2A surface reflectance image data (right) generated using Sen2Cor processor",
           "type": "image/png"
          }
         },
         "created": "2023-08-11T18:04:28Z",
         "description": "The Sentinel-2 mission is a land monitoring constellation of two satellites that provide high resolution optical imagery and provide continuity for the current SPOT and Landsat missions. The mission provides a global coverage of the Earth's land surface every 10 days with one satellite and 5 days with 2 satellites, making the data of great use in on-going studies. The satellites are equipped with the state-of-the-art MSI (Multispectral Imager) instrument, that offers high-resolution optical imagery. Products are a compilation of elementary granules of fixed size, within a single orbit. A granule is the minimum indivisible partition of a product (containing all possible spectral bands).\nFor Level-1C and Level-2A, the granules, also called tiles, are 100x100km2 ortho-images in UTM/WGS84 projection. The UTM (Universal Transverse Mercator) system divides the Earth's surface into 60 zones. Each UTM zone has a vertical width of 6° of longitude and horizontal width of 8° of latitude. (see Figure 1). Tiles are approximately 600 MB in size. Tiles can be fully or partially covered by image data. Partially covered tiles correspond to those at the edge of the swath. Level-2A: Surface reflectances in cartographic geometry. This product is considered as the mission Analysis Ready Data (ARD), the product that can be used directly in downstream applications without the need for further processing. The Level-2A product contains: Bottom-Of-Atmosphere (BOA) reflectance orthoimage, Aerosol Optical Thickness (AOT) map, Water Vapour (WV) map, Scene Classification map and Quality Indicators data.",
         "extent": {
          "spatial": {
           "bbox": [
            [
             -180,
             -90,
             180,
             90
            ]
           ]
          },
          "temporal": {
           "interval": [
            [
             "2015-07-04T00:00:00Z",
             null
            ]
           ]
          }
         },
         "id": "EO.ESA.DAT.SENTINEL-2.MSI.L2A",
         "item_assets": {
          "thumbnail": {
           "description": "An averaged, decimated preview image in PNG format. Single polarisation products are represented with a grey scale image. Dual polarisation products are represented by a single composite colour image in RGB with the red channel (R) representing the  co-polarisation VV or HH), the green channel (G) represents the cross-polarisation (VH or HV) and the blue channel (B) represents the ratio of the cross an co-polarisations.",
           "roles": [
            "thumbnail"
           ],
           "title": "Preview Image",
           "type": "image/png"
          }
         },
         "keywords": [
          "ice extent mapping",
          "Flood mapping",
          "Sentinel",
          "lava flow mapping",
          "leaf area index",
          "snow cover monitoring",
          "Copernicus",
          "ESA",
          "Crop monitoring",
          "Glacier monitoring",
          "Level 2 Data",
          "land",
          "land cover",
          "Coastal zone monitoring",
          "Inland water monitoring",
          "MSI",
          "Burned area monitoring",
          "chlorophyll"
         ],
         "license": "proprietary",
         "links": [
          {
           "href": "https://hda.data.destination-earth.eu/stac/v2/collections/EO.ESA.DAT.SENTINEL-2.MSI.L2A/queryables",
           "rel": "http://www.opengis.net/def/rel/ogc/1.0/queryables",
           "title": "Queryables",
           "type": "application/schema+json"
          },
          {
           "href": "https://hda.data.destination-earth.eu/stac/v2/collections/EO.ESA.DAT.SENTINEL-2.MSI.L2A/items",
           "rel": "items",
           "title": "Items",
           "type": "application/geo+json"
          },
          {
           "href": "https://hda.data.destination-earth.eu/stac/v2/collections/EO.ESA.DAT.SENTINEL-2.MSI.L2A",
           "rel": "self",
           "title": "EO.ESA.DAT.SENTINEL-2.MSI.L2A",
           "type": "application/json"
          },
          {
           "href": "https://sentinel.esa.int/documents/247904/690755/Sentinel_Data_Legal_Notice",
           "rel": "license",
           "title": "Copernicus Sentinel data terms",
           "type": "application/pdf"
          }
         ],
         "providers": [
          {
           "name": "ESA",
           "roles": [
            "producer",
            "processor",
            "licensor"
           ],
           "url": "https://earth.esa.int"
          }
         ],
         "published": "2023-08-11T18:04:28Z",
         "sci:citation": "## For Sentinel Data:\n Copernicus Sentinel data [Year]\n##For modified or adapted Copernicus Sentinel Data:\n Contains modified Copernicus Sentinel data [Year]",
         "stac_extensions": [
          "https://stac-extensions.github.io/eo/v1.1.0/schema.json",
          "https://stac-extensions.github.io/processing/v1.2.0/schema.json",
          "https://stac-extensions.github.io/sar/v1.0.0/schema.json",
          "https://stac-extensions.github.io/sat/v1.0.0/schema.json",
          "https://stac-extensions.github.io/item-assets/v1.0.0/schema.json",
          "https://stac-extensions.github.io/scientific/v1.0.0/schema.json",
          "https://stac-extensions.github.io/timestamps/v1.1.0/schema.json"
         ],
         "stac_version": "1.0.0",
         "summaries": {
          "constellation": [
           "Sentinel-2"
          ],
          "eo:bands": [
           {
            "center_wavelength": "442.7 (S2B:442.2)",
            "common_name": "coastal",
            "description": "Coastal aerosol",
            "name": "B01"
           },
           {
            "center_wavelength": "492.4 (S2B:492.1)",
            "common_name": "blue",
            "description": "visible blue",
            "name": "B02"
           },
           {
            "center_wavelength": "559.8 (S2B:559.0)",
            "common_name": "green",
            "description": "visible green",
            "name": "B03"
           },
           {
            "center_wavelength": "664.6",
            "common_name": "red",
            "description": "visible red",
            "name": "B04"
           },
           {
            "center_wavelength": "704.1 (S2B:703.8)",
            "common_name": "rededge",
            "description": "Vegetation red edge",
            "name": "B05"
           },
           {
            "center_wavelength": "740.5 (S2B:739.1)",
            "common_name": "rededge",
            "description": "Vegetation red edge",
            "name": "B06"
           },
           {
            "center_wavelength": "782.8 (S2B:779.7)",
            "common_name": "rededge",
            "description": "Vegetation red edge",
            "name": "B07"
           },
           {
            "center_wavelength": "832.8 (S2B:832.9)",
            "common_name": "nir",
            "description": "near infrared",
            "name": "B08"
           },
           {
            "center_wavelength": "864.7 (S2B:864.0)",
            "common_name": "nir08",
            "description": "narrow nir infrared",
            "name": "B8A"
           },
           {
            "center_wavelength": "945.1 (S2B:943.2)",
            "description": "water vapour",
            "name": "B09"
           },
           {
            "center_wavelength": "1373.5 (S2B:1376.9)",
            "common_name": "cirrus",
            "description": "short-wave infrared cirrus",
            "name": "B10"
           },
           {
            "center_wavelength": "1613.7 (S2B:1610.4)",
            "common_name": "swir16",
            "description": "short-wave infrared",
            "name": "B11"
           },
           {
            "center_wavelength": "2202.4 (S2B: 2185.7)",
            "common_name": "swir22",
            "description": "short-wave infrared",
            "name": "B12"
           }
          ],
          "federation:backends": [
           "external_fdp",
           "creodias",
           "wekeo_main"
          ],
          "instruments": [
           "msi"
          ],
          "platform": [
           "Sentinel-2A",
           "Sentinel-2B"
          ],
          "processing:level": [
           "L2B"
          ],
          "s1:product_timeliness": [
           "NRT-8h",
           "Off-line"
          ]
         },
         "title": "Sentinel 2 MSI Level 2-A",
         "type": "Collection",
         "updated": "2025-04-25T11:33:49Z"
        },
        {
         "assets": {
          "thumbnail": {
           "href": "https://wekeo2-prod-data-access-config.s3.waw3-2.cloudferro.com/previews/EO_ESA_DAT_SENTINEL-3_OL_2_LFR___.jpg",
           "roles": [
            "thumbnail"
           ],
           "title": "Sentinel-3A OLCI land",
           "type": "image/jpeg"
          }
         },
         "created": "2023-08-11T18:04:28Z",
         "dedl:short_description": "OLCI (Ocean and Land Colour Instrument) Ocean Colour Geophysical Products. OLCI Land Level 2 product contains land and atmospheric geophysical products at full and reduced resolutions.",
         "description": "OLCI (Ocean and Land Colour Instrument) Ocean Colour Geophysical Products. OLCI Land Level 2 product contains land and atmospheric geophysical products at full and reduced resolutions. Each Land product provides as measurement data files: a) surface product as Global Vegetation Index (OGVI) and Terrestrial Chlorophyll Index (OTCI) b)atmosphere by-products as Integrated Water Vapour (IWV) column (this product also contains information for water pixels and is identical to that included in OL_2_WRR and OL_2_WFR) c) error estimates for all products.. All Sentinel-3 Short Time Critical (STC) products are available at pick-up point in less than 48 hours. All Sentinel-3 NRT products are available at pick-up point in less than 3h.  All Sentinel-3 Non Time Critical (NTC) products are available at pick-up point in less than 30 days. Sentinel-3 is part of a series of Sentinel satellites, under the umbrella of the EU Copernicus programme.",
         "extent": {
          "spatial": {
           "bbox": [
            [
             -180,
             -90,
             180,
             90
            ]
           ]
          },
          "temporal": {
           "interval": [
            [
             "2016-04-06T00:00:00Z",
             null
            ]
           ]
          }
         },
         "id": "EO.ESA.DAT.SENTINEL-3.OL_2_LFR___",
         "item_assets": {
          "thumbnail": {
           "description": "An averaged, decimated preview image in PNG format. Single polarisation products are represented with a grey scale image. Dual polarisation products are represented by a single composite colour image in RGB with the red channel (R) representing the  co-polarisation VV or HH), the green channel (G) represents the cross-polarisation (VH or HV) and the blue channel (B) represents the ratio of the cross an co-polarisations.",
           "roles": [
            "thumbnail"
           ],
           "title": "Preview Image",
           "type": "image/png"
          }
         },
         "keywords": [
          "Land",
          "Land Colour",
          "Level 2 Data"
         ],
         "license": "proprietary",
         "links": [
          {
           "href": "https://hda.data.destination-earth.eu/stac/v2/collections/EO.ESA.DAT.SENTINEL-3.OL_2_LFR___/queryables",
           "rel": "http://www.opengis.net/def/rel/ogc/1.0/queryables",
           "title": "Queryables",
           "type": "application/schema+json"
          },
          {
           "href": "https://hda.data.destination-earth.eu/stac/v2/collections/EO.ESA.DAT.SENTINEL-3.OL_2_LFR___/items",
           "rel": "items",
           "title": "Items",
           "type": "application/geo+json"
          },
          {
           "href": "https://hda.data.destination-earth.eu/stac/v2/collections/EO.ESA.DAT.SENTINEL-3.OL_2_LFR___",
           "rel": "self",
           "title": "EO.ESA.DAT.SENTINEL-3.OL_2_LFR___",
           "type": "application/json"
          },
          {
           "href": "https://sentinel.esa.int/documents/247904/690755/Sentinel_Data_Legal_Notice",
           "rel": "license",
           "title": "Copernicus Sentinel data terms",
           "type": "application/pdf"
          }
         ],
         "providers": [
          {
           "name": "ESA",
           "roles": [
            "producer",
            "processor",
            "licensor"
           ],
           "url": "https://earth.esa.int"
          }
         ],
         "published": "2023-08-11T18:04:28Z",
         "sci:citation": "## For Sentinel Data:\n Copernicus Sentinel data [Year]\n##For modified or adapted Copernicus Sentinel Data:\n Contains modified Copernicus Sentinel data [Year]",
         "stac_extensions": [
          "https://stac-extensions.github.io/eo/v1.1.0/schema.json",
          "https://stac-extensions.github.io/processing/v1.2.0/schema.json",
          "https://stac-extensions.github.io/item-assets/v1.0.0/schema.json",
          "https://stac-extensions.github.io/scientific/v1.0.0/schema.json",
          "https://stac-extensions.github.io/timestamps/v1.1.0/schema.json"
         ],
         "stac_version": "1.0.0",
         "summaries": {
          "constellation": [
           "Sentinel-3"
          ],
          "eo:bands": [
           {
            "Centre Wavelength": "413 nm",
            "description": "Yellow Substance and Detrital Pigments",
            "name": "O1"
           },
           {
            "Centre Wavelength": "443 nm",
            "description": "Chl Absorption Max. /Vegetation",
            "name": "O2"
           },
           {
            "Centre Wavelength": "490 nm",
            "description": "Chl, Other Pigments",
            "name": "O3"
           },
           {
            "Centre Wavelength": "510 nm",
            "description": "Chl, Sediment, Turbidity, Red tide",
            "name": "O4"
           },
           {
            "Centre Wavelength": "560 nm",
            "description": "Chlorophyll Reference",
            "name": "O5"
           },
           {
            "Centre Wavelength": "620 nm",
            "description": "Sediment Loading",
            "name": "O6"
           },
           {
            "Centre Wavelength": "665 nm",
            "description": "Chl, Sediment, Yellow Substance / Vegetation",
            "name": "O7"
           },
           {
            "Centre Wavelength": "681 nm",
            "description": "Chl Fluorescence Peak, Red Edge",
            "name": "O8"
           },
           {
            "Centre Wavelength": "709 nm",
            "description": "Chl Fluorescence Baseline",
            "name": "O9"
           },
           {
            "Centre Wavelength": "754 nm",
            "description": "O2 Absorption /Cloud/ Ocean Colour",
            "name": "O10"
           },
           {
            "Centre Wavelength": "761 nm",
            "description": "O2 Absorption Band/Aerosol Corr.",
            "name": "O11"
           },
           {
            "Centre Wavelength": "779 nm",
            "description": "Atmos. / Aerosol Corr.",
            "name": "O12"
           },
           {
            "Centre Wavelength": "865 nm",
            "description": "Aerosols, Clouds, Pixel Co-registration",
            "name": "O13"
           },
           {
            "Centre Wavelength": "885 nm",
            "description": "Water Vap. Absorption Ref.",
            "name": "O14"
           },
           {
            "Centre Wavelength": "900 nm",
            "description": "Water Vap. Absorption / Vegetation",
            "name": "O15"
           },
           {
            "Centre Wavelength": "1020 nm",
            "description": "Atmos. / Aerosol Corr.",
            "name": "O16"
           }
          ],
          "federation:backends": [
           "external_fdp",
           "creodias",
           "wekeo_main"
          ],
          "instruments": [
           "OLCI"
          ],
          "platform": [
           "Sentinel-3A",
           "Sentinel-3B"
          ],
          "processing:level": [
           "L1B"
          ],
          "s1:product_timeliness": [
           "NRT-3h",
           "STC-48h",
           "NTC-1m"
          ]
         },
         "title": "OLCI Land Colour Full Resolution - Sentinel-3",
         "type": "Collection",
         "updated": "2025-04-25T11:33:49Z"
        },
        {
         "assets": {
          "thumbnail": {
           "href": "https://wekeo2-prod-data-access-config.s3.waw3-2.cloudferro.com/previews/EO_ESA_DAT_SENTINEL-3_OL_2_LRR___.jpg",
           "roles": [
            "thumbnail"
           ],
           "title": "Sentinel-3A OLCI land",
           "type": "image/jpeg"
          }
         },
         "created": "2023-08-11T18:04:28Z",
         "description": "OLCI (Ocean and Land Colour Instrument) Ocean Colour Geophysical Products. Reduced Resolution: 1200m at nadir. OLCI Land Level 2 product contains land and atmospheric geophysical products at full and reduced resolutions. Each Land product provides as measurement data files: a) surface product as Global Vegetation Index (OGVI) and Terrestrial Chlorophyll Index (OTCI) b)atmosphere by-products as Integrated Water Vapour (IWV) column (this product also contains information for water pixels and is identical to that included in OL_2_WRR and OL_2_WFR) c) error estimates for all products.. All Sentinel-3 Short Time Critical (STC) products are available at pick-up point in less than 48 hours. All Sentinel-3 NRT products are available at pick-up point in less than 3h.  All Sentinel-3 Non Time Critical (NTC) products are available at pick-up point in less than 30 days. Sentinel-3 is part of a series of Sentinel satellites, under the umbrella of the EU Copernicus programme.",
         "extent": {
          "spatial": {
           "bbox": [
            [
             -180,
             -90,
             180,
             90
            ]
           ]
          },
          "temporal": {
           "interval": [
            [
             "2016-04-06T00:00:00Z",
             null
            ]
           ]
          }
         },
         "id": "EO.ESA.DAT.SENTINEL-3.OL_2_LRR___",
         "item_assets": {
          "thumbnail": {
           "description": "An averaged, decimated preview image in PNG format. Single polarisation products are represented with a grey scale image. Dual polarisation products are represented by a single composite colour image in RGB with the red channel (R) representing the  co-polarisation VV or HH), the green channel (G) represents the cross-polarisation (VH or HV) and the blue channel (B) represents the ratio of the cross an co-polarisations.",
           "roles": [
            "thumbnail"
           ],
           "title": "Preview Image",
           "type": "image/png"
          }
         },
         "keywords": [
          "Land",
          "Land Colour",
          "Level 2 Data"
         ],
         "license": "proprietary",
         "links": [
          {
           "href": "https://hda.data.destination-earth.eu/stac/v2/collections/EO.ESA.DAT.SENTINEL-3.OL_2_LRR___/queryables",
           "rel": "http://www.opengis.net/def/rel/ogc/1.0/queryables",
           "title": "Queryables",
           "type": "application/schema+json"
          },
          {
           "href": "https://hda.data.destination-earth.eu/stac/v2/collections/EO.ESA.DAT.SENTINEL-3.OL_2_LRR___/items",
           "rel": "items",
           "title": "Items",
           "type": "application/geo+json"
          },
          {
           "href": "https://hda.data.destination-earth.eu/stac/v2/collections/EO.ESA.DAT.SENTINEL-3.OL_2_LRR___",
           "rel": "self",
           "title": "EO.ESA.DAT.SENTINEL-3.OL_2_LRR___",
           "type": "application/json"
          },
          {
           "href": "https://sentinel.esa.int/documents/247904/690755/Sentinel_Data_Legal_Notice",
           "rel": "license",
           "title": "Copernicus Sentinel data terms",
           "type": "application/pdf"
          }
         ],
         "providers": [
          {
           "name": "ESA",
           "roles": [
            "producer",
            "processor",
            "licensor"
           ],
           "url": "https://earth.esa.int"
          }
         ],
         "published": "2023-08-11T18:04:28Z",
         "sci:citation": "## For Sentinel Data:\n Copernicus Sentinel data [Year]\n##For modified or adapted Copernicus Sentinel Data:\n Contains modified Copernicus Sentinel data [Year]",
         "stac_extensions": [
          "https://stac-extensions.github.io/eo/v1.1.0/schema.json",
          "https://stac-extensions.github.io/processing/v1.2.0/schema.json",
          "https://stac-extensions.github.io/item-assets/v1.0.0/schema.json",
          "https://stac-extensions.github.io/scientific/v1.0.0/schema.json",
          "https://stac-extensions.github.io/timestamps/v1.1.0/schema.json"
         ],
         "stac_version": "1.0.0",
         "summaries": {
          "constellation": [
           "Sentinel-3"
          ],
          "eo:bands": [
           {
            "Centre Wavelength": "413 nm",
            "description": "Yellow Substance and Detrital Pigments",
            "name": "O1"
           },
           {
            "Centre Wavelength": "443 nm",
            "description": "Chl Absorption Max. /Vegetation",
            "name": "O2"
           },
           {
            "Centre Wavelength": "490 nm",
            "description": "Chl, Other Pigments",
            "name": "O3"
           },
           {
            "Centre Wavelength": "510 nm",
            "description": "Chl, Sediment, Turbidity, Red tide",
            "name": "O4"
           },
           {
            "Centre Wavelength": "560 nm",
            "description": "Chlorophyll Reference",
            "name": "O5"
           },
           {
            "Centre Wavelength": "620 nm",
            "description": "Sediment Loading",
            "name": "O6"
           },
           {
            "Centre Wavelength": "665 nm",
            "description": "Chl, Sediment, Yellow Substance / Vegetation",
            "name": "O7"
           },
           {
            "Centre Wavelength": "681 nm",
            "description": "Chl Fluorescence Peak, Red Edge",
            "name": "O8"
           },
           {
            "Centre Wavelength": "709 nm",
            "description": "Chl Fluorescence Baseline",
            "name": "O9"
           },
           {
            "Centre Wavelength": "754 nm",
            "description": "O2 Absorption /Cloud/ Ocean Colour",
            "name": "O10"
           },
           {
            "Centre Wavelength": "761 nm",
            "description": "O2 Absorption Band/Aerosol Corr.",
            "name": "O11"
           },
           {
            "Centre Wavelength": "779 nm",
            "description": "Atmos. / Aerosol Corr.",
            "name": "O12"
           },
           {
            "Centre Wavelength": "865 nm",
            "description": "Aerosols, Clouds, Pixel Co-registration",
            "name": "O13"
           },
           {
            "Centre Wavelength": "885 nm",
            "description": "Water Vap. Absorption Ref.",
            "name": "O14"
           },
           {
            "Centre Wavelength": "900 nm",
            "description": "Water Vap. Absorption / Vegetation",
            "name": "O15"
           },
           {
            "Centre Wavelength": "1020 nm",
            "description": "Atmos. / Aerosol Corr.",
            "name": "O16"
           }
          ],
          "federation:backends": [
           "external_fdp",
           "creodias",
           "wekeo_main"
          ],
          "instruments": [
           "OLCI"
          ],
          "platform": [
           "Sentinel-3A",
           "Sentinel-3B"
          ],
          "processing:level": [
           "L1B"
          ],
          "s1:product_timeliness": [
           "NRT-3h",
           "STC-48h",
           "NTC-1m"
          ]
         },
         "title": "OLCI Land Colour Reduced Resolution - Sentinel-3",
         "type": "Collection",
         "updated": "2025-04-25T11:33:49Z"
        },
        {
         "assets": {
          "thumbnail": {
           "href": "https://navigator.eumetsat.int/preview/chl_OC4ME_20June2017.png",
           "roles": [
            "thumbnail"
           ],
           "title": "Sentinel-3A OLCI algal pigment concentration",
           "type": "image/png"
          }
         },
         "created": "2023-08-11T18:04:28Z",
         "dedl:short_description": "OLCI (Ocean and Land Colour Instrument) Ocean Colour Geophysical Products. Full Resolution: 300m at nadir.",
         "description": "OLCI (Ocean and Land Colour Instrument) Ocean Colour Geophysical Products. Full Resolution: 300m at nadir. All Sentinel-3 NRT products are available at pick-up point in less than 3h. Level 2 marine products include the following: * water-leaving reflectances in 16 bands, Oa**_reflectance (Baseline Atmospheric Correction (BAC) algorithm, bands: 400, 412, 442, 490, 510, 560, 620, 665, 674, 681, 709, 754, 779, 865, 885, 1024 nanometer (nm)); *algal pigment concentration in clear waters, chl_oc4me (BAC and maximum band ratio algorithm, log10 scaled); *algal pigment concentration in turbid waters, chl_nn (neural net algorithm, log10 scaled); *total suspended matter concentration, tsm_nn (neural net algorithm, log10 scaled); *diffuse attenuation coefficient Kd of downward irradiance at 490 nm, trsp (BAC and M07 algorithm, log10 scaled); *absorption coefficient at 443 nm of coloured detrital and dissolved organic matter, iop_nn (neural net algorithm, log10 scaled); *instantaneous photosynthetically active radiation, PAR (BAC and clear-sky ocean algorithm); *aerosol optical thickness T865 and aerosol Angstrom exponent A865, w_aer (BAC algorithm, A for bands 779 and 865 nm) *integrated water vapour column, iwv (1D-Var algorithm). The geophysical products are accompanied by error estimate products. Pixel classification, quality and science flags, as well as meteorological, geometry and geolocation data at tie points are provided.\n\n- All Sentinel-3 NRT products are available at pick-up point in less than 3h\n- All Sentinel-3 Non Time Critical (NTC) products are available at pick-up point in less than 30 days\nSentinel-3 is part of a series of Sentinel satellites, under the umbrella of the EU Copernicus programme.",
         "extent": {
          "spatial": {
           "bbox": [
            [
             -180,
             -90,
             180,
             90
            ]
           ]
          },
          "temporal": {
           "interval": [
            [
             "2017-11-01T00:00:00Z",
             null
            ]
           ]
          }
         },
         "id": "EO.EUM.DAT.SENTINEL-3.OL_2_WFR___",
         "item_assets": {
          "thumbnail": {
           "description": "An averaged, decimated preview image in PNG format. Single polarisation products are represented with a grey scale image. Dual polarisation products are represented by a single composite colour image in RGB with the red channel (R) representing the  co-polarisation VV or HH), the green channel (G) represents the cross-polarisation (VH or HV) and the blue channel (B) represents the ratio of the cross an co-polarisations.",
           "roles": [
            "thumbnail"
           ],
           "title": "Preview Image",
           "type": "image/png"
          }
         },
         "keywords": [
          "Ocean Colour",
          "Chlorophyll-a Concentration",
          "Ocean",
          "Water Quality",
          "Level 2 Data"
         ],
         "license": "proprietary",
         "links": [
          {
           "href": "https://hda.data.destination-earth.eu/stac/v2/collections/EO.EUM.DAT.SENTINEL-3.OL_2_WFR___/queryables",
           "rel": "http://www.opengis.net/def/rel/ogc/1.0/queryables",
           "title": "Queryables",
           "type": "application/schema+json"
          },
          {
           "href": "https://hda.data.destination-earth.eu/stac/v2/collections/EO.EUM.DAT.SENTINEL-3.OL_2_WFR___/items",
           "rel": "items",
           "title": "Items",
           "type": "application/geo+json"
          },
          {
           "href": "https://hda.data.destination-earth.eu/stac/v2/collections/EO.EUM.DAT.SENTINEL-3.OL_2_WFR___",
           "rel": "self",
           "title": "EO.EUM.DAT.SENTINEL-3.OL_2_WFR___",
           "type": "application/json"
          },
          {
           "href": "https://www.eumetsat.int/data-policy/eumetsat-data-policy.pdf",
           "rel": "license",
           "title": "EUMETSAT Data Policy",
           "type": "application/pdf"
          }
         ],
         "providers": [
          {
           "name": "EUMETSAT",
           "roles": [
            "producer",
            "processor",
            "licensor"
           ],
           "url": "https://www.eumetsat.int/"
          }
         ],
         "published": "2023-08-11T18:04:28Z",
         "stac_extensions": [
          "https://stac-extensions.github.io/eo/v1.1.0/schema.json",
          "https://stac-extensions.github.io/processing/v1.2.0/schema.json",
          "https://stac-extensions.github.io/item-assets/v1.0.0/schema.json",
          "https://stac-extensions.github.io/timestamps/v1.1.0/schema.json"
         ],
         "stac_version": "1.0.0",
         "summaries": {
          "constellation": [
           "Sentinel-3"
          ],
          "eo:bands": [
           {
            "Centre Wavelength": "413 nm",
            "description": "Yellow Substance and Detrital Pigments",
            "name": "O1"
           },
           {
            "Centre Wavelength": "443 nm",
            "description": "Chl Absorption Max. /Vegetation",
            "name": "O2"
           },
           {
            "Centre Wavelength": "490 nm",
            "description": "Chl, Other Pigments",
            "name": "O3"
           },
           {
            "Centre Wavelength": "510 nm",
            "description": "Chl, Sediment, Turbidity, Red tide",
            "name": "O4"
           },
           {
            "Centre Wavelength": "560 nm",
            "description": "Chlorophyll Reference",
            "name": "O5"
           },
           {
            "Centre Wavelength": "620 nm",
            "description": "Sediment Loading",
            "name": "O6"
           },
           {
            "Centre Wavelength": "665 nm",
            "description": "Chl, Sediment, Yellow Substance / Vegetation",
            "name": "O7"
           },
           {
            "Centre Wavelength": "681 nm",
            "description": "Chl Fluorescence Peak, Red Edge",
            "name": "O8"
           },
           {
            "Centre Wavelength": "709 nm",
            "description": "Chl Fluorescence Baseline",
            "name": "O9"
           },
           {
            "Centre Wavelength": "754 nm",
            "description": "O2 Absorption /Cloud/ Ocean Colour",
            "name": "O10"
           },
           {
            "Centre Wavelength": "761 nm",
            "description": "O2 Absorption Band/Aerosol Corr.",
            "name": "O11"
           },
           {
            "Centre Wavelength": "779 nm",
            "description": "Atmos. / Aerosol Corr.",
            "name": "O12"
           },
           {
            "Centre Wavelength": "865 nm",
            "description": "Aerosols, Clouds, Pixel Co-registration",
            "name": "O13"
           },
           {
            "Centre Wavelength": "885 nm",
            "description": "Water Vap. Absorption Ref.",
            "name": "O14"
           },
           {
            "Centre Wavelength": "900 nm",
            "description": "Water Vap. Absorption / Vegetation",
            "name": "O15"
           },
           {
            "Centre Wavelength": "1020 nm",
            "description": "Atmos. / Aerosol Corr.",
            "name": "O16"
           }
          ],
          "federation:backends": [
           "eumetsat",
           "external_fdp",
           "creodias",
           "wekeo_main"
          ],
          "instruments": [
           "OLCI"
          ],
          "platform": [
           "Sentinel-3A",
           "Sentinel-3B"
          ],
          "processing:level": [
           "L1B"
          ],
          "s1:product_timeliness": [
           "NRT-3h",
           "STC-48h",
           "NTC-1m"
          ]
         },
         "title": "OLCI Level 2 Ocean Colour Full Resolution - Sentinel-3",
         "type": "Collection",
         "updated": "2025-06-12T09:22:22Z"
        },
        {
         "assets": {
          "thumbnail": {
           "href": "https://navigator.eumetsat.int/preview/chl_OC4ME_20June2017.png",
           "roles": [
            "thumbnail"
           ],
           "title": "Sentinel-3A OLCI algal pigment concentration",
           "type": "image/png"
          }
         },
         "created": "2023-08-11T18:04:28Z",
         "dedl:short_description": "OLCI (Ocean and Land Colour Instrument) Ocean Colour Geophysical Products. Reduced Resolution: 1200m at nadir.",
         "description": "OLCI (Ocean and Land Colour Instrument) Ocean Colour Geophysical Products. Reduced Resolution: 1200m at nadir. Level 2 marine products include the following: * water-leaving reflectances in 16 bands, Oa**_reflectance (Baseline Atmospheric Correction (BAC) algorithm, bands: 400, 412, 442, 490, 510, 560, 620, 665, 674, 681, 709, 754, 779, 865, 885, 1024 nanometer (nm)); *algal pigment concentration in clear waters, chl_oc4me (BAC and maximum band ratio algorithm, log10 scaled); *algal pigment concentration in turbid waters, chl_nn (neural net algorithm, log10 scaled); *total suspended matter concentration, tsm_nn (neural net algorithm, log10 scaled); *diffuse attenuation coefficient Kd of downward irradiance at 490 nm, trsp (BAC and M07 algorithm, log10 scaled); *absorption coefficient at 443 nm of coloured detrital and dissolved organic matter, iop_nn (neural net algorithm, log10 scaled); *instantaneous photosynthetically active radiation, PAR (BAC and clear-sky ocean algorithm); *aerosol optical thickness T865 and aerosol Angstrom exponent A865, w_aer (BAC algorithm, A for bands 779 and 865 nm) *integrated water vapour column, iwv (1D-Var algorithm). The geophysical products are accompanied by error estimate products. Pixel classification, quality and science flags, as well as meteorological, geometry and geolocation data at tie points are provided. \n\n- All Sentinel-3 NRT products are available at pick-up point in less than 3h\n- All Sentinel-3 Non Time Critical (NTC) products are available at pick-up point in less than 30 days.\nSentinel-3 is part of a series of Sentinel satellites, under the umbrella of the EU Copernicus programme.",
         "extent": {
          "spatial": {
           "bbox": [
            [
             -180,
             -90,
             180,
             90
            ]
           ]
          },
          "temporal": {
           "interval": [
            [
             "2017-11-01T00:00:00Z",
             null
            ]
           ]
          }
         },
         "id": "EO.EUM.DAT.SENTINEL-3.OL_2_WRR___",
         "item_assets": {
          "thumbnail": {
           "description": "An averaged, decimated preview image in PNG format. Single polarisation products are represented with a grey scale image. Dual polarisation products are represented by a single composite colour image in RGB with the red channel (R) representing the  co-polarisation VV or HH), the green channel (G) represents the cross-polarisation (VH or HV) and the blue channel (B) represents the ratio of the cross an co-polarisations.",
           "roles": [
            "thumbnail"
           ],
           "title": "Preview Image",
           "type": "image/png"
          }
         },
         "keywords": [
          "Ocean Colour",
          "Chlorophyll-a Concentration",
          "Ocean",
          "Water Quality",
          "Level 2 Data"
         ],
         "license": "proprietary",
         "links": [
          {
           "href": "https://hda.data.destination-earth.eu/stac/v2/collections/EO.EUM.DAT.SENTINEL-3.OL_2_WRR___/queryables",
           "rel": "http://www.opengis.net/def/rel/ogc/1.0/queryables",
           "title": "Queryables",
           "type": "application/schema+json"
          },
          {
           "href": "https://hda.data.destination-earth.eu/stac/v2/collections/EO.EUM.DAT.SENTINEL-3.OL_2_WRR___/items",
           "rel": "items",
           "title": "Items",
           "type": "application/geo+json"
          },
          {
           "href": "https://hda.data.destination-earth.eu/stac/v2/collections/EO.EUM.DAT.SENTINEL-3.OL_2_WRR___",
           "rel": "self",
           "title": "EO.EUM.DAT.SENTINEL-3.OL_2_WRR___",
           "type": "application/json"
          },
          {
           "href": "https://www.eumetsat.int/data-policy/eumetsat-data-policy.pdf",
           "rel": "license",
           "title": "EUMETSAT Data Policy",
           "type": "application/pdf"
          }
         ],
         "providers": [
          {
           "name": "EUMETSAT",
           "roles": [
            "producer",
            "processor",
            "licensor"
           ],
           "url": "https://www.eumetsat.int/"
          }
         ],
         "published": "2023-08-11T18:04:28Z",
         "stac_extensions": [
          "https://stac-extensions.github.io/eo/v1.1.0/schema.json",
          "https://stac-extensions.github.io/processing/v1.2.0/schema.json",
          "https://stac-extensions.github.io/item-assets/v1.0.0/schema.json",
          "https://stac-extensions.github.io/timestamps/v1.1.0/schema.json"
         ],
         "stac_version": "1.0.0",
         "summaries": {
          "constellation": [
           "Sentinel-3"
          ],
          "eo:bands": [
           {
            "Centre Wavelength": "413 nm",
            "description": "Yellow Substance and Detrital Pigments",
            "name": "O1"
           },
           {
            "Centre Wavelength": "443 nm",
            "description": "Chl Absorption Max. /Vegetation",
            "name": "O2"
           },
           {
            "Centre Wavelength": "490 nm",
            "description": "Chl, Other Pigments",
            "name": "O3"
           },
           {
            "Centre Wavelength": "510 nm",
            "description": "Chl, Sediment, Turbidity, Red tide",
            "name": "O4"
           },
           {
            "Centre Wavelength": "560 nm",
            "description": "Chlorophyll Reference",
            "name": "O5"
           },
           {
            "Centre Wavelength": "620 nm",
            "description": "Sediment Loading",
            "name": "O6"
           },
           {
            "Centre Wavelength": "665 nm",
            "description": "Chl, Sediment, Yellow Substance / Vegetation",
            "name": "O7"
           },
           {
            "Centre Wavelength": "681 nm",
            "description": "Chl Fluorescence Peak, Red Edge",
            "name": "O8"
           },
           {
            "Centre Wavelength": "709 nm",
            "description": "Chl Fluorescence Baseline",
            "name": "O9"
           },
           {
            "Centre Wavelength": "754 nm",
            "description": "O2 Absorption /Cloud/ Ocean Colour",
            "name": "O10"
           },
           {
            "Centre Wavelength": "761 nm",
            "description": "O2 Absorption Band/Aerosol Corr.",
            "name": "O11"
           },
           {
            "Centre Wavelength": "779 nm",
            "description": "Atmos. / Aerosol Corr.",
            "name": "O12"
           },
           {
            "Centre Wavelength": "865 nm",
            "description": "Aerosols, Clouds, Pixel Co-registration",
            "name": "O13"
           },
           {
            "Centre Wavelength": "885 nm",
            "description": "Water Vap. Absorption Ref.",
            "name": "O14"
           },
           {
            "Centre Wavelength": "900 nm",
            "description": "Water Vap. Absorption / Vegetation",
            "name": "O15"
           },
           {
            "Centre Wavelength": "1020 nm",
            "description": "Atmos. / Aerosol Corr.",
            "name": "O16"
           }
          ],
          "federation:backends": [
           "eumetsat",
           "external_fdp",
           "creodias",
           "wekeo_main"
          ],
          "instruments": [
           "OLCI"
          ],
          "platform": [
           "Sentinel-3A",
           "Sentinel-3B"
          ],
          "processing:level": [
           "L1B"
          ],
          "s1:product_timeliness": [
           "NRT-3h",
           "STC-48h",
           "NTC-1m"
          ]
         },
         "title": "OLCI Level 2 Ocean Colour Reduced Resolution - Sentinel-3",
         "type": "Collection",
         "updated": "2025-06-12T09:22:22Z"
        },
        {
         "assets": {
          "thumbnail": {
           "href": "https://mdl-metadata.s3.waw3-1.cloudferro.com/metadata/thumbnails/GLOBAL_ANALYSISFORECAST_BGC_001_028.jpg",
           "roles": [
            "thumbnail"
           ],
           "title": "Global Ocean Biogeochemistry Analysis and Forecast thumbnail",
           "type": "image/jpeg"
          }
         },
         "created": "2024-06-12T13:48:59Z",
         "description": "The Operational Mercator Ocean biogeochemical global ocean analysis and forecast system  at 1/4 degree is providing 10 days of 3D global ocean forecasts updated weekly. The time series is aggregated in time, in order to reach a two full year’s time series sliding window. This product includes daily and monthly mean files of biogeochemical parameters (chlorophyll, nitrate, phosphate, silicate, dissolved oxygen, dissolved iron, primary production, phytoplankton, PH, and surface partial pressure of carbon dioxyde) over the global ocean. The global ocean output files are displayed with a 1/4 degree horizontal resolution with regular longitude/latitude equirectangular projection. 50 vertical levels are ranging from 0 to 5700 meters.\n\n* NEMO version (v3.6_STABLE)\n* Forcings: GLOBAL_ANALYSIS_FORECAST_PHYS_001_024 at daily frequency.                                                                           \n* Outputs mean fields are interpolated on a standard regular grid in NetCDF format.\n* Initial conditions: World Ocean Atlas 2013 for nitrate, phosphate, silicate and dissolved oxygen, GLODAPv2 for DIC and Alkalinity, and climatological model outputs for Iron and DOC \n* Quality/Accuracy/Calibration information: See the related [QuID](http://catalogue.marine.copernicus.eu/documents/QUID/CMEMS-GLO-QUID-001-028.pdf) \n\n**DOI (product):**   \nhttps://doi.org/10.48670/moi-00015",
         "extent": {
          "spatial": {
           "bbox": [
            [
             -180,
             -80,
             179.75,
             90
            ]
           ]
          },
          "temporal": {
           "interval": [
            [
             "2021-10-01T00:00:00Z",
             "2025-04-04T00:00:00Z"
            ]
           ]
          }
         },
         "id": "EO.MO.DAT.GLOBAL_ANALYSISFORECAST_BGC_001_028",
         "keywords": [
          "net-primary-production-of-biomass-expressed-as-carbon-per-unit-volume-in-sea-water",
          "level-4",
          "sea-water-ph-reported-on-total-scale",
          "weather-climate-and-seasonal-forecasting",
          "mole-concentration-of-dissolved-molecular-oxygen-in-sea-water",
          "marine-safety",
          "mole-concentration-of-nitrate-in-sea-water",
          "cell-thickness",
          "surface-partial-pressure-of-carbon-dioxide-in-sea-water",
          "marine-resources",
          "mole-concentration-of-silicate-in-sea-water",
          "near-real-time",
          "mole-concentration-of-dissolved-inorganic-carbon-in-sea-water",
          "sea-floor-depth-below-geoid",
          "mole-concentration-of-phytoplankton-expressed-as-carbon-in-sea-water",
          "global-ocean",
          "sea-water-alkalinity-expressed-as-mole-equivalent",
          "numerical-model",
          "forecast",
          "coastal-marine-environment",
          "oceanographic-geographical-features",
          "mole-concentration-of-phosphate-in-sea-water",
          "model-level-number-at-sea-floor",
          "mole-concentration-of-dissolved-iron-in-sea-water",
          "volume-attenuation-coefficient-of-downwelling-radiative-flux-in-sea-water",
          "satellite-chlorophyll",
          "mass-concentration-of-chlorophyll-a-in-sea-water"
         ],
         "license": "proprietary",
         "links": [
          {
           "href": "https://hda.data.destination-earth.eu/stac/v2/collections/EO.MO.DAT.GLOBAL_ANALYSISFORECAST_BGC_001_028/queryables",
           "rel": "http://www.opengis.net/def/rel/ogc/1.0/queryables",
           "title": "Queryables",
           "type": "application/schema+json"
          },
          {
           "href": "https://hda.data.destination-earth.eu/stac/v2/collections/EO.MO.DAT.GLOBAL_ANALYSISFORECAST_BGC_001_028/items",
           "rel": "items",
           "title": "Items",
           "type": "application/geo+json"
          },
          {
           "href": "https://hda.data.destination-earth.eu/stac/v2/collections/EO.MO.DAT.GLOBAL_ANALYSISFORECAST_BGC_001_028",
           "rel": "self",
           "title": "EO.MO.DAT.GLOBAL_ANALYSISFORECAST_BGC_001_028",
           "type": "application/json"
          },
          {
           "href": "https://marine.copernicus.eu/user-corner/service-commitments-and-licence",
           "rel": "license",
           "title": "Copernicus Marine Service Commitments and Licence",
           "type": "text/html"
          },
          {
           "href": "https://doi.org/10.48670/moi-00015",
           "rel": "cite-as",
           "title": "10.48670/moi-00015",
           "type": "text/html"
          },
          {
           "href": "https://data.marine.copernicus.eu/product/GLOBAL_ANALYSISFORECAST_BGC_001_028",
           "rel": "alternative",
           "title": "Product page",
           "type": "text/html"
          },
          {
           "href": "https://catalogue.marine.copernicus.eu/documents/QUID/CMEMS-GLO-QUID-001-028.pdf",
           "rel": "describedby",
           "title": "Quality Information Document",
           "type": "application/pdf"
          },
          {
           "href": "https://catalogue.marine.copernicus.eu/documents/PUM/CMEMS-GLO-PUM-001-028.pdf",
           "rel": "describedby",
           "title": "Product User Manual",
           "type": "application/pdf"
          },
          {
           "href": "https://catalogue.marine.copernicus.eu/documents/SQO/CMEMS-GLO-SQO-001-028.pdf",
           "rel": "describedby",
           "title": "Synthesis Quality Overview",
           "type": "application/pdf"
          }
         ],
         "providers": [
          {
           "name": "Mercator Océan International",
           "roles": [
            "producer"
           ]
          },
          {
           "name": "Copernicus Marine Service",
           "roles": [
            "processor"
           ],
           "url": "https://marine.copernicus.eu"
          }
         ],
         "published": "2024-06-12T13:48:59Z",
         "sci:citation": "Global Ocean Biogeochemistry Analysis and Forecast. E.U. Copernicus Marine Service Information (CMEMS). Marine Data Store (MDS). DOI: 10.48670/moi-00015 (Accessed on DD-MMM-YYYY)",
         "sci:doi": "10.48670/moi-00015",
         "stac_extensions": [
          "https://stac-extensions.github.io/scientific/v1.0.0/schema.json",
          "https://stac-extensions.github.io/contacts/v0.1.1/schema.json",
          "https://stac-extensions.github.io/processing/v1.2.0/schema.json",
          "https://stac-extensions.github.io/timestamps/v1.1.0/schema.json"
         ],
         "stac_version": "1.0.0",
         "summaries": {
          "allVariables": [
           "Mass concentration of chlorophyll a in sea water (CHL)",
           "Mole concentration of phytoplankton expressed as carbon in sea water (PHYC)",
           "Net primary production of biomass expressed as carbon per unit volume in sea water (PP)",
           "Mole concentration of nitrate in sea water (NO3)",
           "Mole concentration of phosphate in sea water (PO4)",
           "Mole concentration of silicate in sea water (SI)",
           "Mole concentration of dissolved iron in sea water (FE)",
           "Mole concentration of dissolved molecular oxygen in sea water (O2)",
           "Mole concentration of dissolved inorganic carbon in sea water (DIC)",
           "Sea water ph reported on total scale (pH)",
           "Surface partial pressure of carbon dioxide in sea water (spCO2)",
           "Sea water alkalinity expressed as mole equivalent (ALK)",
           "Volume attenuation coefficient of downwelling radiative flux in sea water (KD)",
           "Cell thickness",
           "Model level number at sea floor",
           "Sea floor depth below geoid"
          ],
          "areas": [
           "Global Ocean"
          ],
          "assimilatedData": [
           "Satellite Chlorophyll"
          ],
          "colors": [
           "Green Ocean"
          ],
          "communities": [
           "Conservation & biodiversity",
           "Climate & adaptation",
           "Policy & governance",
           "Science & innovation",
           "Marine food"
          ],
          "featureTypes": [
           "Grid"
          ],
          "federation:backends": [
           "cop_marine"
          ],
          "formats": [
           "NetCDF-4"
          ],
          "geoResolution": [
           {
            "column": {
             "magnitude": 0.25,
             "units": "degree"
            },
            "row": {
             "magnitude": 0.25,
             "units": "degree"
            }
           }
          ],
          "isStaging": [
           "false"
          ],
          "mainVariables": [
           "Plankton",
           "Nutrients",
           "Oxygen",
           "Carbonate system",
           "Optics"
          ],
          "processing:level": [
           "Level 4"
          ],
          "projection": [
           "Equirectangular"
          ],
          "rank": [
           "1200"
          ],
          "sources": [
           "Numerical models"
          ],
          "tempResolutions": [
           "Daily",
           "Monthly"
          ],
          "times": [
           "Future",
           "Present",
           "Past"
          ],
          "updateFrequencies": [
           {
            "daily": "Thursdays at 12:00 UTC; 15th day of month at 12:00 UTC",
            "monthly": null
           }
          ],
          "useCases": [
           {
            "href": "https://marine.copernicus.eu/services/use-cases/monitoring-coastal-waters-lisbon-area-portugal-support-eu-directive",
            "imageSrc": "https://marine.copernicus.eu/sites/default/files/styles/user_case_teaser/public/media/image/use_case/1st_Image.png?itok=0zc7qIdl",
            "title": "Monitoring coastal waters of the Lisbon Area (Portugal) in support of EU directive implementation"
           }
          ],
          "vertExtentMax": [
           "0"
          ],
          "vertExtentMin": [
           "-5500"
          ],
          "vertLevels": [
           "50"
          ]
         },
         "title": "Global Ocean Biogeochemistry Analysis and Forecast",
         "type": "Collection",
         "updated": "2025-04-08T07:25:50Z"
        },
        {
         "assets": {
          "thumbnail": {
           "href": "https://mdl-metadata.s3.waw3-1.cloudferro.com/metadata/thumbnails/GLOBAL_MULTIYEAR_BGC_001_033.jpg",
           "roles": [
            "thumbnail"
           ],
           "title": "Global ocean low and mid trophic levels biomass content hindcast thumbnail",
           "type": "image/jpeg"
          }
         },
         "created": "2024-06-12T13:48:59Z",
         "description": "The Low and Mid-Trophic Levels (LMTL) reanalysis for global ocean is produced at [CLS](https://www.cls.fr) on behalf of Global Ocean Marine Forecasting Center. It provides 2D fields of biomass content of zooplankton and six functional groups of micronekton. It uses the LMTL component of SEAPODYM dynamical population model (http://www.seapodym.eu). No data assimilation has been done. This product also contains forcing data: net primary production, euphotic depth, depth of each pelagic layers zooplankton and micronekton inhabit, average temperature and currents over pelagic layers.\n\n**Forcings sources:**\n* Ocean currents and temperature (CMEMS multiyear product)\n* Net Primary Production computed from chlorophyll a, Sea Surface Temperature and Photosynthetically Active Radiation observations (chlorophyll from CMEMS multiyear product, SST from NOAA NCEI AVHRR-only Reynolds, PAR from INTERIM) and relaxed by model outputs at high latitudes (CMEMS biogeochemistry multiyear product)\n\n**Vertical coverage:**\n* Epipelagic layer \n* Upper mesopelagic layer\n* Lower mesopelagic layer (max. 1000m)\n\n**DOI (product):**   \nhttps://doi.org/10.48670/moi-00020\n\n**References:**\n\n* Lehodey P., Murtugudde R., Senina I. (2010). Bridging the gap from ocean models to population dynamics of large marine predators: a model of mid-trophic functional groups. Progress in Oceanography, 84, p. 69-84.\n* Lehodey, P., Conchon, A., Senina, I., Domokos, R., Calmettes, B., Jouanno, J., Hernandez, O., Kloser, R. (2015) Optimization of a micronekton model with acoustic data. ICES Journal of Marine Science, 72(5), p. 1399-1412.\n* Conchon A. (2016). Modélisation du zooplancton et du micronecton marins. Thèse de Doctorat, Université de La Rochelle, 136 p.\n",
         "extent": {
          "spatial": {
           "bbox": [
            [
             -180,
             -80,
             179.9166717529297,
             89.91666412353516
            ]
           ]
          },
          "temporal": {
           "interval": [
            [
             "1998-01-01T00:00:00Z",
             "2023-12-31T23:00:00Z"
            ]
           ]
          }
         },
         "id": "EO.MO.DAT.GLOBAL_MULTIYEAR_BGC_001_033",
         "keywords": [
          "level-4",
          "euphotic-zone-depth",
          "mass-content-of-upper-mesopelagic-micronekton-expressed-as-wet-weight-in-sea-water",
          "mass-content-of-lower-mesopelagic-micronekton-expressed-as-wet-weight-in-sea-water",
          "weather-climate-and-seasonal-forecasting",
          "sea-water-potential-temperature-vertical-mean-over-pelagic-layer",
          "net-primary-productivity-of-biomass-expressed-as-carbon-in-sea-water",
          "marine-safety",
          "marine-resources",
          "invariant",
          "global-ocean",
          "eastward-sea-water-velocity-vertical-mean-over-pelagic-layer",
          "numerical-model",
          "mass-content-of-zooplankton-expressed-as-carbon-in-sea-water",
          "coastal-marine-environment",
          "northward-sea-water-velocity-vertical-mean-over-pelagic-layer",
          "mass-content-of-highly-migrant-lower-mesopelagic-micronekton-expressed-as-wet-weight-in-sea-water",
          "oceanographic-geographical-features",
          "sea-water-pelagic-layer-bottom-depth",
          "multi-year",
          "mass-content-of-epipelagic-micronekton-expressed-as-wet-weight-in-sea-water",
          "mass-content-of-migrant-upper-mesopelagic-micronekton-expressed-as-wet-weight-in-sea-water",
          "mass-content-of-migrant-lower-mesopelagic-micronekton-expressed-as-wet-weight-in-sea-water"
         ],
         "license": "proprietary",
         "links": [
          {
           "href": "https://hda.data.destination-earth.eu/stac/v2/collections/EO.MO.DAT.GLOBAL_MULTIYEAR_BGC_001_033/queryables",
           "rel": "http://www.opengis.net/def/rel/ogc/1.0/queryables",
           "title": "Queryables",
           "type": "application/schema+json"
          },
          {
           "href": "https://hda.data.destination-earth.eu/stac/v2/collections/EO.MO.DAT.GLOBAL_MULTIYEAR_BGC_001_033/items",
           "rel": "items",
           "title": "Items",
           "type": "application/geo+json"
          },
          {
           "href": "https://hda.data.destination-earth.eu/stac/v2/collections/EO.MO.DAT.GLOBAL_MULTIYEAR_BGC_001_033",
           "rel": "self",
           "title": "EO.MO.DAT.GLOBAL_MULTIYEAR_BGC_001_033",
           "type": "application/json"
          },
          {
           "href": "https://marine.copernicus.eu/user-corner/service-commitments-and-licence",
           "rel": "license",
           "title": "Copernicus Marine Service Commitments and Licence",
           "type": "text/html"
          },
          {
           "href": "https://doi.org/10.48670/moi-00020",
           "rel": "cite-as",
           "title": "10.48670/moi-00020",
           "type": "text/html"
          },
          {
           "href": "https://data.marine.copernicus.eu/product/GLOBAL_MULTIYEAR_BGC_001_033",
           "rel": "alternative",
           "title": "Product page",
           "type": "text/html"
          },
          {
           "href": "https://catalogue.marine.copernicus.eu/documents/QUID/CMEMS-GLO-QUID-001-033.pdf",
           "rel": "describedby",
           "title": "Quality Information Document",
           "type": "application/pdf"
          },
          {
           "href": "https://catalogue.marine.copernicus.eu/documents/PUM/CMEMS-GLO-PUM-001-033.pdf",
           "rel": "describedby",
           "title": "Product User Manual",
           "type": "application/pdf"
          },
          {
           "href": "https://catalogue.marine.copernicus.eu/documents/SQO/CMEMS-GLO-SQO-001-033.pdf",
           "rel": "describedby",
           "title": "Synthesis Quality Overview",
           "type": "application/pdf"
          }
         ],
         "providers": [
          {
           "name": "Mercator Océan International",
           "roles": [
            "producer"
           ]
          },
          {
           "name": "Copernicus Marine Service",
           "roles": [
            "processor"
           ],
           "url": "https://marine.copernicus.eu"
          }
         ],
         "published": "2024-06-12T13:48:59Z",
         "sci:citation": "Global ocean low and mid trophic levels biomass content hindcast. E.U. Copernicus Marine Service Information (CMEMS). Marine Data Store (MDS). DOI: 10.48670/moi-00020 (Accessed on DD-MMM-YYYY)",
         "sci:doi": "10.48670/moi-00020",
         "stac_extensions": [
          "https://stac-extensions.github.io/scientific/v1.0.0/schema.json",
          "https://stac-extensions.github.io/contacts/v0.1.1/schema.json",
          "https://stac-extensions.github.io/processing/v1.2.0/schema.json",
          "https://stac-extensions.github.io/timestamps/v1.1.0/schema.json"
         ],
         "stac_version": "1.0.0",
         "summaries": {
          "allVariables": [
           "Sea water potential temperature vertical mean over pelagic layer (T)",
           "Eastward sea water velocity vertical mean over pelagic layer (W)",
           "Northward sea water velocity vertical mean over pelagic layer (W)",
           "Mass content of epipelagic micronekton expressed as wet weight in sea water (MNKC)",
           "Mass content of upper mesopelagic micronekton expressed as wet weight in sea water (MNKC)",
           "Mass content of migrant upper mesopelagic micronekton expressed as wet weight in sea water (MNKC)",
           "Mass content of lower mesopelagic micronekton expressed as wet weight in sea water (MNKC)",
           "Mass content of migrant lower mesopelagic micronekton expressed as wet weight in sea water (MNKC)",
           "Mass content of highly migrant lower mesopelagic micronekton expressed as wet weight in sea water (MNKC)",
           "Net primary productivity of biomass expressed as carbon in sea water (PP)",
           "Mass content of zooplankton expressed as carbon in sea water (ZOOC)",
           "Euphotic zone depth (ZEU)",
           "Sea water pelagic layer bottom depth"
          ],
          "areas": [
           "Global Ocean"
          ],
          "colors": [
           "Green Ocean"
          ],
          "communities": [
           "Science & innovation"
          ],
          "directives": [
           "Marine Strategy Framework Directive (MSFD)",
           "Water Framework Directive (WFD)"
          ],
          "featureTypes": [
           "Grid"
          ],
          "federation:backends": [
           "cop_marine"
          ],
          "formats": [
           "NetCDF-4"
          ],
          "geoResolution": [
           {
            "column": {
             "magnitude": 0.083,
             "units": "degree"
            },
            "row": {
             "magnitude": 0.083,
             "units": "degree"
            }
           }
          ],
          "isStaging": [
           "false"
          ],
          "mainVariables": [
           "Temperature",
           "Velocity",
           "Nekton",
           "Plankton",
           "Optics"
          ],
          "processing:level": [
           "Level 4"
          ],
          "projection": [
           "Equirectangular"
          ],
          "rank": [
           "1701"
          ],
          "sources": [
           "Numerical models"
          ],
          "tempResolutions": [
           "Daily"
          ],
          "times": [
           "Past"
          ],
          "updateFrequencies": [
           {
            "annually": null
           }
          ],
          "useCases": [
           {
            "href": "https://marine.copernicus.eu/services/use-cases/modelled-prey-fields-predict-predator-foraging-success",
            "imageSrc": "https://marine.copernicus.eu/sites/default/files/styles/user_case_teaser/public/media/image/use_case/Fig%20-%20option%201.png?itok=RVktPCME",
            "title": "Modelled prey fields predict predator foraging success"
           },
           {
            "href": "https://marine.copernicus.eu/services/use-cases/tracking-whales-north-atlantic",
            "imageSrc": "https://marine.copernicus.eu/sites/default/files/styles/user_case_teaser/public/media/image/use_case/Bphx3_AzWhLab.jpg?itok=3g-Njo7a",
            "title": "Tracking whales in the North-Atlantic"
           },
           {
            "href": "https://marine.copernicus.eu/services/use-cases/early-warning-mediterranean-sea",
            "imageSrc": "https://marine.copernicus.eu/sites/default/files/styles/user_case_teaser/public/media/image/use_case/EarlyWarning.png?itok=9u1c-3sQ",
            "title": "Early warning in the Mediterranean Sea"
           }
          ],
          "vertExtentMax": [
           "0"
          ],
          "vertExtentMin": [
           "-1000"
          ],
          "vertLevels": [
           "3"
          ]
         },
         "title": "Global ocean low and mid trophic levels biomass content hindcast",
         "type": "Collection",
         "updated": "2025-04-08T07:25:50Z"
        },
        {
         "assets": {
          "thumbnail": {
           "href": "https://mdl-metadata.s3.waw3-1.cloudferro.com/metadata/thumbnails/MULTIOBS_GLO_BGC_NUTRIENTS_CARBON_PROFILES_MYNRT_015_009.jpg",
           "roles": [
            "thumbnail"
           ],
           "title": "Nutrient and carbon profiles vertical distribution thumbnail",
           "type": "image/jpeg"
          }
         },
         "created": "2024-06-12T13:48:59Z",
         "description": "This product consists of vertical profiles of the concentration of nutrients (nitrates, phosphates, and silicates) and carbonate system variables (total alkalinity, dissolved inorganic carbon, pH, and partial pressure of carbon dioxide), computed for each Argo float equipped with an oxygen sensor.\nThe method called CANYON (Carbonate system and Nutrients concentration from hYdrological properties and Oxygen using a Neural-network) is based on a neural network trained using high-quality nutrient data collected over the last 30 years (GLODAPv2 database, https://www.glodap.info/). The method is applied to each Argo float equipped with an oxygen sensor using as input the properties measured by the float (pressure, temperature, salinity, oxygen), and its date and position.\n\n**Product Citation:** Please refer to our Technical FAQ for citing products: http://marine.copernicus.eu/faq/cite-cmems-products-cmems-credit/?idpage=169.\n\n**DOI (product):**\nhttps://doi.org/10.48670/moi-00048\n\n**References:**\n\n* Sauzede R., H. C. Bittig, H. Claustre, O. Pasqueron de Fommervault, J.-P. Gattuso, L. Legendre and K. S. Johnson, 2017: Estimates of Water-Column Nutrient Concentrations and Carbonate System Parameters in the Global Ocean: A novel Approach Based on Neural Networks. Front. Mar. Sci. 4:128. doi: 10.3389/fmars.2017.00128.\n* Bittig H. C., T. Steinhoff, H. Claustre, B. Fiedler, N. L. Williams, R. Sauzède, A. Körtzinger and J.-P. Gattuso,2018: An Alternative to Static Climatologies: Robust Estimation of Open Ocean CO2 Variables and Nutrient Concentrations From T, S, and O2 Data Using Bayesian Neural Networks. Front. Mar. Sci. 5:328. doi: 10.3389/fmars.2018.00328.\n",
         "extent": {
          "spatial": {
           "bbox": [
            [
             -180,
             -90,
             180,
             90
            ]
           ]
          },
          "temporal": {
           "interval": [
            [
             "2002-09-01T00:00:00.000000Z",
             null
            ]
           ]
          }
         },
         "id": "EO.MO.DAT.MULTIOBS_GLO_BGC_NUTRIENTS_CARBON_PROFILES_MYNRT_015_009",
         "keywords": [
          "moles-of-silicate-per-unit-mass-in-sea-water",
          "global-ocean",
          "moles-of-phosphate-per-unit-mass-in-sea-water",
          "sea-water-ph-reported-on-total-scale",
          "sea-water-pressure",
          "moles-of-oxygen-per-unit-mass-in-sea-water",
          "marine-resources",
          "none",
          "in-situ-observation",
          "multi-year",
          "moles-of-nitrate-per-unit-mass-in-sea-water",
          "sea-water-temperature",
          "weather-climate-and-seasonal-forecasting",
          "coastal-marine-environment",
          "level-3",
          "marine-safety",
          "sea-water-salinity",
          "oceanographic-geographical-features"
         ],
         "license": "proprietary",
         "links": [
          {
           "href": "https://hda.data.destination-earth.eu/stac/v2/collections/EO.MO.DAT.MULTIOBS_GLO_BGC_NUTRIENTS_CARBON_PROFILES_MYNRT_015_009/queryables",
           "rel": "http://www.opengis.net/def/rel/ogc/1.0/queryables",
           "title": "Queryables",
           "type": "application/schema+json"
          },
          {
           "href": "https://hda.data.destination-earth.eu/stac/v2/collections/EO.MO.DAT.MULTIOBS_GLO_BGC_NUTRIENTS_CARBON_PROFILES_MYNRT_015_009/items",
           "rel": "items",
           "title": "Items",
           "type": "application/geo+json"
          },
          {
           "href": "https://hda.data.destination-earth.eu/stac/v2/collections/EO.MO.DAT.MULTIOBS_GLO_BGC_NUTRIENTS_CARBON_PROFILES_MYNRT_015_009",
           "rel": "self",
           "title": "EO.MO.DAT.MULTIOBS_GLO_BGC_NUTRIENTS_CARBON_PROFILES_MYNRT_015_009",
           "type": "application/json"
          },
          {
           "href": "https://marine.copernicus.eu/user-corner/service-commitments-and-licence",
           "rel": "license",
           "title": "Copernicus Marine Service Commitments and Licence",
           "type": "text/html"
          },
          {
           "href": "https://doi.org/10.48670/moi-00048",
           "rel": "cite-as",
           "title": "10.48670/moi-00048",
           "type": "text/html"
          },
          {
           "href": "https://data.marine.copernicus.eu/product/MULTIOBS_GLO_BGC_NUTRIENTS_CARBON_PROFILES_MYNRT_015_009",
           "rel": "alternative",
           "title": "Product page",
           "type": "text/html"
          },
          {
           "href": "https://catalogue.marine.copernicus.eu/documents/PUM/CMEMS-MOB-PUM-015-009.pdf",
           "rel": "describedby",
           "title": "Product User Manual",
           "type": "application/pdf"
          },
          {
           "href": "https://catalogue.marine.copernicus.eu/documents/QUID/CMEMS-MOB-QUID-015-009.pdf",
           "rel": "describedby",
           "title": "Quality Information Document",
           "type": "application/pdf"
          },
          {
           "href": "https://catalogue.marine.copernicus.eu/documents/SQO/CMEMS-MOB-SQO-015-009.pdf",
           "rel": "describedby",
           "title": "Synthesis Quality Overview",
           "type": "application/pdf"
          }
         ],
         "providers": [
          {
           "name": "LOV (France)",
           "roles": [
            "producer"
           ]
          },
          {
           "name": "Copernicus Marine Service",
           "roles": [
            "processor"
           ],
           "url": "https://marine.copernicus.eu"
          }
         ],
         "published": "2024-06-12T13:48:59Z",
         "sci:citation": "Nutrient and carbon profiles vertical distribution. E.U. Copernicus Marine Service Information (CMEMS). Marine Data Store (MDS). DOI: 10.48670/moi-00048 (Accessed on DD-MMM-YYYY)",
         "sci:doi": "10.48670/moi-00048",
         "stac_extensions": [
          "https://stac-extensions.github.io/scientific/v1.0.0/schema.json",
          "https://stac-extensions.github.io/contacts/v0.1.1/schema.json",
          "https://stac-extensions.github.io/projection/v2.0.0/schema.json",
          "https://stac-extensions.github.io/processing/v1.2.0/schema.json",
          "https://stac-extensions.github.io/timestamps/v1.1.0/schema.json"
         ],
         "stac_version": "1.0.0",
         "summaries": {
          "allVariables": [
           "Sea water temperature (T)",
           "Sea water salinity (S)",
           "Moles of nitrate per unit mass in sea water (NO3)",
           "Moles of phosphate per unit mass in sea water (PO4)",
           "Moles of silicate per unit mass in sea water (SI)",
           "Moles of oxygen per unit mass in sea water (O2)",
           "Sea water ph reported on total scale (pH)",
           "Sea water pressure"
          ],
          "areas": [
           "Global Ocean"
          ],
          "colors": [
           "Green Ocean",
           "Blue Ocean"
          ],
          "communities": [
           "Policy & governance",
           "Science & innovation",
           "Extremes, hazards & safety",
           "Coastal services"
          ],
          "featureTypes": [
           "Point",
           "Profile"
          ],
          "federation:backends": [
           "cop_marine"
          ],
          "formats": [
           "NetCDF-4"
          ],
          "isStaging": [
           "false"
          ],
          "mainVariables": [
           "Temperature",
           "Salinity",
           "Nutrients",
           "Oxygen",
           "Carbonate system"
          ],
          "processing:level": [
           "Level 3"
          ],
          "projection": [
           "WGS84 / Simple Mercator (EPSG:41001)"
          ],
          "rank": [
           "9260"
          ],
          "sources": [
           "In-situ observations"
          ],
          "tempResolutions": [
           "Instantaneous"
          ],
          "times": [
           "Past"
          ],
          "updateFrequencies": [
           {
            "annually": null
           }
          ],
          "vertExtentMax": [
           "0"
          ],
          "vertExtentMin": [
           "-6000"
          ]
         },
         "title": "Nutrient and carbon profiles vertical distribution",
         "type": "Collection",
         "updated": "2025-04-08T07:25:50Z"
        },
        {
         "assets": {
          "thumbnail": {
           "href": "https://mdl-metadata.s3.waw3-1.cloudferro.com/metadata/thumbnails/MULTIOBS_GLO_BIO_BGC_3D_REP_015_010.jpg",
           "roles": [
            "thumbnail"
           ],
           "title": "Global Ocean 3D Chlorophyll-a concentration, Particulate Backscattering coefficient and Particulate Organic Carbon thumbnail",
           "type": "image/jpeg"
          }
         },
         "created": "2024-06-12T13:48:59Z",
         "description": "This product consists of 3D fields of Particulate Organic Carbon (POC), Particulate Backscattering coefficient (bbp) and Chlorophyll-a concentration (Chla) at depth. The reprocessed product is provided at 0.25°x0.25° horizontal resolution, over 36 levels from the surface to 1000 m depth. \nA neural network method estimates both the vertical distribution of Chla concentration and of particulate backscattering coefficient (bbp), a bio-optical proxy for POC, from merged surface ocean color satellite measurements with hydrological properties and additional relevant drivers. \n\n**DOI (product):**\nhttps://doi.org/10.48670/moi-00046\n\n**Product Citation:** \nPlease refer to our Technical FAQ for citing products: http://marine.copernicus.eu/faq/cite-cmems-products-cmems-credit/?idpage=169.\n\n**References:**\n\n* Sauzede R., H. Claustre, J. Uitz, C. Jamet, G. Dall’Olmo, F. D’Ortenzio, B. Gentili, A. Poteau, and C. Schmechtig, 2016: A neural network-based method for merging ocean color and Argo data to extend surface bio-optical properties to depth: Retrieval of the particulate backscattering coefficient, J. Geophys. Res. Oceans, 121, doi:10.1002/2015JC011408.\n",
         "extent": {
          "spatial": {
           "bbox": [
            [
             -179.875,
             -82.125,
             179.875,
             89.875
            ]
           ]
          },
          "temporal": {
           "interval": [
            [
             "1998-01-07T00:00:00Z",
             "2022-12-28T00:00:00Z"
            ]
           ]
          }
         },
         "id": "EO.MO.DAT.MULTIOBS_GLO_BIO_BGC_3D_REP_015_010",
         "keywords": [
          "volume-backwards-scattering-coefficient-of-radiative-flux-in-sea-water-due-to-particles",
          "level-4",
          "global-ocean",
          "marine-resources",
          "none",
          "in-situ-observation",
          "satellite-observation",
          "multi-year",
          "coastal-marine-environment",
          "weather-climate-and-seasonal-forecasting",
          "mass-concentration-of-particulate-organic-matter-expressed-as-carbon-in-sea-water",
          "marine-safety",
          "oceanographic-geographical-features",
          "mass-concentration-of-chlorophyll-a-in-sea-water"
         ],
         "license": "proprietary",
         "links": [
          {
           "href": "https://hda.data.destination-earth.eu/stac/v2/collections/EO.MO.DAT.MULTIOBS_GLO_BIO_BGC_3D_REP_015_010/queryables",
           "rel": "http://www.opengis.net/def/rel/ogc/1.0/queryables",
           "title": "Queryables",
           "type": "application/schema+json"
          },
          {
           "href": "https://hda.data.destination-earth.eu/stac/v2/collections/EO.MO.DAT.MULTIOBS_GLO_BIO_BGC_3D_REP_015_010/items",
           "rel": "items",
           "title": "Items",
           "type": "application/geo+json"
          },
          {
           "href": "https://hda.data.destination-earth.eu/stac/v2/collections/EO.MO.DAT.MULTIOBS_GLO_BIO_BGC_3D_REP_015_010",
           "rel": "self",
           "title": "EO.MO.DAT.MULTIOBS_GLO_BIO_BGC_3D_REP_015_010",
           "type": "application/json"
          },
          {
           "href": "https://marine.copernicus.eu/user-corner/service-commitments-and-licence",
           "rel": "license",
           "title": "Copernicus Marine Service Commitments and Licence",
           "type": "text/html"
          },
          {
           "href": "https://doi.org/10.48670/moi-00046",
           "rel": "cite-as",
           "title": "10.48670/moi-00046",
           "type": "text/html"
          },
          {
           "href": "https://data.marine.copernicus.eu/product/MULTIOBS_GLO_BIO_BGC_3D_REP_015_010",
           "rel": "alternative",
           "title": "Product page",
           "type": "text/html"
          },
          {
           "href": "https://catalogue.marine.copernicus.eu/documents/PUM/CMEMS-MOB-PUM-015-010.pdf",
           "rel": "describedby",
           "title": "Product User Manual",
           "type": "application/pdf"
          },
          {
           "href": "https://catalogue.marine.copernicus.eu/documents/QUID/CMEMS-MOB-QUID-015-010.pdf",
           "rel": "describedby",
           "title": "Quality Information Document",
           "type": "application/pdf"
          },
          {
           "href": "https://catalogue.marine.copernicus.eu/documents/SQO/CMEMS-MOB-SQO-015-010.pdf",
           "rel": "describedby",
           "title": "Synthesis Quality Overview",
           "type": "application/pdf"
          }
         ],
         "providers": [
          {
           "name": "LOV (France)",
           "roles": [
            "producer"
           ]
          },
          {
           "name": "Copernicus Marine Service",
           "roles": [
            "processor"
           ],
           "url": "https://marine.copernicus.eu"
          }
         ],
         "published": "2024-06-12T13:48:59Z",
         "sci:citation": "Global Ocean 3D Chlorophyll-a concentration, Particulate Backscattering coefficient and Particulate Organic Carbon. E.U. Copernicus Marine Service Information (CMEMS). Marine Data Store (MDS). DOI: 10.48670/moi-00046 (Accessed on DD-MMM-YYYY)",
         "sci:doi": "10.48670/moi-00046",
         "stac_extensions": [
          "https://stac-extensions.github.io/scientific/v1.0.0/schema.json",
          "https://stac-extensions.github.io/contacts/v0.1.1/schema.json",
          "https://stac-extensions.github.io/projection/v2.0.0/schema.json",
          "https://stac-extensions.github.io/processing/v1.2.0/schema.json",
          "https://stac-extensions.github.io/timestamps/v1.1.0/schema.json"
         ],
         "stac_version": "1.0.0",
         "summaries": {
          "allVariables": [
           "Mass concentration of chlorophyll a in sea water (CHL)",
           "Mass concentration of particulate organic matter expressed as carbon in sea water (POC)",
           "Volume backwards scattering coefficient of radiative flux in sea water due to particles (BBP)"
          ],
          "areas": [
           "Global Ocean"
          ],
          "colors": [
           "Green Ocean"
          ],
          "communities": [
           "Conservation & biodiversity",
           "Climate & adaptation",
           "Policy & governance",
           "Science & innovation",
           "Marine food"
          ],
          "featureTypes": [
           "Grid"
          ],
          "federation:backends": [
           "cop_marine"
          ],
          "formats": [
           "NetCDF-4"
          ],
          "geoResolution": [
           {
            "column": {
             "magnitude": 0.25,
             "units": "degree"
            },
            "row": {
             "magnitude": 0.25,
             "units": "degree"
            }
           }
          ],
          "isStaging": [
           "false"
          ],
          "mainVariables": [
           "Plankton",
           "Organic carbon",
           "Optics"
          ],
          "processing:level": [
           "Level 4"
          ],
          "projection": [
           "WGS 84 / World Mercator (EPSG 3395)"
          ],
          "rank": [
           "9250"
          ],
          "sources": [
           "In-situ observations",
           "Satellite observations"
          ],
          "tempResolutions": [
           "Weekly",
           "Multi-yearly"
          ],
          "times": [
           "Past"
          ],
          "updateFrequencies": [
           {
            "annually": null
           }
          ],
          "vertExtentMax": [
           "0"
          ],
          "vertExtentMin": [
           "-1000"
          ],
          "vertLevels": [
           "36"
          ]
         },
         "title": "Global Ocean 3D Chlorophyll-a concentration, Particulate Backscattering coefficient and Particulate Organic Carbon",
         "type": "Collection",
         "updated": "2025-04-08T07:25:50Z"
        },
        {
         "assets": {
          "thumbnail": {
           "href": "https://mdl-metadata.s3.waw3-1.cloudferro.com/metadata/thumbnails/MULTIOBS_GLO_BIO_CARBON_SURFACE_MYNRT_015_008.jpg",
           "roles": [
            "thumbnail"
           ],
           "title": "Global Ocean Surface Carbon thumbnail",
           "type": "image/jpeg"
          }
         },
         "created": "2025-02-07T16:34:12Z",
         "description": "This product corresponds to a REP L4 time series of monthly global reconstructed surface ocean pCO2, air-sea fluxes of CO2, pH, total alkalinity, dissolved inorganic carbon, saturation state with respect to calcite and aragonite, and associated uncertainties on a 0.25° x 0.25° regular grid. The product is obtained from an ensemble-based forward feed neural network approach mapping situ data for surface ocean fugacity (SOCAT data base, Bakker et al.  2016, https://www.socat.info/) and sea surface salinity, temperature, sea surface height, chlorophyll a, mixed layer depth and atmospheric CO2 mole fraction. Sea-air flux fields are computed from the air-sea gradient of pCO2 and the dependence on wind speed of Wanninkhof (2014). Surface ocean pH on total scale, dissolved inorganic carbon, and saturation states are then computed from surface ocean pCO2 and reconstructed surface ocean alkalinity using the CO2sys speciation software.\n\n**Product Citation**: Please refer to our Technical FAQ for citing products: http://marine.copernicus.eu/faq/cite-cmems-products-cmems-credit/?idpage=169.\n\n**DOI (product):**\nhttps://doi.org/10.48670/moi-00047\n\n**References:**\n\n* Chau, T. T. T., Gehlen, M., and Chevallier, F.: A seamless ensemble-based reconstruction of surface ocean pCO2 and air–sea CO2 fluxes over the global coastal and open oceans, Biogeosciences, 19, 1087–1109, https://doi.org/10.5194/bg-19-1087-2022, 2022.\n",
         "extent": {
          "spatial": {
           "bbox": [
            [
             -179.875,
             -88.125,
             179.875,
             89.875
            ]
           ]
          },
          "temporal": {
           "interval": [
            [
             "1985-01-01T00:00:00Z",
             "2025-02-01T00:00:00Z"
            ]
           ]
          }
         },
         "id": "EO.MO.DAT.MULTIOBS_GLO_BIO_CARBON_SURFACE_MYNRT_015_008",
         "keywords": [
          "level-4",
          "surface-partial-pressure-of-carbon-dioxide-in-sea-water",
          "global-ocean",
          "sea-water-ph-reported-on-total-scale",
          "marine-resources",
          "none",
          "in-situ-observation",
          "surface-downward-mass-flux-of-carbon-dioxide-expressed-as-carbon",
          "multi-year",
          "weather-climate-and-seasonal-forecasting",
          "coastal-marine-environment",
          "marine-safety",
          "oceanographic-geographical-features"
         ],
         "license": "proprietary",
         "links": [
          {
           "href": "https://hda.data.destination-earth.eu/stac/v2/collections/EO.MO.DAT.MULTIOBS_GLO_BIO_CARBON_SURFACE_MYNRT_015_008/queryables",
           "rel": "http://www.opengis.net/def/rel/ogc/1.0/queryables",
           "title": "Queryables",
           "type": "application/schema+json"
          },
          {
           "href": "https://hda.data.destination-earth.eu/stac/v2/collections/EO.MO.DAT.MULTIOBS_GLO_BIO_CARBON_SURFACE_MYNRT_015_008/items",
           "rel": "items",
           "title": "Items",
           "type": "application/geo+json"
          },
          {
           "href": "https://hda.data.destination-earth.eu/stac/v2/collections/EO.MO.DAT.MULTIOBS_GLO_BIO_CARBON_SURFACE_MYNRT_015_008",
           "rel": "self",
           "title": "EO.MO.DAT.MULTIOBS_GLO_BIO_CARBON_SURFACE_MYNRT_015_008",
           "type": "application/json"
          },
          {
           "href": "https://marine.copernicus.eu/user-corner/service-commitments-and-licence",
           "rel": "license",
           "title": "Copernicus Marine Service Commitments and Licence",
           "type": "text/html"
          },
          {
           "href": "https://doi.org/10.48670/moi-00047",
           "rel": "cite-as",
           "title": "10.48670/moi-00047",
           "type": "text/html"
          },
          {
           "href": "https://data.marine.copernicus.eu/product/MULTIOBS_GLO_BIO_CARBON_SURFACE_MYNRT_015_008",
           "rel": "alternative",
           "title": "Product page",
           "type": "text/html"
          },
          {
           "href": "https://catalogue.marine.copernicus.eu/documents/PUM/CMEMS-MOB-PUM-015-008.pdf",
           "rel": "describedby",
           "title": "Product User Manual",
           "type": "application/pdf"
          },
          {
           "href": "https://catalogue.marine.copernicus.eu/documents/QUID/CMEMS-MOB-QUID-015-008.pdf",
           "rel": "describedby",
           "title": "Quality Information Document",
           "type": "application/pdf"
          },
          {
           "href": "https://catalogue.marine.copernicus.eu/documents/SQO/CMEMS-MOB-SQO-015-008.pdf",
           "rel": "describedby",
           "title": "Synthesis Quality Overview",
           "type": "application/pdf"
          }
         ],
         "providers": [
          {
           "name": "LSCE (France)",
           "roles": [
            "producer"
           ]
          },
          {
           "name": "Copernicus Marine Service",
           "roles": [
            "processor"
           ],
           "url": "https://marine.copernicus.eu"
          }
         ],
         "published": "2025-02-07T16:34:12Z",
         "sci:citation": "Surface ocean carbon fields. E.U. Copernicus Marine Service Information (CMEMS). Marine Data Store (MDS). DOI: 10.48670/moi-00047 (Accessed on DD-MMM-YYYY)",
         "sci:doi": "10.48670/moi-00047",
         "stac_extensions": [
          "https://stac-extensions.github.io/scientific/v1.0.0/schema.json",
          "https://stac-extensions.github.io/contacts/v0.1.1/schema.json",
          "https://stac-extensions.github.io/projection/v2.0.0/schema.json",
          "https://stac-extensions.github.io/processing/v1.2.0/schema.json",
          "https://stac-extensions.github.io/timestamps/v1.1.0/schema.json"
         ],
         "stac_version": "1.0.0",
         "summaries": {
          "allVariables": [
           "Sea water ph reported on total scale (pH)",
           "Surface partial pressure of carbon dioxide in sea water (spCO2)",
           "Surface downward mass flux of carbon dioxide expressed as carbon (fpCO2)"
          ],
          "areas": [
           "Global Ocean"
          ],
          "colors": [
           "Green Ocean"
          ],
          "communities": [
           "Conservation & biodiversity",
           "Climate & adaptation",
           "Science & innovation",
           "Marine food"
          ],
          "featureTypes": [
           "Grid"
          ],
          "federation:backends": [
           "cop_marine"
          ],
          "formats": [
           "NetCDF-4"
          ],
          "geoResolution": [
           {
            "column": {
             "magnitude": 1,
             "units": "degree"
            },
            "row": {
             "magnitude": 1,
             "units": "degree"
            }
           }
          ],
          "isStaging": [
           "false"
          ],
          "mainVariables": [
           "Carbonate system"
          ],
          "processing:level": [
           "Level 4"
          ],
          "projection": [
           "WGS 84 / World Mercator (EPSG 3395)"
          ],
          "rank": [
           "9250"
          ],
          "sources": [
           "In-situ observations"
          ],
          "tempResolutions": [
           "Monthly"
          ],
          "times": [
           "Past"
          ],
          "updateFrequencies": [
           {
            "annually": null
           }
          ],
          "vertExtentMax": [
           "0"
          ],
          "vertExtentMin": [
           "0"
          ]
         },
         "title": "Global Ocean Surface Carbon",
         "type": "Collection",
         "updated": "2025-04-08T07:25:50Z"
        },
        {
         "assets": {
          "thumbnail": {
           "href": "https://mdl-metadata.s3.waw3-1.cloudferro.com/metadata/thumbnails/OCEANCOLOUR_GLO_BGC_L3_MY_009_103.jpg",
           "roles": [
            "thumbnail"
           ],
           "title": "Global Ocean Colour (Copernicus-GlobColour), Bio-Geo-Chemical, L3 (daily) from Satellite Observations (1997-ongoing) thumbnail",
           "type": "image/jpeg"
          }
         },
         "created": "2024-06-12T13:48:59Z",
         "description": "For the **Global** Ocean **Satellite Observations**, ACRI-ST company (Sophia Antipolis, France) is providing **Bio-Geo-Chemical (BGC)** products based on the **Copernicus-GlobColour** processor.\n* Upstreams: SeaWiFS, MODIS, MERIS, VIIRS-SNPP & JPSS1, OLCI-S3A & S3B for the **\"multi\"** products, and S3A & S3B only for the **\"olci\"** products.\n* Variables: Chlorophyll-a (**CHL**), Phytoplankton Functional types and sizes (**PFT**), Suspended Matter (**SPM**), Secchi Transparency Depth (**ZSD**), Diffuse Attenuation (**KD490**), Particulate Backscattering (**BBP**), Absorption Coef. (**CDM**) and  Reflectance (**RRS**).\n\n* Temporal resolutions: **daily**.\n* Spatial resolutions: **4 km** and a finer resolution based on olci **300 meters** inputs.\n* Recent products are organized in datasets called Near Real Time (**NRT**) and long time-series (from 1997) in datasets called Multi-Years (**MY**).\n\nTo find the **Copernicus-GlobColour** products in the catalogue, use the search keyword **\"GlobColour\"**.\n\n**DOI (product):**   \nhttps://doi.org/10.48670/moi-00280",
         "extent": {
          "spatial": {
           "bbox": [
            [
             -179.99722290039062,
             -89.99722290039062,
             179.9972381591797,
             89.99722290039062
            ]
           ]
          },
          "temporal": {
           "interval": [
            [
             "1997-09-04T00:00:00Z",
             "2025-03-23T00:00:00Z"
            ]
           ]
          }
         },
         "id": "EO.MO.DAT.OCEANCOLOUR_GLO_BGC_L3_MY_009_103",
         "keywords": [
          "mass-concentration-of-dinophytes-expressed-as-chlorophyll-in-sea-water",
          "mass-concentration-of-greenalgae-and-prochlorophytes-expressed-as-chlorophyll-in-sea-water",
          "secchi-depth-of-sea-water",
          "weather-climate-and-seasonal-forecasting",
          "mass-concentration-of-diatoms-expressed-as-chlorophyll-in-sea-water",
          "marine-safety",
          "mass-concentration-of-prokaryotes-expressed-as-chlorophyll-in-sea-water",
          "volume-backwards-scattering-coefficient-of-radiative-flux-in-sea-water-due-to-particles",
          "mass-concentration-of-microphytoplankton-expressed-as-chlorophyll-in-sea-water",
          "marine-resources",
          "level-3",
          "volume-absorption-coefficient-of-radiative-flux-in-sea-water-due-to-dissolved-organic-matter-and-non-algal-particles",
          "mass-concentration-of-picophytoplankton-expressed-as-chlorophyll-in-sea-water",
          "global-ocean",
          "surface-ratio-of-upwelling-radiance-emerging-from-sea-water-to-downwelling-radiative-flux-in-air",
          "coastal-marine-environment",
          "mass-concentration-of-nanophytoplankton-expressed-as-chlorophyll-in-sea-water",
          "oceanographic-geographical-features",
          "mass-concentration-of-suspended-particulate-matter-in-sea-water",
          "mass-concentration-of-prochlorococcus-expressed-as-chlorophyll-in-sea-water",
          "mass-concentration-of-haptophytes-expressed-as-chlorophyll-in-sea-water",
          "multi-year",
          "satellite-observation",
          "volume-attenuation-coefficient-of-downwelling-radiative-flux-in-sea-water",
          "mass-concentration-of-chlorophyll-a-in-sea-water"
         ],
         "license": "proprietary",
         "links": [
          {
           "href": "https://hda.data.destination-earth.eu/stac/v2/collections/EO.MO.DAT.OCEANCOLOUR_GLO_BGC_L3_MY_009_103/queryables",
           "rel": "http://www.opengis.net/def/rel/ogc/1.0/queryables",
           "title": "Queryables",
           "type": "application/schema+json"
          },
          {
           "href": "https://hda.data.destination-earth.eu/stac/v2/collections/EO.MO.DAT.OCEANCOLOUR_GLO_BGC_L3_MY_009_103/items",
           "rel": "items",
           "title": "Items",
           "type": "application/geo+json"
          },
          {
           "href": "https://hda.data.destination-earth.eu/stac/v2/collections/EO.MO.DAT.OCEANCOLOUR_GLO_BGC_L3_MY_009_103",
           "rel": "self",
           "title": "EO.MO.DAT.OCEANCOLOUR_GLO_BGC_L3_MY_009_103",
           "type": "application/json"
          },
          {
           "href": "https://marine.copernicus.eu/user-corner/service-commitments-and-licence",
           "rel": "license",
           "title": "Copernicus Marine Service Commitments and Licence",
           "type": "text/html"
          },
          {
           "href": "https://doi.org/10.48670/moi-00280",
           "rel": "cite-as",
           "title": "10.48670/moi-00280",
           "type": "text/html"
          },
          {
           "href": "https://data.marine.copernicus.eu/product/OCEANCOLOUR_GLO_BGC_L3_MY_009_103",
           "rel": "alternative",
           "title": "Product page",
           "type": "text/html"
          },
          {
           "href": "https://catalogue.marine.copernicus.eu/documents/PUM/CMEMS-OC-PUM.pdf",
           "rel": "describedby",
           "title": "Product User Manual",
           "type": "application/pdf"
          },
          {
           "href": "https://catalogue.marine.copernicus.eu/documents/QUID/CMEMS-OC-QUID-009-101to104-111-113-116-118.pdf",
           "rel": "describedby",
           "title": "Quality Information Document",
           "type": "application/pdf"
          },
          {
           "href": "https://catalogue.marine.copernicus.eu/documents/SQO/CMEMS-OC-SQO-009-101to104-111-113-116-118.pdf",
           "rel": "describedby",
           "title": "Synthesis Quality Overview",
           "type": "application/pdf"
          }
         ],
         "providers": [
          {
           "name": "ACRI (France)",
           "roles": [
            "producer"
           ]
          },
          {
           "name": "Copernicus Marine Service",
           "roles": [
            "processor"
           ],
           "url": "https://marine.copernicus.eu"
          }
         ],
         "published": "2024-06-12T13:48:59Z",
         "sci:citation": "Global Ocean Colour (Copernicus-GlobColour), Bio-Geo-Chemical, L3 (daily) from Satellite Observations (1997-ongoing). E.U. Copernicus Marine Service Information (CMEMS). Marine Data Store (MDS). DOI: 10.48670/moi-00280 (Accessed on DD-MMM-YYYY)",
         "sci:doi": "10.48670/moi-00280",
         "stac_extensions": [
          "https://stac-extensions.github.io/scientific/v1.0.0/schema.json",
          "https://stac-extensions.github.io/contacts/v0.1.1/schema.json",
          "https://stac-extensions.github.io/projection/v2.0.0/schema.json",
          "https://stac-extensions.github.io/processing/v1.2.0/schema.json",
          "https://stac-extensions.github.io/timestamps/v1.1.0/schema.json"
         ],
         "stac_version": "1.0.0",
         "summaries": {
          "allVariables": [
           "Mass concentration of chlorophyll a in sea water (CHL)",
           "Mass concentration of diatoms expressed as chlorophyll in sea water (CHL)",
           "Mass concentration of picophytoplankton expressed as chlorophyll in sea water (CHL)",
           "Mass concentration of dinophytes expressed as chlorophyll in sea water (CHL)",
           "Mass concentration of haptophytes expressed as chlorophyll in sea water (CHL)",
           "Mass concentration of greenalgae and prochlorophytes expressed as chlorophyll in sea water (CHL)",
           "Mass concentration of prokaryotes expressed as chlorophyll in sea water (CHL)",
           "Mass concentration of prochlorococcus expressed as chlorophyll in sea water (CHL)",
           "Mass concentration of microphytoplankton expressed as chlorophyll in sea water (CHL)",
           "Mass concentration of nanophytoplankton expressed as chlorophyll in sea water (CHL)",
           "Volume attenuation coefficient of downwelling radiative flux in sea water (KD)",
           "Secchi depth of sea water (ZSD)",
           "Mass concentration of suspended particulate matter in sea water (SPM)",
           "Volume absorption coefficient of radiative flux in sea water due to dissolved organic matter and non algal particles (CDM)",
           "Volume backwards scattering coefficient of radiative flux in sea water due to particles (BBP)",
           "Surface ratio of upwelling radiance emerging from sea water to downwelling radiative flux in air"
          ],
          "areas": [
           "Global Ocean"
          ],
          "colors": [
           "Green Ocean"
          ],
          "communities": [
           "Conservation & biodiversity",
           "Climate & adaptation",
           "Policy & governance",
           "Science & innovation",
           "Marine food"
          ],
          "directives": [
           "Marine Strategy Framework Directive (MSFD)"
          ],
          "featureTypes": [
           "Grid"
          ],
          "federation:backends": [
           "cop_marine"
          ],
          "formats": [
           "NetCDF-4"
          ],
          "geoResolution": [
           {
            "column": {
             "magnitude": 4,
             "units": "km"
            },
            "row": {
             "magnitude": 4,
             "units": "km"
            }
           }
          ],
          "isStaging": [
           "false"
          ],
          "mainVariables": [
           "Plankton",
           "Optics"
          ],
          "processing:level": [
           "Level 3"
          ],
          "projection": [
           "WGS 84 / Plate Carree (EPSG:32662)"
          ],
          "rank": [
           "11101"
          ],
          "sources": [
           "Satellite observations"
          ],
          "tempResolutions": [
           "Daily"
          ],
          "times": [
           "Past"
          ],
          "updateFrequencies": [
           {
            "daily": "22:00"
           }
          ],
          "vertExtentMax": [
           "0"
          ],
          "vertExtentMin": [
           "0"
          ]
         },
         "title": "Global Ocean Colour (Copernicus-GlobColour), Bio-Geo-Chemical, L3 (daily) from Satellite Observations (1997-ongoing)",
         "type": "Collection",
         "updated": "2025-04-08T07:25:50Z"
        },
        {
         "assets": {
          "thumbnail": {
           "href": "https://mdl-metadata.s3.waw3-1.cloudferro.com/metadata/thumbnails/OCEANCOLOUR_GLO_BGC_L3_MY_009_107.jpg",
           "roles": [
            "thumbnail"
           ],
           "title": "Global Ocean Colour Plankton and Reflectances MY L3 daily observations thumbnail",
           "type": "image/jpeg"
          }
         },
         "created": "2024-06-12T13:48:59Z",
         "description": "For the **Global** Ocean **Satellite Observations**, Brockmann Consult (BC) is providing **Bio-Geo_Chemical (BGC)** products based on the ESA-CCI inputs.\n* Upstreams: SeaWiFS, MODIS, MERIS, VIIRS-SNPP, OLCI-S3A & OLCI-S3B for the **\"\"multi\"\"** products.\n* Variables: Chlorophyll-a (**CHL**), Phytoplankton Functional types and sizes (**PFT**) and  Reflectance (**RRS**).\n\n* Temporal resolutions: **daily**, **monthly**.\n* Spatial resolutions: **4 km** (multi).\n* Recent products are organized in datasets called Near Real Time (**NRT**) and long time-series (from 1997) in datasets called Multi-Years (**MY**).\n\nTo find these products in the catalogue, use the search keyword **\"\"ESA-CCI\"\"**.\n\n**DOI (product):**   \nhttps://doi.org/10.48670/moi-00282",
         "extent": {
          "spatial": {
           "bbox": [
            [
             -179.97916666666666,
             -89.97916666666666,
             179.97916666666663,
             89.97916666666667
            ]
           ]
          },
          "temporal": {
           "interval": [
            [
             "1997-09-04T00:00:00Z",
             "2024-12-31T00:00:00Z"
            ]
           ]
          }
         },
         "id": "EO.MO.DAT.OCEANCOLOUR_GLO_BGC_L3_MY_009_107",
         "keywords": [
          "mass-concentration-of-microphytoplankton-expressed-as-chlorophyll-in-sea-water",
          "mass-concentration-of-picophytoplankton-expressed-as-chlorophyll-in-sea-water",
          "global-ocean",
          "surface-ratio-of-upwelling-radiance-emerging-from-sea-water-to-downwelling-radiative-flux-in-air",
          "marine-resources",
          "multi-year",
          "satellite-observation",
          "coastal-marine-environment",
          "weather-climate-and-seasonal-forecasting",
          "level-3",
          "mass-concentration-of-nanophytoplankton-expressed-as-chlorophyll-in-sea-water",
          "marine-safety",
          "oceanographic-geographical-features",
          "mass-concentration-of-chlorophyll-a-in-sea-water"
         ],
         "license": "proprietary",
         "links": [
          {
           "href": "https://hda.data.destination-earth.eu/stac/v2/collections/EO.MO.DAT.OCEANCOLOUR_GLO_BGC_L3_MY_009_107/queryables",
           "rel": "http://www.opengis.net/def/rel/ogc/1.0/queryables",
           "title": "Queryables",
           "type": "application/schema+json"
          },
          {
           "href": "https://hda.data.destination-earth.eu/stac/v2/collections/EO.MO.DAT.OCEANCOLOUR_GLO_BGC_L3_MY_009_107/items",
           "rel": "items",
           "title": "Items",
           "type": "application/geo+json"
          },
          {
           "href": "https://hda.data.destination-earth.eu/stac/v2/collections/EO.MO.DAT.OCEANCOLOUR_GLO_BGC_L3_MY_009_107",
           "rel": "self",
           "title": "EO.MO.DAT.OCEANCOLOUR_GLO_BGC_L3_MY_009_107",
           "type": "application/json"
          },
          {
           "href": "https://marine.copernicus.eu/user-corner/service-commitments-and-licence",
           "rel": "license",
           "title": "Copernicus Marine Service Commitments and Licence",
           "type": "text/html"
          },
          {
           "href": "https://doi.org/10.48670/moi-00282",
           "rel": "cite-as",
           "title": "10.48670/moi-00282",
           "type": "text/html"
          },
          {
           "href": "https://data.marine.copernicus.eu/product/OCEANCOLOUR_GLO_BGC_L3_MY_009_107",
           "rel": "alternative",
           "title": "Product page",
           "type": "text/html"
          },
          {
           "href": "https://catalogue.marine.copernicus.eu/documents/PUM/CMEMS-OC-PUM.pdf",
           "rel": "describedby",
           "title": "Product User Manual",
           "type": "application/pdf"
          },
          {
           "href": "https://catalogue.marine.copernicus.eu/documents/QUID/CMEMS-OC-QUID-009-107to108.pdf",
           "rel": "describedby",
           "title": "Quality Information Document",
           "type": "application/pdf"
          },
          {
           "href": "https://catalogue.marine.copernicus.eu/documents/SQO/CMEMS-OC-SQO-009-107to108.pdf",
           "rel": "describedby",
           "title": "Synthesis Quality Overview",
           "type": "application/pdf"
          }
         ],
         "providers": [
          {
           "name": "BC (Germany)",
           "roles": [
            "producer"
           ]
          },
          {
           "name": "Copernicus Marine Service",
           "roles": [
            "processor"
           ],
           "url": "https://marine.copernicus.eu"
          }
         ],
         "published": "2024-06-12T13:48:59Z",
         "sci:citation": "Global Ocean Colour Plankton and Reflectances MY L3 daily observations. E.U. Copernicus Marine Service Information (CMEMS). Marine Data Store (MDS). DOI: 10.48670/moi-00282 (Accessed on DD-MMM-YYYY)",
         "sci:doi": "10.48670/moi-00282",
         "stac_extensions": [
          "https://stac-extensions.github.io/scientific/v1.0.0/schema.json",
          "https://stac-extensions.github.io/contacts/v0.1.1/schema.json",
          "https://stac-extensions.github.io/projection/v2.0.0/schema.json",
          "https://stac-extensions.github.io/processing/v1.2.0/schema.json",
          "https://stac-extensions.github.io/timestamps/v1.1.0/schema.json"
         ],
         "stac_version": "1.0.0",
         "summaries": {
          "allVariables": [
           "Mass concentration of chlorophyll a in sea water (CHL)",
           "Mass concentration of picophytoplankton expressed as chlorophyll in sea water (CHL)",
           "Mass concentration of microphytoplankton expressed as chlorophyll in sea water (CHL)",
           "Mass concentration of nanophytoplankton expressed as chlorophyll in sea water (CHL)",
           "Surface ratio of upwelling radiance emerging from sea water to downwelling radiative flux in air"
          ],
          "areas": [
           "Global Ocean"
          ],
          "colors": [
           "Green Ocean"
          ],
          "communities": [
           "Conservation & biodiversity",
           "Climate & adaptation",
           "Policy & governance",
           "Science & innovation",
           "Marine food"
          ],
          "directives": [
           "Marine Strategy Framework Directive (MSFD)"
          ],
          "featureTypes": [
           "Grid"
          ],
          "federation:backends": [
           "cop_marine"
          ],
          "formats": [
           "NetCDF-4"
          ],
          "geoResolution": [
           {
            "column": {
             "magnitude": 4,
             "units": "km"
            },
            "row": {
             "magnitude": 4,
             "units": "km"
            }
           }
          ],
          "isStaging": [
           "false"
          ],
          "mainVariables": [
           "Plankton"
          ],
          "processing:level": [
           "Level 3"
          ],
          "projection": [
           "WGS 84 / Plate Carree (EPSG:32662)"
          ],
          "rank": [
           "11101"
          ],
          "sources": [
           "Satellite observations"
          ],
          "tempResolutions": [
           "Daily"
          ],
          "times": [
           "Past"
          ],
          "updateFrequencies": [
           {
            "irregular": null
           }
          ],
          "vertExtentMax": [
           "0"
          ],
          "vertExtentMin": [
           "0"
          ]
         },
         "title": "Global Ocean Colour Plankton and Reflectances MY L3 daily observations",
         "type": "Collection",
         "updated": "2025-04-08T07:25:50Z"
        },
        {
         "assets": {
          "thumbnail": {
           "href": "https://mdl-metadata.s3.waw3-1.cloudferro.com/metadata/thumbnails/OCEANCOLOUR_GLO_BGC_L3_NRT_009_101.jpg",
           "roles": [
            "thumbnail"
           ],
           "title": "Global Ocean Colour (Copernicus-GlobColour), Bio-Geo-Chemical, L3 (daily) from Satellite Observations (Near Real Time) thumbnail",
           "type": "image/jpeg"
          }
         },
         "created": "2024-06-12T13:48:59Z",
         "description": "For the **Global** Ocean **Satellite Observations**, ACRI-ST company (Sophia Antipolis, France) is providing **Bio-Geo-Chemical (BGC)** products based on the **Copernicus-GlobColour** processor.\n* Upstreams: SeaWiFS, MODIS, MERIS, VIIRS-SNPP & JPSS1, OLCI-S3A & S3B for the **\"multi\"** products, and S3A & S3B only for the **\"olci\"** products.\n* Variables: Chlorophyll-a (**CHL**), Phytoplankton Functional types and sizes (**PFT**), Suspended Matter (**SPM**), Secchi Transparency Depth (**ZSD**), Diffuse Attenuation (**KD490**), Particulate Backscattering (**BBP**), Absorption Coef. (**CDM**) and  Reflectance (**RRS**).\n\n* Temporal resolutions: **daily**\n* Spatial resolutions: **4 km** and a finer resolution based on olci **300 meters** inputs.\n* Recent products are organized in datasets called Near Real Time (**NRT**) and long time-series (from 1997) in datasets called Multi-Years (**MY**).\n\nTo find the **Copernicus-GlobColour** products in the catalogue, use the search keyword **\"GlobColour\"**.\n\n**DOI (product):**   \nhttps://doi.org/10.48670/moi-00278",
         "extent": {
          "spatial": {
           "bbox": [
            [
             -179.99722290039062,
             -89.99722290039062,
             179.9972381591797,
             89.99722290039062
            ]
           ]
          },
          "temporal": {
           "interval": [
            [
             "2023-04-25T00:00:00Z",
             "2025-03-30T00:00:00Z"
            ]
           ]
          }
         },
         "id": "EO.MO.DAT.OCEANCOLOUR_GLO_BGC_L3_NRT_009_101",
         "keywords": [
          "mass-concentration-of-dinophytes-expressed-as-chlorophyll-in-sea-water",
          "mass-concentration-of-greenalgae-and-prochlorophytes-expressed-as-chlorophyll-in-sea-water",
          "secchi-depth-of-sea-water",
          "weather-climate-and-seasonal-forecasting",
          "mass-concentration-of-diatoms-expressed-as-chlorophyll-in-sea-water",
          "marine-safety",
          "mass-concentration-of-prokaryotes-expressed-as-chlorophyll-in-sea-water",
          "volume-backwards-scattering-coefficient-of-radiative-flux-in-sea-water-due-to-particles",
          "mass-concentration-of-microphytoplankton-expressed-as-chlorophyll-in-sea-water",
          "marine-resources",
          "level-3",
          "near-real-time",
          "volume-absorption-coefficient-of-radiative-flux-in-sea-water-due-to-dissolved-organic-matter-and-non-algal-particles",
          "mass-concentration-of-picophytoplankton-expressed-as-chlorophyll-in-sea-water",
          "global-ocean",
          "surface-ratio-of-upwelling-radiance-emerging-from-sea-water-to-downwelling-radiative-flux-in-air",
          "coastal-marine-environment",
          "mass-concentration-of-nanophytoplankton-expressed-as-chlorophyll-in-sea-water",
          "oceanographic-geographical-features",
          "mass-concentration-of-suspended-particulate-matter-in-sea-water",
          "mass-concentration-of-prochlorococcus-expressed-as-chlorophyll-in-sea-water",
          "mass-concentration-of-haptophytes-expressed-as-chlorophyll-in-sea-water",
          "satellite-observation",
          "volume-attenuation-coefficient-of-downwelling-radiative-flux-in-sea-water",
          "mass-concentration-of-chlorophyll-a-in-sea-water"
         ],
         "license": "proprietary",
         "links": [
          {
           "href": "https://hda.data.destination-earth.eu/stac/v2/collections/EO.MO.DAT.OCEANCOLOUR_GLO_BGC_L3_NRT_009_101/queryables",
           "rel": "http://www.opengis.net/def/rel/ogc/1.0/queryables",
           "title": "Queryables",
           "type": "application/schema+json"
          },
          {
           "href": "https://hda.data.destination-earth.eu/stac/v2/collections/EO.MO.DAT.OCEANCOLOUR_GLO_BGC_L3_NRT_009_101/items",
           "rel": "items",
           "title": "Items",
           "type": "application/geo+json"
          },
          {
           "href": "https://hda.data.destination-earth.eu/stac/v2/collections/EO.MO.DAT.OCEANCOLOUR_GLO_BGC_L3_NRT_009_101",
           "rel": "self",
           "title": "EO.MO.DAT.OCEANCOLOUR_GLO_BGC_L3_NRT_009_101",
           "type": "application/json"
          },
          {
           "href": "https://marine.copernicus.eu/user-corner/service-commitments-and-licence",
           "rel": "license",
           "title": "Copernicus Marine Service Commitments and Licence",
           "type": "text/html"
          },
          {
           "href": "https://doi.org/10.48670/moi-00278",
           "rel": "cite-as",
           "title": "10.48670/moi-00278",
           "type": "text/html"
          },
          {
           "href": "https://data.marine.copernicus.eu/product/OCEANCOLOUR_GLO_BGC_L3_NRT_009_101",
           "rel": "alternative",
           "title": "Product page",
           "type": "text/html"
          },
          {
           "href": "https://catalogue.marine.copernicus.eu/documents/PUM/CMEMS-OC-PUM.pdf",
           "rel": "describedby",
           "title": "Product User Manual",
           "type": "application/pdf"
          },
          {
           "href": "https://catalogue.marine.copernicus.eu/documents/QUID/CMEMS-OC-QUID-009-101to104-111-113-116-118.pdf",
           "rel": "describedby",
           "title": "Quality Information Document",
           "type": "application/pdf"
          },
          {
           "href": "https://catalogue.marine.copernicus.eu/documents/SQO/CMEMS-OC-SQO-009-101to104-111-113-116-118.pdf",
           "rel": "describedby",
           "title": "Synthesis Quality Overview",
           "type": "application/pdf"
          }
         ],
         "providers": [
          {
           "name": "ACRI (France)",
           "roles": [
            "producer"
           ]
          },
          {
           "name": "Copernicus Marine Service",
           "roles": [
            "processor"
           ],
           "url": "https://marine.copernicus.eu"
          }
         ],
         "published": "2024-06-12T13:48:59Z",
         "sci:citation": "Global Ocean Colour (Copernicus-GlobColour), Bio-Geo-Chemical, L3 (daily) from Satellite Observations (Near Real Time). E.U. Copernicus Marine Service Information (CMEMS). Marine Data Store (MDS). DOI: 10.48670/moi-00278 (Accessed on DD-MMM-YYYY)",
         "sci:doi": "10.48670/moi-00278",
         "stac_extensions": [
          "https://stac-extensions.github.io/scientific/v1.0.0/schema.json",
          "https://stac-extensions.github.io/contacts/v0.1.1/schema.json",
          "https://stac-extensions.github.io/projection/v2.0.0/schema.json",
          "https://stac-extensions.github.io/processing/v1.2.0/schema.json",
          "https://stac-extensions.github.io/timestamps/v1.1.0/schema.json"
         ],
         "stac_version": "1.0.0",
         "summaries": {
          "allVariables": [
           "Mass concentration of chlorophyll a in sea water (CHL)",
           "Mass concentration of diatoms expressed as chlorophyll in sea water (CHL)",
           "Mass concentration of picophytoplankton expressed as chlorophyll in sea water (CHL)",
           "Mass concentration of dinophytes expressed as chlorophyll in sea water (CHL)",
           "Mass concentration of haptophytes expressed as chlorophyll in sea water (CHL)",
           "Mass concentration of greenalgae and prochlorophytes expressed as chlorophyll in sea water (CHL)",
           "Mass concentration of prokaryotes expressed as chlorophyll in sea water (CHL)",
           "Mass concentration of prochlorococcus expressed as chlorophyll in sea water (CHL)",
           "Mass concentration of microphytoplankton expressed as chlorophyll in sea water (CHL)",
           "Mass concentration of nanophytoplankton expressed as chlorophyll in sea water (CHL)",
           "Volume attenuation coefficient of downwelling radiative flux in sea water (KD)",
           "Secchi depth of sea water (ZSD)",
           "Mass concentration of suspended particulate matter in sea water (SPM)",
           "Volume absorption coefficient of radiative flux in sea water due to dissolved organic matter and non algal particles (CDM)",
           "Volume backwards scattering coefficient of radiative flux in sea water due to particles (BBP)",
           "Surface ratio of upwelling radiance emerging from sea water to downwelling radiative flux in air"
          ],
          "areas": [
           "Global Ocean"
          ],
          "colors": [
           "Green Ocean"
          ],
          "communities": [
           "Conservation & biodiversity",
           "Climate & adaptation",
           "Policy & governance",
           "Science & innovation",
           "Marine food"
          ],
          "featureTypes": [
           "Grid"
          ],
          "federation:backends": [
           "cop_marine"
          ],
          "formats": [
           "NetCDF-4"
          ],
          "geoResolution": [
           {
            "column": {
             "magnitude": 4,
             "units": "km"
            },
            "row": {
             "magnitude": 4,
             "units": "km"
            }
           }
          ],
          "isStaging": [
           "false"
          ],
          "mainVariables": [
           "Plankton",
           "Optics"
          ],
          "processing:level": [
           "Level 3"
          ],
          "projection": [
           "WGS 84 / Plate Carree (EPSG:32662)"
          ],
          "rank": [
           "11101"
          ],
          "sources": [
           "Satellite observations"
          ],
          "tempResolutions": [
           "Daily"
          ],
          "times": [
           "Present",
           "Past"
          ],
          "updateFrequencies": {
           "daily": "22:00"
          },
          "vertExtentMax": [
           "0"
          ],
          "vertExtentMin": [
           "0"
          ]
         },
         "title": "Global Ocean Colour (Copernicus-GlobColour), Bio-Geo-Chemical, L3 (daily) from Satellite Observations (Near Real Time)",
         "type": "Collection",
         "updated": "2025-04-08T07:25:50Z"
        },
        {
         "assets": {
          "thumbnail": {
           "href": "https://mdl-metadata.s3.waw3-1.cloudferro.com/metadata/thumbnails/OCEANCOLOUR_GLO_BGC_L4_MY_009_104.jpg",
           "roles": [
            "thumbnail"
           ],
           "title": "Global Ocean Colour (Copernicus-GlobColour), Bio-Geo-Chemical, L4 (monthly and interpolated) from Satellite Observations (1997-ongoing) thumbnail",
           "type": "image/jpeg"
          }
         },
         "created": "2024-06-12T13:48:59Z",
         "description": "For the **Global** Ocean **Satellite Observations**, ACRI-ST company (Sophia Antipolis, France) is providing **Bio-Geo-Chemical (BGC)** products based on the **Copernicus-GlobColour** processor.\n* Upstreams: SeaWiFS, MODIS, MERIS, VIIRS-SNPP & JPSS1, OLCI-S3A & S3B for the **\"\"multi\"\"** products, and S3A & S3B only for the **\"\"olci\"\"** products.\n* Variables: Chlorophyll-a (**CHL**), Phytoplankton Functional types and sizes (**PFT**), Primary Production (**PP**), Suspended Matter (**SPM**), Secchi Transparency Depth (**ZSD**), Diffuse Attenuation (**KD490**), Particulate Backscattering (**BBP**), Absorption Coef. (**CDM**) and  Reflectance (**RRS**).\n\n* Temporal resolutions: **monthly** plus, for some variables, **daily gap-free** based on a space-time interpolation to provide a \"\"cloud free\"\" product.\n* Spatial resolutions: **4 km** and a finer resolution based on olci **300 meters** inputs.\n* Recent products are organized in datasets called Near Real Time (**NRT**) and long time-series (from 1997) in datasets called Multi-Years (**MY**).\n\nTo find the **Copernicus-GlobColour** products in the catalogue, use the search keyword **\"\"GlobColour\"\"**.\"\n\n**DOI (product):**   \nhttps://doi.org/10.48670/moi-00281",
         "extent": {
          "spatial": {
           "bbox": [
            [
             -179.99722290039062,
             -89.99722290039062,
             179.9972381591797,
             89.99722290039062
            ]
           ]
          },
          "temporal": {
           "interval": [
            [
             "1997-09-01T00:00:00Z",
             "2025-03-23T00:00:00Z"
            ]
           ]
          }
         },
         "id": "EO.MO.DAT.OCEANCOLOUR_GLO_BGC_L4_MY_009_104",
         "keywords": [
          "mass-concentration-of-dinophytes-expressed-as-chlorophyll-in-sea-water",
          "mass-concentration-of-greenalgae-and-prochlorophytes-expressed-as-chlorophyll-in-sea-water",
          "level-4",
          "secchi-depth-of-sea-water",
          "weather-climate-and-seasonal-forecasting",
          "mass-concentration-of-diatoms-expressed-as-chlorophyll-in-sea-water",
          "marine-safety",
          "mass-concentration-of-prokaryotes-expressed-as-chlorophyll-in-sea-water",
          "volume-backwards-scattering-coefficient-of-radiative-flux-in-sea-water-due-to-particles",
          "mass-concentration-of-microphytoplankton-expressed-as-chlorophyll-in-sea-water",
          "marine-resources",
          "volume-absorption-coefficient-of-radiative-flux-in-sea-water-due-to-dissolved-organic-matter-and-non-algal-particles",
          "mass-concentration-of-picophytoplankton-expressed-as-chlorophyll-in-sea-water",
          "global-ocean",
          "surface-ratio-of-upwelling-radiance-emerging-from-sea-water-to-downwelling-radiative-flux-in-air",
          "coastal-marine-environment",
          "mass-concentration-of-nanophytoplankton-expressed-as-chlorophyll-in-sea-water",
          "oceanographic-geographical-features",
          "mass-concentration-of-suspended-particulate-matter-in-sea-water",
          "mass-concentration-of-prochlorococcus-expressed-as-chlorophyll-in-sea-water",
          "mass-concentration-of-haptophytes-expressed-as-chlorophyll-in-sea-water",
          "multi-year",
          "satellite-observation",
          "volume-attenuation-coefficient-of-downwelling-radiative-flux-in-sea-water",
          "mass-concentration-of-chlorophyll-a-in-sea-water"
         ],
         "license": "proprietary",
         "links": [
          {
           "href": "https://hda.data.destination-earth.eu/stac/v2/collections/EO.MO.DAT.OCEANCOLOUR_GLO_BGC_L4_MY_009_104/queryables",
           "rel": "http://www.opengis.net/def/rel/ogc/1.0/queryables",
           "title": "Queryables",
           "type": "application/schema+json"
          },
          {
           "href": "https://hda.data.destination-earth.eu/stac/v2/collections/EO.MO.DAT.OCEANCOLOUR_GLO_BGC_L4_MY_009_104/items",
           "rel": "items",
           "title": "Items",
           "type": "application/geo+json"
          },
          {
           "href": "https://hda.data.destination-earth.eu/stac/v2/collections/EO.MO.DAT.OCEANCOLOUR_GLO_BGC_L4_MY_009_104",
           "rel": "self",
           "title": "EO.MO.DAT.OCEANCOLOUR_GLO_BGC_L4_MY_009_104",
           "type": "application/json"
          },
          {
           "href": "https://marine.copernicus.eu/user-corner/service-commitments-and-licence",
           "rel": "license",
           "title": "Copernicus Marine Service Commitments and Licence",
           "type": "text/html"
          },
          {
           "href": "https://doi.org/10.48670/moi-00281",
           "rel": "cite-as",
           "title": "10.48670/moi-00281",
           "type": "text/html"
          },
          {
           "href": "https://data.marine.copernicus.eu/product/OCEANCOLOUR_GLO_BGC_L4_MY_009_104",
           "rel": "alternative",
           "title": "Product page",
           "type": "text/html"
          },
          {
           "href": "https://catalogue.marine.copernicus.eu/documents/PUM/CMEMS-OC-PUM.pdf",
           "rel": "describedby",
           "title": "Product User Manual",
           "type": "application/pdf"
          },
          {
           "href": "https://catalogue.marine.copernicus.eu/documents/QUID/CMEMS-OC-QUID-009-101to104-111-113-116-118.pdf",
           "rel": "describedby",
           "title": "Quality Information Document",
           "type": "application/pdf"
          },
          {
           "href": "https://catalogue.marine.copernicus.eu/documents/SQO/CMEMS-OC-SQO-009-101to104-111-113-116-118.pdf",
           "rel": "describedby",
           "title": "Synthesis Quality Overview",
           "type": "application/pdf"
          }
         ],
         "providers": [
          {
           "name": "ACRI (France)",
           "roles": [
            "producer"
           ]
          },
          {
           "name": "Copernicus Marine Service",
           "roles": [
            "processor"
           ],
           "url": "https://marine.copernicus.eu"
          }
         ],
         "published": "2024-06-12T13:48:59Z",
         "sci:citation": "Global Ocean Colour (Copernicus-GlobColour), Bio-Geo-Chemical, L4 (monthly and interpolated) from Satellite Observations (1997-ongoing). E.U. Copernicus Marine Service Information (CMEMS). Marine Data Store (MDS). DOI: 10.48670/moi-00281 (Accessed on DD-MMM-YYYY)",
         "sci:doi": "10.48670/moi-00281",
         "stac_extensions": [
          "https://stac-extensions.github.io/scientific/v1.0.0/schema.json",
          "https://stac-extensions.github.io/contacts/v0.1.1/schema.json",
          "https://stac-extensions.github.io/processing/v1.2.0/schema.json",
          "https://stac-extensions.github.io/timestamps/v1.1.0/schema.json"
         ],
         "stac_version": "1.0.0",
         "summaries": {
          "allVariables": [
           "Mass concentration of chlorophyll a in sea water (CHL)",
           "Mass concentration of diatoms expressed as chlorophyll in sea water (CHL)",
           "Mass concentration of picophytoplankton expressed as chlorophyll in sea water (CHL)",
           "Mass concentration of dinophytes expressed as chlorophyll in sea water (CHL)",
           "Mass concentration of haptophytes expressed as chlorophyll in sea water (CHL)",
           "Mass concentration of greenalgae and prochlorophytes expressed as chlorophyll in sea water (CHL)",
           "Mass concentration of prokaryotes expressed as chlorophyll in sea water (CHL)",
           "Mass concentration of prochlorococcus expressed as chlorophyll in sea water (CHL)",
           "Mass concentration of microphytoplankton expressed as chlorophyll in sea water (CHL)",
           "Mass concentration of nanophytoplankton expressed as chlorophyll in sea water (CHL)",
           "Volume attenuation coefficient of downwelling radiative flux in sea water (KD)",
           "Secchi depth of sea water (ZSD)",
           "Mass concentration of suspended particulate matter in sea water (SPM)",
           "Volume absorption coefficient of radiative flux in sea water due to dissolved organic matter and non algal particles (CDM)",
           "Volume backwards scattering coefficient of radiative flux in sea water due to particles (BBP)",
           "Surface ratio of upwelling radiance emerging from sea water to downwelling radiative flux in air"
          ],
          "areas": [
           "Global Ocean"
          ],
          "colors": [
           "Green Ocean"
          ],
          "communities": [
           "Conservation & biodiversity",
           "Climate & adaptation",
           "Policy & governance",
           "Science & innovation",
           "Marine food"
          ],
          "directives": [
           "Marine Strategy Framework Directive (MSFD)"
          ],
          "featureTypes": [
           "Grid"
          ],
          "federation:backends": [
           "cop_marine"
          ],
          "formats": [
           "NetCDF-4"
          ],
          "geoResolution": [
           {
            "column": {
             "magnitude": 4,
             "units": "km"
            },
            "row": {
             "magnitude": 4,
             "units": "km"
            }
           }
          ],
          "isStaging": [
           "false"
          ],
          "mainVariables": [
           "Plankton",
           "Optics"
          ],
          "processing:level": [
           "Level 4"
          ],
          "projection": [
           "Equirectangular"
          ],
          "rank": [
           "11101"
          ],
          "sources": [
           "Satellite observations"
          ],
          "tempResolutions": [
           "Daily",
           "Monthly"
          ],
          "times": [
           "Past"
          ],
          "updateFrequencies": [
           {
            "daily": null,
            "monthly": "22:00"
           }
          ],
          "vertExtentMax": [
           "0"
          ],
          "vertExtentMin": [
           "0"
          ]
         },
         "title": "Global Ocean Colour (Copernicus-GlobColour), Bio-Geo-Chemical, L4 (monthly and interpolated) from Satellite Observations (1997-ongoing)",
         "type": "Collection",
         "updated": "2025-04-08T07:25:50Z"
        },
        {
         "assets": {
          "thumbnail": {
           "href": "https://mdl-metadata.s3.waw3-1.cloudferro.com/metadata/thumbnails/OCEANCOLOUR_GLO_BGC_L4_MY_009_108.jpg",
           "roles": [
            "thumbnail"
           ],
           "title": "Global Ocean Colour Plankton MY L4 monthly observations thumbnail",
           "type": "image/jpeg"
          }
         },
         "created": "2024-06-12T13:48:59Z",
         "description": "For the **Global** Ocean **Satellite Observations**, Brockmann Consult (BC) is providing **Bio-Geo_Chemical (BGC)** products based on the ESA-CCI inputs.\n* Upstreams: SeaWiFS, MODIS, MERIS, VIIRS-SNPP,  OLCI-S3A & OLCI-S3B for the **\"\"multi\"\"** products.\n* Variables: Chlorophyll-a (**CHL**).\n\n* Temporal resolutions: **monthly**.\n* Spatial resolutions: **4 km** (multi).\n* Recent products are organized in datasets called Near Real Time (**NRT**) and long time-series (from 1997) in datasets called Multi-Years (**MY**).\n\nTo find these products in the catalogue, use the search keyword **\"\"ESA-CCI\"\"**.\n\n**DOI (product):**   \nhttps://doi.org/10.48670/moi-00283",
         "extent": {
          "spatial": {
           "bbox": [
            [
             -179.9791717529297,
             -89.97916412353516,
             179.9791717529297,
             89.97916412353516
            ]
           ]
          },
          "temporal": {
           "interval": [
            [
             "1997-09-01T00:00:00Z",
             "2024-12-01T00:00:00Z"
            ]
           ]
          }
         },
         "id": "EO.MO.DAT.OCEANCOLOUR_GLO_BGC_L4_MY_009_108",
         "keywords": [
          "level-4",
          "global-ocean",
          "marine-resources",
          "weather-climate-and-seasonal-forecasting",
          "satellite-observation",
          "multi-year",
          "coastal-marine-environment",
          "marine-safety",
          "oceanographic-geographical-features",
          "mass-concentration-of-chlorophyll-a-in-sea-water"
         ],
         "license": "proprietary",
         "links": [
          {
           "href": "https://hda.data.destination-earth.eu/stac/v2/collections/EO.MO.DAT.OCEANCOLOUR_GLO_BGC_L4_MY_009_108/queryables",
           "rel": "http://www.opengis.net/def/rel/ogc/1.0/queryables",
           "title": "Queryables",
           "type": "application/schema+json"
          },
          {
           "href": "https://hda.data.destination-earth.eu/stac/v2/collections/EO.MO.DAT.OCEANCOLOUR_GLO_BGC_L4_MY_009_108/items",
           "rel": "items",
           "title": "Items",
           "type": "application/geo+json"
          },
          {
           "href": "https://hda.data.destination-earth.eu/stac/v2/collections/EO.MO.DAT.OCEANCOLOUR_GLO_BGC_L4_MY_009_108",
           "rel": "self",
           "title": "EO.MO.DAT.OCEANCOLOUR_GLO_BGC_L4_MY_009_108",
           "type": "application/json"
          },
          {
           "href": "https://marine.copernicus.eu/user-corner/service-commitments-and-licence",
           "rel": "license",
           "title": "Copernicus Marine Service Commitments and Licence",
           "type": "text/html"
          },
          {
           "href": "https://doi.org/10.48670/moi-00283",
           "rel": "cite-as",
           "title": "10.48670/moi-00283",
           "type": "text/html"
          },
          {
           "href": "https://data.marine.copernicus.eu/product/OCEANCOLOUR_GLO_BGC_L4_MY_009_108",
           "rel": "alternative",
           "title": "Product page",
           "type": "text/html"
          },
          {
           "href": "https://catalogue.marine.copernicus.eu/documents/PUM/CMEMS-OC-PUM.pdf",
           "rel": "describedby",
           "title": "Product User Manual",
           "type": "application/pdf"
          },
          {
           "href": "https://catalogue.marine.copernicus.eu/documents/QUID/CMEMS-OC-QUID-009-107to108.pdf",
           "rel": "describedby",
           "title": "Quality Information Document",
           "type": "application/pdf"
          },
          {
           "href": "https://catalogue.marine.copernicus.eu/documents/SQO/CMEMS-OC-SQO-009-107to108.pdf",
           "rel": "describedby",
           "title": "Synthesis Quality Overview",
           "type": "application/pdf"
          }
         ],
         "providers": [
          {
           "name": "BC (Germany)",
           "roles": [
            "producer"
           ]
          },
          {
           "name": "Copernicus Marine Service",
           "roles": [
            "processor"
           ],
           "url": "https://marine.copernicus.eu"
          }
         ],
         "published": "2024-06-12T13:48:59Z",
         "sci:citation": "Global Ocean Colour Plankton MY L4 monthly observations. E.U. Copernicus Marine Service Information (CMEMS). Marine Data Store (MDS). DOI: 10.48670/moi-00283 (Accessed on DD-MMM-YYYY)",
         "sci:doi": "10.48670/moi-00283",
         "stac_extensions": [
          "https://stac-extensions.github.io/scientific/v1.0.0/schema.json",
          "https://stac-extensions.github.io/contacts/v0.1.1/schema.json",
          "https://stac-extensions.github.io/projection/v2.0.0/schema.json",
          "https://stac-extensions.github.io/processing/v1.2.0/schema.json",
          "https://stac-extensions.github.io/timestamps/v1.1.0/schema.json"
         ],
         "stac_version": "1.0.0",
         "summaries": {
          "allVariables": [
           "Mass concentration of chlorophyll a in sea water (CHL)"
          ],
          "areas": [
           "Global Ocean"
          ],
          "colors": [
           "Green Ocean"
          ],
          "communities": [
           "Conservation & biodiversity",
           "Climate & adaptation",
           "Policy & governance",
           "Science & innovation",
           "Marine food"
          ],
          "directives": [
           "Marine Strategy Framework Directive (MSFD)"
          ],
          "featureTypes": [
           "Grid"
          ],
          "federation:backends": [
           "cop_marine"
          ],
          "formats": [
           "NetCDF-4"
          ],
          "geoResolution": [
           {
            "column": {
             "magnitude": 4,
             "units": "km"
            },
            "row": {
             "magnitude": 4,
             "units": "km"
            }
           }
          ],
          "isStaging": [
           "false"
          ],
          "mainVariables": [
           "Plankton"
          ],
          "processing:level": [
           "Level 4"
          ],
          "projection": [
           "WGS 84 / Plate Carree (EPSG:32662)"
          ],
          "rank": [
           "11101"
          ],
          "sources": [
           "Satellite observations"
          ],
          "tempResolutions": [
           "Monthly"
          ],
          "times": [
           "Past"
          ],
          "updateFrequencies": [
           {
            "irregular": null
           }
          ],
          "vertExtentMax": [
           "0"
          ],
          "vertExtentMin": [
           "0"
          ]
         },
         "title": "Global Ocean Colour Plankton MY L4 monthly observations",
         "type": "Collection",
         "updated": "2025-04-08T07:25:50Z"
        },
        {
         "assets": {
          "thumbnail": {
           "href": "https://mdl-metadata.s3.waw3-1.cloudferro.com/metadata/thumbnails/OCEANCOLOUR_GLO_BGC_L4_NRT_009_102.jpg",
           "roles": [
            "thumbnail"
           ],
           "title": "Global Ocean Colour (Copernicus-GlobColour), Bio-Geo-Chemical, L4 (monthly and interpolated) from Satellite Observations (Near Real Time) thumbnail",
           "type": "image/jpeg"
          }
         },
         "created": "2024-06-12T13:48:59Z",
         "description": "For the **Global** Ocean **Satellite Observations**, ACRI-ST company (Sophia Antipolis, France) is providing **Bio-Geo-Chemical (BGC)** products based on the **Copernicus-GlobColour** processor.\n* Upstreams: SeaWiFS, MODIS, MERIS, VIIRS-SNPP & JPSS1, OLCI-S3A & S3B for the **\"multi\"** products, and S3A & S3B only for the **\"olci\"** products.\n* Variables: Chlorophyll-a (**CHL**), Phytoplankton Functional types and sizes (**PFT**), Primary Production (**PP**), Suspended Matter (**SPM**), Secchi Transparency Depth (**ZSD**), Diffuse Attenuation (**KD490**), Particulate Backscattering (**BBP**), Absorption Coef. (**CDM**) and  Reflectance (**RRS**).\n\n* Temporal resolutions: **monthly** plus, for some variables, **daily gap-free** based on a space-time interpolation to provide a \"cloud free\" product.\n* Spatial resolutions: **4 km** and a finer resolution based on olci **300 meters** inputs.\n* Recent products are organized in datasets called Near Real Time (**NRT**) and long time-series (from 1997) in datasets called Multi-Years (**MY**).\n\nTo find the **Copernicus-GlobColour** products in the catalogue, use the search keyword **\"GlobColour\"**.\n\n**DOI (product):**   \nhttps://doi.org/10.48670/moi-00279",
         "extent": {
          "spatial": {
           "bbox": [
            [
             -179.99722290039062,
             -89.99722290039062,
             179.9972381591797,
             89.99722290039062
            ]
           ]
          },
          "temporal": {
           "interval": [
            [
             "2023-04-01T00:00:00Z",
             "2025-03-30T00:00:00Z"
            ]
           ]
          }
         },
         "id": "EO.MO.DAT.OCEANCOLOUR_GLO_BGC_L4_NRT_009_102",
         "keywords": [
          "mass-concentration-of-dinophytes-expressed-as-chlorophyll-in-sea-water",
          "mass-concentration-of-greenalgae-and-prochlorophytes-expressed-as-chlorophyll-in-sea-water",
          "level-4",
          "zsd",
          "secchi-depth-of-sea-water",
          "weather-climate-and-seasonal-forecasting",
          "mass-concentration-of-diatoms-expressed-as-chlorophyll-in-sea-water",
          "marine-safety",
          "mass-concentration-of-prokaryotes-expressed-as-chlorophyll-in-sea-water",
          "volume-backwards-scattering-coefficient-of-radiative-flux-in-sea-water-due-to-particles",
          "mass-concentration-of-microphytoplankton-expressed-as-chlorophyll-in-sea-water",
          "primary-production-of-biomass-expressed-as-carbon",
          "marine-resources",
          "near-real-time",
          "volume-absorption-coefficient-of-radiative-flux-in-sea-water-due-to-dissolved-organic-matter-and-non-algal-particles",
          "mass-concentration-of-picophytoplankton-expressed-as-chlorophyll-in-sea-water",
          "global-ocean",
          "surface-ratio-of-upwelling-radiance-emerging-from-sea-water-to-downwelling-radiative-flux-in-air",
          "coastal-marine-environment",
          "mass-concentration-of-nanophytoplankton-expressed-as-chlorophyll-in-sea-water",
          "oceanographic-geographical-features",
          "mass-concentration-of-suspended-particulate-matter-in-sea-water",
          "mass-concentration-of-prochlorococcus-expressed-as-chlorophyll-in-sea-water",
          "mass-concentration-of-haptophytes-expressed-as-chlorophyll-in-sea-water",
          "satellite-observation",
          "volume-attenuation-coefficient-of-downwelling-radiative-flux-in-sea-water",
          "mass-concentration-of-chlorophyll-a-in-sea-water",
          "kd490"
         ],
         "license": "proprietary",
         "links": [
          {
           "href": "https://hda.data.destination-earth.eu/stac/v2/collections/EO.MO.DAT.OCEANCOLOUR_GLO_BGC_L4_NRT_009_102/queryables",
           "rel": "http://www.opengis.net/def/rel/ogc/1.0/queryables",
           "title": "Queryables",
           "type": "application/schema+json"
          },
          {
           "href": "https://hda.data.destination-earth.eu/stac/v2/collections/EO.MO.DAT.OCEANCOLOUR_GLO_BGC_L4_NRT_009_102/items",
           "rel": "items",
           "title": "Items",
           "type": "application/geo+json"
          },
          {
           "href": "https://hda.data.destination-earth.eu/stac/v2/collections/EO.MO.DAT.OCEANCOLOUR_GLO_BGC_L4_NRT_009_102",
           "rel": "self",
           "title": "EO.MO.DAT.OCEANCOLOUR_GLO_BGC_L4_NRT_009_102",
           "type": "application/json"
          },
          {
           "href": "https://marine.copernicus.eu/user-corner/service-commitments-and-licence",
           "rel": "license",
           "title": "Copernicus Marine Service Commitments and Licence",
           "type": "text/html"
          },
          {
           "href": "https://doi.org/10.48670/moi-00279",
           "rel": "cite-as",
           "title": "10.48670/moi-00279",
           "type": "text/html"
          },
          {
           "href": "https://data.marine.copernicus.eu/product/OCEANCOLOUR_GLO_BGC_L4_NRT_009_102",
           "rel": "alternative",
           "title": "Product page",
           "type": "text/html"
          },
          {
           "href": "https://catalogue.marine.copernicus.eu/documents/PUM/CMEMS-OC-PUM.pdf",
           "rel": "describedby",
           "title": "Product User Manual",
           "type": "application/pdf"
          },
          {
           "href": "https://catalogue.marine.copernicus.eu/documents/QUID/CMEMS-OC-QUID-009-101to104-111-113-116-118.pdf",
           "rel": "describedby",
           "title": "Quality Information Document",
           "type": "application/pdf"
          },
          {
           "href": "https://catalogue.marine.copernicus.eu/documents/SQO/CMEMS-OC-SQO-009-101to104-111-113-116-118.pdf",
           "rel": "describedby",
           "title": "Synthesis Quality Overview",
           "type": "application/pdf"
          }
         ],
         "providers": [
          {
           "name": "ACRI (France)",
           "roles": [
            "producer"
           ]
          },
          {
           "name": "Copernicus Marine Service",
           "roles": [
            "processor"
           ],
           "url": "https://marine.copernicus.eu"
          }
         ],
         "published": "2024-06-12T13:48:59Z",
         "sci:citation": "Global Ocean Colour (Copernicus-GlobColour), Bio-Geo-Chemical, L4 (monthly and interpolated) from Satellite Observations (Near Real Time). E.U. Copernicus Marine Service Information (CMEMS). Marine Data Store (MDS). DOI: 10.48670/moi-00279 (Accessed on DD-MMM-YYYY)",
         "sci:doi": "10.48670/moi-00279",
         "stac_extensions": [
          "https://stac-extensions.github.io/scientific/v1.0.0/schema.json",
          "https://stac-extensions.github.io/contacts/v0.1.1/schema.json",
          "https://stac-extensions.github.io/projection/v2.0.0/schema.json",
          "https://stac-extensions.github.io/processing/v1.2.0/schema.json",
          "https://stac-extensions.github.io/timestamps/v1.1.0/schema.json"
         ],
         "stac_version": "1.0.0",
         "summaries": {
          "allVariables": [
           "Mass concentration of chlorophyll a in sea water (CHL)",
           "Mass concentration of diatoms expressed as chlorophyll in sea water (CHL)",
           "Mass concentration of picophytoplankton expressed as chlorophyll in sea water (CHL)",
           "Mass concentration of dinophytes expressed as chlorophyll in sea water (CHL)",
           "Mass concentration of haptophytes expressed as chlorophyll in sea water (CHL)",
           "Mass concentration of greenalgae and prochlorophytes expressed as chlorophyll in sea water (CHL)",
           "Mass concentration of prokaryotes expressed as chlorophyll in sea water (CHL)",
           "Mass concentration of prochlorococcus expressed as chlorophyll in sea water (CHL)",
           "Mass concentration of microphytoplankton expressed as chlorophyll in sea water (CHL)",
           "Mass concentration of nanophytoplankton expressed as chlorophyll in sea water (CHL)",
           "Primary production of biomass expressed as carbon (PP)",
           "Volume attenuation coefficient of downwelling radiative flux in sea water (KD)",
           "Secchi depth of sea water (ZSD)",
           "Mass concentration of suspended particulate matter in sea water (SPM)",
           "Volume absorption coefficient of radiative flux in sea water due to dissolved organic matter and non algal particles (CDM)",
           "Volume backwards scattering coefficient of radiative flux in sea water due to particles (BBP)",
           "Kd490",
           "Surface ratio of upwelling radiance emerging from sea water to downwelling radiative flux in air",
           "Zsd"
          ],
          "areas": [
           "Global Ocean"
          ],
          "colors": [
           "Green Ocean"
          ],
          "communities": [
           "Conservation & biodiversity",
           "Climate & adaptation",
           "Policy & governance",
           "Science & innovation",
           "Marine food"
          ],
          "featureTypes": [
           "Grid"
          ],
          "federation:backends": [
           "cop_marine"
          ],
          "formats": [
           "NetCDF-4"
          ],
          "geoResolution": [
           {
            "column": {
             "magnitude": 4,
             "units": "km"
            },
            "row": {
             "magnitude": 4,
             "units": "km"
            }
           }
          ],
          "isStaging": [
           "false"
          ],
          "mainVariables": [
           "Plankton",
           "Optics"
          ],
          "processing:level": [
           "Level 4"
          ],
          "projection": [
           "WGS 84 / Plate Carree (EPSG:32662)"
          ],
          "rank": [
           "11101"
          ],
          "sources": [
           "Satellite observations"
          ],
          "tempResolutions": [
           "Monthly",
           "Daily"
          ],
          "times": [
           "Present",
           "Past"
          ],
          "updateFrequencies": [
           {
            "daily": "22:00",
            "monthly": null
           }
          ],
          "vertExtentMax": [
           "0"
          ],
          "vertExtentMin": [
           "0"
          ]
         },
         "title": "Global Ocean Colour (Copernicus-GlobColour), Bio-Geo-Chemical, L4 (monthly and interpolated) from Satellite Observations (Near Real Time)",
         "type": "Collection",
         "updated": "2025-04-08T07:25:50Z"
        },
        {
         "assets": {
          "thumbnail": {
           "href": "https://mdl-metadata.s3.waw3-1.cloudferro.com/metadata/thumbnails/SEAICE_GLO_SEAICE_L4_NRT_OBSERVATIONS_011_001.jpg",
           "roles": [
            "thumbnail"
           ],
           "title": "Global Ocean - Arctic and Antarctic - Sea Ice Concentration, Edge, Type and Drift (OSI-SAF) thumbnail",
           "type": "image/jpeg"
          }
         },
         "created": "2024-06-12T13:48:59Z",
         "description": "For the Global - Arctic and Antarctic - Ocean. The OSI SAF delivers three global sea ice products in operational mode: sea ice concentration, sea ice edge, sea ice type (OSI-401 OSI-402 and OSI-403). These products are delivered daily at 10km resolution in a polar stereographic projection covering the Northern Hemisphere and the Southern Hemisphere. It is the Sea Ice operational nominal product for the Global Ocean. In addition, a sea ice drift product is delivered at 60km resolution in a polar stereographic projection covering the Northern and Southern Hemispheres. The sea ice motion vectors have a time-span of 2 days.\n\n**DOI (product):**   \nhttps://doi.org/10.48670/moi-00134",
         "extent": {
          "spatial": {
           "bbox": [
            [
             -180,
             -90,
             180,
             90
            ]
           ]
          },
          "temporal": {
           "interval": [
            [
             "2024-10-14T00:00:00.000000Z",
             null
            ]
           ]
          }
         },
         "id": "EO.MO.DAT.SEAICE_GLO_SEAICE_L4_NRT_OBSERVATIONS_011_001",
         "keywords": [
          "sea-ice-classification",
          "sea-ice-area-fraction",
          "level-4",
          "sea-ice-x-displacement",
          "global-ocean",
          "marine-resources",
          "weather-climate-and-seasonal-forecasting",
          "satellite-observation",
          "coastal-marine-environment",
          "near-real-time",
          "marine-safety",
          "target-application#seaiceforecastingapplication",
          "oceanographic-geographical-features",
          "sea-ice-y-displacement"
         ],
         "license": "proprietary",
         "links": [
          {
           "href": "https://hda.data.destination-earth.eu/stac/v2/collections/EO.MO.DAT.SEAICE_GLO_SEAICE_L4_NRT_OBSERVATIONS_011_001/queryables",
           "rel": "http://www.opengis.net/def/rel/ogc/1.0/queryables",
           "title": "Queryables",
           "type": "application/schema+json"
          },
          {
           "href": "https://hda.data.destination-earth.eu/stac/v2/collections/EO.MO.DAT.SEAICE_GLO_SEAICE_L4_NRT_OBSERVATIONS_011_001/items",
           "rel": "items",
           "title": "Items",
           "type": "application/geo+json"
          },
          {
           "href": "https://hda.data.destination-earth.eu/stac/v2/collections/EO.MO.DAT.SEAICE_GLO_SEAICE_L4_NRT_OBSERVATIONS_011_001",
           "rel": "self",
           "title": "EO.MO.DAT.SEAICE_GLO_SEAICE_L4_NRT_OBSERVATIONS_011_001",
           "type": "application/json"
          },
          {
           "href": "https://marine.copernicus.eu/user-corner/service-commitments-and-licence",
           "rel": "license",
           "title": "Copernicus Marine Service Commitments and Licence",
           "type": "text/html"
          },
          {
           "href": "https://doi.org/10.48670/moi-00134",
           "rel": "cite-as",
           "title": "10.48670/moi-00134",
           "type": "text/html"
          },
          {
           "href": "https://data.marine.copernicus.eu/product/SEAICE_GLO_SEAICE_L4_NRT_OBSERVATIONS_011_001",
           "rel": "alternative",
           "title": "Product page",
           "type": "text/html"
          },
          {
           "href": "https://catalogue.marine.copernicus.eu/documents/PUM/CMEMS-SI-PUM-011-001.pdf",
           "rel": "describedby",
           "title": "Product User Manual",
           "type": "application/pdf"
          },
          {
           "href": "https://catalogue.marine.copernicus.eu/documents/QUID/CMEMS-SEAICE-QUID-011-001-009.pdf",
           "rel": "describedby",
           "title": "Quality Information Document",
           "type": "application/pdf"
          },
          {
           "href": "https://catalogue.marine.copernicus.eu/documents/SQO/CMEMS-SEAICE-SQO-011-001-009.pdf",
           "rel": "describedby",
           "title": "Synthesis Quality Overview",
           "type": "application/pdf"
          }
         ],
         "providers": [
          {
           "name": "MET Norway",
           "roles": [
            "producer"
           ]
          },
          {
           "name": "Copernicus Marine Service",
           "roles": [
            "processor"
           ],
           "url": "https://marine.copernicus.eu"
          }
         ],
         "published": "2024-06-12T13:48:59Z",
         "sci:citation": "Global Ocean - Arctic and Antarctic - Sea Ice Concentration, Edge, Type and Drift (OSI-SAF). E.U. Copernicus Marine Service Information (CMEMS). Marine Data Store (MDS). DOI: 10.48670/moi-00134 (Accessed on DD-MMM-YYYY)",
         "sci:doi": "10.48670/moi-00134",
         "stac_extensions": [
          "https://stac-extensions.github.io/scientific/v1.0.0/schema.json",
          "https://stac-extensions.github.io/contacts/v0.1.1/schema.json",
          "https://stac-extensions.github.io/projection/v2.0.0/schema.json",
          "https://stac-extensions.github.io/processing/v1.2.0/schema.json",
          "https://stac-extensions.github.io/timestamps/v1.1.0/schema.json"
         ],
         "stac_version": "1.0.0",
         "summaries": {
          "allVariables": [
           "Sea ice classification (SIT)",
           "Sea ice x displacement (SIUV)",
           "Sea ice y displacement (SIUV)",
           "Sea ice area fraction"
          ],
          "areas": [
           "Global Ocean"
          ],
          "colors": [
           "White Ocean"
          ],
          "communities": [
           "Polar environment monitoring",
           "Climate & adaptation",
           "Science & innovation"
          ],
          "featureTypes": [
           "Grid"
          ],
          "federation:backends": [
           "cop_marine"
          ],
          "formats": [
           "NetCDF-3"
          ],
          "geoResolution": [
           {
            "column": {
             "magnitude": 10,
             "units": "km"
            },
            "row": {
             "magnitude": 10,
             "units": "km"
            }
           }
          ],
          "isStaging": [
           "false"
          ],
          "mainVariables": [
           "Sea ice"
          ],
          "processing:level": [
           "Level 4"
          ],
          "projection": [
           "NSIDC Sea Ice Polar Stereographic North (EPSG:3411)"
          ],
          "rank": [
           "13000"
          ],
          "sources": [
           "Satellite observations"
          ],
          "tempResolutions": [
           "Daily"
          ],
          "times": [
           "Present",
           "Past"
          ],
          "updateFrequencies": [
           {
            "daily": "05:00 UTC"
           }
          ],
          "vertExtentMax": [
           "0"
          ],
          "vertExtentMin": [
           "0"
          ]
         },
         "title": "Global Ocean - Arctic and Antarctic - Sea Ice Concentration, Edge, Type and Drift (OSI-SAF)",
         "type": "Collection",
         "updated": "2025-04-08T07:25:50Z"
        },
        {
         "assets": {
          "thumbnail": {
           "href": "https://mdl-metadata.s3.waw3-1.cloudferro.com/metadata/thumbnails/SEAICE_GLO_SEAICE_L4_REP_OBSERVATIONS_011_009.jpg",
           "roles": [
            "thumbnail"
           ],
           "title": "Global Ocean Sea Ice Concentration Time Series REPROCESSED (OSI-SAF) thumbnail",
           "type": "image/jpeg"
          }
         },
         "created": "2024-06-12T13:48:59Z",
         "description": "The CDR and ICDR sea ice concentration dataset of the EUMETSAT OSI SAF (OSI-450-a and OSI-430-a), covering the period from October 1978 to present, with 16 days delay. It used passive microwave data from SMMR, SSM/I and SSMIS. Sea ice concentration is computed from atmospherically corrected PMW brightness temperatures, using a combination of state-of-the-art algorithms and dynamic tie points. It includes error bars for each grid cell (uncertainties). This version 3.0 of the CDR (OSI-450-a, 1978-2020) and ICDR (OSI-430-a, 2021-present with 16 days latency) was released in November 2022\n\n**DOI (product):**   \nhttps://doi.org/10.48670/moi-00136\n\n**References:**\n\n* [http://osisaf.met.no/docs/osisaf_cdop2_ss2_pum_sea-ice-conc-reproc_v2p2.pdf]\n",
         "extent": {
          "spatial": {
           "bbox": [
            [
             -180,
             -90,
             179.70000000001363,
             90
            ]
           ]
          },
          "temporal": {
           "interval": [
            [
             "2021-01-01T00:00:00Z",
             "2025-03-16T00:00:00Z"
            ]
           ]
          }
         },
         "id": "EO.MO.DAT.SEAICE_GLO_SEAICE_L4_REP_OBSERVATIONS_011_009",
         "keywords": [
          "sea-ice-area-fraction",
          "level-4",
          "antarctic-ocean",
          "marine-resources",
          "multi-year",
          "satellite-observation",
          "weather-climate-and-seasonal-forecasting",
          "coastal-marine-environment",
          "target-application#seaiceclimate",
          "marine-safety",
          "oceanographic-geographical-features",
          "arctic-ocean"
         ],
         "license": "proprietary",
         "links": [
          {
           "href": "https://hda.data.destination-earth.eu/stac/v2/collections/EO.MO.DAT.SEAICE_GLO_SEAICE_L4_REP_OBSERVATIONS_011_009/queryables",
           "rel": "http://www.opengis.net/def/rel/ogc/1.0/queryables",
           "title": "Queryables",
           "type": "application/schema+json"
          },
          {
           "href": "https://hda.data.destination-earth.eu/stac/v2/collections/EO.MO.DAT.SEAICE_GLO_SEAICE_L4_REP_OBSERVATIONS_011_009/items",
           "rel": "items",
           "title": "Items",
           "type": "application/geo+json"
          },
          {
           "href": "https://hda.data.destination-earth.eu/stac/v2/collections/EO.MO.DAT.SEAICE_GLO_SEAICE_L4_REP_OBSERVATIONS_011_009",
           "rel": "self",
           "title": "EO.MO.DAT.SEAICE_GLO_SEAICE_L4_REP_OBSERVATIONS_011_009",
           "type": "application/json"
          },
          {
           "href": "https://marine.copernicus.eu/user-corner/service-commitments-and-licence",
           "rel": "license",
           "title": "Copernicus Marine Service Commitments and Licence",
           "type": "text/html"
          },
          {
           "href": "https://doi.org/10.48670/moi-00136",
           "rel": "cite-as",
           "title": "10.48670/moi-00136",
           "type": "text/html"
          },
          {
           "href": "https://data.marine.copernicus.eu/product/SEAICE_GLO_SEAICE_L4_REP_OBSERVATIONS_011_009",
           "rel": "alternative",
           "title": "Product page",
           "type": "text/html"
          },
          {
           "href": "https://catalogue.marine.copernicus.eu/documents/PUM/CMEMS-SI-PUM-011-009.pdf",
           "rel": "describedby",
           "title": "Product User Manual",
           "type": "application/pdf"
          },
          {
           "href": "https://catalogue.marine.copernicus.eu/documents/SQO/CMEMS-SEAICE-SQO-011-001-009.pdf",
           "rel": "describedby",
           "title": "Synthesis Quality Overview",
           "type": "application/pdf"
          },
          {
           "href": "https://catalogue.marine.copernicus.eu/documents/QUID/CMEMS-SEAICE-QUID-011-001-009.pdf",
           "rel": "describedby",
           "title": "Quality Information Document",
           "type": "application/pdf"
          }
         ],
         "providers": [
          {
           "name": "MET Norway",
           "roles": [
            "producer"
           ]
          },
          {
           "name": "Copernicus Marine Service",
           "roles": [
            "processor"
           ],
           "url": "https://marine.copernicus.eu"
          }
         ],
         "published": "2024-06-12T13:48:59Z",
         "sci:citation": "Global Ocean Sea Ice Concentration Time Series REPROCESSED (OSI-SAF). E.U. Copernicus Marine Service Information (CMEMS). Marine Data Store (MDS). DOI: 10.48670/moi-00136 (Accessed on DD-MMM-YYYY)",
         "sci:doi": "10.48670/moi-00136",
         "stac_extensions": [
          "https://stac-extensions.github.io/scientific/v1.0.0/schema.json",
          "https://stac-extensions.github.io/contacts/v0.1.1/schema.json",
          "https://stac-extensions.github.io/projection/v2.0.0/schema.json",
          "https://stac-extensions.github.io/processing/v1.2.0/schema.json",
          "https://stac-extensions.github.io/timestamps/v1.1.0/schema.json"
         ],
         "stac_version": "1.0.0",
         "summaries": {
          "allVariables": [
           "Sea ice area fraction"
          ],
          "areas": [
           "Global Ocean",
           "Arctic Ocean",
           "Antarctic Ocean"
          ],
          "colors": [
           "White Ocean"
          ],
          "communities": [
           "Polar environment monitoring",
           "Climate & adaptation",
           "Science & innovation"
          ],
          "featureTypes": [
           "Grid"
          ],
          "federation:backends": [
           "cop_marine"
          ],
          "formats": [
           "NetCDF-4"
          ],
          "geoResolution": [
           {
            "column": {
             "magnitude": 25,
             "units": "km"
            },
            "row": {
             "magnitude": 25,
             "units": "km"
            }
           }
          ],
          "isStaging": [
           "false"
          ],
          "mainVariables": [
           "Sea ice"
          ],
          "processing:level": [
           "Level 4"
          ],
          "projection": [
           "Lambert Azimuthal Equal Area (EPSG:3035)"
          ],
          "rank": [
           "13050"
          ],
          "sources": [
           "Satellite observations"
          ],
          "tempResolutions": [
           "Daily"
          ],
          "times": [
           "Past"
          ],
          "updateFrequencies": [
           {
            "annually": null,
            "daily": "before 12 UTC after 16 days"
           }
          ],
          "vertExtentMax": [
           "0"
          ],
          "vertExtentMin": [
           "0"
          ]
         },
         "title": "Global Ocean Sea Ice Concentration Time Series REPROCESSED (OSI-SAF)",
         "type": "Collection",
         "updated": "2025-04-08T07:25:50Z"
        },
        {
         "assets": {
          "thumbnail": {
           "href": "https://mdl-metadata.s3.waw3-1.cloudferro.com/metadata/thumbnails/SST_GLO_SST_L4_NRT_OBSERVATIONS_010_001.jpg",
           "roles": [
            "thumbnail"
           ],
           "title": "Global Ocean OSTIA Sea Surface Temperature and Sea Ice Analysis thumbnail",
           "type": "image/jpeg"
          }
         },
         "created": "2024-06-12T13:48:59Z",
         "description": "For the Global Ocean- the OSTIA global foundation Sea Surface Temperature product provides daily gap-free maps of: Foundation Sea Surface Temperature at 0.05° x 0.05° horizontal grid resolution, using in-situ and satellite data from both infrared and microwave radiometers. \n\nThe Operational Sea Surface Temperature and Ice Analysis (OSTIA) system is run by the UK's Met Office and delivered by IFREMER PU. OSTIA uses satellite data provided by the GHRSST project together with in-situ observations to determine the sea surface temperature.\nA high resolution (1/20° - approx. 6 km) daily analysis of sea surface temperature (SST) is produced for the global ocean and some lakes.\n\n**DOI (product):**   \nhttps://doi.org/10.48670/moi-00165\n\n**References:**\n\n* Good, S.; Fiedler, E.; Mao, C.; Martin, M.J.; Maycock, A.; Reid, R.; Roberts-Jones, J.; Searle, T.; Waters, J.; While, J.; Worsfold, M. The Current Configuration of the OSTIA System for Operational Production of Foundation Sea Surface Temperature and Ice Concentration Analyses. Remote Sens. 2020, 12, 720. doi: 10.3390/rs12040720\n* Donlon, C.J., Martin, M., Stark, J., Roberts-Jones, J., Fiedler, E., and Wimmer, W., 2012, The Operational Sea Surface Temperature and Sea Ice Analysis (OSTIA) system. Remote Sensing of the Environment. doi: 10.1016/j.rse.2010.10.017 2011.\n* John D. Stark, Craig J. Donlon, Matthew J. Martin and Michael E. McCulloch, 2007, OSTIA : An operational, high resolution, real time, global sea surface temperature analysis system., Oceans 07 IEEE Aberdeen, conference proceedings. Marine challenges: coastline to deep sea. Aberdeen, Scotland.IEEE.\n",
         "extent": {
          "spatial": {
           "bbox": [
            [
             -179.97500610351562,
             -89.9749984741211,
             179.97500610351562,
             89.9749984741211
            ]
           ]
          },
          "temporal": {
           "interval": [
            [
             "2007-01-01T00:00:00Z",
             "2025-03-31T00:00:00Z"
            ]
           ]
          }
         },
         "id": "EO.MO.DAT.SST_GLO_SST_L4_NRT_OBSERVATIONS_010_001",
         "keywords": [
          "sea-ice-area-fraction",
          "level-4",
          "global-ocean",
          "marine-resources",
          "weather-climate-and-seasonal-forecasting",
          "satellite-observation",
          "sea-surface-temperature",
          "near-real-time",
          "coastal-marine-environment",
          "marine-safety",
          "target-application#seaiceforecastingapplication",
          "oceanographic-geographical-features"
         ],
         "license": "proprietary",
         "links": [
          {
           "href": "https://hda.data.destination-earth.eu/stac/v2/collections/EO.MO.DAT.SST_GLO_SST_L4_NRT_OBSERVATIONS_010_001/queryables",
           "rel": "http://www.opengis.net/def/rel/ogc/1.0/queryables",
           "title": "Queryables",
           "type": "application/schema+json"
          },
          {
           "href": "https://hda.data.destination-earth.eu/stac/v2/collections/EO.MO.DAT.SST_GLO_SST_L4_NRT_OBSERVATIONS_010_001/items",
           "rel": "items",
           "title": "Items",
           "type": "application/geo+json"
          },
          {
           "href": "https://hda.data.destination-earth.eu/stac/v2/collections/EO.MO.DAT.SST_GLO_SST_L4_NRT_OBSERVATIONS_010_001",
           "rel": "self",
           "title": "EO.MO.DAT.SST_GLO_SST_L4_NRT_OBSERVATIONS_010_001",
           "type": "application/json"
          },
          {
           "href": "https://marine.copernicus.eu/user-corner/service-commitments-and-licence",
           "rel": "license",
           "title": "Copernicus Marine Service Commitments and Licence",
           "type": "text/html"
          },
          {
           "href": "https://doi.org/10.48670/moi-00165",
           "rel": "cite-as",
           "title": "10.48670/moi-00165",
           "type": "text/html"
          },
          {
           "href": "https://data.marine.copernicus.eu/product/SST_GLO_SST_L4_NRT_OBSERVATIONS_010_001",
           "rel": "alternative",
           "title": "Product page",
           "type": "text/html"
          },
          {
           "href": "https://catalogue.marine.copernicus.eu/documents/PUM/CMEMS-SST-PUM-010-001.pdf",
           "rel": "describedby",
           "title": "Product User Manual",
           "type": "application/pdf"
          },
          {
           "href": "https://catalogue.marine.copernicus.eu/documents/QUID/CMEMS-SST-QUID-010-001.pdf",
           "rel": "describedby",
           "title": "Quality Information Document",
           "type": "application/pdf"
          },
          {
           "href": "https://catalogue.marine.copernicus.eu/documents/SQO/CMEMS-SST-SQO-010-001.pdf",
           "rel": "describedby",
           "title": "Synthesis Quality Overview",
           "type": "application/pdf"
          }
         ],
         "providers": [
          {
           "name": "Met Office (UK)",
           "roles": [
            "producer"
           ]
          },
          {
           "name": "Copernicus Marine Service",
           "roles": [
            "processor"
           ],
           "url": "https://marine.copernicus.eu"
          }
         ],
         "published": "2024-06-12T13:48:59Z",
         "sci:citation": "Global Ocean OSTIA Sea Surface Temperature and Sea Ice Analysis. E.U. Copernicus Marine Service Information (CMEMS). Marine Data Store (MDS). DOI: 10.48670/moi-00165 (Accessed on DD-MMM-YYYY)",
         "sci:doi": "10.48670/moi-00165",
         "sci:publications": [
          {
           "citation": "Good, S.; Fiedler, E.; Mao, C.; Martin, M.J.; Maycock, A.; Reid, R.; Roberts-Jones, J.; Searle, T.; Waters, J.; While, J.; Worsfold, M. The Current Configuration of the OSTIA System for Operational Production of Foundation Sea Surface Temperature and Ice Concentration Analyses. Remote Sens. 2020, 12, 720, doi:10.3390/rs12040720",
           "doi": "10.3390/rs12040720"
          },
          {
           "citation": "Donlon, C.J., Martin, M., Stark, J., Roberts-Jones, J., Fiedler, E., and Wimmer, W., 2012, The Operational Sea Surface Temperature and Sea Ice Analysis (OSTIA) system. Remote Sensing of the Environment. doi: 10.1016/j.rse.2010.10.017 2011.",
           "doi": "10.1016/j.rse.2010.10.017"
          }
         ],
         "stac_extensions": [
          "https://stac-extensions.github.io/scientific/v1.0.0/schema.json",
          "https://stac-extensions.github.io/contacts/v0.1.1/schema.json",
          "https://stac-extensions.github.io/projection/v2.0.0/schema.json",
          "https://stac-extensions.github.io/processing/v1.2.0/schema.json",
          "https://stac-extensions.github.io/timestamps/v1.1.0/schema.json"
         ],
         "stac_version": "1.0.0",
         "summaries": {
          "allVariables": [
           "Sea surface temperature (SST)",
           "Sea ice area fraction"
          ],
          "areas": [
           "Global Ocean"
          ],
          "colors": [
           "White Ocean",
           "Blue Ocean"
          ],
          "communities": [
           "Polar environment monitoring",
           "Climate & adaptation",
           "Policy & governance",
           "Science & innovation",
           "Extremes, hazards & safety",
           "Coastal services"
          ],
          "featureTypes": [
           "Grid"
          ],
          "federation:backends": [
           "cop_marine"
          ],
          "formats": [
           "NetCDF-3",
           "NetCDF-4"
          ],
          "geoResolution": [
           {
            "column": {
             "magnitude": 0.05,
             "units": "degree"
            },
            "row": {
             "magnitude": 0.05,
             "units": "degree"
            }
           }
          ],
          "isStaging": [
           "false"
          ],
          "mainVariables": [
           "Temperature",
           "Sea ice"
          ],
          "processing:level": [
           "Level 4"
          ],
          "projection": [
           "WGS 84 (EPSG:4326)"
          ],
          "rank": [
           "12000"
          ],
          "sources": [
           "Satellite observations"
          ],
          "tempResolutions": [
           "Daily",
           "Monthly"
          ],
          "times": [
           "Present",
           "Past"
          ],
          "updateFrequencies": [
           {
            "daily": "08:00; 12:00 UTC"
           }
          ],
          "vertExtentMax": [
           "0"
          ],
          "vertExtentMin": [
           "0"
          ]
         },
         "title": "Global Ocean OSTIA Sea Surface Temperature and Sea Ice Analysis",
         "type": "Collection",
         "updated": "2025-04-08T07:25:50Z"
        },
        {
         "assets": {
          "thumbnail": {
           "href": "https://mdl-metadata.s3.waw3-1.cloudferro.com/metadata/thumbnails/SST_GLO_SST_L4_REP_OBSERVATIONS_010_011.jpg",
           "roles": [
            "thumbnail"
           ],
           "title": "Global Ocean OSTIA Sea Surface Temperature and Sea Ice Reprocessed thumbnail",
           "type": "image/jpeg"
          }
         },
         "created": "2024-06-12T13:48:59Z",
         "description": "The OSTIA (Good et al., 2020) global sea surface temperature reprocessed product provides daily gap-free maps of foundation sea surface temperature and ice concentration (referred to as an L4 product) at 0.05deg.x 0.05deg. horizontal grid resolution, using in-situ and satellite data. This product provides the foundation Sea Surface Temperature, which is the temperature free of diurnal variability.\n\n**DOI (product):**   \nhttps://doi.org/10.48670/moi-00168\n\n**References:**\n\n* Good, S.; Fiedler, E.; Mao, C.; Martin, M.J.; Maycock, A.; Reid, R.; Roberts-Jones, J.; Searle, T.; Waters, J.; While, J.; Worsfold, M. The Current Configuration of the OSTIA System for Operational Production of Foundation Sea Surface Temperature and Ice Concentration Analyses. Remote Sens. 2020, 12, 720, doi:10.3390/rs12040720\n",
         "extent": {
          "spatial": {
           "bbox": [
            [
             -179.97500610351562,
             -89.9749984741211,
             179.97500610351562,
             89.9749984741211
            ]
           ]
          },
          "temporal": {
           "interval": [
            [
             "1981-10-01T00:00:00Z",
             "2022-05-31T00:00:00Z"
            ]
           ]
          }
         },
         "id": "EO.MO.DAT.SST_GLO_SST_L4_REP_OBSERVATIONS_010_011",
         "keywords": [
          "sea-ice-area-fraction",
          "level-4",
          "global-ocean",
          "marine-resources",
          "multi-year",
          "satellite-observation",
          "sea-surface-temperature",
          "coastal-marine-environment",
          "weather-climate-and-seasonal-forecasting",
          "target-application#seaiceclimate",
          "marine-safety",
          "oceanographic-geographical-features"
         ],
         "license": "proprietary",
         "links": [
          {
           "href": "https://hda.data.destination-earth.eu/stac/v2/collections/EO.MO.DAT.SST_GLO_SST_L4_REP_OBSERVATIONS_010_011/queryables",
           "rel": "http://www.opengis.net/def/rel/ogc/1.0/queryables",
           "title": "Queryables",
           "type": "application/schema+json"
          },
          {
           "href": "https://hda.data.destination-earth.eu/stac/v2/collections/EO.MO.DAT.SST_GLO_SST_L4_REP_OBSERVATIONS_010_011/items",
           "rel": "items",
           "title": "Items",
           "type": "application/geo+json"
          },
          {
           "href": "https://hda.data.destination-earth.eu/stac/v2/collections/EO.MO.DAT.SST_GLO_SST_L4_REP_OBSERVATIONS_010_011",
           "rel": "self",
           "title": "EO.MO.DAT.SST_GLO_SST_L4_REP_OBSERVATIONS_010_011",
           "type": "application/json"
          },
          {
           "href": "https://marine.copernicus.eu/user-corner/service-commitments-and-licence",
           "rel": "license",
           "title": "Copernicus Marine Service Commitments and Licence",
           "type": "text/html"
          },
          {
           "href": "https://doi.org/10.48670/moi-00168",
           "rel": "cite-as",
           "title": "10.48670/moi-00168",
           "type": "text/html"
          },
          {
           "href": "https://data.marine.copernicus.eu/product/SST_GLO_SST_L4_REP_OBSERVATIONS_010_011",
           "rel": "alternative",
           "title": "Product page",
           "type": "text/html"
          },
          {
           "href": "https://catalogue.marine.copernicus.eu/documents/PUM/CMEMS-SST-PUM-010-011.pdf",
           "rel": "describedby",
           "title": "Product User Manual",
           "type": "application/pdf"
          },
          {
           "href": "https://catalogue.marine.copernicus.eu/documents/QUID/CMEMS-SST-QUID-010-011.pdf",
           "rel": "describedby",
           "title": "Quality Information Document",
           "type": "application/pdf"
          },
          {
           "href": "https://catalogue.marine.copernicus.eu/documents/SQO/CMEMS-SST-SQO-010-011.pdf",
           "rel": "describedby",
           "title": "Synthesis Quality Overview",
           "type": "application/pdf"
          }
         ],
         "providers": [
          {
           "name": "Met Office (UK)",
           "roles": [
            "producer"
           ]
          },
          {
           "name": "Copernicus Marine Service",
           "roles": [
            "processor"
           ],
           "url": "https://marine.copernicus.eu"
          }
         ],
         "published": "2024-06-12T13:48:59Z",
         "sci:citation": "Global Ocean OSTIA Sea Surface Temperature and Sea Ice Reprocessed. E.U. Copernicus Marine Service Information (CMEMS). Marine Data Store (MDS). DOI: 10.48670/moi-00168 (Accessed on DD-MMM-YYYY)",
         "sci:doi": "10.48670/moi-00168",
         "sci:publications": [
          {
           "citation": "Good, S.; Fiedler, E.; Mao, C.; Martin, M.J.; Maycock, A.; Reid, R.; Roberts-Jones, J.; Searle, T.; Waters, J.; While, J.; Worsfold, M. The Current Configuration of the OSTIA System for Operational Production of Foundation Sea Surface Temperature and Ice Concentration Analyses. Remote Sens. 2020, 12, 720, doi:10.3390/rs12040720",
           "doi": "10.3390/rs12040720"
          }
         ],
         "stac_extensions": [
          "https://stac-extensions.github.io/scientific/v1.0.0/schema.json",
          "https://stac-extensions.github.io/contacts/v0.1.1/schema.json",
          "https://stac-extensions.github.io/projection/v2.0.0/schema.json",
          "https://stac-extensions.github.io/processing/v1.2.0/schema.json",
          "https://stac-extensions.github.io/timestamps/v1.1.0/schema.json"
         ],
         "stac_version": "1.0.0",
         "summaries": {
          "allVariables": [
           "Sea surface temperature (SST)",
           "Sea ice area fraction"
          ],
          "areas": [
           "Global Ocean"
          ],
          "colors": [
           "White Ocean",
           "Blue Ocean"
          ],
          "communities": [
           "Polar environment monitoring",
           "Climate & adaptation",
           "Policy & governance",
           "Science & innovation",
           "Extremes, hazards & safety",
           "Coastal services"
          ],
          "directives": [
           "Marine Strategy Framework Directive (MSFD)",
           "Water Framework Directive (WFD)"
          ],
          "featureTypes": [
           "Grid"
          ],
          "federation:backends": [
           "cop_marine"
          ],
          "formats": [
           "NetCDF-4"
          ],
          "geoResolution": [
           {
            "column": {
             "magnitude": 0.05,
             "units": "degree"
            },
            "row": {
             "magnitude": 0.05,
             "units": "degree"
            }
           }
          ],
          "isStaging": [
           "false"
          ],
          "mainVariables": [
           "Temperature",
           "Sea ice"
          ],
          "processing:level": [
           "Level 4"
          ],
          "projection": [
           "WGS 84 (EPSG:4326)"
          ],
          "rank": [
           "12050"
          ],
          "sources": [
           "Satellite observations"
          ],
          "tempResolutions": [
           "Daily"
          ],
          "times": [
           "Past"
          ],
          "updateFrequencies": [
           {
            "notapplicable": null
           }
          ],
          "vertExtentMax": [
           "0"
          ],
          "vertExtentMin": [
           "0"
          ]
         },
         "title": "Global Ocean OSTIA Sea Surface Temperature and Sea Ice Reprocessed",
         "type": "Collection",
         "updated": "2025-04-08T07:25:50Z"
        },
        {
         "assets": {
          "thumbnail": {
           "href": "https://mdl-metadata.s3.waw3-1.cloudferro.com/metadata/thumbnails/SST_GLO_SST_L4_REP_OBSERVATIONS_010_024.jpg",
           "roles": [
            "thumbnail"
           ],
           "title": "ESA SST CCI and C3S reprocessed sea surface temperature analyses thumbnail",
           "type": "image/jpeg"
          }
         },
         "created": "2024-06-12T13:48:59Z",
         "description": "The ESA SST CCI and C3S global Sea Surface Temperature Reprocessed product provides gap-free maps of daily average SST at 20 cm depth at 0.05deg. x 0.05deg. horizontal grid resolution, using satellite data from the (A)ATSRs, SLSTR and the AVHRR series of sensors (Merchant et al., 2019). The ESA SST CCI and C3S level 4 analyses were produced by running the Operational Sea Surface Temperature and Sea Ice Analysis (OSTIA) system (Good et al., 2020) to provide a high resolution (1/20deg. - approx. 5km grid resolution) daily analysis of the daily average sea surface temperature (SST) at 20 cm depth for the global ocean. Only (A)ATSR, SLSTR and AVHRR satellite data processed by the ESA SST CCI and C3S projects were used, giving a stable product. It also uses reprocessed sea-ice concentration data from the EUMETSAT OSI-SAF (OSI-450 and OSI-430; Lavergne et al., 2019).\n\n**DOI (product):**   \nhttps://doi.org/10.48670/moi-00169\n\n**References:**\n\n* Good, S., Fiedler, E., Mao, C., Martin, M.J., Maycock, A., Reid, R., Roberts-Jones, J., Searle, T., Waters, J., While, J., Worsfold, M. The Current Configuration of the OSTIA System for Operational Production of Foundation Sea Surface Temperature and Ice Concentration Analyses. Remote Sens. 2020, 12, 720, doi:10.3390/rs12040720.\n* Lavergne, T., Sørensen, A. M., Kern, S., Tonboe, R., Notz, D., Aaboe, S., Bell, L., Dybkjær, G., Eastwood, S., Gabarro, C., Heygster, G., Killie, M. A., Brandt Kreiner, M., Lavelle, J., Saldo, R., Sandven, S., and Pedersen, L. T.: Version 2 of the EUMETSAT OSI SAF and ESA CCI sea-ice concentration climate data records, The Cryosphere, 13, 49-78, doi:10.5194/tc-13-49-2019, 2019.\n* Merchant, C.J., Embury, O., Bulgin, C.E. et al. Satellite-based time-series of sea-surface temperature since 1981 for climate applications. Sci Data 6, 223 (2019) doi:10.1038/s41597-019-0236-x.\n",
         "extent": {
          "spatial": {
           "bbox": [
            [
             -179.97500610351562,
             -89.9749984741211,
             179.97500610351562,
             89.9749984741211
            ]
           ]
          },
          "temporal": {
           "interval": [
            [
             "1981-09-01T00:00:00Z",
             "2022-10-31T00:00:00Z"
            ]
           ]
          }
         },
         "id": "EO.MO.DAT.SST_GLO_SST_L4_REP_OBSERVATIONS_010_024",
         "keywords": [
          "sea-ice-area-fraction",
          "level-4",
          "global-ocean",
          "marine-resources",
          "multi-year",
          "satellite-observation",
          "coastal-marine-environment",
          "sea-water-temperature",
          "weather-climate-and-seasonal-forecasting",
          "target-application#seaiceclimate",
          "marine-safety",
          "oceanographic-geographical-features"
         ],
         "license": "proprietary",
         "links": [
          {
           "href": "https://hda.data.destination-earth.eu/stac/v2/collections/EO.MO.DAT.SST_GLO_SST_L4_REP_OBSERVATIONS_010_024/queryables",
           "rel": "http://www.opengis.net/def/rel/ogc/1.0/queryables",
           "title": "Queryables",
           "type": "application/schema+json"
          },
          {
           "href": "https://hda.data.destination-earth.eu/stac/v2/collections/EO.MO.DAT.SST_GLO_SST_L4_REP_OBSERVATIONS_010_024/items",
           "rel": "items",
           "title": "Items",
           "type": "application/geo+json"
          },
          {
           "href": "https://hda.data.destination-earth.eu/stac/v2/collections/EO.MO.DAT.SST_GLO_SST_L4_REP_OBSERVATIONS_010_024",
           "rel": "self",
           "title": "EO.MO.DAT.SST_GLO_SST_L4_REP_OBSERVATIONS_010_024",
           "type": "application/json"
          },
          {
           "href": "https://marine.copernicus.eu/user-corner/service-commitments-and-licence",
           "rel": "license",
           "title": "Copernicus Marine Service Commitments and Licence",
           "type": "text/html"
          },
          {
           "href": "https://doi.org/10.48670/moi-00169",
           "rel": "cite-as",
           "title": "10.48670/moi-00169",
           "type": "text/html"
          },
          {
           "href": "https://data.marine.copernicus.eu/product/SST_GLO_SST_L4_REP_OBSERVATIONS_010_024",
           "rel": "alternative",
           "title": "Product page",
           "type": "text/html"
          },
          {
           "href": "https://catalogue.marine.copernicus.eu/documents/PUM/CMEMS-SST-PUM-010-024.pdf",
           "rel": "describedby",
           "title": "Product User Manual",
           "type": "application/pdf"
          },
          {
           "href": "https://catalogue.marine.copernicus.eu/documents/QUID/CMEMS-SST-QUID-010-024.pdf",
           "rel": "describedby",
           "title": "Quality Information Document",
           "type": "application/pdf"
          },
          {
           "href": "https://catalogue.marine.copernicus.eu/documents/SQO/CMEMS-SST-SQO-010-024.pdf",
           "rel": "describedby",
           "title": "Synthesis Quality Overview",
           "type": "application/pdf"
          }
         ],
         "providers": [
          {
           "name": "Met Office (UK)",
           "roles": [
            "producer"
           ]
          },
          {
           "name": "Copernicus Marine Service",
           "roles": [
            "processor"
           ],
           "url": "https://marine.copernicus.eu"
          }
         ],
         "published": "2024-06-12T13:48:59Z",
         "sci:citation": "ESA SST CCI and C3S reprocessed sea surface temperature analyses. E.U. Copernicus Marine Service Information (CMEMS). Marine Data Store (MDS). DOI: 10.48670/moi-00169 (Accessed on DD-MMM-YYYY)",
         "sci:doi": "10.48670/moi-00169",
         "sci:publications": [
          {
           "citation": "Good, S.; Fiedler, E.; Mao, C.; Martin, M.J.; Maycock, A.; Reid, R.; Roberts-Jones, J.; Searle, T.; Waters, J.; While, J.; Worsfold, M. The Current Configuration of the OSTIA System for Operational Production of Foundation Sea Surface Temperature and Ice Concentration Analyses. Remote Sens. 2020, 12, 720, doi:10.3390/rs12040720",
           "doi": "10.3390/rs12040720"
          },
          {
           "citation": "Lavergne, T., Sørensen, A. M., Kern, S., Tonboe, R., Notz, D., Aaboe, S., Bell, L., Dybkjær, G., Eastwood, S., Gabarro, C., Heygster, G., Killie, M. A., Brandt Kreiner, M., Lavelle, J., Saldo, R., Sandven, S., and Pedersen, L. T.: Version 2 of the EUMETSAT OSI SAF and ESA CCI sea-ice concentration climate data records, The Cryosphere, 13, 49-78, doi:10.5194/tc-13-49-2019, 2019.",
           "doi": "10.5194/tc-13-49-2019"
          },
          {
           "citation": "Merchant, C.J., Embury, O., Bulgin, C.E. et al. Satellite-based time-series of sea-surface temperature since 1981 for climate applications. Sci Data 6, 223 (2019) doi:10.1038/s41597-019-0236-x.",
           "doi": "10.1038/s41597-019-0236-x"
          }
         ],
         "stac_extensions": [
          "https://stac-extensions.github.io/scientific/v1.0.0/schema.json",
          "https://stac-extensions.github.io/contacts/v0.1.1/schema.json",
          "https://stac-extensions.github.io/projection/v2.0.0/schema.json",
          "https://stac-extensions.github.io/processing/v1.2.0/schema.json",
          "https://stac-extensions.github.io/timestamps/v1.1.0/schema.json"
         ],
         "stac_version": "1.0.0",
         "summaries": {
          "allVariables": [
           "Sea water temperature (T)",
           "Sea ice area fraction"
          ],
          "areas": [
           "Global Ocean"
          ],
          "colors": [
           "White Ocean",
           "Blue Ocean"
          ],
          "communities": [
           "Polar environment monitoring",
           "Climate & adaptation",
           "Policy & governance",
           "Science & innovation",
           "Extremes, hazards & safety",
           "Coastal services"
          ],
          "directives": [
           "Marine Strategy Framework Directive (MSFD)",
           "Water Framework Directive (WFD)"
          ],
          "featureTypes": [
           "Grid"
          ],
          "federation:backends": [
           "cop_marine"
          ],
          "formats": [
           "NetCDF-4"
          ],
          "geoResolution": [
           {
            "column": {
             "magnitude": 0.05,
             "units": "degree"
            },
            "row": {
             "magnitude": 0.05,
             "units": "degree"
            }
           }
          ],
          "isStaging": [
           "false"
          ],
          "mainVariables": [
           "Temperature",
           "Sea ice"
          ],
          "processing:level": [
           "Level 4"
          ],
          "projection": [
           "WGS 84 (EPSG:4326)"
          ],
          "rank": [
           "12051"
          ],
          "sources": [
           "Satellite observations"
          ],
          "tempResolutions": [
           "Daily"
          ],
          "times": [
           "Past"
          ],
          "updateFrequencies": [
           {
            "notapplicable": null
           }
          ],
          "vertExtentMax": [
           "0"
          ],
          "vertExtentMin": [
           "0"
          ]
         },
         "title": "ESA SST CCI and C3S reprocessed sea surface temperature analyses",
         "type": "Collection",
         "updated": "2025-04-08T07:25:50Z"
        }
       ],
       "links": [
        {
         "href": "https://hda.data.destination-earth.eu/stac/v2/collections",
         "rel": "self",
         "title": "Collections",
         "type": "application/json"
        },
        {
         "href": "https://hda.data.destination-earth.eu/stac/v2/",
         "rel": "root",
         "title": "DEDL HDA STAC API",
         "type": "application/json"
        }
       ]
      },
      "text/plain": [
       "<IPython.core.display.JSON object>"
      ]
     },
     "execution_count": 5,
     "metadata": {
      "application/json": {
       "expanded": false,
       "root": "root"
      }
     },
     "output_type": "execute_result"
    }
   ],
   "source": [
    "response = requests.get(COLLECTIONS_URL,params = {\"q\": \"Chlorophyll-a Concentration,algal pigment\"})\n",
    "\n",
    "JSON(response.json(), expanded=False)"
   ]
  },
  {
   "cell_type": "markdown",
   "id": "6b8d17b9-9519-4302-ae00-bd270b3c7673",
   "metadata": {},
   "source": [
    "# Authenticate"
   ]
  },
  {
   "cell_type": "code",
   "execution_count": 6,
   "id": "a4a975d7-8668-48ee-bde3-339c8b864af6",
   "metadata": {
    "tags": []
   },
   "outputs": [
    {
     "name": "stdin",
     "output_type": "stream",
     "text": [
      "Please input your DESP username or email:  eum-dedl-user\n",
      "Please input your DESP password:  ········\n"
     ]
    },
    {
     "name": "stdout",
     "output_type": "stream",
     "text": [
      "Response code: 200\n",
      "DEDL/DESP Access Token Obtained Successfully\n"
     ]
    }
   ],
   "source": [
    "DESP_USERNAME = input(\"Please input your DESP username or email: \")\n",
    "DESP_PASSWORD = getpass(\"Please input your DESP password: \")\n",
    "\n",
    "auth = deauth.AuthHandler(DESP_USERNAME, DESP_PASSWORD)\n",
    "access_token = auth.get_token()\n",
    "if access_token is not None:\n",
    "    print(\"DEDL/DESP Access Token Obtained Successfully\")\n",
    "else:\n",
    "    print(\"Failed to Obtain DEDL/DESP Access Token\")\n",
    "\n",
    "auth_headers = {\"Authorization\": f\"Bearer {access_token}\"}"
   ]
  },
  {
   "cell_type": "markdown",
   "id": "16c39a67-7ffa-49a4-999c-22895e59099b",
   "metadata": {
    "tags": []
   },
   "source": [
    "## Search"
   ]
  },
  {
   "cell_type": "markdown",
   "id": "4749024c-5156-40b1-ba16-dd24aa71ffed",
   "metadata": {},
   "source": [
    "Once selected a collection it is possible to search for items that match the specified input filters and order the results.\n",
    "\n",
    "The collection used for this tutorial is [OLCI Level 2 Ocean Colour Reduced Resolution - Sentinel-3](https://hda.data.destination-earth.eu/ui/dataset/EO.EUM.DAT.SENTINEL-3.OL_2_WRR___)\n"
   ]
  },
  {
   "cell_type": "code",
   "execution_count": 7,
   "id": "3c582fc0-654c-46f6-8bbe-92d65946889b",
   "metadata": {
    "tags": []
   },
   "outputs": [
    {
     "data": {
      "application/json": {
       "features": [
        {
         "assets": {
          "EOPMetadata.xml": {
           "alternate": {
            "origin": {
             "href": "https://api.eumetsat.int/data/download/1.0.0/collections/EO%3AEUM%3ADAT%3A0408/products/S3A_OL_2_WRR____20240909T130929_20240909T135342_20240910T163350_2653_116_352______MAR_O_NT_003.SEN3/entry?name=EOPMetadata.xml",
             "mediaType": "application/xml",
             "roles": [
              "metadata"
             ],
             "title": "EOPMetadata.xml",
             "type": "Link"
            }
           },
           "href": "https://hda-download.lumi.data.destination-earth.eu/data/eumetsat/EO.EUM.DAT.SENTINEL-3.OL_2_WRR___/S3A_OL_2_WRR____20240909T130929_20240909T135342_20240910T163350_2653_116_352______MAR_O_NT_003.SEN3/EOPMetadata.xml",
           "mediaType": "application/xml",
           "roles": [
            "metadata"
           ],
           "title": "EOPMetadata.xml",
           "type": "Link"
          },
          "Oa01_reflectance.nc": {
           "alternate": {
            "origin": {
             "href": "https://api.eumetsat.int/data/download/1.0.0/collections/EO%3AEUM%3ADAT%3A0408/products/S3A_OL_2_WRR____20240909T130929_20240909T135342_20240910T163350_2653_116_352______MAR_O_NT_003.SEN3/entry?name=S3A_OL_2_WRR____20240909T130929_20240909T135342_20240910T163350_2653_116_352______MAR_O_NT_003.SEN3%2FOa01_reflectance.nc",
             "mediaType": "application/x-netcdf",
             "roles": [
              "data"
             ],
             "title": "S3A_OL_2_WRR____20240909T130929_20240909T135342_20240910T163350_2653_116_352______MAR_O_NT_003.SEN3/Oa01_reflectance.nc",
             "type": "Link"
            }
           },
           "href": "https://hda-download.lumi.data.destination-earth.eu/data/eumetsat/EO.EUM.DAT.SENTINEL-3.OL_2_WRR___/S3A_OL_2_WRR____20240909T130929_20240909T135342_20240910T163350_2653_116_352______MAR_O_NT_003.SEN3/Oa01_reflectance.nc",
           "mediaType": "application/x-netcdf",
           "roles": [
            "data"
           ],
           "title": "S3A_OL_2_WRR____20240909T130929_20240909T135342_20240910T163350_2653_116_352______MAR_O_NT_003.SEN3/Oa01_reflectance.nc",
           "type": "Link"
          },
          "Oa02_reflectance.nc": {
           "alternate": {
            "origin": {
             "href": "https://api.eumetsat.int/data/download/1.0.0/collections/EO%3AEUM%3ADAT%3A0408/products/S3A_OL_2_WRR____20240909T130929_20240909T135342_20240910T163350_2653_116_352______MAR_O_NT_003.SEN3/entry?name=S3A_OL_2_WRR____20240909T130929_20240909T135342_20240910T163350_2653_116_352______MAR_O_NT_003.SEN3%2FOa02_reflectance.nc",
             "mediaType": "application/x-netcdf",
             "roles": [
              "data"
             ],
             "title": "S3A_OL_2_WRR____20240909T130929_20240909T135342_20240910T163350_2653_116_352______MAR_O_NT_003.SEN3/Oa02_reflectance.nc",
             "type": "Link"
            }
           },
           "href": "https://hda-download.lumi.data.destination-earth.eu/data/eumetsat/EO.EUM.DAT.SENTINEL-3.OL_2_WRR___/S3A_OL_2_WRR____20240909T130929_20240909T135342_20240910T163350_2653_116_352______MAR_O_NT_003.SEN3/Oa02_reflectance.nc",
           "mediaType": "application/x-netcdf",
           "roles": [
            "data"
           ],
           "title": "S3A_OL_2_WRR____20240909T130929_20240909T135342_20240910T163350_2653_116_352______MAR_O_NT_003.SEN3/Oa02_reflectance.nc",
           "type": "Link"
          },
          "Oa03_reflectance.nc": {
           "alternate": {
            "origin": {
             "href": "https://api.eumetsat.int/data/download/1.0.0/collections/EO%3AEUM%3ADAT%3A0408/products/S3A_OL_2_WRR____20240909T130929_20240909T135342_20240910T163350_2653_116_352______MAR_O_NT_003.SEN3/entry?name=S3A_OL_2_WRR____20240909T130929_20240909T135342_20240910T163350_2653_116_352______MAR_O_NT_003.SEN3%2FOa03_reflectance.nc",
             "mediaType": "application/x-netcdf",
             "roles": [
              "data"
             ],
             "title": "S3A_OL_2_WRR____20240909T130929_20240909T135342_20240910T163350_2653_116_352______MAR_O_NT_003.SEN3/Oa03_reflectance.nc",
             "type": "Link"
            }
           },
           "href": "https://hda-download.lumi.data.destination-earth.eu/data/eumetsat/EO.EUM.DAT.SENTINEL-3.OL_2_WRR___/S3A_OL_2_WRR____20240909T130929_20240909T135342_20240910T163350_2653_116_352______MAR_O_NT_003.SEN3/Oa03_reflectance.nc",
           "mediaType": "application/x-netcdf",
           "roles": [
            "data"
           ],
           "title": "S3A_OL_2_WRR____20240909T130929_20240909T135342_20240910T163350_2653_116_352______MAR_O_NT_003.SEN3/Oa03_reflectance.nc",
           "type": "Link"
          },
          "Oa04_reflectance.nc": {
           "alternate": {
            "origin": {
             "href": "https://api.eumetsat.int/data/download/1.0.0/collections/EO%3AEUM%3ADAT%3A0408/products/S3A_OL_2_WRR____20240909T130929_20240909T135342_20240910T163350_2653_116_352______MAR_O_NT_003.SEN3/entry?name=S3A_OL_2_WRR____20240909T130929_20240909T135342_20240910T163350_2653_116_352______MAR_O_NT_003.SEN3%2FOa04_reflectance.nc",
             "mediaType": "application/x-netcdf",
             "roles": [
              "data"
             ],
             "title": "S3A_OL_2_WRR____20240909T130929_20240909T135342_20240910T163350_2653_116_352______MAR_O_NT_003.SEN3/Oa04_reflectance.nc",
             "type": "Link"
            }
           },
           "href": "https://hda-download.lumi.data.destination-earth.eu/data/eumetsat/EO.EUM.DAT.SENTINEL-3.OL_2_WRR___/S3A_OL_2_WRR____20240909T130929_20240909T135342_20240910T163350_2653_116_352______MAR_O_NT_003.SEN3/Oa04_reflectance.nc",
           "mediaType": "application/x-netcdf",
           "roles": [
            "data"
           ],
           "title": "S3A_OL_2_WRR____20240909T130929_20240909T135342_20240910T163350_2653_116_352______MAR_O_NT_003.SEN3/Oa04_reflectance.nc",
           "type": "Link"
          },
          "Oa05_reflectance.nc": {
           "alternate": {
            "origin": {
             "href": "https://api.eumetsat.int/data/download/1.0.0/collections/EO%3AEUM%3ADAT%3A0408/products/S3A_OL_2_WRR____20240909T130929_20240909T135342_20240910T163350_2653_116_352______MAR_O_NT_003.SEN3/entry?name=S3A_OL_2_WRR____20240909T130929_20240909T135342_20240910T163350_2653_116_352______MAR_O_NT_003.SEN3%2FOa05_reflectance.nc",
             "mediaType": "application/x-netcdf",
             "roles": [
              "data"
             ],
             "title": "S3A_OL_2_WRR____20240909T130929_20240909T135342_20240910T163350_2653_116_352______MAR_O_NT_003.SEN3/Oa05_reflectance.nc",
             "type": "Link"
            }
           },
           "href": "https://hda-download.lumi.data.destination-earth.eu/data/eumetsat/EO.EUM.DAT.SENTINEL-3.OL_2_WRR___/S3A_OL_2_WRR____20240909T130929_20240909T135342_20240910T163350_2653_116_352______MAR_O_NT_003.SEN3/Oa05_reflectance.nc",
           "mediaType": "application/x-netcdf",
           "roles": [
            "data"
           ],
           "title": "S3A_OL_2_WRR____20240909T130929_20240909T135342_20240910T163350_2653_116_352______MAR_O_NT_003.SEN3/Oa05_reflectance.nc",
           "type": "Link"
          },
          "Oa06_reflectance.nc": {
           "alternate": {
            "origin": {
             "href": "https://api.eumetsat.int/data/download/1.0.0/collections/EO%3AEUM%3ADAT%3A0408/products/S3A_OL_2_WRR____20240909T130929_20240909T135342_20240910T163350_2653_116_352______MAR_O_NT_003.SEN3/entry?name=S3A_OL_2_WRR____20240909T130929_20240909T135342_20240910T163350_2653_116_352______MAR_O_NT_003.SEN3%2FOa06_reflectance.nc",
             "mediaType": "application/x-netcdf",
             "roles": [
              "data"
             ],
             "title": "S3A_OL_2_WRR____20240909T130929_20240909T135342_20240910T163350_2653_116_352______MAR_O_NT_003.SEN3/Oa06_reflectance.nc",
             "type": "Link"
            }
           },
           "href": "https://hda-download.lumi.data.destination-earth.eu/data/eumetsat/EO.EUM.DAT.SENTINEL-3.OL_2_WRR___/S3A_OL_2_WRR____20240909T130929_20240909T135342_20240910T163350_2653_116_352______MAR_O_NT_003.SEN3/Oa06_reflectance.nc",
           "mediaType": "application/x-netcdf",
           "roles": [
            "data"
           ],
           "title": "S3A_OL_2_WRR____20240909T130929_20240909T135342_20240910T163350_2653_116_352______MAR_O_NT_003.SEN3/Oa06_reflectance.nc",
           "type": "Link"
          },
          "Oa07_reflectance.nc": {
           "alternate": {
            "origin": {
             "href": "https://api.eumetsat.int/data/download/1.0.0/collections/EO%3AEUM%3ADAT%3A0408/products/S3A_OL_2_WRR____20240909T130929_20240909T135342_20240910T163350_2653_116_352______MAR_O_NT_003.SEN3/entry?name=S3A_OL_2_WRR____20240909T130929_20240909T135342_20240910T163350_2653_116_352______MAR_O_NT_003.SEN3%2FOa07_reflectance.nc",
             "mediaType": "application/x-netcdf",
             "roles": [
              "data"
             ],
             "title": "S3A_OL_2_WRR____20240909T130929_20240909T135342_20240910T163350_2653_116_352______MAR_O_NT_003.SEN3/Oa07_reflectance.nc",
             "type": "Link"
            }
           },
           "href": "https://hda-download.lumi.data.destination-earth.eu/data/eumetsat/EO.EUM.DAT.SENTINEL-3.OL_2_WRR___/S3A_OL_2_WRR____20240909T130929_20240909T135342_20240910T163350_2653_116_352______MAR_O_NT_003.SEN3/Oa07_reflectance.nc",
           "mediaType": "application/x-netcdf",
           "roles": [
            "data"
           ],
           "title": "S3A_OL_2_WRR____20240909T130929_20240909T135342_20240910T163350_2653_116_352______MAR_O_NT_003.SEN3/Oa07_reflectance.nc",
           "type": "Link"
          },
          "Oa08_reflectance.nc": {
           "alternate": {
            "origin": {
             "href": "https://api.eumetsat.int/data/download/1.0.0/collections/EO%3AEUM%3ADAT%3A0408/products/S3A_OL_2_WRR____20240909T130929_20240909T135342_20240910T163350_2653_116_352______MAR_O_NT_003.SEN3/entry?name=S3A_OL_2_WRR____20240909T130929_20240909T135342_20240910T163350_2653_116_352______MAR_O_NT_003.SEN3%2FOa08_reflectance.nc",
             "mediaType": "application/x-netcdf",
             "roles": [
              "data"
             ],
             "title": "S3A_OL_2_WRR____20240909T130929_20240909T135342_20240910T163350_2653_116_352______MAR_O_NT_003.SEN3/Oa08_reflectance.nc",
             "type": "Link"
            }
           },
           "href": "https://hda-download.lumi.data.destination-earth.eu/data/eumetsat/EO.EUM.DAT.SENTINEL-3.OL_2_WRR___/S3A_OL_2_WRR____20240909T130929_20240909T135342_20240910T163350_2653_116_352______MAR_O_NT_003.SEN3/Oa08_reflectance.nc",
           "mediaType": "application/x-netcdf",
           "roles": [
            "data"
           ],
           "title": "S3A_OL_2_WRR____20240909T130929_20240909T135342_20240910T163350_2653_116_352______MAR_O_NT_003.SEN3/Oa08_reflectance.nc",
           "type": "Link"
          },
          "Oa09_reflectance.nc": {
           "alternate": {
            "origin": {
             "href": "https://api.eumetsat.int/data/download/1.0.0/collections/EO%3AEUM%3ADAT%3A0408/products/S3A_OL_2_WRR____20240909T130929_20240909T135342_20240910T163350_2653_116_352______MAR_O_NT_003.SEN3/entry?name=S3A_OL_2_WRR____20240909T130929_20240909T135342_20240910T163350_2653_116_352______MAR_O_NT_003.SEN3%2FOa09_reflectance.nc",
             "mediaType": "application/x-netcdf",
             "roles": [
              "data"
             ],
             "title": "S3A_OL_2_WRR____20240909T130929_20240909T135342_20240910T163350_2653_116_352______MAR_O_NT_003.SEN3/Oa09_reflectance.nc",
             "type": "Link"
            }
           },
           "href": "https://hda-download.lumi.data.destination-earth.eu/data/eumetsat/EO.EUM.DAT.SENTINEL-3.OL_2_WRR___/S3A_OL_2_WRR____20240909T130929_20240909T135342_20240910T163350_2653_116_352______MAR_O_NT_003.SEN3/Oa09_reflectance.nc",
           "mediaType": "application/x-netcdf",
           "roles": [
            "data"
           ],
           "title": "S3A_OL_2_WRR____20240909T130929_20240909T135342_20240910T163350_2653_116_352______MAR_O_NT_003.SEN3/Oa09_reflectance.nc",
           "type": "Link"
          },
          "Oa10_reflectance.nc": {
           "alternate": {
            "origin": {
             "href": "https://api.eumetsat.int/data/download/1.0.0/collections/EO%3AEUM%3ADAT%3A0408/products/S3A_OL_2_WRR____20240909T130929_20240909T135342_20240910T163350_2653_116_352______MAR_O_NT_003.SEN3/entry?name=S3A_OL_2_WRR____20240909T130929_20240909T135342_20240910T163350_2653_116_352______MAR_O_NT_003.SEN3%2FOa10_reflectance.nc",
             "mediaType": "application/x-netcdf",
             "roles": [
              "data"
             ],
             "title": "S3A_OL_2_WRR____20240909T130929_20240909T135342_20240910T163350_2653_116_352______MAR_O_NT_003.SEN3/Oa10_reflectance.nc",
             "type": "Link"
            }
           },
           "href": "https://hda-download.lumi.data.destination-earth.eu/data/eumetsat/EO.EUM.DAT.SENTINEL-3.OL_2_WRR___/S3A_OL_2_WRR____20240909T130929_20240909T135342_20240910T163350_2653_116_352______MAR_O_NT_003.SEN3/Oa10_reflectance.nc",
           "mediaType": "application/x-netcdf",
           "roles": [
            "data"
           ],
           "title": "S3A_OL_2_WRR____20240909T130929_20240909T135342_20240910T163350_2653_116_352______MAR_O_NT_003.SEN3/Oa10_reflectance.nc",
           "type": "Link"
          },
          "Oa11_reflectance.nc": {
           "alternate": {
            "origin": {
             "href": "https://api.eumetsat.int/data/download/1.0.0/collections/EO%3AEUM%3ADAT%3A0408/products/S3A_OL_2_WRR____20240909T130929_20240909T135342_20240910T163350_2653_116_352______MAR_O_NT_003.SEN3/entry?name=S3A_OL_2_WRR____20240909T130929_20240909T135342_20240910T163350_2653_116_352______MAR_O_NT_003.SEN3%2FOa11_reflectance.nc",
             "mediaType": "application/x-netcdf",
             "roles": [
              "data"
             ],
             "title": "S3A_OL_2_WRR____20240909T130929_20240909T135342_20240910T163350_2653_116_352______MAR_O_NT_003.SEN3/Oa11_reflectance.nc",
             "type": "Link"
            }
           },
           "href": "https://hda-download.lumi.data.destination-earth.eu/data/eumetsat/EO.EUM.DAT.SENTINEL-3.OL_2_WRR___/S3A_OL_2_WRR____20240909T130929_20240909T135342_20240910T163350_2653_116_352______MAR_O_NT_003.SEN3/Oa11_reflectance.nc",
           "mediaType": "application/x-netcdf",
           "roles": [
            "data"
           ],
           "title": "S3A_OL_2_WRR____20240909T130929_20240909T135342_20240910T163350_2653_116_352______MAR_O_NT_003.SEN3/Oa11_reflectance.nc",
           "type": "Link"
          },
          "Oa12_reflectance.nc": {
           "alternate": {
            "origin": {
             "href": "https://api.eumetsat.int/data/download/1.0.0/collections/EO%3AEUM%3ADAT%3A0408/products/S3A_OL_2_WRR____20240909T130929_20240909T135342_20240910T163350_2653_116_352______MAR_O_NT_003.SEN3/entry?name=S3A_OL_2_WRR____20240909T130929_20240909T135342_20240910T163350_2653_116_352______MAR_O_NT_003.SEN3%2FOa12_reflectance.nc",
             "mediaType": "application/x-netcdf",
             "roles": [
              "data"
             ],
             "title": "S3A_OL_2_WRR____20240909T130929_20240909T135342_20240910T163350_2653_116_352______MAR_O_NT_003.SEN3/Oa12_reflectance.nc",
             "type": "Link"
            }
           },
           "href": "https://hda-download.lumi.data.destination-earth.eu/data/eumetsat/EO.EUM.DAT.SENTINEL-3.OL_2_WRR___/S3A_OL_2_WRR____20240909T130929_20240909T135342_20240910T163350_2653_116_352______MAR_O_NT_003.SEN3/Oa12_reflectance.nc",
           "mediaType": "application/x-netcdf",
           "roles": [
            "data"
           ],
           "title": "S3A_OL_2_WRR____20240909T130929_20240909T135342_20240910T163350_2653_116_352______MAR_O_NT_003.SEN3/Oa12_reflectance.nc",
           "type": "Link"
          },
          "Oa16_reflectance.nc": {
           "alternate": {
            "origin": {
             "href": "https://api.eumetsat.int/data/download/1.0.0/collections/EO%3AEUM%3ADAT%3A0408/products/S3A_OL_2_WRR____20240909T130929_20240909T135342_20240910T163350_2653_116_352______MAR_O_NT_003.SEN3/entry?name=S3A_OL_2_WRR____20240909T130929_20240909T135342_20240910T163350_2653_116_352______MAR_O_NT_003.SEN3%2FOa16_reflectance.nc",
             "mediaType": "application/x-netcdf",
             "roles": [
              "data"
             ],
             "title": "S3A_OL_2_WRR____20240909T130929_20240909T135342_20240910T163350_2653_116_352______MAR_O_NT_003.SEN3/Oa16_reflectance.nc",
             "type": "Link"
            }
           },
           "href": "https://hda-download.lumi.data.destination-earth.eu/data/eumetsat/EO.EUM.DAT.SENTINEL-3.OL_2_WRR___/S3A_OL_2_WRR____20240909T130929_20240909T135342_20240910T163350_2653_116_352______MAR_O_NT_003.SEN3/Oa16_reflectance.nc",
           "mediaType": "application/x-netcdf",
           "roles": [
            "data"
           ],
           "title": "S3A_OL_2_WRR____20240909T130929_20240909T135342_20240910T163350_2653_116_352______MAR_O_NT_003.SEN3/Oa16_reflectance.nc",
           "type": "Link"
          },
          "Oa17_reflectance.nc": {
           "alternate": {
            "origin": {
             "href": "https://api.eumetsat.int/data/download/1.0.0/collections/EO%3AEUM%3ADAT%3A0408/products/S3A_OL_2_WRR____20240909T130929_20240909T135342_20240910T163350_2653_116_352______MAR_O_NT_003.SEN3/entry?name=S3A_OL_2_WRR____20240909T130929_20240909T135342_20240910T163350_2653_116_352______MAR_O_NT_003.SEN3%2FOa17_reflectance.nc",
             "mediaType": "application/x-netcdf",
             "roles": [
              "data"
             ],
             "title": "S3A_OL_2_WRR____20240909T130929_20240909T135342_20240910T163350_2653_116_352______MAR_O_NT_003.SEN3/Oa17_reflectance.nc",
             "type": "Link"
            }
           },
           "href": "https://hda-download.lumi.data.destination-earth.eu/data/eumetsat/EO.EUM.DAT.SENTINEL-3.OL_2_WRR___/S3A_OL_2_WRR____20240909T130929_20240909T135342_20240910T163350_2653_116_352______MAR_O_NT_003.SEN3/Oa17_reflectance.nc",
           "mediaType": "application/x-netcdf",
           "roles": [
            "data"
           ],
           "title": "S3A_OL_2_WRR____20240909T130929_20240909T135342_20240910T163350_2653_116_352______MAR_O_NT_003.SEN3/Oa17_reflectance.nc",
           "type": "Link"
          },
          "Oa18_reflectance.nc": {
           "alternate": {
            "origin": {
             "href": "https://api.eumetsat.int/data/download/1.0.0/collections/EO%3AEUM%3ADAT%3A0408/products/S3A_OL_2_WRR____20240909T130929_20240909T135342_20240910T163350_2653_116_352______MAR_O_NT_003.SEN3/entry?name=S3A_OL_2_WRR____20240909T130929_20240909T135342_20240910T163350_2653_116_352______MAR_O_NT_003.SEN3%2FOa18_reflectance.nc",
             "mediaType": "application/x-netcdf",
             "roles": [
              "data"
             ],
             "title": "S3A_OL_2_WRR____20240909T130929_20240909T135342_20240910T163350_2653_116_352______MAR_O_NT_003.SEN3/Oa18_reflectance.nc",
             "type": "Link"
            }
           },
           "href": "https://hda-download.lumi.data.destination-earth.eu/data/eumetsat/EO.EUM.DAT.SENTINEL-3.OL_2_WRR___/S3A_OL_2_WRR____20240909T130929_20240909T135342_20240910T163350_2653_116_352______MAR_O_NT_003.SEN3/Oa18_reflectance.nc",
           "mediaType": "application/x-netcdf",
           "roles": [
            "data"
           ],
           "title": "S3A_OL_2_WRR____20240909T130929_20240909T135342_20240910T163350_2653_116_352______MAR_O_NT_003.SEN3/Oa18_reflectance.nc",
           "type": "Link"
          },
          "Oa21_reflectance.nc": {
           "alternate": {
            "origin": {
             "href": "https://api.eumetsat.int/data/download/1.0.0/collections/EO%3AEUM%3ADAT%3A0408/products/S3A_OL_2_WRR____20240909T130929_20240909T135342_20240910T163350_2653_116_352______MAR_O_NT_003.SEN3/entry?name=S3A_OL_2_WRR____20240909T130929_20240909T135342_20240910T163350_2653_116_352______MAR_O_NT_003.SEN3%2FOa21_reflectance.nc",
             "mediaType": "application/x-netcdf",
             "roles": [
              "data"
             ],
             "title": "S3A_OL_2_WRR____20240909T130929_20240909T135342_20240910T163350_2653_116_352______MAR_O_NT_003.SEN3/Oa21_reflectance.nc",
             "type": "Link"
            }
           },
           "href": "https://hda-download.lumi.data.destination-earth.eu/data/eumetsat/EO.EUM.DAT.SENTINEL-3.OL_2_WRR___/S3A_OL_2_WRR____20240909T130929_20240909T135342_20240910T163350_2653_116_352______MAR_O_NT_003.SEN3/Oa21_reflectance.nc",
           "mediaType": "application/x-netcdf",
           "roles": [
            "data"
           ],
           "title": "S3A_OL_2_WRR____20240909T130929_20240909T135342_20240910T163350_2653_116_352______MAR_O_NT_003.SEN3/Oa21_reflectance.nc",
           "type": "Link"
          },
          "browse.jpg": {
           "alternate": {
            "origin": {
             "href": "https://api.eumetsat.int/data/download/1.0.0/collections/EO%3AEUM%3ADAT%3A0408/products/S3A_OL_2_WRR____20240909T130929_20240909T135342_20240910T163350_2653_116_352______MAR_O_NT_003.SEN3/entry?name=browse.jpg",
             "mediaType": "image/jpeg",
             "roles": [
              "auxiliary"
             ],
             "title": "browse.jpg",
             "type": "Link"
            }
           },
           "href": "https://hda-download.lumi.data.destination-earth.eu/data/eumetsat/EO.EUM.DAT.SENTINEL-3.OL_2_WRR___/S3A_OL_2_WRR____20240909T130929_20240909T135342_20240910T163350_2653_116_352______MAR_O_NT_003.SEN3/browse.jpg",
           "mediaType": "image/jpeg",
           "roles": [
            "auxiliary"
           ],
           "title": "browse.jpg",
           "type": "Link"
          },
          "chl_nn.nc": {
           "alternate": {
            "origin": {
             "href": "https://api.eumetsat.int/data/download/1.0.0/collections/EO%3AEUM%3ADAT%3A0408/products/S3A_OL_2_WRR____20240909T130929_20240909T135342_20240910T163350_2653_116_352______MAR_O_NT_003.SEN3/entry?name=S3A_OL_2_WRR____20240909T130929_20240909T135342_20240910T163350_2653_116_352______MAR_O_NT_003.SEN3%2Fchl_nn.nc",
             "mediaType": "application/x-netcdf",
             "roles": [
              "data"
             ],
             "title": "S3A_OL_2_WRR____20240909T130929_20240909T135342_20240910T163350_2653_116_352______MAR_O_NT_003.SEN3/chl_nn.nc",
             "type": "Link"
            }
           },
           "href": "https://hda-download.lumi.data.destination-earth.eu/data/eumetsat/EO.EUM.DAT.SENTINEL-3.OL_2_WRR___/S3A_OL_2_WRR____20240909T130929_20240909T135342_20240910T163350_2653_116_352______MAR_O_NT_003.SEN3/chl_nn.nc",
           "mediaType": "application/x-netcdf",
           "roles": [
            "data"
           ],
           "title": "S3A_OL_2_WRR____20240909T130929_20240909T135342_20240910T163350_2653_116_352______MAR_O_NT_003.SEN3/chl_nn.nc",
           "type": "Link"
          },
          "chl_oc4me.nc": {
           "alternate": {
            "origin": {
             "href": "https://api.eumetsat.int/data/download/1.0.0/collections/EO%3AEUM%3ADAT%3A0408/products/S3A_OL_2_WRR____20240909T130929_20240909T135342_20240910T163350_2653_116_352______MAR_O_NT_003.SEN3/entry?name=S3A_OL_2_WRR____20240909T130929_20240909T135342_20240910T163350_2653_116_352______MAR_O_NT_003.SEN3%2Fchl_oc4me.nc",
             "mediaType": "application/x-netcdf",
             "roles": [
              "data"
             ],
             "title": "S3A_OL_2_WRR____20240909T130929_20240909T135342_20240910T163350_2653_116_352______MAR_O_NT_003.SEN3/chl_oc4me.nc",
             "type": "Link"
            }
           },
           "href": "https://hda-download.lumi.data.destination-earth.eu/data/eumetsat/EO.EUM.DAT.SENTINEL-3.OL_2_WRR___/S3A_OL_2_WRR____20240909T130929_20240909T135342_20240910T163350_2653_116_352______MAR_O_NT_003.SEN3/chl_oc4me.nc",
           "mediaType": "application/x-netcdf",
           "roles": [
            "data"
           ],
           "title": "S3A_OL_2_WRR____20240909T130929_20240909T135342_20240910T163350_2653_116_352______MAR_O_NT_003.SEN3/chl_oc4me.nc",
           "type": "Link"
          },
          "downloadLink": {
           "alternate": {
            "origin": {
             "href": "https://api.eumetsat.int/data/download/1.0.0/collections/EO%3AEUM%3ADAT%3A0408/products/S3A_OL_2_WRR____20240909T130929_20240909T135342_20240910T163350_2653_116_352______MAR_O_NT_003.SEN3",
             "title": "Origin asset link",
             "type": "application/zip"
            }
           },
           "href": "https://hda-download.lumi.data.destination-earth.eu/data/eumetsat/EO.EUM.DAT.SENTINEL-3.OL_2_WRR___/S3A_OL_2_WRR____20240909T130929_20240909T135342_20240910T163350_2653_116_352______MAR_O_NT_003.SEN3/downloadLink",
           "title": "Download link",
           "type": "application/zip"
          },
          "geo_coordinates.nc": {
           "alternate": {
            "origin": {
             "href": "https://api.eumetsat.int/data/download/1.0.0/collections/EO%3AEUM%3ADAT%3A0408/products/S3A_OL_2_WRR____20240909T130929_20240909T135342_20240910T163350_2653_116_352______MAR_O_NT_003.SEN3/entry?name=S3A_OL_2_WRR____20240909T130929_20240909T135342_20240910T163350_2653_116_352______MAR_O_NT_003.SEN3%2Fgeo_coordinates.nc",
             "mediaType": "application/x-netcdf",
             "roles": [
              "data"
             ],
             "title": "S3A_OL_2_WRR____20240909T130929_20240909T135342_20240910T163350_2653_116_352______MAR_O_NT_003.SEN3/geo_coordinates.nc",
             "type": "Link"
            }
           },
           "href": "https://hda-download.lumi.data.destination-earth.eu/data/eumetsat/EO.EUM.DAT.SENTINEL-3.OL_2_WRR___/S3A_OL_2_WRR____20240909T130929_20240909T135342_20240910T163350_2653_116_352______MAR_O_NT_003.SEN3/geo_coordinates.nc",
           "mediaType": "application/x-netcdf",
           "roles": [
            "data"
           ],
           "title": "S3A_OL_2_WRR____20240909T130929_20240909T135342_20240910T163350_2653_116_352______MAR_O_NT_003.SEN3/geo_coordinates.nc",
           "type": "Link"
          },
          "instrument_data.nc": {
           "alternate": {
            "origin": {
             "href": "https://api.eumetsat.int/data/download/1.0.0/collections/EO%3AEUM%3ADAT%3A0408/products/S3A_OL_2_WRR____20240909T130929_20240909T135342_20240910T163350_2653_116_352______MAR_O_NT_003.SEN3/entry?name=S3A_OL_2_WRR____20240909T130929_20240909T135342_20240910T163350_2653_116_352______MAR_O_NT_003.SEN3%2Finstrument_data.nc",
             "mediaType": "application/x-netcdf",
             "roles": [
              "data"
             ],
             "title": "S3A_OL_2_WRR____20240909T130929_20240909T135342_20240910T163350_2653_116_352______MAR_O_NT_003.SEN3/instrument_data.nc",
             "type": "Link"
            }
           },
           "href": "https://hda-download.lumi.data.destination-earth.eu/data/eumetsat/EO.EUM.DAT.SENTINEL-3.OL_2_WRR___/S3A_OL_2_WRR____20240909T130929_20240909T135342_20240910T163350_2653_116_352______MAR_O_NT_003.SEN3/instrument_data.nc",
           "mediaType": "application/x-netcdf",
           "roles": [
            "data"
           ],
           "title": "S3A_OL_2_WRR____20240909T130929_20240909T135342_20240910T163350_2653_116_352______MAR_O_NT_003.SEN3/instrument_data.nc",
           "type": "Link"
          },
          "iop_lsd.nc": {
           "alternate": {
            "origin": {
             "href": "https://api.eumetsat.int/data/download/1.0.0/collections/EO%3AEUM%3ADAT%3A0408/products/S3A_OL_2_WRR____20240909T130929_20240909T135342_20240910T163350_2653_116_352______MAR_O_NT_003.SEN3/entry?name=S3A_OL_2_WRR____20240909T130929_20240909T135342_20240910T163350_2653_116_352______MAR_O_NT_003.SEN3%2Fiop_lsd.nc",
             "mediaType": "application/x-netcdf",
             "roles": [
              "data"
             ],
             "title": "S3A_OL_2_WRR____20240909T130929_20240909T135342_20240910T163350_2653_116_352______MAR_O_NT_003.SEN3/iop_lsd.nc",
             "type": "Link"
            }
           },
           "href": "https://hda-download.lumi.data.destination-earth.eu/data/eumetsat/EO.EUM.DAT.SENTINEL-3.OL_2_WRR___/S3A_OL_2_WRR____20240909T130929_20240909T135342_20240910T163350_2653_116_352______MAR_O_NT_003.SEN3/iop_lsd.nc",
           "mediaType": "application/x-netcdf",
           "roles": [
            "data"
           ],
           "title": "S3A_OL_2_WRR____20240909T130929_20240909T135342_20240910T163350_2653_116_352______MAR_O_NT_003.SEN3/iop_lsd.nc",
           "type": "Link"
          },
          "iop_nn.nc": {
           "alternate": {
            "origin": {
             "href": "https://api.eumetsat.int/data/download/1.0.0/collections/EO%3AEUM%3ADAT%3A0408/products/S3A_OL_2_WRR____20240909T130929_20240909T135342_20240910T163350_2653_116_352______MAR_O_NT_003.SEN3/entry?name=S3A_OL_2_WRR____20240909T130929_20240909T135342_20240910T163350_2653_116_352______MAR_O_NT_003.SEN3%2Fiop_nn.nc",
             "mediaType": "application/x-netcdf",
             "roles": [
              "data"
             ],
             "title": "S3A_OL_2_WRR____20240909T130929_20240909T135342_20240910T163350_2653_116_352______MAR_O_NT_003.SEN3/iop_nn.nc",
             "type": "Link"
            }
           },
           "href": "https://hda-download.lumi.data.destination-earth.eu/data/eumetsat/EO.EUM.DAT.SENTINEL-3.OL_2_WRR___/S3A_OL_2_WRR____20240909T130929_20240909T135342_20240910T163350_2653_116_352______MAR_O_NT_003.SEN3/iop_nn.nc",
           "mediaType": "application/x-netcdf",
           "roles": [
            "data"
           ],
           "title": "S3A_OL_2_WRR____20240909T130929_20240909T135342_20240910T163350_2653_116_352______MAR_O_NT_003.SEN3/iop_nn.nc",
           "type": "Link"
          },
          "iwv.nc": {
           "alternate": {
            "origin": {
             "href": "https://api.eumetsat.int/data/download/1.0.0/collections/EO%3AEUM%3ADAT%3A0408/products/S3A_OL_2_WRR____20240909T130929_20240909T135342_20240910T163350_2653_116_352______MAR_O_NT_003.SEN3/entry?name=S3A_OL_2_WRR____20240909T130929_20240909T135342_20240910T163350_2653_116_352______MAR_O_NT_003.SEN3%2Fiwv.nc",
             "mediaType": "application/x-netcdf",
             "roles": [
              "data"
             ],
             "title": "S3A_OL_2_WRR____20240909T130929_20240909T135342_20240910T163350_2653_116_352______MAR_O_NT_003.SEN3/iwv.nc",
             "type": "Link"
            }
           },
           "href": "https://hda-download.lumi.data.destination-earth.eu/data/eumetsat/EO.EUM.DAT.SENTINEL-3.OL_2_WRR___/S3A_OL_2_WRR____20240909T130929_20240909T135342_20240910T163350_2653_116_352______MAR_O_NT_003.SEN3/iwv.nc",
           "mediaType": "application/x-netcdf",
           "roles": [
            "data"
           ],
           "title": "S3A_OL_2_WRR____20240909T130929_20240909T135342_20240910T163350_2653_116_352______MAR_O_NT_003.SEN3/iwv.nc",
           "type": "Link"
          },
          "manifest.xml": {
           "alternate": {
            "origin": {
             "href": "https://api.eumetsat.int/data/download/1.0.0/collections/EO%3AEUM%3ADAT%3A0408/products/S3A_OL_2_WRR____20240909T130929_20240909T135342_20240910T163350_2653_116_352______MAR_O_NT_003.SEN3/entry?name=manifest.xml",
             "mediaType": "application/xml",
             "roles": [
              "metadata"
             ],
             "title": "manifest.xml",
             "type": "Link"
            }
           },
           "href": "https://hda-download.lumi.data.destination-earth.eu/data/eumetsat/EO.EUM.DAT.SENTINEL-3.OL_2_WRR___/S3A_OL_2_WRR____20240909T130929_20240909T135342_20240910T163350_2653_116_352______MAR_O_NT_003.SEN3/manifest.xml",
           "mediaType": "application/xml",
           "roles": [
            "metadata"
           ],
           "title": "manifest.xml",
           "type": "Link"
          },
          "par.nc": {
           "alternate": {
            "origin": {
             "href": "https://api.eumetsat.int/data/download/1.0.0/collections/EO%3AEUM%3ADAT%3A0408/products/S3A_OL_2_WRR____20240909T130929_20240909T135342_20240910T163350_2653_116_352______MAR_O_NT_003.SEN3/entry?name=S3A_OL_2_WRR____20240909T130929_20240909T135342_20240910T163350_2653_116_352______MAR_O_NT_003.SEN3%2Fpar.nc",
             "mediaType": "application/x-netcdf",
             "roles": [
              "data"
             ],
             "title": "S3A_OL_2_WRR____20240909T130929_20240909T135342_20240910T163350_2653_116_352______MAR_O_NT_003.SEN3/par.nc",
             "type": "Link"
            }
           },
           "href": "https://hda-download.lumi.data.destination-earth.eu/data/eumetsat/EO.EUM.DAT.SENTINEL-3.OL_2_WRR___/S3A_OL_2_WRR____20240909T130929_20240909T135342_20240910T163350_2653_116_352______MAR_O_NT_003.SEN3/par.nc",
           "mediaType": "application/x-netcdf",
           "roles": [
            "data"
           ],
           "title": "S3A_OL_2_WRR____20240909T130929_20240909T135342_20240910T163350_2653_116_352______MAR_O_NT_003.SEN3/par.nc",
           "type": "Link"
          },
          "tie_geo_coordinates.nc": {
           "alternate": {
            "origin": {
             "href": "https://api.eumetsat.int/data/download/1.0.0/collections/EO%3AEUM%3ADAT%3A0408/products/S3A_OL_2_WRR____20240909T130929_20240909T135342_20240910T163350_2653_116_352______MAR_O_NT_003.SEN3/entry?name=S3A_OL_2_WRR____20240909T130929_20240909T135342_20240910T163350_2653_116_352______MAR_O_NT_003.SEN3%2Ftie_geo_coordinates.nc",
             "mediaType": "application/x-netcdf",
             "roles": [
              "data"
             ],
             "title": "S3A_OL_2_WRR____20240909T130929_20240909T135342_20240910T163350_2653_116_352______MAR_O_NT_003.SEN3/tie_geo_coordinates.nc",
             "type": "Link"
            }
           },
           "href": "https://hda-download.lumi.data.destination-earth.eu/data/eumetsat/EO.EUM.DAT.SENTINEL-3.OL_2_WRR___/S3A_OL_2_WRR____20240909T130929_20240909T135342_20240910T163350_2653_116_352______MAR_O_NT_003.SEN3/tie_geo_coordinates.nc",
           "mediaType": "application/x-netcdf",
           "roles": [
            "data"
           ],
           "title": "S3A_OL_2_WRR____20240909T130929_20240909T135342_20240910T163350_2653_116_352______MAR_O_NT_003.SEN3/tie_geo_coordinates.nc",
           "type": "Link"
          },
          "tie_geometries.nc": {
           "alternate": {
            "origin": {
             "href": "https://api.eumetsat.int/data/download/1.0.0/collections/EO%3AEUM%3ADAT%3A0408/products/S3A_OL_2_WRR____20240909T130929_20240909T135342_20240910T163350_2653_116_352______MAR_O_NT_003.SEN3/entry?name=S3A_OL_2_WRR____20240909T130929_20240909T135342_20240910T163350_2653_116_352______MAR_O_NT_003.SEN3%2Ftie_geometries.nc",
             "mediaType": "application/x-netcdf",
             "roles": [
              "data"
             ],
             "title": "S3A_OL_2_WRR____20240909T130929_20240909T135342_20240910T163350_2653_116_352______MAR_O_NT_003.SEN3/tie_geometries.nc",
             "type": "Link"
            }
           },
           "href": "https://hda-download.lumi.data.destination-earth.eu/data/eumetsat/EO.EUM.DAT.SENTINEL-3.OL_2_WRR___/S3A_OL_2_WRR____20240909T130929_20240909T135342_20240910T163350_2653_116_352______MAR_O_NT_003.SEN3/tie_geometries.nc",
           "mediaType": "application/x-netcdf",
           "roles": [
            "data"
           ],
           "title": "S3A_OL_2_WRR____20240909T130929_20240909T135342_20240910T163350_2653_116_352______MAR_O_NT_003.SEN3/tie_geometries.nc",
           "type": "Link"
          },
          "tie_meteo.nc": {
           "alternate": {
            "origin": {
             "href": "https://api.eumetsat.int/data/download/1.0.0/collections/EO%3AEUM%3ADAT%3A0408/products/S3A_OL_2_WRR____20240909T130929_20240909T135342_20240910T163350_2653_116_352______MAR_O_NT_003.SEN3/entry?name=S3A_OL_2_WRR____20240909T130929_20240909T135342_20240910T163350_2653_116_352______MAR_O_NT_003.SEN3%2Ftie_meteo.nc",
             "mediaType": "application/x-netcdf",
             "roles": [
              "data"
             ],
             "title": "S3A_OL_2_WRR____20240909T130929_20240909T135342_20240910T163350_2653_116_352______MAR_O_NT_003.SEN3/tie_meteo.nc",
             "type": "Link"
            }
           },
           "href": "https://hda-download.lumi.data.destination-earth.eu/data/eumetsat/EO.EUM.DAT.SENTINEL-3.OL_2_WRR___/S3A_OL_2_WRR____20240909T130929_20240909T135342_20240910T163350_2653_116_352______MAR_O_NT_003.SEN3/tie_meteo.nc",
           "mediaType": "application/x-netcdf",
           "roles": [
            "data"
           ],
           "title": "S3A_OL_2_WRR____20240909T130929_20240909T135342_20240910T163350_2653_116_352______MAR_O_NT_003.SEN3/tie_meteo.nc",
           "type": "Link"
          },
          "time_coordinates.nc": {
           "alternate": {
            "origin": {
             "href": "https://api.eumetsat.int/data/download/1.0.0/collections/EO%3AEUM%3ADAT%3A0408/products/S3A_OL_2_WRR____20240909T130929_20240909T135342_20240910T163350_2653_116_352______MAR_O_NT_003.SEN3/entry?name=S3A_OL_2_WRR____20240909T130929_20240909T135342_20240910T163350_2653_116_352______MAR_O_NT_003.SEN3%2Ftime_coordinates.nc",
             "mediaType": "application/x-netcdf",
             "roles": [
              "data"
             ],
             "title": "S3A_OL_2_WRR____20240909T130929_20240909T135342_20240910T163350_2653_116_352______MAR_O_NT_003.SEN3/time_coordinates.nc",
             "type": "Link"
            }
           },
           "href": "https://hda-download.lumi.data.destination-earth.eu/data/eumetsat/EO.EUM.DAT.SENTINEL-3.OL_2_WRR___/S3A_OL_2_WRR____20240909T130929_20240909T135342_20240910T163350_2653_116_352______MAR_O_NT_003.SEN3/time_coordinates.nc",
           "mediaType": "application/x-netcdf",
           "roles": [
            "data"
           ],
           "title": "S3A_OL_2_WRR____20240909T130929_20240909T135342_20240910T163350_2653_116_352______MAR_O_NT_003.SEN3/time_coordinates.nc",
           "type": "Link"
          },
          "trsp.nc": {
           "alternate": {
            "origin": {
             "href": "https://api.eumetsat.int/data/download/1.0.0/collections/EO%3AEUM%3ADAT%3A0408/products/S3A_OL_2_WRR____20240909T130929_20240909T135342_20240910T163350_2653_116_352______MAR_O_NT_003.SEN3/entry?name=S3A_OL_2_WRR____20240909T130929_20240909T135342_20240910T163350_2653_116_352______MAR_O_NT_003.SEN3%2Ftrsp.nc",
             "mediaType": "application/x-netcdf",
             "roles": [
              "data"
             ],
             "title": "S3A_OL_2_WRR____20240909T130929_20240909T135342_20240910T163350_2653_116_352______MAR_O_NT_003.SEN3/trsp.nc",
             "type": "Link"
            }
           },
           "href": "https://hda-download.lumi.data.destination-earth.eu/data/eumetsat/EO.EUM.DAT.SENTINEL-3.OL_2_WRR___/S3A_OL_2_WRR____20240909T130929_20240909T135342_20240910T163350_2653_116_352______MAR_O_NT_003.SEN3/trsp.nc",
           "mediaType": "application/x-netcdf",
           "roles": [
            "data"
           ],
           "title": "S3A_OL_2_WRR____20240909T130929_20240909T135342_20240910T163350_2653_116_352______MAR_O_NT_003.SEN3/trsp.nc",
           "type": "Link"
          },
          "tsm_nn.nc": {
           "alternate": {
            "origin": {
             "href": "https://api.eumetsat.int/data/download/1.0.0/collections/EO%3AEUM%3ADAT%3A0408/products/S3A_OL_2_WRR____20240909T130929_20240909T135342_20240910T163350_2653_116_352______MAR_O_NT_003.SEN3/entry?name=S3A_OL_2_WRR____20240909T130929_20240909T135342_20240910T163350_2653_116_352______MAR_O_NT_003.SEN3%2Ftsm_nn.nc",
             "mediaType": "application/x-netcdf",
             "roles": [
              "data"
             ],
             "title": "S3A_OL_2_WRR____20240909T130929_20240909T135342_20240910T163350_2653_116_352______MAR_O_NT_003.SEN3/tsm_nn.nc",
             "type": "Link"
            }
           },
           "href": "https://hda-download.lumi.data.destination-earth.eu/data/eumetsat/EO.EUM.DAT.SENTINEL-3.OL_2_WRR___/S3A_OL_2_WRR____20240909T130929_20240909T135342_20240910T163350_2653_116_352______MAR_O_NT_003.SEN3/tsm_nn.nc",
           "mediaType": "application/x-netcdf",
           "roles": [
            "data"
           ],
           "title": "S3A_OL_2_WRR____20240909T130929_20240909T135342_20240910T163350_2653_116_352______MAR_O_NT_003.SEN3/tsm_nn.nc",
           "type": "Link"
          },
          "w_aer.nc": {
           "alternate": {
            "origin": {
             "href": "https://api.eumetsat.int/data/download/1.0.0/collections/EO%3AEUM%3ADAT%3A0408/products/S3A_OL_2_WRR____20240909T130929_20240909T135342_20240910T163350_2653_116_352______MAR_O_NT_003.SEN3/entry?name=S3A_OL_2_WRR____20240909T130929_20240909T135342_20240910T163350_2653_116_352______MAR_O_NT_003.SEN3%2Fw_aer.nc",
             "mediaType": "application/x-netcdf",
             "roles": [
              "data"
             ],
             "title": "S3A_OL_2_WRR____20240909T130929_20240909T135342_20240910T163350_2653_116_352______MAR_O_NT_003.SEN3/w_aer.nc",
             "type": "Link"
            }
           },
           "href": "https://hda-download.lumi.data.destination-earth.eu/data/eumetsat/EO.EUM.DAT.SENTINEL-3.OL_2_WRR___/S3A_OL_2_WRR____20240909T130929_20240909T135342_20240910T163350_2653_116_352______MAR_O_NT_003.SEN3/w_aer.nc",
           "mediaType": "application/x-netcdf",
           "roles": [
            "data"
           ],
           "title": "S3A_OL_2_WRR____20240909T130929_20240909T135342_20240910T163350_2653_116_352______MAR_O_NT_003.SEN3/w_aer.nc",
           "type": "Link"
          },
          "wqsf.nc": {
           "alternate": {
            "origin": {
             "href": "https://api.eumetsat.int/data/download/1.0.0/collections/EO%3AEUM%3ADAT%3A0408/products/S3A_OL_2_WRR____20240909T130929_20240909T135342_20240910T163350_2653_116_352______MAR_O_NT_003.SEN3/entry?name=S3A_OL_2_WRR____20240909T130929_20240909T135342_20240910T163350_2653_116_352______MAR_O_NT_003.SEN3%2Fwqsf.nc",
             "mediaType": "application/x-netcdf",
             "roles": [
              "data"
             ],
             "title": "S3A_OL_2_WRR____20240909T130929_20240909T135342_20240910T163350_2653_116_352______MAR_O_NT_003.SEN3/wqsf.nc",
             "type": "Link"
            }
           },
           "href": "https://hda-download.lumi.data.destination-earth.eu/data/eumetsat/EO.EUM.DAT.SENTINEL-3.OL_2_WRR___/S3A_OL_2_WRR____20240909T130929_20240909T135342_20240910T163350_2653_116_352______MAR_O_NT_003.SEN3/wqsf.nc",
           "mediaType": "application/x-netcdf",
           "roles": [
            "data"
           ],
           "title": "S3A_OL_2_WRR____20240909T130929_20240909T135342_20240910T163350_2653_116_352______MAR_O_NT_003.SEN3/wqsf.nc",
           "type": "Link"
          },
          "xfdumanifest.xml": {
           "alternate": {
            "origin": {
             "href": "https://api.eumetsat.int/data/download/1.0.0/collections/EO%3AEUM%3ADAT%3A0408/products/S3A_OL_2_WRR____20240909T130929_20240909T135342_20240910T163350_2653_116_352______MAR_O_NT_003.SEN3/entry?name=S3A_OL_2_WRR____20240909T130929_20240909T135342_20240910T163350_2653_116_352______MAR_O_NT_003.SEN3%2Fxfdumanifest.xml",
             "mediaType": "application/xml",
             "roles": [
              "metadata"
             ],
             "title": "S3A_OL_2_WRR____20240909T130929_20240909T135342_20240910T163350_2653_116_352______MAR_O_NT_003.SEN3/xfdumanifest.xml",
             "type": "Link"
            }
           },
           "href": "https://hda-download.lumi.data.destination-earth.eu/data/eumetsat/EO.EUM.DAT.SENTINEL-3.OL_2_WRR___/S3A_OL_2_WRR____20240909T130929_20240909T135342_20240910T163350_2653_116_352______MAR_O_NT_003.SEN3/xfdumanifest.xml",
           "mediaType": "application/xml",
           "roles": [
            "metadata"
           ],
           "title": "S3A_OL_2_WRR____20240909T130929_20240909T135342_20240910T163350_2653_116_352______MAR_O_NT_003.SEN3/xfdumanifest.xml",
           "type": "Link"
          }
         },
         "bbox": [
          -96.4906,
          -67.9523,
          39.4062,
          89.3402
         ],
         "collection": "EO.EUM.DAT.SENTINEL-3.OL_2_WRR___",
         "geometry": {
          "coordinates": [
           [
            [
             -96.4906,
             -62.2429
            ],
            [
             -95.4519,
             -62.6338
            ],
            [
             -94.3859,
             -63.0171
            ],
            [
             -93.2919,
             -63.3922
            ],
            [
             -92.1693,
             -63.7587
            ],
            [
             -91.0176,
             -64.1161
            ],
            [
             -89.8363,
             -64.4642
            ],
            [
             -88.625,
             -64.8026
            ],
            [
             -87.3835,
             -65.1308
            ],
            [
             -86.1115,
             -65.4485
            ],
            [
             -84.8087,
             -65.7551
            ],
            [
             -83.4753,
             -66.0504
            ],
            [
             -82.1112,
             -66.334
            ],
            [
             -80.7167,
             -66.6053
            ],
            [
             -79.2921,
             -66.8639
            ],
            [
             -77.8379,
             -67.1094
            ],
            [
             -76.3547,
             -67.3414
            ],
            [
             -74.8434,
             -67.5595
            ],
            [
             -73.305,
             -67.7632
            ],
            [
             -71.7405,
             -67.9523
            ],
            [
             -70.8749,
             -66.8448
            ],
            [
             -69.6459,
             -65.1018
            ],
            [
             -68.5454,
             -63.3512
            ],
            [
             -67.5498,
             -61.5955
            ],
            [
             -66.642,
             -59.8347
            ],
            [
             -65.8066,
             -58.0695
            ],
            [
             -65.0323,
             -56.3005
            ],
            [
             -64.3102,
             -54.528
            ],
            [
             -63.6323,
             -52.7528
            ],
            [
             -62.9926,
             -50.9748
            ],
            [
             -62.3861,
             -49.1942
            ],
            [
             -61.8082,
             -47.4115
            ],
            [
             -61.2553,
             -45.6266
            ],
            [
             -60.7245,
             -43.8399
            ],
            [
             -60.2128,
             -42.0513
            ],
            [
             -59.7181,
             -40.2613
            ],
            [
             -59.2383,
             -38.4693
            ],
            [
             -58.772,
             -36.6756
            ],
            [
             -58.3169,
             -34.881
            ],
            [
             -57.8723,
             -33.0851
            ],
            [
             -57.4362,
             -31.2883
            ],
            [
             -57.0089,
             -29.4891
            ],
            [
             -56.5884,
             -27.6891
            ],
            [
             -56.1734,
             -25.8887
            ],
            [
             -55.7639,
             -24.087
            ],
            [
             -55.3585,
             -22.2851
            ],
            [
             -54.957,
             -20.4816
            ],
            [
             -54.5593,
             -18.6763
            ],
            [
             -54.1632,
             -16.8719
            ],
            [
             -53.7691,
             -15.0667
            ],
            [
             -53.3764,
             -13.2605
            ],
            [
             -52.9844,
             -11.454
            ],
            [
             -52.5924,
             -9.64747
            ],
            [
             -52.2006,
             -7.83947
            ],
            [
             -51.8074,
             -6.03224
            ],
            [
             -51.4132,
             -4.22433
            ],
            [
             -51.017,
             -2.41683
            ],
            [
             -50.6181,
             -0.609761
            ],
            [
             -50.2168,
             1.1983
            ],
            [
             -49.8121,
             3.0062
            ],
            [
             -49.4029,
             4.81267
            ],
            [
             -48.9894,
             6.61967
            ],
            [
             -48.5708,
             8.42631
            ],
            [
             -48.1462,
             10.232
            ],
            [
             -47.715,
             12.0363
            ],
            [
             -47.2764,
             13.8401
            ],
            [
             -46.8308,
             15.6448
            ],
            [
             -46.3752,
             17.4463
            ],
            [
             -45.9105,
             19.2474
            ],
            [
             -45.4347,
             21.0469
            ],
            [
             -44.9473,
             22.8451
            ],
            [
             -44.4472,
             24.6424
            ],
            [
             -43.9327,
             26.4374
            ],
            [
             -43.4024,
             28.2295
            ],
            [
             -42.8552,
             30.0209
            ],
            [
             -42.2888,
             31.8087
            ],
            [
             -41.7021,
             33.5955
            ],
            [
             -41.0922,
             35.3789
            ],
            [
             -40.4566,
             37.1585
            ],
            [
             -39.7928,
             38.9351
            ],
            [
             -39.0981,
             40.7084
            ],
            [
             -38.3682,
             42.4769
            ],
            [
             -37.5991,
             44.2407
            ],
            [
             -36.7867,
             46.0004
            ],
            [
             -35.9255,
             47.7546
            ],
            [
             -35.0079,
             49.5011
            ],
            [
             -34.0278,
             51.2409
            ],
            [
             -32.9766,
             52.9732
            ],
            [
             -31.8436,
             54.6961
            ],
            [
             -30.6165,
             56.4082
            ],
            [
             -29.2813,
             58.108
            ],
            [
             -27.8201,
             59.7939
            ],
            [
             -26.2124,
             61.4635
            ],
            [
             -24.432,
             63.1133
            ],
            [
             -22.4479,
             64.7397
            ],
            [
             -20.2223,
             66.3382
            ],
            [
             -17.7078,
             67.903
            ],
            [
             -14.8471,
             69.4261
            ],
            [
             -11.5706,
             70.8977
            ],
            [
             -7.79419,
             72.3048
            ],
            [
             -3.42057,
             73.6317
            ],
            [
             1.65691,
             74.8564
            ],
            [
             7.54153,
             75.9535
            ],
            [
             14.3099,
             76.8898
            ],
            [
             21.9714,
             77.6286
            ],
            [
             30.422,
             78.1347
            ],
            [
             39.4062,
             78.3764
            ],
            [
             39.226,
             78.9946
            ],
            [
             39.0245,
             79.6125
            ],
            [
             38.7979,
             80.2302
            ],
            [
             38.5411,
             80.8478
            ],
            [
             38.2475,
             81.4651
            ],
            [
             37.9084,
             82.0821
            ],
            [
             37.5127,
             82.6988
            ],
            [
             37.0444,
             83.3151
            ],
            [
             36.4817,
             83.9308
            ],
            [
             35.7919,
             84.5458
            ],
            [
             34.9282,
             85.1598
            ],
            [
             33.8148,
             85.7724
            ],
            [
             32.324,
             86.3828
            ],
            [
             30.2325,
             86.9898
            ],
            [
             27.0927,
             87.5908
            ],
            [
             21.8972,
             88.1799
            ],
            [
             11.9294,
             88.74
            ],
            [
             -11.4875,
             89.2074
            ],
            [
             -60.9121,
             89.3402
            ],
            [
             -51.295,
             87.581
            ],
            [
             -50.0091,
             85.8103
            ],
            [
             -49.6505,
             84.0383
            ],
            [
             -49.5724,
             82.2657
            ],
            [
             -49.6208,
             80.4929
            ],
            [
             -49.7398,
             78.7197
            ],
            [
             -49.897,
             76.9459
            ],
            [
             -50.0811,
             75.1721
            ],
            [
             -50.2824,
             73.3979
            ],
            [
             -50.4967,
             71.623
            ],
            [
             -50.7207,
             69.8476
            ],
            [
             -50.9528,
             68.0719
            ],
            [
             -51.1912,
             66.2955
            ],
            [
             -51.4346,
             64.5186
            ],
            [
             -51.682,
             62.741
            ],
            [
             -51.9338,
             60.9629
            ],
            [
             -52.1889,
             59.1843
            ],
            [
             -52.4476,
             57.4048
            ],
            [
             -52.7088,
             55.6247
            ],
            [
             -52.9728,
             53.8437
            ],
            [
             -53.2401,
             52.0623
            ],
            [
             -53.5108,
             50.2802
            ],
            [
             -53.7826,
             48.4969
            ],
            [
             -54.0574,
             46.7133
            ],
            [
             -54.3358,
             44.9291
            ],
            [
             -54.6166,
             43.1439
            ],
            [
             -54.8998,
             41.358
            ],
            [
             -55.1865,
             39.5715
            ],
            [
             -55.4762,
             37.7844
            ],
            [
             -55.7685,
             35.9965
            ],
            [
             -56.0637,
             34.2077
            ],
            [
             -56.363,
             32.4189
            ],
            [
             -56.6653,
             30.629
            ],
            [
             -56.9717,
             28.8393
            ],
            [
             -57.2814,
             27.0486
            ],
            [
             -57.5948,
             25.2573
            ],
            [
             -57.9127,
             23.466
            ],
            [
             -58.2351,
             21.6744
            ],
            [
             -58.5616,
             19.8824
            ],
            [
             -58.8935,
             18.0905
            ],
            [
             -59.229,
             16.2974
            ],
            [
             -59.571,
             14.5056
            ],
            [
             -59.9186,
             12.7135
            ],
            [
             -60.2716,
             10.9213
            ],
            [
             -60.6307,
             9.12924
            ],
            [
             -60.9964,
             7.33743
            ],
            [
             -61.3695,
             5.5466
            ],
            [
             -61.7491,
             3.75564
            ],
            [
             -62.1366,
             1.96533
            ],
            [
             -62.5329,
             0.176412
            ],
            [
             -62.9376,
             -1.61216
            ],
            [
             -63.3513,
             -3.39969
            ],
            [
             -63.7751,
             -5.18579
            ],
            [
             -64.2089,
             -6.97123
            ],
            [
             -64.6544,
             -8.75473
            ],
            [
             -65.1117,
             -10.5367
            ],
            [
             -65.5816,
             -12.3171
            ],
            [
             -66.0653,
             -14.0952
            ],
            [
             -66.5638,
             -15.8712
            ],
            [
             -67.0769,
             -17.6455
            ],
            [
             -67.6075,
             -19.4166
            ],
            [
             -68.1567,
             -21.1847
            ],
            [
             -68.725,
             -22.9502
            ],
            [
             -69.3145,
             -24.7118
            ],
            [
             -69.9263,
             -26.4702
            ],
            [
             -70.5626,
             -28.2247
            ],
            [
             -71.2266,
             -29.9742
            ],
            [
             -71.9193,
             -31.7193
            ],
            [
             -72.6439,
             -33.4589
            ],
            [
             -73.4026,
             -35.1931
            ],
            [
             -74.1996,
             -36.9208
            ],
            [
             -75.0382,
             -38.6413
            ],
            [
             -75.9226,
             -40.3545
            ],
            [
             -76.8572,
             -42.0591
            ],
            [
             -77.8476,
             -43.7543
            ],
            [
             -78.8997,
             -45.4391
            ],
            [
             -80.0202,
             -47.1124
            ],
            [
             -81.2171,
             -48.7726
            ],
            [
             -82.4992,
             -50.4182
            ],
            [
             -83.8766,
             -52.0477
            ],
            [
             -85.3611,
             -53.6582
            ],
            [
             -86.9661,
             -55.2478
            ],
            [
             -88.7065,
             -56.8132
            ],
            [
             -90.6011,
             -58.3512
            ],
            [
             -92.6689,
             -59.8577
            ],
            [
             -94.9322,
             -61.3273
            ],
            [
             -96.4906,
             -62.2429
            ]
           ]
          ],
          "type": "Polygon"
         },
         "id": "S3A_OL_2_WRR____20240909T130929_20240909T135342_20240910T163350_2653_116_352______MAR_O_NT_003.SEN3",
         "links": [
          {
           "href": "https://hda.data.destination-earth.eu/stac/v2/collections/EO.EUM.DAT.SENTINEL-3.OL_2_WRR___",
           "rel": "collection",
           "title": "EO.EUM.DAT.SENTINEL-3.OL_2_WRR___",
           "type": "application/json"
          },
          {
           "href": "https://hda.data.destination-earth.eu/stac/v2/collections/EO.EUM.DAT.SENTINEL-3.OL_2_WRR___/items/S3A_OL_2_WRR____20240909T130929_20240909T135342_20240910T163350_2653_116_352______MAR_O_NT_003.SEN3",
           "rel": "self",
           "title": "Original item link",
           "type": "application/geo+json"
          }
         ],
         "properties": {
          "abstract": "OLCI (Ocean and Land Colour Instrument) Ocean Colour Geophysical Products. Reduced Resolution: 1200m at nadir. Level 2 marine products include the following: * water-leaving reflectances in 16 bands, Oa**_reflectance (Baseline Atmospheric Correction (BAC) algorithm, bands: 400, 412, 442, 490, 510, 560, 620, 665, 674, 681, 709, 754, 779, 865, 885, 1024 nanometer (nm)); *algal pigment concentration in clear waters, chl_oc4me (BAC and maximum band ratio algorithm, log10 scaled); *algal pigment concentration in turbid waters, chl_nn (neural net algorithm, log10 scaled); *total suspended matter concentration, tsm_nn (neural net algorithm, log10 scaled); *diffuse attenuation coefficient Kd of downward irradiance at 490 nm, trsp (BAC and M07 algorithm, log10 scaled); *absorption coefficient at 443 nm of coloured detrital and dissolved organic matter, iop_nn (neural net algorithm, log10 scaled); *instantaneous photosynthetically active radiation, PAR (BAC and clear-sky ocean algorithm); *aerosol optical thickness T865 and aerosol Angstrom exponent A865, w_aer (BAC algorithm, A for bands 779 and 865 nm) *integrated water vapour column, iwv (1D-Var algorithm). The geophysical products are accompanied by error estimate products. Pixel classification, quality and science flags, as well as meteorological, geometry and geolocation data at tie points are provided. \n\n- All Sentinel-3 NRT products are available at pick-up point in less than 3h\n- All Sentinel-3 Non Time Critical (NTC) products are available at pick-up point in less than 30 days.\nSentinel-3 is part of a series of Sentinel satellites, under the umbrella of the EU Copernicus programme.",
          "alias": "EO.EUM.DAT.SENTINEL-3.OL_2_WRR___",
          "collection": "OL_2_WRR___",
          "constellation": "Sentinel-3A",
          "cycleNumber": 116,
          "datetime": "2024-09-09T13:09:28.869824Z",
          "end_datetime": "2024-09-09T13:53:42.320608Z",
          "federation:backends": [
           "eumetsat"
          ],
          "instruments": [
           "OLCI"
          ],
          "license": "proprietary",
          "links": {
           "alternates": [
            {
             "href": "https://api.eumetsat.int/data/download/1.0.0/collections/EO%3AEUM%3ADAT%3A0408/products/S3A_OL_2_WRR____20240909T130929_20240909T135342_20240910T163350_2653_116_352______MAR_O_NT_003.SEN3/metadata",
             "mediaType": "application/xml",
             "title": "Metadata",
             "type": "Link"
            },
            {
             "href": "https://api.eumetsat.int/data/download/1.0.0/collections/EO%3AEUM%3ADAT%3A0408/products/S3A_OL_2_WRR____20240909T130929_20240909T135342_20240910T163350_2653_116_352______MAR_O_NT_003.SEN3/metadata?format=json",
             "mediaType": "application/json",
             "title": "Metadata in JSON format",
             "type": "Link"
            }
           ],
           "data": [
            {
             "href": "https://api.eumetsat.int/data/download/1.0.0/collections/EO%3AEUM%3ADAT%3A0408/products/S3A_OL_2_WRR____20240909T130929_20240909T135342_20240910T163350_2653_116_352______MAR_O_NT_003.SEN3",
             "mediaType": "application/zip",
             "title": "Product download",
             "type": "Link"
            }
           ],
           "previews": [
            {
             "href": "https://api.eumetsat.int/data/download/1.0.0/collections/EO%3AEUM%3ADAT%3A0408/products/S3A_OL_2_WRR____20240909T130929_20240909T135342_20240910T163350_2653_116_352______MAR_O_NT_003.SEN3/browse",
             "mediaType": "image/jpeg",
             "title": "Quicklook",
             "type": "Link"
            }
           ],
           "sip-entries": [
            {
             "href": "https://api.eumetsat.int/data/download/1.0.0/collections/EO%3AEUM%3ADAT%3A0408/products/S3A_OL_2_WRR____20240909T130929_20240909T135342_20240910T163350_2653_116_352______MAR_O_NT_003.SEN3/entry?name=S3A_OL_2_WRR____20240909T130929_20240909T135342_20240910T163350_2653_116_352______MAR_O_NT_003.SEN3%2Ftie_geometries.nc",
             "mediaType": "application/x-netcdf",
             "title": "S3A_OL_2_WRR____20240909T130929_20240909T135342_20240910T163350_2653_116_352______MAR_O_NT_003.SEN3/tie_geometries.nc",
             "type": "Link"
            },
            {
             "href": "https://api.eumetsat.int/data/download/1.0.0/collections/EO%3AEUM%3ADAT%3A0408/products/S3A_OL_2_WRR____20240909T130929_20240909T135342_20240910T163350_2653_116_352______MAR_O_NT_003.SEN3/entry?name=S3A_OL_2_WRR____20240909T130929_20240909T135342_20240910T163350_2653_116_352______MAR_O_NT_003.SEN3%2FOa18_reflectance.nc",
             "mediaType": "application/x-netcdf",
             "title": "S3A_OL_2_WRR____20240909T130929_20240909T135342_20240910T163350_2653_116_352______MAR_O_NT_003.SEN3/Oa18_reflectance.nc",
             "type": "Link"
            },
            {
             "href": "https://api.eumetsat.int/data/download/1.0.0/collections/EO%3AEUM%3ADAT%3A0408/products/S3A_OL_2_WRR____20240909T130929_20240909T135342_20240910T163350_2653_116_352______MAR_O_NT_003.SEN3/entry?name=S3A_OL_2_WRR____20240909T130929_20240909T135342_20240910T163350_2653_116_352______MAR_O_NT_003.SEN3%2Ftie_meteo.nc",
             "mediaType": "application/x-netcdf",
             "title": "S3A_OL_2_WRR____20240909T130929_20240909T135342_20240910T163350_2653_116_352______MAR_O_NT_003.SEN3/tie_meteo.nc",
             "type": "Link"
            },
            {
             "href": "https://api.eumetsat.int/data/download/1.0.0/collections/EO%3AEUM%3ADAT%3A0408/products/S3A_OL_2_WRR____20240909T130929_20240909T135342_20240910T163350_2653_116_352______MAR_O_NT_003.SEN3/entry?name=S3A_OL_2_WRR____20240909T130929_20240909T135342_20240910T163350_2653_116_352______MAR_O_NT_003.SEN3%2FOa05_reflectance.nc",
             "mediaType": "application/x-netcdf",
             "title": "S3A_OL_2_WRR____20240909T130929_20240909T135342_20240910T163350_2653_116_352______MAR_O_NT_003.SEN3/Oa05_reflectance.nc",
             "type": "Link"
            },
            {
             "href": "https://api.eumetsat.int/data/download/1.0.0/collections/EO%3AEUM%3ADAT%3A0408/products/S3A_OL_2_WRR____20240909T130929_20240909T135342_20240910T163350_2653_116_352______MAR_O_NT_003.SEN3/entry?name=S3A_OL_2_WRR____20240909T130929_20240909T135342_20240910T163350_2653_116_352______MAR_O_NT_003.SEN3%2Fchl_nn.nc",
             "mediaType": "application/x-netcdf",
             "title": "S3A_OL_2_WRR____20240909T130929_20240909T135342_20240910T163350_2653_116_352______MAR_O_NT_003.SEN3/chl_nn.nc",
             "type": "Link"
            },
            {
             "href": "https://api.eumetsat.int/data/download/1.0.0/collections/EO%3AEUM%3ADAT%3A0408/products/S3A_OL_2_WRR____20240909T130929_20240909T135342_20240910T163350_2653_116_352______MAR_O_NT_003.SEN3/entry?name=S3A_OL_2_WRR____20240909T130929_20240909T135342_20240910T163350_2653_116_352______MAR_O_NT_003.SEN3%2Fgeo_coordinates.nc",
             "mediaType": "application/x-netcdf",
             "title": "S3A_OL_2_WRR____20240909T130929_20240909T135342_20240910T163350_2653_116_352______MAR_O_NT_003.SEN3/geo_coordinates.nc",
             "type": "Link"
            },
            {
             "href": "https://api.eumetsat.int/data/download/1.0.0/collections/EO%3AEUM%3ADAT%3A0408/products/S3A_OL_2_WRR____20240909T130929_20240909T135342_20240910T163350_2653_116_352______MAR_O_NT_003.SEN3/entry?name=S3A_OL_2_WRR____20240909T130929_20240909T135342_20240910T163350_2653_116_352______MAR_O_NT_003.SEN3%2Ftie_geo_coordinates.nc",
             "mediaType": "application/x-netcdf",
             "title": "S3A_OL_2_WRR____20240909T130929_20240909T135342_20240910T163350_2653_116_352______MAR_O_NT_003.SEN3/tie_geo_coordinates.nc",
             "type": "Link"
            },
            {
             "href": "https://api.eumetsat.int/data/download/1.0.0/collections/EO%3AEUM%3ADAT%3A0408/products/S3A_OL_2_WRR____20240909T130929_20240909T135342_20240910T163350_2653_116_352______MAR_O_NT_003.SEN3/entry?name=S3A_OL_2_WRR____20240909T130929_20240909T135342_20240910T163350_2653_116_352______MAR_O_NT_003.SEN3%2Ftsm_nn.nc",
             "mediaType": "application/x-netcdf",
             "title": "S3A_OL_2_WRR____20240909T130929_20240909T135342_20240910T163350_2653_116_352______MAR_O_NT_003.SEN3/tsm_nn.nc",
             "type": "Link"
            },
            {
             "href": "https://api.eumetsat.int/data/download/1.0.0/collections/EO%3AEUM%3ADAT%3A0408/products/S3A_OL_2_WRR____20240909T130929_20240909T135342_20240910T163350_2653_116_352______MAR_O_NT_003.SEN3/entry?name=S3A_OL_2_WRR____20240909T130929_20240909T135342_20240910T163350_2653_116_352______MAR_O_NT_003.SEN3%2FOa04_reflectance.nc",
             "mediaType": "application/x-netcdf",
             "title": "S3A_OL_2_WRR____20240909T130929_20240909T135342_20240910T163350_2653_116_352______MAR_O_NT_003.SEN3/Oa04_reflectance.nc",
             "type": "Link"
            },
            {
             "href": "https://api.eumetsat.int/data/download/1.0.0/collections/EO%3AEUM%3ADAT%3A0408/products/S3A_OL_2_WRR____20240909T130929_20240909T135342_20240910T163350_2653_116_352______MAR_O_NT_003.SEN3/entry?name=S3A_OL_2_WRR____20240909T130929_20240909T135342_20240910T163350_2653_116_352______MAR_O_NT_003.SEN3%2FOa17_reflectance.nc",
             "mediaType": "application/x-netcdf",
             "title": "S3A_OL_2_WRR____20240909T130929_20240909T135342_20240910T163350_2653_116_352______MAR_O_NT_003.SEN3/Oa17_reflectance.nc",
             "type": "Link"
            },
            {
             "href": "https://api.eumetsat.int/data/download/1.0.0/collections/EO%3AEUM%3ADAT%3A0408/products/S3A_OL_2_WRR____20240909T130929_20240909T135342_20240910T163350_2653_116_352______MAR_O_NT_003.SEN3/entry?name=S3A_OL_2_WRR____20240909T130929_20240909T135342_20240910T163350_2653_116_352______MAR_O_NT_003.SEN3%2Fiop_nn.nc",
             "mediaType": "application/x-netcdf",
             "title": "S3A_OL_2_WRR____20240909T130929_20240909T135342_20240910T163350_2653_116_352______MAR_O_NT_003.SEN3/iop_nn.nc",
             "type": "Link"
            },
            {
             "href": "https://api.eumetsat.int/data/download/1.0.0/collections/EO%3AEUM%3ADAT%3A0408/products/S3A_OL_2_WRR____20240909T130929_20240909T135342_20240910T163350_2653_116_352______MAR_O_NT_003.SEN3/entry?name=S3A_OL_2_WRR____20240909T130929_20240909T135342_20240910T163350_2653_116_352______MAR_O_NT_003.SEN3%2Fwqsf.nc",
             "mediaType": "application/x-netcdf",
             "title": "S3A_OL_2_WRR____20240909T130929_20240909T135342_20240910T163350_2653_116_352______MAR_O_NT_003.SEN3/wqsf.nc",
             "type": "Link"
            },
            {
             "href": "https://api.eumetsat.int/data/download/1.0.0/collections/EO%3AEUM%3ADAT%3A0408/products/S3A_OL_2_WRR____20240909T130929_20240909T135342_20240910T163350_2653_116_352______MAR_O_NT_003.SEN3/entry?name=S3A_OL_2_WRR____20240909T130929_20240909T135342_20240910T163350_2653_116_352______MAR_O_NT_003.SEN3%2Fiop_lsd.nc",
             "mediaType": "application/x-netcdf",
             "title": "S3A_OL_2_WRR____20240909T130929_20240909T135342_20240910T163350_2653_116_352______MAR_O_NT_003.SEN3/iop_lsd.nc",
             "type": "Link"
            },
            {
             "href": "https://api.eumetsat.int/data/download/1.0.0/collections/EO%3AEUM%3ADAT%3A0408/products/S3A_OL_2_WRR____20240909T130929_20240909T135342_20240910T163350_2653_116_352______MAR_O_NT_003.SEN3/entry?name=S3A_OL_2_WRR____20240909T130929_20240909T135342_20240910T163350_2653_116_352______MAR_O_NT_003.SEN3%2FOa21_reflectance.nc",
             "mediaType": "application/x-netcdf",
             "title": "S3A_OL_2_WRR____20240909T130929_20240909T135342_20240910T163350_2653_116_352______MAR_O_NT_003.SEN3/Oa21_reflectance.nc",
             "type": "Link"
            },
            {
             "href": "https://api.eumetsat.int/data/download/1.0.0/collections/EO%3AEUM%3ADAT%3A0408/products/S3A_OL_2_WRR____20240909T130929_20240909T135342_20240910T163350_2653_116_352______MAR_O_NT_003.SEN3/entry?name=EOPMetadata.xml",
             "mediaType": "application/xml",
             "title": "EOPMetadata.xml",
             "type": "Link"
            },
            {
             "href": "https://api.eumetsat.int/data/download/1.0.0/collections/EO%3AEUM%3ADAT%3A0408/products/S3A_OL_2_WRR____20240909T130929_20240909T135342_20240910T163350_2653_116_352______MAR_O_NT_003.SEN3/entry?name=S3A_OL_2_WRR____20240909T130929_20240909T135342_20240910T163350_2653_116_352______MAR_O_NT_003.SEN3%2FOa12_reflectance.nc",
             "mediaType": "application/x-netcdf",
             "title": "S3A_OL_2_WRR____20240909T130929_20240909T135342_20240910T163350_2653_116_352______MAR_O_NT_003.SEN3/Oa12_reflectance.nc",
             "type": "Link"
            },
            {
             "href": "https://api.eumetsat.int/data/download/1.0.0/collections/EO%3AEUM%3ADAT%3A0408/products/S3A_OL_2_WRR____20240909T130929_20240909T135342_20240910T163350_2653_116_352______MAR_O_NT_003.SEN3/entry?name=S3A_OL_2_WRR____20240909T130929_20240909T135342_20240910T163350_2653_116_352______MAR_O_NT_003.SEN3%2FOa11_reflectance.nc",
             "mediaType": "application/x-netcdf",
             "title": "S3A_OL_2_WRR____20240909T130929_20240909T135342_20240910T163350_2653_116_352______MAR_O_NT_003.SEN3/Oa11_reflectance.nc",
             "type": "Link"
            },
            {
             "href": "https://api.eumetsat.int/data/download/1.0.0/collections/EO%3AEUM%3ADAT%3A0408/products/S3A_OL_2_WRR____20240909T130929_20240909T135342_20240910T163350_2653_116_352______MAR_O_NT_003.SEN3/entry?name=S3A_OL_2_WRR____20240909T130929_20240909T135342_20240910T163350_2653_116_352______MAR_O_NT_003.SEN3%2FOa16_reflectance.nc",
             "mediaType": "application/x-netcdf",
             "title": "S3A_OL_2_WRR____20240909T130929_20240909T135342_20240910T163350_2653_116_352______MAR_O_NT_003.SEN3/Oa16_reflectance.nc",
             "type": "Link"
            },
            {
             "href": "https://api.eumetsat.int/data/download/1.0.0/collections/EO%3AEUM%3ADAT%3A0408/products/S3A_OL_2_WRR____20240909T130929_20240909T135342_20240910T163350_2653_116_352______MAR_O_NT_003.SEN3/entry?name=S3A_OL_2_WRR____20240909T130929_20240909T135342_20240910T163350_2653_116_352______MAR_O_NT_003.SEN3%2Fw_aer.nc",
             "mediaType": "application/x-netcdf",
             "title": "S3A_OL_2_WRR____20240909T130929_20240909T135342_20240910T163350_2653_116_352______MAR_O_NT_003.SEN3/w_aer.nc",
             "type": "Link"
            },
            {
             "href": "https://api.eumetsat.int/data/download/1.0.0/collections/EO%3AEUM%3ADAT%3A0408/products/S3A_OL_2_WRR____20240909T130929_20240909T135342_20240910T163350_2653_116_352______MAR_O_NT_003.SEN3/entry?name=S3A_OL_2_WRR____20240909T130929_20240909T135342_20240910T163350_2653_116_352______MAR_O_NT_003.SEN3%2FOa08_reflectance.nc",
             "mediaType": "application/x-netcdf",
             "title": "S3A_OL_2_WRR____20240909T130929_20240909T135342_20240910T163350_2653_116_352______MAR_O_NT_003.SEN3/Oa08_reflectance.nc",
             "type": "Link"
            },
            {
             "href": "https://api.eumetsat.int/data/download/1.0.0/collections/EO%3AEUM%3ADAT%3A0408/products/S3A_OL_2_WRR____20240909T130929_20240909T135342_20240910T163350_2653_116_352______MAR_O_NT_003.SEN3/entry?name=S3A_OL_2_WRR____20240909T130929_20240909T135342_20240910T163350_2653_116_352______MAR_O_NT_003.SEN3%2FOa03_reflectance.nc",
             "mediaType": "application/x-netcdf",
             "title": "S3A_OL_2_WRR____20240909T130929_20240909T135342_20240910T163350_2653_116_352______MAR_O_NT_003.SEN3/Oa03_reflectance.nc",
             "type": "Link"
            },
            {
             "href": "https://api.eumetsat.int/data/download/1.0.0/collections/EO%3AEUM%3ADAT%3A0408/products/S3A_OL_2_WRR____20240909T130929_20240909T135342_20240910T163350_2653_116_352______MAR_O_NT_003.SEN3/entry?name=S3A_OL_2_WRR____20240909T130929_20240909T135342_20240910T163350_2653_116_352______MAR_O_NT_003.SEN3%2FOa07_reflectance.nc",
             "mediaType": "application/x-netcdf",
             "title": "S3A_OL_2_WRR____20240909T130929_20240909T135342_20240910T163350_2653_116_352______MAR_O_NT_003.SEN3/Oa07_reflectance.nc",
             "type": "Link"
            },
            {
             "href": "https://api.eumetsat.int/data/download/1.0.0/collections/EO%3AEUM%3ADAT%3A0408/products/S3A_OL_2_WRR____20240909T130929_20240909T135342_20240910T163350_2653_116_352______MAR_O_NT_003.SEN3/entry?name=manifest.xml",
             "mediaType": "application/xml",
             "title": "manifest.xml",
             "type": "Link"
            },
            {
             "href": "https://api.eumetsat.int/data/download/1.0.0/collections/EO%3AEUM%3ADAT%3A0408/products/S3A_OL_2_WRR____20240909T130929_20240909T135342_20240910T163350_2653_116_352______MAR_O_NT_003.SEN3/entry?name=S3A_OL_2_WRR____20240909T130929_20240909T135342_20240910T163350_2653_116_352______MAR_O_NT_003.SEN3%2FOa02_reflectance.nc",
             "mediaType": "application/x-netcdf",
             "title": "S3A_OL_2_WRR____20240909T130929_20240909T135342_20240910T163350_2653_116_352______MAR_O_NT_003.SEN3/Oa02_reflectance.nc",
             "type": "Link"
            },
            {
             "href": "https://api.eumetsat.int/data/download/1.0.0/collections/EO%3AEUM%3ADAT%3A0408/products/S3A_OL_2_WRR____20240909T130929_20240909T135342_20240910T163350_2653_116_352______MAR_O_NT_003.SEN3/entry?name=S3A_OL_2_WRR____20240909T130929_20240909T135342_20240910T163350_2653_116_352______MAR_O_NT_003.SEN3%2Fchl_oc4me.nc",
             "mediaType": "application/x-netcdf",
             "title": "S3A_OL_2_WRR____20240909T130929_20240909T135342_20240910T163350_2653_116_352______MAR_O_NT_003.SEN3/chl_oc4me.nc",
             "type": "Link"
            },
            {
             "href": "https://api.eumetsat.int/data/download/1.0.0/collections/EO%3AEUM%3ADAT%3A0408/products/S3A_OL_2_WRR____20240909T130929_20240909T135342_20240910T163350_2653_116_352______MAR_O_NT_003.SEN3/entry?name=S3A_OL_2_WRR____20240909T130929_20240909T135342_20240910T163350_2653_116_352______MAR_O_NT_003.SEN3%2Fxfdumanifest.xml",
             "mediaType": "application/xml",
             "title": "S3A_OL_2_WRR____20240909T130929_20240909T135342_20240910T163350_2653_116_352______MAR_O_NT_003.SEN3/xfdumanifest.xml",
             "type": "Link"
            },
            {
             "href": "https://api.eumetsat.int/data/download/1.0.0/collections/EO%3AEUM%3ADAT%3A0408/products/S3A_OL_2_WRR____20240909T130929_20240909T135342_20240910T163350_2653_116_352______MAR_O_NT_003.SEN3/entry?name=S3A_OL_2_WRR____20240909T130929_20240909T135342_20240910T163350_2653_116_352______MAR_O_NT_003.SEN3%2FOa09_reflectance.nc",
             "mediaType": "application/x-netcdf",
             "title": "S3A_OL_2_WRR____20240909T130929_20240909T135342_20240910T163350_2653_116_352______MAR_O_NT_003.SEN3/Oa09_reflectance.nc",
             "type": "Link"
            },
            {
             "href": "https://api.eumetsat.int/data/download/1.0.0/collections/EO%3AEUM%3ADAT%3A0408/products/S3A_OL_2_WRR____20240909T130929_20240909T135342_20240910T163350_2653_116_352______MAR_O_NT_003.SEN3/entry?name=S3A_OL_2_WRR____20240909T130929_20240909T135342_20240910T163350_2653_116_352______MAR_O_NT_003.SEN3%2Fiwv.nc",
             "mediaType": "application/x-netcdf",
             "title": "S3A_OL_2_WRR____20240909T130929_20240909T135342_20240910T163350_2653_116_352______MAR_O_NT_003.SEN3/iwv.nc",
             "type": "Link"
            },
            {
             "href": "https://api.eumetsat.int/data/download/1.0.0/collections/EO%3AEUM%3ADAT%3A0408/products/S3A_OL_2_WRR____20240909T130929_20240909T135342_20240910T163350_2653_116_352______MAR_O_NT_003.SEN3/entry?name=S3A_OL_2_WRR____20240909T130929_20240909T135342_20240910T163350_2653_116_352______MAR_O_NT_003.SEN3%2Ftime_coordinates.nc",
             "mediaType": "application/x-netcdf",
             "title": "S3A_OL_2_WRR____20240909T130929_20240909T135342_20240910T163350_2653_116_352______MAR_O_NT_003.SEN3/time_coordinates.nc",
             "type": "Link"
            },
            {
             "href": "https://api.eumetsat.int/data/download/1.0.0/collections/EO%3AEUM%3ADAT%3A0408/products/S3A_OL_2_WRR____20240909T130929_20240909T135342_20240910T163350_2653_116_352______MAR_O_NT_003.SEN3/entry?name=S3A_OL_2_WRR____20240909T130929_20240909T135342_20240910T163350_2653_116_352______MAR_O_NT_003.SEN3%2FOa06_reflectance.nc",
             "mediaType": "application/x-netcdf",
             "title": "S3A_OL_2_WRR____20240909T130929_20240909T135342_20240910T163350_2653_116_352______MAR_O_NT_003.SEN3/Oa06_reflectance.nc",
             "type": "Link"
            },
            {
             "href": "https://api.eumetsat.int/data/download/1.0.0/collections/EO%3AEUM%3ADAT%3A0408/products/S3A_OL_2_WRR____20240909T130929_20240909T135342_20240910T163350_2653_116_352______MAR_O_NT_003.SEN3/entry?name=S3A_OL_2_WRR____20240909T130929_20240909T135342_20240910T163350_2653_116_352______MAR_O_NT_003.SEN3%2Fpar.nc",
             "mediaType": "application/x-netcdf",
             "title": "S3A_OL_2_WRR____20240909T130929_20240909T135342_20240910T163350_2653_116_352______MAR_O_NT_003.SEN3/par.nc",
             "type": "Link"
            },
            {
             "href": "https://api.eumetsat.int/data/download/1.0.0/collections/EO%3AEUM%3ADAT%3A0408/products/S3A_OL_2_WRR____20240909T130929_20240909T135342_20240910T163350_2653_116_352______MAR_O_NT_003.SEN3/entry?name=S3A_OL_2_WRR____20240909T130929_20240909T135342_20240910T163350_2653_116_352______MAR_O_NT_003.SEN3%2FOa01_reflectance.nc",
             "mediaType": "application/x-netcdf",
             "title": "S3A_OL_2_WRR____20240909T130929_20240909T135342_20240910T163350_2653_116_352______MAR_O_NT_003.SEN3/Oa01_reflectance.nc",
             "type": "Link"
            },
            {
             "href": "https://api.eumetsat.int/data/download/1.0.0/collections/EO%3AEUM%3ADAT%3A0408/products/S3A_OL_2_WRR____20240909T130929_20240909T135342_20240910T163350_2653_116_352______MAR_O_NT_003.SEN3/entry?name=browse.jpg",
             "mediaType": "image/jpeg",
             "title": "browse.jpg",
             "type": "Link"
            },
            {
             "href": "https://api.eumetsat.int/data/download/1.0.0/collections/EO%3AEUM%3ADAT%3A0408/products/S3A_OL_2_WRR____20240909T130929_20240909T135342_20240910T163350_2653_116_352______MAR_O_NT_003.SEN3/entry?name=S3A_OL_2_WRR____20240909T130929_20240909T135342_20240910T163350_2653_116_352______MAR_O_NT_003.SEN3%2FOa10_reflectance.nc",
             "mediaType": "application/x-netcdf",
             "title": "S3A_OL_2_WRR____20240909T130929_20240909T135342_20240910T163350_2653_116_352______MAR_O_NT_003.SEN3/Oa10_reflectance.nc",
             "type": "Link"
            },
            {
             "href": "https://api.eumetsat.int/data/download/1.0.0/collections/EO%3AEUM%3ADAT%3A0408/products/S3A_OL_2_WRR____20240909T130929_20240909T135342_20240910T163350_2653_116_352______MAR_O_NT_003.SEN3/entry?name=S3A_OL_2_WRR____20240909T130929_20240909T135342_20240910T163350_2653_116_352______MAR_O_NT_003.SEN3%2Finstrument_data.nc",
             "mediaType": "application/x-netcdf",
             "title": "S3A_OL_2_WRR____20240909T130929_20240909T135342_20240910T163350_2653_116_352______MAR_O_NT_003.SEN3/instrument_data.nc",
             "type": "Link"
            },
            {
             "href": "https://api.eumetsat.int/data/download/1.0.0/collections/EO%3AEUM%3ADAT%3A0408/products/S3A_OL_2_WRR____20240909T130929_20240909T135342_20240910T163350_2653_116_352______MAR_O_NT_003.SEN3/entry?name=S3A_OL_2_WRR____20240909T130929_20240909T135342_20240910T163350_2653_116_352______MAR_O_NT_003.SEN3%2Ftrsp.nc",
             "mediaType": "application/x-netcdf",
             "title": "S3A_OL_2_WRR____20240909T130929_20240909T135342_20240910T163350_2653_116_352______MAR_O_NT_003.SEN3/trsp.nc",
             "type": "Link"
            }
           ],
           "type": "Links"
          },
          "order:status": "succeeded",
          "parentIdentifier": "EO:EUM:DAT:0408",
          "platform": "Sentinel-3A,Sentinel-3B",
          "processing:level": "L1B",
          "product:timeliness": "NT",
          "quicklook": "https://api.eumetsat.int/data/download/1.0.0/collections/EO%3AEUM%3ADAT%3A0408/products/S3A_OL_2_WRR____20240909T130929_20240909T135342_20240910T163350_2653_116_352______MAR_O_NT_003.SEN3/browse",
          "sat:absolute_orbit": 44600,
          "sat:orbit_state": "DESCENDING",
          "sat:relative_orbit": 352,
          "scope": {
           "discover": null,
           "download": "hda-public-data-access",
           "search": "hda-public-data-access"
          },
          "size": 403276,
          "stacCollection": "/eodag/collections/EO.EUM.DAT.SENTINEL-3.OL_2_WRR___.json",
          "start_datetime": "2024-09-09T13:09:28.869824Z",
          "storage:tier": "online",
          "title": "S3A_OL_2_WRR____20240909T130929_20240909T135342_20240910T163350_2653_116_352______MAR_O_NT_003.SEN3",
          "uid": "S3A_OL_2_WRR____20240909T130929_20240909T135342_20240910T163350_2653_116_352______MAR_O_NT_003.SEN3",
          "updated": "2024-09-10T16:36:45.333000Z"
         },
         "stac_extensions": [
          "https://stac-extensions.github.io/order/v1.1.0/schema.json",
          "https://stac-extensions.github.io/product/v0.1.0/schema.json",
          "https://stac-extensions.github.io/processing/v1.0.0/schema.json",
          "https://stac-extensions.github.io/storage/v1.0.0/schema.json",
          "https://stac-extensions.github.io/sat/v1.0.0/schema.json"
         ],
         "stac_version": "1.0.0",
         "type": "Feature"
        },
        {
         "assets": {
          "EOPMetadata.xml": {
           "alternate": {
            "origin": {
             "href": "https://api.eumetsat.int/data/download/1.0.0/collections/EO%3AEUM%3ADAT%3A0408/products/S3B_OL_2_WRR____20240909T123048_20240909T131501_20240910T163344_2653_097_209______MAR_O_NT_003.SEN3/entry?name=EOPMetadata.xml",
             "mediaType": "application/xml",
             "roles": [
              "metadata"
             ],
             "title": "EOPMetadata.xml",
             "type": "Link"
            }
           },
           "href": "https://hda-download.lumi.data.destination-earth.eu/data/eumetsat/EO.EUM.DAT.SENTINEL-3.OL_2_WRR___/S3B_OL_2_WRR____20240909T123048_20240909T131501_20240910T163344_2653_097_209______MAR_O_NT_003.SEN3/EOPMetadata.xml",
           "mediaType": "application/xml",
           "roles": [
            "metadata"
           ],
           "title": "EOPMetadata.xml",
           "type": "Link"
          },
          "Oa01_reflectance.nc": {
           "alternate": {
            "origin": {
             "href": "https://api.eumetsat.int/data/download/1.0.0/collections/EO%3AEUM%3ADAT%3A0408/products/S3B_OL_2_WRR____20240909T123048_20240909T131501_20240910T163344_2653_097_209______MAR_O_NT_003.SEN3/entry?name=S3B_OL_2_WRR____20240909T123048_20240909T131501_20240910T163344_2653_097_209______MAR_O_NT_003.SEN3%2FOa01_reflectance.nc",
             "mediaType": "application/x-netcdf",
             "roles": [
              "data"
             ],
             "title": "S3B_OL_2_WRR____20240909T123048_20240909T131501_20240910T163344_2653_097_209______MAR_O_NT_003.SEN3/Oa01_reflectance.nc",
             "type": "Link"
            }
           },
           "href": "https://hda-download.lumi.data.destination-earth.eu/data/eumetsat/EO.EUM.DAT.SENTINEL-3.OL_2_WRR___/S3B_OL_2_WRR____20240909T123048_20240909T131501_20240910T163344_2653_097_209______MAR_O_NT_003.SEN3/Oa01_reflectance.nc",
           "mediaType": "application/x-netcdf",
           "roles": [
            "data"
           ],
           "title": "S3B_OL_2_WRR____20240909T123048_20240909T131501_20240910T163344_2653_097_209______MAR_O_NT_003.SEN3/Oa01_reflectance.nc",
           "type": "Link"
          },
          "Oa02_reflectance.nc": {
           "alternate": {
            "origin": {
             "href": "https://api.eumetsat.int/data/download/1.0.0/collections/EO%3AEUM%3ADAT%3A0408/products/S3B_OL_2_WRR____20240909T123048_20240909T131501_20240910T163344_2653_097_209______MAR_O_NT_003.SEN3/entry?name=S3B_OL_2_WRR____20240909T123048_20240909T131501_20240910T163344_2653_097_209______MAR_O_NT_003.SEN3%2FOa02_reflectance.nc",
             "mediaType": "application/x-netcdf",
             "roles": [
              "data"
             ],
             "title": "S3B_OL_2_WRR____20240909T123048_20240909T131501_20240910T163344_2653_097_209______MAR_O_NT_003.SEN3/Oa02_reflectance.nc",
             "type": "Link"
            }
           },
           "href": "https://hda-download.lumi.data.destination-earth.eu/data/eumetsat/EO.EUM.DAT.SENTINEL-3.OL_2_WRR___/S3B_OL_2_WRR____20240909T123048_20240909T131501_20240910T163344_2653_097_209______MAR_O_NT_003.SEN3/Oa02_reflectance.nc",
           "mediaType": "application/x-netcdf",
           "roles": [
            "data"
           ],
           "title": "S3B_OL_2_WRR____20240909T123048_20240909T131501_20240910T163344_2653_097_209______MAR_O_NT_003.SEN3/Oa02_reflectance.nc",
           "type": "Link"
          },
          "Oa03_reflectance.nc": {
           "alternate": {
            "origin": {
             "href": "https://api.eumetsat.int/data/download/1.0.0/collections/EO%3AEUM%3ADAT%3A0408/products/S3B_OL_2_WRR____20240909T123048_20240909T131501_20240910T163344_2653_097_209______MAR_O_NT_003.SEN3/entry?name=S3B_OL_2_WRR____20240909T123048_20240909T131501_20240910T163344_2653_097_209______MAR_O_NT_003.SEN3%2FOa03_reflectance.nc",
             "mediaType": "application/x-netcdf",
             "roles": [
              "data"
             ],
             "title": "S3B_OL_2_WRR____20240909T123048_20240909T131501_20240910T163344_2653_097_209______MAR_O_NT_003.SEN3/Oa03_reflectance.nc",
             "type": "Link"
            }
           },
           "href": "https://hda-download.lumi.data.destination-earth.eu/data/eumetsat/EO.EUM.DAT.SENTINEL-3.OL_2_WRR___/S3B_OL_2_WRR____20240909T123048_20240909T131501_20240910T163344_2653_097_209______MAR_O_NT_003.SEN3/Oa03_reflectance.nc",
           "mediaType": "application/x-netcdf",
           "roles": [
            "data"
           ],
           "title": "S3B_OL_2_WRR____20240909T123048_20240909T131501_20240910T163344_2653_097_209______MAR_O_NT_003.SEN3/Oa03_reflectance.nc",
           "type": "Link"
          },
          "Oa04_reflectance.nc": {
           "alternate": {
            "origin": {
             "href": "https://api.eumetsat.int/data/download/1.0.0/collections/EO%3AEUM%3ADAT%3A0408/products/S3B_OL_2_WRR____20240909T123048_20240909T131501_20240910T163344_2653_097_209______MAR_O_NT_003.SEN3/entry?name=S3B_OL_2_WRR____20240909T123048_20240909T131501_20240910T163344_2653_097_209______MAR_O_NT_003.SEN3%2FOa04_reflectance.nc",
             "mediaType": "application/x-netcdf",
             "roles": [
              "data"
             ],
             "title": "S3B_OL_2_WRR____20240909T123048_20240909T131501_20240910T163344_2653_097_209______MAR_O_NT_003.SEN3/Oa04_reflectance.nc",
             "type": "Link"
            }
           },
           "href": "https://hda-download.lumi.data.destination-earth.eu/data/eumetsat/EO.EUM.DAT.SENTINEL-3.OL_2_WRR___/S3B_OL_2_WRR____20240909T123048_20240909T131501_20240910T163344_2653_097_209______MAR_O_NT_003.SEN3/Oa04_reflectance.nc",
           "mediaType": "application/x-netcdf",
           "roles": [
            "data"
           ],
           "title": "S3B_OL_2_WRR____20240909T123048_20240909T131501_20240910T163344_2653_097_209______MAR_O_NT_003.SEN3/Oa04_reflectance.nc",
           "type": "Link"
          },
          "Oa05_reflectance.nc": {
           "alternate": {
            "origin": {
             "href": "https://api.eumetsat.int/data/download/1.0.0/collections/EO%3AEUM%3ADAT%3A0408/products/S3B_OL_2_WRR____20240909T123048_20240909T131501_20240910T163344_2653_097_209______MAR_O_NT_003.SEN3/entry?name=S3B_OL_2_WRR____20240909T123048_20240909T131501_20240910T163344_2653_097_209______MAR_O_NT_003.SEN3%2FOa05_reflectance.nc",
             "mediaType": "application/x-netcdf",
             "roles": [
              "data"
             ],
             "title": "S3B_OL_2_WRR____20240909T123048_20240909T131501_20240910T163344_2653_097_209______MAR_O_NT_003.SEN3/Oa05_reflectance.nc",
             "type": "Link"
            }
           },
           "href": "https://hda-download.lumi.data.destination-earth.eu/data/eumetsat/EO.EUM.DAT.SENTINEL-3.OL_2_WRR___/S3B_OL_2_WRR____20240909T123048_20240909T131501_20240910T163344_2653_097_209______MAR_O_NT_003.SEN3/Oa05_reflectance.nc",
           "mediaType": "application/x-netcdf",
           "roles": [
            "data"
           ],
           "title": "S3B_OL_2_WRR____20240909T123048_20240909T131501_20240910T163344_2653_097_209______MAR_O_NT_003.SEN3/Oa05_reflectance.nc",
           "type": "Link"
          },
          "Oa06_reflectance.nc": {
           "alternate": {
            "origin": {
             "href": "https://api.eumetsat.int/data/download/1.0.0/collections/EO%3AEUM%3ADAT%3A0408/products/S3B_OL_2_WRR____20240909T123048_20240909T131501_20240910T163344_2653_097_209______MAR_O_NT_003.SEN3/entry?name=S3B_OL_2_WRR____20240909T123048_20240909T131501_20240910T163344_2653_097_209______MAR_O_NT_003.SEN3%2FOa06_reflectance.nc",
             "mediaType": "application/x-netcdf",
             "roles": [
              "data"
             ],
             "title": "S3B_OL_2_WRR____20240909T123048_20240909T131501_20240910T163344_2653_097_209______MAR_O_NT_003.SEN3/Oa06_reflectance.nc",
             "type": "Link"
            }
           },
           "href": "https://hda-download.lumi.data.destination-earth.eu/data/eumetsat/EO.EUM.DAT.SENTINEL-3.OL_2_WRR___/S3B_OL_2_WRR____20240909T123048_20240909T131501_20240910T163344_2653_097_209______MAR_O_NT_003.SEN3/Oa06_reflectance.nc",
           "mediaType": "application/x-netcdf",
           "roles": [
            "data"
           ],
           "title": "S3B_OL_2_WRR____20240909T123048_20240909T131501_20240910T163344_2653_097_209______MAR_O_NT_003.SEN3/Oa06_reflectance.nc",
           "type": "Link"
          },
          "Oa07_reflectance.nc": {
           "alternate": {
            "origin": {
             "href": "https://api.eumetsat.int/data/download/1.0.0/collections/EO%3AEUM%3ADAT%3A0408/products/S3B_OL_2_WRR____20240909T123048_20240909T131501_20240910T163344_2653_097_209______MAR_O_NT_003.SEN3/entry?name=S3B_OL_2_WRR____20240909T123048_20240909T131501_20240910T163344_2653_097_209______MAR_O_NT_003.SEN3%2FOa07_reflectance.nc",
             "mediaType": "application/x-netcdf",
             "roles": [
              "data"
             ],
             "title": "S3B_OL_2_WRR____20240909T123048_20240909T131501_20240910T163344_2653_097_209______MAR_O_NT_003.SEN3/Oa07_reflectance.nc",
             "type": "Link"
            }
           },
           "href": "https://hda-download.lumi.data.destination-earth.eu/data/eumetsat/EO.EUM.DAT.SENTINEL-3.OL_2_WRR___/S3B_OL_2_WRR____20240909T123048_20240909T131501_20240910T163344_2653_097_209______MAR_O_NT_003.SEN3/Oa07_reflectance.nc",
           "mediaType": "application/x-netcdf",
           "roles": [
            "data"
           ],
           "title": "S3B_OL_2_WRR____20240909T123048_20240909T131501_20240910T163344_2653_097_209______MAR_O_NT_003.SEN3/Oa07_reflectance.nc",
           "type": "Link"
          },
          "Oa08_reflectance.nc": {
           "alternate": {
            "origin": {
             "href": "https://api.eumetsat.int/data/download/1.0.0/collections/EO%3AEUM%3ADAT%3A0408/products/S3B_OL_2_WRR____20240909T123048_20240909T131501_20240910T163344_2653_097_209______MAR_O_NT_003.SEN3/entry?name=S3B_OL_2_WRR____20240909T123048_20240909T131501_20240910T163344_2653_097_209______MAR_O_NT_003.SEN3%2FOa08_reflectance.nc",
             "mediaType": "application/x-netcdf",
             "roles": [
              "data"
             ],
             "title": "S3B_OL_2_WRR____20240909T123048_20240909T131501_20240910T163344_2653_097_209______MAR_O_NT_003.SEN3/Oa08_reflectance.nc",
             "type": "Link"
            }
           },
           "href": "https://hda-download.lumi.data.destination-earth.eu/data/eumetsat/EO.EUM.DAT.SENTINEL-3.OL_2_WRR___/S3B_OL_2_WRR____20240909T123048_20240909T131501_20240910T163344_2653_097_209______MAR_O_NT_003.SEN3/Oa08_reflectance.nc",
           "mediaType": "application/x-netcdf",
           "roles": [
            "data"
           ],
           "title": "S3B_OL_2_WRR____20240909T123048_20240909T131501_20240910T163344_2653_097_209______MAR_O_NT_003.SEN3/Oa08_reflectance.nc",
           "type": "Link"
          },
          "Oa09_reflectance.nc": {
           "alternate": {
            "origin": {
             "href": "https://api.eumetsat.int/data/download/1.0.0/collections/EO%3AEUM%3ADAT%3A0408/products/S3B_OL_2_WRR____20240909T123048_20240909T131501_20240910T163344_2653_097_209______MAR_O_NT_003.SEN3/entry?name=S3B_OL_2_WRR____20240909T123048_20240909T131501_20240910T163344_2653_097_209______MAR_O_NT_003.SEN3%2FOa09_reflectance.nc",
             "mediaType": "application/x-netcdf",
             "roles": [
              "data"
             ],
             "title": "S3B_OL_2_WRR____20240909T123048_20240909T131501_20240910T163344_2653_097_209______MAR_O_NT_003.SEN3/Oa09_reflectance.nc",
             "type": "Link"
            }
           },
           "href": "https://hda-download.lumi.data.destination-earth.eu/data/eumetsat/EO.EUM.DAT.SENTINEL-3.OL_2_WRR___/S3B_OL_2_WRR____20240909T123048_20240909T131501_20240910T163344_2653_097_209______MAR_O_NT_003.SEN3/Oa09_reflectance.nc",
           "mediaType": "application/x-netcdf",
           "roles": [
            "data"
           ],
           "title": "S3B_OL_2_WRR____20240909T123048_20240909T131501_20240910T163344_2653_097_209______MAR_O_NT_003.SEN3/Oa09_reflectance.nc",
           "type": "Link"
          },
          "Oa10_reflectance.nc": {
           "alternate": {
            "origin": {
             "href": "https://api.eumetsat.int/data/download/1.0.0/collections/EO%3AEUM%3ADAT%3A0408/products/S3B_OL_2_WRR____20240909T123048_20240909T131501_20240910T163344_2653_097_209______MAR_O_NT_003.SEN3/entry?name=S3B_OL_2_WRR____20240909T123048_20240909T131501_20240910T163344_2653_097_209______MAR_O_NT_003.SEN3%2FOa10_reflectance.nc",
             "mediaType": "application/x-netcdf",
             "roles": [
              "data"
             ],
             "title": "S3B_OL_2_WRR____20240909T123048_20240909T131501_20240910T163344_2653_097_209______MAR_O_NT_003.SEN3/Oa10_reflectance.nc",
             "type": "Link"
            }
           },
           "href": "https://hda-download.lumi.data.destination-earth.eu/data/eumetsat/EO.EUM.DAT.SENTINEL-3.OL_2_WRR___/S3B_OL_2_WRR____20240909T123048_20240909T131501_20240910T163344_2653_097_209______MAR_O_NT_003.SEN3/Oa10_reflectance.nc",
           "mediaType": "application/x-netcdf",
           "roles": [
            "data"
           ],
           "title": "S3B_OL_2_WRR____20240909T123048_20240909T131501_20240910T163344_2653_097_209______MAR_O_NT_003.SEN3/Oa10_reflectance.nc",
           "type": "Link"
          },
          "Oa11_reflectance.nc": {
           "alternate": {
            "origin": {
             "href": "https://api.eumetsat.int/data/download/1.0.0/collections/EO%3AEUM%3ADAT%3A0408/products/S3B_OL_2_WRR____20240909T123048_20240909T131501_20240910T163344_2653_097_209______MAR_O_NT_003.SEN3/entry?name=S3B_OL_2_WRR____20240909T123048_20240909T131501_20240910T163344_2653_097_209______MAR_O_NT_003.SEN3%2FOa11_reflectance.nc",
             "mediaType": "application/x-netcdf",
             "roles": [
              "data"
             ],
             "title": "S3B_OL_2_WRR____20240909T123048_20240909T131501_20240910T163344_2653_097_209______MAR_O_NT_003.SEN3/Oa11_reflectance.nc",
             "type": "Link"
            }
           },
           "href": "https://hda-download.lumi.data.destination-earth.eu/data/eumetsat/EO.EUM.DAT.SENTINEL-3.OL_2_WRR___/S3B_OL_2_WRR____20240909T123048_20240909T131501_20240910T163344_2653_097_209______MAR_O_NT_003.SEN3/Oa11_reflectance.nc",
           "mediaType": "application/x-netcdf",
           "roles": [
            "data"
           ],
           "title": "S3B_OL_2_WRR____20240909T123048_20240909T131501_20240910T163344_2653_097_209______MAR_O_NT_003.SEN3/Oa11_reflectance.nc",
           "type": "Link"
          },
          "Oa12_reflectance.nc": {
           "alternate": {
            "origin": {
             "href": "https://api.eumetsat.int/data/download/1.0.0/collections/EO%3AEUM%3ADAT%3A0408/products/S3B_OL_2_WRR____20240909T123048_20240909T131501_20240910T163344_2653_097_209______MAR_O_NT_003.SEN3/entry?name=S3B_OL_2_WRR____20240909T123048_20240909T131501_20240910T163344_2653_097_209______MAR_O_NT_003.SEN3%2FOa12_reflectance.nc",
             "mediaType": "application/x-netcdf",
             "roles": [
              "data"
             ],
             "title": "S3B_OL_2_WRR____20240909T123048_20240909T131501_20240910T163344_2653_097_209______MAR_O_NT_003.SEN3/Oa12_reflectance.nc",
             "type": "Link"
            }
           },
           "href": "https://hda-download.lumi.data.destination-earth.eu/data/eumetsat/EO.EUM.DAT.SENTINEL-3.OL_2_WRR___/S3B_OL_2_WRR____20240909T123048_20240909T131501_20240910T163344_2653_097_209______MAR_O_NT_003.SEN3/Oa12_reflectance.nc",
           "mediaType": "application/x-netcdf",
           "roles": [
            "data"
           ],
           "title": "S3B_OL_2_WRR____20240909T123048_20240909T131501_20240910T163344_2653_097_209______MAR_O_NT_003.SEN3/Oa12_reflectance.nc",
           "type": "Link"
          },
          "Oa16_reflectance.nc": {
           "alternate": {
            "origin": {
             "href": "https://api.eumetsat.int/data/download/1.0.0/collections/EO%3AEUM%3ADAT%3A0408/products/S3B_OL_2_WRR____20240909T123048_20240909T131501_20240910T163344_2653_097_209______MAR_O_NT_003.SEN3/entry?name=S3B_OL_2_WRR____20240909T123048_20240909T131501_20240910T163344_2653_097_209______MAR_O_NT_003.SEN3%2FOa16_reflectance.nc",
             "mediaType": "application/x-netcdf",
             "roles": [
              "data"
             ],
             "title": "S3B_OL_2_WRR____20240909T123048_20240909T131501_20240910T163344_2653_097_209______MAR_O_NT_003.SEN3/Oa16_reflectance.nc",
             "type": "Link"
            }
           },
           "href": "https://hda-download.lumi.data.destination-earth.eu/data/eumetsat/EO.EUM.DAT.SENTINEL-3.OL_2_WRR___/S3B_OL_2_WRR____20240909T123048_20240909T131501_20240910T163344_2653_097_209______MAR_O_NT_003.SEN3/Oa16_reflectance.nc",
           "mediaType": "application/x-netcdf",
           "roles": [
            "data"
           ],
           "title": "S3B_OL_2_WRR____20240909T123048_20240909T131501_20240910T163344_2653_097_209______MAR_O_NT_003.SEN3/Oa16_reflectance.nc",
           "type": "Link"
          },
          "Oa17_reflectance.nc": {
           "alternate": {
            "origin": {
             "href": "https://api.eumetsat.int/data/download/1.0.0/collections/EO%3AEUM%3ADAT%3A0408/products/S3B_OL_2_WRR____20240909T123048_20240909T131501_20240910T163344_2653_097_209______MAR_O_NT_003.SEN3/entry?name=S3B_OL_2_WRR____20240909T123048_20240909T131501_20240910T163344_2653_097_209______MAR_O_NT_003.SEN3%2FOa17_reflectance.nc",
             "mediaType": "application/x-netcdf",
             "roles": [
              "data"
             ],
             "title": "S3B_OL_2_WRR____20240909T123048_20240909T131501_20240910T163344_2653_097_209______MAR_O_NT_003.SEN3/Oa17_reflectance.nc",
             "type": "Link"
            }
           },
           "href": "https://hda-download.lumi.data.destination-earth.eu/data/eumetsat/EO.EUM.DAT.SENTINEL-3.OL_2_WRR___/S3B_OL_2_WRR____20240909T123048_20240909T131501_20240910T163344_2653_097_209______MAR_O_NT_003.SEN3/Oa17_reflectance.nc",
           "mediaType": "application/x-netcdf",
           "roles": [
            "data"
           ],
           "title": "S3B_OL_2_WRR____20240909T123048_20240909T131501_20240910T163344_2653_097_209______MAR_O_NT_003.SEN3/Oa17_reflectance.nc",
           "type": "Link"
          },
          "Oa18_reflectance.nc": {
           "alternate": {
            "origin": {
             "href": "https://api.eumetsat.int/data/download/1.0.0/collections/EO%3AEUM%3ADAT%3A0408/products/S3B_OL_2_WRR____20240909T123048_20240909T131501_20240910T163344_2653_097_209______MAR_O_NT_003.SEN3/entry?name=S3B_OL_2_WRR____20240909T123048_20240909T131501_20240910T163344_2653_097_209______MAR_O_NT_003.SEN3%2FOa18_reflectance.nc",
             "mediaType": "application/x-netcdf",
             "roles": [
              "data"
             ],
             "title": "S3B_OL_2_WRR____20240909T123048_20240909T131501_20240910T163344_2653_097_209______MAR_O_NT_003.SEN3/Oa18_reflectance.nc",
             "type": "Link"
            }
           },
           "href": "https://hda-download.lumi.data.destination-earth.eu/data/eumetsat/EO.EUM.DAT.SENTINEL-3.OL_2_WRR___/S3B_OL_2_WRR____20240909T123048_20240909T131501_20240910T163344_2653_097_209______MAR_O_NT_003.SEN3/Oa18_reflectance.nc",
           "mediaType": "application/x-netcdf",
           "roles": [
            "data"
           ],
           "title": "S3B_OL_2_WRR____20240909T123048_20240909T131501_20240910T163344_2653_097_209______MAR_O_NT_003.SEN3/Oa18_reflectance.nc",
           "type": "Link"
          },
          "Oa21_reflectance.nc": {
           "alternate": {
            "origin": {
             "href": "https://api.eumetsat.int/data/download/1.0.0/collections/EO%3AEUM%3ADAT%3A0408/products/S3B_OL_2_WRR____20240909T123048_20240909T131501_20240910T163344_2653_097_209______MAR_O_NT_003.SEN3/entry?name=S3B_OL_2_WRR____20240909T123048_20240909T131501_20240910T163344_2653_097_209______MAR_O_NT_003.SEN3%2FOa21_reflectance.nc",
             "mediaType": "application/x-netcdf",
             "roles": [
              "data"
             ],
             "title": "S3B_OL_2_WRR____20240909T123048_20240909T131501_20240910T163344_2653_097_209______MAR_O_NT_003.SEN3/Oa21_reflectance.nc",
             "type": "Link"
            }
           },
           "href": "https://hda-download.lumi.data.destination-earth.eu/data/eumetsat/EO.EUM.DAT.SENTINEL-3.OL_2_WRR___/S3B_OL_2_WRR____20240909T123048_20240909T131501_20240910T163344_2653_097_209______MAR_O_NT_003.SEN3/Oa21_reflectance.nc",
           "mediaType": "application/x-netcdf",
           "roles": [
            "data"
           ],
           "title": "S3B_OL_2_WRR____20240909T123048_20240909T131501_20240910T163344_2653_097_209______MAR_O_NT_003.SEN3/Oa21_reflectance.nc",
           "type": "Link"
          },
          "browse.jpg": {
           "alternate": {
            "origin": {
             "href": "https://api.eumetsat.int/data/download/1.0.0/collections/EO%3AEUM%3ADAT%3A0408/products/S3B_OL_2_WRR____20240909T123048_20240909T131501_20240910T163344_2653_097_209______MAR_O_NT_003.SEN3/entry?name=browse.jpg",
             "mediaType": "image/jpeg",
             "roles": [
              "auxiliary"
             ],
             "title": "browse.jpg",
             "type": "Link"
            }
           },
           "href": "https://hda-download.lumi.data.destination-earth.eu/data/eumetsat/EO.EUM.DAT.SENTINEL-3.OL_2_WRR___/S3B_OL_2_WRR____20240909T123048_20240909T131501_20240910T163344_2653_097_209______MAR_O_NT_003.SEN3/browse.jpg",
           "mediaType": "image/jpeg",
           "roles": [
            "auxiliary"
           ],
           "title": "browse.jpg",
           "type": "Link"
          },
          "chl_nn.nc": {
           "alternate": {
            "origin": {
             "href": "https://api.eumetsat.int/data/download/1.0.0/collections/EO%3AEUM%3ADAT%3A0408/products/S3B_OL_2_WRR____20240909T123048_20240909T131501_20240910T163344_2653_097_209______MAR_O_NT_003.SEN3/entry?name=S3B_OL_2_WRR____20240909T123048_20240909T131501_20240910T163344_2653_097_209______MAR_O_NT_003.SEN3%2Fchl_nn.nc",
             "mediaType": "application/x-netcdf",
             "roles": [
              "data"
             ],
             "title": "S3B_OL_2_WRR____20240909T123048_20240909T131501_20240910T163344_2653_097_209______MAR_O_NT_003.SEN3/chl_nn.nc",
             "type": "Link"
            }
           },
           "href": "https://hda-download.lumi.data.destination-earth.eu/data/eumetsat/EO.EUM.DAT.SENTINEL-3.OL_2_WRR___/S3B_OL_2_WRR____20240909T123048_20240909T131501_20240910T163344_2653_097_209______MAR_O_NT_003.SEN3/chl_nn.nc",
           "mediaType": "application/x-netcdf",
           "roles": [
            "data"
           ],
           "title": "S3B_OL_2_WRR____20240909T123048_20240909T131501_20240910T163344_2653_097_209______MAR_O_NT_003.SEN3/chl_nn.nc",
           "type": "Link"
          },
          "chl_oc4me.nc": {
           "alternate": {
            "origin": {
             "href": "https://api.eumetsat.int/data/download/1.0.0/collections/EO%3AEUM%3ADAT%3A0408/products/S3B_OL_2_WRR____20240909T123048_20240909T131501_20240910T163344_2653_097_209______MAR_O_NT_003.SEN3/entry?name=S3B_OL_2_WRR____20240909T123048_20240909T131501_20240910T163344_2653_097_209______MAR_O_NT_003.SEN3%2Fchl_oc4me.nc",
             "mediaType": "application/x-netcdf",
             "roles": [
              "data"
             ],
             "title": "S3B_OL_2_WRR____20240909T123048_20240909T131501_20240910T163344_2653_097_209______MAR_O_NT_003.SEN3/chl_oc4me.nc",
             "type": "Link"
            }
           },
           "href": "https://hda-download.lumi.data.destination-earth.eu/data/eumetsat/EO.EUM.DAT.SENTINEL-3.OL_2_WRR___/S3B_OL_2_WRR____20240909T123048_20240909T131501_20240910T163344_2653_097_209______MAR_O_NT_003.SEN3/chl_oc4me.nc",
           "mediaType": "application/x-netcdf",
           "roles": [
            "data"
           ],
           "title": "S3B_OL_2_WRR____20240909T123048_20240909T131501_20240910T163344_2653_097_209______MAR_O_NT_003.SEN3/chl_oc4me.nc",
           "type": "Link"
          },
          "downloadLink": {
           "alternate": {
            "origin": {
             "href": "https://api.eumetsat.int/data/download/1.0.0/collections/EO%3AEUM%3ADAT%3A0408/products/S3B_OL_2_WRR____20240909T123048_20240909T131501_20240910T163344_2653_097_209______MAR_O_NT_003.SEN3",
             "title": "Origin asset link",
             "type": "application/zip"
            }
           },
           "href": "https://hda-download.lumi.data.destination-earth.eu/data/eumetsat/EO.EUM.DAT.SENTINEL-3.OL_2_WRR___/S3B_OL_2_WRR____20240909T123048_20240909T131501_20240910T163344_2653_097_209______MAR_O_NT_003.SEN3/downloadLink",
           "title": "Download link",
           "type": "application/zip"
          },
          "geo_coordinates.nc": {
           "alternate": {
            "origin": {
             "href": "https://api.eumetsat.int/data/download/1.0.0/collections/EO%3AEUM%3ADAT%3A0408/products/S3B_OL_2_WRR____20240909T123048_20240909T131501_20240910T163344_2653_097_209______MAR_O_NT_003.SEN3/entry?name=S3B_OL_2_WRR____20240909T123048_20240909T131501_20240910T163344_2653_097_209______MAR_O_NT_003.SEN3%2Fgeo_coordinates.nc",
             "mediaType": "application/x-netcdf",
             "roles": [
              "data"
             ],
             "title": "S3B_OL_2_WRR____20240909T123048_20240909T131501_20240910T163344_2653_097_209______MAR_O_NT_003.SEN3/geo_coordinates.nc",
             "type": "Link"
            }
           },
           "href": "https://hda-download.lumi.data.destination-earth.eu/data/eumetsat/EO.EUM.DAT.SENTINEL-3.OL_2_WRR___/S3B_OL_2_WRR____20240909T123048_20240909T131501_20240910T163344_2653_097_209______MAR_O_NT_003.SEN3/geo_coordinates.nc",
           "mediaType": "application/x-netcdf",
           "roles": [
            "data"
           ],
           "title": "S3B_OL_2_WRR____20240909T123048_20240909T131501_20240910T163344_2653_097_209______MAR_O_NT_003.SEN3/geo_coordinates.nc",
           "type": "Link"
          },
          "instrument_data.nc": {
           "alternate": {
            "origin": {
             "href": "https://api.eumetsat.int/data/download/1.0.0/collections/EO%3AEUM%3ADAT%3A0408/products/S3B_OL_2_WRR____20240909T123048_20240909T131501_20240910T163344_2653_097_209______MAR_O_NT_003.SEN3/entry?name=S3B_OL_2_WRR____20240909T123048_20240909T131501_20240910T163344_2653_097_209______MAR_O_NT_003.SEN3%2Finstrument_data.nc",
             "mediaType": "application/x-netcdf",
             "roles": [
              "data"
             ],
             "title": "S3B_OL_2_WRR____20240909T123048_20240909T131501_20240910T163344_2653_097_209______MAR_O_NT_003.SEN3/instrument_data.nc",
             "type": "Link"
            }
           },
           "href": "https://hda-download.lumi.data.destination-earth.eu/data/eumetsat/EO.EUM.DAT.SENTINEL-3.OL_2_WRR___/S3B_OL_2_WRR____20240909T123048_20240909T131501_20240910T163344_2653_097_209______MAR_O_NT_003.SEN3/instrument_data.nc",
           "mediaType": "application/x-netcdf",
           "roles": [
            "data"
           ],
           "title": "S3B_OL_2_WRR____20240909T123048_20240909T131501_20240910T163344_2653_097_209______MAR_O_NT_003.SEN3/instrument_data.nc",
           "type": "Link"
          },
          "iop_lsd.nc": {
           "alternate": {
            "origin": {
             "href": "https://api.eumetsat.int/data/download/1.0.0/collections/EO%3AEUM%3ADAT%3A0408/products/S3B_OL_2_WRR____20240909T123048_20240909T131501_20240910T163344_2653_097_209______MAR_O_NT_003.SEN3/entry?name=S3B_OL_2_WRR____20240909T123048_20240909T131501_20240910T163344_2653_097_209______MAR_O_NT_003.SEN3%2Fiop_lsd.nc",
             "mediaType": "application/x-netcdf",
             "roles": [
              "data"
             ],
             "title": "S3B_OL_2_WRR____20240909T123048_20240909T131501_20240910T163344_2653_097_209______MAR_O_NT_003.SEN3/iop_lsd.nc",
             "type": "Link"
            }
           },
           "href": "https://hda-download.lumi.data.destination-earth.eu/data/eumetsat/EO.EUM.DAT.SENTINEL-3.OL_2_WRR___/S3B_OL_2_WRR____20240909T123048_20240909T131501_20240910T163344_2653_097_209______MAR_O_NT_003.SEN3/iop_lsd.nc",
           "mediaType": "application/x-netcdf",
           "roles": [
            "data"
           ],
           "title": "S3B_OL_2_WRR____20240909T123048_20240909T131501_20240910T163344_2653_097_209______MAR_O_NT_003.SEN3/iop_lsd.nc",
           "type": "Link"
          },
          "iop_nn.nc": {
           "alternate": {
            "origin": {
             "href": "https://api.eumetsat.int/data/download/1.0.0/collections/EO%3AEUM%3ADAT%3A0408/products/S3B_OL_2_WRR____20240909T123048_20240909T131501_20240910T163344_2653_097_209______MAR_O_NT_003.SEN3/entry?name=S3B_OL_2_WRR____20240909T123048_20240909T131501_20240910T163344_2653_097_209______MAR_O_NT_003.SEN3%2Fiop_nn.nc",
             "mediaType": "application/x-netcdf",
             "roles": [
              "data"
             ],
             "title": "S3B_OL_2_WRR____20240909T123048_20240909T131501_20240910T163344_2653_097_209______MAR_O_NT_003.SEN3/iop_nn.nc",
             "type": "Link"
            }
           },
           "href": "https://hda-download.lumi.data.destination-earth.eu/data/eumetsat/EO.EUM.DAT.SENTINEL-3.OL_2_WRR___/S3B_OL_2_WRR____20240909T123048_20240909T131501_20240910T163344_2653_097_209______MAR_O_NT_003.SEN3/iop_nn.nc",
           "mediaType": "application/x-netcdf",
           "roles": [
            "data"
           ],
           "title": "S3B_OL_2_WRR____20240909T123048_20240909T131501_20240910T163344_2653_097_209______MAR_O_NT_003.SEN3/iop_nn.nc",
           "type": "Link"
          },
          "iwv.nc": {
           "alternate": {
            "origin": {
             "href": "https://api.eumetsat.int/data/download/1.0.0/collections/EO%3AEUM%3ADAT%3A0408/products/S3B_OL_2_WRR____20240909T123048_20240909T131501_20240910T163344_2653_097_209______MAR_O_NT_003.SEN3/entry?name=S3B_OL_2_WRR____20240909T123048_20240909T131501_20240910T163344_2653_097_209______MAR_O_NT_003.SEN3%2Fiwv.nc",
             "mediaType": "application/x-netcdf",
             "roles": [
              "data"
             ],
             "title": "S3B_OL_2_WRR____20240909T123048_20240909T131501_20240910T163344_2653_097_209______MAR_O_NT_003.SEN3/iwv.nc",
             "type": "Link"
            }
           },
           "href": "https://hda-download.lumi.data.destination-earth.eu/data/eumetsat/EO.EUM.DAT.SENTINEL-3.OL_2_WRR___/S3B_OL_2_WRR____20240909T123048_20240909T131501_20240910T163344_2653_097_209______MAR_O_NT_003.SEN3/iwv.nc",
           "mediaType": "application/x-netcdf",
           "roles": [
            "data"
           ],
           "title": "S3B_OL_2_WRR____20240909T123048_20240909T131501_20240910T163344_2653_097_209______MAR_O_NT_003.SEN3/iwv.nc",
           "type": "Link"
          },
          "manifest.xml": {
           "alternate": {
            "origin": {
             "href": "https://api.eumetsat.int/data/download/1.0.0/collections/EO%3AEUM%3ADAT%3A0408/products/S3B_OL_2_WRR____20240909T123048_20240909T131501_20240910T163344_2653_097_209______MAR_O_NT_003.SEN3/entry?name=manifest.xml",
             "mediaType": "application/xml",
             "roles": [
              "metadata"
             ],
             "title": "manifest.xml",
             "type": "Link"
            }
           },
           "href": "https://hda-download.lumi.data.destination-earth.eu/data/eumetsat/EO.EUM.DAT.SENTINEL-3.OL_2_WRR___/S3B_OL_2_WRR____20240909T123048_20240909T131501_20240910T163344_2653_097_209______MAR_O_NT_003.SEN3/manifest.xml",
           "mediaType": "application/xml",
           "roles": [
            "metadata"
           ],
           "title": "manifest.xml",
           "type": "Link"
          },
          "par.nc": {
           "alternate": {
            "origin": {
             "href": "https://api.eumetsat.int/data/download/1.0.0/collections/EO%3AEUM%3ADAT%3A0408/products/S3B_OL_2_WRR____20240909T123048_20240909T131501_20240910T163344_2653_097_209______MAR_O_NT_003.SEN3/entry?name=S3B_OL_2_WRR____20240909T123048_20240909T131501_20240910T163344_2653_097_209______MAR_O_NT_003.SEN3%2Fpar.nc",
             "mediaType": "application/x-netcdf",
             "roles": [
              "data"
             ],
             "title": "S3B_OL_2_WRR____20240909T123048_20240909T131501_20240910T163344_2653_097_209______MAR_O_NT_003.SEN3/par.nc",
             "type": "Link"
            }
           },
           "href": "https://hda-download.lumi.data.destination-earth.eu/data/eumetsat/EO.EUM.DAT.SENTINEL-3.OL_2_WRR___/S3B_OL_2_WRR____20240909T123048_20240909T131501_20240910T163344_2653_097_209______MAR_O_NT_003.SEN3/par.nc",
           "mediaType": "application/x-netcdf",
           "roles": [
            "data"
           ],
           "title": "S3B_OL_2_WRR____20240909T123048_20240909T131501_20240910T163344_2653_097_209______MAR_O_NT_003.SEN3/par.nc",
           "type": "Link"
          },
          "tie_geo_coordinates.nc": {
           "alternate": {
            "origin": {
             "href": "https://api.eumetsat.int/data/download/1.0.0/collections/EO%3AEUM%3ADAT%3A0408/products/S3B_OL_2_WRR____20240909T123048_20240909T131501_20240910T163344_2653_097_209______MAR_O_NT_003.SEN3/entry?name=S3B_OL_2_WRR____20240909T123048_20240909T131501_20240910T163344_2653_097_209______MAR_O_NT_003.SEN3%2Ftie_geo_coordinates.nc",
             "mediaType": "application/x-netcdf",
             "roles": [
              "data"
             ],
             "title": "S3B_OL_2_WRR____20240909T123048_20240909T131501_20240910T163344_2653_097_209______MAR_O_NT_003.SEN3/tie_geo_coordinates.nc",
             "type": "Link"
            }
           },
           "href": "https://hda-download.lumi.data.destination-earth.eu/data/eumetsat/EO.EUM.DAT.SENTINEL-3.OL_2_WRR___/S3B_OL_2_WRR____20240909T123048_20240909T131501_20240910T163344_2653_097_209______MAR_O_NT_003.SEN3/tie_geo_coordinates.nc",
           "mediaType": "application/x-netcdf",
           "roles": [
            "data"
           ],
           "title": "S3B_OL_2_WRR____20240909T123048_20240909T131501_20240910T163344_2653_097_209______MAR_O_NT_003.SEN3/tie_geo_coordinates.nc",
           "type": "Link"
          },
          "tie_geometries.nc": {
           "alternate": {
            "origin": {
             "href": "https://api.eumetsat.int/data/download/1.0.0/collections/EO%3AEUM%3ADAT%3A0408/products/S3B_OL_2_WRR____20240909T123048_20240909T131501_20240910T163344_2653_097_209______MAR_O_NT_003.SEN3/entry?name=S3B_OL_2_WRR____20240909T123048_20240909T131501_20240910T163344_2653_097_209______MAR_O_NT_003.SEN3%2Ftie_geometries.nc",
             "mediaType": "application/x-netcdf",
             "roles": [
              "data"
             ],
             "title": "S3B_OL_2_WRR____20240909T123048_20240909T131501_20240910T163344_2653_097_209______MAR_O_NT_003.SEN3/tie_geometries.nc",
             "type": "Link"
            }
           },
           "href": "https://hda-download.lumi.data.destination-earth.eu/data/eumetsat/EO.EUM.DAT.SENTINEL-3.OL_2_WRR___/S3B_OL_2_WRR____20240909T123048_20240909T131501_20240910T163344_2653_097_209______MAR_O_NT_003.SEN3/tie_geometries.nc",
           "mediaType": "application/x-netcdf",
           "roles": [
            "data"
           ],
           "title": "S3B_OL_2_WRR____20240909T123048_20240909T131501_20240910T163344_2653_097_209______MAR_O_NT_003.SEN3/tie_geometries.nc",
           "type": "Link"
          },
          "tie_meteo.nc": {
           "alternate": {
            "origin": {
             "href": "https://api.eumetsat.int/data/download/1.0.0/collections/EO%3AEUM%3ADAT%3A0408/products/S3B_OL_2_WRR____20240909T123048_20240909T131501_20240910T163344_2653_097_209______MAR_O_NT_003.SEN3/entry?name=S3B_OL_2_WRR____20240909T123048_20240909T131501_20240910T163344_2653_097_209______MAR_O_NT_003.SEN3%2Ftie_meteo.nc",
             "mediaType": "application/x-netcdf",
             "roles": [
              "data"
             ],
             "title": "S3B_OL_2_WRR____20240909T123048_20240909T131501_20240910T163344_2653_097_209______MAR_O_NT_003.SEN3/tie_meteo.nc",
             "type": "Link"
            }
           },
           "href": "https://hda-download.lumi.data.destination-earth.eu/data/eumetsat/EO.EUM.DAT.SENTINEL-3.OL_2_WRR___/S3B_OL_2_WRR____20240909T123048_20240909T131501_20240910T163344_2653_097_209______MAR_O_NT_003.SEN3/tie_meteo.nc",
           "mediaType": "application/x-netcdf",
           "roles": [
            "data"
           ],
           "title": "S3B_OL_2_WRR____20240909T123048_20240909T131501_20240910T163344_2653_097_209______MAR_O_NT_003.SEN3/tie_meteo.nc",
           "type": "Link"
          },
          "time_coordinates.nc": {
           "alternate": {
            "origin": {
             "href": "https://api.eumetsat.int/data/download/1.0.0/collections/EO%3AEUM%3ADAT%3A0408/products/S3B_OL_2_WRR____20240909T123048_20240909T131501_20240910T163344_2653_097_209______MAR_O_NT_003.SEN3/entry?name=S3B_OL_2_WRR____20240909T123048_20240909T131501_20240910T163344_2653_097_209______MAR_O_NT_003.SEN3%2Ftime_coordinates.nc",
             "mediaType": "application/x-netcdf",
             "roles": [
              "data"
             ],
             "title": "S3B_OL_2_WRR____20240909T123048_20240909T131501_20240910T163344_2653_097_209______MAR_O_NT_003.SEN3/time_coordinates.nc",
             "type": "Link"
            }
           },
           "href": "https://hda-download.lumi.data.destination-earth.eu/data/eumetsat/EO.EUM.DAT.SENTINEL-3.OL_2_WRR___/S3B_OL_2_WRR____20240909T123048_20240909T131501_20240910T163344_2653_097_209______MAR_O_NT_003.SEN3/time_coordinates.nc",
           "mediaType": "application/x-netcdf",
           "roles": [
            "data"
           ],
           "title": "S3B_OL_2_WRR____20240909T123048_20240909T131501_20240910T163344_2653_097_209______MAR_O_NT_003.SEN3/time_coordinates.nc",
           "type": "Link"
          },
          "trsp.nc": {
           "alternate": {
            "origin": {
             "href": "https://api.eumetsat.int/data/download/1.0.0/collections/EO%3AEUM%3ADAT%3A0408/products/S3B_OL_2_WRR____20240909T123048_20240909T131501_20240910T163344_2653_097_209______MAR_O_NT_003.SEN3/entry?name=S3B_OL_2_WRR____20240909T123048_20240909T131501_20240910T163344_2653_097_209______MAR_O_NT_003.SEN3%2Ftrsp.nc",
             "mediaType": "application/x-netcdf",
             "roles": [
              "data"
             ],
             "title": "S3B_OL_2_WRR____20240909T123048_20240909T131501_20240910T163344_2653_097_209______MAR_O_NT_003.SEN3/trsp.nc",
             "type": "Link"
            }
           },
           "href": "https://hda-download.lumi.data.destination-earth.eu/data/eumetsat/EO.EUM.DAT.SENTINEL-3.OL_2_WRR___/S3B_OL_2_WRR____20240909T123048_20240909T131501_20240910T163344_2653_097_209______MAR_O_NT_003.SEN3/trsp.nc",
           "mediaType": "application/x-netcdf",
           "roles": [
            "data"
           ],
           "title": "S3B_OL_2_WRR____20240909T123048_20240909T131501_20240910T163344_2653_097_209______MAR_O_NT_003.SEN3/trsp.nc",
           "type": "Link"
          },
          "tsm_nn.nc": {
           "alternate": {
            "origin": {
             "href": "https://api.eumetsat.int/data/download/1.0.0/collections/EO%3AEUM%3ADAT%3A0408/products/S3B_OL_2_WRR____20240909T123048_20240909T131501_20240910T163344_2653_097_209______MAR_O_NT_003.SEN3/entry?name=S3B_OL_2_WRR____20240909T123048_20240909T131501_20240910T163344_2653_097_209______MAR_O_NT_003.SEN3%2Ftsm_nn.nc",
             "mediaType": "application/x-netcdf",
             "roles": [
              "data"
             ],
             "title": "S3B_OL_2_WRR____20240909T123048_20240909T131501_20240910T163344_2653_097_209______MAR_O_NT_003.SEN3/tsm_nn.nc",
             "type": "Link"
            }
           },
           "href": "https://hda-download.lumi.data.destination-earth.eu/data/eumetsat/EO.EUM.DAT.SENTINEL-3.OL_2_WRR___/S3B_OL_2_WRR____20240909T123048_20240909T131501_20240910T163344_2653_097_209______MAR_O_NT_003.SEN3/tsm_nn.nc",
           "mediaType": "application/x-netcdf",
           "roles": [
            "data"
           ],
           "title": "S3B_OL_2_WRR____20240909T123048_20240909T131501_20240910T163344_2653_097_209______MAR_O_NT_003.SEN3/tsm_nn.nc",
           "type": "Link"
          },
          "w_aer.nc": {
           "alternate": {
            "origin": {
             "href": "https://api.eumetsat.int/data/download/1.0.0/collections/EO%3AEUM%3ADAT%3A0408/products/S3B_OL_2_WRR____20240909T123048_20240909T131501_20240910T163344_2653_097_209______MAR_O_NT_003.SEN3/entry?name=S3B_OL_2_WRR____20240909T123048_20240909T131501_20240910T163344_2653_097_209______MAR_O_NT_003.SEN3%2Fw_aer.nc",
             "mediaType": "application/x-netcdf",
             "roles": [
              "data"
             ],
             "title": "S3B_OL_2_WRR____20240909T123048_20240909T131501_20240910T163344_2653_097_209______MAR_O_NT_003.SEN3/w_aer.nc",
             "type": "Link"
            }
           },
           "href": "https://hda-download.lumi.data.destination-earth.eu/data/eumetsat/EO.EUM.DAT.SENTINEL-3.OL_2_WRR___/S3B_OL_2_WRR____20240909T123048_20240909T131501_20240910T163344_2653_097_209______MAR_O_NT_003.SEN3/w_aer.nc",
           "mediaType": "application/x-netcdf",
           "roles": [
            "data"
           ],
           "title": "S3B_OL_2_WRR____20240909T123048_20240909T131501_20240910T163344_2653_097_209______MAR_O_NT_003.SEN3/w_aer.nc",
           "type": "Link"
          },
          "wqsf.nc": {
           "alternate": {
            "origin": {
             "href": "https://api.eumetsat.int/data/download/1.0.0/collections/EO%3AEUM%3ADAT%3A0408/products/S3B_OL_2_WRR____20240909T123048_20240909T131501_20240910T163344_2653_097_209______MAR_O_NT_003.SEN3/entry?name=S3B_OL_2_WRR____20240909T123048_20240909T131501_20240910T163344_2653_097_209______MAR_O_NT_003.SEN3%2Fwqsf.nc",
             "mediaType": "application/x-netcdf",
             "roles": [
              "data"
             ],
             "title": "S3B_OL_2_WRR____20240909T123048_20240909T131501_20240910T163344_2653_097_209______MAR_O_NT_003.SEN3/wqsf.nc",
             "type": "Link"
            }
           },
           "href": "https://hda-download.lumi.data.destination-earth.eu/data/eumetsat/EO.EUM.DAT.SENTINEL-3.OL_2_WRR___/S3B_OL_2_WRR____20240909T123048_20240909T131501_20240910T163344_2653_097_209______MAR_O_NT_003.SEN3/wqsf.nc",
           "mediaType": "application/x-netcdf",
           "roles": [
            "data"
           ],
           "title": "S3B_OL_2_WRR____20240909T123048_20240909T131501_20240910T163344_2653_097_209______MAR_O_NT_003.SEN3/wqsf.nc",
           "type": "Link"
          },
          "xfdumanifest.xml": {
           "alternate": {
            "origin": {
             "href": "https://api.eumetsat.int/data/download/1.0.0/collections/EO%3AEUM%3ADAT%3A0408/products/S3B_OL_2_WRR____20240909T123048_20240909T131501_20240910T163344_2653_097_209______MAR_O_NT_003.SEN3/entry?name=S3B_OL_2_WRR____20240909T123048_20240909T131501_20240910T163344_2653_097_209______MAR_O_NT_003.SEN3%2Fxfdumanifest.xml",
             "mediaType": "application/xml",
             "roles": [
              "metadata"
             ],
             "title": "S3B_OL_2_WRR____20240909T123048_20240909T131501_20240910T163344_2653_097_209______MAR_O_NT_003.SEN3/xfdumanifest.xml",
             "type": "Link"
            }
           },
           "href": "https://hda-download.lumi.data.destination-earth.eu/data/eumetsat/EO.EUM.DAT.SENTINEL-3.OL_2_WRR___/S3B_OL_2_WRR____20240909T123048_20240909T131501_20240910T163344_2653_097_209______MAR_O_NT_003.SEN3/xfdumanifest.xml",
           "mediaType": "application/xml",
           "roles": [
            "metadata"
           ],
           "title": "S3B_OL_2_WRR____20240909T123048_20240909T131501_20240910T163344_2653_097_209______MAR_O_NT_003.SEN3/xfdumanifest.xml",
           "type": "Link"
          }
         },
         "bbox": [
          -86.6889,
          -67.9717,
          49.0867,
          89.3137
         ],
         "collection": "EO.EUM.DAT.SENTINEL-3.OL_2_WRR___",
         "geometry": {
          "coordinates": [
           [
            [
             -86.6889,
             -62.2636
            ],
            [
             -85.6485,
             -62.654
            ],
            [
             -84.582,
             -63.0375
            ],
            [
             -83.4874,
             -63.4126
            ],
            [
             -82.3641,
             -63.7791
            ],
            [
             -81.2116,
             -64.1366
            ],
            [
             -80.0295,
             -64.4848
            ],
            [
             -78.8173,
             -64.8231
            ],
            [
             -77.5748,
             -65.1513
            ],
            [
             -76.3018,
             -65.469
            ],
            [
             -74.9981,
             -65.7757
            ],
            [
             -73.6635,
             -66.071
            ],
            [
             -72.2983,
             -66.3544
            ],
            [
             -70.9025,
             -66.6256
            ],
            [
             -69.4766,
             -66.8841
            ],
            [
             -68.0221,
             -67.1293
            ],
            [
             -66.5377,
             -67.3611
            ],
            [
             -65.0238,
             -67.5792
            ],
            [
             -63.4839,
             -67.7827
            ],
            [
             -61.918,
             -67.9717
            ],
            [
             -61.0528,
             -66.8643
            ],
            [
             -59.8235,
             -65.1212
            ],
            [
             -58.7234,
             -63.3711
            ],
            [
             -57.7288,
             -61.6151
            ],
            [
             -56.8214,
             -59.8542
            ],
            [
             -55.9865,
             -58.0889
            ],
            [
             -55.2129,
             -56.3199
            ],
            [
             -54.4911,
             -54.5475
            ],
            [
             -53.8139,
             -52.7722
            ],
            [
             -53.1748,
             -50.9943
            ],
            [
             -52.5687,
             -49.2138
            ],
            [
             -51.9912,
             -47.431
            ],
            [
             -51.439,
             -45.6464
            ],
            [
             -50.9084,
             -43.8596
            ],
            [
             -50.3972,
             -42.0711
            ],
            [
             -49.903,
             -40.281
            ],
            [
             -49.4237,
             -38.4892
            ],
            [
             -48.9576,
             -36.6959
            ],
            [
             -48.5031,
             -34.9013
            ],
            [
             -48.0588,
             -33.1053
            ],
            [
             -47.6235,
             -31.3079
            ],
            [
             -47.1962,
             -29.5095
            ],
            [
             -46.7758,
             -27.71
            ],
            [
             -46.3614,
             -25.9094
            ],
            [
             -45.9523,
             -24.1078
            ],
            [
             -45.5474,
             -22.3054
            ],
            [
             -45.1465,
             -20.5022
            ],
            [
             -44.749,
             -18.6975
            ],
            [
             -44.353,
             -16.8932
            ],
            [
             -43.9593,
             -15.0881
            ],
            [
             -43.5671,
             -13.2818
            ],
            [
             -43.1754,
             -11.4755
            ],
            [
             -42.7839,
             -9.66861
            ],
            [
             -42.3922,
             -7.86145
            ],
            [
             -41.9996,
             -6.0541
            ],
            [
             -41.6057,
             -4.24662
            ],
            [
             -41.2097,
             -2.43886
            ],
            [
             -40.8115,
             -0.631267
            ],
            [
             -40.4106,
             1.17616
            ],
            [
             -40.006,
             2.98358
            ],
            [
             -39.5975,
             4.79059
            ],
            [
             -39.1843,
             6.59731
            ],
            [
             -38.7661,
             8.40343
            ],
            [
             -38.3419,
             10.2091
            ],
            [
             -37.9113,
             12.014
            ],
            [
             -37.4734,
             13.818
            ],
            [
             -37.0276,
             15.6214
            ],
            [
             -36.573,
             17.4237
            ],
            [
             -36.1085,
             19.2241
            ],
            [
             -35.6334,
             21.024
            ],
            [
             -35.1468,
             22.8226
            ],
            [
             -34.647,
             24.619
            ],
            [
             -34.1329,
             26.414
            ],
            [
             -33.6036,
             28.207
            ],
            [
             -33.0572,
             29.9978
            ],
            [
             -32.4914,
             31.786
            ],
            [
             -31.9056,
             33.5725
            ],
            [
             -31.2964,
             35.356
            ],
            [
             -30.6614,
             37.1352
            ],
            [
             -29.9991,
             38.9123
            ],
            [
             -29.305,
             40.6854
            ],
            [
             -28.5761,
             42.4543
            ],
            [
             -27.8086,
             44.2187
            ],
            [
             -26.9972,
             45.9781
            ],
            [
             -26.137,
             47.7317
            ],
            [
             -25.2215,
             49.4792
            ],
            [
             -24.2432,
             51.2193
            ],
            [
             -23.1935,
             52.9517
            ],
            [
             -22.0623,
             54.6748
            ],
            [
             -20.8381,
             56.3871
            ],
            [
             -19.5051,
             58.0876
            ],
            [
             -18.0469,
             59.774
            ],
            [
             -16.4422,
             61.4438
            ],
            [
             -14.6657,
             63.0942
            ],
            [
             -12.6861,
             64.7214
            ],
            [
             -10.4654,
             66.3207
            ],
            [
             -7.95621,
             67.8863
            ],
            [
             -5.10228,
             69.4104
            ],
            [
             -1.83271,
             70.8833
            ],
            [
             1.93518,
             72.2923
            ],
            [
             6.29766,
             73.621
            ],
            [
             11.366,
             74.8481
            ],
            [
             17.2408,
             75.9475
            ],
            [
             23.999,
             76.887
            ],
            [
             31.6538,
             77.6301
            ],
            [
             40.0994,
             78.1396
            ],
            [
             49.0867,
             78.3855
            ],
            [
             48.8993,
             79.0035
            ],
            [
             48.6897,
             79.6213
            ],
            [
             48.4537,
             80.2394
            ],
            [
             48.1867,
             80.8564
            ],
            [
             47.8812,
             81.4736
            ],
            [
             47.5284,
             82.0904
            ],
            [
             47.1165,
             82.707
            ],
            [
             46.6289,
             83.323
            ],
            [
             46.043,
             83.9385
            ],
            [
             45.326,
             84.5532
            ],
            [
             44.427,
             85.1668
            ],
            [
             43.2679,
             85.7789
            ],
            [
             41.7155,
             86.3886
            ],
            [
             39.538,
             86.9947
            ],
            [
             36.2698,
             87.5942
            ],
            [
             30.8677,
             88.1808
            ],
            [
             20.546,
             88.7363
            ],
            [
             -3.29106,
             89.1936
            ],
            [
             -51.4742,
             89.3137
            ],
            [
             -41.6951,
             87.5549
            ],
            [
             -40.3366,
             85.7848
            ],
            [
             -39.9348,
             84.013
            ],
            [
             -39.8364,
             82.2407
            ],
            [
             -39.8741,
             80.4674
            ],
            [
             -39.9842,
             78.6935
            ],
            [
             -40.133,
             76.9205
            ],
            [
             -40.311,
             75.1468
            ],
            [
             -40.5086,
             73.3721
            ],
            [
             -40.7194,
             71.5973
            ],
            [
             -40.9412,
             69.8218
            ],
            [
             -41.1706,
             68.046
            ],
            [
             -41.4066,
             66.2697
            ],
            [
             -41.648,
             64.4928
            ],
            [
             -41.8942,
             62.7153
            ],
            [
             -42.1445,
             60.9371
            ],
            [
             -42.3985,
             59.1583
            ],
            [
             -42.6554,
             57.3789
            ],
            [
             -42.916,
             55.5988
            ],
            [
             -43.1793,
             53.818
            ],
            [
             -43.4457,
             52.0365
            ],
            [
             -43.7147,
             50.2542
            ],
            [
             -43.9864,
             48.4713
            ],
            [
             -44.2611,
             46.6875
            ],
            [
             -44.5382,
             44.9032
            ],
            [
             -44.8184,
             43.1182
            ],
            [
             -45.1016,
             41.3322
            ],
            [
             -45.387,
             39.545
            ],
            [
             -45.6765,
             37.7595
            ],
            [
             -45.9684,
             35.9714
            ],
            [
             -46.2632,
             34.1819
            ],
            [
             -46.5622,
             32.3934
            ],
            [
             -46.864,
             30.604
            ],
            [
             -47.1695,
             28.8139
            ],
            [
             -47.4791,
             27.0232
            ],
            [
             -47.7926,
             25.2325
            ],
            [
             -48.1098,
             23.4409
            ],
            [
             -48.4316,
             21.6492
            ],
            [
             -48.7582,
             19.8576
            ],
            [
             -49.0892,
             18.0654
            ],
            [
             -49.4253,
             16.2733
            ],
            [
             -49.7667,
             14.4811
            ],
            [
             -50.1136,
             12.6889
            ],
            [
             -50.4665,
             10.8967
            ],
            [
             -50.8254,
             9.10508
            ],
            [
             -51.191,
             7.31339
            ],
            [
             -51.5634,
             5.52225
            ],
            [
             -51.9432,
             3.73165
            ],
            [
             -52.3305,
             1.9417
            ],
            [
             -52.7261,
             0.152499
            ],
            [
             -53.1307,
             -1.63588
            ],
            [
             -53.5442,
             -3.42321
            ],
            [
             -53.9676,
             -5.20942
            ],
            [
             -54.4016,
             -6.99439
            ],
            [
             -54.8468,
             -8.77801
            ],
            [
             -55.3037,
             -10.5598
            ],
            [
             -55.7734,
             -12.3405
            ],
            [
             -56.2568,
             -14.1184
            ],
            [
             -56.755,
             -15.8932
            ],
            [
             -57.2684,
             -17.6681
            ],
            [
             -57.7989,
             -19.4394
            ],
            [
             -58.3475,
             -21.2073
            ],
            [
             -58.9156,
             -22.9725
            ],
            [
             -59.5048,
             -24.7344
            ],
            [
             -60.1167,
             -26.4925
            ],
            [
             -60.7533,
             -28.2465
            ],
            [
             -61.4168,
             -29.9964
            ],
            [
             -62.1094,
             -31.7413
            ],
            [
             -62.8337,
             -33.4809
            ],
            [
             -63.5926,
             -35.2149
            ],
            [
             -64.3894,
             -36.9425
            ],
            [
             -65.228,
             -38.6631
            ],
            [
             -66.1122,
             -40.3761
            ],
            [
             -67.047,
             -42.0807
            ],
            [
             -68.0374,
             -43.7758
            ],
            [
             -69.0896,
             -45.4605
            ],
            [
             -70.2104,
             -47.1338
            ],
            [
             -71.4075,
             -48.794
            ],
            [
             -72.6897,
             -50.4395
            ],
            [
             -74.0676,
             -52.0688
            ],
            [
             -75.5527,
             -53.6795
            ],
            [
             -77.1583,
             -55.269
            ],
            [
             -78.8997,
             -56.8344
            ],
            [
             -80.7949,
             -58.3724
            ],
            [
             -82.8637,
             -59.8785
            ],
            [
             -85.1294,
             -61.348
            ],
            [
             -86.6889,
             -62.2636
            ]
           ]
          ],
          "type": "Polygon"
         },
         "id": "S3B_OL_2_WRR____20240909T123048_20240909T131501_20240910T163344_2653_097_209______MAR_O_NT_003.SEN3",
         "links": [
          {
           "href": "https://hda.data.destination-earth.eu/stac/v2/collections/EO.EUM.DAT.SENTINEL-3.OL_2_WRR___",
           "rel": "collection",
           "title": "EO.EUM.DAT.SENTINEL-3.OL_2_WRR___",
           "type": "application/json"
          },
          {
           "href": "https://hda.data.destination-earth.eu/stac/v2/collections/EO.EUM.DAT.SENTINEL-3.OL_2_WRR___/items/S3B_OL_2_WRR____20240909T123048_20240909T131501_20240910T163344_2653_097_209______MAR_O_NT_003.SEN3",
           "rel": "self",
           "title": "Original item link",
           "type": "application/geo+json"
          }
         ],
         "properties": {
          "abstract": "OLCI (Ocean and Land Colour Instrument) Ocean Colour Geophysical Products. Reduced Resolution: 1200m at nadir. Level 2 marine products include the following: * water-leaving reflectances in 16 bands, Oa**_reflectance (Baseline Atmospheric Correction (BAC) algorithm, bands: 400, 412, 442, 490, 510, 560, 620, 665, 674, 681, 709, 754, 779, 865, 885, 1024 nanometer (nm)); *algal pigment concentration in clear waters, chl_oc4me (BAC and maximum band ratio algorithm, log10 scaled); *algal pigment concentration in turbid waters, chl_nn (neural net algorithm, log10 scaled); *total suspended matter concentration, tsm_nn (neural net algorithm, log10 scaled); *diffuse attenuation coefficient Kd of downward irradiance at 490 nm, trsp (BAC and M07 algorithm, log10 scaled); *absorption coefficient at 443 nm of coloured detrital and dissolved organic matter, iop_nn (neural net algorithm, log10 scaled); *instantaneous photosynthetically active radiation, PAR (BAC and clear-sky ocean algorithm); *aerosol optical thickness T865 and aerosol Angstrom exponent A865, w_aer (BAC algorithm, A for bands 779 and 865 nm) *integrated water vapour column, iwv (1D-Var algorithm). The geophysical products are accompanied by error estimate products. Pixel classification, quality and science flags, as well as meteorological, geometry and geolocation data at tie points are provided. \n\n- All Sentinel-3 NRT products are available at pick-up point in less than 3h\n- All Sentinel-3 Non Time Critical (NTC) products are available at pick-up point in less than 30 days.\nSentinel-3 is part of a series of Sentinel satellites, under the umbrella of the EU Copernicus programme.",
          "alias": "EO.EUM.DAT.SENTINEL-3.OL_2_WRR___",
          "collection": "OL_2_WRR___",
          "constellation": "Sentinel-3B",
          "cycleNumber": 97,
          "datetime": "2024-09-09T12:30:47.811437Z",
          "end_datetime": "2024-09-09T13:15:01.302037Z",
          "federation:backends": [
           "eumetsat"
          ],
          "instruments": [
           "OLCI"
          ],
          "license": "proprietary",
          "links": {
           "alternates": [
            {
             "href": "https://api.eumetsat.int/data/download/1.0.0/collections/EO%3AEUM%3ADAT%3A0408/products/S3B_OL_2_WRR____20240909T123048_20240909T131501_20240910T163344_2653_097_209______MAR_O_NT_003.SEN3/metadata",
             "mediaType": "application/xml",
             "title": "Metadata",
             "type": "Link"
            },
            {
             "href": "https://api.eumetsat.int/data/download/1.0.0/collections/EO%3AEUM%3ADAT%3A0408/products/S3B_OL_2_WRR____20240909T123048_20240909T131501_20240910T163344_2653_097_209______MAR_O_NT_003.SEN3/metadata?format=json",
             "mediaType": "application/json",
             "title": "Metadata in JSON format",
             "type": "Link"
            }
           ],
           "data": [
            {
             "href": "https://api.eumetsat.int/data/download/1.0.0/collections/EO%3AEUM%3ADAT%3A0408/products/S3B_OL_2_WRR____20240909T123048_20240909T131501_20240910T163344_2653_097_209______MAR_O_NT_003.SEN3",
             "mediaType": "application/zip",
             "title": "Product download",
             "type": "Link"
            }
           ],
           "previews": [
            {
             "href": "https://api.eumetsat.int/data/download/1.0.0/collections/EO%3AEUM%3ADAT%3A0408/products/S3B_OL_2_WRR____20240909T123048_20240909T131501_20240910T163344_2653_097_209______MAR_O_NT_003.SEN3/browse",
             "mediaType": "image/jpeg",
             "title": "Quicklook",
             "type": "Link"
            }
           ],
           "sip-entries": [
            {
             "href": "https://api.eumetsat.int/data/download/1.0.0/collections/EO%3AEUM%3ADAT%3A0408/products/S3B_OL_2_WRR____20240909T123048_20240909T131501_20240910T163344_2653_097_209______MAR_O_NT_003.SEN3/entry?name=S3B_OL_2_WRR____20240909T123048_20240909T131501_20240910T163344_2653_097_209______MAR_O_NT_003.SEN3%2Fchl_oc4me.nc",
             "mediaType": "application/x-netcdf",
             "title": "S3B_OL_2_WRR____20240909T123048_20240909T131501_20240910T163344_2653_097_209______MAR_O_NT_003.SEN3/chl_oc4me.nc",
             "type": "Link"
            },
            {
             "href": "https://api.eumetsat.int/data/download/1.0.0/collections/EO%3AEUM%3ADAT%3A0408/products/S3B_OL_2_WRR____20240909T123048_20240909T131501_20240910T163344_2653_097_209______MAR_O_NT_003.SEN3/entry?name=S3B_OL_2_WRR____20240909T123048_20240909T131501_20240910T163344_2653_097_209______MAR_O_NT_003.SEN3%2Fgeo_coordinates.nc",
             "mediaType": "application/x-netcdf",
             "title": "S3B_OL_2_WRR____20240909T123048_20240909T131501_20240910T163344_2653_097_209______MAR_O_NT_003.SEN3/geo_coordinates.nc",
             "type": "Link"
            },
            {
             "href": "https://api.eumetsat.int/data/download/1.0.0/collections/EO%3AEUM%3ADAT%3A0408/products/S3B_OL_2_WRR____20240909T123048_20240909T131501_20240910T163344_2653_097_209______MAR_O_NT_003.SEN3/entry?name=S3B_OL_2_WRR____20240909T123048_20240909T131501_20240910T163344_2653_097_209______MAR_O_NT_003.SEN3%2Finstrument_data.nc",
             "mediaType": "application/x-netcdf",
             "title": "S3B_OL_2_WRR____20240909T123048_20240909T131501_20240910T163344_2653_097_209______MAR_O_NT_003.SEN3/instrument_data.nc",
             "type": "Link"
            },
            {
             "href": "https://api.eumetsat.int/data/download/1.0.0/collections/EO%3AEUM%3ADAT%3A0408/products/S3B_OL_2_WRR____20240909T123048_20240909T131501_20240910T163344_2653_097_209______MAR_O_NT_003.SEN3/entry?name=browse.jpg",
             "mediaType": "image/jpeg",
             "title": "browse.jpg",
             "type": "Link"
            },
            {
             "href": "https://api.eumetsat.int/data/download/1.0.0/collections/EO%3AEUM%3ADAT%3A0408/products/S3B_OL_2_WRR____20240909T123048_20240909T131501_20240910T163344_2653_097_209______MAR_O_NT_003.SEN3/entry?name=S3B_OL_2_WRR____20240909T123048_20240909T131501_20240910T163344_2653_097_209______MAR_O_NT_003.SEN3%2FOa17_reflectance.nc",
             "mediaType": "application/x-netcdf",
             "title": "S3B_OL_2_WRR____20240909T123048_20240909T131501_20240910T163344_2653_097_209______MAR_O_NT_003.SEN3/Oa17_reflectance.nc",
             "type": "Link"
            },
            {
             "href": "https://api.eumetsat.int/data/download/1.0.0/collections/EO%3AEUM%3ADAT%3A0408/products/S3B_OL_2_WRR____20240909T123048_20240909T131501_20240910T163344_2653_097_209______MAR_O_NT_003.SEN3/entry?name=S3B_OL_2_WRR____20240909T123048_20240909T131501_20240910T163344_2653_097_209______MAR_O_NT_003.SEN3%2FOa12_reflectance.nc",
             "mediaType": "application/x-netcdf",
             "title": "S3B_OL_2_WRR____20240909T123048_20240909T131501_20240910T163344_2653_097_209______MAR_O_NT_003.SEN3/Oa12_reflectance.nc",
             "type": "Link"
            },
            {
             "href": "https://api.eumetsat.int/data/download/1.0.0/collections/EO%3AEUM%3ADAT%3A0408/products/S3B_OL_2_WRR____20240909T123048_20240909T131501_20240910T163344_2653_097_209______MAR_O_NT_003.SEN3/entry?name=S3B_OL_2_WRR____20240909T123048_20240909T131501_20240910T163344_2653_097_209______MAR_O_NT_003.SEN3%2FOa04_reflectance.nc",
             "mediaType": "application/x-netcdf",
             "title": "S3B_OL_2_WRR____20240909T123048_20240909T131501_20240910T163344_2653_097_209______MAR_O_NT_003.SEN3/Oa04_reflectance.nc",
             "type": "Link"
            },
            {
             "href": "https://api.eumetsat.int/data/download/1.0.0/collections/EO%3AEUM%3ADAT%3A0408/products/S3B_OL_2_WRR____20240909T123048_20240909T131501_20240910T163344_2653_097_209______MAR_O_NT_003.SEN3/entry?name=S3B_OL_2_WRR____20240909T123048_20240909T131501_20240910T163344_2653_097_209______MAR_O_NT_003.SEN3%2Fwqsf.nc",
             "mediaType": "application/x-netcdf",
             "title": "S3B_OL_2_WRR____20240909T123048_20240909T131501_20240910T163344_2653_097_209______MAR_O_NT_003.SEN3/wqsf.nc",
             "type": "Link"
            },
            {
             "href": "https://api.eumetsat.int/data/download/1.0.0/collections/EO%3AEUM%3ADAT%3A0408/products/S3B_OL_2_WRR____20240909T123048_20240909T131501_20240910T163344_2653_097_209______MAR_O_NT_003.SEN3/entry?name=S3B_OL_2_WRR____20240909T123048_20240909T131501_20240910T163344_2653_097_209______MAR_O_NT_003.SEN3%2FOa21_reflectance.nc",
             "mediaType": "application/x-netcdf",
             "title": "S3B_OL_2_WRR____20240909T123048_20240909T131501_20240910T163344_2653_097_209______MAR_O_NT_003.SEN3/Oa21_reflectance.nc",
             "type": "Link"
            },
            {
             "href": "https://api.eumetsat.int/data/download/1.0.0/collections/EO%3AEUM%3ADAT%3A0408/products/S3B_OL_2_WRR____20240909T123048_20240909T131501_20240910T163344_2653_097_209______MAR_O_NT_003.SEN3/entry?name=S3B_OL_2_WRR____20240909T123048_20240909T131501_20240910T163344_2653_097_209______MAR_O_NT_003.SEN3%2FOa03_reflectance.nc",
             "mediaType": "application/x-netcdf",
             "title": "S3B_OL_2_WRR____20240909T123048_20240909T131501_20240910T163344_2653_097_209______MAR_O_NT_003.SEN3/Oa03_reflectance.nc",
             "type": "Link"
            },
            {
             "href": "https://api.eumetsat.int/data/download/1.0.0/collections/EO%3AEUM%3ADAT%3A0408/products/S3B_OL_2_WRR____20240909T123048_20240909T131501_20240910T163344_2653_097_209______MAR_O_NT_003.SEN3/entry?name=S3B_OL_2_WRR____20240909T123048_20240909T131501_20240910T163344_2653_097_209______MAR_O_NT_003.SEN3%2FOa16_reflectance.nc",
             "mediaType": "application/x-netcdf",
             "title": "S3B_OL_2_WRR____20240909T123048_20240909T131501_20240910T163344_2653_097_209______MAR_O_NT_003.SEN3/Oa16_reflectance.nc",
             "type": "Link"
            },
            {
             "href": "https://api.eumetsat.int/data/download/1.0.0/collections/EO%3AEUM%3ADAT%3A0408/products/S3B_OL_2_WRR____20240909T123048_20240909T131501_20240910T163344_2653_097_209______MAR_O_NT_003.SEN3/entry?name=S3B_OL_2_WRR____20240909T123048_20240909T131501_20240910T163344_2653_097_209______MAR_O_NT_003.SEN3%2Fpar.nc",
             "mediaType": "application/x-netcdf",
             "title": "S3B_OL_2_WRR____20240909T123048_20240909T131501_20240910T163344_2653_097_209______MAR_O_NT_003.SEN3/par.nc",
             "type": "Link"
            },
            {
             "href": "https://api.eumetsat.int/data/download/1.0.0/collections/EO%3AEUM%3ADAT%3A0408/products/S3B_OL_2_WRR____20240909T123048_20240909T131501_20240910T163344_2653_097_209______MAR_O_NT_003.SEN3/entry?name=S3B_OL_2_WRR____20240909T123048_20240909T131501_20240910T163344_2653_097_209______MAR_O_NT_003.SEN3%2Fiwv.nc",
             "mediaType": "application/x-netcdf",
             "title": "S3B_OL_2_WRR____20240909T123048_20240909T131501_20240910T163344_2653_097_209______MAR_O_NT_003.SEN3/iwv.nc",
             "type": "Link"
            },
            {
             "href": "https://api.eumetsat.int/data/download/1.0.0/collections/EO%3AEUM%3ADAT%3A0408/products/S3B_OL_2_WRR____20240909T123048_20240909T131501_20240910T163344_2653_097_209______MAR_O_NT_003.SEN3/entry?name=S3B_OL_2_WRR____20240909T123048_20240909T131501_20240910T163344_2653_097_209______MAR_O_NT_003.SEN3%2FOa11_reflectance.nc",
             "mediaType": "application/x-netcdf",
             "title": "S3B_OL_2_WRR____20240909T123048_20240909T131501_20240910T163344_2653_097_209______MAR_O_NT_003.SEN3/Oa11_reflectance.nc",
             "type": "Link"
            },
            {
             "href": "https://api.eumetsat.int/data/download/1.0.0/collections/EO%3AEUM%3ADAT%3A0408/products/S3B_OL_2_WRR____20240909T123048_20240909T131501_20240910T163344_2653_097_209______MAR_O_NT_003.SEN3/entry?name=S3B_OL_2_WRR____20240909T123048_20240909T131501_20240910T163344_2653_097_209______MAR_O_NT_003.SEN3%2FOa07_reflectance.nc",
             "mediaType": "application/x-netcdf",
             "title": "S3B_OL_2_WRR____20240909T123048_20240909T131501_20240910T163344_2653_097_209______MAR_O_NT_003.SEN3/Oa07_reflectance.nc",
             "type": "Link"
            },
            {
             "href": "https://api.eumetsat.int/data/download/1.0.0/collections/EO%3AEUM%3ADAT%3A0408/products/S3B_OL_2_WRR____20240909T123048_20240909T131501_20240910T163344_2653_097_209______MAR_O_NT_003.SEN3/entry?name=S3B_OL_2_WRR____20240909T123048_20240909T131501_20240910T163344_2653_097_209______MAR_O_NT_003.SEN3%2Fw_aer.nc",
             "mediaType": "application/x-netcdf",
             "title": "S3B_OL_2_WRR____20240909T123048_20240909T131501_20240910T163344_2653_097_209______MAR_O_NT_003.SEN3/w_aer.nc",
             "type": "Link"
            },
            {
             "href": "https://api.eumetsat.int/data/download/1.0.0/collections/EO%3AEUM%3ADAT%3A0408/products/S3B_OL_2_WRR____20240909T123048_20240909T131501_20240910T163344_2653_097_209______MAR_O_NT_003.SEN3/entry?name=EOPMetadata.xml",
             "mediaType": "application/xml",
             "title": "EOPMetadata.xml",
             "type": "Link"
            },
            {
             "href": "https://api.eumetsat.int/data/download/1.0.0/collections/EO%3AEUM%3ADAT%3A0408/products/S3B_OL_2_WRR____20240909T123048_20240909T131501_20240910T163344_2653_097_209______MAR_O_NT_003.SEN3/entry?name=S3B_OL_2_WRR____20240909T123048_20240909T131501_20240910T163344_2653_097_209______MAR_O_NT_003.SEN3%2FOa02_reflectance.nc",
             "mediaType": "application/x-netcdf",
             "title": "S3B_OL_2_WRR____20240909T123048_20240909T131501_20240910T163344_2653_097_209______MAR_O_NT_003.SEN3/Oa02_reflectance.nc",
             "type": "Link"
            },
            {
             "href": "https://api.eumetsat.int/data/download/1.0.0/collections/EO%3AEUM%3ADAT%3A0408/products/S3B_OL_2_WRR____20240909T123048_20240909T131501_20240910T163344_2653_097_209______MAR_O_NT_003.SEN3/entry?name=S3B_OL_2_WRR____20240909T123048_20240909T131501_20240910T163344_2653_097_209______MAR_O_NT_003.SEN3%2FOa10_reflectance.nc",
             "mediaType": "application/x-netcdf",
             "title": "S3B_OL_2_WRR____20240909T123048_20240909T131501_20240910T163344_2653_097_209______MAR_O_NT_003.SEN3/Oa10_reflectance.nc",
             "type": "Link"
            },
            {
             "href": "https://api.eumetsat.int/data/download/1.0.0/collections/EO%3AEUM%3ADAT%3A0408/products/S3B_OL_2_WRR____20240909T123048_20240909T131501_20240910T163344_2653_097_209______MAR_O_NT_003.SEN3/entry?name=S3B_OL_2_WRR____20240909T123048_20240909T131501_20240910T163344_2653_097_209______MAR_O_NT_003.SEN3%2Fchl_nn.nc",
             "mediaType": "application/x-netcdf",
             "title": "S3B_OL_2_WRR____20240909T123048_20240909T131501_20240910T163344_2653_097_209______MAR_O_NT_003.SEN3/chl_nn.nc",
             "type": "Link"
            },
            {
             "href": "https://api.eumetsat.int/data/download/1.0.0/collections/EO%3AEUM%3ADAT%3A0408/products/S3B_OL_2_WRR____20240909T123048_20240909T131501_20240910T163344_2653_097_209______MAR_O_NT_003.SEN3/entry?name=S3B_OL_2_WRR____20240909T123048_20240909T131501_20240910T163344_2653_097_209______MAR_O_NT_003.SEN3%2Ftie_geometries.nc",
             "mediaType": "application/x-netcdf",
             "title": "S3B_OL_2_WRR____20240909T123048_20240909T131501_20240910T163344_2653_097_209______MAR_O_NT_003.SEN3/tie_geometries.nc",
             "type": "Link"
            },
            {
             "href": "https://api.eumetsat.int/data/download/1.0.0/collections/EO%3AEUM%3ADAT%3A0408/products/S3B_OL_2_WRR____20240909T123048_20240909T131501_20240910T163344_2653_097_209______MAR_O_NT_003.SEN3/entry?name=S3B_OL_2_WRR____20240909T123048_20240909T131501_20240910T163344_2653_097_209______MAR_O_NT_003.SEN3%2Ftie_geo_coordinates.nc",
             "mediaType": "application/x-netcdf",
             "title": "S3B_OL_2_WRR____20240909T123048_20240909T131501_20240910T163344_2653_097_209______MAR_O_NT_003.SEN3/tie_geo_coordinates.nc",
             "type": "Link"
            },
            {
             "href": "https://api.eumetsat.int/data/download/1.0.0/collections/EO%3AEUM%3ADAT%3A0408/products/S3B_OL_2_WRR____20240909T123048_20240909T131501_20240910T163344_2653_097_209______MAR_O_NT_003.SEN3/entry?name=S3B_OL_2_WRR____20240909T123048_20240909T131501_20240910T163344_2653_097_209______MAR_O_NT_003.SEN3%2FOa06_reflectance.nc",
             "mediaType": "application/x-netcdf",
             "title": "S3B_OL_2_WRR____20240909T123048_20240909T131501_20240910T163344_2653_097_209______MAR_O_NT_003.SEN3/Oa06_reflectance.nc",
             "type": "Link"
            },
            {
             "href": "https://api.eumetsat.int/data/download/1.0.0/collections/EO%3AEUM%3ADAT%3A0408/products/S3B_OL_2_WRR____20240909T123048_20240909T131501_20240910T163344_2653_097_209______MAR_O_NT_003.SEN3/entry?name=S3B_OL_2_WRR____20240909T123048_20240909T131501_20240910T163344_2653_097_209______MAR_O_NT_003.SEN3%2Ftie_meteo.nc",
             "mediaType": "application/x-netcdf",
             "title": "S3B_OL_2_WRR____20240909T123048_20240909T131501_20240910T163344_2653_097_209______MAR_O_NT_003.SEN3/tie_meteo.nc",
             "type": "Link"
            },
            {
             "href": "https://api.eumetsat.int/data/download/1.0.0/collections/EO%3AEUM%3ADAT%3A0408/products/S3B_OL_2_WRR____20240909T123048_20240909T131501_20240910T163344_2653_097_209______MAR_O_NT_003.SEN3/entry?name=S3B_OL_2_WRR____20240909T123048_20240909T131501_20240910T163344_2653_097_209______MAR_O_NT_003.SEN3%2FOa08_reflectance.nc",
             "mediaType": "application/x-netcdf",
             "title": "S3B_OL_2_WRR____20240909T123048_20240909T131501_20240910T163344_2653_097_209______MAR_O_NT_003.SEN3/Oa08_reflectance.nc",
             "type": "Link"
            },
            {
             "href": "https://api.eumetsat.int/data/download/1.0.0/collections/EO%3AEUM%3ADAT%3A0408/products/S3B_OL_2_WRR____20240909T123048_20240909T131501_20240910T163344_2653_097_209______MAR_O_NT_003.SEN3/entry?name=S3B_OL_2_WRR____20240909T123048_20240909T131501_20240910T163344_2653_097_209______MAR_O_NT_003.SEN3%2Ftrsp.nc",
             "mediaType": "application/x-netcdf",
             "title": "S3B_OL_2_WRR____20240909T123048_20240909T131501_20240910T163344_2653_097_209______MAR_O_NT_003.SEN3/trsp.nc",
             "type": "Link"
            },
            {
             "href": "https://api.eumetsat.int/data/download/1.0.0/collections/EO%3AEUM%3ADAT%3A0408/products/S3B_OL_2_WRR____20240909T123048_20240909T131501_20240910T163344_2653_097_209______MAR_O_NT_003.SEN3/entry?name=manifest.xml",
             "mediaType": "application/xml",
             "title": "manifest.xml",
             "type": "Link"
            },
            {
             "href": "https://api.eumetsat.int/data/download/1.0.0/collections/EO%3AEUM%3ADAT%3A0408/products/S3B_OL_2_WRR____20240909T123048_20240909T131501_20240910T163344_2653_097_209______MAR_O_NT_003.SEN3/entry?name=S3B_OL_2_WRR____20240909T123048_20240909T131501_20240910T163344_2653_097_209______MAR_O_NT_003.SEN3%2FOa01_reflectance.nc",
             "mediaType": "application/x-netcdf",
             "title": "S3B_OL_2_WRR____20240909T123048_20240909T131501_20240910T163344_2653_097_209______MAR_O_NT_003.SEN3/Oa01_reflectance.nc",
             "type": "Link"
            },
            {
             "href": "https://api.eumetsat.int/data/download/1.0.0/collections/EO%3AEUM%3ADAT%3A0408/products/S3B_OL_2_WRR____20240909T123048_20240909T131501_20240910T163344_2653_097_209______MAR_O_NT_003.SEN3/entry?name=S3B_OL_2_WRR____20240909T123048_20240909T131501_20240910T163344_2653_097_209______MAR_O_NT_003.SEN3%2Fiop_lsd.nc",
             "mediaType": "application/x-netcdf",
             "title": "S3B_OL_2_WRR____20240909T123048_20240909T131501_20240910T163344_2653_097_209______MAR_O_NT_003.SEN3/iop_lsd.nc",
             "type": "Link"
            },
            {
             "href": "https://api.eumetsat.int/data/download/1.0.0/collections/EO%3AEUM%3ADAT%3A0408/products/S3B_OL_2_WRR____20240909T123048_20240909T131501_20240910T163344_2653_097_209______MAR_O_NT_003.SEN3/entry?name=S3B_OL_2_WRR____20240909T123048_20240909T131501_20240910T163344_2653_097_209______MAR_O_NT_003.SEN3%2Fiop_nn.nc",
             "mediaType": "application/x-netcdf",
             "title": "S3B_OL_2_WRR____20240909T123048_20240909T131501_20240910T163344_2653_097_209______MAR_O_NT_003.SEN3/iop_nn.nc",
             "type": "Link"
            },
            {
             "href": "https://api.eumetsat.int/data/download/1.0.0/collections/EO%3AEUM%3ADAT%3A0408/products/S3B_OL_2_WRR____20240909T123048_20240909T131501_20240910T163344_2653_097_209______MAR_O_NT_003.SEN3/entry?name=S3B_OL_2_WRR____20240909T123048_20240909T131501_20240910T163344_2653_097_209______MAR_O_NT_003.SEN3%2FOa05_reflectance.nc",
             "mediaType": "application/x-netcdf",
             "title": "S3B_OL_2_WRR____20240909T123048_20240909T131501_20240910T163344_2653_097_209______MAR_O_NT_003.SEN3/Oa05_reflectance.nc",
             "type": "Link"
            },
            {
             "href": "https://api.eumetsat.int/data/download/1.0.0/collections/EO%3AEUM%3ADAT%3A0408/products/S3B_OL_2_WRR____20240909T123048_20240909T131501_20240910T163344_2653_097_209______MAR_O_NT_003.SEN3/entry?name=S3B_OL_2_WRR____20240909T123048_20240909T131501_20240910T163344_2653_097_209______MAR_O_NT_003.SEN3%2FOa18_reflectance.nc",
             "mediaType": "application/x-netcdf",
             "title": "S3B_OL_2_WRR____20240909T123048_20240909T131501_20240910T163344_2653_097_209______MAR_O_NT_003.SEN3/Oa18_reflectance.nc",
             "type": "Link"
            },
            {
             "href": "https://api.eumetsat.int/data/download/1.0.0/collections/EO%3AEUM%3ADAT%3A0408/products/S3B_OL_2_WRR____20240909T123048_20240909T131501_20240910T163344_2653_097_209______MAR_O_NT_003.SEN3/entry?name=S3B_OL_2_WRR____20240909T123048_20240909T131501_20240910T163344_2653_097_209______MAR_O_NT_003.SEN3%2Ftime_coordinates.nc",
             "mediaType": "application/x-netcdf",
             "title": "S3B_OL_2_WRR____20240909T123048_20240909T131501_20240910T163344_2653_097_209______MAR_O_NT_003.SEN3/time_coordinates.nc",
             "type": "Link"
            },
            {
             "href": "https://api.eumetsat.int/data/download/1.0.0/collections/EO%3AEUM%3ADAT%3A0408/products/S3B_OL_2_WRR____20240909T123048_20240909T131501_20240910T163344_2653_097_209______MAR_O_NT_003.SEN3/entry?name=S3B_OL_2_WRR____20240909T123048_20240909T131501_20240910T163344_2653_097_209______MAR_O_NT_003.SEN3%2FOa09_reflectance.nc",
             "mediaType": "application/x-netcdf",
             "title": "S3B_OL_2_WRR____20240909T123048_20240909T131501_20240910T163344_2653_097_209______MAR_O_NT_003.SEN3/Oa09_reflectance.nc",
             "type": "Link"
            },
            {
             "href": "https://api.eumetsat.int/data/download/1.0.0/collections/EO%3AEUM%3ADAT%3A0408/products/S3B_OL_2_WRR____20240909T123048_20240909T131501_20240910T163344_2653_097_209______MAR_O_NT_003.SEN3/entry?name=S3B_OL_2_WRR____20240909T123048_20240909T131501_20240910T163344_2653_097_209______MAR_O_NT_003.SEN3%2Ftsm_nn.nc",
             "mediaType": "application/x-netcdf",
             "title": "S3B_OL_2_WRR____20240909T123048_20240909T131501_20240910T163344_2653_097_209______MAR_O_NT_003.SEN3/tsm_nn.nc",
             "type": "Link"
            },
            {
             "href": "https://api.eumetsat.int/data/download/1.0.0/collections/EO%3AEUM%3ADAT%3A0408/products/S3B_OL_2_WRR____20240909T123048_20240909T131501_20240910T163344_2653_097_209______MAR_O_NT_003.SEN3/entry?name=S3B_OL_2_WRR____20240909T123048_20240909T131501_20240910T163344_2653_097_209______MAR_O_NT_003.SEN3%2Fxfdumanifest.xml",
             "mediaType": "application/xml",
             "title": "S3B_OL_2_WRR____20240909T123048_20240909T131501_20240910T163344_2653_097_209______MAR_O_NT_003.SEN3/xfdumanifest.xml",
             "type": "Link"
            }
           ],
           "type": "Links"
          },
          "order:status": "succeeded",
          "parentIdentifier": "EO:EUM:DAT:0408",
          "platform": "Sentinel-3A,Sentinel-3B",
          "processing:level": "L1B",
          "product:timeliness": "NT",
          "quicklook": "https://api.eumetsat.int/data/download/1.0.0/collections/EO%3AEUM%3ADAT%3A0408/products/S3B_OL_2_WRR____20240909T123048_20240909T131501_20240910T163344_2653_097_209______MAR_O_NT_003.SEN3/browse",
          "sat:absolute_orbit": 33206,
          "sat:orbit_state": "DESCENDING",
          "sat:relative_orbit": 209,
          "scope": {
           "discover": null,
           "download": "hda-public-data-access",
           "search": "hda-public-data-access"
          },
          "size": 477294,
          "stacCollection": "/eodag/collections/EO.EUM.DAT.SENTINEL-3.OL_2_WRR___.json",
          "start_datetime": "2024-09-09T12:30:47.811437Z",
          "storage:tier": "online",
          "title": "S3B_OL_2_WRR____20240909T123048_20240909T131501_20240910T163344_2653_097_209______MAR_O_NT_003.SEN3",
          "uid": "S3B_OL_2_WRR____20240909T123048_20240909T131501_20240910T163344_2653_097_209______MAR_O_NT_003.SEN3",
          "updated": "2024-09-10T16:37:13.397000Z"
         },
         "stac_extensions": [
          "https://stac-extensions.github.io/order/v1.1.0/schema.json",
          "https://stac-extensions.github.io/product/v0.1.0/schema.json",
          "https://stac-extensions.github.io/processing/v1.0.0/schema.json",
          "https://stac-extensions.github.io/storage/v1.0.0/schema.json",
          "https://stac-extensions.github.io/sat/v1.0.0/schema.json"
         ],
         "stac_version": "1.0.0",
         "type": "Feature"
        },
        {
         "assets": {
          "EOPMetadata.xml": {
           "alternate": {
            "origin": {
             "href": "https://api.eumetsat.int/data/download/1.0.0/collections/EO%3AEUM%3ADAT%3A0408/products/S3A_OL_2_WRR____20240909T112830_20240909T121242_20240910T145254_2652_116_351______MAR_O_NT_003.SEN3/entry?name=EOPMetadata.xml",
             "mediaType": "application/xml",
             "roles": [
              "metadata"
             ],
             "title": "EOPMetadata.xml",
             "type": "Link"
            }
           },
           "href": "https://hda-download.lumi.data.destination-earth.eu/data/eumetsat/EO.EUM.DAT.SENTINEL-3.OL_2_WRR___/S3A_OL_2_WRR____20240909T112830_20240909T121242_20240910T145254_2652_116_351______MAR_O_NT_003.SEN3/EOPMetadata.xml",
           "mediaType": "application/xml",
           "roles": [
            "metadata"
           ],
           "title": "EOPMetadata.xml",
           "type": "Link"
          },
          "Oa01_reflectance.nc": {
           "alternate": {
            "origin": {
             "href": "https://api.eumetsat.int/data/download/1.0.0/collections/EO%3AEUM%3ADAT%3A0408/products/S3A_OL_2_WRR____20240909T112830_20240909T121242_20240910T145254_2652_116_351______MAR_O_NT_003.SEN3/entry?name=S3A_OL_2_WRR____20240909T112830_20240909T121242_20240910T145254_2652_116_351______MAR_O_NT_003.SEN3%2FOa01_reflectance.nc",
             "mediaType": "application/x-netcdf",
             "roles": [
              "data"
             ],
             "title": "S3A_OL_2_WRR____20240909T112830_20240909T121242_20240910T145254_2652_116_351______MAR_O_NT_003.SEN3/Oa01_reflectance.nc",
             "type": "Link"
            }
           },
           "href": "https://hda-download.lumi.data.destination-earth.eu/data/eumetsat/EO.EUM.DAT.SENTINEL-3.OL_2_WRR___/S3A_OL_2_WRR____20240909T112830_20240909T121242_20240910T145254_2652_116_351______MAR_O_NT_003.SEN3/Oa01_reflectance.nc",
           "mediaType": "application/x-netcdf",
           "roles": [
            "data"
           ],
           "title": "S3A_OL_2_WRR____20240909T112830_20240909T121242_20240910T145254_2652_116_351______MAR_O_NT_003.SEN3/Oa01_reflectance.nc",
           "type": "Link"
          },
          "Oa02_reflectance.nc": {
           "alternate": {
            "origin": {
             "href": "https://api.eumetsat.int/data/download/1.0.0/collections/EO%3AEUM%3ADAT%3A0408/products/S3A_OL_2_WRR____20240909T112830_20240909T121242_20240910T145254_2652_116_351______MAR_O_NT_003.SEN3/entry?name=S3A_OL_2_WRR____20240909T112830_20240909T121242_20240910T145254_2652_116_351______MAR_O_NT_003.SEN3%2FOa02_reflectance.nc",
             "mediaType": "application/x-netcdf",
             "roles": [
              "data"
             ],
             "title": "S3A_OL_2_WRR____20240909T112830_20240909T121242_20240910T145254_2652_116_351______MAR_O_NT_003.SEN3/Oa02_reflectance.nc",
             "type": "Link"
            }
           },
           "href": "https://hda-download.lumi.data.destination-earth.eu/data/eumetsat/EO.EUM.DAT.SENTINEL-3.OL_2_WRR___/S3A_OL_2_WRR____20240909T112830_20240909T121242_20240910T145254_2652_116_351______MAR_O_NT_003.SEN3/Oa02_reflectance.nc",
           "mediaType": "application/x-netcdf",
           "roles": [
            "data"
           ],
           "title": "S3A_OL_2_WRR____20240909T112830_20240909T121242_20240910T145254_2652_116_351______MAR_O_NT_003.SEN3/Oa02_reflectance.nc",
           "type": "Link"
          },
          "Oa03_reflectance.nc": {
           "alternate": {
            "origin": {
             "href": "https://api.eumetsat.int/data/download/1.0.0/collections/EO%3AEUM%3ADAT%3A0408/products/S3A_OL_2_WRR____20240909T112830_20240909T121242_20240910T145254_2652_116_351______MAR_O_NT_003.SEN3/entry?name=S3A_OL_2_WRR____20240909T112830_20240909T121242_20240910T145254_2652_116_351______MAR_O_NT_003.SEN3%2FOa03_reflectance.nc",
             "mediaType": "application/x-netcdf",
             "roles": [
              "data"
             ],
             "title": "S3A_OL_2_WRR____20240909T112830_20240909T121242_20240910T145254_2652_116_351______MAR_O_NT_003.SEN3/Oa03_reflectance.nc",
             "type": "Link"
            }
           },
           "href": "https://hda-download.lumi.data.destination-earth.eu/data/eumetsat/EO.EUM.DAT.SENTINEL-3.OL_2_WRR___/S3A_OL_2_WRR____20240909T112830_20240909T121242_20240910T145254_2652_116_351______MAR_O_NT_003.SEN3/Oa03_reflectance.nc",
           "mediaType": "application/x-netcdf",
           "roles": [
            "data"
           ],
           "title": "S3A_OL_2_WRR____20240909T112830_20240909T121242_20240910T145254_2652_116_351______MAR_O_NT_003.SEN3/Oa03_reflectance.nc",
           "type": "Link"
          },
          "Oa04_reflectance.nc": {
           "alternate": {
            "origin": {
             "href": "https://api.eumetsat.int/data/download/1.0.0/collections/EO%3AEUM%3ADAT%3A0408/products/S3A_OL_2_WRR____20240909T112830_20240909T121242_20240910T145254_2652_116_351______MAR_O_NT_003.SEN3/entry?name=S3A_OL_2_WRR____20240909T112830_20240909T121242_20240910T145254_2652_116_351______MAR_O_NT_003.SEN3%2FOa04_reflectance.nc",
             "mediaType": "application/x-netcdf",
             "roles": [
              "data"
             ],
             "title": "S3A_OL_2_WRR____20240909T112830_20240909T121242_20240910T145254_2652_116_351______MAR_O_NT_003.SEN3/Oa04_reflectance.nc",
             "type": "Link"
            }
           },
           "href": "https://hda-download.lumi.data.destination-earth.eu/data/eumetsat/EO.EUM.DAT.SENTINEL-3.OL_2_WRR___/S3A_OL_2_WRR____20240909T112830_20240909T121242_20240910T145254_2652_116_351______MAR_O_NT_003.SEN3/Oa04_reflectance.nc",
           "mediaType": "application/x-netcdf",
           "roles": [
            "data"
           ],
           "title": "S3A_OL_2_WRR____20240909T112830_20240909T121242_20240910T145254_2652_116_351______MAR_O_NT_003.SEN3/Oa04_reflectance.nc",
           "type": "Link"
          },
          "Oa05_reflectance.nc": {
           "alternate": {
            "origin": {
             "href": "https://api.eumetsat.int/data/download/1.0.0/collections/EO%3AEUM%3ADAT%3A0408/products/S3A_OL_2_WRR____20240909T112830_20240909T121242_20240910T145254_2652_116_351______MAR_O_NT_003.SEN3/entry?name=S3A_OL_2_WRR____20240909T112830_20240909T121242_20240910T145254_2652_116_351______MAR_O_NT_003.SEN3%2FOa05_reflectance.nc",
             "mediaType": "application/x-netcdf",
             "roles": [
              "data"
             ],
             "title": "S3A_OL_2_WRR____20240909T112830_20240909T121242_20240910T145254_2652_116_351______MAR_O_NT_003.SEN3/Oa05_reflectance.nc",
             "type": "Link"
            }
           },
           "href": "https://hda-download.lumi.data.destination-earth.eu/data/eumetsat/EO.EUM.DAT.SENTINEL-3.OL_2_WRR___/S3A_OL_2_WRR____20240909T112830_20240909T121242_20240910T145254_2652_116_351______MAR_O_NT_003.SEN3/Oa05_reflectance.nc",
           "mediaType": "application/x-netcdf",
           "roles": [
            "data"
           ],
           "title": "S3A_OL_2_WRR____20240909T112830_20240909T121242_20240910T145254_2652_116_351______MAR_O_NT_003.SEN3/Oa05_reflectance.nc",
           "type": "Link"
          },
          "Oa06_reflectance.nc": {
           "alternate": {
            "origin": {
             "href": "https://api.eumetsat.int/data/download/1.0.0/collections/EO%3AEUM%3ADAT%3A0408/products/S3A_OL_2_WRR____20240909T112830_20240909T121242_20240910T145254_2652_116_351______MAR_O_NT_003.SEN3/entry?name=S3A_OL_2_WRR____20240909T112830_20240909T121242_20240910T145254_2652_116_351______MAR_O_NT_003.SEN3%2FOa06_reflectance.nc",
             "mediaType": "application/x-netcdf",
             "roles": [
              "data"
             ],
             "title": "S3A_OL_2_WRR____20240909T112830_20240909T121242_20240910T145254_2652_116_351______MAR_O_NT_003.SEN3/Oa06_reflectance.nc",
             "type": "Link"
            }
           },
           "href": "https://hda-download.lumi.data.destination-earth.eu/data/eumetsat/EO.EUM.DAT.SENTINEL-3.OL_2_WRR___/S3A_OL_2_WRR____20240909T112830_20240909T121242_20240910T145254_2652_116_351______MAR_O_NT_003.SEN3/Oa06_reflectance.nc",
           "mediaType": "application/x-netcdf",
           "roles": [
            "data"
           ],
           "title": "S3A_OL_2_WRR____20240909T112830_20240909T121242_20240910T145254_2652_116_351______MAR_O_NT_003.SEN3/Oa06_reflectance.nc",
           "type": "Link"
          },
          "Oa07_reflectance.nc": {
           "alternate": {
            "origin": {
             "href": "https://api.eumetsat.int/data/download/1.0.0/collections/EO%3AEUM%3ADAT%3A0408/products/S3A_OL_2_WRR____20240909T112830_20240909T121242_20240910T145254_2652_116_351______MAR_O_NT_003.SEN3/entry?name=S3A_OL_2_WRR____20240909T112830_20240909T121242_20240910T145254_2652_116_351______MAR_O_NT_003.SEN3%2FOa07_reflectance.nc",
             "mediaType": "application/x-netcdf",
             "roles": [
              "data"
             ],
             "title": "S3A_OL_2_WRR____20240909T112830_20240909T121242_20240910T145254_2652_116_351______MAR_O_NT_003.SEN3/Oa07_reflectance.nc",
             "type": "Link"
            }
           },
           "href": "https://hda-download.lumi.data.destination-earth.eu/data/eumetsat/EO.EUM.DAT.SENTINEL-3.OL_2_WRR___/S3A_OL_2_WRR____20240909T112830_20240909T121242_20240910T145254_2652_116_351______MAR_O_NT_003.SEN3/Oa07_reflectance.nc",
           "mediaType": "application/x-netcdf",
           "roles": [
            "data"
           ],
           "title": "S3A_OL_2_WRR____20240909T112830_20240909T121242_20240910T145254_2652_116_351______MAR_O_NT_003.SEN3/Oa07_reflectance.nc",
           "type": "Link"
          },
          "Oa08_reflectance.nc": {
           "alternate": {
            "origin": {
             "href": "https://api.eumetsat.int/data/download/1.0.0/collections/EO%3AEUM%3ADAT%3A0408/products/S3A_OL_2_WRR____20240909T112830_20240909T121242_20240910T145254_2652_116_351______MAR_O_NT_003.SEN3/entry?name=S3A_OL_2_WRR____20240909T112830_20240909T121242_20240910T145254_2652_116_351______MAR_O_NT_003.SEN3%2FOa08_reflectance.nc",
             "mediaType": "application/x-netcdf",
             "roles": [
              "data"
             ],
             "title": "S3A_OL_2_WRR____20240909T112830_20240909T121242_20240910T145254_2652_116_351______MAR_O_NT_003.SEN3/Oa08_reflectance.nc",
             "type": "Link"
            }
           },
           "href": "https://hda-download.lumi.data.destination-earth.eu/data/eumetsat/EO.EUM.DAT.SENTINEL-3.OL_2_WRR___/S3A_OL_2_WRR____20240909T112830_20240909T121242_20240910T145254_2652_116_351______MAR_O_NT_003.SEN3/Oa08_reflectance.nc",
           "mediaType": "application/x-netcdf",
           "roles": [
            "data"
           ],
           "title": "S3A_OL_2_WRR____20240909T112830_20240909T121242_20240910T145254_2652_116_351______MAR_O_NT_003.SEN3/Oa08_reflectance.nc",
           "type": "Link"
          },
          "Oa09_reflectance.nc": {
           "alternate": {
            "origin": {
             "href": "https://api.eumetsat.int/data/download/1.0.0/collections/EO%3AEUM%3ADAT%3A0408/products/S3A_OL_2_WRR____20240909T112830_20240909T121242_20240910T145254_2652_116_351______MAR_O_NT_003.SEN3/entry?name=S3A_OL_2_WRR____20240909T112830_20240909T121242_20240910T145254_2652_116_351______MAR_O_NT_003.SEN3%2FOa09_reflectance.nc",
             "mediaType": "application/x-netcdf",
             "roles": [
              "data"
             ],
             "title": "S3A_OL_2_WRR____20240909T112830_20240909T121242_20240910T145254_2652_116_351______MAR_O_NT_003.SEN3/Oa09_reflectance.nc",
             "type": "Link"
            }
           },
           "href": "https://hda-download.lumi.data.destination-earth.eu/data/eumetsat/EO.EUM.DAT.SENTINEL-3.OL_2_WRR___/S3A_OL_2_WRR____20240909T112830_20240909T121242_20240910T145254_2652_116_351______MAR_O_NT_003.SEN3/Oa09_reflectance.nc",
           "mediaType": "application/x-netcdf",
           "roles": [
            "data"
           ],
           "title": "S3A_OL_2_WRR____20240909T112830_20240909T121242_20240910T145254_2652_116_351______MAR_O_NT_003.SEN3/Oa09_reflectance.nc",
           "type": "Link"
          },
          "Oa10_reflectance.nc": {
           "alternate": {
            "origin": {
             "href": "https://api.eumetsat.int/data/download/1.0.0/collections/EO%3AEUM%3ADAT%3A0408/products/S3A_OL_2_WRR____20240909T112830_20240909T121242_20240910T145254_2652_116_351______MAR_O_NT_003.SEN3/entry?name=S3A_OL_2_WRR____20240909T112830_20240909T121242_20240910T145254_2652_116_351______MAR_O_NT_003.SEN3%2FOa10_reflectance.nc",
             "mediaType": "application/x-netcdf",
             "roles": [
              "data"
             ],
             "title": "S3A_OL_2_WRR____20240909T112830_20240909T121242_20240910T145254_2652_116_351______MAR_O_NT_003.SEN3/Oa10_reflectance.nc",
             "type": "Link"
            }
           },
           "href": "https://hda-download.lumi.data.destination-earth.eu/data/eumetsat/EO.EUM.DAT.SENTINEL-3.OL_2_WRR___/S3A_OL_2_WRR____20240909T112830_20240909T121242_20240910T145254_2652_116_351______MAR_O_NT_003.SEN3/Oa10_reflectance.nc",
           "mediaType": "application/x-netcdf",
           "roles": [
            "data"
           ],
           "title": "S3A_OL_2_WRR____20240909T112830_20240909T121242_20240910T145254_2652_116_351______MAR_O_NT_003.SEN3/Oa10_reflectance.nc",
           "type": "Link"
          },
          "Oa11_reflectance.nc": {
           "alternate": {
            "origin": {
             "href": "https://api.eumetsat.int/data/download/1.0.0/collections/EO%3AEUM%3ADAT%3A0408/products/S3A_OL_2_WRR____20240909T112830_20240909T121242_20240910T145254_2652_116_351______MAR_O_NT_003.SEN3/entry?name=S3A_OL_2_WRR____20240909T112830_20240909T121242_20240910T145254_2652_116_351______MAR_O_NT_003.SEN3%2FOa11_reflectance.nc",
             "mediaType": "application/x-netcdf",
             "roles": [
              "data"
             ],
             "title": "S3A_OL_2_WRR____20240909T112830_20240909T121242_20240910T145254_2652_116_351______MAR_O_NT_003.SEN3/Oa11_reflectance.nc",
             "type": "Link"
            }
           },
           "href": "https://hda-download.lumi.data.destination-earth.eu/data/eumetsat/EO.EUM.DAT.SENTINEL-3.OL_2_WRR___/S3A_OL_2_WRR____20240909T112830_20240909T121242_20240910T145254_2652_116_351______MAR_O_NT_003.SEN3/Oa11_reflectance.nc",
           "mediaType": "application/x-netcdf",
           "roles": [
            "data"
           ],
           "title": "S3A_OL_2_WRR____20240909T112830_20240909T121242_20240910T145254_2652_116_351______MAR_O_NT_003.SEN3/Oa11_reflectance.nc",
           "type": "Link"
          },
          "Oa12_reflectance.nc": {
           "alternate": {
            "origin": {
             "href": "https://api.eumetsat.int/data/download/1.0.0/collections/EO%3AEUM%3ADAT%3A0408/products/S3A_OL_2_WRR____20240909T112830_20240909T121242_20240910T145254_2652_116_351______MAR_O_NT_003.SEN3/entry?name=S3A_OL_2_WRR____20240909T112830_20240909T121242_20240910T145254_2652_116_351______MAR_O_NT_003.SEN3%2FOa12_reflectance.nc",
             "mediaType": "application/x-netcdf",
             "roles": [
              "data"
             ],
             "title": "S3A_OL_2_WRR____20240909T112830_20240909T121242_20240910T145254_2652_116_351______MAR_O_NT_003.SEN3/Oa12_reflectance.nc",
             "type": "Link"
            }
           },
           "href": "https://hda-download.lumi.data.destination-earth.eu/data/eumetsat/EO.EUM.DAT.SENTINEL-3.OL_2_WRR___/S3A_OL_2_WRR____20240909T112830_20240909T121242_20240910T145254_2652_116_351______MAR_O_NT_003.SEN3/Oa12_reflectance.nc",
           "mediaType": "application/x-netcdf",
           "roles": [
            "data"
           ],
           "title": "S3A_OL_2_WRR____20240909T112830_20240909T121242_20240910T145254_2652_116_351______MAR_O_NT_003.SEN3/Oa12_reflectance.nc",
           "type": "Link"
          },
          "Oa16_reflectance.nc": {
           "alternate": {
            "origin": {
             "href": "https://api.eumetsat.int/data/download/1.0.0/collections/EO%3AEUM%3ADAT%3A0408/products/S3A_OL_2_WRR____20240909T112830_20240909T121242_20240910T145254_2652_116_351______MAR_O_NT_003.SEN3/entry?name=S3A_OL_2_WRR____20240909T112830_20240909T121242_20240910T145254_2652_116_351______MAR_O_NT_003.SEN3%2FOa16_reflectance.nc",
             "mediaType": "application/x-netcdf",
             "roles": [
              "data"
             ],
             "title": "S3A_OL_2_WRR____20240909T112830_20240909T121242_20240910T145254_2652_116_351______MAR_O_NT_003.SEN3/Oa16_reflectance.nc",
             "type": "Link"
            }
           },
           "href": "https://hda-download.lumi.data.destination-earth.eu/data/eumetsat/EO.EUM.DAT.SENTINEL-3.OL_2_WRR___/S3A_OL_2_WRR____20240909T112830_20240909T121242_20240910T145254_2652_116_351______MAR_O_NT_003.SEN3/Oa16_reflectance.nc",
           "mediaType": "application/x-netcdf",
           "roles": [
            "data"
           ],
           "title": "S3A_OL_2_WRR____20240909T112830_20240909T121242_20240910T145254_2652_116_351______MAR_O_NT_003.SEN3/Oa16_reflectance.nc",
           "type": "Link"
          },
          "Oa17_reflectance.nc": {
           "alternate": {
            "origin": {
             "href": "https://api.eumetsat.int/data/download/1.0.0/collections/EO%3AEUM%3ADAT%3A0408/products/S3A_OL_2_WRR____20240909T112830_20240909T121242_20240910T145254_2652_116_351______MAR_O_NT_003.SEN3/entry?name=S3A_OL_2_WRR____20240909T112830_20240909T121242_20240910T145254_2652_116_351______MAR_O_NT_003.SEN3%2FOa17_reflectance.nc",
             "mediaType": "application/x-netcdf",
             "roles": [
              "data"
             ],
             "title": "S3A_OL_2_WRR____20240909T112830_20240909T121242_20240910T145254_2652_116_351______MAR_O_NT_003.SEN3/Oa17_reflectance.nc",
             "type": "Link"
            }
           },
           "href": "https://hda-download.lumi.data.destination-earth.eu/data/eumetsat/EO.EUM.DAT.SENTINEL-3.OL_2_WRR___/S3A_OL_2_WRR____20240909T112830_20240909T121242_20240910T145254_2652_116_351______MAR_O_NT_003.SEN3/Oa17_reflectance.nc",
           "mediaType": "application/x-netcdf",
           "roles": [
            "data"
           ],
           "title": "S3A_OL_2_WRR____20240909T112830_20240909T121242_20240910T145254_2652_116_351______MAR_O_NT_003.SEN3/Oa17_reflectance.nc",
           "type": "Link"
          },
          "Oa18_reflectance.nc": {
           "alternate": {
            "origin": {
             "href": "https://api.eumetsat.int/data/download/1.0.0/collections/EO%3AEUM%3ADAT%3A0408/products/S3A_OL_2_WRR____20240909T112830_20240909T121242_20240910T145254_2652_116_351______MAR_O_NT_003.SEN3/entry?name=S3A_OL_2_WRR____20240909T112830_20240909T121242_20240910T145254_2652_116_351______MAR_O_NT_003.SEN3%2FOa18_reflectance.nc",
             "mediaType": "application/x-netcdf",
             "roles": [
              "data"
             ],
             "title": "S3A_OL_2_WRR____20240909T112830_20240909T121242_20240910T145254_2652_116_351______MAR_O_NT_003.SEN3/Oa18_reflectance.nc",
             "type": "Link"
            }
           },
           "href": "https://hda-download.lumi.data.destination-earth.eu/data/eumetsat/EO.EUM.DAT.SENTINEL-3.OL_2_WRR___/S3A_OL_2_WRR____20240909T112830_20240909T121242_20240910T145254_2652_116_351______MAR_O_NT_003.SEN3/Oa18_reflectance.nc",
           "mediaType": "application/x-netcdf",
           "roles": [
            "data"
           ],
           "title": "S3A_OL_2_WRR____20240909T112830_20240909T121242_20240910T145254_2652_116_351______MAR_O_NT_003.SEN3/Oa18_reflectance.nc",
           "type": "Link"
          },
          "Oa21_reflectance.nc": {
           "alternate": {
            "origin": {
             "href": "https://api.eumetsat.int/data/download/1.0.0/collections/EO%3AEUM%3ADAT%3A0408/products/S3A_OL_2_WRR____20240909T112830_20240909T121242_20240910T145254_2652_116_351______MAR_O_NT_003.SEN3/entry?name=S3A_OL_2_WRR____20240909T112830_20240909T121242_20240910T145254_2652_116_351______MAR_O_NT_003.SEN3%2FOa21_reflectance.nc",
             "mediaType": "application/x-netcdf",
             "roles": [
              "data"
             ],
             "title": "S3A_OL_2_WRR____20240909T112830_20240909T121242_20240910T145254_2652_116_351______MAR_O_NT_003.SEN3/Oa21_reflectance.nc",
             "type": "Link"
            }
           },
           "href": "https://hda-download.lumi.data.destination-earth.eu/data/eumetsat/EO.EUM.DAT.SENTINEL-3.OL_2_WRR___/S3A_OL_2_WRR____20240909T112830_20240909T121242_20240910T145254_2652_116_351______MAR_O_NT_003.SEN3/Oa21_reflectance.nc",
           "mediaType": "application/x-netcdf",
           "roles": [
            "data"
           ],
           "title": "S3A_OL_2_WRR____20240909T112830_20240909T121242_20240910T145254_2652_116_351______MAR_O_NT_003.SEN3/Oa21_reflectance.nc",
           "type": "Link"
          },
          "browse.jpg": {
           "alternate": {
            "origin": {
             "href": "https://api.eumetsat.int/data/download/1.0.0/collections/EO%3AEUM%3ADAT%3A0408/products/S3A_OL_2_WRR____20240909T112830_20240909T121242_20240910T145254_2652_116_351______MAR_O_NT_003.SEN3/entry?name=browse.jpg",
             "mediaType": "image/jpeg",
             "roles": [
              "auxiliary"
             ],
             "title": "browse.jpg",
             "type": "Link"
            }
           },
           "href": "https://hda-download.lumi.data.destination-earth.eu/data/eumetsat/EO.EUM.DAT.SENTINEL-3.OL_2_WRR___/S3A_OL_2_WRR____20240909T112830_20240909T121242_20240910T145254_2652_116_351______MAR_O_NT_003.SEN3/browse.jpg",
           "mediaType": "image/jpeg",
           "roles": [
            "auxiliary"
           ],
           "title": "browse.jpg",
           "type": "Link"
          },
          "chl_nn.nc": {
           "alternate": {
            "origin": {
             "href": "https://api.eumetsat.int/data/download/1.0.0/collections/EO%3AEUM%3ADAT%3A0408/products/S3A_OL_2_WRR____20240909T112830_20240909T121242_20240910T145254_2652_116_351______MAR_O_NT_003.SEN3/entry?name=S3A_OL_2_WRR____20240909T112830_20240909T121242_20240910T145254_2652_116_351______MAR_O_NT_003.SEN3%2Fchl_nn.nc",
             "mediaType": "application/x-netcdf",
             "roles": [
              "data"
             ],
             "title": "S3A_OL_2_WRR____20240909T112830_20240909T121242_20240910T145254_2652_116_351______MAR_O_NT_003.SEN3/chl_nn.nc",
             "type": "Link"
            }
           },
           "href": "https://hda-download.lumi.data.destination-earth.eu/data/eumetsat/EO.EUM.DAT.SENTINEL-3.OL_2_WRR___/S3A_OL_2_WRR____20240909T112830_20240909T121242_20240910T145254_2652_116_351______MAR_O_NT_003.SEN3/chl_nn.nc",
           "mediaType": "application/x-netcdf",
           "roles": [
            "data"
           ],
           "title": "S3A_OL_2_WRR____20240909T112830_20240909T121242_20240910T145254_2652_116_351______MAR_O_NT_003.SEN3/chl_nn.nc",
           "type": "Link"
          },
          "chl_oc4me.nc": {
           "alternate": {
            "origin": {
             "href": "https://api.eumetsat.int/data/download/1.0.0/collections/EO%3AEUM%3ADAT%3A0408/products/S3A_OL_2_WRR____20240909T112830_20240909T121242_20240910T145254_2652_116_351______MAR_O_NT_003.SEN3/entry?name=S3A_OL_2_WRR____20240909T112830_20240909T121242_20240910T145254_2652_116_351______MAR_O_NT_003.SEN3%2Fchl_oc4me.nc",
             "mediaType": "application/x-netcdf",
             "roles": [
              "data"
             ],
             "title": "S3A_OL_2_WRR____20240909T112830_20240909T121242_20240910T145254_2652_116_351______MAR_O_NT_003.SEN3/chl_oc4me.nc",
             "type": "Link"
            }
           },
           "href": "https://hda-download.lumi.data.destination-earth.eu/data/eumetsat/EO.EUM.DAT.SENTINEL-3.OL_2_WRR___/S3A_OL_2_WRR____20240909T112830_20240909T121242_20240910T145254_2652_116_351______MAR_O_NT_003.SEN3/chl_oc4me.nc",
           "mediaType": "application/x-netcdf",
           "roles": [
            "data"
           ],
           "title": "S3A_OL_2_WRR____20240909T112830_20240909T121242_20240910T145254_2652_116_351______MAR_O_NT_003.SEN3/chl_oc4me.nc",
           "type": "Link"
          },
          "downloadLink": {
           "alternate": {
            "origin": {
             "href": "https://api.eumetsat.int/data/download/1.0.0/collections/EO%3AEUM%3ADAT%3A0408/products/S3A_OL_2_WRR____20240909T112830_20240909T121242_20240910T145254_2652_116_351______MAR_O_NT_003.SEN3",
             "title": "Origin asset link",
             "type": "application/zip"
            }
           },
           "href": "https://hda-download.lumi.data.destination-earth.eu/data/eumetsat/EO.EUM.DAT.SENTINEL-3.OL_2_WRR___/S3A_OL_2_WRR____20240909T112830_20240909T121242_20240910T145254_2652_116_351______MAR_O_NT_003.SEN3/downloadLink",
           "title": "Download link",
           "type": "application/zip"
          },
          "geo_coordinates.nc": {
           "alternate": {
            "origin": {
             "href": "https://api.eumetsat.int/data/download/1.0.0/collections/EO%3AEUM%3ADAT%3A0408/products/S3A_OL_2_WRR____20240909T112830_20240909T121242_20240910T145254_2652_116_351______MAR_O_NT_003.SEN3/entry?name=S3A_OL_2_WRR____20240909T112830_20240909T121242_20240910T145254_2652_116_351______MAR_O_NT_003.SEN3%2Fgeo_coordinates.nc",
             "mediaType": "application/x-netcdf",
             "roles": [
              "data"
             ],
             "title": "S3A_OL_2_WRR____20240909T112830_20240909T121242_20240910T145254_2652_116_351______MAR_O_NT_003.SEN3/geo_coordinates.nc",
             "type": "Link"
            }
           },
           "href": "https://hda-download.lumi.data.destination-earth.eu/data/eumetsat/EO.EUM.DAT.SENTINEL-3.OL_2_WRR___/S3A_OL_2_WRR____20240909T112830_20240909T121242_20240910T145254_2652_116_351______MAR_O_NT_003.SEN3/geo_coordinates.nc",
           "mediaType": "application/x-netcdf",
           "roles": [
            "data"
           ],
           "title": "S3A_OL_2_WRR____20240909T112830_20240909T121242_20240910T145254_2652_116_351______MAR_O_NT_003.SEN3/geo_coordinates.nc",
           "type": "Link"
          },
          "instrument_data.nc": {
           "alternate": {
            "origin": {
             "href": "https://api.eumetsat.int/data/download/1.0.0/collections/EO%3AEUM%3ADAT%3A0408/products/S3A_OL_2_WRR____20240909T112830_20240909T121242_20240910T145254_2652_116_351______MAR_O_NT_003.SEN3/entry?name=S3A_OL_2_WRR____20240909T112830_20240909T121242_20240910T145254_2652_116_351______MAR_O_NT_003.SEN3%2Finstrument_data.nc",
             "mediaType": "application/x-netcdf",
             "roles": [
              "data"
             ],
             "title": "S3A_OL_2_WRR____20240909T112830_20240909T121242_20240910T145254_2652_116_351______MAR_O_NT_003.SEN3/instrument_data.nc",
             "type": "Link"
            }
           },
           "href": "https://hda-download.lumi.data.destination-earth.eu/data/eumetsat/EO.EUM.DAT.SENTINEL-3.OL_2_WRR___/S3A_OL_2_WRR____20240909T112830_20240909T121242_20240910T145254_2652_116_351______MAR_O_NT_003.SEN3/instrument_data.nc",
           "mediaType": "application/x-netcdf",
           "roles": [
            "data"
           ],
           "title": "S3A_OL_2_WRR____20240909T112830_20240909T121242_20240910T145254_2652_116_351______MAR_O_NT_003.SEN3/instrument_data.nc",
           "type": "Link"
          },
          "iop_lsd.nc": {
           "alternate": {
            "origin": {
             "href": "https://api.eumetsat.int/data/download/1.0.0/collections/EO%3AEUM%3ADAT%3A0408/products/S3A_OL_2_WRR____20240909T112830_20240909T121242_20240910T145254_2652_116_351______MAR_O_NT_003.SEN3/entry?name=S3A_OL_2_WRR____20240909T112830_20240909T121242_20240910T145254_2652_116_351______MAR_O_NT_003.SEN3%2Fiop_lsd.nc",
             "mediaType": "application/x-netcdf",
             "roles": [
              "data"
             ],
             "title": "S3A_OL_2_WRR____20240909T112830_20240909T121242_20240910T145254_2652_116_351______MAR_O_NT_003.SEN3/iop_lsd.nc",
             "type": "Link"
            }
           },
           "href": "https://hda-download.lumi.data.destination-earth.eu/data/eumetsat/EO.EUM.DAT.SENTINEL-3.OL_2_WRR___/S3A_OL_2_WRR____20240909T112830_20240909T121242_20240910T145254_2652_116_351______MAR_O_NT_003.SEN3/iop_lsd.nc",
           "mediaType": "application/x-netcdf",
           "roles": [
            "data"
           ],
           "title": "S3A_OL_2_WRR____20240909T112830_20240909T121242_20240910T145254_2652_116_351______MAR_O_NT_003.SEN3/iop_lsd.nc",
           "type": "Link"
          },
          "iop_nn.nc": {
           "alternate": {
            "origin": {
             "href": "https://api.eumetsat.int/data/download/1.0.0/collections/EO%3AEUM%3ADAT%3A0408/products/S3A_OL_2_WRR____20240909T112830_20240909T121242_20240910T145254_2652_116_351______MAR_O_NT_003.SEN3/entry?name=S3A_OL_2_WRR____20240909T112830_20240909T121242_20240910T145254_2652_116_351______MAR_O_NT_003.SEN3%2Fiop_nn.nc",
             "mediaType": "application/x-netcdf",
             "roles": [
              "data"
             ],
             "title": "S3A_OL_2_WRR____20240909T112830_20240909T121242_20240910T145254_2652_116_351______MAR_O_NT_003.SEN3/iop_nn.nc",
             "type": "Link"
            }
           },
           "href": "https://hda-download.lumi.data.destination-earth.eu/data/eumetsat/EO.EUM.DAT.SENTINEL-3.OL_2_WRR___/S3A_OL_2_WRR____20240909T112830_20240909T121242_20240910T145254_2652_116_351______MAR_O_NT_003.SEN3/iop_nn.nc",
           "mediaType": "application/x-netcdf",
           "roles": [
            "data"
           ],
           "title": "S3A_OL_2_WRR____20240909T112830_20240909T121242_20240910T145254_2652_116_351______MAR_O_NT_003.SEN3/iop_nn.nc",
           "type": "Link"
          },
          "iwv.nc": {
           "alternate": {
            "origin": {
             "href": "https://api.eumetsat.int/data/download/1.0.0/collections/EO%3AEUM%3ADAT%3A0408/products/S3A_OL_2_WRR____20240909T112830_20240909T121242_20240910T145254_2652_116_351______MAR_O_NT_003.SEN3/entry?name=S3A_OL_2_WRR____20240909T112830_20240909T121242_20240910T145254_2652_116_351______MAR_O_NT_003.SEN3%2Fiwv.nc",
             "mediaType": "application/x-netcdf",
             "roles": [
              "data"
             ],
             "title": "S3A_OL_2_WRR____20240909T112830_20240909T121242_20240910T145254_2652_116_351______MAR_O_NT_003.SEN3/iwv.nc",
             "type": "Link"
            }
           },
           "href": "https://hda-download.lumi.data.destination-earth.eu/data/eumetsat/EO.EUM.DAT.SENTINEL-3.OL_2_WRR___/S3A_OL_2_WRR____20240909T112830_20240909T121242_20240910T145254_2652_116_351______MAR_O_NT_003.SEN3/iwv.nc",
           "mediaType": "application/x-netcdf",
           "roles": [
            "data"
           ],
           "title": "S3A_OL_2_WRR____20240909T112830_20240909T121242_20240910T145254_2652_116_351______MAR_O_NT_003.SEN3/iwv.nc",
           "type": "Link"
          },
          "manifest.xml": {
           "alternate": {
            "origin": {
             "href": "https://api.eumetsat.int/data/download/1.0.0/collections/EO%3AEUM%3ADAT%3A0408/products/S3A_OL_2_WRR____20240909T112830_20240909T121242_20240910T145254_2652_116_351______MAR_O_NT_003.SEN3/entry?name=manifest.xml",
             "mediaType": "application/xml",
             "roles": [
              "metadata"
             ],
             "title": "manifest.xml",
             "type": "Link"
            }
           },
           "href": "https://hda-download.lumi.data.destination-earth.eu/data/eumetsat/EO.EUM.DAT.SENTINEL-3.OL_2_WRR___/S3A_OL_2_WRR____20240909T112830_20240909T121242_20240910T145254_2652_116_351______MAR_O_NT_003.SEN3/manifest.xml",
           "mediaType": "application/xml",
           "roles": [
            "metadata"
           ],
           "title": "manifest.xml",
           "type": "Link"
          },
          "par.nc": {
           "alternate": {
            "origin": {
             "href": "https://api.eumetsat.int/data/download/1.0.0/collections/EO%3AEUM%3ADAT%3A0408/products/S3A_OL_2_WRR____20240909T112830_20240909T121242_20240910T145254_2652_116_351______MAR_O_NT_003.SEN3/entry?name=S3A_OL_2_WRR____20240909T112830_20240909T121242_20240910T145254_2652_116_351______MAR_O_NT_003.SEN3%2Fpar.nc",
             "mediaType": "application/x-netcdf",
             "roles": [
              "data"
             ],
             "title": "S3A_OL_2_WRR____20240909T112830_20240909T121242_20240910T145254_2652_116_351______MAR_O_NT_003.SEN3/par.nc",
             "type": "Link"
            }
           },
           "href": "https://hda-download.lumi.data.destination-earth.eu/data/eumetsat/EO.EUM.DAT.SENTINEL-3.OL_2_WRR___/S3A_OL_2_WRR____20240909T112830_20240909T121242_20240910T145254_2652_116_351______MAR_O_NT_003.SEN3/par.nc",
           "mediaType": "application/x-netcdf",
           "roles": [
            "data"
           ],
           "title": "S3A_OL_2_WRR____20240909T112830_20240909T121242_20240910T145254_2652_116_351______MAR_O_NT_003.SEN3/par.nc",
           "type": "Link"
          },
          "tie_geo_coordinates.nc": {
           "alternate": {
            "origin": {
             "href": "https://api.eumetsat.int/data/download/1.0.0/collections/EO%3AEUM%3ADAT%3A0408/products/S3A_OL_2_WRR____20240909T112830_20240909T121242_20240910T145254_2652_116_351______MAR_O_NT_003.SEN3/entry?name=S3A_OL_2_WRR____20240909T112830_20240909T121242_20240910T145254_2652_116_351______MAR_O_NT_003.SEN3%2Ftie_geo_coordinates.nc",
             "mediaType": "application/x-netcdf",
             "roles": [
              "data"
             ],
             "title": "S3A_OL_2_WRR____20240909T112830_20240909T121242_20240910T145254_2652_116_351______MAR_O_NT_003.SEN3/tie_geo_coordinates.nc",
             "type": "Link"
            }
           },
           "href": "https://hda-download.lumi.data.destination-earth.eu/data/eumetsat/EO.EUM.DAT.SENTINEL-3.OL_2_WRR___/S3A_OL_2_WRR____20240909T112830_20240909T121242_20240910T145254_2652_116_351______MAR_O_NT_003.SEN3/tie_geo_coordinates.nc",
           "mediaType": "application/x-netcdf",
           "roles": [
            "data"
           ],
           "title": "S3A_OL_2_WRR____20240909T112830_20240909T121242_20240910T145254_2652_116_351______MAR_O_NT_003.SEN3/tie_geo_coordinates.nc",
           "type": "Link"
          },
          "tie_geometries.nc": {
           "alternate": {
            "origin": {
             "href": "https://api.eumetsat.int/data/download/1.0.0/collections/EO%3AEUM%3ADAT%3A0408/products/S3A_OL_2_WRR____20240909T112830_20240909T121242_20240910T145254_2652_116_351______MAR_O_NT_003.SEN3/entry?name=S3A_OL_2_WRR____20240909T112830_20240909T121242_20240910T145254_2652_116_351______MAR_O_NT_003.SEN3%2Ftie_geometries.nc",
             "mediaType": "application/x-netcdf",
             "roles": [
              "data"
             ],
             "title": "S3A_OL_2_WRR____20240909T112830_20240909T121242_20240910T145254_2652_116_351______MAR_O_NT_003.SEN3/tie_geometries.nc",
             "type": "Link"
            }
           },
           "href": "https://hda-download.lumi.data.destination-earth.eu/data/eumetsat/EO.EUM.DAT.SENTINEL-3.OL_2_WRR___/S3A_OL_2_WRR____20240909T112830_20240909T121242_20240910T145254_2652_116_351______MAR_O_NT_003.SEN3/tie_geometries.nc",
           "mediaType": "application/x-netcdf",
           "roles": [
            "data"
           ],
           "title": "S3A_OL_2_WRR____20240909T112830_20240909T121242_20240910T145254_2652_116_351______MAR_O_NT_003.SEN3/tie_geometries.nc",
           "type": "Link"
          },
          "tie_meteo.nc": {
           "alternate": {
            "origin": {
             "href": "https://api.eumetsat.int/data/download/1.0.0/collections/EO%3AEUM%3ADAT%3A0408/products/S3A_OL_2_WRR____20240909T112830_20240909T121242_20240910T145254_2652_116_351______MAR_O_NT_003.SEN3/entry?name=S3A_OL_2_WRR____20240909T112830_20240909T121242_20240910T145254_2652_116_351______MAR_O_NT_003.SEN3%2Ftie_meteo.nc",
             "mediaType": "application/x-netcdf",
             "roles": [
              "data"
             ],
             "title": "S3A_OL_2_WRR____20240909T112830_20240909T121242_20240910T145254_2652_116_351______MAR_O_NT_003.SEN3/tie_meteo.nc",
             "type": "Link"
            }
           },
           "href": "https://hda-download.lumi.data.destination-earth.eu/data/eumetsat/EO.EUM.DAT.SENTINEL-3.OL_2_WRR___/S3A_OL_2_WRR____20240909T112830_20240909T121242_20240910T145254_2652_116_351______MAR_O_NT_003.SEN3/tie_meteo.nc",
           "mediaType": "application/x-netcdf",
           "roles": [
            "data"
           ],
           "title": "S3A_OL_2_WRR____20240909T112830_20240909T121242_20240910T145254_2652_116_351______MAR_O_NT_003.SEN3/tie_meteo.nc",
           "type": "Link"
          },
          "time_coordinates.nc": {
           "alternate": {
            "origin": {
             "href": "https://api.eumetsat.int/data/download/1.0.0/collections/EO%3AEUM%3ADAT%3A0408/products/S3A_OL_2_WRR____20240909T112830_20240909T121242_20240910T145254_2652_116_351______MAR_O_NT_003.SEN3/entry?name=S3A_OL_2_WRR____20240909T112830_20240909T121242_20240910T145254_2652_116_351______MAR_O_NT_003.SEN3%2Ftime_coordinates.nc",
             "mediaType": "application/x-netcdf",
             "roles": [
              "data"
             ],
             "title": "S3A_OL_2_WRR____20240909T112830_20240909T121242_20240910T145254_2652_116_351______MAR_O_NT_003.SEN3/time_coordinates.nc",
             "type": "Link"
            }
           },
           "href": "https://hda-download.lumi.data.destination-earth.eu/data/eumetsat/EO.EUM.DAT.SENTINEL-3.OL_2_WRR___/S3A_OL_2_WRR____20240909T112830_20240909T121242_20240910T145254_2652_116_351______MAR_O_NT_003.SEN3/time_coordinates.nc",
           "mediaType": "application/x-netcdf",
           "roles": [
            "data"
           ],
           "title": "S3A_OL_2_WRR____20240909T112830_20240909T121242_20240910T145254_2652_116_351______MAR_O_NT_003.SEN3/time_coordinates.nc",
           "type": "Link"
          },
          "trsp.nc": {
           "alternate": {
            "origin": {
             "href": "https://api.eumetsat.int/data/download/1.0.0/collections/EO%3AEUM%3ADAT%3A0408/products/S3A_OL_2_WRR____20240909T112830_20240909T121242_20240910T145254_2652_116_351______MAR_O_NT_003.SEN3/entry?name=S3A_OL_2_WRR____20240909T112830_20240909T121242_20240910T145254_2652_116_351______MAR_O_NT_003.SEN3%2Ftrsp.nc",
             "mediaType": "application/x-netcdf",
             "roles": [
              "data"
             ],
             "title": "S3A_OL_2_WRR____20240909T112830_20240909T121242_20240910T145254_2652_116_351______MAR_O_NT_003.SEN3/trsp.nc",
             "type": "Link"
            }
           },
           "href": "https://hda-download.lumi.data.destination-earth.eu/data/eumetsat/EO.EUM.DAT.SENTINEL-3.OL_2_WRR___/S3A_OL_2_WRR____20240909T112830_20240909T121242_20240910T145254_2652_116_351______MAR_O_NT_003.SEN3/trsp.nc",
           "mediaType": "application/x-netcdf",
           "roles": [
            "data"
           ],
           "title": "S3A_OL_2_WRR____20240909T112830_20240909T121242_20240910T145254_2652_116_351______MAR_O_NT_003.SEN3/trsp.nc",
           "type": "Link"
          },
          "tsm_nn.nc": {
           "alternate": {
            "origin": {
             "href": "https://api.eumetsat.int/data/download/1.0.0/collections/EO%3AEUM%3ADAT%3A0408/products/S3A_OL_2_WRR____20240909T112830_20240909T121242_20240910T145254_2652_116_351______MAR_O_NT_003.SEN3/entry?name=S3A_OL_2_WRR____20240909T112830_20240909T121242_20240910T145254_2652_116_351______MAR_O_NT_003.SEN3%2Ftsm_nn.nc",
             "mediaType": "application/x-netcdf",
             "roles": [
              "data"
             ],
             "title": "S3A_OL_2_WRR____20240909T112830_20240909T121242_20240910T145254_2652_116_351______MAR_O_NT_003.SEN3/tsm_nn.nc",
             "type": "Link"
            }
           },
           "href": "https://hda-download.lumi.data.destination-earth.eu/data/eumetsat/EO.EUM.DAT.SENTINEL-3.OL_2_WRR___/S3A_OL_2_WRR____20240909T112830_20240909T121242_20240910T145254_2652_116_351______MAR_O_NT_003.SEN3/tsm_nn.nc",
           "mediaType": "application/x-netcdf",
           "roles": [
            "data"
           ],
           "title": "S3A_OL_2_WRR____20240909T112830_20240909T121242_20240910T145254_2652_116_351______MAR_O_NT_003.SEN3/tsm_nn.nc",
           "type": "Link"
          },
          "w_aer.nc": {
           "alternate": {
            "origin": {
             "href": "https://api.eumetsat.int/data/download/1.0.0/collections/EO%3AEUM%3ADAT%3A0408/products/S3A_OL_2_WRR____20240909T112830_20240909T121242_20240910T145254_2652_116_351______MAR_O_NT_003.SEN3/entry?name=S3A_OL_2_WRR____20240909T112830_20240909T121242_20240910T145254_2652_116_351______MAR_O_NT_003.SEN3%2Fw_aer.nc",
             "mediaType": "application/x-netcdf",
             "roles": [
              "data"
             ],
             "title": "S3A_OL_2_WRR____20240909T112830_20240909T121242_20240910T145254_2652_116_351______MAR_O_NT_003.SEN3/w_aer.nc",
             "type": "Link"
            }
           },
           "href": "https://hda-download.lumi.data.destination-earth.eu/data/eumetsat/EO.EUM.DAT.SENTINEL-3.OL_2_WRR___/S3A_OL_2_WRR____20240909T112830_20240909T121242_20240910T145254_2652_116_351______MAR_O_NT_003.SEN3/w_aer.nc",
           "mediaType": "application/x-netcdf",
           "roles": [
            "data"
           ],
           "title": "S3A_OL_2_WRR____20240909T112830_20240909T121242_20240910T145254_2652_116_351______MAR_O_NT_003.SEN3/w_aer.nc",
           "type": "Link"
          },
          "wqsf.nc": {
           "alternate": {
            "origin": {
             "href": "https://api.eumetsat.int/data/download/1.0.0/collections/EO%3AEUM%3ADAT%3A0408/products/S3A_OL_2_WRR____20240909T112830_20240909T121242_20240910T145254_2652_116_351______MAR_O_NT_003.SEN3/entry?name=S3A_OL_2_WRR____20240909T112830_20240909T121242_20240910T145254_2652_116_351______MAR_O_NT_003.SEN3%2Fwqsf.nc",
             "mediaType": "application/x-netcdf",
             "roles": [
              "data"
             ],
             "title": "S3A_OL_2_WRR____20240909T112830_20240909T121242_20240910T145254_2652_116_351______MAR_O_NT_003.SEN3/wqsf.nc",
             "type": "Link"
            }
           },
           "href": "https://hda-download.lumi.data.destination-earth.eu/data/eumetsat/EO.EUM.DAT.SENTINEL-3.OL_2_WRR___/S3A_OL_2_WRR____20240909T112830_20240909T121242_20240910T145254_2652_116_351______MAR_O_NT_003.SEN3/wqsf.nc",
           "mediaType": "application/x-netcdf",
           "roles": [
            "data"
           ],
           "title": "S3A_OL_2_WRR____20240909T112830_20240909T121242_20240910T145254_2652_116_351______MAR_O_NT_003.SEN3/wqsf.nc",
           "type": "Link"
          },
          "xfdumanifest.xml": {
           "alternate": {
            "origin": {
             "href": "https://api.eumetsat.int/data/download/1.0.0/collections/EO%3AEUM%3ADAT%3A0408/products/S3A_OL_2_WRR____20240909T112830_20240909T121242_20240910T145254_2652_116_351______MAR_O_NT_003.SEN3/entry?name=S3A_OL_2_WRR____20240909T112830_20240909T121242_20240910T145254_2652_116_351______MAR_O_NT_003.SEN3%2Fxfdumanifest.xml",
             "mediaType": "application/xml",
             "roles": [
              "metadata"
             ],
             "title": "S3A_OL_2_WRR____20240909T112830_20240909T121242_20240910T145254_2652_116_351______MAR_O_NT_003.SEN3/xfdumanifest.xml",
             "type": "Link"
            }
           },
           "href": "https://hda-download.lumi.data.destination-earth.eu/data/eumetsat/EO.EUM.DAT.SENTINEL-3.OL_2_WRR___/S3A_OL_2_WRR____20240909T112830_20240909T121242_20240910T145254_2652_116_351______MAR_O_NT_003.SEN3/xfdumanifest.xml",
           "mediaType": "application/xml",
           "roles": [
            "metadata"
           ],
           "title": "S3A_OL_2_WRR____20240909T112830_20240909T121242_20240910T145254_2652_116_351______MAR_O_NT_003.SEN3/xfdumanifest.xml",
           "type": "Link"
          }
         },
         "bbox": [
          -71.1767,
          -67.9033,
          64.5795,
          89.3266
         ],
         "collection": "EO.EUM.DAT.SENTINEL-3.OL_2_WRR___",
         "geometry": {
          "coordinates": [
           [
            [
             -71.1767,
             -62.2024
            ],
            [
             -70.138,
             -62.5929
            ],
            [
             -69.0726,
             -62.9757
            ],
            [
             -67.9794,
             -63.3502
            ],
            [
             -66.8576,
             -63.7162
            ],
            [
             -65.7068,
             -64.0731
            ],
            [
             -64.5266,
             -64.4207
            ],
            [
             -63.3166,
             -64.7585
            ],
            [
             -62.0754,
             -65.0865
            ],
            [
             -60.806,
             -65.4034
            ],
            [
             -59.5048,
             -65.7095
            ],
            [
             -58.1732,
             -66.0044
            ],
            [
             -56.8111,
             -66.2875
            ],
            [
             -55.4188,
             -66.5584
            ],
            [
             -53.9965,
             -66.8166
            ],
            [
             -52.5447,
             -67.0617
            ],
            [
             -51.0641,
             -67.2933
            ],
            [
             -49.5555,
             -67.511
            ],
            [
             -48.02,
             -67.7145
            ],
            [
             -46.4585,
             -67.9033
            ],
            [
             -45.6402,
             -66.856
            ],
            [
             -44.4097,
             -65.1131
            ],
            [
             -43.3082,
             -63.363
            ],
            [
             -42.3121,
             -61.6071
            ],
            [
             -41.4034,
             -59.8462
            ],
            [
             -40.5676,
             -58.0809
            ],
            [
             -39.7926,
             -56.3118
            ],
            [
             -39.0703,
             -54.5398
            ],
            [
             -38.3927,
             -52.7643
            ],
            [
             -37.7514,
             -50.9859
            ],
            [
             -37.1451,
             -49.2059
            ],
            [
             -36.567,
             -47.4231
            ],
            [
             -36.014,
             -45.6382
            ],
            [
             -35.4828,
             -43.8515
            ],
            [
             -34.9709,
             -42.063
            ],
            [
             -34.4759,
             -40.2727
            ],
            [
             -33.9962,
             -38.4809
            ],
            [
             -33.5295,
             -36.6877
            ],
            [
             -33.0744,
             -34.8928
            ],
            [
             -32.6295,
             -33.0967
            ],
            [
             -32.194,
             -31.2994
            ],
            [
             -31.7665,
             -29.501
            ],
            [
             -31.3449,
             -27.7012
            ],
            [
             -30.9303,
             -25.9007
            ],
            [
             -30.5207,
             -24.0988
            ],
            [
             -30.1155,
             -22.2963
            ],
            [
             -29.7146,
             -20.4934
            ],
            [
             -29.3154,
             -18.689
            ],
            [
             -28.9198,
             -16.8841
            ],
            [
             -28.5257,
             -15.0786
            ],
            [
             -28.1329,
             -13.2727
            ],
            [
             -27.741,
             -11.4656
            ],
            [
             -27.3491,
             -9.65915
            ],
            [
             -26.9565,
             -7.85291
            ],
            [
             -26.5638,
             -6.04433
            ],
            [
             -26.1695,
             -4.23684
            ],
            [
             -25.7732,
             -2.42952
            ],
            [
             -25.3746,
             -0.621222
            ],
            [
             -24.9731,
             1.18575
            ],
            [
             -24.5678,
             2.99268
            ],
            [
             -24.1593,
             4.80088
            ],
            [
             -23.7458,
             6.60729
            ],
            [
             -23.3268,
             8.4133
            ],
            [
             -22.9022,
             10.2188
            ],
            [
             -22.4712,
             12.0237
            ],
            [
             -22.0329,
             13.8281
            ],
            [
             -21.5867,
             15.6312
            ],
            [
             -21.1315,
             17.4334
            ],
            [
             -20.6666,
             19.2344
            ],
            [
             -20.191,
             21.0341
            ],
            [
             -19.7037,
             22.8324
            ],
            [
             -19.2034,
             24.6289
            ],
            [
             -18.6893,
             26.4243
            ],
            [
             -18.159,
             28.2168
            ],
            [
             -17.6116,
             30.0073
            ],
            [
             -17.0458,
             31.7963
            ],
            [
             -16.4585,
             33.5815
            ],
            [
             -15.8487,
             35.3648
            ],
            [
             -15.2138,
             37.1457
            ],
            [
             -14.5502,
             38.9219
            ],
            [
             -13.855,
             40.694
            ],
            [
             -13.1259,
             42.464
            ],
            [
             -12.3573,
             44.2285
            ],
            [
             -11.5447,
             45.9864
            ],
            [
             -10.683,
             47.7396
            ],
            [
             -9.76691,
             49.488
            ],
            [
             -8.78749,
             51.2282
            ],
            [
             -7.73634,
             52.9598
            ],
            [
             -6.60351,
             54.6822
            ],
            [
             -5.3774,
             56.3946
            ],
            [
             -4.04303,
             58.0947
            ],
            [
             -2.58299,
             59.7807
            ],
            [
             -0.976163,
             61.4501
            ],
            [
             0.802863,
             63.1
            ],
            [
             2.78502,
             64.7269
            ],
            [
             5.00885,
             66.3253
            ],
            [
             7.52124,
             67.8901
            ],
            [
             10.3788,
             69.4138
            ],
            [
             13.6518,
             70.8854
            ],
            [
             17.4243,
             72.2933
            ],
            [
             21.7927,
             73.6206
            ],
            [
             26.8642,
             74.8468
            ],
            [
             32.7422,
             75.9448
            ],
            [
             39.5013,
             76.8812
            ],
            [
             47.1574,
             77.6229
            ],
            [
             55.6001,
             78.1304
            ],
            [
             64.5795,
             78.3741
            ],
            [
             64.3954,
             78.9922
            ],
            [
             64.1895,
             79.61
            ],
            [
             63.958,
             80.2277
            ],
            [
             63.6955,
             80.8455
            ],
            [
             63.3956,
             81.4625
            ],
            [
             63.0493,
             82.0794
            ],
            [
             62.6451,
             82.696
            ],
            [
             62.1668,
             83.3122
            ],
            [
             61.5921,
             83.9278
            ],
            [
             60.8877,
             84.5426
            ],
            [
             60.006,
             85.1564
            ],
            [
             58.8697,
             85.7687
            ],
            [
             57.3488,
             86.3788
            ],
            [
             55.2164,
             86.9853
            ],
            [
             52.0187,
             87.5855
            ],
            [
             46.738,
             88.1734
            ],
            [
             36.6526,
             88.7314
            ],
            [
             13.2469,
             89.1949
            ],
            [
             -35.2611,
             89.3266
            ],
            [
             -25.9988,
             87.567
            ],
            [
             -24.7445,
             85.7963
            ],
            [
             -24.3844,
             84.0242
            ],
            [
             -24.3181,
             82.252
            ],
            [
             -24.3689,
             80.4789
            ],
            [
             -24.4869,
             78.7057
            ],
            [
             -24.6458,
             76.9322
            ],
            [
             -24.8305,
             75.1582
            ],
            [
             -25.033,
             73.384
            ],
            [
             -25.247,
             71.6092
            ],
            [
             -25.4722,
             69.8339
            ],
            [
             -25.7049,
             68.0582
            ],
            [
             -25.943,
             66.2818
            ],
            [
             -26.1867,
             64.5049
            ],
            [
             -26.4347,
             62.7274
            ],
            [
             -26.6865,
             60.9494
            ],
            [
             -26.9417,
             59.1707
            ],
            [
             -27.2,
             57.3913
            ],
            [
             -27.4621,
             55.6113
            ],
            [
             -27.727,
             53.8305
            ],
            [
             -27.9941,
             52.049
            ],
            [
             -28.2628,
             50.2665
            ],
            [
             -28.5359,
             48.4838
            ],
            [
             -28.8121,
             46.7005
            ],
            [
             -29.0901,
             44.9158
            ],
            [
             -29.3699,
             43.1304
            ],
            [
             -29.6542,
             41.3451
            ],
            [
             -29.941,
             39.5586
            ],
            [
             -30.2299,
             37.7712
            ],
            [
             -30.5224,
             35.9834
            ],
            [
             -30.8187,
             34.1952
            ],
            [
             -31.1174,
             32.4058
            ],
            [
             -31.4202,
             30.6166
            ],
            [
             -31.7267,
             28.8265
            ],
            [
             -32.0362,
             27.0357
            ],
            [
             -32.35,
             25.2449
            ],
            [
             -32.6678,
             23.4536
            ],
            [
             -32.9901,
             21.6619
            ],
            [
             -33.3168,
             19.8699
            ],
            [
             -33.6484,
             18.0778
            ],
            [
             -33.9849,
             16.2856
            ],
            [
             -34.3266,
             14.4933
            ],
            [
             -34.6739,
             12.7011
            ],
            [
             -35.0271,
             10.9089
            ],
            [
             -35.3867,
             9.11713
            ],
            [
             -35.7526,
             7.32571
            ],
            [
             -36.1248,
             5.53413
            ],
            [
             -36.5052,
             3.74358
            ],
            [
             -36.8931,
             1.95384
            ],
            [
             -37.289,
             0.16421
            ],
            [
             -37.6939,
             -1.62393
            ],
            [
             -38.1078,
             -3.41137
            ],
            [
             -38.5311,
             -5.19823
            ],
            [
             -38.9659,
             -6.98263
            ],
            [
             -39.4115,
             -8.7661
            ],
            [
             -39.8686,
             -10.5485
            ],
            [
             -40.3387,
             -12.3285
            ],
            [
             -40.8224,
             -14.1068
            ],
            [
             -41.3203,
             -15.8827
            ],
            [
             -41.8352,
             -17.6572
            ],
            [
             -42.3655,
             -19.4278
            ],
            [
             -42.9144,
             -21.196
            ],
            [
             -43.4828,
             -22.9614
            ],
            [
             -44.072,
             -24.723
            ],
            [
             -44.6852,
             -26.4817
            ],
            [
             -45.3219,
             -28.2359
            ],
            [
             -45.9852,
             -29.9852
            ],
            [
             -46.6783,
             -31.7303
            ],
            [
             -47.4031,
             -33.4701
            ],
            [
             -48.1624,
             -35.2041
            ],
            [
             -48.9595,
             -36.9316
            ],
            [
             -49.7985,
             -38.6522
            ],
            [
             -50.6832,
             -40.3652
            ],
            [
             -51.6184,
             -42.0697
            ],
            [
             -52.6091,
             -43.765
            ],
            [
             -53.6616,
             -45.4498
            ],
            [
             -54.782,
             -47.1224
            ],
            [
             -55.9811,
             -48.7831
            ],
            [
             -57.2633,
             -50.4289
            ],
            [
             -58.6407,
             -52.0574
            ],
            [
             -60.1265,
             -53.6682
            ],
            [
             -61.7323,
             -55.2577
            ],
            [
             -63.4739,
             -56.823
            ],
            [
             -65.3695,
             -58.3608
            ],
            [
             -67.4385,
             -59.8669
            ],
            [
             -69.7036,
             -61.3361
            ],
            [
             -71.1767,
             -62.2024
            ]
           ]
          ],
          "type": "Polygon"
         },
         "id": "S3A_OL_2_WRR____20240909T112830_20240909T121242_20240910T145254_2652_116_351______MAR_O_NT_003.SEN3",
         "links": [
          {
           "href": "https://hda.data.destination-earth.eu/stac/v2/collections/EO.EUM.DAT.SENTINEL-3.OL_2_WRR___",
           "rel": "collection",
           "title": "EO.EUM.DAT.SENTINEL-3.OL_2_WRR___",
           "type": "application/json"
          },
          {
           "href": "https://hda.data.destination-earth.eu/stac/v2/collections/EO.EUM.DAT.SENTINEL-3.OL_2_WRR___/items/S3A_OL_2_WRR____20240909T112830_20240909T121242_20240910T145254_2652_116_351______MAR_O_NT_003.SEN3",
           "rel": "self",
           "title": "Original item link",
           "type": "application/geo+json"
          }
         ],
         "properties": {
          "abstract": "OLCI (Ocean and Land Colour Instrument) Ocean Colour Geophysical Products. Reduced Resolution: 1200m at nadir. Level 2 marine products include the following: * water-leaving reflectances in 16 bands, Oa**_reflectance (Baseline Atmospheric Correction (BAC) algorithm, bands: 400, 412, 442, 490, 510, 560, 620, 665, 674, 681, 709, 754, 779, 865, 885, 1024 nanometer (nm)); *algal pigment concentration in clear waters, chl_oc4me (BAC and maximum band ratio algorithm, log10 scaled); *algal pigment concentration in turbid waters, chl_nn (neural net algorithm, log10 scaled); *total suspended matter concentration, tsm_nn (neural net algorithm, log10 scaled); *diffuse attenuation coefficient Kd of downward irradiance at 490 nm, trsp (BAC and M07 algorithm, log10 scaled); *absorption coefficient at 443 nm of coloured detrital and dissolved organic matter, iop_nn (neural net algorithm, log10 scaled); *instantaneous photosynthetically active radiation, PAR (BAC and clear-sky ocean algorithm); *aerosol optical thickness T865 and aerosol Angstrom exponent A865, w_aer (BAC algorithm, A for bands 779 and 865 nm) *integrated water vapour column, iwv (1D-Var algorithm). The geophysical products are accompanied by error estimate products. Pixel classification, quality and science flags, as well as meteorological, geometry and geolocation data at tie points are provided. \n\n- All Sentinel-3 NRT products are available at pick-up point in less than 3h\n- All Sentinel-3 Non Time Critical (NTC) products are available at pick-up point in less than 30 days.\nSentinel-3 is part of a series of Sentinel satellites, under the umbrella of the EU Copernicus programme.",
          "alias": "EO.EUM.DAT.SENTINEL-3.OL_2_WRR___",
          "collection": "OL_2_WRR___",
          "constellation": "Sentinel-3A",
          "cycleNumber": 116,
          "datetime": "2024-09-09T11:28:29.896889Z",
          "end_datetime": "2024-09-09T12:12:42.291648Z",
          "federation:backends": [
           "eumetsat"
          ],
          "instruments": [
           "OLCI"
          ],
          "license": "proprietary",
          "links": {
           "alternates": [
            {
             "href": "https://api.eumetsat.int/data/download/1.0.0/collections/EO%3AEUM%3ADAT%3A0408/products/S3A_OL_2_WRR____20240909T112830_20240909T121242_20240910T145254_2652_116_351______MAR_O_NT_003.SEN3/metadata",
             "mediaType": "application/xml",
             "title": "Metadata",
             "type": "Link"
            },
            {
             "href": "https://api.eumetsat.int/data/download/1.0.0/collections/EO%3AEUM%3ADAT%3A0408/products/S3A_OL_2_WRR____20240909T112830_20240909T121242_20240910T145254_2652_116_351______MAR_O_NT_003.SEN3/metadata?format=json",
             "mediaType": "application/json",
             "title": "Metadata in JSON format",
             "type": "Link"
            }
           ],
           "data": [
            {
             "href": "https://api.eumetsat.int/data/download/1.0.0/collections/EO%3AEUM%3ADAT%3A0408/products/S3A_OL_2_WRR____20240909T112830_20240909T121242_20240910T145254_2652_116_351______MAR_O_NT_003.SEN3",
             "mediaType": "application/zip",
             "title": "Product download",
             "type": "Link"
            }
           ],
           "previews": [
            {
             "href": "https://api.eumetsat.int/data/download/1.0.0/collections/EO%3AEUM%3ADAT%3A0408/products/S3A_OL_2_WRR____20240909T112830_20240909T121242_20240910T145254_2652_116_351______MAR_O_NT_003.SEN3/browse",
             "mediaType": "image/jpeg",
             "title": "Quicklook",
             "type": "Link"
            }
           ],
           "sip-entries": [
            {
             "href": "https://api.eumetsat.int/data/download/1.0.0/collections/EO%3AEUM%3ADAT%3A0408/products/S3A_OL_2_WRR____20240909T112830_20240909T121242_20240910T145254_2652_116_351______MAR_O_NT_003.SEN3/entry?name=S3A_OL_2_WRR____20240909T112830_20240909T121242_20240910T145254_2652_116_351______MAR_O_NT_003.SEN3%2Fpar.nc",
             "mediaType": "application/x-netcdf",
             "title": "S3A_OL_2_WRR____20240909T112830_20240909T121242_20240910T145254_2652_116_351______MAR_O_NT_003.SEN3/par.nc",
             "type": "Link"
            },
            {
             "href": "https://api.eumetsat.int/data/download/1.0.0/collections/EO%3AEUM%3ADAT%3A0408/products/S3A_OL_2_WRR____20240909T112830_20240909T121242_20240910T145254_2652_116_351______MAR_O_NT_003.SEN3/entry?name=S3A_OL_2_WRR____20240909T112830_20240909T121242_20240910T145254_2652_116_351______MAR_O_NT_003.SEN3%2Fchl_nn.nc",
             "mediaType": "application/x-netcdf",
             "title": "S3A_OL_2_WRR____20240909T112830_20240909T121242_20240910T145254_2652_116_351______MAR_O_NT_003.SEN3/chl_nn.nc",
             "type": "Link"
            },
            {
             "href": "https://api.eumetsat.int/data/download/1.0.0/collections/EO%3AEUM%3ADAT%3A0408/products/S3A_OL_2_WRR____20240909T112830_20240909T121242_20240910T145254_2652_116_351______MAR_O_NT_003.SEN3/entry?name=S3A_OL_2_WRR____20240909T112830_20240909T121242_20240910T145254_2652_116_351______MAR_O_NT_003.SEN3%2FOa06_reflectance.nc",
             "mediaType": "application/x-netcdf",
             "title": "S3A_OL_2_WRR____20240909T112830_20240909T121242_20240910T145254_2652_116_351______MAR_O_NT_003.SEN3/Oa06_reflectance.nc",
             "type": "Link"
            },
            {
             "href": "https://api.eumetsat.int/data/download/1.0.0/collections/EO%3AEUM%3ADAT%3A0408/products/S3A_OL_2_WRR____20240909T112830_20240909T121242_20240910T145254_2652_116_351______MAR_O_NT_003.SEN3/entry?name=S3A_OL_2_WRR____20240909T112830_20240909T121242_20240910T145254_2652_116_351______MAR_O_NT_003.SEN3%2Ftrsp.nc",
             "mediaType": "application/x-netcdf",
             "title": "S3A_OL_2_WRR____20240909T112830_20240909T121242_20240910T145254_2652_116_351______MAR_O_NT_003.SEN3/trsp.nc",
             "type": "Link"
            },
            {
             "href": "https://api.eumetsat.int/data/download/1.0.0/collections/EO%3AEUM%3ADAT%3A0408/products/S3A_OL_2_WRR____20240909T112830_20240909T121242_20240910T145254_2652_116_351______MAR_O_NT_003.SEN3/entry?name=S3A_OL_2_WRR____20240909T112830_20240909T121242_20240910T145254_2652_116_351______MAR_O_NT_003.SEN3%2Ftie_geometries.nc",
             "mediaType": "application/x-netcdf",
             "title": "S3A_OL_2_WRR____20240909T112830_20240909T121242_20240910T145254_2652_116_351______MAR_O_NT_003.SEN3/tie_geometries.nc",
             "type": "Link"
            },
            {
             "href": "https://api.eumetsat.int/data/download/1.0.0/collections/EO%3AEUM%3ADAT%3A0408/products/S3A_OL_2_WRR____20240909T112830_20240909T121242_20240910T145254_2652_116_351______MAR_O_NT_003.SEN3/entry?name=S3A_OL_2_WRR____20240909T112830_20240909T121242_20240910T145254_2652_116_351______MAR_O_NT_003.SEN3%2FOa10_reflectance.nc",
             "mediaType": "application/x-netcdf",
             "title": "S3A_OL_2_WRR____20240909T112830_20240909T121242_20240910T145254_2652_116_351______MAR_O_NT_003.SEN3/Oa10_reflectance.nc",
             "type": "Link"
            },
            {
             "href": "https://api.eumetsat.int/data/download/1.0.0/collections/EO%3AEUM%3ADAT%3A0408/products/S3A_OL_2_WRR____20240909T112830_20240909T121242_20240910T145254_2652_116_351______MAR_O_NT_003.SEN3/entry?name=S3A_OL_2_WRR____20240909T112830_20240909T121242_20240910T145254_2652_116_351______MAR_O_NT_003.SEN3%2FOa01_reflectance.nc",
             "mediaType": "application/x-netcdf",
             "title": "S3A_OL_2_WRR____20240909T112830_20240909T121242_20240910T145254_2652_116_351______MAR_O_NT_003.SEN3/Oa01_reflectance.nc",
             "type": "Link"
            },
            {
             "href": "https://api.eumetsat.int/data/download/1.0.0/collections/EO%3AEUM%3ADAT%3A0408/products/S3A_OL_2_WRR____20240909T112830_20240909T121242_20240910T145254_2652_116_351______MAR_O_NT_003.SEN3/entry?name=S3A_OL_2_WRR____20240909T112830_20240909T121242_20240910T145254_2652_116_351______MAR_O_NT_003.SEN3%2FOa05_reflectance.nc",
             "mediaType": "application/x-netcdf",
             "title": "S3A_OL_2_WRR____20240909T112830_20240909T121242_20240910T145254_2652_116_351______MAR_O_NT_003.SEN3/Oa05_reflectance.nc",
             "type": "Link"
            },
            {
             "href": "https://api.eumetsat.int/data/download/1.0.0/collections/EO%3AEUM%3ADAT%3A0408/products/S3A_OL_2_WRR____20240909T112830_20240909T121242_20240910T145254_2652_116_351______MAR_O_NT_003.SEN3/entry?name=S3A_OL_2_WRR____20240909T112830_20240909T121242_20240910T145254_2652_116_351______MAR_O_NT_003.SEN3%2FOa18_reflectance.nc",
             "mediaType": "application/x-netcdf",
             "title": "S3A_OL_2_WRR____20240909T112830_20240909T121242_20240910T145254_2652_116_351______MAR_O_NT_003.SEN3/Oa18_reflectance.nc",
             "type": "Link"
            },
            {
             "href": "https://api.eumetsat.int/data/download/1.0.0/collections/EO%3AEUM%3ADAT%3A0408/products/S3A_OL_2_WRR____20240909T112830_20240909T121242_20240910T145254_2652_116_351______MAR_O_NT_003.SEN3/entry?name=S3A_OL_2_WRR____20240909T112830_20240909T121242_20240910T145254_2652_116_351______MAR_O_NT_003.SEN3%2Fw_aer.nc",
             "mediaType": "application/x-netcdf",
             "title": "S3A_OL_2_WRR____20240909T112830_20240909T121242_20240910T145254_2652_116_351______MAR_O_NT_003.SEN3/w_aer.nc",
             "type": "Link"
            },
            {
             "href": "https://api.eumetsat.int/data/download/1.0.0/collections/EO%3AEUM%3ADAT%3A0408/products/S3A_OL_2_WRR____20240909T112830_20240909T121242_20240910T145254_2652_116_351______MAR_O_NT_003.SEN3/entry?name=S3A_OL_2_WRR____20240909T112830_20240909T121242_20240910T145254_2652_116_351______MAR_O_NT_003.SEN3%2Fchl_oc4me.nc",
             "mediaType": "application/x-netcdf",
             "title": "S3A_OL_2_WRR____20240909T112830_20240909T121242_20240910T145254_2652_116_351______MAR_O_NT_003.SEN3/chl_oc4me.nc",
             "type": "Link"
            },
            {
             "href": "https://api.eumetsat.int/data/download/1.0.0/collections/EO%3AEUM%3ADAT%3A0408/products/S3A_OL_2_WRR____20240909T112830_20240909T121242_20240910T145254_2652_116_351______MAR_O_NT_003.SEN3/entry?name=S3A_OL_2_WRR____20240909T112830_20240909T121242_20240910T145254_2652_116_351______MAR_O_NT_003.SEN3%2FOa21_reflectance.nc",
             "mediaType": "application/x-netcdf",
             "title": "S3A_OL_2_WRR____20240909T112830_20240909T121242_20240910T145254_2652_116_351______MAR_O_NT_003.SEN3/Oa21_reflectance.nc",
             "type": "Link"
            },
            {
             "href": "https://api.eumetsat.int/data/download/1.0.0/collections/EO%3AEUM%3ADAT%3A0408/products/S3A_OL_2_WRR____20240909T112830_20240909T121242_20240910T145254_2652_116_351______MAR_O_NT_003.SEN3/entry?name=S3A_OL_2_WRR____20240909T112830_20240909T121242_20240910T145254_2652_116_351______MAR_O_NT_003.SEN3%2FOa08_reflectance.nc",
             "mediaType": "application/x-netcdf",
             "title": "S3A_OL_2_WRR____20240909T112830_20240909T121242_20240910T145254_2652_116_351______MAR_O_NT_003.SEN3/Oa08_reflectance.nc",
             "type": "Link"
            },
            {
             "href": "https://api.eumetsat.int/data/download/1.0.0/collections/EO%3AEUM%3ADAT%3A0408/products/S3A_OL_2_WRR____20240909T112830_20240909T121242_20240910T145254_2652_116_351______MAR_O_NT_003.SEN3/entry?name=S3A_OL_2_WRR____20240909T112830_20240909T121242_20240910T145254_2652_116_351______MAR_O_NT_003.SEN3%2Fxfdumanifest.xml",
             "mediaType": "application/xml",
             "title": "S3A_OL_2_WRR____20240909T112830_20240909T121242_20240910T145254_2652_116_351______MAR_O_NT_003.SEN3/xfdumanifest.xml",
             "type": "Link"
            },
            {
             "href": "https://api.eumetsat.int/data/download/1.0.0/collections/EO%3AEUM%3ADAT%3A0408/products/S3A_OL_2_WRR____20240909T112830_20240909T121242_20240910T145254_2652_116_351______MAR_O_NT_003.SEN3/entry?name=S3A_OL_2_WRR____20240909T112830_20240909T121242_20240910T145254_2652_116_351______MAR_O_NT_003.SEN3%2Fiop_nn.nc",
             "mediaType": "application/x-netcdf",
             "title": "S3A_OL_2_WRR____20240909T112830_20240909T121242_20240910T145254_2652_116_351______MAR_O_NT_003.SEN3/iop_nn.nc",
             "type": "Link"
            },
            {
             "href": "https://api.eumetsat.int/data/download/1.0.0/collections/EO%3AEUM%3ADAT%3A0408/products/S3A_OL_2_WRR____20240909T112830_20240909T121242_20240910T145254_2652_116_351______MAR_O_NT_003.SEN3/entry?name=browse.jpg",
             "mediaType": "image/jpeg",
             "title": "browse.jpg",
             "type": "Link"
            },
            {
             "href": "https://api.eumetsat.int/data/download/1.0.0/collections/EO%3AEUM%3ADAT%3A0408/products/S3A_OL_2_WRR____20240909T112830_20240909T121242_20240910T145254_2652_116_351______MAR_O_NT_003.SEN3/entry?name=S3A_OL_2_WRR____20240909T112830_20240909T121242_20240910T145254_2652_116_351______MAR_O_NT_003.SEN3%2Ftsm_nn.nc",
             "mediaType": "application/x-netcdf",
             "title": "S3A_OL_2_WRR____20240909T112830_20240909T121242_20240910T145254_2652_116_351______MAR_O_NT_003.SEN3/tsm_nn.nc",
             "type": "Link"
            },
            {
             "href": "https://api.eumetsat.int/data/download/1.0.0/collections/EO%3AEUM%3ADAT%3A0408/products/S3A_OL_2_WRR____20240909T112830_20240909T121242_20240910T145254_2652_116_351______MAR_O_NT_003.SEN3/entry?name=S3A_OL_2_WRR____20240909T112830_20240909T121242_20240910T145254_2652_116_351______MAR_O_NT_003.SEN3%2FOa17_reflectance.nc",
             "mediaType": "application/x-netcdf",
             "title": "S3A_OL_2_WRR____20240909T112830_20240909T121242_20240910T145254_2652_116_351______MAR_O_NT_003.SEN3/Oa17_reflectance.nc",
             "type": "Link"
            },
            {
             "href": "https://api.eumetsat.int/data/download/1.0.0/collections/EO%3AEUM%3ADAT%3A0408/products/S3A_OL_2_WRR____20240909T112830_20240909T121242_20240910T145254_2652_116_351______MAR_O_NT_003.SEN3/entry?name=S3A_OL_2_WRR____20240909T112830_20240909T121242_20240910T145254_2652_116_351______MAR_O_NT_003.SEN3%2FOa12_reflectance.nc",
             "mediaType": "application/x-netcdf",
             "title": "S3A_OL_2_WRR____20240909T112830_20240909T121242_20240910T145254_2652_116_351______MAR_O_NT_003.SEN3/Oa12_reflectance.nc",
             "type": "Link"
            },
            {
             "href": "https://api.eumetsat.int/data/download/1.0.0/collections/EO%3AEUM%3ADAT%3A0408/products/S3A_OL_2_WRR____20240909T112830_20240909T121242_20240910T145254_2652_116_351______MAR_O_NT_003.SEN3/entry?name=S3A_OL_2_WRR____20240909T112830_20240909T121242_20240910T145254_2652_116_351______MAR_O_NT_003.SEN3%2FOa04_reflectance.nc",
             "mediaType": "application/x-netcdf",
             "title": "S3A_OL_2_WRR____20240909T112830_20240909T121242_20240910T145254_2652_116_351______MAR_O_NT_003.SEN3/Oa04_reflectance.nc",
             "type": "Link"
            },
            {
             "href": "https://api.eumetsat.int/data/download/1.0.0/collections/EO%3AEUM%3ADAT%3A0408/products/S3A_OL_2_WRR____20240909T112830_20240909T121242_20240910T145254_2652_116_351______MAR_O_NT_003.SEN3/entry?name=S3A_OL_2_WRR____20240909T112830_20240909T121242_20240910T145254_2652_116_351______MAR_O_NT_003.SEN3%2Finstrument_data.nc",
             "mediaType": "application/x-netcdf",
             "title": "S3A_OL_2_WRR____20240909T112830_20240909T121242_20240910T145254_2652_116_351______MAR_O_NT_003.SEN3/instrument_data.nc",
             "type": "Link"
            },
            {
             "href": "https://api.eumetsat.int/data/download/1.0.0/collections/EO%3AEUM%3ADAT%3A0408/products/S3A_OL_2_WRR____20240909T112830_20240909T121242_20240910T145254_2652_116_351______MAR_O_NT_003.SEN3/entry?name=S3A_OL_2_WRR____20240909T112830_20240909T121242_20240910T145254_2652_116_351______MAR_O_NT_003.SEN3%2FOa09_reflectance.nc",
             "mediaType": "application/x-netcdf",
             "title": "S3A_OL_2_WRR____20240909T112830_20240909T121242_20240910T145254_2652_116_351______MAR_O_NT_003.SEN3/Oa09_reflectance.nc",
             "type": "Link"
            },
            {
             "href": "https://api.eumetsat.int/data/download/1.0.0/collections/EO%3AEUM%3ADAT%3A0408/products/S3A_OL_2_WRR____20240909T112830_20240909T121242_20240910T145254_2652_116_351______MAR_O_NT_003.SEN3/entry?name=S3A_OL_2_WRR____20240909T112830_20240909T121242_20240910T145254_2652_116_351______MAR_O_NT_003.SEN3%2Ftime_coordinates.nc",
             "mediaType": "application/x-netcdf",
             "title": "S3A_OL_2_WRR____20240909T112830_20240909T121242_20240910T145254_2652_116_351______MAR_O_NT_003.SEN3/time_coordinates.nc",
             "type": "Link"
            },
            {
             "href": "https://api.eumetsat.int/data/download/1.0.0/collections/EO%3AEUM%3ADAT%3A0408/products/S3A_OL_2_WRR____20240909T112830_20240909T121242_20240910T145254_2652_116_351______MAR_O_NT_003.SEN3/entry?name=S3A_OL_2_WRR____20240909T112830_20240909T121242_20240910T145254_2652_116_351______MAR_O_NT_003.SEN3%2Fiop_lsd.nc",
             "mediaType": "application/x-netcdf",
             "title": "S3A_OL_2_WRR____20240909T112830_20240909T121242_20240910T145254_2652_116_351______MAR_O_NT_003.SEN3/iop_lsd.nc",
             "type": "Link"
            },
            {
             "href": "https://api.eumetsat.int/data/download/1.0.0/collections/EO%3AEUM%3ADAT%3A0408/products/S3A_OL_2_WRR____20240909T112830_20240909T121242_20240910T145254_2652_116_351______MAR_O_NT_003.SEN3/entry?name=S3A_OL_2_WRR____20240909T112830_20240909T121242_20240910T145254_2652_116_351______MAR_O_NT_003.SEN3%2Fgeo_coordinates.nc",
             "mediaType": "application/x-netcdf",
             "title": "S3A_OL_2_WRR____20240909T112830_20240909T121242_20240910T145254_2652_116_351______MAR_O_NT_003.SEN3/geo_coordinates.nc",
             "type": "Link"
            },
            {
             "href": "https://api.eumetsat.int/data/download/1.0.0/collections/EO%3AEUM%3ADAT%3A0408/products/S3A_OL_2_WRR____20240909T112830_20240909T121242_20240910T145254_2652_116_351______MAR_O_NT_003.SEN3/entry?name=S3A_OL_2_WRR____20240909T112830_20240909T121242_20240910T145254_2652_116_351______MAR_O_NT_003.SEN3%2FOa03_reflectance.nc",
             "mediaType": "application/x-netcdf",
             "title": "S3A_OL_2_WRR____20240909T112830_20240909T121242_20240910T145254_2652_116_351______MAR_O_NT_003.SEN3/Oa03_reflectance.nc",
             "type": "Link"
            },
            {
             "href": "https://api.eumetsat.int/data/download/1.0.0/collections/EO%3AEUM%3ADAT%3A0408/products/S3A_OL_2_WRR____20240909T112830_20240909T121242_20240910T145254_2652_116_351______MAR_O_NT_003.SEN3/entry?name=EOPMetadata.xml",
             "mediaType": "application/xml",
             "title": "EOPMetadata.xml",
             "type": "Link"
            },
            {
             "href": "https://api.eumetsat.int/data/download/1.0.0/collections/EO%3AEUM%3ADAT%3A0408/products/S3A_OL_2_WRR____20240909T112830_20240909T121242_20240910T145254_2652_116_351______MAR_O_NT_003.SEN3/entry?name=S3A_OL_2_WRR____20240909T112830_20240909T121242_20240910T145254_2652_116_351______MAR_O_NT_003.SEN3%2FOa16_reflectance.nc",
             "mediaType": "application/x-netcdf",
             "title": "S3A_OL_2_WRR____20240909T112830_20240909T121242_20240910T145254_2652_116_351______MAR_O_NT_003.SEN3/Oa16_reflectance.nc",
             "type": "Link"
            },
            {
             "href": "https://api.eumetsat.int/data/download/1.0.0/collections/EO%3AEUM%3ADAT%3A0408/products/S3A_OL_2_WRR____20240909T112830_20240909T121242_20240910T145254_2652_116_351______MAR_O_NT_003.SEN3/entry?name=S3A_OL_2_WRR____20240909T112830_20240909T121242_20240910T145254_2652_116_351______MAR_O_NT_003.SEN3%2Fwqsf.nc",
             "mediaType": "application/x-netcdf",
             "title": "S3A_OL_2_WRR____20240909T112830_20240909T121242_20240910T145254_2652_116_351______MAR_O_NT_003.SEN3/wqsf.nc",
             "type": "Link"
            },
            {
             "href": "https://api.eumetsat.int/data/download/1.0.0/collections/EO%3AEUM%3ADAT%3A0408/products/S3A_OL_2_WRR____20240909T112830_20240909T121242_20240910T145254_2652_116_351______MAR_O_NT_003.SEN3/entry?name=S3A_OL_2_WRR____20240909T112830_20240909T121242_20240910T145254_2652_116_351______MAR_O_NT_003.SEN3%2Ftie_meteo.nc",
             "mediaType": "application/x-netcdf",
             "title": "S3A_OL_2_WRR____20240909T112830_20240909T121242_20240910T145254_2652_116_351______MAR_O_NT_003.SEN3/tie_meteo.nc",
             "type": "Link"
            },
            {
             "href": "https://api.eumetsat.int/data/download/1.0.0/collections/EO%3AEUM%3ADAT%3A0408/products/S3A_OL_2_WRR____20240909T112830_20240909T121242_20240910T145254_2652_116_351______MAR_O_NT_003.SEN3/entry?name=S3A_OL_2_WRR____20240909T112830_20240909T121242_20240910T145254_2652_116_351______MAR_O_NT_003.SEN3%2FOa11_reflectance.nc",
             "mediaType": "application/x-netcdf",
             "title": "S3A_OL_2_WRR____20240909T112830_20240909T121242_20240910T145254_2652_116_351______MAR_O_NT_003.SEN3/Oa11_reflectance.nc",
             "type": "Link"
            },
            {
             "href": "https://api.eumetsat.int/data/download/1.0.0/collections/EO%3AEUM%3ADAT%3A0408/products/S3A_OL_2_WRR____20240909T112830_20240909T121242_20240910T145254_2652_116_351______MAR_O_NT_003.SEN3/entry?name=S3A_OL_2_WRR____20240909T112830_20240909T121242_20240910T145254_2652_116_351______MAR_O_NT_003.SEN3%2FOa07_reflectance.nc",
             "mediaType": "application/x-netcdf",
             "title": "S3A_OL_2_WRR____20240909T112830_20240909T121242_20240910T145254_2652_116_351______MAR_O_NT_003.SEN3/Oa07_reflectance.nc",
             "type": "Link"
            },
            {
             "href": "https://api.eumetsat.int/data/download/1.0.0/collections/EO%3AEUM%3ADAT%3A0408/products/S3A_OL_2_WRR____20240909T112830_20240909T121242_20240910T145254_2652_116_351______MAR_O_NT_003.SEN3/entry?name=S3A_OL_2_WRR____20240909T112830_20240909T121242_20240910T145254_2652_116_351______MAR_O_NT_003.SEN3%2FOa02_reflectance.nc",
             "mediaType": "application/x-netcdf",
             "title": "S3A_OL_2_WRR____20240909T112830_20240909T121242_20240910T145254_2652_116_351______MAR_O_NT_003.SEN3/Oa02_reflectance.nc",
             "type": "Link"
            },
            {
             "href": "https://api.eumetsat.int/data/download/1.0.0/collections/EO%3AEUM%3ADAT%3A0408/products/S3A_OL_2_WRR____20240909T112830_20240909T121242_20240910T145254_2652_116_351______MAR_O_NT_003.SEN3/entry?name=S3A_OL_2_WRR____20240909T112830_20240909T121242_20240910T145254_2652_116_351______MAR_O_NT_003.SEN3%2Ftie_geo_coordinates.nc",
             "mediaType": "application/x-netcdf",
             "title": "S3A_OL_2_WRR____20240909T112830_20240909T121242_20240910T145254_2652_116_351______MAR_O_NT_003.SEN3/tie_geo_coordinates.nc",
             "type": "Link"
            },
            {
             "href": "https://api.eumetsat.int/data/download/1.0.0/collections/EO%3AEUM%3ADAT%3A0408/products/S3A_OL_2_WRR____20240909T112830_20240909T121242_20240910T145254_2652_116_351______MAR_O_NT_003.SEN3/entry?name=S3A_OL_2_WRR____20240909T112830_20240909T121242_20240910T145254_2652_116_351______MAR_O_NT_003.SEN3%2Fiwv.nc",
             "mediaType": "application/x-netcdf",
             "title": "S3A_OL_2_WRR____20240909T112830_20240909T121242_20240910T145254_2652_116_351______MAR_O_NT_003.SEN3/iwv.nc",
             "type": "Link"
            },
            {
             "href": "https://api.eumetsat.int/data/download/1.0.0/collections/EO%3AEUM%3ADAT%3A0408/products/S3A_OL_2_WRR____20240909T112830_20240909T121242_20240910T145254_2652_116_351______MAR_O_NT_003.SEN3/entry?name=manifest.xml",
             "mediaType": "application/xml",
             "title": "manifest.xml",
             "type": "Link"
            }
           ],
           "type": "Links"
          },
          "order:status": "succeeded",
          "parentIdentifier": "EO:EUM:DAT:0408",
          "platform": "Sentinel-3A,Sentinel-3B",
          "processing:level": "L1B",
          "product:timeliness": "NT",
          "quicklook": "https://api.eumetsat.int/data/download/1.0.0/collections/EO%3AEUM%3ADAT%3A0408/products/S3A_OL_2_WRR____20240909T112830_20240909T121242_20240910T145254_2652_116_351______MAR_O_NT_003.SEN3/browse",
          "sat:absolute_orbit": 44599,
          "sat:orbit_state": "DESCENDING",
          "sat:relative_orbit": 351,
          "scope": {
           "discover": null,
           "download": "hda-public-data-access",
           "search": "hda-public-data-access"
          },
          "size": 556455,
          "stacCollection": "/eodag/collections/EO.EUM.DAT.SENTINEL-3.OL_2_WRR___.json",
          "start_datetime": "2024-09-09T11:28:29.896889Z",
          "storage:tier": "online",
          "title": "S3A_OL_2_WRR____20240909T112830_20240909T121242_20240910T145254_2652_116_351______MAR_O_NT_003.SEN3",
          "uid": "S3A_OL_2_WRR____20240909T112830_20240909T121242_20240910T145254_2652_116_351______MAR_O_NT_003.SEN3",
          "updated": "2024-09-10T14:55:51.359000Z"
         },
         "stac_extensions": [
          "https://stac-extensions.github.io/order/v1.1.0/schema.json",
          "https://stac-extensions.github.io/product/v0.1.0/schema.json",
          "https://stac-extensions.github.io/processing/v1.0.0/schema.json",
          "https://stac-extensions.github.io/storage/v1.0.0/schema.json",
          "https://stac-extensions.github.io/sat/v1.0.0/schema.json"
         ],
         "stac_version": "1.0.0",
         "type": "Feature"
        }
       ],
       "links": [
        {
         "body": {
          "bbox": [
           -11,
           35,
           50,
           72
          ],
          "collections": [
           "EO.EUM.DAT.SENTINEL-3.OL_2_WRR___"
          ],
          "datetime": "2024-09-08T00:00:00Z/2024-09-09T23:59:59Z",
          "limit": 3,
          "page": 2,
          "sortby": [
           {
            "direction": "desc",
            "field": "datetime"
           }
          ]
         },
         "href": "https://hda.data.destination-earth.eu/stac/v2/search",
         "method": "POST",
         "rel": "next",
         "title": "Next page",
         "type": "application/geo+json"
        },
        {
         "href": "https://hda.data.destination-earth.eu/stac/v2/search",
         "rel": "self",
         "title": "Current Page",
         "type": "application/json"
        }
       ],
       "numberMatched": 18,
       "numberReturned": 3,
       "type": "FeatureCollection"
      },
      "text/plain": [
       "<IPython.core.display.JSON object>"
      ]
     },
     "execution_count": 7,
     "metadata": {
      "application/json": {
       "expanded": false,
       "root": "root"
      }
     },
     "output_type": "execute_result"
    }
   ],
   "source": [
    "BODY = {\n",
    "    \"collections\": [\n",
    "        COLLECTION_ID,\n",
    "    ],\n",
    "    \"datetime\" : \"2024-09-08T00:00:00Z/2024-09-09T23:59:59Z\",\n",
    "    \"bbox\": [-11,35,\n",
    "              50,72 ],\n",
    "    \"sortby\": [{\"field\": \"datetime\",\"direction\": \"desc\"}\n",
    "              ],\n",
    "    \"limit\": 3,\n",
    "}\n",
    "\n",
    "r=requests.post(SEARCH_URL, json=BODY, headers=auth_headers)\n",
    "if(r.status_code!= 200):\n",
    "    (print(r.text))\n",
    "r.raise_for_status()\n",
    "JSON(r.json(), expanded=False)   "
   ]
  },
  {
   "cell_type": "markdown",
   "id": "efbcb5f2-0d93-4ad8-a1d0-b0e5467b24b6",
   "metadata": {
    "tags": []
   },
   "source": [
    "## Download\n",
    "\n",
    "Once obtained the search results we can download the returned data.\n",
    "The code below is to download the first data returned by our search."
   ]
  },
  {
   "cell_type": "code",
   "execution_count": 8,
   "id": "684c8321-b39f-4431-8980-b7711fe51bc1",
   "metadata": {
    "tags": []
   },
   "outputs": [
    {
     "name": "stdout",
     "output_type": "stream",
     "text": [
      "Downloading ...\n",
      "The dataset has been downloaded to: S3A_OL_2_WRR____20240909T130929_20240909T135342_20240910T163350_2653_116_352______MAR_O_NT_003.SEN3.zip\n"
     ]
    }
   ],
   "source": [
    "#select the first item in the result to download\n",
    "product = r.json()[\"features\"][0]\n",
    "\n",
    "# DownloadLink is an asset representing the whole product\n",
    "download_url = product[\"assets\"][\"downloadLink\"][\"href\"]\n",
    "ITEM_ID = product[\"id\"]\n",
    "\n",
    "response = requests.get(download_url,stream=True,headers=auth_headers)\n",
    "\n",
    "# If the request was successful, download the file\n",
    "if (response.status_code == HTTP_SUCCESS_CODE):\n",
    "        print(\"Downloading ...\")\n",
    "        filename = ITEM_ID + \".zip\"\n",
    "        with open(filename, 'wb') as f:\n",
    "            for chunk in response.iter_content(chunk_size=1024): \n",
    "                if chunk:\n",
    "                    f.write(chunk)\n",
    "                    f.flush()\n",
    "        print(\"The dataset has been downloaded to: {}\".format(filename))\n",
    "else: print(\"Request Unsuccessful! Error-Code: {}\".format(response.status_code))"
   ]
  },
  {
   "cell_type": "code",
   "execution_count": null,
   "id": "7bb76726-c39a-4bad-ad6f-dcf709d2d2f3",
   "metadata": {},
   "outputs": [],
   "source": []
  }
 ],
 "metadata": {
  "kernelspec": {
   "display_name": "Python DEDL",
   "language": "python",
   "name": "python_dedl"
  },
  "language_info": {
   "codemirror_mode": {
    "name": "ipython",
    "version": 3
   },
   "file_extension": ".py",
   "mimetype": "text/x-python",
   "name": "python",
   "nbconvert_exporter": "python",
   "pygments_lexer": "ipython3",
   "version": "3.11.4"
  }
 },
 "nbformat": 4,
 "nbformat_minor": 5
}
