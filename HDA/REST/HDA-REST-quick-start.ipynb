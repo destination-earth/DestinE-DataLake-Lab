{
 "cells": [
  {
   "cell_type": "markdown",
   "id": "d52c1e69-af38-41ac-ae9f-0ed1cf1dccfa",
   "metadata": {
    "tags": []
   },
   "source": [
    "![](https://github.com/destination-earth/DestinE-DataLake-Lab/blob/main/img/DestinE-banner.jpg?raw=true)"
   ]
  },
  {
   "cell_type": "markdown",
   "id": "4b66f898-d0a3-436c-9bd0-4215d3b3bd37",
   "metadata": {},
   "source": [
    "\n",
    "\n",
    "# DEDL - HDA Tutorial - quick start"
   ]
  },
  {
   "cell_type": "markdown",
   "id": "5c91ac8f-ce83-4434-bc3c-81dec0349c41",
   "metadata": {},
   "source": [
    "**Author**: EUMETSAT <br>\n",
    "**Copyright**: 2024 EUMETSAT <br>\n",
    "**Licence**: MIT <br>"
   ]
  },
  {
   "cell_type": "markdown",
   "id": "1ea7645a-8308-4dbf-a8b7-0be00ace1e28",
   "metadata": {},
   "source": [
    "<div class=\"alert alert-block alert-success\">\n",
    "<h3>First steps using Harmonised Data access API</h3>\n",
    "<li> Discover Data of DestinE Data Portfolio </li>\n",
    "<li> Access Data of DestinE Data Portfolio </li>\n",
    "</div>"
   ]
  },
  {
   "cell_type": "markdown",
   "id": "5fb479bc-1cd9-41c5-863c-c1c44f0c80a3",
   "metadata": {},
   "source": [
    "This notebook demonstrates how to use the HDA (Harmonized Data Access) API by sending a few HTTP requests to the API, using Python code."
   ]
  },
  {
   "cell_type": "markdown",
   "id": "34c07187-aabf-430a-8fbc-b434a2bfd34f",
   "metadata": {},
   "source": [
    "Throughout this quickstart notebook, you will learn:\n",
    "\n",
    "1. [Discover](#Discover): How to discover *DEDL* collections and services through HDA.\n",
    "2. [Authenticate](#Authenticate): How to authenticate fro searching and access *DEDL* collections. \n",
    "3. [Search data](#Search):  How to search *DEDL* data through HDA.\n",
    "4. [Download data](#Download): How to download *DEDL* data through HDA.\n",
    "\n",
    "The detailed API and definition of each endpoint and parameters is available in the HDA Swagger UI at:\n",
    "\n",
    "https://hda.data.destination-earth.eu/docs/"
   ]
  },
  {
   "cell_type": "markdown",
   "id": "82529b78-4e09-401f-9018-d23b5e5fc619",
   "metadata": {},
   "source": [
    "<div class=\"alert alert-block alert-warning\">\n",
    "<b> Prerequisites: </b>\n",
    "<li> For Data discovery: none </li>\n",
    "<li> For Data access : <a href=\"https://platform.destine.eu/\"> DestinE user account</a> </li>\n",
    "</div>"
   ]
  },
  {
   "cell_type": "markdown",
   "id": "4bf52238-934b-4e73-a2ae-df73ce749852",
   "metadata": {},
   "source": [
    "## Discover"
   ]
  },
  {
   "cell_type": "markdown",
   "id": "08f75c5f-2831-483c-8708-2b9465b4575d",
   "metadata": {},
   "source": [
    "### Import the relevant modules"
   ]
  },
  {
   "cell_type": "code",
   "execution_count": null,
   "id": "7df969e5-638f-4642-a5d4-a0f21f1e5bde",
   "metadata": {
    "tags": []
   },
   "outputs": [],
   "source": [
    "import requests\n",
    "import json\n",
    "from getpass import getpass\n",
    "from tqdm import tqdm\n",
    "import time\n",
    "import re\n",
    "\n",
    "import destinelab as deauth\n",
    "\n",
    "from IPython.display import JSON"
   ]
  },
  {
   "cell_type": "markdown",
   "id": "10447de7-0b08-442a-81c5-e67974a0bbe9",
   "metadata": {},
   "source": [
    "### Define some constants for the API URL"
   ]
  },
  {
   "cell_type": "code",
   "execution_count": null,
   "id": "ea55a16c-5907-44be-962f-49a551d54400",
   "metadata": {},
   "outputs": [],
   "source": [
    "# Define the collection to be used\n",
    "COLLECTION_ID = \"EO.EUM.DAT.SENTINEL-3.OL_2_WRR___\"\n",
    "\n",
    "# Core API\n",
    "HDA_API_URL = \"https://hda.data.destination-earth.eu\"\n",
    "\n",
    "# STAC API\n",
    "## Core\n",
    "STAC_API_URL = f\"{HDA_API_URL}/stac\"\n",
    "\n",
    "## Collections\n",
    "COLLECTIONS_URL = f\"{STAC_API_URL}/collections\"\n",
    "COLLECTION_BY_ID_URL = f\"{COLLECTIONS_URL}/{COLLECTION_ID}\"\n",
    "\n",
    "## Items\n",
    "COLLECTION_ITEMS_URL = f\"{COLLECTIONS_URL}/{COLLECTION_ID}/items\"\n",
    "\n",
    "## Item Search\n",
    "SEARCH_URL = f\"{STAC_API_URL}/search\"\n",
    "\n",
    "## HTTP Success\n",
    "HTTP_SUCCESS_CODE = 200"
   ]
  },
  {
   "cell_type": "markdown",
   "id": "6c4a3e9e-fae6-48b5-96e9-593830bf250d",
   "metadata": {},
   "source": [
    "### Discover data\n",
    "\n",
    "Below an example for discovering collections concerning Chlorophyll-a Concentration and algal pigment."
   ]
  },
  {
   "cell_type": "code",
   "execution_count": null,
   "id": "c453b5d9-e60d-4634-afa5-d675dd5f4c36",
   "metadata": {},
   "outputs": [],
   "source": [
    "response = requests.get(COLLECTIONS_URL,params = {\"q\": \"Chlorophyll-a Concentration,algal pigment\"})\n",
    "\n",
    "JSON(response.json(), expanded=False)"
   ]
  },
  {
   "cell_type": "markdown",
   "id": "6b8d17b9-9519-4302-ae00-bd270b3c7673",
   "metadata": {},
   "source": [
    "## Authenticate"
   ]
  },
  {
   "cell_type": "code",
   "execution_count": null,
   "id": "a4a975d7-8668-48ee-bde3-339c8b864af6",
   "metadata": {
    "tags": []
   },
   "outputs": [],
   "source": [
    "DESP_USERNAME = input(\"Please input your DESP username or email: \")\n",
    "DESP_PASSWORD = getpass(\"Please input your DESP password: \")\n",
    "\n",
    "auth = deauth.AuthHandler(DESP_USERNAME, DESP_PASSWORD)\n",
    "access_token = auth.get_token()\n",
    "if access_token is not None:\n",
    "    print(\"DEDL/DESP Access Token Obtained Successfully\")\n",
    "else:\n",
    "    print(\"Failed to Obtain DEDL/DESP Access Token\")\n",
    "\n",
    "auth_headers = {\"Authorization\": f\"Bearer {access_token}\"}"
   ]
  },
  {
   "cell_type": "markdown",
   "id": "16c39a67-7ffa-49a4-999c-22895e59099b",
   "metadata": {
    "tags": []
   },
   "source": [
    "## Search"
   ]
  },
  {
   "cell_type": "markdown",
   "id": "4749024c-5156-40b1-ba16-dd24aa71ffed",
   "metadata": {},
   "source": [
    "Once selected a collection it is possible to search for items that match the specified input filters and order the results.\n",
    "\n",
    "The collection used for this tutorial is [OLCI Level 2 Ocean Colour Reduced Resolution - Sentinel-3](https://hda.data.destination-earth.eu/ui/dataset/EO.EUM.DAT.SENTINEL-3.OL_2_WRR___)\n"
   ]
  },
  {
   "cell_type": "code",
   "execution_count": null,
   "id": "3c582fc0-654c-46f6-8bbe-92d65946889b",
   "metadata": {
    "tags": []
   },
   "outputs": [],
   "source": [
    "BODY = {\n",
    "    \"collections\": [\n",
    "        COLLECTION_ID,\n",
    "    ],\n",
    "    \"datetime\" : \"2024-09-08T00:00:00Z/2024-09-09T23:59:59Z\",\n",
    "    \"bbox\": [-11,35,\n",
    "              50,72 ],\n",
    "    \"sortby\": [{\"field\": \"datetime\",\"direction\": \"desc\"}\n",
    "              ],\n",
    "    \"limit\": 3,\n",
    "}\n",
    "\n",
    "r=requests.post(SEARCH_URL, json=BODY, headers=auth_headers)\n",
    "if(r.status_code!= 200):\n",
    "    (print(r.text))\n",
    "r.raise_for_status()\n",
    "JSON(r.json(), expanded=False)   "
   ]
  },
  {
   "cell_type": "markdown",
   "id": "efbcb5f2-0d93-4ad8-a1d0-b0e5467b24b6",
   "metadata": {
    "tags": []
   },
   "source": [
    "## Download\n",
    "\n",
    "Once obtained the search results we can download the returned data."
   ]
  },
  {
   "cell_type": "code",
   "execution_count": null,
   "id": "684c8321-b39f-4431-8980-b7711fe51bc1",
   "metadata": {},
   "outputs": [],
   "source": [
    "#select the first item in the result to download\n",
    "product = r.json()[\"features\"][0]\n",
    "\n",
    "# DownloadLink is an asset representing the whole product\n",
    "download_url = product[\"assets\"][\"downloadLink\"][\"href\"]\n",
    "ITEM_ID = product[\"id\"]\n",
    "\n",
    "response = requests.get(download_url,stream=True,headers=auth_headers)\n",
    "\n",
    "# If the request was successful, download the file\n",
    "if (response.status_code == HTTP_SUCCESS_CODE):\n",
    "        print(\"Downloading ...\")\n",
    "        filename = ITEM_ID + \".zip\"\n",
    "        with open(filename, 'wb') as f:\n",
    "            for chunk in response.iter_content(chunk_size=1024): \n",
    "                if chunk:\n",
    "                    f.write(chunk)\n",
    "                    f.flush()\n",
    "        print(\"The dataset has been downloaded to: {}\".format(filename))\n",
    "else: print(\"Request Unsuccessful! Error-Code: {}\".format(response.status_code))"
   ]
  }
 ],
 "metadata": {
  "kernelspec": {
   "display_name": "Python DEDL",
   "language": "python",
   "name": "python_dedl"
  },
  "language_info": {
   "codemirror_mode": {
    "name": "ipython",
    "version": 3
   },
   "file_extension": ".py",
   "mimetype": "text/x-python",
   "name": "python",
   "nbconvert_exporter": "python",
   "pygments_lexer": "ipython3",
   "version": "3.11.4"
  }
 },
 "nbformat": 4,
 "nbformat_minor": 5
}
